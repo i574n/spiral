{
 "cells": [
  {
   "cell_type": "markdown",
   "metadata": {},
   "source": [
    "# base"
   ]
  },
  {
   "cell_type": "code",
   "execution_count": null,
   "metadata": {
    "dotnet_interactive": {
     "language": "spiral"
    },
    "polyglot_notebook": {
     "kernelName": "spiral"
    }
   },
   "outputs": [],
   "source": [
    "//// test\n",
    "\n",
    "open testing"
   ]
  },
  {
   "cell_type": "markdown",
   "metadata": {},
   "source": [
    "## execution"
   ]
  },
  {
   "cell_type": "markdown",
   "metadata": {},
   "source": [
    "### emit"
   ]
  },
  {
   "cell_type": "code",
   "execution_count": null,
   "metadata": {
    "dotnet_interactive": {
     "language": "spiral"
    },
    "polyglot_notebook": {
     "kernelName": "spiral"
    }
   },
   "outputs": [],
   "source": [
    "inl emit forall t. (x : t) : t =\n",
    "    $'!x '"
   ]
  },
  {
   "cell_type": "markdown",
   "metadata": {},
   "source": [
    "### emit_unit"
   ]
  },
  {
   "cell_type": "code",
   "execution_count": null,
   "metadata": {
    "dotnet_interactive": {
     "language": "spiral"
    },
    "polyglot_notebook": {
     "kernelName": "spiral"
    }
   },
   "outputs": [],
   "source": [
    "inl emit_unit forall t. (x : t) : () =\n",
    "    $'!x '"
   ]
  },
  {
   "cell_type": "markdown",
   "metadata": {},
   "source": [
    "### use"
   ]
  },
  {
   "cell_type": "code",
   "execution_count": null,
   "metadata": {
    "dotnet_interactive": {
     "language": "spiral"
    },
    "polyglot_notebook": {
     "kernelName": "spiral"
    }
   },
   "outputs": [],
   "source": [
    "inl use forall t. (x : t) : t =\n",
    "    $'use !x = !x ' : ()\n",
    "    $'!x '"
   ]
  },
  {
   "cell_type": "markdown",
   "metadata": {},
   "source": [
    "## type"
   ]
  },
  {
   "cell_type": "markdown",
   "metadata": {},
   "source": [
    "### unit"
   ]
  },
  {
   "cell_type": "code",
   "execution_count": null,
   "metadata": {
    "dotnet_interactive": {
     "language": "spiral"
    },
    "polyglot_notebook": {
     "kernelName": "spiral"
    }
   },
   "outputs": [],
   "source": [
    "nominal unit = $'unit'"
   ]
  },
  {
   "cell_type": "markdown",
   "metadata": {},
   "source": [
    "## target"
   ]
  },
  {
   "cell_type": "markdown",
   "metadata": {},
   "source": [
    "### backend_switch"
   ]
  },
  {
   "cell_type": "code",
   "execution_count": null,
   "metadata": {
    "dotnet_interactive": {
     "language": "spiral"
    },
    "polyglot_notebook": {
     "kernelName": "spiral"
    }
   },
   "outputs": [],
   "source": [
    "inl backend_switch forall t. x : t =\n",
    "    real\n",
    "        inl backend key : t =\n",
    "            inl s = real_core.string_lit_to_symbol key\n",
    "            real_core.record_type_try_find `(`x) s\n",
    "                (forall v'. => (x s) ())\n",
    "                (fun () => $'' : t)\n",
    "        !!!!BackendSwitch (\n",
    "            (\"Gleam\", backend \"Gleam\"),\n",
    "            (\"Fsharp\", backend \"Fsharp\"),\n",
    "            (\"Python\", backend \"Python\"),\n",
    "            (\"Cuda\", backend \"Cuda\")\n",
    "        )"
   ]
  },
  {
   "cell_type": "markdown",
   "metadata": {},
   "source": [
    "### target_runtime"
   ]
  },
  {
   "cell_type": "code",
   "execution_count": null,
   "metadata": {
    "dotnet_interactive": {
     "language": "spiral"
    },
    "polyglot_notebook": {
     "kernelName": "spiral"
    }
   },
   "outputs": [],
   "source": [
    "union target_runtime =\n",
    "    | Native\n",
    "    | Wasm\n",
    "    | Contract"
   ]
  },
  {
   "cell_type": "markdown",
   "metadata": {},
   "source": [
    "### target"
   ]
  },
  {
   "cell_type": "code",
   "execution_count": null,
   "metadata": {
    "dotnet_interactive": {
     "language": "spiral"
    },
    "polyglot_notebook": {
     "kernelName": "spiral"
    }
   },
   "outputs": [],
   "source": [
    "union target =\n",
    "    | Gleam : target_runtime\n",
    "    | Fsharp : target_runtime\n",
    "    | Cuda : target_runtime\n",
    "    | Rust : target_runtime\n",
    "    | TypeScript : target_runtime\n",
    "    | Python : target_runtime"
   ]
  },
  {
   "cell_type": "markdown",
   "metadata": {},
   "source": [
    "### run_target_args'"
   ]
  },
  {
   "cell_type": "code",
   "execution_count": null,
   "metadata": {
    "dotnet_interactive": {
     "language": "spiral"
    },
    "polyglot_notebook": {
     "kernelName": "spiral"
    }
   },
   "outputs": [],
   "source": [
    "inl run_target_args' forall t u. (args : u) (fn : target -> (u -> t)) : t =\n",
    "    backend_switch {\n",
    "        Gleam = fun () =>\n",
    "            inl target = Gleam Native\n",
    "            fn target args\n",
    "        Fsharp = fun () =>\n",
    "            inl is_unit : bool =\n",
    "                real\n",
    "                    typecase t with\n",
    "                    | () => true\n",
    "                    | _ => false\n",
    "            $'(* run_target_args\\''\n",
    "            inl result = $'()' : unit\n",
    "            $'run_target_args\\' *)'\n",
    "            inl emit_result x : () =\n",
    "                if is_unit |> not\n",
    "                then $'let _run_target_args\\'_!result = !x '\n",
    "            $'\\n#if FABLE_COMPILER || WASM || CONTRACT'\n",
    "            $'\\n#if FABLE_COMPILER_RUST && \\!WASM && \\!CONTRACT'\n",
    "            inl target = Rust Native\n",
    "            fn target args |> emit_result\n",
    "            $'#endif\\n#if FABLE_COMPILER_RUST && WASM'\n",
    "            inl target = Rust Wasm\n",
    "            fn target args |> emit_result\n",
    "            $'#endif\\n#if FABLE_COMPILER_RUST && CONTRACT'\n",
    "            inl target = Rust Contract\n",
    "            fn target args |> emit_result\n",
    "            $'#endif\\n#if FABLE_COMPILER_TYPESCRIPT'\n",
    "            inl target = TypeScript Native\n",
    "            fn target args |> emit_result\n",
    "            $'#endif\\n#if FABLE_COMPILER_PYTHON'\n",
    "            inl target = Python Native\n",
    "            fn target args |> emit_result\n",
    "            $'#endif\\n#if \\!FABLE_COMPILER_RUST && \\!FABLE_COMPILER_TYPESCRIPT && \\!FABLE_COMPILER_PYTHON'\n",
    "            inl target = Fsharp Wasm\n",
    "            fn target args |> emit_result\n",
    "            $'#endif\\n#else'\n",
    "            inl target = Fsharp Native\n",
    "            fn target args |> emit_result\n",
    "            $'#endif'\n",
    "            if is_unit\n",
    "            then $'// run_target_args\\' is_unit'\n",
    "            else $'_run_target_args\\'_!result ' : t\n",
    "        Python = fun () =>\n",
    "            inl target = Cuda Native\n",
    "            fn target args\n",
    "    }"
   ]
  },
  {
   "cell_type": "markdown",
   "metadata": {},
   "source": [
    "### run_target_args"
   ]
  },
  {
   "cell_type": "code",
   "execution_count": null,
   "metadata": {
    "dotnet_interactive": {
     "language": "spiral"
    },
    "polyglot_notebook": {
     "kernelName": "spiral"
    }
   },
   "outputs": [],
   "source": [
    "inl run_target_args forall t u. (args : () -> u) (fn : target -> (u -> t)) : t =\n",
    "    inl args = args () |> dyn\n",
    "    fn |> run_target_args' args"
   ]
  },
  {
   "cell_type": "markdown",
   "metadata": {},
   "source": [
    "### run_target"
   ]
  },
  {
   "cell_type": "code",
   "execution_count": null,
   "metadata": {
    "dotnet_interactive": {
     "language": "spiral"
    },
    "polyglot_notebook": {
     "kernelName": "spiral"
    }
   },
   "outputs": [],
   "source": [
    "inl run_target forall t. (fn : target -> (() -> t)) : t =\n",
    "    run_target_args id fn"
   ]
  },
  {
   "cell_type": "code",
   "execution_count": null,
   "metadata": {
    "dotnet_interactive": {
     "language": "spiral"
    },
    "polyglot_notebook": {
     "kernelName": "spiral"
    }
   },
   "outputs": [
    {
     "data": {
      "text/plain": [
       ".py output (Cuda):\n",
       "{ name = __assert_eq; actual = 1; expected = 1 }\n",
       "\n",
       ".rs output:\n",
       "{ name = __assert_eq; actual = 1; expected = 1 }\n",
       "\n",
       ".ts output:\n",
       "{ name = __assert_eq; actual = 1; expected = 1 }\n",
       "\n",
       ".py output:\n",
       "{ name = __assert_eq; actual = 1; expected = 1 }\n",
       "\n",
       "\n",
       ".gleam output (Gleam):\n",
       "{compiling,\"/home/runner/work/spiral/polyglot/target/spiral_Eval/packages/60cf0654bee59a601f7f5bd49ba00a6948cf7506e54fea0d15eb95854818030c/build/dev/erlang/main/_gleam_artefacts/main@@main.erl\"}\n",
       "{compiling,\"/home/runner/work/spiral/polyglot/target/spiral_Eval/packages/60cf0654bee59a601f7f5bd49ba00a6948cf7506e54fea0d15eb95854818030c/build/dev/erlang/main/_gleam_artefacts/main.erl\"}\n",
       "{compiled,main,\n",
       "          \"/home/runner/work/spiral/polyglot/target/spiral_Eval/packages/60cf0654bee59a601f7f5bd49ba00a6948cf7506e54fea0d15eb95854818030c/build/dev/erlang/main/ebin/main.beam\"}\n",
       "{compiled,main@@main,\n",
       "          \"/home/runner/work/spiral/polyglot/target/spiral_Eval/packages/60cf0654bee59a601f7f5bd49ba00a6948cf7506e54fea0d15eb95854818030c/build/dev/erlang/main/ebin/main@@main.beam\"}\n",
       "{ name = __assert_eq; actual = 1; expected = 1 }\n",
       "\n",
       "\n"
      ]
     },
     "metadata": {},
     "output_type": "display_data"
    },
    {
     "name": "stdout",
     "output_type": "stream",
     "text": [
      ".fsx output:\n",
      "{ name = __assert_eq; actual = 1; expected = 1 }\n"
     ]
    }
   ],
   "source": [
    "//// test\n",
    "///! gleam\n",
    "///! fsharp\n",
    "///! cuda\n",
    "///! rust\n",
    "///! typescript\n",
    "///! python\n",
    "\n",
    "run_target function\n",
    "    | Gleam (Native) => fun () => $'1'\n",
    "    | Fsharp (Native) => fun () => $'1uy'\n",
    "    | Cuda (Native) => fun () => $'1'\n",
    "    | Rust (Native) => fun () => $'1uy'\n",
    "    | TypeScript (Native) => fun () => $'1uy'\n",
    "    | Python (Native) => fun () => $'1uy'\n",
    "    | _ => fun () => $'2uy'\n",
    "|> _assert_eq 1u8"
   ]
  },
  {
   "cell_type": "markdown",
   "metadata": {},
   "source": [
    "## function"
   ]
  },
  {
   "cell_type": "markdown",
   "metadata": {},
   "source": [
    "### eval"
   ]
  },
  {
   "cell_type": "code",
   "execution_count": null,
   "metadata": {
    "dotnet_interactive": {
     "language": "spiral"
    },
    "polyglot_notebook": {
     "kernelName": "spiral"
    }
   },
   "outputs": [],
   "source": [
    "inl eval fn =\n",
    "    fn ()"
   ]
  },
  {
   "cell_type": "markdown",
   "metadata": {},
   "source": [
    "### flip"
   ]
  },
  {
   "cell_type": "code",
   "execution_count": null,
   "metadata": {
    "dotnet_interactive": {
     "language": "spiral"
    },
    "polyglot_notebook": {
     "kernelName": "spiral"
    }
   },
   "outputs": [],
   "source": [
    "inl flip fn a b =\n",
    "    fn b a"
   ]
  },
  {
   "cell_type": "markdown",
   "metadata": {},
   "source": [
    "### do"
   ]
  },
  {
   "cell_type": "code",
   "execution_count": null,
   "metadata": {
    "dotnet_interactive": {
     "language": "spiral"
    },
    "polyglot_notebook": {
     "kernelName": "spiral"
    }
   },
   "outputs": [],
   "source": [
    "inl do (body : () -> ()) : () =\n",
    "    !!!!Do (body())"
   ]
  },
  {
   "cell_type": "markdown",
   "metadata": {},
   "source": [
    "### indent"
   ]
  },
  {
   "cell_type": "code",
   "execution_count": null,
   "metadata": {
    "dotnet_interactive": {
     "language": "spiral"
    },
    "polyglot_notebook": {
     "kernelName": "spiral"
    }
   },
   "outputs": [],
   "source": [
    "inl indent (body : () -> ()) : () =\n",
    "    backend_switch {\n",
    "        Gleam = fun () =>\n",
    "            !!!!Indent (body())\n",
    "            ()\n",
    "        Fsharp = fun () =>\n",
    "            inl body () =\n",
    "                body ()\n",
    "                $'(* indent' : ()\n",
    "            !!!!Indent (body())\n",
    "            $'indent *)' : ()\n",
    "        Python = fun () =>\n",
    "            !!!!Indent (body())\n",
    "            ()\n",
    "    }"
   ]
  },
  {
   "cell_type": "markdown",
   "metadata": {},
   "source": [
    "### let'"
   ]
  },
  {
   "cell_type": "code",
   "execution_count": null,
   "metadata": {
    "dotnet_interactive": {
     "language": "spiral"
    },
    "polyglot_notebook": {
     "kernelName": "spiral"
    }
   },
   "outputs": [],
   "source": [
    "inl let' fn =\n",
    "    inl result : unit =\n",
    "        backend_switch {\n",
    "            Gleam = fun () => $'Nil' : unit\n",
    "            Fsharp = fun () => $'()' : unit\n",
    "            Python = fun () => $'None' : unit\n",
    "        }\n",
    "    backend_switch {\n",
    "        Gleam = fun () =>\n",
    "            $'let _let\\'_!result = {' : ()\n",
    "            fn |> indent\n",
    "            $'}' : ()\n",
    "        Fsharp = fun () =>\n",
    "            $'let _let\\'_!result =' : ()\n",
    "            fn |> indent\n",
    "        Python = fun () =>\n",
    "            $'def _let\\'_!result():' : ()\n",
    "            fn |> indent\n",
    "    }\n",
    "    $'_let\\'_!result '"
   ]
  },
  {
   "cell_type": "markdown",
   "metadata": {},
   "source": [
    "### exec_unit"
   ]
  },
  {
   "cell_type": "code",
   "execution_count": null,
   "metadata": {
    "dotnet_interactive": {
     "language": "spiral"
    },
    "polyglot_notebook": {
     "kernelName": "spiral"
    }
   },
   "outputs": [],
   "source": [
    "inl exec_unit (fn : () -> ()) : () =\n",
    "    backend_switch {\n",
    "        Gleam = fun () => fn ()\n",
    "        Fsharp = fun () =>\n",
    "            inl unit = $'()' : $'unit'\n",
    "            ($'(fun () -> !fn (); !unit) ()' : $'unit') |> ignore\n",
    "        Python = fun () => fn ()\n",
    "    }"
   ]
  },
  {
   "cell_type": "markdown",
   "metadata": {},
   "source": [
    "### lazy"
   ]
  },
  {
   "cell_type": "code",
   "execution_count": null,
   "metadata": {
    "dotnet_interactive": {
     "language": "spiral"
    },
    "polyglot_notebook": {
     "kernelName": "spiral"
    }
   },
   "outputs": [],
   "source": [
    "nominal lazy t = $'Lazy<`t>'"
   ]
  },
  {
   "cell_type": "markdown",
   "metadata": {},
   "source": [
    "### memoize"
   ]
  },
  {
   "cell_type": "code",
   "execution_count": null,
   "metadata": {
    "dotnet_interactive": {
     "language": "spiral"
    },
    "polyglot_notebook": {
     "kernelName": "spiral"
    }
   },
   "outputs": [],
   "source": [
    "nominal lazy t = $'Lazy<`t>'\n",
    "\n",
    "inl memoize forall t. (fn : () -> t) : () -> t =\n",
    "    inl fn = join fn\n",
    "    inl body () =\n",
    "        inl result = mut None\n",
    "        inl computed = mut false\n",
    "        fun () =>\n",
    "            if *computed\n",
    "            then *result\n",
    "            else\n",
    "                result <- fn () |> Some\n",
    "                computed <- true\n",
    "                *result\n",
    "            |> optionm.value\n",
    "    backend_switch {\n",
    "        Gleam = fun () => body ()\n",
    "        Fsharp = fun () =>\n",
    "            inl result : lazy t = $'lazy !fn ()'\n",
    "            fun () => $'!result.Value' : t\n",
    "        Python = fun () => body ()\n",
    "    }"
   ]
  },
  {
   "cell_type": "code",
   "execution_count": null,
   "metadata": {
    "dotnet_interactive": {
     "language": "spiral"
    },
    "polyglot_notebook": {
     "kernelName": "spiral"
    }
   },
   "outputs": [
    {
     "data": {
      "text/plain": [
       ".py output (Cuda):\n",
       "{ name = __assert_eq; actual = 1; expected = 1 }\n",
       "\n",
       ".rs output:\n",
       "{ name = __assert_eq; actual = 1; expected = 1 }\n",
       "\n",
       ".ts output:\n",
       "{ name = __assert_eq; actual = 1; expected = 1 }\n",
       "\n",
       ".py output:\n",
       "{ name = __assert_eq; actual = 1; expected = 1 }\n",
       "\n"
      ]
     },
     "metadata": {},
     "output_type": "display_data"
    },
    {
     "name": "stdout",
     "output_type": "stream",
     "text": [
      ".fsx output:\n",
      "{ name = __assert_eq; actual = 1; expected = 1 }\n"
     ]
    }
   ],
   "source": [
    "//// test\n",
    "///! fsharp\n",
    "///! cuda\n",
    "///! rust\n",
    "///! typescript\n",
    "///! python\n",
    "\n",
    "inl count = mut 0i32\n",
    "inl add =\n",
    "    fun () =>\n",
    "        count <- *count + 1\n",
    "        count\n",
    "    |> memoize\n",
    "\n",
    "add () |> ignore\n",
    "add () |> ignore\n",
    "add () |> ignore\n",
    "\n",
    "*count\n",
    "|> _assert_eq 1"
   ]
  },
  {
   "cell_type": "markdown",
   "metadata": {},
   "source": [
    "### capture"
   ]
  },
  {
   "cell_type": "code",
   "execution_count": null,
   "metadata": {
    "dotnet_interactive": {
     "language": "spiral"
    },
    "polyglot_notebook": {
     "kernelName": "spiral"
    }
   },
   "outputs": [],
   "source": [
    "inl capture forall t. (fn : () -> t) : t =\n",
    "    backend_switch {\n",
    "        Fsharp = fun () =>\n",
    "            inl result = dyn true\n",
    "            $'let mutable _capture_!result : `t option = None '\n",
    "            $'('\n",
    "            $'(fun () ->'\n",
    "            $'(fun () ->'\n",
    "            fn () |> emit_unit\n",
    "            $')'\n",
    "            $'|> fun x -> x ()'\n",
    "            $') () )'\n",
    "            $'|> fun x -> _capture_!result <- Some x'\n",
    "            $'match _capture_!result with Some x -> x | None -> failwith \"base.capture / _capture_!result=None\"' : t\n",
    "        Python = fun () =>\n",
    "            fn ()\n",
    "    }"
   ]
  },
  {
   "cell_type": "markdown",
   "metadata": {},
   "source": [
    "### yield_from"
   ]
  },
  {
   "cell_type": "code",
   "execution_count": null,
   "metadata": {
    "dotnet_interactive": {
     "language": "spiral"
    },
    "polyglot_notebook": {
     "kernelName": "spiral"
    }
   },
   "outputs": [],
   "source": [
    "inl yield_from forall (t : * -> *) u. (a : t u) : () =\n",
    "    backend_switch {\n",
    "        Fsharp = fun () => $'yield\\! !a ' : ()\n",
    "        Python = fun () => $'asyncio.run(!a())' : ()\n",
    "    }"
   ]
  },
  {
   "cell_type": "markdown",
   "metadata": {},
   "source": [
    "### join_body"
   ]
  },
  {
   "cell_type": "code",
   "execution_count": null,
   "metadata": {
    "dotnet_interactive": {
     "language": "spiral"
    },
    "polyglot_notebook": {
     "kernelName": "spiral"
    }
   },
   "outputs": [],
   "source": [
    "inl join_body body acc x =\n",
    "    if var_is x |> not\n",
    "    then body acc x\n",
    "    else\n",
    "        inl acc = dyn acc\n",
    "        join body acc x"
   ]
  },
  {
   "cell_type": "code",
   "execution_count": null,
   "metadata": {
    "dotnet_interactive": {
     "language": "spiral"
    },
    "polyglot_notebook": {
     "kernelName": "spiral"
    }
   },
   "outputs": [],
   "source": [
    "//// test\n",
    "\n",
    "inl rec fold_list f s = function\n",
    "    | Cons (x, x') => fold_list f (f s x) x'\n",
    "    | Nil => s"
   ]
  },
  {
   "cell_type": "code",
   "execution_count": null,
   "metadata": {
    "dotnet_interactive": {
     "language": "spiral"
    },
    "polyglot_notebook": {
     "kernelName": "spiral"
    }
   },
   "outputs": [
    {
     "data": {
      "text/plain": [
       ".py output (Cuda):\n",
       "{ name = __assert_eq; actual = 15; expected = 15 }\n",
       "\n",
       ".rs output:\n",
       "{ name = __assert_eq; actual = 15; expected = 15 }\n",
       "\n",
       ".ts output:\n",
       "{ name = __assert_eq; actual = 15; expected = 15 }\n",
       "\n",
       ".py output:\n",
       "{ name = __assert_eq; actual = 15; expected = 15 }\n",
       "\n",
       "\n",
       ".gleam output (Gleam):\n",
       "{compiling,\"/home/runner/work/spiral/polyglot/target/spiral_Eval/packages/7830d5fdf2c198d48a41ce46b84a8f61013bdc54cd6bdb0a6a6d619b74da4106/build/dev/erlang/main/_gleam_artefacts/main.erl\"}\n",
       "{compiling,\"/home/runner/work/spiral/polyglot/target/spiral_Eval/packages/7830d5fdf2c198d48a41ce46b84a8f61013bdc54cd6bdb0a6a6d619b74da4106/build/dev/erlang/main/_gleam_artefacts/main@@main.erl\"}\n",
       "{compiled,main,\n",
       "          \"/home/runner/work/spiral/polyglot/target/spiral_Eval/packages/7830d5fdf2c198d48a41ce46b84a8f61013bdc54cd6bdb0a6a6d619b74da4106/build/dev/erlang/main/ebin/main.beam\"}\n",
       "{compiled,main@@main,\n",
       "          \"/home/runner/work/spiral/polyglot/target/spiral_Eval/packages/7830d5fdf2c198d48a41ce46b84a8f61013bdc54cd6bdb0a6a6d619b74da4106/build/dev/erlang/main/ebin/main@@main.beam\"}\n",
       "{ name = __assert_eq; actual = 15; expected = 15 }\n",
       "\n",
       "\n",
       "\n",
       "\n"
      ]
     },
     "metadata": {},
     "output_type": "display_data"
    },
    {
     "name": "stdout",
     "output_type": "stream",
     "text": [
      ".gleam (Gleam):\n",
      "import gleam/string\n",
      "import gleam/io\n",
      "pub type Mut0 { Mut0(l0 : String) }\n",
      "pub fn method1 () -> Int {\n",
      "    3\n",
      "}\n",
      "pub fn method2 (v0 :    Bool) -> Bool {\n",
      "    v0\n",
      "}\n",
      "pub fn method3 () -> String {\n",
      "    let v0 = \"\"\n",
      "    v0\n",
      "}\n",
      "pub fn method0 () -> Nil   {\n",
      "    let v0 = method1()\n",
      "    let v1 = 9 + v0\n",
      "    let v2 = v1 + 2\n",
      "    let v3 = v2 + 1\n",
      "    let v4 = v3 == 15\n",
      "    let v6 =\n",
      "        case v4 {\n",
      "            True -> {\n",
      "                True\n",
      "            }\n",
      "            False -> {\n",
      "                method2(v4)\n",
      "            }\n",
      "        }\n",
      "    let v7 = method3()\n",
      "    let v8 = Mut0(l0 :  v7)\n",
      "    let v9 = \"{ \"\n",
      "    let v10 = v9 \n",
      "    let v14 = v8.l0 \n",
      "    let v15 = v14 <> v10 \n",
      "    let v8 = Mut0(l0: v15)\n",
      "    let v27 = \"name\"\n",
      "    let v28 = v27 \n",
      "    let v32 = v8.l0 \n",
      "    let v33 = v32 <> v28 \n",
      "    let v8 = Mut0(l0: v33)\n",
      "    let v45 = \" = \"\n",
      "    let v46 = v45 \n",
      "    let v50 = v8.l0 \n",
      "    let v51 = v50 <> v46 \n",
      "    let v8 = Mut0(l0: v51)\n",
      "    let v63 = \"__assert_eq\"\n",
      "    let v64 = v63 \n",
      "    let v68 = v8.l0 \n",
      "    let v69 = v68 <> v64 \n",
      "    let v8 = Mut0(l0: v69)\n",
      "    let v81 = \"; \"\n",
      "    let v82 = v81 \n",
      "    let v86 = v8.l0 \n",
      "    let v87 = v86 <> v82 \n",
      "    let v8 = Mut0(l0: v87)\n",
      "    let v99 = \"actual\"\n",
      "    let v100 = v99 \n",
      "    let v104 = v8.l0 \n",
      "    let v105 = v104 <> v100 \n",
      "    let v8 = Mut0(l0: v105)\n",
      "    let v117 = v45 \n",
      "    let v121 = v8.l0 \n",
      "    let v122 = v121 <> v117 \n",
      "    let v8 = Mut0(l0: v122)\n",
      "    let v134 = string.inspect(v3)\n",
      "    let v141 = v8.l0 \n",
      "    let v142 = v141 <> v134 \n",
      "    let v8 = Mut0(l0: v142)\n",
      "    let v154 = v81 \n",
      "    let v158 = v8.l0 \n",
      "    let v159 = v158 <> v154 \n",
      "    let v8 = Mut0(l0: v159)\n",
      "    let v171 = \"expected\"\n",
      "    let v172 = v171 \n",
      "    let v176 = v8.l0 \n",
      "    let v177 = v176 <> v172 \n",
      "    let v8 = Mut0(l0: v177)\n",
      "    let v189 = v45 \n",
      "    let v193 = v8.l0 \n",
      "    let v194 = v193 <> v189 \n",
      "    let v8 = Mut0(l0: v194)\n",
      "    let v206 = string.inspect(15)\n",
      "    let v213 = v8.l0 \n",
      "    let v214 = v213 <> v206 \n",
      "    let v8 = Mut0(l0: v214)\n",
      "    let v226 = \" }\"\n",
      "    let v227 = v226 \n",
      "    let v231 = v8.l0 \n",
      "    let v232 = v231 <> v227 \n",
      "    let v8 = Mut0(l0: v232)\n",
      "    let v244 = v8.l0 \n",
      "    io.println(v244)\n",
      "    let v250 = v6 == False\n",
      "    case v250 {\n",
      "        True -> {\n",
      "            panic as v244\n",
      "        }\n",
      "        False -> {\n",
      "        Nil\n",
      "        }\n",
      "    }\n",
      "}\n",
      "pub fn main () { method0()\n",
      " }\n",
      ".fsx:\n",
      "type Mut0 = {mutable l0 : string}\n",
      "let rec method1 () : int32 =\n",
      "    3\n",
      "and method2 (v0 : bool) : bool =\n",
      "    v0\n",
      "and method3 () : string =\n",
      "    let v0 : string = \"\"\n",
      "    v0\n",
      "and closure0 (v0 : Mut0, v1 : string) () : unit =\n",
      "    let v2 : string = v0.l0\n",
      "    let v4 : string = v2 + v1 \n",
      "    v0.l0 <- v4\n",
      "    ()\n",
      "and closure1 (v0 : string) () : unit =\n",
      "    let v1 : (string -> unit) = System.Console.WriteLine\n",
      "    v1 v0\n",
      "and method0 () : unit =\n",
      "    let v0 : int32 = method1()\n",
      "    let v1 : int32 = 9 + v0\n",
      "    let v2 : int32 = v1 + 2\n",
      "    let v3 : int32 = v2 + 1\n",
      "    let v4 : bool = v3 = 15\n",
      "    let v6 : bool =\n",
      "        if v4 then\n",
      "            true\n",
      "        else\n",
      "            method2(v4)\n",
      "    let v7 : string = method3()\n",
      "    let v8 : Mut0 = {l0 = v7} : Mut0\n",
      "    let v11 : string = \"{ \"\n",
      "    let v12 : string = $\"{v11}\"\n",
      "    let v20 : unit = ()\n",
      "    let v21 : (unit -> unit) = closure0(v8, v12)\n",
      "    let v22 : unit = (fun () -> v21 (); v20) ()\n",
      "    let v30 : string = \"name\"\n",
      "    let v31 : string = $\"{v30}\"\n",
      "    let v39 : unit = ()\n",
      "    let v40 : (unit -> unit) = closure0(v8, v31)\n",
      "    let v41 : unit = (fun () -> v40 (); v39) ()\n",
      "    let v49 : string = \" = \"\n",
      "    let v50 : string = $\"{v49}\"\n",
      "    let v58 : unit = ()\n",
      "    let v59 : (unit -> unit) = closure0(v8, v50)\n",
      "    let v60 : unit = (fun () -> v59 (); v58) ()\n",
      "    let v68 : string = \"__assert_eq\"\n",
      "    let v69 : string = $\"{v68}\"\n",
      "    let v77 : unit = ()\n",
      "    let v78 : (unit -> unit) = closure0(v8, v69)\n",
      "    let v79 : unit = (fun () -> v78 (); v77) ()\n",
      "    let v87 : string = \"; \"\n",
      "    let v88 : string = $\"{v87}\"\n",
      "    let v96 : unit = ()\n",
      "    let v97 : (unit -> unit) = closure0(v8, v88)\n",
      "    let v98 : unit = (fun () -> v97 (); v96) ()\n",
      "    let v106 : string = \"actual\"\n",
      "    let v107 : string = $\"{v106}\"\n",
      "    let v115 : unit = ()\n",
      "    let v116 : (unit -> unit) = closure0(v8, v107)\n",
      "    let v117 : unit = (fun () -> v116 (); v115) ()\n",
      "    let v124 : string = $\"{v49}\"\n",
      "    let v132 : unit = ()\n",
      "    let v133 : (unit -> unit) = closure0(v8, v124)\n",
      "    let v134 : unit = (fun () -> v133 (); v132) ()\n",
      "    let v144 : string = $\"{v3}\"\n",
      "    let v152 : unit = ()\n",
      "    let v153 : (unit -> unit) = closure0(v8, v144)\n",
      "    let v154 : unit = (fun () -> v153 (); v152) ()\n",
      "    let v161 : string = $\"{v87}\"\n",
      "    let v169 : unit = ()\n",
      "    let v170 : (unit -> unit) = closure0(v8, v161)\n",
      "    let v171 : unit = (fun () -> v170 (); v169) ()\n",
      "    let v179 : string = \"expected\"\n",
      "    let v180 : string = $\"{v179}\"\n",
      "    let v188 : unit = ()\n",
      "    let v189 : (unit -> unit) = closure0(v8, v180)\n",
      "    let v190 : unit = (fun () -> v189 (); v188) ()\n",
      "    let v197 : string = $\"{v49}\"\n",
      "    let v205 : unit = ()\n",
      "    let v206 : (unit -> unit) = closure0(v8, v197)\n",
      "    let v207 : unit = (fun () -> v206 (); v205) ()\n",
      "    let v217 : string = $\"{15}\"\n",
      "    let v225 : unit = ()\n",
      "    let v226 : (unit -> unit) = closure0(v8, v217)\n",
      "    let v227 : unit = (fun () -> v226 (); v225) ()\n",
      "    let v235 : string = \" }\"\n",
      "    let v236 : string = $\"{v235}\"\n",
      "    let v244 : unit = ()\n",
      "    let v245 : (unit -> unit) = closure0(v8, v236)\n",
      "    let v246 : unit = (fun () -> v245 (); v244) ()\n",
      "    let v252 : string = v8.l0\n",
      "    let v254 : unit = ()\n",
      "    let v255 : (unit -> unit) = closure1(v252)\n",
      "    let v256 : unit = (fun () -> v255 (); v254) ()\n",
      "    let v258 : bool = v6 = false\n",
      "    if v258 then\n",
      "        failwith<unit> v252\n",
      "method0()\n",
      "\n",
      "\n",
      ".rs:\n",
      "#![allow(dead_code)]\n",
      "#![allow(non_camel_case_types)]\n",
      "#![allow(non_snake_case)]\n",
      "#![allow(non_upper_case_globals)]\n",
      "#![allow(unreachable_code)]\n",
      "#![allow(unused_attributes)]\n",
      "#![allow(unused_imports)]\n",
      "#![allow(unused_macros)]\n",
      "#![allow(unused_parens)]\n",
      "#![allow(unused_variables)]\n",
      "#![allow(unused_assignments)]\n",
      "mod module_6ff740fe {\n",
      "    pub mod Spiral {\n",
      "        use super::*;\n",
      "        use fable_library_rust::Native_::LrcPtr;\n",
      "        use fable_library_rust::Native_::MutCell;\n",
      "        use fable_library_rust::Native_::on_startup;\n",
      "        use fable_library_rust::String_::append;\n",
      "        use fable_library_rust::String_::printfn;\n",
      "        use fable_library_rust::String_::sprintf;\n",
      "        use fable_library_rust::String_::string;\n",
      "        #[derive(Clone, Debug, Hash, PartialEq, PartialOrd)]\n",
      "        pub struct Mut0 {\n",
      "            pub l0: MutCell<string>,\n",
      "        }\n",
      "        impl core::fmt::Display for Mut0 {\n",
      "            fn fmt(&self, f: &mut core::fmt::Formatter) -> core::fmt::Result {\n",
      "                write!(f, \"{}\", core::any::type_name::<Self>())\n",
      "            }\n",
      "        }\n",
      "        pub fn method1() -> i32 {\n",
      "            3_i32\n",
      "        }\n",
      "        pub fn method2(v0: bool) -> bool {\n",
      "            v0\n",
      "        }\n",
      "        pub fn method3() -> string {\n",
      "            string(\"\")\n",
      "        }\n",
      "        pub fn closure0(v0: LrcPtr<Spiral::Mut0>, v1: string, unitVar: ()) {\n",
      "            let v4: string = append((v0.l0.get().clone()), (v1));\n",
      "            v0.l0.set(v4);\n",
      "            ()\n",
      "        }\n",
      "        pub fn closure1(v0: string, unitVar: ()) {\n",
      "            printfn!(\"{0}\", v0);\n",
      "        }\n",
      "        pub fn method0() {\n",
      "            let v3: i32 = ((9_i32 + (Spiral::method1())) + 2_i32) + 1_i32;\n",
      "            let v4: bool = (v3) == 15_i32;\n",
      "            let v6: bool = if v4 { true } else { Spiral::method2(v4) };\n",
      "            let v8: LrcPtr<Spiral::Mut0> = LrcPtr::new(Spiral::Mut0 {\n",
      "                l0: MutCell::new(Spiral::method3()),\n",
      "            });\n",
      "            let v22: () = {\n",
      "                Spiral::closure0(v8.clone(), string(\"{ \"), ());\n",
      "                ()\n",
      "            };\n",
      "            let v41: () = {\n",
      "                Spiral::closure0(v8.clone(), string(\"name\"), ());\n",
      "                ()\n",
      "            };\n",
      "            let v60: () = {\n",
      "                Spiral::closure0(v8.clone(), string(\" = \"), ());\n",
      "                ()\n",
      "            };\n",
      "            let v79: () = {\n",
      "                Spiral::closure0(v8.clone(), string(\"__assert_eq\"), ());\n",
      "                ()\n",
      "            };\n",
      "            let v98: () = {\n",
      "                Spiral::closure0(v8.clone(), string(\"; \"), ());\n",
      "                ()\n",
      "            };\n",
      "            let v117: () = {\n",
      "                Spiral::closure0(v8.clone(), string(\"actual\"), ());\n",
      "                ()\n",
      "            };\n",
      "            let v134: () = {\n",
      "                Spiral::closure0(v8.clone(), string(\" = \"), ());\n",
      "                ()\n",
      "            };\n",
      "            let v154: () = {\n",
      "                Spiral::closure0(v8.clone(), sprintf!(\"{}\", v3), ());\n",
      "                ()\n",
      "            };\n",
      "            let v171: () = {\n",
      "                Spiral::closure0(v8.clone(), string(\"; \"), ());\n",
      "                ()\n",
      "            };\n",
      "            let v190: () = {\n",
      "                Spiral::closure0(v8.clone(), string(\"expected\"), ());\n",
      "                ()\n",
      "            };\n",
      "            let v207: () = {\n",
      "                Spiral::closure0(v8.clone(), string(\" = \"), ());\n",
      "                ()\n",
      "            };\n",
      "            let v227: () = {\n",
      "                Spiral::closure0(v8.clone(), sprintf!(\"{}\", 15_i32), ());\n",
      "                ()\n",
      "            };\n",
      "            let v246: () = {\n",
      "                Spiral::closure0(v8.clone(), string(\" }\"), ());\n",
      "                ()\n",
      "            };\n",
      "            let v252: string = v8.l0.get().clone();\n",
      "            let v256: () = {\n",
      "                Spiral::closure1(v252.clone(), ());\n",
      "                ()\n",
      "            };\n",
      "            if (v6) == false {\n",
      "                panic!(\"{}\", v252,);\n",
      "            }\n",
      "        }\n",
      "        // on_startup!(Spiral::method0());\n",
      "    }\n",
      "}\n",
      "pub use module_6ff740fe::*;\n",
      "\n",
      "\n",
      "\n",
      "pub fn main() -> Result<(), String> { Ok(Spiral::method0()) }\n",
      "\n",
      ".ts:\n",
      "import { Record } from \"./fable_modules/fable-library-ts.5.0.0-alpha.9/Types.js\";\n",
      "import { IComparable, IEquatable } from \"./fable_modules/fable-library-ts.5.0.0-alpha.9/Util.js\";\n",
      "import { record_type, string_type, TypeInfo } from \"./fable_modules/fable-library-ts.5.0.0-alpha.9/Reflection.js\";\n",
      "import { int32 } from \"./fable_modules/fable-library-ts.5.0.0-alpha.9/Int32.js\";\n",
      "\n",
      "export class Mut0 extends Record implements IEquatable<Mut0>, IComparable<Mut0> {\n",
      "    l0: string;\n",
      "    constructor(l0: string) {\n",
      "        super();\n",
      "        this.l0 = l0;\n",
      "    }\n",
      "}\n",
      "\n",
      "export function Mut0_$reflection(): TypeInfo {\n",
      "    return record_type(\"Spiral.Mut0\", [], Mut0, () => [[\"l0\", string_type]]);\n",
      "}\n",
      "\n",
      "export function method1(): int32 {\n",
      "    return 3;\n",
      "}\n",
      "\n",
      "export function method2(v0: boolean): boolean {\n",
      "    return v0;\n",
      "}\n",
      "\n",
      "export function method3(): string {\n",
      "    return \"\";\n",
      "}\n",
      "\n",
      "export function closure0(v0: Mut0, v1: string, unitVar: void): void {\n",
      "    const v4: string = v0.l0 + v1;\n",
      "    v0.l0 = v4;\n",
      "}\n",
      "\n",
      "export function closure1(v0: string, unitVar: void): void {\n",
      "    console.log(v0);\n",
      "}\n",
      "\n",
      "export function method0(): void {\n",
      "    const v3: int32 = (((9 + method1()) + 2) + 1) | 0;\n",
      "    const v4: boolean = v3 === 15;\n",
      "    const v6: boolean = v4 ? true : method2(v4);\n",
      "    const v8: Mut0 = new Mut0(method3());\n",
      "    let v22: any;\n",
      "    closure0(v8, \"{ \", undefined);\n",
      "    v22 = undefined;\n",
      "    let v41: any;\n",
      "    closure0(v8, \"name\", undefined);\n",
      "    v41 = undefined;\n",
      "    let v60: any;\n",
      "    closure0(v8, \" = \", undefined);\n",
      "    v60 = undefined;\n",
      "    let v79: any;\n",
      "    closure0(v8, \"__assert_eq\", undefined);\n",
      "    v79 = undefined;\n",
      "    let v98: any;\n",
      "    closure0(v8, \"; \", undefined);\n",
      "    v98 = undefined;\n",
      "    let v117: any;\n",
      "    closure0(v8, \"actual\", undefined);\n",
      "    v117 = undefined;\n",
      "    let v134: any;\n",
      "    closure0(v8, \" = \", undefined);\n",
      "    v134 = undefined;\n",
      "    let v154: any;\n",
      "    closure0(v8, `${v3}`, undefined);\n",
      "    v154 = undefined;\n",
      "    let v171: any;\n",
      "    closure0(v8, \"; \", undefined);\n",
      "    v171 = undefined;\n",
      "    let v190: any;\n",
      "    closure0(v8, \"expected\", undefined);\n",
      "    v190 = undefined;\n",
      "    let v207: any;\n",
      "    closure0(v8, \" = \", undefined);\n",
      "    v207 = undefined;\n",
      "    let v227: any;\n",
      "    closure0(v8, `${15}`, undefined);\n",
      "    v227 = undefined;\n",
      "    let v246: any;\n",
      "    closure0(v8, \" }\", undefined);\n",
      "    v246 = undefined;\n",
      "    const v252: string = v8.l0;\n",
      "    let v256: any;\n",
      "    closure1(v252, undefined);\n",
      "    v256 = undefined;\n",
      "    if (v6 === false) {\n",
      "        throw new Error(v252);\n",
      "    }\n",
      "}\n",
      "\n",
      "method0();\n",
      "\n",
      "\n",
      ".py:\n",
      "from __future__ import annotations\n",
      "from dataclasses import dataclass\n",
      "from fable_modules.fable_library.reflection import (TypeInfo, string_type, record_type)\n",
      "from fable_modules.fable_library.types import Record\n",
      "\n",
      "def _expr0() -> TypeInfo:\n",
      "    return record_type(\"Spiral.Mut0\", [], Mut0, lambda: [(\"l0\", string_type)])\n",
      "\n",
      "\n",
      "@dataclass(eq = False, repr = False, slots = True)\n",
      "class Mut0(Record):\n",
      "    l0: str\n",
      "\n",
      "Mut0_reflection = _expr0\n",
      "\n",
      "def method1(__unit: None=None) -> int:\n",
      "    return 3\n",
      "\n",
      "\n",
      "def method2(v0: bool) -> bool:\n",
      "    return v0\n",
      "\n",
      "\n",
      "def method3(__unit: None=None) -> str:\n",
      "    return \"\"\n",
      "\n",
      "\n",
      "def closure0(v0: Mut0, v1: str, unit_var: None) -> None:\n",
      "    v4: str = v0.l0 + v1\n",
      "    v0.l0 = v4\n",
      "\n",
      "\n",
      "def closure1(v0: str, unit_var: None) -> None:\n",
      "    print(v0)\n",
      "\n",
      "\n",
      "def method0(__unit: None=None) -> None:\n",
      "    v3: int = (((9 + method1()) + 2) + 1) or 0\n",
      "    v4: bool = v3 == 15\n",
      "    v6: bool = True if v4 else method2(v4)\n",
      "    v8: Mut0 = Mut0(method3())\n",
      "    v22: None\n",
      "    closure0(v8, \"{ \", None)\n",
      "    v22 = None\n",
      "    v41: None\n",
      "    closure0(v8, \"name\", None)\n",
      "    v41 = None\n",
      "    v60: None\n",
      "    closure0(v8, \" = \", None)\n",
      "    v60 = None\n",
      "    v79: None\n",
      "    closure0(v8, \"__assert_eq\", None)\n",
      "    v79 = None\n",
      "    v98: None\n",
      "    closure0(v8, \"; \", None)\n",
      "    v98 = None\n",
      "    v117: None\n",
      "    closure0(v8, \"actual\", None)\n",
      "    v117 = None\n",
      "    v134: None\n",
      "    closure0(v8, \" = \", None)\n",
      "    v134 = None\n",
      "    v154: None\n",
      "    closure0(v8, (\"\" + str(v3)) + \"\", None)\n",
      "    v154 = None\n",
      "    v171: None\n",
      "    closure0(v8, \"; \", None)\n",
      "    v171 = None\n",
      "    v190: None\n",
      "    closure0(v8, \"expected\", None)\n",
      "    v190 = None\n",
      "    v207: None\n",
      "    closure0(v8, \" = \", None)\n",
      "    v207 = None\n",
      "    v227: None\n",
      "    closure0(v8, (\"\" + str(15)) + \"\", None)\n",
      "    v227 = None\n",
      "    v246: None\n",
      "    closure0(v8, \" }\", None)\n",
      "    v246 = None\n",
      "    v252: str = v8.l0\n",
      "    v256: None\n",
      "    closure1(v252, None)\n",
      "    v256 = None\n",
      "    if v6 == False:\n",
      "        raise Exception(v252)\n",
      "\n",
      "\n",
      "\n",
      "method0()\n",
      "\n",
      "\n",
      ".py (Cuda):\n",
      "kernel = r\"\"\"\n",
      "\"\"\"\n",
      "class static_array():\n",
      "    def __init__(self, length):\n",
      "        self.ptr = []\n",
      "        for _ in range(length):\n",
      "            self.ptr.append(None)\n",
      "\n",
      "    def __getitem__(self, index):\n",
      "        assert 0 <= index < len(self.ptr), \"The get index needs to be in range.\"\n",
      "        return self.ptr[index]\n",
      "    \n",
      "    def __setitem__(self, index, value):\n",
      "        assert 0 <= index < len(self.ptr), \"The set index needs to be in range.\"\n",
      "        self.ptr[index] = value\n",
      "\n",
      "class static_array_list(static_array):\n",
      "    def __init__(self, length):\n",
      "        super().__init__(length)\n",
      "        self.length = 0\n",
      "\n",
      "    def __getitem__(self, index):\n",
      "        assert 0 <= index < self.length, \"The get index needs to be in range.\"\n",
      "        return self.ptr[index]\n",
      "    \n",
      "    def __setitem__(self, index, value):\n",
      "        assert 0 <= index < self.length, \"The set index needs to be in range.\"\n",
      "        self.ptr[index] = value\n",
      "\n",
      "    def push(self,value):\n",
      "        assert (self.length < len(self.ptr)), \"The length before pushing has to be less than the maximum length of the array.\"\n",
      "        self.ptr[self.length] = value\n",
      "        self.length += 1\n",
      "\n",
      "    def pop(self):\n",
      "        assert (0 < self.length), \"The length before popping has to be greater than 0.\"\n",
      "        self.length -= 1\n",
      "        return self.ptr[self.length]\n",
      "\n",
      "    def unsafe_set_length(self,i):\n",
      "        assert 0 <= i <= len(self.ptr), \"The new length has to be in range.\"\n",
      "        self.length = i\n",
      "\n",
      "class dynamic_array(static_array): \n",
      "    pass\n",
      "\n",
      "class dynamic_array_list(static_array_list):\n",
      "    def length_(self): return self.length\n",
      "\n",
      "import cupy as cp\n",
      "import numpy as np\n",
      "from dataclasses import dataclass\n",
      "from typing import NamedTuple, Union, Callable, Tuple\n",
      "i8 = int; i16 = int; i32 = int; i64 = int; u8 = int; u16 = int; u32 = int; u64 = int; f32 = float; f64 = float; char = str; string = str\n",
      "cuda = False\n",
      "\n",
      "@dataclass\n",
      "class Mut0:\n",
      "    v0 : string\n",
      "def method1() -> i32:\n",
      "    return 3\n",
      "def method2(v0 : bool) -> bool:\n",
      "    return v0\n",
      "def method3() -> string:\n",
      "    v0 = \"\"\n",
      "    return v0\n",
      "def method0() -> None:\n",
      "    v0 = method1()\n",
      "    v1 = 9 + v0\n",
      "    del v0\n",
      "    v2 = v1 + 2\n",
      "    del v1\n",
      "    v3 = v2 + 1\n",
      "    del v2\n",
      "    v4 = v3 == 15\n",
      "    if v4:\n",
      "        v6 = True\n",
      "    else:\n",
      "        v6 = method2(v4)\n",
      "    del v4\n",
      "    v7 = method3()\n",
      "    v8 = Mut0(v7)\n",
      "    del v7\n",
      "    v13 = \"{ \"\n",
      "    v14 = f\"{v13}\"\n",
      "    del v13\n",
      "    v24 = v8.v0\n",
      "    v27 = v24 + v14 \n",
      "    del v14, v24\n",
      "    v8.v0 = v27\n",
      "    del v27\n",
      "    v33 = \"name\"\n",
      "    v34 = f\"{v33}\"\n",
      "    del v33\n",
      "    v44 = v8.v0\n",
      "    v47 = v44 + v34 \n",
      "    del v34, v44\n",
      "    v8.v0 = v47\n",
      "    del v47\n",
      "    v53 = \" = \"\n",
      "    v54 = f\"{v53}\"\n",
      "    v64 = v8.v0\n",
      "    v67 = v64 + v54 \n",
      "    del v54, v64\n",
      "    v8.v0 = v67\n",
      "    del v67\n",
      "    v73 = \"__assert_eq\"\n",
      "    v74 = f\"{v73}\"\n",
      "    del v73\n",
      "    v84 = v8.v0\n",
      "    v87 = v84 + v74 \n",
      "    del v74, v84\n",
      "    v8.v0 = v87\n",
      "    del v87\n",
      "    v93 = \"; \"\n",
      "    v94 = f\"{v93}\"\n",
      "    v104 = v8.v0\n",
      "    v107 = v104 + v94 \n",
      "    del v94, v104\n",
      "    v8.v0 = v107\n",
      "    del v107\n",
      "    v113 = \"actual\"\n",
      "    v114 = f\"{v113}\"\n",
      "    del v113\n",
      "    v124 = v8.v0\n",
      "    v127 = v124 + v114 \n",
      "    del v114, v124\n",
      "    v8.v0 = v127\n",
      "    del v127\n",
      "    v131 = f\"{v53}\"\n",
      "    v141 = v8.v0\n",
      "    v144 = v141 + v131 \n",
      "    del v131, v141\n",
      "    v8.v0 = v144\n",
      "    del v144\n",
      "    v151 = f\"{v3}\"\n",
      "    del v3\n",
      "    v161 = v8.v0\n",
      "    v164 = v161 + v151 \n",
      "    del v151, v161\n",
      "    v8.v0 = v164\n",
      "    del v164\n",
      "    v168 = f\"{v93}\"\n",
      "    del v93\n",
      "    v178 = v8.v0\n",
      "    v181 = v178 + v168 \n",
      "    del v168, v178\n",
      "    v8.v0 = v181\n",
      "    del v181\n",
      "    v187 = \"expected\"\n",
      "    v188 = f\"{v187}\"\n",
      "    del v187\n",
      "    v198 = v8.v0\n",
      "    v201 = v198 + v188 \n",
      "    del v188, v198\n",
      "    v8.v0 = v201\n",
      "    del v201\n",
      "    v205 = f\"{v53}\"\n",
      "    del v53\n",
      "    v215 = v8.v0\n",
      "    v218 = v215 + v205 \n",
      "    del v205, v215\n",
      "    v8.v0 = v218\n",
      "    del v218\n",
      "    v225 = f\"{15}\"\n",
      "    v235 = v8.v0\n",
      "    v238 = v235 + v225 \n",
      "    del v225, v235\n",
      "    v8.v0 = v238\n",
      "    del v238\n",
      "    v244 = \" }\"\n",
      "    v245 = f\"{v244}\"\n",
      "    del v244\n",
      "    v255 = v8.v0\n",
      "    v258 = v255 + v245 \n",
      "    del v245, v255\n",
      "    v8.v0 = v258\n",
      "    del v258\n",
      "    v260 = v8.v0\n",
      "    del v8\n",
      "    print(v260)\n",
      "    v266 = v6 == False\n",
      "    del v6\n",
      "    if v266:\n",
      "        del v266\n",
      "        raise Exception(v260)\n",
      "    else:\n",
      "        del v260, v266\n",
      "        return \n",
      "def main_body():\n",
      "    return method0()\n",
      "\n",
      "def main():\n",
      "    r = main_body()\n",
      "    if cuda: cp.cuda.get_current_stream().synchronize() # This line is here so the `__trap()` calls on the kernel aren't missed.\n",
      "    return r\n",
      "\n",
      "if __name__ == '__main__': result = main(); None if result is None else print(result)\n",
      "\n",
      ".fsx output:\n",
      "{ name = __assert_eq; actual = 15; expected = 15 }\n"
     ]
    }
   ],
   "source": [
    "//// test\n",
    "///! gleam\n",
    "///! fsharp\n",
    "///! cuda\n",
    "///! rust\n",
    "///! typescript\n",
    "///! python\n",
    "//// print_code\n",
    "\n",
    "[ 5i32; 4; join 3; 2; 1 ]\n",
    "|> fold_list (+) 0\n",
    "|> _assert_eq 15"
   ]
  },
  {
   "cell_type": "code",
   "execution_count": null,
   "metadata": {
    "dotnet_interactive": {
     "language": "spiral"
    },
    "polyglot_notebook": {
     "kernelName": "spiral"
    }
   },
   "outputs": [
    {
     "data": {
      "text/plain": [
       ".py output (Cuda):\n",
       "{ name = __assert_eq; actual = 15; expected = 15 }\n",
       "\n",
       ".rs output:\n",
       "{ name = __assert_eq; actual = 15; expected = 15 }\n",
       "\n",
       ".ts output:\n",
       "{ name = __assert_eq; actual = 15; expected = 15 }\n",
       "\n",
       ".py output:\n",
       "{ name = __assert_eq; actual = 15; expected = 15 }\n",
       "\n",
       "\n",
       ".gleam output (Gleam):\n",
       "{compiling,\"/home/runner/work/spiral/polyglot/target/spiral_Eval/packages/c766ee611289c07204111f678338f37393bcdf450e96ab4ac78971259b2877c5/build/dev/erlang/main/_gleam_artefacts/main@@main.erl\"}\n",
       "{compiling,\"/home/runner/work/spiral/polyglot/target/spiral_Eval/packages/c766ee611289c07204111f678338f37393bcdf450e96ab4ac78971259b2877c5/build/dev/erlang/main/_gleam_artefacts/main.erl\"}\n",
       "{compiled,main,\n",
       "          \"/home/runner/work/spiral/polyglot/target/spiral_Eval/packages/c766ee611289c07204111f678338f37393bcdf450e96ab4ac78971259b2877c5/build/dev/erlang/main/ebin/main.beam\"}\n",
       "{compiled,main@@main,\n",
       "          \"/home/runner/work/spiral/polyglot/target/spiral_Eval/packages/c766ee611289c07204111f678338f37393bcdf450e96ab4ac78971259b2877c5/build/dev/erlang/main/ebin/main@@main.beam\"}\n",
       "{ name = __assert_eq; actual = 15; expected = 15 }\n",
       "\n",
       "\n",
       "\n",
       "\n"
      ]
     },
     "metadata": {},
     "output_type": "display_data"
    },
    {
     "name": "stdout",
     "output_type": "stream",
     "text": [
      ".gleam (Gleam):\n",
      "import gleam/string\n",
      "import gleam/io\n",
      "pub type Mut0 { Mut0(l0 : String) }\n",
      "pub fn method1 () -> Int {\n",
      "    3\n",
      "}\n",
      "pub fn method2 (v0 :    Int, v1 :    Int) -> Int {\n",
      "    let v2 = v1 + v0\n",
      "    v2\n",
      "}\n",
      "pub fn method3 (v0 :    Bool) -> Bool {\n",
      "    v0\n",
      "}\n",
      "pub fn method4 () -> String {\n",
      "    let v0 = \"\"\n",
      "    v0\n",
      "}\n",
      "pub fn method0 () -> Nil   {\n",
      "    let v0 = method1()\n",
      "    let v1 = 9\n",
      "    let v2 = method2(v0, v1)\n",
      "    let v3 = v2 + 2\n",
      "    let v4 = v3 + 1\n",
      "    let v5 = v4 == 15\n",
      "    let v7 =\n",
      "        case v5 {\n",
      "            True -> {\n",
      "                True\n",
      "            }\n",
      "            False -> {\n",
      "                method3(v5)\n",
      "            }\n",
      "        }\n",
      "    let v8 = method4()\n",
      "    let v9 = Mut0(l0 :  v8)\n",
      "    let v10 = \"{ \"\n",
      "    let v11 = v10 \n",
      "    let v15 = v9.l0 \n",
      "    let v16 = v15 <> v11 \n",
      "    let v9 = Mut0(l0: v16)\n",
      "    let v28 = \"name\"\n",
      "    let v29 = v28 \n",
      "    let v33 = v9.l0 \n",
      "    let v34 = v33 <> v29 \n",
      "    let v9 = Mut0(l0: v34)\n",
      "    let v46 = \" = \"\n",
      "    let v47 = v46 \n",
      "    let v51 = v9.l0 \n",
      "    let v52 = v51 <> v47 \n",
      "    let v9 = Mut0(l0: v52)\n",
      "    let v64 = \"__assert_eq\"\n",
      "    let v65 = v64 \n",
      "    let v69 = v9.l0 \n",
      "    let v70 = v69 <> v65 \n",
      "    let v9 = Mut0(l0: v70)\n",
      "    let v82 = \"; \"\n",
      "    let v83 = v82 \n",
      "    let v87 = v9.l0 \n",
      "    let v88 = v87 <> v83 \n",
      "    let v9 = Mut0(l0: v88)\n",
      "    let v100 = \"actual\"\n",
      "    let v101 = v100 \n",
      "    let v105 = v9.l0 \n",
      "    let v106 = v105 <> v101 \n",
      "    let v9 = Mut0(l0: v106)\n",
      "    let v118 = v46 \n",
      "    let v122 = v9.l0 \n",
      "    let v123 = v122 <> v118 \n",
      "    let v9 = Mut0(l0: v123)\n",
      "    let v135 = string.inspect(v4)\n",
      "    let v142 = v9.l0 \n",
      "    let v143 = v142 <> v135 \n",
      "    let v9 = Mut0(l0: v143)\n",
      "    let v155 = v82 \n",
      "    let v159 = v9.l0 \n",
      "    let v160 = v159 <> v155 \n",
      "    let v9 = Mut0(l0: v160)\n",
      "    let v172 = \"expected\"\n",
      "    let v173 = v172 \n",
      "    let v177 = v9.l0 \n",
      "    let v178 = v177 <> v173 \n",
      "    let v9 = Mut0(l0: v178)\n",
      "    let v190 = v46 \n",
      "    let v194 = v9.l0 \n",
      "    let v195 = v194 <> v190 \n",
      "    let v9 = Mut0(l0: v195)\n",
      "    let v207 = string.inspect(15)\n",
      "    let v214 = v9.l0 \n",
      "    let v215 = v214 <> v207 \n",
      "    let v9 = Mut0(l0: v215)\n",
      "    let v227 = \" }\"\n",
      "    let v228 = v227 \n",
      "    let v232 = v9.l0 \n",
      "    let v233 = v232 <> v228 \n",
      "    let v9 = Mut0(l0: v233)\n",
      "    let v245 = v9.l0 \n",
      "    io.println(v245)\n",
      "    let v251 = v7 == False\n",
      "    case v251 {\n",
      "        True -> {\n",
      "            panic as v245\n",
      "        }\n",
      "        False -> {\n",
      "        Nil\n",
      "        }\n",
      "    }\n",
      "}\n",
      "pub fn main () { method0()\n",
      " }\n",
      ".fsx:\n",
      "type Mut0 = {mutable l0 : string}\n",
      "let rec method1 () : int32 =\n",
      "    3\n",
      "and method2 (v0 : int32, v1 : int32) : int32 =\n",
      "    let v2 : int32 = v1 + v0\n",
      "    v2\n",
      "and method3 (v0 : bool) : bool =\n",
      "    v0\n",
      "and method4 () : string =\n",
      "    let v0 : string = \"\"\n",
      "    v0\n",
      "and closure0 (v0 : Mut0, v1 : string) () : unit =\n",
      "    let v2 : string = v0.l0\n",
      "    let v4 : string = v2 + v1 \n",
      "    v0.l0 <- v4\n",
      "    ()\n",
      "and closure1 (v0 : string) () : unit =\n",
      "    let v1 : (string -> unit) = System.Console.WriteLine\n",
      "    v1 v0\n",
      "and method0 () : unit =\n",
      "    let v0 : int32 = method1()\n",
      "    let v1 : int32 = 9\n",
      "    let v2 : int32 = method2(v0, v1)\n",
      "    let v3 : int32 = v2 + 2\n",
      "    let v4 : int32 = v3 + 1\n",
      "    let v5 : bool = v4 = 15\n",
      "    let v7 : bool =\n",
      "        if v5 then\n",
      "            true\n",
      "        else\n",
      "            method3(v5)\n",
      "    let v8 : string = method4()\n",
      "    let v9 : Mut0 = {l0 = v8} : Mut0\n",
      "    let v12 : string = \"{ \"\n",
      "    let v13 : string = $\"{v12}\"\n",
      "    let v21 : unit = ()\n",
      "    let v22 : (unit -> unit) = closure0(v9, v13)\n",
      "    let v23 : unit = (fun () -> v22 (); v21) ()\n",
      "    let v31 : string = \"name\"\n",
      "    let v32 : string = $\"{v31}\"\n",
      "    let v40 : unit = ()\n",
      "    let v41 : (unit -> unit) = closure0(v9, v32)\n",
      "    let v42 : unit = (fun () -> v41 (); v40) ()\n",
      "    let v50 : string = \" = \"\n",
      "    let v51 : string = $\"{v50}\"\n",
      "    let v59 : unit = ()\n",
      "    let v60 : (unit -> unit) = closure0(v9, v51)\n",
      "    let v61 : unit = (fun () -> v60 (); v59) ()\n",
      "    let v69 : string = \"__assert_eq\"\n",
      "    let v70 : string = $\"{v69}\"\n",
      "    let v78 : unit = ()\n",
      "    let v79 : (unit -> unit) = closure0(v9, v70)\n",
      "    let v80 : unit = (fun () -> v79 (); v78) ()\n",
      "    let v88 : string = \"; \"\n",
      "    let v89 : string = $\"{v88}\"\n",
      "    let v97 : unit = ()\n",
      "    let v98 : (unit -> unit) = closure0(v9, v89)\n",
      "    let v99 : unit = (fun () -> v98 (); v97) ()\n",
      "    let v107 : string = \"actual\"\n",
      "    let v108 : string = $\"{v107}\"\n",
      "    let v116 : unit = ()\n",
      "    let v117 : (unit -> unit) = closure0(v9, v108)\n",
      "    let v118 : unit = (fun () -> v117 (); v116) ()\n",
      "    let v125 : string = $\"{v50}\"\n",
      "    let v133 : unit = ()\n",
      "    let v134 : (unit -> unit) = closure0(v9, v125)\n",
      "    let v135 : unit = (fun () -> v134 (); v133) ()\n",
      "    let v145 : string = $\"{v4}\"\n",
      "    let v153 : unit = ()\n",
      "    let v154 : (unit -> unit) = closure0(v9, v145)\n",
      "    let v155 : unit = (fun () -> v154 (); v153) ()\n",
      "    let v162 : string = $\"{v88}\"\n",
      "    let v170 : unit = ()\n",
      "    let v171 : (unit -> unit) = closure0(v9, v162)\n",
      "    let v172 : unit = (fun () -> v171 (); v170) ()\n",
      "    let v180 : string = \"expected\"\n",
      "    let v181 : string = $\"{v180}\"\n",
      "    let v189 : unit = ()\n",
      "    let v190 : (unit -> unit) = closure0(v9, v181)\n",
      "    let v191 : unit = (fun () -> v190 (); v189) ()\n",
      "    let v198 : string = $\"{v50}\"\n",
      "    let v206 : unit = ()\n",
      "    let v207 : (unit -> unit) = closure0(v9, v198)\n",
      "    let v208 : unit = (fun () -> v207 (); v206) ()\n",
      "    let v218 : string = $\"{15}\"\n",
      "    let v226 : unit = ()\n",
      "    let v227 : (unit -> unit) = closure0(v9, v218)\n",
      "    let v228 : unit = (fun () -> v227 (); v226) ()\n",
      "    let v236 : string = \" }\"\n",
      "    let v237 : string = $\"{v236}\"\n",
      "    let v245 : unit = ()\n",
      "    let v246 : (unit -> unit) = closure0(v9, v237)\n",
      "    let v247 : unit = (fun () -> v246 (); v245) ()\n",
      "    let v253 : string = v9.l0\n",
      "    let v255 : unit = ()\n",
      "    let v256 : (unit -> unit) = closure1(v253)\n",
      "    let v257 : unit = (fun () -> v256 (); v255) ()\n",
      "    let v259 : bool = v7 = false\n",
      "    if v259 then\n",
      "        failwith<unit> v253\n",
      "method0()\n",
      "\n",
      "\n",
      ".rs:\n",
      "#![allow(dead_code)]\n",
      "#![allow(non_camel_case_types)]\n",
      "#![allow(non_snake_case)]\n",
      "#![allow(non_upper_case_globals)]\n",
      "#![allow(unreachable_code)]\n",
      "#![allow(unused_attributes)]\n",
      "#![allow(unused_imports)]\n",
      "#![allow(unused_macros)]\n",
      "#![allow(unused_parens)]\n",
      "#![allow(unused_variables)]\n",
      "#![allow(unused_assignments)]\n",
      "mod module_6ff740fe {\n",
      "    pub mod Spiral {\n",
      "        use super::*;\n",
      "        use fable_library_rust::Native_::LrcPtr;\n",
      "        use fable_library_rust::Native_::MutCell;\n",
      "        use fable_library_rust::Native_::on_startup;\n",
      "        use fable_library_rust::String_::append;\n",
      "        use fable_library_rust::String_::printfn;\n",
      "        use fable_library_rust::String_::sprintf;\n",
      "        use fable_library_rust::String_::string;\n",
      "        #[derive(Clone, Debug, Hash, PartialEq, PartialOrd)]\n",
      "        pub struct Mut0 {\n",
      "            pub l0: MutCell<string>,\n",
      "        }\n",
      "        impl core::fmt::Display for Mut0 {\n",
      "            fn fmt(&self, f: &mut core::fmt::Formatter) -> core::fmt::Result {\n",
      "                write!(f, \"{}\", core::any::type_name::<Self>())\n",
      "            }\n",
      "        }\n",
      "        pub fn method1() -> i32 {\n",
      "            3_i32\n",
      "        }\n",
      "        pub fn method2(v0: i32, v1: i32) -> i32 {\n",
      "            (v1) + (v0)\n",
      "        }\n",
      "        pub fn method3(v0: bool) -> bool {\n",
      "            v0\n",
      "        }\n",
      "        pub fn method4() -> string {\n",
      "            string(\"\")\n",
      "        }\n",
      "        pub fn closure0(v0: LrcPtr<Spiral::Mut0>, v1: string, unitVar: ()) {\n",
      "            let v4: string = append((v0.l0.get().clone()), (v1));\n",
      "            v0.l0.set(v4);\n",
      "            ()\n",
      "        }\n",
      "        pub fn closure1(v0: string, unitVar: ()) {\n",
      "            printfn!(\"{0}\", v0);\n",
      "        }\n",
      "        pub fn method0() {\n",
      "            let v4: i32 = ((Spiral::method2(Spiral::method1(), 9_i32)) + 2_i32) + 1_i32;\n",
      "            let v5: bool = (v4) == 15_i32;\n",
      "            let v7: bool = if v5 { true } else { Spiral::method3(v5) };\n",
      "            let v9: LrcPtr<Spiral::Mut0> = LrcPtr::new(Spiral::Mut0 {\n",
      "                l0: MutCell::new(Spiral::method4()),\n",
      "            });\n",
      "            let v23: () = {\n",
      "                Spiral::closure0(v9.clone(), string(\"{ \"), ());\n",
      "                ()\n",
      "            };\n",
      "            let v42: () = {\n",
      "                Spiral::closure0(v9.clone(), string(\"name\"), ());\n",
      "                ()\n",
      "            };\n",
      "            let v61: () = {\n",
      "                Spiral::closure0(v9.clone(), string(\" = \"), ());\n",
      "                ()\n",
      "            };\n",
      "            let v80: () = {\n",
      "                Spiral::closure0(v9.clone(), string(\"__assert_eq\"), ());\n",
      "                ()\n",
      "            };\n",
      "            let v99: () = {\n",
      "                Spiral::closure0(v9.clone(), string(\"; \"), ());\n",
      "                ()\n",
      "            };\n",
      "            let v118: () = {\n",
      "                Spiral::closure0(v9.clone(), string(\"actual\"), ());\n",
      "                ()\n",
      "            };\n",
      "            let v135: () = {\n",
      "                Spiral::closure0(v9.clone(), string(\" = \"), ());\n",
      "                ()\n",
      "            };\n",
      "            let v155: () = {\n",
      "                Spiral::closure0(v9.clone(), sprintf!(\"{}\", v4), ());\n",
      "                ()\n",
      "            };\n",
      "            let v172: () = {\n",
      "                Spiral::closure0(v9.clone(), string(\"; \"), ());\n",
      "                ()\n",
      "            };\n",
      "            let v191: () = {\n",
      "                Spiral::closure0(v9.clone(), string(\"expected\"), ());\n",
      "                ()\n",
      "            };\n",
      "            let v208: () = {\n",
      "                Spiral::closure0(v9.clone(), string(\" = \"), ());\n",
      "                ()\n",
      "            };\n",
      "            let v228: () = {\n",
      "                Spiral::closure0(v9.clone(), sprintf!(\"{}\", 15_i32), ());\n",
      "                ()\n",
      "            };\n",
      "            let v247: () = {\n",
      "                Spiral::closure0(v9.clone(), string(\" }\"), ());\n",
      "                ()\n",
      "            };\n",
      "            let v253: string = v9.l0.get().clone();\n",
      "            let v257: () = {\n",
      "                Spiral::closure1(v253.clone(), ());\n",
      "                ()\n",
      "            };\n",
      "            if (v7) == false {\n",
      "                panic!(\"{}\", v253,);\n",
      "            }\n",
      "        }\n",
      "        // on_startup!(Spiral::method0());\n",
      "    }\n",
      "}\n",
      "pub use module_6ff740fe::*;\n",
      "\n",
      "\n",
      "\n",
      "pub fn main() -> Result<(), String> { Ok(Spiral::method0()) }\n",
      "\n",
      ".ts:\n",
      "import { Record } from \"./fable_modules/fable-library-ts.5.0.0-alpha.9/Types.js\";\n",
      "import { IComparable, IEquatable } from \"./fable_modules/fable-library-ts.5.0.0-alpha.9/Util.js\";\n",
      "import { record_type, string_type, TypeInfo } from \"./fable_modules/fable-library-ts.5.0.0-alpha.9/Reflection.js\";\n",
      "import { int32 } from \"./fable_modules/fable-library-ts.5.0.0-alpha.9/Int32.js\";\n",
      "\n",
      "export class Mut0 extends Record implements IEquatable<Mut0>, IComparable<Mut0> {\n",
      "    l0: string;\n",
      "    constructor(l0: string) {\n",
      "        super();\n",
      "        this.l0 = l0;\n",
      "    }\n",
      "}\n",
      "\n",
      "export function Mut0_$reflection(): TypeInfo {\n",
      "    return record_type(\"Spiral.Mut0\", [], Mut0, () => [[\"l0\", string_type]]);\n",
      "}\n",
      "\n",
      "export function method1(): int32 {\n",
      "    return 3;\n",
      "}\n",
      "\n",
      "export function method2(v0: int32, v1: int32): int32 {\n",
      "    return v1 + v0;\n",
      "}\n",
      "\n",
      "export function method3(v0: boolean): boolean {\n",
      "    return v0;\n",
      "}\n",
      "\n",
      "export function method4(): string {\n",
      "    return \"\";\n",
      "}\n",
      "\n",
      "export function closure0(v0: Mut0, v1: string, unitVar: void): void {\n",
      "    const v4: string = v0.l0 + v1;\n",
      "    v0.l0 = v4;\n",
      "}\n",
      "\n",
      "export function closure1(v0: string, unitVar: void): void {\n",
      "    console.log(v0);\n",
      "}\n",
      "\n",
      "export function method0(): void {\n",
      "    const v4: int32 = ((method2(method1(), 9) + 2) + 1) | 0;\n",
      "    const v5: boolean = v4 === 15;\n",
      "    const v7: boolean = v5 ? true : method3(v5);\n",
      "    const v9: Mut0 = new Mut0(method4());\n",
      "    let v23: any;\n",
      "    closure0(v9, \"{ \", undefined);\n",
      "    v23 = undefined;\n",
      "    let v42: any;\n",
      "    closure0(v9, \"name\", undefined);\n",
      "    v42 = undefined;\n",
      "    let v61: any;\n",
      "    closure0(v9, \" = \", undefined);\n",
      "    v61 = undefined;\n",
      "    let v80: any;\n",
      "    closure0(v9, \"__assert_eq\", undefined);\n",
      "    v80 = undefined;\n",
      "    let v99: any;\n",
      "    closure0(v9, \"; \", undefined);\n",
      "    v99 = undefined;\n",
      "    let v118: any;\n",
      "    closure0(v9, \"actual\", undefined);\n",
      "    v118 = undefined;\n",
      "    let v135: any;\n",
      "    closure0(v9, \" = \", undefined);\n",
      "    v135 = undefined;\n",
      "    let v155: any;\n",
      "    closure0(v9, `${v4}`, undefined);\n",
      "    v155 = undefined;\n",
      "    let v172: any;\n",
      "    closure0(v9, \"; \", undefined);\n",
      "    v172 = undefined;\n",
      "    let v191: any;\n",
      "    closure0(v9, \"expected\", undefined);\n",
      "    v191 = undefined;\n",
      "    let v208: any;\n",
      "    closure0(v9, \" = \", undefined);\n",
      "    v208 = undefined;\n",
      "    let v228: any;\n",
      "    closure0(v9, `${15}`, undefined);\n",
      "    v228 = undefined;\n",
      "    let v247: any;\n",
      "    closure0(v9, \" }\", undefined);\n",
      "    v247 = undefined;\n",
      "    const v253: string = v9.l0;\n",
      "    let v257: any;\n",
      "    closure1(v253, undefined);\n",
      "    v257 = undefined;\n",
      "    if (v7 === false) {\n",
      "        throw new Error(v253);\n",
      "    }\n",
      "}\n",
      "\n",
      "method0();\n",
      "\n",
      "\n",
      ".py:\n",
      "from __future__ import annotations\n",
      "from dataclasses import dataclass\n",
      "from fable_modules.fable_library.reflection import (TypeInfo, string_type, record_type)\n",
      "from fable_modules.fable_library.types import Record\n",
      "\n",
      "def _expr0() -> TypeInfo:\n",
      "    return record_type(\"Spiral.Mut0\", [], Mut0, lambda: [(\"l0\", string_type)])\n",
      "\n",
      "\n",
      "@dataclass(eq = False, repr = False, slots = True)\n",
      "class Mut0(Record):\n",
      "    l0: str\n",
      "\n",
      "Mut0_reflection = _expr0\n",
      "\n",
      "def method1(__unit: None=None) -> int:\n",
      "    return 3\n",
      "\n",
      "\n",
      "def method2(v0: int, v1: int) -> int:\n",
      "    return v1 + v0\n",
      "\n",
      "\n",
      "def method3(v0: bool) -> bool:\n",
      "    return v0\n",
      "\n",
      "\n",
      "def method4(__unit: None=None) -> str:\n",
      "    return \"\"\n",
      "\n",
      "\n",
      "def closure0(v0: Mut0, v1: str, unit_var: None) -> None:\n",
      "    v4: str = v0.l0 + v1\n",
      "    v0.l0 = v4\n",
      "\n",
      "\n",
      "def closure1(v0: str, unit_var: None) -> None:\n",
      "    print(v0)\n",
      "\n",
      "\n",
      "def method0(__unit: None=None) -> None:\n",
      "    v4: int = ((method2(method1(), 9) + 2) + 1) or 0\n",
      "    v5: bool = v4 == 15\n",
      "    v7: bool = True if v5 else method3(v5)\n",
      "    v9: Mut0 = Mut0(method4())\n",
      "    v23: None\n",
      "    closure0(v9, \"{ \", None)\n",
      "    v23 = None\n",
      "    v42: None\n",
      "    closure0(v9, \"name\", None)\n",
      "    v42 = None\n",
      "    v61: None\n",
      "    closure0(v9, \" = \", None)\n",
      "    v61 = None\n",
      "    v80: None\n",
      "    closure0(v9, \"__assert_eq\", None)\n",
      "    v80 = None\n",
      "    v99: None\n",
      "    closure0(v9, \"; \", None)\n",
      "    v99 = None\n",
      "    v118: None\n",
      "    closure0(v9, \"actual\", None)\n",
      "    v118 = None\n",
      "    v135: None\n",
      "    closure0(v9, \" = \", None)\n",
      "    v135 = None\n",
      "    v155: None\n",
      "    closure0(v9, (\"\" + str(v4)) + \"\", None)\n",
      "    v155 = None\n",
      "    v172: None\n",
      "    closure0(v9, \"; \", None)\n",
      "    v172 = None\n",
      "    v191: None\n",
      "    closure0(v9, \"expected\", None)\n",
      "    v191 = None\n",
      "    v208: None\n",
      "    closure0(v9, \" = \", None)\n",
      "    v208 = None\n",
      "    v228: None\n",
      "    closure0(v9, (\"\" + str(15)) + \"\", None)\n",
      "    v228 = None\n",
      "    v247: None\n",
      "    closure0(v9, \" }\", None)\n",
      "    v247 = None\n",
      "    v253: str = v9.l0\n",
      "    v257: None\n",
      "    closure1(v253, None)\n",
      "    v257 = None\n",
      "    if v7 == False:\n",
      "        raise Exception(v253)\n",
      "\n",
      "\n",
      "\n",
      "method0()\n",
      "\n",
      "\n",
      ".py (Cuda):\n",
      "kernel = r\"\"\"\n",
      "\"\"\"\n",
      "class static_array():\n",
      "    def __init__(self, length):\n",
      "        self.ptr = []\n",
      "        for _ in range(length):\n",
      "            self.ptr.append(None)\n",
      "\n",
      "    def __getitem__(self, index):\n",
      "        assert 0 <= index < len(self.ptr), \"The get index needs to be in range.\"\n",
      "        return self.ptr[index]\n",
      "    \n",
      "    def __setitem__(self, index, value):\n",
      "        assert 0 <= index < len(self.ptr), \"The set index needs to be in range.\"\n",
      "        self.ptr[index] = value\n",
      "\n",
      "class static_array_list(static_array):\n",
      "    def __init__(self, length):\n",
      "        super().__init__(length)\n",
      "        self.length = 0\n",
      "\n",
      "    def __getitem__(self, index):\n",
      "        assert 0 <= index < self.length, \"The get index needs to be in range.\"\n",
      "        return self.ptr[index]\n",
      "    \n",
      "    def __setitem__(self, index, value):\n",
      "        assert 0 <= index < self.length, \"The set index needs to be in range.\"\n",
      "        self.ptr[index] = value\n",
      "\n",
      "    def push(self,value):\n",
      "        assert (self.length < len(self.ptr)), \"The length before pushing has to be less than the maximum length of the array.\"\n",
      "        self.ptr[self.length] = value\n",
      "        self.length += 1\n",
      "\n",
      "    def pop(self):\n",
      "        assert (0 < self.length), \"The length before popping has to be greater than 0.\"\n",
      "        self.length -= 1\n",
      "        return self.ptr[self.length]\n",
      "\n",
      "    def unsafe_set_length(self,i):\n",
      "        assert 0 <= i <= len(self.ptr), \"The new length has to be in range.\"\n",
      "        self.length = i\n",
      "\n",
      "class dynamic_array(static_array): \n",
      "    pass\n",
      "\n",
      "class dynamic_array_list(static_array_list):\n",
      "    def length_(self): return self.length\n",
      "\n",
      "import cupy as cp\n",
      "import numpy as np\n",
      "from dataclasses import dataclass\n",
      "from typing import NamedTuple, Union, Callable, Tuple\n",
      "i8 = int; i16 = int; i32 = int; i64 = int; u8 = int; u16 = int; u32 = int; u64 = int; f32 = float; f64 = float; char = str; string = str\n",
      "cuda = False\n",
      "\n",
      "@dataclass\n",
      "class Mut0:\n",
      "    v0 : string\n",
      "def method1() -> i32:\n",
      "    return 3\n",
      "def method2(v0 : i32, v1 : i32) -> i32:\n",
      "    v2 = v1 + v0\n",
      "    del v0, v1\n",
      "    return v2\n",
      "def method3(v0 : bool) -> bool:\n",
      "    return v0\n",
      "def method4() -> string:\n",
      "    v0 = \"\"\n",
      "    return v0\n",
      "def method0() -> None:\n",
      "    v0 = method1()\n",
      "    v1 = 9\n",
      "    v2 = method2(v0, v1)\n",
      "    del v0, v1\n",
      "    v3 = v2 + 2\n",
      "    del v2\n",
      "    v4 = v3 + 1\n",
      "    del v3\n",
      "    v5 = v4 == 15\n",
      "    if v5:\n",
      "        v7 = True\n",
      "    else:\n",
      "        v7 = method3(v5)\n",
      "    del v5\n",
      "    v8 = method4()\n",
      "    v9 = Mut0(v8)\n",
      "    del v8\n",
      "    v14 = \"{ \"\n",
      "    v15 = f\"{v14}\"\n",
      "    del v14\n",
      "    v25 = v9.v0\n",
      "    v28 = v25 + v15 \n",
      "    del v15, v25\n",
      "    v9.v0 = v28\n",
      "    del v28\n",
      "    v34 = \"name\"\n",
      "    v35 = f\"{v34}\"\n",
      "    del v34\n",
      "    v45 = v9.v0\n",
      "    v48 = v45 + v35 \n",
      "    del v35, v45\n",
      "    v9.v0 = v48\n",
      "    del v48\n",
      "    v54 = \" = \"\n",
      "    v55 = f\"{v54}\"\n",
      "    v65 = v9.v0\n",
      "    v68 = v65 + v55 \n",
      "    del v55, v65\n",
      "    v9.v0 = v68\n",
      "    del v68\n",
      "    v74 = \"__assert_eq\"\n",
      "    v75 = f\"{v74}\"\n",
      "    del v74\n",
      "    v85 = v9.v0\n",
      "    v88 = v85 + v75 \n",
      "    del v75, v85\n",
      "    v9.v0 = v88\n",
      "    del v88\n",
      "    v94 = \"; \"\n",
      "    v95 = f\"{v94}\"\n",
      "    v105 = v9.v0\n",
      "    v108 = v105 + v95 \n",
      "    del v95, v105\n",
      "    v9.v0 = v108\n",
      "    del v108\n",
      "    v114 = \"actual\"\n",
      "    v115 = f\"{v114}\"\n",
      "    del v114\n",
      "    v125 = v9.v0\n",
      "    v128 = v125 + v115 \n",
      "    del v115, v125\n",
      "    v9.v0 = v128\n",
      "    del v128\n",
      "    v132 = f\"{v54}\"\n",
      "    v142 = v9.v0\n",
      "    v145 = v142 + v132 \n",
      "    del v132, v142\n",
      "    v9.v0 = v145\n",
      "    del v145\n",
      "    v152 = f\"{v4}\"\n",
      "    del v4\n",
      "    v162 = v9.v0\n",
      "    v165 = v162 + v152 \n",
      "    del v152, v162\n",
      "    v9.v0 = v165\n",
      "    del v165\n",
      "    v169 = f\"{v94}\"\n",
      "    del v94\n",
      "    v179 = v9.v0\n",
      "    v182 = v179 + v169 \n",
      "    del v169, v179\n",
      "    v9.v0 = v182\n",
      "    del v182\n",
      "    v188 = \"expected\"\n",
      "    v189 = f\"{v188}\"\n",
      "    del v188\n",
      "    v199 = v9.v0\n",
      "    v202 = v199 + v189 \n",
      "    del v189, v199\n",
      "    v9.v0 = v202\n",
      "    del v202\n",
      "    v206 = f\"{v54}\"\n",
      "    del v54\n",
      "    v216 = v9.v0\n",
      "    v219 = v216 + v206 \n",
      "    del v206, v216\n",
      "    v9.v0 = v219\n",
      "    del v219\n",
      "    v226 = f\"{15}\"\n",
      "    v236 = v9.v0\n",
      "    v239 = v236 + v226 \n",
      "    del v226, v236\n",
      "    v9.v0 = v239\n",
      "    del v239\n",
      "    v245 = \" }\"\n",
      "    v246 = f\"{v245}\"\n",
      "    del v245\n",
      "    v256 = v9.v0\n",
      "    v259 = v256 + v246 \n",
      "    del v246, v256\n",
      "    v9.v0 = v259\n",
      "    del v259\n",
      "    v261 = v9.v0\n",
      "    del v9\n",
      "    print(v261)\n",
      "    v267 = v7 == False\n",
      "    del v7\n",
      "    if v267:\n",
      "        del v267\n",
      "        raise Exception(v261)\n",
      "    else:\n",
      "        del v261, v267\n",
      "        return \n",
      "def main_body():\n",
      "    return method0()\n",
      "\n",
      "def main():\n",
      "    r = main_body()\n",
      "    if cuda: cp.cuda.get_current_stream().synchronize() # This line is here so the `__trap()` calls on the kernel aren't missed.\n",
      "    return r\n",
      "\n",
      "if __name__ == '__main__': result = main(); None if result is None else print(result)\n",
      "\n",
      ".fsx output:\n",
      "{ name = __assert_eq; actual = 15; expected = 15 }\n"
     ]
    }
   ],
   "source": [
    "//// test\n",
    "///! gleam\n",
    "///! fsharp\n",
    "///! cuda\n",
    "///! rust\n",
    "///! typescript\n",
    "///! python\n",
    "//// print_code\n",
    "\n",
    "[ 5i32; 4; join 3; 2; 1 ]\n",
    "|> fold_list (join_body (+)) 0\n",
    "|> _assert_eq 15"
   ]
  },
  {
   "cell_type": "markdown",
   "metadata": {},
   "source": [
    "### join_body_unit"
   ]
  },
  {
   "cell_type": "code",
   "execution_count": null,
   "metadata": {
    "dotnet_interactive": {
     "language": "spiral"
    },
    "polyglot_notebook": {
     "kernelName": "spiral"
    }
   },
   "outputs": [],
   "source": [
    "inl join_body_unit body d x =\n",
    "    if var_is d |> not\n",
    "    then body x\n",
    "    else\n",
    "        inl x = dyn x\n",
    "        join body x"
   ]
  },
  {
   "cell_type": "code",
   "execution_count": null,
   "metadata": {
    "dotnet_interactive": {
     "language": "spiral"
    },
    "polyglot_notebook": {
     "kernelName": "spiral"
    }
   },
   "outputs": [
    {
     "data": {
      "text/plain": [
       ".py output (Cuda):\n",
       "{ name = __assert_eq; actual = 15; expected = 15 }\n",
       "\n",
       ".rs output:\n",
       "{ name = __assert_eq; actual = 15; expected = 15 }\n",
       "\n",
       ".ts output:\n",
       "{ name = __assert_eq; actual = 15; expected = 15 }\n",
       "\n",
       ".py output:\n",
       "{ name = __assert_eq; actual = 15; expected = 15 }\n",
       "\n",
       "\n",
       ".gleam output (Gleam):\n",
       "{compiling,\"/home/runner/work/spiral/polyglot/target/spiral_Eval/packages/a4704440cb0f6e10316d337d1321fe3ffeac65390ea06706a1697927e962ade3/build/dev/erlang/main/_gleam_artefacts/main.erl\"}\n",
       "{compiling,\"/home/runner/work/spiral/polyglot/target/spiral_Eval/packages/a4704440cb0f6e10316d337d1321fe3ffeac65390ea06706a1697927e962ade3/build/dev/erlang/main/_gleam_artefacts/main@@main.erl\"}\n",
       "{compiled,main,\n",
       "          \"/home/runner/work/spiral/polyglot/target/spiral_Eval/packages/a4704440cb0f6e10316d337d1321fe3ffeac65390ea06706a1697927e962ade3/build/dev/erlang/main/ebin/main.beam\"}\n",
       "{compiled,main@@main,\n",
       "          \"/home/runner/work/spiral/polyglot/target/spiral_Eval/packages/a4704440cb0f6e10316d337d1321fe3ffeac65390ea06706a1697927e962ade3/build/dev/erlang/main/ebin/main@@main.beam\"}\n",
       "{ name = __assert_eq; actual = 15; expected = 15 }\n",
       "\n",
       "\n",
       "\n",
       "\n"
      ]
     },
     "metadata": {},
     "output_type": "display_data"
    },
    {
     "name": "stdout",
     "output_type": "stream",
     "text": [
      ".gleam (Gleam):\n",
      "import gleam/string\n",
      "import gleam/io\n",
      "pub type Mut0 { Mut0(l0 : String) }\n",
      "pub fn method1 () -> Int {\n",
      "    3\n",
      "}\n",
      "pub fn method2 (v0 :    Int) -> Int {\n",
      "    let v1 = 9 + v0\n",
      "    v1\n",
      "}\n",
      "pub fn method3 (v0 :    Bool) -> Bool {\n",
      "    v0\n",
      "}\n",
      "pub fn method4 () -> String {\n",
      "    let v0 = \"\"\n",
      "    v0\n",
      "}\n",
      "pub fn method0 () -> Nil   {\n",
      "    let v0 = method1()\n",
      "    let v1 = method2(v0)\n",
      "    let v2 = v1 + 2\n",
      "    let v3 = v2 + 1\n",
      "    let v4 = v3 == 15\n",
      "    let v6 =\n",
      "        case v4 {\n",
      "            True -> {\n",
      "                True\n",
      "            }\n",
      "            False -> {\n",
      "                method3(v4)\n",
      "            }\n",
      "        }\n",
      "    let v7 = method4()\n",
      "    let v8 = Mut0(l0 :  v7)\n",
      "    let v9 = \"{ \"\n",
      "    let v10 = v9 \n",
      "    let v14 = v8.l0 \n",
      "    let v15 = v14 <> v10 \n",
      "    let v8 = Mut0(l0: v15)\n",
      "    let v27 = \"name\"\n",
      "    let v28 = v27 \n",
      "    let v32 = v8.l0 \n",
      "    let v33 = v32 <> v28 \n",
      "    let v8 = Mut0(l0: v33)\n",
      "    let v45 = \" = \"\n",
      "    let v46 = v45 \n",
      "    let v50 = v8.l0 \n",
      "    let v51 = v50 <> v46 \n",
      "    let v8 = Mut0(l0: v51)\n",
      "    let v63 = \"__assert_eq\"\n",
      "    let v64 = v63 \n",
      "    let v68 = v8.l0 \n",
      "    let v69 = v68 <> v64 \n",
      "    let v8 = Mut0(l0: v69)\n",
      "    let v81 = \"; \"\n",
      "    let v82 = v81 \n",
      "    let v86 = v8.l0 \n",
      "    let v87 = v86 <> v82 \n",
      "    let v8 = Mut0(l0: v87)\n",
      "    let v99 = \"actual\"\n",
      "    let v100 = v99 \n",
      "    let v104 = v8.l0 \n",
      "    let v105 = v104 <> v100 \n",
      "    let v8 = Mut0(l0: v105)\n",
      "    let v117 = v45 \n",
      "    let v121 = v8.l0 \n",
      "    let v122 = v121 <> v117 \n",
      "    let v8 = Mut0(l0: v122)\n",
      "    let v134 = string.inspect(v3)\n",
      "    let v141 = v8.l0 \n",
      "    let v142 = v141 <> v134 \n",
      "    let v8 = Mut0(l0: v142)\n",
      "    let v154 = v81 \n",
      "    let v158 = v8.l0 \n",
      "    let v159 = v158 <> v154 \n",
      "    let v8 = Mut0(l0: v159)\n",
      "    let v171 = \"expected\"\n",
      "    let v172 = v171 \n",
      "    let v176 = v8.l0 \n",
      "    let v177 = v176 <> v172 \n",
      "    let v8 = Mut0(l0: v177)\n",
      "    let v189 = v45 \n",
      "    let v193 = v8.l0 \n",
      "    let v194 = v193 <> v189 \n",
      "    let v8 = Mut0(l0: v194)\n",
      "    let v206 = string.inspect(15)\n",
      "    let v213 = v8.l0 \n",
      "    let v214 = v213 <> v206 \n",
      "    let v8 = Mut0(l0: v214)\n",
      "    let v226 = \" }\"\n",
      "    let v227 = v226 \n",
      "    let v231 = v8.l0 \n",
      "    let v232 = v231 <> v227 \n",
      "    let v8 = Mut0(l0: v232)\n",
      "    let v244 = v8.l0 \n",
      "    io.println(v244)\n",
      "    let v250 = v6 == False\n",
      "    case v250 {\n",
      "        True -> {\n",
      "            panic as v244\n",
      "        }\n",
      "        False -> {\n",
      "        Nil\n",
      "        }\n",
      "    }\n",
      "}\n",
      "pub fn main () { method0()\n",
      " }\n",
      ".fsx:\n",
      "type Mut0 = {mutable l0 : string}\n",
      "let rec method1 () : int32 =\n",
      "    3\n",
      "and method2 (v0 : int32) : int32 =\n",
      "    let v1 : int32 = 9 + v0\n",
      "    v1\n",
      "and method3 (v0 : bool) : bool =\n",
      "    v0\n",
      "and method4 () : string =\n",
      "    let v0 : string = \"\"\n",
      "    v0\n",
      "and closure0 (v0 : Mut0, v1 : string) () : unit =\n",
      "    let v2 : string = v0.l0\n",
      "    let v4 : string = v2 + v1 \n",
      "    v0.l0 <- v4\n",
      "    ()\n",
      "and closure1 (v0 : string) () : unit =\n",
      "    let v1 : (string -> unit) = System.Console.WriteLine\n",
      "    v1 v0\n",
      "and method0 () : unit =\n",
      "    let v0 : int32 = method1()\n",
      "    let v1 : int32 = method2(v0)\n",
      "    let v2 : int32 = v1 + 2\n",
      "    let v3 : int32 = v2 + 1\n",
      "    let v4 : bool = v3 = 15\n",
      "    let v6 : bool =\n",
      "        if v4 then\n",
      "            true\n",
      "        else\n",
      "            method3(v4)\n",
      "    let v7 : string = method4()\n",
      "    let v8 : Mut0 = {l0 = v7} : Mut0\n",
      "    let v11 : string = \"{ \"\n",
      "    let v12 : string = $\"{v11}\"\n",
      "    let v20 : unit = ()\n",
      "    let v21 : (unit -> unit) = closure0(v8, v12)\n",
      "    let v22 : unit = (fun () -> v21 (); v20) ()\n",
      "    let v30 : string = \"name\"\n",
      "    let v31 : string = $\"{v30}\"\n",
      "    let v39 : unit = ()\n",
      "    let v40 : (unit -> unit) = closure0(v8, v31)\n",
      "    let v41 : unit = (fun () -> v40 (); v39) ()\n",
      "    let v49 : string = \" = \"\n",
      "    let v50 : string = $\"{v49}\"\n",
      "    let v58 : unit = ()\n",
      "    let v59 : (unit -> unit) = closure0(v8, v50)\n",
      "    let v60 : unit = (fun () -> v59 (); v58) ()\n",
      "    let v68 : string = \"__assert_eq\"\n",
      "    let v69 : string = $\"{v68}\"\n",
      "    let v77 : unit = ()\n",
      "    let v78 : (unit -> unit) = closure0(v8, v69)\n",
      "    let v79 : unit = (fun () -> v78 (); v77) ()\n",
      "    let v87 : string = \"; \"\n",
      "    let v88 : string = $\"{v87}\"\n",
      "    let v96 : unit = ()\n",
      "    let v97 : (unit -> unit) = closure0(v8, v88)\n",
      "    let v98 : unit = (fun () -> v97 (); v96) ()\n",
      "    let v106 : string = \"actual\"\n",
      "    let v107 : string = $\"{v106}\"\n",
      "    let v115 : unit = ()\n",
      "    let v116 : (unit -> unit) = closure0(v8, v107)\n",
      "    let v117 : unit = (fun () -> v116 (); v115) ()\n",
      "    let v124 : string = $\"{v49}\"\n",
      "    let v132 : unit = ()\n",
      "    let v133 : (unit -> unit) = closure0(v8, v124)\n",
      "    let v134 : unit = (fun () -> v133 (); v132) ()\n",
      "    let v144 : string = $\"{v3}\"\n",
      "    let v152 : unit = ()\n",
      "    let v153 : (unit -> unit) = closure0(v8, v144)\n",
      "    let v154 : unit = (fun () -> v153 (); v152) ()\n",
      "    let v161 : string = $\"{v87}\"\n",
      "    let v169 : unit = ()\n",
      "    let v170 : (unit -> unit) = closure0(v8, v161)\n",
      "    let v171 : unit = (fun () -> v170 (); v169) ()\n",
      "    let v179 : string = \"expected\"\n",
      "    let v180 : string = $\"{v179}\"\n",
      "    let v188 : unit = ()\n",
      "    let v189 : (unit -> unit) = closure0(v8, v180)\n",
      "    let v190 : unit = (fun () -> v189 (); v188) ()\n",
      "    let v197 : string = $\"{v49}\"\n",
      "    let v205 : unit = ()\n",
      "    let v206 : (unit -> unit) = closure0(v8, v197)\n",
      "    let v207 : unit = (fun () -> v206 (); v205) ()\n",
      "    let v217 : string = $\"{15}\"\n",
      "    let v225 : unit = ()\n",
      "    let v226 : (unit -> unit) = closure0(v8, v217)\n",
      "    let v227 : unit = (fun () -> v226 (); v225) ()\n",
      "    let v235 : string = \" }\"\n",
      "    let v236 : string = $\"{v235}\"\n",
      "    let v244 : unit = ()\n",
      "    let v245 : (unit -> unit) = closure0(v8, v236)\n",
      "    let v246 : unit = (fun () -> v245 (); v244) ()\n",
      "    let v252 : string = v8.l0\n",
      "    let v254 : unit = ()\n",
      "    let v255 : (unit -> unit) = closure1(v252)\n",
      "    let v256 : unit = (fun () -> v255 (); v254) ()\n",
      "    let v258 : bool = v6 = false\n",
      "    if v258 then\n",
      "        failwith<unit> v252\n",
      "method0()\n",
      "\n",
      "\n",
      ".rs:\n",
      "#![allow(dead_code)]\n",
      "#![allow(non_camel_case_types)]\n",
      "#![allow(non_snake_case)]\n",
      "#![allow(non_upper_case_globals)]\n",
      "#![allow(unreachable_code)]\n",
      "#![allow(unused_attributes)]\n",
      "#![allow(unused_imports)]\n",
      "#![allow(unused_macros)]\n",
      "#![allow(unused_parens)]\n",
      "#![allow(unused_variables)]\n",
      "#![allow(unused_assignments)]\n",
      "mod module_6ff740fe {\n",
      "    pub mod Spiral {\n",
      "        use super::*;\n",
      "        use fable_library_rust::Native_::LrcPtr;\n",
      "        use fable_library_rust::Native_::MutCell;\n",
      "        use fable_library_rust::Native_::on_startup;\n",
      "        use fable_library_rust::String_::append;\n",
      "        use fable_library_rust::String_::printfn;\n",
      "        use fable_library_rust::String_::sprintf;\n",
      "        use fable_library_rust::String_::string;\n",
      "        #[derive(Clone, Debug, Hash, PartialEq, PartialOrd)]\n",
      "        pub struct Mut0 {\n",
      "            pub l0: MutCell<string>,\n",
      "        }\n",
      "        impl core::fmt::Display for Mut0 {\n",
      "            fn fmt(&self, f: &mut core::fmt::Formatter) -> core::fmt::Result {\n",
      "                write!(f, \"{}\", core::any::type_name::<Self>())\n",
      "            }\n",
      "        }\n",
      "        pub fn method1() -> i32 {\n",
      "            3_i32\n",
      "        }\n",
      "        pub fn method2(v0: i32) -> i32 {\n",
      "            9_i32 + (v0)\n",
      "        }\n",
      "        pub fn method3(v0: bool) -> bool {\n",
      "            v0\n",
      "        }\n",
      "        pub fn method4() -> string {\n",
      "            string(\"\")\n",
      "        }\n",
      "        pub fn closure0(v0: LrcPtr<Spiral::Mut0>, v1: string, unitVar: ()) {\n",
      "            let v4: string = append((v0.l0.get().clone()), (v1));\n",
      "            v0.l0.set(v4);\n",
      "            ()\n",
      "        }\n",
      "        pub fn closure1(v0: string, unitVar: ()) {\n",
      "            printfn!(\"{0}\", v0);\n",
      "        }\n",
      "        pub fn method0() {\n",
      "            let v3: i32 = ((Spiral::method2(Spiral::method1())) + 2_i32) + 1_i32;\n",
      "            let v4: bool = (v3) == 15_i32;\n",
      "            let v6: bool = if v4 { true } else { Spiral::method3(v4) };\n",
      "            let v8: LrcPtr<Spiral::Mut0> = LrcPtr::new(Spiral::Mut0 {\n",
      "                l0: MutCell::new(Spiral::method4()),\n",
      "            });\n",
      "            let v22: () = {\n",
      "                Spiral::closure0(v8.clone(), string(\"{ \"), ());\n",
      "                ()\n",
      "            };\n",
      "            let v41: () = {\n",
      "                Spiral::closure0(v8.clone(), string(\"name\"), ());\n",
      "                ()\n",
      "            };\n",
      "            let v60: () = {\n",
      "                Spiral::closure0(v8.clone(), string(\" = \"), ());\n",
      "                ()\n",
      "            };\n",
      "            let v79: () = {\n",
      "                Spiral::closure0(v8.clone(), string(\"__assert_eq\"), ());\n",
      "                ()\n",
      "            };\n",
      "            let v98: () = {\n",
      "                Spiral::closure0(v8.clone(), string(\"; \"), ());\n",
      "                ()\n",
      "            };\n",
      "            let v117: () = {\n",
      "                Spiral::closure0(v8.clone(), string(\"actual\"), ());\n",
      "                ()\n",
      "            };\n",
      "            let v134: () = {\n",
      "                Spiral::closure0(v8.clone(), string(\" = \"), ());\n",
      "                ()\n",
      "            };\n",
      "            let v154: () = {\n",
      "                Spiral::closure0(v8.clone(), sprintf!(\"{}\", v3), ());\n",
      "                ()\n",
      "            };\n",
      "            let v171: () = {\n",
      "                Spiral::closure0(v8.clone(), string(\"; \"), ());\n",
      "                ()\n",
      "            };\n",
      "            let v190: () = {\n",
      "                Spiral::closure0(v8.clone(), string(\"expected\"), ());\n",
      "                ()\n",
      "            };\n",
      "            let v207: () = {\n",
      "                Spiral::closure0(v8.clone(), string(\" = \"), ());\n",
      "                ()\n",
      "            };\n",
      "            let v227: () = {\n",
      "                Spiral::closure0(v8.clone(), sprintf!(\"{}\", 15_i32), ());\n",
      "                ()\n",
      "            };\n",
      "            let v246: () = {\n",
      "                Spiral::closure0(v8.clone(), string(\" }\"), ());\n",
      "                ()\n",
      "            };\n",
      "            let v252: string = v8.l0.get().clone();\n",
      "            let v256: () = {\n",
      "                Spiral::closure1(v252.clone(), ());\n",
      "                ()\n",
      "            };\n",
      "            if (v6) == false {\n",
      "                panic!(\"{}\", v252,);\n",
      "            }\n",
      "        }\n",
      "        // on_startup!(Spiral::method0());\n",
      "    }\n",
      "}\n",
      "pub use module_6ff740fe::*;\n",
      "\n",
      "\n",
      "\n",
      "pub fn main() -> Result<(), String> { Ok(Spiral::method0()) }\n",
      "\n",
      ".ts:\n",
      "import { Record } from \"./fable_modules/fable-library-ts.5.0.0-alpha.9/Types.js\";\n",
      "import { IComparable, IEquatable } from \"./fable_modules/fable-library-ts.5.0.0-alpha.9/Util.js\";\n",
      "import { record_type, string_type, TypeInfo } from \"./fable_modules/fable-library-ts.5.0.0-alpha.9/Reflection.js\";\n",
      "import { int32 } from \"./fable_modules/fable-library-ts.5.0.0-alpha.9/Int32.js\";\n",
      "\n",
      "export class Mut0 extends Record implements IEquatable<Mut0>, IComparable<Mut0> {\n",
      "    l0: string;\n",
      "    constructor(l0: string) {\n",
      "        super();\n",
      "        this.l0 = l0;\n",
      "    }\n",
      "}\n",
      "\n",
      "export function Mut0_$reflection(): TypeInfo {\n",
      "    return record_type(\"Spiral.Mut0\", [], Mut0, () => [[\"l0\", string_type]]);\n",
      "}\n",
      "\n",
      "export function method1(): int32 {\n",
      "    return 3;\n",
      "}\n",
      "\n",
      "export function method2(v0: int32): int32 {\n",
      "    return 9 + v0;\n",
      "}\n",
      "\n",
      "export function method3(v0: boolean): boolean {\n",
      "    return v0;\n",
      "}\n",
      "\n",
      "export function method4(): string {\n",
      "    return \"\";\n",
      "}\n",
      "\n",
      "export function closure0(v0: Mut0, v1: string, unitVar: void): void {\n",
      "    const v4: string = v0.l0 + v1;\n",
      "    v0.l0 = v4;\n",
      "}\n",
      "\n",
      "export function closure1(v0: string, unitVar: void): void {\n",
      "    console.log(v0);\n",
      "}\n",
      "\n",
      "export function method0(): void {\n",
      "    const v3: int32 = ((method2(method1()) + 2) + 1) | 0;\n",
      "    const v4: boolean = v3 === 15;\n",
      "    const v6: boolean = v4 ? true : method3(v4);\n",
      "    const v8: Mut0 = new Mut0(method4());\n",
      "    let v22: any;\n",
      "    closure0(v8, \"{ \", undefined);\n",
      "    v22 = undefined;\n",
      "    let v41: any;\n",
      "    closure0(v8, \"name\", undefined);\n",
      "    v41 = undefined;\n",
      "    let v60: any;\n",
      "    closure0(v8, \" = \", undefined);\n",
      "    v60 = undefined;\n",
      "    let v79: any;\n",
      "    closure0(v8, \"__assert_eq\", undefined);\n",
      "    v79 = undefined;\n",
      "    let v98: any;\n",
      "    closure0(v8, \"; \", undefined);\n",
      "    v98 = undefined;\n",
      "    let v117: any;\n",
      "    closure0(v8, \"actual\", undefined);\n",
      "    v117 = undefined;\n",
      "    let v134: any;\n",
      "    closure0(v8, \" = \", undefined);\n",
      "    v134 = undefined;\n",
      "    let v154: any;\n",
      "    closure0(v8, `${v3}`, undefined);\n",
      "    v154 = undefined;\n",
      "    let v171: any;\n",
      "    closure0(v8, \"; \", undefined);\n",
      "    v171 = undefined;\n",
      "    let v190: any;\n",
      "    closure0(v8, \"expected\", undefined);\n",
      "    v190 = undefined;\n",
      "    let v207: any;\n",
      "    closure0(v8, \" = \", undefined);\n",
      "    v207 = undefined;\n",
      "    let v227: any;\n",
      "    closure0(v8, `${15}`, undefined);\n",
      "    v227 = undefined;\n",
      "    let v246: any;\n",
      "    closure0(v8, \" }\", undefined);\n",
      "    v246 = undefined;\n",
      "    const v252: string = v8.l0;\n",
      "    let v256: any;\n",
      "    closure1(v252, undefined);\n",
      "    v256 = undefined;\n",
      "    if (v6 === false) {\n",
      "        throw new Error(v252);\n",
      "    }\n",
      "}\n",
      "\n",
      "method0();\n",
      "\n",
      "\n",
      ".py:\n",
      "from __future__ import annotations\n",
      "from dataclasses import dataclass\n",
      "from fable_modules.fable_library.reflection import (TypeInfo, string_type, record_type)\n",
      "from fable_modules.fable_library.types import Record\n",
      "\n",
      "def _expr0() -> TypeInfo:\n",
      "    return record_type(\"Spiral.Mut0\", [], Mut0, lambda: [(\"l0\", string_type)])\n",
      "\n",
      "\n",
      "@dataclass(eq = False, repr = False, slots = True)\n",
      "class Mut0(Record):\n",
      "    l0: str\n",
      "\n",
      "Mut0_reflection = _expr0\n",
      "\n",
      "def method1(__unit: None=None) -> int:\n",
      "    return 3\n",
      "\n",
      "\n",
      "def method2(v0: int) -> int:\n",
      "    return 9 + v0\n",
      "\n",
      "\n",
      "def method3(v0: bool) -> bool:\n",
      "    return v0\n",
      "\n",
      "\n",
      "def method4(__unit: None=None) -> str:\n",
      "    return \"\"\n",
      "\n",
      "\n",
      "def closure0(v0: Mut0, v1: str, unit_var: None) -> None:\n",
      "    v4: str = v0.l0 + v1\n",
      "    v0.l0 = v4\n",
      "\n",
      "\n",
      "def closure1(v0: str, unit_var: None) -> None:\n",
      "    print(v0)\n",
      "\n",
      "\n",
      "def method0(__unit: None=None) -> None:\n",
      "    v3: int = ((method2(method1()) + 2) + 1) or 0\n",
      "    v4: bool = v3 == 15\n",
      "    v6: bool = True if v4 else method3(v4)\n",
      "    v8: Mut0 = Mut0(method4())\n",
      "    v22: None\n",
      "    closure0(v8, \"{ \", None)\n",
      "    v22 = None\n",
      "    v41: None\n",
      "    closure0(v8, \"name\", None)\n",
      "    v41 = None\n",
      "    v60: None\n",
      "    closure0(v8, \" = \", None)\n",
      "    v60 = None\n",
      "    v79: None\n",
      "    closure0(v8, \"__assert_eq\", None)\n",
      "    v79 = None\n",
      "    v98: None\n",
      "    closure0(v8, \"; \", None)\n",
      "    v98 = None\n",
      "    v117: None\n",
      "    closure0(v8, \"actual\", None)\n",
      "    v117 = None\n",
      "    v134: None\n",
      "    closure0(v8, \" = \", None)\n",
      "    v134 = None\n",
      "    v154: None\n",
      "    closure0(v8, (\"\" + str(v3)) + \"\", None)\n",
      "    v154 = None\n",
      "    v171: None\n",
      "    closure0(v8, \"; \", None)\n",
      "    v171 = None\n",
      "    v190: None\n",
      "    closure0(v8, \"expected\", None)\n",
      "    v190 = None\n",
      "    v207: None\n",
      "    closure0(v8, \" = \", None)\n",
      "    v207 = None\n",
      "    v227: None\n",
      "    closure0(v8, (\"\" + str(15)) + \"\", None)\n",
      "    v227 = None\n",
      "    v246: None\n",
      "    closure0(v8, \" }\", None)\n",
      "    v246 = None\n",
      "    v252: str = v8.l0\n",
      "    v256: None\n",
      "    closure1(v252, None)\n",
      "    v256 = None\n",
      "    if v6 == False:\n",
      "        raise Exception(v252)\n",
      "\n",
      "\n",
      "\n",
      "method0()\n",
      "\n",
      "\n",
      ".py (Cuda):\n",
      "kernel = r\"\"\"\n",
      "\"\"\"\n",
      "class static_array():\n",
      "    def __init__(self, length):\n",
      "        self.ptr = []\n",
      "        for _ in range(length):\n",
      "            self.ptr.append(None)\n",
      "\n",
      "    def __getitem__(self, index):\n",
      "        assert 0 <= index < len(self.ptr), \"The get index needs to be in range.\"\n",
      "        return self.ptr[index]\n",
      "    \n",
      "    def __setitem__(self, index, value):\n",
      "        assert 0 <= index < len(self.ptr), \"The set index needs to be in range.\"\n",
      "        self.ptr[index] = value\n",
      "\n",
      "class static_array_list(static_array):\n",
      "    def __init__(self, length):\n",
      "        super().__init__(length)\n",
      "        self.length = 0\n",
      "\n",
      "    def __getitem__(self, index):\n",
      "        assert 0 <= index < self.length, \"The get index needs to be in range.\"\n",
      "        return self.ptr[index]\n",
      "    \n",
      "    def __setitem__(self, index, value):\n",
      "        assert 0 <= index < self.length, \"The set index needs to be in range.\"\n",
      "        self.ptr[index] = value\n",
      "\n",
      "    def push(self,value):\n",
      "        assert (self.length < len(self.ptr)), \"The length before pushing has to be less than the maximum length of the array.\"\n",
      "        self.ptr[self.length] = value\n",
      "        self.length += 1\n",
      "\n",
      "    def pop(self):\n",
      "        assert (0 < self.length), \"The length before popping has to be greater than 0.\"\n",
      "        self.length -= 1\n",
      "        return self.ptr[self.length]\n",
      "\n",
      "    def unsafe_set_length(self,i):\n",
      "        assert 0 <= i <= len(self.ptr), \"The new length has to be in range.\"\n",
      "        self.length = i\n",
      "\n",
      "class dynamic_array(static_array): \n",
      "    pass\n",
      "\n",
      "class dynamic_array_list(static_array_list):\n",
      "    def length_(self): return self.length\n",
      "\n",
      "import cupy as cp\n",
      "import numpy as np\n",
      "from dataclasses import dataclass\n",
      "from typing import NamedTuple, Union, Callable, Tuple\n",
      "i8 = int; i16 = int; i32 = int; i64 = int; u8 = int; u16 = int; u32 = int; u64 = int; f32 = float; f64 = float; char = str; string = str\n",
      "cuda = False\n",
      "\n",
      "@dataclass\n",
      "class Mut0:\n",
      "    v0 : string\n",
      "def method1() -> i32:\n",
      "    return 3\n",
      "def method2(v0 : i32) -> i32:\n",
      "    v1 = 9 + v0\n",
      "    del v0\n",
      "    return v1\n",
      "def method3(v0 : bool) -> bool:\n",
      "    return v0\n",
      "def method4() -> string:\n",
      "    v0 = \"\"\n",
      "    return v0\n",
      "def method0() -> None:\n",
      "    v0 = method1()\n",
      "    v1 = method2(v0)\n",
      "    del v0\n",
      "    v2 = v1 + 2\n",
      "    del v1\n",
      "    v3 = v2 + 1\n",
      "    del v2\n",
      "    v4 = v3 == 15\n",
      "    if v4:\n",
      "        v6 = True\n",
      "    else:\n",
      "        v6 = method3(v4)\n",
      "    del v4\n",
      "    v7 = method4()\n",
      "    v8 = Mut0(v7)\n",
      "    del v7\n",
      "    v13 = \"{ \"\n",
      "    v14 = f\"{v13}\"\n",
      "    del v13\n",
      "    v24 = v8.v0\n",
      "    v27 = v24 + v14 \n",
      "    del v14, v24\n",
      "    v8.v0 = v27\n",
      "    del v27\n",
      "    v33 = \"name\"\n",
      "    v34 = f\"{v33}\"\n",
      "    del v33\n",
      "    v44 = v8.v0\n",
      "    v47 = v44 + v34 \n",
      "    del v34, v44\n",
      "    v8.v0 = v47\n",
      "    del v47\n",
      "    v53 = \" = \"\n",
      "    v54 = f\"{v53}\"\n",
      "    v64 = v8.v0\n",
      "    v67 = v64 + v54 \n",
      "    del v54, v64\n",
      "    v8.v0 = v67\n",
      "    del v67\n",
      "    v73 = \"__assert_eq\"\n",
      "    v74 = f\"{v73}\"\n",
      "    del v73\n",
      "    v84 = v8.v0\n",
      "    v87 = v84 + v74 \n",
      "    del v74, v84\n",
      "    v8.v0 = v87\n",
      "    del v87\n",
      "    v93 = \"; \"\n",
      "    v94 = f\"{v93}\"\n",
      "    v104 = v8.v0\n",
      "    v107 = v104 + v94 \n",
      "    del v94, v104\n",
      "    v8.v0 = v107\n",
      "    del v107\n",
      "    v113 = \"actual\"\n",
      "    v114 = f\"{v113}\"\n",
      "    del v113\n",
      "    v124 = v8.v0\n",
      "    v127 = v124 + v114 \n",
      "    del v114, v124\n",
      "    v8.v0 = v127\n",
      "    del v127\n",
      "    v131 = f\"{v53}\"\n",
      "    v141 = v8.v0\n",
      "    v144 = v141 + v131 \n",
      "    del v131, v141\n",
      "    v8.v0 = v144\n",
      "    del v144\n",
      "    v151 = f\"{v3}\"\n",
      "    del v3\n",
      "    v161 = v8.v0\n",
      "    v164 = v161 + v151 \n",
      "    del v151, v161\n",
      "    v8.v0 = v164\n",
      "    del v164\n",
      "    v168 = f\"{v93}\"\n",
      "    del v93\n",
      "    v178 = v8.v0\n",
      "    v181 = v178 + v168 \n",
      "    del v168, v178\n",
      "    v8.v0 = v181\n",
      "    del v181\n",
      "    v187 = \"expected\"\n",
      "    v188 = f\"{v187}\"\n",
      "    del v187\n",
      "    v198 = v8.v0\n",
      "    v201 = v198 + v188 \n",
      "    del v188, v198\n",
      "    v8.v0 = v201\n",
      "    del v201\n",
      "    v205 = f\"{v53}\"\n",
      "    del v53\n",
      "    v215 = v8.v0\n",
      "    v218 = v215 + v205 \n",
      "    del v205, v215\n",
      "    v8.v0 = v218\n",
      "    del v218\n",
      "    v225 = f\"{15}\"\n",
      "    v235 = v8.v0\n",
      "    v238 = v235 + v225 \n",
      "    del v225, v235\n",
      "    v8.v0 = v238\n",
      "    del v238\n",
      "    v244 = \" }\"\n",
      "    v245 = f\"{v244}\"\n",
      "    del v244\n",
      "    v255 = v8.v0\n",
      "    v258 = v255 + v245 \n",
      "    del v245, v255\n",
      "    v8.v0 = v258\n",
      "    del v258\n",
      "    v260 = v8.v0\n",
      "    del v8\n",
      "    print(v260)\n",
      "    v266 = v6 == False\n",
      "    del v6\n",
      "    if v266:\n",
      "        del v266\n",
      "        raise Exception(v260)\n",
      "    else:\n",
      "        del v260, v266\n",
      "        return \n",
      "def main_body():\n",
      "    return method0()\n",
      "\n",
      "def main():\n",
      "    r = main_body()\n",
      "    if cuda: cp.cuda.get_current_stream().synchronize() # This line is here so the `__trap()` calls on the kernel aren't missed.\n",
      "    return r\n",
      "\n",
      "if __name__ == '__main__': result = main(); None if result is None else print(result)\n",
      "\n",
      ".fsx output:\n",
      "{ name = __assert_eq; actual = 15; expected = 15 }\n"
     ]
    }
   ],
   "source": [
    "//// test\n",
    "///! gleam\n",
    "///! fsharp\n",
    "///! cuda\n",
    "///! rust\n",
    "///! typescript\n",
    "///! python\n",
    "//// print_code\n",
    "\n",
    "[ 5i32; 4; join 3; 2; 1 ]\n",
    "|> fold_list (fun acc n => join_body_unit ((+) acc) n n) 0\n",
    "|> _assert_eq 15"
   ]
  },
  {
   "cell_type": "markdown",
   "metadata": {},
   "source": [
    "## arithmetic"
   ]
  },
  {
   "cell_type": "markdown",
   "metadata": {},
   "source": [
    "### (+.)"
   ]
  },
  {
   "cell_type": "code",
   "execution_count": null,
   "metadata": {
    "dotnet_interactive": {
     "language": "spiral"
    },
    "polyglot_notebook": {
     "kernelName": "spiral"
    }
   },
   "outputs": [],
   "source": [
    "inl (+.) forall t. (a : t) (b : t) : t =\n",
    "    $'!a + !b '"
   ]
  },
  {
   "cell_type": "code",
   "execution_count": null,
   "metadata": {
    "dotnet_interactive": {
     "language": "spiral"
    },
    "polyglot_notebook": {
     "kernelName": "spiral"
    }
   },
   "outputs": [
    {
     "data": {
      "text/plain": [
       ".py output (Cuda):\n",
       "{ name = __assert_eq; actual = -3; expected = -3 }\n",
       "\n",
       ".rs output:\n",
       "{ name = __assert_eq; actual = -3; expected = -3 }\n",
       "\n",
       ".ts output:\n",
       "{ name = __assert_eq; actual = -3; expected = -3 }\n",
       "\n",
       ".py output:\n",
       "{ name = __assert_eq; actual = -3; expected = -3 }\n",
       "\n",
       "\n",
       ".gleam output (Gleam):\n",
       "{compiling,\"/home/runner/work/spiral/polyglot/target/spiral_Eval/packages/d908121736db8185b417f51fb8ba8f33a2f197d438ae2ec7e226c0b4bc186aef/build/dev/erlang/main/_gleam_artefacts/main@@main.erl\"}\n",
       "{compiling,\"/home/runner/work/spiral/polyglot/target/spiral_Eval/packages/d908121736db8185b417f51fb8ba8f33a2f197d438ae2ec7e226c0b4bc186aef/build/dev/erlang/main/_gleam_artefacts/main.erl\"}\n",
       "{compiled,main,\n",
       "          \"/home/runner/work/spiral/polyglot/target/spiral_Eval/packages/d908121736db8185b417f51fb8ba8f33a2f197d438ae2ec7e226c0b4bc186aef/build/dev/erlang/main/ebin/main.beam\"}\n",
       "{compiled,main@@main,\n",
       "          \"/home/runner/work/spiral/polyglot/target/spiral_Eval/packages/d908121736db8185b417f51fb8ba8f33a2f197d438ae2ec7e226c0b4bc186aef/build/dev/erlang/main/ebin/main@@main.beam\"}\n",
       "{ name = __assert_eq; actual = -3; expected = -3 }\n",
       "\n",
       "\n"
      ]
     },
     "metadata": {},
     "output_type": "display_data"
    },
    {
     "name": "stdout",
     "output_type": "stream",
     "text": [
      ".fsx output:\n",
      "{ name = __assert_eq; actual = -3; expected = -3 }\n"
     ]
    }
   ],
   "source": [
    "//// test\n",
    "///! gleam\n",
    "///! fsharp\n",
    "///! cuda\n",
    "///! rust\n",
    "///! typescript\n",
    "///! python\n",
    "\n",
    "($'3' : i32) +. ($'-6' : i32)\n",
    "|> _assert_eq -3i32"
   ]
  },
  {
   "cell_type": "markdown",
   "metadata": {},
   "source": [
    "### (-.)"
   ]
  },
  {
   "cell_type": "code",
   "execution_count": null,
   "metadata": {
    "dotnet_interactive": {
     "language": "spiral"
    },
    "polyglot_notebook": {
     "kernelName": "spiral"
    }
   },
   "outputs": [],
   "source": [
    "inl (-.) forall t. (a : t) (b : t) : t =\n",
    "    $'!a - !b '"
   ]
  },
  {
   "cell_type": "code",
   "execution_count": null,
   "metadata": {
    "dotnet_interactive": {
     "language": "spiral"
    },
    "polyglot_notebook": {
     "kernelName": "spiral"
    }
   },
   "outputs": [
    {
     "data": {
      "text/plain": [
       ".py output (Cuda):\n",
       "{ name = __assert_eq; actual = -3; expected = -3 }\n",
       "\n",
       ".rs output:\n",
       "{ name = __assert_eq; actual = -3; expected = -3 }\n",
       "\n",
       ".ts output:\n",
       "{ name = __assert_eq; actual = -3; expected = -3 }\n",
       "\n",
       ".py output:\n",
       "{ name = __assert_eq; actual = -3; expected = -3 }\n",
       "\n",
       "\n",
       ".gleam output (Gleam):\n",
       "{compiling,\"/home/runner/work/spiral/polyglot/target/spiral_Eval/packages/45671dd6ca6a4fa36db5c3b251c00e3494dc50d804e80a118fb57c0a4d919a9c/build/dev/erlang/main/_gleam_artefacts/main.erl\"}\n",
       "{compiling,\"/home/runner/work/spiral/polyglot/target/spiral_Eval/packages/45671dd6ca6a4fa36db5c3b251c00e3494dc50d804e80a118fb57c0a4d919a9c/build/dev/erlang/main/_gleam_artefacts/main@@main.erl\"}\n",
       "{compiled,main,\n",
       "          \"/home/runner/work/spiral/polyglot/target/spiral_Eval/packages/45671dd6ca6a4fa36db5c3b251c00e3494dc50d804e80a118fb57c0a4d919a9c/build/dev/erlang/main/ebin/main.beam\"}\n",
       "{compiled,main@@main,\n",
       "          \"/home/runner/work/spiral/polyglot/target/spiral_Eval/packages/45671dd6ca6a4fa36db5c3b251c00e3494dc50d804e80a118fb57c0a4d919a9c/build/dev/erlang/main/ebin/main@@main.beam\"}\n",
       "{ name = __assert_eq; actual = -3; expected = -3 }\n",
       "\n",
       "\n"
      ]
     },
     "metadata": {},
     "output_type": "display_data"
    },
    {
     "name": "stdout",
     "output_type": "stream",
     "text": [
      ".fsx output:\n",
      "{ name = __assert_eq; actual = -3; expected = -3 }\n"
     ]
    }
   ],
   "source": [
    "//// test\n",
    "///! gleam\n",
    "///! fsharp\n",
    "///! cuda\n",
    "///! rust\n",
    "///! typescript\n",
    "///! python\n",
    "\n",
    "($'3' : i32) -. ($'6' : i32)\n",
    "|> _assert_eq -3i32"
   ]
  },
  {
   "cell_type": "markdown",
   "metadata": {},
   "source": [
    "### (*.)"
   ]
  },
  {
   "cell_type": "code",
   "execution_count": null,
   "metadata": {
    "dotnet_interactive": {
     "language": "spiral"
    },
    "polyglot_notebook": {
     "kernelName": "spiral"
    }
   },
   "outputs": [],
   "source": [
    "inl (*.) forall t. (a : t) (b : t) : t =\n",
    "    $'!a * !b '"
   ]
  },
  {
   "cell_type": "code",
   "execution_count": null,
   "metadata": {
    "dotnet_interactive": {
     "language": "spiral"
    },
    "polyglot_notebook": {
     "kernelName": "spiral"
    }
   },
   "outputs": [
    {
     "data": {
      "text/plain": [
       ".py output (Cuda):\n",
       "{ name = __assert_eq; actual = -3; expected = -3 }\n",
       "\n",
       ".rs output:\n",
       "{ name = __assert_eq; actual = -3; expected = -3 }\n",
       "\n",
       ".ts output:\n",
       "{ name = __assert_eq; actual = -3; expected = -3 }\n",
       "\n",
       ".py output:\n",
       "{ name = __assert_eq; actual = -3; expected = -3 }\n",
       "\n",
       "\n",
       ".gleam output (Gleam):\n",
       "{compiling,\"/home/runner/work/spiral/polyglot/target/spiral_Eval/packages/af85b43f14e5467a4c1717517bce1698d060cd3341d00d66045f6f5754d2b32a/build/dev/erlang/main/_gleam_artefacts/main.erl\"}\n",
       "{compiling,\"/home/runner/work/spiral/polyglot/target/spiral_Eval/packages/af85b43f14e5467a4c1717517bce1698d060cd3341d00d66045f6f5754d2b32a/build/dev/erlang/main/_gleam_artefacts/main@@main.erl\"}\n",
       "{compiled,main,\n",
       "          \"/home/runner/work/spiral/polyglot/target/spiral_Eval/packages/af85b43f14e5467a4c1717517bce1698d060cd3341d00d66045f6f5754d2b32a/build/dev/erlang/main/ebin/main.beam\"}\n",
       "{compiled,main@@main,\n",
       "          \"/home/runner/work/spiral/polyglot/target/spiral_Eval/packages/af85b43f14e5467a4c1717517bce1698d060cd3341d00d66045f6f5754d2b32a/build/dev/erlang/main/ebin/main@@main.beam\"}\n",
       "{ name = __assert_eq; actual = -3; expected = -3 }\n",
       "\n",
       "\n"
      ]
     },
     "metadata": {},
     "output_type": "display_data"
    },
    {
     "name": "stdout",
     "output_type": "stream",
     "text": [
      ".fsx output:\n",
      "{ name = __assert_eq; actual = -3; expected = -3 }\n"
     ]
    }
   ],
   "source": [
    "//// test\n",
    "///! gleam\n",
    "///! fsharp\n",
    "///! cuda\n",
    "///! rust\n",
    "///! typescript\n",
    "///! python\n",
    "\n",
    "($'3' : i32) *. ($'-1' : i32)\n",
    "|> _assert_eq -3i32"
   ]
  },
  {
   "cell_type": "markdown",
   "metadata": {},
   "source": [
    "### (/.)"
   ]
  },
  {
   "cell_type": "code",
   "execution_count": null,
   "metadata": {
    "dotnet_interactive": {
     "language": "spiral"
    },
    "polyglot_notebook": {
     "kernelName": "spiral"
    }
   },
   "outputs": [],
   "source": [
    "inl (/.) forall t. (a : t) (b : t) : t =\n",
    "    $'!a / !b '"
   ]
  },
  {
   "cell_type": "code",
   "execution_count": null,
   "metadata": {
    "dotnet_interactive": {
     "language": "spiral"
    },
    "polyglot_notebook": {
     "kernelName": "spiral"
    }
   },
   "outputs": [
    {
     "data": {
      "text/plain": [
       ".py output (Cuda):\n",
       "{ name = __assert_eq; actual = -3.0; expected = -3 }\n",
       "\n",
       ".rs output:\n",
       "{ name = __assert_eq; actual = -3; expected = -3 }\n",
       "\n",
       ".ts output:\n",
       "{ name = __assert_eq; actual = -3; expected = -3 }\n",
       "\n",
       ".py output:\n",
       "{ name = __assert_eq; actual = -3; expected = -3 }\n",
       "\n",
       "\n",
       ".gleam output (Gleam):\n",
       "{compiling,\"/home/runner/work/spiral/polyglot/target/spiral_Eval/packages/e34f1553ce0c2f0059e68fa421bb11c2b157d7d70d7ce35da1390265a52ad7b3/build/dev/erlang/main/_gleam_artefacts/main@@main.erl\"}\n",
       "{compiling,\"/home/runner/work/spiral/polyglot/target/spiral_Eval/packages/e34f1553ce0c2f0059e68fa421bb11c2b157d7d70d7ce35da1390265a52ad7b3/build/dev/erlang/main/_gleam_artefacts/main.erl\"}\n",
       "{compiled,main,\n",
       "          \"/home/runner/work/spiral/polyglot/target/spiral_Eval/packages/e34f1553ce0c2f0059e68fa421bb11c2b157d7d70d7ce35da1390265a52ad7b3/build/dev/erlang/main/ebin/main.beam\"}\n",
       "{compiled,main@@main,\n",
       "          \"/home/runner/work/spiral/polyglot/target/spiral_Eval/packages/e34f1553ce0c2f0059e68fa421bb11c2b157d7d70d7ce35da1390265a52ad7b3/build/dev/erlang/main/ebin/main@@main.beam\"}\n",
       "{ name = __assert_eq; actual = -3; expected = -3 }\n",
       "\n",
       "\n"
      ]
     },
     "metadata": {},
     "output_type": "display_data"
    },
    {
     "name": "stdout",
     "output_type": "stream",
     "text": [
      ".fsx output:\n",
      "{ name = __assert_eq; actual = -3; expected = -3 }\n"
     ]
    }
   ],
   "source": [
    "//// test\n",
    "///! gleam\n",
    "///! fsharp\n",
    "///! cuda\n",
    "///! rust\n",
    "///! typescript\n",
    "///! python\n",
    "\n",
    "($'-3' : i32) /. ($'1' : i32)\n",
    "|> _assert_eq -3i32"
   ]
  },
  {
   "cell_type": "markdown",
   "metadata": {},
   "source": [
    "## comparison"
   ]
  },
  {
   "cell_type": "markdown",
   "metadata": {},
   "source": [
    "### (=.)"
   ]
  },
  {
   "cell_type": "code",
   "execution_count": null,
   "metadata": {
    "dotnet_interactive": {
     "language": "spiral"
    },
    "polyglot_notebook": {
     "kernelName": "spiral"
    }
   },
   "outputs": [],
   "source": [
    "inl (=.) forall t. (a : t) (b : t) : bool =\n",
    "    backend_switch {\n",
    "        Gleam = fun () => $'!a == !b ' : bool\n",
    "        Fsharp = fun () => $'!a = !b ' : bool\n",
    "        Python = fun () => $'!a == !b ' : bool\n",
    "    }"
   ]
  },
  {
   "cell_type": "code",
   "execution_count": null,
   "metadata": {
    "dotnet_interactive": {
     "language": "spiral"
    },
    "polyglot_notebook": {
     "kernelName": "spiral"
    }
   },
   "outputs": [
    {
     "data": {
      "text/plain": [
       ".py output (Cuda):\n",
       "{ name = __assert_eq; actual = true; expected = true }\n",
       "\n",
       ".rs output:\n",
       "{ name = __assert_eq; actual = true; expected = true }\n",
       "\n",
       ".ts output:\n",
       "{ name = __assert_eq; actual = true; expected = true }\n",
       "\n",
       ".py output:\n",
       "{ name = __assert_eq; actual = true; expected = true }\n",
       "\n",
       "\n",
       ".gleam output (Gleam):\n",
       "{compiling,\"/home/runner/work/spiral/polyglot/target/spiral_Eval/packages/dbceb73f27d9d102121f3da8a38685d99481aa2dd6a2e47c353f6294929b44d6/build/dev/erlang/main/_gleam_artefacts/main.erl\"}\n",
       "{compiling,\"/home/runner/work/spiral/polyglot/target/spiral_Eval/packages/dbceb73f27d9d102121f3da8a38685d99481aa2dd6a2e47c353f6294929b44d6/build/dev/erlang/main/_gleam_artefacts/main@@main.erl\"}\n",
       "{compiled,main,\n",
       "          \"/home/runner/work/spiral/polyglot/target/spiral_Eval/packages/dbceb73f27d9d102121f3da8a38685d99481aa2dd6a2e47c353f6294929b44d6/build/dev/erlang/main/ebin/main.beam\"}\n",
       "{compiled,main@@main,\n",
       "          \"/home/runner/work/spiral/polyglot/target/spiral_Eval/packages/dbceb73f27d9d102121f3da8a38685d99481aa2dd6a2e47c353f6294929b44d6/build/dev/erlang/main/ebin/main@@main.beam\"}\n",
       "{ name = __assert_eq; actual = true; expected = true }\n",
       "\n",
       "\n"
      ]
     },
     "metadata": {},
     "output_type": "display_data"
    },
    {
     "name": "stdout",
     "output_type": "stream",
     "text": [
      ".fsx output:\n",
      "{ name = __assert_eq; actual = true; expected = true }\n"
     ]
    }
   ],
   "source": [
    "//// test\n",
    "///! gleam\n",
    "///! fsharp\n",
    "///! cuda\n",
    "///! rust\n",
    "///! typescript\n",
    "///! python\n",
    "\n",
    "($'-3' : i32) =. ($'-3' : i32)\n",
    "|> _assert_eq true"
   ]
  },
  {
   "cell_type": "markdown",
   "metadata": {},
   "source": [
    "### (<>.)"
   ]
  },
  {
   "cell_type": "code",
   "execution_count": null,
   "metadata": {
    "dotnet_interactive": {
     "language": "spiral"
    },
    "polyglot_notebook": {
     "kernelName": "spiral"
    }
   },
   "outputs": [],
   "source": [
    "inl (<>.) forall t. (a : t) (b : t) : bool =\n",
    "    backend_switch {\n",
    "        Gleam = fun () => $'!a \\!= !b ' : bool\n",
    "        Fsharp = fun () => $'!a <> !b ' : bool\n",
    "        Python = fun () => $'!a \\!= !b ' : bool\n",
    "    }"
   ]
  },
  {
   "cell_type": "code",
   "execution_count": null,
   "metadata": {
    "dotnet_interactive": {
     "language": "spiral"
    },
    "polyglot_notebook": {
     "kernelName": "spiral"
    }
   },
   "outputs": [
    {
     "data": {
      "text/plain": [
       ".py output (Cuda):\n",
       "{ name = __assert_eq; actual = true; expected = true }\n",
       "\n",
       ".rs output:\n",
       "{ name = __assert_eq; actual = true; expected = true }\n",
       "\n",
       ".ts output:\n",
       "{ name = __assert_eq; actual = true; expected = true }\n",
       "\n",
       ".py output:\n",
       "{ name = __assert_eq; actual = true; expected = true }\n",
       "\n",
       "\n",
       ".gleam output (Gleam):\n",
       "{compiling,\"/home/runner/work/spiral/polyglot/target/spiral_Eval/packages/2f1e25b6a226ba30cdd50f836867c2a2fa5d10fb5fc802f132fe072d91b96d08/build/dev/erlang/main/_gleam_artefacts/main@@main.erl\"}\n",
       "{compiling,\"/home/runner/work/spiral/polyglot/target/spiral_Eval/packages/2f1e25b6a226ba30cdd50f836867c2a2fa5d10fb5fc802f132fe072d91b96d08/build/dev/erlang/main/_gleam_artefacts/main.erl\"}\n",
       "{compiled,main,\n",
       "          \"/home/runner/work/spiral/polyglot/target/spiral_Eval/packages/2f1e25b6a226ba30cdd50f836867c2a2fa5d10fb5fc802f132fe072d91b96d08/build/dev/erlang/main/ebin/main.beam\"}\n",
       "{compiled,main@@main,\n",
       "          \"/home/runner/work/spiral/polyglot/target/spiral_Eval/packages/2f1e25b6a226ba30cdd50f836867c2a2fa5d10fb5fc802f132fe072d91b96d08/build/dev/erlang/main/ebin/main@@main.beam\"}\n",
       "{ name = __assert_eq; actual = true; expected = true }\n",
       "\n",
       "\n"
      ]
     },
     "metadata": {},
     "output_type": "display_data"
    },
    {
     "name": "stdout",
     "output_type": "stream",
     "text": [
      ".fsx output:\n",
      "{ name = __assert_eq; actual = true; expected = true }\n"
     ]
    }
   ],
   "source": [
    "//// test\n",
    "///! gleam\n",
    "///! fsharp\n",
    "///! cuda\n",
    "///! rust\n",
    "///! typescript\n",
    "///! python\n",
    "\n",
    "($'-3' : i32) <>. ($'3' : i32)\n",
    "|> _assert_eq true"
   ]
  },
  {
   "cell_type": "markdown",
   "metadata": {},
   "source": [
    "### (<>..)"
   ]
  },
  {
   "cell_type": "code",
   "execution_count": null,
   "metadata": {
    "dotnet_interactive": {
     "language": "spiral"
    },
    "polyglot_notebook": {
     "kernelName": "spiral"
    }
   },
   "outputs": [],
   "source": [
    "inl (<>..) a b =\n",
    "    fun () => a = b\n",
    "    |> dyn\n",
    "    |> eval\n",
    "    |> not"
   ]
  },
  {
   "cell_type": "code",
   "execution_count": null,
   "metadata": {
    "dotnet_interactive": {
     "language": "spiral"
    },
    "polyglot_notebook": {
     "kernelName": "spiral"
    }
   },
   "outputs": [
    {
     "data": {
      "text/plain": [
       ".py output (Cuda):\n",
       "{ name = __assert_eq; actual = true; expected = true }\n",
       "\n",
       ".rs output:\n",
       "{ name = __assert_eq; actual = true; expected = true }\n",
       "\n",
       ".ts output:\n",
       "{ name = __assert_eq; actual = true; expected = true }\n",
       "\n",
       ".py output:\n",
       "{ name = __assert_eq; actual = true; expected = true }\n",
       "\n",
       "\n",
       ".gleam output (Gleam):\n",
       "{compiling,\"/home/runner/work/spiral/polyglot/target/spiral_Eval/packages/517ddade570455c6ac9a26ebe85ec76c3b538cf6d5af1b7e75dd0b8639361d61/build/dev/erlang/main/_gleam_artefacts/main.erl\"}\n",
       "{compiling,\"/home/runner/work/spiral/polyglot/target/spiral_Eval/packages/517ddade570455c6ac9a26ebe85ec76c3b538cf6d5af1b7e75dd0b8639361d61/build/dev/erlang/main/_gleam_artefacts/main@@main.erl\"}\n",
       "{compiled,main,\n",
       "          \"/home/runner/work/spiral/polyglot/target/spiral_Eval/packages/517ddade570455c6ac9a26ebe85ec76c3b538cf6d5af1b7e75dd0b8639361d61/build/dev/erlang/main/ebin/main.beam\"}\n",
       "{compiled,main@@main,\n",
       "          \"/home/runner/work/spiral/polyglot/target/spiral_Eval/packages/517ddade570455c6ac9a26ebe85ec76c3b538cf6d5af1b7e75dd0b8639361d61/build/dev/erlang/main/ebin/main@@main.beam\"}\n",
       "{ name = __assert_eq; actual = true; expected = true }\n",
       "\n",
       "\n"
      ]
     },
     "metadata": {},
     "output_type": "display_data"
    },
    {
     "name": "stdout",
     "output_type": "stream",
     "text": [
      ".fsx output:\n",
      "{ name = __assert_eq; actual = true; expected = true }\n"
     ]
    }
   ],
   "source": [
    "//// test\n",
    "///! gleam\n",
    "///! fsharp\n",
    "///! cuda\n",
    "///! rust\n",
    "///! typescript\n",
    "///! python\n",
    "\n",
    "($'-3' : i32) <>.. ($'3' : i32)\n",
    "|> _assert_eq true"
   ]
  },
  {
   "cell_type": "markdown",
   "metadata": {},
   "source": [
    "## composition"
   ]
  },
  {
   "cell_type": "markdown",
   "metadata": {},
   "source": [
    "### append"
   ]
  },
  {
   "cell_type": "code",
   "execution_count": null,
   "metadata": {
    "dotnet_interactive": {
     "language": "spiral"
    },
    "polyglot_notebook": {
     "kernelName": "spiral"
    }
   },
   "outputs": [],
   "source": [
    "prototype append t : t -> t -> t"
   ]
  },
  {
   "cell_type": "markdown",
   "metadata": {},
   "source": [
    "### (++)"
   ]
  },
  {
   "cell_type": "code",
   "execution_count": null,
   "metadata": {
    "dotnet_interactive": {
     "language": "spiral"
    },
    "polyglot_notebook": {
     "kernelName": "spiral"
    }
   },
   "outputs": [],
   "source": [
    "inl (++) a b =\n",
    "    b |> append a"
   ]
  },
  {
   "cell_type": "markdown",
   "metadata": {},
   "source": [
    "## pair"
   ]
  },
  {
   "cell_type": "markdown",
   "metadata": {},
   "source": [
    "### pair"
   ]
  },
  {
   "cell_type": "code",
   "execution_count": null,
   "metadata": {
    "dotnet_interactive": {
     "language": "spiral"
    },
    "polyglot_notebook": {
     "kernelName": "spiral"
    }
   },
   "outputs": [],
   "source": [
    "type pair_switch a b =\n",
    "    {\n",
    "        Gleam : $'#(`a, `b  )'\n",
    "        Fsharp : $'(`a * `b)'\n",
    "        Python : $'(`a, `b)'\n",
    "    }\n",
    "nominal pair a b = $'backend_switch `(pair_switch a b)'\n",
    "\n",
    "inl pair x y =\n",
    "    x, y"
   ]
  },
  {
   "cell_type": "code",
   "execution_count": null,
   "metadata": {
    "dotnet_interactive": {
     "language": "spiral"
    },
    "polyglot_notebook": {
     "kernelName": "spiral"
    }
   },
   "outputs": [
    {
     "data": {
      "text/plain": [
       ".py output (Cuda):\n",
       "{ name = __assert_eq; actual = 1, 2; expected = 1, 2 }\n",
       "\n",
       ".rs output:\n",
       "{ name = __assert_eq; actual = 1, 2; expected = 1, 2 }\n",
       "\n",
       ".ts output:\n",
       "{ name = __assert_eq; actual = 1, 2; expected = 1, 2 }\n",
       "\n",
       ".py output:\n",
       "{ name = __assert_eq; actual = 1, 2; expected = 1, 2 }\n",
       "\n",
       "\n",
       ".gleam output (Gleam):\n",
       "{compiling,\"/home/runner/work/spiral/polyglot/target/spiral_Eval/packages/c4c89048deb1fc4c42dc39188f2fa54575f3058540b197365f789c18d2a93408/build/dev/erlang/main/_gleam_artefacts/main.erl\"}\n",
       "{compiling,\"/home/runner/work/spiral/polyglot/target/spiral_Eval/packages/c4c89048deb1fc4c42dc39188f2fa54575f3058540b197365f789c18d2a93408/build/dev/erlang/main/_gleam_artefacts/main@@main.erl\"}\n",
       "{compiled,main,\n",
       "          \"/home/runner/work/spiral/polyglot/target/spiral_Eval/packages/c4c89048deb1fc4c42dc39188f2fa54575f3058540b197365f789c18d2a93408/build/dev/erlang/main/ebin/main.beam\"}\n",
       "{compiled,main@@main,\n",
       "          \"/home/runner/work/spiral/polyglot/target/spiral_Eval/packages/c4c89048deb1fc4c42dc39188f2fa54575f3058540b197365f789c18d2a93408/build/dev/erlang/main/ebin/main@@main.beam\"}\n",
       "{ name = __assert_eq; actual = 1, 2; expected = 1, 2 }\n",
       "\n",
       "\n"
      ]
     },
     "metadata": {},
     "output_type": "display_data"
    },
    {
     "name": "stdout",
     "output_type": "stream",
     "text": [
      ".fsx output:\n",
      "{ name = __assert_eq; actual = 1, 2; expected = 1, 2 }\n"
     ]
    }
   ],
   "source": [
    "//// test\n",
    "///! gleam\n",
    "///! fsharp\n",
    "///! cuda\n",
    "///! rust\n",
    "///! typescript\n",
    "///! python\n",
    "\n",
    "pair 1i32 2i32\n",
    "|> _assert_eq (1, 2)"
   ]
  },
  {
   "cell_type": "markdown",
   "metadata": {},
   "source": [
    "### new_pair"
   ]
  },
  {
   "cell_type": "code",
   "execution_count": null,
   "metadata": {
    "dotnet_interactive": {
     "language": "spiral"
    },
    "polyglot_notebook": {
     "kernelName": "spiral"
    }
   },
   "outputs": [],
   "source": [
    "inl new_pair forall a b. (a : a) (b : b) : pair a b =\n",
    "    backend_switch {\n",
    "        Gleam = fun () =>\n",
    "            $'#(!a, !b )' : pair a b\n",
    "        Fsharp = fun () =>\n",
    "            $'!a, !b ' : pair a b\n",
    "        Python = fun () =>\n",
    "            $'!a, !b ' : pair a b\n",
    "    }"
   ]
  },
  {
   "cell_type": "markdown",
   "metadata": {},
   "source": [
    "### from_pair"
   ]
  },
  {
   "cell_type": "code",
   "execution_count": null,
   "metadata": {
    "dotnet_interactive": {
     "language": "spiral"
    },
    "polyglot_notebook": {
     "kernelName": "spiral"
    }
   },
   "outputs": [],
   "source": [
    "inl from_pair forall a b. (pair : pair a b) : a * b =\n",
    "    backend_switch {\n",
    "        Gleam = fun () =>\n",
    "            $'let #(a, b) = !pair '\n",
    "            ($'a' : a), ($'b' : b)\n",
    "        Fsharp = fun () =>\n",
    "            $'let (a, b) = !pair '\n",
    "            ($'a' : a), ($'b' : b)\n",
    "        Python = fun () =>\n",
    "            $'a, b = !pair '\n",
    "            ($'a' : a), ($'b' : b)\n",
    "    }"
   ]
  },
  {
   "cell_type": "code",
   "execution_count": null,
   "metadata": {
    "dotnet_interactive": {
     "language": "spiral"
    },
    "polyglot_notebook": {
     "kernelName": "spiral"
    }
   },
   "outputs": [
    {
     "data": {
      "text/plain": [
       ".py output (Cuda):\n",
       "{ name = __assert_eq'; actual = a, (1, 'b'); expected = a, (1, 'b') }\n",
       "\n",
       "\n",
       ".rs output:\n",
       "{ name = __assert_eq'; actual = a, (\n",
       "    1,\n",
       "    \"b\",\n",
       "); expected = a, (\n",
       "    1,\n",
       "    \"b\",\n",
       ") }\n",
       "\n",
       ".ts output:\n",
       "{ name = __assert_eq'; actual = a, 1,b; expected = a, 1,b }\n",
       "\n",
       ".py output:\n",
       "{ name = __assert_eq'; actual = a, (1, 'b'); expected = a, (1, 'b') }\n",
       "\n",
       "\n",
       ".gleam output (Gleam):\n",
       "{compiling,\"/home/runner/work/spiral/polyglot/target/spiral_Eval/packages/ba82fd8a87ed6339e1edec9f483783d9f7506951fb692d54344b28a46768ea9b/build/dev/erlang/main/_gleam_artefacts/main@@main.erl\"}\n",
       "{compiling,\"/home/runner/work/spiral/polyglot/target/spiral_Eval/packages/ba82fd8a87ed6339e1edec9f483783d9f7506951fb692d54344b28a46768ea9b/build/dev/erlang/main/_gleam_artefacts/main.erl\"}\n",
       "{compiled,main,\n",
       "          \"/home/runner/work/spiral/polyglot/target/spiral_Eval/packages/ba82fd8a87ed6339e1edec9f483783d9f7506951fb692d54344b28a46768ea9b/build/dev/erlang/main/ebin/main.beam\"}\n",
       "{compiled,main@@main,\n",
       "          \"/home/runner/work/spiral/polyglot/target/spiral_Eval/packages/ba82fd8a87ed6339e1edec9f483783d9f7506951fb692d54344b28a46768ea9b/build/dev/erlang/main/ebin/main@@main.beam\"}\n",
       "{ name = __assert_eq'; actual = a, #(1, \"b\"); expected = a, #(1, \"b\") }\n",
       "\n",
       "\n"
      ]
     },
     "metadata": {},
     "output_type": "display_data"
    },
    {
     "name": "stdout",
     "output_type": "stream",
     "text": [
      ".fsx output:\n",
      "{ name = __assert_eq'; actual = a, (1, \"b\"); expected = a, (1, \"b\") }\n"
     ]
    }
   ],
   "source": [
    "//// test\n",
    "///! gleam\n",
    "///! fsharp\n",
    "///! cuda\n",
    "///! rust\n",
    "///! typescript\n",
    "///! python\n",
    "\n",
    "new_pair \"a\" (new_pair 1i32 \"b\")\n",
    "|> from_pair\n",
    "|> _assert_eq' (\"a\", (new_pair 1i32 \"b\"))"
   ]
  },
  {
   "cell_type": "markdown",
   "metadata": {},
   "source": [
    "## application"
   ]
  },
  {
   "cell_type": "markdown",
   "metadata": {},
   "source": [
    "### (||>)"
   ]
  },
  {
   "cell_type": "code",
   "execution_count": null,
   "metadata": {
    "dotnet_interactive": {
     "language": "spiral"
    },
    "polyglot_notebook": {
     "kernelName": "spiral"
    }
   },
   "outputs": [],
   "source": [
    "inl (||>) (arg1, arg2) fn =\n",
    "    arg2 |> fn arg1"
   ]
  },
  {
   "cell_type": "markdown",
   "metadata": {},
   "source": [
    "### (||>)"
   ]
  },
  {
   "cell_type": "code",
   "execution_count": null,
   "metadata": {
    "dotnet_interactive": {
     "language": "spiral"
    },
    "polyglot_notebook": {
     "kernelName": "spiral"
    }
   },
   "outputs": [
    {
     "data": {
      "text/plain": [
       ".py output (Cuda):\n",
       "{ name = __assert_eq; actual = 1; expected = 1 }\n",
       "\n",
       ".rs output:\n",
       "{ name = __assert_eq; actual = 1; expected = 1 }\n",
       "\n",
       ".ts output:\n",
       "{ name = __assert_eq; actual = 1; expected = 1 }\n",
       "\n",
       ".py output:\n",
       "{ name = __assert_eq; actual = 1; expected = 1 }\n",
       "\n",
       "\n",
       ".gleam output (Gleam):\n",
       "{compiling,\"/home/runner/work/spiral/polyglot/target/spiral_Eval/packages/92954beb119d3d59dab8cb6ece0559e3031699cab19fc9a7037b718b8863a933/build/dev/erlang/main/_gleam_artefacts/main.erl\"}\n",
       "{compiling,\"/home/runner/work/spiral/polyglot/target/spiral_Eval/packages/92954beb119d3d59dab8cb6ece0559e3031699cab19fc9a7037b718b8863a933/build/dev/erlang/main/_gleam_artefacts/main@@main.erl\"}\n",
       "{compiled,main,\n",
       "          \"/home/runner/work/spiral/polyglot/target/spiral_Eval/packages/92954beb119d3d59dab8cb6ece0559e3031699cab19fc9a7037b718b8863a933/build/dev/erlang/main/ebin/main.beam\"}\n",
       "{compiled,main@@main,\n",
       "          \"/home/runner/work/spiral/polyglot/target/spiral_Eval/packages/92954beb119d3d59dab8cb6ece0559e3031699cab19fc9a7037b718b8863a933/build/dev/erlang/main/ebin/main@@main.beam\"}\n",
       "{ name = __assert_eq; actual = 1; expected = 1 }\n",
       "\n",
       "\n"
      ]
     },
     "metadata": {},
     "output_type": "display_data"
    },
    {
     "name": "stdout",
     "output_type": "stream",
     "text": [
      ".fsx output:\n",
      "{ name = __assert_eq; actual = 1; expected = 1 }\n"
     ]
    }
   ],
   "source": [
    "//// test\n",
    "///! gleam\n",
    "///! fsharp\n",
    "///! cuda\n",
    "///! rust\n",
    "///! typescript\n",
    "///! python\n",
    "\n",
    "(3i32, 2i32)\n",
    "||> fun a b => a - b\n",
    "|> _assert_eq 1"
   ]
  },
  {
   "cell_type": "code",
   "execution_count": null,
   "metadata": {
    "dotnet_interactive": {
     "language": "spiral"
    },
    "polyglot_notebook": {
     "kernelName": "spiral"
    }
   },
   "outputs": [
    {
     "data": {
      "text/plain": [
       ".py output (Cuda):\n",
       "{ name = __assert_eq; actual = 2, 1; expected = 2, 1 }\n",
       "\n",
       ".rs output:\n",
       "{ name = __assert_eq; actual = 2, 1; expected = 2, 1 }\n",
       "\n",
       ".ts output:\n",
       "{ name = __assert_eq; actual = 2, 1; expected = 2, 1 }\n",
       "\n",
       ".py output:\n",
       "{ name = __assert_eq; actual = 2, 1; expected = 2, 1 }\n",
       "\n",
       "\n",
       ".gleam output (Gleam):\n",
       "{compiling,\"/home/runner/work/spiral/polyglot/target/spiral_Eval/packages/77281a63dfe2705cfe796673c0a6f2e999e8b25acc07250f61f38e51595391d6/build/dev/erlang/main/_gleam_artefacts/main@@main.erl\"}\n",
       "{compiling,\"/home/runner/work/spiral/polyglot/target/spiral_Eval/packages/77281a63dfe2705cfe796673c0a6f2e999e8b25acc07250f61f38e51595391d6/build/dev/erlang/main/_gleam_artefacts/main.erl\"}\n",
       "{compiled,main,\n",
       "          \"/home/runner/work/spiral/polyglot/target/spiral_Eval/packages/77281a63dfe2705cfe796673c0a6f2e999e8b25acc07250f61f38e51595391d6/build/dev/erlang/main/ebin/main.beam\"}\n",
       "{compiled,main@@main,\n",
       "          \"/home/runner/work/spiral/polyglot/target/spiral_Eval/packages/77281a63dfe2705cfe796673c0a6f2e999e8b25acc07250f61f38e51595391d6/build/dev/erlang/main/ebin/main@@main.beam\"}\n",
       "{ name = __assert_eq; actual = 2, 1; expected = 2, 1 }\n",
       "\n",
       "\n"
      ]
     },
     "metadata": {},
     "output_type": "display_data"
    },
    {
     "name": "stdout",
     "output_type": "stream",
     "text": [
      ".fsx output:\n",
      "{ name = __assert_eq; actual = 2, 1; expected = 2, 1 }\n"
     ]
    }
   ],
   "source": [
    "//// test\n",
    "///! gleam\n",
    "///! fsharp\n",
    "///! cuda\n",
    "///! rust\n",
    "///! typescript\n",
    "///! python\n",
    "\n",
    "(1i32, 2i32)\n",
    "||> flip pair\n",
    "|> _assert_eq (2, 1)"
   ]
  },
  {
   "cell_type": "markdown",
   "metadata": {},
   "source": [
    "### fix_condition"
   ]
  },
  {
   "cell_type": "code",
   "execution_count": null,
   "metadata": {
    "dotnet_interactive": {
     "language": "spiral"
    },
    "polyglot_notebook": {
     "kernelName": "spiral"
    }
   },
   "outputs": [],
   "source": [
    "inl fix_condition x a b =\n",
    "    if x ()\n",
    "    then a () |> fun x => $'(* fix_condition then' : ()\n",
    "    else\n",
    "        $'fix_condition then *) else' : ()\n",
    "        b () |> fun x => $'(* fix_condition else' : ()\n",
    "    |> fun x => $'fix_condition else *)' : ()"
   ]
  },
  {
   "cell_type": "markdown",
   "metadata": {},
   "source": [
    "## type"
   ]
  },
  {
   "cell_type": "markdown",
   "metadata": {},
   "source": [
    "### infer"
   ]
  },
  {
   "cell_type": "code",
   "execution_count": null,
   "metadata": {
    "dotnet_interactive": {
     "language": "spiral"
    },
    "polyglot_notebook": {
     "kernelName": "spiral"
    }
   },
   "outputs": [],
   "source": [
    "nominal infer = $'_'"
   ]
  },
  {
   "cell_type": "markdown",
   "metadata": {},
   "source": [
    "### infer'"
   ]
  },
  {
   "cell_type": "code",
   "execution_count": null,
   "metadata": {
    "dotnet_interactive": {
     "language": "spiral"
    },
    "polyglot_notebook": {
     "kernelName": "spiral"
    }
   },
   "outputs": [],
   "source": [
    "nominal infer' t = $'_'"
   ]
  },
  {
   "cell_type": "markdown",
   "metadata": {},
   "source": [
    "### any"
   ]
  },
  {
   "cell_type": "code",
   "execution_count": null,
   "metadata": {
    "dotnet_interactive": {
     "language": "spiral"
    },
    "polyglot_notebook": {
     "kernelName": "spiral"
    }
   },
   "outputs": [],
   "source": [
    "nominal any = $'obj'"
   ]
  },
  {
   "cell_type": "markdown",
   "metadata": {},
   "source": [
    "### null"
   ]
  },
  {
   "cell_type": "code",
   "execution_count": null,
   "metadata": {
    "dotnet_interactive": {
     "language": "spiral"
    },
    "polyglot_notebook": {
     "kernelName": "spiral"
    }
   },
   "outputs": [],
   "source": [
    "inl null forall t. () : t =\n",
    "    backend_switch {\n",
    "        Gleam = fun () => $'Nil' : t\n",
    "        Fsharp = fun () => $'null |> unbox<`t>' : t\n",
    "        Python = fun () => $'None' : t\n",
    "    }"
   ]
  },
  {
   "cell_type": "markdown",
   "metadata": {},
   "source": [
    "### defaultof"
   ]
  },
  {
   "cell_type": "code",
   "execution_count": null,
   "metadata": {
    "dotnet_interactive": {
     "language": "spiral"
    },
    "polyglot_notebook": {
     "kernelName": "spiral"
    }
   },
   "outputs": [],
   "source": [
    "inl defaultof forall t. () : t =\n",
    "    $'Unchecked.defaultof<`t>'"
   ]
  },
  {
   "cell_type": "markdown",
   "metadata": {},
   "source": [
    "### choice2'"
   ]
  },
  {
   "cell_type": "code",
   "execution_count": null,
   "metadata": {
    "dotnet_interactive": {
     "language": "spiral"
    },
    "polyglot_notebook": {
     "kernelName": "spiral"
    }
   },
   "outputs": [],
   "source": [
    "nominal choice2' a b = $'Choice<`a, `b>'"
   ]
  },
  {
   "cell_type": "markdown",
   "metadata": {},
   "source": [
    "### choice2_unbox"
   ]
  },
  {
   "cell_type": "code",
   "execution_count": null,
   "metadata": {
    "dotnet_interactive": {
     "language": "spiral"
    },
    "polyglot_notebook": {
     "kernelName": "spiral"
    }
   },
   "outputs": [],
   "source": [
    "inl choice2_unbox forall t1 t2. (choice : choice2' t1 t2) : choice2 t1 t2 =\n",
    "    run_target_args (fun () => choice) function\n",
    "        | Fsharp _ => fun choice =>\n",
    "            inl c1of2 (x : t1) : _ _ t2 = C1of2 x\n",
    "            inl c2of2 (x : t2) : _ t1 _ = C2of2 x\n",
    "            inl c1of2 = join c1of2\n",
    "            inl c2of2 = join c2of2\n",
    "            $'match !choice with Choice1Of2 x -> !c1of2 x | Choice2Of2 x -> !c2of2 x'\n",
    "        | _ => fun _ => null ()"
   ]
  },
  {
   "cell_type": "markdown",
   "metadata": {},
   "source": [
    "## ref"
   ]
  },
  {
   "cell_type": "markdown",
   "metadata": {},
   "source": [
    "### ref"
   ]
  },
  {
   "cell_type": "code",
   "execution_count": null,
   "metadata": {
    "dotnet_interactive": {
     "language": "spiral"
    },
    "polyglot_notebook": {
     "kernelName": "spiral"
    }
   },
   "outputs": [],
   "source": [
    "nominal ref t = $'`t ref'"
   ]
  },
  {
   "cell_type": "markdown",
   "metadata": {},
   "source": [
    "### new_ref"
   ]
  },
  {
   "cell_type": "code",
   "execution_count": null,
   "metadata": {
    "dotnet_interactive": {
     "language": "spiral"
    },
    "polyglot_notebook": {
     "kernelName": "spiral"
    }
   },
   "outputs": [],
   "source": [
    "inl new_ref forall t. (x : t) : ref t =\n",
    "    $'ref !x '"
   ]
  },
  {
   "cell_type": "markdown",
   "metadata": {},
   "source": [
    "### ref_value"
   ]
  },
  {
   "cell_type": "code",
   "execution_count": null,
   "metadata": {
    "dotnet_interactive": {
     "language": "spiral"
    },
    "polyglot_notebook": {
     "kernelName": "spiral"
    }
   },
   "outputs": [],
   "source": [
    "inl ref_value forall t. (x : ref t) : t =\n",
    "    $'!x.Value'"
   ]
  },
  {
   "cell_type": "markdown",
   "metadata": {},
   "source": [
    "### ref_set_value"
   ]
  },
  {
   "cell_type": "code",
   "execution_count": null,
   "metadata": {
    "dotnet_interactive": {
     "language": "spiral"
    },
    "polyglot_notebook": {
     "kernelName": "spiral"
    }
   },
   "outputs": [],
   "source": [
    "inl ref_set_value forall t. (value : t) (ref : ref t) : ref t =\n",
    "    $'!ref.Value <- !value '\n",
    "    ref"
   ]
  },
  {
   "cell_type": "markdown",
   "metadata": {},
   "source": [
    "## convert"
   ]
  },
  {
   "cell_type": "markdown",
   "metadata": {},
   "source": [
    "### to"
   ]
  },
  {
   "cell_type": "code",
   "execution_count": null,
   "metadata": {
    "dotnet_interactive": {
     "language": "spiral"
    },
    "polyglot_notebook": {
     "kernelName": "spiral"
    }
   },
   "outputs": [],
   "source": [
    "inl to forall t u. (x : t) : u =\n",
    "    $'!x ' : u"
   ]
  },
  {
   "cell_type": "markdown",
   "metadata": {},
   "source": [
    "### convert"
   ]
  },
  {
   "cell_type": "code",
   "execution_count": null,
   "metadata": {
    "dotnet_interactive": {
     "language": "spiral"
    },
    "polyglot_notebook": {
     "kernelName": "spiral"
    }
   },
   "outputs": [],
   "source": [
    "inl convert forall t u. (x : t) : u =\n",
    "    backend_switch {\n",
    "        Gleam = fun () => $'!x ' : u\n",
    "        Fsharp = fun () => $'!x |> `u ' : u\n",
    "        Python = fun () => $'`u(!x)' : u\n",
    "    }"
   ]
  },
  {
   "cell_type": "markdown",
   "metadata": {},
   "source": [
    "### unbox"
   ]
  },
  {
   "cell_type": "code",
   "execution_count": null,
   "metadata": {
    "dotnet_interactive": {
     "language": "spiral"
    },
    "polyglot_notebook": {
     "kernelName": "spiral"
    }
   },
   "outputs": [],
   "source": [
    "inl unbox forall t u. (x : t) : u =\n",
    "    backend_switch {\n",
    "        Gleam = fun () => x |> to : u\n",
    "        Fsharp = fun () => $'!x |> unbox<`u>' : u\n",
    "        Python = fun () => x |> to : u\n",
    "    }"
   ]
  },
  {
   "cell_type": "markdown",
   "metadata": {},
   "source": [
    "### u8"
   ]
  },
  {
   "cell_type": "code",
   "execution_count": null,
   "metadata": {
    "dotnet_interactive": {
     "language": "spiral"
    },
    "polyglot_notebook": {
     "kernelName": "spiral"
    }
   },
   "outputs": [],
   "source": [
    "inl u8 forall t. (x : t) : u8 =\n",
    "    backend_switch {\n",
    "        Gleam = fun () => x |> to : u8\n",
    "        Fsharp = fun () => x |> $'uint8' : u8\n",
    "        Python = fun () => x |> to : u8\n",
    "    }"
   ]
  },
  {
   "cell_type": "markdown",
   "metadata": {},
   "source": [
    "### u16"
   ]
  },
  {
   "cell_type": "code",
   "execution_count": null,
   "metadata": {
    "dotnet_interactive": {
     "language": "spiral"
    },
    "polyglot_notebook": {
     "kernelName": "spiral"
    }
   },
   "outputs": [],
   "source": [
    "inl u16 forall t. (x : t) : u16 =\n",
    "    backend_switch {\n",
    "        Gleam = fun () => x |> to : u16\n",
    "        Fsharp = fun () => x |> $'uint16' : u16\n",
    "        Python = fun () => $'!x & 0xFFFF' : u16\n",
    "    }"
   ]
  },
  {
   "cell_type": "markdown",
   "metadata": {},
   "source": [
    "### u64"
   ]
  },
  {
   "cell_type": "code",
   "execution_count": null,
   "metadata": {
    "dotnet_interactive": {
     "language": "spiral"
    },
    "polyglot_notebook": {
     "kernelName": "spiral"
    }
   },
   "outputs": [],
   "source": [
    "inl u64 forall t. (x : t) : u64 =\n",
    "    backend_switch {\n",
    "        Gleam = fun () => x |> to : u64\n",
    "        Fsharp = fun () => x |> $'uint64' : u64\n",
    "        Python = fun () => x |> to : u64\n",
    "    }"
   ]
  },
  {
   "cell_type": "markdown",
   "metadata": {},
   "source": [
    "### i32"
   ]
  },
  {
   "cell_type": "code",
   "execution_count": null,
   "metadata": {
    "dotnet_interactive": {
     "language": "spiral"
    },
    "polyglot_notebook": {
     "kernelName": "spiral"
    }
   },
   "outputs": [],
   "source": [
    "inl i32 forall t. (x : t) : i32 =\n",
    "    backend_switch {\n",
    "        Gleam = fun () => x |> convert : i32\n",
    "        Fsharp = fun () => x |> convert : i32\n",
    "        Python = fun () => x |> convert : i32\n",
    "    }"
   ]
  },
  {
   "cell_type": "markdown",
   "metadata": {},
   "source": [
    "### i64"
   ]
  },
  {
   "cell_type": "code",
   "execution_count": null,
   "metadata": {
    "dotnet_interactive": {
     "language": "spiral"
    },
    "polyglot_notebook": {
     "kernelName": "spiral"
    }
   },
   "outputs": [],
   "source": [
    "inl i64 forall t. (x : t) : i64 =\n",
    "    backend_switch {\n",
    "        Gleam = fun () => x |> to : i64\n",
    "        Fsharp = fun () => x |> $'int64' : i64\n",
    "        Python = fun () => x |> to : i64\n",
    "    }"
   ]
  },
  {
   "cell_type": "markdown",
   "metadata": {},
   "source": [
    "### f32"
   ]
  },
  {
   "cell_type": "code",
   "execution_count": null,
   "metadata": {
    "dotnet_interactive": {
     "language": "spiral"
    },
    "polyglot_notebook": {
     "kernelName": "spiral"
    }
   },
   "outputs": [],
   "source": [
    "inl f32 forall t. (x : t) : f32 =\n",
    "    backend_switch {\n",
    "        Gleam = fun () => x |> to : f32\n",
    "        Fsharp = fun () => x |> $'float32' : f32\n",
    "        Python = fun () => x |> to : f32\n",
    "    }"
   ]
  },
  {
   "cell_type": "markdown",
   "metadata": {},
   "source": [
    "### f64"
   ]
  },
  {
   "cell_type": "code",
   "execution_count": null,
   "metadata": {
    "dotnet_interactive": {
     "language": "spiral"
    },
    "polyglot_notebook": {
     "kernelName": "spiral"
    }
   },
   "outputs": [],
   "source": [
    "inl f64 forall t. (x : t) : f64 =\n",
    "    backend_switch {\n",
    "        Gleam = fun () => x |> to : f64\n",
    "        Fsharp = fun () => x |> $'float' : f64\n",
    "        Python = fun () => x |> to : f64\n",
    "    }"
   ]
  },
  {
   "cell_type": "markdown",
   "metadata": {},
   "source": [
    "### unativeint"
   ]
  },
  {
   "cell_type": "code",
   "execution_count": null,
   "metadata": {
    "dotnet_interactive": {
     "language": "spiral"
    },
    "polyglot_notebook": {
     "kernelName": "spiral"
    }
   },
   "outputs": [],
   "source": [
    "nominal unativeint = $'unativeint'"
   ]
  },
  {
   "cell_type": "markdown",
   "metadata": {},
   "source": [
    "### convert_i32"
   ]
  },
  {
   "cell_type": "code",
   "execution_count": null,
   "metadata": {
    "dotnet_interactive": {
     "language": "spiral"
    },
    "polyglot_notebook": {
     "kernelName": "spiral"
    }
   },
   "outputs": [],
   "source": [
    "inl convert_i32 forall t. (x : t) : i32 =\n",
    "    backend_switch {\n",
    "        Gleam = fun () => x |> to : i32\n",
    "        Fsharp = fun () => x |> $'System.Convert.ToInt32' : i32\n",
    "        Python = fun () => x |> to : i32\n",
    "    }"
   ]
  },
  {
   "cell_type": "markdown",
   "metadata": {},
   "source": [
    "### convert_i32_base"
   ]
  },
  {
   "cell_type": "code",
   "execution_count": null,
   "metadata": {
    "dotnet_interactive": {
     "language": "spiral"
    },
    "polyglot_notebook": {
     "kernelName": "spiral"
    }
   },
   "outputs": [],
   "source": [
    "inl convert_i32_base forall t. (base : i32) (x : t) : i32 =\n",
    "    backend_switch {\n",
    "        Fsharp = fun () => $'System.Convert.ToInt32 (!x, !base)' : i32\n",
    "        Python = fun () => $'int (!x, !base)' : i32\n",
    "    }"
   ]
  },
  {
   "cell_type": "markdown",
   "metadata": {},
   "source": [
    "### (:>)"
   ]
  },
  {
   "cell_type": "code",
   "execution_count": null,
   "metadata": {
    "dotnet_interactive": {
     "language": "spiral"
    },
    "polyglot_notebook": {
     "kernelName": "spiral"
    }
   },
   "outputs": [],
   "source": [
    "prototype (~:>) r : forall t. t -> r"
   ]
  },
  {
   "cell_type": "markdown",
   "metadata": {},
   "source": [
    "### to_any"
   ]
  },
  {
   "cell_type": "code",
   "execution_count": null,
   "metadata": {
    "dotnet_interactive": {
     "language": "spiral"
    },
    "polyglot_notebook": {
     "kernelName": "spiral"
    }
   },
   "outputs": [],
   "source": [
    "inl to_any forall t. (obj : t) : any =\n",
    "    obj |> to"
   ]
  },
  {
   "cell_type": "markdown",
   "metadata": {},
   "source": [
    "### (~:>) any"
   ]
  },
  {
   "cell_type": "code",
   "execution_count": null,
   "metadata": {
    "dotnet_interactive": {
     "language": "spiral"
    },
    "polyglot_notebook": {
     "kernelName": "spiral"
    }
   },
   "outputs": [],
   "source": [
    "instance (~:>) any = to_any"
   ]
  },
  {
   "cell_type": "markdown",
   "metadata": {},
   "source": [
    "## error"
   ]
  },
  {
   "cell_type": "markdown",
   "metadata": {},
   "source": [
    "### exn"
   ]
  },
  {
   "cell_type": "code",
   "execution_count": null,
   "metadata": {
    "dotnet_interactive": {
     "language": "spiral"
    },
    "polyglot_notebook": {
     "kernelName": "spiral"
    }
   },
   "outputs": [],
   "source": [
    "nominal exn = $\"backend_switch `({ Gleam : $'Nil'; Fsharp : $'exn'; Python : $'BaseException' })\"\n",
    "\n",
    "inl exn x =\n",
    "    x |> $'`exn '"
   ]
  },
  {
   "cell_type": "markdown",
   "metadata": {},
   "source": [
    "### try"
   ]
  },
  {
   "cell_type": "code",
   "execution_count": null,
   "metadata": {
    "dotnet_interactive": {
     "language": "spiral"
    },
    "polyglot_notebook": {
     "kernelName": "spiral"
    }
   },
   "outputs": [],
   "source": [
    "inl try forall t. (fn : () -> t) (ex_fn : exn -> option t) : option t =\n",
    "    inl some x : option t = Some x\n",
    "    inl some = dyn some\n",
    "    inl fn = dyn fn\n",
    "    inl ex_fn = dyn ex_fn\n",
    "    backend_switch {\n",
    "        Fsharp = fun () =>\n",
    "            $'let result = ref !(None : option t)'\n",
    "            $'try'\n",
    "            $'    result.Value <- !fn () |> !some '\n",
    "            $'with ex ->'\n",
    "            $'    result.Value <- !ex_fn ex '\n",
    "            $'result.Value' : option t\n",
    "        Python = fun () =>\n",
    "            $'result = !(None : option t)'\n",
    "            inl fn = dyn fn\n",
    "            inl ex_fn = dyn ex_fn\n",
    "            $'try:'\n",
    "            $'    result = !some(!fn())\\n        \\'\\'\\''\n",
    "            $'\\'\\'\\''\n",
    "            $'except Exception as e:'\n",
    "            $'    result = !ex_fn(e)'\n",
    "            $'result' : option t\n",
    "    }"
   ]
  },
  {
   "cell_type": "code",
   "execution_count": null,
   "metadata": {
    "dotnet_interactive": {
     "language": "spiral"
    },
    "polyglot_notebook": {
     "kernelName": "spiral"
    }
   },
   "outputs": [
    {
     "data": {
      "text/plain": [
       ".py output (Cuda):\n",
       "{ name = __assert_eq; actual = index 1 is out of bounds for axis 0 with size 1; expected = index 1 is out of bounds for axis 0 with size 1 }\n",
       "\n",
       ".rs output:\n",
       "{ name = __assert_eq; actual = Exception { message: \"index out of bounds: the len is 1 but the index is 1\" }; expected = Exception { message: \"index out of bounds: the len is 1 but the index is 1\" } }\n",
       "\n",
       ".ts output:\n",
       "{ name = __assert_eq; actual = Error: Index was outside the bounds of the array.\\nParameter name: index; expected = Error: Index was outside the bounds of the array.\\nParameter name: index }\n",
       "\n",
       ".py output:\n",
       "{ name = __assert_eq; actual = array index out of range; expected = array index out of range }\n",
       "\n"
      ]
     },
     "metadata": {},
     "output_type": "display_data"
    },
    {
     "name": "stdout",
     "output_type": "stream",
     "text": [
      ".fsx output:\n",
      "{ name = __assert_eq; actual = System.IndexOutOfRangeException: Index was outside the bounds of the array.; expected = System.IndexOutOfRangeException: Index was outside the bounds of the array. }\n"
     ]
    }
   ],
   "source": [
    "//// test\n",
    "///! fsharp\n",
    "///! cuda\n",
    "///! rust\n",
    "///! typescript\n",
    "///! python\n",
    "\n",
    "try\n",
    "    fun () => a ;[ 0i32 ] |> am'.index 1i32 |> sm'.format\n",
    "    (fun ex => $'!ex ' |> sm'.format_exception |> Some)\n",
    "|> optionm.value\n",
    "|> _assert_eq (run_target function\n",
    "    | Gleam => fun () => null ()\n",
    "    | Fsharp => fun () => join \"System.IndexOutOfRangeException: Index was outside the bounds of the array.\"\n",
    "    | Cuda => fun () => \"index 1 is out of bounds for axis 0 with size 1\"\n",
    "    | Rust => fun () => \"Exception { message: \\\"index out of bounds: the len is 1 but the index is 1\\\" }\"\n",
    "    | TypeScript => fun () => \"Error: Index was outside the bounds of the array.\\\\nParameter name: index\"\n",
    "    | Python => fun () => \"array index out of range\"\n",
    ")"
   ]
  },
  {
   "cell_type": "markdown",
   "metadata": {},
   "source": [
    "### try_unit"
   ]
  },
  {
   "cell_type": "code",
   "execution_count": null,
   "metadata": {
    "dotnet_interactive": {
     "language": "spiral"
    },
    "polyglot_notebook": {
     "kernelName": "spiral"
    }
   },
   "outputs": [],
   "source": [
    "inl try_unit forall t. (fn : () -> ()) (ex_fn : (() -> exn) -> ()) : t =\n",
    "    backend_switch {\n",
    "        Fsharp = fun () => $'try' : ()\n",
    "        Python = fun () => $'try:' : ()\n",
    "    }\n",
    "    fn |> indent\n",
    "    backend_switch {\n",
    "        Fsharp = fun () => $'with ex ->' : ()\n",
    "        Python = fun () => $'except Exception as ex:' : ()\n",
    "    }\n",
    "    fun () =>\n",
    "        inl ex = $'ex'\n",
    "        inl ex () =\n",
    "            ex\n",
    "        ex_fn ex\n",
    "    |> indent\n",
    "    backend_switch {\n",
    "        Fsharp = fun () =>\n",
    "            $'(* try_unit'\n",
    "            $'try_unit *)' : t\n",
    "        Python = fun () => $'' : t\n",
    "    }"
   ]
  },
  {
   "cell_type": "markdown",
   "metadata": {},
   "source": [
    "### try_unit'"
   ]
  },
  {
   "cell_type": "code",
   "execution_count": null,
   "metadata": {
    "dotnet_interactive": {
     "language": "spiral"
    },
    "polyglot_notebook": {
     "kernelName": "spiral"
    }
   },
   "outputs": [],
   "source": [
    "inl try_unit' forall t. (ex_fn : (() -> exn) -> ()) (fn : () -> ()) : t =\n",
    "    try_unit fn ex_fn"
   ]
  },
  {
   "cell_type": "markdown",
   "metadata": {},
   "source": [
    "### try_finally"
   ]
  },
  {
   "cell_type": "code",
   "execution_count": null,
   "metadata": {
    "dotnet_interactive": {
     "language": "spiral"
    },
    "polyglot_notebook": {
     "kernelName": "spiral"
    }
   },
   "outputs": [],
   "source": [
    "inl try_finally forall t. (fn : () -> ()) (finally : () -> ()) : t =\n",
    "    backend_switch {\n",
    "        Fsharp = fun () => $'try' : ()\n",
    "        Python = fun () => $'try:' : ()\n",
    "    }\n",
    "    fn |> indent\n",
    "    backend_switch {\n",
    "        Fsharp = fun () => $'finally' : ()\n",
    "        Python = fun () => $'finally:' : ()\n",
    "    }\n",
    "    finally |> indent\n",
    "    backend_switch {\n",
    "        Fsharp = fun () =>\n",
    "            $'(* try_finally'\n",
    "            $'try_finally *)'\n",
    "            ()\n",
    "        Python = fun () => ()\n",
    "    }"
   ]
  }
 ],
 "metadata": {},
 "nbformat": 4,
 "nbformat_minor": 5
}