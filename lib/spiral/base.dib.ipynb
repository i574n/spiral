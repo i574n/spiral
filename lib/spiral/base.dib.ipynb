{
 "cells": [
  {
   "cell_type": "markdown",
   "metadata": {},
   "source": [
    "# base"
   ]
  },
  {
   "cell_type": "code",
   "execution_count": null,
   "metadata": {
    "dotnet_interactive": {
     "language": "spiral"
    },
    "polyglot_notebook": {
     "kernelName": "spiral"
    }
   },
   "outputs": [],
   "source": [
    "//// test\n",
    "\n",
    "open testing"
   ]
  },
  {
   "cell_type": "markdown",
   "metadata": {},
   "source": [
    "## execution"
   ]
  },
  {
   "cell_type": "markdown",
   "metadata": {},
   "source": [
    "### emit"
   ]
  },
  {
   "cell_type": "code",
   "execution_count": null,
   "metadata": {
    "dotnet_interactive": {
     "language": "spiral"
    },
    "polyglot_notebook": {
     "kernelName": "spiral"
    }
   },
   "outputs": [],
   "source": [
    "inl emit forall t. (x : t) : t =\n",
    "    $'!x '"
   ]
  },
  {
   "cell_type": "markdown",
   "metadata": {},
   "source": [
    "### emit_unit"
   ]
  },
  {
   "cell_type": "code",
   "execution_count": null,
   "metadata": {
    "dotnet_interactive": {
     "language": "spiral"
    },
    "polyglot_notebook": {
     "kernelName": "spiral"
    }
   },
   "outputs": [],
   "source": [
    "inl emit_unit forall t. (x : t) : () =\n",
    "    $'!x '"
   ]
  },
  {
   "cell_type": "markdown",
   "metadata": {},
   "source": [
    "### use"
   ]
  },
  {
   "cell_type": "code",
   "execution_count": null,
   "metadata": {
    "dotnet_interactive": {
     "language": "spiral"
    },
    "polyglot_notebook": {
     "kernelName": "spiral"
    }
   },
   "outputs": [],
   "source": [
    "inl use forall t. (x : t) : t =\n",
    "    $'use !x = !x ' : ()\n",
    "    $'!x '"
   ]
  },
  {
   "cell_type": "markdown",
   "metadata": {},
   "source": [
    "## type"
   ]
  },
  {
   "cell_type": "markdown",
   "metadata": {},
   "source": [
    "### unit"
   ]
  },
  {
   "cell_type": "code",
   "execution_count": null,
   "metadata": {
    "dotnet_interactive": {
     "language": "spiral"
    },
    "polyglot_notebook": {
     "kernelName": "spiral"
    }
   },
   "outputs": [],
   "source": [
    "nominal unit = $'unit'"
   ]
  },
  {
   "cell_type": "markdown",
   "metadata": {},
   "source": [
    "## target"
   ]
  },
  {
   "cell_type": "markdown",
   "metadata": {},
   "source": [
    "### backend_switch"
   ]
  },
  {
   "cell_type": "code",
   "execution_count": null,
   "metadata": {
    "dotnet_interactive": {
     "language": "spiral"
    },
    "polyglot_notebook": {
     "kernelName": "spiral"
    }
   },
   "outputs": [],
   "source": [
    "inl backend_switch forall t. x : t =\n",
    "    real\n",
    "        inl backend key : t =\n",
    "            inl s = real_core.string_lit_to_symbol key\n",
    "            real_core.record_type_try_find `(`x) s\n",
    "                (forall v'. => (x s) ())\n",
    "                (fun () => $'' : t)\n",
    "        !!!!BackendSwitch (\n",
    "            (\"Gleam\", backend \"Gleam\"),\n",
    "            (\"Fsharp\", backend \"Fsharp\"),\n",
    "            (\"Python\", backend \"Python\"),\n",
    "            (\"Cuda\", backend \"Cuda\")\n",
    "        )"
   ]
  },
  {
   "cell_type": "markdown",
   "metadata": {},
   "source": [
    "### target_runtime"
   ]
  },
  {
   "cell_type": "code",
   "execution_count": null,
   "metadata": {
    "dotnet_interactive": {
     "language": "spiral"
    },
    "polyglot_notebook": {
     "kernelName": "spiral"
    }
   },
   "outputs": [],
   "source": [
    "union target_runtime =\n",
    "    | Native\n",
    "    | Wasm\n",
    "    | Contract"
   ]
  },
  {
   "cell_type": "markdown",
   "metadata": {},
   "source": [
    "### target"
   ]
  },
  {
   "cell_type": "code",
   "execution_count": null,
   "metadata": {
    "dotnet_interactive": {
     "language": "spiral"
    },
    "polyglot_notebook": {
     "kernelName": "spiral"
    }
   },
   "outputs": [],
   "source": [
    "union target =\n",
    "    | Gleam : target_runtime\n",
    "    | Fsharp : target_runtime\n",
    "    | Cuda : target_runtime\n",
    "    | Rust : target_runtime\n",
    "    | TypeScript : target_runtime\n",
    "    | Python : target_runtime"
   ]
  },
  {
   "cell_type": "markdown",
   "metadata": {},
   "source": [
    "### run_target_args'"
   ]
  },
  {
   "cell_type": "code",
   "execution_count": null,
   "metadata": {
    "dotnet_interactive": {
     "language": "spiral"
    },
    "polyglot_notebook": {
     "kernelName": "spiral"
    }
   },
   "outputs": [],
   "source": [
    "inl run_target_args' forall t u. (args : u) (fn : target -> (u -> t)) : t =\n",
    "    backend_switch {\n",
    "        Gleam = fun () =>\n",
    "            inl target = Gleam Native\n",
    "            fn target args\n",
    "        Fsharp = fun () =>\n",
    "            inl is_unit : bool =\n",
    "                real\n",
    "                    typecase t with\n",
    "                    | () => true\n",
    "                    | _ => false\n",
    "            $'(* run_target_args\\''\n",
    "            inl result = $'()' : unit\n",
    "            $'run_target_args\\' *)'\n",
    "            inl emit_result x : () =\n",
    "                if is_unit |> not\n",
    "                then $'let _run_target_args\\'_!result = !x '\n",
    "            $'\\n#if FABLE_COMPILER || WASM || CONTRACT'\n",
    "            $'\\n#if FABLE_COMPILER_RUST && \\!WASM && \\!CONTRACT'\n",
    "            inl target = Rust Native\n",
    "            fn target args |> emit_result\n",
    "            $'#endif\\n#if FABLE_COMPILER_RUST && WASM'\n",
    "            inl target = Rust Wasm\n",
    "            fn target args |> emit_result\n",
    "            $'#endif\\n#if FABLE_COMPILER_RUST && CONTRACT'\n",
    "            inl target = Rust Contract\n",
    "            fn target args |> emit_result\n",
    "            $'#endif\\n#if FABLE_COMPILER_TYPESCRIPT'\n",
    "            inl target = TypeScript Native\n",
    "            fn target args |> emit_result\n",
    "            $'#endif\\n#if FABLE_COMPILER_PYTHON'\n",
    "            inl target = Python Native\n",
    "            fn target args |> emit_result\n",
    "            $'#endif\\n#if \\!FABLE_COMPILER_RUST && \\!FABLE_COMPILER_TYPESCRIPT && \\!FABLE_COMPILER_PYTHON'\n",
    "            inl target = Fsharp Wasm\n",
    "            fn target args |> emit_result\n",
    "            $'#endif\\n#else'\n",
    "            inl target = Fsharp Native\n",
    "            fn target args |> emit_result\n",
    "            $'#endif'\n",
    "            if is_unit\n",
    "            then $'// run_target_args\\' is_unit'\n",
    "            else $'_run_target_args\\'_!result ' : t\n",
    "        Python = fun () =>\n",
    "            inl target = Cuda Native\n",
    "            fn target args\n",
    "    }"
   ]
  },
  {
   "cell_type": "markdown",
   "metadata": {},
   "source": [
    "### run_target_args"
   ]
  },
  {
   "cell_type": "code",
   "execution_count": null,
   "metadata": {
    "dotnet_interactive": {
     "language": "spiral"
    },
    "polyglot_notebook": {
     "kernelName": "spiral"
    }
   },
   "outputs": [],
   "source": [
    "inl run_target_args forall t u. (args : () -> u) (fn : target -> (u -> t)) : t =\n",
    "    inl args = args () |> dyn\n",
    "    fn |> run_target_args' args"
   ]
  },
  {
   "cell_type": "markdown",
   "metadata": {},
   "source": [
    "### run_target"
   ]
  },
  {
   "cell_type": "code",
   "execution_count": null,
   "metadata": {
    "dotnet_interactive": {
     "language": "spiral"
    },
    "polyglot_notebook": {
     "kernelName": "spiral"
    }
   },
   "outputs": [],
   "source": [
    "inl run_target forall t. (fn : target -> (() -> t)) : t =\n",
    "    run_target_args id fn"
   ]
  },
  {
   "cell_type": "code",
   "execution_count": null,
   "metadata": {
    "dotnet_interactive": {
     "language": "spiral"
    },
    "polyglot_notebook": {
     "kernelName": "spiral"
    }
   },
   "outputs": [
    {
     "data": {
      "text/plain": [
       ".py output (Cuda):\n",
       "__assert_eq / actual: 1 / expected: 1\n",
       "\n",
       ".rs output:\n",
       "__assert_eq / actual: 1 / expected: 1\n",
       "\n",
       ".ts output:\n",
       "__assert_eq / actual: 1 / expected: 1\n",
       "\n",
       ".py output:\n",
       "__assert_eq / actual: 1 / expected: 1\n",
       "\n",
       "\n",
       ".gleam output (Gleam):\n",
       "{compiling,\"/home/runner/work/spiral/polyglot/target/spiral_Eval/packages/60cf0654bee59a601f7f5bd49ba00a6948cf7506e54fea0d15eb95854818030c/build/dev/erlang/gleam_stdlib/_gleam_artefacts/gleam@float.erl\"}\n",
       "{compiling,\"/home/runner/work/spiral/polyglot/target/spiral_Eval/packages/60cf0654bee59a601f7f5bd49ba00a6948cf7506e54fea0d15eb95854818030c/build/dev/erlang/gleam_stdlib/_gleam_artefacts/gleam@order.erl\"}\n",
       "{compiling,\"/home/runner/work/spiral/polyglot/target/spiral_Eval/packages/60cf0654bee59a601f7f5bd49ba00a6948cf7506e54fea0d15eb95854818030c/build/dev/erlang/gleam_stdlib/_gleam_artefacts/gleam@bool.erl\"}\n",
       "{compiling,\"/home/runner/work/spiral/polyglot/target/spiral_Eval/packages/60cf0654bee59a601f7f5bd49ba00a6948cf7506e54fea0d15eb95854818030c/build/dev/erlang/gleam_stdlib/_gleam_artefacts/gleam@list.erl\"}\n",
       "{compiled,\"/home/runner/work/spiral/polyglot/target/spiral_Eval/packages/60cf0654bee59a601f7f5bd49ba00a6948cf7506e54fea0d15eb95854818030c/build/dev/erlang/gleam_stdlib/ebin/gleam@order.beam\"}\n",
       "{compiling,\"/home/runner/work/spiral/polyglot/target/spiral_Eval/packages/60cf0654bee59a601f7f5bd49ba00a6948cf7506e54fea0d15eb95854818030c/build/dev/erlang/gleam_stdlib/_gleam_artefacts/gleam@pair.erl\"}\n",
       "{compiled,\"/home/runner/work/spiral/polyglot/target/spiral_Eval/packages/60cf0654bee59a601f7f5bd49ba00a6948cf7506e54fea0d15eb95854818030c/build/dev/erlang/gleam_stdlib/ebin/gleam@pair.beam\"}\n",
       "{compiling,\"/home/runner/work/spiral/polyglot/target/spiral_Eval/packages/60cf0654bee59a601f7f5bd49ba00a6948cf7506e54fea0d15eb95854818030c/build/dev/erlang/gleam_stdlib/_gleam_artefacts/gleam@result.erl\"}\n",
       "{compiled,\"/home/runner/work/spiral/polyglot/target/spiral_Eval/packages/60cf0654bee59a601f7f5bd49ba00a6948cf7506e54fea0d15eb95854818030c/build/dev/erlang/gleam_stdlib/ebin/gleam@bool.beam\"}\n",
       "{compiling,\"/home/runner/work/spiral/polyglot/target/spiral_Eval/packages/60cf0654bee59a601f7f5bd49ba00a6948cf7506e54fea0d15eb95854818030c/build/dev/erlang/gleam_stdlib/_gleam_artefacts/gleam@set.erl\"}\n",
       "{compiled,\"/home/runner/work/spiral/polyglot/target/spiral_Eval/packages/60cf0654bee59a601f7f5bd49ba00a6948cf7506e54fea0d15eb95854818030c/build/dev/erlang/gleam_stdlib/ebin/gleam@float.beam\"}\n",
       "{compiling,\"/home/runner/work/spiral/polyglot/target/spiral_Eval/packages/60cf0654bee59a601f7f5bd49ba00a6948cf7506e54fea0d15eb95854818030c/build/dev/erlang/gleam_stdlib/_gleam_artefacts/gleam@uri.erl\"}\n",
       "{compiled,\"/home/runner/work/spiral/polyglot/target/spiral_Eval/packages/60cf0654bee59a601f7f5bd49ba00a6948cf7506e54fea0d15eb95854818030c/build/dev/erlang/gleam_stdlib/ebin/gleam@result.beam\"}\n",
       "{compiling,\"/home/runner/work/spiral/polyglot/target/spiral_Eval/packages/60cf0654bee59a601f7f5bd49ba00a6948cf7506e54fea0d15eb95854818030c/build/dev/erlang/gleam_stdlib/_gleam_artefacts/gleam@int.erl\"}\n",
       "{compiled,\"/home/runner/work/spiral/polyglot/target/spiral_Eval/packages/60cf0654bee59a601f7f5bd49ba00a6948cf7506e54fea0d15eb95854818030c/build/dev/erlang/gleam_stdlib/ebin/gleam@set.beam\"}\n",
       "{compiling,\"/home/runner/work/spiral/polyglot/target/spiral_Eval/packages/60cf0654bee59a601f7f5bd49ba00a6948cf7506e54fea0d15eb95854818030c/build/dev/erlang/gleam_stdlib/_gleam_artefacts/gleam@io.erl\"}\n",
       "{compiled,\"/home/runner/work/spiral/polyglot/target/spiral_Eval/packages/60cf0654bee59a601f7f5bd49ba00a6948cf7506e54fea0d15eb95854818030c/build/dev/erlang/gleam_stdlib/ebin/gleam@io.beam\"}\n",
       "{compiling,\"/home/runner/work/spiral/polyglot/target/spiral_Eval/packages/60cf0654bee59a601f7f5bd49ba00a6948cf7506e54fea0d15eb95854818030c/build/dev/erlang/gleam_stdlib/_gleam_artefacts/gleam@option.erl\"}\n",
       "{compiled,\"/home/runner/work/spiral/polyglot/target/spiral_Eval/packages/60cf0654bee59a601f7f5bd49ba00a6948cf7506e54fea0d15eb95854818030c/build/dev/erlang/gleam_stdlib/ebin/gleam@int.beam\"}\n",
       "{compiling,\"/home/runner/work/spiral/polyglot/target/spiral_Eval/packages/60cf0654bee59a601f7f5bd49ba00a6948cf7506e54fea0d15eb95854818030c/build/dev/erlang/gleam_stdlib/_gleam_artefacts/gleam@bit_array.erl\"}\n",
       "{compiled,\"/home/runner/work/spiral/polyglot/target/spiral_Eval/packages/60cf0654bee59a601f7f5bd49ba00a6948cf7506e54fea0d15eb95854818030c/build/dev/erlang/gleam_stdlib/ebin/gleam@option.beam\"}\n",
       "{compiling,\"/home/runner/work/spiral/polyglot/target/spiral_Eval/packages/60cf0654bee59a601f7f5bd49ba00a6948cf7506e54fea0d15eb95854818030c/build/dev/erlang/gleam_stdlib/_gleam_artefacts/gleam@dict.erl\"}\n",
       "{compiled,\"/home/runner/work/spiral/polyglot/target/spiral_Eval/packages/60cf0654bee59a601f7f5bd49ba00a6948cf7506e54fea0d15eb95854818030c/build/dev/erlang/gleam_stdlib/ebin/gleam@dict.beam\"}\n",
       "{compiling,\"/home/runner/work/spiral/polyglot/target/spiral_Eval/packages/60cf0654bee59a601f7f5bd49ba00a6948cf7506e54fea0d15eb95854818030c/build/dev/erlang/gleam_stdlib/_gleam_artefacts/gleam@dynamic.erl\"}\n",
       "{compiled,\"/home/runner/work/spiral/polyglot/target/spiral_Eval/packages/60cf0654bee59a601f7f5bd49ba00a6948cf7506e54fea0d15eb95854818030c/build/dev/erlang/gleam_stdlib/ebin/gleam@uri.beam\"}\n",
       "{compiling,\"/home/runner/work/spiral/polyglot/target/spiral_Eval/packages/60cf0654bee59a601f7f5bd49ba00a6948cf7506e54fea0d15eb95854818030c/build/dev/erlang/gleam_stdlib/_gleam_artefacts/gleam@bytes_tree.erl\"}\n",
       "{compiled,\"/home/runner/work/spiral/polyglot/target/spiral_Eval/packages/60cf0654bee59a601f7f5bd49ba00a6948cf7506e54fea0d15eb95854818030c/build/dev/erlang/gleam_stdlib/ebin/gleam@bit_array.beam\"}\n",
       "{compiling,\"/home/runner/work/spiral/polyglot/target/spiral_Eval/packages/60cf0654bee59a601f7f5bd49ba00a6948cf7506e54fea0d15eb95854818030c/build/dev/erlang/gleam_stdlib/_gleam_artefacts/gleam@function.erl\"}\n",
       "{compiled,\"/home/runner/work/spiral/polyglot/target/spiral_Eval/packages/60cf0654bee59a601f7f5bd49ba00a6948cf7506e54fea0d15eb95854818030c/build/dev/erlang/gleam_stdlib/ebin/gleam@bytes_tree.beam\"}\n",
       "{compiling,\"/home/runner/work/spiral/polyglot/target/spiral_Eval/packages/60cf0654bee59a601f7f5bd49ba00a6948cf7506e54fea0d15eb95854818030c/build/dev/erlang/gleam_stdlib/_gleam_artefacts/gleam@string_tree.erl\"}\n",
       "{compiled,\"/home/runner/work/spiral/polyglot/target/spiral_Eval/packages/60cf0654bee59a601f7f5bd49ba00a6948cf7506e54fea0d15eb95854818030c/build/dev/erlang/gleam_stdlib/ebin/gleam@function.beam\"}\n",
       "{compiling,\"/home/runner/work/spiral/polyglot/target/spiral_Eval/packages/60cf0654bee59a601f7f5bd49ba00a6948cf7506e54fea0d15eb95854818030c/build/dev/erlang/gleam_stdlib/_gleam_artefacts/gleam@dynamic@decode.erl\"}\n",
       "{compiled,\"/home/runner/work/spiral/polyglot/target/spiral_Eval/packages/60cf0654bee59a601f7f5bd49ba00a6948cf7506e54fea0d15eb95854818030c/build/dev/erlang/gleam_stdlib/ebin/gleam@string_tree.beam\"}\n",
       "{compiling,\"/home/runner/work/spiral/polyglot/target/spiral_Eval/packages/60cf0654bee59a601f7f5bd49ba00a6948cf7506e54fea0d15eb95854818030c/build/dev/erlang/gleam_stdlib/_gleam_artefacts/gleam_stdlib.erl\"}\n",
       "{compiled,\"/home/runner/work/spiral/polyglot/target/spiral_Eval/packages/60cf0654bee59a601f7f5bd49ba00a6948cf7506e54fea0d15eb95854818030c/build/dev/erlang/gleam_stdlib/ebin/gleam@dynamic@decode.beam\"}\n",
       "{compiling,\"/home/runner/work/spiral/polyglot/target/spiral_Eval/packages/60cf0654bee59a601f7f5bd49ba00a6948cf7506e54fea0d15eb95854818030c/build/dev/erlang/gleam_stdlib/_gleam_artefacts/gleam_stdlib_decode_ffi.erl\"}\n",
       "{compiled,\"/home/runner/work/spiral/polyglot/target/spiral_Eval/packages/60cf0654bee59a601f7f5bd49ba00a6948cf7506e54fea0d15eb95854818030c/build/dev/erlang/gleam_stdlib/ebin/gleam@list.beam\"}\n",
       "{compiling,\"/home/runner/work/spiral/polyglot/target/spiral_Eval/packages/60cf0654bee59a601f7f5bd49ba00a6948cf7506e54fea0d15eb95854818030c/build/dev/erlang/gleam_stdlib/_gleam_artefacts/gleam@string.erl\"}\n",
       "{compiled,\"/home/runner/work/spiral/polyglot/target/spiral_Eval/packages/60cf0654bee59a601f7f5bd49ba00a6948cf7506e54fea0d15eb95854818030c/build/dev/erlang/gleam_stdlib/ebin/gleam_stdlib_decode_ffi.beam\"}\n",
       "{compiled,\"/home/runner/work/spiral/polyglot/target/spiral_Eval/packages/60cf0654bee59a601f7f5bd49ba00a6948cf7506e54fea0d15eb95854818030c/build/dev/erlang/gleam_stdlib/ebin/gleam@dynamic.beam\"}\n",
       "{compiled,\"/home/runner/work/spiral/polyglot/target/spiral_Eval/packages/60cf0654bee59a601f7f5bd49ba00a6948cf7506e54fea0d15eb95854818030c/build/dev/erlang/gleam_stdlib/ebin/gleam@string.beam\"}\n",
       "{compiled,\"/home/runner/work/spiral/polyglot/target/spiral_Eval/packages/60cf0654bee59a601f7f5bd49ba00a6948cf7506e54fea0d15eb95854818030c/build/dev/erlang/gleam_stdlib/ebin/gleam_stdlib.beam\"}\n",
       "{compiling,\"/home/runner/work/spiral/polyglot/target/spiral_Eval/packages/60cf0654bee59a601f7f5bd49ba00a6948cf7506e54fea0d15eb95854818030c/build/dev/erlang/gary/_gleam_artefacts/gary@array.erl\"}\n",
       "{compiling,\"/home/runner/work/spiral/polyglot/target/spiral_Eval/packages/60cf0654bee59a601f7f5bd49ba00a6948cf7506e54fea0d15eb95854818030c/build/dev/erlang/gary/_gleam_artefacts/gary.erl\"}\n",
       "{compiling,\"/home/runner/work/spiral/polyglot/target/spiral_Eval/packages/60cf0654bee59a601f7f5bd49ba00a6948cf7506e54fea0d15eb95854818030c/build/dev/erlang/gary/_gleam_artefacts/internal@array_bindings.erl\"}\n",
       "{compiled,\"/home/runner/work/spiral/polyglot/target/spiral_Eval/packages/60cf0654bee59a601f7f5bd49ba00a6948cf7506e54fea0d15eb95854818030c/build/dev/erlang/gary/ebin/gary.beam\"}\n",
       "{compiled,\"/home/runner/work/spiral/polyglot/target/spiral_Eval/packages/60cf0654bee59a601f7f5bd49ba00a6948cf7506e54fea0d15eb95854818030c/build/dev/erlang/gary/ebin/internal@array_bindings.beam\"}\n",
       "{compiled,\"/home/runner/work/spiral/polyglot/target/spiral_Eval/packages/60cf0654bee59a601f7f5bd49ba00a6948cf7506e54fea0d15eb95854818030c/build/dev/erlang/gary/ebin/gary@array.beam\"}\n",
       "{compiling,\"/home/runner/work/spiral/polyglot/target/spiral_Eval/packages/60cf0654bee59a601f7f5bd49ba00a6948cf7506e54fea0d15eb95854818030c/build/dev/erlang/main/_gleam_artefacts/main@@main.erl\"}\n",
       "{compiling,\"/home/runner/work/spiral/polyglot/target/spiral_Eval/packages/60cf0654bee59a601f7f5bd49ba00a6948cf7506e54fea0d15eb95854818030c/build/dev/erlang/main/_gleam_artefacts/main.erl\"}\n",
       "{compiled,\"/home/runner/work/spiral/polyglot/target/spiral_Eval/packages/60cf0654bee59a601f7f5bd49ba00a6948cf7506e54fea0d15eb95854818030c/build/dev/erlang/main/ebin/main.beam\"}\n",
       "{compiled,\"/home/runner/work/spiral/polyglot/target/spiral_Eval/packages/60cf0654bee59a601f7f5bd49ba00a6948cf7506e54fea0d15eb95854818030c/build/dev/erlang/main/ebin/main@@main.beam\"}\n",
       "__assert_eq / actual: 1 / expected: 1\n",
       "\n",
       "\n"
      ]
     },
     "metadata": {},
     "output_type": "display_data"
    },
    {
     "name": "stdout",
     "output_type": "stream",
     "text": [
      ".fsx output:\n",
      "__assert_eq / actual: 1uy / expected: 1uy\n"
     ]
    }
   ],
   "source": [
    "//// test\n",
    "///! gleam\n",
    "///! fsharp\n",
    "///! cuda\n",
    "///! rust\n",
    "///! typescript\n",
    "///! python\n",
    "\n",
    "run_target function\n",
    "    | Gleam (Native) => fun () => $'1'\n",
    "    | Fsharp (Native) => fun () => $'1uy'\n",
    "    | Cuda (Native) => fun () => $'1'\n",
    "    | Rust (Native) => fun () => $'1uy'\n",
    "    | TypeScript (Native) => fun () => $'1uy'\n",
    "    | Python (Native) => fun () => $'1uy'\n",
    "    | _ => fun () => $'2uy'\n",
    "|> _assert_eq 1u8"
   ]
  },
  {
   "cell_type": "markdown",
   "metadata": {},
   "source": [
    "## function"
   ]
  },
  {
   "cell_type": "markdown",
   "metadata": {},
   "source": [
    "### eval"
   ]
  },
  {
   "cell_type": "code",
   "execution_count": null,
   "metadata": {
    "dotnet_interactive": {
     "language": "spiral"
    },
    "polyglot_notebook": {
     "kernelName": "spiral"
    }
   },
   "outputs": [],
   "source": [
    "inl eval fn =\n",
    "    fn ()"
   ]
  },
  {
   "cell_type": "markdown",
   "metadata": {},
   "source": [
    "### flip"
   ]
  },
  {
   "cell_type": "code",
   "execution_count": null,
   "metadata": {
    "dotnet_interactive": {
     "language": "spiral"
    },
    "polyglot_notebook": {
     "kernelName": "spiral"
    }
   },
   "outputs": [],
   "source": [
    "inl flip fn a b =\n",
    "    fn b a"
   ]
  },
  {
   "cell_type": "markdown",
   "metadata": {},
   "source": [
    "### do"
   ]
  },
  {
   "cell_type": "code",
   "execution_count": null,
   "metadata": {
    "dotnet_interactive": {
     "language": "spiral"
    },
    "polyglot_notebook": {
     "kernelName": "spiral"
    }
   },
   "outputs": [],
   "source": [
    "inl do (body : () -> ()) : () =\n",
    "    !!!!Do (body())"
   ]
  },
  {
   "cell_type": "markdown",
   "metadata": {},
   "source": [
    "### indent"
   ]
  },
  {
   "cell_type": "code",
   "execution_count": null,
   "metadata": {
    "dotnet_interactive": {
     "language": "spiral"
    },
    "polyglot_notebook": {
     "kernelName": "spiral"
    }
   },
   "outputs": [],
   "source": [
    "inl indent (body : () -> ()) : () =\n",
    "    backend_switch {\n",
    "        Fsharp = fun () =>\n",
    "            inl body () =\n",
    "                body ()\n",
    "                $'(* indent' : ()\n",
    "            !!!!Indent (body())\n",
    "            $'indent *)' : ()\n",
    "        Python = fun () =>\n",
    "            !!!!Indent (body())\n",
    "            ()\n",
    "    }"
   ]
  },
  {
   "cell_type": "markdown",
   "metadata": {},
   "source": [
    "### let'"
   ]
  },
  {
   "cell_type": "code",
   "execution_count": null,
   "metadata": {
    "dotnet_interactive": {
     "language": "spiral"
    },
    "polyglot_notebook": {
     "kernelName": "spiral"
    }
   },
   "outputs": [],
   "source": [
    "inl let' fn =\n",
    "    inl result : unit =\n",
    "        backend_switch {\n",
    "            Fsharp = fun () =>\n",
    "                $'()' : unit\n",
    "            Python = fun () =>\n",
    "                $'None' : unit\n",
    "        }\n",
    "    backend_switch {\n",
    "        Fsharp = fun () =>\n",
    "            $'let _let\\'_!result =' : ()\n",
    "            fn |> indent\n",
    "        Python = fun () =>\n",
    "            $'def _let\\'_!result():' : ()\n",
    "            fn |> indent\n",
    "    }\n",
    "    $'_let\\'_!result '"
   ]
  },
  {
   "cell_type": "markdown",
   "metadata": {},
   "source": [
    "### exec_unit"
   ]
  },
  {
   "cell_type": "code",
   "execution_count": null,
   "metadata": {
    "dotnet_interactive": {
     "language": "spiral"
    },
    "polyglot_notebook": {
     "kernelName": "spiral"
    }
   },
   "outputs": [],
   "source": [
    "inl exec_unit (fn : () -> ()) : () =\n",
    "    backend_switch {\n",
    "        Fsharp = fun () =>\n",
    "            inl unit = $'()' : $'unit'\n",
    "            ($'(fun () -> !fn (); !unit) ()' : $'unit') |> ignore\n",
    "        Python = fun () => fn ()\n",
    "    }"
   ]
  },
  {
   "cell_type": "markdown",
   "metadata": {},
   "source": [
    "### lazy"
   ]
  },
  {
   "cell_type": "code",
   "execution_count": null,
   "metadata": {
    "dotnet_interactive": {
     "language": "spiral"
    },
    "polyglot_notebook": {
     "kernelName": "spiral"
    }
   },
   "outputs": [],
   "source": [
    "nominal lazy t = $'Lazy<`t>'"
   ]
  },
  {
   "cell_type": "markdown",
   "metadata": {},
   "source": [
    "### memoize"
   ]
  },
  {
   "cell_type": "code",
   "execution_count": null,
   "metadata": {
    "dotnet_interactive": {
     "language": "spiral"
    },
    "polyglot_notebook": {
     "kernelName": "spiral"
    }
   },
   "outputs": [],
   "source": [
    "nominal lazy t = $'Lazy<`t>'\n",
    "\n",
    "inl memoize forall t. (fn : () -> t) : () -> t =\n",
    "    inl fn = join fn\n",
    "    inl body () =\n",
    "        inl result = mut None\n",
    "        inl computed = mut false\n",
    "        fun () =>\n",
    "            if *computed\n",
    "            then *result\n",
    "            else\n",
    "                result <- fn () |> Some\n",
    "                computed <- true\n",
    "                *result\n",
    "            |> optionm.value\n",
    "    backend_switch {\n",
    "        Gleam = fun () => body ()\n",
    "        Fsharp = fun () =>\n",
    "            inl result : lazy t = $'lazy !fn ()'\n",
    "            fun () => $'!result.Value' : t\n",
    "        Python = fun () => body ()\n",
    "    }"
   ]
  },
  {
   "cell_type": "code",
   "execution_count": null,
   "metadata": {
    "dotnet_interactive": {
     "language": "spiral"
    },
    "polyglot_notebook": {
     "kernelName": "spiral"
    }
   },
   "outputs": [
    {
     "data": {
      "text/plain": [
       ".py output (Cuda):\n",
       "__assert_eq / actual: 1 / expected: 1\n",
       "\n",
       ".rs output:\n",
       "__assert_eq / actual: 1 / expected: 1\n",
       "\n",
       ".ts output:\n",
       "__assert_eq / actual: 1 / expected: 1\n",
       "\n",
       ".py output:\n",
       "__assert_eq / actual: 1 / expected: 1\n",
       "\n"
      ]
     },
     "metadata": {},
     "output_type": "display_data"
    },
    {
     "name": "stdout",
     "output_type": "stream",
     "text": [
      ".fsx output:\n",
      "__assert_eq / actual: 1 / expected: 1\n"
     ]
    }
   ],
   "source": [
    "//// test\n",
    "///! fsharp\n",
    "///! cuda\n",
    "///! rust\n",
    "///! typescript\n",
    "///! python\n",
    "\n",
    "inl count = mut 0i32\n",
    "inl add =\n",
    "    fun () =>\n",
    "        count <- *count + 1\n",
    "        count\n",
    "    |> memoize\n",
    "\n",
    "add () |> ignore\n",
    "add () |> ignore\n",
    "add () |> ignore\n",
    "\n",
    "*count\n",
    "|> _assert_eq 1"
   ]
  },
  {
   "cell_type": "markdown",
   "metadata": {},
   "source": [
    "### capture"
   ]
  },
  {
   "cell_type": "code",
   "execution_count": null,
   "metadata": {
    "dotnet_interactive": {
     "language": "spiral"
    },
    "polyglot_notebook": {
     "kernelName": "spiral"
    }
   },
   "outputs": [],
   "source": [
    "inl capture forall t. (fn : () -> t) : t =\n",
    "    backend_switch {\n",
    "        Fsharp = fun () =>\n",
    "            inl result = dyn true\n",
    "            $'let mutable _capture_!result : `t option = None '\n",
    "            $'('\n",
    "            $'(fun () ->'\n",
    "            $'(fun () ->'\n",
    "            fn () |> emit_unit\n",
    "            $')'\n",
    "            $'|> fun x -> x ()'\n",
    "            $') () )'\n",
    "            $'|> fun x -> _capture_!result <- Some x'\n",
    "            $'match _capture_!result with Some x -> x | None -> failwith \"base.capture / _capture_!result=None\"' : t\n",
    "        Python = fun () =>\n",
    "            fn ()\n",
    "    }"
   ]
  },
  {
   "cell_type": "markdown",
   "metadata": {},
   "source": [
    "### yield_from"
   ]
  },
  {
   "cell_type": "code",
   "execution_count": null,
   "metadata": {
    "dotnet_interactive": {
     "language": "spiral"
    },
    "polyglot_notebook": {
     "kernelName": "spiral"
    }
   },
   "outputs": [],
   "source": [
    "inl yield_from forall (t : * -> *) u. (a : t u) : () =\n",
    "    backend_switch {\n",
    "        Fsharp = fun () => $'yield\\! !a ' : ()\n",
    "        Python = fun () => $'asyncio.run(!a())' : ()\n",
    "    }"
   ]
  },
  {
   "cell_type": "markdown",
   "metadata": {},
   "source": [
    "### join_body"
   ]
  },
  {
   "cell_type": "code",
   "execution_count": null,
   "metadata": {
    "dotnet_interactive": {
     "language": "spiral"
    },
    "polyglot_notebook": {
     "kernelName": "spiral"
    }
   },
   "outputs": [],
   "source": [
    "inl join_body body acc x =\n",
    "    if var_is x |> not\n",
    "    then body acc x\n",
    "    else\n",
    "        inl acc = dyn acc\n",
    "        join body acc x"
   ]
  },
  {
   "cell_type": "code",
   "execution_count": null,
   "metadata": {
    "dotnet_interactive": {
     "language": "spiral"
    },
    "polyglot_notebook": {
     "kernelName": "spiral"
    }
   },
   "outputs": [],
   "source": [
    "//// test\n",
    "\n",
    "inl rec fold_list f s = function\n",
    "    | Cons (x, x') => fold_list f (f s x) x'\n",
    "    | Nil => s"
   ]
  },
  {
   "cell_type": "code",
   "execution_count": null,
   "metadata": {
    "dotnet_interactive": {
     "language": "spiral"
    },
    "polyglot_notebook": {
     "kernelName": "spiral"
    }
   },
   "outputs": [
    {
     "data": {
      "text/plain": [
       ".py output (Cuda):\n",
       "__assert_eq / actual: 15 / expected: 15\n",
       "\n",
       ".rs output:\n",
       "__assert_eq / actual: 15 / expected: 15\n",
       "\n",
       ".ts output:\n",
       "__assert_eq / actual: 15 / expected: 15\n",
       "\n",
       ".py output:\n",
       "__assert_eq / actual: 15 / expected: 15\n",
       "\n",
       "\n",
       ".gleam output (Gleam):\n",
       "{compiling,\"/home/runner/work/spiral/polyglot/target/spiral_Eval/packages/c3c91f2c77e9f90dd38a6a09d5b29eb2b2aee41b4b74a2c4dfc1b79f47d62dfb/build/dev/erlang/gleam_stdlib/_gleam_artefacts/gleam@bit_array.erl\"}\n",
       "{compiling,\"/home/runner/work/spiral/polyglot/target/spiral_Eval/packages/c3c91f2c77e9f90dd38a6a09d5b29eb2b2aee41b4b74a2c4dfc1b79f47d62dfb/build/dev/erlang/gleam_stdlib/_gleam_artefacts/gleam@bool.erl\"}\n",
       "{compiling,\"/home/runner/work/spiral/polyglot/target/spiral_Eval/packages/c3c91f2c77e9f90dd38a6a09d5b29eb2b2aee41b4b74a2c4dfc1b79f47d62dfb/build/dev/erlang/gleam_stdlib/_gleam_artefacts/gleam@pair.erl\"}\n",
       "{compiling,\"/home/runner/work/spiral/polyglot/target/spiral_Eval/packages/c3c91f2c77e9f90dd38a6a09d5b29eb2b2aee41b4b74a2c4dfc1b79f47d62dfb/build/dev/erlang/gleam_stdlib/_gleam_artefacts/gleam@dynamic.erl\"}\n",
       "{compiled,\"/home/runner/work/spiral/polyglot/target/spiral_Eval/packages/c3c91f2c77e9f90dd38a6a09d5b29eb2b2aee41b4b74a2c4dfc1b79f47d62dfb/build/dev/erlang/gleam_stdlib/ebin/gleam@pair.beam\"}\n",
       "{compiling,\"/home/runner/work/spiral/polyglot/target/spiral_Eval/packages/c3c91f2c77e9f90dd38a6a09d5b29eb2b2aee41b4b74a2c4dfc1b79f47d62dfb/build/dev/erlang/gleam_stdlib/_gleam_artefacts/gleam@io.erl\"}\n",
       "{compiled,\"/home/runner/work/spiral/polyglot/target/spiral_Eval/packages/c3c91f2c77e9f90dd38a6a09d5b29eb2b2aee41b4b74a2c4dfc1b79f47d62dfb/build/dev/erlang/gleam_stdlib/ebin/gleam@io.beam\"}\n",
       "{compiling,\"/home/runner/work/spiral/polyglot/target/spiral_Eval/packages/c3c91f2c77e9f90dd38a6a09d5b29eb2b2aee41b4b74a2c4dfc1b79f47d62dfb/build/dev/erlang/gleam_stdlib/_gleam_artefacts/gleam@list.erl\"}\n",
       "{compiled,\"/home/runner/work/spiral/polyglot/target/spiral_Eval/packages/c3c91f2c77e9f90dd38a6a09d5b29eb2b2aee41b4b74a2c4dfc1b79f47d62dfb/build/dev/erlang/gleam_stdlib/ebin/gleam@bool.beam\"}\n",
       "{compiling,\"/home/runner/work/spiral/polyglot/target/spiral_Eval/packages/c3c91f2c77e9f90dd38a6a09d5b29eb2b2aee41b4b74a2c4dfc1b79f47d62dfb/build/dev/erlang/gleam_stdlib/_gleam_artefacts/gleam_stdlib_decode_ffi.erl\"}\n",
       "{compiled,\"/home/runner/work/spiral/polyglot/target/spiral_Eval/packages/c3c91f2c77e9f90dd38a6a09d5b29eb2b2aee41b4b74a2c4dfc1b79f47d62dfb/build/dev/erlang/gleam_stdlib/ebin/gleam_stdlib_decode_ffi.beam\"}\n",
       "{compiling,\"/home/runner/work/spiral/polyglot/target/spiral_Eval/packages/c3c91f2c77e9f90dd38a6a09d5b29eb2b2aee41b4b74a2c4dfc1b79f47d62dfb/build/dev/erlang/gleam_stdlib/_gleam_artefacts/gleam@string.erl\"}\n",
       "{compiled,\"/home/runner/work/spiral/polyglot/target/spiral_Eval/packages/c3c91f2c77e9f90dd38a6a09d5b29eb2b2aee41b4b74a2c4dfc1b79f47d62dfb/build/dev/erlang/gleam_stdlib/ebin/gleam@bit_array.beam\"}\n",
       "{compiling,\"/home/runner/work/spiral/polyglot/target/spiral_Eval/packages/c3c91f2c77e9f90dd38a6a09d5b29eb2b2aee41b4b74a2c4dfc1b79f47d62dfb/build/dev/erlang/gleam_stdlib/_gleam_artefacts/gleam@int.erl\"}\n",
       "{compiled,\"/home/runner/work/spiral/polyglot/target/spiral_Eval/packages/c3c91f2c77e9f90dd38a6a09d5b29eb2b2aee41b4b74a2c4dfc1b79f47d62dfb/build/dev/erlang/gleam_stdlib/ebin/gleam@string.beam\"}\n",
       "{compiling,\"/home/runner/work/spiral/polyglot/target/spiral_Eval/packages/c3c91f2c77e9f90dd38a6a09d5b29eb2b2aee41b4b74a2c4dfc1b79f47d62dfb/build/dev/erlang/gleam_stdlib/_gleam_artefacts/gleam@function.erl\"}\n",
       "{compiled,\"/home/runner/work/spiral/polyglot/target/spiral_Eval/packages/c3c91f2c77e9f90dd38a6a09d5b29eb2b2aee41b4b74a2c4dfc1b79f47d62dfb/build/dev/erlang/gleam_stdlib/ebin/gleam@int.beam\"}\n",
       "{compiling,\"/home/runner/work/spiral/polyglot/target/spiral_Eval/packages/c3c91f2c77e9f90dd38a6a09d5b29eb2b2aee41b4b74a2c4dfc1b79f47d62dfb/build/dev/erlang/gleam_stdlib/_gleam_artefacts/gleam@float.erl\"}\n",
       "{compiled,\"/home/runner/work/spiral/polyglot/target/spiral_Eval/packages/c3c91f2c77e9f90dd38a6a09d5b29eb2b2aee41b4b74a2c4dfc1b79f47d62dfb/build/dev/erlang/gleam_stdlib/ebin/gleam@function.beam\"}\n",
       "{compiling,\"/home/runner/work/spiral/polyglot/target/spiral_Eval/packages/c3c91f2c77e9f90dd38a6a09d5b29eb2b2aee41b4b74a2c4dfc1b79f47d62dfb/build/dev/erlang/gleam_stdlib/_gleam_artefacts/gleam@dynamic@decode.erl\"}\n",
       "{compiled,\"/home/runner/work/spiral/polyglot/target/spiral_Eval/packages/c3c91f2c77e9f90dd38a6a09d5b29eb2b2aee41b4b74a2c4dfc1b79f47d62dfb/build/dev/erlang/gleam_stdlib/ebin/gleam@float.beam\"}\n",
       "{compiling,\"/home/runner/work/spiral/polyglot/target/spiral_Eval/packages/c3c91f2c77e9f90dd38a6a09d5b29eb2b2aee41b4b74a2c4dfc1b79f47d62dfb/build/dev/erlang/gleam_stdlib/_gleam_artefacts/gleam@dict.erl\"}\n",
       "{compiled,\"/home/runner/work/spiral/polyglot/target/spiral_Eval/packages/c3c91f2c77e9f90dd38a6a09d5b29eb2b2aee41b4b74a2c4dfc1b79f47d62dfb/build/dev/erlang/gleam_stdlib/ebin/gleam@dict.beam\"}\n",
       "{compiling,\"/home/runner/work/spiral/polyglot/target/spiral_Eval/packages/c3c91f2c77e9f90dd38a6a09d5b29eb2b2aee41b4b74a2c4dfc1b79f47d62dfb/build/dev/erlang/gleam_stdlib/_gleam_artefacts/gleam@option.erl\"}\n",
       "{compiled,\"/home/runner/work/spiral/polyglot/target/spiral_Eval/packages/c3c91f2c77e9f90dd38a6a09d5b29eb2b2aee41b4b74a2c4dfc1b79f47d62dfb/build/dev/erlang/gleam_stdlib/ebin/gleam@dynamic.beam\"}\n",
       "{compiling,\"/home/runner/work/spiral/polyglot/target/spiral_Eval/packages/c3c91f2c77e9f90dd38a6a09d5b29eb2b2aee41b4b74a2c4dfc1b79f47d62dfb/build/dev/erlang/gleam_stdlib/_gleam_artefacts/gleam@uri.erl\"}\n",
       "{compiled,\"/home/runner/work/spiral/polyglot/target/spiral_Eval/packages/c3c91f2c77e9f90dd38a6a09d5b29eb2b2aee41b4b74a2c4dfc1b79f47d62dfb/build/dev/erlang/gleam_stdlib/ebin/gleam@option.beam\"}\n",
       "{compiling,\"/home/runner/work/spiral/polyglot/target/spiral_Eval/packages/c3c91f2c77e9f90dd38a6a09d5b29eb2b2aee41b4b74a2c4dfc1b79f47d62dfb/build/dev/erlang/gleam_stdlib/_gleam_artefacts/gleam@order.erl\"}\n",
       "{compiled,\"/home/runner/work/spiral/polyglot/target/spiral_Eval/packages/c3c91f2c77e9f90dd38a6a09d5b29eb2b2aee41b4b74a2c4dfc1b79f47d62dfb/build/dev/erlang/gleam_stdlib/ebin/gleam@dynamic@decode.beam\"}\n",
       "{compiling,\"/home/runner/work/spiral/polyglot/target/spiral_Eval/packages/c3c91f2c77e9f90dd38a6a09d5b29eb2b2aee41b4b74a2c4dfc1b79f47d62dfb/build/dev/erlang/gleam_stdlib/_gleam_artefacts/gleam@set.erl\"}\n",
       "{compiled,\"/home/runner/work/spiral/polyglot/target/spiral_Eval/packages/c3c91f2c77e9f90dd38a6a09d5b29eb2b2aee41b4b74a2c4dfc1b79f47d62dfb/build/dev/erlang/gleam_stdlib/ebin/gleam@order.beam\"}\n",
       "{compiling,\"/home/runner/work/spiral/polyglot/target/spiral_Eval/packages/c3c91f2c77e9f90dd38a6a09d5b29eb2b2aee41b4b74a2c4dfc1b79f47d62dfb/build/dev/erlang/gleam_stdlib/_gleam_artefacts/gleam@bytes_tree.erl\"}\n",
       "{compiled,\"/home/runner/work/spiral/polyglot/target/spiral_Eval/packages/c3c91f2c77e9f90dd38a6a09d5b29eb2b2aee41b4b74a2c4dfc1b79f47d62dfb/build/dev/erlang/gleam_stdlib/ebin/gleam@bytes_tree.beam\"}\n",
       "{compiling,\"/home/runner/work/spiral/polyglot/target/spiral_Eval/packages/c3c91f2c77e9f90dd38a6a09d5b29eb2b2aee41b4b74a2c4dfc1b79f47d62dfb/build/dev/erlang/gleam_stdlib/_gleam_artefacts/gleam@result.erl\"}\n",
       "{compiled,\"/home/runner/work/spiral/polyglot/target/spiral_Eval/packages/c3c91f2c77e9f90dd38a6a09d5b29eb2b2aee41b4b74a2c4dfc1b79f47d62dfb/build/dev/erlang/gleam_stdlib/ebin/gleam@set.beam\"}\n",
       "{compiling,\"/home/runner/work/spiral/polyglot/target/spiral_Eval/packages/c3c91f2c77e9f90dd38a6a09d5b29eb2b2aee41b4b74a2c4dfc1b79f47d62dfb/build/dev/erlang/gleam_stdlib/_gleam_artefacts/gleam@string_tree.erl\"}\n",
       "{compiled,\"/home/runner/work/spiral/polyglot/target/spiral_Eval/packages/c3c91f2c77e9f90dd38a6a09d5b29eb2b2aee41b4b74a2c4dfc1b79f47d62dfb/build/dev/erlang/gleam_stdlib/ebin/gleam@result.beam\"}\n",
       "{compiling,\"/home/runner/work/spiral/polyglot/target/spiral_Eval/packages/c3c91f2c77e9f90dd38a6a09d5b29eb2b2aee41b4b74a2c4dfc1b79f47d62dfb/build/dev/erlang/gleam_stdlib/_gleam_artefacts/gleam_stdlib.erl\"}\n",
       "{compiled,\"/home/runner/work/spiral/polyglot/target/spiral_Eval/packages/c3c91f2c77e9f90dd38a6a09d5b29eb2b2aee41b4b74a2c4dfc1b79f47d62dfb/build/dev/erlang/gleam_stdlib/ebin/gleam@string_tree.beam\"}\n",
       "{compiled,\"/home/runner/work/spiral/polyglot/target/spiral_Eval/packages/c3c91f2c77e9f90dd38a6a09d5b29eb2b2aee41b4b74a2c4dfc1b79f47d62dfb/build/dev/erlang/gleam_stdlib/ebin/gleam@uri.beam\"}\n",
       "{compiled,\"/home/runner/work/spiral/polyglot/target/spiral_Eval/packages/c3c91f2c77e9f90dd38a6a09d5b29eb2b2aee41b4b74a2c4dfc1b79f47d62dfb/build/dev/erlang/gleam_stdlib/ebin/gleam@list.beam\"}\n",
       "{compiled,\"/home/runner/work/spiral/polyglot/target/spiral_Eval/packages/c3c91f2c77e9f90dd38a6a09d5b29eb2b2aee41b4b74a2c4dfc1b79f47d62dfb/build/dev/erlang/gleam_stdlib/ebin/gleam_stdlib.beam\"}\n",
       "{compiling,\"/home/runner/work/spiral/polyglot/target/spiral_Eval/packages/c3c91f2c77e9f90dd38a6a09d5b29eb2b2aee41b4b74a2c4dfc1b79f47d62dfb/build/dev/erlang/gary/_gleam_artefacts/gary.erl\"}\n",
       "{compiling,\"/home/runner/work/spiral/polyglot/target/spiral_Eval/packages/c3c91f2c77e9f90dd38a6a09d5b29eb2b2aee41b4b74a2c4dfc1b79f47d62dfb/build/dev/erlang/gary/_gleam_artefacts/gary@array.erl\"}\n",
       "{compiling,\"/home/runner/work/spiral/polyglot/target/spiral_Eval/packages/c3c91f2c77e9f90dd38a6a09d5b29eb2b2aee41b4b74a2c4dfc1b79f47d62dfb/build/dev/erlang/gary/_gleam_artefacts/internal@array_bindings.erl\"}\n",
       "{compiled,\"/home/runner/work/spiral/polyglot/target/spiral_Eval/packages/c3c91f2c77e9f90dd38a6a09d5b29eb2b2aee41b4b74a2c4dfc1b79f47d62dfb/build/dev/erlang/gary/ebin/gary.beam\"}\n",
       "{compiled,\"/home/runner/work/spiral/polyglot/target/spiral_Eval/packages/c3c91f2c77e9f90dd38a6a09d5b29eb2b2aee41b4b74a2c4dfc1b79f47d62dfb/build/dev/erlang/gary/ebin/internal@array_bindings.beam\"}\n",
       "{compiled,\"/home/runner/work/spiral/polyglot/target/spiral_Eval/packages/c3c91f2c77e9f90dd38a6a09d5b29eb2b2aee41b4b74a2c4dfc1b79f47d62dfb/build/dev/erlang/gary/ebin/gary@array.beam\"}\n",
       "{compiling,\"/home/runner/work/spiral/polyglot/target/spiral_Eval/packages/c3c91f2c77e9f90dd38a6a09d5b29eb2b2aee41b4b74a2c4dfc1b79f47d62dfb/build/dev/erlang/main/_gleam_artefacts/main@@main.erl\"}\n",
       "{compiling,\"/home/runner/work/spiral/polyglot/target/spiral_Eval/packages/c3c91f2c77e9f90dd38a6a09d5b29eb2b2aee41b4b74a2c4dfc1b79f47d62dfb/build/dev/erlang/main/_gleam_artefacts/main.erl\"}\n",
       "{compiled,\"/home/runner/work/spiral/polyglot/target/spiral_Eval/packages/c3c91f2c77e9f90dd38a6a09d5b29eb2b2aee41b4b74a2c4dfc1b79f47d62dfb/build/dev/erlang/main/ebin/main.beam\"}\n",
       "{compiled,\"/home/runner/work/spiral/polyglot/target/spiral_Eval/packages/c3c91f2c77e9f90dd38a6a09d5b29eb2b2aee41b4b74a2c4dfc1b79f47d62dfb/build/dev/erlang/main/ebin/main@@main.beam\"}\n",
       "__assert_eq / actual: 15 / expected: 15\n",
       "\n",
       "\n",
       "\n",
       "\n"
      ]
     },
     "metadata": {},
     "output_type": "display_data"
    },
    {
     "name": "stdout",
     "output_type": "stream",
     "text": [
      ".gleam (Gleam):\n",
      "import gleam/string\n",
      "import gleam/io\n",
      "pub fn method1 () -> Int {\n",
      "    3\n",
      "}\n",
      "pub fn method2 (v0 :    Bool) -> Bool {\n",
      "    v0\n",
      "}\n",
      "pub fn method0 () -> Nil   {\n",
      "    let v0 = method1()\n",
      "    let v1 = 9 + v0\n",
      "    let v2 = v1 + 2\n",
      "    let v3 = v2 + 1\n",
      "    let v4 = v3 == 15\n",
      "    let v6 =\n",
      "        case v4 {\n",
      "            True -> {\n",
      "                True\n",
      "            }\n",
      "            False -> {\n",
      "                method2(v4)\n",
      "            }\n",
      "        }\n",
      "    let v7 = \"__assert_eq\"\n",
      "    let v8 = string.inspect(v3)\n",
      "    let v9 = string.inspect(15)\n",
      "    let v10 = v7 <> \" / actual: \" <> v8 <> \" / expected: \" <> v9\n",
      "    io.println(v10)\n",
      "    let v18 = v6 == False\n",
      "    case v18 {\n",
      "        True -> {\n",
      "            panic as v10\n",
      "        }\n",
      "        False -> {\n",
      "        Nil\n",
      "        }\n",
      "    }\n",
      "}\n",
      "pub fn main () { method0()\n",
      " }\n",
      ".fsx:\n",
      "let rec method1 () : int32 =\n",
      "    3\n",
      "and method2 (v0 : bool) : bool =\n",
      "    v0\n",
      "and closure0 (v0 : string) () : unit =\n",
      "    let v1 : (string -> unit) = System.Console.WriteLine\n",
      "    v1 v0\n",
      "and method0 () : unit =\n",
      "    let v0 : int32 = method1()\n",
      "    let v1 : int32 = 9 + v0\n",
      "    let v2 : int32 = v1 + 2\n",
      "    let v3 : int32 = v2 + 1\n",
      "    let v4 : bool = v3 = 15\n",
      "    let v6 : bool =\n",
      "        if v4 then\n",
      "            true\n",
      "        else\n",
      "            method2(v4)\n",
      "    let v11 : string = \"__assert_eq\"\n",
      "    let v12 : string = $\"{v11} / actual: %A{v3} / expected: %A{15}\"\n",
      "    let v15 : unit = ()\n",
      "    let v16 : (unit -> unit) = closure0(v12)\n",
      "    let v17 : unit = (fun () -> v16 (); v15) ()\n",
      "    let v19 : bool = v6 = false\n",
      "    if v19 then\n",
      "        failwith<unit> v12\n",
      "method0()\n",
      "\n",
      "\n",
      ".rs:\n",
      "#![allow(dead_code)]\n",
      "#![allow(non_camel_case_types)]\n",
      "#![allow(non_snake_case)]\n",
      "#![allow(non_upper_case_globals)]\n",
      "#![allow(unreachable_code)]\n",
      "#![allow(unused_attributes)]\n",
      "#![allow(unused_imports)]\n",
      "#![allow(unused_macros)]\n",
      "#![allow(unused_parens)]\n",
      "#![allow(unused_variables)]\n",
      "#![allow(unused_assignments)]\n",
      "mod module_6ff740fe {\n",
      "    pub mod Spiral {\n",
      "        use super::*;\n",
      "        use fable_library_rust::Native_::on_startup;\n",
      "        use fable_library_rust::String_::printfn;\n",
      "        use fable_library_rust::String_::sprintf;\n",
      "        use fable_library_rust::String_::string;\n",
      "        pub fn method1() -> i32 {\n",
      "            3_i32\n",
      "        }\n",
      "        pub fn method2(v0: bool) -> bool {\n",
      "            v0\n",
      "        }\n",
      "        pub fn closure0(v0: string, unitVar: ()) {\n",
      "            printfn!(\"{0}\", v0);\n",
      "        }\n",
      "        pub fn method0() {\n",
      "            let v3: i32 = ((9_i32 + (Spiral::method1())) + 2_i32) + 1_i32;\n",
      "            let v4: bool = (v3) == 15_i32;\n",
      "            let v6: bool = if v4 { true } else { Spiral::method2(v4) };\n",
      "            let v12: string = sprintf!(\n",
      "                \"{} / actual: {:?} / expected: {:?}\",\n",
      "                string(\"__assert_eq\"),\n",
      "                v3,\n",
      "                15_i32\n",
      "            );\n",
      "            let v17: () = {\n",
      "                Spiral::closure0(v12.clone(), ());\n",
      "                ()\n",
      "            };\n",
      "            if (v6) == false {\n",
      "                panic!(\"{}\", v12,);\n",
      "            }\n",
      "        }\n",
      "        // on_startup!(Spiral::method0());\n",
      "    }\n",
      "}\n",
      "pub use module_6ff740fe::*;\n",
      "\n",
      "\n",
      "\n",
      "pub fn main() -> Result<(), String> { Ok(Spiral::method0()) }\n",
      "\n",
      ".ts:\n",
      "import { int32 } from \"./fable_modules/fable-library-ts.5.0.0-alpha.9/Int32.js\";\n",
      "import { interpolate, toText } from \"./fable_modules/fable-library-ts.5.0.0-alpha.9/String.js\";\n",
      "\n",
      "export function method1(): int32 {\n",
      "    return 3;\n",
      "}\n",
      "\n",
      "export function method2(v0: boolean): boolean {\n",
      "    return v0;\n",
      "}\n",
      "\n",
      "export function closure0(v0: string, unitVar: void): void {\n",
      "    console.log(v0);\n",
      "}\n",
      "\n",
      "export function method0(): void {\n",
      "    const v3: int32 = (((9 + method1()) + 2) + 1) | 0;\n",
      "    const v4: boolean = v3 === 15;\n",
      "    const v6: boolean = v4 ? true : method2(v4);\n",
      "    const v12: string = toText(interpolate(\"%P() / actual: %A%P() / expected: %A%P()\", [\"__assert_eq\", v3, 15]));\n",
      "    let v17: any;\n",
      "    closure0(v12, undefined);\n",
      "    v17 = undefined;\n",
      "    if (v6 === false) {\n",
      "        throw new Error(v12);\n",
      "    }\n",
      "}\n",
      "\n",
      "method0();\n",
      "\n",
      "\n",
      ".py:\n",
      "from fable_modules.fable_library.string_ import (to_text, interpolate)\n",
      "\n",
      "def method1(__unit: None=None) -> int:\n",
      "    return 3\n",
      "\n",
      "\n",
      "def method2(v0: bool) -> bool:\n",
      "    return v0\n",
      "\n",
      "\n",
      "def closure0(v0: str, unit_var: None) -> None:\n",
      "    print(v0)\n",
      "\n",
      "\n",
      "def method0(__unit: None=None) -> None:\n",
      "    v3: int = (((9 + method1()) + 2) + 1) or 0\n",
      "    v4: bool = v3 == 15\n",
      "    v6: bool = True if v4 else method2(v4)\n",
      "    v12: str = to_text(interpolate(\"%P() / actual: %A%P() / expected: %A%P()\", [\"__assert_eq\", v3, 15]))\n",
      "    v17: None\n",
      "    closure0(v12, None)\n",
      "    v17 = None\n",
      "    if v6 == False:\n",
      "        raise Exception(v12)\n",
      "\n",
      "\n",
      "\n",
      "method0()\n",
      "\n",
      "\n",
      ".py (Cuda):\n",
      "kernel = r\"\"\"\n",
      "\"\"\"\n",
      "class static_array():\n",
      "    def __init__(self, length):\n",
      "        self.ptr = []\n",
      "        for _ in range(length):\n",
      "            self.ptr.append(None)\n",
      "\n",
      "    def __getitem__(self, index):\n",
      "        assert 0 <= index < len(self.ptr), \"The get index needs to be in range.\"\n",
      "        return self.ptr[index]\n",
      "    \n",
      "    def __setitem__(self, index, value):\n",
      "        assert 0 <= index < len(self.ptr), \"The set index needs to be in range.\"\n",
      "        self.ptr[index] = value\n",
      "\n",
      "class static_array_list(static_array):\n",
      "    def __init__(self, length):\n",
      "        super().__init__(length)\n",
      "        self.length = 0\n",
      "\n",
      "    def __getitem__(self, index):\n",
      "        assert 0 <= index < self.length, \"The get index needs to be in range.\"\n",
      "        return self.ptr[index]\n",
      "    \n",
      "    def __setitem__(self, index, value):\n",
      "        assert 0 <= index < self.length, \"The set index needs to be in range.\"\n",
      "        self.ptr[index] = value\n",
      "\n",
      "    def push(self,value):\n",
      "        assert (self.length < len(self.ptr)), \"The length before pushing has to be less than the maximum length of the array.\"\n",
      "        self.ptr[self.length] = value\n",
      "        self.length += 1\n",
      "\n",
      "    def pop(self):\n",
      "        assert (0 < self.length), \"The length before popping has to be greater than 0.\"\n",
      "        self.length -= 1\n",
      "        return self.ptr[self.length]\n",
      "\n",
      "    def unsafe_set_length(self,i):\n",
      "        assert 0 <= i <= len(self.ptr), \"The new length has to be in range.\"\n",
      "        self.length = i\n",
      "\n",
      "class dynamic_array(static_array): \n",
      "    pass\n",
      "\n",
      "class dynamic_array_list(static_array_list):\n",
      "    def length_(self): return self.length\n",
      "\n",
      "import cupy as cp\n",
      "import numpy as np\n",
      "from dataclasses import dataclass\n",
      "from typing import NamedTuple, Union, Callable, Tuple\n",
      "i8 = int; i16 = int; i32 = int; i64 = int; u8 = int; u16 = int; u32 = int; u64 = int; f32 = float; f64 = float; char = str; string = str\n",
      "cuda = False\n",
      "\n",
      "def method1() -> i32:\n",
      "    return 3\n",
      "def method2(v0 : bool) -> bool:\n",
      "    return v0\n",
      "def method0() -> None:\n",
      "    v0 = method1()\n",
      "    v1 = 9 + v0\n",
      "    del v0\n",
      "    v2 = v1 + 2\n",
      "    del v1\n",
      "    v3 = v2 + 1\n",
      "    del v2\n",
      "    v4 = v3 == 15\n",
      "    if v4:\n",
      "        v6 = True\n",
      "    else:\n",
      "        v6 = method2(v4)\n",
      "    del v4\n",
      "    v13 = \"__assert_eq\"\n",
      "    v14 = f\"{v13} / actual: {v3} / expected: {15}\"\n",
      "    del v3, v13\n",
      "    print(v14)\n",
      "    v20 = v6 == False\n",
      "    del v6\n",
      "    if v20:\n",
      "        del v20\n",
      "        raise Exception(v14)\n",
      "    else:\n",
      "        del v14, v20\n",
      "        return \n",
      "def main_body():\n",
      "    return method0()\n",
      "\n",
      "def main():\n",
      "    r = main_body()\n",
      "    if cuda: cp.cuda.get_current_stream().synchronize() # This line is here so the `__trap()` calls on the kernel aren't missed.\n",
      "    return r\n",
      "\n",
      "if __name__ == '__main__': result = main(); None if result is None else print(result)\n",
      "\n",
      ".fsx output:\n",
      "__assert_eq / actual: 15 / expected: 15\n"
     ]
    }
   ],
   "source": [
    "//// test\n",
    "///! gleam\n",
    "///! fsharp\n",
    "///! cuda\n",
    "///! rust\n",
    "///! typescript\n",
    "///! python\n",
    "//// print_code\n",
    "\n",
    "[ 5i32; 4; join 3; 2; 1 ]\n",
    "|> fold_list (+) 0\n",
    "|> _assert_eq 15"
   ]
  },
  {
   "cell_type": "code",
   "execution_count": null,
   "metadata": {
    "dotnet_interactive": {
     "language": "spiral"
    },
    "polyglot_notebook": {
     "kernelName": "spiral"
    }
   },
   "outputs": [
    {
     "data": {
      "text/plain": [
       ".py output (Cuda):\n",
       "__assert_eq / actual: 15 / expected: 15\n",
       "\n",
       ".rs output:\n",
       "__assert_eq / actual: 15 / expected: 15\n",
       "\n",
       ".ts output:\n",
       "__assert_eq / actual: 15 / expected: 15\n",
       "\n",
       ".py output:\n",
       "__assert_eq / actual: 15 / expected: 15\n",
       "\n",
       "\n",
       ".gleam output (Gleam):\n",
       "{compiling,\"/home/runner/work/spiral/polyglot/target/spiral_Eval/packages/c7ac0834504a9b8fef05cc6adf9ccd637888bd0650b2f960be38cdb6114d6a29/build/dev/erlang/gleam_stdlib/_gleam_artefacts/gleam@bit_array.erl\"}\n",
       "{compiling,\"/home/runner/work/spiral/polyglot/target/spiral_Eval/packages/c7ac0834504a9b8fef05cc6adf9ccd637888bd0650b2f960be38cdb6114d6a29/build/dev/erlang/gleam_stdlib/_gleam_artefacts/gleam@result.erl\"}\n",
       "{compiling,\"/home/runner/work/spiral/polyglot/target/spiral_Eval/packages/c7ac0834504a9b8fef05cc6adf9ccd637888bd0650b2f960be38cdb6114d6a29/build/dev/erlang/gleam_stdlib/_gleam_artefacts/gleam_stdlib_decode_ffi.erl\"}\n",
       "{compiling,\"/home/runner/work/spiral/polyglot/target/spiral_Eval/packages/c7ac0834504a9b8fef05cc6adf9ccd637888bd0650b2f960be38cdb6114d6a29/build/dev/erlang/gleam_stdlib/_gleam_artefacts/gleam@function.erl\"}\n",
       "{compiled,\"/home/runner/work/spiral/polyglot/target/spiral_Eval/packages/c7ac0834504a9b8fef05cc6adf9ccd637888bd0650b2f960be38cdb6114d6a29/build/dev/erlang/gleam_stdlib/ebin/gleam@function.beam\"}\n",
       "{compiling,\"/home/runner/work/spiral/polyglot/target/spiral_Eval/packages/c7ac0834504a9b8fef05cc6adf9ccd637888bd0650b2f960be38cdb6114d6a29/build/dev/erlang/gleam_stdlib/_gleam_artefacts/gleam@set.erl\"}\n",
       "{compiled,\"/home/runner/work/spiral/polyglot/target/spiral_Eval/packages/c7ac0834504a9b8fef05cc6adf9ccd637888bd0650b2f960be38cdb6114d6a29/build/dev/erlang/gleam_stdlib/ebin/gleam_stdlib_decode_ffi.beam\"}\n",
       "{compiling,\"/home/runner/work/spiral/polyglot/target/spiral_Eval/packages/c7ac0834504a9b8fef05cc6adf9ccd637888bd0650b2f960be38cdb6114d6a29/build/dev/erlang/gleam_stdlib/_gleam_artefacts/gleam_stdlib.erl\"}\n",
       "{compiled,\"/home/runner/work/spiral/polyglot/target/spiral_Eval/packages/c7ac0834504a9b8fef05cc6adf9ccd637888bd0650b2f960be38cdb6114d6a29/build/dev/erlang/gleam_stdlib/ebin/gleam@result.beam\"}\n",
       "{compiling,\"/home/runner/work/spiral/polyglot/target/spiral_Eval/packages/c7ac0834504a9b8fef05cc6adf9ccd637888bd0650b2f960be38cdb6114d6a29/build/dev/erlang/gleam_stdlib/_gleam_artefacts/gleam@dynamic.erl\"}\n",
       "{compiled,\"/home/runner/work/spiral/polyglot/target/spiral_Eval/packages/c7ac0834504a9b8fef05cc6adf9ccd637888bd0650b2f960be38cdb6114d6a29/build/dev/erlang/gleam_stdlib/ebin/gleam@set.beam\"}\n",
       "{compiling,\"/home/runner/work/spiral/polyglot/target/spiral_Eval/packages/c7ac0834504a9b8fef05cc6adf9ccd637888bd0650b2f960be38cdb6114d6a29/build/dev/erlang/gleam_stdlib/_gleam_artefacts/gleam@order.erl\"}\n",
       "{compiled,\"/home/runner/work/spiral/polyglot/target/spiral_Eval/packages/c7ac0834504a9b8fef05cc6adf9ccd637888bd0650b2f960be38cdb6114d6a29/build/dev/erlang/gleam_stdlib/ebin/gleam@order.beam\"}\n",
       "{compiling,\"/home/runner/work/spiral/polyglot/target/spiral_Eval/packages/c7ac0834504a9b8fef05cc6adf9ccd637888bd0650b2f960be38cdb6114d6a29/build/dev/erlang/gleam_stdlib/_gleam_artefacts/gleam@pair.erl\"}\n",
       "{compiled,\"/home/runner/work/spiral/polyglot/target/spiral_Eval/packages/c7ac0834504a9b8fef05cc6adf9ccd637888bd0650b2f960be38cdb6114d6a29/build/dev/erlang/gleam_stdlib/ebin/gleam@bit_array.beam\"}\n",
       "{compiled,\"/home/runner/work/spiral/polyglot/target/spiral_Eval/packages/c7ac0834504a9b8fef05cc6adf9ccd637888bd0650b2f960be38cdb6114d6a29/build/dev/erlang/gleam_stdlib/ebin/gleam@pair.beam\"}\n",
       "{compiling,\"/home/runner/work/spiral/polyglot/target/spiral_Eval/packages/c7ac0834504a9b8fef05cc6adf9ccd637888bd0650b2f960be38cdb6114d6a29/build/dev/erlang/gleam_stdlib/_gleam_artefacts/gleam@dict.erl\"}\n",
       "{compiling,\"/home/runner/work/spiral/polyglot/target/spiral_Eval/packages/c7ac0834504a9b8fef05cc6adf9ccd637888bd0650b2f960be38cdb6114d6a29/build/dev/erlang/gleam_stdlib/_gleam_artefacts/gleam@int.erl\"}\n",
       "{compiled,\"/home/runner/work/spiral/polyglot/target/spiral_Eval/packages/c7ac0834504a9b8fef05cc6adf9ccd637888bd0650b2f960be38cdb6114d6a29/build/dev/erlang/gleam_stdlib/ebin/gleam@dict.beam\"}\n",
       "{compiling,\"/home/runner/work/spiral/polyglot/target/spiral_Eval/packages/c7ac0834504a9b8fef05cc6adf9ccd637888bd0650b2f960be38cdb6114d6a29/build/dev/erlang/gleam_stdlib/_gleam_artefacts/gleam@option.erl\"}\n",
       "{compiled,\"/home/runner/work/spiral/polyglot/target/spiral_Eval/packages/c7ac0834504a9b8fef05cc6adf9ccd637888bd0650b2f960be38cdb6114d6a29/build/dev/erlang/gleam_stdlib/ebin/gleam@int.beam\"}\n",
       "{compiling,\"/home/runner/work/spiral/polyglot/target/spiral_Eval/packages/c7ac0834504a9b8fef05cc6adf9ccd637888bd0650b2f960be38cdb6114d6a29/build/dev/erlang/gleam_stdlib/_gleam_artefacts/gleam@string.erl\"}\n",
       "{compiled,\"/home/runner/work/spiral/polyglot/target/spiral_Eval/packages/c7ac0834504a9b8fef05cc6adf9ccd637888bd0650b2f960be38cdb6114d6a29/build/dev/erlang/gleam_stdlib/ebin/gleam@option.beam\"}\n",
       "{compiling,\"/home/runner/work/spiral/polyglot/target/spiral_Eval/packages/c7ac0834504a9b8fef05cc6adf9ccd637888bd0650b2f960be38cdb6114d6a29/build/dev/erlang/gleam_stdlib/_gleam_artefacts/gleam@float.erl\"}\n",
       "{compiled,\"/home/runner/work/spiral/polyglot/target/spiral_Eval/packages/c7ac0834504a9b8fef05cc6adf9ccd637888bd0650b2f960be38cdb6114d6a29/build/dev/erlang/gleam_stdlib/ebin/gleam@float.beam\"}\n",
       "{compiling,\"/home/runner/work/spiral/polyglot/target/spiral_Eval/packages/c7ac0834504a9b8fef05cc6adf9ccd637888bd0650b2f960be38cdb6114d6a29/build/dev/erlang/gleam_stdlib/_gleam_artefacts/gleam@uri.erl\"}\n",
       "{compiled,\"/home/runner/work/spiral/polyglot/target/spiral_Eval/packages/c7ac0834504a9b8fef05cc6adf9ccd637888bd0650b2f960be38cdb6114d6a29/build/dev/erlang/gleam_stdlib/ebin/gleam@string.beam\"}\n",
       "{compiling,\"/home/runner/work/spiral/polyglot/target/spiral_Eval/packages/c7ac0834504a9b8fef05cc6adf9ccd637888bd0650b2f960be38cdb6114d6a29/build/dev/erlang/gleam_stdlib/_gleam_artefacts/gleam@bool.erl\"}\n",
       "{compiled,\"/home/runner/work/spiral/polyglot/target/spiral_Eval/packages/c7ac0834504a9b8fef05cc6adf9ccd637888bd0650b2f960be38cdb6114d6a29/build/dev/erlang/gleam_stdlib/ebin/gleam@bool.beam\"}\n",
       "{compiling,\"/home/runner/work/spiral/polyglot/target/spiral_Eval/packages/c7ac0834504a9b8fef05cc6adf9ccd637888bd0650b2f960be38cdb6114d6a29/build/dev/erlang/gleam_stdlib/_gleam_artefacts/gleam@list.erl\"}\n",
       "{compiled,\"/home/runner/work/spiral/polyglot/target/spiral_Eval/packages/c7ac0834504a9b8fef05cc6adf9ccd637888bd0650b2f960be38cdb6114d6a29/build/dev/erlang/gleam_stdlib/ebin/gleam_stdlib.beam\"}\n",
       "{compiling,\"/home/runner/work/spiral/polyglot/target/spiral_Eval/packages/c7ac0834504a9b8fef05cc6adf9ccd637888bd0650b2f960be38cdb6114d6a29/build/dev/erlang/gleam_stdlib/_gleam_artefacts/gleam@dynamic@decode.erl\"}\n",
       "{compiled,\"/home/runner/work/spiral/polyglot/target/spiral_Eval/packages/c7ac0834504a9b8fef05cc6adf9ccd637888bd0650b2f960be38cdb6114d6a29/build/dev/erlang/gleam_stdlib/ebin/gleam@dynamic.beam\"}\n",
       "{compiling,\"/home/runner/work/spiral/polyglot/target/spiral_Eval/packages/c7ac0834504a9b8fef05cc6adf9ccd637888bd0650b2f960be38cdb6114d6a29/build/dev/erlang/gleam_stdlib/_gleam_artefacts/gleam@io.erl\"}\n",
       "{compiled,\"/home/runner/work/spiral/polyglot/target/spiral_Eval/packages/c7ac0834504a9b8fef05cc6adf9ccd637888bd0650b2f960be38cdb6114d6a29/build/dev/erlang/gleam_stdlib/ebin/gleam@io.beam\"}\n",
       "{compiling,\"/home/runner/work/spiral/polyglot/target/spiral_Eval/packages/c7ac0834504a9b8fef05cc6adf9ccd637888bd0650b2f960be38cdb6114d6a29/build/dev/erlang/gleam_stdlib/_gleam_artefacts/gleam@string_tree.erl\"}\n",
       "{compiled,\"/home/runner/work/spiral/polyglot/target/spiral_Eval/packages/c7ac0834504a9b8fef05cc6adf9ccd637888bd0650b2f960be38cdb6114d6a29/build/dev/erlang/gleam_stdlib/ebin/gleam@string_tree.beam\"}\n",
       "{compiling,\"/home/runner/work/spiral/polyglot/target/spiral_Eval/packages/c7ac0834504a9b8fef05cc6adf9ccd637888bd0650b2f960be38cdb6114d6a29/build/dev/erlang/gleam_stdlib/_gleam_artefacts/gleam@bytes_tree.erl\"}\n",
       "{compiled,\"/home/runner/work/spiral/polyglot/target/spiral_Eval/packages/c7ac0834504a9b8fef05cc6adf9ccd637888bd0650b2f960be38cdb6114d6a29/build/dev/erlang/gleam_stdlib/ebin/gleam@uri.beam\"}\n",
       "{compiled,\"/home/runner/work/spiral/polyglot/target/spiral_Eval/packages/c7ac0834504a9b8fef05cc6adf9ccd637888bd0650b2f960be38cdb6114d6a29/build/dev/erlang/gleam_stdlib/ebin/gleam@bytes_tree.beam\"}\n",
       "{compiled,\"/home/runner/work/spiral/polyglot/target/spiral_Eval/packages/c7ac0834504a9b8fef05cc6adf9ccd637888bd0650b2f960be38cdb6114d6a29/build/dev/erlang/gleam_stdlib/ebin/gleam@dynamic@decode.beam\"}\n",
       "{compiled,\"/home/runner/work/spiral/polyglot/target/spiral_Eval/packages/c7ac0834504a9b8fef05cc6adf9ccd637888bd0650b2f960be38cdb6114d6a29/build/dev/erlang/gleam_stdlib/ebin/gleam@list.beam\"}\n",
       "{compiling,\"/home/runner/work/spiral/polyglot/target/spiral_Eval/packages/c7ac0834504a9b8fef05cc6adf9ccd637888bd0650b2f960be38cdb6114d6a29/build/dev/erlang/gary/_gleam_artefacts/gary.erl\"}\n",
       "{compiling,\"/home/runner/work/spiral/polyglot/target/spiral_Eval/packages/c7ac0834504a9b8fef05cc6adf9ccd637888bd0650b2f960be38cdb6114d6a29/build/dev/erlang/gary/_gleam_artefacts/gary@array.erl\"}\n",
       "{compiling,\"/home/runner/work/spiral/polyglot/target/spiral_Eval/packages/c7ac0834504a9b8fef05cc6adf9ccd637888bd0650b2f960be38cdb6114d6a29/build/dev/erlang/gary/_gleam_artefacts/internal@array_bindings.erl\"}\n",
       "{compiled,\"/home/runner/work/spiral/polyglot/target/spiral_Eval/packages/c7ac0834504a9b8fef05cc6adf9ccd637888bd0650b2f960be38cdb6114d6a29/build/dev/erlang/gary/ebin/gary.beam\"}\n",
       "{compiled,\"/home/runner/work/spiral/polyglot/target/spiral_Eval/packages/c7ac0834504a9b8fef05cc6adf9ccd637888bd0650b2f960be38cdb6114d6a29/build/dev/erlang/gary/ebin/internal@array_bindings.beam\"}\n",
       "{compiled,\"/home/runner/work/spiral/polyglot/target/spiral_Eval/packages/c7ac0834504a9b8fef05cc6adf9ccd637888bd0650b2f960be38cdb6114d6a29/build/dev/erlang/gary/ebin/gary@array.beam\"}\n",
       "{compiling,\"/home/runner/work/spiral/polyglot/target/spiral_Eval/packages/c7ac0834504a9b8fef05cc6adf9ccd637888bd0650b2f960be38cdb6114d6a29/build/dev/erlang/main/_gleam_artefacts/main@@main.erl\"}\n",
       "{compiling,\"/home/runner/work/spiral/polyglot/target/spiral_Eval/packages/c7ac0834504a9b8fef05cc6adf9ccd637888bd0650b2f960be38cdb6114d6a29/build/dev/erlang/main/_gleam_artefacts/main.erl\"}\n",
       "{compiled,\"/home/runner/work/spiral/polyglot/target/spiral_Eval/packages/c7ac0834504a9b8fef05cc6adf9ccd637888bd0650b2f960be38cdb6114d6a29/build/dev/erlang/main/ebin/main.beam\"}\n",
       "{compiled,\"/home/runner/work/spiral/polyglot/target/spiral_Eval/packages/c7ac0834504a9b8fef05cc6adf9ccd637888bd0650b2f960be38cdb6114d6a29/build/dev/erlang/main/ebin/main@@main.beam\"}\n",
       "__assert_eq / actual: 15 / expected: 15\n",
       "\n",
       "\n",
       "\n",
       "\n"
      ]
     },
     "metadata": {},
     "output_type": "display_data"
    },
    {
     "name": "stdout",
     "output_type": "stream",
     "text": [
      ".gleam (Gleam):\n",
      "import gleam/string\n",
      "import gleam/io\n",
      "pub fn method1 () -> Int {\n",
      "    3\n",
      "}\n",
      "pub fn method2 (v0 :    Int, v1 :    Int) -> Int {\n",
      "    let v2 = v1 + v0\n",
      "    v2\n",
      "}\n",
      "pub fn method3 (v0 :    Bool) -> Bool {\n",
      "    v0\n",
      "}\n",
      "pub fn method0 () -> Nil   {\n",
      "    let v0 = method1()\n",
      "    let v1 = 9\n",
      "    let v2 = method2(v0, v1)\n",
      "    let v3 = v2 + 2\n",
      "    let v4 = v3 + 1\n",
      "    let v5 = v4 == 15\n",
      "    let v7 =\n",
      "        case v5 {\n",
      "            True -> {\n",
      "                True\n",
      "            }\n",
      "            False -> {\n",
      "                method3(v5)\n",
      "            }\n",
      "        }\n",
      "    let v8 = \"__assert_eq\"\n",
      "    let v9 = string.inspect(v4)\n",
      "    let v10 = string.inspect(15)\n",
      "    let v11 = v8 <> \" / actual: \" <> v9 <> \" / expected: \" <> v10\n",
      "    io.println(v11)\n",
      "    let v19 = v7 == False\n",
      "    case v19 {\n",
      "        True -> {\n",
      "            panic as v11\n",
      "        }\n",
      "        False -> {\n",
      "        Nil\n",
      "        }\n",
      "    }\n",
      "}\n",
      "pub fn main () { method0()\n",
      " }\n",
      ".fsx:\n",
      "let rec method1 () : int32 =\n",
      "    3\n",
      "and method2 (v0 : int32, v1 : int32) : int32 =\n",
      "    let v2 : int32 = v1 + v0\n",
      "    v2\n",
      "and method3 (v0 : bool) : bool =\n",
      "    v0\n",
      "and closure0 (v0 : string) () : unit =\n",
      "    let v1 : (string -> unit) = System.Console.WriteLine\n",
      "    v1 v0\n",
      "and method0 () : unit =\n",
      "    let v0 : int32 = method1()\n",
      "    let v1 : int32 = 9\n",
      "    let v2 : int32 = method2(v0, v1)\n",
      "    let v3 : int32 = v2 + 2\n",
      "    let v4 : int32 = v3 + 1\n",
      "    let v5 : bool = v4 = 15\n",
      "    let v7 : bool =\n",
      "        if v5 then\n",
      "            true\n",
      "        else\n",
      "            method3(v5)\n",
      "    let v12 : string = \"__assert_eq\"\n",
      "    let v13 : string = $\"{v12} / actual: %A{v4} / expected: %A{15}\"\n",
      "    let v16 : unit = ()\n",
      "    let v17 : (unit -> unit) = closure0(v13)\n",
      "    let v18 : unit = (fun () -> v17 (); v16) ()\n",
      "    let v20 : bool = v7 = false\n",
      "    if v20 then\n",
      "        failwith<unit> v13\n",
      "method0()\n",
      "\n",
      "\n",
      ".rs:\n",
      "#![allow(dead_code)]\n",
      "#![allow(non_camel_case_types)]\n",
      "#![allow(non_snake_case)]\n",
      "#![allow(non_upper_case_globals)]\n",
      "#![allow(unreachable_code)]\n",
      "#![allow(unused_attributes)]\n",
      "#![allow(unused_imports)]\n",
      "#![allow(unused_macros)]\n",
      "#![allow(unused_parens)]\n",
      "#![allow(unused_variables)]\n",
      "#![allow(unused_assignments)]\n",
      "mod module_6ff740fe {\n",
      "    pub mod Spiral {\n",
      "        use super::*;\n",
      "        use fable_library_rust::Native_::on_startup;\n",
      "        use fable_library_rust::String_::printfn;\n",
      "        use fable_library_rust::String_::sprintf;\n",
      "        use fable_library_rust::String_::string;\n",
      "        pub fn method1() -> i32 {\n",
      "            3_i32\n",
      "        }\n",
      "        pub fn method2(v0: i32, v1: i32) -> i32 {\n",
      "            (v1) + (v0)\n",
      "        }\n",
      "        pub fn method3(v0: bool) -> bool {\n",
      "            v0\n",
      "        }\n",
      "        pub fn closure0(v0: string, unitVar: ()) {\n",
      "            printfn!(\"{0}\", v0);\n",
      "        }\n",
      "        pub fn method0() {\n",
      "            let v4: i32 = ((Spiral::method2(Spiral::method1(), 9_i32)) + 2_i32) + 1_i32;\n",
      "            let v5: bool = (v4) == 15_i32;\n",
      "            let v7: bool = if v5 { true } else { Spiral::method3(v5) };\n",
      "            let v13: string = sprintf!(\n",
      "                \"{} / actual: {:?} / expected: {:?}\",\n",
      "                string(\"__assert_eq\"),\n",
      "                v4,\n",
      "                15_i32\n",
      "            );\n",
      "            let v18: () = {\n",
      "                Spiral::closure0(v13.clone(), ());\n",
      "                ()\n",
      "            };\n",
      "            if (v7) == false {\n",
      "                panic!(\"{}\", v13,);\n",
      "            }\n",
      "        }\n",
      "        // on_startup!(Spiral::method0());\n",
      "    }\n",
      "}\n",
      "pub use module_6ff740fe::*;\n",
      "\n",
      "\n",
      "\n",
      "pub fn main() -> Result<(), String> { Ok(Spiral::method0()) }\n",
      "\n",
      ".ts:\n",
      "import { int32 } from \"./fable_modules/fable-library-ts.5.0.0-alpha.9/Int32.js\";\n",
      "import { interpolate, toText } from \"./fable_modules/fable-library-ts.5.0.0-alpha.9/String.js\";\n",
      "\n",
      "export function method1(): int32 {\n",
      "    return 3;\n",
      "}\n",
      "\n",
      "export function method2(v0: int32, v1: int32): int32 {\n",
      "    return v1 + v0;\n",
      "}\n",
      "\n",
      "export function method3(v0: boolean): boolean {\n",
      "    return v0;\n",
      "}\n",
      "\n",
      "export function closure0(v0: string, unitVar: void): void {\n",
      "    console.log(v0);\n",
      "}\n",
      "\n",
      "export function method0(): void {\n",
      "    const v4: int32 = ((method2(method1(), 9) + 2) + 1) | 0;\n",
      "    const v5: boolean = v4 === 15;\n",
      "    const v7: boolean = v5 ? true : method3(v5);\n",
      "    const v13: string = toText(interpolate(\"%P() / actual: %A%P() / expected: %A%P()\", [\"__assert_eq\", v4, 15]));\n",
      "    let v18: any;\n",
      "    closure0(v13, undefined);\n",
      "    v18 = undefined;\n",
      "    if (v7 === false) {\n",
      "        throw new Error(v13);\n",
      "    }\n",
      "}\n",
      "\n",
      "method0();\n",
      "\n",
      "\n",
      ".py:\n",
      "from fable_modules.fable_library.string_ import (to_text, interpolate)\n",
      "\n",
      "def method1(__unit: None=None) -> int:\n",
      "    return 3\n",
      "\n",
      "\n",
      "def method2(v0: int, v1: int) -> int:\n",
      "    return v1 + v0\n",
      "\n",
      "\n",
      "def method3(v0: bool) -> bool:\n",
      "    return v0\n",
      "\n",
      "\n",
      "def closure0(v0: str, unit_var: None) -> None:\n",
      "    print(v0)\n",
      "\n",
      "\n",
      "def method0(__unit: None=None) -> None:\n",
      "    v4: int = ((method2(method1(), 9) + 2) + 1) or 0\n",
      "    v5: bool = v4 == 15\n",
      "    v7: bool = True if v5 else method3(v5)\n",
      "    v13: str = to_text(interpolate(\"%P() / actual: %A%P() / expected: %A%P()\", [\"__assert_eq\", v4, 15]))\n",
      "    v18: None\n",
      "    closure0(v13, None)\n",
      "    v18 = None\n",
      "    if v7 == False:\n",
      "        raise Exception(v13)\n",
      "\n",
      "\n",
      "\n",
      "method0()\n",
      "\n",
      "\n",
      ".py (Cuda):\n",
      "kernel = r\"\"\"\n",
      "\"\"\"\n",
      "class static_array():\n",
      "    def __init__(self, length):\n",
      "        self.ptr = []\n",
      "        for _ in range(length):\n",
      "            self.ptr.append(None)\n",
      "\n",
      "    def __getitem__(self, index):\n",
      "        assert 0 <= index < len(self.ptr), \"The get index needs to be in range.\"\n",
      "        return self.ptr[index]\n",
      "    \n",
      "    def __setitem__(self, index, value):\n",
      "        assert 0 <= index < len(self.ptr), \"The set index needs to be in range.\"\n",
      "        self.ptr[index] = value\n",
      "\n",
      "class static_array_list(static_array):\n",
      "    def __init__(self, length):\n",
      "        super().__init__(length)\n",
      "        self.length = 0\n",
      "\n",
      "    def __getitem__(self, index):\n",
      "        assert 0 <= index < self.length, \"The get index needs to be in range.\"\n",
      "        return self.ptr[index]\n",
      "    \n",
      "    def __setitem__(self, index, value):\n",
      "        assert 0 <= index < self.length, \"The set index needs to be in range.\"\n",
      "        self.ptr[index] = value\n",
      "\n",
      "    def push(self,value):\n",
      "        assert (self.length < len(self.ptr)), \"The length before pushing has to be less than the maximum length of the array.\"\n",
      "        self.ptr[self.length] = value\n",
      "        self.length += 1\n",
      "\n",
      "    def pop(self):\n",
      "        assert (0 < self.length), \"The length before popping has to be greater than 0.\"\n",
      "        self.length -= 1\n",
      "        return self.ptr[self.length]\n",
      "\n",
      "    def unsafe_set_length(self,i):\n",
      "        assert 0 <= i <= len(self.ptr), \"The new length has to be in range.\"\n",
      "        self.length = i\n",
      "\n",
      "class dynamic_array(static_array): \n",
      "    pass\n",
      "\n",
      "class dynamic_array_list(static_array_list):\n",
      "    def length_(self): return self.length\n",
      "\n",
      "import cupy as cp\n",
      "import numpy as np\n",
      "from dataclasses import dataclass\n",
      "from typing import NamedTuple, Union, Callable, Tuple\n",
      "i8 = int; i16 = int; i32 = int; i64 = int; u8 = int; u16 = int; u32 = int; u64 = int; f32 = float; f64 = float; char = str; string = str\n",
      "cuda = False\n",
      "\n",
      "def method1() -> i32:\n",
      "    return 3\n",
      "def method2(v0 : i32, v1 : i32) -> i32:\n",
      "    v2 = v1 + v0\n",
      "    del v0, v1\n",
      "    return v2\n",
      "def method3(v0 : bool) -> bool:\n",
      "    return v0\n",
      "def method0() -> None:\n",
      "    v0 = method1()\n",
      "    v1 = 9\n",
      "    v2 = method2(v0, v1)\n",
      "    del v0, v1\n",
      "    v3 = v2 + 2\n",
      "    del v2\n",
      "    v4 = v3 + 1\n",
      "    del v3\n",
      "    v5 = v4 == 15\n",
      "    if v5:\n",
      "        v7 = True\n",
      "    else:\n",
      "        v7 = method3(v5)\n",
      "    del v5\n",
      "    v14 = \"__assert_eq\"\n",
      "    v15 = f\"{v14} / actual: {v4} / expected: {15}\"\n",
      "    del v4, v14\n",
      "    print(v15)\n",
      "    v21 = v7 == False\n",
      "    del v7\n",
      "    if v21:\n",
      "        del v21\n",
      "        raise Exception(v15)\n",
      "    else:\n",
      "        del v15, v21\n",
      "        return \n",
      "def main_body():\n",
      "    return method0()\n",
      "\n",
      "def main():\n",
      "    r = main_body()\n",
      "    if cuda: cp.cuda.get_current_stream().synchronize() # This line is here so the `__trap()` calls on the kernel aren't missed.\n",
      "    return r\n",
      "\n",
      "if __name__ == '__main__': result = main(); None if result is None else print(result)\n",
      "\n",
      ".fsx output:\n",
      "__assert_eq / actual: 15 / expected: 15\n"
     ]
    }
   ],
   "source": [
    "//// test\n",
    "///! gleam\n",
    "///! fsharp\n",
    "///! cuda\n",
    "///! rust\n",
    "///! typescript\n",
    "///! python\n",
    "//// print_code\n",
    "\n",
    "[ 5i32; 4; join 3; 2; 1 ]\n",
    "|> fold_list (join_body (+)) 0\n",
    "|> _assert_eq 15"
   ]
  },
  {
   "cell_type": "markdown",
   "metadata": {},
   "source": [
    "### join_body_unit"
   ]
  },
  {
   "cell_type": "code",
   "execution_count": null,
   "metadata": {
    "dotnet_interactive": {
     "language": "spiral"
    },
    "polyglot_notebook": {
     "kernelName": "spiral"
    }
   },
   "outputs": [],
   "source": [
    "inl join_body_unit body d x =\n",
    "    if var_is d |> not\n",
    "    then body x\n",
    "    else\n",
    "        inl x = dyn x\n",
    "        join body x"
   ]
  },
  {
   "cell_type": "code",
   "execution_count": null,
   "metadata": {
    "dotnet_interactive": {
     "language": "spiral"
    },
    "polyglot_notebook": {
     "kernelName": "spiral"
    }
   },
   "outputs": [
    {
     "data": {
      "text/plain": [
       ".py output (Cuda):\n",
       "__assert_eq / actual: 15 / expected: 15\n",
       "\n",
       ".rs output:\n",
       "__assert_eq / actual: 15 / expected: 15\n",
       "\n",
       ".ts output:\n",
       "__assert_eq / actual: 15 / expected: 15\n",
       "\n",
       ".py output:\n",
       "__assert_eq / actual: 15 / expected: 15\n",
       "\n",
       "\n",
       ".gleam output (Gleam):\n",
       "{compiling,\"/home/runner/work/spiral/polyglot/target/spiral_Eval/packages/a3d84dafa6a63bfa00c45858376bf72f1ca39e78a888e5500d56da580527583d/build/dev/erlang/gleam_stdlib/_gleam_artefacts/gleam@bytes_tree.erl\"}\n",
       "{compiling,\"/home/runner/work/spiral/polyglot/target/spiral_Eval/packages/a3d84dafa6a63bfa00c45858376bf72f1ca39e78a888e5500d56da580527583d/build/dev/erlang/gleam_stdlib/_gleam_artefacts/gleam@int.erl\"}\n",
       "{compiling,\"/home/runner/work/spiral/polyglot/target/spiral_Eval/packages/a3d84dafa6a63bfa00c45858376bf72f1ca39e78a888e5500d56da580527583d/build/dev/erlang/gleam_stdlib/_gleam_artefacts/gleam@result.erl\"}\n",
       "{compiling,\"/home/runner/work/spiral/polyglot/target/spiral_Eval/packages/a3d84dafa6a63bfa00c45858376bf72f1ca39e78a888e5500d56da580527583d/build/dev/erlang/gleam_stdlib/_gleam_artefacts/gleam_stdlib.erl\"}\n",
       "{compiled,\"/home/runner/work/spiral/polyglot/target/spiral_Eval/packages/a3d84dafa6a63bfa00c45858376bf72f1ca39e78a888e5500d56da580527583d/build/dev/erlang/gleam_stdlib/ebin/gleam@bytes_tree.beam\"}\n",
       "{compiling,\"/home/runner/work/spiral/polyglot/target/spiral_Eval/packages/a3d84dafa6a63bfa00c45858376bf72f1ca39e78a888e5500d56da580527583d/build/dev/erlang/gleam_stdlib/_gleam_artefacts/gleam@list.erl\"}\n",
       "{compiled,\"/home/runner/work/spiral/polyglot/target/spiral_Eval/packages/a3d84dafa6a63bfa00c45858376bf72f1ca39e78a888e5500d56da580527583d/build/dev/erlang/gleam_stdlib/ebin/gleam@result.beam\"}\n",
       "{compiling,\"/home/runner/work/spiral/polyglot/target/spiral_Eval/packages/a3d84dafa6a63bfa00c45858376bf72f1ca39e78a888e5500d56da580527583d/build/dev/erlang/gleam_stdlib/_gleam_artefacts/gleam@dict.erl\"}\n",
       "{compiled,\"/home/runner/work/spiral/polyglot/target/spiral_Eval/packages/a3d84dafa6a63bfa00c45858376bf72f1ca39e78a888e5500d56da580527583d/build/dev/erlang/gleam_stdlib/ebin/gleam@int.beam\"}\n",
       "{compiling,\"/home/runner/work/spiral/polyglot/target/spiral_Eval/packages/a3d84dafa6a63bfa00c45858376bf72f1ca39e78a888e5500d56da580527583d/build/dev/erlang/gleam_stdlib/_gleam_artefacts/gleam@io.erl\"}\n",
       "{compiled,\"/home/runner/work/spiral/polyglot/target/spiral_Eval/packages/a3d84dafa6a63bfa00c45858376bf72f1ca39e78a888e5500d56da580527583d/build/dev/erlang/gleam_stdlib/ebin/gleam@io.beam\"}\n",
       "{compiling,\"/home/runner/work/spiral/polyglot/target/spiral_Eval/packages/a3d84dafa6a63bfa00c45858376bf72f1ca39e78a888e5500d56da580527583d/build/dev/erlang/gleam_stdlib/_gleam_artefacts/gleam@pair.erl\"}\n",
       "{compiled,\"/home/runner/work/spiral/polyglot/target/spiral_Eval/packages/a3d84dafa6a63bfa00c45858376bf72f1ca39e78a888e5500d56da580527583d/build/dev/erlang/gleam_stdlib/ebin/gleam@dict.beam\"}\n",
       "{compiling,\"/home/runner/work/spiral/polyglot/target/spiral_Eval/packages/a3d84dafa6a63bfa00c45858376bf72f1ca39e78a888e5500d56da580527583d/build/dev/erlang/gleam_stdlib/_gleam_artefacts/gleam@uri.erl\"}\n",
       "{compiled,\"/home/runner/work/spiral/polyglot/target/spiral_Eval/packages/a3d84dafa6a63bfa00c45858376bf72f1ca39e78a888e5500d56da580527583d/build/dev/erlang/gleam_stdlib/ebin/gleam@pair.beam\"}\n",
       "{compiling,\"/home/runner/work/spiral/polyglot/target/spiral_Eval/packages/a3d84dafa6a63bfa00c45858376bf72f1ca39e78a888e5500d56da580527583d/build/dev/erlang/gleam_stdlib/_gleam_artefacts/gleam@option.erl\"}\n",
       "{compiled,\"/home/runner/work/spiral/polyglot/target/spiral_Eval/packages/a3d84dafa6a63bfa00c45858376bf72f1ca39e78a888e5500d56da580527583d/build/dev/erlang/gleam_stdlib/ebin/gleam@option.beam\"}\n",
       "{compiling,\"/home/runner/work/spiral/polyglot/target/spiral_Eval/packages/a3d84dafa6a63bfa00c45858376bf72f1ca39e78a888e5500d56da580527583d/build/dev/erlang/gleam_stdlib/_gleam_artefacts/gleam@dynamic@decode.erl\"}\n",
       "{compiled,\"/home/runner/work/spiral/polyglot/target/spiral_Eval/packages/a3d84dafa6a63bfa00c45858376bf72f1ca39e78a888e5500d56da580527583d/build/dev/erlang/gleam_stdlib/ebin/gleam@uri.beam\"}\n",
       "{compiling,\"/home/runner/work/spiral/polyglot/target/spiral_Eval/packages/a3d84dafa6a63bfa00c45858376bf72f1ca39e78a888e5500d56da580527583d/build/dev/erlang/gleam_stdlib/_gleam_artefacts/gleam@function.erl\"}\n",
       "{compiled,\"/home/runner/work/spiral/polyglot/target/spiral_Eval/packages/a3d84dafa6a63bfa00c45858376bf72f1ca39e78a888e5500d56da580527583d/build/dev/erlang/gleam_stdlib/ebin/gleam@dynamic@decode.beam\"}\n",
       "{compiled,\"/home/runner/work/spiral/polyglot/target/spiral_Eval/packages/a3d84dafa6a63bfa00c45858376bf72f1ca39e78a888e5500d56da580527583d/build/dev/erlang/gleam_stdlib/ebin/gleam@function.beam\"}\n",
       "{compiled,\"/home/runner/work/spiral/polyglot/target/spiral_Eval/packages/a3d84dafa6a63bfa00c45858376bf72f1ca39e78a888e5500d56da580527583d/build/dev/erlang/gleam_stdlib/ebin/gleam_stdlib.beam\"}\n",
       "{compiling,\"/home/runner/work/spiral/polyglot/target/spiral_Eval/packages/a3d84dafa6a63bfa00c45858376bf72f1ca39e78a888e5500d56da580527583d/build/dev/erlang/gleam_stdlib/_gleam_artefacts/gleam@string.erl\"}\n",
       "{compiling,\"/home/runner/work/spiral/polyglot/target/spiral_Eval/packages/a3d84dafa6a63bfa00c45858376bf72f1ca39e78a888e5500d56da580527583d/build/dev/erlang/gleam_stdlib/_gleam_artefacts/gleam@order.erl\"}\n",
       "{compiling,\"/home/runner/work/spiral/polyglot/target/spiral_Eval/packages/a3d84dafa6a63bfa00c45858376bf72f1ca39e78a888e5500d56da580527583d/build/dev/erlang/gleam_stdlib/_gleam_artefacts/gleam@float.erl\"}\n",
       "{compiled,\"/home/runner/work/spiral/polyglot/target/spiral_Eval/packages/a3d84dafa6a63bfa00c45858376bf72f1ca39e78a888e5500d56da580527583d/build/dev/erlang/gleam_stdlib/ebin/gleam@order.beam\"}\n",
       "{compiling,\"/home/runner/work/spiral/polyglot/target/spiral_Eval/packages/a3d84dafa6a63bfa00c45858376bf72f1ca39e78a888e5500d56da580527583d/build/dev/erlang/gleam_stdlib/_gleam_artefacts/gleam@string_tree.erl\"}\n",
       "{compiled,\"/home/runner/work/spiral/polyglot/target/spiral_Eval/packages/a3d84dafa6a63bfa00c45858376bf72f1ca39e78a888e5500d56da580527583d/build/dev/erlang/gleam_stdlib/ebin/gleam@string_tree.beam\"}\n",
       "{compiling,\"/home/runner/work/spiral/polyglot/target/spiral_Eval/packages/a3d84dafa6a63bfa00c45858376bf72f1ca39e78a888e5500d56da580527583d/build/dev/erlang/gleam_stdlib/_gleam_artefacts/gleam@dynamic.erl\"}\n",
       "{compiled,\"/home/runner/work/spiral/polyglot/target/spiral_Eval/packages/a3d84dafa6a63bfa00c45858376bf72f1ca39e78a888e5500d56da580527583d/build/dev/erlang/gleam_stdlib/ebin/gleam@float.beam\"}\n",
       "{compiling,\"/home/runner/work/spiral/polyglot/target/spiral_Eval/packages/a3d84dafa6a63bfa00c45858376bf72f1ca39e78a888e5500d56da580527583d/build/dev/erlang/gleam_stdlib/_gleam_artefacts/gleam@set.erl\"}\n",
       "{compiled,\"/home/runner/work/spiral/polyglot/target/spiral_Eval/packages/a3d84dafa6a63bfa00c45858376bf72f1ca39e78a888e5500d56da580527583d/build/dev/erlang/gleam_stdlib/ebin/gleam@string.beam\"}\n",
       "{compiling,\"/home/runner/work/spiral/polyglot/target/spiral_Eval/packages/a3d84dafa6a63bfa00c45858376bf72f1ca39e78a888e5500d56da580527583d/build/dev/erlang/gleam_stdlib/_gleam_artefacts/gleam_stdlib_decode_ffi.erl\"}\n",
       "{compiled,\"/home/runner/work/spiral/polyglot/target/spiral_Eval/packages/a3d84dafa6a63bfa00c45858376bf72f1ca39e78a888e5500d56da580527583d/build/dev/erlang/gleam_stdlib/ebin/gleam@set.beam\"}\n",
       "{compiling,\"/home/runner/work/spiral/polyglot/target/spiral_Eval/packages/a3d84dafa6a63bfa00c45858376bf72f1ca39e78a888e5500d56da580527583d/build/dev/erlang/gleam_stdlib/_gleam_artefacts/gleam@bool.erl\"}\n",
       "{compiled,\"/home/runner/work/spiral/polyglot/target/spiral_Eval/packages/a3d84dafa6a63bfa00c45858376bf72f1ca39e78a888e5500d56da580527583d/build/dev/erlang/gleam_stdlib/ebin/gleam@bool.beam\"}\n",
       "{compiling,\"/home/runner/work/spiral/polyglot/target/spiral_Eval/packages/a3d84dafa6a63bfa00c45858376bf72f1ca39e78a888e5500d56da580527583d/build/dev/erlang/gleam_stdlib/_gleam_artefacts/gleam@bit_array.erl\"}\n",
       "{compiled,\"/home/runner/work/spiral/polyglot/target/spiral_Eval/packages/a3d84dafa6a63bfa00c45858376bf72f1ca39e78a888e5500d56da580527583d/build/dev/erlang/gleam_stdlib/ebin/gleam_stdlib_decode_ffi.beam\"}\n",
       "{compiled,\"/home/runner/work/spiral/polyglot/target/spiral_Eval/packages/a3d84dafa6a63bfa00c45858376bf72f1ca39e78a888e5500d56da580527583d/build/dev/erlang/gleam_stdlib/ebin/gleam@list.beam\"}\n",
       "{compiled,\"/home/runner/work/spiral/polyglot/target/spiral_Eval/packages/a3d84dafa6a63bfa00c45858376bf72f1ca39e78a888e5500d56da580527583d/build/dev/erlang/gleam_stdlib/ebin/gleam@bit_array.beam\"}\n",
       "{compiled,\"/home/runner/work/spiral/polyglot/target/spiral_Eval/packages/a3d84dafa6a63bfa00c45858376bf72f1ca39e78a888e5500d56da580527583d/build/dev/erlang/gleam_stdlib/ebin/gleam@dynamic.beam\"}\n",
       "{compiling,\"/home/runner/work/spiral/polyglot/target/spiral_Eval/packages/a3d84dafa6a63bfa00c45858376bf72f1ca39e78a888e5500d56da580527583d/build/dev/erlang/gary/_gleam_artefacts/gary@array.erl\"}\n",
       "{compiling,\"/home/runner/work/spiral/polyglot/target/spiral_Eval/packages/a3d84dafa6a63bfa00c45858376bf72f1ca39e78a888e5500d56da580527583d/build/dev/erlang/gary/_gleam_artefacts/internal@array_bindings.erl\"}\n",
       "{compiling,\"/home/runner/work/spiral/polyglot/target/spiral_Eval/packages/a3d84dafa6a63bfa00c45858376bf72f1ca39e78a888e5500d56da580527583d/build/dev/erlang/gary/_gleam_artefacts/gary.erl\"}\n",
       "{compiled,\"/home/runner/work/spiral/polyglot/target/spiral_Eval/packages/a3d84dafa6a63bfa00c45858376bf72f1ca39e78a888e5500d56da580527583d/build/dev/erlang/gary/ebin/gary.beam\"}\n",
       "{compiled,\"/home/runner/work/spiral/polyglot/target/spiral_Eval/packages/a3d84dafa6a63bfa00c45858376bf72f1ca39e78a888e5500d56da580527583d/build/dev/erlang/gary/ebin/internal@array_bindings.beam\"}\n",
       "{compiled,\"/home/runner/work/spiral/polyglot/target/spiral_Eval/packages/a3d84dafa6a63bfa00c45858376bf72f1ca39e78a888e5500d56da580527583d/build/dev/erlang/gary/ebin/gary@array.beam\"}\n",
       "{compiling,\"/home/runner/work/spiral/polyglot/target/spiral_Eval/packages/a3d84dafa6a63bfa00c45858376bf72f1ca39e78a888e5500d56da580527583d/build/dev/erlang/main/_gleam_artefacts/main@@main.erl\"}\n",
       "{compiling,\"/home/runner/work/spiral/polyglot/target/spiral_Eval/packages/a3d84dafa6a63bfa00c45858376bf72f1ca39e78a888e5500d56da580527583d/build/dev/erlang/main/_gleam_artefacts/main.erl\"}\n",
       "{compiled,\"/home/runner/work/spiral/polyglot/target/spiral_Eval/packages/a3d84dafa6a63bfa00c45858376bf72f1ca39e78a888e5500d56da580527583d/build/dev/erlang/main/ebin/main.beam\"}\n",
       "{compiled,\"/home/runner/work/spiral/polyglot/target/spiral_Eval/packages/a3d84dafa6a63bfa00c45858376bf72f1ca39e78a888e5500d56da580527583d/build/dev/erlang/main/ebin/main@@main.beam\"}\n",
       "__assert_eq / actual: 15 / expected: 15\n",
       "\n",
       "\n",
       "\n",
       "\n"
      ]
     },
     "metadata": {},
     "output_type": "display_data"
    },
    {
     "name": "stdout",
     "output_type": "stream",
     "text": [
      ".gleam (Gleam):\n",
      "import gleam/string\n",
      "import gleam/io\n",
      "pub fn method1 () -> Int {\n",
      "    3\n",
      "}\n",
      "pub fn method2 (v0 :    Int) -> Int {\n",
      "    let v1 = 9 + v0\n",
      "    v1\n",
      "}\n",
      "pub fn method3 (v0 :    Bool) -> Bool {\n",
      "    v0\n",
      "}\n",
      "pub fn method0 () -> Nil   {\n",
      "    let v0 = method1()\n",
      "    let v1 = method2(v0)\n",
      "    let v2 = v1 + 2\n",
      "    let v3 = v2 + 1\n",
      "    let v4 = v3 == 15\n",
      "    let v6 =\n",
      "        case v4 {\n",
      "            True -> {\n",
      "                True\n",
      "            }\n",
      "            False -> {\n",
      "                method3(v4)\n",
      "            }\n",
      "        }\n",
      "    let v7 = \"__assert_eq\"\n",
      "    let v8 = string.inspect(v3)\n",
      "    let v9 = string.inspect(15)\n",
      "    let v10 = v7 <> \" / actual: \" <> v8 <> \" / expected: \" <> v9\n",
      "    io.println(v10)\n",
      "    let v18 = v6 == False\n",
      "    case v18 {\n",
      "        True -> {\n",
      "            panic as v10\n",
      "        }\n",
      "        False -> {\n",
      "        Nil\n",
      "        }\n",
      "    }\n",
      "}\n",
      "pub fn main () { method0()\n",
      " }\n",
      ".fsx:\n",
      "let rec method1 () : int32 =\n",
      "    3\n",
      "and method2 (v0 : int32) : int32 =\n",
      "    let v1 : int32 = 9 + v0\n",
      "    v1\n",
      "and method3 (v0 : bool) : bool =\n",
      "    v0\n",
      "and closure0 (v0 : string) () : unit =\n",
      "    let v1 : (string -> unit) = System.Console.WriteLine\n",
      "    v1 v0\n",
      "and method0 () : unit =\n",
      "    let v0 : int32 = method1()\n",
      "    let v1 : int32 = method2(v0)\n",
      "    let v2 : int32 = v1 + 2\n",
      "    let v3 : int32 = v2 + 1\n",
      "    let v4 : bool = v3 = 15\n",
      "    let v6 : bool =\n",
      "        if v4 then\n",
      "            true\n",
      "        else\n",
      "            method3(v4)\n",
      "    let v11 : string = \"__assert_eq\"\n",
      "    let v12 : string = $\"{v11} / actual: %A{v3} / expected: %A{15}\"\n",
      "    let v15 : unit = ()\n",
      "    let v16 : (unit -> unit) = closure0(v12)\n",
      "    let v17 : unit = (fun () -> v16 (); v15) ()\n",
      "    let v19 : bool = v6 = false\n",
      "    if v19 then\n",
      "        failwith<unit> v12\n",
      "method0()\n",
      "\n",
      "\n",
      ".rs:\n",
      "#![allow(dead_code)]\n",
      "#![allow(non_camel_case_types)]\n",
      "#![allow(non_snake_case)]\n",
      "#![allow(non_upper_case_globals)]\n",
      "#![allow(unreachable_code)]\n",
      "#![allow(unused_attributes)]\n",
      "#![allow(unused_imports)]\n",
      "#![allow(unused_macros)]\n",
      "#![allow(unused_parens)]\n",
      "#![allow(unused_variables)]\n",
      "#![allow(unused_assignments)]\n",
      "mod module_6ff740fe {\n",
      "    pub mod Spiral {\n",
      "        use super::*;\n",
      "        use fable_library_rust::Native_::on_startup;\n",
      "        use fable_library_rust::String_::printfn;\n",
      "        use fable_library_rust::String_::sprintf;\n",
      "        use fable_library_rust::String_::string;\n",
      "        pub fn method1() -> i32 {\n",
      "            3_i32\n",
      "        }\n",
      "        pub fn method2(v0: i32) -> i32 {\n",
      "            9_i32 + (v0)\n",
      "        }\n",
      "        pub fn method3(v0: bool) -> bool {\n",
      "            v0\n",
      "        }\n",
      "        pub fn closure0(v0: string, unitVar: ()) {\n",
      "            printfn!(\"{0}\", v0);\n",
      "        }\n",
      "        pub fn method0() {\n",
      "            let v3: i32 = ((Spiral::method2(Spiral::method1())) + 2_i32) + 1_i32;\n",
      "            let v4: bool = (v3) == 15_i32;\n",
      "            let v6: bool = if v4 { true } else { Spiral::method3(v4) };\n",
      "            let v12: string = sprintf!(\n",
      "                \"{} / actual: {:?} / expected: {:?}\",\n",
      "                string(\"__assert_eq\"),\n",
      "                v3,\n",
      "                15_i32\n",
      "            );\n",
      "            let v17: () = {\n",
      "                Spiral::closure0(v12.clone(), ());\n",
      "                ()\n",
      "            };\n",
      "            if (v6) == false {\n",
      "                panic!(\"{}\", v12,);\n",
      "            }\n",
      "        }\n",
      "        // on_startup!(Spiral::method0());\n",
      "    }\n",
      "}\n",
      "pub use module_6ff740fe::*;\n",
      "\n",
      "\n",
      "\n",
      "pub fn main() -> Result<(), String> { Ok(Spiral::method0()) }\n",
      "\n",
      ".ts:\n",
      "import { int32 } from \"./fable_modules/fable-library-ts.5.0.0-alpha.9/Int32.js\";\n",
      "import { interpolate, toText } from \"./fable_modules/fable-library-ts.5.0.0-alpha.9/String.js\";\n",
      "\n",
      "export function method1(): int32 {\n",
      "    return 3;\n",
      "}\n",
      "\n",
      "export function method2(v0: int32): int32 {\n",
      "    return 9 + v0;\n",
      "}\n",
      "\n",
      "export function method3(v0: boolean): boolean {\n",
      "    return v0;\n",
      "}\n",
      "\n",
      "export function closure0(v0: string, unitVar: void): void {\n",
      "    console.log(v0);\n",
      "}\n",
      "\n",
      "export function method0(): void {\n",
      "    const v3: int32 = ((method2(method1()) + 2) + 1) | 0;\n",
      "    const v4: boolean = v3 === 15;\n",
      "    const v6: boolean = v4 ? true : method3(v4);\n",
      "    const v12: string = toText(interpolate(\"%P() / actual: %A%P() / expected: %A%P()\", [\"__assert_eq\", v3, 15]));\n",
      "    let v17: any;\n",
      "    closure0(v12, undefined);\n",
      "    v17 = undefined;\n",
      "    if (v6 === false) {\n",
      "        throw new Error(v12);\n",
      "    }\n",
      "}\n",
      "\n",
      "method0();\n",
      "\n",
      "\n",
      ".py:\n",
      "from fable_modules.fable_library.string_ import (to_text, interpolate)\n",
      "\n",
      "def method1(__unit: None=None) -> int:\n",
      "    return 3\n",
      "\n",
      "\n",
      "def method2(v0: int) -> int:\n",
      "    return 9 + v0\n",
      "\n",
      "\n",
      "def method3(v0: bool) -> bool:\n",
      "    return v0\n",
      "\n",
      "\n",
      "def closure0(v0: str, unit_var: None) -> None:\n",
      "    print(v0)\n",
      "\n",
      "\n",
      "def method0(__unit: None=None) -> None:\n",
      "    v3: int = ((method2(method1()) + 2) + 1) or 0\n",
      "    v4: bool = v3 == 15\n",
      "    v6: bool = True if v4 else method3(v4)\n",
      "    v12: str = to_text(interpolate(\"%P() / actual: %A%P() / expected: %A%P()\", [\"__assert_eq\", v3, 15]))\n",
      "    v17: None\n",
      "    closure0(v12, None)\n",
      "    v17 = None\n",
      "    if v6 == False:\n",
      "        raise Exception(v12)\n",
      "\n",
      "\n",
      "\n",
      "method0()\n",
      "\n",
      "\n",
      ".py (Cuda):\n",
      "kernel = r\"\"\"\n",
      "\"\"\"\n",
      "class static_array():\n",
      "    def __init__(self, length):\n",
      "        self.ptr = []\n",
      "        for _ in range(length):\n",
      "            self.ptr.append(None)\n",
      "\n",
      "    def __getitem__(self, index):\n",
      "        assert 0 <= index < len(self.ptr), \"The get index needs to be in range.\"\n",
      "        return self.ptr[index]\n",
      "    \n",
      "    def __setitem__(self, index, value):\n",
      "        assert 0 <= index < len(self.ptr), \"The set index needs to be in range.\"\n",
      "        self.ptr[index] = value\n",
      "\n",
      "class static_array_list(static_array):\n",
      "    def __init__(self, length):\n",
      "        super().__init__(length)\n",
      "        self.length = 0\n",
      "\n",
      "    def __getitem__(self, index):\n",
      "        assert 0 <= index < self.length, \"The get index needs to be in range.\"\n",
      "        return self.ptr[index]\n",
      "    \n",
      "    def __setitem__(self, index, value):\n",
      "        assert 0 <= index < self.length, \"The set index needs to be in range.\"\n",
      "        self.ptr[index] = value\n",
      "\n",
      "    def push(self,value):\n",
      "        assert (self.length < len(self.ptr)), \"The length before pushing has to be less than the maximum length of the array.\"\n",
      "        self.ptr[self.length] = value\n",
      "        self.length += 1\n",
      "\n",
      "    def pop(self):\n",
      "        assert (0 < self.length), \"The length before popping has to be greater than 0.\"\n",
      "        self.length -= 1\n",
      "        return self.ptr[self.length]\n",
      "\n",
      "    def unsafe_set_length(self,i):\n",
      "        assert 0 <= i <= len(self.ptr), \"The new length has to be in range.\"\n",
      "        self.length = i\n",
      "\n",
      "class dynamic_array(static_array): \n",
      "    pass\n",
      "\n",
      "class dynamic_array_list(static_array_list):\n",
      "    def length_(self): return self.length\n",
      "\n",
      "import cupy as cp\n",
      "import numpy as np\n",
      "from dataclasses import dataclass\n",
      "from typing import NamedTuple, Union, Callable, Tuple\n",
      "i8 = int; i16 = int; i32 = int; i64 = int; u8 = int; u16 = int; u32 = int; u64 = int; f32 = float; f64 = float; char = str; string = str\n",
      "cuda = False\n",
      "\n",
      "def method1() -> i32:\n",
      "    return 3\n",
      "def method2(v0 : i32) -> i32:\n",
      "    v1 = 9 + v0\n",
      "    del v0\n",
      "    return v1\n",
      "def method3(v0 : bool) -> bool:\n",
      "    return v0\n",
      "def method0() -> None:\n",
      "    v0 = method1()\n",
      "    v1 = method2(v0)\n",
      "    del v0\n",
      "    v2 = v1 + 2\n",
      "    del v1\n",
      "    v3 = v2 + 1\n",
      "    del v2\n",
      "    v4 = v3 == 15\n",
      "    if v4:\n",
      "        v6 = True\n",
      "    else:\n",
      "        v6 = method3(v4)\n",
      "    del v4\n",
      "    v13 = \"__assert_eq\"\n",
      "    v14 = f\"{v13} / actual: {v3} / expected: {15}\"\n",
      "    del v3, v13\n",
      "    print(v14)\n",
      "    v20 = v6 == False\n",
      "    del v6\n",
      "    if v20:\n",
      "        del v20\n",
      "        raise Exception(v14)\n",
      "    else:\n",
      "        del v14, v20\n",
      "        return \n",
      "def main_body():\n",
      "    return method0()\n",
      "\n",
      "def main():\n",
      "    r = main_body()\n",
      "    if cuda: cp.cuda.get_current_stream().synchronize() # This line is here so the `__trap()` calls on the kernel aren't missed.\n",
      "    return r\n",
      "\n",
      "if __name__ == '__main__': result = main(); None if result is None else print(result)\n",
      "\n",
      ".fsx output:\n",
      "__assert_eq / actual: 15 / expected: 15\n"
     ]
    }
   ],
   "source": [
    "//// test\n",
    "///! gleam\n",
    "///! fsharp\n",
    "///! cuda\n",
    "///! rust\n",
    "///! typescript\n",
    "///! python\n",
    "//// print_code\n",
    "\n",
    "[ 5i32; 4; join 3; 2; 1 ]\n",
    "|> fold_list (fun acc n => join_body_unit ((+) acc) n n) 0\n",
    "|> _assert_eq 15"
   ]
  },
  {
   "cell_type": "markdown",
   "metadata": {},
   "source": [
    "## arithmetic"
   ]
  },
  {
   "cell_type": "markdown",
   "metadata": {},
   "source": [
    "### (+.)"
   ]
  },
  {
   "cell_type": "code",
   "execution_count": null,
   "metadata": {
    "dotnet_interactive": {
     "language": "spiral"
    },
    "polyglot_notebook": {
     "kernelName": "spiral"
    }
   },
   "outputs": [],
   "source": [
    "inl (+.) forall t. (a : t) (b : t) : t =\n",
    "    $'!a + !b '"
   ]
  },
  {
   "cell_type": "code",
   "execution_count": null,
   "metadata": {
    "dotnet_interactive": {
     "language": "spiral"
    },
    "polyglot_notebook": {
     "kernelName": "spiral"
    }
   },
   "outputs": [
    {
     "data": {
      "text/plain": [
       ".py output (Cuda):\n",
       "__assert_eq / actual: -3 / expected: -3\n",
       "\n",
       ".rs output:\n",
       "__assert_eq / actual: -3 / expected: -3\n",
       "\n",
       ".ts output:\n",
       "__assert_eq / actual: -3 / expected: -3\n",
       "\n",
       ".py output:\n",
       "__assert_eq / actual: -3 / expected: -3\n",
       "\n",
       "\n",
       ".gleam output (Gleam):\n",
       "{compiling,\"/home/runner/work/spiral/polyglot/target/spiral_Eval/packages/f4d10745928afa994c1c57c4fa927aa3eeccf27be6495b8f1fb4f3a3eeea48e1/build/dev/erlang/gleam_stdlib/_gleam_artefacts/gleam@result.erl\"}\n",
       "{compiling,\"/home/runner/work/spiral/polyglot/target/spiral_Eval/packages/f4d10745928afa994c1c57c4fa927aa3eeccf27be6495b8f1fb4f3a3eeea48e1/build/dev/erlang/gleam_stdlib/_gleam_artefacts/gleam@io.erl\"}\n",
       "{compiling,\"/home/runner/work/spiral/polyglot/target/spiral_Eval/packages/f4d10745928afa994c1c57c4fa927aa3eeccf27be6495b8f1fb4f3a3eeea48e1/build/dev/erlang/gleam_stdlib/_gleam_artefacts/gleam@string_tree.erl\"}\n",
       "{compiling,\"/home/runner/work/spiral/polyglot/target/spiral_Eval/packages/f4d10745928afa994c1c57c4fa927aa3eeccf27be6495b8f1fb4f3a3eeea48e1/build/dev/erlang/gleam_stdlib/_gleam_artefacts/gleam@order.erl\"}\n",
       "{compiled,\"/home/runner/work/spiral/polyglot/target/spiral_Eval/packages/f4d10745928afa994c1c57c4fa927aa3eeccf27be6495b8f1fb4f3a3eeea48e1/build/dev/erlang/gleam_stdlib/ebin/gleam@io.beam\"}\n",
       "{compiling,\"/home/runner/work/spiral/polyglot/target/spiral_Eval/packages/f4d10745928afa994c1c57c4fa927aa3eeccf27be6495b8f1fb4f3a3eeea48e1/build/dev/erlang/gleam_stdlib/_gleam_artefacts/gleam@bit_array.erl\"}\n",
       "{compiled,\"/home/runner/work/spiral/polyglot/target/spiral_Eval/packages/f4d10745928afa994c1c57c4fa927aa3eeccf27be6495b8f1fb4f3a3eeea48e1/build/dev/erlang/gleam_stdlib/ebin/gleam@order.beam\"}\n",
       "{compiling,\"/home/runner/work/spiral/polyglot/target/spiral_Eval/packages/f4d10745928afa994c1c57c4fa927aa3eeccf27be6495b8f1fb4f3a3eeea48e1/build/dev/erlang/gleam_stdlib/_gleam_artefacts/gleam@dynamic@decode.erl\"}\n",
       "{compiled,\"/home/runner/work/spiral/polyglot/target/spiral_Eval/packages/f4d10745928afa994c1c57c4fa927aa3eeccf27be6495b8f1fb4f3a3eeea48e1/build/dev/erlang/gleam_stdlib/ebin/gleam@string_tree.beam\"}\n",
       "{compiling,\"/home/runner/work/spiral/polyglot/target/spiral_Eval/packages/f4d10745928afa994c1c57c4fa927aa3eeccf27be6495b8f1fb4f3a3eeea48e1/build/dev/erlang/gleam_stdlib/_gleam_artefacts/gleam_stdlib_decode_ffi.erl\"}\n",
       "{compiled,\"/home/runner/work/spiral/polyglot/target/spiral_Eval/packages/f4d10745928afa994c1c57c4fa927aa3eeccf27be6495b8f1fb4f3a3eeea48e1/build/dev/erlang/gleam_stdlib/ebin/gleam@result.beam\"}\n",
       "{compiling,\"/home/runner/work/spiral/polyglot/target/spiral_Eval/packages/f4d10745928afa994c1c57c4fa927aa3eeccf27be6495b8f1fb4f3a3eeea48e1/build/dev/erlang/gleam_stdlib/_gleam_artefacts/gleam@option.erl\"}\n",
       "{compiled,\"/home/runner/work/spiral/polyglot/target/spiral_Eval/packages/f4d10745928afa994c1c57c4fa927aa3eeccf27be6495b8f1fb4f3a3eeea48e1/build/dev/erlang/gleam_stdlib/ebin/gleam_stdlib_decode_ffi.beam\"}\n",
       "{compiling,\"/home/runner/work/spiral/polyglot/target/spiral_Eval/packages/f4d10745928afa994c1c57c4fa927aa3eeccf27be6495b8f1fb4f3a3eeea48e1/build/dev/erlang/gleam_stdlib/_gleam_artefacts/gleam@uri.erl\"}\n",
       "{compiled,\"/home/runner/work/spiral/polyglot/target/spiral_Eval/packages/f4d10745928afa994c1c57c4fa927aa3eeccf27be6495b8f1fb4f3a3eeea48e1/build/dev/erlang/gleam_stdlib/ebin/gleam@option.beam\"}\n",
       "{compiling,\"/home/runner/work/spiral/polyglot/target/spiral_Eval/packages/f4d10745928afa994c1c57c4fa927aa3eeccf27be6495b8f1fb4f3a3eeea48e1/build/dev/erlang/gleam_stdlib/_gleam_artefacts/gleam@set.erl\"}\n",
       "{compiled,\"/home/runner/work/spiral/polyglot/target/spiral_Eval/packages/f4d10745928afa994c1c57c4fa927aa3eeccf27be6495b8f1fb4f3a3eeea48e1/build/dev/erlang/gleam_stdlib/ebin/gleam@bit_array.beam\"}\n",
       "{compiling,\"/home/runner/work/spiral/polyglot/target/spiral_Eval/packages/f4d10745928afa994c1c57c4fa927aa3eeccf27be6495b8f1fb4f3a3eeea48e1/build/dev/erlang/gleam_stdlib/_gleam_artefacts/gleam@list.erl\"}\n",
       "{compiled,\"/home/runner/work/spiral/polyglot/target/spiral_Eval/packages/f4d10745928afa994c1c57c4fa927aa3eeccf27be6495b8f1fb4f3a3eeea48e1/build/dev/erlang/gleam_stdlib/ebin/gleam@set.beam\"}\n",
       "{compiling,\"/home/runner/work/spiral/polyglot/target/spiral_Eval/packages/f4d10745928afa994c1c57c4fa927aa3eeccf27be6495b8f1fb4f3a3eeea48e1/build/dev/erlang/gleam_stdlib/_gleam_artefacts/gleam@int.erl\"}\n",
       "{compiled,\"/home/runner/work/spiral/polyglot/target/spiral_Eval/packages/f4d10745928afa994c1c57c4fa927aa3eeccf27be6495b8f1fb4f3a3eeea48e1/build/dev/erlang/gleam_stdlib/ebin/gleam@dynamic@decode.beam\"}\n",
       "{compiling,\"/home/runner/work/spiral/polyglot/target/spiral_Eval/packages/f4d10745928afa994c1c57c4fa927aa3eeccf27be6495b8f1fb4f3a3eeea48e1/build/dev/erlang/gleam_stdlib/_gleam_artefacts/gleam@bool.erl\"}\n",
       "{compiled,\"/home/runner/work/spiral/polyglot/target/spiral_Eval/packages/f4d10745928afa994c1c57c4fa927aa3eeccf27be6495b8f1fb4f3a3eeea48e1/build/dev/erlang/gleam_stdlib/ebin/gleam@bool.beam\"}\n",
       "{compiling,\"/home/runner/work/spiral/polyglot/target/spiral_Eval/packages/f4d10745928afa994c1c57c4fa927aa3eeccf27be6495b8f1fb4f3a3eeea48e1/build/dev/erlang/gleam_stdlib/_gleam_artefacts/gleam@dict.erl\"}\n",
       "{compiled,\"/home/runner/work/spiral/polyglot/target/spiral_Eval/packages/f4d10745928afa994c1c57c4fa927aa3eeccf27be6495b8f1fb4f3a3eeea48e1/build/dev/erlang/gleam_stdlib/ebin/gleam@int.beam\"}\n",
       "{compiling,\"/home/runner/work/spiral/polyglot/target/spiral_Eval/packages/f4d10745928afa994c1c57c4fa927aa3eeccf27be6495b8f1fb4f3a3eeea48e1/build/dev/erlang/gleam_stdlib/_gleam_artefacts/gleam@function.erl\"}\n",
       "{compiled,\"/home/runner/work/spiral/polyglot/target/spiral_Eval/packages/f4d10745928afa994c1c57c4fa927aa3eeccf27be6495b8f1fb4f3a3eeea48e1/build/dev/erlang/gleam_stdlib/ebin/gleam@function.beam\"}\n",
       "{compiling,\"/home/runner/work/spiral/polyglot/target/spiral_Eval/packages/f4d10745928afa994c1c57c4fa927aa3eeccf27be6495b8f1fb4f3a3eeea48e1/build/dev/erlang/gleam_stdlib/_gleam_artefacts/gleam@bytes_tree.erl\"}\n",
       "{compiled,\"/home/runner/work/spiral/polyglot/target/spiral_Eval/packages/f4d10745928afa994c1c57c4fa927aa3eeccf27be6495b8f1fb4f3a3eeea48e1/build/dev/erlang/gleam_stdlib/ebin/gleam@bytes_tree.beam\"}\n",
       "{compiling,\"/home/runner/work/spiral/polyglot/target/spiral_Eval/packages/f4d10745928afa994c1c57c4fa927aa3eeccf27be6495b8f1fb4f3a3eeea48e1/build/dev/erlang/gleam_stdlib/_gleam_artefacts/gleam@float.erl\"}\n",
       "{compiled,\"/home/runner/work/spiral/polyglot/target/spiral_Eval/packages/f4d10745928afa994c1c57c4fa927aa3eeccf27be6495b8f1fb4f3a3eeea48e1/build/dev/erlang/gleam_stdlib/ebin/gleam@dict.beam\"}\n",
       "{compiling,\"/home/runner/work/spiral/polyglot/target/spiral_Eval/packages/f4d10745928afa994c1c57c4fa927aa3eeccf27be6495b8f1fb4f3a3eeea48e1/build/dev/erlang/gleam_stdlib/_gleam_artefacts/gleam_stdlib.erl\"}\n",
       "{compiled,\"/home/runner/work/spiral/polyglot/target/spiral_Eval/packages/f4d10745928afa994c1c57c4fa927aa3eeccf27be6495b8f1fb4f3a3eeea48e1/build/dev/erlang/gleam_stdlib/ebin/gleam@uri.beam\"}\n",
       "{compiling,\"/home/runner/work/spiral/polyglot/target/spiral_Eval/packages/f4d10745928afa994c1c57c4fa927aa3eeccf27be6495b8f1fb4f3a3eeea48e1/build/dev/erlang/gleam_stdlib/_gleam_artefacts/gleam@pair.erl\"}\n",
       "{compiled,\"/home/runner/work/spiral/polyglot/target/spiral_Eval/packages/f4d10745928afa994c1c57c4fa927aa3eeccf27be6495b8f1fb4f3a3eeea48e1/build/dev/erlang/gleam_stdlib/ebin/gleam@pair.beam\"}\n",
       "{compiling,\"/home/runner/work/spiral/polyglot/target/spiral_Eval/packages/f4d10745928afa994c1c57c4fa927aa3eeccf27be6495b8f1fb4f3a3eeea48e1/build/dev/erlang/gleam_stdlib/_gleam_artefacts/gleam@string.erl\"}\n",
       "{compiled,\"/home/runner/work/spiral/polyglot/target/spiral_Eval/packages/f4d10745928afa994c1c57c4fa927aa3eeccf27be6495b8f1fb4f3a3eeea48e1/build/dev/erlang/gleam_stdlib/ebin/gleam@float.beam\"}\n",
       "{compiling,\"/home/runner/work/spiral/polyglot/target/spiral_Eval/packages/f4d10745928afa994c1c57c4fa927aa3eeccf27be6495b8f1fb4f3a3eeea48e1/build/dev/erlang/gleam_stdlib/_gleam_artefacts/gleam@dynamic.erl\"}\n",
       "{compiled,\"/home/runner/work/spiral/polyglot/target/spiral_Eval/packages/f4d10745928afa994c1c57c4fa927aa3eeccf27be6495b8f1fb4f3a3eeea48e1/build/dev/erlang/gleam_stdlib/ebin/gleam@string.beam\"}\n",
       "{compiled,\"/home/runner/work/spiral/polyglot/target/spiral_Eval/packages/f4d10745928afa994c1c57c4fa927aa3eeccf27be6495b8f1fb4f3a3eeea48e1/build/dev/erlang/gleam_stdlib/ebin/gleam_stdlib.beam\"}\n",
       "{compiled,\"/home/runner/work/spiral/polyglot/target/spiral_Eval/packages/f4d10745928afa994c1c57c4fa927aa3eeccf27be6495b8f1fb4f3a3eeea48e1/build/dev/erlang/gleam_stdlib/ebin/gleam@list.beam\"}\n",
       "{compiled,\"/home/runner/work/spiral/polyglot/target/spiral_Eval/packages/f4d10745928afa994c1c57c4fa927aa3eeccf27be6495b8f1fb4f3a3eeea48e1/build/dev/erlang/gleam_stdlib/ebin/gleam@dynamic.beam\"}\n",
       "{compiling,\"/home/runner/work/spiral/polyglot/target/spiral_Eval/packages/f4d10745928afa994c1c57c4fa927aa3eeccf27be6495b8f1fb4f3a3eeea48e1/build/dev/erlang/gary/_gleam_artefacts/internal@array_bindings.erl\"}\n",
       "{compiling,\"/home/runner/work/spiral/polyglot/target/spiral_Eval/packages/f4d10745928afa994c1c57c4fa927aa3eeccf27be6495b8f1fb4f3a3eeea48e1/build/dev/erlang/gary/_gleam_artefacts/gary.erl\"}\n",
       "{compiling,\"/home/runner/work/spiral/polyglot/target/spiral_Eval/packages/f4d10745928afa994c1c57c4fa927aa3eeccf27be6495b8f1fb4f3a3eeea48e1/build/dev/erlang/gary/_gleam_artefacts/gary@array.erl\"}\n",
       "{compiled,\"/home/runner/work/spiral/polyglot/target/spiral_Eval/packages/f4d10745928afa994c1c57c4fa927aa3eeccf27be6495b8f1fb4f3a3eeea48e1/build/dev/erlang/gary/ebin/gary.beam\"}\n",
       "{compiled,\"/home/runner/work/spiral/polyglot/target/spiral_Eval/packages/f4d10745928afa994c1c57c4fa927aa3eeccf27be6495b8f1fb4f3a3eeea48e1/build/dev/erlang/gary/ebin/internal@array_bindings.beam\"}\n",
       "{compiled,\"/home/runner/work/spiral/polyglot/target/spiral_Eval/packages/f4d10745928afa994c1c57c4fa927aa3eeccf27be6495b8f1fb4f3a3eeea48e1/build/dev/erlang/gary/ebin/gary@array.beam\"}\n",
       "{compiling,\"/home/runner/work/spiral/polyglot/target/spiral_Eval/packages/f4d10745928afa994c1c57c4fa927aa3eeccf27be6495b8f1fb4f3a3eeea48e1/build/dev/erlang/main/_gleam_artefacts/main.erl\"}\n",
       "{compiling,\"/home/runner/work/spiral/polyglot/target/spiral_Eval/packages/f4d10745928afa994c1c57c4fa927aa3eeccf27be6495b8f1fb4f3a3eeea48e1/build/dev/erlang/main/_gleam_artefacts/main@@main.erl\"}\n",
       "{compiled,\"/home/runner/work/spiral/polyglot/target/spiral_Eval/packages/f4d10745928afa994c1c57c4fa927aa3eeccf27be6495b8f1fb4f3a3eeea48e1/build/dev/erlang/main/ebin/main.beam\"}\n",
       "{compiled,\"/home/runner/work/spiral/polyglot/target/spiral_Eval/packages/f4d10745928afa994c1c57c4fa927aa3eeccf27be6495b8f1fb4f3a3eeea48e1/build/dev/erlang/main/ebin/main@@main.beam\"}\n",
       "__assert_eq / actual: -3 / expected: -3\n",
       "\n",
       "\n"
      ]
     },
     "metadata": {},
     "output_type": "display_data"
    },
    {
     "name": "stdout",
     "output_type": "stream",
     "text": [
      ".fsx output:\n",
      "__assert_eq / actual: -3 / expected: -3\n"
     ]
    }
   ],
   "source": [
    "//// test\n",
    "///! gleam\n",
    "///! fsharp\n",
    "///! cuda\n",
    "///! rust\n",
    "///! typescript\n",
    "///! python\n",
    "\n",
    "($'3' : i32) +. ($'-6' : i32)\n",
    "|> _assert_eq -3i32"
   ]
  },
  {
   "cell_type": "markdown",
   "metadata": {},
   "source": [
    "### (-.)"
   ]
  },
  {
   "cell_type": "code",
   "execution_count": null,
   "metadata": {
    "dotnet_interactive": {
     "language": "spiral"
    },
    "polyglot_notebook": {
     "kernelName": "spiral"
    }
   },
   "outputs": [],
   "source": [
    "inl (-.) forall t. (a : t) (b : t) : t =\n",
    "    $'!a - !b '"
   ]
  },
  {
   "cell_type": "code",
   "execution_count": null,
   "metadata": {
    "dotnet_interactive": {
     "language": "spiral"
    },
    "polyglot_notebook": {
     "kernelName": "spiral"
    }
   },
   "outputs": [
    {
     "data": {
      "text/plain": [
       ".py output (Cuda):\n",
       "__assert_eq / actual: -3 / expected: -3\n",
       "\n",
       ".rs output:\n",
       "__assert_eq / actual: -3 / expected: -3\n",
       "\n",
       ".ts output:\n",
       "__assert_eq / actual: -3 / expected: -3\n",
       "\n",
       ".py output:\n",
       "__assert_eq / actual: -3 / expected: -3\n",
       "\n",
       "\n",
       ".gleam output (Gleam):\n",
       "{compiling,\"/home/runner/work/spiral/polyglot/target/spiral_Eval/packages/564412dd855228db656de9d06b4ee973ad969df939d72fa26d43996f3c34f192/build/dev/erlang/gleam_stdlib/_gleam_artefacts/gleam@set.erl\"}\n",
       "{compiling,\"/home/runner/work/spiral/polyglot/target/spiral_Eval/packages/564412dd855228db656de9d06b4ee973ad969df939d72fa26d43996f3c34f192/build/dev/erlang/gleam_stdlib/_gleam_artefacts/gleam_stdlib.erl\"}\n",
       "{compiling,\"/home/runner/work/spiral/polyglot/target/spiral_Eval/packages/564412dd855228db656de9d06b4ee973ad969df939d72fa26d43996f3c34f192/build/dev/erlang/gleam_stdlib/_gleam_artefacts/gleam@bool.erl\"}\n",
       "{compiling,\"/home/runner/work/spiral/polyglot/target/spiral_Eval/packages/564412dd855228db656de9d06b4ee973ad969df939d72fa26d43996f3c34f192/build/dev/erlang/gleam_stdlib/_gleam_artefacts/gleam@dynamic.erl\"}\n",
       "{compiled,\"/home/runner/work/spiral/polyglot/target/spiral_Eval/packages/564412dd855228db656de9d06b4ee973ad969df939d72fa26d43996f3c34f192/build/dev/erlang/gleam_stdlib/ebin/gleam@bool.beam\"}\n",
       "{compiling,\"/home/runner/work/spiral/polyglot/target/spiral_Eval/packages/564412dd855228db656de9d06b4ee973ad969df939d72fa26d43996f3c34f192/build/dev/erlang/gleam_stdlib/_gleam_artefacts/gleam@string_tree.erl\"}\n",
       "{compiled,\"/home/runner/work/spiral/polyglot/target/spiral_Eval/packages/564412dd855228db656de9d06b4ee973ad969df939d72fa26d43996f3c34f192/build/dev/erlang/gleam_stdlib/ebin/gleam@set.beam\"}\n",
       "{compiling,\"/home/runner/work/spiral/polyglot/target/spiral_Eval/packages/564412dd855228db656de9d06b4ee973ad969df939d72fa26d43996f3c34f192/build/dev/erlang/gleam_stdlib/_gleam_artefacts/gleam@order.erl\"}\n",
       "{compiled,\"/home/runner/work/spiral/polyglot/target/spiral_Eval/packages/564412dd855228db656de9d06b4ee973ad969df939d72fa26d43996f3c34f192/build/dev/erlang/gleam_stdlib/ebin/gleam@string_tree.beam\"}\n",
       "{compiling,\"/home/runner/work/spiral/polyglot/target/spiral_Eval/packages/564412dd855228db656de9d06b4ee973ad969df939d72fa26d43996f3c34f192/build/dev/erlang/gleam_stdlib/_gleam_artefacts/gleam@bit_array.erl\"}\n",
       "{compiled,\"/home/runner/work/spiral/polyglot/target/spiral_Eval/packages/564412dd855228db656de9d06b4ee973ad969df939d72fa26d43996f3c34f192/build/dev/erlang/gleam_stdlib/ebin/gleam@order.beam\"}\n",
       "{compiling,\"/home/runner/work/spiral/polyglot/target/spiral_Eval/packages/564412dd855228db656de9d06b4ee973ad969df939d72fa26d43996f3c34f192/build/dev/erlang/gleam_stdlib/_gleam_artefacts/gleam@option.erl\"}\n",
       "{compiled,\"/home/runner/work/spiral/polyglot/target/spiral_Eval/packages/564412dd855228db656de9d06b4ee973ad969df939d72fa26d43996f3c34f192/build/dev/erlang/gleam_stdlib/ebin/gleam@option.beam\"}\n",
       "{compiling,\"/home/runner/work/spiral/polyglot/target/spiral_Eval/packages/564412dd855228db656de9d06b4ee973ad969df939d72fa26d43996f3c34f192/build/dev/erlang/gleam_stdlib/_gleam_artefacts/gleam@function.erl\"}\n",
       "{compiled,\"/home/runner/work/spiral/polyglot/target/spiral_Eval/packages/564412dd855228db656de9d06b4ee973ad969df939d72fa26d43996f3c34f192/build/dev/erlang/gleam_stdlib/ebin/gleam@function.beam\"}\n",
       "{compiling,\"/home/runner/work/spiral/polyglot/target/spiral_Eval/packages/564412dd855228db656de9d06b4ee973ad969df939d72fa26d43996f3c34f192/build/dev/erlang/gleam_stdlib/_gleam_artefacts/gleam@pair.erl\"}\n",
       "{compiled,\"/home/runner/work/spiral/polyglot/target/spiral_Eval/packages/564412dd855228db656de9d06b4ee973ad969df939d72fa26d43996f3c34f192/build/dev/erlang/gleam_stdlib/ebin/gleam@pair.beam\"}\n",
       "{compiling,\"/home/runner/work/spiral/polyglot/target/spiral_Eval/packages/564412dd855228db656de9d06b4ee973ad969df939d72fa26d43996f3c34f192/build/dev/erlang/gleam_stdlib/_gleam_artefacts/gleam@uri.erl\"}\n",
       "{compiled,\"/home/runner/work/spiral/polyglot/target/spiral_Eval/packages/564412dd855228db656de9d06b4ee973ad969df939d72fa26d43996f3c34f192/build/dev/erlang/gleam_stdlib/ebin/gleam@bit_array.beam\"}\n",
       "{compiling,\"/home/runner/work/spiral/polyglot/target/spiral_Eval/packages/564412dd855228db656de9d06b4ee973ad969df939d72fa26d43996f3c34f192/build/dev/erlang/gleam_stdlib/_gleam_artefacts/gleam@bytes_tree.erl\"}\n",
       "{compiled,\"/home/runner/work/spiral/polyglot/target/spiral_Eval/packages/564412dd855228db656de9d06b4ee973ad969df939d72fa26d43996f3c34f192/build/dev/erlang/gleam_stdlib/ebin/gleam@bytes_tree.beam\"}\n",
       "{compiling,\"/home/runner/work/spiral/polyglot/target/spiral_Eval/packages/564412dd855228db656de9d06b4ee973ad969df939d72fa26d43996f3c34f192/build/dev/erlang/gleam_stdlib/_gleam_artefacts/gleam_stdlib_decode_ffi.erl\"}\n",
       "{compiled,\"/home/runner/work/spiral/polyglot/target/spiral_Eval/packages/564412dd855228db656de9d06b4ee973ad969df939d72fa26d43996f3c34f192/build/dev/erlang/gleam_stdlib/ebin/gleam_stdlib_decode_ffi.beam\"}\n",
       "{compiling,\"/home/runner/work/spiral/polyglot/target/spiral_Eval/packages/564412dd855228db656de9d06b4ee973ad969df939d72fa26d43996f3c34f192/build/dev/erlang/gleam_stdlib/_gleam_artefacts/gleam@io.erl\"}\n",
       "{compiled,\"/home/runner/work/spiral/polyglot/target/spiral_Eval/packages/564412dd855228db656de9d06b4ee973ad969df939d72fa26d43996f3c34f192/build/dev/erlang/gleam_stdlib/ebin/gleam@io.beam\"}\n",
       "{compiling,\"/home/runner/work/spiral/polyglot/target/spiral_Eval/packages/564412dd855228db656de9d06b4ee973ad969df939d72fa26d43996f3c34f192/build/dev/erlang/gleam_stdlib/_gleam_artefacts/gleam@result.erl\"}\n",
       "{compiled,\"/home/runner/work/spiral/polyglot/target/spiral_Eval/packages/564412dd855228db656de9d06b4ee973ad969df939d72fa26d43996f3c34f192/build/dev/erlang/gleam_stdlib/ebin/gleam@result.beam\"}\n",
       "{compiling,\"/home/runner/work/spiral/polyglot/target/spiral_Eval/packages/564412dd855228db656de9d06b4ee973ad969df939d72fa26d43996f3c34f192/build/dev/erlang/gleam_stdlib/_gleam_artefacts/gleam@dynamic@decode.erl\"}\n",
       "{compiled,\"/home/runner/work/spiral/polyglot/target/spiral_Eval/packages/564412dd855228db656de9d06b4ee973ad969df939d72fa26d43996f3c34f192/build/dev/erlang/gleam_stdlib/ebin/gleam_stdlib.beam\"}\n",
       "{compiling,\"/home/runner/work/spiral/polyglot/target/spiral_Eval/packages/564412dd855228db656de9d06b4ee973ad969df939d72fa26d43996f3c34f192/build/dev/erlang/gleam_stdlib/_gleam_artefacts/gleam@float.erl\"}\n",
       "{compiled,\"/home/runner/work/spiral/polyglot/target/spiral_Eval/packages/564412dd855228db656de9d06b4ee973ad969df939d72fa26d43996f3c34f192/build/dev/erlang/gleam_stdlib/ebin/gleam@dynamic.beam\"}\n",
       "{compiling,\"/home/runner/work/spiral/polyglot/target/spiral_Eval/packages/564412dd855228db656de9d06b4ee973ad969df939d72fa26d43996f3c34f192/build/dev/erlang/gleam_stdlib/_gleam_artefacts/gleam@dict.erl\"}\n",
       "{compiled,\"/home/runner/work/spiral/polyglot/target/spiral_Eval/packages/564412dd855228db656de9d06b4ee973ad969df939d72fa26d43996f3c34f192/build/dev/erlang/gleam_stdlib/ebin/gleam@uri.beam\"}\n",
       "{compiling,\"/home/runner/work/spiral/polyglot/target/spiral_Eval/packages/564412dd855228db656de9d06b4ee973ad969df939d72fa26d43996f3c34f192/build/dev/erlang/gleam_stdlib/_gleam_artefacts/gleam@int.erl\"}\n",
       "{compiled,\"/home/runner/work/spiral/polyglot/target/spiral_Eval/packages/564412dd855228db656de9d06b4ee973ad969df939d72fa26d43996f3c34f192/build/dev/erlang/gleam_stdlib/ebin/gleam@float.beam\"}\n",
       "{compiling,\"/home/runner/work/spiral/polyglot/target/spiral_Eval/packages/564412dd855228db656de9d06b4ee973ad969df939d72fa26d43996f3c34f192/build/dev/erlang/gleam_stdlib/_gleam_artefacts/gleam@string.erl\"}\n",
       "{compiled,\"/home/runner/work/spiral/polyglot/target/spiral_Eval/packages/564412dd855228db656de9d06b4ee973ad969df939d72fa26d43996f3c34f192/build/dev/erlang/gleam_stdlib/ebin/gleam@dict.beam\"}\n",
       "{compiling,\"/home/runner/work/spiral/polyglot/target/spiral_Eval/packages/564412dd855228db656de9d06b4ee973ad969df939d72fa26d43996f3c34f192/build/dev/erlang/gleam_stdlib/_gleam_artefacts/gleam@list.erl\"}\n",
       "{compiled,\"/home/runner/work/spiral/polyglot/target/spiral_Eval/packages/564412dd855228db656de9d06b4ee973ad969df939d72fa26d43996f3c34f192/build/dev/erlang/gleam_stdlib/ebin/gleam@int.beam\"}\n",
       "{compiled,\"/home/runner/work/spiral/polyglot/target/spiral_Eval/packages/564412dd855228db656de9d06b4ee973ad969df939d72fa26d43996f3c34f192/build/dev/erlang/gleam_stdlib/ebin/gleam@string.beam\"}\n",
       "{compiled,\"/home/runner/work/spiral/polyglot/target/spiral_Eval/packages/564412dd855228db656de9d06b4ee973ad969df939d72fa26d43996f3c34f192/build/dev/erlang/gleam_stdlib/ebin/gleam@dynamic@decode.beam\"}\n",
       "{compiled,\"/home/runner/work/spiral/polyglot/target/spiral_Eval/packages/564412dd855228db656de9d06b4ee973ad969df939d72fa26d43996f3c34f192/build/dev/erlang/gleam_stdlib/ebin/gleam@list.beam\"}\n",
       "{compiling,\"/home/runner/work/spiral/polyglot/target/spiral_Eval/packages/564412dd855228db656de9d06b4ee973ad969df939d72fa26d43996f3c34f192/build/dev/erlang/gary/_gleam_artefacts/gary@array.erl\"}\n",
       "{compiling,\"/home/runner/work/spiral/polyglot/target/spiral_Eval/packages/564412dd855228db656de9d06b4ee973ad969df939d72fa26d43996f3c34f192/build/dev/erlang/gary/_gleam_artefacts/gary.erl\"}\n",
       "{compiling,\"/home/runner/work/spiral/polyglot/target/spiral_Eval/packages/564412dd855228db656de9d06b4ee973ad969df939d72fa26d43996f3c34f192/build/dev/erlang/gary/_gleam_artefacts/internal@array_bindings.erl\"}\n",
       "{compiled,\"/home/runner/work/spiral/polyglot/target/spiral_Eval/packages/564412dd855228db656de9d06b4ee973ad969df939d72fa26d43996f3c34f192/build/dev/erlang/gary/ebin/gary.beam\"}\n",
       "{compiled,\"/home/runner/work/spiral/polyglot/target/spiral_Eval/packages/564412dd855228db656de9d06b4ee973ad969df939d72fa26d43996f3c34f192/build/dev/erlang/gary/ebin/internal@array_bindings.beam\"}\n",
       "{compiled,\"/home/runner/work/spiral/polyglot/target/spiral_Eval/packages/564412dd855228db656de9d06b4ee973ad969df939d72fa26d43996f3c34f192/build/dev/erlang/gary/ebin/gary@array.beam\"}\n",
       "{compiling,\"/home/runner/work/spiral/polyglot/target/spiral_Eval/packages/564412dd855228db656de9d06b4ee973ad969df939d72fa26d43996f3c34f192/build/dev/erlang/main/_gleam_artefacts/main@@main.erl\"}\n",
       "{compiling,\"/home/runner/work/spiral/polyglot/target/spiral_Eval/packages/564412dd855228db656de9d06b4ee973ad969df939d72fa26d43996f3c34f192/build/dev/erlang/main/_gleam_artefacts/main.erl\"}\n",
       "{compiled,\"/home/runner/work/spiral/polyglot/target/spiral_Eval/packages/564412dd855228db656de9d06b4ee973ad969df939d72fa26d43996f3c34f192/build/dev/erlang/main/ebin/main.beam\"}\n",
       "{compiled,\"/home/runner/work/spiral/polyglot/target/spiral_Eval/packages/564412dd855228db656de9d06b4ee973ad969df939d72fa26d43996f3c34f192/build/dev/erlang/main/ebin/main@@main.beam\"}\n",
       "__assert_eq / actual: -3 / expected: -3\n",
       "\n",
       "\n"
      ]
     },
     "metadata": {},
     "output_type": "display_data"
    },
    {
     "name": "stdout",
     "output_type": "stream",
     "text": [
      ".fsx output:\n",
      "__assert_eq / actual: -3 / expected: -3\n"
     ]
    }
   ],
   "source": [
    "//// test\n",
    "///! gleam\n",
    "///! fsharp\n",
    "///! cuda\n",
    "///! rust\n",
    "///! typescript\n",
    "///! python\n",
    "\n",
    "($'3' : i32) -. ($'6' : i32)\n",
    "|> _assert_eq -3i32"
   ]
  },
  {
   "cell_type": "markdown",
   "metadata": {},
   "source": [
    "### (*.)"
   ]
  },
  {
   "cell_type": "code",
   "execution_count": null,
   "metadata": {
    "dotnet_interactive": {
     "language": "spiral"
    },
    "polyglot_notebook": {
     "kernelName": "spiral"
    }
   },
   "outputs": [],
   "source": [
    "inl (*.) forall t. (a : t) (b : t) : t =\n",
    "    $'!a * !b '"
   ]
  },
  {
   "cell_type": "code",
   "execution_count": null,
   "metadata": {
    "dotnet_interactive": {
     "language": "spiral"
    },
    "polyglot_notebook": {
     "kernelName": "spiral"
    }
   },
   "outputs": [
    {
     "data": {
      "text/plain": [
       ".py output (Cuda):\n",
       "__assert_eq / actual: -3 / expected: -3\n",
       "\n",
       ".rs output:\n",
       "__assert_eq / actual: -3 / expected: -3\n",
       "\n",
       ".ts output:\n",
       "__assert_eq / actual: -3 / expected: -3\n",
       "\n",
       ".py output:\n",
       "__assert_eq / actual: -3 / expected: -3\n",
       "\n",
       "\n",
       ".gleam output (Gleam):\n",
       "{compiling,\"/home/runner/work/spiral/polyglot/target/spiral_Eval/packages/662af073855223da1f7bc66e92199c9c7ce4614e6d1e02e0a807746c7f492a82/build/dev/erlang/gleam_stdlib/_gleam_artefacts/gleam@dynamic@decode.erl\"}\n",
       "{compiling,\"/home/runner/work/spiral/polyglot/target/spiral_Eval/packages/662af073855223da1f7bc66e92199c9c7ce4614e6d1e02e0a807746c7f492a82/build/dev/erlang/gleam_stdlib/_gleam_artefacts/gleam@bytes_tree.erl\"}\n",
       "{compiling,\"/home/runner/work/spiral/polyglot/target/spiral_Eval/packages/662af073855223da1f7bc66e92199c9c7ce4614e6d1e02e0a807746c7f492a82/build/dev/erlang/gleam_stdlib/_gleam_artefacts/gleam@string.erl\"}\n",
       "{compiling,\"/home/runner/work/spiral/polyglot/target/spiral_Eval/packages/662af073855223da1f7bc66e92199c9c7ce4614e6d1e02e0a807746c7f492a82/build/dev/erlang/gleam_stdlib/_gleam_artefacts/gleam_stdlib.erl\"}\n",
       "{compiled,\"/home/runner/work/spiral/polyglot/target/spiral_Eval/packages/662af073855223da1f7bc66e92199c9c7ce4614e6d1e02e0a807746c7f492a82/build/dev/erlang/gleam_stdlib/ebin/gleam@bytes_tree.beam\"}\n",
       "{compiling,\"/home/runner/work/spiral/polyglot/target/spiral_Eval/packages/662af073855223da1f7bc66e92199c9c7ce4614e6d1e02e0a807746c7f492a82/build/dev/erlang/gleam_stdlib/_gleam_artefacts/gleam@int.erl\"}\n",
       "{compiled,\"/home/runner/work/spiral/polyglot/target/spiral_Eval/packages/662af073855223da1f7bc66e92199c9c7ce4614e6d1e02e0a807746c7f492a82/build/dev/erlang/gleam_stdlib/ebin/gleam@string.beam\"}\n",
       "{compiling,\"/home/runner/work/spiral/polyglot/target/spiral_Eval/packages/662af073855223da1f7bc66e92199c9c7ce4614e6d1e02e0a807746c7f492a82/build/dev/erlang/gleam_stdlib/_gleam_artefacts/gleam@dynamic.erl\"}\n",
       "{compiled,\"/home/runner/work/spiral/polyglot/target/spiral_Eval/packages/662af073855223da1f7bc66e92199c9c7ce4614e6d1e02e0a807746c7f492a82/build/dev/erlang/gleam_stdlib/ebin/gleam@int.beam\"}\n",
       "{compiling,\"/home/runner/work/spiral/polyglot/target/spiral_Eval/packages/662af073855223da1f7bc66e92199c9c7ce4614e6d1e02e0a807746c7f492a82/build/dev/erlang/gleam_stdlib/_gleam_artefacts/gleam@function.erl\"}\n",
       "{compiled,\"/home/runner/work/spiral/polyglot/target/spiral_Eval/packages/662af073855223da1f7bc66e92199c9c7ce4614e6d1e02e0a807746c7f492a82/build/dev/erlang/gleam_stdlib/ebin/gleam@function.beam\"}\n",
       "{compiling,\"/home/runner/work/spiral/polyglot/target/spiral_Eval/packages/662af073855223da1f7bc66e92199c9c7ce4614e6d1e02e0a807746c7f492a82/build/dev/erlang/gleam_stdlib/_gleam_artefacts/gleam@bit_array.erl\"}\n",
       "{compiled,\"/home/runner/work/spiral/polyglot/target/spiral_Eval/packages/662af073855223da1f7bc66e92199c9c7ce4614e6d1e02e0a807746c7f492a82/build/dev/erlang/gleam_stdlib/ebin/gleam@dynamic@decode.beam\"}\n",
       "{compiling,\"/home/runner/work/spiral/polyglot/target/spiral_Eval/packages/662af073855223da1f7bc66e92199c9c7ce4614e6d1e02e0a807746c7f492a82/build/dev/erlang/gleam_stdlib/_gleam_artefacts/gleam@option.erl\"}\n",
       "{compiled,\"/home/runner/work/spiral/polyglot/target/spiral_Eval/packages/662af073855223da1f7bc66e92199c9c7ce4614e6d1e02e0a807746c7f492a82/build/dev/erlang/gleam_stdlib/ebin/gleam@bit_array.beam\"}\n",
       "{compiled,\"/home/runner/work/spiral/polyglot/target/spiral_Eval/packages/662af073855223da1f7bc66e92199c9c7ce4614e6d1e02e0a807746c7f492a82/build/dev/erlang/gleam_stdlib/ebin/gleam@option.beam\"}\n",
       "{compiling,\"/home/runner/work/spiral/polyglot/target/spiral_Eval/packages/662af073855223da1f7bc66e92199c9c7ce4614e6d1e02e0a807746c7f492a82/build/dev/erlang/gleam_stdlib/_gleam_artefacts/gleam@dict.erl\"}\n",
       "{compiling,\"/home/runner/work/spiral/polyglot/target/spiral_Eval/packages/662af073855223da1f7bc66e92199c9c7ce4614e6d1e02e0a807746c7f492a82/build/dev/erlang/gleam_stdlib/_gleam_artefacts/gleam@float.erl\"}\n",
       "{compiled,\"/home/runner/work/spiral/polyglot/target/spiral_Eval/packages/662af073855223da1f7bc66e92199c9c7ce4614e6d1e02e0a807746c7f492a82/build/dev/erlang/gleam_stdlib/ebin/gleam@dict.beam\"}\n",
       "{compiling,\"/home/runner/work/spiral/polyglot/target/spiral_Eval/packages/662af073855223da1f7bc66e92199c9c7ce4614e6d1e02e0a807746c7f492a82/build/dev/erlang/gleam_stdlib/_gleam_artefacts/gleam@string_tree.erl\"}\n",
       "{compiled,\"/home/runner/work/spiral/polyglot/target/spiral_Eval/packages/662af073855223da1f7bc66e92199c9c7ce4614e6d1e02e0a807746c7f492a82/build/dev/erlang/gleam_stdlib/ebin/gleam@float.beam\"}\n",
       "{compiling,\"/home/runner/work/spiral/polyglot/target/spiral_Eval/packages/662af073855223da1f7bc66e92199c9c7ce4614e6d1e02e0a807746c7f492a82/build/dev/erlang/gleam_stdlib/_gleam_artefacts/gleam@pair.erl\"}\n",
       "{compiled,\"/home/runner/work/spiral/polyglot/target/spiral_Eval/packages/662af073855223da1f7bc66e92199c9c7ce4614e6d1e02e0a807746c7f492a82/build/dev/erlang/gleam_stdlib/ebin/gleam@pair.beam\"}\n",
       "{compiling,\"/home/runner/work/spiral/polyglot/target/spiral_Eval/packages/662af073855223da1f7bc66e92199c9c7ce4614e6d1e02e0a807746c7f492a82/build/dev/erlang/gleam_stdlib/_gleam_artefacts/gleam@bool.erl\"}\n",
       "{compiled,\"/home/runner/work/spiral/polyglot/target/spiral_Eval/packages/662af073855223da1f7bc66e92199c9c7ce4614e6d1e02e0a807746c7f492a82/build/dev/erlang/gleam_stdlib/ebin/gleam@string_tree.beam\"}\n",
       "{compiling,\"/home/runner/work/spiral/polyglot/target/spiral_Eval/packages/662af073855223da1f7bc66e92199c9c7ce4614e6d1e02e0a807746c7f492a82/build/dev/erlang/gleam_stdlib/_gleam_artefacts/gleam@list.erl\"}\n",
       "{compiled,\"/home/runner/work/spiral/polyglot/target/spiral_Eval/packages/662af073855223da1f7bc66e92199c9c7ce4614e6d1e02e0a807746c7f492a82/build/dev/erlang/gleam_stdlib/ebin/gleam@bool.beam\"}\n",
       "{compiling,\"/home/runner/work/spiral/polyglot/target/spiral_Eval/packages/662af073855223da1f7bc66e92199c9c7ce4614e6d1e02e0a807746c7f492a82/build/dev/erlang/gleam_stdlib/_gleam_artefacts/gleam@io.erl\"}\n",
       "{compiled,\"/home/runner/work/spiral/polyglot/target/spiral_Eval/packages/662af073855223da1f7bc66e92199c9c7ce4614e6d1e02e0a807746c7f492a82/build/dev/erlang/gleam_stdlib/ebin/gleam_stdlib.beam\"}\n",
       "{compiling,\"/home/runner/work/spiral/polyglot/target/spiral_Eval/packages/662af073855223da1f7bc66e92199c9c7ce4614e6d1e02e0a807746c7f492a82/build/dev/erlang/gleam_stdlib/_gleam_artefacts/gleam@uri.erl\"}\n",
       "{compiled,\"/home/runner/work/spiral/polyglot/target/spiral_Eval/packages/662af073855223da1f7bc66e92199c9c7ce4614e6d1e02e0a807746c7f492a82/build/dev/erlang/gleam_stdlib/ebin/gleam@io.beam\"}\n",
       "{compiling,\"/home/runner/work/spiral/polyglot/target/spiral_Eval/packages/662af073855223da1f7bc66e92199c9c7ce4614e6d1e02e0a807746c7f492a82/build/dev/erlang/gleam_stdlib/_gleam_artefacts/gleam_stdlib_decode_ffi.erl\"}\n",
       "{compiled,\"/home/runner/work/spiral/polyglot/target/spiral_Eval/packages/662af073855223da1f7bc66e92199c9c7ce4614e6d1e02e0a807746c7f492a82/build/dev/erlang/gleam_stdlib/ebin/gleam_stdlib_decode_ffi.beam\"}\n",
       "{compiling,\"/home/runner/work/spiral/polyglot/target/spiral_Eval/packages/662af073855223da1f7bc66e92199c9c7ce4614e6d1e02e0a807746c7f492a82/build/dev/erlang/gleam_stdlib/_gleam_artefacts/gleam@order.erl\"}\n",
       "{compiled,\"/home/runner/work/spiral/polyglot/target/spiral_Eval/packages/662af073855223da1f7bc66e92199c9c7ce4614e6d1e02e0a807746c7f492a82/build/dev/erlang/gleam_stdlib/ebin/gleam@order.beam\"}\n",
       "{compiling,\"/home/runner/work/spiral/polyglot/target/spiral_Eval/packages/662af073855223da1f7bc66e92199c9c7ce4614e6d1e02e0a807746c7f492a82/build/dev/erlang/gleam_stdlib/_gleam_artefacts/gleam@set.erl\"}\n",
       "{compiled,\"/home/runner/work/spiral/polyglot/target/spiral_Eval/packages/662af073855223da1f7bc66e92199c9c7ce4614e6d1e02e0a807746c7f492a82/build/dev/erlang/gleam_stdlib/ebin/gleam@dynamic.beam\"}\n",
       "{compiling,\"/home/runner/work/spiral/polyglot/target/spiral_Eval/packages/662af073855223da1f7bc66e92199c9c7ce4614e6d1e02e0a807746c7f492a82/build/dev/erlang/gleam_stdlib/_gleam_artefacts/gleam@result.erl\"}\n",
       "{compiled,\"/home/runner/work/spiral/polyglot/target/spiral_Eval/packages/662af073855223da1f7bc66e92199c9c7ce4614e6d1e02e0a807746c7f492a82/build/dev/erlang/gleam_stdlib/ebin/gleam@set.beam\"}\n",
       "{compiled,\"/home/runner/work/spiral/polyglot/target/spiral_Eval/packages/662af073855223da1f7bc66e92199c9c7ce4614e6d1e02e0a807746c7f492a82/build/dev/erlang/gleam_stdlib/ebin/gleam@result.beam\"}\n",
       "{compiled,\"/home/runner/work/spiral/polyglot/target/spiral_Eval/packages/662af073855223da1f7bc66e92199c9c7ce4614e6d1e02e0a807746c7f492a82/build/dev/erlang/gleam_stdlib/ebin/gleam@uri.beam\"}\n",
       "{compiled,\"/home/runner/work/spiral/polyglot/target/spiral_Eval/packages/662af073855223da1f7bc66e92199c9c7ce4614e6d1e02e0a807746c7f492a82/build/dev/erlang/gleam_stdlib/ebin/gleam@list.beam\"}\n",
       "{compiling,\"/home/runner/work/spiral/polyglot/target/spiral_Eval/packages/662af073855223da1f7bc66e92199c9c7ce4614e6d1e02e0a807746c7f492a82/build/dev/erlang/gary/_gleam_artefacts/gary@array.erl\"}\n",
       "{compiling,\"/home/runner/work/spiral/polyglot/target/spiral_Eval/packages/662af073855223da1f7bc66e92199c9c7ce4614e6d1e02e0a807746c7f492a82/build/dev/erlang/gary/_gleam_artefacts/gary.erl\"}\n",
       "{compiling,\"/home/runner/work/spiral/polyglot/target/spiral_Eval/packages/662af073855223da1f7bc66e92199c9c7ce4614e6d1e02e0a807746c7f492a82/build/dev/erlang/gary/_gleam_artefacts/internal@array_bindings.erl\"}\n",
       "{compiled,\"/home/runner/work/spiral/polyglot/target/spiral_Eval/packages/662af073855223da1f7bc66e92199c9c7ce4614e6d1e02e0a807746c7f492a82/build/dev/erlang/gary/ebin/gary.beam\"}\n",
       "{compiled,\"/home/runner/work/spiral/polyglot/target/spiral_Eval/packages/662af073855223da1f7bc66e92199c9c7ce4614e6d1e02e0a807746c7f492a82/build/dev/erlang/gary/ebin/internal@array_bindings.beam\"}\n",
       "{compiled,\"/home/runner/work/spiral/polyglot/target/spiral_Eval/packages/662af073855223da1f7bc66e92199c9c7ce4614e6d1e02e0a807746c7f492a82/build/dev/erlang/gary/ebin/gary@array.beam\"}\n",
       "{compiling,\"/home/runner/work/spiral/polyglot/target/spiral_Eval/packages/662af073855223da1f7bc66e92199c9c7ce4614e6d1e02e0a807746c7f492a82/build/dev/erlang/main/_gleam_artefacts/main.erl\"}\n",
       "{compiling,\"/home/runner/work/spiral/polyglot/target/spiral_Eval/packages/662af073855223da1f7bc66e92199c9c7ce4614e6d1e02e0a807746c7f492a82/build/dev/erlang/main/_gleam_artefacts/main@@main.erl\"}\n",
       "{compiled,\"/home/runner/work/spiral/polyglot/target/spiral_Eval/packages/662af073855223da1f7bc66e92199c9c7ce4614e6d1e02e0a807746c7f492a82/build/dev/erlang/main/ebin/main.beam\"}\n",
       "{compiled,\"/home/runner/work/spiral/polyglot/target/spiral_Eval/packages/662af073855223da1f7bc66e92199c9c7ce4614e6d1e02e0a807746c7f492a82/build/dev/erlang/main/ebin/main@@main.beam\"}\n",
       "__assert_eq / actual: -3 / expected: -3\n",
       "\n",
       "\n"
      ]
     },
     "metadata": {},
     "output_type": "display_data"
    },
    {
     "name": "stdout",
     "output_type": "stream",
     "text": [
      ".fsx output:\n",
      "__assert_eq / actual: -3 / expected: -3\n"
     ]
    }
   ],
   "source": [
    "//// test\n",
    "///! gleam\n",
    "///! fsharp\n",
    "///! cuda\n",
    "///! rust\n",
    "///! typescript\n",
    "///! python\n",
    "\n",
    "($'3' : i32) *. ($'-1' : i32)\n",
    "|> _assert_eq -3i32"
   ]
  },
  {
   "cell_type": "markdown",
   "metadata": {},
   "source": [
    "### (/.)"
   ]
  },
  {
   "cell_type": "code",
   "execution_count": null,
   "metadata": {
    "dotnet_interactive": {
     "language": "spiral"
    },
    "polyglot_notebook": {
     "kernelName": "spiral"
    }
   },
   "outputs": [],
   "source": [
    "inl (/.) forall t. (a : t) (b : t) : t =\n",
    "    $'!a / !b '"
   ]
  },
  {
   "cell_type": "code",
   "execution_count": null,
   "metadata": {
    "dotnet_interactive": {
     "language": "spiral"
    },
    "polyglot_notebook": {
     "kernelName": "spiral"
    }
   },
   "outputs": [
    {
     "data": {
      "text/plain": [
       ".py output (Cuda):\n",
       "__assert_eq / actual: -3.0 / expected: -3\n",
       "\n",
       ".rs output:\n",
       "__assert_eq / actual: -3 / expected: -3\n",
       "\n",
       ".ts output:\n",
       "__assert_eq / actual: -3 / expected: -3\n",
       "\n",
       ".py output:\n",
       "__assert_eq / actual: -3 / expected: -3\n",
       "\n",
       "\n",
       ".gleam output (Gleam):\n",
       "{compiling,\"/home/runner/work/spiral/polyglot/target/spiral_Eval/packages/d55a4ae3080bc59259ac69ecdb4cd1ac6a08f796896bc782f0dee02199085895/build/dev/erlang/gleam_stdlib/_gleam_artefacts/gleam@dynamic@decode.erl\"}\n",
       "{compiling,\"/home/runner/work/spiral/polyglot/target/spiral_Eval/packages/d55a4ae3080bc59259ac69ecdb4cd1ac6a08f796896bc782f0dee02199085895/build/dev/erlang/gleam_stdlib/_gleam_artefacts/gleam@order.erl\"}\n",
       "{compiling,\"/home/runner/work/spiral/polyglot/target/spiral_Eval/packages/d55a4ae3080bc59259ac69ecdb4cd1ac6a08f796896bc782f0dee02199085895/build/dev/erlang/gleam_stdlib/_gleam_artefacts/gleam@bytes_tree.erl\"}\n",
       "{compiling,\"/home/runner/work/spiral/polyglot/target/spiral_Eval/packages/d55a4ae3080bc59259ac69ecdb4cd1ac6a08f796896bc782f0dee02199085895/build/dev/erlang/gleam_stdlib/_gleam_artefacts/gleam@uri.erl\"}\n",
       "{compiled,\"/home/runner/work/spiral/polyglot/target/spiral_Eval/packages/d55a4ae3080bc59259ac69ecdb4cd1ac6a08f796896bc782f0dee02199085895/build/dev/erlang/gleam_stdlib/ebin/gleam@order.beam\"}\n",
       "{compiling,\"/home/runner/work/spiral/polyglot/target/spiral_Eval/packages/d55a4ae3080bc59259ac69ecdb4cd1ac6a08f796896bc782f0dee02199085895/build/dev/erlang/gleam_stdlib/_gleam_artefacts/gleam@dict.erl\"}\n",
       "{compiled,\"/home/runner/work/spiral/polyglot/target/spiral_Eval/packages/d55a4ae3080bc59259ac69ecdb4cd1ac6a08f796896bc782f0dee02199085895/build/dev/erlang/gleam_stdlib/ebin/gleam@bytes_tree.beam\"}\n",
       "{compiling,\"/home/runner/work/spiral/polyglot/target/spiral_Eval/packages/d55a4ae3080bc59259ac69ecdb4cd1ac6a08f796896bc782f0dee02199085895/build/dev/erlang/gleam_stdlib/_gleam_artefacts/gleam@option.erl\"}\n",
       "{compiled,\"/home/runner/work/spiral/polyglot/target/spiral_Eval/packages/d55a4ae3080bc59259ac69ecdb4cd1ac6a08f796896bc782f0dee02199085895/build/dev/erlang/gleam_stdlib/ebin/gleam@dict.beam\"}\n",
       "{compiling,\"/home/runner/work/spiral/polyglot/target/spiral_Eval/packages/d55a4ae3080bc59259ac69ecdb4cd1ac6a08f796896bc782f0dee02199085895/build/dev/erlang/gleam_stdlib/_gleam_artefacts/gleam_stdlib.erl\"}\n",
       "{compiled,\"/home/runner/work/spiral/polyglot/target/spiral_Eval/packages/d55a4ae3080bc59259ac69ecdb4cd1ac6a08f796896bc782f0dee02199085895/build/dev/erlang/gleam_stdlib/ebin/gleam@option.beam\"}\n",
       "{compiling,\"/home/runner/work/spiral/polyglot/target/spiral_Eval/packages/d55a4ae3080bc59259ac69ecdb4cd1ac6a08f796896bc782f0dee02199085895/build/dev/erlang/gleam_stdlib/_gleam_artefacts/gleam_stdlib_decode_ffi.erl\"}\n",
       "{compiled,\"/home/runner/work/spiral/polyglot/target/spiral_Eval/packages/d55a4ae3080bc59259ac69ecdb4cd1ac6a08f796896bc782f0dee02199085895/build/dev/erlang/gleam_stdlib/ebin/gleam_stdlib_decode_ffi.beam\"}\n",
       "{compiling,\"/home/runner/work/spiral/polyglot/target/spiral_Eval/packages/d55a4ae3080bc59259ac69ecdb4cd1ac6a08f796896bc782f0dee02199085895/build/dev/erlang/gleam_stdlib/_gleam_artefacts/gleam@float.erl\"}\n",
       "{compiled,\"/home/runner/work/spiral/polyglot/target/spiral_Eval/packages/d55a4ae3080bc59259ac69ecdb4cd1ac6a08f796896bc782f0dee02199085895/build/dev/erlang/gleam_stdlib/ebin/gleam@float.beam\"}\n",
       "{compiling,\"/home/runner/work/spiral/polyglot/target/spiral_Eval/packages/d55a4ae3080bc59259ac69ecdb4cd1ac6a08f796896bc782f0dee02199085895/build/dev/erlang/gleam_stdlib/_gleam_artefacts/gleam@dynamic.erl\"}\n",
       "{compiled,\"/home/runner/work/spiral/polyglot/target/spiral_Eval/packages/d55a4ae3080bc59259ac69ecdb4cd1ac6a08f796896bc782f0dee02199085895/build/dev/erlang/gleam_stdlib/ebin/gleam@dynamic@decode.beam\"}\n",
       "{compiling,\"/home/runner/work/spiral/polyglot/target/spiral_Eval/packages/d55a4ae3080bc59259ac69ecdb4cd1ac6a08f796896bc782f0dee02199085895/build/dev/erlang/gleam_stdlib/_gleam_artefacts/gleam@io.erl\"}\n",
       "{compiled,\"/home/runner/work/spiral/polyglot/target/spiral_Eval/packages/d55a4ae3080bc59259ac69ecdb4cd1ac6a08f796896bc782f0dee02199085895/build/dev/erlang/gleam_stdlib/ebin/gleam@io.beam\"}\n",
       "{compiling,\"/home/runner/work/spiral/polyglot/target/spiral_Eval/packages/d55a4ae3080bc59259ac69ecdb4cd1ac6a08f796896bc782f0dee02199085895/build/dev/erlang/gleam_stdlib/_gleam_artefacts/gleam@string_tree.erl\"}\n",
       "{compiled,\"/home/runner/work/spiral/polyglot/target/spiral_Eval/packages/d55a4ae3080bc59259ac69ecdb4cd1ac6a08f796896bc782f0dee02199085895/build/dev/erlang/gleam_stdlib/ebin/gleam@uri.beam\"}\n",
       "{compiling,\"/home/runner/work/spiral/polyglot/target/spiral_Eval/packages/d55a4ae3080bc59259ac69ecdb4cd1ac6a08f796896bc782f0dee02199085895/build/dev/erlang/gleam_stdlib/_gleam_artefacts/gleam@result.erl\"}\n",
       "{compiled,\"/home/runner/work/spiral/polyglot/target/spiral_Eval/packages/d55a4ae3080bc59259ac69ecdb4cd1ac6a08f796896bc782f0dee02199085895/build/dev/erlang/gleam_stdlib/ebin/gleam@string_tree.beam\"}\n",
       "{compiling,\"/home/runner/work/spiral/polyglot/target/spiral_Eval/packages/d55a4ae3080bc59259ac69ecdb4cd1ac6a08f796896bc782f0dee02199085895/build/dev/erlang/gleam_stdlib/_gleam_artefacts/gleam@function.erl\"}\n",
       "{compiled,\"/home/runner/work/spiral/polyglot/target/spiral_Eval/packages/d55a4ae3080bc59259ac69ecdb4cd1ac6a08f796896bc782f0dee02199085895/build/dev/erlang/gleam_stdlib/ebin/gleam@function.beam\"}\n",
       "{compiling,\"/home/runner/work/spiral/polyglot/target/spiral_Eval/packages/d55a4ae3080bc59259ac69ecdb4cd1ac6a08f796896bc782f0dee02199085895/build/dev/erlang/gleam_stdlib/_gleam_artefacts/gleam@pair.erl\"}\n",
       "{compiled,\"/home/runner/work/spiral/polyglot/target/spiral_Eval/packages/d55a4ae3080bc59259ac69ecdb4cd1ac6a08f796896bc782f0dee02199085895/build/dev/erlang/gleam_stdlib/ebin/gleam@result.beam\"}\n",
       "{compiling,\"/home/runner/work/spiral/polyglot/target/spiral_Eval/packages/d55a4ae3080bc59259ac69ecdb4cd1ac6a08f796896bc782f0dee02199085895/build/dev/erlang/gleam_stdlib/_gleam_artefacts/gleam@list.erl\"}\n",
       "{compiled,\"/home/runner/work/spiral/polyglot/target/spiral_Eval/packages/d55a4ae3080bc59259ac69ecdb4cd1ac6a08f796896bc782f0dee02199085895/build/dev/erlang/gleam_stdlib/ebin/gleam@pair.beam\"}\n",
       "{compiling,\"/home/runner/work/spiral/polyglot/target/spiral_Eval/packages/d55a4ae3080bc59259ac69ecdb4cd1ac6a08f796896bc782f0dee02199085895/build/dev/erlang/gleam_stdlib/_gleam_artefacts/gleam@int.erl\"}\n",
       "{compiled,\"/home/runner/work/spiral/polyglot/target/spiral_Eval/packages/d55a4ae3080bc59259ac69ecdb4cd1ac6a08f796896bc782f0dee02199085895/build/dev/erlang/gleam_stdlib/ebin/gleam@int.beam\"}\n",
       "{compiling,\"/home/runner/work/spiral/polyglot/target/spiral_Eval/packages/d55a4ae3080bc59259ac69ecdb4cd1ac6a08f796896bc782f0dee02199085895/build/dev/erlang/gleam_stdlib/_gleam_artefacts/gleam@bool.erl\"}\n",
       "{compiled,\"/home/runner/work/spiral/polyglot/target/spiral_Eval/packages/d55a4ae3080bc59259ac69ecdb4cd1ac6a08f796896bc782f0dee02199085895/build/dev/erlang/gleam_stdlib/ebin/gleam@bool.beam\"}\n",
       "{compiling,\"/home/runner/work/spiral/polyglot/target/spiral_Eval/packages/d55a4ae3080bc59259ac69ecdb4cd1ac6a08f796896bc782f0dee02199085895/build/dev/erlang/gleam_stdlib/_gleam_artefacts/gleam@set.erl\"}\n",
       "{compiled,\"/home/runner/work/spiral/polyglot/target/spiral_Eval/packages/d55a4ae3080bc59259ac69ecdb4cd1ac6a08f796896bc782f0dee02199085895/build/dev/erlang/gleam_stdlib/ebin/gleam_stdlib.beam\"}\n",
       "{compiling,\"/home/runner/work/spiral/polyglot/target/spiral_Eval/packages/d55a4ae3080bc59259ac69ecdb4cd1ac6a08f796896bc782f0dee02199085895/build/dev/erlang/gleam_stdlib/_gleam_artefacts/gleam@bit_array.erl\"}\n",
       "{compiled,\"/home/runner/work/spiral/polyglot/target/spiral_Eval/packages/d55a4ae3080bc59259ac69ecdb4cd1ac6a08f796896bc782f0dee02199085895/build/dev/erlang/gleam_stdlib/ebin/gleam@set.beam\"}\n",
       "{compiling,\"/home/runner/work/spiral/polyglot/target/spiral_Eval/packages/d55a4ae3080bc59259ac69ecdb4cd1ac6a08f796896bc782f0dee02199085895/build/dev/erlang/gleam_stdlib/_gleam_artefacts/gleam@string.erl\"}\n",
       "{compiled,\"/home/runner/work/spiral/polyglot/target/spiral_Eval/packages/d55a4ae3080bc59259ac69ecdb4cd1ac6a08f796896bc782f0dee02199085895/build/dev/erlang/gleam_stdlib/ebin/gleam@bit_array.beam\"}\n",
       "{compiled,\"/home/runner/work/spiral/polyglot/target/spiral_Eval/packages/d55a4ae3080bc59259ac69ecdb4cd1ac6a08f796896bc782f0dee02199085895/build/dev/erlang/gleam_stdlib/ebin/gleam@string.beam\"}\n",
       "{compiled,\"/home/runner/work/spiral/polyglot/target/spiral_Eval/packages/d55a4ae3080bc59259ac69ecdb4cd1ac6a08f796896bc782f0dee02199085895/build/dev/erlang/gleam_stdlib/ebin/gleam@dynamic.beam\"}\n",
       "{compiled,\"/home/runner/work/spiral/polyglot/target/spiral_Eval/packages/d55a4ae3080bc59259ac69ecdb4cd1ac6a08f796896bc782f0dee02199085895/build/dev/erlang/gleam_stdlib/ebin/gleam@list.beam\"}\n",
       "{compiling,\"/home/runner/work/spiral/polyglot/target/spiral_Eval/packages/d55a4ae3080bc59259ac69ecdb4cd1ac6a08f796896bc782f0dee02199085895/build/dev/erlang/gary/_gleam_artefacts/gary.erl\"}\n",
       "{compiling,\"/home/runner/work/spiral/polyglot/target/spiral_Eval/packages/d55a4ae3080bc59259ac69ecdb4cd1ac6a08f796896bc782f0dee02199085895/build/dev/erlang/gary/_gleam_artefacts/internal@array_bindings.erl\"}\n",
       "{compiling,\"/home/runner/work/spiral/polyglot/target/spiral_Eval/packages/d55a4ae3080bc59259ac69ecdb4cd1ac6a08f796896bc782f0dee02199085895/build/dev/erlang/gary/_gleam_artefacts/gary@array.erl\"}\n",
       "{compiled,\"/home/runner/work/spiral/polyglot/target/spiral_Eval/packages/d55a4ae3080bc59259ac69ecdb4cd1ac6a08f796896bc782f0dee02199085895/build/dev/erlang/gary/ebin/gary.beam\"}\n",
       "{compiled,\"/home/runner/work/spiral/polyglot/target/spiral_Eval/packages/d55a4ae3080bc59259ac69ecdb4cd1ac6a08f796896bc782f0dee02199085895/build/dev/erlang/gary/ebin/internal@array_bindings.beam\"}\n",
       "{compiled,\"/home/runner/work/spiral/polyglot/target/spiral_Eval/packages/d55a4ae3080bc59259ac69ecdb4cd1ac6a08f796896bc782f0dee02199085895/build/dev/erlang/gary/ebin/gary@array.beam\"}\n",
       "{compiling,\"/home/runner/work/spiral/polyglot/target/spiral_Eval/packages/d55a4ae3080bc59259ac69ecdb4cd1ac6a08f796896bc782f0dee02199085895/build/dev/erlang/main/_gleam_artefacts/main@@main.erl\"}\n",
       "{compiling,\"/home/runner/work/spiral/polyglot/target/spiral_Eval/packages/d55a4ae3080bc59259ac69ecdb4cd1ac6a08f796896bc782f0dee02199085895/build/dev/erlang/main/_gleam_artefacts/main.erl\"}\n",
       "{compiled,\"/home/runner/work/spiral/polyglot/target/spiral_Eval/packages/d55a4ae3080bc59259ac69ecdb4cd1ac6a08f796896bc782f0dee02199085895/build/dev/erlang/main/ebin/main.beam\"}\n",
       "{compiled,\"/home/runner/work/spiral/polyglot/target/spiral_Eval/packages/d55a4ae3080bc59259ac69ecdb4cd1ac6a08f796896bc782f0dee02199085895/build/dev/erlang/main/ebin/main@@main.beam\"}\n",
       "__assert_eq / actual: -3 / expected: -3\n",
       "\n",
       "\n"
      ]
     },
     "metadata": {},
     "output_type": "display_data"
    },
    {
     "name": "stdout",
     "output_type": "stream",
     "text": [
      ".fsx output:\n",
      "__assert_eq / actual: -3 / expected: -3\n"
     ]
    }
   ],
   "source": [
    "//// test\n",
    "///! gleam\n",
    "///! fsharp\n",
    "///! cuda\n",
    "///! rust\n",
    "///! typescript\n",
    "///! python\n",
    "\n",
    "($'-3' : i32) /. ($'1' : i32)\n",
    "|> _assert_eq -3i32"
   ]
  },
  {
   "cell_type": "markdown",
   "metadata": {},
   "source": [
    "## comparison"
   ]
  },
  {
   "cell_type": "markdown",
   "metadata": {},
   "source": [
    "### (=.)"
   ]
  },
  {
   "cell_type": "code",
   "execution_count": null,
   "metadata": {
    "dotnet_interactive": {
     "language": "spiral"
    },
    "polyglot_notebook": {
     "kernelName": "spiral"
    }
   },
   "outputs": [],
   "source": [
    "inl (=.) forall t. (a : t) (b : t) : bool =\n",
    "    backend_switch {\n",
    "        Gleam = fun () => $'!a == !b ' : bool\n",
    "        Fsharp = fun () => $'!a = !b ' : bool\n",
    "        Python = fun () => $'!a == !b ' : bool\n",
    "    }"
   ]
  },
  {
   "cell_type": "code",
   "execution_count": null,
   "metadata": {
    "dotnet_interactive": {
     "language": "spiral"
    },
    "polyglot_notebook": {
     "kernelName": "spiral"
    }
   },
   "outputs": [
    {
     "data": {
      "text/plain": [
       ".py output (Cuda):\n",
       "__assert_eq / actual: True / expected: True\n",
       "\n",
       ".rs output:\n",
       "__assert_eq / actual: true / expected: true\n",
       "\n",
       ".ts output:\n",
       "__assert_eq / actual: true / expected: true\n",
       "\n",
       ".py output:\n",
       "__assert_eq / actual: true / expected: true\n",
       "\n",
       "\n",
       ".gleam output (Gleam):\n",
       "{compiling,\"/home/runner/work/spiral/polyglot/target/spiral_Eval/packages/f612567cf6494302ccaa99d14530ddb709370c80c48afeb8471575bff4edc966/build/dev/erlang/gleam_stdlib/_gleam_artefacts/gleam@set.erl\"}\n",
       "{compiling,\"/home/runner/work/spiral/polyglot/target/spiral_Eval/packages/f612567cf6494302ccaa99d14530ddb709370c80c48afeb8471575bff4edc966/build/dev/erlang/gleam_stdlib/_gleam_artefacts/gleam@function.erl\"}\n",
       "{compiling,\"/home/runner/work/spiral/polyglot/target/spiral_Eval/packages/f612567cf6494302ccaa99d14530ddb709370c80c48afeb8471575bff4edc966/build/dev/erlang/gleam_stdlib/_gleam_artefacts/gleam@dynamic.erl\"}\n",
       "{compiling,\"/home/runner/work/spiral/polyglot/target/spiral_Eval/packages/f612567cf6494302ccaa99d14530ddb709370c80c48afeb8471575bff4edc966/build/dev/erlang/gleam_stdlib/_gleam_artefacts/gleam@result.erl\"}\n",
       "{compiled,\"/home/runner/work/spiral/polyglot/target/spiral_Eval/packages/f612567cf6494302ccaa99d14530ddb709370c80c48afeb8471575bff4edc966/build/dev/erlang/gleam_stdlib/ebin/gleam@function.beam\"}\n",
       "{compiling,\"/home/runner/work/spiral/polyglot/target/spiral_Eval/packages/f612567cf6494302ccaa99d14530ddb709370c80c48afeb8471575bff4edc966/build/dev/erlang/gleam_stdlib/_gleam_artefacts/gleam@string_tree.erl\"}\n",
       "{compiled,\"/home/runner/work/spiral/polyglot/target/spiral_Eval/packages/f612567cf6494302ccaa99d14530ddb709370c80c48afeb8471575bff4edc966/build/dev/erlang/gleam_stdlib/ebin/gleam@string_tree.beam\"}\n",
       "{compiling,\"/home/runner/work/spiral/polyglot/target/spiral_Eval/packages/f612567cf6494302ccaa99d14530ddb709370c80c48afeb8471575bff4edc966/build/dev/erlang/gleam_stdlib/_gleam_artefacts/gleam@float.erl\"}\n",
       "{compiled,\"/home/runner/work/spiral/polyglot/target/spiral_Eval/packages/f612567cf6494302ccaa99d14530ddb709370c80c48afeb8471575bff4edc966/build/dev/erlang/gleam_stdlib/ebin/gleam@set.beam\"}\n",
       "{compiling,\"/home/runner/work/spiral/polyglot/target/spiral_Eval/packages/f612567cf6494302ccaa99d14530ddb709370c80c48afeb8471575bff4edc966/build/dev/erlang/gleam_stdlib/_gleam_artefacts/gleam@io.erl\"}\n",
       "{compiled,\"/home/runner/work/spiral/polyglot/target/spiral_Eval/packages/f612567cf6494302ccaa99d14530ddb709370c80c48afeb8471575bff4edc966/build/dev/erlang/gleam_stdlib/ebin/gleam@result.beam\"}\n",
       "{compiling,\"/home/runner/work/spiral/polyglot/target/spiral_Eval/packages/f612567cf6494302ccaa99d14530ddb709370c80c48afeb8471575bff4edc966/build/dev/erlang/gleam_stdlib/_gleam_artefacts/gleam@dynamic@decode.erl\"}\n",
       "{compiled,\"/home/runner/work/spiral/polyglot/target/spiral_Eval/packages/f612567cf6494302ccaa99d14530ddb709370c80c48afeb8471575bff4edc966/build/dev/erlang/gleam_stdlib/ebin/gleam@io.beam\"}\n",
       "{compiling,\"/home/runner/work/spiral/polyglot/target/spiral_Eval/packages/f612567cf6494302ccaa99d14530ddb709370c80c48afeb8471575bff4edc966/build/dev/erlang/gleam_stdlib/_gleam_artefacts/gleam@int.erl\"}\n",
       "{compiled,\"/home/runner/work/spiral/polyglot/target/spiral_Eval/packages/f612567cf6494302ccaa99d14530ddb709370c80c48afeb8471575bff4edc966/build/dev/erlang/gleam_stdlib/ebin/gleam@float.beam\"}\n",
       "{compiling,\"/home/runner/work/spiral/polyglot/target/spiral_Eval/packages/f612567cf6494302ccaa99d14530ddb709370c80c48afeb8471575bff4edc966/build/dev/erlang/gleam_stdlib/_gleam_artefacts/gleam@string.erl\"}\n",
       "{compiled,\"/home/runner/work/spiral/polyglot/target/spiral_Eval/packages/f612567cf6494302ccaa99d14530ddb709370c80c48afeb8471575bff4edc966/build/dev/erlang/gleam_stdlib/ebin/gleam@int.beam\"}\n",
       "{compiling,\"/home/runner/work/spiral/polyglot/target/spiral_Eval/packages/f612567cf6494302ccaa99d14530ddb709370c80c48afeb8471575bff4edc966/build/dev/erlang/gleam_stdlib/_gleam_artefacts/gleam@option.erl\"}\n",
       "{compiled,\"/home/runner/work/spiral/polyglot/target/spiral_Eval/packages/f612567cf6494302ccaa99d14530ddb709370c80c48afeb8471575bff4edc966/build/dev/erlang/gleam_stdlib/ebin/gleam@option.beam\"}\n",
       "{compiling,\"/home/runner/work/spiral/polyglot/target/spiral_Eval/packages/f612567cf6494302ccaa99d14530ddb709370c80c48afeb8471575bff4edc966/build/dev/erlang/gleam_stdlib/_gleam_artefacts/gleam@pair.erl\"}\n",
       "{compiled,\"/home/runner/work/spiral/polyglot/target/spiral_Eval/packages/f612567cf6494302ccaa99d14530ddb709370c80c48afeb8471575bff4edc966/build/dev/erlang/gleam_stdlib/ebin/gleam@string.beam\"}\n",
       "{compiling,\"/home/runner/work/spiral/polyglot/target/spiral_Eval/packages/f612567cf6494302ccaa99d14530ddb709370c80c48afeb8471575bff4edc966/build/dev/erlang/gleam_stdlib/_gleam_artefacts/gleam_stdlib.erl\"}\n",
       "{compiled,\"/home/runner/work/spiral/polyglot/target/spiral_Eval/packages/f612567cf6494302ccaa99d14530ddb709370c80c48afeb8471575bff4edc966/build/dev/erlang/gleam_stdlib/ebin/gleam@pair.beam\"}\n",
       "{compiling,\"/home/runner/work/spiral/polyglot/target/spiral_Eval/packages/f612567cf6494302ccaa99d14530ddb709370c80c48afeb8471575bff4edc966/build/dev/erlang/gleam_stdlib/_gleam_artefacts/gleam@bit_array.erl\"}\n",
       "{compiled,\"/home/runner/work/spiral/polyglot/target/spiral_Eval/packages/f612567cf6494302ccaa99d14530ddb709370c80c48afeb8471575bff4edc966/build/dev/erlang/gleam_stdlib/ebin/gleam@dynamic@decode.beam\"}\n",
       "{compiling,\"/home/runner/work/spiral/polyglot/target/spiral_Eval/packages/f612567cf6494302ccaa99d14530ddb709370c80c48afeb8471575bff4edc966/build/dev/erlang/gleam_stdlib/_gleam_artefacts/gleam@dict.erl\"}\n",
       "{compiled,\"/home/runner/work/spiral/polyglot/target/spiral_Eval/packages/f612567cf6494302ccaa99d14530ddb709370c80c48afeb8471575bff4edc966/build/dev/erlang/gleam_stdlib/ebin/gleam@dict.beam\"}\n",
       "{compiling,\"/home/runner/work/spiral/polyglot/target/spiral_Eval/packages/f612567cf6494302ccaa99d14530ddb709370c80c48afeb8471575bff4edc966/build/dev/erlang/gleam_stdlib/_gleam_artefacts/gleam@list.erl\"}\n",
       "{compiled,\"/home/runner/work/spiral/polyglot/target/spiral_Eval/packages/f612567cf6494302ccaa99d14530ddb709370c80c48afeb8471575bff4edc966/build/dev/erlang/gleam_stdlib/ebin/gleam@bit_array.beam\"}\n",
       "{compiling,\"/home/runner/work/spiral/polyglot/target/spiral_Eval/packages/f612567cf6494302ccaa99d14530ddb709370c80c48afeb8471575bff4edc966/build/dev/erlang/gleam_stdlib/_gleam_artefacts/gleam@uri.erl\"}\n",
       "{compiled,\"/home/runner/work/spiral/polyglot/target/spiral_Eval/packages/f612567cf6494302ccaa99d14530ddb709370c80c48afeb8471575bff4edc966/build/dev/erlang/gleam_stdlib/ebin/gleam@dynamic.beam\"}\n",
       "{compiling,\"/home/runner/work/spiral/polyglot/target/spiral_Eval/packages/f612567cf6494302ccaa99d14530ddb709370c80c48afeb8471575bff4edc966/build/dev/erlang/gleam_stdlib/_gleam_artefacts/gleam@bytes_tree.erl\"}\n",
       "{compiled,\"/home/runner/work/spiral/polyglot/target/spiral_Eval/packages/f612567cf6494302ccaa99d14530ddb709370c80c48afeb8471575bff4edc966/build/dev/erlang/gleam_stdlib/ebin/gleam@bytes_tree.beam\"}\n",
       "{compiling,\"/home/runner/work/spiral/polyglot/target/spiral_Eval/packages/f612567cf6494302ccaa99d14530ddb709370c80c48afeb8471575bff4edc966/build/dev/erlang/gleam_stdlib/_gleam_artefacts/gleam@order.erl\"}\n",
       "{compiled,\"/home/runner/work/spiral/polyglot/target/spiral_Eval/packages/f612567cf6494302ccaa99d14530ddb709370c80c48afeb8471575bff4edc966/build/dev/erlang/gleam_stdlib/ebin/gleam@order.beam\"}\n",
       "{compiling,\"/home/runner/work/spiral/polyglot/target/spiral_Eval/packages/f612567cf6494302ccaa99d14530ddb709370c80c48afeb8471575bff4edc966/build/dev/erlang/gleam_stdlib/_gleam_artefacts/gleam@bool.erl\"}\n",
       "{compiled,\"/home/runner/work/spiral/polyglot/target/spiral_Eval/packages/f612567cf6494302ccaa99d14530ddb709370c80c48afeb8471575bff4edc966/build/dev/erlang/gleam_stdlib/ebin/gleam@bool.beam\"}\n",
       "{compiling,\"/home/runner/work/spiral/polyglot/target/spiral_Eval/packages/f612567cf6494302ccaa99d14530ddb709370c80c48afeb8471575bff4edc966/build/dev/erlang/gleam_stdlib/_gleam_artefacts/gleam_stdlib_decode_ffi.erl\"}\n",
       "{compiled,\"/home/runner/work/spiral/polyglot/target/spiral_Eval/packages/f612567cf6494302ccaa99d14530ddb709370c80c48afeb8471575bff4edc966/build/dev/erlang/gleam_stdlib/ebin/gleam@uri.beam\"}\n",
       "{compiled,\"/home/runner/work/spiral/polyglot/target/spiral_Eval/packages/f612567cf6494302ccaa99d14530ddb709370c80c48afeb8471575bff4edc966/build/dev/erlang/gleam_stdlib/ebin/gleam_stdlib_decode_ffi.beam\"}\n",
       "{compiled,\"/home/runner/work/spiral/polyglot/target/spiral_Eval/packages/f612567cf6494302ccaa99d14530ddb709370c80c48afeb8471575bff4edc966/build/dev/erlang/gleam_stdlib/ebin/gleam_stdlib.beam\"}\n",
       "{compiled,\"/home/runner/work/spiral/polyglot/target/spiral_Eval/packages/f612567cf6494302ccaa99d14530ddb709370c80c48afeb8471575bff4edc966/build/dev/erlang/gleam_stdlib/ebin/gleam@list.beam\"}\n",
       "{compiling,\"/home/runner/work/spiral/polyglot/target/spiral_Eval/packages/f612567cf6494302ccaa99d14530ddb709370c80c48afeb8471575bff4edc966/build/dev/erlang/gary/_gleam_artefacts/gary@array.erl\"}\n",
       "{compiling,\"/home/runner/work/spiral/polyglot/target/spiral_Eval/packages/f612567cf6494302ccaa99d14530ddb709370c80c48afeb8471575bff4edc966/build/dev/erlang/gary/_gleam_artefacts/gary.erl\"}\n",
       "{compiling,\"/home/runner/work/spiral/polyglot/target/spiral_Eval/packages/f612567cf6494302ccaa99d14530ddb709370c80c48afeb8471575bff4edc966/build/dev/erlang/gary/_gleam_artefacts/internal@array_bindings.erl\"}\n",
       "{compiled,\"/home/runner/work/spiral/polyglot/target/spiral_Eval/packages/f612567cf6494302ccaa99d14530ddb709370c80c48afeb8471575bff4edc966/build/dev/erlang/gary/ebin/gary.beam\"}\n",
       "{compiled,\"/home/runner/work/spiral/polyglot/target/spiral_Eval/packages/f612567cf6494302ccaa99d14530ddb709370c80c48afeb8471575bff4edc966/build/dev/erlang/gary/ebin/internal@array_bindings.beam\"}\n",
       "{compiled,\"/home/runner/work/spiral/polyglot/target/spiral_Eval/packages/f612567cf6494302ccaa99d14530ddb709370c80c48afeb8471575bff4edc966/build/dev/erlang/gary/ebin/gary@array.beam\"}\n",
       "{compiling,\"/home/runner/work/spiral/polyglot/target/spiral_Eval/packages/f612567cf6494302ccaa99d14530ddb709370c80c48afeb8471575bff4edc966/build/dev/erlang/main/_gleam_artefacts/main@@main.erl\"}\n",
       "{compiling,\"/home/runner/work/spiral/polyglot/target/spiral_Eval/packages/f612567cf6494302ccaa99d14530ddb709370c80c48afeb8471575bff4edc966/build/dev/erlang/main/_gleam_artefacts/main.erl\"}\n",
       "{compiled,\"/home/runner/work/spiral/polyglot/target/spiral_Eval/packages/f612567cf6494302ccaa99d14530ddb709370c80c48afeb8471575bff4edc966/build/dev/erlang/main/ebin/main.beam\"}\n",
       "{compiled,\"/home/runner/work/spiral/polyglot/target/spiral_Eval/packages/f612567cf6494302ccaa99d14530ddb709370c80c48afeb8471575bff4edc966/build/dev/erlang/main/ebin/main@@main.beam\"}\n",
       "__assert_eq / actual: True / expected: True\n",
       "\n",
       "\n"
      ]
     },
     "metadata": {},
     "output_type": "display_data"
    },
    {
     "name": "stdout",
     "output_type": "stream",
     "text": [
      ".fsx output:\n",
      "__assert_eq / actual: true / expected: true\n"
     ]
    }
   ],
   "source": [
    "//// test\n",
    "///! gleam\n",
    "///! fsharp\n",
    "///! cuda\n",
    "///! rust\n",
    "///! typescript\n",
    "///! python\n",
    "\n",
    "($'-3' : i32) =. ($'-3' : i32)\n",
    "|> _assert_eq true"
   ]
  },
  {
   "cell_type": "markdown",
   "metadata": {},
   "source": [
    "### (<>.)"
   ]
  },
  {
   "cell_type": "code",
   "execution_count": null,
   "metadata": {
    "dotnet_interactive": {
     "language": "spiral"
    },
    "polyglot_notebook": {
     "kernelName": "spiral"
    }
   },
   "outputs": [],
   "source": [
    "inl (<>.) forall t. (a : t) (b : t) : bool =\n",
    "    backend_switch {\n",
    "        Gleam = fun () => $'!a \\!= !b ' : bool\n",
    "        Fsharp = fun () => $'!a <> !b ' : bool\n",
    "        Python = fun () => $'!a \\!= !b ' : bool\n",
    "    }"
   ]
  },
  {
   "cell_type": "code",
   "execution_count": null,
   "metadata": {
    "dotnet_interactive": {
     "language": "spiral"
    },
    "polyglot_notebook": {
     "kernelName": "spiral"
    }
   },
   "outputs": [
    {
     "data": {
      "text/plain": [
       ".py output (Cuda):\n",
       "__assert_eq / actual: True / expected: True\n",
       "\n",
       ".rs output:\n",
       "__assert_eq / actual: true / expected: true\n",
       "\n",
       ".ts output:\n",
       "__assert_eq / actual: true / expected: true\n",
       "\n",
       ".py output:\n",
       "__assert_eq / actual: true / expected: true\n",
       "\n",
       "\n",
       ".gleam output (Gleam):\n",
       "{compiling,\"/home/runner/work/spiral/polyglot/target/spiral_Eval/packages/1bfd32271987bcfb977f56d8dd1c3b6e39fdeeb9fcab3613725e1f1227137f5b/build/dev/erlang/gleam_stdlib/_gleam_artefacts/gleam@pair.erl\"}\n",
       "{compiling,\"/home/runner/work/spiral/polyglot/target/spiral_Eval/packages/1bfd32271987bcfb977f56d8dd1c3b6e39fdeeb9fcab3613725e1f1227137f5b/build/dev/erlang/gleam_stdlib/_gleam_artefacts/gleam@result.erl\"}\n",
       "{compiling,\"/home/runner/work/spiral/polyglot/target/spiral_Eval/packages/1bfd32271987bcfb977f56d8dd1c3b6e39fdeeb9fcab3613725e1f1227137f5b/build/dev/erlang/gleam_stdlib/_gleam_artefacts/gleam@dict.erl\"}\n",
       "{compiling,\"/home/runner/work/spiral/polyglot/target/spiral_Eval/packages/1bfd32271987bcfb977f56d8dd1c3b6e39fdeeb9fcab3613725e1f1227137f5b/build/dev/erlang/gleam_stdlib/_gleam_artefacts/gleam@uri.erl\"}\n",
       "{compiled,\"/home/runner/work/spiral/polyglot/target/spiral_Eval/packages/1bfd32271987bcfb977f56d8dd1c3b6e39fdeeb9fcab3613725e1f1227137f5b/build/dev/erlang/gleam_stdlib/ebin/gleam@pair.beam\"}\n",
       "{compiling,\"/home/runner/work/spiral/polyglot/target/spiral_Eval/packages/1bfd32271987bcfb977f56d8dd1c3b6e39fdeeb9fcab3613725e1f1227137f5b/build/dev/erlang/gleam_stdlib/_gleam_artefacts/gleam@order.erl\"}\n",
       "{compiled,\"/home/runner/work/spiral/polyglot/target/spiral_Eval/packages/1bfd32271987bcfb977f56d8dd1c3b6e39fdeeb9fcab3613725e1f1227137f5b/build/dev/erlang/gleam_stdlib/ebin/gleam@order.beam\"}\n",
       "{compiling,\"/home/runner/work/spiral/polyglot/target/spiral_Eval/packages/1bfd32271987bcfb977f56d8dd1c3b6e39fdeeb9fcab3613725e1f1227137f5b/build/dev/erlang/gleam_stdlib/_gleam_artefacts/gleam@float.erl\"}\n",
       "{compiled,\"/home/runner/work/spiral/polyglot/target/spiral_Eval/packages/1bfd32271987bcfb977f56d8dd1c3b6e39fdeeb9fcab3613725e1f1227137f5b/build/dev/erlang/gleam_stdlib/ebin/gleam@dict.beam\"}\n",
       "{compiling,\"/home/runner/work/spiral/polyglot/target/spiral_Eval/packages/1bfd32271987bcfb977f56d8dd1c3b6e39fdeeb9fcab3613725e1f1227137f5b/build/dev/erlang/gleam_stdlib/_gleam_artefacts/gleam@bool.erl\"}\n",
       "{compiled,\"/home/runner/work/spiral/polyglot/target/spiral_Eval/packages/1bfd32271987bcfb977f56d8dd1c3b6e39fdeeb9fcab3613725e1f1227137f5b/build/dev/erlang/gleam_stdlib/ebin/gleam@result.beam\"}\n",
       "{compiling,\"/home/runner/work/spiral/polyglot/target/spiral_Eval/packages/1bfd32271987bcfb977f56d8dd1c3b6e39fdeeb9fcab3613725e1f1227137f5b/build/dev/erlang/gleam_stdlib/_gleam_artefacts/gleam@list.erl\"}\n",
       "{compiled,\"/home/runner/work/spiral/polyglot/target/spiral_Eval/packages/1bfd32271987bcfb977f56d8dd1c3b6e39fdeeb9fcab3613725e1f1227137f5b/build/dev/erlang/gleam_stdlib/ebin/gleam@bool.beam\"}\n",
       "{compiling,\"/home/runner/work/spiral/polyglot/target/spiral_Eval/packages/1bfd32271987bcfb977f56d8dd1c3b6e39fdeeb9fcab3613725e1f1227137f5b/build/dev/erlang/gleam_stdlib/_gleam_artefacts/gleam@bytes_tree.erl\"}\n",
       "{compiled,\"/home/runner/work/spiral/polyglot/target/spiral_Eval/packages/1bfd32271987bcfb977f56d8dd1c3b6e39fdeeb9fcab3613725e1f1227137f5b/build/dev/erlang/gleam_stdlib/ebin/gleam@bytes_tree.beam\"}\n",
       "{compiling,\"/home/runner/work/spiral/polyglot/target/spiral_Eval/packages/1bfd32271987bcfb977f56d8dd1c3b6e39fdeeb9fcab3613725e1f1227137f5b/build/dev/erlang/gleam_stdlib/_gleam_artefacts/gleam@dynamic@decode.erl\"}\n",
       "{compiled,\"/home/runner/work/spiral/polyglot/target/spiral_Eval/packages/1bfd32271987bcfb977f56d8dd1c3b6e39fdeeb9fcab3613725e1f1227137f5b/build/dev/erlang/gleam_stdlib/ebin/gleam@float.beam\"}\n",
       "{compiling,\"/home/runner/work/spiral/polyglot/target/spiral_Eval/packages/1bfd32271987bcfb977f56d8dd1c3b6e39fdeeb9fcab3613725e1f1227137f5b/build/dev/erlang/gleam_stdlib/_gleam_artefacts/gleam@io.erl\"}\n",
       "{compiled,\"/home/runner/work/spiral/polyglot/target/spiral_Eval/packages/1bfd32271987bcfb977f56d8dd1c3b6e39fdeeb9fcab3613725e1f1227137f5b/build/dev/erlang/gleam_stdlib/ebin/gleam@io.beam\"}\n",
       "{compiling,\"/home/runner/work/spiral/polyglot/target/spiral_Eval/packages/1bfd32271987bcfb977f56d8dd1c3b6e39fdeeb9fcab3613725e1f1227137f5b/build/dev/erlang/gleam_stdlib/_gleam_artefacts/gleam@option.erl\"}\n",
       "{compiled,\"/home/runner/work/spiral/polyglot/target/spiral_Eval/packages/1bfd32271987bcfb977f56d8dd1c3b6e39fdeeb9fcab3613725e1f1227137f5b/build/dev/erlang/gleam_stdlib/ebin/gleam@option.beam\"}\n",
       "{compiling,\"/home/runner/work/spiral/polyglot/target/spiral_Eval/packages/1bfd32271987bcfb977f56d8dd1c3b6e39fdeeb9fcab3613725e1f1227137f5b/build/dev/erlang/gleam_stdlib/_gleam_artefacts/gleam@set.erl\"}\n",
       "{compiled,\"/home/runner/work/spiral/polyglot/target/spiral_Eval/packages/1bfd32271987bcfb977f56d8dd1c3b6e39fdeeb9fcab3613725e1f1227137f5b/build/dev/erlang/gleam_stdlib/ebin/gleam@set.beam\"}\n",
       "{compiling,\"/home/runner/work/spiral/polyglot/target/spiral_Eval/packages/1bfd32271987bcfb977f56d8dd1c3b6e39fdeeb9fcab3613725e1f1227137f5b/build/dev/erlang/gleam_stdlib/_gleam_artefacts/gleam@function.erl\"}\n",
       "{compiled,\"/home/runner/work/spiral/polyglot/target/spiral_Eval/packages/1bfd32271987bcfb977f56d8dd1c3b6e39fdeeb9fcab3613725e1f1227137f5b/build/dev/erlang/gleam_stdlib/ebin/gleam@uri.beam\"}\n",
       "{compiling,\"/home/runner/work/spiral/polyglot/target/spiral_Eval/packages/1bfd32271987bcfb977f56d8dd1c3b6e39fdeeb9fcab3613725e1f1227137f5b/build/dev/erlang/gleam_stdlib/_gleam_artefacts/gleam@int.erl\"}\n",
       "{compiled,\"/home/runner/work/spiral/polyglot/target/spiral_Eval/packages/1bfd32271987bcfb977f56d8dd1c3b6e39fdeeb9fcab3613725e1f1227137f5b/build/dev/erlang/gleam_stdlib/ebin/gleam@function.beam\"}\n",
       "{compiling,\"/home/runner/work/spiral/polyglot/target/spiral_Eval/packages/1bfd32271987bcfb977f56d8dd1c3b6e39fdeeb9fcab3613725e1f1227137f5b/build/dev/erlang/gleam_stdlib/_gleam_artefacts/gleam@string.erl\"}\n",
       "{compiled,\"/home/runner/work/spiral/polyglot/target/spiral_Eval/packages/1bfd32271987bcfb977f56d8dd1c3b6e39fdeeb9fcab3613725e1f1227137f5b/build/dev/erlang/gleam_stdlib/ebin/gleam@dynamic@decode.beam\"}\n",
       "{compiling,\"/home/runner/work/spiral/polyglot/target/spiral_Eval/packages/1bfd32271987bcfb977f56d8dd1c3b6e39fdeeb9fcab3613725e1f1227137f5b/build/dev/erlang/gleam_stdlib/_gleam_artefacts/gleam_stdlib_decode_ffi.erl\"}\n",
       "{compiled,\"/home/runner/work/spiral/polyglot/target/spiral_Eval/packages/1bfd32271987bcfb977f56d8dd1c3b6e39fdeeb9fcab3613725e1f1227137f5b/build/dev/erlang/gleam_stdlib/ebin/gleam@int.beam\"}\n",
       "{compiling,\"/home/runner/work/spiral/polyglot/target/spiral_Eval/packages/1bfd32271987bcfb977f56d8dd1c3b6e39fdeeb9fcab3613725e1f1227137f5b/build/dev/erlang/gleam_stdlib/_gleam_artefacts/gleam_stdlib.erl\"}\n",
       "{compiled,\"/home/runner/work/spiral/polyglot/target/spiral_Eval/packages/1bfd32271987bcfb977f56d8dd1c3b6e39fdeeb9fcab3613725e1f1227137f5b/build/dev/erlang/gleam_stdlib/ebin/gleam@string.beam\"}\n",
       "{compiling,\"/home/runner/work/spiral/polyglot/target/spiral_Eval/packages/1bfd32271987bcfb977f56d8dd1c3b6e39fdeeb9fcab3613725e1f1227137f5b/build/dev/erlang/gleam_stdlib/_gleam_artefacts/gleam@string_tree.erl\"}\n",
       "{compiled,\"/home/runner/work/spiral/polyglot/target/spiral_Eval/packages/1bfd32271987bcfb977f56d8dd1c3b6e39fdeeb9fcab3613725e1f1227137f5b/build/dev/erlang/gleam_stdlib/ebin/gleam_stdlib_decode_ffi.beam\"}\n",
       "{compiling,\"/home/runner/work/spiral/polyglot/target/spiral_Eval/packages/1bfd32271987bcfb977f56d8dd1c3b6e39fdeeb9fcab3613725e1f1227137f5b/build/dev/erlang/gleam_stdlib/_gleam_artefacts/gleam@bit_array.erl\"}\n",
       "{compiled,\"/home/runner/work/spiral/polyglot/target/spiral_Eval/packages/1bfd32271987bcfb977f56d8dd1c3b6e39fdeeb9fcab3613725e1f1227137f5b/build/dev/erlang/gleam_stdlib/ebin/gleam@string_tree.beam\"}\n",
       "{compiling,\"/home/runner/work/spiral/polyglot/target/spiral_Eval/packages/1bfd32271987bcfb977f56d8dd1c3b6e39fdeeb9fcab3613725e1f1227137f5b/build/dev/erlang/gleam_stdlib/_gleam_artefacts/gleam@dynamic.erl\"}\n",
       "{compiled,\"/home/runner/work/spiral/polyglot/target/spiral_Eval/packages/1bfd32271987bcfb977f56d8dd1c3b6e39fdeeb9fcab3613725e1f1227137f5b/build/dev/erlang/gleam_stdlib/ebin/gleam@bit_array.beam\"}\n",
       "{compiled,\"/home/runner/work/spiral/polyglot/target/spiral_Eval/packages/1bfd32271987bcfb977f56d8dd1c3b6e39fdeeb9fcab3613725e1f1227137f5b/build/dev/erlang/gleam_stdlib/ebin/gleam@list.beam\"}\n",
       "{compiled,\"/home/runner/work/spiral/polyglot/target/spiral_Eval/packages/1bfd32271987bcfb977f56d8dd1c3b6e39fdeeb9fcab3613725e1f1227137f5b/build/dev/erlang/gleam_stdlib/ebin/gleam_stdlib.beam\"}\n",
       "{compiled,\"/home/runner/work/spiral/polyglot/target/spiral_Eval/packages/1bfd32271987bcfb977f56d8dd1c3b6e39fdeeb9fcab3613725e1f1227137f5b/build/dev/erlang/gleam_stdlib/ebin/gleam@dynamic.beam\"}\n",
       "{compiling,\"/home/runner/work/spiral/polyglot/target/spiral_Eval/packages/1bfd32271987bcfb977f56d8dd1c3b6e39fdeeb9fcab3613725e1f1227137f5b/build/dev/erlang/gary/_gleam_artefacts/internal@array_bindings.erl\"}\n",
       "{compiling,\"/home/runner/work/spiral/polyglot/target/spiral_Eval/packages/1bfd32271987bcfb977f56d8dd1c3b6e39fdeeb9fcab3613725e1f1227137f5b/build/dev/erlang/gary/_gleam_artefacts/gary.erl\"}\n",
       "{compiling,\"/home/runner/work/spiral/polyglot/target/spiral_Eval/packages/1bfd32271987bcfb977f56d8dd1c3b6e39fdeeb9fcab3613725e1f1227137f5b/build/dev/erlang/gary/_gleam_artefacts/gary@array.erl\"}\n",
       "{compiled,\"/home/runner/work/spiral/polyglot/target/spiral_Eval/packages/1bfd32271987bcfb977f56d8dd1c3b6e39fdeeb9fcab3613725e1f1227137f5b/build/dev/erlang/gary/ebin/gary.beam\"}\n",
       "{compiled,\"/home/runner/work/spiral/polyglot/target/spiral_Eval/packages/1bfd32271987bcfb977f56d8dd1c3b6e39fdeeb9fcab3613725e1f1227137f5b/build/dev/erlang/gary/ebin/internal@array_bindings.beam\"}\n",
       "{compiled,\"/home/runner/work/spiral/polyglot/target/spiral_Eval/packages/1bfd32271987bcfb977f56d8dd1c3b6e39fdeeb9fcab3613725e1f1227137f5b/build/dev/erlang/gary/ebin/gary@array.beam\"}\n",
       "{compiling,\"/home/runner/work/spiral/polyglot/target/spiral_Eval/packages/1bfd32271987bcfb977f56d8dd1c3b6e39fdeeb9fcab3613725e1f1227137f5b/build/dev/erlang/main/_gleam_artefacts/main.erl\"}\n",
       "{compiling,\"/home/runner/work/spiral/polyglot/target/spiral_Eval/packages/1bfd32271987bcfb977f56d8dd1c3b6e39fdeeb9fcab3613725e1f1227137f5b/build/dev/erlang/main/_gleam_artefacts/main@@main.erl\"}\n",
       "{compiled,\"/home/runner/work/spiral/polyglot/target/spiral_Eval/packages/1bfd32271987bcfb977f56d8dd1c3b6e39fdeeb9fcab3613725e1f1227137f5b/build/dev/erlang/main/ebin/main.beam\"}\n",
       "{compiled,\"/home/runner/work/spiral/polyglot/target/spiral_Eval/packages/1bfd32271987bcfb977f56d8dd1c3b6e39fdeeb9fcab3613725e1f1227137f5b/build/dev/erlang/main/ebin/main@@main.beam\"}\n",
       "__assert_eq / actual: True / expected: True\n",
       "\n",
       "\n"
      ]
     },
     "metadata": {},
     "output_type": "display_data"
    },
    {
     "name": "stdout",
     "output_type": "stream",
     "text": [
      ".fsx output:\n",
      "__assert_eq / actual: true / expected: true\n"
     ]
    }
   ],
   "source": [
    "//// test\n",
    "///! gleam\n",
    "///! fsharp\n",
    "///! cuda\n",
    "///! rust\n",
    "///! typescript\n",
    "///! python\n",
    "\n",
    "($'-3' : i32) <>. ($'3' : i32)\n",
    "|> _assert_eq true"
   ]
  },
  {
   "cell_type": "markdown",
   "metadata": {},
   "source": [
    "### (<>..)"
   ]
  },
  {
   "cell_type": "code",
   "execution_count": null,
   "metadata": {
    "dotnet_interactive": {
     "language": "spiral"
    },
    "polyglot_notebook": {
     "kernelName": "spiral"
    }
   },
   "outputs": [],
   "source": [
    "inl (<>..) a b =\n",
    "    fun () => a = b\n",
    "    |> dyn\n",
    "    |> eval\n",
    "    |> not"
   ]
  },
  {
   "cell_type": "code",
   "execution_count": null,
   "metadata": {
    "dotnet_interactive": {
     "language": "spiral"
    },
    "polyglot_notebook": {
     "kernelName": "spiral"
    }
   },
   "outputs": [
    {
     "data": {
      "text/plain": [
       ".py output (Cuda):\n",
       "__assert_eq / actual: True / expected: True\n",
       "\n",
       ".rs output:\n",
       "__assert_eq / actual: true / expected: true\n",
       "\n",
       ".ts output:\n",
       "__assert_eq / actual: true / expected: true\n",
       "\n",
       ".py output:\n",
       "__assert_eq / actual: true / expected: true\n",
       "\n",
       "\n",
       ".gleam output (Gleam):\n",
       "{compiling,\"/home/runner/work/spiral/polyglot/target/spiral_Eval/packages/d6ef83fd597ed457a1525d86543e2a4e1297893b9351d12d6e664bcbeda78c8d/build/dev/erlang/gleam_stdlib/_gleam_artefacts/gleam@bytes_tree.erl\"}\n",
       "{compiling,\"/home/runner/work/spiral/polyglot/target/spiral_Eval/packages/d6ef83fd597ed457a1525d86543e2a4e1297893b9351d12d6e664bcbeda78c8d/build/dev/erlang/gleam_stdlib/_gleam_artefacts/gleam@string_tree.erl\"}\n",
       "{compiling,\"/home/runner/work/spiral/polyglot/target/spiral_Eval/packages/d6ef83fd597ed457a1525d86543e2a4e1297893b9351d12d6e664bcbeda78c8d/build/dev/erlang/gleam_stdlib/_gleam_artefacts/gleam@function.erl\"}\n",
       "{compiling,\"/home/runner/work/spiral/polyglot/target/spiral_Eval/packages/d6ef83fd597ed457a1525d86543e2a4e1297893b9351d12d6e664bcbeda78c8d/build/dev/erlang/gleam_stdlib/_gleam_artefacts/gleam_stdlib.erl\"}\n",
       "{compiled,\"/home/runner/work/spiral/polyglot/target/spiral_Eval/packages/d6ef83fd597ed457a1525d86543e2a4e1297893b9351d12d6e664bcbeda78c8d/build/dev/erlang/gleam_stdlib/ebin/gleam@function.beam\"}\n",
       "{compiling,\"/home/runner/work/spiral/polyglot/target/spiral_Eval/packages/d6ef83fd597ed457a1525d86543e2a4e1297893b9351d12d6e664bcbeda78c8d/build/dev/erlang/gleam_stdlib/_gleam_artefacts/gleam@bit_array.erl\"}\n",
       "{compiled,\"/home/runner/work/spiral/polyglot/target/spiral_Eval/packages/d6ef83fd597ed457a1525d86543e2a4e1297893b9351d12d6e664bcbeda78c8d/build/dev/erlang/gleam_stdlib/ebin/gleam@string_tree.beam\"}\n",
       "{compiling,\"/home/runner/work/spiral/polyglot/target/spiral_Eval/packages/d6ef83fd597ed457a1525d86543e2a4e1297893b9351d12d6e664bcbeda78c8d/build/dev/erlang/gleam_stdlib/_gleam_artefacts/gleam@option.erl\"}\n",
       "{compiled,\"/home/runner/work/spiral/polyglot/target/spiral_Eval/packages/d6ef83fd597ed457a1525d86543e2a4e1297893b9351d12d6e664bcbeda78c8d/build/dev/erlang/gleam_stdlib/ebin/gleam@bytes_tree.beam\"}\n",
       "{compiling,\"/home/runner/work/spiral/polyglot/target/spiral_Eval/packages/d6ef83fd597ed457a1525d86543e2a4e1297893b9351d12d6e664bcbeda78c8d/build/dev/erlang/gleam_stdlib/_gleam_artefacts/gleam@order.erl\"}\n",
       "{compiled,\"/home/runner/work/spiral/polyglot/target/spiral_Eval/packages/d6ef83fd597ed457a1525d86543e2a4e1297893b9351d12d6e664bcbeda78c8d/build/dev/erlang/gleam_stdlib/ebin/gleam@order.beam\"}\n",
       "{compiling,\"/home/runner/work/spiral/polyglot/target/spiral_Eval/packages/d6ef83fd597ed457a1525d86543e2a4e1297893b9351d12d6e664bcbeda78c8d/build/dev/erlang/gleam_stdlib/_gleam_artefacts/gleam@float.erl\"}\n",
       "{compiled,\"/home/runner/work/spiral/polyglot/target/spiral_Eval/packages/d6ef83fd597ed457a1525d86543e2a4e1297893b9351d12d6e664bcbeda78c8d/build/dev/erlang/gleam_stdlib/ebin/gleam@option.beam\"}\n",
       "{compiling,\"/home/runner/work/spiral/polyglot/target/spiral_Eval/packages/d6ef83fd597ed457a1525d86543e2a4e1297893b9351d12d6e664bcbeda78c8d/build/dev/erlang/gleam_stdlib/_gleam_artefacts/gleam@result.erl\"}\n",
       "{compiled,\"/home/runner/work/spiral/polyglot/target/spiral_Eval/packages/d6ef83fd597ed457a1525d86543e2a4e1297893b9351d12d6e664bcbeda78c8d/build/dev/erlang/gleam_stdlib/ebin/gleam@float.beam\"}\n",
       "{compiling,\"/home/runner/work/spiral/polyglot/target/spiral_Eval/packages/d6ef83fd597ed457a1525d86543e2a4e1297893b9351d12d6e664bcbeda78c8d/build/dev/erlang/gleam_stdlib/_gleam_artefacts/gleam@set.erl\"}\n",
       "{compiled,\"/home/runner/work/spiral/polyglot/target/spiral_Eval/packages/d6ef83fd597ed457a1525d86543e2a4e1297893b9351d12d6e664bcbeda78c8d/build/dev/erlang/gleam_stdlib/ebin/gleam@bit_array.beam\"}\n",
       "{compiling,\"/home/runner/work/spiral/polyglot/target/spiral_Eval/packages/d6ef83fd597ed457a1525d86543e2a4e1297893b9351d12d6e664bcbeda78c8d/build/dev/erlang/gleam_stdlib/_gleam_artefacts/gleam@dynamic@decode.erl\"}\n",
       "{compiled,\"/home/runner/work/spiral/polyglot/target/spiral_Eval/packages/d6ef83fd597ed457a1525d86543e2a4e1297893b9351d12d6e664bcbeda78c8d/build/dev/erlang/gleam_stdlib/ebin/gleam@result.beam\"}\n",
       "{compiling,\"/home/runner/work/spiral/polyglot/target/spiral_Eval/packages/d6ef83fd597ed457a1525d86543e2a4e1297893b9351d12d6e664bcbeda78c8d/build/dev/erlang/gleam_stdlib/_gleam_artefacts/gleam@int.erl\"}\n",
       "{compiled,\"/home/runner/work/spiral/polyglot/target/spiral_Eval/packages/d6ef83fd597ed457a1525d86543e2a4e1297893b9351d12d6e664bcbeda78c8d/build/dev/erlang/gleam_stdlib/ebin/gleam@set.beam\"}\n",
       "{compiling,\"/home/runner/work/spiral/polyglot/target/spiral_Eval/packages/d6ef83fd597ed457a1525d86543e2a4e1297893b9351d12d6e664bcbeda78c8d/build/dev/erlang/gleam_stdlib/_gleam_artefacts/gleam_stdlib_decode_ffi.erl\"}\n",
       "{compiled,\"/home/runner/work/spiral/polyglot/target/spiral_Eval/packages/d6ef83fd597ed457a1525d86543e2a4e1297893b9351d12d6e664bcbeda78c8d/build/dev/erlang/gleam_stdlib/ebin/gleam_stdlib_decode_ffi.beam\"}\n",
       "{compiling,\"/home/runner/work/spiral/polyglot/target/spiral_Eval/packages/d6ef83fd597ed457a1525d86543e2a4e1297893b9351d12d6e664bcbeda78c8d/build/dev/erlang/gleam_stdlib/_gleam_artefacts/gleam@string.erl\"}\n",
       "{compiled,\"/home/runner/work/spiral/polyglot/target/spiral_Eval/packages/d6ef83fd597ed457a1525d86543e2a4e1297893b9351d12d6e664bcbeda78c8d/build/dev/erlang/gleam_stdlib/ebin/gleam@int.beam\"}\n",
       "{compiling,\"/home/runner/work/spiral/polyglot/target/spiral_Eval/packages/d6ef83fd597ed457a1525d86543e2a4e1297893b9351d12d6e664bcbeda78c8d/build/dev/erlang/gleam_stdlib/_gleam_artefacts/gleam@io.erl\"}\n",
       "{compiled,\"/home/runner/work/spiral/polyglot/target/spiral_Eval/packages/d6ef83fd597ed457a1525d86543e2a4e1297893b9351d12d6e664bcbeda78c8d/build/dev/erlang/gleam_stdlib/ebin/gleam@io.beam\"}\n",
       "{compiling,\"/home/runner/work/spiral/polyglot/target/spiral_Eval/packages/d6ef83fd597ed457a1525d86543e2a4e1297893b9351d12d6e664bcbeda78c8d/build/dev/erlang/gleam_stdlib/_gleam_artefacts/gleam@dynamic.erl\"}\n",
       "{compiled,\"/home/runner/work/spiral/polyglot/target/spiral_Eval/packages/d6ef83fd597ed457a1525d86543e2a4e1297893b9351d12d6e664bcbeda78c8d/build/dev/erlang/gleam_stdlib/ebin/gleam@dynamic@decode.beam\"}\n",
       "{compiling,\"/home/runner/work/spiral/polyglot/target/spiral_Eval/packages/d6ef83fd597ed457a1525d86543e2a4e1297893b9351d12d6e664bcbeda78c8d/build/dev/erlang/gleam_stdlib/_gleam_artefacts/gleam@list.erl\"}\n",
       "{compiled,\"/home/runner/work/spiral/polyglot/target/spiral_Eval/packages/d6ef83fd597ed457a1525d86543e2a4e1297893b9351d12d6e664bcbeda78c8d/build/dev/erlang/gleam_stdlib/ebin/gleam@string.beam\"}\n",
       "{compiling,\"/home/runner/work/spiral/polyglot/target/spiral_Eval/packages/d6ef83fd597ed457a1525d86543e2a4e1297893b9351d12d6e664bcbeda78c8d/build/dev/erlang/gleam_stdlib/_gleam_artefacts/gleam@dict.erl\"}\n",
       "{compiled,\"/home/runner/work/spiral/polyglot/target/spiral_Eval/packages/d6ef83fd597ed457a1525d86543e2a4e1297893b9351d12d6e664bcbeda78c8d/build/dev/erlang/gleam_stdlib/ebin/gleam@dict.beam\"}\n",
       "{compiling,\"/home/runner/work/spiral/polyglot/target/spiral_Eval/packages/d6ef83fd597ed457a1525d86543e2a4e1297893b9351d12d6e664bcbeda78c8d/build/dev/erlang/gleam_stdlib/_gleam_artefacts/gleam@pair.erl\"}\n",
       "{compiled,\"/home/runner/work/spiral/polyglot/target/spiral_Eval/packages/d6ef83fd597ed457a1525d86543e2a4e1297893b9351d12d6e664bcbeda78c8d/build/dev/erlang/gleam_stdlib/ebin/gleam_stdlib.beam\"}\n",
       "{compiling,\"/home/runner/work/spiral/polyglot/target/spiral_Eval/packages/d6ef83fd597ed457a1525d86543e2a4e1297893b9351d12d6e664bcbeda78c8d/build/dev/erlang/gleam_stdlib/_gleam_artefacts/gleam@bool.erl\"}\n",
       "{compiled,\"/home/runner/work/spiral/polyglot/target/spiral_Eval/packages/d6ef83fd597ed457a1525d86543e2a4e1297893b9351d12d6e664bcbeda78c8d/build/dev/erlang/gleam_stdlib/ebin/gleam@pair.beam\"}\n",
       "{compiling,\"/home/runner/work/spiral/polyglot/target/spiral_Eval/packages/d6ef83fd597ed457a1525d86543e2a4e1297893b9351d12d6e664bcbeda78c8d/build/dev/erlang/gleam_stdlib/_gleam_artefacts/gleam@uri.erl\"}\n",
       "{compiled,\"/home/runner/work/spiral/polyglot/target/spiral_Eval/packages/d6ef83fd597ed457a1525d86543e2a4e1297893b9351d12d6e664bcbeda78c8d/build/dev/erlang/gleam_stdlib/ebin/gleam@bool.beam\"}\n",
       "{compiled,\"/home/runner/work/spiral/polyglot/target/spiral_Eval/packages/d6ef83fd597ed457a1525d86543e2a4e1297893b9351d12d6e664bcbeda78c8d/build/dev/erlang/gleam_stdlib/ebin/gleam@uri.beam\"}\n",
       "{compiled,\"/home/runner/work/spiral/polyglot/target/spiral_Eval/packages/d6ef83fd597ed457a1525d86543e2a4e1297893b9351d12d6e664bcbeda78c8d/build/dev/erlang/gleam_stdlib/ebin/gleam@dynamic.beam\"}\n",
       "{compiled,\"/home/runner/work/spiral/polyglot/target/spiral_Eval/packages/d6ef83fd597ed457a1525d86543e2a4e1297893b9351d12d6e664bcbeda78c8d/build/dev/erlang/gleam_stdlib/ebin/gleam@list.beam\"}\n",
       "{compiling,\"/home/runner/work/spiral/polyglot/target/spiral_Eval/packages/d6ef83fd597ed457a1525d86543e2a4e1297893b9351d12d6e664bcbeda78c8d/build/dev/erlang/gary/_gleam_artefacts/gary.erl\"}\n",
       "{compiling,\"/home/runner/work/spiral/polyglot/target/spiral_Eval/packages/d6ef83fd597ed457a1525d86543e2a4e1297893b9351d12d6e664bcbeda78c8d/build/dev/erlang/gary/_gleam_artefacts/internal@array_bindings.erl\"}\n",
       "{compiling,\"/home/runner/work/spiral/polyglot/target/spiral_Eval/packages/d6ef83fd597ed457a1525d86543e2a4e1297893b9351d12d6e664bcbeda78c8d/build/dev/erlang/gary/_gleam_artefacts/gary@array.erl\"}\n",
       "{compiled,\"/home/runner/work/spiral/polyglot/target/spiral_Eval/packages/d6ef83fd597ed457a1525d86543e2a4e1297893b9351d12d6e664bcbeda78c8d/build/dev/erlang/gary/ebin/gary.beam\"}\n",
       "{compiled,\"/home/runner/work/spiral/polyglot/target/spiral_Eval/packages/d6ef83fd597ed457a1525d86543e2a4e1297893b9351d12d6e664bcbeda78c8d/build/dev/erlang/gary/ebin/internal@array_bindings.beam\"}\n",
       "{compiled,\"/home/runner/work/spiral/polyglot/target/spiral_Eval/packages/d6ef83fd597ed457a1525d86543e2a4e1297893b9351d12d6e664bcbeda78c8d/build/dev/erlang/gary/ebin/gary@array.beam\"}\n",
       "{compiling,\"/home/runner/work/spiral/polyglot/target/spiral_Eval/packages/d6ef83fd597ed457a1525d86543e2a4e1297893b9351d12d6e664bcbeda78c8d/build/dev/erlang/main/_gleam_artefacts/main.erl\"}\n",
       "{compiling,\"/home/runner/work/spiral/polyglot/target/spiral_Eval/packages/d6ef83fd597ed457a1525d86543e2a4e1297893b9351d12d6e664bcbeda78c8d/build/dev/erlang/main/_gleam_artefacts/main@@main.erl\"}\n",
       "{compiled,\"/home/runner/work/spiral/polyglot/target/spiral_Eval/packages/d6ef83fd597ed457a1525d86543e2a4e1297893b9351d12d6e664bcbeda78c8d/build/dev/erlang/main/ebin/main.beam\"}\n",
       "{compiled,\"/home/runner/work/spiral/polyglot/target/spiral_Eval/packages/d6ef83fd597ed457a1525d86543e2a4e1297893b9351d12d6e664bcbeda78c8d/build/dev/erlang/main/ebin/main@@main.beam\"}\n",
       "__assert_eq / actual: True / expected: True\n",
       "\n",
       "\n"
      ]
     },
     "metadata": {},
     "output_type": "display_data"
    },
    {
     "name": "stdout",
     "output_type": "stream",
     "text": [
      ".fsx output:\n",
      "__assert_eq / actual: true / expected: true\n"
     ]
    }
   ],
   "source": [
    "//// test\n",
    "///! gleam\n",
    "///! fsharp\n",
    "///! cuda\n",
    "///! rust\n",
    "///! typescript\n",
    "///! python\n",
    "\n",
    "($'-3' : i32) <>.. ($'3' : i32)\n",
    "|> _assert_eq true"
   ]
  },
  {
   "cell_type": "markdown",
   "metadata": {},
   "source": [
    "## composition"
   ]
  },
  {
   "cell_type": "markdown",
   "metadata": {},
   "source": [
    "### append"
   ]
  },
  {
   "cell_type": "code",
   "execution_count": null,
   "metadata": {
    "dotnet_interactive": {
     "language": "spiral"
    },
    "polyglot_notebook": {
     "kernelName": "spiral"
    }
   },
   "outputs": [],
   "source": [
    "prototype append t : t -> t -> t"
   ]
  },
  {
   "cell_type": "markdown",
   "metadata": {},
   "source": [
    "### (++)"
   ]
  },
  {
   "cell_type": "code",
   "execution_count": null,
   "metadata": {
    "dotnet_interactive": {
     "language": "spiral"
    },
    "polyglot_notebook": {
     "kernelName": "spiral"
    }
   },
   "outputs": [],
   "source": [
    "inl (++) a b =\n",
    "    b |> append a"
   ]
  },
  {
   "cell_type": "markdown",
   "metadata": {},
   "source": [
    "## pair"
   ]
  },
  {
   "cell_type": "markdown",
   "metadata": {},
   "source": [
    "### pair"
   ]
  },
  {
   "cell_type": "code",
   "execution_count": null,
   "metadata": {
    "dotnet_interactive": {
     "language": "spiral"
    },
    "polyglot_notebook": {
     "kernelName": "spiral"
    }
   },
   "outputs": [],
   "source": [
    "type pair_switch a b =\n",
    "    {\n",
    "        Gleam : $'#(`a, `b  )'\n",
    "        Fsharp : $'(`a * `b)'\n",
    "        Python : $'(`a, `b)'\n",
    "    }\n",
    "nominal pair a b = $'backend_switch `(pair_switch a b)'\n",
    "\n",
    "inl pair x y =\n",
    "    x, y"
   ]
  },
  {
   "cell_type": "code",
   "execution_count": null,
   "metadata": {
    "dotnet_interactive": {
     "language": "spiral"
    },
    "polyglot_notebook": {
     "kernelName": "spiral"
    }
   },
   "outputs": [
    {
     "data": {
      "text/plain": [
       ".py output (Cuda):\n",
       "__assert_eq / actual: (1, 2) / expected: (1, 2)\n",
       "\n",
       ".rs output:\n",
       "__assert_eq / actual: (1, 2) / expected: (1, 2)\n",
       "\n",
       ".ts output:\n",
       "__assert_eq / actual: 1,2 / expected: 1,2\n",
       "\n",
       ".py output:\n",
       "__assert_eq / actual: (1, 2) / expected: (1, 2)\n",
       "\n",
       "\n",
       ".gleam output (Gleam):\n",
       "{compiling,\"/home/runner/work/spiral/polyglot/target/spiral_Eval/packages/3b12d7c3f0448c8d76b2ceb9d762527c68839339d7efe0dc11833be8eb52e19d/build/dev/erlang/gleam_stdlib/_gleam_artefacts/gleam@function.erl\"}\n",
       "{compiling,\"/home/runner/work/spiral/polyglot/target/spiral_Eval/packages/3b12d7c3f0448c8d76b2ceb9d762527c68839339d7efe0dc11833be8eb52e19d/build/dev/erlang/gleam_stdlib/_gleam_artefacts/gleam_stdlib_decode_ffi.erl\"}\n",
       "{compiling,\"/home/runner/work/spiral/polyglot/target/spiral_Eval/packages/3b12d7c3f0448c8d76b2ceb9d762527c68839339d7efe0dc11833be8eb52e19d/build/dev/erlang/gleam_stdlib/_gleam_artefacts/gleam@float.erl\"}\n",
       "{compiling,\"/home/runner/work/spiral/polyglot/target/spiral_Eval/packages/3b12d7c3f0448c8d76b2ceb9d762527c68839339d7efe0dc11833be8eb52e19d/build/dev/erlang/gleam_stdlib/_gleam_artefacts/gleam@io.erl\"}\n",
       "{compiled,\"/home/runner/work/spiral/polyglot/target/spiral_Eval/packages/3b12d7c3f0448c8d76b2ceb9d762527c68839339d7efe0dc11833be8eb52e19d/build/dev/erlang/gleam_stdlib/ebin/gleam@function.beam\"}\n",
       "{compiling,\"/home/runner/work/spiral/polyglot/target/spiral_Eval/packages/3b12d7c3f0448c8d76b2ceb9d762527c68839339d7efe0dc11833be8eb52e19d/build/dev/erlang/gleam_stdlib/_gleam_artefacts/gleam@dict.erl\"}\n",
       "{compiled,\"/home/runner/work/spiral/polyglot/target/spiral_Eval/packages/3b12d7c3f0448c8d76b2ceb9d762527c68839339d7efe0dc11833be8eb52e19d/build/dev/erlang/gleam_stdlib/ebin/gleam@io.beam\"}\n",
       "{compiling,\"/home/runner/work/spiral/polyglot/target/spiral_Eval/packages/3b12d7c3f0448c8d76b2ceb9d762527c68839339d7efe0dc11833be8eb52e19d/build/dev/erlang/gleam_stdlib/_gleam_artefacts/gleam@dynamic@decode.erl\"}\n",
       "{compiled,\"/home/runner/work/spiral/polyglot/target/spiral_Eval/packages/3b12d7c3f0448c8d76b2ceb9d762527c68839339d7efe0dc11833be8eb52e19d/build/dev/erlang/gleam_stdlib/ebin/gleam_stdlib_decode_ffi.beam\"}\n",
       "{compiling,\"/home/runner/work/spiral/polyglot/target/spiral_Eval/packages/3b12d7c3f0448c8d76b2ceb9d762527c68839339d7efe0dc11833be8eb52e19d/build/dev/erlang/gleam_stdlib/_gleam_artefacts/gleam@dynamic.erl\"}\n",
       "{compiled,\"/home/runner/work/spiral/polyglot/target/spiral_Eval/packages/3b12d7c3f0448c8d76b2ceb9d762527c68839339d7efe0dc11833be8eb52e19d/build/dev/erlang/gleam_stdlib/ebin/gleam@float.beam\"}\n",
       "{compiling,\"/home/runner/work/spiral/polyglot/target/spiral_Eval/packages/3b12d7c3f0448c8d76b2ceb9d762527c68839339d7efe0dc11833be8eb52e19d/build/dev/erlang/gleam_stdlib/_gleam_artefacts/gleam@string.erl\"}\n",
       "{compiled,\"/home/runner/work/spiral/polyglot/target/spiral_Eval/packages/3b12d7c3f0448c8d76b2ceb9d762527c68839339d7efe0dc11833be8eb52e19d/build/dev/erlang/gleam_stdlib/ebin/gleam@dict.beam\"}\n",
       "{compiling,\"/home/runner/work/spiral/polyglot/target/spiral_Eval/packages/3b12d7c3f0448c8d76b2ceb9d762527c68839339d7efe0dc11833be8eb52e19d/build/dev/erlang/gleam_stdlib/_gleam_artefacts/gleam@bool.erl\"}\n",
       "{compiled,\"/home/runner/work/spiral/polyglot/target/spiral_Eval/packages/3b12d7c3f0448c8d76b2ceb9d762527c68839339d7efe0dc11833be8eb52e19d/build/dev/erlang/gleam_stdlib/ebin/gleam@bool.beam\"}\n",
       "{compiling,\"/home/runner/work/spiral/polyglot/target/spiral_Eval/packages/3b12d7c3f0448c8d76b2ceb9d762527c68839339d7efe0dc11833be8eb52e19d/build/dev/erlang/gleam_stdlib/_gleam_artefacts/gleam@result.erl\"}\n",
       "{compiled,\"/home/runner/work/spiral/polyglot/target/spiral_Eval/packages/3b12d7c3f0448c8d76b2ceb9d762527c68839339d7efe0dc11833be8eb52e19d/build/dev/erlang/gleam_stdlib/ebin/gleam@result.beam\"}\n",
       "{compiling,\"/home/runner/work/spiral/polyglot/target/spiral_Eval/packages/3b12d7c3f0448c8d76b2ceb9d762527c68839339d7efe0dc11833be8eb52e19d/build/dev/erlang/gleam_stdlib/_gleam_artefacts/gleam@bytes_tree.erl\"}\n",
       "{compiled,\"/home/runner/work/spiral/polyglot/target/spiral_Eval/packages/3b12d7c3f0448c8d76b2ceb9d762527c68839339d7efe0dc11833be8eb52e19d/build/dev/erlang/gleam_stdlib/ebin/gleam@string.beam\"}\n",
       "{compiling,\"/home/runner/work/spiral/polyglot/target/spiral_Eval/packages/3b12d7c3f0448c8d76b2ceb9d762527c68839339d7efe0dc11833be8eb52e19d/build/dev/erlang/gleam_stdlib/_gleam_artefacts/gleam@bit_array.erl\"}\n",
       "{compiled,\"/home/runner/work/spiral/polyglot/target/spiral_Eval/packages/3b12d7c3f0448c8d76b2ceb9d762527c68839339d7efe0dc11833be8eb52e19d/build/dev/erlang/gleam_stdlib/ebin/gleam@bytes_tree.beam\"}\n",
       "{compiling,\"/home/runner/work/spiral/polyglot/target/spiral_Eval/packages/3b12d7c3f0448c8d76b2ceb9d762527c68839339d7efe0dc11833be8eb52e19d/build/dev/erlang/gleam_stdlib/_gleam_artefacts/gleam@int.erl\"}\n",
       "{compiled,\"/home/runner/work/spiral/polyglot/target/spiral_Eval/packages/3b12d7c3f0448c8d76b2ceb9d762527c68839339d7efe0dc11833be8eb52e19d/build/dev/erlang/gleam_stdlib/ebin/gleam@dynamic@decode.beam\"}\n",
       "{compiling,\"/home/runner/work/spiral/polyglot/target/spiral_Eval/packages/3b12d7c3f0448c8d76b2ceb9d762527c68839339d7efe0dc11833be8eb52e19d/build/dev/erlang/gleam_stdlib/_gleam_artefacts/gleam@set.erl\"}\n",
       "{compiled,\"/home/runner/work/spiral/polyglot/target/spiral_Eval/packages/3b12d7c3f0448c8d76b2ceb9d762527c68839339d7efe0dc11833be8eb52e19d/build/dev/erlang/gleam_stdlib/ebin/gleam@set.beam\"}\n",
       "{compiling,\"/home/runner/work/spiral/polyglot/target/spiral_Eval/packages/3b12d7c3f0448c8d76b2ceb9d762527c68839339d7efe0dc11833be8eb52e19d/build/dev/erlang/gleam_stdlib/_gleam_artefacts/gleam@string_tree.erl\"}\n",
       "{compiled,\"/home/runner/work/spiral/polyglot/target/spiral_Eval/packages/3b12d7c3f0448c8d76b2ceb9d762527c68839339d7efe0dc11833be8eb52e19d/build/dev/erlang/gleam_stdlib/ebin/gleam@bit_array.beam\"}\n",
       "{compiling,\"/home/runner/work/spiral/polyglot/target/spiral_Eval/packages/3b12d7c3f0448c8d76b2ceb9d762527c68839339d7efe0dc11833be8eb52e19d/build/dev/erlang/gleam_stdlib/_gleam_artefacts/gleam@pair.erl\"}\n",
       "{compiled,\"/home/runner/work/spiral/polyglot/target/spiral_Eval/packages/3b12d7c3f0448c8d76b2ceb9d762527c68839339d7efe0dc11833be8eb52e19d/build/dev/erlang/gleam_stdlib/ebin/gleam@int.beam\"}\n",
       "{compiling,\"/home/runner/work/spiral/polyglot/target/spiral_Eval/packages/3b12d7c3f0448c8d76b2ceb9d762527c68839339d7efe0dc11833be8eb52e19d/build/dev/erlang/gleam_stdlib/_gleam_artefacts/gleam_stdlib.erl\"}\n",
       "{compiled,\"/home/runner/work/spiral/polyglot/target/spiral_Eval/packages/3b12d7c3f0448c8d76b2ceb9d762527c68839339d7efe0dc11833be8eb52e19d/build/dev/erlang/gleam_stdlib/ebin/gleam@pair.beam\"}\n",
       "{compiling,\"/home/runner/work/spiral/polyglot/target/spiral_Eval/packages/3b12d7c3f0448c8d76b2ceb9d762527c68839339d7efe0dc11833be8eb52e19d/build/dev/erlang/gleam_stdlib/_gleam_artefacts/gleam@list.erl\"}\n",
       "{compiled,\"/home/runner/work/spiral/polyglot/target/spiral_Eval/packages/3b12d7c3f0448c8d76b2ceb9d762527c68839339d7efe0dc11833be8eb52e19d/build/dev/erlang/gleam_stdlib/ebin/gleam@string_tree.beam\"}\n",
       "{compiling,\"/home/runner/work/spiral/polyglot/target/spiral_Eval/packages/3b12d7c3f0448c8d76b2ceb9d762527c68839339d7efe0dc11833be8eb52e19d/build/dev/erlang/gleam_stdlib/_gleam_artefacts/gleam@uri.erl\"}\n",
       "{compiled,\"/home/runner/work/spiral/polyglot/target/spiral_Eval/packages/3b12d7c3f0448c8d76b2ceb9d762527c68839339d7efe0dc11833be8eb52e19d/build/dev/erlang/gleam_stdlib/ebin/gleam@dynamic.beam\"}\n",
       "{compiling,\"/home/runner/work/spiral/polyglot/target/spiral_Eval/packages/3b12d7c3f0448c8d76b2ceb9d762527c68839339d7efe0dc11833be8eb52e19d/build/dev/erlang/gleam_stdlib/_gleam_artefacts/gleam@order.erl\"}\n",
       "{compiled,\"/home/runner/work/spiral/polyglot/target/spiral_Eval/packages/3b12d7c3f0448c8d76b2ceb9d762527c68839339d7efe0dc11833be8eb52e19d/build/dev/erlang/gleam_stdlib/ebin/gleam@order.beam\"}\n",
       "{compiling,\"/home/runner/work/spiral/polyglot/target/spiral_Eval/packages/3b12d7c3f0448c8d76b2ceb9d762527c68839339d7efe0dc11833be8eb52e19d/build/dev/erlang/gleam_stdlib/_gleam_artefacts/gleam@option.erl\"}\n",
       "{compiled,\"/home/runner/work/spiral/polyglot/target/spiral_Eval/packages/3b12d7c3f0448c8d76b2ceb9d762527c68839339d7efe0dc11833be8eb52e19d/build/dev/erlang/gleam_stdlib/ebin/gleam@uri.beam\"}\n",
       "{compiled,\"/home/runner/work/spiral/polyglot/target/spiral_Eval/packages/3b12d7c3f0448c8d76b2ceb9d762527c68839339d7efe0dc11833be8eb52e19d/build/dev/erlang/gleam_stdlib/ebin/gleam@option.beam\"}\n",
       "{compiled,\"/home/runner/work/spiral/polyglot/target/spiral_Eval/packages/3b12d7c3f0448c8d76b2ceb9d762527c68839339d7efe0dc11833be8eb52e19d/build/dev/erlang/gleam_stdlib/ebin/gleam_stdlib.beam\"}\n",
       "{compiled,\"/home/runner/work/spiral/polyglot/target/spiral_Eval/packages/3b12d7c3f0448c8d76b2ceb9d762527c68839339d7efe0dc11833be8eb52e19d/build/dev/erlang/gleam_stdlib/ebin/gleam@list.beam\"}\n",
       "{compiling,\"/home/runner/work/spiral/polyglot/target/spiral_Eval/packages/3b12d7c3f0448c8d76b2ceb9d762527c68839339d7efe0dc11833be8eb52e19d/build/dev/erlang/gary/_gleam_artefacts/gary.erl\"}\n",
       "{compiling,\"/home/runner/work/spiral/polyglot/target/spiral_Eval/packages/3b12d7c3f0448c8d76b2ceb9d762527c68839339d7efe0dc11833be8eb52e19d/build/dev/erlang/gary/_gleam_artefacts/gary@array.erl\"}\n",
       "{compiling,\"/home/runner/work/spiral/polyglot/target/spiral_Eval/packages/3b12d7c3f0448c8d76b2ceb9d762527c68839339d7efe0dc11833be8eb52e19d/build/dev/erlang/gary/_gleam_artefacts/internal@array_bindings.erl\"}\n",
       "{compiled,\"/home/runner/work/spiral/polyglot/target/spiral_Eval/packages/3b12d7c3f0448c8d76b2ceb9d762527c68839339d7efe0dc11833be8eb52e19d/build/dev/erlang/gary/ebin/gary.beam\"}\n",
       "{compiled,\"/home/runner/work/spiral/polyglot/target/spiral_Eval/packages/3b12d7c3f0448c8d76b2ceb9d762527c68839339d7efe0dc11833be8eb52e19d/build/dev/erlang/gary/ebin/internal@array_bindings.beam\"}\n",
       "{compiled,\"/home/runner/work/spiral/polyglot/target/spiral_Eval/packages/3b12d7c3f0448c8d76b2ceb9d762527c68839339d7efe0dc11833be8eb52e19d/build/dev/erlang/gary/ebin/gary@array.beam\"}\n",
       "{compiling,\"/home/runner/work/spiral/polyglot/target/spiral_Eval/packages/3b12d7c3f0448c8d76b2ceb9d762527c68839339d7efe0dc11833be8eb52e19d/build/dev/erlang/main/_gleam_artefacts/main.erl\"}\n",
       "{compiling,\"/home/runner/work/spiral/polyglot/target/spiral_Eval/packages/3b12d7c3f0448c8d76b2ceb9d762527c68839339d7efe0dc11833be8eb52e19d/build/dev/erlang/main/_gleam_artefacts/main@@main.erl\"}\n",
       "{compiled,\"/home/runner/work/spiral/polyglot/target/spiral_Eval/packages/3b12d7c3f0448c8d76b2ceb9d762527c68839339d7efe0dc11833be8eb52e19d/build/dev/erlang/main/ebin/main.beam\"}\n",
       "{compiled,\"/home/runner/work/spiral/polyglot/target/spiral_Eval/packages/3b12d7c3f0448c8d76b2ceb9d762527c68839339d7efe0dc11833be8eb52e19d/build/dev/erlang/main/ebin/main@@main.beam\"}\n",
       "__assert_eq / actual: #(1, 2) / expected: #(1, 2)\n",
       "\n",
       "\n"
      ]
     },
     "metadata": {},
     "output_type": "display_data"
    },
    {
     "name": "stdout",
     "output_type": "stream",
     "text": [
      ".fsx output:\n",
      "__assert_eq / actual: struct (1, 2) / expected: struct (1, 2)\n"
     ]
    }
   ],
   "source": [
    "//// test\n",
    "///! gleam\n",
    "///! fsharp\n",
    "///! cuda\n",
    "///! rust\n",
    "///! typescript\n",
    "///! python\n",
    "\n",
    "pair 1i32 2i32\n",
    "|> _assert_eq (1, 2)"
   ]
  },
  {
   "cell_type": "markdown",
   "metadata": {},
   "source": [
    "### new_pair"
   ]
  },
  {
   "cell_type": "code",
   "execution_count": null,
   "metadata": {
    "dotnet_interactive": {
     "language": "spiral"
    },
    "polyglot_notebook": {
     "kernelName": "spiral"
    }
   },
   "outputs": [],
   "source": [
    "inl new_pair forall a b. (a : a) (b : b) : pair a b =\n",
    "    backend_switch {\n",
    "        Gleam = fun () =>\n",
    "            $'#(!a, !b )' : pair a b\n",
    "        Fsharp = fun () =>\n",
    "            $'!a, !b ' : pair a b\n",
    "        Python = fun () =>\n",
    "            $'!a, !b ' : pair a b\n",
    "    }"
   ]
  },
  {
   "cell_type": "markdown",
   "metadata": {},
   "source": [
    "### from_pair"
   ]
  },
  {
   "cell_type": "code",
   "execution_count": null,
   "metadata": {
    "dotnet_interactive": {
     "language": "spiral"
    },
    "polyglot_notebook": {
     "kernelName": "spiral"
    }
   },
   "outputs": [],
   "source": [
    "inl from_pair forall a b. (pair : pair a b) : a * b =\n",
    "    backend_switch {\n",
    "        Gleam = fun () =>\n",
    "            $'let #(a, b) = !pair '\n",
    "            ($'a' : a), ($'b' : b)\n",
    "        Fsharp = fun () =>\n",
    "            $'let (a, b) = !pair '\n",
    "            ($'a' : a), ($'b' : b)\n",
    "        Python = fun () =>\n",
    "            $'a, b = !pair '\n",
    "            ($'a' : a), ($'b' : b)\n",
    "    }"
   ]
  },
  {
   "cell_type": "code",
   "execution_count": null,
   "metadata": {
    "dotnet_interactive": {
     "language": "spiral"
    },
    "polyglot_notebook": {
     "kernelName": "spiral"
    }
   },
   "outputs": [
    {
     "data": {
      "text/plain": [
       ".py output (Cuda):\n",
       "__assert_eq' / actual: ('a', (1, 'b')) / expected: ('a', (1, 'b'))\n",
       "\n",
       ".rs output:\n",
       "__assert_eq' / actual: (\"a\", (1, \"b\")) / expected: (\"a\", (1, \"b\"))\n",
       "\n",
       ".ts output:\n",
       "__assert_eq' / actual: a,1,b / expected: a,1,b\n",
       "\n",
       ".py output:\n",
       "__assert_eq' / actual: ('a', (1, 'b')) / expected: ('a', (1, 'b'))\n",
       "\n",
       "\n",
       ".gleam output (Gleam):\n",
       "{compiling,\"/home/runner/work/spiral/polyglot/target/spiral_Eval/packages/913ce68ac6ec38072efc8a622945938745a518e9db350ddbf0b5940843bbe4ae/build/dev/erlang/gleam_stdlib/_gleam_artefacts/gleam_stdlib.erl\"}\n",
       "{compiling,\"/home/runner/work/spiral/polyglot/target/spiral_Eval/packages/913ce68ac6ec38072efc8a622945938745a518e9db350ddbf0b5940843bbe4ae/build/dev/erlang/gleam_stdlib/_gleam_artefacts/gleam@int.erl\"}\n",
       "{compiling,\"/home/runner/work/spiral/polyglot/target/spiral_Eval/packages/913ce68ac6ec38072efc8a622945938745a518e9db350ddbf0b5940843bbe4ae/build/dev/erlang/gleam_stdlib/_gleam_artefacts/gleam@order.erl\"}\n",
       "{compiling,\"/home/runner/work/spiral/polyglot/target/spiral_Eval/packages/913ce68ac6ec38072efc8a622945938745a518e9db350ddbf0b5940843bbe4ae/build/dev/erlang/gleam_stdlib/_gleam_artefacts/gleam@bytes_tree.erl\"}\n",
       "{compiled,\"/home/runner/work/spiral/polyglot/target/spiral_Eval/packages/913ce68ac6ec38072efc8a622945938745a518e9db350ddbf0b5940843bbe4ae/build/dev/erlang/gleam_stdlib/ebin/gleam@order.beam\"}\n",
       "{compiling,\"/home/runner/work/spiral/polyglot/target/spiral_Eval/packages/913ce68ac6ec38072efc8a622945938745a518e9db350ddbf0b5940843bbe4ae/build/dev/erlang/gleam_stdlib/_gleam_artefacts/gleam_stdlib_decode_ffi.erl\"}\n",
       "{compiled,\"/home/runner/work/spiral/polyglot/target/spiral_Eval/packages/913ce68ac6ec38072efc8a622945938745a518e9db350ddbf0b5940843bbe4ae/build/dev/erlang/gleam_stdlib/ebin/gleam@bytes_tree.beam\"}\n",
       "{compiling,\"/home/runner/work/spiral/polyglot/target/spiral_Eval/packages/913ce68ac6ec38072efc8a622945938745a518e9db350ddbf0b5940843bbe4ae/build/dev/erlang/gleam_stdlib/_gleam_artefacts/gleam@set.erl\"}\n",
       "{compiled,\"/home/runner/work/spiral/polyglot/target/spiral_Eval/packages/913ce68ac6ec38072efc8a622945938745a518e9db350ddbf0b5940843bbe4ae/build/dev/erlang/gleam_stdlib/ebin/gleam_stdlib_decode_ffi.beam\"}\n",
       "{compiling,\"/home/runner/work/spiral/polyglot/target/spiral_Eval/packages/913ce68ac6ec38072efc8a622945938745a518e9db350ddbf0b5940843bbe4ae/build/dev/erlang/gleam_stdlib/_gleam_artefacts/gleam@function.erl\"}\n",
       "{compiled,\"/home/runner/work/spiral/polyglot/target/spiral_Eval/packages/913ce68ac6ec38072efc8a622945938745a518e9db350ddbf0b5940843bbe4ae/build/dev/erlang/gleam_stdlib/ebin/gleam@set.beam\"}\n",
       "{compiling,\"/home/runner/work/spiral/polyglot/target/spiral_Eval/packages/913ce68ac6ec38072efc8a622945938745a518e9db350ddbf0b5940843bbe4ae/build/dev/erlang/gleam_stdlib/_gleam_artefacts/gleam@io.erl\"}\n",
       "{compiled,\"/home/runner/work/spiral/polyglot/target/spiral_Eval/packages/913ce68ac6ec38072efc8a622945938745a518e9db350ddbf0b5940843bbe4ae/build/dev/erlang/gleam_stdlib/ebin/gleam@int.beam\"}\n",
       "{compiling,\"/home/runner/work/spiral/polyglot/target/spiral_Eval/packages/913ce68ac6ec38072efc8a622945938745a518e9db350ddbf0b5940843bbe4ae/build/dev/erlang/gleam_stdlib/_gleam_artefacts/gleam@bool.erl\"}\n",
       "{compiled,\"/home/runner/work/spiral/polyglot/target/spiral_Eval/packages/913ce68ac6ec38072efc8a622945938745a518e9db350ddbf0b5940843bbe4ae/build/dev/erlang/gleam_stdlib/ebin/gleam@function.beam\"}\n",
       "{compiling,\"/home/runner/work/spiral/polyglot/target/spiral_Eval/packages/913ce68ac6ec38072efc8a622945938745a518e9db350ddbf0b5940843bbe4ae/build/dev/erlang/gleam_stdlib/_gleam_artefacts/gleam@bit_array.erl\"}\n",
       "{compiled,\"/home/runner/work/spiral/polyglot/target/spiral_Eval/packages/913ce68ac6ec38072efc8a622945938745a518e9db350ddbf0b5940843bbe4ae/build/dev/erlang/gleam_stdlib/ebin/gleam@io.beam\"}\n",
       "{compiling,\"/home/runner/work/spiral/polyglot/target/spiral_Eval/packages/913ce68ac6ec38072efc8a622945938745a518e9db350ddbf0b5940843bbe4ae/build/dev/erlang/gleam_stdlib/_gleam_artefacts/gleam@list.erl\"}\n",
       "{compiled,\"/home/runner/work/spiral/polyglot/target/spiral_Eval/packages/913ce68ac6ec38072efc8a622945938745a518e9db350ddbf0b5940843bbe4ae/build/dev/erlang/gleam_stdlib/ebin/gleam@bool.beam\"}\n",
       "{compiling,\"/home/runner/work/spiral/polyglot/target/spiral_Eval/packages/913ce68ac6ec38072efc8a622945938745a518e9db350ddbf0b5940843bbe4ae/build/dev/erlang/gleam_stdlib/_gleam_artefacts/gleam@string.erl\"}\n",
       "{compiled,\"/home/runner/work/spiral/polyglot/target/spiral_Eval/packages/913ce68ac6ec38072efc8a622945938745a518e9db350ddbf0b5940843bbe4ae/build/dev/erlang/gleam_stdlib/ebin/gleam@bit_array.beam\"}\n",
       "{compiling,\"/home/runner/work/spiral/polyglot/target/spiral_Eval/packages/913ce68ac6ec38072efc8a622945938745a518e9db350ddbf0b5940843bbe4ae/build/dev/erlang/gleam_stdlib/_gleam_artefacts/gleam@dict.erl\"}\n",
       "{compiled,\"/home/runner/work/spiral/polyglot/target/spiral_Eval/packages/913ce68ac6ec38072efc8a622945938745a518e9db350ddbf0b5940843bbe4ae/build/dev/erlang/gleam_stdlib/ebin/gleam@string.beam\"}\n",
       "{compiling,\"/home/runner/work/spiral/polyglot/target/spiral_Eval/packages/913ce68ac6ec38072efc8a622945938745a518e9db350ddbf0b5940843bbe4ae/build/dev/erlang/gleam_stdlib/_gleam_artefacts/gleam@string_tree.erl\"}\n",
       "{compiled,\"/home/runner/work/spiral/polyglot/target/spiral_Eval/packages/913ce68ac6ec38072efc8a622945938745a518e9db350ddbf0b5940843bbe4ae/build/dev/erlang/gleam_stdlib/ebin/gleam@dict.beam\"}\n",
       "{compiled,\"/home/runner/work/spiral/polyglot/target/spiral_Eval/packages/913ce68ac6ec38072efc8a622945938745a518e9db350ddbf0b5940843bbe4ae/build/dev/erlang/gleam_stdlib/ebin/gleam@string_tree.beam\"}\n",
       "{compiling,\"/home/runner/work/spiral/polyglot/target/spiral_Eval/packages/913ce68ac6ec38072efc8a622945938745a518e9db350ddbf0b5940843bbe4ae/build/dev/erlang/gleam_stdlib/_gleam_artefacts/gleam@float.erl\"}\n",
       "{compiling,\"/home/runner/work/spiral/polyglot/target/spiral_Eval/packages/913ce68ac6ec38072efc8a622945938745a518e9db350ddbf0b5940843bbe4ae/build/dev/erlang/gleam_stdlib/_gleam_artefacts/gleam@uri.erl\"}\n",
       "{compiled,\"/home/runner/work/spiral/polyglot/target/spiral_Eval/packages/913ce68ac6ec38072efc8a622945938745a518e9db350ddbf0b5940843bbe4ae/build/dev/erlang/gleam_stdlib/ebin/gleam@float.beam\"}\n",
       "{compiling,\"/home/runner/work/spiral/polyglot/target/spiral_Eval/packages/913ce68ac6ec38072efc8a622945938745a518e9db350ddbf0b5940843bbe4ae/build/dev/erlang/gleam_stdlib/_gleam_artefacts/gleam@pair.erl\"}\n",
       "{compiled,\"/home/runner/work/spiral/polyglot/target/spiral_Eval/packages/913ce68ac6ec38072efc8a622945938745a518e9db350ddbf0b5940843bbe4ae/build/dev/erlang/gleam_stdlib/ebin/gleam@pair.beam\"}\n",
       "{compiling,\"/home/runner/work/spiral/polyglot/target/spiral_Eval/packages/913ce68ac6ec38072efc8a622945938745a518e9db350ddbf0b5940843bbe4ae/build/dev/erlang/gleam_stdlib/_gleam_artefacts/gleam@dynamic@decode.erl\"}\n",
       "{compiled,\"/home/runner/work/spiral/polyglot/target/spiral_Eval/packages/913ce68ac6ec38072efc8a622945938745a518e9db350ddbf0b5940843bbe4ae/build/dev/erlang/gleam_stdlib/ebin/gleam_stdlib.beam\"}\n",
       "{compiling,\"/home/runner/work/spiral/polyglot/target/spiral_Eval/packages/913ce68ac6ec38072efc8a622945938745a518e9db350ddbf0b5940843bbe4ae/build/dev/erlang/gleam_stdlib/_gleam_artefacts/gleam@dynamic.erl\"}\n",
       "{compiled,\"/home/runner/work/spiral/polyglot/target/spiral_Eval/packages/913ce68ac6ec38072efc8a622945938745a518e9db350ddbf0b5940843bbe4ae/build/dev/erlang/gleam_stdlib/ebin/gleam@uri.beam\"}\n",
       "{compiling,\"/home/runner/work/spiral/polyglot/target/spiral_Eval/packages/913ce68ac6ec38072efc8a622945938745a518e9db350ddbf0b5940843bbe4ae/build/dev/erlang/gleam_stdlib/_gleam_artefacts/gleam@option.erl\"}\n",
       "{compiled,\"/home/runner/work/spiral/polyglot/target/spiral_Eval/packages/913ce68ac6ec38072efc8a622945938745a518e9db350ddbf0b5940843bbe4ae/build/dev/erlang/gleam_stdlib/ebin/gleam@dynamic@decode.beam\"}\n",
       "{compiling,\"/home/runner/work/spiral/polyglot/target/spiral_Eval/packages/913ce68ac6ec38072efc8a622945938745a518e9db350ddbf0b5940843bbe4ae/build/dev/erlang/gleam_stdlib/_gleam_artefacts/gleam@result.erl\"}\n",
       "{compiled,\"/home/runner/work/spiral/polyglot/target/spiral_Eval/packages/913ce68ac6ec38072efc8a622945938745a518e9db350ddbf0b5940843bbe4ae/build/dev/erlang/gleam_stdlib/ebin/gleam@option.beam\"}\n",
       "{compiled,\"/home/runner/work/spiral/polyglot/target/spiral_Eval/packages/913ce68ac6ec38072efc8a622945938745a518e9db350ddbf0b5940843bbe4ae/build/dev/erlang/gleam_stdlib/ebin/gleam@result.beam\"}\n",
       "{compiled,\"/home/runner/work/spiral/polyglot/target/spiral_Eval/packages/913ce68ac6ec38072efc8a622945938745a518e9db350ddbf0b5940843bbe4ae/build/dev/erlang/gleam_stdlib/ebin/gleam@list.beam\"}\n",
       "{compiled,\"/home/runner/work/spiral/polyglot/target/spiral_Eval/packages/913ce68ac6ec38072efc8a622945938745a518e9db350ddbf0b5940843bbe4ae/build/dev/erlang/gleam_stdlib/ebin/gleam@dynamic.beam\"}\n",
       "{compiling,\"/home/runner/work/spiral/polyglot/target/spiral_Eval/packages/913ce68ac6ec38072efc8a622945938745a518e9db350ddbf0b5940843bbe4ae/build/dev/erlang/gary/_gleam_artefacts/gary.erl\"}\n",
       "{compiling,\"/home/runner/work/spiral/polyglot/target/spiral_Eval/packages/913ce68ac6ec38072efc8a622945938745a518e9db350ddbf0b5940843bbe4ae/build/dev/erlang/gary/_gleam_artefacts/internal@array_bindings.erl\"}\n",
       "{compiling,\"/home/runner/work/spiral/polyglot/target/spiral_Eval/packages/913ce68ac6ec38072efc8a622945938745a518e9db350ddbf0b5940843bbe4ae/build/dev/erlang/gary/_gleam_artefacts/gary@array.erl\"}\n",
       "{compiled,\"/home/runner/work/spiral/polyglot/target/spiral_Eval/packages/913ce68ac6ec38072efc8a622945938745a518e9db350ddbf0b5940843bbe4ae/build/dev/erlang/gary/ebin/gary.beam\"}\n",
       "{compiled,\"/home/runner/work/spiral/polyglot/target/spiral_Eval/packages/913ce68ac6ec38072efc8a622945938745a518e9db350ddbf0b5940843bbe4ae/build/dev/erlang/gary/ebin/internal@array_bindings.beam\"}\n",
       "{compiled,\"/home/runner/work/spiral/polyglot/target/spiral_Eval/packages/913ce68ac6ec38072efc8a622945938745a518e9db350ddbf0b5940843bbe4ae/build/dev/erlang/gary/ebin/gary@array.beam\"}\n",
       "{compiling,\"/home/runner/work/spiral/polyglot/target/spiral_Eval/packages/913ce68ac6ec38072efc8a622945938745a518e9db350ddbf0b5940843bbe4ae/build/dev/erlang/main/_gleam_artefacts/main.erl\"}\n",
       "{compiling,\"/home/runner/work/spiral/polyglot/target/spiral_Eval/packages/913ce68ac6ec38072efc8a622945938745a518e9db350ddbf0b5940843bbe4ae/build/dev/erlang/main/_gleam_artefacts/main@@main.erl\"}\n",
       "{compiled,\"/home/runner/work/spiral/polyglot/target/spiral_Eval/packages/913ce68ac6ec38072efc8a622945938745a518e9db350ddbf0b5940843bbe4ae/build/dev/erlang/main/ebin/main.beam\"}\n",
       "{compiled,\"/home/runner/work/spiral/polyglot/target/spiral_Eval/packages/913ce68ac6ec38072efc8a622945938745a518e9db350ddbf0b5940843bbe4ae/build/dev/erlang/main/ebin/main@@main.beam\"}\n",
       "__assert_eq' / actual: #(\"a\", #(1, \"b\")) / expected: #(\"a\", #(1, \"b\"))\n",
       "\n",
       "\n"
      ]
     },
     "metadata": {},
     "output_type": "display_data"
    },
    {
     "name": "stdout",
     "output_type": "stream",
     "text": [
      ".fsx output:\n",
      "__assert_eq' / actual: struct (\"a\", (1, \"b\")) / expected: struct (\"a\", (1, \"b\"))\n"
     ]
    }
   ],
   "source": [
    "//// test\n",
    "///! gleam\n",
    "///! fsharp\n",
    "///! cuda\n",
    "///! rust\n",
    "///! typescript\n",
    "///! python\n",
    "\n",
    "new_pair \"a\" (new_pair 1i32 \"b\")\n",
    "|> from_pair\n",
    "|> _assert_eq' (\"a\", (new_pair 1i32 \"b\"))"
   ]
  },
  {
   "cell_type": "markdown",
   "metadata": {},
   "source": [
    "## application"
   ]
  },
  {
   "cell_type": "markdown",
   "metadata": {},
   "source": [
    "### (||>)"
   ]
  },
  {
   "cell_type": "code",
   "execution_count": null,
   "metadata": {
    "dotnet_interactive": {
     "language": "spiral"
    },
    "polyglot_notebook": {
     "kernelName": "spiral"
    }
   },
   "outputs": [],
   "source": [
    "inl (||>) (arg1, arg2) fn =\n",
    "    arg2 |> fn arg1"
   ]
  },
  {
   "cell_type": "markdown",
   "metadata": {},
   "source": [
    "### (||>)"
   ]
  },
  {
   "cell_type": "code",
   "execution_count": null,
   "metadata": {
    "dotnet_interactive": {
     "language": "spiral"
    },
    "polyglot_notebook": {
     "kernelName": "spiral"
    }
   },
   "outputs": [
    {
     "data": {
      "text/plain": [
       ".py output (Cuda):\n",
       "__assert_eq / actual: 1 / expected: 1\n",
       "\n",
       ".rs output:\n",
       "__assert_eq / actual: 1 / expected: 1\n",
       "\n",
       ".ts output:\n",
       "__assert_eq / actual: 1 / expected: 1\n",
       "\n",
       ".py output:\n",
       "__assert_eq / actual: 1 / expected: 1\n",
       "\n",
       "\n",
       ".gleam output (Gleam):\n",
       "{compiling,\"/home/runner/work/spiral/polyglot/target/spiral_Eval/packages/8d44dd6004c0c80bce9f64fbec49cd2f4d32944c5067143c8c44b757aee985a6/build/dev/erlang/gleam_stdlib/_gleam_artefacts/gleam@bytes_tree.erl\"}\n",
       "{compiling,\"/home/runner/work/spiral/polyglot/target/spiral_Eval/packages/8d44dd6004c0c80bce9f64fbec49cd2f4d32944c5067143c8c44b757aee985a6/build/dev/erlang/gleam_stdlib/_gleam_artefacts/gleam@pair.erl\"}\n",
       "{compiling,\"/home/runner/work/spiral/polyglot/target/spiral_Eval/packages/8d44dd6004c0c80bce9f64fbec49cd2f4d32944c5067143c8c44b757aee985a6/build/dev/erlang/gleam_stdlib/_gleam_artefacts/gleam@result.erl\"}\n",
       "{compiling,\"/home/runner/work/spiral/polyglot/target/spiral_Eval/packages/8d44dd6004c0c80bce9f64fbec49cd2f4d32944c5067143c8c44b757aee985a6/build/dev/erlang/gleam_stdlib/_gleam_artefacts/gleam@string_tree.erl\"}\n",
       "{compiled,\"/home/runner/work/spiral/polyglot/target/spiral_Eval/packages/8d44dd6004c0c80bce9f64fbec49cd2f4d32944c5067143c8c44b757aee985a6/build/dev/erlang/gleam_stdlib/ebin/gleam@pair.beam\"}\n",
       "{compiling,\"/home/runner/work/spiral/polyglot/target/spiral_Eval/packages/8d44dd6004c0c80bce9f64fbec49cd2f4d32944c5067143c8c44b757aee985a6/build/dev/erlang/gleam_stdlib/_gleam_artefacts/gleam@dynamic.erl\"}\n",
       "{compiled,\"/home/runner/work/spiral/polyglot/target/spiral_Eval/packages/8d44dd6004c0c80bce9f64fbec49cd2f4d32944c5067143c8c44b757aee985a6/build/dev/erlang/gleam_stdlib/ebin/gleam@bytes_tree.beam\"}\n",
       "{compiling,\"/home/runner/work/spiral/polyglot/target/spiral_Eval/packages/8d44dd6004c0c80bce9f64fbec49cd2f4d32944c5067143c8c44b757aee985a6/build/dev/erlang/gleam_stdlib/_gleam_artefacts/gleam_stdlib_decode_ffi.erl\"}\n",
       "{compiled,\"/home/runner/work/spiral/polyglot/target/spiral_Eval/packages/8d44dd6004c0c80bce9f64fbec49cd2f4d32944c5067143c8c44b757aee985a6/build/dev/erlang/gleam_stdlib/ebin/gleam@string_tree.beam\"}\n",
       "{compiling,\"/home/runner/work/spiral/polyglot/target/spiral_Eval/packages/8d44dd6004c0c80bce9f64fbec49cd2f4d32944c5067143c8c44b757aee985a6/build/dev/erlang/gleam_stdlib/_gleam_artefacts/gleam@float.erl\"}\n",
       "{compiled,\"/home/runner/work/spiral/polyglot/target/spiral_Eval/packages/8d44dd6004c0c80bce9f64fbec49cd2f4d32944c5067143c8c44b757aee985a6/build/dev/erlang/gleam_stdlib/ebin/gleam@result.beam\"}\n",
       "{compiling,\"/home/runner/work/spiral/polyglot/target/spiral_Eval/packages/8d44dd6004c0c80bce9f64fbec49cd2f4d32944c5067143c8c44b757aee985a6/build/dev/erlang/gleam_stdlib/_gleam_artefacts/gleam@list.erl\"}\n",
       "{compiled,\"/home/runner/work/spiral/polyglot/target/spiral_Eval/packages/8d44dd6004c0c80bce9f64fbec49cd2f4d32944c5067143c8c44b757aee985a6/build/dev/erlang/gleam_stdlib/ebin/gleam_stdlib_decode_ffi.beam\"}\n",
       "{compiling,\"/home/runner/work/spiral/polyglot/target/spiral_Eval/packages/8d44dd6004c0c80bce9f64fbec49cd2f4d32944c5067143c8c44b757aee985a6/build/dev/erlang/gleam_stdlib/_gleam_artefacts/gleam@string.erl\"}\n",
       "{compiled,\"/home/runner/work/spiral/polyglot/target/spiral_Eval/packages/8d44dd6004c0c80bce9f64fbec49cd2f4d32944c5067143c8c44b757aee985a6/build/dev/erlang/gleam_stdlib/ebin/gleam@float.beam\"}\n",
       "{compiling,\"/home/runner/work/spiral/polyglot/target/spiral_Eval/packages/8d44dd6004c0c80bce9f64fbec49cd2f4d32944c5067143c8c44b757aee985a6/build/dev/erlang/gleam_stdlib/_gleam_artefacts/gleam@option.erl\"}\n",
       "{compiled,\"/home/runner/work/spiral/polyglot/target/spiral_Eval/packages/8d44dd6004c0c80bce9f64fbec49cd2f4d32944c5067143c8c44b757aee985a6/build/dev/erlang/gleam_stdlib/ebin/gleam@option.beam\"}\n",
       "{compiling,\"/home/runner/work/spiral/polyglot/target/spiral_Eval/packages/8d44dd6004c0c80bce9f64fbec49cd2f4d32944c5067143c8c44b757aee985a6/build/dev/erlang/gleam_stdlib/_gleam_artefacts/gleam@dict.erl\"}\n",
       "{compiled,\"/home/runner/work/spiral/polyglot/target/spiral_Eval/packages/8d44dd6004c0c80bce9f64fbec49cd2f4d32944c5067143c8c44b757aee985a6/build/dev/erlang/gleam_stdlib/ebin/gleam@string.beam\"}\n",
       "{compiling,\"/home/runner/work/spiral/polyglot/target/spiral_Eval/packages/8d44dd6004c0c80bce9f64fbec49cd2f4d32944c5067143c8c44b757aee985a6/build/dev/erlang/gleam_stdlib/_gleam_artefacts/gleam@order.erl\"}\n",
       "{compiled,\"/home/runner/work/spiral/polyglot/target/spiral_Eval/packages/8d44dd6004c0c80bce9f64fbec49cd2f4d32944c5067143c8c44b757aee985a6/build/dev/erlang/gleam_stdlib/ebin/gleam@dict.beam\"}\n",
       "{compiled,\"/home/runner/work/spiral/polyglot/target/spiral_Eval/packages/8d44dd6004c0c80bce9f64fbec49cd2f4d32944c5067143c8c44b757aee985a6/build/dev/erlang/gleam_stdlib/ebin/gleam@order.beam\"}\n",
       "{compiling,\"/home/runner/work/spiral/polyglot/target/spiral_Eval/packages/8d44dd6004c0c80bce9f64fbec49cd2f4d32944c5067143c8c44b757aee985a6/build/dev/erlang/gleam_stdlib/_gleam_artefacts/gleam@uri.erl\"}\n",
       "{compiling,\"/home/runner/work/spiral/polyglot/target/spiral_Eval/packages/8d44dd6004c0c80bce9f64fbec49cd2f4d32944c5067143c8c44b757aee985a6/build/dev/erlang/gleam_stdlib/_gleam_artefacts/gleam_stdlib.erl\"}\n",
       "{compiled,\"/home/runner/work/spiral/polyglot/target/spiral_Eval/packages/8d44dd6004c0c80bce9f64fbec49cd2f4d32944c5067143c8c44b757aee985a6/build/dev/erlang/gleam_stdlib/ebin/gleam@dynamic.beam\"}\n",
       "{compiling,\"/home/runner/work/spiral/polyglot/target/spiral_Eval/packages/8d44dd6004c0c80bce9f64fbec49cd2f4d32944c5067143c8c44b757aee985a6/build/dev/erlang/gleam_stdlib/_gleam_artefacts/gleam@bit_array.erl\"}\n",
       "{compiled,\"/home/runner/work/spiral/polyglot/target/spiral_Eval/packages/8d44dd6004c0c80bce9f64fbec49cd2f4d32944c5067143c8c44b757aee985a6/build/dev/erlang/gleam_stdlib/ebin/gleam@uri.beam\"}\n",
       "{compiling,\"/home/runner/work/spiral/polyglot/target/spiral_Eval/packages/8d44dd6004c0c80bce9f64fbec49cd2f4d32944c5067143c8c44b757aee985a6/build/dev/erlang/gleam_stdlib/_gleam_artefacts/gleam@bool.erl\"}\n",
       "{compiled,\"/home/runner/work/spiral/polyglot/target/spiral_Eval/packages/8d44dd6004c0c80bce9f64fbec49cd2f4d32944c5067143c8c44b757aee985a6/build/dev/erlang/gleam_stdlib/ebin/gleam@bool.beam\"}\n",
       "{compiling,\"/home/runner/work/spiral/polyglot/target/spiral_Eval/packages/8d44dd6004c0c80bce9f64fbec49cd2f4d32944c5067143c8c44b757aee985a6/build/dev/erlang/gleam_stdlib/_gleam_artefacts/gleam@function.erl\"}\n",
       "{compiled,\"/home/runner/work/spiral/polyglot/target/spiral_Eval/packages/8d44dd6004c0c80bce9f64fbec49cd2f4d32944c5067143c8c44b757aee985a6/build/dev/erlang/gleam_stdlib/ebin/gleam@function.beam\"}\n",
       "{compiling,\"/home/runner/work/spiral/polyglot/target/spiral_Eval/packages/8d44dd6004c0c80bce9f64fbec49cd2f4d32944c5067143c8c44b757aee985a6/build/dev/erlang/gleam_stdlib/_gleam_artefacts/gleam@set.erl\"}\n",
       "{compiled,\"/home/runner/work/spiral/polyglot/target/spiral_Eval/packages/8d44dd6004c0c80bce9f64fbec49cd2f4d32944c5067143c8c44b757aee985a6/build/dev/erlang/gleam_stdlib/ebin/gleam@set.beam\"}\n",
       "{compiling,\"/home/runner/work/spiral/polyglot/target/spiral_Eval/packages/8d44dd6004c0c80bce9f64fbec49cd2f4d32944c5067143c8c44b757aee985a6/build/dev/erlang/gleam_stdlib/_gleam_artefacts/gleam@int.erl\"}\n",
       "{compiled,\"/home/runner/work/spiral/polyglot/target/spiral_Eval/packages/8d44dd6004c0c80bce9f64fbec49cd2f4d32944c5067143c8c44b757aee985a6/build/dev/erlang/gleam_stdlib/ebin/gleam@bit_array.beam\"}\n",
       "{compiling,\"/home/runner/work/spiral/polyglot/target/spiral_Eval/packages/8d44dd6004c0c80bce9f64fbec49cd2f4d32944c5067143c8c44b757aee985a6/build/dev/erlang/gleam_stdlib/_gleam_artefacts/gleam@dynamic@decode.erl\"}\n",
       "{compiled,\"/home/runner/work/spiral/polyglot/target/spiral_Eval/packages/8d44dd6004c0c80bce9f64fbec49cd2f4d32944c5067143c8c44b757aee985a6/build/dev/erlang/gleam_stdlib/ebin/gleam_stdlib.beam\"}\n",
       "{compiling,\"/home/runner/work/spiral/polyglot/target/spiral_Eval/packages/8d44dd6004c0c80bce9f64fbec49cd2f4d32944c5067143c8c44b757aee985a6/build/dev/erlang/gleam_stdlib/_gleam_artefacts/gleam@io.erl\"}\n",
       "{compiled,\"/home/runner/work/spiral/polyglot/target/spiral_Eval/packages/8d44dd6004c0c80bce9f64fbec49cd2f4d32944c5067143c8c44b757aee985a6/build/dev/erlang/gleam_stdlib/ebin/gleam@io.beam\"}\n",
       "{compiled,\"/home/runner/work/spiral/polyglot/target/spiral_Eval/packages/8d44dd6004c0c80bce9f64fbec49cd2f4d32944c5067143c8c44b757aee985a6/build/dev/erlang/gleam_stdlib/ebin/gleam@int.beam\"}\n",
       "{compiled,\"/home/runner/work/spiral/polyglot/target/spiral_Eval/packages/8d44dd6004c0c80bce9f64fbec49cd2f4d32944c5067143c8c44b757aee985a6/build/dev/erlang/gleam_stdlib/ebin/gleam@list.beam\"}\n",
       "{compiled,\"/home/runner/work/spiral/polyglot/target/spiral_Eval/packages/8d44dd6004c0c80bce9f64fbec49cd2f4d32944c5067143c8c44b757aee985a6/build/dev/erlang/gleam_stdlib/ebin/gleam@dynamic@decode.beam\"}\n",
       "{compiling,\"/home/runner/work/spiral/polyglot/target/spiral_Eval/packages/8d44dd6004c0c80bce9f64fbec49cd2f4d32944c5067143c8c44b757aee985a6/build/dev/erlang/gary/_gleam_artefacts/gary.erl\"}\n",
       "{compiling,\"/home/runner/work/spiral/polyglot/target/spiral_Eval/packages/8d44dd6004c0c80bce9f64fbec49cd2f4d32944c5067143c8c44b757aee985a6/build/dev/erlang/gary/_gleam_artefacts/gary@array.erl\"}\n",
       "{compiling,\"/home/runner/work/spiral/polyglot/target/spiral_Eval/packages/8d44dd6004c0c80bce9f64fbec49cd2f4d32944c5067143c8c44b757aee985a6/build/dev/erlang/gary/_gleam_artefacts/internal@array_bindings.erl\"}\n",
       "{compiled,\"/home/runner/work/spiral/polyglot/target/spiral_Eval/packages/8d44dd6004c0c80bce9f64fbec49cd2f4d32944c5067143c8c44b757aee985a6/build/dev/erlang/gary/ebin/gary.beam\"}\n",
       "{compiled,\"/home/runner/work/spiral/polyglot/target/spiral_Eval/packages/8d44dd6004c0c80bce9f64fbec49cd2f4d32944c5067143c8c44b757aee985a6/build/dev/erlang/gary/ebin/internal@array_bindings.beam\"}\n",
       "{compiled,\"/home/runner/work/spiral/polyglot/target/spiral_Eval/packages/8d44dd6004c0c80bce9f64fbec49cd2f4d32944c5067143c8c44b757aee985a6/build/dev/erlang/gary/ebin/gary@array.beam\"}\n",
       "{compiling,\"/home/runner/work/spiral/polyglot/target/spiral_Eval/packages/8d44dd6004c0c80bce9f64fbec49cd2f4d32944c5067143c8c44b757aee985a6/build/dev/erlang/main/_gleam_artefacts/main@@main.erl\"}\n",
       "{compiling,\"/home/runner/work/spiral/polyglot/target/spiral_Eval/packages/8d44dd6004c0c80bce9f64fbec49cd2f4d32944c5067143c8c44b757aee985a6/build/dev/erlang/main/_gleam_artefacts/main.erl\"}\n",
       "{compiled,\"/home/runner/work/spiral/polyglot/target/spiral_Eval/packages/8d44dd6004c0c80bce9f64fbec49cd2f4d32944c5067143c8c44b757aee985a6/build/dev/erlang/main/ebin/main.beam\"}\n",
       "{compiled,\"/home/runner/work/spiral/polyglot/target/spiral_Eval/packages/8d44dd6004c0c80bce9f64fbec49cd2f4d32944c5067143c8c44b757aee985a6/build/dev/erlang/main/ebin/main@@main.beam\"}\n",
       "__assert_eq / actual: 1 / expected: 1\n",
       "\n",
       "\n"
      ]
     },
     "metadata": {},
     "output_type": "display_data"
    },
    {
     "name": "stdout",
     "output_type": "stream",
     "text": [
      ".fsx output:\n",
      "__assert_eq / actual: 1 / expected: 1\n"
     ]
    }
   ],
   "source": [
    "//// test\n",
    "///! gleam\n",
    "///! fsharp\n",
    "///! cuda\n",
    "///! rust\n",
    "///! typescript\n",
    "///! python\n",
    "\n",
    "(3i32, 2i32)\n",
    "||> fun a b => a - b\n",
    "|> _assert_eq 1"
   ]
  },
  {
   "cell_type": "code",
   "execution_count": null,
   "metadata": {
    "dotnet_interactive": {
     "language": "spiral"
    },
    "polyglot_notebook": {
     "kernelName": "spiral"
    }
   },
   "outputs": [
    {
     "data": {
      "text/plain": [
       ".py output (Cuda):\n",
       "__assert_eq / actual: (2, 1) / expected: (2, 1)\n",
       "\n",
       ".rs output:\n",
       "__assert_eq / actual: (2, 1) / expected: (2, 1)\n",
       "\n",
       ".ts output:\n",
       "__assert_eq / actual: 2,1 / expected: 2,1\n",
       "\n",
       ".py output:\n",
       "__assert_eq / actual: (2, 1) / expected: (2, 1)\n",
       "\n",
       "\n",
       ".gleam output (Gleam):\n",
       "{compiling,\"/home/runner/work/spiral/polyglot/target/spiral_Eval/packages/5f8392e72d772f85b4fd74994418c6c04fdfadd2cdd7dd7a838c00c16ba3f274/build/dev/erlang/gleam_stdlib/_gleam_artefacts/gleam@dynamic.erl\"}\n",
       "{compiling,\"/home/runner/work/spiral/polyglot/target/spiral_Eval/packages/5f8392e72d772f85b4fd74994418c6c04fdfadd2cdd7dd7a838c00c16ba3f274/build/dev/erlang/gleam_stdlib/_gleam_artefacts/gleam@string_tree.erl\"}\n",
       "{compiling,\"/home/runner/work/spiral/polyglot/target/spiral_Eval/packages/5f8392e72d772f85b4fd74994418c6c04fdfadd2cdd7dd7a838c00c16ba3f274/build/dev/erlang/gleam_stdlib/_gleam_artefacts/gleam@bit_array.erl\"}\n",
       "{compiling,\"/home/runner/work/spiral/polyglot/target/spiral_Eval/packages/5f8392e72d772f85b4fd74994418c6c04fdfadd2cdd7dd7a838c00c16ba3f274/build/dev/erlang/gleam_stdlib/_gleam_artefacts/gleam@int.erl\"}\n",
       "{compiled,\"/home/runner/work/spiral/polyglot/target/spiral_Eval/packages/5f8392e72d772f85b4fd74994418c6c04fdfadd2cdd7dd7a838c00c16ba3f274/build/dev/erlang/gleam_stdlib/ebin/gleam@string_tree.beam\"}\n",
       "{compiling,\"/home/runner/work/spiral/polyglot/target/spiral_Eval/packages/5f8392e72d772f85b4fd74994418c6c04fdfadd2cdd7dd7a838c00c16ba3f274/build/dev/erlang/gleam_stdlib/_gleam_artefacts/gleam_stdlib.erl\"}\n",
       "{compiled,\"/home/runner/work/spiral/polyglot/target/spiral_Eval/packages/5f8392e72d772f85b4fd74994418c6c04fdfadd2cdd7dd7a838c00c16ba3f274/build/dev/erlang/gleam_stdlib/ebin/gleam@int.beam\"}\n",
       "{compiling,\"/home/runner/work/spiral/polyglot/target/spiral_Eval/packages/5f8392e72d772f85b4fd74994418c6c04fdfadd2cdd7dd7a838c00c16ba3f274/build/dev/erlang/gleam_stdlib/_gleam_artefacts/gleam@set.erl\"}\n",
       "{compiled,\"/home/runner/work/spiral/polyglot/target/spiral_Eval/packages/5f8392e72d772f85b4fd74994418c6c04fdfadd2cdd7dd7a838c00c16ba3f274/build/dev/erlang/gleam_stdlib/ebin/gleam@bit_array.beam\"}\n",
       "{compiling,\"/home/runner/work/spiral/polyglot/target/spiral_Eval/packages/5f8392e72d772f85b4fd74994418c6c04fdfadd2cdd7dd7a838c00c16ba3f274/build/dev/erlang/gleam_stdlib/_gleam_artefacts/gleam@bool.erl\"}\n",
       "{compiled,\"/home/runner/work/spiral/polyglot/target/spiral_Eval/packages/5f8392e72d772f85b4fd74994418c6c04fdfadd2cdd7dd7a838c00c16ba3f274/build/dev/erlang/gleam_stdlib/ebin/gleam@bool.beam\"}\n",
       "{compiling,\"/home/runner/work/spiral/polyglot/target/spiral_Eval/packages/5f8392e72d772f85b4fd74994418c6c04fdfadd2cdd7dd7a838c00c16ba3f274/build/dev/erlang/gleam_stdlib/_gleam_artefacts/gleam@list.erl\"}\n",
       "{compiled,\"/home/runner/work/spiral/polyglot/target/spiral_Eval/packages/5f8392e72d772f85b4fd74994418c6c04fdfadd2cdd7dd7a838c00c16ba3f274/build/dev/erlang/gleam_stdlib/ebin/gleam@set.beam\"}\n",
       "{compiling,\"/home/runner/work/spiral/polyglot/target/spiral_Eval/packages/5f8392e72d772f85b4fd74994418c6c04fdfadd2cdd7dd7a838c00c16ba3f274/build/dev/erlang/gleam_stdlib/_gleam_artefacts/gleam@result.erl\"}\n",
       "{compiled,\"/home/runner/work/spiral/polyglot/target/spiral_Eval/packages/5f8392e72d772f85b4fd74994418c6c04fdfadd2cdd7dd7a838c00c16ba3f274/build/dev/erlang/gleam_stdlib/ebin/gleam@result.beam\"}\n",
       "{compiling,\"/home/runner/work/spiral/polyglot/target/spiral_Eval/packages/5f8392e72d772f85b4fd74994418c6c04fdfadd2cdd7dd7a838c00c16ba3f274/build/dev/erlang/gleam_stdlib/_gleam_artefacts/gleam@string.erl\"}\n",
       "{compiled,\"/home/runner/work/spiral/polyglot/target/spiral_Eval/packages/5f8392e72d772f85b4fd74994418c6c04fdfadd2cdd7dd7a838c00c16ba3f274/build/dev/erlang/gleam_stdlib/ebin/gleam@string.beam\"}\n",
       "{compiling,\"/home/runner/work/spiral/polyglot/target/spiral_Eval/packages/5f8392e72d772f85b4fd74994418c6c04fdfadd2cdd7dd7a838c00c16ba3f274/build/dev/erlang/gleam_stdlib/_gleam_artefacts/gleam@bytes_tree.erl\"}\n",
       "{compiled,\"/home/runner/work/spiral/polyglot/target/spiral_Eval/packages/5f8392e72d772f85b4fd74994418c6c04fdfadd2cdd7dd7a838c00c16ba3f274/build/dev/erlang/gleam_stdlib/ebin/gleam@bytes_tree.beam\"}\n",
       "{compiling,\"/home/runner/work/spiral/polyglot/target/spiral_Eval/packages/5f8392e72d772f85b4fd74994418c6c04fdfadd2cdd7dd7a838c00c16ba3f274/build/dev/erlang/gleam_stdlib/_gleam_artefacts/gleam@uri.erl\"}\n",
       "{compiled,\"/home/runner/work/spiral/polyglot/target/spiral_Eval/packages/5f8392e72d772f85b4fd74994418c6c04fdfadd2cdd7dd7a838c00c16ba3f274/build/dev/erlang/gleam_stdlib/ebin/gleam@dynamic.beam\"}\n",
       "{compiling,\"/home/runner/work/spiral/polyglot/target/spiral_Eval/packages/5f8392e72d772f85b4fd74994418c6c04fdfadd2cdd7dd7a838c00c16ba3f274/build/dev/erlang/gleam_stdlib/_gleam_artefacts/gleam_stdlib_decode_ffi.erl\"}\n",
       "{compiled,\"/home/runner/work/spiral/polyglot/target/spiral_Eval/packages/5f8392e72d772f85b4fd74994418c6c04fdfadd2cdd7dd7a838c00c16ba3f274/build/dev/erlang/gleam_stdlib/ebin/gleam_stdlib.beam\"}\n",
       "{compiling,\"/home/runner/work/spiral/polyglot/target/spiral_Eval/packages/5f8392e72d772f85b4fd74994418c6c04fdfadd2cdd7dd7a838c00c16ba3f274/build/dev/erlang/gleam_stdlib/_gleam_artefacts/gleam@option.erl\"}\n",
       "{compiled,\"/home/runner/work/spiral/polyglot/target/spiral_Eval/packages/5f8392e72d772f85b4fd74994418c6c04fdfadd2cdd7dd7a838c00c16ba3f274/build/dev/erlang/gleam_stdlib/ebin/gleam_stdlib_decode_ffi.beam\"}\n",
       "{compiling,\"/home/runner/work/spiral/polyglot/target/spiral_Eval/packages/5f8392e72d772f85b4fd74994418c6c04fdfadd2cdd7dd7a838c00c16ba3f274/build/dev/erlang/gleam_stdlib/_gleam_artefacts/gleam@float.erl\"}\n",
       "{compiled,\"/home/runner/work/spiral/polyglot/target/spiral_Eval/packages/5f8392e72d772f85b4fd74994418c6c04fdfadd2cdd7dd7a838c00c16ba3f274/build/dev/erlang/gleam_stdlib/ebin/gleam@option.beam\"}\n",
       "{compiling,\"/home/runner/work/spiral/polyglot/target/spiral_Eval/packages/5f8392e72d772f85b4fd74994418c6c04fdfadd2cdd7dd7a838c00c16ba3f274/build/dev/erlang/gleam_stdlib/_gleam_artefacts/gleam@dict.erl\"}\n",
       "{compiled,\"/home/runner/work/spiral/polyglot/target/spiral_Eval/packages/5f8392e72d772f85b4fd74994418c6c04fdfadd2cdd7dd7a838c00c16ba3f274/build/dev/erlang/gleam_stdlib/ebin/gleam@float.beam\"}\n",
       "{compiling,\"/home/runner/work/spiral/polyglot/target/spiral_Eval/packages/5f8392e72d772f85b4fd74994418c6c04fdfadd2cdd7dd7a838c00c16ba3f274/build/dev/erlang/gleam_stdlib/_gleam_artefacts/gleam@function.erl\"}\n",
       "{compiled,\"/home/runner/work/spiral/polyglot/target/spiral_Eval/packages/5f8392e72d772f85b4fd74994418c6c04fdfadd2cdd7dd7a838c00c16ba3f274/build/dev/erlang/gleam_stdlib/ebin/gleam@function.beam\"}\n",
       "{compiling,\"/home/runner/work/spiral/polyglot/target/spiral_Eval/packages/5f8392e72d772f85b4fd74994418c6c04fdfadd2cdd7dd7a838c00c16ba3f274/build/dev/erlang/gleam_stdlib/_gleam_artefacts/gleam@pair.erl\"}\n",
       "{compiled,\"/home/runner/work/spiral/polyglot/target/spiral_Eval/packages/5f8392e72d772f85b4fd74994418c6c04fdfadd2cdd7dd7a838c00c16ba3f274/build/dev/erlang/gleam_stdlib/ebin/gleam@pair.beam\"}\n",
       "{compiled,\"/home/runner/work/spiral/polyglot/target/spiral_Eval/packages/5f8392e72d772f85b4fd74994418c6c04fdfadd2cdd7dd7a838c00c16ba3f274/build/dev/erlang/gleam_stdlib/ebin/gleam@dict.beam\"}\n",
       "{compiling,\"/home/runner/work/spiral/polyglot/target/spiral_Eval/packages/5f8392e72d772f85b4fd74994418c6c04fdfadd2cdd7dd7a838c00c16ba3f274/build/dev/erlang/gleam_stdlib/_gleam_artefacts/gleam@dynamic@decode.erl\"}\n",
       "{compiling,\"/home/runner/work/spiral/polyglot/target/spiral_Eval/packages/5f8392e72d772f85b4fd74994418c6c04fdfadd2cdd7dd7a838c00c16ba3f274/build/dev/erlang/gleam_stdlib/_gleam_artefacts/gleam@order.erl\"}\n",
       "{compiled,\"/home/runner/work/spiral/polyglot/target/spiral_Eval/packages/5f8392e72d772f85b4fd74994418c6c04fdfadd2cdd7dd7a838c00c16ba3f274/build/dev/erlang/gleam_stdlib/ebin/gleam@order.beam\"}\n",
       "{compiling,\"/home/runner/work/spiral/polyglot/target/spiral_Eval/packages/5f8392e72d772f85b4fd74994418c6c04fdfadd2cdd7dd7a838c00c16ba3f274/build/dev/erlang/gleam_stdlib/_gleam_artefacts/gleam@io.erl\"}\n",
       "{compiled,\"/home/runner/work/spiral/polyglot/target/spiral_Eval/packages/5f8392e72d772f85b4fd74994418c6c04fdfadd2cdd7dd7a838c00c16ba3f274/build/dev/erlang/gleam_stdlib/ebin/gleam@io.beam\"}\n",
       "{compiled,\"/home/runner/work/spiral/polyglot/target/spiral_Eval/packages/5f8392e72d772f85b4fd74994418c6c04fdfadd2cdd7dd7a838c00c16ba3f274/build/dev/erlang/gleam_stdlib/ebin/gleam@uri.beam\"}\n",
       "{compiled,\"/home/runner/work/spiral/polyglot/target/spiral_Eval/packages/5f8392e72d772f85b4fd74994418c6c04fdfadd2cdd7dd7a838c00c16ba3f274/build/dev/erlang/gleam_stdlib/ebin/gleam@dynamic@decode.beam\"}\n",
       "{compiled,\"/home/runner/work/spiral/polyglot/target/spiral_Eval/packages/5f8392e72d772f85b4fd74994418c6c04fdfadd2cdd7dd7a838c00c16ba3f274/build/dev/erlang/gleam_stdlib/ebin/gleam@list.beam\"}\n",
       "{compiling,\"/home/runner/work/spiral/polyglot/target/spiral_Eval/packages/5f8392e72d772f85b4fd74994418c6c04fdfadd2cdd7dd7a838c00c16ba3f274/build/dev/erlang/gary/_gleam_artefacts/gary.erl\"}\n",
       "{compiling,\"/home/runner/work/spiral/polyglot/target/spiral_Eval/packages/5f8392e72d772f85b4fd74994418c6c04fdfadd2cdd7dd7a838c00c16ba3f274/build/dev/erlang/gary/_gleam_artefacts/gary@array.erl\"}\n",
       "{compiling,\"/home/runner/work/spiral/polyglot/target/spiral_Eval/packages/5f8392e72d772f85b4fd74994418c6c04fdfadd2cdd7dd7a838c00c16ba3f274/build/dev/erlang/gary/_gleam_artefacts/internal@array_bindings.erl\"}\n",
       "{compiled,\"/home/runner/work/spiral/polyglot/target/spiral_Eval/packages/5f8392e72d772f85b4fd74994418c6c04fdfadd2cdd7dd7a838c00c16ba3f274/build/dev/erlang/gary/ebin/gary.beam\"}\n",
       "{compiled,\"/home/runner/work/spiral/polyglot/target/spiral_Eval/packages/5f8392e72d772f85b4fd74994418c6c04fdfadd2cdd7dd7a838c00c16ba3f274/build/dev/erlang/gary/ebin/internal@array_bindings.beam\"}\n",
       "{compiled,\"/home/runner/work/spiral/polyglot/target/spiral_Eval/packages/5f8392e72d772f85b4fd74994418c6c04fdfadd2cdd7dd7a838c00c16ba3f274/build/dev/erlang/gary/ebin/gary@array.beam\"}\n",
       "{compiling,\"/home/runner/work/spiral/polyglot/target/spiral_Eval/packages/5f8392e72d772f85b4fd74994418c6c04fdfadd2cdd7dd7a838c00c16ba3f274/build/dev/erlang/main/_gleam_artefacts/main@@main.erl\"}\n",
       "{compiling,\"/home/runner/work/spiral/polyglot/target/spiral_Eval/packages/5f8392e72d772f85b4fd74994418c6c04fdfadd2cdd7dd7a838c00c16ba3f274/build/dev/erlang/main/_gleam_artefacts/main.erl\"}\n",
       "{compiled,\"/home/runner/work/spiral/polyglot/target/spiral_Eval/packages/5f8392e72d772f85b4fd74994418c6c04fdfadd2cdd7dd7a838c00c16ba3f274/build/dev/erlang/main/ebin/main.beam\"}\n",
       "{compiled,\"/home/runner/work/spiral/polyglot/target/spiral_Eval/packages/5f8392e72d772f85b4fd74994418c6c04fdfadd2cdd7dd7a838c00c16ba3f274/build/dev/erlang/main/ebin/main@@main.beam\"}\n",
       "__assert_eq / actual: #(2, 1) / expected: #(2, 1)\n",
       "\n",
       "\n"
      ]
     },
     "metadata": {},
     "output_type": "display_data"
    },
    {
     "name": "stdout",
     "output_type": "stream",
     "text": [
      ".fsx output:\n",
      "__assert_eq / actual: struct (2, 1) / expected: struct (2, 1)\n"
     ]
    }
   ],
   "source": [
    "//// test\n",
    "///! gleam\n",
    "///! fsharp\n",
    "///! cuda\n",
    "///! rust\n",
    "///! typescript\n",
    "///! python\n",
    "\n",
    "(1i32, 2i32)\n",
    "||> flip pair\n",
    "|> _assert_eq (2, 1)"
   ]
  },
  {
   "cell_type": "markdown",
   "metadata": {},
   "source": [
    "### fix_condition"
   ]
  },
  {
   "cell_type": "code",
   "execution_count": null,
   "metadata": {
    "dotnet_interactive": {
     "language": "spiral"
    },
    "polyglot_notebook": {
     "kernelName": "spiral"
    }
   },
   "outputs": [],
   "source": [
    "inl fix_condition x a b =\n",
    "    if x ()\n",
    "    then a () |> fun x => $'(* fix_condition then' : ()\n",
    "    else\n",
    "        $'fix_condition then *) else' : ()\n",
    "        b () |> fun x => $'(* fix_condition else' : ()\n",
    "    |> fun x => $'fix_condition else *)' : ()"
   ]
  },
  {
   "cell_type": "markdown",
   "metadata": {},
   "source": [
    "## type"
   ]
  },
  {
   "cell_type": "markdown",
   "metadata": {},
   "source": [
    "### infer"
   ]
  },
  {
   "cell_type": "code",
   "execution_count": null,
   "metadata": {
    "dotnet_interactive": {
     "language": "spiral"
    },
    "polyglot_notebook": {
     "kernelName": "spiral"
    }
   },
   "outputs": [],
   "source": [
    "nominal infer = $'_'"
   ]
  },
  {
   "cell_type": "markdown",
   "metadata": {},
   "source": [
    "### infer'"
   ]
  },
  {
   "cell_type": "code",
   "execution_count": null,
   "metadata": {
    "dotnet_interactive": {
     "language": "spiral"
    },
    "polyglot_notebook": {
     "kernelName": "spiral"
    }
   },
   "outputs": [],
   "source": [
    "nominal infer' t = $'_'"
   ]
  },
  {
   "cell_type": "markdown",
   "metadata": {},
   "source": [
    "### any"
   ]
  },
  {
   "cell_type": "code",
   "execution_count": null,
   "metadata": {
    "dotnet_interactive": {
     "language": "spiral"
    },
    "polyglot_notebook": {
     "kernelName": "spiral"
    }
   },
   "outputs": [],
   "source": [
    "nominal any = $'obj'"
   ]
  },
  {
   "cell_type": "markdown",
   "metadata": {},
   "source": [
    "### null"
   ]
  },
  {
   "cell_type": "code",
   "execution_count": null,
   "metadata": {
    "dotnet_interactive": {
     "language": "spiral"
    },
    "polyglot_notebook": {
     "kernelName": "spiral"
    }
   },
   "outputs": [],
   "source": [
    "inl null forall t. () : t =\n",
    "    backend_switch {\n",
    "        Gleam = fun () => $'Nil' : t\n",
    "        Fsharp = fun () => $'null |> unbox<`t>' : t\n",
    "        Python = fun () => $'None' : t\n",
    "    }"
   ]
  },
  {
   "cell_type": "markdown",
   "metadata": {},
   "source": [
    "### defaultof"
   ]
  },
  {
   "cell_type": "code",
   "execution_count": null,
   "metadata": {
    "dotnet_interactive": {
     "language": "spiral"
    },
    "polyglot_notebook": {
     "kernelName": "spiral"
    }
   },
   "outputs": [],
   "source": [
    "inl defaultof forall t. () : t =\n",
    "    $'Unchecked.defaultof<`t>'"
   ]
  },
  {
   "cell_type": "markdown",
   "metadata": {},
   "source": [
    "### choice2'"
   ]
  },
  {
   "cell_type": "code",
   "execution_count": null,
   "metadata": {
    "dotnet_interactive": {
     "language": "spiral"
    },
    "polyglot_notebook": {
     "kernelName": "spiral"
    }
   },
   "outputs": [],
   "source": [
    "nominal choice2' a b = $'Choice<`a, `b>'"
   ]
  },
  {
   "cell_type": "markdown",
   "metadata": {},
   "source": [
    "### choice2_unbox"
   ]
  },
  {
   "cell_type": "code",
   "execution_count": null,
   "metadata": {
    "dotnet_interactive": {
     "language": "spiral"
    },
    "polyglot_notebook": {
     "kernelName": "spiral"
    }
   },
   "outputs": [],
   "source": [
    "inl choice2_unbox forall t1 t2. (choice : choice2' t1 t2) : choice2 t1 t2 =\n",
    "    run_target_args (fun () => choice) function\n",
    "        | Fsharp _ => fun choice =>\n",
    "            inl c1of2 (x : t1) : _ _ t2 = C1of2 x\n",
    "            inl c2of2 (x : t2) : _ t1 _ = C2of2 x\n",
    "            inl c1of2 = join c1of2\n",
    "            inl c2of2 = join c2of2\n",
    "            $'match !choice with Choice1Of2 x -> !c1of2 x | Choice2Of2 x -> !c2of2 x'\n",
    "        | _ => fun _ => null ()"
   ]
  },
  {
   "cell_type": "markdown",
   "metadata": {},
   "source": [
    "## ref"
   ]
  },
  {
   "cell_type": "markdown",
   "metadata": {},
   "source": [
    "### ref"
   ]
  },
  {
   "cell_type": "code",
   "execution_count": null,
   "metadata": {
    "dotnet_interactive": {
     "language": "spiral"
    },
    "polyglot_notebook": {
     "kernelName": "spiral"
    }
   },
   "outputs": [],
   "source": [
    "nominal ref t = $'`t ref'"
   ]
  },
  {
   "cell_type": "markdown",
   "metadata": {},
   "source": [
    "### new_ref"
   ]
  },
  {
   "cell_type": "code",
   "execution_count": null,
   "metadata": {
    "dotnet_interactive": {
     "language": "spiral"
    },
    "polyglot_notebook": {
     "kernelName": "spiral"
    }
   },
   "outputs": [],
   "source": [
    "inl new_ref forall t. (x : t) : ref t =\n",
    "    $'ref !x '"
   ]
  },
  {
   "cell_type": "markdown",
   "metadata": {},
   "source": [
    "### ref_value"
   ]
  },
  {
   "cell_type": "code",
   "execution_count": null,
   "metadata": {
    "dotnet_interactive": {
     "language": "spiral"
    },
    "polyglot_notebook": {
     "kernelName": "spiral"
    }
   },
   "outputs": [],
   "source": [
    "inl ref_value forall t. (x : ref t) : t =\n",
    "    $'!x.Value'"
   ]
  },
  {
   "cell_type": "markdown",
   "metadata": {},
   "source": [
    "### ref_set_value"
   ]
  },
  {
   "cell_type": "code",
   "execution_count": null,
   "metadata": {
    "dotnet_interactive": {
     "language": "spiral"
    },
    "polyglot_notebook": {
     "kernelName": "spiral"
    }
   },
   "outputs": [],
   "source": [
    "inl ref_set_value forall t. (value : t) (ref : ref t) : ref t =\n",
    "    $'!ref.Value <- !value '\n",
    "    ref"
   ]
  },
  {
   "cell_type": "markdown",
   "metadata": {},
   "source": [
    "## convert"
   ]
  },
  {
   "cell_type": "markdown",
   "metadata": {},
   "source": [
    "### to"
   ]
  },
  {
   "cell_type": "code",
   "execution_count": null,
   "metadata": {
    "dotnet_interactive": {
     "language": "spiral"
    },
    "polyglot_notebook": {
     "kernelName": "spiral"
    }
   },
   "outputs": [],
   "source": [
    "inl to forall t u. (x : t) : u =\n",
    "    $'!x ' : u"
   ]
  },
  {
   "cell_type": "markdown",
   "metadata": {},
   "source": [
    "### convert"
   ]
  },
  {
   "cell_type": "code",
   "execution_count": null,
   "metadata": {
    "dotnet_interactive": {
     "language": "spiral"
    },
    "polyglot_notebook": {
     "kernelName": "spiral"
    }
   },
   "outputs": [],
   "source": [
    "inl convert forall t u. (x : t) : u =\n",
    "    backend_switch {\n",
    "        Gleam = fun () => $'!x ' : u\n",
    "        Fsharp = fun () => $'!x |> `u ' : u\n",
    "        Python = fun () => $'`u(!x)' : u\n",
    "    }"
   ]
  },
  {
   "cell_type": "markdown",
   "metadata": {},
   "source": [
    "### unbox"
   ]
  },
  {
   "cell_type": "code",
   "execution_count": null,
   "metadata": {
    "dotnet_interactive": {
     "language": "spiral"
    },
    "polyglot_notebook": {
     "kernelName": "spiral"
    }
   },
   "outputs": [],
   "source": [
    "inl unbox forall t u. (x : t) : u =\n",
    "    backend_switch {\n",
    "        Gleam = fun () => x |> to : u\n",
    "        Fsharp = fun () => $'!x |> unbox<`u>' : u\n",
    "        Python = fun () => x |> to : u\n",
    "    }"
   ]
  },
  {
   "cell_type": "markdown",
   "metadata": {},
   "source": [
    "### u8"
   ]
  },
  {
   "cell_type": "code",
   "execution_count": null,
   "metadata": {
    "dotnet_interactive": {
     "language": "spiral"
    },
    "polyglot_notebook": {
     "kernelName": "spiral"
    }
   },
   "outputs": [],
   "source": [
    "inl u8 forall t. (x : t) : u8 =\n",
    "    backend_switch {\n",
    "        Gleam = fun () => x |> to : u8\n",
    "        Fsharp = fun () => x |> $'uint8' : u8\n",
    "        Python = fun () => x |> to : u8\n",
    "    }"
   ]
  },
  {
   "cell_type": "markdown",
   "metadata": {},
   "source": [
    "### u16"
   ]
  },
  {
   "cell_type": "code",
   "execution_count": null,
   "metadata": {
    "dotnet_interactive": {
     "language": "spiral"
    },
    "polyglot_notebook": {
     "kernelName": "spiral"
    }
   },
   "outputs": [],
   "source": [
    "inl u16 forall t. (x : t) : u16 =\n",
    "    backend_switch {\n",
    "        Gleam = fun () => x |> to : u16\n",
    "        Fsharp = fun () => x |> $'uint16' : u16\n",
    "        Python = fun () => $'!x & 0xFFFF' : u16\n",
    "    }"
   ]
  },
  {
   "cell_type": "markdown",
   "metadata": {},
   "source": [
    "### u64"
   ]
  },
  {
   "cell_type": "code",
   "execution_count": null,
   "metadata": {
    "dotnet_interactive": {
     "language": "spiral"
    },
    "polyglot_notebook": {
     "kernelName": "spiral"
    }
   },
   "outputs": [],
   "source": [
    "inl u64 forall t. (x : t) : u64 =\n",
    "    backend_switch {\n",
    "        Gleam = fun () => x |> to : u64\n",
    "        Fsharp = fun () => x |> $'uint64' : u64\n",
    "        Python = fun () => x |> to : u64\n",
    "    }"
   ]
  },
  {
   "cell_type": "markdown",
   "metadata": {},
   "source": [
    "### i32"
   ]
  },
  {
   "cell_type": "code",
   "execution_count": null,
   "metadata": {
    "dotnet_interactive": {
     "language": "spiral"
    },
    "polyglot_notebook": {
     "kernelName": "spiral"
    }
   },
   "outputs": [],
   "source": [
    "inl i32 forall t. (x : t) : i32 =\n",
    "    backend_switch {\n",
    "        Gleam = fun () => x |> convert : i32\n",
    "        Fsharp = fun () => x |> convert : i32\n",
    "        Python = fun () => x |> convert : i32\n",
    "    }"
   ]
  },
  {
   "cell_type": "markdown",
   "metadata": {},
   "source": [
    "### i64"
   ]
  },
  {
   "cell_type": "code",
   "execution_count": null,
   "metadata": {
    "dotnet_interactive": {
     "language": "spiral"
    },
    "polyglot_notebook": {
     "kernelName": "spiral"
    }
   },
   "outputs": [],
   "source": [
    "inl i64 forall t. (x : t) : i64 =\n",
    "    backend_switch {\n",
    "        Gleam = fun () => x |> to : i64\n",
    "        Fsharp = fun () => x |> $'int64' : i64\n",
    "        Python = fun () => x |> to : i64\n",
    "    }"
   ]
  },
  {
   "cell_type": "markdown",
   "metadata": {},
   "source": [
    "### f32"
   ]
  },
  {
   "cell_type": "code",
   "execution_count": null,
   "metadata": {
    "dotnet_interactive": {
     "language": "spiral"
    },
    "polyglot_notebook": {
     "kernelName": "spiral"
    }
   },
   "outputs": [],
   "source": [
    "inl f32 forall t. (x : t) : f32 =\n",
    "    backend_switch {\n",
    "        Gleam = fun () => x |> to : f32\n",
    "        Fsharp = fun () => x |> $'float32' : f32\n",
    "        Python = fun () => x |> to : f32\n",
    "    }"
   ]
  },
  {
   "cell_type": "markdown",
   "metadata": {},
   "source": [
    "### f64"
   ]
  },
  {
   "cell_type": "code",
   "execution_count": null,
   "metadata": {
    "dotnet_interactive": {
     "language": "spiral"
    },
    "polyglot_notebook": {
     "kernelName": "spiral"
    }
   },
   "outputs": [],
   "source": [
    "inl f64 forall t. (x : t) : f64 =\n",
    "    backend_switch {\n",
    "        Gleam = fun () => x |> to : f64\n",
    "        Fsharp = fun () => x |> $'float' : f64\n",
    "        Python = fun () => x |> to : f64\n",
    "    }"
   ]
  },
  {
   "cell_type": "markdown",
   "metadata": {},
   "source": [
    "### unativeint"
   ]
  },
  {
   "cell_type": "code",
   "execution_count": null,
   "metadata": {
    "dotnet_interactive": {
     "language": "spiral"
    },
    "polyglot_notebook": {
     "kernelName": "spiral"
    }
   },
   "outputs": [],
   "source": [
    "nominal unativeint = $'unativeint'"
   ]
  },
  {
   "cell_type": "markdown",
   "metadata": {},
   "source": [
    "### convert_i32"
   ]
  },
  {
   "cell_type": "code",
   "execution_count": null,
   "metadata": {
    "dotnet_interactive": {
     "language": "spiral"
    },
    "polyglot_notebook": {
     "kernelName": "spiral"
    }
   },
   "outputs": [],
   "source": [
    "inl convert_i32 forall t. (x : t) : i32 =\n",
    "    backend_switch {\n",
    "        Gleam = fun () => x |> to : i32\n",
    "        Fsharp = fun () => x |> $'System.Convert.ToInt32' : i32\n",
    "        Python = fun () => x |> to : i32\n",
    "    }"
   ]
  },
  {
   "cell_type": "markdown",
   "metadata": {},
   "source": [
    "### convert_i32_base"
   ]
  },
  {
   "cell_type": "code",
   "execution_count": null,
   "metadata": {
    "dotnet_interactive": {
     "language": "spiral"
    },
    "polyglot_notebook": {
     "kernelName": "spiral"
    }
   },
   "outputs": [],
   "source": [
    "inl convert_i32_base forall t. (base : i32) (x : t) : i32 =\n",
    "    backend_switch {\n",
    "        Fsharp = fun () => $'System.Convert.ToInt32 (!x, !base)' : i32\n",
    "        Python = fun () => $'int (!x, !base)' : i32\n",
    "    }"
   ]
  },
  {
   "cell_type": "markdown",
   "metadata": {},
   "source": [
    "### (:>)"
   ]
  },
  {
   "cell_type": "code",
   "execution_count": null,
   "metadata": {
    "dotnet_interactive": {
     "language": "spiral"
    },
    "polyglot_notebook": {
     "kernelName": "spiral"
    }
   },
   "outputs": [],
   "source": [
    "prototype (~:>) r : forall t. t -> r"
   ]
  },
  {
   "cell_type": "markdown",
   "metadata": {},
   "source": [
    "### to_any"
   ]
  },
  {
   "cell_type": "code",
   "execution_count": null,
   "metadata": {
    "dotnet_interactive": {
     "language": "spiral"
    },
    "polyglot_notebook": {
     "kernelName": "spiral"
    }
   },
   "outputs": [],
   "source": [
    "inl to_any forall t. (obj : t) : any =\n",
    "    obj |> to"
   ]
  },
  {
   "cell_type": "markdown",
   "metadata": {},
   "source": [
    "### (~:>) any"
   ]
  },
  {
   "cell_type": "code",
   "execution_count": null,
   "metadata": {
    "dotnet_interactive": {
     "language": "spiral"
    },
    "polyglot_notebook": {
     "kernelName": "spiral"
    }
   },
   "outputs": [],
   "source": [
    "instance (~:>) any = to_any"
   ]
  },
  {
   "cell_type": "markdown",
   "metadata": {},
   "source": [
    "## error"
   ]
  },
  {
   "cell_type": "markdown",
   "metadata": {},
   "source": [
    "### exn"
   ]
  },
  {
   "cell_type": "code",
   "execution_count": null,
   "metadata": {
    "dotnet_interactive": {
     "language": "spiral"
    },
    "polyglot_notebook": {
     "kernelName": "spiral"
    }
   },
   "outputs": [],
   "source": [
    "nominal exn = $\"backend_switch `({ Gleam : $'Nil'; Fsharp : $'exn'; Python : $'BaseException' })\"\n",
    "\n",
    "inl exn x =\n",
    "    x |> $'`exn '"
   ]
  },
  {
   "cell_type": "markdown",
   "metadata": {},
   "source": [
    "### try"
   ]
  },
  {
   "cell_type": "code",
   "execution_count": null,
   "metadata": {
    "dotnet_interactive": {
     "language": "spiral"
    },
    "polyglot_notebook": {
     "kernelName": "spiral"
    }
   },
   "outputs": [],
   "source": [
    "inl try forall t. (fn : () -> t) (ex_fn : exn -> option t) : option t =\n",
    "    inl some x : option t = Some x\n",
    "    inl some = dyn some\n",
    "    inl fn = dyn fn\n",
    "    inl ex_fn = dyn ex_fn\n",
    "    backend_switch {\n",
    "        Fsharp = fun () =>\n",
    "            $'let result = ref !(None : option t)'\n",
    "            $'try'\n",
    "            $'    result.Value <- !fn () |> !some '\n",
    "            $'with ex ->'\n",
    "            $'    result.Value <- !ex_fn ex '\n",
    "            $'result.Value' : option t\n",
    "        Python = fun () =>\n",
    "            $'result = !(None : option t)'\n",
    "            inl fn = dyn fn\n",
    "            inl ex_fn = dyn ex_fn\n",
    "            $'try:'\n",
    "            $'    result = !some(!fn())\\n        \\'\\'\\''\n",
    "            $'\\'\\'\\''\n",
    "            $'except Exception as e:'\n",
    "            $'    result = !ex_fn(e)'\n",
    "            $'result' : option t\n",
    "    }"
   ]
  },
  {
   "cell_type": "code",
   "execution_count": null,
   "metadata": {
    "dotnet_interactive": {
     "language": "spiral"
    },
    "polyglot_notebook": {
     "kernelName": "spiral"
    }
   },
   "outputs": [
    {
     "data": {
      "text/plain": [
       ".py output (Cuda):\n",
       "__assert_eq / actual: index 1 is out of bounds for axis 0 with size 1 / expected: index 1 is out of bounds for axis 0 with size 1\n",
       "\n",
       ".rs output:\n",
       "__assert_eq / actual: \"Exception { message: \"index out of bounds: the len is 1 but the index is 1\" }\" / expected: \"Exception { message: \"index out of bounds: the len is 1 but the index is 1\" }\"\n",
       "\n",
       ".ts output:\n",
       "__assert_eq / actual: Error: Index was outside the bounds of the array.\\nParameter name: index / expected: Error: Index was outside the bounds of the array.\\nParameter name: index\n",
       "\n",
       ".py output:\n",
       "__assert_eq / actual: array index out of range / expected: array index out of range\n",
       "\n"
      ]
     },
     "metadata": {},
     "output_type": "display_data"
    },
    {
     "name": "stdout",
     "output_type": "stream",
     "text": [
      ".fsx output:\n",
      "__assert_eq / actual: \"System.IndexOutOfRangeException: Index was outside the bounds of the array.\" / expected: \"System.IndexOutOfRangeException: Index was outside the bounds of the array.\"\n"
     ]
    }
   ],
   "source": [
    "//// test\n",
    "///! fsharp\n",
    "///! cuda\n",
    "///! rust\n",
    "///! typescript\n",
    "///! python\n",
    "\n",
    "try\n",
    "    fun () => a ;[ 0i32 ] |> am'.index 1i32 |> sm'.format\n",
    "    (fun ex => $'!ex ' |> sm'.format_exception |> Some)\n",
    "|> optionm.value\n",
    "|> _assert_eq (run_target function\n",
    "    | Gleam => fun () => null ()\n",
    "    | Fsharp => fun () => join \"System.IndexOutOfRangeException: Index was outside the bounds of the array.\"\n",
    "    | Cuda => fun () => \"index 1 is out of bounds for axis 0 with size 1\"\n",
    "    | Rust => fun () => \"Exception { message: \\\"index out of bounds: the len is 1 but the index is 1\\\" }\"\n",
    "    | TypeScript => fun () => \"Error: Index was outside the bounds of the array.\\\\nParameter name: index\"\n",
    "    | Python => fun () => \"array index out of range\"\n",
    ")"
   ]
  },
  {
   "cell_type": "markdown",
   "metadata": {},
   "source": [
    "### try_unit"
   ]
  },
  {
   "cell_type": "code",
   "execution_count": null,
   "metadata": {
    "dotnet_interactive": {
     "language": "spiral"
    },
    "polyglot_notebook": {
     "kernelName": "spiral"
    }
   },
   "outputs": [],
   "source": [
    "inl try_unit forall t. (fn : () -> ()) (ex_fn : (() -> exn) -> ()) : t =\n",
    "    backend_switch {\n",
    "        Fsharp = fun () => $'try' : ()\n",
    "        Python = fun () => $'try:' : ()\n",
    "    }\n",
    "    fn |> indent\n",
    "    backend_switch {\n",
    "        Fsharp = fun () => $'with ex ->' : ()\n",
    "        Python = fun () => $'except Exception as ex:' : ()\n",
    "    }\n",
    "    fun () =>\n",
    "        inl ex = $'ex'\n",
    "        inl ex () =\n",
    "            ex\n",
    "        ex_fn ex\n",
    "    |> indent\n",
    "    backend_switch {\n",
    "        Fsharp = fun () =>\n",
    "            $'(* try_unit'\n",
    "            $'try_unit *)' : t\n",
    "        Python = fun () => $'' : t\n",
    "    }"
   ]
  },
  {
   "cell_type": "markdown",
   "metadata": {},
   "source": [
    "### try_unit'"
   ]
  },
  {
   "cell_type": "code",
   "execution_count": null,
   "metadata": {
    "dotnet_interactive": {
     "language": "spiral"
    },
    "polyglot_notebook": {
     "kernelName": "spiral"
    }
   },
   "outputs": [],
   "source": [
    "inl try_unit' forall t. (ex_fn : (() -> exn) -> ()) (fn : () -> ()) : t =\n",
    "    try_unit fn ex_fn"
   ]
  },
  {
   "cell_type": "markdown",
   "metadata": {},
   "source": [
    "### try_finally"
   ]
  },
  {
   "cell_type": "code",
   "execution_count": null,
   "metadata": {
    "dotnet_interactive": {
     "language": "spiral"
    },
    "polyglot_notebook": {
     "kernelName": "spiral"
    }
   },
   "outputs": [],
   "source": [
    "inl try_finally forall t. (fn : () -> ()) (finally : () -> ()) : t =\n",
    "    backend_switch {\n",
    "        Fsharp = fun () => $'try' : ()\n",
    "        Python = fun () => $'try:' : ()\n",
    "    }\n",
    "    fn |> indent\n",
    "    backend_switch {\n",
    "        Fsharp = fun () => $'finally' : ()\n",
    "        Python = fun () => $'finally:' : ()\n",
    "    }\n",
    "    finally |> indent\n",
    "    backend_switch {\n",
    "        Fsharp = fun () =>\n",
    "            $'(* try_finally'\n",
    "            $'try_finally *)'\n",
    "            ()\n",
    "        Python = fun () => ()\n",
    "    }"
   ]
  }
 ],
 "metadata": {},
 "nbformat": 4,
 "nbformat_minor": 5
}