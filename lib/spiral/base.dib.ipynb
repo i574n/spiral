{
 "cells": [
  {
   "cell_type": "markdown",
   "metadata": {},
   "source": [
    "# base"
   ]
  },
  {
   "cell_type": "code",
   "execution_count": null,
   "metadata": {
    "dotnet_interactive": {
     "language": "spiral"
    },
    "polyglot_notebook": {
     "kernelName": "spiral"
    }
   },
   "outputs": [],
   "source": [
    "//// test\n",
    "\n",
    "open testing"
   ]
  },
  {
   "cell_type": "markdown",
   "metadata": {},
   "source": [
    "## base"
   ]
  },
  {
   "cell_type": "markdown",
   "metadata": {},
   "source": [
    "### emit"
   ]
  },
  {
   "cell_type": "code",
   "execution_count": null,
   "metadata": {
    "dotnet_interactive": {
     "language": "spiral"
    },
    "polyglot_notebook": {
     "kernelName": "spiral"
    }
   },
   "outputs": [],
   "source": [
    "inl emit forall t. (x : t) : t =\n",
    "    $'!x '"
   ]
  },
  {
   "cell_type": "markdown",
   "metadata": {},
   "source": [
    "### emit_unit"
   ]
  },
  {
   "cell_type": "code",
   "execution_count": null,
   "metadata": {
    "dotnet_interactive": {
     "language": "spiral"
    },
    "polyglot_notebook": {
     "kernelName": "spiral"
    }
   },
   "outputs": [],
   "source": [
    "inl emit_unit forall t. (x : t) : () =\n",
    "    $'!x '"
   ]
  },
  {
   "cell_type": "markdown",
   "metadata": {},
   "source": [
    "### use"
   ]
  },
  {
   "cell_type": "code",
   "execution_count": null,
   "metadata": {
    "dotnet_interactive": {
     "language": "spiral"
    },
    "polyglot_notebook": {
     "kernelName": "spiral"
    }
   },
   "outputs": [],
   "source": [
    "inl use forall t. (x : t) : t =\n",
    "    $'use !x = !x ' : ()\n",
    "    $'!x '"
   ]
  },
  {
   "cell_type": "markdown",
   "metadata": {},
   "source": [
    "### unit"
   ]
  },
  {
   "cell_type": "code",
   "execution_count": null,
   "metadata": {
    "dotnet_interactive": {
     "language": "spiral"
    },
    "polyglot_notebook": {
     "kernelName": "spiral"
    }
   },
   "outputs": [],
   "source": [
    "nominal unit = $'unit'"
   ]
  },
  {
   "cell_type": "markdown",
   "metadata": {},
   "source": [
    "### backend_switch"
   ]
  },
  {
   "cell_type": "code",
   "execution_count": null,
   "metadata": {
    "dotnet_interactive": {
     "language": "spiral"
    },
    "polyglot_notebook": {
     "kernelName": "spiral"
    }
   },
   "outputs": [],
   "source": [
    "inl backend_switch forall t. x : t =\n",
    "    real\n",
    "        inl backend (key : string) : t =\n",
    "            inl s = real_core.string_lit_to_symbol key\n",
    "            real_core.record_type_try_find `(`x) s\n",
    "                (forall v'. => (x s) ())\n",
    "                (fun () => $'' : t)\n",
    "        inl x' = {\n",
    "            Gleam = fun () => backend \"Gleam\"\n",
    "            Fsharp = fun () => backend \"Fsharp\"\n",
    "            Python = fun () => backend \"Python\"\n",
    "            Cpp = fun () => backend \"Cpp\"\n",
    "        }\n",
    "        !!!!BackendSwitch (\n",
    "            x'\n",
    "        )"
   ]
  },
  {
   "cell_type": "markdown",
   "metadata": {},
   "source": [
    "### target_runtime"
   ]
  },
  {
   "cell_type": "code",
   "execution_count": null,
   "metadata": {
    "dotnet_interactive": {
     "language": "spiral"
    },
    "polyglot_notebook": {
     "kernelName": "spiral"
    }
   },
   "outputs": [],
   "source": [
    "union target_runtime =\n",
    "    | Native\n",
    "    | Wasm\n",
    "    | Contract"
   ]
  },
  {
   "cell_type": "markdown",
   "metadata": {},
   "source": [
    "### target"
   ]
  },
  {
   "cell_type": "code",
   "execution_count": null,
   "metadata": {
    "dotnet_interactive": {
     "language": "spiral"
    },
    "polyglot_notebook": {
     "kernelName": "spiral"
    }
   },
   "outputs": [],
   "source": [
    "union target =\n",
    "    | Gleam : target_runtime\n",
    "    | Fsharp : target_runtime\n",
    "    | Cuda : target_runtime\n",
    "    | Cpp : target_runtime\n",
    "    | Rust : target_runtime\n",
    "    | TypeScript : target_runtime\n",
    "    | Python : target_runtime"
   ]
  },
  {
   "cell_type": "markdown",
   "metadata": {},
   "source": [
    "### run_target_args'"
   ]
  },
  {
   "cell_type": "code",
   "execution_count": null,
   "metadata": {
    "dotnet_interactive": {
     "language": "spiral"
    },
    "polyglot_notebook": {
     "kernelName": "spiral"
    }
   },
   "outputs": [],
   "source": [
    "inl run_target_args' forall t u. (args : u) (fn : target -> (u -> t)) : t =\n",
    "    backend_switch {\n",
    "        Gleam = fun () =>\n",
    "            inl target = Gleam Native\n",
    "            fn target args\n",
    "        Fsharp = fun () =>\n",
    "            inl is_unit : bool =\n",
    "                real\n",
    "                    typecase t with\n",
    "                    | () => true\n",
    "                    | _ => false\n",
    "            $'(* run_target_args\\''\n",
    "            inl result = $'()' : unit\n",
    "            $'run_target_args\\' *)'\n",
    "            inl emit_result x : () =\n",
    "                if is_unit |> not\n",
    "                then $'let _run_target_args\\'_!result = !x '\n",
    "            $'\\n\\#if FABLE_COMPILER || WASM || CONTRACT'\n",
    "            $'\\n\\#if FABLE_COMPILER_RUST && \\!WASM && \\!CONTRACT'\n",
    "            inl target = Rust Native\n",
    "            fn target args |> emit_result\n",
    "            $'\\#endif\\n\\#if FABLE_COMPILER_RUST && WASM'\n",
    "            inl target = Rust Wasm\n",
    "            fn target args |> emit_result\n",
    "            $'\\#endif\\n\\#if FABLE_COMPILER_RUST && CONTRACT'\n",
    "            inl target = Rust Contract\n",
    "            fn target args |> emit_result\n",
    "            $'\\#endif\\n\\#if FABLE_COMPILER_TYPESCRIPT'\n",
    "            inl target = TypeScript Native\n",
    "            fn target args |> emit_result\n",
    "            $'\\#endif\\n\\#if FABLE_COMPILER_PYTHON'\n",
    "            inl target = Python Native\n",
    "            fn target args |> emit_result\n",
    "            $'\\#endif\\n\\#if \\!FABLE_COMPILER_RUST && \\!FABLE_COMPILER_TYPESCRIPT && \\!FABLE_COMPILER_PYTHON'\n",
    "            inl target = Fsharp Wasm\n",
    "            fn target args |> emit_result\n",
    "            $'\\#endif\\n\\#else'\n",
    "            inl target = Fsharp Native\n",
    "            fn target args |> emit_result\n",
    "            $'\\#endif'\n",
    "            if is_unit\n",
    "            then $'// run_target_args\\' is_unit'\n",
    "            else $'_run_target_args\\'_!result ' : t\n",
    "        Python = fun () =>\n",
    "            inl target = Cuda Native\n",
    "            fn target args\n",
    "        Cpp = fun () =>\n",
    "            inl target = Cpp Native\n",
    "            fn target args\n",
    "    }"
   ]
  },
  {
   "cell_type": "markdown",
   "metadata": {},
   "source": [
    "### run_target_args"
   ]
  },
  {
   "cell_type": "code",
   "execution_count": null,
   "metadata": {
    "dotnet_interactive": {
     "language": "spiral"
    },
    "polyglot_notebook": {
     "kernelName": "spiral"
    }
   },
   "outputs": [],
   "source": [
    "inl run_target_args forall t u. (args : () -> u) (fn : target -> (u -> t)) : t =\n",
    "    inl args = args () |> dyn\n",
    "    fn |> run_target_args' args"
   ]
  },
  {
   "cell_type": "markdown",
   "metadata": {},
   "source": [
    "### run_target"
   ]
  },
  {
   "cell_type": "code",
   "execution_count": null,
   "metadata": {
    "dotnet_interactive": {
     "language": "spiral"
    },
    "polyglot_notebook": {
     "kernelName": "spiral"
    }
   },
   "outputs": [],
   "source": [
    "inl run_target forall t. (fn : target -> (() -> t)) : t =\n",
    "    run_target_args id fn"
   ]
  },
  {
   "cell_type": "code",
   "execution_count": null,
   "metadata": {
    "dotnet_interactive": {
     "language": "spiral"
    },
    "polyglot_notebook": {
     "kernelName": "spiral"
    }
   },
   "outputs": [
    {
     "data": {
      "text/plain": [
       ".py output (Python):\n",
       "{ name = __assert_eq; actual = 1; expected = 1 }\n",
       "\n",
       ".rs output:\n",
       "{ name = __assert_eq; actual = 1; expected = 1 }\n",
       "\n",
       ".ts output:\n",
       "{ name = __assert_eq; actual = 1; expected = 1 }\n",
       "\n",
       ".py output:\n",
       "{ name = __assert_eq; actual = 1; expected = 1 }\n",
       "\n",
       "\n",
       ".gleam output (Gleam):\n",
       "{compiling,\"/home/runner/work/spiral/polyglot/target/spiral_Eval/packages/1ac295c6122d0b9593015a6f2b5a16b9644a00653f17189b2b47b5383cf94230/build/dev/erlang/main/_gleam_artefacts/main.erl\"}\n",
       "{compiling,\"/home/runner/work/spiral/polyglot/target/spiral_Eval/packages/1ac295c6122d0b9593015a6f2b5a16b9644a00653f17189b2b47b5383cf94230/build/dev/erlang/main/_gleam_artefacts/main@@main.erl\"}\n",
       "{compiled,main,\n",
       "          \"/home/runner/work/spiral/polyglot/target/spiral_Eval/packages/1ac295c6122d0b9593015a6f2b5a16b9644a00653f17189b2b47b5383cf94230/build/dev/erlang/main/ebin/main.beam\"}\n",
       "{compiled,main@@main,\n",
       "          \"/home/runner/work/spiral/polyglot/target/spiral_Eval/packages/1ac295c6122d0b9593015a6f2b5a16b9644a00653f17189b2b47b5383cf94230/build/dev/erlang/main/ebin/main@@main.beam\"}\n",
       "{ name = __assert_eq; actual = 1; expected = 1 }\n",
       "\n",
       "\n"
      ]
     },
     "metadata": {},
     "output_type": "display_data"
    },
    {
     "name": "stdout",
     "output_type": "stream",
     "text": [
      ".fsx output:\n",
      "{ name = __assert_eq; actual = 1; expected = 1 }\n"
     ]
    }
   ],
   "source": [
    "//// test\n",
    "///! gleam\n",
    "///! fsharp\n",
    "///! cuda\n",
    "///! rust\n",
    "///! typescript\n",
    "///! python\n",
    "\n",
    "run_target function\n",
    "    | Gleam (Native) => fun () => $'1'\n",
    "    | Fsharp (Native) => fun () => $'1uy'\n",
    "    | Cuda (Native) => fun () => $'1'\n",
    "    | Rust (Native) => fun () => $'1uy'\n",
    "    | TypeScript (Native) => fun () => $'1uy'\n",
    "    | Python (Native) => fun () => $'1uy'\n",
    "    | _ => fun () => $'2uy'\n",
    "|> _assert_eq 1u8"
   ]
  },
  {
   "cell_type": "markdown",
   "metadata": {},
   "source": [
    "### eval"
   ]
  },
  {
   "cell_type": "code",
   "execution_count": null,
   "metadata": {
    "dotnet_interactive": {
     "language": "spiral"
    },
    "polyglot_notebook": {
     "kernelName": "spiral"
    }
   },
   "outputs": [],
   "source": [
    "inl eval fn =\n",
    "    fn ()"
   ]
  },
  {
   "cell_type": "markdown",
   "metadata": {},
   "source": [
    "### flip"
   ]
  },
  {
   "cell_type": "code",
   "execution_count": null,
   "metadata": {
    "dotnet_interactive": {
     "language": "spiral"
    },
    "polyglot_notebook": {
     "kernelName": "spiral"
    }
   },
   "outputs": [],
   "source": [
    "inl flip fn a b =\n",
    "    fn b a"
   ]
  },
  {
   "cell_type": "markdown",
   "metadata": {},
   "source": [
    "### do"
   ]
  },
  {
   "cell_type": "code",
   "execution_count": null,
   "metadata": {
    "dotnet_interactive": {
     "language": "spiral"
    },
    "polyglot_notebook": {
     "kernelName": "spiral"
    }
   },
   "outputs": [],
   "source": [
    "inl do (body : () -> ()) : () =\n",
    "    !!!!Do (body())"
   ]
  },
  {
   "cell_type": "markdown",
   "metadata": {},
   "source": [
    "### indent"
   ]
  },
  {
   "cell_type": "code",
   "execution_count": null,
   "metadata": {
    "dotnet_interactive": {
     "language": "spiral"
    },
    "polyglot_notebook": {
     "kernelName": "spiral"
    }
   },
   "outputs": [],
   "source": [
    "inl indent (body : () -> ()) : () =\n",
    "    backend_switch {\n",
    "        Gleam = fun () =>\n",
    "            !!!!Indent (body())\n",
    "            ()\n",
    "        Fsharp = fun () =>\n",
    "            inl body () =\n",
    "                body ()\n",
    "                $'(* indent' : ()\n",
    "            !!!!Indent (body())\n",
    "            $'indent *)' : ()\n",
    "        Python = fun () =>\n",
    "            !!!!Indent (body())\n",
    "            ()\n",
    "    }"
   ]
  },
  {
   "cell_type": "markdown",
   "metadata": {},
   "source": [
    "### let'"
   ]
  },
  {
   "cell_type": "code",
   "execution_count": null,
   "metadata": {
    "dotnet_interactive": {
     "language": "spiral"
    },
    "polyglot_notebook": {
     "kernelName": "spiral"
    }
   },
   "outputs": [],
   "source": [
    "inl let' fn =\n",
    "    inl result : unit =\n",
    "        backend_switch {\n",
    "            Gleam = fun () => $'Nil' : unit\n",
    "            Fsharp = fun () => $'()' : unit\n",
    "            Python = fun () => $'None' : unit\n",
    "        }\n",
    "    backend_switch {\n",
    "        Gleam = fun () =>\n",
    "            $'let _let\\'_!result = {' : ()\n",
    "            fn |> indent\n",
    "            $'}' : ()\n",
    "        Fsharp = fun () =>\n",
    "            $'let _let\\'_!result =' : ()\n",
    "            fn |> indent\n",
    "        Python = fun () =>\n",
    "            $'def _let\\'_!result():' : ()\n",
    "            fn |> indent\n",
    "    }\n",
    "    $'_let\\'_!result '"
   ]
  },
  {
   "cell_type": "markdown",
   "metadata": {},
   "source": [
    "### exec_unit"
   ]
  },
  {
   "cell_type": "code",
   "execution_count": null,
   "metadata": {
    "dotnet_interactive": {
     "language": "spiral"
    },
    "polyglot_notebook": {
     "kernelName": "spiral"
    }
   },
   "outputs": [],
   "source": [
    "inl exec_unit (fn : () -> ()) : () =\n",
    "    backend_switch {\n",
    "        Gleam = fun () => fn ()\n",
    "        Fsharp = fun () =>\n",
    "            inl unit = $'()' : $'unit'\n",
    "            ($'(fun () -> !fn (); !unit) ()' : $'unit') |> ignore\n",
    "        Python = fun () => fn ()\n",
    "    }"
   ]
  },
  {
   "cell_type": "markdown",
   "metadata": {},
   "source": [
    "### lazy"
   ]
  },
  {
   "cell_type": "code",
   "execution_count": null,
   "metadata": {
    "dotnet_interactive": {
     "language": "spiral"
    },
    "polyglot_notebook": {
     "kernelName": "spiral"
    }
   },
   "outputs": [],
   "source": [
    "nominal lazy t = $'Lazy<`t>'"
   ]
  },
  {
   "cell_type": "markdown",
   "metadata": {},
   "source": [
    "### memoize"
   ]
  },
  {
   "cell_type": "code",
   "execution_count": null,
   "metadata": {
    "dotnet_interactive": {
     "language": "spiral"
    },
    "polyglot_notebook": {
     "kernelName": "spiral"
    }
   },
   "outputs": [],
   "source": [
    "nominal lazy t = $'Lazy<`t>'\n",
    "\n",
    "inl memoize forall t. (fn : () -> t) : () -> t =\n",
    "    inl body () =\n",
    "        inl result = mut None\n",
    "        inl computed = mut false\n",
    "        fun () =>\n",
    "            if *computed\n",
    "            then *result\n",
    "            else\n",
    "                result <- fn () |> Some\n",
    "                computed <- true\n",
    "                *result\n",
    "            |> optionm.value\n",
    "        : () -> t\n",
    "    backend_switch {\n",
    "        Gleam = fun () => body ()\n",
    "        Fsharp = fun () =>\n",
    "            inl result : lazy t = $'lazy !fn ()'\n",
    "            fun () => $'!result.Value' : t\n",
    "        Python = fun () => body ()\n",
    "    }"
   ]
  },
  {
   "cell_type": "code",
   "execution_count": null,
   "metadata": {
    "dotnet_interactive": {
     "language": "spiral"
    },
    "polyglot_notebook": {
     "kernelName": "spiral"
    }
   },
   "outputs": [
    {
     "data": {
      "text/plain": [
       ".py output (Python):\n",
       "{ name = __assert_eq; actual = 1; expected = 1 }\n",
       "\n",
       ".rs output:\n",
       "{ name = __assert_eq; actual = 1; expected = 1 }\n",
       "\n",
       ".ts output:\n",
       "{ name = __assert_eq; actual = 1; expected = 1 }\n",
       "\n",
       ".py output:\n",
       "{ name = __assert_eq; actual = 1; expected = 1 }\n",
       "\n"
      ]
     },
     "metadata": {},
     "output_type": "display_data"
    },
    {
     "name": "stdout",
     "output_type": "stream",
     "text": [
      ".fsx output:\n",
      "{ name = __assert_eq; actual = 1; expected = 1 }\n"
     ]
    }
   ],
   "source": [
    "//// test\n",
    "///! fsharp\n",
    "///! cuda\n",
    "///! rust\n",
    "///! typescript\n",
    "///! python\n",
    "\n",
    "inl count = mut 0i32\n",
    "inl add =\n",
    "    fun () =>\n",
    "        count <- *count + 1\n",
    "        count\n",
    "    |> memoize\n",
    "\n",
    "add () |> ignore\n",
    "add () |> ignore\n",
    "add () |> ignore\n",
    "\n",
    "*count\n",
    "|> _assert_eq 1"
   ]
  },
  {
   "cell_type": "markdown",
   "metadata": {},
   "source": [
    "### capture"
   ]
  },
  {
   "cell_type": "code",
   "execution_count": null,
   "metadata": {
    "dotnet_interactive": {
     "language": "spiral"
    },
    "polyglot_notebook": {
     "kernelName": "spiral"
    }
   },
   "outputs": [],
   "source": [
    "inl capture forall t. (fn : () -> t) : t =\n",
    "    backend_switch {\n",
    "        Fsharp = fun () =>\n",
    "            inl result = dyn true\n",
    "            $'let mutable _capture_!result : `t option = None '\n",
    "            $'('\n",
    "            $'(fun () ->'\n",
    "            $'(fun () ->'\n",
    "            fn () |> emit_unit\n",
    "            $')'\n",
    "            $'|> fun x -> x ()'\n",
    "            $') () )'\n",
    "            $'|> fun x -> _capture_!result <- Some x'\n",
    "            $'match _capture_!result with Some x -> x | None -> failwith \"base.capture / _capture_!result=None\"' : t\n",
    "        Python = fun () =>\n",
    "            fn ()\n",
    "    }"
   ]
  },
  {
   "cell_type": "markdown",
   "metadata": {},
   "source": [
    "### yield_from"
   ]
  },
  {
   "cell_type": "code",
   "execution_count": null,
   "metadata": {
    "dotnet_interactive": {
     "language": "spiral"
    },
    "polyglot_notebook": {
     "kernelName": "spiral"
    }
   },
   "outputs": [],
   "source": [
    "inl yield_from forall (t : * -> *) u. (a : t u) : () =\n",
    "    backend_switch {\n",
    "        Fsharp = fun () => $'yield\\! !a ' : ()\n",
    "        Python = fun () => $'asyncio.run(!a())' : ()\n",
    "    }"
   ]
  },
  {
   "cell_type": "markdown",
   "metadata": {},
   "source": [
    "### join_body"
   ]
  },
  {
   "cell_type": "code",
   "execution_count": null,
   "metadata": {
    "dotnet_interactive": {
     "language": "spiral"
    },
    "polyglot_notebook": {
     "kernelName": "spiral"
    }
   },
   "outputs": [],
   "source": [
    "inl join_body body acc x =\n",
    "    if var_is x |> not\n",
    "    then body acc x\n",
    "    else\n",
    "        inl acc = dyn acc\n",
    "        join body acc x"
   ]
  },
  {
   "cell_type": "code",
   "execution_count": null,
   "metadata": {
    "dotnet_interactive": {
     "language": "spiral"
    },
    "polyglot_notebook": {
     "kernelName": "spiral"
    }
   },
   "outputs": [],
   "source": [
    "//// test\n",
    "\n",
    "inl rec fold_list f s = function\n",
    "    | Cons (x, x') => fold_list f (f s x) x'\n",
    "    | Nil => s"
   ]
  },
  {
   "cell_type": "code",
   "execution_count": null,
   "metadata": {
    "dotnet_interactive": {
     "language": "spiral"
    },
    "polyglot_notebook": {
     "kernelName": "spiral"
    }
   },
   "outputs": [
    {
     "data": {
      "text/plain": [
       ".py output (Python):\n",
       "{ name = __assert_eq; actual = 15; expected = 15 }\n",
       "\n",
       ".rs output:\n",
       "{ name = __assert_eq; actual = 15; expected = 15 }\n",
       "\n",
       ".ts output:\n",
       "{ name = __assert_eq; actual = 15; expected = 15 }\n",
       "\n",
       ".py output:\n",
       "{ name = __assert_eq; actual = 15; expected = 15 }\n",
       "\n",
       "\n",
       ".gleam output (Gleam):\n",
       "{compiling,\"/home/runner/work/spiral/polyglot/target/spiral_Eval/packages/a7a214789ca848f1d3bde74337af0c7c8e64037a7bacc1d9b0e14ec7036a6efb/build/dev/erlang/main/_gleam_artefacts/main@@main.erl\"}\n",
       "{compiling,\"/home/runner/work/spiral/polyglot/target/spiral_Eval/packages/a7a214789ca848f1d3bde74337af0c7c8e64037a7bacc1d9b0e14ec7036a6efb/build/dev/erlang/main/_gleam_artefacts/main.erl\"}\n",
       "{compiled,main,\n",
       "          \"/home/runner/work/spiral/polyglot/target/spiral_Eval/packages/a7a214789ca848f1d3bde74337af0c7c8e64037a7bacc1d9b0e14ec7036a6efb/build/dev/erlang/main/ebin/main.beam\"}\n",
       "{compiled,main@@main,\n",
       "          \"/home/runner/work/spiral/polyglot/target/spiral_Eval/packages/a7a214789ca848f1d3bde74337af0c7c8e64037a7bacc1d9b0e14ec7036a6efb/build/dev/erlang/main/ebin/main@@main.beam\"}\n",
       "{ name = __assert_eq; actual = 15; expected = 15 }\n",
       "\n",
       "\n",
       "\n",
       "\n"
      ]
     },
     "metadata": {},
     "output_type": "display_data"
    },
    {
     "name": "stdout",
     "output_type": "stream",
     "text": [
      ".gleam (Gleam):\n",
      "import gleam/string\n",
      "import gleam/io\n",
      "pub type Mut0 { Mut0(l0 : String) }\n",
      "pub fn method1 () -> Int {\n",
      "    3\n",
      "}\n",
      "pub fn method2 (v0 :    Bool) -> Bool {\n",
      "    v0\n",
      "}\n",
      "pub fn method4 () -> String {\n",
      "    let v0 = \"\"\n",
      "    v0\n",
      "}\n",
      "pub fn method3 (v0 :    String, v1 :    Int, v2 :    Int) -> String {\n",
      "    let v3 = method4()\n",
      "    let v4 = Mut0(l0 :  v3)\n",
      "    let v5 = \"{ \"\n",
      "    let v6 = v5 \n",
      "    let v10 = v4.l0 \n",
      "    let v11 = v10 <> v6 \n",
      "    let v4 = Mut0(l0: v11)\n",
      "    let v23 = \"name\"\n",
      "    let v24 = v23 \n",
      "    let v28 = v4.l0 \n",
      "    let v29 = v28 <> v24 \n",
      "    let v4 = Mut0(l0: v29)\n",
      "    let v41 = \" = \"\n",
      "    let v42 = v41 \n",
      "    let v46 = v4.l0 \n",
      "    let v47 = v46 <> v42 \n",
      "    let v4 = Mut0(l0: v47)\n",
      "    let v59 = v0 \n",
      "    let v63 = v4.l0 \n",
      "    let v64 = v63 <> v59 \n",
      "    let v4 = Mut0(l0: v64)\n",
      "    let v76 = \"; \"\n",
      "    let v77 = v76 \n",
      "    let v81 = v4.l0 \n",
      "    let v82 = v81 <> v77 \n",
      "    let v4 = Mut0(l0: v82)\n",
      "    let v94 = \"actual\"\n",
      "    let v95 = v94 \n",
      "    let v99 = v4.l0 \n",
      "    let v100 = v99 <> v95 \n",
      "    let v4 = Mut0(l0: v100)\n",
      "    let v112 = v41 \n",
      "    let v116 = v4.l0 \n",
      "    let v117 = v116 <> v112 \n",
      "    let v4 = Mut0(l0: v117)\n",
      "    let v129 = string.inspect(v1)\n",
      "    let v136 = v4.l0 \n",
      "    let v137 = v136 <> v129 \n",
      "    let v4 = Mut0(l0: v137)\n",
      "    let v149 = v76 \n",
      "    let v153 = v4.l0 \n",
      "    let v154 = v153 <> v149 \n",
      "    let v4 = Mut0(l0: v154)\n",
      "    let v166 = \"expected\"\n",
      "    let v167 = v166 \n",
      "    let v171 = v4.l0 \n",
      "    let v172 = v171 <> v167 \n",
      "    let v4 = Mut0(l0: v172)\n",
      "    let v184 = v41 \n",
      "    let v188 = v4.l0 \n",
      "    let v189 = v188 <> v184 \n",
      "    let v4 = Mut0(l0: v189)\n",
      "    let v201 = string.inspect(v2)\n",
      "    let v208 = v4.l0 \n",
      "    let v209 = v208 <> v201 \n",
      "    let v4 = Mut0(l0: v209)\n",
      "    let v221 = \" }\"\n",
      "    let v222 = v221 \n",
      "    let v226 = v4.l0 \n",
      "    let v227 = v226 <> v222 \n",
      "    let v4 = Mut0(l0: v227)\n",
      "    let v239 = v4.l0 \n",
      "    v239\n",
      "}\n",
      "pub fn method0 () -> Nil   {\n",
      "    let v0 = method1()\n",
      "    let v1 = 9 + v0\n",
      "    let v2 = v1 + 2\n",
      "    let v3 = v2 + 1\n",
      "    let v4 = v3 == 15\n",
      "    let v6 =\n",
      "        case v4 {\n",
      "            True -> {\n",
      "                True\n",
      "            }\n",
      "            False -> {\n",
      "                method2(v4)\n",
      "            }\n",
      "        }\n",
      "    let v7 = \"__assert_eq\"\n",
      "    let v8 = 15\n",
      "    let v9 = method3(v7, v3, v8)\n",
      "    io.println(v9)\n",
      "    let v15 = v6 == False\n",
      "    case v15 {\n",
      "        True -> {\n",
      "            panic as v9\n",
      "        }\n",
      "        False -> {\n",
      "        Nil\n",
      "        }\n",
      "    }\n",
      "}\n",
      "pub fn main () { method0()\n",
      " }\n",
      ".fsx:\n",
      "type Mut0 = {mutable l0 : string}\n",
      "let rec method1 () : int32 =\n",
      "    3\n",
      "and method2 (v0 : bool) : bool =\n",
      "    v0\n",
      "and method4 () : string =\n",
      "    let v0 : string = \"\"\n",
      "    v0\n",
      "and closure0 (v0 : Mut0, v1 : string) () : unit =\n",
      "    let v2 : string = v0.l0\n",
      "    let v4 : string = v2 + v1 \n",
      "    v0.l0 <- v4\n",
      "    ()\n",
      "and method3 (v0 : string, v1 : int32, v2 : int32) : string =\n",
      "    let v3 : string = method4()\n",
      "    let v4 : Mut0 = {l0 = v3} : Mut0\n",
      "    let v7 : string = \"{ \"\n",
      "    let v8 : string = $\"{v7}\"\n",
      "    let v16 : unit = ()\n",
      "    let v17 : (unit -> unit) = closure0(v4, v8)\n",
      "    let v18 : unit = (fun () -> v17 (); v16) ()\n",
      "    let v26 : string = \"name\"\n",
      "    let v27 : string = $\"{v26}\"\n",
      "    let v35 : unit = ()\n",
      "    let v36 : (unit -> unit) = closure0(v4, v27)\n",
      "    let v37 : unit = (fun () -> v36 (); v35) ()\n",
      "    let v45 : string = \" = \"\n",
      "    let v46 : string = $\"{v45}\"\n",
      "    let v54 : unit = ()\n",
      "    let v55 : (unit -> unit) = closure0(v4, v46)\n",
      "    let v56 : unit = (fun () -> v55 (); v54) ()\n",
      "    let v63 : string = $\"{v0}\"\n",
      "    let v71 : unit = ()\n",
      "    let v72 : (unit -> unit) = closure0(v4, v63)\n",
      "    let v73 : unit = (fun () -> v72 (); v71) ()\n",
      "    let v81 : string = \"; \"\n",
      "    let v82 : string = $\"{v81}\"\n",
      "    let v90 : unit = ()\n",
      "    let v91 : (unit -> unit) = closure0(v4, v82)\n",
      "    let v92 : unit = (fun () -> v91 (); v90) ()\n",
      "    let v100 : string = \"actual\"\n",
      "    let v101 : string = $\"{v100}\"\n",
      "    let v109 : unit = ()\n",
      "    let v110 : (unit -> unit) = closure0(v4, v101)\n",
      "    let v111 : unit = (fun () -> v110 (); v109) ()\n",
      "    let v118 : string = $\"{v45}\"\n",
      "    let v126 : unit = ()\n",
      "    let v127 : (unit -> unit) = closure0(v4, v118)\n",
      "    let v128 : unit = (fun () -> v127 (); v126) ()\n",
      "    let v138 : string = $\"{v1}\"\n",
      "    let v146 : unit = ()\n",
      "    let v147 : (unit -> unit) = closure0(v4, v138)\n",
      "    let v148 : unit = (fun () -> v147 (); v146) ()\n",
      "    let v155 : string = $\"{v81}\"\n",
      "    let v163 : unit = ()\n",
      "    let v164 : (unit -> unit) = closure0(v4, v155)\n",
      "    let v165 : unit = (fun () -> v164 (); v163) ()\n",
      "    let v173 : string = \"expected\"\n",
      "    let v174 : string = $\"{v173}\"\n",
      "    let v182 : unit = ()\n",
      "    let v183 : (unit -> unit) = closure0(v4, v174)\n",
      "    let v184 : unit = (fun () -> v183 (); v182) ()\n",
      "    let v191 : string = $\"{v45}\"\n",
      "    let v199 : unit = ()\n",
      "    let v200 : (unit -> unit) = closure0(v4, v191)\n",
      "    let v201 : unit = (fun () -> v200 (); v199) ()\n",
      "    let v211 : string = $\"{v2}\"\n",
      "    let v219 : unit = ()\n",
      "    let v220 : (unit -> unit) = closure0(v4, v211)\n",
      "    let v221 : unit = (fun () -> v220 (); v219) ()\n",
      "    let v229 : string = \" }\"\n",
      "    let v230 : string = $\"{v229}\"\n",
      "    let v238 : unit = ()\n",
      "    let v239 : (unit -> unit) = closure0(v4, v230)\n",
      "    let v240 : unit = (fun () -> v239 (); v238) ()\n",
      "    let v246 : string = v4.l0\n",
      "    v246\n",
      "and closure1 (v0 : string) () : unit =\n",
      "    let v1 : (string -> unit) = System.Console.WriteLine\n",
      "    v1 v0\n",
      "and method0 () : unit =\n",
      "    let v0 : int32 = method1()\n",
      "    let v1 : int32 = 9 + v0\n",
      "    let v2 : int32 = v1 + 2\n",
      "    let v3 : int32 = v2 + 1\n",
      "    let v4 : bool = v3 = 15\n",
      "    let v6 : bool =\n",
      "        if v4 then\n",
      "            true\n",
      "        else\n",
      "            method2(v4)\n",
      "    let v7 : string = \"__assert_eq\"\n",
      "    let v8 : int32 = 15\n",
      "    let v9 : string = method3(v7, v3, v8)\n",
      "    let v11 : unit = ()\n",
      "    let v12 : (unit -> unit) = closure1(v9)\n",
      "    let v13 : unit = (fun () -> v12 (); v11) ()\n",
      "    let v15 : bool = v6 = false\n",
      "    if v15 then\n",
      "        failwith<unit> v9\n",
      "method0()\n",
      "\n",
      "\n",
      ".rs:\n",
      "#![allow(dead_code)]\n",
      "#![allow(non_camel_case_types)]\n",
      "#![allow(non_snake_case)]\n",
      "#![allow(non_upper_case_globals)]\n",
      "#![allow(unreachable_code)]\n",
      "#![allow(unused_attributes)]\n",
      "#![allow(unused_imports)]\n",
      "#![allow(unused_macros)]\n",
      "#![allow(unused_parens)]\n",
      "#![allow(unused_variables)]\n",
      "#![allow(unused_assignments)]\n",
      "mod module_6ff740fe {\n",
      "    pub mod Spiral {\n",
      "        use super::*;\n",
      "        use fable_library_rust::Native_::LrcPtr;\n",
      "        use fable_library_rust::Native_::MutCell;\n",
      "        use fable_library_rust::Native_::on_startup;\n",
      "        use fable_library_rust::String_::append;\n",
      "        use fable_library_rust::String_::printfn;\n",
      "        use fable_library_rust::String_::sprintf;\n",
      "        use fable_library_rust::String_::string;\n",
      "        #[derive(Clone, Debug, Hash, PartialEq, PartialOrd)]\n",
      "        pub struct Mut0 {\n",
      "            pub l0: MutCell<string>,\n",
      "        }\n",
      "        impl core::fmt::Display for Mut0 {\n",
      "            fn fmt(&self, f: &mut core::fmt::Formatter) -> core::fmt::Result {\n",
      "                write!(f, \"{}\", core::any::type_name::<Self>())\n",
      "            }\n",
      "        }\n",
      "        pub fn method1() -> i32 {\n",
      "            3_i32\n",
      "        }\n",
      "        pub fn method2(v0: bool) -> bool {\n",
      "            v0\n",
      "        }\n",
      "        pub fn method4() -> string {\n",
      "            string(\"\")\n",
      "        }\n",
      "        pub fn closure0(v0: LrcPtr<Spiral::Mut0>, v1: string, unitVar: ()) {\n",
      "            let v4: string = append((v0.l0.get().clone()), (v1));\n",
      "            v0.l0.set(v4);\n",
      "            ()\n",
      "        }\n",
      "        pub fn method3(v0: string, v1: i32, v2: i32) -> string {\n",
      "            let v4: LrcPtr<Spiral::Mut0> = LrcPtr::new(Spiral::Mut0 {\n",
      "                l0: MutCell::new(Spiral::method4()),\n",
      "            });\n",
      "            let v18: () = {\n",
      "                Spiral::closure0(v4.clone(), string(\"{ \"), ());\n",
      "                ()\n",
      "            };\n",
      "            let v37: () = {\n",
      "                Spiral::closure0(v4.clone(), string(\"name\"), ());\n",
      "                ()\n",
      "            };\n",
      "            let v56: () = {\n",
      "                Spiral::closure0(v4.clone(), string(\" = \"), ());\n",
      "                ()\n",
      "            };\n",
      "            let v73: () = {\n",
      "                Spiral::closure0(v4.clone(), v0, ());\n",
      "                ()\n",
      "            };\n",
      "            let v92: () = {\n",
      "                Spiral::closure0(v4.clone(), string(\"; \"), ());\n",
      "                ()\n",
      "            };\n",
      "            let v111: () = {\n",
      "                Spiral::closure0(v4.clone(), string(\"actual\"), ());\n",
      "                ()\n",
      "            };\n",
      "            let v128: () = {\n",
      "                Spiral::closure0(v4.clone(), string(\" = \"), ());\n",
      "                ()\n",
      "            };\n",
      "            let v148: () = {\n",
      "                Spiral::closure0(v4.clone(), sprintf!(\"{}\", v1), ());\n",
      "                ()\n",
      "            };\n",
      "            let v165: () = {\n",
      "                Spiral::closure0(v4.clone(), string(\"; \"), ());\n",
      "                ()\n",
      "            };\n",
      "            let v184: () = {\n",
      "                Spiral::closure0(v4.clone(), string(\"expected\"), ());\n",
      "                ()\n",
      "            };\n",
      "            let v201: () = {\n",
      "                Spiral::closure0(v4.clone(), string(\" = \"), ());\n",
      "                ()\n",
      "            };\n",
      "            let v221: () = {\n",
      "                Spiral::closure0(v4.clone(), sprintf!(\"{}\", v2), ());\n",
      "                ()\n",
      "            };\n",
      "            let v240: () = {\n",
      "                Spiral::closure0(v4.clone(), string(\" }\"), ());\n",
      "                ()\n",
      "            };\n",
      "            v4.l0.get().clone()\n",
      "        }\n",
      "        pub fn closure1(v0: string, unitVar: ()) {\n",
      "            printfn!(\"{0}\", v0);\n",
      "        }\n",
      "        pub fn method0() {\n",
      "            let v3: i32 = ((9_i32 + (Spiral::method1())) + 2_i32) + 1_i32;\n",
      "            let v4: bool = (v3) == 15_i32;\n",
      "            let v6: bool = if v4 { true } else { Spiral::method2(v4) };\n",
      "            let v9: string = Spiral::method3(string(\"__assert_eq\"), v3, 15_i32);\n",
      "            let v13: () = {\n",
      "                Spiral::closure1(v9.clone(), ());\n",
      "                ()\n",
      "            };\n",
      "            if (v6) == false {\n",
      "                panic!(\"{}\", v9,);\n",
      "            }\n",
      "        }\n",
      "        // on_startup!(Spiral::method0());\n",
      "    }\n",
      "}\n",
      "pub use module_6ff740fe::*;\n",
      "\n",
      "\n",
      "\n",
      "pub fn main() -> Result<(), String> { Ok(Spiral::method0()) }\n",
      "\n",
      ".ts:\n",
      "import { Record } from \"./fable_modules/fable-library-ts.5.0.0-alpha.9/Types.js\";\n",
      "import { IComparable, IEquatable } from \"./fable_modules/fable-library-ts.5.0.0-alpha.9/Util.js\";\n",
      "import { record_type, string_type, TypeInfo } from \"./fable_modules/fable-library-ts.5.0.0-alpha.9/Reflection.js\";\n",
      "import { int32 } from \"./fable_modules/fable-library-ts.5.0.0-alpha.9/Int32.js\";\n",
      "\n",
      "export class Mut0 extends Record implements IEquatable<Mut0>, IComparable<Mut0> {\n",
      "    l0: string;\n",
      "    constructor(l0: string) {\n",
      "        super();\n",
      "        this.l0 = l0;\n",
      "    }\n",
      "}\n",
      "\n",
      "export function Mut0_$reflection(): TypeInfo {\n",
      "    return record_type(\"Spiral.Mut0\", [], Mut0, () => [[\"l0\", string_type]]);\n",
      "}\n",
      "\n",
      "export function method1(): int32 {\n",
      "    return 3;\n",
      "}\n",
      "\n",
      "export function method2(v0: boolean): boolean {\n",
      "    return v0;\n",
      "}\n",
      "\n",
      "export function method4(): string {\n",
      "    return \"\";\n",
      "}\n",
      "\n",
      "export function closure0(v0: Mut0, v1: string, unitVar: void): void {\n",
      "    const v4: string = v0.l0 + v1;\n",
      "    v0.l0 = v4;\n",
      "}\n",
      "\n",
      "export function method3(v0: string, v1: int32, v2: int32): string {\n",
      "    const v4: Mut0 = new Mut0(method4());\n",
      "    let v18: any;\n",
      "    closure0(v4, \"{ \", undefined);\n",
      "    v18 = undefined;\n",
      "    let v37: any;\n",
      "    closure0(v4, \"name\", undefined);\n",
      "    v37 = undefined;\n",
      "    let v56: any;\n",
      "    closure0(v4, \" = \", undefined);\n",
      "    v56 = undefined;\n",
      "    let v73: any;\n",
      "    closure0(v4, v0, undefined);\n",
      "    v73 = undefined;\n",
      "    let v92: any;\n",
      "    closure0(v4, \"; \", undefined);\n",
      "    v92 = undefined;\n",
      "    let v111: any;\n",
      "    closure0(v4, \"actual\", undefined);\n",
      "    v111 = undefined;\n",
      "    let v128: any;\n",
      "    closure0(v4, \" = \", undefined);\n",
      "    v128 = undefined;\n",
      "    let v148: any;\n",
      "    closure0(v4, `${v1}`, undefined);\n",
      "    v148 = undefined;\n",
      "    let v165: any;\n",
      "    closure0(v4, \"; \", undefined);\n",
      "    v165 = undefined;\n",
      "    let v184: any;\n",
      "    closure0(v4, \"expected\", undefined);\n",
      "    v184 = undefined;\n",
      "    let v201: any;\n",
      "    closure0(v4, \" = \", undefined);\n",
      "    v201 = undefined;\n",
      "    let v221: any;\n",
      "    closure0(v4, `${v2}`, undefined);\n",
      "    v221 = undefined;\n",
      "    let v240: any;\n",
      "    closure0(v4, \" }\", undefined);\n",
      "    v240 = undefined;\n",
      "    return v4.l0;\n",
      "}\n",
      "\n",
      "export function closure1(v0: string, unitVar: void): void {\n",
      "    console.log(v0);\n",
      "}\n",
      "\n",
      "export function method0(): void {\n",
      "    const v3: int32 = (((9 + method1()) + 2) + 1) | 0;\n",
      "    const v4: boolean = v3 === 15;\n",
      "    const v6: boolean = v4 ? true : method2(v4);\n",
      "    const v9: string = method3(\"__assert_eq\", v3, 15);\n",
      "    let v13: any;\n",
      "    closure1(v9, undefined);\n",
      "    v13 = undefined;\n",
      "    if (v6 === false) {\n",
      "        throw new Error(v9);\n",
      "    }\n",
      "}\n",
      "\n",
      "method0();\n",
      "\n",
      "\n",
      ".py:\n",
      "from __future__ import annotations\n",
      "from dataclasses import dataclass\n",
      "from fable_modules.fable_library.reflection import (TypeInfo, string_type, record_type)\n",
      "from fable_modules.fable_library.types import Record\n",
      "\n",
      "def _expr0() -> TypeInfo:\n",
      "    return record_type(\"Spiral.Mut0\", [], Mut0, lambda: [(\"l0\", string_type)])\n",
      "\n",
      "\n",
      "@dataclass(eq = False, repr = False, slots = True)\n",
      "class Mut0(Record):\n",
      "    l0: str\n",
      "\n",
      "Mut0_reflection = _expr0\n",
      "\n",
      "def method1(__unit: None=None) -> int:\n",
      "    return 3\n",
      "\n",
      "\n",
      "def method2(v0: bool) -> bool:\n",
      "    return v0\n",
      "\n",
      "\n",
      "def method4(__unit: None=None) -> str:\n",
      "    return \"\"\n",
      "\n",
      "\n",
      "def closure0(v0: Mut0, v1: str, unit_var: None) -> None:\n",
      "    v4: str = v0.l0 + v1\n",
      "    v0.l0 = v4\n",
      "\n",
      "\n",
      "def method3(v0: str, v1: int, v2: int) -> str:\n",
      "    v4: Mut0 = Mut0(method4())\n",
      "    v18: None\n",
      "    closure0(v4, \"{ \", None)\n",
      "    v18 = None\n",
      "    v37: None\n",
      "    closure0(v4, \"name\", None)\n",
      "    v37 = None\n",
      "    v56: None\n",
      "    closure0(v4, \" = \", None)\n",
      "    v56 = None\n",
      "    v73: None\n",
      "    closure0(v4, v0, None)\n",
      "    v73 = None\n",
      "    v92: None\n",
      "    closure0(v4, \"; \", None)\n",
      "    v92 = None\n",
      "    v111: None\n",
      "    closure0(v4, \"actual\", None)\n",
      "    v111 = None\n",
      "    v128: None\n",
      "    closure0(v4, \" = \", None)\n",
      "    v128 = None\n",
      "    v148: None\n",
      "    closure0(v4, (\"\" + str(v1)) + \"\", None)\n",
      "    v148 = None\n",
      "    v165: None\n",
      "    closure0(v4, \"; \", None)\n",
      "    v165 = None\n",
      "    v184: None\n",
      "    closure0(v4, \"expected\", None)\n",
      "    v184 = None\n",
      "    v201: None\n",
      "    closure0(v4, \" = \", None)\n",
      "    v201 = None\n",
      "    v221: None\n",
      "    closure0(v4, (\"\" + str(v2)) + \"\", None)\n",
      "    v221 = None\n",
      "    v240: None\n",
      "    closure0(v4, \" }\", None)\n",
      "    v240 = None\n",
      "    return v4.l0\n",
      "\n",
      "\n",
      "def closure1(v0: str, unit_var: None) -> None:\n",
      "    print(v0)\n",
      "\n",
      "\n",
      "def method0(__unit: None=None) -> None:\n",
      "    v3: int = (((9 + method1()) + 2) + 1) or 0\n",
      "    v4: bool = v3 == 15\n",
      "    v6: bool = True if v4 else method2(v4)\n",
      "    v9: str = method3(\"__assert_eq\", v3, 15)\n",
      "    v13: None\n",
      "    closure1(v9, None)\n",
      "    v13 = None\n",
      "    if v6 == False:\n",
      "        raise Exception(v9)\n",
      "\n",
      "\n",
      "\n",
      "method0()\n",
      "\n",
      "\n",
      ".py (Python):\n",
      "kernels_main = r\"\"\"\n",
      "\"\"\"\n",
      "from main_auto import *\n",
      "kernels = kernels_aux + kernels_main\n",
      "import cupy as cp\n",
      "import numpy as np\n",
      "from dataclasses import dataclass\n",
      "from typing import NamedTuple, Union, Callable, Tuple\n",
      "i8 = int; i16 = int; i32 = int; i64 = int; u8 = int; u16 = int; u32 = int; u64 = int; f32 = float; f64 = float; char = str; string = str\n",
      "cuda = False\n",
      "\n",
      "\n",
      "# fwd_dcls\n",
      "# types\n",
      "@dataclass\n",
      "class Mut0:\n",
      "    v0 : string\n",
      "# functions\n",
      "def method1() -> i32:\n",
      "    return 3\n",
      "def method2(v0 : bool) -> bool:\n",
      "    return v0\n",
      "def method4() -> string:\n",
      "    v0 = \"\"\n",
      "    return v0\n",
      "def method3(v0 : string, v1 : i32, v2 : i32) -> string:\n",
      "    v3 = method4()\n",
      "    v4 = Mut0(v3)\n",
      "    del v3\n",
      "    v9 = \"{ \"\n",
      "    v10 = f\"{v9}\"\n",
      "    del v9\n",
      "    v20 = v4.v0\n",
      "    v23 = v20 + v10 \n",
      "    del v10, v20\n",
      "    v4.v0 = v23\n",
      "    del v23\n",
      "    v29 = \"name\"\n",
      "    v30 = f\"{v29}\"\n",
      "    del v29\n",
      "    v40 = v4.v0\n",
      "    v43 = v40 + v30 \n",
      "    del v30, v40\n",
      "    v4.v0 = v43\n",
      "    del v43\n",
      "    v49 = \" = \"\n",
      "    v50 = f\"{v49}\"\n",
      "    v60 = v4.v0\n",
      "    v63 = v60 + v50 \n",
      "    del v50, v60\n",
      "    v4.v0 = v63\n",
      "    del v63\n",
      "    v67 = f\"{v0}\"\n",
      "    del v0\n",
      "    v77 = v4.v0\n",
      "    v80 = v77 + v67 \n",
      "    del v67, v77\n",
      "    v4.v0 = v80\n",
      "    del v80\n",
      "    v86 = \"; \"\n",
      "    v87 = f\"{v86}\"\n",
      "    v97 = v4.v0\n",
      "    v100 = v97 + v87 \n",
      "    del v87, v97\n",
      "    v4.v0 = v100\n",
      "    del v100\n",
      "    v106 = \"actual\"\n",
      "    v107 = f\"{v106}\"\n",
      "    del v106\n",
      "    v117 = v4.v0\n",
      "    v120 = v117 + v107 \n",
      "    del v107, v117\n",
      "    v4.v0 = v120\n",
      "    del v120\n",
      "    v124 = f\"{v49}\"\n",
      "    v134 = v4.v0\n",
      "    v137 = v134 + v124 \n",
      "    del v124, v134\n",
      "    v4.v0 = v137\n",
      "    del v137\n",
      "    v144 = f\"{v1}\"\n",
      "    del v1\n",
      "    v154 = v4.v0\n",
      "    v157 = v154 + v144 \n",
      "    del v144, v154\n",
      "    v4.v0 = v157\n",
      "    del v157\n",
      "    v161 = f\"{v86}\"\n",
      "    del v86\n",
      "    v171 = v4.v0\n",
      "    v174 = v171 + v161 \n",
      "    del v161, v171\n",
      "    v4.v0 = v174\n",
      "    del v174\n",
      "    v180 = \"expected\"\n",
      "    v181 = f\"{v180}\"\n",
      "    del v180\n",
      "    v191 = v4.v0\n",
      "    v194 = v191 + v181 \n",
      "    del v181, v191\n",
      "    v4.v0 = v194\n",
      "    del v194\n",
      "    v198 = f\"{v49}\"\n",
      "    del v49\n",
      "    v208 = v4.v0\n",
      "    v211 = v208 + v198 \n",
      "    del v198, v208\n",
      "    v4.v0 = v211\n",
      "    del v211\n",
      "    v218 = f\"{v2}\"\n",
      "    del v2\n",
      "    v228 = v4.v0\n",
      "    v231 = v228 + v218 \n",
      "    del v218, v228\n",
      "    v4.v0 = v231\n",
      "    del v231\n",
      "    v237 = \" }\"\n",
      "    v238 = f\"{v237}\"\n",
      "    del v237\n",
      "    v248 = v4.v0\n",
      "    v251 = v248 + v238 \n",
      "    del v238, v248\n",
      "    v4.v0 = v251\n",
      "    del v251\n",
      "    v253 = v4.v0\n",
      "    del v4\n",
      "    return v253\n",
      "def method0() -> None:\n",
      "    v0 = method1()\n",
      "    v1 = 9 + v0\n",
      "    del v0\n",
      "    v2 = v1 + 2\n",
      "    del v1\n",
      "    v3 = v2 + 1\n",
      "    del v2\n",
      "    v4 = v3 == 15\n",
      "    if v4:\n",
      "        v6 = True\n",
      "    else:\n",
      "        v6 = method2(v4)\n",
      "    del v4\n",
      "    v7 = \"__assert_eq\"\n",
      "    v8 = 15\n",
      "    v9 = method3(v7, v3, v8)\n",
      "    del v3, v7, v8\n",
      "    print(v9)\n",
      "    v15 = v6 == False\n",
      "    del v6\n",
      "    if v15:\n",
      "        del v15\n",
      "        raise Exception(v9)\n",
      "    else:\n",
      "        del v9, v15\n",
      "        return \n",
      "# main_defs\n",
      "def main_body():\n",
      "    return method0()\n",
      "\n",
      "def main():\n",
      "    r = main_body()\n",
      "    if cuda: cp.cuda.get_current_stream().synchronize() # This line is here so the `__trap()` calls on the kernel aren't missed.\n",
      "    return r\n",
      "\n",
      "if __name__ == '__main__': result = main(); None if result is None else print(result)\n",
      "\n",
      ".fsx output:\n",
      "{ name = __assert_eq; actual = 15; expected = 15 }\n"
     ]
    }
   ],
   "source": [
    "//// test\n",
    "///! gleam\n",
    "///! fsharp\n",
    "///! cuda\n",
    "///! rust\n",
    "///! typescript\n",
    "///! python\n",
    "//// print_code\n",
    "\n",
    "[ 5i32; 4; join 3; 2; 1 ]\n",
    "|> fold_list (+) 0\n",
    "|> _assert_eq 15"
   ]
  },
  {
   "cell_type": "code",
   "execution_count": null,
   "metadata": {
    "dotnet_interactive": {
     "language": "spiral"
    },
    "polyglot_notebook": {
     "kernelName": "spiral"
    }
   },
   "outputs": [
    {
     "data": {
      "text/plain": [
       ".py output (Python):\n",
       "{ name = __assert_eq; actual = 15; expected = 15 }\n",
       "\n",
       ".rs output:\n",
       "{ name = __assert_eq; actual = 15; expected = 15 }\n",
       "\n",
       ".ts output:\n",
       "{ name = __assert_eq; actual = 15; expected = 15 }\n",
       "\n",
       ".py output:\n",
       "{ name = __assert_eq; actual = 15; expected = 15 }\n",
       "\n",
       "\n",
       ".gleam output (Gleam):\n",
       "{compiling,\"/home/runner/work/spiral/polyglot/target/spiral_Eval/packages/e89520362b567ab73bbc571646fa344ac92a1394a98c4654d6d37ec082d746b7/build/dev/erlang/main/_gleam_artefacts/main@@main.erl\"}\n",
       "{compiling,\"/home/runner/work/spiral/polyglot/target/spiral_Eval/packages/e89520362b567ab73bbc571646fa344ac92a1394a98c4654d6d37ec082d746b7/build/dev/erlang/main/_gleam_artefacts/main.erl\"}\n",
       "{compiled,main,\n",
       "          \"/home/runner/work/spiral/polyglot/target/spiral_Eval/packages/e89520362b567ab73bbc571646fa344ac92a1394a98c4654d6d37ec082d746b7/build/dev/erlang/main/ebin/main.beam\"}\n",
       "{compiled,main@@main,\n",
       "          \"/home/runner/work/spiral/polyglot/target/spiral_Eval/packages/e89520362b567ab73bbc571646fa344ac92a1394a98c4654d6d37ec082d746b7/build/dev/erlang/main/ebin/main@@main.beam\"}\n",
       "{ name = __assert_eq; actual = 15; expected = 15 }\n",
       "\n",
       "\n",
       "\n",
       "\n"
      ]
     },
     "metadata": {},
     "output_type": "display_data"
    },
    {
     "name": "stdout",
     "output_type": "stream",
     "text": [
      ".gleam (Gleam):\n",
      "import gleam/string\n",
      "import gleam/io\n",
      "pub type Mut0 { Mut0(l0 : String) }\n",
      "pub fn method1 () -> Int {\n",
      "    3\n",
      "}\n",
      "pub fn method2 (v0 :    Int, v1 :    Int) -> Int {\n",
      "    let v2 = v1 + v0\n",
      "    v2\n",
      "}\n",
      "pub fn method3 (v0 :    Bool) -> Bool {\n",
      "    v0\n",
      "}\n",
      "pub fn method5 () -> String {\n",
      "    let v0 = \"\"\n",
      "    v0\n",
      "}\n",
      "pub fn method4 (v0 :    String, v1 :    Int, v2 :    Int) -> String {\n",
      "    let v3 = method5()\n",
      "    let v4 = Mut0(l0 :  v3)\n",
      "    let v5 = \"{ \"\n",
      "    let v6 = v5 \n",
      "    let v10 = v4.l0 \n",
      "    let v11 = v10 <> v6 \n",
      "    let v4 = Mut0(l0: v11)\n",
      "    let v23 = \"name\"\n",
      "    let v24 = v23 \n",
      "    let v28 = v4.l0 \n",
      "    let v29 = v28 <> v24 \n",
      "    let v4 = Mut0(l0: v29)\n",
      "    let v41 = \" = \"\n",
      "    let v42 = v41 \n",
      "    let v46 = v4.l0 \n",
      "    let v47 = v46 <> v42 \n",
      "    let v4 = Mut0(l0: v47)\n",
      "    let v59 = v0 \n",
      "    let v63 = v4.l0 \n",
      "    let v64 = v63 <> v59 \n",
      "    let v4 = Mut0(l0: v64)\n",
      "    let v76 = \"; \"\n",
      "    let v77 = v76 \n",
      "    let v81 = v4.l0 \n",
      "    let v82 = v81 <> v77 \n",
      "    let v4 = Mut0(l0: v82)\n",
      "    let v94 = \"actual\"\n",
      "    let v95 = v94 \n",
      "    let v99 = v4.l0 \n",
      "    let v100 = v99 <> v95 \n",
      "    let v4 = Mut0(l0: v100)\n",
      "    let v112 = v41 \n",
      "    let v116 = v4.l0 \n",
      "    let v117 = v116 <> v112 \n",
      "    let v4 = Mut0(l0: v117)\n",
      "    let v129 = string.inspect(v1)\n",
      "    let v136 = v4.l0 \n",
      "    let v137 = v136 <> v129 \n",
      "    let v4 = Mut0(l0: v137)\n",
      "    let v149 = v76 \n",
      "    let v153 = v4.l0 \n",
      "    let v154 = v153 <> v149 \n",
      "    let v4 = Mut0(l0: v154)\n",
      "    let v166 = \"expected\"\n",
      "    let v167 = v166 \n",
      "    let v171 = v4.l0 \n",
      "    let v172 = v171 <> v167 \n",
      "    let v4 = Mut0(l0: v172)\n",
      "    let v184 = v41 \n",
      "    let v188 = v4.l0 \n",
      "    let v189 = v188 <> v184 \n",
      "    let v4 = Mut0(l0: v189)\n",
      "    let v201 = string.inspect(v2)\n",
      "    let v208 = v4.l0 \n",
      "    let v209 = v208 <> v201 \n",
      "    let v4 = Mut0(l0: v209)\n",
      "    let v221 = \" }\"\n",
      "    let v222 = v221 \n",
      "    let v226 = v4.l0 \n",
      "    let v227 = v226 <> v222 \n",
      "    let v4 = Mut0(l0: v227)\n",
      "    let v239 = v4.l0 \n",
      "    v239\n",
      "}\n",
      "pub fn method0 () -> Nil   {\n",
      "    let v0 = method1()\n",
      "    let v1 = 9\n",
      "    let v2 = method2(v0, v1)\n",
      "    let v3 = v2 + 2\n",
      "    let v4 = v3 + 1\n",
      "    let v5 = v4 == 15\n",
      "    let v7 =\n",
      "        case v5 {\n",
      "            True -> {\n",
      "                True\n",
      "            }\n",
      "            False -> {\n",
      "                method3(v5)\n",
      "            }\n",
      "        }\n",
      "    let v8 = \"__assert_eq\"\n",
      "    let v9 = 15\n",
      "    let v10 = method4(v8, v4, v9)\n",
      "    io.println(v10)\n",
      "    let v16 = v7 == False\n",
      "    case v16 {\n",
      "        True -> {\n",
      "            panic as v10\n",
      "        }\n",
      "        False -> {\n",
      "        Nil\n",
      "        }\n",
      "    }\n",
      "}\n",
      "pub fn main () { method0()\n",
      " }\n",
      ".fsx:\n",
      "type Mut0 = {mutable l0 : string}\n",
      "let rec method1 () : int32 =\n",
      "    3\n",
      "and method2 (v0 : int32, v1 : int32) : int32 =\n",
      "    let v2 : int32 = v1 + v0\n",
      "    v2\n",
      "and method3 (v0 : bool) : bool =\n",
      "    v0\n",
      "and method5 () : string =\n",
      "    let v0 : string = \"\"\n",
      "    v0\n",
      "and closure0 (v0 : Mut0, v1 : string) () : unit =\n",
      "    let v2 : string = v0.l0\n",
      "    let v4 : string = v2 + v1 \n",
      "    v0.l0 <- v4\n",
      "    ()\n",
      "and method4 (v0 : string, v1 : int32, v2 : int32) : string =\n",
      "    let v3 : string = method5()\n",
      "    let v4 : Mut0 = {l0 = v3} : Mut0\n",
      "    let v7 : string = \"{ \"\n",
      "    let v8 : string = $\"{v7}\"\n",
      "    let v16 : unit = ()\n",
      "    let v17 : (unit -> unit) = closure0(v4, v8)\n",
      "    let v18 : unit = (fun () -> v17 (); v16) ()\n",
      "    let v26 : string = \"name\"\n",
      "    let v27 : string = $\"{v26}\"\n",
      "    let v35 : unit = ()\n",
      "    let v36 : (unit -> unit) = closure0(v4, v27)\n",
      "    let v37 : unit = (fun () -> v36 (); v35) ()\n",
      "    let v45 : string = \" = \"\n",
      "    let v46 : string = $\"{v45}\"\n",
      "    let v54 : unit = ()\n",
      "    let v55 : (unit -> unit) = closure0(v4, v46)\n",
      "    let v56 : unit = (fun () -> v55 (); v54) ()\n",
      "    let v63 : string = $\"{v0}\"\n",
      "    let v71 : unit = ()\n",
      "    let v72 : (unit -> unit) = closure0(v4, v63)\n",
      "    let v73 : unit = (fun () -> v72 (); v71) ()\n",
      "    let v81 : string = \"; \"\n",
      "    let v82 : string = $\"{v81}\"\n",
      "    let v90 : unit = ()\n",
      "    let v91 : (unit -> unit) = closure0(v4, v82)\n",
      "    let v92 : unit = (fun () -> v91 (); v90) ()\n",
      "    let v100 : string = \"actual\"\n",
      "    let v101 : string = $\"{v100}\"\n",
      "    let v109 : unit = ()\n",
      "    let v110 : (unit -> unit) = closure0(v4, v101)\n",
      "    let v111 : unit = (fun () -> v110 (); v109) ()\n",
      "    let v118 : string = $\"{v45}\"\n",
      "    let v126 : unit = ()\n",
      "    let v127 : (unit -> unit) = closure0(v4, v118)\n",
      "    let v128 : unit = (fun () -> v127 (); v126) ()\n",
      "    let v138 : string = $\"{v1}\"\n",
      "    let v146 : unit = ()\n",
      "    let v147 : (unit -> unit) = closure0(v4, v138)\n",
      "    let v148 : unit = (fun () -> v147 (); v146) ()\n",
      "    let v155 : string = $\"{v81}\"\n",
      "    let v163 : unit = ()\n",
      "    let v164 : (unit -> unit) = closure0(v4, v155)\n",
      "    let v165 : unit = (fun () -> v164 (); v163) ()\n",
      "    let v173 : string = \"expected\"\n",
      "    let v174 : string = $\"{v173}\"\n",
      "    let v182 : unit = ()\n",
      "    let v183 : (unit -> unit) = closure0(v4, v174)\n",
      "    let v184 : unit = (fun () -> v183 (); v182) ()\n",
      "    let v191 : string = $\"{v45}\"\n",
      "    let v199 : unit = ()\n",
      "    let v200 : (unit -> unit) = closure0(v4, v191)\n",
      "    let v201 : unit = (fun () -> v200 (); v199) ()\n",
      "    let v211 : string = $\"{v2}\"\n",
      "    let v219 : unit = ()\n",
      "    let v220 : (unit -> unit) = closure0(v4, v211)\n",
      "    let v221 : unit = (fun () -> v220 (); v219) ()\n",
      "    let v229 : string = \" }\"\n",
      "    let v230 : string = $\"{v229}\"\n",
      "    let v238 : unit = ()\n",
      "    let v239 : (unit -> unit) = closure0(v4, v230)\n",
      "    let v240 : unit = (fun () -> v239 (); v238) ()\n",
      "    let v246 : string = v4.l0\n",
      "    v246\n",
      "and closure1 (v0 : string) () : unit =\n",
      "    let v1 : (string -> unit) = System.Console.WriteLine\n",
      "    v1 v0\n",
      "and method0 () : unit =\n",
      "    let v0 : int32 = method1()\n",
      "    let v1 : int32 = 9\n",
      "    let v2 : int32 = method2(v0, v1)\n",
      "    let v3 : int32 = v2 + 2\n",
      "    let v4 : int32 = v3 + 1\n",
      "    let v5 : bool = v4 = 15\n",
      "    let v7 : bool =\n",
      "        if v5 then\n",
      "            true\n",
      "        else\n",
      "            method3(v5)\n",
      "    let v8 : string = \"__assert_eq\"\n",
      "    let v9 : int32 = 15\n",
      "    let v10 : string = method4(v8, v4, v9)\n",
      "    let v12 : unit = ()\n",
      "    let v13 : (unit -> unit) = closure1(v10)\n",
      "    let v14 : unit = (fun () -> v13 (); v12) ()\n",
      "    let v16 : bool = v7 = false\n",
      "    if v16 then\n",
      "        failwith<unit> v10\n",
      "method0()\n",
      "\n",
      "\n",
      ".rs:\n",
      "#![allow(dead_code)]\n",
      "#![allow(non_camel_case_types)]\n",
      "#![allow(non_snake_case)]\n",
      "#![allow(non_upper_case_globals)]\n",
      "#![allow(unreachable_code)]\n",
      "#![allow(unused_attributes)]\n",
      "#![allow(unused_imports)]\n",
      "#![allow(unused_macros)]\n",
      "#![allow(unused_parens)]\n",
      "#![allow(unused_variables)]\n",
      "#![allow(unused_assignments)]\n",
      "mod module_6ff740fe {\n",
      "    pub mod Spiral {\n",
      "        use super::*;\n",
      "        use fable_library_rust::Native_::LrcPtr;\n",
      "        use fable_library_rust::Native_::MutCell;\n",
      "        use fable_library_rust::Native_::on_startup;\n",
      "        use fable_library_rust::String_::append;\n",
      "        use fable_library_rust::String_::printfn;\n",
      "        use fable_library_rust::String_::sprintf;\n",
      "        use fable_library_rust::String_::string;\n",
      "        #[derive(Clone, Debug, Hash, PartialEq, PartialOrd)]\n",
      "        pub struct Mut0 {\n",
      "            pub l0: MutCell<string>,\n",
      "        }\n",
      "        impl core::fmt::Display for Mut0 {\n",
      "            fn fmt(&self, f: &mut core::fmt::Formatter) -> core::fmt::Result {\n",
      "                write!(f, \"{}\", core::any::type_name::<Self>())\n",
      "            }\n",
      "        }\n",
      "        pub fn method1() -> i32 {\n",
      "            3_i32\n",
      "        }\n",
      "        pub fn method2(v0: i32, v1: i32) -> i32 {\n",
      "            (v1) + (v0)\n",
      "        }\n",
      "        pub fn method3(v0: bool) -> bool {\n",
      "            v0\n",
      "        }\n",
      "        pub fn method5() -> string {\n",
      "            string(\"\")\n",
      "        }\n",
      "        pub fn closure0(v0: LrcPtr<Spiral::Mut0>, v1: string, unitVar: ()) {\n",
      "            let v4: string = append((v0.l0.get().clone()), (v1));\n",
      "            v0.l0.set(v4);\n",
      "            ()\n",
      "        }\n",
      "        pub fn method4(v0: string, v1: i32, v2: i32) -> string {\n",
      "            let v4: LrcPtr<Spiral::Mut0> = LrcPtr::new(Spiral::Mut0 {\n",
      "                l0: MutCell::new(Spiral::method5()),\n",
      "            });\n",
      "            let v18: () = {\n",
      "                Spiral::closure0(v4.clone(), string(\"{ \"), ());\n",
      "                ()\n",
      "            };\n",
      "            let v37: () = {\n",
      "                Spiral::closure0(v4.clone(), string(\"name\"), ());\n",
      "                ()\n",
      "            };\n",
      "            let v56: () = {\n",
      "                Spiral::closure0(v4.clone(), string(\" = \"), ());\n",
      "                ()\n",
      "            };\n",
      "            let v73: () = {\n",
      "                Spiral::closure0(v4.clone(), v0, ());\n",
      "                ()\n",
      "            };\n",
      "            let v92: () = {\n",
      "                Spiral::closure0(v4.clone(), string(\"; \"), ());\n",
      "                ()\n",
      "            };\n",
      "            let v111: () = {\n",
      "                Spiral::closure0(v4.clone(), string(\"actual\"), ());\n",
      "                ()\n",
      "            };\n",
      "            let v128: () = {\n",
      "                Spiral::closure0(v4.clone(), string(\" = \"), ());\n",
      "                ()\n",
      "            };\n",
      "            let v148: () = {\n",
      "                Spiral::closure0(v4.clone(), sprintf!(\"{}\", v1), ());\n",
      "                ()\n",
      "            };\n",
      "            let v165: () = {\n",
      "                Spiral::closure0(v4.clone(), string(\"; \"), ());\n",
      "                ()\n",
      "            };\n",
      "            let v184: () = {\n",
      "                Spiral::closure0(v4.clone(), string(\"expected\"), ());\n",
      "                ()\n",
      "            };\n",
      "            let v201: () = {\n",
      "                Spiral::closure0(v4.clone(), string(\" = \"), ());\n",
      "                ()\n",
      "            };\n",
      "            let v221: () = {\n",
      "                Spiral::closure0(v4.clone(), sprintf!(\"{}\", v2), ());\n",
      "                ()\n",
      "            };\n",
      "            let v240: () = {\n",
      "                Spiral::closure0(v4.clone(), string(\" }\"), ());\n",
      "                ()\n",
      "            };\n",
      "            v4.l0.get().clone()\n",
      "        }\n",
      "        pub fn closure1(v0: string, unitVar: ()) {\n",
      "            printfn!(\"{0}\", v0);\n",
      "        }\n",
      "        pub fn method0() {\n",
      "            let v4: i32 = ((Spiral::method2(Spiral::method1(), 9_i32)) + 2_i32) + 1_i32;\n",
      "            let v5: bool = (v4) == 15_i32;\n",
      "            let v7: bool = if v5 { true } else { Spiral::method3(v5) };\n",
      "            let v10: string = Spiral::method4(string(\"__assert_eq\"), v4, 15_i32);\n",
      "            let v14: () = {\n",
      "                Spiral::closure1(v10.clone(), ());\n",
      "                ()\n",
      "            };\n",
      "            if (v7) == false {\n",
      "                panic!(\"{}\", v10,);\n",
      "            }\n",
      "        }\n",
      "        // on_startup!(Spiral::method0());\n",
      "    }\n",
      "}\n",
      "pub use module_6ff740fe::*;\n",
      "\n",
      "\n",
      "\n",
      "pub fn main() -> Result<(), String> { Ok(Spiral::method0()) }\n",
      "\n",
      ".ts:\n",
      "import { Record } from \"./fable_modules/fable-library-ts.5.0.0-alpha.9/Types.js\";\n",
      "import { IComparable, IEquatable } from \"./fable_modules/fable-library-ts.5.0.0-alpha.9/Util.js\";\n",
      "import { record_type, string_type, TypeInfo } from \"./fable_modules/fable-library-ts.5.0.0-alpha.9/Reflection.js\";\n",
      "import { int32 } from \"./fable_modules/fable-library-ts.5.0.0-alpha.9/Int32.js\";\n",
      "\n",
      "export class Mut0 extends Record implements IEquatable<Mut0>, IComparable<Mut0> {\n",
      "    l0: string;\n",
      "    constructor(l0: string) {\n",
      "        super();\n",
      "        this.l0 = l0;\n",
      "    }\n",
      "}\n",
      "\n",
      "export function Mut0_$reflection(): TypeInfo {\n",
      "    return record_type(\"Spiral.Mut0\", [], Mut0, () => [[\"l0\", string_type]]);\n",
      "}\n",
      "\n",
      "export function method1(): int32 {\n",
      "    return 3;\n",
      "}\n",
      "\n",
      "export function method2(v0: int32, v1: int32): int32 {\n",
      "    return v1 + v0;\n",
      "}\n",
      "\n",
      "export function method3(v0: boolean): boolean {\n",
      "    return v0;\n",
      "}\n",
      "\n",
      "export function method5(): string {\n",
      "    return \"\";\n",
      "}\n",
      "\n",
      "export function closure0(v0: Mut0, v1: string, unitVar: void): void {\n",
      "    const v4: string = v0.l0 + v1;\n",
      "    v0.l0 = v4;\n",
      "}\n",
      "\n",
      "export function method4(v0: string, v1: int32, v2: int32): string {\n",
      "    const v4: Mut0 = new Mut0(method5());\n",
      "    let v18: any;\n",
      "    closure0(v4, \"{ \", undefined);\n",
      "    v18 = undefined;\n",
      "    let v37: any;\n",
      "    closure0(v4, \"name\", undefined);\n",
      "    v37 = undefined;\n",
      "    let v56: any;\n",
      "    closure0(v4, \" = \", undefined);\n",
      "    v56 = undefined;\n",
      "    let v73: any;\n",
      "    closure0(v4, v0, undefined);\n",
      "    v73 = undefined;\n",
      "    let v92: any;\n",
      "    closure0(v4, \"; \", undefined);\n",
      "    v92 = undefined;\n",
      "    let v111: any;\n",
      "    closure0(v4, \"actual\", undefined);\n",
      "    v111 = undefined;\n",
      "    let v128: any;\n",
      "    closure0(v4, \" = \", undefined);\n",
      "    v128 = undefined;\n",
      "    let v148: any;\n",
      "    closure0(v4, `${v1}`, undefined);\n",
      "    v148 = undefined;\n",
      "    let v165: any;\n",
      "    closure0(v4, \"; \", undefined);\n",
      "    v165 = undefined;\n",
      "    let v184: any;\n",
      "    closure0(v4, \"expected\", undefined);\n",
      "    v184 = undefined;\n",
      "    let v201: any;\n",
      "    closure0(v4, \" = \", undefined);\n",
      "    v201 = undefined;\n",
      "    let v221: any;\n",
      "    closure0(v4, `${v2}`, undefined);\n",
      "    v221 = undefined;\n",
      "    let v240: any;\n",
      "    closure0(v4, \" }\", undefined);\n",
      "    v240 = undefined;\n",
      "    return v4.l0;\n",
      "}\n",
      "\n",
      "export function closure1(v0: string, unitVar: void): void {\n",
      "    console.log(v0);\n",
      "}\n",
      "\n",
      "export function method0(): void {\n",
      "    const v4: int32 = ((method2(method1(), 9) + 2) + 1) | 0;\n",
      "    const v5: boolean = v4 === 15;\n",
      "    const v7: boolean = v5 ? true : method3(v5);\n",
      "    const v10: string = method4(\"__assert_eq\", v4, 15);\n",
      "    let v14: any;\n",
      "    closure1(v10, undefined);\n",
      "    v14 = undefined;\n",
      "    if (v7 === false) {\n",
      "        throw new Error(v10);\n",
      "    }\n",
      "}\n",
      "\n",
      "method0();\n",
      "\n",
      "\n",
      ".py:\n",
      "from __future__ import annotations\n",
      "from dataclasses import dataclass\n",
      "from fable_modules.fable_library.reflection import (TypeInfo, string_type, record_type)\n",
      "from fable_modules.fable_library.types import Record\n",
      "\n",
      "def _expr0() -> TypeInfo:\n",
      "    return record_type(\"Spiral.Mut0\", [], Mut0, lambda: [(\"l0\", string_type)])\n",
      "\n",
      "\n",
      "@dataclass(eq = False, repr = False, slots = True)\n",
      "class Mut0(Record):\n",
      "    l0: str\n",
      "\n",
      "Mut0_reflection = _expr0\n",
      "\n",
      "def method1(__unit: None=None) -> int:\n",
      "    return 3\n",
      "\n",
      "\n",
      "def method2(v0: int, v1: int) -> int:\n",
      "    return v1 + v0\n",
      "\n",
      "\n",
      "def method3(v0: bool) -> bool:\n",
      "    return v0\n",
      "\n",
      "\n",
      "def method5(__unit: None=None) -> str:\n",
      "    return \"\"\n",
      "\n",
      "\n",
      "def closure0(v0: Mut0, v1: str, unit_var: None) -> None:\n",
      "    v4: str = v0.l0 + v1\n",
      "    v0.l0 = v4\n",
      "\n",
      "\n",
      "def method4(v0: str, v1: int, v2: int) -> str:\n",
      "    v4: Mut0 = Mut0(method5())\n",
      "    v18: None\n",
      "    closure0(v4, \"{ \", None)\n",
      "    v18 = None\n",
      "    v37: None\n",
      "    closure0(v4, \"name\", None)\n",
      "    v37 = None\n",
      "    v56: None\n",
      "    closure0(v4, \" = \", None)\n",
      "    v56 = None\n",
      "    v73: None\n",
      "    closure0(v4, v0, None)\n",
      "    v73 = None\n",
      "    v92: None\n",
      "    closure0(v4, \"; \", None)\n",
      "    v92 = None\n",
      "    v111: None\n",
      "    closure0(v4, \"actual\", None)\n",
      "    v111 = None\n",
      "    v128: None\n",
      "    closure0(v4, \" = \", None)\n",
      "    v128 = None\n",
      "    v148: None\n",
      "    closure0(v4, (\"\" + str(v1)) + \"\", None)\n",
      "    v148 = None\n",
      "    v165: None\n",
      "    closure0(v4, \"; \", None)\n",
      "    v165 = None\n",
      "    v184: None\n",
      "    closure0(v4, \"expected\", None)\n",
      "    v184 = None\n",
      "    v201: None\n",
      "    closure0(v4, \" = \", None)\n",
      "    v201 = None\n",
      "    v221: None\n",
      "    closure0(v4, (\"\" + str(v2)) + \"\", None)\n",
      "    v221 = None\n",
      "    v240: None\n",
      "    closure0(v4, \" }\", None)\n",
      "    v240 = None\n",
      "    return v4.l0\n",
      "\n",
      "\n",
      "def closure1(v0: str, unit_var: None) -> None:\n",
      "    print(v0)\n",
      "\n",
      "\n",
      "def method0(__unit: None=None) -> None:\n",
      "    v4: int = ((method2(method1(), 9) + 2) + 1) or 0\n",
      "    v5: bool = v4 == 15\n",
      "    v7: bool = True if v5 else method3(v5)\n",
      "    v10: str = method4(\"__assert_eq\", v4, 15)\n",
      "    v14: None\n",
      "    closure1(v10, None)\n",
      "    v14 = None\n",
      "    if v7 == False:\n",
      "        raise Exception(v10)\n",
      "\n",
      "\n",
      "\n",
      "method0()\n",
      "\n",
      "\n",
      ".py (Python):\n",
      "kernels_main = r\"\"\"\n",
      "\"\"\"\n",
      "from main_auto import *\n",
      "kernels = kernels_aux + kernels_main\n",
      "import cupy as cp\n",
      "import numpy as np\n",
      "from dataclasses import dataclass\n",
      "from typing import NamedTuple, Union, Callable, Tuple\n",
      "i8 = int; i16 = int; i32 = int; i64 = int; u8 = int; u16 = int; u32 = int; u64 = int; f32 = float; f64 = float; char = str; string = str\n",
      "cuda = False\n",
      "\n",
      "\n",
      "# fwd_dcls\n",
      "# types\n",
      "@dataclass\n",
      "class Mut0:\n",
      "    v0 : string\n",
      "# functions\n",
      "def method1() -> i32:\n",
      "    return 3\n",
      "def method2(v0 : i32, v1 : i32) -> i32:\n",
      "    v2 = v1 + v0\n",
      "    del v0, v1\n",
      "    return v2\n",
      "def method3(v0 : bool) -> bool:\n",
      "    return v0\n",
      "def method5() -> string:\n",
      "    v0 = \"\"\n",
      "    return v0\n",
      "def method4(v0 : string, v1 : i32, v2 : i32) -> string:\n",
      "    v3 = method5()\n",
      "    v4 = Mut0(v3)\n",
      "    del v3\n",
      "    v9 = \"{ \"\n",
      "    v10 = f\"{v9}\"\n",
      "    del v9\n",
      "    v20 = v4.v0\n",
      "    v23 = v20 + v10 \n",
      "    del v10, v20\n",
      "    v4.v0 = v23\n",
      "    del v23\n",
      "    v29 = \"name\"\n",
      "    v30 = f\"{v29}\"\n",
      "    del v29\n",
      "    v40 = v4.v0\n",
      "    v43 = v40 + v30 \n",
      "    del v30, v40\n",
      "    v4.v0 = v43\n",
      "    del v43\n",
      "    v49 = \" = \"\n",
      "    v50 = f\"{v49}\"\n",
      "    v60 = v4.v0\n",
      "    v63 = v60 + v50 \n",
      "    del v50, v60\n",
      "    v4.v0 = v63\n",
      "    del v63\n",
      "    v67 = f\"{v0}\"\n",
      "    del v0\n",
      "    v77 = v4.v0\n",
      "    v80 = v77 + v67 \n",
      "    del v67, v77\n",
      "    v4.v0 = v80\n",
      "    del v80\n",
      "    v86 = \"; \"\n",
      "    v87 = f\"{v86}\"\n",
      "    v97 = v4.v0\n",
      "    v100 = v97 + v87 \n",
      "    del v87, v97\n",
      "    v4.v0 = v100\n",
      "    del v100\n",
      "    v106 = \"actual\"\n",
      "    v107 = f\"{v106}\"\n",
      "    del v106\n",
      "    v117 = v4.v0\n",
      "    v120 = v117 + v107 \n",
      "    del v107, v117\n",
      "    v4.v0 = v120\n",
      "    del v120\n",
      "    v124 = f\"{v49}\"\n",
      "    v134 = v4.v0\n",
      "    v137 = v134 + v124 \n",
      "    del v124, v134\n",
      "    v4.v0 = v137\n",
      "    del v137\n",
      "    v144 = f\"{v1}\"\n",
      "    del v1\n",
      "    v154 = v4.v0\n",
      "    v157 = v154 + v144 \n",
      "    del v144, v154\n",
      "    v4.v0 = v157\n",
      "    del v157\n",
      "    v161 = f\"{v86}\"\n",
      "    del v86\n",
      "    v171 = v4.v0\n",
      "    v174 = v171 + v161 \n",
      "    del v161, v171\n",
      "    v4.v0 = v174\n",
      "    del v174\n",
      "    v180 = \"expected\"\n",
      "    v181 = f\"{v180}\"\n",
      "    del v180\n",
      "    v191 = v4.v0\n",
      "    v194 = v191 + v181 \n",
      "    del v181, v191\n",
      "    v4.v0 = v194\n",
      "    del v194\n",
      "    v198 = f\"{v49}\"\n",
      "    del v49\n",
      "    v208 = v4.v0\n",
      "    v211 = v208 + v198 \n",
      "    del v198, v208\n",
      "    v4.v0 = v211\n",
      "    del v211\n",
      "    v218 = f\"{v2}\"\n",
      "    del v2\n",
      "    v228 = v4.v0\n",
      "    v231 = v228 + v218 \n",
      "    del v218, v228\n",
      "    v4.v0 = v231\n",
      "    del v231\n",
      "    v237 = \" }\"\n",
      "    v238 = f\"{v237}\"\n",
      "    del v237\n",
      "    v248 = v4.v0\n",
      "    v251 = v248 + v238 \n",
      "    del v238, v248\n",
      "    v4.v0 = v251\n",
      "    del v251\n",
      "    v253 = v4.v0\n",
      "    del v4\n",
      "    return v253\n",
      "def method0() -> None:\n",
      "    v0 = method1()\n",
      "    v1 = 9\n",
      "    v2 = method2(v0, v1)\n",
      "    del v0, v1\n",
      "    v3 = v2 + 2\n",
      "    del v2\n",
      "    v4 = v3 + 1\n",
      "    del v3\n",
      "    v5 = v4 == 15\n",
      "    if v5:\n",
      "        v7 = True\n",
      "    else:\n",
      "        v7 = method3(v5)\n",
      "    del v5\n",
      "    v8 = \"__assert_eq\"\n",
      "    v9 = 15\n",
      "    v10 = method4(v8, v4, v9)\n",
      "    del v4, v8, v9\n",
      "    print(v10)\n",
      "    v16 = v7 == False\n",
      "    del v7\n",
      "    if v16:\n",
      "        del v16\n",
      "        raise Exception(v10)\n",
      "    else:\n",
      "        del v10, v16\n",
      "        return \n",
      "# main_defs\n",
      "def main_body():\n",
      "    return method0()\n",
      "\n",
      "def main():\n",
      "    r = main_body()\n",
      "    if cuda: cp.cuda.get_current_stream().synchronize() # This line is here so the `__trap()` calls on the kernel aren't missed.\n",
      "    return r\n",
      "\n",
      "if __name__ == '__main__': result = main(); None if result is None else print(result)\n",
      "\n",
      ".fsx output:\n",
      "{ name = __assert_eq; actual = 15; expected = 15 }\n"
     ]
    }
   ],
   "source": [
    "//// test\n",
    "///! gleam\n",
    "///! fsharp\n",
    "///! cuda\n",
    "///! rust\n",
    "///! typescript\n",
    "///! python\n",
    "//// print_code\n",
    "\n",
    "[ 5i32; 4; join 3; 2; 1 ]\n",
    "|> fold_list (join_body (+)) 0\n",
    "|> _assert_eq 15"
   ]
  },
  {
   "cell_type": "markdown",
   "metadata": {},
   "source": [
    "### join_body_unit"
   ]
  },
  {
   "cell_type": "code",
   "execution_count": null,
   "metadata": {
    "dotnet_interactive": {
     "language": "spiral"
    },
    "polyglot_notebook": {
     "kernelName": "spiral"
    }
   },
   "outputs": [],
   "source": [
    "inl join_body_unit body d x =\n",
    "    if var_is d |> not\n",
    "    then body x\n",
    "    else\n",
    "        inl x = dyn x\n",
    "        join body x"
   ]
  },
  {
   "cell_type": "code",
   "execution_count": null,
   "metadata": {
    "dotnet_interactive": {
     "language": "spiral"
    },
    "polyglot_notebook": {
     "kernelName": "spiral"
    }
   },
   "outputs": [
    {
     "data": {
      "text/plain": [
       ".py output (Python):\n",
       "{ name = __assert_eq; actual = 15; expected = 15 }\n",
       "\n",
       ".rs output:\n",
       "{ name = __assert_eq; actual = 15; expected = 15 }\n",
       "\n",
       ".ts output:\n",
       "{ name = __assert_eq; actual = 15; expected = 15 }\n",
       "\n",
       ".py output:\n",
       "{ name = __assert_eq; actual = 15; expected = 15 }\n",
       "\n",
       "\n",
       ".gleam output (Gleam):\n",
       "{compiling,\"/home/runner/work/spiral/polyglot/target/spiral_Eval/packages/42bdad1b94a0f1be4af250102ba358dcdc851be06b603d99f5dcd83cb491e9dd/build/dev/erlang/main/_gleam_artefacts/main@@main.erl\"}\n",
       "{compiling,\"/home/runner/work/spiral/polyglot/target/spiral_Eval/packages/42bdad1b94a0f1be4af250102ba358dcdc851be06b603d99f5dcd83cb491e9dd/build/dev/erlang/main/_gleam_artefacts/main.erl\"}\n",
       "{compiled,main,\n",
       "          \"/home/runner/work/spiral/polyglot/target/spiral_Eval/packages/42bdad1b94a0f1be4af250102ba358dcdc851be06b603d99f5dcd83cb491e9dd/build/dev/erlang/main/ebin/main.beam\"}\n",
       "{compiled,main@@main,\n",
       "          \"/home/runner/work/spiral/polyglot/target/spiral_Eval/packages/42bdad1b94a0f1be4af250102ba358dcdc851be06b603d99f5dcd83cb491e9dd/build/dev/erlang/main/ebin/main@@main.beam\"}\n",
       "{ name = __assert_eq; actual = 15; expected = 15 }\n",
       "\n",
       "\n",
       "\n",
       "\n"
      ]
     },
     "metadata": {},
     "output_type": "display_data"
    },
    {
     "name": "stdout",
     "output_type": "stream",
     "text": [
      ".gleam (Gleam):\n",
      "import gleam/string\n",
      "import gleam/io\n",
      "pub type Mut0 { Mut0(l0 : String) }\n",
      "pub fn method1 () -> Int {\n",
      "    3\n",
      "}\n",
      "pub fn method2 (v0 :    Int) -> Int {\n",
      "    let v1 = 9 + v0\n",
      "    v1\n",
      "}\n",
      "pub fn method3 (v0 :    Bool) -> Bool {\n",
      "    v0\n",
      "}\n",
      "pub fn method5 () -> String {\n",
      "    let v0 = \"\"\n",
      "    v0\n",
      "}\n",
      "pub fn method4 (v0 :    String, v1 :    Int, v2 :    Int) -> String {\n",
      "    let v3 = method5()\n",
      "    let v4 = Mut0(l0 :  v3)\n",
      "    let v5 = \"{ \"\n",
      "    let v6 = v5 \n",
      "    let v10 = v4.l0 \n",
      "    let v11 = v10 <> v6 \n",
      "    let v4 = Mut0(l0: v11)\n",
      "    let v23 = \"name\"\n",
      "    let v24 = v23 \n",
      "    let v28 = v4.l0 \n",
      "    let v29 = v28 <> v24 \n",
      "    let v4 = Mut0(l0: v29)\n",
      "    let v41 = \" = \"\n",
      "    let v42 = v41 \n",
      "    let v46 = v4.l0 \n",
      "    let v47 = v46 <> v42 \n",
      "    let v4 = Mut0(l0: v47)\n",
      "    let v59 = v0 \n",
      "    let v63 = v4.l0 \n",
      "    let v64 = v63 <> v59 \n",
      "    let v4 = Mut0(l0: v64)\n",
      "    let v76 = \"; \"\n",
      "    let v77 = v76 \n",
      "    let v81 = v4.l0 \n",
      "    let v82 = v81 <> v77 \n",
      "    let v4 = Mut0(l0: v82)\n",
      "    let v94 = \"actual\"\n",
      "    let v95 = v94 \n",
      "    let v99 = v4.l0 \n",
      "    let v100 = v99 <> v95 \n",
      "    let v4 = Mut0(l0: v100)\n",
      "    let v112 = v41 \n",
      "    let v116 = v4.l0 \n",
      "    let v117 = v116 <> v112 \n",
      "    let v4 = Mut0(l0: v117)\n",
      "    let v129 = string.inspect(v1)\n",
      "    let v136 = v4.l0 \n",
      "    let v137 = v136 <> v129 \n",
      "    let v4 = Mut0(l0: v137)\n",
      "    let v149 = v76 \n",
      "    let v153 = v4.l0 \n",
      "    let v154 = v153 <> v149 \n",
      "    let v4 = Mut0(l0: v154)\n",
      "    let v166 = \"expected\"\n",
      "    let v167 = v166 \n",
      "    let v171 = v4.l0 \n",
      "    let v172 = v171 <> v167 \n",
      "    let v4 = Mut0(l0: v172)\n",
      "    let v184 = v41 \n",
      "    let v188 = v4.l0 \n",
      "    let v189 = v188 <> v184 \n",
      "    let v4 = Mut0(l0: v189)\n",
      "    let v201 = string.inspect(v2)\n",
      "    let v208 = v4.l0 \n",
      "    let v209 = v208 <> v201 \n",
      "    let v4 = Mut0(l0: v209)\n",
      "    let v221 = \" }\"\n",
      "    let v222 = v221 \n",
      "    let v226 = v4.l0 \n",
      "    let v227 = v226 <> v222 \n",
      "    let v4 = Mut0(l0: v227)\n",
      "    let v239 = v4.l0 \n",
      "    v239\n",
      "}\n",
      "pub fn method0 () -> Nil   {\n",
      "    let v0 = method1()\n",
      "    let v1 = method2(v0)\n",
      "    let v2 = v1 + 2\n",
      "    let v3 = v2 + 1\n",
      "    let v4 = v3 == 15\n",
      "    let v6 =\n",
      "        case v4 {\n",
      "            True -> {\n",
      "                True\n",
      "            }\n",
      "            False -> {\n",
      "                method3(v4)\n",
      "            }\n",
      "        }\n",
      "    let v7 = \"__assert_eq\"\n",
      "    let v8 = 15\n",
      "    let v9 = method4(v7, v3, v8)\n",
      "    io.println(v9)\n",
      "    let v15 = v6 == False\n",
      "    case v15 {\n",
      "        True -> {\n",
      "            panic as v9\n",
      "        }\n",
      "        False -> {\n",
      "        Nil\n",
      "        }\n",
      "    }\n",
      "}\n",
      "pub fn main () { method0()\n",
      " }\n",
      ".fsx:\n",
      "type Mut0 = {mutable l0 : string}\n",
      "let rec method1 () : int32 =\n",
      "    3\n",
      "and method2 (v0 : int32) : int32 =\n",
      "    let v1 : int32 = 9 + v0\n",
      "    v1\n",
      "and method3 (v0 : bool) : bool =\n",
      "    v0\n",
      "and method5 () : string =\n",
      "    let v0 : string = \"\"\n",
      "    v0\n",
      "and closure0 (v0 : Mut0, v1 : string) () : unit =\n",
      "    let v2 : string = v0.l0\n",
      "    let v4 : string = v2 + v1 \n",
      "    v0.l0 <- v4\n",
      "    ()\n",
      "and method4 (v0 : string, v1 : int32, v2 : int32) : string =\n",
      "    let v3 : string = method5()\n",
      "    let v4 : Mut0 = {l0 = v3} : Mut0\n",
      "    let v7 : string = \"{ \"\n",
      "    let v8 : string = $\"{v7}\"\n",
      "    let v16 : unit = ()\n",
      "    let v17 : (unit -> unit) = closure0(v4, v8)\n",
      "    let v18 : unit = (fun () -> v17 (); v16) ()\n",
      "    let v26 : string = \"name\"\n",
      "    let v27 : string = $\"{v26}\"\n",
      "    let v35 : unit = ()\n",
      "    let v36 : (unit -> unit) = closure0(v4, v27)\n",
      "    let v37 : unit = (fun () -> v36 (); v35) ()\n",
      "    let v45 : string = \" = \"\n",
      "    let v46 : string = $\"{v45}\"\n",
      "    let v54 : unit = ()\n",
      "    let v55 : (unit -> unit) = closure0(v4, v46)\n",
      "    let v56 : unit = (fun () -> v55 (); v54) ()\n",
      "    let v63 : string = $\"{v0}\"\n",
      "    let v71 : unit = ()\n",
      "    let v72 : (unit -> unit) = closure0(v4, v63)\n",
      "    let v73 : unit = (fun () -> v72 (); v71) ()\n",
      "    let v81 : string = \"; \"\n",
      "    let v82 : string = $\"{v81}\"\n",
      "    let v90 : unit = ()\n",
      "    let v91 : (unit -> unit) = closure0(v4, v82)\n",
      "    let v92 : unit = (fun () -> v91 (); v90) ()\n",
      "    let v100 : string = \"actual\"\n",
      "    let v101 : string = $\"{v100}\"\n",
      "    let v109 : unit = ()\n",
      "    let v110 : (unit -> unit) = closure0(v4, v101)\n",
      "    let v111 : unit = (fun () -> v110 (); v109) ()\n",
      "    let v118 : string = $\"{v45}\"\n",
      "    let v126 : unit = ()\n",
      "    let v127 : (unit -> unit) = closure0(v4, v118)\n",
      "    let v128 : unit = (fun () -> v127 (); v126) ()\n",
      "    let v138 : string = $\"{v1}\"\n",
      "    let v146 : unit = ()\n",
      "    let v147 : (unit -> unit) = closure0(v4, v138)\n",
      "    let v148 : unit = (fun () -> v147 (); v146) ()\n",
      "    let v155 : string = $\"{v81}\"\n",
      "    let v163 : unit = ()\n",
      "    let v164 : (unit -> unit) = closure0(v4, v155)\n",
      "    let v165 : unit = (fun () -> v164 (); v163) ()\n",
      "    let v173 : string = \"expected\"\n",
      "    let v174 : string = $\"{v173}\"\n",
      "    let v182 : unit = ()\n",
      "    let v183 : (unit -> unit) = closure0(v4, v174)\n",
      "    let v184 : unit = (fun () -> v183 (); v182) ()\n",
      "    let v191 : string = $\"{v45}\"\n",
      "    let v199 : unit = ()\n",
      "    let v200 : (unit -> unit) = closure0(v4, v191)\n",
      "    let v201 : unit = (fun () -> v200 (); v199) ()\n",
      "    let v211 : string = $\"{v2}\"\n",
      "    let v219 : unit = ()\n",
      "    let v220 : (unit -> unit) = closure0(v4, v211)\n",
      "    let v221 : unit = (fun () -> v220 (); v219) ()\n",
      "    let v229 : string = \" }\"\n",
      "    let v230 : string = $\"{v229}\"\n",
      "    let v238 : unit = ()\n",
      "    let v239 : (unit -> unit) = closure0(v4, v230)\n",
      "    let v240 : unit = (fun () -> v239 (); v238) ()\n",
      "    let v246 : string = v4.l0\n",
      "    v246\n",
      "and closure1 (v0 : string) () : unit =\n",
      "    let v1 : (string -> unit) = System.Console.WriteLine\n",
      "    v1 v0\n",
      "and method0 () : unit =\n",
      "    let v0 : int32 = method1()\n",
      "    let v1 : int32 = method2(v0)\n",
      "    let v2 : int32 = v1 + 2\n",
      "    let v3 : int32 = v2 + 1\n",
      "    let v4 : bool = v3 = 15\n",
      "    let v6 : bool =\n",
      "        if v4 then\n",
      "            true\n",
      "        else\n",
      "            method3(v4)\n",
      "    let v7 : string = \"__assert_eq\"\n",
      "    let v8 : int32 = 15\n",
      "    let v9 : string = method4(v7, v3, v8)\n",
      "    let v11 : unit = ()\n",
      "    let v12 : (unit -> unit) = closure1(v9)\n",
      "    let v13 : unit = (fun () -> v12 (); v11) ()\n",
      "    let v15 : bool = v6 = false\n",
      "    if v15 then\n",
      "        failwith<unit> v9\n",
      "method0()\n",
      "\n",
      "\n",
      ".rs:\n",
      "#![allow(dead_code)]\n",
      "#![allow(non_camel_case_types)]\n",
      "#![allow(non_snake_case)]\n",
      "#![allow(non_upper_case_globals)]\n",
      "#![allow(unreachable_code)]\n",
      "#![allow(unused_attributes)]\n",
      "#![allow(unused_imports)]\n",
      "#![allow(unused_macros)]\n",
      "#![allow(unused_parens)]\n",
      "#![allow(unused_variables)]\n",
      "#![allow(unused_assignments)]\n",
      "mod module_6ff740fe {\n",
      "    pub mod Spiral {\n",
      "        use super::*;\n",
      "        use fable_library_rust::Native_::LrcPtr;\n",
      "        use fable_library_rust::Native_::MutCell;\n",
      "        use fable_library_rust::Native_::on_startup;\n",
      "        use fable_library_rust::String_::append;\n",
      "        use fable_library_rust::String_::printfn;\n",
      "        use fable_library_rust::String_::sprintf;\n",
      "        use fable_library_rust::String_::string;\n",
      "        #[derive(Clone, Debug, Hash, PartialEq, PartialOrd)]\n",
      "        pub struct Mut0 {\n",
      "            pub l0: MutCell<string>,\n",
      "        }\n",
      "        impl core::fmt::Display for Mut0 {\n",
      "            fn fmt(&self, f: &mut core::fmt::Formatter) -> core::fmt::Result {\n",
      "                write!(f, \"{}\", core::any::type_name::<Self>())\n",
      "            }\n",
      "        }\n",
      "        pub fn method1() -> i32 {\n",
      "            3_i32\n",
      "        }\n",
      "        pub fn method2(v0: i32) -> i32 {\n",
      "            9_i32 + (v0)\n",
      "        }\n",
      "        pub fn method3(v0: bool) -> bool {\n",
      "            v0\n",
      "        }\n",
      "        pub fn method5() -> string {\n",
      "            string(\"\")\n",
      "        }\n",
      "        pub fn closure0(v0: LrcPtr<Spiral::Mut0>, v1: string, unitVar: ()) {\n",
      "            let v4: string = append((v0.l0.get().clone()), (v1));\n",
      "            v0.l0.set(v4);\n",
      "            ()\n",
      "        }\n",
      "        pub fn method4(v0: string, v1: i32, v2: i32) -> string {\n",
      "            let v4: LrcPtr<Spiral::Mut0> = LrcPtr::new(Spiral::Mut0 {\n",
      "                l0: MutCell::new(Spiral::method5()),\n",
      "            });\n",
      "            let v18: () = {\n",
      "                Spiral::closure0(v4.clone(), string(\"{ \"), ());\n",
      "                ()\n",
      "            };\n",
      "            let v37: () = {\n",
      "                Spiral::closure0(v4.clone(), string(\"name\"), ());\n",
      "                ()\n",
      "            };\n",
      "            let v56: () = {\n",
      "                Spiral::closure0(v4.clone(), string(\" = \"), ());\n",
      "                ()\n",
      "            };\n",
      "            let v73: () = {\n",
      "                Spiral::closure0(v4.clone(), v0, ());\n",
      "                ()\n",
      "            };\n",
      "            let v92: () = {\n",
      "                Spiral::closure0(v4.clone(), string(\"; \"), ());\n",
      "                ()\n",
      "            };\n",
      "            let v111: () = {\n",
      "                Spiral::closure0(v4.clone(), string(\"actual\"), ());\n",
      "                ()\n",
      "            };\n",
      "            let v128: () = {\n",
      "                Spiral::closure0(v4.clone(), string(\" = \"), ());\n",
      "                ()\n",
      "            };\n",
      "            let v148: () = {\n",
      "                Spiral::closure0(v4.clone(), sprintf!(\"{}\", v1), ());\n",
      "                ()\n",
      "            };\n",
      "            let v165: () = {\n",
      "                Spiral::closure0(v4.clone(), string(\"; \"), ());\n",
      "                ()\n",
      "            };\n",
      "            let v184: () = {\n",
      "                Spiral::closure0(v4.clone(), string(\"expected\"), ());\n",
      "                ()\n",
      "            };\n",
      "            let v201: () = {\n",
      "                Spiral::closure0(v4.clone(), string(\" = \"), ());\n",
      "                ()\n",
      "            };\n",
      "            let v221: () = {\n",
      "                Spiral::closure0(v4.clone(), sprintf!(\"{}\", v2), ());\n",
      "                ()\n",
      "            };\n",
      "            let v240: () = {\n",
      "                Spiral::closure0(v4.clone(), string(\" }\"), ());\n",
      "                ()\n",
      "            };\n",
      "            v4.l0.get().clone()\n",
      "        }\n",
      "        pub fn closure1(v0: string, unitVar: ()) {\n",
      "            printfn!(\"{0}\", v0);\n",
      "        }\n",
      "        pub fn method0() {\n",
      "            let v3: i32 = ((Spiral::method2(Spiral::method1())) + 2_i32) + 1_i32;\n",
      "            let v4: bool = (v3) == 15_i32;\n",
      "            let v6: bool = if v4 { true } else { Spiral::method3(v4) };\n",
      "            let v9: string = Spiral::method4(string(\"__assert_eq\"), v3, 15_i32);\n",
      "            let v13: () = {\n",
      "                Spiral::closure1(v9.clone(), ());\n",
      "                ()\n",
      "            };\n",
      "            if (v6) == false {\n",
      "                panic!(\"{}\", v9,);\n",
      "            }\n",
      "        }\n",
      "        // on_startup!(Spiral::method0());\n",
      "    }\n",
      "}\n",
      "pub use module_6ff740fe::*;\n",
      "\n",
      "\n",
      "\n",
      "pub fn main() -> Result<(), String> { Ok(Spiral::method0()) }\n",
      "\n",
      ".ts:\n",
      "import { Record } from \"./fable_modules/fable-library-ts.5.0.0-alpha.9/Types.js\";\n",
      "import { IComparable, IEquatable } from \"./fable_modules/fable-library-ts.5.0.0-alpha.9/Util.js\";\n",
      "import { record_type, string_type, TypeInfo } from \"./fable_modules/fable-library-ts.5.0.0-alpha.9/Reflection.js\";\n",
      "import { int32 } from \"./fable_modules/fable-library-ts.5.0.0-alpha.9/Int32.js\";\n",
      "\n",
      "export class Mut0 extends Record implements IEquatable<Mut0>, IComparable<Mut0> {\n",
      "    l0: string;\n",
      "    constructor(l0: string) {\n",
      "        super();\n",
      "        this.l0 = l0;\n",
      "    }\n",
      "}\n",
      "\n",
      "export function Mut0_$reflection(): TypeInfo {\n",
      "    return record_type(\"Spiral.Mut0\", [], Mut0, () => [[\"l0\", string_type]]);\n",
      "}\n",
      "\n",
      "export function method1(): int32 {\n",
      "    return 3;\n",
      "}\n",
      "\n",
      "export function method2(v0: int32): int32 {\n",
      "    return 9 + v0;\n",
      "}\n",
      "\n",
      "export function method3(v0: boolean): boolean {\n",
      "    return v0;\n",
      "}\n",
      "\n",
      "export function method5(): string {\n",
      "    return \"\";\n",
      "}\n",
      "\n",
      "export function closure0(v0: Mut0, v1: string, unitVar: void): void {\n",
      "    const v4: string = v0.l0 + v1;\n",
      "    v0.l0 = v4;\n",
      "}\n",
      "\n",
      "export function method4(v0: string, v1: int32, v2: int32): string {\n",
      "    const v4: Mut0 = new Mut0(method5());\n",
      "    let v18: any;\n",
      "    closure0(v4, \"{ \", undefined);\n",
      "    v18 = undefined;\n",
      "    let v37: any;\n",
      "    closure0(v4, \"name\", undefined);\n",
      "    v37 = undefined;\n",
      "    let v56: any;\n",
      "    closure0(v4, \" = \", undefined);\n",
      "    v56 = undefined;\n",
      "    let v73: any;\n",
      "    closure0(v4, v0, undefined);\n",
      "    v73 = undefined;\n",
      "    let v92: any;\n",
      "    closure0(v4, \"; \", undefined);\n",
      "    v92 = undefined;\n",
      "    let v111: any;\n",
      "    closure0(v4, \"actual\", undefined);\n",
      "    v111 = undefined;\n",
      "    let v128: any;\n",
      "    closure0(v4, \" = \", undefined);\n",
      "    v128 = undefined;\n",
      "    let v148: any;\n",
      "    closure0(v4, `${v1}`, undefined);\n",
      "    v148 = undefined;\n",
      "    let v165: any;\n",
      "    closure0(v4, \"; \", undefined);\n",
      "    v165 = undefined;\n",
      "    let v184: any;\n",
      "    closure0(v4, \"expected\", undefined);\n",
      "    v184 = undefined;\n",
      "    let v201: any;\n",
      "    closure0(v4, \" = \", undefined);\n",
      "    v201 = undefined;\n",
      "    let v221: any;\n",
      "    closure0(v4, `${v2}`, undefined);\n",
      "    v221 = undefined;\n",
      "    let v240: any;\n",
      "    closure0(v4, \" }\", undefined);\n",
      "    v240 = undefined;\n",
      "    return v4.l0;\n",
      "}\n",
      "\n",
      "export function closure1(v0: string, unitVar: void): void {\n",
      "    console.log(v0);\n",
      "}\n",
      "\n",
      "export function method0(): void {\n",
      "    const v3: int32 = ((method2(method1()) + 2) + 1) | 0;\n",
      "    const v4: boolean = v3 === 15;\n",
      "    const v6: boolean = v4 ? true : method3(v4);\n",
      "    const v9: string = method4(\"__assert_eq\", v3, 15);\n",
      "    let v13: any;\n",
      "    closure1(v9, undefined);\n",
      "    v13 = undefined;\n",
      "    if (v6 === false) {\n",
      "        throw new Error(v9);\n",
      "    }\n",
      "}\n",
      "\n",
      "method0();\n",
      "\n",
      "\n",
      ".py:\n",
      "from __future__ import annotations\n",
      "from dataclasses import dataclass\n",
      "from fable_modules.fable_library.reflection import (TypeInfo, string_type, record_type)\n",
      "from fable_modules.fable_library.types import Record\n",
      "\n",
      "def _expr0() -> TypeInfo:\n",
      "    return record_type(\"Spiral.Mut0\", [], Mut0, lambda: [(\"l0\", string_type)])\n",
      "\n",
      "\n",
      "@dataclass(eq = False, repr = False, slots = True)\n",
      "class Mut0(Record):\n",
      "    l0: str\n",
      "\n",
      "Mut0_reflection = _expr0\n",
      "\n",
      "def method1(__unit: None=None) -> int:\n",
      "    return 3\n",
      "\n",
      "\n",
      "def method2(v0: int) -> int:\n",
      "    return 9 + v0\n",
      "\n",
      "\n",
      "def method3(v0: bool) -> bool:\n",
      "    return v0\n",
      "\n",
      "\n",
      "def method5(__unit: None=None) -> str:\n",
      "    return \"\"\n",
      "\n",
      "\n",
      "def closure0(v0: Mut0, v1: str, unit_var: None) -> None:\n",
      "    v4: str = v0.l0 + v1\n",
      "    v0.l0 = v4\n",
      "\n",
      "\n",
      "def method4(v0: str, v1: int, v2: int) -> str:\n",
      "    v4: Mut0 = Mut0(method5())\n",
      "    v18: None\n",
      "    closure0(v4, \"{ \", None)\n",
      "    v18 = None\n",
      "    v37: None\n",
      "    closure0(v4, \"name\", None)\n",
      "    v37 = None\n",
      "    v56: None\n",
      "    closure0(v4, \" = \", None)\n",
      "    v56 = None\n",
      "    v73: None\n",
      "    closure0(v4, v0, None)\n",
      "    v73 = None\n",
      "    v92: None\n",
      "    closure0(v4, \"; \", None)\n",
      "    v92 = None\n",
      "    v111: None\n",
      "    closure0(v4, \"actual\", None)\n",
      "    v111 = None\n",
      "    v128: None\n",
      "    closure0(v4, \" = \", None)\n",
      "    v128 = None\n",
      "    v148: None\n",
      "    closure0(v4, (\"\" + str(v1)) + \"\", None)\n",
      "    v148 = None\n",
      "    v165: None\n",
      "    closure0(v4, \"; \", None)\n",
      "    v165 = None\n",
      "    v184: None\n",
      "    closure0(v4, \"expected\", None)\n",
      "    v184 = None\n",
      "    v201: None\n",
      "    closure0(v4, \" = \", None)\n",
      "    v201 = None\n",
      "    v221: None\n",
      "    closure0(v4, (\"\" + str(v2)) + \"\", None)\n",
      "    v221 = None\n",
      "    v240: None\n",
      "    closure0(v4, \" }\", None)\n",
      "    v240 = None\n",
      "    return v4.l0\n",
      "\n",
      "\n",
      "def closure1(v0: str, unit_var: None) -> None:\n",
      "    print(v0)\n",
      "\n",
      "\n",
      "def method0(__unit: None=None) -> None:\n",
      "    v3: int = ((method2(method1()) + 2) + 1) or 0\n",
      "    v4: bool = v3 == 15\n",
      "    v6: bool = True if v4 else method3(v4)\n",
      "    v9: str = method4(\"__assert_eq\", v3, 15)\n",
      "    v13: None\n",
      "    closure1(v9, None)\n",
      "    v13 = None\n",
      "    if v6 == False:\n",
      "        raise Exception(v9)\n",
      "\n",
      "\n",
      "\n",
      "method0()\n",
      "\n",
      "\n",
      ".py (Python):\n",
      "kernels_main = r\"\"\"\n",
      "\"\"\"\n",
      "from main_auto import *\n",
      "kernels = kernels_aux + kernels_main\n",
      "import cupy as cp\n",
      "import numpy as np\n",
      "from dataclasses import dataclass\n",
      "from typing import NamedTuple, Union, Callable, Tuple\n",
      "i8 = int; i16 = int; i32 = int; i64 = int; u8 = int; u16 = int; u32 = int; u64 = int; f32 = float; f64 = float; char = str; string = str\n",
      "cuda = False\n",
      "\n",
      "\n",
      "# fwd_dcls\n",
      "# types\n",
      "@dataclass\n",
      "class Mut0:\n",
      "    v0 : string\n",
      "# functions\n",
      "def method1() -> i32:\n",
      "    return 3\n",
      "def method2(v0 : i32) -> i32:\n",
      "    v1 = 9 + v0\n",
      "    del v0\n",
      "    return v1\n",
      "def method3(v0 : bool) -> bool:\n",
      "    return v0\n",
      "def method5() -> string:\n",
      "    v0 = \"\"\n",
      "    return v0\n",
      "def method4(v0 : string, v1 : i32, v2 : i32) -> string:\n",
      "    v3 = method5()\n",
      "    v4 = Mut0(v3)\n",
      "    del v3\n",
      "    v9 = \"{ \"\n",
      "    v10 = f\"{v9}\"\n",
      "    del v9\n",
      "    v20 = v4.v0\n",
      "    v23 = v20 + v10 \n",
      "    del v10, v20\n",
      "    v4.v0 = v23\n",
      "    del v23\n",
      "    v29 = \"name\"\n",
      "    v30 = f\"{v29}\"\n",
      "    del v29\n",
      "    v40 = v4.v0\n",
      "    v43 = v40 + v30 \n",
      "    del v30, v40\n",
      "    v4.v0 = v43\n",
      "    del v43\n",
      "    v49 = \" = \"\n",
      "    v50 = f\"{v49}\"\n",
      "    v60 = v4.v0\n",
      "    v63 = v60 + v50 \n",
      "    del v50, v60\n",
      "    v4.v0 = v63\n",
      "    del v63\n",
      "    v67 = f\"{v0}\"\n",
      "    del v0\n",
      "    v77 = v4.v0\n",
      "    v80 = v77 + v67 \n",
      "    del v67, v77\n",
      "    v4.v0 = v80\n",
      "    del v80\n",
      "    v86 = \"; \"\n",
      "    v87 = f\"{v86}\"\n",
      "    v97 = v4.v0\n",
      "    v100 = v97 + v87 \n",
      "    del v87, v97\n",
      "    v4.v0 = v100\n",
      "    del v100\n",
      "    v106 = \"actual\"\n",
      "    v107 = f\"{v106}\"\n",
      "    del v106\n",
      "    v117 = v4.v0\n",
      "    v120 = v117 + v107 \n",
      "    del v107, v117\n",
      "    v4.v0 = v120\n",
      "    del v120\n",
      "    v124 = f\"{v49}\"\n",
      "    v134 = v4.v0\n",
      "    v137 = v134 + v124 \n",
      "    del v124, v134\n",
      "    v4.v0 = v137\n",
      "    del v137\n",
      "    v144 = f\"{v1}\"\n",
      "    del v1\n",
      "    v154 = v4.v0\n",
      "    v157 = v154 + v144 \n",
      "    del v144, v154\n",
      "    v4.v0 = v157\n",
      "    del v157\n",
      "    v161 = f\"{v86}\"\n",
      "    del v86\n",
      "    v171 = v4.v0\n",
      "    v174 = v171 + v161 \n",
      "    del v161, v171\n",
      "    v4.v0 = v174\n",
      "    del v174\n",
      "    v180 = \"expected\"\n",
      "    v181 = f\"{v180}\"\n",
      "    del v180\n",
      "    v191 = v4.v0\n",
      "    v194 = v191 + v181 \n",
      "    del v181, v191\n",
      "    v4.v0 = v194\n",
      "    del v194\n",
      "    v198 = f\"{v49}\"\n",
      "    del v49\n",
      "    v208 = v4.v0\n",
      "    v211 = v208 + v198 \n",
      "    del v198, v208\n",
      "    v4.v0 = v211\n",
      "    del v211\n",
      "    v218 = f\"{v2}\"\n",
      "    del v2\n",
      "    v228 = v4.v0\n",
      "    v231 = v228 + v218 \n",
      "    del v218, v228\n",
      "    v4.v0 = v231\n",
      "    del v231\n",
      "    v237 = \" }\"\n",
      "    v238 = f\"{v237}\"\n",
      "    del v237\n",
      "    v248 = v4.v0\n",
      "    v251 = v248 + v238 \n",
      "    del v238, v248\n",
      "    v4.v0 = v251\n",
      "    del v251\n",
      "    v253 = v4.v0\n",
      "    del v4\n",
      "    return v253\n",
      "def method0() -> None:\n",
      "    v0 = method1()\n",
      "    v1 = method2(v0)\n",
      "    del v0\n",
      "    v2 = v1 + 2\n",
      "    del v1\n",
      "    v3 = v2 + 1\n",
      "    del v2\n",
      "    v4 = v3 == 15\n",
      "    if v4:\n",
      "        v6 = True\n",
      "    else:\n",
      "        v6 = method3(v4)\n",
      "    del v4\n",
      "    v7 = \"__assert_eq\"\n",
      "    v8 = 15\n",
      "    v9 = method4(v7, v3, v8)\n",
      "    del v3, v7, v8\n",
      "    print(v9)\n",
      "    v15 = v6 == False\n",
      "    del v6\n",
      "    if v15:\n",
      "        del v15\n",
      "        raise Exception(v9)\n",
      "    else:\n",
      "        del v9, v15\n",
      "        return \n",
      "# main_defs\n",
      "def main_body():\n",
      "    return method0()\n",
      "\n",
      "def main():\n",
      "    r = main_body()\n",
      "    if cuda: cp.cuda.get_current_stream().synchronize() # This line is here so the `__trap()` calls on the kernel aren't missed.\n",
      "    return r\n",
      "\n",
      "if __name__ == '__main__': result = main(); None if result is None else print(result)\n",
      "\n",
      ".fsx output:\n",
      "{ name = __assert_eq; actual = 15; expected = 15 }\n"
     ]
    }
   ],
   "source": [
    "//// test\n",
    "///! gleam\n",
    "///! fsharp\n",
    "///! cuda\n",
    "///! rust\n",
    "///! typescript\n",
    "///! python\n",
    "//// print_code\n",
    "\n",
    "[ 5i32; 4; join 3; 2; 1 ]\n",
    "|> fold_list (fun acc n => join_body_unit ((+) acc) n n) 0\n",
    "|> _assert_eq 15"
   ]
  },
  {
   "cell_type": "markdown",
   "metadata": {},
   "source": [
    "### (+.)"
   ]
  },
  {
   "cell_type": "code",
   "execution_count": null,
   "metadata": {
    "dotnet_interactive": {
     "language": "spiral"
    },
    "polyglot_notebook": {
     "kernelName": "spiral"
    }
   },
   "outputs": [],
   "source": [
    "inl (+.) forall t. (a : t) (b : t) : t =\n",
    "    $'!a + !b '"
   ]
  },
  {
   "cell_type": "code",
   "execution_count": null,
   "metadata": {
    "dotnet_interactive": {
     "language": "spiral"
    },
    "polyglot_notebook": {
     "kernelName": "spiral"
    }
   },
   "outputs": [
    {
     "data": {
      "text/plain": [
       ".py output (Python):\n",
       "{ name = __assert_eq; actual = -3; expected = -3 }\n",
       "\n",
       ".rs output:\n",
       "{ name = __assert_eq; actual = -3; expected = -3 }\n",
       "\n",
       ".ts output:\n",
       "{ name = __assert_eq; actual = -3; expected = -3 }\n",
       "\n",
       ".py output:\n",
       "{ name = __assert_eq; actual = -3; expected = -3 }\n",
       "\n",
       "\n",
       ".gleam output (Gleam):\n",
       "{compiling,\"/home/runner/work/spiral/polyglot/target/spiral_Eval/packages/bc9721d4b9a7c16fd889fb325b2bb95e57739f87625950b0373ba5e5f3d8887d/build/dev/erlang/main/_gleam_artefacts/main@@main.erl\"}\n",
       "{compiling,\"/home/runner/work/spiral/polyglot/target/spiral_Eval/packages/bc9721d4b9a7c16fd889fb325b2bb95e57739f87625950b0373ba5e5f3d8887d/build/dev/erlang/main/_gleam_artefacts/main.erl\"}\n",
       "{compiled,main,\n",
       "          \"/home/runner/work/spiral/polyglot/target/spiral_Eval/packages/bc9721d4b9a7c16fd889fb325b2bb95e57739f87625950b0373ba5e5f3d8887d/build/dev/erlang/main/ebin/main.beam\"}\n",
       "{compiled,main@@main,\n",
       "          \"/home/runner/work/spiral/polyglot/target/spiral_Eval/packages/bc9721d4b9a7c16fd889fb325b2bb95e57739f87625950b0373ba5e5f3d8887d/build/dev/erlang/main/ebin/main@@main.beam\"}\n",
       "{ name = __assert_eq; actual = -3; expected = -3 }\n",
       "\n",
       "\n"
      ]
     },
     "metadata": {},
     "output_type": "display_data"
    },
    {
     "name": "stdout",
     "output_type": "stream",
     "text": [
      ".fsx output:\n",
      "{ name = __assert_eq; actual = -3; expected = -3 }\n"
     ]
    }
   ],
   "source": [
    "//// test\n",
    "///! gleam\n",
    "///! fsharp\n",
    "///! cuda\n",
    "///! rust\n",
    "///! typescript\n",
    "///! python\n",
    "\n",
    "($'3' : i32) +. ($'-6' : i32)\n",
    "|> _assert_eq -3i32"
   ]
  },
  {
   "cell_type": "markdown",
   "metadata": {},
   "source": [
    "### (-.)"
   ]
  },
  {
   "cell_type": "code",
   "execution_count": null,
   "metadata": {
    "dotnet_interactive": {
     "language": "spiral"
    },
    "polyglot_notebook": {
     "kernelName": "spiral"
    }
   },
   "outputs": [],
   "source": [
    "inl (-.) forall t. (a : t) (b : t) : t =\n",
    "    $'!a - !b '"
   ]
  },
  {
   "cell_type": "code",
   "execution_count": null,
   "metadata": {
    "dotnet_interactive": {
     "language": "spiral"
    },
    "polyglot_notebook": {
     "kernelName": "spiral"
    }
   },
   "outputs": [
    {
     "data": {
      "text/plain": [
       ".py output (Python):\n",
       "{ name = __assert_eq; actual = -3; expected = -3 }\n",
       "\n",
       ".rs output:\n",
       "{ name = __assert_eq; actual = -3; expected = -3 }\n",
       "\n",
       ".ts output:\n",
       "{ name = __assert_eq; actual = -3; expected = -3 }\n",
       "\n",
       ".py output:\n",
       "{ name = __assert_eq; actual = -3; expected = -3 }\n",
       "\n",
       "\n",
       ".gleam output (Gleam):\n",
       "{compiling,\"/home/runner/work/spiral/polyglot/target/spiral_Eval/packages/f92908db8ee53be643362e5008769bb5058b0317380d56f1a3830e0b9bcc0c82/build/dev/erlang/main/_gleam_artefacts/main@@main.erl\"}\n",
       "{compiling,\"/home/runner/work/spiral/polyglot/target/spiral_Eval/packages/f92908db8ee53be643362e5008769bb5058b0317380d56f1a3830e0b9bcc0c82/build/dev/erlang/main/_gleam_artefacts/main.erl\"}\n",
       "{compiled,main,\n",
       "          \"/home/runner/work/spiral/polyglot/target/spiral_Eval/packages/f92908db8ee53be643362e5008769bb5058b0317380d56f1a3830e0b9bcc0c82/build/dev/erlang/main/ebin/main.beam\"}\n",
       "{compiled,main@@main,\n",
       "          \"/home/runner/work/spiral/polyglot/target/spiral_Eval/packages/f92908db8ee53be643362e5008769bb5058b0317380d56f1a3830e0b9bcc0c82/build/dev/erlang/main/ebin/main@@main.beam\"}\n",
       "{ name = __assert_eq; actual = -3; expected = -3 }\n",
       "\n",
       "\n"
      ]
     },
     "metadata": {},
     "output_type": "display_data"
    },
    {
     "name": "stdout",
     "output_type": "stream",
     "text": [
      ".fsx output:\n",
      "{ name = __assert_eq; actual = -3; expected = -3 }\n"
     ]
    }
   ],
   "source": [
    "//// test\n",
    "///! gleam\n",
    "///! fsharp\n",
    "///! cuda\n",
    "///! rust\n",
    "///! typescript\n",
    "///! python\n",
    "\n",
    "($'3' : i32) -. ($'6' : i32)\n",
    "|> _assert_eq -3i32"
   ]
  },
  {
   "cell_type": "markdown",
   "metadata": {},
   "source": [
    "### (*.)"
   ]
  },
  {
   "cell_type": "code",
   "execution_count": null,
   "metadata": {
    "dotnet_interactive": {
     "language": "spiral"
    },
    "polyglot_notebook": {
     "kernelName": "spiral"
    }
   },
   "outputs": [],
   "source": [
    "inl (*.) forall t. (a : t) (b : t) : t =\n",
    "    $'!a * !b '"
   ]
  },
  {
   "cell_type": "code",
   "execution_count": null,
   "metadata": {
    "dotnet_interactive": {
     "language": "spiral"
    },
    "polyglot_notebook": {
     "kernelName": "spiral"
    }
   },
   "outputs": [
    {
     "data": {
      "text/plain": [
       ".py output (Python):\n",
       "{ name = __assert_eq; actual = -3; expected = -3 }\n",
       "\n",
       ".rs output:\n",
       "{ name = __assert_eq; actual = -3; expected = -3 }\n",
       "\n",
       ".ts output:\n",
       "{ name = __assert_eq; actual = -3; expected = -3 }\n",
       "\n",
       ".py output:\n",
       "{ name = __assert_eq; actual = -3; expected = -3 }\n",
       "\n",
       "\n",
       ".gleam output (Gleam):\n",
       "{compiling,\"/home/runner/work/spiral/polyglot/target/spiral_Eval/packages/8283a24853e8cdbc7f00e5e3f041b621b430bdb2af7ce40d6a225410ec97f050/build/dev/erlang/main/_gleam_artefacts/main@@main.erl\"}\n",
       "{compiling,\"/home/runner/work/spiral/polyglot/target/spiral_Eval/packages/8283a24853e8cdbc7f00e5e3f041b621b430bdb2af7ce40d6a225410ec97f050/build/dev/erlang/main/_gleam_artefacts/main.erl\"}\n",
       "{compiled,main,\n",
       "          \"/home/runner/work/spiral/polyglot/target/spiral_Eval/packages/8283a24853e8cdbc7f00e5e3f041b621b430bdb2af7ce40d6a225410ec97f050/build/dev/erlang/main/ebin/main.beam\"}\n",
       "{compiled,main@@main,\n",
       "          \"/home/runner/work/spiral/polyglot/target/spiral_Eval/packages/8283a24853e8cdbc7f00e5e3f041b621b430bdb2af7ce40d6a225410ec97f050/build/dev/erlang/main/ebin/main@@main.beam\"}\n",
       "{ name = __assert_eq; actual = -3; expected = -3 }\n",
       "\n",
       "\n"
      ]
     },
     "metadata": {},
     "output_type": "display_data"
    },
    {
     "name": "stdout",
     "output_type": "stream",
     "text": [
      ".fsx output:\n",
      "{ name = __assert_eq; actual = -3; expected = -3 }\n"
     ]
    }
   ],
   "source": [
    "//// test\n",
    "///! gleam\n",
    "///! fsharp\n",
    "///! cuda\n",
    "///! rust\n",
    "///! typescript\n",
    "///! python\n",
    "\n",
    "($'3' : i32) *. ($'-1' : i32)\n",
    "|> _assert_eq -3i32"
   ]
  },
  {
   "cell_type": "markdown",
   "metadata": {},
   "source": [
    "### (/.)"
   ]
  },
  {
   "cell_type": "code",
   "execution_count": null,
   "metadata": {
    "dotnet_interactive": {
     "language": "spiral"
    },
    "polyglot_notebook": {
     "kernelName": "spiral"
    }
   },
   "outputs": [],
   "source": [
    "inl (/.) forall t. (a : t) (b : t) : t =\n",
    "    $'!a / !b '"
   ]
  },
  {
   "cell_type": "code",
   "execution_count": null,
   "metadata": {
    "dotnet_interactive": {
     "language": "spiral"
    },
    "polyglot_notebook": {
     "kernelName": "spiral"
    }
   },
   "outputs": [
    {
     "data": {
      "text/plain": [
       ".py output (Python):\n",
       "{ name = __assert_eq; actual = -3.0; expected = -3 }\n",
       "\n",
       ".rs output:\n",
       "{ name = __assert_eq; actual = -3; expected = -3 }\n",
       "\n",
       ".ts output:\n",
       "{ name = __assert_eq; actual = -3; expected = -3 }\n",
       "\n",
       ".py output:\n",
       "{ name = __assert_eq; actual = -3; expected = -3 }\n",
       "\n",
       "\n",
       ".gleam output (Gleam):\n",
       "{compiling,\"/home/runner/work/spiral/polyglot/target/spiral_Eval/packages/ea3c5d060ee5b33328d1d2a38765a926cc8f23da58ce9efe84e907a5165b2640/build/dev/erlang/main/_gleam_artefacts/main@@main.erl\"}\n",
       "{compiling,\"/home/runner/work/spiral/polyglot/target/spiral_Eval/packages/ea3c5d060ee5b33328d1d2a38765a926cc8f23da58ce9efe84e907a5165b2640/build/dev/erlang/main/_gleam_artefacts/main.erl\"}\n",
       "{compiled,main,\n",
       "          \"/home/runner/work/spiral/polyglot/target/spiral_Eval/packages/ea3c5d060ee5b33328d1d2a38765a926cc8f23da58ce9efe84e907a5165b2640/build/dev/erlang/main/ebin/main.beam\"}\n",
       "{compiled,main@@main,\n",
       "          \"/home/runner/work/spiral/polyglot/target/spiral_Eval/packages/ea3c5d060ee5b33328d1d2a38765a926cc8f23da58ce9efe84e907a5165b2640/build/dev/erlang/main/ebin/main@@main.beam\"}\n",
       "{ name = __assert_eq; actual = -3; expected = -3 }\n",
       "\n",
       "\n"
      ]
     },
     "metadata": {},
     "output_type": "display_data"
    },
    {
     "name": "stdout",
     "output_type": "stream",
     "text": [
      ".fsx output:\n",
      "{ name = __assert_eq; actual = -3; expected = -3 }\n"
     ]
    }
   ],
   "source": [
    "//// test\n",
    "///! gleam\n",
    "///! fsharp\n",
    "///! cuda\n",
    "///! rust\n",
    "///! typescript\n",
    "///! python\n",
    "\n",
    "($'-3' : i32) /. ($'1' : i32)\n",
    "|> _assert_eq -3i32"
   ]
  },
  {
   "cell_type": "markdown",
   "metadata": {},
   "source": [
    "### (=.)"
   ]
  },
  {
   "cell_type": "code",
   "execution_count": null,
   "metadata": {
    "dotnet_interactive": {
     "language": "spiral"
    },
    "polyglot_notebook": {
     "kernelName": "spiral"
    }
   },
   "outputs": [],
   "source": [
    "inl (=.) forall t. (a : t) (b : t) : bool =\n",
    "    backend_switch {\n",
    "        Gleam = fun () => $'!a == !b ' : bool\n",
    "        Fsharp = fun () => $'!a = !b ' : bool\n",
    "        Python = fun () => $'!a == !b ' : bool\n",
    "    }"
   ]
  },
  {
   "cell_type": "code",
   "execution_count": null,
   "metadata": {
    "dotnet_interactive": {
     "language": "spiral"
    },
    "polyglot_notebook": {
     "kernelName": "spiral"
    }
   },
   "outputs": [
    {
     "data": {
      "text/plain": [
       ".py output (Python):\n",
       "{ name = __assert_eq; actual = true; expected = true }\n",
       "\n",
       ".rs output:\n",
       "{ name = __assert_eq; actual = true; expected = true }\n",
       "\n",
       ".ts output:\n",
       "{ name = __assert_eq; actual = true; expected = true }\n",
       "\n",
       ".py output:\n",
       "{ name = __assert_eq; actual = true; expected = true }\n",
       "\n",
       "\n",
       ".gleam output (Gleam):\n",
       "{compiling,\"/home/runner/work/spiral/polyglot/target/spiral_Eval/packages/25fa115467de4a699a594772280adee42a56d85f6633254255ddaecf3c18760b/build/dev/erlang/main/_gleam_artefacts/main@@main.erl\"}\n",
       "{compiling,\"/home/runner/work/spiral/polyglot/target/spiral_Eval/packages/25fa115467de4a699a594772280adee42a56d85f6633254255ddaecf3c18760b/build/dev/erlang/main/_gleam_artefacts/main.erl\"}\n",
       "{compiled,main,\n",
       "          \"/home/runner/work/spiral/polyglot/target/spiral_Eval/packages/25fa115467de4a699a594772280adee42a56d85f6633254255ddaecf3c18760b/build/dev/erlang/main/ebin/main.beam\"}\n",
       "{compiled,main@@main,\n",
       "          \"/home/runner/work/spiral/polyglot/target/spiral_Eval/packages/25fa115467de4a699a594772280adee42a56d85f6633254255ddaecf3c18760b/build/dev/erlang/main/ebin/main@@main.beam\"}\n",
       "{ name = __assert_eq; actual = true; expected = true }\n",
       "\n",
       "\n"
      ]
     },
     "metadata": {},
     "output_type": "display_data"
    },
    {
     "name": "stdout",
     "output_type": "stream",
     "text": [
      ".fsx output:\n",
      "{ name = __assert_eq; actual = true; expected = true }\n"
     ]
    }
   ],
   "source": [
    "//// test\n",
    "///! gleam\n",
    "///! fsharp\n",
    "///! cuda\n",
    "///! rust\n",
    "///! typescript\n",
    "///! python\n",
    "\n",
    "($'-3' : i32) =. ($'-3' : i32)\n",
    "|> _assert_eq true"
   ]
  },
  {
   "cell_type": "markdown",
   "metadata": {},
   "source": [
    "### (<>.)"
   ]
  },
  {
   "cell_type": "code",
   "execution_count": null,
   "metadata": {
    "dotnet_interactive": {
     "language": "spiral"
    },
    "polyglot_notebook": {
     "kernelName": "spiral"
    }
   },
   "outputs": [],
   "source": [
    "inl (<>.) forall t. (a : t) (b : t) : bool =\n",
    "    backend_switch {\n",
    "        Gleam = fun () => $'!a \\!= !b ' : bool\n",
    "        Fsharp = fun () => $'!a <> !b ' : bool\n",
    "        Python = fun () => $'!a \\!= !b ' : bool\n",
    "    }"
   ]
  },
  {
   "cell_type": "code",
   "execution_count": null,
   "metadata": {
    "dotnet_interactive": {
     "language": "spiral"
    },
    "polyglot_notebook": {
     "kernelName": "spiral"
    }
   },
   "outputs": [
    {
     "data": {
      "text/plain": [
       ".py output (Python):\n",
       "{ name = __assert_eq; actual = true; expected = true }\n",
       "\n",
       ".rs output:\n",
       "{ name = __assert_eq; actual = true; expected = true }\n",
       "\n",
       ".ts output:\n",
       "{ name = __assert_eq; actual = true; expected = true }\n",
       "\n",
       ".py output:\n",
       "{ name = __assert_eq; actual = true; expected = true }\n",
       "\n",
       "\n",
       ".gleam output (Gleam):\n",
       "{compiling,\"/home/runner/work/spiral/polyglot/target/spiral_Eval/packages/7397771abc04a65362fa63ed54cd540c9263c95542595c299726d93c9dd92213/build/dev/erlang/main/_gleam_artefacts/main@@main.erl\"}\n",
       "{compiling,\"/home/runner/work/spiral/polyglot/target/spiral_Eval/packages/7397771abc04a65362fa63ed54cd540c9263c95542595c299726d93c9dd92213/build/dev/erlang/main/_gleam_artefacts/main.erl\"}\n",
       "{compiled,main,\n",
       "          \"/home/runner/work/spiral/polyglot/target/spiral_Eval/packages/7397771abc04a65362fa63ed54cd540c9263c95542595c299726d93c9dd92213/build/dev/erlang/main/ebin/main.beam\"}\n",
       "{compiled,main@@main,\n",
       "          \"/home/runner/work/spiral/polyglot/target/spiral_Eval/packages/7397771abc04a65362fa63ed54cd540c9263c95542595c299726d93c9dd92213/build/dev/erlang/main/ebin/main@@main.beam\"}\n",
       "{ name = __assert_eq; actual = true; expected = true }\n",
       "\n",
       "\n"
      ]
     },
     "metadata": {},
     "output_type": "display_data"
    },
    {
     "name": "stdout",
     "output_type": "stream",
     "text": [
      ".fsx output:\n",
      "{ name = __assert_eq; actual = true; expected = true }\n"
     ]
    }
   ],
   "source": [
    "//// test\n",
    "///! gleam\n",
    "///! fsharp\n",
    "///! cuda\n",
    "///! rust\n",
    "///! typescript\n",
    "///! python\n",
    "\n",
    "($'-3' : i32) <>. ($'3' : i32)\n",
    "|> _assert_eq true"
   ]
  },
  {
   "cell_type": "markdown",
   "metadata": {},
   "source": [
    "### (<>..)"
   ]
  },
  {
   "cell_type": "code",
   "execution_count": null,
   "metadata": {
    "dotnet_interactive": {
     "language": "spiral"
    },
    "polyglot_notebook": {
     "kernelName": "spiral"
    }
   },
   "outputs": [],
   "source": [
    "inl (<>..) a b =\n",
    "    fun () => a = b\n",
    "    |> dyn\n",
    "    |> eval\n",
    "    |> not"
   ]
  },
  {
   "cell_type": "code",
   "execution_count": null,
   "metadata": {
    "dotnet_interactive": {
     "language": "spiral"
    },
    "polyglot_notebook": {
     "kernelName": "spiral"
    }
   },
   "outputs": [
    {
     "data": {
      "text/plain": [
       ".py output (Python):\n",
       "{ name = __assert_eq; actual = true; expected = true }\n",
       "\n",
       ".rs output:\n",
       "{ name = __assert_eq; actual = true; expected = true }\n",
       "\n",
       ".ts output:\n",
       "{ name = __assert_eq; actual = true; expected = true }\n",
       "\n",
       ".py output:\n",
       "{ name = __assert_eq; actual = true; expected = true }\n",
       "\n",
       "\n",
       ".gleam output (Gleam):\n",
       "{compiling,\"/home/runner/work/spiral/polyglot/target/spiral_Eval/packages/fe59c9a6b32797aa4583b499d594afc9a0e4b49eeb2be407c34edb60052c852d/build/dev/erlang/main/_gleam_artefacts/main@@main.erl\"}\n",
       "{compiling,\"/home/runner/work/spiral/polyglot/target/spiral_Eval/packages/fe59c9a6b32797aa4583b499d594afc9a0e4b49eeb2be407c34edb60052c852d/build/dev/erlang/main/_gleam_artefacts/main.erl\"}\n",
       "{compiled,main,\n",
       "          \"/home/runner/work/spiral/polyglot/target/spiral_Eval/packages/fe59c9a6b32797aa4583b499d594afc9a0e4b49eeb2be407c34edb60052c852d/build/dev/erlang/main/ebin/main.beam\"}\n",
       "{compiled,main@@main,\n",
       "          \"/home/runner/work/spiral/polyglot/target/spiral_Eval/packages/fe59c9a6b32797aa4583b499d594afc9a0e4b49eeb2be407c34edb60052c852d/build/dev/erlang/main/ebin/main@@main.beam\"}\n",
       "{ name = __assert_eq; actual = true; expected = true }\n",
       "\n",
       "\n"
      ]
     },
     "metadata": {},
     "output_type": "display_data"
    },
    {
     "name": "stdout",
     "output_type": "stream",
     "text": [
      ".fsx output:\n",
      "{ name = __assert_eq; actual = true; expected = true }\n"
     ]
    }
   ],
   "source": [
    "//// test\n",
    "///! gleam\n",
    "///! fsharp\n",
    "///! cuda\n",
    "///! rust\n",
    "///! typescript\n",
    "///! python\n",
    "\n",
    "($'-3' : i32) <>.. ($'3' : i32)\n",
    "|> _assert_eq true"
   ]
  },
  {
   "cell_type": "markdown",
   "metadata": {},
   "source": [
    "### append"
   ]
  },
  {
   "cell_type": "code",
   "execution_count": null,
   "metadata": {
    "dotnet_interactive": {
     "language": "spiral"
    },
    "polyglot_notebook": {
     "kernelName": "spiral"
    }
   },
   "outputs": [],
   "source": [
    "prototype append t : t -> t -> t"
   ]
  },
  {
   "cell_type": "markdown",
   "metadata": {},
   "source": [
    "### (++)"
   ]
  },
  {
   "cell_type": "code",
   "execution_count": null,
   "metadata": {
    "dotnet_interactive": {
     "language": "spiral"
    },
    "polyglot_notebook": {
     "kernelName": "spiral"
    }
   },
   "outputs": [],
   "source": [
    "inl (++) a b =\n",
    "    b |> append a"
   ]
  },
  {
   "cell_type": "markdown",
   "metadata": {},
   "source": [
    "### pair"
   ]
  },
  {
   "cell_type": "code",
   "execution_count": null,
   "metadata": {
    "dotnet_interactive": {
     "language": "spiral"
    },
    "polyglot_notebook": {
     "kernelName": "spiral"
    }
   },
   "outputs": [],
   "source": [
    "type pair_switch a b =\n",
    "    {\n",
    "        Gleam : $'\\#(`a, `b  )'\n",
    "        Fsharp : $'(`a * `b)'\n",
    "        Python : $'(`a, `b)'\n",
    "    }\n",
    "nominal pair a b = $'backend_switch `(pair_switch a b)'\n",
    "\n",
    "inl pair x y =\n",
    "    x, y"
   ]
  },
  {
   "cell_type": "code",
   "execution_count": null,
   "metadata": {
    "dotnet_interactive": {
     "language": "spiral"
    },
    "polyglot_notebook": {
     "kernelName": "spiral"
    }
   },
   "outputs": [
    {
     "data": {
      "text/plain": [
       ".py output (Python):\n",
       "{ name = __assert_eq; actual = 1, 2; expected = 1, 2 }\n",
       "\n",
       ".rs output:\n",
       "{ name = __assert_eq; actual = 1, 2; expected = 1, 2 }\n",
       "\n",
       ".ts output:\n",
       "{ name = __assert_eq; actual = 1, 2; expected = 1, 2 }\n",
       "\n",
       ".py output:\n",
       "{ name = __assert_eq; actual = 1, 2; expected = 1, 2 }\n",
       "\n",
       "\n",
       ".gleam output (Gleam):\n",
       "{compiling,\"/home/runner/work/spiral/polyglot/target/spiral_Eval/packages/4559d029e10f9bc0889608d4828c0de1fe8c7e8b433fbf0a904316112540d342/build/dev/erlang/main/_gleam_artefacts/main.erl\"}\n",
       "{compiling,\"/home/runner/work/spiral/polyglot/target/spiral_Eval/packages/4559d029e10f9bc0889608d4828c0de1fe8c7e8b433fbf0a904316112540d342/build/dev/erlang/main/_gleam_artefacts/main@@main.erl\"}\n",
       "{compiled,main,\n",
       "          \"/home/runner/work/spiral/polyglot/target/spiral_Eval/packages/4559d029e10f9bc0889608d4828c0de1fe8c7e8b433fbf0a904316112540d342/build/dev/erlang/main/ebin/main.beam\"}\n",
       "{compiled,main@@main,\n",
       "          \"/home/runner/work/spiral/polyglot/target/spiral_Eval/packages/4559d029e10f9bc0889608d4828c0de1fe8c7e8b433fbf0a904316112540d342/build/dev/erlang/main/ebin/main@@main.beam\"}\n",
       "{ name = __assert_eq; actual = 1, 2; expected = 1, 2 }\n",
       "\n",
       "\n"
      ]
     },
     "metadata": {},
     "output_type": "display_data"
    },
    {
     "name": "stdout",
     "output_type": "stream",
     "text": [
      ".fsx output:\n",
      "{ name = __assert_eq; actual = 1, 2; expected = 1, 2 }\n"
     ]
    }
   ],
   "source": [
    "//// test\n",
    "///! gleam\n",
    "///! fsharp\n",
    "///! cuda\n",
    "///! rust\n",
    "///! typescript\n",
    "///! python\n",
    "\n",
    "pair 1i32 2i32\n",
    "|> _assert_eq (1, 2)"
   ]
  },
  {
   "cell_type": "markdown",
   "metadata": {},
   "source": [
    "### new_pair"
   ]
  },
  {
   "cell_type": "code",
   "execution_count": null,
   "metadata": {
    "dotnet_interactive": {
     "language": "spiral"
    },
    "polyglot_notebook": {
     "kernelName": "spiral"
    }
   },
   "outputs": [],
   "source": [
    "inl new_pair forall a b. (a : a) (b : b) : pair a b =\n",
    "    backend_switch {\n",
    "        Gleam = fun () =>\n",
    "            $'\\#(!a, !b )' : pair a b\n",
    "        Fsharp = fun () =>\n",
    "            $'!a, !b ' : pair a b\n",
    "        Python = fun () =>\n",
    "            $'!a, !b ' : pair a b\n",
    "    }"
   ]
  },
  {
   "cell_type": "markdown",
   "metadata": {},
   "source": [
    "### from_pair"
   ]
  },
  {
   "cell_type": "code",
   "execution_count": null,
   "metadata": {
    "dotnet_interactive": {
     "language": "spiral"
    },
    "polyglot_notebook": {
     "kernelName": "spiral"
    }
   },
   "outputs": [],
   "source": [
    "inl from_pair forall a b. (pair : pair a b) : a * b =\n",
    "    backend_switch {\n",
    "        Gleam = fun () =>\n",
    "            $'let \\#(a, b) = !pair '\n",
    "            ($'a' : a), ($'b' : b)\n",
    "        Fsharp = fun () =>\n",
    "            $'let (a, b) = !pair '\n",
    "            ($'a' : a), ($'b' : b)\n",
    "        Python = fun () =>\n",
    "            $'a, b = !pair '\n",
    "            ($'a' : a), ($'b' : b)\n",
    "    }"
   ]
  },
  {
   "cell_type": "code",
   "execution_count": null,
   "metadata": {
    "dotnet_interactive": {
     "language": "spiral"
    },
    "polyglot_notebook": {
     "kernelName": "spiral"
    }
   },
   "outputs": [
    {
     "data": {
      "text/plain": [
       ".py output (Python):\n",
       "{ name = __assert_eq'; actual = a, (1, 'b'); expected = a, (1, 'b') }\n",
       "\n",
       "\n",
       ".rs output:\n",
       "{ name = __assert_eq'; actual = a, (\n",
       "    1,\n",
       "    \"b\",\n",
       "); expected = a, (\n",
       "    1,\n",
       "    \"b\",\n",
       ") }\n",
       "\n",
       ".ts output:\n",
       "{ name = __assert_eq'; actual = a, 1,b; expected = a, 1,b }\n",
       "\n",
       ".py output:\n",
       "{ name = __assert_eq'; actual = a, (1, 'b'); expected = a, (1, 'b') }\n",
       "\n",
       "\n",
       ".gleam output (Gleam):\n",
       "{compiling,\"/home/runner/work/spiral/polyglot/target/spiral_Eval/packages/121fe6bcd53cbb76bc380283bdf783b2cc23ad2873d0c359e023ced5290cc3bd/build/dev/erlang/main/_gleam_artefacts/main.erl\"}\n",
       "{compiling,\"/home/runner/work/spiral/polyglot/target/spiral_Eval/packages/121fe6bcd53cbb76bc380283bdf783b2cc23ad2873d0c359e023ced5290cc3bd/build/dev/erlang/main/_gleam_artefacts/main@@main.erl\"}\n",
       "{compiled,main,\n",
       "          \"/home/runner/work/spiral/polyglot/target/spiral_Eval/packages/121fe6bcd53cbb76bc380283bdf783b2cc23ad2873d0c359e023ced5290cc3bd/build/dev/erlang/main/ebin/main.beam\"}\n",
       "{compiled,main@@main,\n",
       "          \"/home/runner/work/spiral/polyglot/target/spiral_Eval/packages/121fe6bcd53cbb76bc380283bdf783b2cc23ad2873d0c359e023ced5290cc3bd/build/dev/erlang/main/ebin/main@@main.beam\"}\n",
       "{ name = __assert_eq'; actual = a, #(1, \"b\"); expected = a, #(1, \"b\") }\n",
       "\n",
       "\n"
      ]
     },
     "metadata": {},
     "output_type": "display_data"
    },
    {
     "name": "stdout",
     "output_type": "stream",
     "text": [
      ".fsx output:\n",
      "{ name = __assert_eq'; actual = a, (1, \"b\"); expected = a, (1, \"b\") }\n"
     ]
    }
   ],
   "source": [
    "//// test\n",
    "///! gleam\n",
    "///! fsharp\n",
    "///! cuda\n",
    "///! rust\n",
    "///! typescript\n",
    "///! python\n",
    "\n",
    "new_pair \"a\" (new_pair 1i32 \"b\")\n",
    "|> from_pair\n",
    "|> _assert_eq' (\"a\", (new_pair 1i32 \"b\"))"
   ]
  },
  {
   "cell_type": "markdown",
   "metadata": {},
   "source": [
    "### (||>)"
   ]
  },
  {
   "cell_type": "code",
   "execution_count": null,
   "metadata": {
    "dotnet_interactive": {
     "language": "spiral"
    },
    "polyglot_notebook": {
     "kernelName": "spiral"
    }
   },
   "outputs": [],
   "source": [
    "inl (||>) (arg1, arg2) fn =\n",
    "    arg2 |> fn arg1"
   ]
  },
  {
   "cell_type": "markdown",
   "metadata": {},
   "source": [
    "### (||>)"
   ]
  },
  {
   "cell_type": "code",
   "execution_count": null,
   "metadata": {
    "dotnet_interactive": {
     "language": "spiral"
    },
    "polyglot_notebook": {
     "kernelName": "spiral"
    }
   },
   "outputs": [
    {
     "data": {
      "text/plain": [
       ".py output (Python):\n",
       "{ name = __assert_eq; actual = 1; expected = 1 }\n",
       "\n",
       ".rs output:\n",
       "{ name = __assert_eq; actual = 1; expected = 1 }\n",
       "\n",
       ".ts output:\n",
       "{ name = __assert_eq; actual = 1; expected = 1 }\n",
       "\n",
       ".py output:\n",
       "{ name = __assert_eq; actual = 1; expected = 1 }\n",
       "\n",
       "\n",
       ".gleam output (Gleam):\n",
       "{compiling,\"/home/runner/work/spiral/polyglot/target/spiral_Eval/packages/c23124a846c556119a41f9659ec1650e9755820eb02fa20436044a9da2529b9f/build/dev/erlang/main/_gleam_artefacts/main.erl\"}\n",
       "{compiling,\"/home/runner/work/spiral/polyglot/target/spiral_Eval/packages/c23124a846c556119a41f9659ec1650e9755820eb02fa20436044a9da2529b9f/build/dev/erlang/main/_gleam_artefacts/main@@main.erl\"}\n",
       "{compiled,main,\n",
       "          \"/home/runner/work/spiral/polyglot/target/spiral_Eval/packages/c23124a846c556119a41f9659ec1650e9755820eb02fa20436044a9da2529b9f/build/dev/erlang/main/ebin/main.beam\"}\n",
       "{compiled,main@@main,\n",
       "          \"/home/runner/work/spiral/polyglot/target/spiral_Eval/packages/c23124a846c556119a41f9659ec1650e9755820eb02fa20436044a9da2529b9f/build/dev/erlang/main/ebin/main@@main.beam\"}\n",
       "{ name = __assert_eq; actual = 1; expected = 1 }\n",
       "\n",
       "\n"
      ]
     },
     "metadata": {},
     "output_type": "display_data"
    },
    {
     "name": "stdout",
     "output_type": "stream",
     "text": [
      ".fsx output:\n",
      "{ name = __assert_eq; actual = 1; expected = 1 }\n"
     ]
    }
   ],
   "source": [
    "//// test\n",
    "///! gleam\n",
    "///! fsharp\n",
    "///! cuda\n",
    "///! rust\n",
    "///! typescript\n",
    "///! python\n",
    "\n",
    "(3i32, 2i32)\n",
    "||> fun a b => a - b\n",
    "|> _assert_eq 1"
   ]
  },
  {
   "cell_type": "code",
   "execution_count": null,
   "metadata": {
    "dotnet_interactive": {
     "language": "spiral"
    },
    "polyglot_notebook": {
     "kernelName": "spiral"
    }
   },
   "outputs": [
    {
     "data": {
      "text/plain": [
       ".py output (Python):\n",
       "{ name = __assert_eq; actual = 2, 1; expected = 2, 1 }\n",
       "\n",
       ".rs output:\n",
       "{ name = __assert_eq; actual = 2, 1; expected = 2, 1 }\n",
       "\n",
       ".ts output:\n",
       "{ name = __assert_eq; actual = 2, 1; expected = 2, 1 }\n",
       "\n",
       ".py output:\n",
       "{ name = __assert_eq; actual = 2, 1; expected = 2, 1 }\n",
       "\n",
       "\n",
       ".gleam output (Gleam):\n",
       "{compiling,\"/home/runner/work/spiral/polyglot/target/spiral_Eval/packages/d7805e05451f8e1d7ad70337146e33a9e28c19b3d3074cd37caccc8e29523894/build/dev/erlang/main/_gleam_artefacts/main@@main.erl\"}\n",
       "{compiling,\"/home/runner/work/spiral/polyglot/target/spiral_Eval/packages/d7805e05451f8e1d7ad70337146e33a9e28c19b3d3074cd37caccc8e29523894/build/dev/erlang/main/_gleam_artefacts/main.erl\"}\n",
       "{compiled,main,\n",
       "          \"/home/runner/work/spiral/polyglot/target/spiral_Eval/packages/d7805e05451f8e1d7ad70337146e33a9e28c19b3d3074cd37caccc8e29523894/build/dev/erlang/main/ebin/main.beam\"}\n",
       "{compiled,main@@main,\n",
       "          \"/home/runner/work/spiral/polyglot/target/spiral_Eval/packages/d7805e05451f8e1d7ad70337146e33a9e28c19b3d3074cd37caccc8e29523894/build/dev/erlang/main/ebin/main@@main.beam\"}\n",
       "{ name = __assert_eq; actual = 2, 1; expected = 2, 1 }\n",
       "\n",
       "\n"
      ]
     },
     "metadata": {},
     "output_type": "display_data"
    },
    {
     "name": "stdout",
     "output_type": "stream",
     "text": [
      ".fsx output:\n",
      "{ name = __assert_eq; actual = 2, 1; expected = 2, 1 }\n"
     ]
    }
   ],
   "source": [
    "//// test\n",
    "///! gleam\n",
    "///! fsharp\n",
    "///! cuda\n",
    "///! rust\n",
    "///! typescript\n",
    "///! python\n",
    "\n",
    "(1i32, 2i32)\n",
    "||> flip pair\n",
    "|> _assert_eq (2, 1)"
   ]
  },
  {
   "cell_type": "markdown",
   "metadata": {},
   "source": [
    "### fix_condition"
   ]
  },
  {
   "cell_type": "code",
   "execution_count": null,
   "metadata": {
    "dotnet_interactive": {
     "language": "spiral"
    },
    "polyglot_notebook": {
     "kernelName": "spiral"
    }
   },
   "outputs": [],
   "source": [
    "inl fix_condition x a b =\n",
    "    if x ()\n",
    "    then a () |> fun x => $'(* fix_condition then' : ()\n",
    "    else\n",
    "        $'fix_condition then *) else' : ()\n",
    "        b () |> fun x => $'(* fix_condition else' : ()\n",
    "    |> fun x => $'fix_condition else *)' : ()"
   ]
  },
  {
   "cell_type": "markdown",
   "metadata": {},
   "source": [
    "### infer"
   ]
  },
  {
   "cell_type": "code",
   "execution_count": null,
   "metadata": {
    "dotnet_interactive": {
     "language": "spiral"
    },
    "polyglot_notebook": {
     "kernelName": "spiral"
    }
   },
   "outputs": [],
   "source": [
    "nominal infer = $'_'"
   ]
  },
  {
   "cell_type": "markdown",
   "metadata": {},
   "source": [
    "### infer'"
   ]
  },
  {
   "cell_type": "code",
   "execution_count": null,
   "metadata": {
    "dotnet_interactive": {
     "language": "spiral"
    },
    "polyglot_notebook": {
     "kernelName": "spiral"
    }
   },
   "outputs": [],
   "source": [
    "nominal infer' t = $'_'"
   ]
  },
  {
   "cell_type": "markdown",
   "metadata": {},
   "source": [
    "### any"
   ]
  },
  {
   "cell_type": "code",
   "execution_count": null,
   "metadata": {
    "dotnet_interactive": {
     "language": "spiral"
    },
    "polyglot_notebook": {
     "kernelName": "spiral"
    }
   },
   "outputs": [],
   "source": [
    "nominal any = $'obj'"
   ]
  },
  {
   "cell_type": "markdown",
   "metadata": {},
   "source": [
    "### null"
   ]
  },
  {
   "cell_type": "code",
   "execution_count": null,
   "metadata": {
    "dotnet_interactive": {
     "language": "spiral"
    },
    "polyglot_notebook": {
     "kernelName": "spiral"
    }
   },
   "outputs": [],
   "source": [
    "inl null forall t. () : t =\n",
    "    backend_switch {\n",
    "        Gleam = fun () => $'Nil' : t\n",
    "        Fsharp = fun () => $'null |> unbox<`t>' : t\n",
    "        Python = fun () => $'None' : t\n",
    "    }"
   ]
  },
  {
   "cell_type": "markdown",
   "metadata": {},
   "source": [
    "### defaultof"
   ]
  },
  {
   "cell_type": "code",
   "execution_count": null,
   "metadata": {
    "dotnet_interactive": {
     "language": "spiral"
    },
    "polyglot_notebook": {
     "kernelName": "spiral"
    }
   },
   "outputs": [],
   "source": [
    "inl defaultof forall t. () : t =\n",
    "    inl run default =\n",
    "        real\n",
    "            typecase t with\n",
    "            | string => \"\"\n",
    "            | i32 => 0\n",
    "            | option ~u => None `u\n",
    "            | _ => default ()\n",
    "    backend_switch {\n",
    "        Gleam = fun () => run (fun () => (real failwith `t \"base.defaultof / invalid type\") : t) : t\n",
    "        Fsharp = fun () => run (fun () => $'Unchecked.defaultof<`t>' : t) : t\n",
    "    }"
   ]
  },
  {
   "cell_type": "code",
   "execution_count": null,
   "metadata": {
    "dotnet_interactive": {
     "language": "spiral"
    },
    "polyglot_notebook": {
     "kernelName": "spiral"
    }
   },
   "outputs": [
    {
     "data": {
      "text/plain": [
       "\n",
       ".gleam output (Gleam):\n",
       "\u001B[4;7mwarning: Unreachable case clause\u001B[0m\n",
       "\u001B[4;7m    ┌─ /home/runner/work/spiral/polyglot/target/spiral_Eval/packages/8009acbe0772ff80f19b61bd980fce8cbbaa8a7fa643974a594a746b52701f0f/src/main.gleam:265:13\u001B[0m\n",
       "\u001B[4;7m    │  \u001B[0m\n",
       "\u001B[4;7m265 │ ╭             _ -> {\u001B[0m\n",
       "\u001B[4;7m266 │ │                 False\u001B[0m\n",
       "\u001B[4;7m267 │ │             }\u001B[0m\n",
       "\u001B[4;7m    │ ╰─────────────^\u001B[0m\n",
       "\u001B[4;7m\u001B[0m\n",
       "\u001B[4;7mThis case clause cannot be reached as a previous clause matches the same\u001B[0m\n",
       "\u001B[4;7mvalues.\u001B[0m\n",
       "\u001B[4;7m\u001B[0m\n",
       "\u001B[4;7mHint: It can be safely removed.\u001B[0m\n",
       "\u001B[4;7m\u001B[0m\n",
       "{compiling,\"/home/runner/work/spiral/polyglot/target/spiral_Eval/packages/8009acbe0772ff80f19b61bd980fce8cbbaa8a7fa643974a594a746b52701f0f/build/dev/erlang/main/_gleam_artefacts/main.erl\"}\n",
       "{compiling,\"/home/runner/work/spiral/polyglot/target/spiral_Eval/packages/8009acbe0772ff80f19b61bd980fce8cbbaa8a7fa643974a594a746b52701f0f/build/dev/erlang/main/_gleam_artefacts/main@@main.erl\"}\n",
       "{compiled,main,\n",
       "          \"/home/runner/work/spiral/polyglot/target/spiral_Eval/packages/8009acbe0772ff80f19b61bd980fce8cbbaa8a7fa643974a594a746b52701f0f/build/dev/erlang/main/ebin/main.beam\"}\n",
       "{compiled,main@@main,\n",
       "          \"/home/runner/work/spiral/polyglot/target/spiral_Eval/packages/8009acbe0772ff80f19b61bd980fce8cbbaa8a7fa643974a594a746b52701f0f/build/dev/erlang/main/ebin/main@@main.beam\"}\n",
       "{ name = __assert_eq; actual = ; expected =  }\n",
       "{ name = __assert_eq; actual = 0; expected = 0 }\n",
       "{ name = __assert_eq; actual = Us0i1; expected = Us0i1 }\n",
       "\n"
      ]
     },
     "metadata": {},
     "output_type": "display_data"
    },
    {
     "name": "stdout",
     "output_type": "stream",
     "text": [
      ".fsx output:\n",
      "{ name = __assert_eq; actual = ; expected =  }\n",
      "{ name = __assert_eq; actual = 0; expected = 0 }\n",
      "{ name = __assert_eq; actual = US0_1; expected = US0_1 }\n"
     ]
    }
   ],
   "source": [
    "//// test\n",
    "///! gleam\n",
    "///! fsharp\n",
    "\n",
    "real defaultof `string ()\n",
    "|> _assert_eq \"\"\n",
    "\n",
    "real defaultof `i32 ()\n",
    "|> _assert_eq 0i32\n",
    "\n",
    "real defaultof `(option string) ()\n",
    "|> _assert_eq (None : option string)"
   ]
  },
  {
   "cell_type": "markdown",
   "metadata": {},
   "source": [
    "### choice2'"
   ]
  },
  {
   "cell_type": "code",
   "execution_count": null,
   "metadata": {
    "dotnet_interactive": {
     "language": "spiral"
    },
    "polyglot_notebook": {
     "kernelName": "spiral"
    }
   },
   "outputs": [],
   "source": [
    "nominal choice2' a b = $'Choice<`a, `b>'"
   ]
  },
  {
   "cell_type": "markdown",
   "metadata": {},
   "source": [
    "### choice2_unbox"
   ]
  },
  {
   "cell_type": "code",
   "execution_count": null,
   "metadata": {
    "dotnet_interactive": {
     "language": "spiral"
    },
    "polyglot_notebook": {
     "kernelName": "spiral"
    }
   },
   "outputs": [],
   "source": [
    "inl choice2_unbox forall t1 t2. (choice : choice2' t1 t2) : choice2 t1 t2 =\n",
    "    run_target_args (fun () => choice) function\n",
    "        | Fsharp _ => fun choice =>\n",
    "            inl c1of2 (x : t1) : _ _ t2 = C1of2 x\n",
    "            inl c2of2 (x : t2) : _ t1 _ = C2of2 x\n",
    "            inl c1of2 = join c1of2\n",
    "            inl c2of2 = join c2of2\n",
    "            $'match !choice with Choice1Of2 x -> !c1of2 x | Choice2Of2 x -> !c2of2 x'\n",
    "        | _ => fun _ => null ()"
   ]
  },
  {
   "cell_type": "markdown",
   "metadata": {},
   "source": [
    "### ref"
   ]
  },
  {
   "cell_type": "code",
   "execution_count": null,
   "metadata": {
    "dotnet_interactive": {
     "language": "spiral"
    },
    "polyglot_notebook": {
     "kernelName": "spiral"
    }
   },
   "outputs": [],
   "source": [
    "nominal ref t = $'`t ref'"
   ]
  },
  {
   "cell_type": "markdown",
   "metadata": {},
   "source": [
    "### new_ref"
   ]
  },
  {
   "cell_type": "code",
   "execution_count": null,
   "metadata": {
    "dotnet_interactive": {
     "language": "spiral"
    },
    "polyglot_notebook": {
     "kernelName": "spiral"
    }
   },
   "outputs": [],
   "source": [
    "inl new_ref forall t. (x : t) : ref t =\n",
    "    $'ref !x '"
   ]
  },
  {
   "cell_type": "markdown",
   "metadata": {},
   "source": [
    "### ref_value"
   ]
  },
  {
   "cell_type": "code",
   "execution_count": null,
   "metadata": {
    "dotnet_interactive": {
     "language": "spiral"
    },
    "polyglot_notebook": {
     "kernelName": "spiral"
    }
   },
   "outputs": [],
   "source": [
    "inl ref_value forall t. (x : ref t) : t =\n",
    "    $'!x.Value'"
   ]
  },
  {
   "cell_type": "markdown",
   "metadata": {},
   "source": [
    "### ref_set_value"
   ]
  },
  {
   "cell_type": "code",
   "execution_count": null,
   "metadata": {
    "dotnet_interactive": {
     "language": "spiral"
    },
    "polyglot_notebook": {
     "kernelName": "spiral"
    }
   },
   "outputs": [],
   "source": [
    "inl ref_set_value forall t. (value : t) (ref : ref t) : ref t =\n",
    "    $'!ref.Value <- !value '\n",
    "    ref"
   ]
  },
  {
   "cell_type": "markdown",
   "metadata": {},
   "source": [
    "### to"
   ]
  },
  {
   "cell_type": "code",
   "execution_count": null,
   "metadata": {
    "dotnet_interactive": {
     "language": "spiral"
    },
    "polyglot_notebook": {
     "kernelName": "spiral"
    }
   },
   "outputs": [],
   "source": [
    "inl to forall t u. (x : t) : u =\n",
    "    $'!x ' : u"
   ]
  },
  {
   "cell_type": "markdown",
   "metadata": {},
   "source": [
    "### convert"
   ]
  },
  {
   "cell_type": "code",
   "execution_count": null,
   "metadata": {
    "dotnet_interactive": {
     "language": "spiral"
    },
    "polyglot_notebook": {
     "kernelName": "spiral"
    }
   },
   "outputs": [],
   "source": [
    "inl convert forall t u. (x : t) : u =\n",
    "    backend_switch {\n",
    "        Gleam = fun () => $'!x ' : u\n",
    "        Fsharp = fun () => $'!x |> `u ' : u\n",
    "        Python = fun () => $'`u(!x)' : u\n",
    "    }"
   ]
  },
  {
   "cell_type": "markdown",
   "metadata": {},
   "source": [
    "### unbox"
   ]
  },
  {
   "cell_type": "code",
   "execution_count": null,
   "metadata": {
    "dotnet_interactive": {
     "language": "spiral"
    },
    "polyglot_notebook": {
     "kernelName": "spiral"
    }
   },
   "outputs": [],
   "source": [
    "inl unbox forall t u. (x : t) : u =\n",
    "    backend_switch {\n",
    "        Gleam = fun () => x |> to : u\n",
    "        Fsharp = fun () => $'!x |> unbox<`u>' : u\n",
    "        Python = fun () => x |> to : u\n",
    "    }"
   ]
  },
  {
   "cell_type": "markdown",
   "metadata": {},
   "source": [
    "### u8"
   ]
  },
  {
   "cell_type": "code",
   "execution_count": null,
   "metadata": {
    "dotnet_interactive": {
     "language": "spiral"
    },
    "polyglot_notebook": {
     "kernelName": "spiral"
    }
   },
   "outputs": [],
   "source": [
    "inl u8 forall t. (x : t) : u8 =\n",
    "    backend_switch {\n",
    "        Gleam = fun () => x |> to : u8\n",
    "        Fsharp = fun () => x |> $'uint8' : u8\n",
    "        Python = fun () => x |> to : u8\n",
    "    }"
   ]
  },
  {
   "cell_type": "markdown",
   "metadata": {},
   "source": [
    "### u16"
   ]
  },
  {
   "cell_type": "code",
   "execution_count": null,
   "metadata": {
    "dotnet_interactive": {
     "language": "spiral"
    },
    "polyglot_notebook": {
     "kernelName": "spiral"
    }
   },
   "outputs": [],
   "source": [
    "inl u16 forall t. (x : t) : u16 =\n",
    "    backend_switch {\n",
    "        Gleam = fun () => x |> to : u16\n",
    "        Fsharp = fun () => x |> $'uint16' : u16\n",
    "        Python = fun () => $'!x & 0xFFFF' : u16\n",
    "    }"
   ]
  },
  {
   "cell_type": "markdown",
   "metadata": {},
   "source": [
    "### u64"
   ]
  },
  {
   "cell_type": "code",
   "execution_count": null,
   "metadata": {
    "dotnet_interactive": {
     "language": "spiral"
    },
    "polyglot_notebook": {
     "kernelName": "spiral"
    }
   },
   "outputs": [],
   "source": [
    "inl u64 forall t. (x : t) : u64 =\n",
    "    backend_switch {\n",
    "        Gleam = fun () => x |> to : u64\n",
    "        Fsharp = fun () => x |> $'uint64' : u64\n",
    "        Python = fun () => x |> to : u64\n",
    "    }"
   ]
  },
  {
   "cell_type": "markdown",
   "metadata": {},
   "source": [
    "### i32"
   ]
  },
  {
   "cell_type": "code",
   "execution_count": null,
   "metadata": {
    "dotnet_interactive": {
     "language": "spiral"
    },
    "polyglot_notebook": {
     "kernelName": "spiral"
    }
   },
   "outputs": [],
   "source": [
    "inl i32 forall t. (x : t) : i32 =\n",
    "    backend_switch {\n",
    "        Gleam = fun () => x |> convert : i32\n",
    "        Fsharp = fun () => x |> convert : i32\n",
    "        Python = fun () => x |> convert : i32\n",
    "    }"
   ]
  },
  {
   "cell_type": "markdown",
   "metadata": {},
   "source": [
    "### i64"
   ]
  },
  {
   "cell_type": "code",
   "execution_count": null,
   "metadata": {
    "dotnet_interactive": {
     "language": "spiral"
    },
    "polyglot_notebook": {
     "kernelName": "spiral"
    }
   },
   "outputs": [],
   "source": [
    "inl i64 forall t. (x : t) : i64 =\n",
    "    backend_switch {\n",
    "        Gleam = fun () => x |> to : i64\n",
    "        Fsharp = fun () => x |> $'int64' : i64\n",
    "        Python = fun () => x |> to : i64\n",
    "    }"
   ]
  },
  {
   "cell_type": "markdown",
   "metadata": {},
   "source": [
    "### f32"
   ]
  },
  {
   "cell_type": "code",
   "execution_count": null,
   "metadata": {
    "dotnet_interactive": {
     "language": "spiral"
    },
    "polyglot_notebook": {
     "kernelName": "spiral"
    }
   },
   "outputs": [],
   "source": [
    "inl f32 forall t. (x : t) : f32 =\n",
    "    backend_switch {\n",
    "        Gleam = fun () => x |> to : f32\n",
    "        Fsharp = fun () => x |> $'float32' : f32\n",
    "        Python = fun () => x |> to : f32\n",
    "    }"
   ]
  },
  {
   "cell_type": "markdown",
   "metadata": {},
   "source": [
    "### f64"
   ]
  },
  {
   "cell_type": "code",
   "execution_count": null,
   "metadata": {
    "dotnet_interactive": {
     "language": "spiral"
    },
    "polyglot_notebook": {
     "kernelName": "spiral"
    }
   },
   "outputs": [],
   "source": [
    "inl f64 forall t. (x : t) : f64 =\n",
    "    backend_switch {\n",
    "        Gleam = fun () => x |> to : f64\n",
    "        Fsharp = fun () => x |> $'float' : f64\n",
    "        Python = fun () => x |> to : f64\n",
    "    }"
   ]
  },
  {
   "cell_type": "markdown",
   "metadata": {},
   "source": [
    "### unativeint"
   ]
  },
  {
   "cell_type": "code",
   "execution_count": null,
   "metadata": {
    "dotnet_interactive": {
     "language": "spiral"
    },
    "polyglot_notebook": {
     "kernelName": "spiral"
    }
   },
   "outputs": [],
   "source": [
    "nominal unativeint = $'unativeint'"
   ]
  },
  {
   "cell_type": "markdown",
   "metadata": {},
   "source": [
    "### convert_i32"
   ]
  },
  {
   "cell_type": "code",
   "execution_count": null,
   "metadata": {
    "dotnet_interactive": {
     "language": "spiral"
    },
    "polyglot_notebook": {
     "kernelName": "spiral"
    }
   },
   "outputs": [],
   "source": [
    "inl convert_i32 forall t. (x : t) : i32 =\n",
    "    backend_switch {\n",
    "        Gleam = fun () => x |> to : i32\n",
    "        Fsharp = fun () => x |> $'System.Convert.ToInt32' : i32\n",
    "        Python = fun () => x |> to : i32\n",
    "    }"
   ]
  },
  {
   "cell_type": "markdown",
   "metadata": {},
   "source": [
    "### convert_i32_base"
   ]
  },
  {
   "cell_type": "code",
   "execution_count": null,
   "metadata": {
    "dotnet_interactive": {
     "language": "spiral"
    },
    "polyglot_notebook": {
     "kernelName": "spiral"
    }
   },
   "outputs": [],
   "source": [
    "inl convert_i32_base forall t. (base : i32) (x : t) : i32 =\n",
    "    backend_switch {\n",
    "        Fsharp = fun () => $'System.Convert.ToInt32 (!x, !base)' : i32\n",
    "        Python = fun () => $'int (!x, !base)' : i32\n",
    "    }"
   ]
  },
  {
   "cell_type": "markdown",
   "metadata": {},
   "source": [
    "### (:>)"
   ]
  },
  {
   "cell_type": "code",
   "execution_count": null,
   "metadata": {
    "dotnet_interactive": {
     "language": "spiral"
    },
    "polyglot_notebook": {
     "kernelName": "spiral"
    }
   },
   "outputs": [],
   "source": [
    "prototype (~:>) r : forall t. t -> r"
   ]
  },
  {
   "cell_type": "markdown",
   "metadata": {},
   "source": [
    "### to_any"
   ]
  },
  {
   "cell_type": "code",
   "execution_count": null,
   "metadata": {
    "dotnet_interactive": {
     "language": "spiral"
    },
    "polyglot_notebook": {
     "kernelName": "spiral"
    }
   },
   "outputs": [],
   "source": [
    "inl to_any forall t. (obj : t) : any =\n",
    "    obj |> to"
   ]
  },
  {
   "cell_type": "markdown",
   "metadata": {},
   "source": [
    "### (~:>) any"
   ]
  },
  {
   "cell_type": "code",
   "execution_count": null,
   "metadata": {
    "dotnet_interactive": {
     "language": "spiral"
    },
    "polyglot_notebook": {
     "kernelName": "spiral"
    }
   },
   "outputs": [],
   "source": [
    "instance (~:>) any = to_any"
   ]
  },
  {
   "cell_type": "markdown",
   "metadata": {},
   "source": [
    "### exn"
   ]
  },
  {
   "cell_type": "code",
   "execution_count": null,
   "metadata": {
    "dotnet_interactive": {
     "language": "spiral"
    },
    "polyglot_notebook": {
     "kernelName": "spiral"
    }
   },
   "outputs": [],
   "source": [
    "type exn_switch =\n",
    "    {\n",
    "        Gleam : $'Nil'\n",
    "        Fsharp : $'exn'\n",
    "        Python : $'BaseException'\n",
    "    }\n",
    "nominal exn = $'backend_switch `(exn_switch)'\n",
    "\n",
    "inl exn x =\n",
    "    x |> $'`exn '"
   ]
  },
  {
   "cell_type": "markdown",
   "metadata": {},
   "source": [
    "### try"
   ]
  },
  {
   "cell_type": "code",
   "execution_count": null,
   "metadata": {
    "dotnet_interactive": {
     "language": "spiral"
    },
    "polyglot_notebook": {
     "kernelName": "spiral"
    }
   },
   "outputs": [],
   "source": [
    "inl try forall t. (fn : () -> t) (ex_fn : exn -> option t) : option t =\n",
    "    inl some x : option t = Some x\n",
    "    inl some = dyn some\n",
    "    inl fn = dyn fn\n",
    "    inl ex_fn = dyn ex_fn\n",
    "    backend_switch {\n",
    "        Gleam = fun () =>\n",
    "            fn () |> some\n",
    "        Fsharp = fun () =>\n",
    "            $'let result = ref !(None : option t)'\n",
    "            $'try'\n",
    "            $'    result.Value <- !fn () |> !some '\n",
    "            $'with ex ->'\n",
    "            $'    result.Value <- !ex_fn ex '\n",
    "            $'result.Value' : option t\n",
    "        Python = fun () =>\n",
    "            $'result = !(None : option t)'\n",
    "            inl fn = dyn fn\n",
    "            inl ex_fn = dyn ex_fn\n",
    "            $'try:'\n",
    "            $'    result = !some(!fn())\\n        \\'\\'\\''\n",
    "            $'\\'\\'\\''\n",
    "            $'except Exception as e:'\n",
    "            $'    result = !ex_fn(e)'\n",
    "            $'result' : option t\n",
    "    }"
   ]
  },
  {
   "cell_type": "code",
   "execution_count": null,
   "metadata": {
    "dotnet_interactive": {
     "language": "spiral"
    },
    "polyglot_notebook": {
     "kernelName": "spiral"
    }
   },
   "outputs": [
    {
     "data": {
      "text/plain": [
       ".py output (Python):\n",
       "{ name = __assert_eq; actual = index 1 is out of bounds for axis 0 with size 1; expected = index 1 is out of bounds for axis 0 with size 1 }\n",
       "\n",
       ".rs output:\n",
       "{ name = __assert_eq; actual = Exception { message: \"index out of bounds: the len is 1 but the index is 1\" }; expected = Exception { message: \"index out of bounds: the len is 1 but the index is 1\" } }\n",
       "\n",
       ".ts output:\n",
       "{ name = __assert_eq; actual = Error: Index was outside the bounds of the array.\\nParameter name: index; expected = Error: Index was outside the bounds of the array.\\nParameter name: index }\n",
       "\n",
       ".py output:\n",
       "{ name = __assert_eq; actual = array index out of range; expected = array index out of range }\n",
       "\n"
      ]
     },
     "metadata": {},
     "output_type": "display_data"
    },
    {
     "name": "stdout",
     "output_type": "stream",
     "text": [
      ".fsx output:\n",
      "{ name = __assert_eq; actual = System.IndexOutOfRangeException: Index was outside the bounds of the array.; expected = System.IndexOutOfRangeException: Index was outside the bounds of the array. }\n"
     ]
    }
   ],
   "source": [
    "//// test\n",
    "///! fsharp\n",
    "///! cuda\n",
    "///! rust\n",
    "///! typescript\n",
    "///! python\n",
    "\n",
    "try\n",
    "    fun () => a ;[ 0i32 ] |> am'.index 1i32 |> sm'.format\n",
    "    (fun ex => $'!ex ' |> sm'.format_exception |> Some)\n",
    "|> optionm.value\n",
    "|> _assert_eq (run_target function\n",
    "    | Gleam => fun () => null ()\n",
    "    | Fsharp => fun () => join \"System.IndexOutOfRangeException: Index was outside the bounds of the array.\"\n",
    "    | Cuda => fun () => \"index 1 is out of bounds for axis 0 with size 1\"\n",
    "    | Cpp => fun () => null ()\n",
    "    | Rust => fun () => \"Exception { message: \\\"index out of bounds: the len is 1 but the index is 1\\\" }\"\n",
    "    | TypeScript => fun () => \"Error: Index was outside the bounds of the array.\\\\nParameter name: index\"\n",
    "    | Python => fun () => \"array index out of range\"\n",
    ")"
   ]
  },
  {
   "cell_type": "code",
   "execution_count": null,
   "metadata": {
    "dotnet_interactive": {
     "language": "spiral"
    },
    "polyglot_notebook": {
     "kernelName": "spiral"
    }
   },
   "outputs": [
    {
     "data": {
      "text/plain": [
       ".py output (Python):\n",
       "{ name = __assert_eq; actual = 0; expected = 0 }\n",
       "\n",
       ".rs output:\n",
       "{ name = __assert_eq; actual = 0; expected = 0 }\n",
       "\n",
       ".ts output:\n",
       "{ name = __assert_eq; actual = 0; expected = 0 }\n",
       "\n",
       ".py output:\n",
       "{ name = __assert_eq; actual = 0; expected = 0 }\n",
       "\n",
       "\n",
       ".gleam output (Gleam):\n",
       "\u001B[4;7mwarning: Unused variable\u001B[0m\n",
       "\u001B[4;7m    ┌─ /home/runner/work/spiral/polyglot/target/spiral_Eval/packages/40868a6f32f09e98c8a7d2c06a1ce24527688eac89f50bf4677b9c91fe03e2a3/src/main.gleam:112:9\u001B[0m\n",
       "\u001B[4;7m    │\u001B[0m\n",
       "\u001B[4;7m112 │     let v2 = fn (x) { closure2()(#(x))(   Nil) }\u001B[0m\n",
       "\u001B[4;7m    │         ^^ This variable is never used\u001B[0m\n",
       "\u001B[4;7m\u001B[0m\n",
       "\u001B[4;7mHint: You can ignore it with an underscore: `_v2`.\u001B[0m\n",
       "\u001B[4;7m\u001B[0m\n",
       "{compiling,\"/home/runner/work/spiral/polyglot/target/spiral_Eval/packages/40868a6f32f09e98c8a7d2c06a1ce24527688eac89f50bf4677b9c91fe03e2a3/build/dev/erlang/main/_gleam_artefacts/main.erl\"}\n",
       "{compiling,\"/home/runner/work/spiral/polyglot/target/spiral_Eval/packages/40868a6f32f09e98c8a7d2c06a1ce24527688eac89f50bf4677b9c91fe03e2a3/build/dev/erlang/main/_gleam_artefacts/main@@main.erl\"}\n",
       "src/main.gleam:114:10: Warning: a term is constructed, but never used\n",
       "%  114|     let v4 = v0(v3)\n",
       "%     |          ^\n",
       "\n",
       "{compiled,main,\n",
       "          \"/home/runner/work/spiral/polyglot/target/spiral_Eval/packages/40868a6f32f09e98c8a7d2c06a1ce24527688eac89f50bf4677b9c91fe03e2a3/build/dev/erlang/main/ebin/main.beam\"}\n",
       "{compiled,main@@main,\n",
       "          \"/home/runner/work/spiral/polyglot/target/spiral_Eval/packages/40868a6f32f09e98c8a7d2c06a1ce24527688eac89f50bf4677b9c91fe03e2a3/build/dev/erlang/main/ebin/main@@main.beam\"}\n",
       "{ name = __assert_eq; actual = 0; expected = 0 }\n",
       "\n",
       "\n"
      ]
     },
     "metadata": {},
     "output_type": "display_data"
    },
    {
     "name": "stdout",
     "output_type": "stream",
     "text": [
      ".fsx output:\n",
      "{ name = __assert_eq; actual = 0; expected = 0 }\n"
     ]
    }
   ],
   "source": [
    "//// test\n",
    "///! gleam\n",
    "///! fsharp\n",
    "///! cuda\n",
    "///! rust\n",
    "///! typescript\n",
    "///! python\n",
    "\n",
    "try\n",
    "    fun () => a ;[ 0i32 ] |> am'.index 0i32 |> sm'.format\n",
    "    (fun ex => $'!ex ' |> sm'.format_exception |> Some)\n",
    "|> optionm.value\n",
    "|> _assert_eq \"0\""
   ]
  },
  {
   "cell_type": "markdown",
   "metadata": {},
   "source": [
    "### try_unit"
   ]
  },
  {
   "cell_type": "code",
   "execution_count": null,
   "metadata": {
    "dotnet_interactive": {
     "language": "spiral"
    },
    "polyglot_notebook": {
     "kernelName": "spiral"
    }
   },
   "outputs": [],
   "source": [
    "inl try_unit forall t. (fn : () -> ()) (ex_fn : (() -> exn) -> ()) : t =\n",
    "    backend_switch {\n",
    "        Fsharp = fun () => $'try' : ()\n",
    "        Python = fun () => $'try:' : ()\n",
    "    }\n",
    "    fn |> indent\n",
    "    backend_switch {\n",
    "        Fsharp = fun () => $'with ex ->' : ()\n",
    "        Python = fun () => $'except Exception as ex:' : ()\n",
    "    }\n",
    "    fun () =>\n",
    "        inl ex = $'ex'\n",
    "        inl ex () =\n",
    "            ex\n",
    "        ex_fn ex\n",
    "    |> indent\n",
    "    backend_switch {\n",
    "        Fsharp = fun () =>\n",
    "            $'(* try_unit'\n",
    "            $'try_unit *)' : t\n",
    "        Python = fun () => $'' : t\n",
    "    }"
   ]
  },
  {
   "cell_type": "markdown",
   "metadata": {},
   "source": [
    "### try_unit'"
   ]
  },
  {
   "cell_type": "code",
   "execution_count": null,
   "metadata": {
    "dotnet_interactive": {
     "language": "spiral"
    },
    "polyglot_notebook": {
     "kernelName": "spiral"
    }
   },
   "outputs": [],
   "source": [
    "inl try_unit' forall t. (ex_fn : (() -> exn) -> ()) (fn : () -> ()) : t =\n",
    "    try_unit fn ex_fn"
   ]
  },
  {
   "cell_type": "markdown",
   "metadata": {},
   "source": [
    "### try_finally"
   ]
  },
  {
   "cell_type": "code",
   "execution_count": null,
   "metadata": {
    "dotnet_interactive": {
     "language": "spiral"
    },
    "polyglot_notebook": {
     "kernelName": "spiral"
    }
   },
   "outputs": [],
   "source": [
    "inl try_finally forall t. (fn : () -> ()) (finally : () -> ()) : t =\n",
    "    backend_switch {\n",
    "        Fsharp = fun () => $'try' : ()\n",
    "        Python = fun () => $'try:' : ()\n",
    "    }\n",
    "    fn |> indent\n",
    "    backend_switch {\n",
    "        Fsharp = fun () => $'finally' : ()\n",
    "        Python = fun () => $'finally:' : ()\n",
    "    }\n",
    "    finally |> indent\n",
    "    backend_switch {\n",
    "        Fsharp = fun () =>\n",
    "            $'(* try_finally'\n",
    "            $'try_finally *)'\n",
    "            ()\n",
    "        Python = fun () => ()\n",
    "    }"
   ]
  }
 ],
 "metadata": {},
 "nbformat": 4,
 "nbformat_minor": 5
}