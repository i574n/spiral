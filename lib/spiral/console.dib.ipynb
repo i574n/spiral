{
 "cells": [
  {
   "cell_type": "markdown",
   "metadata": {},
   "source": [
    "# console"
   ]
  },
  {
   "cell_type": "code",
   "execution_count": null,
   "metadata": {
    "dotnet_interactive": {
     "language": "spiral"
    },
    "polyglot_notebook": {
     "kernelName": "spiral"
    }
   },
   "outputs": [],
   "source": [
    "//// test\n",
    "\n",
    "open testing"
   ]
  },
  {
   "cell_type": "markdown",
   "metadata": {},
   "source": [
    "## fsharp"
   ]
  },
  {
   "cell_type": "markdown",
   "metadata": {},
   "source": [
    "### console_color"
   ]
  },
  {
   "cell_type": "code",
   "execution_count": null,
   "metadata": {
    "dotnet_interactive": {
     "language": "spiral"
    },
    "polyglot_notebook": {
     "kernelName": "spiral"
    }
   },
   "outputs": [],
   "source": [
    "nominal console_color = $'System.ConsoleColor'"
   ]
  },
  {
   "cell_type": "markdown",
   "metadata": {},
   "source": [
    "### reset_color"
   ]
  },
  {
   "cell_type": "code",
   "execution_count": null,
   "metadata": {
    "dotnet_interactive": {
     "language": "spiral"
    },
    "polyglot_notebook": {
     "kernelName": "spiral"
    }
   },
   "outputs": [],
   "source": [
    "inl reset_color () : () =\n",
    "    run_target function\n",
    "        | Fsharp => fun () => $'System.Console.ResetColor ()'\n",
    "        | _ => fun () => ()"
   ]
  },
  {
   "cell_type": "markdown",
   "metadata": {},
   "source": [
    "### set_foreground_color"
   ]
  },
  {
   "cell_type": "code",
   "execution_count": null,
   "metadata": {
    "dotnet_interactive": {
     "language": "spiral"
    },
    "polyglot_notebook": {
     "kernelName": "spiral"
    }
   },
   "outputs": [],
   "source": [
    "inl set_foreground_color (color : console_color) : () =\n",
    "    run_target function\n",
    "        | Fsharp => fun () => $'System.Console.ForegroundColor <- !color '\n",
    "        | _ => fun () => ()"
   ]
  },
  {
   "cell_type": "markdown",
   "metadata": {},
   "source": [
    "## console"
   ]
  },
  {
   "cell_type": "markdown",
   "metadata": {},
   "source": [
    "### write_line"
   ]
  },
  {
   "cell_type": "code",
   "execution_count": null,
   "metadata": {
    "dotnet_interactive": {
     "language": "spiral"
    },
    "polyglot_notebook": {
     "kernelName": "spiral"
    }
   },
   "outputs": [],
   "source": [
    "inl write_line obj : () =\n",
    "    backend_switch {\n",
    "        Gleam = fun () =>\n",
    "            backend_switch {\n",
    "                Gleam = fun () =>\n",
    "                    backend_switch {\n",
    "                        Gleam = fun () =>\n",
    "                            global \"import gleam/io\"\n",
    "                    }\n",
    "                    : ()\n",
    "            }\n",
    "            $'io.println(!obj)' : ()\n",
    "        Fsharp = fun () =>\n",
    "            fun () => obj |> $'System.Console.WriteLine'\n",
    "            |> exec_unit\n",
    "        Python = fun () => $'print(!obj)' : ()\n",
    "    }"
   ]
  },
  {
   "cell_type": "markdown",
   "metadata": {},
   "source": [
    "### write"
   ]
  },
  {
   "cell_type": "code",
   "execution_count": null,
   "metadata": {
    "dotnet_interactive": {
     "language": "spiral"
    },
    "polyglot_notebook": {
     "kernelName": "spiral"
    }
   },
   "outputs": [],
   "source": [
    "inl write forall t. (x : t) : () =\n",
    "    backend_switch {\n",
    "        Python = fun () => $'print(!x, end=\"\")' : ()\n",
    "        Fsharp = fun () => $'!x |> System.Console.Write' : ()\n",
    "    }"
   ]
  },
  {
   "cell_type": "markdown",
   "metadata": {},
   "source": [
    "### write_ln"
   ]
  },
  {
   "cell_type": "code",
   "execution_count": null,
   "metadata": {
    "dotnet_interactive": {
     "language": "spiral"
    },
    "polyglot_notebook": {
     "kernelName": "spiral"
    }
   },
   "outputs": [],
   "source": [
    "inl write_ln l : () =\n",
    "    write l\n",
    "    backend_switch {\n",
    "        Cuda = fun () => $'printf(\"\\\\n\")' : ()\n",
    "        Python = fun () => $\"print()\" : ()\n",
    "        Fsharp = fun () => write_line () : ()\n",
    "    }"
   ]
  },
  {
   "cell_type": "markdown",
   "metadata": {},
   "source": [
    "### color_reset"
   ]
  },
  {
   "cell_type": "code",
   "execution_count": null,
   "metadata": {
    "dotnet_interactive": {
     "language": "spiral"
    },
    "polyglot_notebook": {
     "kernelName": "spiral"
    }
   },
   "outputs": [],
   "source": [
    "inl color_reset () =\n",
    "    run_target function\n",
    "        | Gleam _ => fun () => $'\"\\\\u{001b}[0m\"'\n",
    "        | Rust _ => fun () =>\n",
    "            open rust\n",
    "            open rust.rust_operators\n",
    "            inl color_reset : rust.ref sm'.str = !\\($'\"inline_colorization::color_reset\"')\n",
    "            color_reset\n",
    "            |> sm'.ref_to_std_string\n",
    "            |> sm'.from_std_string\n",
    "        | _ => fun () => $'\"\\\\u001b[0m\"'"
   ]
  },
  {
   "cell_type": "markdown",
   "metadata": {},
   "source": [
    "### color_bright_black"
   ]
  },
  {
   "cell_type": "code",
   "execution_count": null,
   "metadata": {
    "dotnet_interactive": {
     "language": "spiral"
    },
    "polyglot_notebook": {
     "kernelName": "spiral"
    }
   },
   "outputs": [],
   "source": [
    "inl color_bright_black () =\n",
    "    run_target function\n",
    "        | Gleam _ => fun () => $'\"\\\\u{001b}[90m\"'\n",
    "        | Rust _ => fun () =>\n",
    "            open rust\n",
    "            open rust.rust_operators\n",
    "            inl color_reset : rust.ref sm'.str = !\\($'\"inline_colorization::color_bright_black\"')\n",
    "            color_reset\n",
    "            |> sm'.ref_to_std_string\n",
    "            |> sm'.from_std_string\n",
    "        | _ => fun () => $'\"\\\\u001b[90m\"'"
   ]
  },
  {
   "cell_type": "markdown",
   "metadata": {},
   "source": [
    "### color_bright_red"
   ]
  },
  {
   "cell_type": "code",
   "execution_count": null,
   "metadata": {
    "dotnet_interactive": {
     "language": "spiral"
    },
    "polyglot_notebook": {
     "kernelName": "spiral"
    }
   },
   "outputs": [],
   "source": [
    "inl color_bright_red () =\n",
    "    run_target function\n",
    "        | Gleam _ => fun () => $'\"\\\\u{001b}[91m\"'\n",
    "        | Rust _ => fun () =>\n",
    "            open rust\n",
    "            open rust.rust_operators\n",
    "            inl color_reset : rust.ref sm'.str = !\\($'\"inline_colorization::color_bright_red\"')\n",
    "            color_reset\n",
    "            |> sm'.ref_to_std_string\n",
    "            |> sm'.from_std_string\n",
    "        | _ => fun () => $'\"\\\\u001b[91m\"'"
   ]
  },
  {
   "cell_type": "markdown",
   "metadata": {},
   "source": [
    "### color_bright_green"
   ]
  },
  {
   "cell_type": "code",
   "execution_count": null,
   "metadata": {
    "dotnet_interactive": {
     "language": "spiral"
    },
    "polyglot_notebook": {
     "kernelName": "spiral"
    }
   },
   "outputs": [],
   "source": [
    "inl color_bright_green () =\n",
    "    run_target function\n",
    "        | Gleam _ => fun () => $'\"\\\\u{001b}[92m\"'\n",
    "        | Rust _ => fun () =>\n",
    "            open rust\n",
    "            open rust.rust_operators\n",
    "            inl color_reset : rust.ref sm'.str = !\\($'\"inline_colorization::color_bright_green\"')\n",
    "            color_reset\n",
    "            |> sm'.ref_to_std_string\n",
    "            |> sm'.from_std_string\n",
    "        | _ => fun () => $'\"\\\\u001b[92m\"'"
   ]
  },
  {
   "cell_type": "markdown",
   "metadata": {},
   "source": [
    "### color_yellow"
   ]
  },
  {
   "cell_type": "code",
   "execution_count": null,
   "metadata": {
    "dotnet_interactive": {
     "language": "spiral"
    },
    "polyglot_notebook": {
     "kernelName": "spiral"
    }
   },
   "outputs": [],
   "source": [
    "inl color_yellow () =\n",
    "    run_target function\n",
    "        | Gleam _ => fun () => $'\"\\\\u{001b}[93m\"'\n",
    "        | Rust _ => fun () =>\n",
    "            open rust\n",
    "            open rust.rust_operators\n",
    "            inl color_reset : rust.ref sm'.str = !\\($'\"inline_colorization::color_yellow\"')\n",
    "            color_reset\n",
    "            |> sm'.ref_to_std_string\n",
    "            |> sm'.from_std_string\n",
    "        | _ => fun () => $'\"\\\\u001b[93m\"'"
   ]
  },
  {
   "cell_type": "markdown",
   "metadata": {},
   "source": [
    "### color_bright_blue"
   ]
  },
  {
   "cell_type": "code",
   "execution_count": null,
   "metadata": {
    "dotnet_interactive": {
     "language": "spiral"
    },
    "polyglot_notebook": {
     "kernelName": "spiral"
    }
   },
   "outputs": [],
   "source": [
    "inl color_bright_blue () =\n",
    "    run_target function\n",
    "        | Gleam _ => fun () => $'\"\\\\u{001b}[94m\"'\n",
    "        | Rust _ => fun () =>\n",
    "            open rust\n",
    "            open rust.rust_operators\n",
    "            inl color_reset : rust.ref sm'.str = !\\($'\"inline_colorization::color_bright_blue\"')\n",
    "            color_reset\n",
    "            |> sm'.ref_to_std_string\n",
    "            |> sm'.from_std_string\n",
    "        | _ => fun () => $'\"\\\\u001b[94m\"'"
   ]
  },
  {
   "cell_type": "markdown",
   "metadata": {},
   "source": [
    "### color_bright_magenta"
   ]
  },
  {
   "cell_type": "code",
   "execution_count": null,
   "metadata": {
    "dotnet_interactive": {
     "language": "spiral"
    },
    "polyglot_notebook": {
     "kernelName": "spiral"
    }
   },
   "outputs": [],
   "source": [
    "inl color_bright_magenta () =\n",
    "    run_target function\n",
    "        | Gleam _ => fun () => $'\"\\\\u{001b}[95m\"'\n",
    "        | Rust _ => fun () =>\n",
    "            open rust\n",
    "            open rust.rust_operators\n",
    "            inl color_reset : rust.ref sm'.str = !\\($'\"inline_colorization::color_bright_magenta\"')\n",
    "            color_reset\n",
    "            |> sm'.ref_to_std_string\n",
    "            |> sm'.from_std_string\n",
    "        | _ => fun () => $'\"\\\\u001b[95m\"'"
   ]
  },
  {
   "cell_type": "markdown",
   "metadata": {},
   "source": [
    "### color_bright_cyan"
   ]
  },
  {
   "cell_type": "code",
   "execution_count": null,
   "metadata": {
    "dotnet_interactive": {
     "language": "spiral"
    },
    "polyglot_notebook": {
     "kernelName": "spiral"
    }
   },
   "outputs": [],
   "source": [
    "inl color_bright_cyan () =\n",
    "    run_target function\n",
    "        | Gleam _ => fun () => $'\"\\\\u{001b}[96m\"'\n",
    "        | Rust _ => fun () =>\n",
    "            open rust\n",
    "            open rust.rust_operators\n",
    "            inl color_reset : rust.ref sm'.str = !\\($'\"inline_colorization::color_bright_cyan\"')\n",
    "            color_reset\n",
    "            |> sm'.ref_to_std_string\n",
    "            |> sm'.from_std_string\n",
    "        | _ => fun () => $'\"\\\\u001b[96m\"'"
   ]
  },
  {
   "cell_type": "markdown",
   "metadata": {},
   "source": [
    "### color_bright_white"
   ]
  },
  {
   "cell_type": "code",
   "execution_count": null,
   "metadata": {
    "dotnet_interactive": {
     "language": "spiral"
    },
    "polyglot_notebook": {
     "kernelName": "spiral"
    }
   },
   "outputs": [],
   "source": [
    "inl color_bright_white () =\n",
    "    run_target function\n",
    "        | Gleam _ => fun () => $'\"\\\\u{001b}[97m\"'\n",
    "        | Rust _ => fun () =>\n",
    "            open rust\n",
    "            open rust.rust_operators\n",
    "            inl color_reset : rust.ref sm'.str = !\\($'\"inline_colorization::color_bright_white\"')\n",
    "            color_reset\n",
    "            |> sm'.ref_to_std_string\n",
    "            |> sm'.from_std_string\n",
    "        | _ => fun () => $'\"\\\\u001b[97m\"'"
   ]
  }
 ],
 "metadata": {},
 "nbformat": 4,
 "nbformat_minor": 5
}