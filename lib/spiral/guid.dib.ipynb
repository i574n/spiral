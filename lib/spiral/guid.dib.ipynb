{
 "cells": [
  {
   "cell_type": "markdown",
   "metadata": {},
   "source": [
    "# guid"
   ]
  },
  {
   "cell_type": "code",
   "execution_count": null,
   "metadata": {
    "dotnet_interactive": {
     "language": "spiral"
    },
    "polyglot_notebook": {
     "kernelName": "spiral"
    }
   },
   "outputs": [],
   "source": [
    "open sm'_operators"
   ]
  },
  {
   "cell_type": "code",
   "execution_count": null,
   "metadata": {
    "dotnet_interactive": {
     "language": "spiral"
    },
    "polyglot_notebook": {
     "kernelName": "spiral"
    }
   },
   "outputs": [],
   "source": [
    "//// test\n",
    "\n",
    "open testing"
   ]
  },
  {
   "cell_type": "markdown",
   "metadata": {},
   "source": [
    "## guid"
   ]
  },
  {
   "cell_type": "markdown",
   "metadata": {},
   "source": [
    "### guid"
   ]
  },
  {
   "cell_type": "code",
   "execution_count": null,
   "metadata": {
    "dotnet_interactive": {
     "language": "spiral"
    },
    "polyglot_notebook": {
     "kernelName": "spiral"
    }
   },
   "outputs": [],
   "source": [
    "nominal guid_python =\n",
    "    `(\n",
    "        global \"import uuid\"\n",
    "        $'' : $'uuid.UUID'\n",
    "    )\n",
    "type guid_switch =\n",
    "    {\n",
    "        Gleam : string\n",
    "        Fsharp : $'System.Guid'\n",
    "        Python : guid_python\n",
    "    }\n",
    "nominal guid = $'backend_switch `(guid_switch)'"
   ]
  },
  {
   "cell_type": "markdown",
   "metadata": {},
   "source": [
    "### new_guid"
   ]
  },
  {
   "cell_type": "code",
   "execution_count": null,
   "metadata": {
    "dotnet_interactive": {
     "language": "spiral"
    },
    "polyglot_notebook": {
     "kernelName": "spiral"
    }
   },
   "outputs": [],
   "source": [
    "inl new_guid (x : string) : guid =\n",
    "    run_target_args (fun () => x) function\n",
    "        | Rust (Contract) => fun _ => null ()\n",
    "        | _ => fun x => x |> convert"
   ]
  },
  {
   "cell_type": "markdown",
   "metadata": {},
   "source": [
    "### new_raw_guid"
   ]
  },
  {
   "cell_type": "code",
   "execution_count": null,
   "metadata": {
    "dotnet_interactive": {
     "language": "spiral"
    },
    "polyglot_notebook": {
     "kernelName": "spiral"
    }
   },
   "outputs": [],
   "source": [
    "inl new_raw_guid () : guid =\n",
    "    backend_switch {\n",
    "        Gleam = fun () =>\n",
    "            global \"import gleam_uuid\"\n",
    "            $'gleam_uuid.v4_string ()' : guid\n",
    "        Fsharp = fun () => $'System.Guid.NewGuid' () : guid\n",
    "        Python = fun () => $'uuid.uuid4()' : guid\n",
    "    }"
   ]
  },
  {
   "cell_type": "markdown",
   "metadata": {},
   "source": [
    "### hash_guid"
   ]
  },
  {
   "cell_type": "code",
   "execution_count": null,
   "metadata": {
    "dotnet_interactive": {
     "language": "spiral"
    },
    "polyglot_notebook": {
     "kernelName": "spiral"
    }
   },
   "outputs": [],
   "source": [
    "type hash_guid = guid\n",
    "\n",
    "let hash_guid (hash : string) : hash_guid =\n",
    "    inl hash = hash |> sm'.pad_left 32i32 '0'\n",
    "    run_target_args (fun () => \"-\", hash) function\n",
    "        | Rust (Contract) => fun _ => null ()\n",
    "        | _ => fun dash, hash =>\n",
    "            inl a = hash |> sm'.range (am'.Start 0i32) (am'.End fun _ => 8)\n",
    "            inl b = hash |> sm'.range (am'.Start 8i32) (am'.End fun _ => 12)\n",
    "            inl c = hash |> sm'.range (am'.Start 12i32) (am'.End fun _ => 16)\n",
    "            inl d = hash |> sm'.range (am'.Start 16i32) (am'.End fun _ => 20)\n",
    "            inl e = hash |> sm'.range (am'.Start 20i32) (am'.End fun _ => 32)\n",
    "            a ++# dash ++# b ++# dash ++# c ++# dash ++# d ++# dash ++# e\n",
    "            |> new_guid"
   ]
  },
  {
   "cell_type": "code",
   "execution_count": null,
   "metadata": {
    "dotnet_interactive": {
     "language": "spiral"
    },
    "polyglot_notebook": {
     "kernelName": "spiral"
    }
   },
   "outputs": [
    {
     "data": {
      "text/plain": [
       "\n",
       ".py output (Python):\n",
       "{ name = __assert_eq'; actual = 00000000-0000-0000-0000-000000000000; expected = 00000000-0000-0000-0000-000000000000 }\n",
       "{ name = __assert_eq'; actual = 12345678-9012-3456-7890-123456789012; expected = 12345678-9012-3456-7890-123456789012 }\n",
       "\n",
       "\n",
       ".rs output:\n",
       "{ name = __assert_eq'; actual = Guid(\n",
       "    00000000-0000-0000-0000-000000000000,\n",
       "); expected = Guid(\n",
       "    00000000-0000-0000-0000-000000000000,\n",
       ") }\n",
       "{ name = __assert_eq'; actual = Guid(\n",
       "    12345678-9012-3456-7890-123456789012,\n",
       "); expected = Guid(\n",
       "    12345678-9012-3456-7890-123456789012,\n",
       ") }\n",
       "\n",
       "\n",
       ".ts output:\n",
       "{ name = __assert_eq'; actual = 00000000-0000-0000-0000-000000000000; expected = 00000000-0000-0000-0000-000000000000 }\n",
       "{ name = __assert_eq'; actual = 12345678-9012-3456-7890-123456789012; expected = 12345678-9012-3456-7890-123456789012 }\n",
       "\n",
       "\n",
       ".py output:\n",
       "{ name = __assert_eq'; actual = 00000000-0000-0000-0000-000000000000; expected = 00000000-0000-0000-0000-000000000000 }\n",
       "{ name = __assert_eq'; actual = 12345678-9012-3456-7890-123456789012; expected = 12345678-9012-3456-7890-123456789012 }\n",
       "\n",
       "\n",
       ".gleam output (Gleam):\n",
       "{compiling,\"/home/runner/work/spiral/polyglot/target/spiral_Eval/packages/5c60dca95f3e51658f7e5eb55df7898768f13a71279b2cb54e979f233bc1861b/build/dev/erlang/main/_gleam_artefacts/main.erl\"}\n",
       "{compiling,\"/home/runner/work/spiral/polyglot/target/spiral_Eval/packages/5c60dca95f3e51658f7e5eb55df7898768f13a71279b2cb54e979f233bc1861b/build/dev/erlang/main/_gleam_artefacts/main@@main.erl\"}\n",
       "{compiled,main,\n",
       "          \"/home/runner/work/spiral/polyglot/target/spiral_Eval/packages/5c60dca95f3e51658f7e5eb55df7898768f13a71279b2cb54e979f233bc1861b/build/dev/erlang/main/ebin/main.beam\"}\n",
       "{compiled,main@@main,\n",
       "          \"/home/runner/work/spiral/polyglot/target/spiral_Eval/packages/5c60dca95f3e51658f7e5eb55df7898768f13a71279b2cb54e979f233bc1861b/build/dev/erlang/main/ebin/main@@main.beam\"}\n",
       "{ name = __assert_eq'; actual = \"00000000-000000000000-0000000000000000-0000000000000000-000000000000\"; expected = \"00000000-000000000000-0000000000000000-0000000000000000-000000000000\" }\n",
       "{ name = __assert_eq'; actual = \"12345678-901234567890-3456789012345678-78901234567890123-1234567890123\"; expected = \"12345678-901234567890-3456789012345678-78901234567890123-1234567890123\" }\n",
       "\n",
       "\n"
      ]
     },
     "metadata": {},
     "output_type": "display_data"
    },
    {
     "name": "stdout",
     "output_type": "stream",
     "text": [
      ".fsx output:\n",
      "{ name = __assert_eq'; actual = 00000000-0000-0000-0000-000000000000; expected = 00000000-0000-0000-0000-000000000000 }\n",
      "{ name = __assert_eq'; actual = 12345678-9012-3456-7890-123456789012; expected = 12345678-9012-3456-7890-123456789012 }\n"
     ]
    }
   ],
   "source": [
    "//// test\n",
    "///! gleam\n",
    "///! fsharp\n",
    "///! cuda\n",
    "///! rust\n",
    "///! typescript\n",
    "///! python\n",
    "\n",
    "\"\"\n",
    "|> hash_guid\n",
    "|> _assert_eq' (\n",
    "    backend_switch {\n",
    "        Gleam = fun () => new_guid \"00000000-000000000000-0000000000000000-0000000000000000-000000000000\"\n",
    "        Fsharp = fun () => new_guid \"00000000-0000-0000-0000-000000000000\"\n",
    "        Python = fun () => new_guid \"00000000-0000-0000-0000-000000000000\"\n",
    "    }\n",
    ")\n",
    "\n",
    "\"123456789012345678901234567890123\"\n",
    "|> hash_guid\n",
    "|> _assert_eq' (\n",
    "    backend_switch {\n",
    "        Gleam = fun () => new_guid \"12345678-901234567890-3456789012345678-78901234567890123-1234567890123\"\n",
    "        Fsharp = fun () => new_guid \"12345678-9012-3456-7890-123456789012\"\n",
    "        Python = fun () => new_guid \"12345678-9012-3456-7890-123456789012\"\n",
    "    }\n",
    ")"
   ]
  },
  {
   "cell_type": "markdown",
   "metadata": {},
   "source": [
    "## main"
   ]
  },
  {
   "cell_type": "code",
   "execution_count": null,
   "metadata": {
    "dotnet_interactive": {
     "language": "spiral"
    },
    "polyglot_notebook": {
     "kernelName": "spiral"
    }
   },
   "outputs": [],
   "source": [
    "inl main () =\n",
    "    $'let new_guid x = !new_guid x' : ()\n",
    "    $'let hash_guid x = !hash_guid x' : ()\n",
    "    $'let new_raw_guid x = !new_raw_guid x' : ()"
   ]
  }
 ],
 "metadata": {},
 "nbformat": 4,
 "nbformat_minor": 5
}