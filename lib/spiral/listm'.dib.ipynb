{
 "cells": [
  {
   "cell_type": "markdown",
   "metadata": {},
   "source": [
    "# listm'"
   ]
  },
  {
   "cell_type": "code",
   "execution_count": null,
   "metadata": {
    "dotnet_interactive": {
     "language": "spiral"
    },
    "polyglot_notebook": {
     "kernelName": "spiral"
    }
   },
   "outputs": [],
   "source": [
    "//// test\n",
    "\n",
    "open testing"
   ]
  },
  {
   "cell_type": "markdown",
   "metadata": {},
   "source": [
    "## listm'"
   ]
  },
  {
   "cell_type": "markdown",
   "metadata": {},
   "source": [
    "### append"
   ]
  },
  {
   "cell_type": "code",
   "execution_count": null,
   "metadata": {
    "dotnet_interactive": {
     "language": "spiral"
    },
    "polyglot_notebook": {
     "kernelName": "spiral"
    }
   },
   "outputs": [],
   "source": [
    "instance append list t =\n",
    "    listm.append"
   ]
  },
  {
   "cell_type": "code",
   "execution_count": null,
   "metadata": {
    "dotnet_interactive": {
     "language": "spiral"
    },
    "polyglot_notebook": {
     "kernelName": "spiral"
    }
   },
   "outputs": [
    {
     "data": {
      "text/plain": [
       ".py output (Cuda):\n",
       "__assert_eq / actual: UH0_1(v0='a', v1=UH0_1(v0='b', v1=UH0_1(v0='c', v1=UH0_1(v0='d', v1=UH0_0())))) / expected: UH0_1(v0='a', v1=UH0_1(v0='b', v1=UH0_1(v0='c', v1=UH0_1(v0='d', v1=UH0_0()))))\n",
       "\n",
       ".rs output:\n",
       "__assert_eq / actual: UH0_1(\"a\", UH0_1(\"b\", UH0_1(\"c\", UH0_1(\"d\", UH0_0)))) / expected: UH0_1(\"a\", UH0_1(\"b\", UH0_1(\"c\", UH0_1(\"d\", UH0_0))))\n",
       "\n",
       ".ts output:\n",
       "__assert_eq / actual: UH0_1 (a, UH0_1 (b, UH0_1 (c, UH0_1 (d, UH0_0)))) / expected: UH0_1 (a, UH0_1 (b, UH0_1 (c, UH0_1 (d, UH0_0))))\n",
       "\n",
       ".py output:\n",
       "__assert_eq / actual: UH0_1 (\"a\", UH0_1 (\"b\", UH0_1 (\"c\", UH0_1 (\"d\", UH0_0)))) / expected: UH0_1 (\"a\", UH0_1 (\"b\", UH0_1 (\"c\", UH0_1 (\"d\", UH0_0))))\n",
       "\n",
       "\n",
       ".gleam output (Gleam):\n",
       "{compiling,\"/home/runner/work/spiral/polyglot/target/spiral_Eval/packages/4701eef71d223e7baee6a79a72a7835c63064a602483bc473e55b047b1a6c3fa/build/dev/erlang/gleam_stdlib/_gleam_artefacts/gleam@bit_array.erl\"}\n",
       "{compiling,\"/home/runner/work/spiral/polyglot/target/spiral_Eval/packages/4701eef71d223e7baee6a79a72a7835c63064a602483bc473e55b047b1a6c3fa/build/dev/erlang/gleam_stdlib/_gleam_artefacts/gleam@io.erl\"}\n",
       "{compiling,\"/home/runner/work/spiral/polyglot/target/spiral_Eval/packages/4701eef71d223e7baee6a79a72a7835c63064a602483bc473e55b047b1a6c3fa/build/dev/erlang/gleam_stdlib/_gleam_artefacts/gleam@uri.erl\"}\n",
       "{compiling,\"/home/runner/work/spiral/polyglot/target/spiral_Eval/packages/4701eef71d223e7baee6a79a72a7835c63064a602483bc473e55b047b1a6c3fa/build/dev/erlang/gleam_stdlib/_gleam_artefacts/gleam@function.erl\"}\n",
       "{compiled,\"/home/runner/work/spiral/polyglot/target/spiral_Eval/packages/4701eef71d223e7baee6a79a72a7835c63064a602483bc473e55b047b1a6c3fa/build/dev/erlang/gleam_stdlib/ebin/gleam@function.beam\"}\n",
       "{compiling,\"/home/runner/work/spiral/polyglot/target/spiral_Eval/packages/4701eef71d223e7baee6a79a72a7835c63064a602483bc473e55b047b1a6c3fa/build/dev/erlang/gleam_stdlib/_gleam_artefacts/gleam@bool.erl\"}\n",
       "{compiled,\"/home/runner/work/spiral/polyglot/target/spiral_Eval/packages/4701eef71d223e7baee6a79a72a7835c63064a602483bc473e55b047b1a6c3fa/build/dev/erlang/gleam_stdlib/ebin/gleam@io.beam\"}\n",
       "{compiling,\"/home/runner/work/spiral/polyglot/target/spiral_Eval/packages/4701eef71d223e7baee6a79a72a7835c63064a602483bc473e55b047b1a6c3fa/build/dev/erlang/gleam_stdlib/_gleam_artefacts/gleam@bytes_tree.erl\"}\n",
       "{compiled,\"/home/runner/work/spiral/polyglot/target/spiral_Eval/packages/4701eef71d223e7baee6a79a72a7835c63064a602483bc473e55b047b1a6c3fa/build/dev/erlang/gleam_stdlib/ebin/gleam@bool.beam\"}\n",
       "{compiling,\"/home/runner/work/spiral/polyglot/target/spiral_Eval/packages/4701eef71d223e7baee6a79a72a7835c63064a602483bc473e55b047b1a6c3fa/build/dev/erlang/gleam_stdlib/_gleam_artefacts/gleam@order.erl\"}\n",
       "{compiled,\"/home/runner/work/spiral/polyglot/target/spiral_Eval/packages/4701eef71d223e7baee6a79a72a7835c63064a602483bc473e55b047b1a6c3fa/build/dev/erlang/gleam_stdlib/ebin/gleam@bytes_tree.beam\"}\n",
       "{compiling,\"/home/runner/work/spiral/polyglot/target/spiral_Eval/packages/4701eef71d223e7baee6a79a72a7835c63064a602483bc473e55b047b1a6c3fa/build/dev/erlang/gleam_stdlib/_gleam_artefacts/gleam@result.erl\"}\n",
       "{compiled,\"/home/runner/work/spiral/polyglot/target/spiral_Eval/packages/4701eef71d223e7baee6a79a72a7835c63064a602483bc473e55b047b1a6c3fa/build/dev/erlang/gleam_stdlib/ebin/gleam@order.beam\"}\n",
       "{compiling,\"/home/runner/work/spiral/polyglot/target/spiral_Eval/packages/4701eef71d223e7baee6a79a72a7835c63064a602483bc473e55b047b1a6c3fa/build/dev/erlang/gleam_stdlib/_gleam_artefacts/gleam_stdlib_decode_ffi.erl\"}\n",
       "{compiled,\"/home/runner/work/spiral/polyglot/target/spiral_Eval/packages/4701eef71d223e7baee6a79a72a7835c63064a602483bc473e55b047b1a6c3fa/build/dev/erlang/gleam_stdlib/ebin/gleam@bit_array.beam\"}\n",
       "{compiled,\"/home/runner/work/spiral/polyglot/target/spiral_Eval/packages/4701eef71d223e7baee6a79a72a7835c63064a602483bc473e55b047b1a6c3fa/build/dev/erlang/gleam_stdlib/ebin/gleam_stdlib_decode_ffi.beam\"}\n",
       "{compiling,\"/home/runner/work/spiral/polyglot/target/spiral_Eval/packages/4701eef71d223e7baee6a79a72a7835c63064a602483bc473e55b047b1a6c3fa/build/dev/erlang/gleam_stdlib/_gleam_artefacts/gleam@string.erl\"}\n",
       "{compiling,\"/home/runner/work/spiral/polyglot/target/spiral_Eval/packages/4701eef71d223e7baee6a79a72a7835c63064a602483bc473e55b047b1a6c3fa/build/dev/erlang/gleam_stdlib/_gleam_artefacts/gleam_stdlib.erl\"}\n",
       "{compiled,\"/home/runner/work/spiral/polyglot/target/spiral_Eval/packages/4701eef71d223e7baee6a79a72a7835c63064a602483bc473e55b047b1a6c3fa/build/dev/erlang/gleam_stdlib/ebin/gleam@result.beam\"}\n",
       "{compiling,\"/home/runner/work/spiral/polyglot/target/spiral_Eval/packages/4701eef71d223e7baee6a79a72a7835c63064a602483bc473e55b047b1a6c3fa/build/dev/erlang/gleam_stdlib/_gleam_artefacts/gleam@float.erl\"}\n",
       "{compiled,\"/home/runner/work/spiral/polyglot/target/spiral_Eval/packages/4701eef71d223e7baee6a79a72a7835c63064a602483bc473e55b047b1a6c3fa/build/dev/erlang/gleam_stdlib/ebin/gleam@float.beam\"}\n",
       "{compiling,\"/home/runner/work/spiral/polyglot/target/spiral_Eval/packages/4701eef71d223e7baee6a79a72a7835c63064a602483bc473e55b047b1a6c3fa/build/dev/erlang/gleam_stdlib/_gleam_artefacts/gleam@dynamic.erl\"}\n",
       "{compiled,\"/home/runner/work/spiral/polyglot/target/spiral_Eval/packages/4701eef71d223e7baee6a79a72a7835c63064a602483bc473e55b047b1a6c3fa/build/dev/erlang/gleam_stdlib/ebin/gleam@uri.beam\"}\n",
       "{compiling,\"/home/runner/work/spiral/polyglot/target/spiral_Eval/packages/4701eef71d223e7baee6a79a72a7835c63064a602483bc473e55b047b1a6c3fa/build/dev/erlang/gleam_stdlib/_gleam_artefacts/gleam@dynamic@decode.erl\"}\n",
       "{compiled,\"/home/runner/work/spiral/polyglot/target/spiral_Eval/packages/4701eef71d223e7baee6a79a72a7835c63064a602483bc473e55b047b1a6c3fa/build/dev/erlang/gleam_stdlib/ebin/gleam@string.beam\"}\n",
       "{compiling,\"/home/runner/work/spiral/polyglot/target/spiral_Eval/packages/4701eef71d223e7baee6a79a72a7835c63064a602483bc473e55b047b1a6c3fa/build/dev/erlang/gleam_stdlib/_gleam_artefacts/gleam@dict.erl\"}\n",
       "{compiled,\"/home/runner/work/spiral/polyglot/target/spiral_Eval/packages/4701eef71d223e7baee6a79a72a7835c63064a602483bc473e55b047b1a6c3fa/build/dev/erlang/gleam_stdlib/ebin/gleam@dict.beam\"}\n",
       "{compiling,\"/home/runner/work/spiral/polyglot/target/spiral_Eval/packages/4701eef71d223e7baee6a79a72a7835c63064a602483bc473e55b047b1a6c3fa/build/dev/erlang/gleam_stdlib/_gleam_artefacts/gleam@string_tree.erl\"}\n",
       "{compiled,\"/home/runner/work/spiral/polyglot/target/spiral_Eval/packages/4701eef71d223e7baee6a79a72a7835c63064a602483bc473e55b047b1a6c3fa/build/dev/erlang/gleam_stdlib/ebin/gleam@string_tree.beam\"}\n",
       "{compiling,\"/home/runner/work/spiral/polyglot/target/spiral_Eval/packages/4701eef71d223e7baee6a79a72a7835c63064a602483bc473e55b047b1a6c3fa/build/dev/erlang/gleam_stdlib/_gleam_artefacts/gleam@pair.erl\"}\n",
       "{compiled,\"/home/runner/work/spiral/polyglot/target/spiral_Eval/packages/4701eef71d223e7baee6a79a72a7835c63064a602483bc473e55b047b1a6c3fa/build/dev/erlang/gleam_stdlib/ebin/gleam@pair.beam\"}\n",
       "{compiling,\"/home/runner/work/spiral/polyglot/target/spiral_Eval/packages/4701eef71d223e7baee6a79a72a7835c63064a602483bc473e55b047b1a6c3fa/build/dev/erlang/gleam_stdlib/_gleam_artefacts/gleam@int.erl\"}\n",
       "{compiled,\"/home/runner/work/spiral/polyglot/target/spiral_Eval/packages/4701eef71d223e7baee6a79a72a7835c63064a602483bc473e55b047b1a6c3fa/build/dev/erlang/gleam_stdlib/ebin/gleam@int.beam\"}\n",
       "{compiling,\"/home/runner/work/spiral/polyglot/target/spiral_Eval/packages/4701eef71d223e7baee6a79a72a7835c63064a602483bc473e55b047b1a6c3fa/build/dev/erlang/gleam_stdlib/_gleam_artefacts/gleam@list.erl\"}\n",
       "{compiled,\"/home/runner/work/spiral/polyglot/target/spiral_Eval/packages/4701eef71d223e7baee6a79a72a7835c63064a602483bc473e55b047b1a6c3fa/build/dev/erlang/gleam_stdlib/ebin/gleam@dynamic@decode.beam\"}\n",
       "{compiling,\"/home/runner/work/spiral/polyglot/target/spiral_Eval/packages/4701eef71d223e7baee6a79a72a7835c63064a602483bc473e55b047b1a6c3fa/build/dev/erlang/gleam_stdlib/_gleam_artefacts/gleam@set.erl\"}\n",
       "{compiled,\"/home/runner/work/spiral/polyglot/target/spiral_Eval/packages/4701eef71d223e7baee6a79a72a7835c63064a602483bc473e55b047b1a6c3fa/build/dev/erlang/gleam_stdlib/ebin/gleam_stdlib.beam\"}\n",
       "{compiling,\"/home/runner/work/spiral/polyglot/target/spiral_Eval/packages/4701eef71d223e7baee6a79a72a7835c63064a602483bc473e55b047b1a6c3fa/build/dev/erlang/gleam_stdlib/_gleam_artefacts/gleam@option.erl\"}\n",
       "{compiled,\"/home/runner/work/spiral/polyglot/target/spiral_Eval/packages/4701eef71d223e7baee6a79a72a7835c63064a602483bc473e55b047b1a6c3fa/build/dev/erlang/gleam_stdlib/ebin/gleam@set.beam\"}\n",
       "{compiled,\"/home/runner/work/spiral/polyglot/target/spiral_Eval/packages/4701eef71d223e7baee6a79a72a7835c63064a602483bc473e55b047b1a6c3fa/build/dev/erlang/gleam_stdlib/ebin/gleam@option.beam\"}\n",
       "{compiled,\"/home/runner/work/spiral/polyglot/target/spiral_Eval/packages/4701eef71d223e7baee6a79a72a7835c63064a602483bc473e55b047b1a6c3fa/build/dev/erlang/gleam_stdlib/ebin/gleam@dynamic.beam\"}\n",
       "{compiled,\"/home/runner/work/spiral/polyglot/target/spiral_Eval/packages/4701eef71d223e7baee6a79a72a7835c63064a602483bc473e55b047b1a6c3fa/build/dev/erlang/gleam_stdlib/ebin/gleam@list.beam\"}\n",
       "{compiling,\"/home/runner/work/spiral/polyglot/target/spiral_Eval/packages/4701eef71d223e7baee6a79a72a7835c63064a602483bc473e55b047b1a6c3fa/build/dev/erlang/gary/_gleam_artefacts/gary@array.erl\"}\n",
       "{compiling,\"/home/runner/work/spiral/polyglot/target/spiral_Eval/packages/4701eef71d223e7baee6a79a72a7835c63064a602483bc473e55b047b1a6c3fa/build/dev/erlang/gary/_gleam_artefacts/internal@array_bindings.erl\"}\n",
       "{compiling,\"/home/runner/work/spiral/polyglot/target/spiral_Eval/packages/4701eef71d223e7baee6a79a72a7835c63064a602483bc473e55b047b1a6c3fa/build/dev/erlang/gary/_gleam_artefacts/gary.erl\"}\n",
       "{compiled,\"/home/runner/work/spiral/polyglot/target/spiral_Eval/packages/4701eef71d223e7baee6a79a72a7835c63064a602483bc473e55b047b1a6c3fa/build/dev/erlang/gary/ebin/gary.beam\"}\n",
       "{compiled,\"/home/runner/work/spiral/polyglot/target/spiral_Eval/packages/4701eef71d223e7baee6a79a72a7835c63064a602483bc473e55b047b1a6c3fa/build/dev/erlang/gary/ebin/internal@array_bindings.beam\"}\n",
       "{compiled,\"/home/runner/work/spiral/polyglot/target/spiral_Eval/packages/4701eef71d223e7baee6a79a72a7835c63064a602483bc473e55b047b1a6c3fa/build/dev/erlang/gary/ebin/gary@array.beam\"}\n",
       "{compiling,\"/home/runner/work/spiral/polyglot/target/spiral_Eval/packages/4701eef71d223e7baee6a79a72a7835c63064a602483bc473e55b047b1a6c3fa/build/dev/erlang/main/_gleam_artefacts/main.erl\"}\n",
       "{compiling,\"/home/runner/work/spiral/polyglot/target/spiral_Eval/packages/4701eef71d223e7baee6a79a72a7835c63064a602483bc473e55b047b1a6c3fa/build/dev/erlang/main/_gleam_artefacts/main@@main.erl\"}\n",
       "{compiled,\"/home/runner/work/spiral/polyglot/target/spiral_Eval/packages/4701eef71d223e7baee6a79a72a7835c63064a602483bc473e55b047b1a6c3fa/build/dev/erlang/main/ebin/main.beam\"}\n",
       "{compiled,\"/home/runner/work/spiral/polyglot/target/spiral_Eval/packages/4701eef71d223e7baee6a79a72a7835c63064a602483bc473e55b047b1a6c3fa/build/dev/erlang/main/ebin/main@@main.beam\"}\n",
       "__assert_eq / actual: Uh0i1(\"a\", Uh0i1(\"b\", Uh0i1(\"c\", Uh0i1(\"d\", Uh0i0)))) / expected: Uh0i1(\"a\", Uh0i1(\"b\", Uh0i1(\"c\", Uh0i1(\"d\", Uh0i0))))\n",
       "\n",
       "\n",
       "\n",
       "\n"
      ]
     },
     "metadata": {},
     "output_type": "display_data"
    },
    {
     "name": "stdout",
     "output_type": "stream",
     "text": [
      ".gleam (Gleam):\n",
      "import gleam/string\n",
      "import gleam/io\n",
      "pub type Uh0 {\n",
      "    Uh0i0\n",
      "    Uh0i1(String, Uh0)\n",
      "}\n",
      "pub fn method0 () -> Nil   {\n",
      "    let v0 = \"__assert_eq\"\n",
      "    let v1 = \"a\"\n",
      "    let v2 = \"b\"\n",
      "    let v3 = \"c\"\n",
      "    let v4 = \"d\"\n",
      "    let v5 = Uh0i0\n",
      "    let v6 = Uh0i1(v4, v5)\n",
      "    let v7 = Uh0i1(v3, v6)\n",
      "    let v8 = Uh0i1(v2, v7)\n",
      "    let v9 = Uh0i1(v1, v8)\n",
      "    let v10 = string.inspect(v9)\n",
      "    let v11 = Uh0i0\n",
      "    let v12 = Uh0i1(v4, v11)\n",
      "    let v13 = Uh0i1(v3, v12)\n",
      "    let v14 = Uh0i1(v2, v13)\n",
      "    let v15 = Uh0i1(v1, v14)\n",
      "    let v16 = string.inspect(v15)\n",
      "    let v17 = v0 <> \" / actual: \" <> v10 <> \" / expected: \" <> v16\n",
      "    io.println(v17)\n",
      "    Nil \n",
      "}\n",
      "pub fn main () { method0()\n",
      " }\n",
      ".fsx:\n",
      "type UH0 =\n",
      "    | UH0_0\n",
      "    | UH0_1 of string * UH0\n",
      "let rec closure0 (v0 : string) () : unit =\n",
      "    let v1 : (string -> unit) = System.Console.WriteLine\n",
      "    v1 v0\n",
      "and method0 () : unit =\n",
      "    let v18 : string = \"__assert_eq\"\n",
      "    let v19 : string = \"a\"\n",
      "    let v20 : string = \"b\"\n",
      "    let v21 : string = \"c\"\n",
      "    let v22 : string = \"d\"\n",
      "    let v23 : UH0 = UH0_0\n",
      "    let v24 : UH0 = UH0_1(v22, v23)\n",
      "    let v25 : UH0 = UH0_1(v21, v24)\n",
      "    let v26 : UH0 = UH0_1(v20, v25)\n",
      "    let v27 : UH0 = UH0_1(v19, v26)\n",
      "    let v28 : UH0 = UH0_0\n",
      "    let v29 : UH0 = UH0_1(v22, v28)\n",
      "    let v30 : UH0 = UH0_1(v21, v29)\n",
      "    let v31 : UH0 = UH0_1(v20, v30)\n",
      "    let v32 : UH0 = UH0_1(v19, v31)\n",
      "    let v33 : string = $\"{v18} / actual: %A{v27} / expected: %A{v32}\"\n",
      "    let v46 : unit = ()\n",
      "    let v47 : (unit -> unit) = closure0(v33)\n",
      "    let v48 : unit = (fun () -> v47 (); v46) ()\n",
      "    ()\n",
      "method0()\n",
      "\n",
      "\n",
      ".rs:\n",
      "#![allow(dead_code)]\n",
      "#![allow(non_camel_case_types)]\n",
      "#![allow(non_snake_case)]\n",
      "#![allow(non_upper_case_globals)]\n",
      "#![allow(unreachable_code)]\n",
      "#![allow(unused_attributes)]\n",
      "#![allow(unused_imports)]\n",
      "#![allow(unused_macros)]\n",
      "#![allow(unused_parens)]\n",
      "#![allow(unused_variables)]\n",
      "#![allow(unused_assignments)]\n",
      "mod module_6ff740fe {\n",
      "    pub mod Spiral {\n",
      "        use super::*;\n",
      "        use fable_library_rust::Native_::on_startup;\n",
      "        use fable_library_rust::Native_::LrcPtr;\n",
      "        use fable_library_rust::String_::printfn;\n",
      "        use fable_library_rust::String_::sprintf;\n",
      "        use fable_library_rust::String_::string;\n",
      "        #[derive(Clone, Debug, Hash, PartialEq, PartialOrd)]\n",
      "        pub enum UH0 {\n",
      "            UH0_0,\n",
      "            UH0_1(string, LrcPtr<Spiral::UH0>),\n",
      "        }\n",
      "        impl core::fmt::Display for UH0 {\n",
      "            fn fmt(&self, f: &mut core::fmt::Formatter) -> core::fmt::Result {\n",
      "                write!(f, \"{}\", core::any::type_name::<Self>())\n",
      "            }\n",
      "        }\n",
      "        pub fn closure0(v0: string, unitVar: ()) {\n",
      "            printfn!(\"{0}\", v0);\n",
      "        }\n",
      "        pub fn method0() {\n",
      "            let v48: () = {\n",
      "                Spiral::closure0(\n",
      "                    sprintf!(\n",
      "                        \"{} / actual: {:?} / expected: {:?}\",\n",
      "                        string(\"__assert_eq\"),\n",
      "                        LrcPtr::new(Spiral::UH0::UH0_1(\n",
      "                            string(\"a\"),\n",
      "                            LrcPtr::new(Spiral::UH0::UH0_1(\n",
      "                                string(\"b\"),\n",
      "                                LrcPtr::new(Spiral::UH0::UH0_1(\n",
      "                                    string(\"c\"),\n",
      "                                    LrcPtr::new(Spiral::UH0::UH0_1(\n",
      "                                        string(\"d\"),\n",
      "                                        LrcPtr::new(Spiral::UH0::UH0_0)\n",
      "                                    ))\n",
      "                                ))\n",
      "                            ))\n",
      "                        )),\n",
      "                        LrcPtr::new(Spiral::UH0::UH0_1(\n",
      "                            string(\"a\"),\n",
      "                            LrcPtr::new(Spiral::UH0::UH0_1(\n",
      "                                string(\"b\"),\n",
      "                                LrcPtr::new(Spiral::UH0::UH0_1(\n",
      "                                    string(\"c\"),\n",
      "                                    LrcPtr::new(Spiral::UH0::UH0_1(\n",
      "                                        string(\"d\"),\n",
      "                                        LrcPtr::new(Spiral::UH0::UH0_0)\n",
      "                                    ))\n",
      "                                ))\n",
      "                            ))\n",
      "                        ))\n",
      "                    ),\n",
      "                    (),\n",
      "                );\n",
      "                ()\n",
      "            };\n",
      "            ()\n",
      "        }\n",
      "        // on_startup!(Spiral::method0());\n",
      "    }\n",
      "}\n",
      "pub use module_6ff740fe::*;\n",
      "\n",
      "\n",
      "\n",
      "pub fn main() -> Result<(), String> { Ok(Spiral::method0()) }\n",
      "\n",
      ".ts:\n",
      "import { Union } from \"./fable_modules/fable-library-ts.5.0.0-alpha.9/Types.js\";\n",
      "import { union_type, string_type, TypeInfo } from \"./fable_modules/fable-library-ts.5.0.0-alpha.9/Reflection.js\";\n",
      "import { interpolate, toText } from \"./fable_modules/fable-library-ts.5.0.0-alpha.9/String.js\";\n",
      "\n",
      "export type UH0_$union = \n",
      "    | UH0<0>\n",
      "    | UH0<1>\n",
      "\n",
      "export type UH0_$cases = {\n",
      "    0: [\"UH0_0\", []],\n",
      "    1: [\"UH0_1\", [string, UH0_$union]]\n",
      "}\n",
      "\n",
      "export function UH0_UH0_0() {\n",
      "    return new UH0<0>(0, []);\n",
      "}\n",
      "\n",
      "export function UH0_UH0_1(Item1: string, Item2: UH0_$union) {\n",
      "    return new UH0<1>(1, [Item1, Item2]);\n",
      "}\n",
      "\n",
      "export class UH0<Tag extends keyof UH0_$cases> extends Union<Tag, UH0_$cases[Tag][0]> {\n",
      "    constructor(readonly tag: Tag, readonly fields: UH0_$cases[Tag][1]) {\n",
      "        super();\n",
      "    }\n",
      "    cases() {\n",
      "        return [\"UH0_0\", \"UH0_1\"];\n",
      "    }\n",
      "}\n",
      "\n",
      "export function UH0_$reflection(): TypeInfo {\n",
      "    return union_type(\"Spiral.UH0\", [], UH0, () => [[], [[\"Item1\", string_type], [\"Item2\", UH0_$reflection()]]]);\n",
      "}\n",
      "\n",
      "export function closure0(v0: string, unitVar: void): void {\n",
      "    console.log(v0);\n",
      "}\n",
      "\n",
      "export function method0(): void {\n",
      "    let v48: any;\n",
      "    closure0(toText(interpolate(\"%P() / actual: %A%P() / expected: %A%P()\", [\"__assert_eq\", UH0_UH0_1(\"a\", UH0_UH0_1(\"b\", UH0_UH0_1(\"c\", UH0_UH0_1(\"d\", UH0_UH0_0())))), UH0_UH0_1(\"a\", UH0_UH0_1(\"b\", UH0_UH0_1(\"c\", UH0_UH0_1(\"d\", UH0_UH0_0()))))])), undefined);\n",
      "    v48 = undefined;\n",
      "}\n",
      "\n",
      "method0();\n",
      "\n",
      "\n",
      ".py:\n",
      "from typing import Any\n",
      "from fable_modules.fable_library.reflection import (TypeInfo, string_type, union_type)\n",
      "from fable_modules.fable_library.string_ import (to_text, interpolate)\n",
      "from fable_modules.fable_library.types import (Array, Union)\n",
      "\n",
      "def _expr0() -> TypeInfo:\n",
      "    return union_type(\"Spiral.UH0\", [], UH0, lambda: [[], [(\"Item1\", string_type), (\"Item2\", UH0_reflection())]])\n",
      "\n",
      "\n",
      "class UH0(Union):\n",
      "    def __init__(self, tag: int, *fields: Any) -> None:\n",
      "        super().__init__()\n",
      "        self.tag: int = tag or 0\n",
      "        self.fields: Array[Any] = list(fields)\n",
      "\n",
      "    @staticmethod\n",
      "    def cases() -> list[str]:\n",
      "        return [\"UH0_0\", \"UH0_1\"]\n",
      "\n",
      "\n",
      "UH0_reflection = _expr0\n",
      "\n",
      "def closure0(v0: str, unit_var: None) -> None:\n",
      "    print(v0)\n",
      "\n",
      "\n",
      "def method0(__unit: None=None) -> None:\n",
      "    v48: None\n",
      "    closure0(to_text(interpolate(\"%P() / actual: %A%P() / expected: %A%P()\", [\"__assert_eq\", UH0(1, \"a\", UH0(1, \"b\", UH0(1, \"c\", UH0(1, \"d\", UH0(0))))), UH0(1, \"a\", UH0(1, \"b\", UH0(1, \"c\", UH0(1, \"d\", UH0(0)))))])), None)\n",
      "    v48 = None\n",
      "\n",
      "\n",
      "method0()\n",
      "\n",
      "\n",
      ".py (Cuda):\n",
      "kernel = r\"\"\"\n",
      "\"\"\"\n",
      "class static_array():\n",
      "    def __init__(self, length):\n",
      "        self.ptr = []\n",
      "        for _ in range(length):\n",
      "            self.ptr.append(None)\n",
      "\n",
      "    def __getitem__(self, index):\n",
      "        assert 0 <= index < len(self.ptr), \"The get index needs to be in range.\"\n",
      "        return self.ptr[index]\n",
      "    \n",
      "    def __setitem__(self, index, value):\n",
      "        assert 0 <= index < len(self.ptr), \"The set index needs to be in range.\"\n",
      "        self.ptr[index] = value\n",
      "\n",
      "class static_array_list(static_array):\n",
      "    def __init__(self, length):\n",
      "        super().__init__(length)\n",
      "        self.length = 0\n",
      "\n",
      "    def __getitem__(self, index):\n",
      "        assert 0 <= index < self.length, \"The get index needs to be in range.\"\n",
      "        return self.ptr[index]\n",
      "    \n",
      "    def __setitem__(self, index, value):\n",
      "        assert 0 <= index < self.length, \"The set index needs to be in range.\"\n",
      "        self.ptr[index] = value\n",
      "\n",
      "    def push(self,value):\n",
      "        assert (self.length < len(self.ptr)), \"The length before pushing has to be less than the maximum length of the array.\"\n",
      "        self.ptr[self.length] = value\n",
      "        self.length += 1\n",
      "\n",
      "    def pop(self):\n",
      "        assert (0 < self.length), \"The length before popping has to be greater than 0.\"\n",
      "        self.length -= 1\n",
      "        return self.ptr[self.length]\n",
      "\n",
      "    def unsafe_set_length(self,i):\n",
      "        assert 0 <= i <= len(self.ptr), \"The new length has to be in range.\"\n",
      "        self.length = i\n",
      "\n",
      "class dynamic_array(static_array): \n",
      "    pass\n",
      "\n",
      "class dynamic_array_list(static_array_list):\n",
      "    def length_(self): return self.length\n",
      "\n",
      "import cupy as cp\n",
      "import numpy as np\n",
      "from dataclasses import dataclass\n",
      "from typing import NamedTuple, Union, Callable, Tuple\n",
      "i8 = int; i16 = int; i32 = int; i64 = int; u8 = int; u16 = int; u32 = int; u64 = int; f32 = float; f64 = float; char = str; string = str\n",
      "cuda = False\n",
      "\n",
      "UH0 = Union[\"UH0_0\", \"UH0_1\"]\n",
      "class UH0_0(NamedTuple): # (0, Nil)\n",
      "    tag = 0\n",
      "class UH0_1(NamedTuple): # (1, Cons)\n",
      "    v0 : string\n",
      "    v1 : UH0\n",
      "    tag = 1\n",
      "def method0() -> None:\n",
      "    v34 = \"__assert_eq\"\n",
      "    v35 = \"a\"\n",
      "    v36 = \"b\"\n",
      "    v37 = \"c\"\n",
      "    v38 = \"d\"\n",
      "    v39 = UH0_0()\n",
      "    v40 = UH0_1(v38, v39)\n",
      "    del v39\n",
      "    v41 = UH0_1(v37, v40)\n",
      "    del v40\n",
      "    v42 = UH0_1(v36, v41)\n",
      "    del v41\n",
      "    v43 = UH0_1(v35, v42)\n",
      "    del v42\n",
      "    v44 = UH0_0()\n",
      "    v45 = UH0_1(v38, v44)\n",
      "    del v38, v44\n",
      "    v46 = UH0_1(v37, v45)\n",
      "    del v37, v45\n",
      "    v47 = UH0_1(v36, v46)\n",
      "    del v36, v46\n",
      "    v48 = UH0_1(v35, v47)\n",
      "    del v35, v47\n",
      "    v49 = f\"{v34} / actual: {v43} / expected: {v48}\"\n",
      "    del v34, v43, v48\n",
      "    print(v49)\n",
      "    del v49\n",
      "    return \n",
      "def main_body():\n",
      "    return method0()\n",
      "\n",
      "def main():\n",
      "    r = main_body()\n",
      "    if cuda: cp.cuda.get_current_stream().synchronize() # This line is here so the `__trap()` calls on the kernel aren't missed.\n",
      "    return r\n",
      "\n",
      "if __name__ == '__main__': result = main(); None if result is None else print(result)\n",
      "\n",
      ".fsx output:\n",
      "__assert_eq / actual: UH0_1 (\"a\", UH0_1 (\"b\", UH0_1 (\"c\", UH0_1 (\"d\", UH0_0)))) / expected: UH0_1 (\"a\", UH0_1 (\"b\", UH0_1 (\"c\", UH0_1 (\"d\", UH0_0))))\n"
     ]
    }
   ],
   "source": [
    "//// test\n",
    "///! gleam\n",
    "///! fsharp\n",
    "///! cuda\n",
    "///! rust\n",
    "///! typescript\n",
    "///! python\n",
    "//// print_code\n",
    "\n",
    "[ \"a\"; \"b\" ] ++ [ \"c\"; \"d\" ]\n",
    "|> _assert_eq [ \"a\"; \"b\"; \"c\"; \"d\" ]"
   ]
  },
  {
   "cell_type": "markdown",
   "metadata": {},
   "source": [
    "### collect"
   ]
  },
  {
   "cell_type": "code",
   "execution_count": null,
   "metadata": {
    "dotnet_interactive": {
     "language": "spiral"
    },
    "polyglot_notebook": {
     "kernelName": "spiral"
    }
   },
   "outputs": [],
   "source": [
    "inl collect forall t r. (fn : t -> list r) (items : list t) : list r =\n",
    "    items\n",
    "    |> listm.map fn\n",
    "    |> listm.fold (++) []"
   ]
  },
  {
   "cell_type": "markdown",
   "metadata": {},
   "source": [
    "### replicate"
   ]
  },
  {
   "cell_type": "code",
   "execution_count": null,
   "metadata": {
    "dotnet_interactive": {
     "language": "spiral"
    },
    "polyglot_notebook": {
     "kernelName": "spiral"
    }
   },
   "outputs": [],
   "source": [
    "inl replicate count x =\n",
    "    listm.init count fun _ => x"
   ]
  },
  {
   "cell_type": "markdown",
   "metadata": {},
   "source": [
    "### map4"
   ]
  },
  {
   "cell_type": "code",
   "execution_count": null,
   "metadata": {
    "dotnet_interactive": {
     "language": "spiral"
    },
    "polyglot_notebook": {
     "kernelName": "spiral"
    }
   },
   "outputs": [],
   "source": [
    "inl map4 f l1 l2 l3 l4 =\n",
    "    inl rec loop l1 l2 l3 l4 acc =\n",
    "        match l1, l2, l3, l4 with\n",
    "        | (x1 :: xs1), (x2 :: xs2), (x3 :: xs3), (x4 :: xs4) =>\n",
    "            loop xs1 xs2 xs3 xs4 (f x1 x2 x3 x4 :: acc)\n",
    "        | _ => acc |> listm.rev\n",
    "    loop l1 l2 l3 l4 []"
   ]
  },
  {
   "cell_type": "markdown",
   "metadata": {},
   "source": [
    "### init_series"
   ]
  },
  {
   "cell_type": "code",
   "execution_count": null,
   "metadata": {
    "dotnet_interactive": {
     "language": "spiral"
    },
    "polyglot_notebook": {
     "kernelName": "spiral"
    }
   },
   "outputs": [],
   "source": [
    "inl init_series start end inc =\n",
    "    inl total : f64 = conv ((end - start) / inc) + 1\n",
    "    listm.init total (conv >> (*) inc >> (+) start)"
   ]
  },
  {
   "cell_type": "code",
   "execution_count": null,
   "metadata": {
    "dotnet_interactive": {
     "language": "spiral"
    },
    "polyglot_notebook": {
     "kernelName": "spiral"
    }
   },
   "outputs": [
    {
     "name": "stdout",
     "output_type": "stream",
     "text": [
      "__assert_eq / actual: UH0_1 (0.0, UH0_1 (0.5, UH0_1 (1.0, UH0_0))) / expected: UH0_1 (0.0, UH0_1 (0.5, UH0_1 (1.0, UH0_0)))\n"
     ]
    }
   ],
   "source": [
    "//// test\n",
    "\n",
    "init_series 0 1 0.5\n",
    "|> _assert_eq [ 0f64; 0.5; 1 ]"
   ]
  },
  {
   "cell_type": "markdown",
   "metadata": {},
   "source": [
    "### try_item"
   ]
  },
  {
   "cell_type": "code",
   "execution_count": null,
   "metadata": {
    "dotnet_interactive": {
     "language": "spiral"
    },
    "polyglot_notebook": {
     "kernelName": "spiral"
    }
   },
   "outputs": [],
   "source": [
    "inl rec try_item i = function\n",
    "    | Cons (x, _) when i = 0 => Some x\n",
    "    | Cons (_, xs) => try_item (i - 1) xs\n",
    "    | Nil => None"
   ]
  },
  {
   "cell_type": "code",
   "execution_count": null,
   "metadata": {
    "dotnet_interactive": {
     "language": "spiral"
    },
    "polyglot_notebook": {
     "kernelName": "spiral"
    }
   },
   "outputs": [
    {
     "name": "stdout",
     "output_type": "stream",
     "text": [
      "__assert_eq / actual: US0_0 9 / expected: US0_0 9\n"
     ]
    }
   ],
   "source": [
    "//// test\n",
    "\n",
    "listm.init 10i32 id\n",
    "|> try_item 9i32\n",
    "|> _assert_eq (Some 9)"
   ]
  },
  {
   "cell_type": "code",
   "execution_count": null,
   "metadata": {
    "dotnet_interactive": {
     "language": "spiral"
    },
    "polyglot_notebook": {
     "kernelName": "spiral"
    }
   },
   "outputs": [
    {
     "name": "stdout",
     "output_type": "stream",
     "text": [
      "__assert_eq / actual: US0_1 / expected: US0_1\n"
     ]
    }
   ],
   "source": [
    "//// test\n",
    "\n",
    "listm.init 10i32 id\n",
    "|> try_item 10i32\n",
    "|> _assert_eq None"
   ]
  },
  {
   "cell_type": "markdown",
   "metadata": {},
   "source": [
    "### item"
   ]
  },
  {
   "cell_type": "code",
   "execution_count": null,
   "metadata": {
    "dotnet_interactive": {
     "language": "spiral"
    },
    "polyglot_notebook": {
     "kernelName": "spiral"
    }
   },
   "outputs": [],
   "source": [
    "inl item i =\n",
    "    try_item i >> optionm.value"
   ]
  },
  {
   "cell_type": "code",
   "execution_count": null,
   "metadata": {
    "dotnet_interactive": {
     "language": "spiral"
    },
    "polyglot_notebook": {
     "kernelName": "spiral"
    }
   },
   "outputs": [
    {
     "name": "stdout",
     "output_type": "stream",
     "text": [
      "__assert_eq / actual: 9 / expected: 9\n"
     ]
    }
   ],
   "source": [
    "//// test\n",
    "\n",
    "listm.init 10i32 id\n",
    "|> item 9i32\n",
    "|> _assert_eq 9"
   ]
  },
  {
   "cell_type": "code",
   "execution_count": null,
   "metadata": {
    "dotnet_interactive": {
     "language": "spiral"
    },
    "polyglot_notebook": {
     "kernelName": "spiral"
    }
   },
   "outputs": [
    {
     "name": "stdout",
     "output_type": "stream",
     "text": [
      "__assert_eq / actual: US1_0 \"System.Exception: Option does not have a value.\" / expected: US1_0 \"System.Exception: Option does not have a value.\"\n"
     ]
    }
   ],
   "source": [
    "//// test\n",
    "\n",
    "fun () =>\n",
    "    listm.init 10i32 id\n",
    "    |> item 10i32\n",
    "    |> ignore\n",
    "|> _throws\n",
    "|> optionm.map sm'.format_exception\n",
    "|> _assert_eq (Some \"System.Exception: Option does not have a value.\")"
   ]
  },
  {
   "cell_type": "markdown",
   "metadata": {},
   "source": [
    "### try_item_"
   ]
  },
  {
   "cell_type": "code",
   "execution_count": null,
   "metadata": {
    "dotnet_interactive": {
     "language": "spiral"
    },
    "polyglot_notebook": {
     "kernelName": "spiral"
    }
   },
   "outputs": [],
   "source": [
    "let rec try_item_ i = function\n",
    "    | Cons (x, _) when i = 0 => Some x\n",
    "    | Cons (_, xs) => try_item_ (i - 1) xs\n",
    "    | Nil => None"
   ]
  },
  {
   "cell_type": "markdown",
   "metadata": {},
   "source": [
    "### item_"
   ]
  },
  {
   "cell_type": "code",
   "execution_count": null,
   "metadata": {
    "dotnet_interactive": {
     "language": "spiral"
    },
    "polyglot_notebook": {
     "kernelName": "spiral"
    }
   },
   "outputs": [],
   "source": [
    "inl item_ i =\n",
    "    try_item_ i >> optionm.value"
   ]
  },
  {
   "cell_type": "markdown",
   "metadata": {},
   "source": [
    "### sum"
   ]
  },
  {
   "cell_type": "code",
   "execution_count": null,
   "metadata": {
    "dotnet_interactive": {
     "language": "spiral"
    },
    "polyglot_notebook": {
     "kernelName": "spiral"
    }
   },
   "outputs": [],
   "source": [
    "inl sum list =\n",
    "    list |> listm.fold (+) 0"
   ]
  },
  {
   "cell_type": "code",
   "execution_count": null,
   "metadata": {
    "dotnet_interactive": {
     "language": "spiral"
    },
    "polyglot_notebook": {
     "kernelName": "spiral"
    }
   },
   "outputs": [
    {
     "name": "stdout",
     "output_type": "stream",
     "text": [
      "__assert_eq / actual: 45 / expected: 45\n"
     ]
    }
   ],
   "source": [
    "//// test\n",
    "\n",
    "listm.init 10i32 id\n",
    "|> sum\n",
    "|> _assert_eq 45"
   ]
  },
  {
   "cell_type": "markdown",
   "metadata": {},
   "source": [
    "### unzip"
   ]
  },
  {
   "cell_type": "code",
   "execution_count": null,
   "metadata": {
    "dotnet_interactive": {
     "language": "spiral"
    },
    "polyglot_notebook": {
     "kernelName": "spiral"
    }
   },
   "outputs": [],
   "source": [
    "inl unzip list =\n",
    "    (([], []), list)\n",
    "    ||> listm.fold fun (acc_x, acc_y) (x, y) =>\n",
    "        x :: acc_x, y :: acc_y\n",
    "    |> fun x, y =>\n",
    "        x |> listm.rev, y |> listm.rev"
   ]
  },
  {
   "cell_type": "code",
   "execution_count": null,
   "metadata": {
    "dotnet_interactive": {
     "language": "spiral"
    },
    "polyglot_notebook": {
     "kernelName": "spiral"
    }
   },
   "outputs": [
    {
     "name": "stdout",
     "output_type": "stream",
     "text": [
      "__assert_eq / actual: 45 / expected: 45\n",
      "__assert_eq / actual: 45 / expected: 45\n"
     ]
    }
   ],
   "source": [
    "//// test\n",
    "\n",
    "listm.init 10i32 id\n",
    "|> listm.map (fun x => x, x)\n",
    "|> unzip\n",
    "|> fun x, y =>\n",
    "    x |> sum\n",
    "    |> _assert_eq 45\n",
    "\n",
    "    y |> sum\n",
    "    |> _assert_eq 45"
   ]
  },
  {
   "cell_type": "markdown",
   "metadata": {},
   "source": [
    "### try_index_of"
   ]
  },
  {
   "cell_type": "code",
   "execution_count": null,
   "metadata": {
    "dotnet_interactive": {
     "language": "spiral"
    },
    "polyglot_notebook": {
     "kernelName": "spiral"
    }
   },
   "outputs": [],
   "source": [
    "inl try_index_of item list =\n",
    "    inl rec loop i = function\n",
    "        | [] => None\n",
    "        | x :: xs =>\n",
    "            if x = item\n",
    "            then Some i\n",
    "            else loop (i + 1) xs\n",
    "    loop 0 list\n",
    "\n",
    "inl index_of item =\n",
    "    try_index_of item >> optionm.value\n",
    "\n",
    "inl try_index_of_ item list =\n",
    "    let rec loop i = function\n",
    "        | [] => None\n",
    "        | x :: xs =>\n",
    "            if x = item\n",
    "            then Some i\n",
    "            else loop (i + 1) xs\n",
    "    loop 0 list\n",
    "\n",
    "inl index_of_ item =\n",
    "    try_index_of_ item >> optionm.value\n",
    "\n",
    "inl try_index_of__ item list =\n",
    "    inl i = mut 0\n",
    "    inl list = mut list\n",
    "    inl result = mut None\n",
    "    let rec loop () =\n",
    "        match *list with\n",
    "        | [] => result <- None\n",
    "        | x :: xs =>\n",
    "            if x = item\n",
    "            then result <- Some *i\n",
    "            else\n",
    "                i <- *i + 1\n",
    "                list <- xs\n",
    "                loop ()\n",
    "    loop ()\n",
    "    *result\n",
    "\n",
    "inl index_of__ item =\n",
    "    try_index_of__ item >> optionm.value"
   ]
  },
  {
   "cell_type": "code",
   "execution_count": null,
   "metadata": {
    "dotnet_interactive": {
     "language": "spiral"
    },
    "polyglot_notebook": {
     "kernelName": "spiral"
    }
   },
   "outputs": [
    {
     "name": "stdout",
     "output_type": "stream",
     "text": [
      "__assert_eq / actual: 5 / expected: 5\n"
     ]
    }
   ],
   "source": [
    "//// test\n",
    "\n",
    "listm.init 10i32 id\n",
    "|> index_of 5i32\n",
    "|> _assert_eq 5i32"
   ]
  },
  {
   "cell_type": "code",
   "execution_count": null,
   "metadata": {
    "dotnet_interactive": {
     "language": "spiral"
    },
    "polyglot_notebook": {
     "kernelName": "spiral"
    }
   },
   "outputs": [
    {
     "name": "stdout",
     "output_type": "stream",
     "text": [
      "__assert_eq / actual: US0_1 / expected: US0_1\n"
     ]
    }
   ],
   "source": [
    "//// test\n",
    "\n",
    "listm.init 10i32 id\n",
    "|> try_index_of 10i32\n",
    "|> _assert_eq (None : option i32)"
   ]
  },
  {
   "cell_type": "markdown",
   "metadata": {},
   "source": [
    "### try_find"
   ]
  },
  {
   "cell_type": "code",
   "execution_count": null,
   "metadata": {
    "dotnet_interactive": {
     "language": "spiral"
    },
    "polyglot_notebook": {
     "kernelName": "spiral"
    }
   },
   "outputs": [],
   "source": [
    "inl try_find fn list =\n",
    "    inl rec loop = function\n",
    "        | [] => None\n",
    "        | x :: xs =>\n",
    "            if fn x\n",
    "            then Some x\n",
    "            else loop xs\n",
    "    loop list\n",
    "\n",
    "inl try_find_ fn list =\n",
    "    let rec loop = function\n",
    "        | [] => None\n",
    "        | x :: xs =>\n",
    "            if fn x\n",
    "            then Some x\n",
    "            else loop xs\n",
    "    loop list"
   ]
  },
  {
   "cell_type": "code",
   "execution_count": null,
   "metadata": {
    "dotnet_interactive": {
     "language": "spiral"
    },
    "polyglot_notebook": {
     "kernelName": "spiral"
    }
   },
   "outputs": [
    {
     "name": "stdout",
     "output_type": "stream",
     "text": [
      "__assert_eq / actual: US0_0 5 / expected: US0_0 5\n"
     ]
    }
   ],
   "source": [
    "//// test\n",
    "\n",
    "listm.init 10i32 id\n",
    "|> try_find ((=) 5i32)\n",
    "|> _assert_eq (Some 5i32)"
   ]
  },
  {
   "cell_type": "code",
   "execution_count": null,
   "metadata": {
    "dotnet_interactive": {
     "language": "spiral"
    },
    "polyglot_notebook": {
     "kernelName": "spiral"
    }
   },
   "outputs": [],
   "source": [
    "inl find x =\n",
    "    try_find x >> optionm.value\n",
    "\n",
    "inl find_ x =\n",
    "    try_find_ x >> optionm.value"
   ]
  },
  {
   "cell_type": "code",
   "execution_count": null,
   "metadata": {
    "dotnet_interactive": {
     "language": "spiral"
    },
    "polyglot_notebook": {
     "kernelName": "spiral"
    }
   },
   "outputs": [
    {
     "name": "stdout",
     "output_type": "stream",
     "text": [
      "__assert_eq / actual: 5 / expected: 5\n"
     ]
    }
   ],
   "source": [
    "//// test\n",
    "\n",
    "listm.init 10i32 id\n",
    "|> find ((=) 5i32)\n",
    "|> _assert_eq 5i32"
   ]
  },
  {
   "cell_type": "markdown",
   "metadata": {},
   "source": [
    "### choose"
   ]
  },
  {
   "cell_type": "code",
   "execution_count": null,
   "metadata": {
    "dotnet_interactive": {
     "language": "spiral"
    },
    "polyglot_notebook": {
     "kernelName": "spiral"
    }
   },
   "outputs": [],
   "source": [
    "inl choose f l =\n",
    "    (l, [])\n",
    "    ||> listm.foldBack fun x acc =>\n",
    "        match f x with\n",
    "        | Some y => y :: acc\n",
    "        | None => acc"
   ]
  },
  {
   "cell_type": "code",
   "execution_count": null,
   "metadata": {
    "dotnet_interactive": {
     "language": "spiral"
    },
    "polyglot_notebook": {
     "kernelName": "spiral"
    }
   },
   "outputs": [
    {
     "name": "stdout",
     "output_type": "stream",
     "text": [
      "__assert_eq / actual: UH0_1 (0, UH0_1 (2, UH0_1 (4, UH0_1 (6, UH0_1 (8, UH0_0))))) / expected: UH0_1 (0, UH0_1 (2, UH0_1 (4, UH0_1 (6, UH0_1 (8, UH0_0)))))\n"
     ]
    }
   ],
   "source": [
    "//// test\n",
    "\n",
    "listm.init 10i32 id\n",
    "|> choose (fun x => if x % 2 = 0 then Some x else None)\n",
    "|> _assert_eq [ 0; 2; 4; 6; 8 ]"
   ]
  },
  {
   "cell_type": "markdown",
   "metadata": {},
   "source": [
    "### filter"
   ]
  },
  {
   "cell_type": "code",
   "execution_count": null,
   "metadata": {
    "dotnet_interactive": {
     "language": "spiral"
    },
    "polyglot_notebook": {
     "kernelName": "spiral"
    }
   },
   "outputs": [],
   "source": [
    "inl filter forall t. (fn : t -> bool) (list : list t) : list t =\n",
    "    (list, Nil)\n",
    "    ||> listm.foldBack fun x acc =>\n",
    "        if fn x then x :: acc else acc"
   ]
  },
  {
   "cell_type": "markdown",
   "metadata": {},
   "source": [
    "### zip_with"
   ]
  },
  {
   "cell_type": "code",
   "execution_count": null,
   "metadata": {
    "dotnet_interactive": {
     "language": "spiral"
    },
    "polyglot_notebook": {
     "kernelName": "spiral"
    }
   },
   "outputs": [],
   "source": [
    "inl zip_with fn xs ys =\n",
    "    inl rec loop acc xs ys =\n",
    "        match xs, ys with\n",
    "        | Cons (x, xs), Cons (y, ys) =>\n",
    "            loop (fn x y :: acc) xs ys\n",
    "        | _ => listm.rev acc\n",
    "    loop [] xs ys\n",
    "\n",
    "inl zip_with_ fn xs ys =\n",
    "    let rec loop acc xs ys =\n",
    "        match xs, ys with\n",
    "        | Cons (x, xs), Cons (y, ys) =>\n",
    "            loop (fn x y :: acc) xs ys\n",
    "        | _ => listm.rev acc\n",
    "    loop [] xs ys"
   ]
  },
  {
   "cell_type": "code",
   "execution_count": null,
   "metadata": {
    "dotnet_interactive": {
     "language": "spiral"
    },
    "polyglot_notebook": {
     "kernelName": "spiral"
    }
   },
   "outputs": [
    {
     "name": "stdout",
     "output_type": "stream",
     "text": [
      "__assert_eq / actual: UH0_1 (5, UH0_1 (7, UH0_1 (9, UH0_0))) / expected: UH0_1 (5, UH0_1 (7, UH0_1 (9, UH0_0)))\n"
     ]
    }
   ],
   "source": [
    "//// test\n",
    "\n",
    "([ 1i32; 2; 3 ], [ 4; 5; 6 ])\n",
    "||> zip_with (+)\n",
    "|> _assert_eq [ 5; 7; 9 ]"
   ]
  },
  {
   "cell_type": "markdown",
   "metadata": {},
   "source": [
    "### zip"
   ]
  },
  {
   "cell_type": "code",
   "execution_count": null,
   "metadata": {
    "dotnet_interactive": {
     "language": "spiral"
    },
    "polyglot_notebook": {
     "kernelName": "spiral"
    }
   },
   "outputs": [],
   "source": [
    "inl zip xs ys =\n",
    "    zip_with pair xs ys\n",
    "\n",
    "inl zip_ xs ys =\n",
    "    zip_with_ pair xs ys"
   ]
  },
  {
   "cell_type": "code",
   "execution_count": null,
   "metadata": {
    "dotnet_interactive": {
     "language": "spiral"
    },
    "polyglot_notebook": {
     "kernelName": "spiral"
    }
   },
   "outputs": [
    {
     "name": "stdout",
     "output_type": "stream",
     "text": [
      "__assert_eq / actual: UH0_1 (1, 4, UH0_1 (2, 5, UH0_1 (3, 6, UH0_0))) / expected: UH0_1 (1, 4, UH0_1 (2, 5, UH0_1 (3, 6, UH0_0)))\n"
     ]
    }
   ],
   "source": [
    "//// test\n",
    "\n",
    "([ 1i32; 2; 3 ], [ 4i32; 5; 6 ])\n",
    "||> zip\n",
    "|> _assert_eq [ 1, 4; 2, 5; 3, 6 ]"
   ]
  },
  {
   "cell_type": "markdown",
   "metadata": {},
   "source": [
    "### indexed"
   ]
  },
  {
   "cell_type": "code",
   "execution_count": null,
   "metadata": {
    "dotnet_interactive": {
     "language": "spiral"
    },
    "polyglot_notebook": {
     "kernelName": "spiral"
    }
   },
   "outputs": [],
   "source": [
    "inl indexed list =\n",
    "    (([], 0), list)\n",
    "    ||> listm.fold fun (acc, i) x =>\n",
    "        (i, x) :: acc, i + 1\n",
    "    |> fst\n",
    "    |> listm.rev"
   ]
  },
  {
   "cell_type": "code",
   "execution_count": null,
   "metadata": {
    "dotnet_interactive": {
     "language": "spiral"
    },
    "polyglot_notebook": {
     "kernelName": "spiral"
    }
   },
   "outputs": [
    {
     "name": "stdout",
     "output_type": "stream",
     "text": [
      "__assert_eq / actual: UH0_1 (0, 0, UH0_1 (1, 2, UH0_1 (2, 4, UH0_1 (3, 6, UH0_1 (4, 8, UH0_0))))) / expected: UH0_1 (0, 0, UH0_1 (1, 2, UH0_1 (2, 4, UH0_1 (3, 6, UH0_1 (4, 8, UH0_0)))))\n"
     ]
    }
   ],
   "source": [
    "//// test\n",
    "\n",
    "listm.init 5i32 ((*) 2)\n",
    "|> indexed\n",
    "|> _assert_eq [ 0i32, 0; 1, 2; 2, 4; 3, 6; 4, 8 ]"
   ]
  },
  {
   "cell_type": "markdown",
   "metadata": {},
   "source": [
    "### group_by"
   ]
  },
  {
   "cell_type": "code",
   "execution_count": null,
   "metadata": {
    "dotnet_interactive": {
     "language": "spiral"
    },
    "polyglot_notebook": {
     "kernelName": "spiral"
    }
   },
   "outputs": [],
   "source": [
    "inl group_by fn list =\n",
    "    (list, [])\n",
    "    ||> listm.foldBack fun x acc =>\n",
    "        inl xk = fn x\n",
    "        inl found, new_acc =\n",
    "            ((false, []), acc)\n",
    "            ||> listm.fold fun (found, acc') (k, xs) =>\n",
    "                if k = xk\n",
    "                then true, (k, x :: xs) :: acc'\n",
    "                else found, (k, xs) :: acc'\n",
    "        if found\n",
    "        then new_acc\n",
    "        else (xk, [ x ]) :: new_acc"
   ]
  },
  {
   "cell_type": "code",
   "execution_count": null,
   "metadata": {
    "dotnet_interactive": {
     "language": "spiral"
    },
    "polyglot_notebook": {
     "kernelName": "spiral"
    }
   },
   "outputs": [
    {
     "name": "stdout",
     "output_type": "stream",
     "text": [
      "__assert_eq / actual: UH1_1\n",
      "  (true, UH0_1 (0, UH0_1 (2, UH0_1 (4, UH0_1 (6, UH0_1 (8, UH0_0))))),\n",
      "   UH1_1\n",
      "     (false, UH0_1 (1, UH0_1 (3, UH0_1 (5, UH0_1 (7, UH0_1 (9, UH0_0))))), UH1_0)) / expected: UH1_1\n",
      "  (true, UH0_1 (0, UH0_1 (2, UH0_1 (4, UH0_1 (6, UH0_1 (8, UH0_0))))),\n",
      "   UH1_1\n",
      "     (false, UH0_1 (1, UH0_1 (3, UH0_1 (5, UH0_1 (7, UH0_1 (9, UH0_0))))), UH1_0))\n"
     ]
    }
   ],
   "source": [
    "//// test\n",
    "\n",
    "listm.init 10i32 id\n",
    "|> group_by (fun x => x % 2 = 0)\n",
    "|> _assert_eq [ true, [ 0; 2; 4; 6; 8 ]; false, [ 1; 3; 5; 7; 9 ] ]"
   ]
  },
  {
   "cell_type": "markdown",
   "metadata": {},
   "source": [
    "### forall'"
   ]
  },
  {
   "cell_type": "code",
   "execution_count": null,
   "metadata": {
    "dotnet_interactive": {
     "language": "spiral"
    },
    "polyglot_notebook": {
     "kernelName": "spiral"
    }
   },
   "outputs": [],
   "source": [
    "inl forall' fn (head :: tail) =\n",
    "    (true, tail)\n",
    "    ||> listm.fold fun acc x =>\n",
    "        acc && x = head"
   ]
  },
  {
   "cell_type": "code",
   "execution_count": null,
   "metadata": {
    "dotnet_interactive": {
     "language": "spiral"
    },
    "polyglot_notebook": {
     "kernelName": "spiral"
    }
   },
   "outputs": [
    {
     "name": "stdout",
     "output_type": "stream",
     "text": [
      "__assert_eq / actual: true / expected: true\n"
     ]
    }
   ],
   "source": [
    "//// test\n",
    "\n",
    "[ 1i32; 1; 1; 1; 1 ]\n",
    "|> forall' ((=) 1i32)\n",
    "|> _assert_eq true"
   ]
  },
  {
   "cell_type": "markdown",
   "metadata": {},
   "source": [
    "### last"
   ]
  },
  {
   "cell_type": "code",
   "execution_count": null,
   "metadata": {
    "dotnet_interactive": {
     "language": "spiral"
    },
    "polyglot_notebook": {
     "kernelName": "spiral"
    }
   },
   "outputs": [],
   "source": [
    "inl last list =\n",
    "    list\n",
    "    |> listm.rev\n",
    "    |> item 0i32"
   ]
  },
  {
   "cell_type": "code",
   "execution_count": null,
   "metadata": {
    "dotnet_interactive": {
     "language": "spiral"
    },
    "polyglot_notebook": {
     "kernelName": "spiral"
    }
   },
   "outputs": [
    {
     "name": "stdout",
     "output_type": "stream",
     "text": [
      "__assert_eq / actual: 9 / expected: 9\n"
     ]
    }
   ],
   "source": [
    "//// test\n",
    "\n",
    "listm.init 10i32 id\n",
    "|> last\n",
    "|> _assert_eq 9"
   ]
  },
  {
   "cell_type": "markdown",
   "metadata": {},
   "source": [
    "### try_pick"
   ]
  },
  {
   "cell_type": "code",
   "execution_count": null,
   "metadata": {
    "dotnet_interactive": {
     "language": "spiral"
    },
    "polyglot_notebook": {
     "kernelName": "spiral"
    }
   },
   "outputs": [],
   "source": [
    "inl try_pick fn list =\n",
    "    inl rec body fn = function\n",
    "        | [] => None\n",
    "        | x :: xs =>\n",
    "            match fn x with\n",
    "            | Some y => Some y\n",
    "            | None => loop xs\n",
    "    and inl loop list =\n",
    "        if var_is list |> not\n",
    "        then body fn list\n",
    "        else\n",
    "            inl fn = join fn\n",
    "            inl list = dyn list\n",
    "            join body fn list\n",
    "    loop list"
   ]
  },
  {
   "cell_type": "code",
   "execution_count": null,
   "metadata": {
    "dotnet_interactive": {
     "language": "spiral"
    },
    "polyglot_notebook": {
     "kernelName": "spiral"
    }
   },
   "outputs": [
    {
     "name": "stdout",
     "output_type": "stream",
     "text": [
      "__assert_eq / actual: US0_0 5 / expected: US0_0 5\n"
     ]
    }
   ],
   "source": [
    "//// test\n",
    "\n",
    "listm.init 10i32 id\n",
    "|> try_pick (fun x => if x = 5i32 then Some x else None)\n",
    "|> _assert_eq (Some 5i32)"
   ]
  },
  {
   "cell_type": "markdown",
   "metadata": {},
   "source": [
    "### exists'"
   ]
  },
  {
   "cell_type": "code",
   "execution_count": null,
   "metadata": {
    "dotnet_interactive": {
     "language": "spiral"
    },
    "polyglot_notebook": {
     "kernelName": "spiral"
    }
   },
   "outputs": [],
   "source": [
    "inl exists' f x =\n",
    "    inl length_x : i64 = x |> listm.length\n",
    "    let rec loop i =\n",
    "        if i >= length_x\n",
    "        then false\n",
    "        elif x |> item i |> f\n",
    "        then true\n",
    "        else loop (i + 1)\n",
    "    loop 0"
   ]
  },
  {
   "cell_type": "code",
   "execution_count": null,
   "metadata": {
    "dotnet_interactive": {
     "language": "spiral"
    },
    "polyglot_notebook": {
     "kernelName": "spiral"
    }
   },
   "outputs": [
    {
     "data": {
      "text/plain": [
       "\n",
       ".py output (Cuda):\n",
       "__assert_eq / actual: True / expected: True\n",
       "__assert_eq / actual: False / expected: False\n",
       "__assert_eq / actual: False / expected: False\n",
       "\n",
       "\n",
       ".ts output:\n",
       "__assert_eq / actual: true / expected: true\n",
       "__assert_eq / actual: false / expected: false\n",
       "__assert_eq / actual: false / expected: false\n",
       "\n",
       "\n",
       ".py output:\n",
       "__assert_eq / actual: true / expected: true\n",
       "__assert_eq / actual: false / expected: false\n",
       "__assert_eq / actual: false / expected: false\n",
       "\n",
       "\n",
       ".gleam output (Gleam):\n",
       "{compiling,\"/home/runner/work/spiral/polyglot/target/spiral_Eval/packages/fb0b4042c33054486652c964c50cc74abd92de9ecf0e1e3401ce70d712124848/build/dev/erlang/gleam_stdlib/_gleam_artefacts/gleam@uri.erl\"}\n",
       "{compiling,\"/home/runner/work/spiral/polyglot/target/spiral_Eval/packages/fb0b4042c33054486652c964c50cc74abd92de9ecf0e1e3401ce70d712124848/build/dev/erlang/gleam_stdlib/_gleam_artefacts/gleam@bool.erl\"}\n",
       "{compiling,\"/home/runner/work/spiral/polyglot/target/spiral_Eval/packages/fb0b4042c33054486652c964c50cc74abd92de9ecf0e1e3401ce70d712124848/build/dev/erlang/gleam_stdlib/_gleam_artefacts/gleam@int.erl\"}\n",
       "{compiling,\"/home/runner/work/spiral/polyglot/target/spiral_Eval/packages/fb0b4042c33054486652c964c50cc74abd92de9ecf0e1e3401ce70d712124848/build/dev/erlang/gleam_stdlib/_gleam_artefacts/gleam@io.erl\"}\n",
       "{compiled,\"/home/runner/work/spiral/polyglot/target/spiral_Eval/packages/fb0b4042c33054486652c964c50cc74abd92de9ecf0e1e3401ce70d712124848/build/dev/erlang/gleam_stdlib/ebin/gleam@io.beam\"}\n",
       "{compiling,\"/home/runner/work/spiral/polyglot/target/spiral_Eval/packages/fb0b4042c33054486652c964c50cc74abd92de9ecf0e1e3401ce70d712124848/build/dev/erlang/gleam_stdlib/_gleam_artefacts/gleam@result.erl\"}\n",
       "{compiled,\"/home/runner/work/spiral/polyglot/target/spiral_Eval/packages/fb0b4042c33054486652c964c50cc74abd92de9ecf0e1e3401ce70d712124848/build/dev/erlang/gleam_stdlib/ebin/gleam@bool.beam\"}\n",
       "{compiling,\"/home/runner/work/spiral/polyglot/target/spiral_Eval/packages/fb0b4042c33054486652c964c50cc74abd92de9ecf0e1e3401ce70d712124848/build/dev/erlang/gleam_stdlib/_gleam_artefacts/gleam@dict.erl\"}\n",
       "{compiled,\"/home/runner/work/spiral/polyglot/target/spiral_Eval/packages/fb0b4042c33054486652c964c50cc74abd92de9ecf0e1e3401ce70d712124848/build/dev/erlang/gleam_stdlib/ebin/gleam@int.beam\"}\n",
       "{compiling,\"/home/runner/work/spiral/polyglot/target/spiral_Eval/packages/fb0b4042c33054486652c964c50cc74abd92de9ecf0e1e3401ce70d712124848/build/dev/erlang/gleam_stdlib/_gleam_artefacts/gleam@float.erl\"}\n",
       "{compiled,\"/home/runner/work/spiral/polyglot/target/spiral_Eval/packages/fb0b4042c33054486652c964c50cc74abd92de9ecf0e1e3401ce70d712124848/build/dev/erlang/gleam_stdlib/ebin/gleam@result.beam\"}\n",
       "{compiling,\"/home/runner/work/spiral/polyglot/target/spiral_Eval/packages/fb0b4042c33054486652c964c50cc74abd92de9ecf0e1e3401ce70d712124848/build/dev/erlang/gleam_stdlib/_gleam_artefacts/gleam@function.erl\"}\n",
       "{compiled,\"/home/runner/work/spiral/polyglot/target/spiral_Eval/packages/fb0b4042c33054486652c964c50cc74abd92de9ecf0e1e3401ce70d712124848/build/dev/erlang/gleam_stdlib/ebin/gleam@dict.beam\"}\n",
       "{compiling,\"/home/runner/work/spiral/polyglot/target/spiral_Eval/packages/fb0b4042c33054486652c964c50cc74abd92de9ecf0e1e3401ce70d712124848/build/dev/erlang/gleam_stdlib/_gleam_artefacts/gleam@string_tree.erl\"}\n",
       "{compiled,\"/home/runner/work/spiral/polyglot/target/spiral_Eval/packages/fb0b4042c33054486652c964c50cc74abd92de9ecf0e1e3401ce70d712124848/build/dev/erlang/gleam_stdlib/ebin/gleam@function.beam\"}\n",
       "{compiling,\"/home/runner/work/spiral/polyglot/target/spiral_Eval/packages/fb0b4042c33054486652c964c50cc74abd92de9ecf0e1e3401ce70d712124848/build/dev/erlang/gleam_stdlib/_gleam_artefacts/gleam@pair.erl\"}\n",
       "{compiled,\"/home/runner/work/spiral/polyglot/target/spiral_Eval/packages/fb0b4042c33054486652c964c50cc74abd92de9ecf0e1e3401ce70d712124848/build/dev/erlang/gleam_stdlib/ebin/gleam@pair.beam\"}\n",
       "{compiled,\"/home/runner/work/spiral/polyglot/target/spiral_Eval/packages/fb0b4042c33054486652c964c50cc74abd92de9ecf0e1e3401ce70d712124848/build/dev/erlang/gleam_stdlib/ebin/gleam@string_tree.beam\"}\n",
       "{compiling,\"/home/runner/work/spiral/polyglot/target/spiral_Eval/packages/fb0b4042c33054486652c964c50cc74abd92de9ecf0e1e3401ce70d712124848/build/dev/erlang/gleam_stdlib/_gleam_artefacts/gleam_stdlib_decode_ffi.erl\"}\n",
       "{compiling,\"/home/runner/work/spiral/polyglot/target/spiral_Eval/packages/fb0b4042c33054486652c964c50cc74abd92de9ecf0e1e3401ce70d712124848/build/dev/erlang/gleam_stdlib/_gleam_artefacts/gleam@string.erl\"}\n",
       "{compiled,\"/home/runner/work/spiral/polyglot/target/spiral_Eval/packages/fb0b4042c33054486652c964c50cc74abd92de9ecf0e1e3401ce70d712124848/build/dev/erlang/gleam_stdlib/ebin/gleam@float.beam\"}\n",
       "{compiling,\"/home/runner/work/spiral/polyglot/target/spiral_Eval/packages/fb0b4042c33054486652c964c50cc74abd92de9ecf0e1e3401ce70d712124848/build/dev/erlang/gleam_stdlib/_gleam_artefacts/gleam@order.erl\"}\n",
       "{compiled,\"/home/runner/work/spiral/polyglot/target/spiral_Eval/packages/fb0b4042c33054486652c964c50cc74abd92de9ecf0e1e3401ce70d712124848/build/dev/erlang/gleam_stdlib/ebin/gleam_stdlib_decode_ffi.beam\"}\n",
       "{compiling,\"/home/runner/work/spiral/polyglot/target/spiral_Eval/packages/fb0b4042c33054486652c964c50cc74abd92de9ecf0e1e3401ce70d712124848/build/dev/erlang/gleam_stdlib/_gleam_artefacts/gleam@option.erl\"}\n",
       "{compiled,\"/home/runner/work/spiral/polyglot/target/spiral_Eval/packages/fb0b4042c33054486652c964c50cc74abd92de9ecf0e1e3401ce70d712124848/build/dev/erlang/gleam_stdlib/ebin/gleam@order.beam\"}\n",
       "{compiling,\"/home/runner/work/spiral/polyglot/target/spiral_Eval/packages/fb0b4042c33054486652c964c50cc74abd92de9ecf0e1e3401ce70d712124848/build/dev/erlang/gleam_stdlib/_gleam_artefacts/gleam@set.erl\"}\n",
       "{compiled,\"/home/runner/work/spiral/polyglot/target/spiral_Eval/packages/fb0b4042c33054486652c964c50cc74abd92de9ecf0e1e3401ce70d712124848/build/dev/erlang/gleam_stdlib/ebin/gleam@uri.beam\"}\n",
       "{compiling,\"/home/runner/work/spiral/polyglot/target/spiral_Eval/packages/fb0b4042c33054486652c964c50cc74abd92de9ecf0e1e3401ce70d712124848/build/dev/erlang/gleam_stdlib/_gleam_artefacts/gleam_stdlib.erl\"}\n",
       "{compiled,\"/home/runner/work/spiral/polyglot/target/spiral_Eval/packages/fb0b4042c33054486652c964c50cc74abd92de9ecf0e1e3401ce70d712124848/build/dev/erlang/gleam_stdlib/ebin/gleam@string.beam\"}\n",
       "{compiling,\"/home/runner/work/spiral/polyglot/target/spiral_Eval/packages/fb0b4042c33054486652c964c50cc74abd92de9ecf0e1e3401ce70d712124848/build/dev/erlang/gleam_stdlib/_gleam_artefacts/gleam@dynamic@decode.erl\"}\n",
       "{compiled,\"/home/runner/work/spiral/polyglot/target/spiral_Eval/packages/fb0b4042c33054486652c964c50cc74abd92de9ecf0e1e3401ce70d712124848/build/dev/erlang/gleam_stdlib/ebin/gleam@set.beam\"}\n",
       "{compiling,\"/home/runner/work/spiral/polyglot/target/spiral_Eval/packages/fb0b4042c33054486652c964c50cc74abd92de9ecf0e1e3401ce70d712124848/build/dev/erlang/gleam_stdlib/_gleam_artefacts/gleam@bit_array.erl\"}\n",
       "{compiled,\"/home/runner/work/spiral/polyglot/target/spiral_Eval/packages/fb0b4042c33054486652c964c50cc74abd92de9ecf0e1e3401ce70d712124848/build/dev/erlang/gleam_stdlib/ebin/gleam@option.beam\"}\n",
       "{compiling,\"/home/runner/work/spiral/polyglot/target/spiral_Eval/packages/fb0b4042c33054486652c964c50cc74abd92de9ecf0e1e3401ce70d712124848/build/dev/erlang/gleam_stdlib/_gleam_artefacts/gleam@bytes_tree.erl\"}\n",
       "{compiled,\"/home/runner/work/spiral/polyglot/target/spiral_Eval/packages/fb0b4042c33054486652c964c50cc74abd92de9ecf0e1e3401ce70d712124848/build/dev/erlang/gleam_stdlib/ebin/gleam@bytes_tree.beam\"}\n",
       "{compiling,\"/home/runner/work/spiral/polyglot/target/spiral_Eval/packages/fb0b4042c33054486652c964c50cc74abd92de9ecf0e1e3401ce70d712124848/build/dev/erlang/gleam_stdlib/_gleam_artefacts/gleam@list.erl\"}\n",
       "{compiled,\"/home/runner/work/spiral/polyglot/target/spiral_Eval/packages/fb0b4042c33054486652c964c50cc74abd92de9ecf0e1e3401ce70d712124848/build/dev/erlang/gleam_stdlib/ebin/gleam@bit_array.beam\"}\n",
       "{compiling,\"/home/runner/work/spiral/polyglot/target/spiral_Eval/packages/fb0b4042c33054486652c964c50cc74abd92de9ecf0e1e3401ce70d712124848/build/dev/erlang/gleam_stdlib/_gleam_artefacts/gleam@dynamic.erl\"}\n",
       "{compiled,\"/home/runner/work/spiral/polyglot/target/spiral_Eval/packages/fb0b4042c33054486652c964c50cc74abd92de9ecf0e1e3401ce70d712124848/build/dev/erlang/gleam_stdlib/ebin/gleam@dynamic@decode.beam\"}\n",
       "{compiled,\"/home/runner/work/spiral/polyglot/target/spiral_Eval/packages/fb0b4042c33054486652c964c50cc74abd92de9ecf0e1e3401ce70d712124848/build/dev/erlang/gleam_stdlib/ebin/gleam_stdlib.beam\"}\n",
       "{compiled,\"/home/runner/work/spiral/polyglot/target/spiral_Eval/packages/fb0b4042c33054486652c964c50cc74abd92de9ecf0e1e3401ce70d712124848/build/dev/erlang/gleam_stdlib/ebin/gleam@dynamic.beam\"}\n",
       "{compiled,\"/home/runner/work/spiral/polyglot/target/spiral_Eval/packages/fb0b4042c33054486652c964c50cc74abd92de9ecf0e1e3401ce70d712124848/build/dev/erlang/gleam_stdlib/ebin/gleam@list.beam\"}\n",
       "{compiling,\"/home/runner/work/spiral/polyglot/target/spiral_Eval/packages/fb0b4042c33054486652c964c50cc74abd92de9ecf0e1e3401ce70d712124848/build/dev/erlang/gary/_gleam_artefacts/gary.erl\"}\n",
       "{compiling,\"/home/runner/work/spiral/polyglot/target/spiral_Eval/packages/fb0b4042c33054486652c964c50cc74abd92de9ecf0e1e3401ce70d712124848/build/dev/erlang/gary/_gleam_artefacts/internal@array_bindings.erl\"}\n",
       "{compiling,\"/home/runner/work/spiral/polyglot/target/spiral_Eval/packages/fb0b4042c33054486652c964c50cc74abd92de9ecf0e1e3401ce70d712124848/build/dev/erlang/gary/_gleam_artefacts/gary@array.erl\"}\n",
       "{compiled,\"/home/runner/work/spiral/polyglot/target/spiral_Eval/packages/fb0b4042c33054486652c964c50cc74abd92de9ecf0e1e3401ce70d712124848/build/dev/erlang/gary/ebin/gary.beam\"}\n",
       "{compiled,\"/home/runner/work/spiral/polyglot/target/spiral_Eval/packages/fb0b4042c33054486652c964c50cc74abd92de9ecf0e1e3401ce70d712124848/build/dev/erlang/gary/ebin/internal@array_bindings.beam\"}\n",
       "{compiled,\"/home/runner/work/spiral/polyglot/target/spiral_Eval/packages/fb0b4042c33054486652c964c50cc74abd92de9ecf0e1e3401ce70d712124848/build/dev/erlang/gary/ebin/gary@array.beam\"}\n",
       "\u001B[4;7mwarning: Unused variable\u001B[0m\n",
       "\u001B[4;7m   ┌─ /home/runner/work/spiral/polyglot/target/spiral_Eval/packages/fb0b4042c33054486652c964c50cc74abd92de9ecf0e1e3401ce70d712124848/src/main.gleam:36:23\u001B[0m\n",
       "\u001B[4;7m   │\u001B[0m\n",
       "\u001B[4;7m36 │                   let v10 = v7 - 1\u001B[0m\n",
       "\u001B[4;7m   │                       ^^^ This variable is never used\u001B[0m\n",
       "\u001B[4;7m\u001B[0m\n",
       "\u001B[4;7mHint: You can ignore it with an underscore: `_v10`.\u001B[0m\n",
       "\u001B[4;7m\u001B[0m\n",
       "\u001B[4;7mwarning: Unused variable\u001B[0m\n",
       "\u001B[4;7m   ┌─ /home/runner/work/spiral/polyglot/target/spiral_Eval/packages/fb0b4042c33054486652c964c50cc74abd92de9ecf0e1e3401ce70d712124848/src/main.gleam:92:19\u001B[0m\n",
       "\u001B[4;7m   │\u001B[0m\n",
       "\u001B[4;7m92 │               let v7 = v4 - 1\u001B[0m\n",
       "\u001B[4;7m   │                   ^^ This variable is never used\u001B[0m\n",
       "\u001B[4;7m\u001B[0m\n",
       "\u001B[4;7mHint: You can ignore it with an underscore: `_v7`.\u001B[0m\n",
       "\u001B[4;7m\u001B[0m\n",
       "\u001B[4;7mwarning: Unreachable code\u001B[0m\n",
       "\u001B[4;7m    ┌─ /home/runner/work/spiral/polyglot/target/spiral_Eval/packages/fb0b4042c33054486652c964c50cc74abd92de9ecf0e1e3401ce70d712124848/src/main.gleam:130:16\u001B[0m\n",
       "\u001B[4;7m    │\u001B[0m\n",
       "\u001B[4;7m130 │       let v3 = v2 == \"a\"\u001B[0m\n",
       "\u001B[4;7m    │                ^^^^^^^^^\u001B[0m\n",
       "\u001B[4;7m\u001B[0m\n",
       "\u001B[4;7mThis code is unreachable because it comes after a `panic`.\u001B[0m\n",
       "\u001B[4;7m\u001B[0m\n",
       "{compiling,\"/home/runner/work/spiral/polyglot/target/spiral_Eval/packages/fb0b4042c33054486652c964c50cc74abd92de9ecf0e1e3401ce70d712124848/build/dev/erlang/main/_gleam_artefacts/main.erl\"}\n",
       "{compiling,\"/home/runner/work/spiral/polyglot/target/spiral_Eval/packages/fb0b4042c33054486652c964c50cc74abd92de9ecf0e1e3401ce70d712124848/build/dev/erlang/main/_gleam_artefacts/main@@main.erl\"}\n",
       "/home/runner/work/spiral/polyglot/target/spiral_Eval/packages/fb0b4042c33054486652c964c50cc74abd92de9ecf0e1e3401ce70d712124848/src/main.gleam:38:46: Warning: the result of evaluating operator '-'/2 is ignored (suppress the warning by assigning the expression to the _ variable)\n",
       "%   38|                 }\n",
       "%     |                  ^^^^^^^^^^^^^^^^^^^^^^^^^^^^^\n",
       "\n",
       "/home/runner/work/spiral/polyglot/target/spiral_Eval/packages/fb0b4042c33054486652c964c50cc74abd92de9ecf0e1e3401ce70d712124848/src/main.gleam:94:37: Warning: the result of evaluating operator '-'/2 is ignored (suppress the warning by assigning the expression to the _ variable)\n",
       "%   94|             }\n",
       "%     |              ^^^^^^^^^^^^^^^^^^^^^^^^\n",
       "\n",
       "{compiled,\"/home/runner/work/spiral/polyglot/target/spiral_Eval/packages/fb0b4042c33054486652c964c50cc74abd92de9ecf0e1e3401ce70d712124848/build/dev/erlang/main/ebin/main.beam\"}\n",
       "{compiled,\"/home/runner/work/spiral/polyglot/target/spiral_Eval/packages/fb0b4042c33054486652c964c50cc74abd92de9ecf0e1e3401ce70d712124848/build/dev/erlang/main/ebin/main@@main.beam\"}\n",
       "__assert_eq / actual: True / expected: True\n",
       "__assert_eq / actual: False / expected: False\n",
       "__assert_eq / actual: False / expected: False\n",
       "\n",
       "\n",
       "\n",
       "\n"
      ]
     },
     "metadata": {},
     "output_type": "display_data"
    },
    {
     "name": "stdout",
     "output_type": "stream",
     "text": [
      ".gleam (Gleam):\n",
      "import gleam/string\n",
      "import gleam/io\n",
      "pub type Us0 {\n",
      "    Us0i0(f0i0 : String)\n",
      "    Us0i1\n",
      "}\n",
      "pub fn method1 (v0 :    Int) -> Bool {\n",
      "    let v1 = v0 >= 3\n",
      "    case v1 {\n",
      "        True -> {\n",
      "            False\n",
      "        }\n",
      "        False -> {\n",
      "            let v2 = v0 == 0\n",
      "            let v14 =\n",
      "                case v2 {\n",
      "                    True -> {\n",
      "                        Us0i0(\"a\")\n",
      "                    }\n",
      "                    False -> {\n",
      "                        let v4 = v0 - 1\n",
      "                        let v5 = v4 == 0\n",
      "                        case v5 {\n",
      "                            True -> {\n",
      "                                Us0i0(\"b\")\n",
      "                            }\n",
      "                            False -> {\n",
      "                                let v7 = v4 - 1\n",
      "                                let v8 = v7 == 0\n",
      "                                case v8 {\n",
      "                                    True -> {\n",
      "                                        Us0i0(\"c\")\n",
      "                                    }\n",
      "                                    False -> {\n",
      "                                        let v10 = v7 - 1\n",
      "                                        Us0i1\n",
      "                                    }\n",
      "                                }\n",
      "                            }\n",
      "                        }\n",
      "                    }\n",
      "                }\n",
      "            let v18 =\n",
      "                case v14 {\n",
      "                    Us0i1 -> { // None\n",
      "                        panic as \"Option does not have a value.\"\n",
      "                    }\n",
      "                    Us0i0(v15) -> { // Some\n",
      "                        v15\n",
      "                    }\n",
      "                }\n",
      "            let v19 = v18 == \"b\"\n",
      "            case v19 {\n",
      "                True -> {\n",
      "                    True\n",
      "                }\n",
      "                False -> {\n",
      "                    let v20 = v0 + 1\n",
      "                    method1(v20)\n",
      "                }\n",
      "            }\n",
      "        }\n",
      "    }\n",
      "}\n",
      "pub fn method2 (v0 :    Bool) -> Bool {\n",
      "    v0\n",
      "}\n",
      "pub fn method3 (v0 :    Int) -> Bool {\n",
      "    let v1 = v0 >= 2\n",
      "    case v1 {\n",
      "        True -> {\n",
      "            False\n",
      "        }\n",
      "        False -> {\n",
      "            let v2 = v0 == 0\n",
      "            let v10 =\n",
      "                case v2 {\n",
      "                    True -> {\n",
      "                        Us0i0(\"a\")\n",
      "                    }\n",
      "                    False -> {\n",
      "                        let v4 = v0 - 1\n",
      "                        let v5 = v4 == 0\n",
      "                        case v5 {\n",
      "                            True -> {\n",
      "                                Us0i0(\"b\")\n",
      "                            }\n",
      "                            False -> {\n",
      "                                let v7 = v4 - 1\n",
      "                                Us0i1\n",
      "                            }\n",
      "                        }\n",
      "                    }\n",
      "                }\n",
      "            let v14 =\n",
      "                case v10 {\n",
      "                    Us0i1 -> { // None\n",
      "                        panic as \"Option does not have a value.\"\n",
      "                    }\n",
      "                    Us0i0(v11) -> { // Some\n",
      "                        v11\n",
      "                    }\n",
      "                }\n",
      "            let v15 = v14 == \"c\"\n",
      "            case v15 {\n",
      "                True -> {\n",
      "                    True\n",
      "                }\n",
      "                False -> {\n",
      "                    let v16 = v0 + 1\n",
      "                    method3(v16)\n",
      "                }\n",
      "            }\n",
      "        }\n",
      "    }\n",
      "}\n",
      "pub fn method4 (v0 :    Int) -> Bool {\n",
      "    let v1 = v0 >= 0\n",
      "    case v1 {\n",
      "        True -> {\n",
      "            False\n",
      "        }\n",
      "        False -> {\n",
      "            let v2 = panic as \"Option does not have a value.\"\n",
      "            let v3 = v2 == \"a\"\n",
      "            case v3 {\n",
      "                True -> {\n",
      "                    True\n",
      "                }\n",
      "                False -> {\n",
      "                    let v4 = v0 + 1\n",
      "                    method4(v4)\n",
      "                }\n",
      "            }\n",
      "        }\n",
      "    }\n",
      "}\n",
      "pub fn method0 () -> Nil   {\n",
      "    let v0 = 0\n",
      "    let v1 = method1(v0)\n",
      "    let v3 =\n",
      "        case v1 {\n",
      "            True -> {\n",
      "                True\n",
      "            }\n",
      "            False -> {\n",
      "                method2(v1)\n",
      "            }\n",
      "        }\n",
      "    let v4 = \"__assert_eq\"\n",
      "    let v5 = string.inspect(v1)\n",
      "    let v6 = string.inspect(True)\n",
      "    let v7 = v4 <> \" / actual: \" <> v5 <> \" / expected: \" <> v6\n",
      "    io.println(v7)\n",
      "    let v15 = v3 == False\n",
      "    case v15 {\n",
      "        True -> {\n",
      "            panic as v7\n",
      "        }\n",
      "        False -> {\n",
      "        Nil\n",
      "        }\n",
      "    }\n",
      "    let v16 = 0\n",
      "    let v17 = method3(v16)\n",
      "    let v18 = v17 == False\n",
      "    let v20 =\n",
      "        case v18 {\n",
      "            True -> {\n",
      "                True\n",
      "            }\n",
      "            False -> {\n",
      "                method2(v18)\n",
      "            }\n",
      "        }\n",
      "    let v21 = string.inspect(v17)\n",
      "    let v22 = string.inspect(False)\n",
      "    let v23 = v4 <> \" / actual: \" <> v21 <> \" / expected: \" <> v22\n",
      "    io.println(v23)\n",
      "    let v31 = v20 == False\n",
      "    case v31 {\n",
      "        True -> {\n",
      "            panic as v23\n",
      "        }\n",
      "        False -> {\n",
      "        Nil\n",
      "        }\n",
      "    }\n",
      "    let v32 = 0\n",
      "    let v33 = method4(v32)\n",
      "    let v34 = v33 == False\n",
      "    let v36 =\n",
      "        case v34 {\n",
      "            True -> {\n",
      "                True\n",
      "            }\n",
      "            False -> {\n",
      "                method2(v34)\n",
      "            }\n",
      "        }\n",
      "    let v37 = string.inspect(v33)\n",
      "    let v38 = string.inspect(False)\n",
      "    let v39 = v4 <> \" / actual: \" <> v37 <> \" / expected: \" <> v38\n",
      "    io.println(v39)\n",
      "    let v47 = v36 == False\n",
      "    case v47 {\n",
      "        True -> {\n",
      "            panic as v39\n",
      "        }\n",
      "        False -> {\n",
      "        Nil\n",
      "        }\n",
      "    }\n",
      "}\n",
      "pub fn main () { method0()\n",
      " }\n",
      ".fsx:\n",
      "type [<Struct>] US0 =\n",
      "    | US0_0 of f0_0 : char\n",
      "    | US0_1\n",
      "let rec method1 (v0 : int64) : bool =\n",
      "    let v1 : bool = v0 >= 3L\n",
      "    if v1 then\n",
      "        false\n",
      "    else\n",
      "        let v2 : bool = v0 = 0L\n",
      "        let v14 : US0 =\n",
      "            if v2 then\n",
      "                US0_0('a')\n",
      "            else\n",
      "                let v4 : int64 = v0 - 1L\n",
      "                let v5 : bool = v4 = 0L\n",
      "                if v5 then\n",
      "                    US0_0('b')\n",
      "                else\n",
      "                    let v7 : int64 = v4 - 1L\n",
      "                    let v8 : bool = v7 = 0L\n",
      "                    if v8 then\n",
      "                        US0_0('c')\n",
      "                    else\n",
      "                        let v10 : int64 = v7 - 1L\n",
      "                        US0_1\n",
      "        let v18 : char =\n",
      "            match v14 with\n",
      "            | US0_1 -> (* None *)\n",
      "                failwith<char> \"Option does not have a value.\"\n",
      "            | US0_0(v15) -> (* Some *)\n",
      "                v15\n",
      "        let v19 : bool = v18 = 'b'\n",
      "        if v19 then\n",
      "            true\n",
      "        else\n",
      "            let v20 : int64 = v0 + 1L\n",
      "            method1(v20)\n",
      "and method2 (v0 : bool) : bool =\n",
      "    v0\n",
      "and closure0 (v0 : string) () : unit =\n",
      "    let v1 : (string -> unit) = System.Console.WriteLine\n",
      "    v1 v0\n",
      "and method3 (v0 : int64) : bool =\n",
      "    let v1 : bool = v0 >= 2L\n",
      "    if v1 then\n",
      "        false\n",
      "    else\n",
      "        let v2 : bool = v0 = 0L\n",
      "        let v10 : US0 =\n",
      "            if v2 then\n",
      "                US0_0('a')\n",
      "            else\n",
      "                let v4 : int64 = v0 - 1L\n",
      "                let v5 : bool = v4 = 0L\n",
      "                if v5 then\n",
      "                    US0_0('b')\n",
      "                else\n",
      "                    let v7 : int64 = v4 - 1L\n",
      "                    US0_1\n",
      "        let v14 : char =\n",
      "            match v10 with\n",
      "            | US0_1 -> (* None *)\n",
      "                failwith<char> \"Option does not have a value.\"\n",
      "            | US0_0(v11) -> (* Some *)\n",
      "                v11\n",
      "        let v15 : bool = v14 = 'c'\n",
      "        if v15 then\n",
      "            true\n",
      "        else\n",
      "            let v16 : int64 = v0 + 1L\n",
      "            method3(v16)\n",
      "and method4 (v0 : int64) : bool =\n",
      "    let v1 : bool = v0 >= 0L\n",
      "    if v1 then\n",
      "        false\n",
      "    else\n",
      "        let v2 : char = failwith<char> \"Option does not have a value.\"\n",
      "        let v3 : bool = v2 = 'a'\n",
      "        if v3 then\n",
      "            true\n",
      "        else\n",
      "            let v4 : int64 = v0 + 1L\n",
      "            method4(v4)\n",
      "and method0 () : unit =\n",
      "    let v0 : int64 = 0L\n",
      "    let v1 : bool = method1(v0)\n",
      "    let v3 : bool =\n",
      "        if v1 then\n",
      "            true\n",
      "        else\n",
      "            method2(v1)\n",
      "    let v8 : string = \"__assert_eq\"\n",
      "    let v9 : string = $\"{v8} / actual: %A{v1} / expected: %A{true}\"\n",
      "    let v12 : unit = ()\n",
      "    let v13 : (unit -> unit) = closure0(v9)\n",
      "    let v14 : unit = (fun () -> v13 (); v12) ()\n",
      "    let v16 : bool = v3 = false\n",
      "    if v16 then\n",
      "        failwith<unit> v9\n",
      "    let v17 : int64 = 0L\n",
      "    let v18 : bool = method3(v17)\n",
      "    let v19 : bool = v18 = false\n",
      "    let v21 : bool =\n",
      "        if v19 then\n",
      "            true\n",
      "        else\n",
      "            method2(v19)\n",
      "    let v25 : string = $\"{v8} / actual: %A{v18} / expected: %A{false}\"\n",
      "    let v28 : unit = ()\n",
      "    let v29 : (unit -> unit) = closure0(v25)\n",
      "    let v30 : unit = (fun () -> v29 (); v28) ()\n",
      "    let v32 : bool = v21 = false\n",
      "    if v32 then\n",
      "        failwith<unit> v25\n",
      "    let v33 : int64 = 0L\n",
      "    let v34 : bool = method4(v33)\n",
      "    let v35 : bool = v34 = false\n",
      "    let v37 : bool =\n",
      "        if v35 then\n",
      "            true\n",
      "        else\n",
      "            method2(v35)\n",
      "    let v41 : string = $\"{v8} / actual: %A{v34} / expected: %A{false}\"\n",
      "    let v44 : unit = ()\n",
      "    let v45 : (unit -> unit) = closure0(v41)\n",
      "    let v46 : unit = (fun () -> v45 (); v44) ()\n",
      "    let v48 : bool = v37 = false\n",
      "    if v48 then\n",
      "        failwith<unit> v41\n",
      "method0()\n",
      "\n",
      "\n",
      ".ts:\n",
      "import { Union } from \"./fable_modules/fable-library-ts.5.0.0-alpha.9/Types.js\";\n",
      "import { union_type, char_type, TypeInfo } from \"./fable_modules/fable-library-ts.5.0.0-alpha.9/Reflection.js\";\n",
      "import { op_Addition, int64, op_Subtraction, toInt64, equals, compare } from \"./fable_modules/fable-library-ts.5.0.0-alpha.9/BigInt.js\";\n",
      "import { int32 } from \"./fable_modules/fable-library-ts.5.0.0-alpha.9/Int32.js\";\n",
      "import { interpolate, toText } from \"./fable_modules/fable-library-ts.5.0.0-alpha.9/String.js\";\n",
      "\n",
      "export type US0_$union = \n",
      "    | US0<0>\n",
      "    | US0<1>\n",
      "\n",
      "export type US0_$cases = {\n",
      "    0: [\"US0_0\", [string]],\n",
      "    1: [\"US0_1\", []]\n",
      "}\n",
      "\n",
      "export function US0_US0_0(f0_0: string) {\n",
      "    return new US0<0>(0, [f0_0]);\n",
      "}\n",
      "\n",
      "export function US0_US0_1() {\n",
      "    return new US0<1>(1, []);\n",
      "}\n",
      "\n",
      "export class US0<Tag extends keyof US0_$cases> extends Union<Tag, US0_$cases[Tag][0]> {\n",
      "    constructor(readonly tag: Tag, readonly fields: US0_$cases[Tag][1]) {\n",
      "        super();\n",
      "    }\n",
      "    cases() {\n",
      "        return [\"US0_0\", \"US0_1\"];\n",
      "    }\n",
      "}\n",
      "\n",
      "export function US0_$reflection(): TypeInfo {\n",
      "    return union_type(\"Spiral.US0\", [], US0, () => [[[\"f0_0\", char_type]], []]);\n",
      "}\n",
      "\n",
      "export function method1(v0_mut: int64): boolean {\n",
      "    method1:\n",
      "    while (true) {\n",
      "        const v0: int64 = v0_mut;\n",
      "        if (compare(v0, 3n) >= 0) {\n",
      "            return false;\n",
      "        }\n",
      "        else {\n",
      "            let v14: US0_$union;\n",
      "            if (equals(v0, 0n)) {\n",
      "                v14 = US0_US0_0(\"a\");\n",
      "            }\n",
      "            else {\n",
      "                const v4: int64 = toInt64(op_Subtraction(v0, 1n));\n",
      "                if (equals(v4, 0n)) {\n",
      "                    v14 = US0_US0_0(\"b\");\n",
      "                }\n",
      "                else {\n",
      "                    const v7: int64 = toInt64(op_Subtraction(v4, 1n));\n",
      "                    if (equals(v7, 0n)) {\n",
      "                        v14 = US0_US0_0(\"c\");\n",
      "                    }\n",
      "                    else {\n",
      "                        const v10: int64 = toInt64(op_Subtraction(v7, 1n));\n",
      "                        v14 = US0_US0_1();\n",
      "                    }\n",
      "                }\n",
      "            }\n",
      "            if ((((v14.tag as int32) === /* US0_0 */ 0) ? (v14.fields[0] as any) : (() => {\n",
      "                throw new Error(\"Option does not have a value.\");\n",
      "            })()) === \"b\") {\n",
      "                return true;\n",
      "            }\n",
      "            else {\n",
      "                v0_mut = toInt64(op_Addition(v0, 1n));\n",
      "                continue method1;\n",
      "            }\n",
      "        }\n",
      "        break;\n",
      "    }\n",
      "}\n",
      "\n",
      "export function method2(v0: boolean): boolean {\n",
      "    return v0;\n",
      "}\n",
      "\n",
      "export function closure0(v0: string, unitVar: void): void {\n",
      "    console.log(v0);\n",
      "}\n",
      "\n",
      "export function method3(v0_mut: int64): boolean {\n",
      "    method3:\n",
      "    while (true) {\n",
      "        const v0: int64 = v0_mut;\n",
      "        if (compare(v0, 2n) >= 0) {\n",
      "            return false;\n",
      "        }\n",
      "        else {\n",
      "            let v10: US0_$union;\n",
      "            if (equals(v0, 0n)) {\n",
      "                v10 = US0_US0_0(\"a\");\n",
      "            }\n",
      "            else {\n",
      "                const v4: int64 = toInt64(op_Subtraction(v0, 1n));\n",
      "                if (equals(v4, 0n)) {\n",
      "                    v10 = US0_US0_0(\"b\");\n",
      "                }\n",
      "                else {\n",
      "                    const v7: int64 = toInt64(op_Subtraction(v4, 1n));\n",
      "                    v10 = US0_US0_1();\n",
      "                }\n",
      "            }\n",
      "            if ((((v10.tag as int32) === /* US0_0 */ 0) ? (v10.fields[0] as any) : (() => {\n",
      "                throw new Error(\"Option does not have a value.\");\n",
      "            })()) === \"c\") {\n",
      "                return true;\n",
      "            }\n",
      "            else {\n",
      "                v0_mut = toInt64(op_Addition(v0, 1n));\n",
      "                continue method3;\n",
      "            }\n",
      "        }\n",
      "        break;\n",
      "    }\n",
      "}\n",
      "\n",
      "export function method4(v0_mut: int64): boolean {\n",
      "    method4:\n",
      "    while (true) {\n",
      "        const v0: int64 = v0_mut;\n",
      "        if (compare(v0, 0n) >= 0) {\n",
      "            return false;\n",
      "        }\n",
      "        else if ((() => {\n",
      "            throw new Error(\"Option does not have a value.\");\n",
      "        })() === \"a\") {\n",
      "            return true;\n",
      "        }\n",
      "        else {\n",
      "            v0_mut = toInt64(op_Addition(v0, 1n));\n",
      "            continue method4;\n",
      "        }\n",
      "        break;\n",
      "    }\n",
      "}\n",
      "\n",
      "export function method0(): void {\n",
      "    const v1: boolean = method1(0n);\n",
      "    const v3: boolean = v1 ? true : method2(v1);\n",
      "    const v9: string = toText(interpolate(\"%P() / actual: %A%P() / expected: %A%P()\", [\"__assert_eq\", v1, true]));\n",
      "    let v14: any;\n",
      "    closure0(v9, undefined);\n",
      "    v14 = undefined;\n",
      "    if (v3 === false) {\n",
      "        throw new Error(v9);\n",
      "    }\n",
      "    const v18: boolean = method3(0n);\n",
      "    const v19: boolean = v18 === false;\n",
      "    const v21: boolean = v19 ? true : method2(v19);\n",
      "    const v25: string = toText(interpolate(\"%P() / actual: %A%P() / expected: %A%P()\", [\"__assert_eq\", v18, false]));\n",
      "    let v30: any;\n",
      "    closure0(v25, undefined);\n",
      "    v30 = undefined;\n",
      "    if (v21 === false) {\n",
      "        throw new Error(v25);\n",
      "    }\n",
      "    const v34: boolean = method4(0n);\n",
      "    const v35: boolean = v34 === false;\n",
      "    const v37: boolean = v35 ? true : method2(v35);\n",
      "    const v41: string = toText(interpolate(\"%P() / actual: %A%P() / expected: %A%P()\", [\"__assert_eq\", v34, false]));\n",
      "    let v46: any;\n",
      "    closure0(v41, undefined);\n",
      "    v46 = undefined;\n",
      "    if (v37 === false) {\n",
      "        throw new Error(v41);\n",
      "    }\n",
      "}\n",
      "\n",
      "method0();\n",
      "\n",
      "\n",
      ".py:\n",
      "from __future__ import annotations\n",
      "from typing import Any\n",
      "from fable_modules.fable_library.long import (op_subtraction, op_addition)\n",
      "from fable_modules.fable_library.reflection import (TypeInfo, char_type, union_type)\n",
      "from fable_modules.fable_library.string_ import (to_text, interpolate)\n",
      "from fable_modules.fable_library.types import (Array, Union, int64)\n",
      "\n",
      "def _expr0() -> TypeInfo:\n",
      "    return union_type(\"Spiral.US0\", [], US0, lambda: [[(\"f0_0\", char_type)], []])\n",
      "\n",
      "\n",
      "class US0(Union):\n",
      "    __slots__ = [\"tag\", \"fields\"]\n",
      "    def __init__(self, tag: int, *fields: Any) -> None:\n",
      "        super().__init__()\n",
      "        self.tag: int = tag or 0\n",
      "        self.fields: Array[Any] = list(fields)\n",
      "\n",
      "    @staticmethod\n",
      "    def cases() -> list[str]:\n",
      "        return [\"US0_0\", \"US0_1\"]\n",
      "\n",
      "\n",
      "US0_reflection = _expr0\n",
      "\n",
      "def method1(v0_mut: int64) -> bool:\n",
      "    while True:\n",
      "        (v0,) = (v0_mut,)\n",
      "        if v0 >= int64(3):\n",
      "            return False\n",
      "\n",
      "        else: \n",
      "            v14: US0\n",
      "            if v0 == int64(0):\n",
      "                v14 = US0(0, \"a\")\n",
      "\n",
      "            else: \n",
      "                v4: int64 = op_subtraction(v0, int64(1))\n",
      "                if v4 == int64(0):\n",
      "                    v14 = US0(0, \"b\")\n",
      "\n",
      "                else: \n",
      "                    v7: int64 = op_subtraction(v4, int64(1))\n",
      "                    if v7 == int64(0):\n",
      "                        v14 = US0(0, \"c\")\n",
      "\n",
      "                    else: \n",
      "                        v10: int64 = op_subtraction(v7, int64(1))\n",
      "                        v14 = US0(1)\n",
      "\n",
      "\n",
      "\n",
      "            def _arrow1(__unit: None=None, v0: Any=v0) -> str:\n",
      "                raise Exception(\"Option does not have a value.\")\n",
      "\n",
      "            if (v14.fields[0] if (v14.tag == 0) else _arrow1()) == \"b\":\n",
      "                return True\n",
      "\n",
      "            else: \n",
      "                v0_mut = op_addition(v0, int64(1))\n",
      "                continue\n",
      "\n",
      "\n",
      "        break\n",
      "\n",
      "\n",
      "def method2(v0: bool) -> bool:\n",
      "    return v0\n",
      "\n",
      "\n",
      "def closure0(v0: str, unit_var: None) -> None:\n",
      "    print(v0)\n",
      "\n",
      "\n",
      "def method3(v0_mut: int64) -> bool:\n",
      "    while True:\n",
      "        (v0,) = (v0_mut,)\n",
      "        if v0 >= int64(2):\n",
      "            return False\n",
      "\n",
      "        else: \n",
      "            v10: US0\n",
      "            if v0 == int64(0):\n",
      "                v10 = US0(0, \"a\")\n",
      "\n",
      "            else: \n",
      "                v4: int64 = op_subtraction(v0, int64(1))\n",
      "                if v4 == int64(0):\n",
      "                    v10 = US0(0, \"b\")\n",
      "\n",
      "                else: \n",
      "                    v7: int64 = op_subtraction(v4, int64(1))\n",
      "                    v10 = US0(1)\n",
      "\n",
      "\n",
      "            def _arrow2(__unit: None=None, v0: Any=v0) -> str:\n",
      "                raise Exception(\"Option does not have a value.\")\n",
      "\n",
      "            if (v10.fields[0] if (v10.tag == 0) else _arrow2()) == \"c\":\n",
      "                return True\n",
      "\n",
      "            else: \n",
      "                v0_mut = op_addition(v0, int64(1))\n",
      "                continue\n",
      "\n",
      "\n",
      "        break\n",
      "\n",
      "\n",
      "def method4(v0_mut: int64) -> bool:\n",
      "    while True:\n",
      "        (v0,) = (v0_mut,)\n",
      "        if v0 >= int64(0):\n",
      "            return False\n",
      "\n",
      "        else: \n",
      "            def _arrow3(__unit: None=None, v0: Any=v0) -> str:\n",
      "                raise Exception(\"Option does not have a value.\")\n",
      "\n",
      "            if _arrow3() == \"a\":\n",
      "                return True\n",
      "\n",
      "            else: \n",
      "                v0_mut = op_addition(v0, int64(1))\n",
      "                continue\n",
      "\n",
      "\n",
      "        break\n",
      "\n",
      "\n",
      "def method0(__unit: None=None) -> None:\n",
      "    v1: bool = method1(int64(0))\n",
      "    v3: bool = True if v1 else method2(v1)\n",
      "    v9: str = to_text(interpolate(\"%P() / actual: %A%P() / expected: %A%P()\", [\"__assert_eq\", v1, True]))\n",
      "    v14: None\n",
      "    closure0(v9, None)\n",
      "    v14 = None\n",
      "    if v3 == False:\n",
      "        raise Exception(v9)\n",
      "\n",
      "    v18: bool = method3(int64(0))\n",
      "    v19: bool = v18 == False\n",
      "    v21: bool = True if v19 else method2(v19)\n",
      "    v25: str = to_text(interpolate(\"%P() / actual: %A%P() / expected: %A%P()\", [\"__assert_eq\", v18, False]))\n",
      "    v30: None\n",
      "    closure0(v25, None)\n",
      "    v30 = None\n",
      "    if v21 == False:\n",
      "        raise Exception(v25)\n",
      "\n",
      "    v34: bool = method4(int64(0))\n",
      "    v35: bool = v34 == False\n",
      "    v37: bool = True if v35 else method2(v35)\n",
      "    v41: str = to_text(interpolate(\"%P() / actual: %A%P() / expected: %A%P()\", [\"__assert_eq\", v34, False]))\n",
      "    v46: None\n",
      "    closure0(v41, None)\n",
      "    v46 = None\n",
      "    if v37 == False:\n",
      "        raise Exception(v41)\n",
      "\n",
      "\n",
      "\n",
      "method0()\n",
      "\n",
      "\n",
      ".py (Cuda):\n",
      "kernel = r\"\"\"\n",
      "\"\"\"\n",
      "class static_array():\n",
      "    def __init__(self, length):\n",
      "        self.ptr = []\n",
      "        for _ in range(length):\n",
      "            self.ptr.append(None)\n",
      "\n",
      "    def __getitem__(self, index):\n",
      "        assert 0 <= index < len(self.ptr), \"The get index needs to be in range.\"\n",
      "        return self.ptr[index]\n",
      "    \n",
      "    def __setitem__(self, index, value):\n",
      "        assert 0 <= index < len(self.ptr), \"The set index needs to be in range.\"\n",
      "        self.ptr[index] = value\n",
      "\n",
      "class static_array_list(static_array):\n",
      "    def __init__(self, length):\n",
      "        super().__init__(length)\n",
      "        self.length = 0\n",
      "\n",
      "    def __getitem__(self, index):\n",
      "        assert 0 <= index < self.length, \"The get index needs to be in range.\"\n",
      "        return self.ptr[index]\n",
      "    \n",
      "    def __setitem__(self, index, value):\n",
      "        assert 0 <= index < self.length, \"The set index needs to be in range.\"\n",
      "        self.ptr[index] = value\n",
      "\n",
      "    def push(self,value):\n",
      "        assert (self.length < len(self.ptr)), \"The length before pushing has to be less than the maximum length of the array.\"\n",
      "        self.ptr[self.length] = value\n",
      "        self.length += 1\n",
      "\n",
      "    def pop(self):\n",
      "        assert (0 < self.length), \"The length before popping has to be greater than 0.\"\n",
      "        self.length -= 1\n",
      "        return self.ptr[self.length]\n",
      "\n",
      "    def unsafe_set_length(self,i):\n",
      "        assert 0 <= i <= len(self.ptr), \"The new length has to be in range.\"\n",
      "        self.length = i\n",
      "\n",
      "class dynamic_array(static_array): \n",
      "    pass\n",
      "\n",
      "class dynamic_array_list(static_array_list):\n",
      "    def length_(self): return self.length\n",
      "\n",
      "import cupy as cp\n",
      "import numpy as np\n",
      "from dataclasses import dataclass\n",
      "from typing import NamedTuple, Union, Callable, Tuple\n",
      "i8 = int; i16 = int; i32 = int; i64 = int; u8 = int; u16 = int; u32 = int; u64 = int; f32 = float; f64 = float; char = str; string = str\n",
      "cuda = False\n",
      "\n",
      "class US0_0(NamedTuple): # (0, Some)\n",
      "    v0 : char\n",
      "    tag = 0\n",
      "class US0_1(NamedTuple): # (1, None)\n",
      "    tag = 1\n",
      "US0 = Union[US0_0, US0_1]\n",
      "def method1(v0 : i64) -> bool:\n",
      "    v1 = v0 >= 3\n",
      "    if v1:\n",
      "        del v0, v1\n",
      "        return False\n",
      "    else:\n",
      "        del v1\n",
      "        v2 = v0 == 0\n",
      "        if v2:\n",
      "            v14 = US0_0('a')\n",
      "        else:\n",
      "            v4 = v0 - 1\n",
      "            v5 = v4 == 0\n",
      "            if v5:\n",
      "                del v4, v5\n",
      "                v14 = US0_0('b')\n",
      "            else:\n",
      "                del v5\n",
      "                v7 = v4 - 1\n",
      "                del v4\n",
      "                v8 = v7 == 0\n",
      "                if v8:\n",
      "                    del v7, v8\n",
      "                    v14 = US0_0('c')\n",
      "                else:\n",
      "                    del v8\n",
      "                    v10 = v7 - 1\n",
      "                    del v7, v10\n",
      "                    v14 = US0_1()\n",
      "        del v2\n",
      "        match v14:\n",
      "            case US0_1(): # None\n",
      "                raise Exception(\"Option does not have a value.\")\n",
      "            case US0_0(v15): # Some\n",
      "                v18 = v15\n",
      "            case t:\n",
      "                raise Exception(f'Pattern matching miss. Got: {t}')\n",
      "        del v14\n",
      "        v19 = v18 == 'b'\n",
      "        del v18\n",
      "        if v19:\n",
      "            del v0, v19\n",
      "            return True\n",
      "        else:\n",
      "            del v19\n",
      "            v20 = v0 + 1\n",
      "            del v0\n",
      "            return method1(v20)\n",
      "def method2(v0 : bool) -> bool:\n",
      "    return v0\n",
      "def method3(v0 : i64) -> bool:\n",
      "    v1 = v0 >= 2\n",
      "    if v1:\n",
      "        del v0, v1\n",
      "        return False\n",
      "    else:\n",
      "        del v1\n",
      "        v2 = v0 == 0\n",
      "        if v2:\n",
      "            v10 = US0_0('a')\n",
      "        else:\n",
      "            v4 = v0 - 1\n",
      "            v5 = v4 == 0\n",
      "            if v5:\n",
      "                del v4, v5\n",
      "                v10 = US0_0('b')\n",
      "            else:\n",
      "                del v5\n",
      "                v7 = v4 - 1\n",
      "                del v4, v7\n",
      "                v10 = US0_1()\n",
      "        del v2\n",
      "        match v10:\n",
      "            case US0_1(): # None\n",
      "                raise Exception(\"Option does not have a value.\")\n",
      "            case US0_0(v11): # Some\n",
      "                v14 = v11\n",
      "            case t:\n",
      "                raise Exception(f'Pattern matching miss. Got: {t}')\n",
      "        del v10\n",
      "        v15 = v14 == 'c'\n",
      "        del v14\n",
      "        if v15:\n",
      "            del v0, v15\n",
      "            return True\n",
      "        else:\n",
      "            del v15\n",
      "            v16 = v0 + 1\n",
      "            del v0\n",
      "            return method3(v16)\n",
      "def method4(v0 : i64) -> bool:\n",
      "    v1 = v0 >= 0\n",
      "    if v1:\n",
      "        del v0, v1\n",
      "        return False\n",
      "    else:\n",
      "        del v1\n",
      "        raise Exception(\"Option does not have a value.\")\n",
      "        v3 = v2 == 'a'\n",
      "        del v2\n",
      "        if v3:\n",
      "            del v0, v3\n",
      "            return True\n",
      "        else:\n",
      "            del v3\n",
      "            v4 = v0 + 1\n",
      "            del v0\n",
      "            return method4(v4)\n",
      "def method0() -> None:\n",
      "    v0 = 0\n",
      "    v1 = method1(v0)\n",
      "    del v0\n",
      "    if v1:\n",
      "        v3 = True\n",
      "    else:\n",
      "        v3 = method2(v1)\n",
      "    v10 = \"__assert_eq\"\n",
      "    v11 = f\"{v10} / actual: {v1} / expected: {True}\"\n",
      "    del v1\n",
      "    print(v11)\n",
      "    v17 = v3 == False\n",
      "    del v3\n",
      "    if v17:\n",
      "        raise Exception(v11)\n",
      "    else:\n",
      "        pass\n",
      "    del v11, v17\n",
      "    v18 = 0\n",
      "    v19 = method3(v18)\n",
      "    del v18\n",
      "    v20 = v19 == False\n",
      "    if v20:\n",
      "        v22 = True\n",
      "    else:\n",
      "        v22 = method2(v20)\n",
      "    del v20\n",
      "    v27 = f\"{v10} / actual: {v19} / expected: {False}\"\n",
      "    del v19\n",
      "    print(v27)\n",
      "    v33 = v22 == False\n",
      "    del v22\n",
      "    if v33:\n",
      "        raise Exception(v27)\n",
      "    else:\n",
      "        pass\n",
      "    del v27, v33\n",
      "    v34 = 0\n",
      "    v35 = method4(v34)\n",
      "    del v34\n",
      "    v36 = v35 == False\n",
      "    if v36:\n",
      "        v38 = True\n",
      "    else:\n",
      "        v38 = method2(v36)\n",
      "    del v36\n",
      "    v43 = f\"{v10} / actual: {v35} / expected: {False}\"\n",
      "    del v10, v35\n",
      "    print(v43)\n",
      "    v49 = v38 == False\n",
      "    del v38\n",
      "    if v49:\n",
      "        del v49\n",
      "        raise Exception(v43)\n",
      "    else:\n",
      "        del v43, v49\n",
      "        return \n",
      "def main_body():\n",
      "    return method0()\n",
      "\n",
      "def main():\n",
      "    r = main_body()\n",
      "    if cuda: cp.cuda.get_current_stream().synchronize() # This line is here so the `__trap()` calls on the kernel aren't missed.\n",
      "    return r\n",
      "\n",
      "if __name__ == '__main__': result = main(); None if result is None else print(result)\n",
      "\n",
      ".fsx output:\n",
      "__assert_eq / actual: true / expected: true\n",
      "__assert_eq / actual: false / expected: false\n",
      "__assert_eq / actual: false / expected: false\n"
     ]
    }
   ],
   "source": [
    "//// test\n",
    "///! gleam\n",
    "///! fsharp\n",
    "///! cuda\n",
    "////! rust // can't compare `()` with `char`\n",
    "///! typescript\n",
    "///! python\n",
    "//// print_code\n",
    "\n",
    "[ 'a'; 'b'; 'c' ]\n",
    "|> exists' fun x => x = 'b'\n",
    "|> _assert_eq true\n",
    "\n",
    "[ 'a'; 'b' ]\n",
    "|> exists' fun x => x = 'c'\n",
    "|> _assert_eq false\n",
    "\n",
    "[]\n",
    "|> exists' fun x => x = 'a'\n",
    "|> _assert_eq false"
   ]
  },
  {
   "cell_type": "markdown",
   "metadata": {},
   "source": [
    "## fsharp"
   ]
  },
  {
   "cell_type": "markdown",
   "metadata": {},
   "source": [
    "### list'"
   ]
  },
  {
   "cell_type": "code",
   "execution_count": null,
   "metadata": {
    "dotnet_interactive": {
     "language": "spiral"
    },
    "polyglot_notebook": {
     "kernelName": "spiral"
    }
   },
   "outputs": [],
   "source": [
    "inl list'_types () =\n",
    "    backend_switch {\n",
    "        Gleam = fun () => global \"import gleam/list\"\n",
    "    }\n",
    "type list'_switch t =\n",
    "    {\n",
    "        Gleam : $'List(`t)'\n",
    "        Fsharp : $'`t list'\n",
    "        Python : $'list'\n",
    "    }\n",
    "nominal list' t = $'backend_switch `(list'_switch t)'"
   ]
  },
  {
   "cell_type": "markdown",
   "metadata": {},
   "source": [
    "### empty'"
   ]
  },
  {
   "cell_type": "code",
   "execution_count": null,
   "metadata": {
    "dotnet_interactive": {
     "language": "spiral"
    },
    "polyglot_notebook": {
     "kernelName": "spiral"
    }
   },
   "outputs": [],
   "source": [
    "inl empty' forall t. () : list' t =\n",
    "    $'[]'"
   ]
  },
  {
   "cell_type": "markdown",
   "metadata": {},
   "source": [
    "### cons'"
   ]
  },
  {
   "cell_type": "code",
   "execution_count": null,
   "metadata": {
    "dotnet_interactive": {
     "language": "spiral"
    },
    "polyglot_notebook": {
     "kernelName": "spiral"
    }
   },
   "outputs": [],
   "source": [
    "inl cons' forall t. (head : t) (tail : list' t) : list' t =\n",
    "    backend_switch {\n",
    "        Gleam = fun () => $'[ !head, ..!tail ]' : list' t\n",
    "        Fsharp = fun () => $'!head :: !tail ' : list' t\n",
    "        Python = fun () =>\n",
    "            $'!tail.insert(0, !head)'\n",
    "            $'!tail ' : list' t\n",
    "    }"
   ]
  },
  {
   "cell_type": "markdown",
   "metadata": {},
   "source": [
    "### box"
   ]
  },
  {
   "cell_type": "code",
   "execution_count": null,
   "metadata": {
    "dotnet_interactive": {
     "language": "spiral"
    },
    "polyglot_notebook": {
     "kernelName": "spiral"
    }
   },
   "outputs": [],
   "source": [
    "inl box forall t. (list : list t) : list' t =\n",
    "    (list, empty' ()) ||> listm.foldBack cons'"
   ]
  },
  {
   "cell_type": "markdown",
   "metadata": {},
   "source": [
    "### rev'"
   ]
  },
  {
   "cell_type": "code",
   "execution_count": null,
   "metadata": {
    "dotnet_interactive": {
     "language": "spiral"
    },
    "polyglot_notebook": {
     "kernelName": "spiral"
    }
   },
   "outputs": [],
   "source": [
    "inl rev' forall t. (items : list' t) : list' t =\n",
    "    backend_switch {\n",
    "        Gleam = fun () => $'!items |> list.reverse' : list' t\n",
    "        Fsharp = fun () => items |> $'List.rev' : list' t\n",
    "        Python = fun () => $'list(reversed(!items))' : list' t\n",
    "    }"
   ]
  },
  {
   "cell_type": "markdown",
   "metadata": {},
   "source": [
    "### fold'"
   ]
  },
  {
   "cell_type": "code",
   "execution_count": null,
   "metadata": {
    "dotnet_interactive": {
     "language": "spiral"
    },
    "polyglot_notebook": {
     "kernelName": "spiral"
    }
   },
   "outputs": [],
   "source": [
    "inl fold' forall t u. (fn : t -> u) (init : list u) (list : list' t) : list u =\n",
    "    backend_switch {\n",
    "        Gleam = fun () =>\n",
    "            $'let listm_fold = !list |> list.fold (!init, fn (acc, x) {'\n",
    "            $'!(Cons (fn $'x', $'acc'))' : ()\n",
    "            $'})' : ()\n",
    "            $'listm_fold' : list u\n",
    "        Fsharp = fun () =>\n",
    "            (init, list)\n",
    "            ||> $'List.fold' join fun acc x => Cons (fn x, acc)\n",
    "            : list u\n",
    "        Python = fun () =>\n",
    "            inl init = init |> box\n",
    "            $'r = !init '\n",
    "            inl list = list |> rev'\n",
    "            $'for x in !list: r = [!fn(x)] + r'\n",
    "            inl init : list u = Nil\n",
    "            inl cons (a : u) b = Cons (a, b)\n",
    "            $'r_ = !init '\n",
    "            $'for x in r: r_ = !cons (x)(r_)'\n",
    "            $'r_' : list u\n",
    "    }"
   ]
  },
  {
   "cell_type": "markdown",
   "metadata": {},
   "source": [
    "### fold_back'"
   ]
  },
  {
   "cell_type": "code",
   "execution_count": null,
   "metadata": {
    "dotnet_interactive": {
     "language": "spiral"
    },
    "polyglot_notebook": {
     "kernelName": "spiral"
    }
   },
   "outputs": [],
   "source": [
    "inl fold_back' forall t u. (fn : t -> u) (list : list' t) (init : list u) : list u =\n",
    "    backend_switch {\n",
    "        Gleam = fun () =>\n",
    "            $'let listm_fold_back = !list |> list.fold_right (!init, fn (acc, x) {'\n",
    "            $'!(Cons (fn $'x', $'acc'))' : ()\n",
    "            $'})' : ()\n",
    "            $'listm_fold_back' : list u\n",
    "        Fsharp = fun () =>\n",
    "            (list, init)\n",
    "            ||> $'List.foldBack' join fun x acc => Cons (fn x, acc)\n",
    "            : list u\n",
    "        Python = fun () =>\n",
    "            list\n",
    "            |> rev'\n",
    "            |> fold' fn init\n",
    "    }"
   ]
  },
  {
   "cell_type": "markdown",
   "metadata": {},
   "source": [
    "### filter'"
   ]
  },
  {
   "cell_type": "code",
   "execution_count": null,
   "metadata": {
    "dotnet_interactive": {
     "language": "spiral"
    },
    "polyglot_notebook": {
     "kernelName": "spiral"
    }
   },
   "outputs": [],
   "source": [
    "inl filter' forall t. (fn : t -> bool) (list : list' t) : list' t =\n",
    "    backend_switch {\n",
    "        Gleam = fun () => $'!list |> list.filter(!fn)' : list' t\n",
    "        Fsharp = fun () => list |> $'\"List.filter !fn\"' : list' t\n",
    "        Python = fun () => $'list(filter(!fn, !list))' : list' t\n",
    "    }"
   ]
  },
  {
   "cell_type": "markdown",
   "metadata": {},
   "source": [
    "### map"
   ]
  },
  {
   "cell_type": "code",
   "execution_count": null,
   "metadata": {
    "dotnet_interactive": {
     "language": "spiral"
    },
    "polyglot_notebook": {
     "kernelName": "spiral"
    }
   },
   "outputs": [],
   "source": [
    "inl map forall t u. (fn : t -> u) (list : list' t) : list' u =\n",
    "    list'_types ()\n",
    "    backend_switch {\n",
    "        Gleam = fun () => $'!list |> list.map(!fn)' : list' u\n",
    "        Fsharp = fun () => list |> $'List.map' fn : list' u\n",
    "        Python = fun () => $'list(map(!fn, !list))' : list' u\n",
    "    }"
   ]
  },
  {
   "cell_type": "markdown",
   "metadata": {},
   "source": [
    "### unbox"
   ]
  },
  {
   "cell_type": "code",
   "execution_count": null,
   "metadata": {
    "dotnet_interactive": {
     "language": "spiral"
    },
    "polyglot_notebook": {
     "kernelName": "spiral"
    }
   },
   "outputs": [],
   "source": [
    "inl unbox forall t. (list : list' t) : list t =\n",
    "    (list, Nil)\n",
    "    ||> fold_back' id"
   ]
  },
  {
   "cell_type": "markdown",
   "metadata": {},
   "source": [
    "### distinct'"
   ]
  },
  {
   "cell_type": "code",
   "execution_count": null,
   "metadata": {
    "dotnet_interactive": {
     "language": "spiral"
    },
    "polyglot_notebook": {
     "kernelName": "spiral"
    }
   },
   "outputs": [],
   "source": [
    "inl distinct' forall t. (list : list' t) : list' t =\n",
    "    list'_types ()\n",
    "    backend_switch {\n",
    "        Gleam = fun () => $'!list |> list.unique' : list' t\n",
    "        Fsharp = fun () => list |> $'List.distinct' : list' t\n",
    "        Python = fun () =>\n",
    "            $'x = list(set(!list))'\n",
    "            $'x.sort(key=!list.index)'\n",
    "            $'x' : list' t\n",
    "    }"
   ]
  },
  {
   "cell_type": "code",
   "execution_count": null,
   "metadata": {
    "dotnet_interactive": {
     "language": "spiral"
    },
    "polyglot_notebook": {
     "kernelName": "spiral"
    }
   },
   "outputs": [
    {
     "data": {
      "text/plain": [
       ".py output (Cuda):\n",
       "__assert_eq / actual: UH0_1(v0='1', v1=UH0_1(v0='2', v1=UH0_1(v0='3', v1=UH0_0()))) / expected: UH0_1(v0='1', v1=UH0_1(v0='2', v1=UH0_1(v0='3', v1=UH0_0())))\n",
       "\n",
       ".rs output:\n",
       "__assert_eq / actual: UH0_1(\"1\", UH0_1(\"2\", UH0_1(\"3\", UH0_0))) / expected: UH0_1(\"1\", UH0_1(\"2\", UH0_1(\"3\", UH0_0)))\n",
       "\n",
       ".ts output:\n",
       "__assert_eq / actual: UH0_1 (1, UH0_1 (2, UH0_1 (3, UH0_0))) / expected: UH0_1 (1, UH0_1 (2, UH0_1 (3, UH0_0)))\n",
       "\n",
       ".py output:\n",
       "__assert_eq / actual: UH0_1 (\"1\", UH0_1 (\"2\", UH0_1 (\"3\", UH0_0))) / expected: UH0_1 (\"1\", UH0_1 (\"2\", UH0_1 (\"3\", UH0_0)))\n",
       "\n",
       "\n",
       ".gleam output (Gleam):\n",
       "{compiling,\"/home/runner/work/spiral/polyglot/target/spiral_Eval/packages/a033bff283bcc4e6f6f4e89ac7d05500b5922b68afb21c98225fa6585372dee9/build/dev/erlang/gleam_stdlib/_gleam_artefacts/gleam@result.erl\"}\n",
       "{compiling,\"/home/runner/work/spiral/polyglot/target/spiral_Eval/packages/a033bff283bcc4e6f6f4e89ac7d05500b5922b68afb21c98225fa6585372dee9/build/dev/erlang/gleam_stdlib/_gleam_artefacts/gleam@dict.erl\"}\n",
       "{compiling,\"/home/runner/work/spiral/polyglot/target/spiral_Eval/packages/a033bff283bcc4e6f6f4e89ac7d05500b5922b68afb21c98225fa6585372dee9/build/dev/erlang/gleam_stdlib/_gleam_artefacts/gleam@string.erl\"}\n",
       "{compiling,\"/home/runner/work/spiral/polyglot/target/spiral_Eval/packages/a033bff283bcc4e6f6f4e89ac7d05500b5922b68afb21c98225fa6585372dee9/build/dev/erlang/gleam_stdlib/_gleam_artefacts/gleam@dynamic@decode.erl\"}\n",
       "{compiled,\"/home/runner/work/spiral/polyglot/target/spiral_Eval/packages/a033bff283bcc4e6f6f4e89ac7d05500b5922b68afb21c98225fa6585372dee9/build/dev/erlang/gleam_stdlib/ebin/gleam@dict.beam\"}\n",
       "{compiling,\"/home/runner/work/spiral/polyglot/target/spiral_Eval/packages/a033bff283bcc4e6f6f4e89ac7d05500b5922b68afb21c98225fa6585372dee9/build/dev/erlang/gleam_stdlib/_gleam_artefacts/gleam@function.erl\"}\n",
       "{compiled,\"/home/runner/work/spiral/polyglot/target/spiral_Eval/packages/a033bff283bcc4e6f6f4e89ac7d05500b5922b68afb21c98225fa6585372dee9/build/dev/erlang/gleam_stdlib/ebin/gleam@function.beam\"}\n",
       "{compiling,\"/home/runner/work/spiral/polyglot/target/spiral_Eval/packages/a033bff283bcc4e6f6f4e89ac7d05500b5922b68afb21c98225fa6585372dee9/build/dev/erlang/gleam_stdlib/_gleam_artefacts/gleam@float.erl\"}\n",
       "{compiled,\"/home/runner/work/spiral/polyglot/target/spiral_Eval/packages/a033bff283bcc4e6f6f4e89ac7d05500b5922b68afb21c98225fa6585372dee9/build/dev/erlang/gleam_stdlib/ebin/gleam@result.beam\"}\n",
       "{compiling,\"/home/runner/work/spiral/polyglot/target/spiral_Eval/packages/a033bff283bcc4e6f6f4e89ac7d05500b5922b68afb21c98225fa6585372dee9/build/dev/erlang/gleam_stdlib/_gleam_artefacts/gleam_stdlib_decode_ffi.erl\"}\n",
       "{compiled,\"/home/runner/work/spiral/polyglot/target/spiral_Eval/packages/a033bff283bcc4e6f6f4e89ac7d05500b5922b68afb21c98225fa6585372dee9/build/dev/erlang/gleam_stdlib/ebin/gleam@string.beam\"}\n",
       "{compiling,\"/home/runner/work/spiral/polyglot/target/spiral_Eval/packages/a033bff283bcc4e6f6f4e89ac7d05500b5922b68afb21c98225fa6585372dee9/build/dev/erlang/gleam_stdlib/_gleam_artefacts/gleam@bytes_tree.erl\"}\n",
       "{compiled,\"/home/runner/work/spiral/polyglot/target/spiral_Eval/packages/a033bff283bcc4e6f6f4e89ac7d05500b5922b68afb21c98225fa6585372dee9/build/dev/erlang/gleam_stdlib/ebin/gleam@float.beam\"}\n",
       "{compiling,\"/home/runner/work/spiral/polyglot/target/spiral_Eval/packages/a033bff283bcc4e6f6f4e89ac7d05500b5922b68afb21c98225fa6585372dee9/build/dev/erlang/gleam_stdlib/_gleam_artefacts/gleam@string_tree.erl\"}\n",
       "{compiled,\"/home/runner/work/spiral/polyglot/target/spiral_Eval/packages/a033bff283bcc4e6f6f4e89ac7d05500b5922b68afb21c98225fa6585372dee9/build/dev/erlang/gleam_stdlib/ebin/gleam@bytes_tree.beam\"}\n",
       "{compiled,\"/home/runner/work/spiral/polyglot/target/spiral_Eval/packages/a033bff283bcc4e6f6f4e89ac7d05500b5922b68afb21c98225fa6585372dee9/build/dev/erlang/gleam_stdlib/ebin/gleam_stdlib_decode_ffi.beam\"}\n",
       "{compiling,\"/home/runner/work/spiral/polyglot/target/spiral_Eval/packages/a033bff283bcc4e6f6f4e89ac7d05500b5922b68afb21c98225fa6585372dee9/build/dev/erlang/gleam_stdlib/_gleam_artefacts/gleam@option.erl\"}\n",
       "{compiling,\"/home/runner/work/spiral/polyglot/target/spiral_Eval/packages/a033bff283bcc4e6f6f4e89ac7d05500b5922b68afb21c98225fa6585372dee9/build/dev/erlang/gleam_stdlib/_gleam_artefacts/gleam@io.erl\"}\n",
       "{compiled,\"/home/runner/work/spiral/polyglot/target/spiral_Eval/packages/a033bff283bcc4e6f6f4e89ac7d05500b5922b68afb21c98225fa6585372dee9/build/dev/erlang/gleam_stdlib/ebin/gleam@string_tree.beam\"}\n",
       "{compiling,\"/home/runner/work/spiral/polyglot/target/spiral_Eval/packages/a033bff283bcc4e6f6f4e89ac7d05500b5922b68afb21c98225fa6585372dee9/build/dev/erlang/gleam_stdlib/_gleam_artefacts/gleam@dynamic.erl\"}\n",
       "{compiled,\"/home/runner/work/spiral/polyglot/target/spiral_Eval/packages/a033bff283bcc4e6f6f4e89ac7d05500b5922b68afb21c98225fa6585372dee9/build/dev/erlang/gleam_stdlib/ebin/gleam@io.beam\"}\n",
       "{compiling,\"/home/runner/work/spiral/polyglot/target/spiral_Eval/packages/a033bff283bcc4e6f6f4e89ac7d05500b5922b68afb21c98225fa6585372dee9/build/dev/erlang/gleam_stdlib/_gleam_artefacts/gleam@int.erl\"}\n",
       "{compiled,\"/home/runner/work/spiral/polyglot/target/spiral_Eval/packages/a033bff283bcc4e6f6f4e89ac7d05500b5922b68afb21c98225fa6585372dee9/build/dev/erlang/gleam_stdlib/ebin/gleam@dynamic@decode.beam\"}\n",
       "{compiling,\"/home/runner/work/spiral/polyglot/target/spiral_Eval/packages/a033bff283bcc4e6f6f4e89ac7d05500b5922b68afb21c98225fa6585372dee9/build/dev/erlang/gleam_stdlib/_gleam_artefacts/gleam@uri.erl\"}\n",
       "{compiled,\"/home/runner/work/spiral/polyglot/target/spiral_Eval/packages/a033bff283bcc4e6f6f4e89ac7d05500b5922b68afb21c98225fa6585372dee9/build/dev/erlang/gleam_stdlib/ebin/gleam@option.beam\"}\n",
       "{compiling,\"/home/runner/work/spiral/polyglot/target/spiral_Eval/packages/a033bff283bcc4e6f6f4e89ac7d05500b5922b68afb21c98225fa6585372dee9/build/dev/erlang/gleam_stdlib/_gleam_artefacts/gleam@bool.erl\"}\n",
       "{compiled,\"/home/runner/work/spiral/polyglot/target/spiral_Eval/packages/a033bff283bcc4e6f6f4e89ac7d05500b5922b68afb21c98225fa6585372dee9/build/dev/erlang/gleam_stdlib/ebin/gleam@int.beam\"}\n",
       "{compiling,\"/home/runner/work/spiral/polyglot/target/spiral_Eval/packages/a033bff283bcc4e6f6f4e89ac7d05500b5922b68afb21c98225fa6585372dee9/build/dev/erlang/gleam_stdlib/_gleam_artefacts/gleam@list.erl\"}\n",
       "{compiled,\"/home/runner/work/spiral/polyglot/target/spiral_Eval/packages/a033bff283bcc4e6f6f4e89ac7d05500b5922b68afb21c98225fa6585372dee9/build/dev/erlang/gleam_stdlib/ebin/gleam@bool.beam\"}\n",
       "{compiling,\"/home/runner/work/spiral/polyglot/target/spiral_Eval/packages/a033bff283bcc4e6f6f4e89ac7d05500b5922b68afb21c98225fa6585372dee9/build/dev/erlang/gleam_stdlib/_gleam_artefacts/gleam@pair.erl\"}\n",
       "{compiled,\"/home/runner/work/spiral/polyglot/target/spiral_Eval/packages/a033bff283bcc4e6f6f4e89ac7d05500b5922b68afb21c98225fa6585372dee9/build/dev/erlang/gleam_stdlib/ebin/gleam@pair.beam\"}\n",
       "{compiling,\"/home/runner/work/spiral/polyglot/target/spiral_Eval/packages/a033bff283bcc4e6f6f4e89ac7d05500b5922b68afb21c98225fa6585372dee9/build/dev/erlang/gleam_stdlib/_gleam_artefacts/gleam_stdlib.erl\"}\n",
       "{compiled,\"/home/runner/work/spiral/polyglot/target/spiral_Eval/packages/a033bff283bcc4e6f6f4e89ac7d05500b5922b68afb21c98225fa6585372dee9/build/dev/erlang/gleam_stdlib/ebin/gleam@uri.beam\"}\n",
       "{compiling,\"/home/runner/work/spiral/polyglot/target/spiral_Eval/packages/a033bff283bcc4e6f6f4e89ac7d05500b5922b68afb21c98225fa6585372dee9/build/dev/erlang/gleam_stdlib/_gleam_artefacts/gleam@bit_array.erl\"}\n",
       "{compiled,\"/home/runner/work/spiral/polyglot/target/spiral_Eval/packages/a033bff283bcc4e6f6f4e89ac7d05500b5922b68afb21c98225fa6585372dee9/build/dev/erlang/gleam_stdlib/ebin/gleam@bit_array.beam\"}\n",
       "{compiling,\"/home/runner/work/spiral/polyglot/target/spiral_Eval/packages/a033bff283bcc4e6f6f4e89ac7d05500b5922b68afb21c98225fa6585372dee9/build/dev/erlang/gleam_stdlib/_gleam_artefacts/gleam@set.erl\"}\n",
       "{compiled,\"/home/runner/work/spiral/polyglot/target/spiral_Eval/packages/a033bff283bcc4e6f6f4e89ac7d05500b5922b68afb21c98225fa6585372dee9/build/dev/erlang/gleam_stdlib/ebin/gleam@dynamic.beam\"}\n",
       "{compiling,\"/home/runner/work/spiral/polyglot/target/spiral_Eval/packages/a033bff283bcc4e6f6f4e89ac7d05500b5922b68afb21c98225fa6585372dee9/build/dev/erlang/gleam_stdlib/_gleam_artefacts/gleam@order.erl\"}\n",
       "{compiled,\"/home/runner/work/spiral/polyglot/target/spiral_Eval/packages/a033bff283bcc4e6f6f4e89ac7d05500b5922b68afb21c98225fa6585372dee9/build/dev/erlang/gleam_stdlib/ebin/gleam@order.beam\"}\n",
       "{compiled,\"/home/runner/work/spiral/polyglot/target/spiral_Eval/packages/a033bff283bcc4e6f6f4e89ac7d05500b5922b68afb21c98225fa6585372dee9/build/dev/erlang/gleam_stdlib/ebin/gleam_stdlib.beam\"}\n",
       "{compiled,\"/home/runner/work/spiral/polyglot/target/spiral_Eval/packages/a033bff283bcc4e6f6f4e89ac7d05500b5922b68afb21c98225fa6585372dee9/build/dev/erlang/gleam_stdlib/ebin/gleam@set.beam\"}\n",
       "{compiled,\"/home/runner/work/spiral/polyglot/target/spiral_Eval/packages/a033bff283bcc4e6f6f4e89ac7d05500b5922b68afb21c98225fa6585372dee9/build/dev/erlang/gleam_stdlib/ebin/gleam@list.beam\"}\n",
       "{compiling,\"/home/runner/work/spiral/polyglot/target/spiral_Eval/packages/a033bff283bcc4e6f6f4e89ac7d05500b5922b68afb21c98225fa6585372dee9/build/dev/erlang/gary/_gleam_artefacts/internal@array_bindings.erl\"}\n",
       "{compiling,\"/home/runner/work/spiral/polyglot/target/spiral_Eval/packages/a033bff283bcc4e6f6f4e89ac7d05500b5922b68afb21c98225fa6585372dee9/build/dev/erlang/gary/_gleam_artefacts/gary.erl\"}\n",
       "{compiling,\"/home/runner/work/spiral/polyglot/target/spiral_Eval/packages/a033bff283bcc4e6f6f4e89ac7d05500b5922b68afb21c98225fa6585372dee9/build/dev/erlang/gary/_gleam_artefacts/gary@array.erl\"}\n",
       "{compiled,\"/home/runner/work/spiral/polyglot/target/spiral_Eval/packages/a033bff283bcc4e6f6f4e89ac7d05500b5922b68afb21c98225fa6585372dee9/build/dev/erlang/gary/ebin/gary.beam\"}\n",
       "{compiled,\"/home/runner/work/spiral/polyglot/target/spiral_Eval/packages/a033bff283bcc4e6f6f4e89ac7d05500b5922b68afb21c98225fa6585372dee9/build/dev/erlang/gary/ebin/internal@array_bindings.beam\"}\n",
       "{compiled,\"/home/runner/work/spiral/polyglot/target/spiral_Eval/packages/a033bff283bcc4e6f6f4e89ac7d05500b5922b68afb21c98225fa6585372dee9/build/dev/erlang/gary/ebin/gary@array.beam\"}\n",
       "{compiling,\"/home/runner/work/spiral/polyglot/target/spiral_Eval/packages/a033bff283bcc4e6f6f4e89ac7d05500b5922b68afb21c98225fa6585372dee9/build/dev/erlang/main/_gleam_artefacts/main.erl\"}\n",
       "{compiling,\"/home/runner/work/spiral/polyglot/target/spiral_Eval/packages/a033bff283bcc4e6f6f4e89ac7d05500b5922b68afb21c98225fa6585372dee9/build/dev/erlang/main/_gleam_artefacts/main@@main.erl\"}\n",
       "{compiled,\"/home/runner/work/spiral/polyglot/target/spiral_Eval/packages/a033bff283bcc4e6f6f4e89ac7d05500b5922b68afb21c98225fa6585372dee9/build/dev/erlang/main/ebin/main.beam\"}\n",
       "{compiled,\"/home/runner/work/spiral/polyglot/target/spiral_Eval/packages/a033bff283bcc4e6f6f4e89ac7d05500b5922b68afb21c98225fa6585372dee9/build/dev/erlang/main/ebin/main@@main.beam\"}\n",
       "__assert_eq / actual: Uh0i1(\"1\", Uh0i1(\"2\", Uh0i1(\"3\", Uh0i0))) / expected: Uh0i1(\"1\", Uh0i1(\"2\", Uh0i1(\"3\", Uh0i0)))\n",
       "\n",
       "\n"
      ]
     },
     "metadata": {},
     "output_type": "display_data"
    },
    {
     "name": "stdout",
     "output_type": "stream",
     "text": [
      ".fsx output:\n",
      "__assert_eq / actual: UH0_1 (\"1\", UH0_1 (\"2\", UH0_1 (\"3\", UH0_0))) / expected: UH0_1 (\"1\", UH0_1 (\"2\", UH0_1 (\"3\", UH0_0)))\n"
     ]
    }
   ],
   "source": [
    "//// test\n",
    "///! gleam\n",
    "///! fsharp\n",
    "///! rust\n",
    "///! cuda\n",
    "///! typescript\n",
    "///! python\n",
    "\n",
    "[ \"1\"; \"2\"; \"2\"; \"3\" ]\n",
    "|> box\n",
    "|> distinct'\n",
    "|> unbox\n",
    "|> _assert_eq [ \"1\"; \"2\"; \"3\" ]"
   ]
  },
  {
   "cell_type": "markdown",
   "metadata": {},
   "source": [
    "### to_array'"
   ]
  },
  {
   "cell_type": "code",
   "execution_count": null,
   "metadata": {
    "dotnet_interactive": {
     "language": "spiral"
    },
    "polyglot_notebook": {
     "kernelName": "spiral"
    }
   },
   "outputs": [],
   "source": [
    "inl to_array' forall t. (items : list' t) : array_base t =\n",
    "    backend_switch {\n",
    "        Fsharp = fun () => items |> $'List.toArray' : array_base t\n",
    "        Python = fun () => $'(cp if cuda else np).array(!items)' : array_base t\n",
    "    }"
   ]
  }
 ],
 "metadata": {},
 "nbformat": 4,
 "nbformat_minor": 5
}