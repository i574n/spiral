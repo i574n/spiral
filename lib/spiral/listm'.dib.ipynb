{
 "cells": [
  {
   "cell_type": "markdown",
   "metadata": {},
   "source": [
    "# listm'"
   ]
  },
  {
   "cell_type": "code",
   "execution_count": null,
   "metadata": {
    "dotnet_interactive": {
     "language": "spiral"
    },
    "polyglot_notebook": {
     "kernelName": "spiral"
    }
   },
   "outputs": [],
   "source": [
    "//// test\n",
    "\n",
    "open testing"
   ]
  },
  {
   "cell_type": "markdown",
   "metadata": {},
   "source": [
    "## listm'"
   ]
  },
  {
   "cell_type": "markdown",
   "metadata": {},
   "source": [
    "### append"
   ]
  },
  {
   "cell_type": "code",
   "execution_count": null,
   "metadata": {
    "dotnet_interactive": {
     "language": "spiral"
    },
    "polyglot_notebook": {
     "kernelName": "spiral"
    }
   },
   "outputs": [],
   "source": [
    "instance append list t =\n",
    "    listm.append"
   ]
  },
  {
   "cell_type": "code",
   "execution_count": null,
   "metadata": {
    "dotnet_interactive": {
     "language": "spiral"
    },
    "polyglot_notebook": {
     "kernelName": "spiral"
    }
   },
   "outputs": [
    {
     "data": {
      "text/plain": [
       ".py output (Python):\n",
       "{ name = __assert_eq; actual = UH0_1(v0='a', v1=UH0_1(v0='b', v1=UH0_1(v0='c', v1=UH0_1(v0='d', v1=UH0_0())))); expected = UH0_1(v0='a', v1=UH0_1(v0='b', v1=UH0_1(v0='c', v1=UH0_1(v0='d', v1=UH0_0())))) }\n",
       "\n",
       ".rs output:\n",
       "{ name = __assert_eq; actual = UH0_1(\"a\", UH0_1(\"b\", UH0_1(\"c\", UH0_1(\"d\", UH0_0)))); expected = UH0_1(\"a\", UH0_1(\"b\", UH0_1(\"c\", UH0_1(\"d\", UH0_0)))) }\n",
       "\n",
       ".ts output:\n",
       "{ name = __assert_eq; actual = UH0_1 (a, UH0_1 (b, UH0_1 (c, UH0_1 (d, UH0_0)))); expected = UH0_1 (a, UH0_1 (b, UH0_1 (c, UH0_1 (d, UH0_0)))) }\n",
       "\n",
       ".py output:\n",
       "{ name = __assert_eq; actual = UH0_1 (\"a\", UH0_1 (\"b\", UH0_1 (\"c\", UH0_1 (\"d\", UH0_0)))); expected = UH0_1 (\"a\", UH0_1 (\"b\", UH0_1 (\"c\", UH0_1 (\"d\", UH0_0)))) }\n",
       "\n",
       "\n",
       ".gleam output (Gleam):\n",
       "{compiling,\"/home/runner/work/spiral/polyglot/target/spiral_Eval/packages/4701eef71d223e7baee6a79a72a7835c63064a602483bc473e55b047b1a6c3fa/build/dev/erlang/main/_gleam_artefacts/main@@main.erl\"}\n",
       "{compiling,\"/home/runner/work/spiral/polyglot/target/spiral_Eval/packages/4701eef71d223e7baee6a79a72a7835c63064a602483bc473e55b047b1a6c3fa/build/dev/erlang/main/_gleam_artefacts/main.erl\"}\n",
       "{compiled,main,\n",
       "          \"/home/runner/work/spiral/polyglot/target/spiral_Eval/packages/4701eef71d223e7baee6a79a72a7835c63064a602483bc473e55b047b1a6c3fa/build/dev/erlang/main/ebin/main.beam\"}\n",
       "{compiled,main@@main,\n",
       "          \"/home/runner/work/spiral/polyglot/target/spiral_Eval/packages/4701eef71d223e7baee6a79a72a7835c63064a602483bc473e55b047b1a6c3fa/build/dev/erlang/main/ebin/main@@main.beam\"}\n",
       "{ name = __assert_eq; actual = Uh0i1(\"a\", Uh0i1(\"b\", Uh0i1(\"c\", Uh0i1(\"d\", Uh0i0)))); expected = Uh0i1(\"a\", Uh0i1(\"b\", Uh0i1(\"c\", Uh0i1(\"d\", Uh0i0)))) }\n",
       "\n",
       "\n",
       "\n",
       "\n"
      ]
     },
     "metadata": {},
     "output_type": "display_data"
    },
    {
     "name": "stdout",
     "output_type": "stream",
     "text": [
      ".gleam (Gleam):\n",
      "import gleam/string\n",
      "import gleam/io\n",
      "pub type Uh0 {\n",
      "    Uh0i0\n",
      "    Uh0i1(String, Uh0)\n",
      "}\n",
      "pub type Mut0 { Mut0(l0 : String) }\n",
      "pub fn method2 () -> String {\n",
      "    let v0 = \"\"\n",
      "    v0\n",
      "}\n",
      "pub fn method1 (v0 :    String, v1 :    Uh0, v2 :    Uh0) -> String {\n",
      "    let v3 = method2()\n",
      "    let v4 = Mut0(l0 :  v3)\n",
      "    let v5 = \"{ \"\n",
      "    let v6 = v5 \n",
      "    let v10 = v4.l0 \n",
      "    let v11 = v10 <> v6 \n",
      "    let v4 = Mut0(l0: v11)\n",
      "    let v23 = \"name\"\n",
      "    let v24 = v23 \n",
      "    let v28 = v4.l0 \n",
      "    let v29 = v28 <> v24 \n",
      "    let v4 = Mut0(l0: v29)\n",
      "    let v41 = \" = \"\n",
      "    let v42 = v41 \n",
      "    let v46 = v4.l0 \n",
      "    let v47 = v46 <> v42 \n",
      "    let v4 = Mut0(l0: v47)\n",
      "    let v59 = v0 \n",
      "    let v63 = v4.l0 \n",
      "    let v64 = v63 <> v59 \n",
      "    let v4 = Mut0(l0: v64)\n",
      "    let v76 = \"; \"\n",
      "    let v77 = v76 \n",
      "    let v81 = v4.l0 \n",
      "    let v82 = v81 <> v77 \n",
      "    let v4 = Mut0(l0: v82)\n",
      "    let v94 = \"actual\"\n",
      "    let v95 = v94 \n",
      "    let v99 = v4.l0 \n",
      "    let v100 = v99 <> v95 \n",
      "    let v4 = Mut0(l0: v100)\n",
      "    let v112 = v41 \n",
      "    let v116 = v4.l0 \n",
      "    let v117 = v116 <> v112 \n",
      "    let v4 = Mut0(l0: v117)\n",
      "    let v129 = string.inspect(v1)\n",
      "    let v133 = v129 \n",
      "    let v137 = v4.l0 \n",
      "    let v138 = v137 <> v133 \n",
      "    let v4 = Mut0(l0: v138)\n",
      "    let v150 = v76 \n",
      "    let v154 = v4.l0 \n",
      "    let v155 = v154 <> v150 \n",
      "    let v4 = Mut0(l0: v155)\n",
      "    let v167 = \"expected\"\n",
      "    let v168 = v167 \n",
      "    let v172 = v4.l0 \n",
      "    let v173 = v172 <> v168 \n",
      "    let v4 = Mut0(l0: v173)\n",
      "    let v185 = v41 \n",
      "    let v189 = v4.l0 \n",
      "    let v190 = v189 <> v185 \n",
      "    let v4 = Mut0(l0: v190)\n",
      "    let v202 = string.inspect(v2)\n",
      "    let v206 = v202 \n",
      "    let v210 = v4.l0 \n",
      "    let v211 = v210 <> v206 \n",
      "    let v4 = Mut0(l0: v211)\n",
      "    let v223 = \" }\"\n",
      "    let v224 = v223 \n",
      "    let v228 = v4.l0 \n",
      "    let v229 = v228 <> v224 \n",
      "    let v4 = Mut0(l0: v229)\n",
      "    let v241 = v4.l0 \n",
      "    v241\n",
      "}\n",
      "pub fn method0 () -> Nil   {\n",
      "    let v0 = \"__assert_eq\"\n",
      "    let v1 = \"a\"\n",
      "    let v2 = \"b\"\n",
      "    let v3 = \"c\"\n",
      "    let v4 = \"d\"\n",
      "    let v5 = Uh0i0\n",
      "    let v6 = Uh0i1(v4, v5)\n",
      "    let v7 = Uh0i1(v3, v6)\n",
      "    let v8 = Uh0i1(v2, v7)\n",
      "    let v9 = Uh0i1(v1, v8)\n",
      "    let v10 = Uh0i0\n",
      "    let v11 = Uh0i1(v4, v10)\n",
      "    let v12 = Uh0i1(v3, v11)\n",
      "    let v13 = Uh0i1(v2, v12)\n",
      "    let v14 = Uh0i1(v1, v13)\n",
      "    let v15 = method1(v0, v9, v14)\n",
      "    io.println(v15)\n",
      "    Nil \n",
      "}\n",
      "pub fn main () { method0()\n",
      " }\n",
      ".fsx:\n",
      "type UH0 =\n",
      "    | UH0_0\n",
      "    | UH0_1 of string * UH0\n",
      "and Mut0 = {mutable l0 : string}\n",
      "let rec method2 () : string =\n",
      "    let v0 : string = \"\"\n",
      "    v0\n",
      "and closure0 (v0 : Mut0, v1 : string) () : unit =\n",
      "    let v2 : string = v0.l0\n",
      "    let v4 : string = v2 + v1 \n",
      "    v0.l0 <- v4\n",
      "    ()\n",
      "and method1 (v0 : string, v1 : UH0, v2 : UH0) : string =\n",
      "    let v3 : string = method2()\n",
      "    let v4 : Mut0 = {l0 = v3} : Mut0\n",
      "    let v7 : string = \"{ \"\n",
      "    let v8 : string = $\"{v7}\"\n",
      "    let v16 : unit = ()\n",
      "    let v17 : (unit -> unit) = closure0(v4, v8)\n",
      "    let v18 : unit = (fun () -> v17 (); v16) ()\n",
      "    let v26 : string = \"name\"\n",
      "    let v27 : string = $\"{v26}\"\n",
      "    let v35 : unit = ()\n",
      "    let v36 : (unit -> unit) = closure0(v4, v27)\n",
      "    let v37 : unit = (fun () -> v36 (); v35) ()\n",
      "    let v45 : string = \" = \"\n",
      "    let v46 : string = $\"{v45}\"\n",
      "    let v54 : unit = ()\n",
      "    let v55 : (unit -> unit) = closure0(v4, v46)\n",
      "    let v56 : unit = (fun () -> v55 (); v54) ()\n",
      "    let v63 : string = $\"{v0}\"\n",
      "    let v71 : unit = ()\n",
      "    let v72 : (unit -> unit) = closure0(v4, v63)\n",
      "    let v73 : unit = (fun () -> v72 (); v71) ()\n",
      "    let v81 : string = \"; \"\n",
      "    let v82 : string = $\"{v81}\"\n",
      "    let v90 : unit = ()\n",
      "    let v91 : (unit -> unit) = closure0(v4, v82)\n",
      "    let v92 : unit = (fun () -> v91 (); v90) ()\n",
      "    let v100 : string = \"actual\"\n",
      "    let v101 : string = $\"{v100}\"\n",
      "    let v109 : unit = ()\n",
      "    let v110 : (unit -> unit) = closure0(v4, v101)\n",
      "    let v111 : unit = (fun () -> v110 (); v109) ()\n",
      "    let v118 : string = $\"{v45}\"\n",
      "    let v126 : unit = ()\n",
      "    let v127 : (unit -> unit) = closure0(v4, v118)\n",
      "    let v128 : unit = (fun () -> v127 (); v126) ()\n",
      "    let v135 : string = $\"%A{v1}\"\n",
      "    let v139 : string = $\"{v135}\"\n",
      "    let v147 : unit = ()\n",
      "    let v148 : (unit -> unit) = closure0(v4, v139)\n",
      "    let v149 : unit = (fun () -> v148 (); v147) ()\n",
      "    let v156 : string = $\"{v81}\"\n",
      "    let v164 : unit = ()\n",
      "    let v165 : (unit -> unit) = closure0(v4, v156)\n",
      "    let v166 : unit = (fun () -> v165 (); v164) ()\n",
      "    let v174 : string = \"expected\"\n",
      "    let v175 : string = $\"{v174}\"\n",
      "    let v183 : unit = ()\n",
      "    let v184 : (unit -> unit) = closure0(v4, v175)\n",
      "    let v185 : unit = (fun () -> v184 (); v183) ()\n",
      "    let v192 : string = $\"{v45}\"\n",
      "    let v200 : unit = ()\n",
      "    let v201 : (unit -> unit) = closure0(v4, v192)\n",
      "    let v202 : unit = (fun () -> v201 (); v200) ()\n",
      "    let v209 : string = $\"%A{v2}\"\n",
      "    let v213 : string = $\"{v209}\"\n",
      "    let v221 : unit = ()\n",
      "    let v222 : (unit -> unit) = closure0(v4, v213)\n",
      "    let v223 : unit = (fun () -> v222 (); v221) ()\n",
      "    let v231 : string = \" }\"\n",
      "    let v232 : string = $\"{v231}\"\n",
      "    let v240 : unit = ()\n",
      "    let v241 : (unit -> unit) = closure0(v4, v232)\n",
      "    let v242 : unit = (fun () -> v241 (); v240) ()\n",
      "    let v248 : string = v4.l0\n",
      "    v248\n",
      "and closure1 (v0 : string) () : unit =\n",
      "    let v1 : (string -> unit) = System.Console.WriteLine\n",
      "    v1 v0\n",
      "and method0 () : unit =\n",
      "    let v0 : string = \"__assert_eq\"\n",
      "    let v1 : string = \"a\"\n",
      "    let v2 : string = \"b\"\n",
      "    let v3 : string = \"c\"\n",
      "    let v4 : string = \"d\"\n",
      "    let v5 : UH0 = UH0_0\n",
      "    let v6 : UH0 = UH0_1(v4, v5)\n",
      "    let v7 : UH0 = UH0_1(v3, v6)\n",
      "    let v8 : UH0 = UH0_1(v2, v7)\n",
      "    let v9 : UH0 = UH0_1(v1, v8)\n",
      "    let v10 : UH0 = UH0_0\n",
      "    let v11 : UH0 = UH0_1(v4, v10)\n",
      "    let v12 : UH0 = UH0_1(v3, v11)\n",
      "    let v13 : UH0 = UH0_1(v2, v12)\n",
      "    let v14 : UH0 = UH0_1(v1, v13)\n",
      "    let v15 : string = method1(v0, v9, v14)\n",
      "    let v17 : unit = ()\n",
      "    let v18 : (unit -> unit) = closure1(v15)\n",
      "    let v19 : unit = (fun () -> v18 (); v17) ()\n",
      "    ()\n",
      "method0()\n",
      "\n",
      "\n",
      ".rs:\n",
      "#![allow(dead_code)]\n",
      "#![allow(non_camel_case_types)]\n",
      "#![allow(non_snake_case)]\n",
      "#![allow(non_upper_case_globals)]\n",
      "#![allow(unreachable_code)]\n",
      "#![allow(unused_attributes)]\n",
      "#![allow(unused_imports)]\n",
      "#![allow(unused_macros)]\n",
      "#![allow(unused_parens)]\n",
      "#![allow(unused_variables)]\n",
      "#![allow(unused_assignments)]\n",
      "mod module_6ff740fe {\n",
      "    pub mod Spiral {\n",
      "        use super::*;\n",
      "        use fable_library_rust::Native_::LrcPtr;\n",
      "        use fable_library_rust::Native_::MutCell;\n",
      "        use fable_library_rust::Native_::on_startup;\n",
      "        use fable_library_rust::String_::append;\n",
      "        use fable_library_rust::String_::printfn;\n",
      "        use fable_library_rust::String_::sprintf;\n",
      "        use fable_library_rust::String_::string;\n",
      "        #[derive(Clone, Debug, Hash, PartialEq, PartialOrd)]\n",
      "        pub enum UH0 {\n",
      "            UH0_0,\n",
      "            UH0_1(string, LrcPtr<Spiral::UH0>),\n",
      "        }\n",
      "        impl core::fmt::Display for UH0 {\n",
      "            fn fmt(&self, f: &mut core::fmt::Formatter) -> core::fmt::Result {\n",
      "                write!(f, \"{}\", core::any::type_name::<Self>())\n",
      "            }\n",
      "        }\n",
      "        #[derive(Clone, Debug, Hash, PartialEq, PartialOrd)]\n",
      "        pub struct Mut0 {\n",
      "            pub l0: MutCell<string>,\n",
      "        }\n",
      "        impl core::fmt::Display for Mut0 {\n",
      "            fn fmt(&self, f: &mut core::fmt::Formatter) -> core::fmt::Result {\n",
      "                write!(f, \"{}\", core::any::type_name::<Self>())\n",
      "            }\n",
      "        }\n",
      "        pub fn method2() -> string {\n",
      "            string(\"\")\n",
      "        }\n",
      "        pub fn closure0(v0: LrcPtr<Spiral::Mut0>, v1: string, unitVar: ()) {\n",
      "            let v4: string = append((v0.l0.get().clone()), (v1));\n",
      "            v0.l0.set(v4);\n",
      "            ()\n",
      "        }\n",
      "        pub fn method1(v0: string, v1: LrcPtr<Spiral::UH0>, v2: LrcPtr<Spiral::UH0>) -> string {\n",
      "            let v4: LrcPtr<Spiral::Mut0> = LrcPtr::new(Spiral::Mut0 {\n",
      "                l0: MutCell::new(Spiral::method2()),\n",
      "            });\n",
      "            let v18: () = {\n",
      "                Spiral::closure0(v4.clone(), string(\"{ \"), ());\n",
      "                ()\n",
      "            };\n",
      "            let v37: () = {\n",
      "                Spiral::closure0(v4.clone(), string(\"name\"), ());\n",
      "                ()\n",
      "            };\n",
      "            let v56: () = {\n",
      "                Spiral::closure0(v4.clone(), string(\" = \"), ());\n",
      "                ()\n",
      "            };\n",
      "            let v73: () = {\n",
      "                Spiral::closure0(v4.clone(), v0, ());\n",
      "                ()\n",
      "            };\n",
      "            let v92: () = {\n",
      "                Spiral::closure0(v4.clone(), string(\"; \"), ());\n",
      "                ()\n",
      "            };\n",
      "            let v111: () = {\n",
      "                Spiral::closure0(v4.clone(), string(\"actual\"), ());\n",
      "                ()\n",
      "            };\n",
      "            let v128: () = {\n",
      "                Spiral::closure0(v4.clone(), string(\" = \"), ());\n",
      "                ()\n",
      "            };\n",
      "            let v149: () = {\n",
      "                Spiral::closure0(v4.clone(), sprintf!(\"{:?}\", v1), ());\n",
      "                ()\n",
      "            };\n",
      "            let v166: () = {\n",
      "                Spiral::closure0(v4.clone(), string(\"; \"), ());\n",
      "                ()\n",
      "            };\n",
      "            let v185: () = {\n",
      "                Spiral::closure0(v4.clone(), string(\"expected\"), ());\n",
      "                ()\n",
      "            };\n",
      "            let v202: () = {\n",
      "                Spiral::closure0(v4.clone(), string(\" = \"), ());\n",
      "                ()\n",
      "            };\n",
      "            let v223: () = {\n",
      "                Spiral::closure0(v4.clone(), sprintf!(\"{:?}\", v2), ());\n",
      "                ()\n",
      "            };\n",
      "            let v242: () = {\n",
      "                Spiral::closure0(v4.clone(), string(\" }\"), ());\n",
      "                ()\n",
      "            };\n",
      "            v4.l0.get().clone()\n",
      "        }\n",
      "        pub fn closure1(v0: string, unitVar: ()) {\n",
      "            printfn!(\"{0}\", v0);\n",
      "        }\n",
      "        pub fn method0() {\n",
      "            let v19: () = {\n",
      "                Spiral::closure1(\n",
      "                    Spiral::method1(\n",
      "                        string(\"__assert_eq\"),\n",
      "                        LrcPtr::new(Spiral::UH0::UH0_1(\n",
      "                            string(\"a\"),\n",
      "                            LrcPtr::new(Spiral::UH0::UH0_1(\n",
      "                                string(\"b\"),\n",
      "                                LrcPtr::new(Spiral::UH0::UH0_1(\n",
      "                                    string(\"c\"),\n",
      "                                    LrcPtr::new(Spiral::UH0::UH0_1(\n",
      "                                        string(\"d\"),\n",
      "                                        LrcPtr::new(Spiral::UH0::UH0_0),\n",
      "                                    )),\n",
      "                                )),\n",
      "                            )),\n",
      "                        )),\n",
      "                        LrcPtr::new(Spiral::UH0::UH0_1(\n",
      "                            string(\"a\"),\n",
      "                            LrcPtr::new(Spiral::UH0::UH0_1(\n",
      "                                string(\"b\"),\n",
      "                                LrcPtr::new(Spiral::UH0::UH0_1(\n",
      "                                    string(\"c\"),\n",
      "                                    LrcPtr::new(Spiral::UH0::UH0_1(\n",
      "                                        string(\"d\"),\n",
      "                                        LrcPtr::new(Spiral::UH0::UH0_0),\n",
      "                                    )),\n",
      "                                )),\n",
      "                            )),\n",
      "                        )),\n",
      "                    ),\n",
      "                    (),\n",
      "                );\n",
      "                ()\n",
      "            };\n",
      "            ()\n",
      "        }\n",
      "        // on_startup!(Spiral::method0());\n",
      "    }\n",
      "}\n",
      "pub use module_6ff740fe::*;\n",
      "\n",
      "\n",
      "\n",
      "pub fn main() -> Result<(), String> { Ok(Spiral::method0()) }\n",
      "\n",
      ".ts:\n",
      "import { Record, Union } from \"./fable_modules/fable-library-ts.5.0.0-alpha.9/Types.js\";\n",
      "import { record_type, union_type, string_type, TypeInfo } from \"./fable_modules/fable-library-ts.5.0.0-alpha.9/Reflection.js\";\n",
      "import { IComparable, IEquatable } from \"./fable_modules/fable-library-ts.5.0.0-alpha.9/Util.js\";\n",
      "import { interpolate, toText } from \"./fable_modules/fable-library-ts.5.0.0-alpha.9/String.js\";\n",
      "\n",
      "export type UH0_$union = \n",
      "    | UH0<0>\n",
      "    | UH0<1>\n",
      "\n",
      "export type UH0_$cases = {\n",
      "    0: [\"UH0_0\", []],\n",
      "    1: [\"UH0_1\", [string, UH0_$union]]\n",
      "}\n",
      "\n",
      "export function UH0_UH0_0() {\n",
      "    return new UH0<0>(0, []);\n",
      "}\n",
      "\n",
      "export function UH0_UH0_1(Item1: string, Item2: UH0_$union) {\n",
      "    return new UH0<1>(1, [Item1, Item2]);\n",
      "}\n",
      "\n",
      "export class UH0<Tag extends keyof UH0_$cases> extends Union<Tag, UH0_$cases[Tag][0]> {\n",
      "    constructor(readonly tag: Tag, readonly fields: UH0_$cases[Tag][1]) {\n",
      "        super();\n",
      "    }\n",
      "    cases() {\n",
      "        return [\"UH0_0\", \"UH0_1\"];\n",
      "    }\n",
      "}\n",
      "\n",
      "export function UH0_$reflection(): TypeInfo {\n",
      "    return union_type(\"Spiral.UH0\", [], UH0, () => [[], [[\"Item1\", string_type], [\"Item2\", UH0_$reflection()]]]);\n",
      "}\n",
      "\n",
      "export class Mut0 extends Record implements IEquatable<Mut0>, IComparable<Mut0> {\n",
      "    l0: string;\n",
      "    constructor(l0: string) {\n",
      "        super();\n",
      "        this.l0 = l0;\n",
      "    }\n",
      "}\n",
      "\n",
      "export function Mut0_$reflection(): TypeInfo {\n",
      "    return record_type(\"Spiral.Mut0\", [], Mut0, () => [[\"l0\", string_type]]);\n",
      "}\n",
      "\n",
      "export function method2(): string {\n",
      "    return \"\";\n",
      "}\n",
      "\n",
      "export function closure0(v0: Mut0, v1: string, unitVar: void): void {\n",
      "    const v4: string = v0.l0 + v1;\n",
      "    v0.l0 = v4;\n",
      "}\n",
      "\n",
      "export function method1(v0: string, v1: UH0_$union, v2: UH0_$union): string {\n",
      "    const v4: Mut0 = new Mut0(method2());\n",
      "    let v18: any;\n",
      "    closure0(v4, \"{ \", undefined);\n",
      "    v18 = undefined;\n",
      "    let v37: any;\n",
      "    closure0(v4, \"name\", undefined);\n",
      "    v37 = undefined;\n",
      "    let v56: any;\n",
      "    closure0(v4, \" = \", undefined);\n",
      "    v56 = undefined;\n",
      "    let v73: any;\n",
      "    closure0(v4, v0, undefined);\n",
      "    v73 = undefined;\n",
      "    let v92: any;\n",
      "    closure0(v4, \"; \", undefined);\n",
      "    v92 = undefined;\n",
      "    let v111: any;\n",
      "    closure0(v4, \"actual\", undefined);\n",
      "    v111 = undefined;\n",
      "    let v128: any;\n",
      "    closure0(v4, \" = \", undefined);\n",
      "    v128 = undefined;\n",
      "    let v149: any;\n",
      "    closure0(v4, toText(interpolate(\"%A%P()\", [v1])), undefined);\n",
      "    v149 = undefined;\n",
      "    let v166: any;\n",
      "    closure0(v4, \"; \", undefined);\n",
      "    v166 = undefined;\n",
      "    let v185: any;\n",
      "    closure0(v4, \"expected\", undefined);\n",
      "    v185 = undefined;\n",
      "    let v202: any;\n",
      "    closure0(v4, \" = \", undefined);\n",
      "    v202 = undefined;\n",
      "    let v223: any;\n",
      "    closure0(v4, toText(interpolate(\"%A%P()\", [v2])), undefined);\n",
      "    v223 = undefined;\n",
      "    let v242: any;\n",
      "    closure0(v4, \" }\", undefined);\n",
      "    v242 = undefined;\n",
      "    return v4.l0;\n",
      "}\n",
      "\n",
      "export function closure1(v0: string, unitVar: void): void {\n",
      "    console.log(v0);\n",
      "}\n",
      "\n",
      "export function method0(): void {\n",
      "    let v19: any;\n",
      "    closure1(method1(\"__assert_eq\", UH0_UH0_1(\"a\", UH0_UH0_1(\"b\", UH0_UH0_1(\"c\", UH0_UH0_1(\"d\", UH0_UH0_0())))), UH0_UH0_1(\"a\", UH0_UH0_1(\"b\", UH0_UH0_1(\"c\", UH0_UH0_1(\"d\", UH0_UH0_0()))))), undefined);\n",
      "    v19 = undefined;\n",
      "}\n",
      "\n",
      "method0();\n",
      "\n",
      "\n",
      ".py:\n",
      "from __future__ import annotations\n",
      "from dataclasses import dataclass\n",
      "from typing import Any\n",
      "from fable_modules.fable_library.reflection import (TypeInfo, string_type, union_type, record_type)\n",
      "from fable_modules.fable_library.string_ import (to_text, interpolate)\n",
      "from fable_modules.fable_library.types import (Array, Union, Record)\n",
      "\n",
      "def _expr0() -> TypeInfo:\n",
      "    return union_type(\"Spiral.UH0\", [], UH0, lambda: [[], [(\"Item1\", string_type), (\"Item2\", UH0_reflection())]])\n",
      "\n",
      "\n",
      "class UH0(Union):\n",
      "    def __init__(self, tag: int, *fields: Any) -> None:\n",
      "        super().__init__()\n",
      "        self.tag: int = tag or 0\n",
      "        self.fields: Array[Any] = list(fields)\n",
      "\n",
      "    @staticmethod\n",
      "    def cases() -> list[str]:\n",
      "        return [\"UH0_0\", \"UH0_1\"]\n",
      "\n",
      "\n",
      "UH0_reflection = _expr0\n",
      "\n",
      "def _expr1() -> TypeInfo:\n",
      "    return record_type(\"Spiral.Mut0\", [], Mut0, lambda: [(\"l0\", string_type)])\n",
      "\n",
      "\n",
      "@dataclass(eq = False, repr = False, slots = True)\n",
      "class Mut0(Record):\n",
      "    l0: str\n",
      "\n",
      "Mut0_reflection = _expr1\n",
      "\n",
      "def method2(__unit: None=None) -> str:\n",
      "    return \"\"\n",
      "\n",
      "\n",
      "def closure0(v0: Mut0, v1: str, unit_var: None) -> None:\n",
      "    v4: str = v0.l0 + v1\n",
      "    v0.l0 = v4\n",
      "\n",
      "\n",
      "def method1(v0: str, v1: UH0, v2: UH0) -> str:\n",
      "    v4: Mut0 = Mut0(method2())\n",
      "    v18: None\n",
      "    closure0(v4, \"{ \", None)\n",
      "    v18 = None\n",
      "    v37: None\n",
      "    closure0(v4, \"name\", None)\n",
      "    v37 = None\n",
      "    v56: None\n",
      "    closure0(v4, \" = \", None)\n",
      "    v56 = None\n",
      "    v73: None\n",
      "    closure0(v4, v0, None)\n",
      "    v73 = None\n",
      "    v92: None\n",
      "    closure0(v4, \"; \", None)\n",
      "    v92 = None\n",
      "    v111: None\n",
      "    closure0(v4, \"actual\", None)\n",
      "    v111 = None\n",
      "    v128: None\n",
      "    closure0(v4, \" = \", None)\n",
      "    v128 = None\n",
      "    v149: None\n",
      "    closure0(v4, to_text(interpolate(\"%A%P()\", [v1])), None)\n",
      "    v149 = None\n",
      "    v166: None\n",
      "    closure0(v4, \"; \", None)\n",
      "    v166 = None\n",
      "    v185: None\n",
      "    closure0(v4, \"expected\", None)\n",
      "    v185 = None\n",
      "    v202: None\n",
      "    closure0(v4, \" = \", None)\n",
      "    v202 = None\n",
      "    v223: None\n",
      "    closure0(v4, to_text(interpolate(\"%A%P()\", [v2])), None)\n",
      "    v223 = None\n",
      "    v242: None\n",
      "    closure0(v4, \" }\", None)\n",
      "    v242 = None\n",
      "    return v4.l0\n",
      "\n",
      "\n",
      "def closure1(v0: str, unit_var: None) -> None:\n",
      "    print(v0)\n",
      "\n",
      "\n",
      "def method0(__unit: None=None) -> None:\n",
      "    v19: None\n",
      "    closure1(method1(\"__assert_eq\", UH0(1, \"a\", UH0(1, \"b\", UH0(1, \"c\", UH0(1, \"d\", UH0(0))))), UH0(1, \"a\", UH0(1, \"b\", UH0(1, \"c\", UH0(1, \"d\", UH0(0)))))), None)\n",
      "    v19 = None\n",
      "\n",
      "\n",
      "method0()\n",
      "\n",
      "\n",
      ".py (Python):\n",
      "kernels_main = r\"\"\"\n",
      "\"\"\"\n",
      "from main_auto import *\n",
      "kernels = kernels_aux + kernels_main\n",
      "import cupy as cp\n",
      "import numpy as np\n",
      "from dataclasses import dataclass\n",
      "from typing import NamedTuple, Union, Callable, Tuple\n",
      "i8 = int; i16 = int; i32 = int; i64 = int; u8 = int; u16 = int; u32 = int; u64 = int; f32 = float; f64 = float; char = str; string = str\n",
      "cuda = False\n",
      "\n",
      "\n",
      "# fwd_dcls\n",
      "UH0 = Union[\"UH0_0\", \"UH0_1\"]# types\n",
      "class UH0_0(NamedTuple): # (0, Nil)\n",
      "    tag = 0\n",
      "class UH0_1(NamedTuple): # (1, Cons)\n",
      "    v0 : string\n",
      "    v1 : UH0\n",
      "    tag = 1\n",
      "@dataclass\n",
      "class Mut0:\n",
      "    v0 : string\n",
      "# functions\n",
      "def method2() -> string:\n",
      "    v0 = \"\"\n",
      "    return v0\n",
      "def method1(v0 : string, v1 : UH0, v2 : UH0) -> string:\n",
      "    v3 = method2()\n",
      "    v4 = Mut0(v3)\n",
      "    del v3\n",
      "    v9 = \"{ \"\n",
      "    v10 = f\"{v9}\"\n",
      "    del v9\n",
      "    v20 = v4.v0\n",
      "    v23 = v20 + v10 \n",
      "    del v10, v20\n",
      "    v4.v0 = v23\n",
      "    del v23\n",
      "    v29 = \"name\"\n",
      "    v30 = f\"{v29}\"\n",
      "    del v29\n",
      "    v40 = v4.v0\n",
      "    v43 = v40 + v30 \n",
      "    del v30, v40\n",
      "    v4.v0 = v43\n",
      "    del v43\n",
      "    v49 = \" = \"\n",
      "    v50 = f\"{v49}\"\n",
      "    v60 = v4.v0\n",
      "    v63 = v60 + v50 \n",
      "    del v50, v60\n",
      "    v4.v0 = v63\n",
      "    del v63\n",
      "    v67 = f\"{v0}\"\n",
      "    del v0\n",
      "    v77 = v4.v0\n",
      "    v80 = v77 + v67 \n",
      "    del v67, v77\n",
      "    v4.v0 = v80\n",
      "    del v80\n",
      "    v86 = \"; \"\n",
      "    v87 = f\"{v86}\"\n",
      "    v97 = v4.v0\n",
      "    v100 = v97 + v87 \n",
      "    del v87, v97\n",
      "    v4.v0 = v100\n",
      "    del v100\n",
      "    v106 = \"actual\"\n",
      "    v107 = f\"{v106}\"\n",
      "    del v106\n",
      "    v117 = v4.v0\n",
      "    v120 = v117 + v107 \n",
      "    del v107, v117\n",
      "    v4.v0 = v120\n",
      "    del v120\n",
      "    v124 = f\"{v49}\"\n",
      "    v134 = v4.v0\n",
      "    v137 = v134 + v124 \n",
      "    del v124, v134\n",
      "    v4.v0 = v137\n",
      "    del v137\n",
      "    v141 = f\"{v1}\"\n",
      "    del v1\n",
      "    v145 = f\"{v141}\"\n",
      "    del v141\n",
      "    v155 = v4.v0\n",
      "    v158 = v155 + v145 \n",
      "    del v145, v155\n",
      "    v4.v0 = v158\n",
      "    del v158\n",
      "    v162 = f\"{v86}\"\n",
      "    del v86\n",
      "    v172 = v4.v0\n",
      "    v175 = v172 + v162 \n",
      "    del v162, v172\n",
      "    v4.v0 = v175\n",
      "    del v175\n",
      "    v181 = \"expected\"\n",
      "    v182 = f\"{v181}\"\n",
      "    del v181\n",
      "    v192 = v4.v0\n",
      "    v195 = v192 + v182 \n",
      "    del v182, v192\n",
      "    v4.v0 = v195\n",
      "    del v195\n",
      "    v199 = f\"{v49}\"\n",
      "    del v49\n",
      "    v209 = v4.v0\n",
      "    v212 = v209 + v199 \n",
      "    del v199, v209\n",
      "    v4.v0 = v212\n",
      "    del v212\n",
      "    v216 = f\"{v2}\"\n",
      "    del v2\n",
      "    v220 = f\"{v216}\"\n",
      "    del v216\n",
      "    v230 = v4.v0\n",
      "    v233 = v230 + v220 \n",
      "    del v220, v230\n",
      "    v4.v0 = v233\n",
      "    del v233\n",
      "    v239 = \" }\"\n",
      "    v240 = f\"{v239}\"\n",
      "    del v239\n",
      "    v250 = v4.v0\n",
      "    v253 = v250 + v240 \n",
      "    del v240, v250\n",
      "    v4.v0 = v253\n",
      "    del v253\n",
      "    v255 = v4.v0\n",
      "    del v4\n",
      "    return v255\n",
      "def method0() -> None:\n",
      "    v0 = \"__assert_eq\"\n",
      "    v1 = \"a\"\n",
      "    v2 = \"b\"\n",
      "    v3 = \"c\"\n",
      "    v4 = \"d\"\n",
      "    v5 = UH0_0()\n",
      "    v6 = UH0_1(v4, v5)\n",
      "    del v5\n",
      "    v7 = UH0_1(v3, v6)\n",
      "    del v6\n",
      "    v8 = UH0_1(v2, v7)\n",
      "    del v7\n",
      "    v9 = UH0_1(v1, v8)\n",
      "    del v8\n",
      "    v10 = UH0_0()\n",
      "    v11 = UH0_1(v4, v10)\n",
      "    del v4, v10\n",
      "    v12 = UH0_1(v3, v11)\n",
      "    del v3, v11\n",
      "    v13 = UH0_1(v2, v12)\n",
      "    del v2, v12\n",
      "    v14 = UH0_1(v1, v13)\n",
      "    del v1, v13\n",
      "    v15 = method1(v0, v9, v14)\n",
      "    del v0, v9, v14\n",
      "    print(v15)\n",
      "    del v15\n",
      "    return \n",
      "# main_defs\n",
      "def main_body():\n",
      "    return method0()\n",
      "\n",
      "def main():\n",
      "    r = main_body()\n",
      "    if cuda: cp.cuda.get_current_stream().synchronize() # This line is here so the `__trap()` calls on the kernel aren't missed.\n",
      "    return r\n",
      "\n",
      "if __name__ == '__main__': result = main(); None if result is None else print(result)\n",
      "\n",
      ".fsx output:\n",
      "{ name = __assert_eq; actual = UH0_1 (\"a\", UH0_1 (\"b\", UH0_1 (\"c\", UH0_1 (\"d\", UH0_0)))); expected = UH0_1 (\"a\", UH0_1 (\"b\", UH0_1 (\"c\", UH0_1 (\"d\", UH0_0)))) }\n"
     ]
    }
   ],
   "source": [
    "//// test\n",
    "///! gleam\n",
    "///! fsharp\n",
    "///! cuda\n",
    "///! rust\n",
    "///! typescript\n",
    "///! python\n",
    "//// print_code\n",
    "\n",
    "[ \"a\"; \"b\" ] ++ [ \"c\"; \"d\" ]\n",
    "|> _assert_eq [ \"a\"; \"b\"; \"c\"; \"d\" ]"
   ]
  },
  {
   "cell_type": "markdown",
   "metadata": {},
   "source": [
    "### collect"
   ]
  },
  {
   "cell_type": "code",
   "execution_count": null,
   "metadata": {
    "dotnet_interactive": {
     "language": "spiral"
    },
    "polyglot_notebook": {
     "kernelName": "spiral"
    }
   },
   "outputs": [],
   "source": [
    "inl collect forall t r. (fn : t -> list r) (items : list t) : list r =\n",
    "    items\n",
    "    |> listm.map fn\n",
    "    |> listm.fold (++) []"
   ]
  },
  {
   "cell_type": "markdown",
   "metadata": {},
   "source": [
    "### replicate"
   ]
  },
  {
   "cell_type": "code",
   "execution_count": null,
   "metadata": {
    "dotnet_interactive": {
     "language": "spiral"
    },
    "polyglot_notebook": {
     "kernelName": "spiral"
    }
   },
   "outputs": [],
   "source": [
    "inl replicate count x =\n",
    "    listm.init count fun _ => x"
   ]
  },
  {
   "cell_type": "markdown",
   "metadata": {},
   "source": [
    "### map4"
   ]
  },
  {
   "cell_type": "code",
   "execution_count": null,
   "metadata": {
    "dotnet_interactive": {
     "language": "spiral"
    },
    "polyglot_notebook": {
     "kernelName": "spiral"
    }
   },
   "outputs": [],
   "source": [
    "inl map4 f l1 l2 l3 l4 =\n",
    "    inl rec loop l1 l2 l3 l4 acc =\n",
    "        match l1, l2, l3, l4 with\n",
    "        | (x1 :: xs1), (x2 :: xs2), (x3 :: xs3), (x4 :: xs4) =>\n",
    "            loop xs1 xs2 xs3 xs4 (f x1 x2 x3 x4 :: acc)\n",
    "        | _ => acc |> listm.rev\n",
    "    loop l1 l2 l3 l4 []"
   ]
  },
  {
   "cell_type": "markdown",
   "metadata": {},
   "source": [
    "### init_series"
   ]
  },
  {
   "cell_type": "code",
   "execution_count": null,
   "metadata": {
    "dotnet_interactive": {
     "language": "spiral"
    },
    "polyglot_notebook": {
     "kernelName": "spiral"
    }
   },
   "outputs": [],
   "source": [
    "inl init_series start end inc =\n",
    "    inl total : f64 = conv ((end - start) / inc) + 1\n",
    "    listm.init total (conv >> (*) inc >> (+) start)"
   ]
  },
  {
   "cell_type": "code",
   "execution_count": null,
   "metadata": {
    "dotnet_interactive": {
     "language": "spiral"
    },
    "polyglot_notebook": {
     "kernelName": "spiral"
    }
   },
   "outputs": [
    {
     "name": "stdout",
     "output_type": "stream",
     "text": [
      "{ name = __assert_eq; actual = UH0_1 (0.0, UH0_1 (0.5, UH0_1 (1.0, UH0_0))); expected = UH0_1 (0.0, UH0_1 (0.5, UH0_1 (1.0, UH0_0))) }\n"
     ]
    }
   ],
   "source": [
    "//// test\n",
    "\n",
    "init_series 0 1 0.5\n",
    "|> _assert_eq [ 0f64; 0.5; 1 ]"
   ]
  },
  {
   "cell_type": "markdown",
   "metadata": {},
   "source": [
    "### try_item"
   ]
  },
  {
   "cell_type": "code",
   "execution_count": null,
   "metadata": {
    "dotnet_interactive": {
     "language": "spiral"
    },
    "polyglot_notebook": {
     "kernelName": "spiral"
    }
   },
   "outputs": [],
   "source": [
    "inl rec try_item i = function\n",
    "    | Cons (x, _) when i = 0 => Some x\n",
    "    | Cons (_, xs) => try_item (i - 1) xs\n",
    "    | Nil => None"
   ]
  },
  {
   "cell_type": "code",
   "execution_count": null,
   "metadata": {
    "dotnet_interactive": {
     "language": "spiral"
    },
    "polyglot_notebook": {
     "kernelName": "spiral"
    }
   },
   "outputs": [
    {
     "name": "stdout",
     "output_type": "stream",
     "text": [
      "{ name = __assert_eq; actual = US0_0 9; expected = US0_0 9 }\n"
     ]
    }
   ],
   "source": [
    "//// test\n",
    "\n",
    "listm.init 10i32 id\n",
    "|> try_item 9i32\n",
    "|> _assert_eq (Some 9)"
   ]
  },
  {
   "cell_type": "code",
   "execution_count": null,
   "metadata": {
    "dotnet_interactive": {
     "language": "spiral"
    },
    "polyglot_notebook": {
     "kernelName": "spiral"
    }
   },
   "outputs": [
    {
     "name": "stdout",
     "output_type": "stream",
     "text": [
      "{ name = __assert_eq; actual = US0_1; expected = US0_1 }\n"
     ]
    }
   ],
   "source": [
    "//// test\n",
    "\n",
    "listm.init 10i32 id\n",
    "|> try_item 10i32\n",
    "|> _assert_eq None"
   ]
  },
  {
   "cell_type": "markdown",
   "metadata": {},
   "source": [
    "### item"
   ]
  },
  {
   "cell_type": "code",
   "execution_count": null,
   "metadata": {
    "dotnet_interactive": {
     "language": "spiral"
    },
    "polyglot_notebook": {
     "kernelName": "spiral"
    }
   },
   "outputs": [],
   "source": [
    "inl item i =\n",
    "    try_item i >> optionm.value"
   ]
  },
  {
   "cell_type": "code",
   "execution_count": null,
   "metadata": {
    "dotnet_interactive": {
     "language": "spiral"
    },
    "polyglot_notebook": {
     "kernelName": "spiral"
    }
   },
   "outputs": [
    {
     "name": "stdout",
     "output_type": "stream",
     "text": [
      "{ name = __assert_eq; actual = 9; expected = 9 }\n"
     ]
    }
   ],
   "source": [
    "//// test\n",
    "\n",
    "listm.init 10i32 id\n",
    "|> item 9i32\n",
    "|> _assert_eq 9"
   ]
  },
  {
   "cell_type": "code",
   "execution_count": null,
   "metadata": {
    "dotnet_interactive": {
     "language": "spiral"
    },
    "polyglot_notebook": {
     "kernelName": "spiral"
    }
   },
   "outputs": [
    {
     "name": "stdout",
     "output_type": "stream",
     "text": [
      "{ name = __assert_eq; actual = US1_0 \"System.Exception: Option does not have a value.\"; expected = US1_0 \"System.Exception: Option does not have a value.\" }\n"
     ]
    }
   ],
   "source": [
    "//// test\n",
    "\n",
    "fun () =>\n",
    "    listm.init 10i32 id\n",
    "    |> item 10i32\n",
    "    |> ignore\n",
    "|> _throws\n",
    "|> optionm.map sm'.format_exception\n",
    "|> _assert_eq (Some \"System.Exception: Option does not have a value.\")"
   ]
  },
  {
   "cell_type": "markdown",
   "metadata": {},
   "source": [
    "### try_item_"
   ]
  },
  {
   "cell_type": "code",
   "execution_count": null,
   "metadata": {
    "dotnet_interactive": {
     "language": "spiral"
    },
    "polyglot_notebook": {
     "kernelName": "spiral"
    }
   },
   "outputs": [],
   "source": [
    "let rec try_item_ i = function\n",
    "    | Cons (x, _) when i = 0 => Some x\n",
    "    | Cons (_, xs) => try_item_ (i - 1) xs\n",
    "    | Nil => None"
   ]
  },
  {
   "cell_type": "markdown",
   "metadata": {},
   "source": [
    "### item_"
   ]
  },
  {
   "cell_type": "code",
   "execution_count": null,
   "metadata": {
    "dotnet_interactive": {
     "language": "spiral"
    },
    "polyglot_notebook": {
     "kernelName": "spiral"
    }
   },
   "outputs": [],
   "source": [
    "inl item_ i =\n",
    "    try_item_ i >> optionm.value"
   ]
  },
  {
   "cell_type": "markdown",
   "metadata": {},
   "source": [
    "### sum"
   ]
  },
  {
   "cell_type": "code",
   "execution_count": null,
   "metadata": {
    "dotnet_interactive": {
     "language": "spiral"
    },
    "polyglot_notebook": {
     "kernelName": "spiral"
    }
   },
   "outputs": [],
   "source": [
    "inl sum list =\n",
    "    list |> listm.fold (+) 0"
   ]
  },
  {
   "cell_type": "code",
   "execution_count": null,
   "metadata": {
    "dotnet_interactive": {
     "language": "spiral"
    },
    "polyglot_notebook": {
     "kernelName": "spiral"
    }
   },
   "outputs": [
    {
     "name": "stdout",
     "output_type": "stream",
     "text": [
      "{ name = __assert_eq; actual = 45; expected = 45 }\n"
     ]
    }
   ],
   "source": [
    "//// test\n",
    "\n",
    "listm.init 10i32 id\n",
    "|> sum\n",
    "|> _assert_eq 45"
   ]
  },
  {
   "cell_type": "markdown",
   "metadata": {},
   "source": [
    "### unzip"
   ]
  },
  {
   "cell_type": "code",
   "execution_count": null,
   "metadata": {
    "dotnet_interactive": {
     "language": "spiral"
    },
    "polyglot_notebook": {
     "kernelName": "spiral"
    }
   },
   "outputs": [],
   "source": [
    "inl unzip list =\n",
    "    (([], []), list)\n",
    "    ||> listm.fold fun (acc_x, acc_y) (x, y) =>\n",
    "        x :: acc_x, y :: acc_y\n",
    "    |> fun x, y =>\n",
    "        x |> listm.rev, y |> listm.rev"
   ]
  },
  {
   "cell_type": "code",
   "execution_count": null,
   "metadata": {
    "dotnet_interactive": {
     "language": "spiral"
    },
    "polyglot_notebook": {
     "kernelName": "spiral"
    }
   },
   "outputs": [
    {
     "name": "stdout",
     "output_type": "stream",
     "text": [
      "{ name = __assert_eq; actual = 45; expected = 45 }\n",
      "{ name = __assert_eq; actual = 45; expected = 45 }\n"
     ]
    }
   ],
   "source": [
    "//// test\n",
    "\n",
    "listm.init 10i32 id\n",
    "|> listm.map (fun x => x, x)\n",
    "|> unzip\n",
    "|> fun x, y =>\n",
    "    x |> sum\n",
    "    |> _assert_eq 45\n",
    "\n",
    "    y |> sum\n",
    "    |> _assert_eq 45"
   ]
  },
  {
   "cell_type": "markdown",
   "metadata": {},
   "source": [
    "### try_index_of"
   ]
  },
  {
   "cell_type": "code",
   "execution_count": null,
   "metadata": {
    "dotnet_interactive": {
     "language": "spiral"
    },
    "polyglot_notebook": {
     "kernelName": "spiral"
    }
   },
   "outputs": [],
   "source": [
    "// inl try_index_of item list =\n",
    "inl try_index_of forall b c {number}. (item : b) (list : list b) : option c =\n",
    "    // inl rec loop i = function\n",
    "    inl rec loop forall a {number}. (i : a) : list b -> option a = function\n",
    "        | [] => None\n",
    "        | x :: xs =>\n",
    "            if x = item\n",
    "            then Some i\n",
    "            else loop (i + 1) xs\n",
    "    loop 0 list\n",
    "\n",
    "inl index_of item =\n",
    "    try_index_of item >> optionm.value\n",
    "\n",
    "// inl try_index_of_ item list =\n",
    "inl try_index_of_ forall b c {number}. (item : b) (list : list b) : option c =\n",
    "    // let rec loop i = function\n",
    "    let rec loop forall a {number}. (i : a) : list b -> option a = function\n",
    "        | [] => None\n",
    "        | x :: xs =>\n",
    "            if x = item\n",
    "            then Some i\n",
    "            else loop (i + 1) xs\n",
    "    loop 0 list\n",
    "\n",
    "inl index_of_ item =\n",
    "    try_index_of_ item >> optionm.value\n",
    "\n",
    "inl try_index_of__ item list =\n",
    "    inl i = mut 0\n",
    "    inl list = mut list\n",
    "    inl result = mut None\n",
    "    let rec loop () =\n",
    "        match *list with\n",
    "        | [] => result <- None\n",
    "        | x :: xs =>\n",
    "            if x = item\n",
    "            then result <- Some *i\n",
    "            else\n",
    "                i <- *i + 1\n",
    "                list <- xs\n",
    "                loop ()\n",
    "    loop ()\n",
    "    *result\n",
    "\n",
    "inl index_of__ item =\n",
    "    try_index_of__ item >> optionm.value"
   ]
  },
  {
   "cell_type": "code",
   "execution_count": null,
   "metadata": {
    "dotnet_interactive": {
     "language": "spiral"
    },
    "polyglot_notebook": {
     "kernelName": "spiral"
    }
   },
   "outputs": [
    {
     "name": "stdout",
     "output_type": "stream",
     "text": [
      "{ name = __assert_eq; actual = 5; expected = 5 }\n"
     ]
    }
   ],
   "source": [
    "//// test\n",
    "\n",
    "listm.init 10i32 id\n",
    "|> index_of 5i32\n",
    "|> _assert_eq 5i32"
   ]
  },
  {
   "cell_type": "code",
   "execution_count": null,
   "metadata": {
    "dotnet_interactive": {
     "language": "spiral"
    },
    "polyglot_notebook": {
     "kernelName": "spiral"
    }
   },
   "outputs": [
    {
     "name": "stdout",
     "output_type": "stream",
     "text": [
      "{ name = __assert_eq; actual = US0_1; expected = US0_1 }\n"
     ]
    }
   ],
   "source": [
    "//// test\n",
    "\n",
    "listm.init 10i32 id\n",
    "|> try_index_of 10i32\n",
    "|> _assert_eq (None : option i32)"
   ]
  },
  {
   "cell_type": "markdown",
   "metadata": {},
   "source": [
    "### try_find"
   ]
  },
  {
   "cell_type": "code",
   "execution_count": null,
   "metadata": {
    "dotnet_interactive": {
     "language": "spiral"
    },
    "polyglot_notebook": {
     "kernelName": "spiral"
    }
   },
   "outputs": [],
   "source": [
    "inl try_find fn list =\n",
    "    inl rec loop = function\n",
    "        | [] => None\n",
    "        | x :: xs =>\n",
    "            if fn x\n",
    "            then Some x\n",
    "            else loop xs\n",
    "    loop list\n",
    "\n",
    "inl try_find_ fn list =\n",
    "    let rec loop = function\n",
    "        | [] => None\n",
    "        | x :: xs =>\n",
    "            if fn x\n",
    "            then Some x\n",
    "            else loop xs\n",
    "    loop list"
   ]
  },
  {
   "cell_type": "code",
   "execution_count": null,
   "metadata": {
    "dotnet_interactive": {
     "language": "spiral"
    },
    "polyglot_notebook": {
     "kernelName": "spiral"
    }
   },
   "outputs": [
    {
     "name": "stdout",
     "output_type": "stream",
     "text": [
      "{ name = __assert_eq; actual = US0_0 5; expected = US0_0 5 }\n"
     ]
    }
   ],
   "source": [
    "//// test\n",
    "\n",
    "listm.init 10i32 id\n",
    "|> try_find ((=) 5i32)\n",
    "|> _assert_eq (Some 5i32)"
   ]
  },
  {
   "cell_type": "code",
   "execution_count": null,
   "metadata": {
    "dotnet_interactive": {
     "language": "spiral"
    },
    "polyglot_notebook": {
     "kernelName": "spiral"
    }
   },
   "outputs": [],
   "source": [
    "inl find x =\n",
    "    try_find x >> optionm.value\n",
    "\n",
    "inl find_ x =\n",
    "    try_find_ x >> optionm.value"
   ]
  },
  {
   "cell_type": "code",
   "execution_count": null,
   "metadata": {
    "dotnet_interactive": {
     "language": "spiral"
    },
    "polyglot_notebook": {
     "kernelName": "spiral"
    }
   },
   "outputs": [
    {
     "name": "stdout",
     "output_type": "stream",
     "text": [
      "{ name = __assert_eq; actual = 5; expected = 5 }\n"
     ]
    }
   ],
   "source": [
    "//// test\n",
    "\n",
    "listm.init 10i32 id\n",
    "|> find ((=) 5i32)\n",
    "|> _assert_eq 5i32"
   ]
  },
  {
   "cell_type": "markdown",
   "metadata": {},
   "source": [
    "### choose"
   ]
  },
  {
   "cell_type": "code",
   "execution_count": null,
   "metadata": {
    "dotnet_interactive": {
     "language": "spiral"
    },
    "polyglot_notebook": {
     "kernelName": "spiral"
    }
   },
   "outputs": [],
   "source": [
    "inl choose f l =\n",
    "    (l, [])\n",
    "    ||> listm.foldBack fun x acc =>\n",
    "        match f x with\n",
    "        | Some y => y :: acc\n",
    "        | None => acc"
   ]
  },
  {
   "cell_type": "code",
   "execution_count": null,
   "metadata": {
    "dotnet_interactive": {
     "language": "spiral"
    },
    "polyglot_notebook": {
     "kernelName": "spiral"
    }
   },
   "outputs": [
    {
     "name": "stdout",
     "output_type": "stream",
     "text": [
      "{ name = __assert_eq; actual = UH0_1 (0, UH0_1 (2, UH0_1 (4, UH0_1 (6, UH0_1 (8, UH0_0))))); expected = UH0_1 (0, UH0_1 (2, UH0_1 (4, UH0_1 (6, UH0_1 (8, UH0_0))))) }\n"
     ]
    }
   ],
   "source": [
    "//// test\n",
    "\n",
    "listm.init 10i32 id\n",
    "|> choose (fun x => if x % 2 = 0 then Some x else None)\n",
    "|> _assert_eq [ 0; 2; 4; 6; 8 ]"
   ]
  },
  {
   "cell_type": "markdown",
   "metadata": {},
   "source": [
    "### filter"
   ]
  },
  {
   "cell_type": "code",
   "execution_count": null,
   "metadata": {
    "dotnet_interactive": {
     "language": "spiral"
    },
    "polyglot_notebook": {
     "kernelName": "spiral"
    }
   },
   "outputs": [],
   "source": [
    "inl filter forall t. (fn : t -> bool) (list : list t) : list t =\n",
    "    (list, Nil)\n",
    "    ||> listm.foldBack fun x acc =>\n",
    "        if fn x then x :: acc else acc"
   ]
  },
  {
   "cell_type": "markdown",
   "metadata": {},
   "source": [
    "### zip_with"
   ]
  },
  {
   "cell_type": "code",
   "execution_count": null,
   "metadata": {
    "dotnet_interactive": {
     "language": "spiral"
    },
    "polyglot_notebook": {
     "kernelName": "spiral"
    }
   },
   "outputs": [],
   "source": [
    "inl zip_with fn xs ys =\n",
    "    inl rec loop acc xs ys =\n",
    "        match xs, ys with\n",
    "        | Cons (x, xs), Cons (y, ys) =>\n",
    "            loop (fn x y :: acc) xs ys\n",
    "        | _ => listm.rev acc\n",
    "    loop [] xs ys\n",
    "\n",
    "inl zip_with_ fn xs ys =\n",
    "    let rec loop acc xs ys =\n",
    "        match xs, ys with\n",
    "        | Cons (x, xs), Cons (y, ys) =>\n",
    "            loop (fn x y :: acc) xs ys\n",
    "        | _ => listm.rev acc\n",
    "    loop [] xs ys"
   ]
  },
  {
   "cell_type": "code",
   "execution_count": null,
   "metadata": {
    "dotnet_interactive": {
     "language": "spiral"
    },
    "polyglot_notebook": {
     "kernelName": "spiral"
    }
   },
   "outputs": [
    {
     "name": "stdout",
     "output_type": "stream",
     "text": [
      "{ name = __assert_eq; actual = UH0_1 (5, UH0_1 (7, UH0_1 (9, UH0_0))); expected = UH0_1 (5, UH0_1 (7, UH0_1 (9, UH0_0))) }\n"
     ]
    }
   ],
   "source": [
    "//// test\n",
    "\n",
    "([ 1i32; 2; 3 ], [ 4; 5; 6 ])\n",
    "||> zip_with (+)\n",
    "|> _assert_eq [ 5; 7; 9 ]"
   ]
  },
  {
   "cell_type": "markdown",
   "metadata": {},
   "source": [
    "### zip"
   ]
  },
  {
   "cell_type": "code",
   "execution_count": null,
   "metadata": {
    "dotnet_interactive": {
     "language": "spiral"
    },
    "polyglot_notebook": {
     "kernelName": "spiral"
    }
   },
   "outputs": [],
   "source": [
    "inl zip xs ys =\n",
    "    zip_with pair xs ys\n",
    "\n",
    "inl zip_ xs ys =\n",
    "    zip_with_ pair xs ys"
   ]
  },
  {
   "cell_type": "code",
   "execution_count": null,
   "metadata": {
    "dotnet_interactive": {
     "language": "spiral"
    },
    "polyglot_notebook": {
     "kernelName": "spiral"
    }
   },
   "outputs": [
    {
     "name": "stdout",
     "output_type": "stream",
     "text": [
      "{ name = __assert_eq; actual = UH0_1 (1, 4, UH0_1 (2, 5, UH0_1 (3, 6, UH0_0))); expected = UH0_1 (1, 4, UH0_1 (2, 5, UH0_1 (3, 6, UH0_0))) }\n"
     ]
    }
   ],
   "source": [
    "//// test\n",
    "\n",
    "([ 1i32; 2; 3 ], [ 4i32; 5; 6 ])\n",
    "||> zip\n",
    "|> _assert_eq [ 1, 4; 2, 5; 3, 6 ]"
   ]
  },
  {
   "cell_type": "markdown",
   "metadata": {},
   "source": [
    "### indexed"
   ]
  },
  {
   "cell_type": "code",
   "execution_count": null,
   "metadata": {
    "dotnet_interactive": {
     "language": "spiral"
    },
    "polyglot_notebook": {
     "kernelName": "spiral"
    }
   },
   "outputs": [],
   "source": [
    "inl indexed list =\n",
    "    (([], 0), list)\n",
    "    ||> listm.fold fun (acc, i) x =>\n",
    "        (i, x) :: acc, i + 1\n",
    "    |> fst\n",
    "    |> listm.rev"
   ]
  },
  {
   "cell_type": "code",
   "execution_count": null,
   "metadata": {
    "dotnet_interactive": {
     "language": "spiral"
    },
    "polyglot_notebook": {
     "kernelName": "spiral"
    }
   },
   "outputs": [
    {
     "name": "stdout",
     "output_type": "stream",
     "text": [
      "{ name = __assert_eq; actual = UH0_1 (0, 0, UH0_1 (1, 2, UH0_1 (2, 4, UH0_1 (3, 6, UH0_1 (4, 8, UH0_0))))); expected = UH0_1 (0, 0, UH0_1 (1, 2, UH0_1 (2, 4, UH0_1 (3, 6, UH0_1 (4, 8, UH0_0))))) }\n"
     ]
    }
   ],
   "source": [
    "//// test\n",
    "\n",
    "listm.init 5i32 ((*) 2)\n",
    "|> indexed\n",
    "|> _assert_eq [ 0i32, 0; 1, 2; 2, 4; 3, 6; 4, 8 ]"
   ]
  },
  {
   "cell_type": "markdown",
   "metadata": {},
   "source": [
    "### group_by"
   ]
  },
  {
   "cell_type": "code",
   "execution_count": null,
   "metadata": {
    "dotnet_interactive": {
     "language": "spiral"
    },
    "polyglot_notebook": {
     "kernelName": "spiral"
    }
   },
   "outputs": [],
   "source": [
    "inl group_by fn list =\n",
    "    (list, [])\n",
    "    ||> listm.foldBack fun x acc =>\n",
    "        inl xk = fn x\n",
    "        inl found, new_acc =\n",
    "            ((false, []), acc)\n",
    "            ||> listm.fold fun (found, acc') (k, xs) =>\n",
    "                if k = xk\n",
    "                then true, (k, x :: xs) :: acc'\n",
    "                else found, (k, xs) :: acc'\n",
    "        if found\n",
    "        then new_acc\n",
    "        else (xk, [ x ]) :: new_acc"
   ]
  },
  {
   "cell_type": "code",
   "execution_count": null,
   "metadata": {
    "dotnet_interactive": {
     "language": "spiral"
    },
    "polyglot_notebook": {
     "kernelName": "spiral"
    }
   },
   "outputs": [
    {
     "name": "stdout",
     "output_type": "stream",
     "text": [
      "{ name = __assert_eq; actual = UH1_1\n",
      "  (true, UH0_1 (0, UH0_1 (2, UH0_1 (4, UH0_1 (6, UH0_1 (8, UH0_0))))),\n",
      "   UH1_1\n",
      "     (false, UH0_1 (1, UH0_1 (3, UH0_1 (5, UH0_1 (7, UH0_1 (9, UH0_0))))), UH1_0)); expected = UH1_1\n",
      "  (true, UH0_1 (0, UH0_1 (2, UH0_1 (4, UH0_1 (6, UH0_1 (8, UH0_0))))),\n",
      "   UH1_1\n",
      "     (false, UH0_1 (1, UH0_1 (3, UH0_1 (5, UH0_1 (7, UH0_1 (9, UH0_0))))), UH1_0)) }\n"
     ]
    }
   ],
   "source": [
    "//// test\n",
    "\n",
    "listm.init 10i32 id\n",
    "|> group_by (fun x => x % 2 = 0)\n",
    "|> _assert_eq [ true, [ 0; 2; 4; 6; 8 ]; false, [ 1; 3; 5; 7; 9 ] ]"
   ]
  },
  {
   "cell_type": "markdown",
   "metadata": {},
   "source": [
    "### forall'"
   ]
  },
  {
   "cell_type": "code",
   "execution_count": null,
   "metadata": {
    "dotnet_interactive": {
     "language": "spiral"
    },
    "polyglot_notebook": {
     "kernelName": "spiral"
    }
   },
   "outputs": [],
   "source": [
    "inl forall' fn (head :: tail) =\n",
    "    (true, tail)\n",
    "    ||> listm.fold fun acc x =>\n",
    "        acc && x = head"
   ]
  },
  {
   "cell_type": "code",
   "execution_count": null,
   "metadata": {
    "dotnet_interactive": {
     "language": "spiral"
    },
    "polyglot_notebook": {
     "kernelName": "spiral"
    }
   },
   "outputs": [
    {
     "name": "stdout",
     "output_type": "stream",
     "text": [
      "{ name = __assert_eq; actual = true; expected = true }\n"
     ]
    }
   ],
   "source": [
    "//// test\n",
    "\n",
    "[ 1i32; 1; 1; 1; 1 ]\n",
    "|> forall' ((=) 1i32)\n",
    "|> _assert_eq true"
   ]
  },
  {
   "cell_type": "markdown",
   "metadata": {},
   "source": [
    "### last"
   ]
  },
  {
   "cell_type": "code",
   "execution_count": null,
   "metadata": {
    "dotnet_interactive": {
     "language": "spiral"
    },
    "polyglot_notebook": {
     "kernelName": "spiral"
    }
   },
   "outputs": [],
   "source": [
    "inl last list =\n",
    "    list\n",
    "    |> listm.rev\n",
    "    |> item 0i32"
   ]
  },
  {
   "cell_type": "code",
   "execution_count": null,
   "metadata": {
    "dotnet_interactive": {
     "language": "spiral"
    },
    "polyglot_notebook": {
     "kernelName": "spiral"
    }
   },
   "outputs": [
    {
     "name": "stdout",
     "output_type": "stream",
     "text": [
      "{ name = __assert_eq; actual = 9; expected = 9 }\n"
     ]
    }
   ],
   "source": [
    "//// test\n",
    "\n",
    "listm.init 10i32 id\n",
    "|> last\n",
    "|> _assert_eq 9"
   ]
  },
  {
   "cell_type": "markdown",
   "metadata": {},
   "source": [
    "### try_pick"
   ]
  },
  {
   "cell_type": "code",
   "execution_count": null,
   "metadata": {
    "dotnet_interactive": {
     "language": "spiral"
    },
    "polyglot_notebook": {
     "kernelName": "spiral"
    }
   },
   "outputs": [],
   "source": [
    "inl try_pick fn list =\n",
    "    inl rec body fn = function\n",
    "        | [] => None\n",
    "        | x :: xs =>\n",
    "            match fn x with\n",
    "            | Some y => Some y\n",
    "            | None => loop xs\n",
    "    and inl loop list =\n",
    "        if var_is list |> not\n",
    "        then body fn list\n",
    "        else\n",
    "            inl fn = join fn\n",
    "            inl list = dyn list\n",
    "            join body fn list\n",
    "    loop list"
   ]
  },
  {
   "cell_type": "code",
   "execution_count": null,
   "metadata": {
    "dotnet_interactive": {
     "language": "spiral"
    },
    "polyglot_notebook": {
     "kernelName": "spiral"
    }
   },
   "outputs": [
    {
     "name": "stdout",
     "output_type": "stream",
     "text": [
      "{ name = __assert_eq; actual = US0_0 5; expected = US0_0 5 }\n"
     ]
    }
   ],
   "source": [
    "//// test\n",
    "\n",
    "listm.init 10i32 id\n",
    "|> try_pick (fun x => if x = 5i32 then Some x else None)\n",
    "|> _assert_eq (Some 5i32)"
   ]
  },
  {
   "cell_type": "markdown",
   "metadata": {},
   "source": [
    "### exists'"
   ]
  },
  {
   "cell_type": "code",
   "execution_count": null,
   "metadata": {
    "dotnet_interactive": {
     "language": "spiral"
    },
    "polyglot_notebook": {
     "kernelName": "spiral"
    }
   },
   "outputs": [],
   "source": [
    "inl exists' f x =\n",
    "    inl length_x : i64 = x |> listm.length\n",
    "    let rec loop i =\n",
    "        if i >= length_x\n",
    "        then false\n",
    "        elif x |> item i |> f\n",
    "        then true\n",
    "        else loop (i + 1)\n",
    "    loop 0"
   ]
  },
  {
   "cell_type": "code",
   "execution_count": null,
   "metadata": {
    "dotnet_interactive": {
     "language": "spiral"
    },
    "polyglot_notebook": {
     "kernelName": "spiral"
    }
   },
   "outputs": [
    {
     "data": {
      "text/plain": [
       "\n",
       ".py output (Python):\n",
       "{ name = __assert_eq; actual = true; expected = true }\n",
       "{ name = __assert_eq; actual = false; expected = false }\n",
       "{ name = __assert_eq; actual = false; expected = false }\n",
       "\n",
       "\n",
       ".ts output:\n",
       "{ name = __assert_eq; actual = true; expected = true }\n",
       "{ name = __assert_eq; actual = false; expected = false }\n",
       "{ name = __assert_eq; actual = false; expected = false }\n",
       "\n",
       "\n",
       ".py output:\n",
       "{ name = __assert_eq; actual = true; expected = true }\n",
       "{ name = __assert_eq; actual = false; expected = false }\n",
       "{ name = __assert_eq; actual = false; expected = false }\n",
       "\n",
       "\n",
       ".gleam output (Gleam):\n",
       "\u001B[4;7mwarning: Unused variable\u001B[0m\n",
       "\u001B[4;7m   ┌─ /home/runner/work/spiral/polyglot/target/spiral_Eval/packages/7e2ab23d9eacad24f9bf531c0691f3ea3276505f45c5ae81da0557f326934477/src/main.gleam:35:45\u001B[0m\n",
       "\u001B[4;7m   │\u001B[0m\n",
       "\u001B[4;7m35 │                                         let v10 = v7 - 1\u001B[0m\n",
       "\u001B[4;7m   │                                             ^^^ This variable is never used\u001B[0m\n",
       "\u001B[4;7m\u001B[0m\n",
       "\u001B[4;7mHint: You can ignore it with an underscore: `_v10`.\u001B[0m\n",
       "\u001B[4;7m\u001B[0m\n",
       "\u001B[4;7mwarning: Unused variable\u001B[0m\n",
       "\u001B[4;7m    ┌─ /home/runner/work/spiral/polyglot/target/spiral_Eval/packages/7e2ab23d9eacad24f9bf531c0691f3ea3276505f45c5ae81da0557f326934477/src/main.gleam:180:37\u001B[0m\n",
       "\u001B[4;7m    │\u001B[0m\n",
       "\u001B[4;7m180 │                                 let v7 = v4 - 1\u001B[0m\n",
       "\u001B[4;7m    │                                     ^^ This variable is never used\u001B[0m\n",
       "\u001B[4;7m\u001B[0m\n",
       "\u001B[4;7mHint: You can ignore it with an underscore: `_v7`.\u001B[0m\n",
       "\u001B[4;7m\u001B[0m\n",
       "\u001B[4;7mwarning: Unreachable code\u001B[0m\n",
       "\u001B[4;7m    ┌─ /home/runner/work/spiral/polyglot/target/spiral_Eval/packages/7e2ab23d9eacad24f9bf531c0691f3ea3276505f45c5ae81da0557f326934477/src/main.gleam:216:22\u001B[0m\n",
       "\u001B[4;7m    │\u001B[0m\n",
       "\u001B[4;7m216 │             let v3 = v2 == \"a\"\u001B[0m\n",
       "\u001B[4;7m    │                      ^^^^^^^^^\u001B[0m\n",
       "\u001B[4;7m\u001B[0m\n",
       "\u001B[4;7mThis code is unreachable because it comes after a `panic`.\u001B[0m\n",
       "\u001B[4;7m\u001B[0m\n",
       "{compiling,\"/home/runner/work/spiral/polyglot/target/spiral_Eval/packages/7e2ab23d9eacad24f9bf531c0691f3ea3276505f45c5ae81da0557f326934477/build/dev/erlang/main/_gleam_artefacts/main@@main.erl\"}\n",
       "{compiling,\"/home/runner/work/spiral/polyglot/target/spiral_Eval/packages/7e2ab23d9eacad24f9bf531c0691f3ea3276505f45c5ae81da0557f326934477/build/dev/erlang/main/_gleam_artefacts/main.erl\"}\n",
       "src/main.gleam:36:46: Warning: the result of evaluating operator '-'/2 is ignored (suppress the warning by assigning the expression to the _ variable)\n",
       "%   36|                                         Us0i1\n",
       "%     |                                              ^\n",
       "\n",
       "src/main.gleam:181:37: Warning: the result of evaluating operator '-'/2 is ignored (suppress the warning by assigning the expression to the _ variable)\n",
       "%  181|                                 Us0i1\n",
       "%     |                                     ^\n",
       "\n",
       "{compiled,main,\n",
       "          \"/home/runner/work/spiral/polyglot/target/spiral_Eval/packages/7e2ab23d9eacad24f9bf531c0691f3ea3276505f45c5ae81da0557f326934477/build/dev/erlang/main/ebin/main.beam\"}\n",
       "{compiled,main@@main,\n",
       "          \"/home/runner/work/spiral/polyglot/target/spiral_Eval/packages/7e2ab23d9eacad24f9bf531c0691f3ea3276505f45c5ae81da0557f326934477/build/dev/erlang/main/ebin/main@@main.beam\"}\n",
       "{ name = __assert_eq; actual = true; expected = true }\n",
       "{ name = __assert_eq; actual = false; expected = false }\n",
       "{ name = __assert_eq; actual = false; expected = false }\n",
       "\n",
       "\n",
       "\n",
       "\n"
      ]
     },
     "metadata": {},
     "output_type": "display_data"
    },
    {
     "name": "stdout",
     "output_type": "stream",
     "text": [
      ".gleam (Gleam):\n",
      "import gleam/io\n",
      "pub type Us0 {\n",
      "    Us0i0(f0i0 : String)\n",
      "    Us0i1\n",
      "}\n",
      "pub type Mut0 { Mut0(l0 : String) }\n",
      "pub fn method1 (v0 :    Int) -> Bool {\n",
      "    let v1 = v0 >= 3\n",
      "    case v1 {\n",
      "        True -> {\n",
      "            False\n",
      "        }\n",
      "        False -> {\n",
      "            let v2 = v0 == 0\n",
      "            let v14 =\n",
      "                case v2 {\n",
      "                    True -> {\n",
      "                        Us0i0(\"a\")\n",
      "                    }\n",
      "                    False -> {\n",
      "                        let v4 = v0 - 1\n",
      "                        let v5 = v4 == 0\n",
      "                        case v5 {\n",
      "                            True -> {\n",
      "                                Us0i0(\"b\")\n",
      "                            }\n",
      "                            False -> {\n",
      "                                let v7 = v4 - 1\n",
      "                                let v8 = v7 == 0\n",
      "                                case v8 {\n",
      "                                    True -> {\n",
      "                                        Us0i0(\"c\")\n",
      "                                    }\n",
      "                                    False -> {\n",
      "                                        let v10 = v7 - 1\n",
      "                                        Us0i1\n",
      "                                    }\n",
      "                                }\n",
      "                            }\n",
      "                        }\n",
      "                    }\n",
      "                }\n",
      "            let v18 =\n",
      "                case v14 {\n",
      "                    Us0i1 -> { // None\n",
      "                        panic as \"Option does not have a value.\"\n",
      "                    }\n",
      "                    Us0i0(v15) -> { // Some\n",
      "                        v15\n",
      "                    }\n",
      "                }\n",
      "            let v19 = v18 == \"b\"\n",
      "            case v19 {\n",
      "                True -> {\n",
      "                    True\n",
      "                }\n",
      "                False -> {\n",
      "                    let v20 = v0 + 1\n",
      "                    method1(v20)\n",
      "                }\n",
      "            }\n",
      "        }\n",
      "    }\n",
      "}\n",
      "pub fn method2 (v0 :    Bool) -> Bool {\n",
      "    v0\n",
      "}\n",
      "pub fn method4 () -> String {\n",
      "    let v0 = \"\"\n",
      "    v0\n",
      "}\n",
      "pub fn method3 (v0 :    String, v1 :    Bool, v2 :    Bool) -> String {\n",
      "    let v3 = method4()\n",
      "    let v4 = Mut0(l0 :  v3)\n",
      "    let v5 = \"{ \"\n",
      "    let v6 = v5 \n",
      "    let v10 = v4.l0 \n",
      "    let v11 = v10 <> v6 \n",
      "    let v4 = Mut0(l0: v11)\n",
      "    let v23 = \"name\"\n",
      "    let v24 = v23 \n",
      "    let v28 = v4.l0 \n",
      "    let v29 = v28 <> v24 \n",
      "    let v4 = Mut0(l0: v29)\n",
      "    let v41 = \" = \"\n",
      "    let v42 = v41 \n",
      "    let v46 = v4.l0 \n",
      "    let v47 = v46 <> v42 \n",
      "    let v4 = Mut0(l0: v47)\n",
      "    let v59 = v0 \n",
      "    let v63 = v4.l0 \n",
      "    let v64 = v63 <> v59 \n",
      "    let v4 = Mut0(l0: v64)\n",
      "    let v76 = \"; \"\n",
      "    let v77 = v76 \n",
      "    let v81 = v4.l0 \n",
      "    let v82 = v81 <> v77 \n",
      "    let v4 = Mut0(l0: v82)\n",
      "    let v94 = \"actual\"\n",
      "    let v95 = v94 \n",
      "    let v99 = v4.l0 \n",
      "    let v100 = v99 <> v95 \n",
      "    let v4 = Mut0(l0: v100)\n",
      "    let v112 = v41 \n",
      "    let v116 = v4.l0 \n",
      "    let v117 = v116 <> v112 \n",
      "    let v4 = Mut0(l0: v117)\n",
      "    let v131 =\n",
      "        case v1 {\n",
      "            True -> {\n",
      "                let v129 = \"true\"\n",
      "                v129\n",
      "            }\n",
      "            False -> {\n",
      "                let v130 = \"false\"\n",
      "                v130\n",
      "            }\n",
      "        }\n",
      "    let v132 = v131 \n",
      "    let v136 = v4.l0 \n",
      "    let v137 = v136 <> v132 \n",
      "    let v4 = Mut0(l0: v137)\n",
      "    let v149 = v76 \n",
      "    let v153 = v4.l0 \n",
      "    let v154 = v153 <> v149 \n",
      "    let v4 = Mut0(l0: v154)\n",
      "    let v166 = \"expected\"\n",
      "    let v167 = v166 \n",
      "    let v171 = v4.l0 \n",
      "    let v172 = v171 <> v167 \n",
      "    let v4 = Mut0(l0: v172)\n",
      "    let v184 = v41 \n",
      "    let v188 = v4.l0 \n",
      "    let v189 = v188 <> v184 \n",
      "    let v4 = Mut0(l0: v189)\n",
      "    let v203 =\n",
      "        case v2 {\n",
      "            True -> {\n",
      "                let v201 = \"true\"\n",
      "                v201\n",
      "            }\n",
      "            False -> {\n",
      "                let v202 = \"false\"\n",
      "                v202\n",
      "            }\n",
      "        }\n",
      "    let v204 = v203 \n",
      "    let v208 = v4.l0 \n",
      "    let v209 = v208 <> v204 \n",
      "    let v4 = Mut0(l0: v209)\n",
      "    let v221 = \" }\"\n",
      "    let v222 = v221 \n",
      "    let v226 = v4.l0 \n",
      "    let v227 = v226 <> v222 \n",
      "    let v4 = Mut0(l0: v227)\n",
      "    let v239 = v4.l0 \n",
      "    v239\n",
      "}\n",
      "pub fn method5 (v0 :    Int) -> Bool {\n",
      "    let v1 = v0 >= 2\n",
      "    case v1 {\n",
      "        True -> {\n",
      "            False\n",
      "        }\n",
      "        False -> {\n",
      "            let v2 = v0 == 0\n",
      "            let v10 =\n",
      "                case v2 {\n",
      "                    True -> {\n",
      "                        Us0i0(\"a\")\n",
      "                    }\n",
      "                    False -> {\n",
      "                        let v4 = v0 - 1\n",
      "                        let v5 = v4 == 0\n",
      "                        case v5 {\n",
      "                            True -> {\n",
      "                                Us0i0(\"b\")\n",
      "                            }\n",
      "                            False -> {\n",
      "                                let v7 = v4 - 1\n",
      "                                Us0i1\n",
      "                            }\n",
      "                        }\n",
      "                    }\n",
      "                }\n",
      "            let v14 =\n",
      "                case v10 {\n",
      "                    Us0i1 -> { // None\n",
      "                        panic as \"Option does not have a value.\"\n",
      "                    }\n",
      "                    Us0i0(v11) -> { // Some\n",
      "                        v11\n",
      "                    }\n",
      "                }\n",
      "            let v15 = v14 == \"c\"\n",
      "            case v15 {\n",
      "                True -> {\n",
      "                    True\n",
      "                }\n",
      "                False -> {\n",
      "                    let v16 = v0 + 1\n",
      "                    method5(v16)\n",
      "                }\n",
      "            }\n",
      "        }\n",
      "    }\n",
      "}\n",
      "pub fn method6 (v0 :    Int) -> Bool {\n",
      "    let v1 = v0 >= 0\n",
      "    case v1 {\n",
      "        True -> {\n",
      "            False\n",
      "        }\n",
      "        False -> {\n",
      "            let v2 = panic as \"Option does not have a value.\"\n",
      "            let v3 = v2 == \"a\"\n",
      "            case v3 {\n",
      "                True -> {\n",
      "                    True\n",
      "                }\n",
      "                False -> {\n",
      "                    let v4 = v0 + 1\n",
      "                    method6(v4)\n",
      "                }\n",
      "            }\n",
      "        }\n",
      "    }\n",
      "}\n",
      "pub fn method0 () -> Nil   {\n",
      "    let v0 = 0\n",
      "    let v1 = method1(v0)\n",
      "    let v3 =\n",
      "        case v1 {\n",
      "            True -> {\n",
      "                True\n",
      "            }\n",
      "            False -> {\n",
      "                method2(v1)\n",
      "            }\n",
      "        }\n",
      "    let v4 = \"__assert_eq\"\n",
      "    let v5 = True\n",
      "    let v6 = method3(v4, v1, v5)\n",
      "    io.println(v6)\n",
      "    let v12 = v3 == False\n",
      "    case v12 {\n",
      "        True -> {\n",
      "            panic as v6\n",
      "        }\n",
      "        False -> {\n",
      "        Nil\n",
      "        }\n",
      "    }\n",
      "    let v13 = 0\n",
      "    let v14 = method5(v13)\n",
      "    let v15 = v14 == False\n",
      "    let v17 =\n",
      "        case v15 {\n",
      "            True -> {\n",
      "                True\n",
      "            }\n",
      "            False -> {\n",
      "                method2(v15)\n",
      "            }\n",
      "        }\n",
      "    let v18 = False\n",
      "    let v19 = method3(v4, v14, v18)\n",
      "    io.println(v19)\n",
      "    let v25 = v17 == False\n",
      "    case v25 {\n",
      "        True -> {\n",
      "            panic as v19\n",
      "        }\n",
      "        False -> {\n",
      "        Nil\n",
      "        }\n",
      "    }\n",
      "    let v26 = 0\n",
      "    let v27 = method6(v26)\n",
      "    let v28 = v27 == False\n",
      "    let v30 =\n",
      "        case v28 {\n",
      "            True -> {\n",
      "                True\n",
      "            }\n",
      "            False -> {\n",
      "                method2(v28)\n",
      "            }\n",
      "        }\n",
      "    let v31 = False\n",
      "    let v32 = method3(v4, v27, v31)\n",
      "    io.println(v32)\n",
      "    let v38 = v30 == False\n",
      "    case v38 {\n",
      "        True -> {\n",
      "            panic as v32\n",
      "        }\n",
      "        False -> {\n",
      "        Nil\n",
      "        }\n",
      "    }\n",
      "}\n",
      "pub fn main () { method0()\n",
      " }\n",
      ".fsx:\n",
      "type [<Struct>] US0 =\n",
      "    | US0_0 of f0_0 : char\n",
      "    | US0_1\n",
      "and Mut0 = {mutable l0 : string}\n",
      "let rec method1 (v0 : int64) : bool =\n",
      "    let v1 : bool = v0 >= 3L\n",
      "    if v1 then\n",
      "        false\n",
      "    else\n",
      "        let v2 : bool = v0 = 0L\n",
      "        let v14 : US0 =\n",
      "            if v2 then\n",
      "                US0_0('a')\n",
      "            else\n",
      "                let v4 : int64 = v0 - 1L\n",
      "                let v5 : bool = v4 = 0L\n",
      "                if v5 then\n",
      "                    US0_0('b')\n",
      "                else\n",
      "                    let v7 : int64 = v4 - 1L\n",
      "                    let v8 : bool = v7 = 0L\n",
      "                    if v8 then\n",
      "                        US0_0('c')\n",
      "                    else\n",
      "                        let v10 : int64 = v7 - 1L\n",
      "                        US0_1\n",
      "        let v18 : char =\n",
      "            match v14 with\n",
      "            | US0_1 -> (* None *)\n",
      "                failwith<char> \"Option does not have a value.\"\n",
      "            | US0_0(v15) -> (* Some *)\n",
      "                v15\n",
      "        let v19 : bool = v18 = 'b'\n",
      "        if v19 then\n",
      "            true\n",
      "        else\n",
      "            let v20 : int64 = v0 + 1L\n",
      "            method1(v20)\n",
      "and method2 (v0 : bool) : bool =\n",
      "    v0\n",
      "and method4 () : string =\n",
      "    let v0 : string = \"\"\n",
      "    v0\n",
      "and closure0 (v0 : Mut0, v1 : string) () : unit =\n",
      "    let v2 : string = v0.l0\n",
      "    let v4 : string = v2 + v1 \n",
      "    v0.l0 <- v4\n",
      "    ()\n",
      "and method3 (v0 : string, v1 : bool, v2 : bool) : string =\n",
      "    let v3 : string = method4()\n",
      "    let v4 : Mut0 = {l0 = v3} : Mut0\n",
      "    let v7 : string = \"{ \"\n",
      "    let v8 : string = $\"{v7}\"\n",
      "    let v16 : unit = ()\n",
      "    let v17 : (unit -> unit) = closure0(v4, v8)\n",
      "    let v18 : unit = (fun () -> v17 (); v16) ()\n",
      "    let v26 : string = \"name\"\n",
      "    let v27 : string = $\"{v26}\"\n",
      "    let v35 : unit = ()\n",
      "    let v36 : (unit -> unit) = closure0(v4, v27)\n",
      "    let v37 : unit = (fun () -> v36 (); v35) ()\n",
      "    let v45 : string = \" = \"\n",
      "    let v46 : string = $\"{v45}\"\n",
      "    let v54 : unit = ()\n",
      "    let v55 : (unit -> unit) = closure0(v4, v46)\n",
      "    let v56 : unit = (fun () -> v55 (); v54) ()\n",
      "    let v63 : string = $\"{v0}\"\n",
      "    let v71 : unit = ()\n",
      "    let v72 : (unit -> unit) = closure0(v4, v63)\n",
      "    let v73 : unit = (fun () -> v72 (); v71) ()\n",
      "    let v81 : string = \"; \"\n",
      "    let v82 : string = $\"{v81}\"\n",
      "    let v90 : unit = ()\n",
      "    let v91 : (unit -> unit) = closure0(v4, v82)\n",
      "    let v92 : unit = (fun () -> v91 (); v90) ()\n",
      "    let v100 : string = \"actual\"\n",
      "    let v101 : string = $\"{v100}\"\n",
      "    let v109 : unit = ()\n",
      "    let v110 : (unit -> unit) = closure0(v4, v101)\n",
      "    let v111 : unit = (fun () -> v110 (); v109) ()\n",
      "    let v118 : string = $\"{v45}\"\n",
      "    let v126 : unit = ()\n",
      "    let v127 : (unit -> unit) = closure0(v4, v118)\n",
      "    let v128 : unit = (fun () -> v127 (); v126) ()\n",
      "    let v136 : string =\n",
      "        if v1 then\n",
      "            let v134 : string = \"true\"\n",
      "            v134\n",
      "        else\n",
      "            let v135 : string = \"false\"\n",
      "            v135\n",
      "    let v138 : string = $\"{v136}\"\n",
      "    let v146 : unit = ()\n",
      "    let v147 : (unit -> unit) = closure0(v4, v138)\n",
      "    let v148 : unit = (fun () -> v147 (); v146) ()\n",
      "    let v155 : string = $\"{v81}\"\n",
      "    let v163 : unit = ()\n",
      "    let v164 : (unit -> unit) = closure0(v4, v155)\n",
      "    let v165 : unit = (fun () -> v164 (); v163) ()\n",
      "    let v173 : string = \"expected\"\n",
      "    let v174 : string = $\"{v173}\"\n",
      "    let v182 : unit = ()\n",
      "    let v183 : (unit -> unit) = closure0(v4, v174)\n",
      "    let v184 : unit = (fun () -> v183 (); v182) ()\n",
      "    let v191 : string = $\"{v45}\"\n",
      "    let v199 : unit = ()\n",
      "    let v200 : (unit -> unit) = closure0(v4, v191)\n",
      "    let v201 : unit = (fun () -> v200 (); v199) ()\n",
      "    let v209 : string =\n",
      "        if v2 then\n",
      "            let v207 : string = \"true\"\n",
      "            v207\n",
      "        else\n",
      "            let v208 : string = \"false\"\n",
      "            v208\n",
      "    let v211 : string = $\"{v209}\"\n",
      "    let v219 : unit = ()\n",
      "    let v220 : (unit -> unit) = closure0(v4, v211)\n",
      "    let v221 : unit = (fun () -> v220 (); v219) ()\n",
      "    let v229 : string = \" }\"\n",
      "    let v230 : string = $\"{v229}\"\n",
      "    let v238 : unit = ()\n",
      "    let v239 : (unit -> unit) = closure0(v4, v230)\n",
      "    let v240 : unit = (fun () -> v239 (); v238) ()\n",
      "    let v246 : string = v4.l0\n",
      "    v246\n",
      "and closure1 (v0 : string) () : unit =\n",
      "    let v1 : (string -> unit) = System.Console.WriteLine\n",
      "    v1 v0\n",
      "and method5 (v0 : int64) : bool =\n",
      "    let v1 : bool = v0 >= 2L\n",
      "    if v1 then\n",
      "        false\n",
      "    else\n",
      "        let v2 : bool = v0 = 0L\n",
      "        let v10 : US0 =\n",
      "            if v2 then\n",
      "                US0_0('a')\n",
      "            else\n",
      "                let v4 : int64 = v0 - 1L\n",
      "                let v5 : bool = v4 = 0L\n",
      "                if v5 then\n",
      "                    US0_0('b')\n",
      "                else\n",
      "                    let v7 : int64 = v4 - 1L\n",
      "                    US0_1\n",
      "        let v14 : char =\n",
      "            match v10 with\n",
      "            | US0_1 -> (* None *)\n",
      "                failwith<char> \"Option does not have a value.\"\n",
      "            | US0_0(v11) -> (* Some *)\n",
      "                v11\n",
      "        let v15 : bool = v14 = 'c'\n",
      "        if v15 then\n",
      "            true\n",
      "        else\n",
      "            let v16 : int64 = v0 + 1L\n",
      "            method5(v16)\n",
      "and method6 (v0 : int64) : bool =\n",
      "    let v1 : bool = v0 >= 0L\n",
      "    if v1 then\n",
      "        false\n",
      "    else\n",
      "        let v2 : char = failwith<char> \"Option does not have a value.\"\n",
      "        let v3 : bool = v2 = 'a'\n",
      "        if v3 then\n",
      "            true\n",
      "        else\n",
      "            let v4 : int64 = v0 + 1L\n",
      "            method6(v4)\n",
      "and method0 () : unit =\n",
      "    let v0 : int64 = 0L\n",
      "    let v1 : bool = method1(v0)\n",
      "    let v3 : bool =\n",
      "        if v1 then\n",
      "            true\n",
      "        else\n",
      "            method2(v1)\n",
      "    let v4 : string = \"__assert_eq\"\n",
      "    let v5 : bool = true\n",
      "    let v6 : string = method3(v4, v1, v5)\n",
      "    let v8 : unit = ()\n",
      "    let v9 : (unit -> unit) = closure1(v6)\n",
      "    let v10 : unit = (fun () -> v9 (); v8) ()\n",
      "    let v12 : bool = v3 = false\n",
      "    if v12 then\n",
      "        failwith<unit> v6\n",
      "    let v13 : int64 = 0L\n",
      "    let v14 : bool = method5(v13)\n",
      "    let v15 : bool = v14 = false\n",
      "    let v17 : bool =\n",
      "        if v15 then\n",
      "            true\n",
      "        else\n",
      "            method2(v15)\n",
      "    let v18 : bool = false\n",
      "    let v19 : string = method3(v4, v14, v18)\n",
      "    let v21 : unit = ()\n",
      "    let v22 : (unit -> unit) = closure1(v19)\n",
      "    let v23 : unit = (fun () -> v22 (); v21) ()\n",
      "    let v25 : bool = v17 = false\n",
      "    if v25 then\n",
      "        failwith<unit> v19\n",
      "    let v26 : int64 = 0L\n",
      "    let v27 : bool = method6(v26)\n",
      "    let v28 : bool = v27 = false\n",
      "    let v30 : bool =\n",
      "        if v28 then\n",
      "            true\n",
      "        else\n",
      "            method2(v28)\n",
      "    let v31 : bool = false\n",
      "    let v32 : string = method3(v4, v27, v31)\n",
      "    let v34 : unit = ()\n",
      "    let v35 : (unit -> unit) = closure1(v32)\n",
      "    let v36 : unit = (fun () -> v35 (); v34) ()\n",
      "    let v38 : bool = v30 = false\n",
      "    if v38 then\n",
      "        failwith<unit> v32\n",
      "method0()\n",
      "\n",
      "\n",
      ".ts:\n",
      "import { Record, Union } from \"./fable_modules/fable-library-ts.5.0.0-alpha.9/Types.js\";\n",
      "import { record_type, string_type, union_type, char_type, TypeInfo } from \"./fable_modules/fable-library-ts.5.0.0-alpha.9/Reflection.js\";\n",
      "import { IComparable, IEquatable } from \"./fable_modules/fable-library-ts.5.0.0-alpha.9/Util.js\";\n",
      "import { op_Addition, int64, op_Subtraction, toInt64, equals, compare } from \"./fable_modules/fable-library-ts.5.0.0-alpha.9/BigInt.js\";\n",
      "import { int32 } from \"./fable_modules/fable-library-ts.5.0.0-alpha.9/Int32.js\";\n",
      "\n",
      "export type US0_$union = \n",
      "    | US0<0>\n",
      "    | US0<1>\n",
      "\n",
      "export type US0_$cases = {\n",
      "    0: [\"US0_0\", [string]],\n",
      "    1: [\"US0_1\", []]\n",
      "}\n",
      "\n",
      "export function US0_US0_0(f0_0: string) {\n",
      "    return new US0<0>(0, [f0_0]);\n",
      "}\n",
      "\n",
      "export function US0_US0_1() {\n",
      "    return new US0<1>(1, []);\n",
      "}\n",
      "\n",
      "export class US0<Tag extends keyof US0_$cases> extends Union<Tag, US0_$cases[Tag][0]> {\n",
      "    constructor(readonly tag: Tag, readonly fields: US0_$cases[Tag][1]) {\n",
      "        super();\n",
      "    }\n",
      "    cases() {\n",
      "        return [\"US0_0\", \"US0_1\"];\n",
      "    }\n",
      "}\n",
      "\n",
      "export function US0_$reflection(): TypeInfo {\n",
      "    return union_type(\"Spiral.US0\", [], US0, () => [[[\"f0_0\", char_type]], []]);\n",
      "}\n",
      "\n",
      "export class Mut0 extends Record implements IEquatable<Mut0>, IComparable<Mut0> {\n",
      "    l0: string;\n",
      "    constructor(l0: string) {\n",
      "        super();\n",
      "        this.l0 = l0;\n",
      "    }\n",
      "}\n",
      "\n",
      "export function Mut0_$reflection(): TypeInfo {\n",
      "    return record_type(\"Spiral.Mut0\", [], Mut0, () => [[\"l0\", string_type]]);\n",
      "}\n",
      "\n",
      "export function method1(v0_mut: int64): boolean {\n",
      "    method1:\n",
      "    while (true) {\n",
      "        const v0: int64 = v0_mut;\n",
      "        if (compare(v0, 3n) >= 0) {\n",
      "            return false;\n",
      "        }\n",
      "        else {\n",
      "            let v14: US0_$union;\n",
      "            if (equals(v0, 0n)) {\n",
      "                v14 = US0_US0_0(\"a\");\n",
      "            }\n",
      "            else {\n",
      "                const v4: int64 = toInt64(op_Subtraction(v0, 1n));\n",
      "                if (equals(v4, 0n)) {\n",
      "                    v14 = US0_US0_0(\"b\");\n",
      "                }\n",
      "                else {\n",
      "                    const v7: int64 = toInt64(op_Subtraction(v4, 1n));\n",
      "                    if (equals(v7, 0n)) {\n",
      "                        v14 = US0_US0_0(\"c\");\n",
      "                    }\n",
      "                    else {\n",
      "                        const v10: int64 = toInt64(op_Subtraction(v7, 1n));\n",
      "                        v14 = US0_US0_1();\n",
      "                    }\n",
      "                }\n",
      "            }\n",
      "            if ((((v14.tag as int32) === /* US0_0 */ 0) ? (v14.fields[0] as any) : (() => {\n",
      "                throw new Error(\"Option does not have a value.\");\n",
      "            })()) === \"b\") {\n",
      "                return true;\n",
      "            }\n",
      "            else {\n",
      "                v0_mut = toInt64(op_Addition(v0, 1n));\n",
      "                continue method1;\n",
      "            }\n",
      "        }\n",
      "        break;\n",
      "    }\n",
      "}\n",
      "\n",
      "export function method2(v0: boolean): boolean {\n",
      "    return v0;\n",
      "}\n",
      "\n",
      "export function method4(): string {\n",
      "    return \"\";\n",
      "}\n",
      "\n",
      "export function closure0(v0: Mut0, v1: string, unitVar: void): void {\n",
      "    const v4: string = v0.l0 + v1;\n",
      "    v0.l0 = v4;\n",
      "}\n",
      "\n",
      "export function method3(v0: string, v1: boolean, v2: boolean): string {\n",
      "    const v4: Mut0 = new Mut0(method4());\n",
      "    let v18: any;\n",
      "    closure0(v4, \"{ \", undefined);\n",
      "    v18 = undefined;\n",
      "    let v37: any;\n",
      "    closure0(v4, \"name\", undefined);\n",
      "    v37 = undefined;\n",
      "    let v56: any;\n",
      "    closure0(v4, \" = \", undefined);\n",
      "    v56 = undefined;\n",
      "    let v73: any;\n",
      "    closure0(v4, v0, undefined);\n",
      "    v73 = undefined;\n",
      "    let v92: any;\n",
      "    closure0(v4, \"; \", undefined);\n",
      "    v92 = undefined;\n",
      "    let v111: any;\n",
      "    closure0(v4, \"actual\", undefined);\n",
      "    v111 = undefined;\n",
      "    let v128: any;\n",
      "    closure0(v4, \" = \", undefined);\n",
      "    v128 = undefined;\n",
      "    let v148: any;\n",
      "    closure0(v4, v1 ? \"true\" : \"false\", undefined);\n",
      "    v148 = undefined;\n",
      "    let v165: any;\n",
      "    closure0(v4, \"; \", undefined);\n",
      "    v165 = undefined;\n",
      "    let v184: any;\n",
      "    closure0(v4, \"expected\", undefined);\n",
      "    v184 = undefined;\n",
      "    let v201: any;\n",
      "    closure0(v4, \" = \", undefined);\n",
      "    v201 = undefined;\n",
      "    let v221: any;\n",
      "    closure0(v4, v2 ? \"true\" : \"false\", undefined);\n",
      "    v221 = undefined;\n",
      "    let v240: any;\n",
      "    closure0(v4, \" }\", undefined);\n",
      "    v240 = undefined;\n",
      "    return v4.l0;\n",
      "}\n",
      "\n",
      "export function closure1(v0: string, unitVar: void): void {\n",
      "    console.log(v0);\n",
      "}\n",
      "\n",
      "export function method5(v0_mut: int64): boolean {\n",
      "    method5:\n",
      "    while (true) {\n",
      "        const v0: int64 = v0_mut;\n",
      "        if (compare(v0, 2n) >= 0) {\n",
      "            return false;\n",
      "        }\n",
      "        else {\n",
      "            let v10: US0_$union;\n",
      "            if (equals(v0, 0n)) {\n",
      "                v10 = US0_US0_0(\"a\");\n",
      "            }\n",
      "            else {\n",
      "                const v4: int64 = toInt64(op_Subtraction(v0, 1n));\n",
      "                if (equals(v4, 0n)) {\n",
      "                    v10 = US0_US0_0(\"b\");\n",
      "                }\n",
      "                else {\n",
      "                    const v7: int64 = toInt64(op_Subtraction(v4, 1n));\n",
      "                    v10 = US0_US0_1();\n",
      "                }\n",
      "            }\n",
      "            if ((((v10.tag as int32) === /* US0_0 */ 0) ? (v10.fields[0] as any) : (() => {\n",
      "                throw new Error(\"Option does not have a value.\");\n",
      "            })()) === \"c\") {\n",
      "                return true;\n",
      "            }\n",
      "            else {\n",
      "                v0_mut = toInt64(op_Addition(v0, 1n));\n",
      "                continue method5;\n",
      "            }\n",
      "        }\n",
      "        break;\n",
      "    }\n",
      "}\n",
      "\n",
      "export function method6(v0_mut: int64): boolean {\n",
      "    method6:\n",
      "    while (true) {\n",
      "        const v0: int64 = v0_mut;\n",
      "        if (compare(v0, 0n) >= 0) {\n",
      "            return false;\n",
      "        }\n",
      "        else if ((() => {\n",
      "            throw new Error(\"Option does not have a value.\");\n",
      "        })() === \"a\") {\n",
      "            return true;\n",
      "        }\n",
      "        else {\n",
      "            v0_mut = toInt64(op_Addition(v0, 1n));\n",
      "            continue method6;\n",
      "        }\n",
      "        break;\n",
      "    }\n",
      "}\n",
      "\n",
      "export function method0(): void {\n",
      "    const v1: boolean = method1(0n);\n",
      "    const v3: boolean = v1 ? true : method2(v1);\n",
      "    const v6: string = method3(\"__assert_eq\", v1, true);\n",
      "    let v10: any;\n",
      "    closure1(v6, undefined);\n",
      "    v10 = undefined;\n",
      "    if (v3 === false) {\n",
      "        throw new Error(v6);\n",
      "    }\n",
      "    const v14: boolean = method5(0n);\n",
      "    const v15: boolean = v14 === false;\n",
      "    const v17: boolean = v15 ? true : method2(v15);\n",
      "    const v19: string = method3(\"__assert_eq\", v14, false);\n",
      "    let v23: any;\n",
      "    closure1(v19, undefined);\n",
      "    v23 = undefined;\n",
      "    if (v17 === false) {\n",
      "        throw new Error(v19);\n",
      "    }\n",
      "    const v27: boolean = method6(0n);\n",
      "    const v28: boolean = v27 === false;\n",
      "    const v30: boolean = v28 ? true : method2(v28);\n",
      "    const v32: string = method3(\"__assert_eq\", v27, false);\n",
      "    let v36: any;\n",
      "    closure1(v32, undefined);\n",
      "    v36 = undefined;\n",
      "    if (v30 === false) {\n",
      "        throw new Error(v32);\n",
      "    }\n",
      "}\n",
      "\n",
      "method0();\n",
      "\n",
      "\n",
      ".py:\n",
      "from __future__ import annotations\n",
      "from dataclasses import dataclass\n",
      "from typing import Any\n",
      "from fable_modules.fable_library.long import (op_subtraction, op_addition)\n",
      "from fable_modules.fable_library.reflection import (TypeInfo, char_type, union_type, string_type, record_type)\n",
      "from fable_modules.fable_library.types import (Array, Union, Record, int64)\n",
      "\n",
      "def _expr0() -> TypeInfo:\n",
      "    return union_type(\"Spiral.US0\", [], US0, lambda: [[(\"f0_0\", char_type)], []])\n",
      "\n",
      "\n",
      "class US0(Union):\n",
      "    __slots__ = [\"tag\", \"fields\"]\n",
      "    def __init__(self, tag: int, *fields: Any) -> None:\n",
      "        super().__init__()\n",
      "        self.tag: int = tag or 0\n",
      "        self.fields: Array[Any] = list(fields)\n",
      "\n",
      "    @staticmethod\n",
      "    def cases() -> list[str]:\n",
      "        return [\"US0_0\", \"US0_1\"]\n",
      "\n",
      "\n",
      "US0_reflection = _expr0\n",
      "\n",
      "def _expr1() -> TypeInfo:\n",
      "    return record_type(\"Spiral.Mut0\", [], Mut0, lambda: [(\"l0\", string_type)])\n",
      "\n",
      "\n",
      "@dataclass(eq = False, repr = False, slots = True)\n",
      "class Mut0(Record):\n",
      "    l0: str\n",
      "\n",
      "Mut0_reflection = _expr1\n",
      "\n",
      "def method1(v0_mut: int64) -> bool:\n",
      "    while True:\n",
      "        (v0,) = (v0_mut,)\n",
      "        if v0 >= int64(3):\n",
      "            return False\n",
      "\n",
      "        else: \n",
      "            v14: US0\n",
      "            if v0 == int64(0):\n",
      "                v14 = US0(0, \"a\")\n",
      "\n",
      "            else: \n",
      "                v4: int64 = op_subtraction(v0, int64(1))\n",
      "                if v4 == int64(0):\n",
      "                    v14 = US0(0, \"b\")\n",
      "\n",
      "                else: \n",
      "                    v7: int64 = op_subtraction(v4, int64(1))\n",
      "                    if v7 == int64(0):\n",
      "                        v14 = US0(0, \"c\")\n",
      "\n",
      "                    else: \n",
      "                        v10: int64 = op_subtraction(v7, int64(1))\n",
      "                        v14 = US0(1)\n",
      "\n",
      "\n",
      "\n",
      "            def _arrow2(__unit: None=None, v0: Any=v0) -> str:\n",
      "                raise Exception(\"Option does not have a value.\")\n",
      "\n",
      "            if (v14.fields[0] if (v14.tag == 0) else _arrow2()) == \"b\":\n",
      "                return True\n",
      "\n",
      "            else: \n",
      "                v0_mut = op_addition(v0, int64(1))\n",
      "                continue\n",
      "\n",
      "\n",
      "        break\n",
      "\n",
      "\n",
      "def method2(v0: bool) -> bool:\n",
      "    return v0\n",
      "\n",
      "\n",
      "def method4(__unit: None=None) -> str:\n",
      "    return \"\"\n",
      "\n",
      "\n",
      "def closure0(v0: Mut0, v1: str, unit_var: None) -> None:\n",
      "    v4: str = v0.l0 + v1\n",
      "    v0.l0 = v4\n",
      "\n",
      "\n",
      "def method3(v0: str, v1: bool, v2: bool) -> str:\n",
      "    v4: Mut0 = Mut0(method4())\n",
      "    v18: None\n",
      "    closure0(v4, \"{ \", None)\n",
      "    v18 = None\n",
      "    v37: None\n",
      "    closure0(v4, \"name\", None)\n",
      "    v37 = None\n",
      "    v56: None\n",
      "    closure0(v4, \" = \", None)\n",
      "    v56 = None\n",
      "    v73: None\n",
      "    closure0(v4, v0, None)\n",
      "    v73 = None\n",
      "    v92: None\n",
      "    closure0(v4, \"; \", None)\n",
      "    v92 = None\n",
      "    v111: None\n",
      "    closure0(v4, \"actual\", None)\n",
      "    v111 = None\n",
      "    v128: None\n",
      "    closure0(v4, \" = \", None)\n",
      "    v128 = None\n",
      "    v148: None\n",
      "    closure0(v4, \"true\" if v1 else \"false\", None)\n",
      "    v148 = None\n",
      "    v165: None\n",
      "    closure0(v4, \"; \", None)\n",
      "    v165 = None\n",
      "    v184: None\n",
      "    closure0(v4, \"expected\", None)\n",
      "    v184 = None\n",
      "    v201: None\n",
      "    closure0(v4, \" = \", None)\n",
      "    v201 = None\n",
      "    v221: None\n",
      "    closure0(v4, \"true\" if v2 else \"false\", None)\n",
      "    v221 = None\n",
      "    v240: None\n",
      "    closure0(v4, \" }\", None)\n",
      "    v240 = None\n",
      "    return v4.l0\n",
      "\n",
      "\n",
      "def closure1(v0: str, unit_var: None) -> None:\n",
      "    print(v0)\n",
      "\n",
      "\n",
      "def method5(v0_mut: int64) -> bool:\n",
      "    while True:\n",
      "        (v0,) = (v0_mut,)\n",
      "        if v0 >= int64(2):\n",
      "            return False\n",
      "\n",
      "        else: \n",
      "            v10: US0\n",
      "            if v0 == int64(0):\n",
      "                v10 = US0(0, \"a\")\n",
      "\n",
      "            else: \n",
      "                v4: int64 = op_subtraction(v0, int64(1))\n",
      "                if v4 == int64(0):\n",
      "                    v10 = US0(0, \"b\")\n",
      "\n",
      "                else: \n",
      "                    v7: int64 = op_subtraction(v4, int64(1))\n",
      "                    v10 = US0(1)\n",
      "\n",
      "\n",
      "            def _arrow3(__unit: None=None, v0: Any=v0) -> str:\n",
      "                raise Exception(\"Option does not have a value.\")\n",
      "\n",
      "            if (v10.fields[0] if (v10.tag == 0) else _arrow3()) == \"c\":\n",
      "                return True\n",
      "\n",
      "            else: \n",
      "                v0_mut = op_addition(v0, int64(1))\n",
      "                continue\n",
      "\n",
      "\n",
      "        break\n",
      "\n",
      "\n",
      "def method6(v0_mut: int64) -> bool:\n",
      "    while True:\n",
      "        (v0,) = (v0_mut,)\n",
      "        if v0 >= int64(0):\n",
      "            return False\n",
      "\n",
      "        else: \n",
      "            def _arrow4(__unit: None=None, v0: Any=v0) -> str:\n",
      "                raise Exception(\"Option does not have a value.\")\n",
      "\n",
      "            if _arrow4() == \"a\":\n",
      "                return True\n",
      "\n",
      "            else: \n",
      "                v0_mut = op_addition(v0, int64(1))\n",
      "                continue\n",
      "\n",
      "\n",
      "        break\n",
      "\n",
      "\n",
      "def method0(__unit: None=None) -> None:\n",
      "    v1: bool = method1(int64(0))\n",
      "    v3: bool = True if v1 else method2(v1)\n",
      "    v6: str = method3(\"__assert_eq\", v1, True)\n",
      "    v10: None\n",
      "    closure1(v6, None)\n",
      "    v10 = None\n",
      "    if v3 == False:\n",
      "        raise Exception(v6)\n",
      "\n",
      "    v14: bool = method5(int64(0))\n",
      "    v15: bool = v14 == False\n",
      "    v17: bool = True if v15 else method2(v15)\n",
      "    v19: str = method3(\"__assert_eq\", v14, False)\n",
      "    v23: None\n",
      "    closure1(v19, None)\n",
      "    v23 = None\n",
      "    if v17 == False:\n",
      "        raise Exception(v19)\n",
      "\n",
      "    v27: bool = method6(int64(0))\n",
      "    v28: bool = v27 == False\n",
      "    v30: bool = True if v28 else method2(v28)\n",
      "    v32: str = method3(\"__assert_eq\", v27, False)\n",
      "    v36: None\n",
      "    closure1(v32, None)\n",
      "    v36 = None\n",
      "    if v30 == False:\n",
      "        raise Exception(v32)\n",
      "\n",
      "\n",
      "\n",
      "method0()\n",
      "\n",
      "\n",
      ".py (Python):\n",
      "kernels_main = r\"\"\"\n",
      "\"\"\"\n",
      "from main_auto import *\n",
      "kernels = kernels_aux + kernels_main\n",
      "import cupy as cp\n",
      "import numpy as np\n",
      "from dataclasses import dataclass\n",
      "from typing import NamedTuple, Union, Callable, Tuple\n",
      "i8 = int; i16 = int; i32 = int; i64 = int; u8 = int; u16 = int; u32 = int; u64 = int; f32 = float; f64 = float; char = str; string = str\n",
      "cuda = False\n",
      "\n",
      "\n",
      "# fwd_dcls\n",
      "# types\n",
      "class US0_0(NamedTuple): # (0, Some)\n",
      "    v0 : char\n",
      "    tag = 0\n",
      "class US0_1(NamedTuple): # (1, None)\n",
      "    tag = 1\n",
      "US0 = Union[US0_0, US0_1]\n",
      "@dataclass\n",
      "class Mut0:\n",
      "    v0 : string\n",
      "# functions\n",
      "def method1(v0 : i64) -> bool:\n",
      "    v1 = v0 >= 3\n",
      "    if v1:\n",
      "        del v0, v1\n",
      "        return False\n",
      "    else:\n",
      "        del v1\n",
      "        v2 = v0 == 0\n",
      "        if v2:\n",
      "            v14 = US0_0('a')\n",
      "        else:\n",
      "            v4 = v0 - 1\n",
      "            v5 = v4 == 0\n",
      "            if v5:\n",
      "                del v4, v5\n",
      "                v14 = US0_0('b')\n",
      "            else:\n",
      "                del v5\n",
      "                v7 = v4 - 1\n",
      "                del v4\n",
      "                v8 = v7 == 0\n",
      "                if v8:\n",
      "                    del v7, v8\n",
      "                    v14 = US0_0('c')\n",
      "                else:\n",
      "                    del v8\n",
      "                    v10 = v7 - 1\n",
      "                    del v7, v10\n",
      "                    v14 = US0_1()\n",
      "        del v2\n",
      "        match v14:\n",
      "            case US0_1(): # None\n",
      "                raise Exception(\"Option does not have a value.\")\n",
      "            case US0_0(v15): # Some\n",
      "                v18 = v15\n",
      "            case t:\n",
      "                raise Exception(f'Pattern matching miss. Got: {t}')\n",
      "        del v14\n",
      "        v19 = v18 == 'b'\n",
      "        del v18\n",
      "        if v19:\n",
      "            del v0, v19\n",
      "            return True\n",
      "        else:\n",
      "            del v19\n",
      "            v20 = v0 + 1\n",
      "            del v0\n",
      "            return method1(v20)\n",
      "def method2(v0 : bool) -> bool:\n",
      "    return v0\n",
      "def method4() -> string:\n",
      "    v0 = \"\"\n",
      "    return v0\n",
      "def method3(v0 : string, v1 : bool, v2 : bool) -> string:\n",
      "    v3 = method4()\n",
      "    v4 = Mut0(v3)\n",
      "    del v3\n",
      "    v9 = \"{ \"\n",
      "    v10 = f\"{v9}\"\n",
      "    del v9\n",
      "    v20 = v4.v0\n",
      "    v23 = v20 + v10 \n",
      "    del v10, v20\n",
      "    v4.v0 = v23\n",
      "    del v23\n",
      "    v29 = \"name\"\n",
      "    v30 = f\"{v29}\"\n",
      "    del v29\n",
      "    v40 = v4.v0\n",
      "    v43 = v40 + v30 \n",
      "    del v30, v40\n",
      "    v4.v0 = v43\n",
      "    del v43\n",
      "    v49 = \" = \"\n",
      "    v50 = f\"{v49}\"\n",
      "    v60 = v4.v0\n",
      "    v63 = v60 + v50 \n",
      "    del v50, v60\n",
      "    v4.v0 = v63\n",
      "    del v63\n",
      "    v67 = f\"{v0}\"\n",
      "    del v0\n",
      "    v77 = v4.v0\n",
      "    v80 = v77 + v67 \n",
      "    del v67, v77\n",
      "    v4.v0 = v80\n",
      "    del v80\n",
      "    v86 = \"; \"\n",
      "    v87 = f\"{v86}\"\n",
      "    v97 = v4.v0\n",
      "    v100 = v97 + v87 \n",
      "    del v87, v97\n",
      "    v4.v0 = v100\n",
      "    del v100\n",
      "    v106 = \"actual\"\n",
      "    v107 = f\"{v106}\"\n",
      "    del v106\n",
      "    v117 = v4.v0\n",
      "    v120 = v117 + v107 \n",
      "    del v107, v117\n",
      "    v4.v0 = v120\n",
      "    del v120\n",
      "    v124 = f\"{v49}\"\n",
      "    v134 = v4.v0\n",
      "    v137 = v134 + v124 \n",
      "    del v124, v134\n",
      "    v4.v0 = v137\n",
      "    del v137\n",
      "    if v1:\n",
      "        v139 = \"true\"\n",
      "        v141 = v139\n",
      "    else:\n",
      "        v140 = \"false\"\n",
      "        v141 = v140\n",
      "    del v1\n",
      "    v144 = f\"{v141}\"\n",
      "    del v141\n",
      "    v154 = v4.v0\n",
      "    v157 = v154 + v144 \n",
      "    del v144, v154\n",
      "    v4.v0 = v157\n",
      "    del v157\n",
      "    v161 = f\"{v86}\"\n",
      "    del v86\n",
      "    v171 = v4.v0\n",
      "    v174 = v171 + v161 \n",
      "    del v161, v171\n",
      "    v4.v0 = v174\n",
      "    del v174\n",
      "    v180 = \"expected\"\n",
      "    v181 = f\"{v180}\"\n",
      "    del v180\n",
      "    v191 = v4.v0\n",
      "    v194 = v191 + v181 \n",
      "    del v181, v191\n",
      "    v4.v0 = v194\n",
      "    del v194\n",
      "    v198 = f\"{v49}\"\n",
      "    del v49\n",
      "    v208 = v4.v0\n",
      "    v211 = v208 + v198 \n",
      "    del v198, v208\n",
      "    v4.v0 = v211\n",
      "    del v211\n",
      "    if v2:\n",
      "        v213 = \"true\"\n",
      "        v215 = v213\n",
      "    else:\n",
      "        v214 = \"false\"\n",
      "        v215 = v214\n",
      "    del v2\n",
      "    v218 = f\"{v215}\"\n",
      "    del v215\n",
      "    v228 = v4.v0\n",
      "    v231 = v228 + v218 \n",
      "    del v218, v228\n",
      "    v4.v0 = v231\n",
      "    del v231\n",
      "    v237 = \" }\"\n",
      "    v238 = f\"{v237}\"\n",
      "    del v237\n",
      "    v248 = v4.v0\n",
      "    v251 = v248 + v238 \n",
      "    del v238, v248\n",
      "    v4.v0 = v251\n",
      "    del v251\n",
      "    v253 = v4.v0\n",
      "    del v4\n",
      "    return v253\n",
      "def method5(v0 : i64) -> bool:\n",
      "    v1 = v0 >= 2\n",
      "    if v1:\n",
      "        del v0, v1\n",
      "        return False\n",
      "    else:\n",
      "        del v1\n",
      "        v2 = v0 == 0\n",
      "        if v2:\n",
      "            v10 = US0_0('a')\n",
      "        else:\n",
      "            v4 = v0 - 1\n",
      "            v5 = v4 == 0\n",
      "            if v5:\n",
      "                del v4, v5\n",
      "                v10 = US0_0('b')\n",
      "            else:\n",
      "                del v5\n",
      "                v7 = v4 - 1\n",
      "                del v4, v7\n",
      "                v10 = US0_1()\n",
      "        del v2\n",
      "        match v10:\n",
      "            case US0_1(): # None\n",
      "                raise Exception(\"Option does not have a value.\")\n",
      "            case US0_0(v11): # Some\n",
      "                v14 = v11\n",
      "            case t:\n",
      "                raise Exception(f'Pattern matching miss. Got: {t}')\n",
      "        del v10\n",
      "        v15 = v14 == 'c'\n",
      "        del v14\n",
      "        if v15:\n",
      "            del v0, v15\n",
      "            return True\n",
      "        else:\n",
      "            del v15\n",
      "            v16 = v0 + 1\n",
      "            del v0\n",
      "            return method5(v16)\n",
      "def method6(v0 : i64) -> bool:\n",
      "    v1 = v0 >= 0\n",
      "    if v1:\n",
      "        del v0, v1\n",
      "        return False\n",
      "    else:\n",
      "        del v1\n",
      "        raise Exception(\"Option does not have a value.\")\n",
      "        v3 = v2 == 'a'\n",
      "        del v2\n",
      "        if v3:\n",
      "            del v0, v3\n",
      "            return True\n",
      "        else:\n",
      "            del v3\n",
      "            v4 = v0 + 1\n",
      "            del v0\n",
      "            return method6(v4)\n",
      "def method0() -> None:\n",
      "    v0 = 0\n",
      "    v1 = method1(v0)\n",
      "    del v0\n",
      "    if v1:\n",
      "        v3 = True\n",
      "    else:\n",
      "        v3 = method2(v1)\n",
      "    v4 = \"__assert_eq\"\n",
      "    v5 = True\n",
      "    v6 = method3(v4, v1, v5)\n",
      "    del v1, v5\n",
      "    print(v6)\n",
      "    v12 = v3 == False\n",
      "    del v3\n",
      "    if v12:\n",
      "        raise Exception(v6)\n",
      "    else:\n",
      "        pass\n",
      "    del v6, v12\n",
      "    v13 = 0\n",
      "    v14 = method5(v13)\n",
      "    del v13\n",
      "    v15 = v14 == False\n",
      "    if v15:\n",
      "        v17 = True\n",
      "    else:\n",
      "        v17 = method2(v15)\n",
      "    del v15\n",
      "    v18 = False\n",
      "    v19 = method3(v4, v14, v18)\n",
      "    del v14, v18\n",
      "    print(v19)\n",
      "    v25 = v17 == False\n",
      "    del v17\n",
      "    if v25:\n",
      "        raise Exception(v19)\n",
      "    else:\n",
      "        pass\n",
      "    del v19, v25\n",
      "    v26 = 0\n",
      "    v27 = method6(v26)\n",
      "    del v26\n",
      "    v28 = v27 == False\n",
      "    if v28:\n",
      "        v30 = True\n",
      "    else:\n",
      "        v30 = method2(v28)\n",
      "    del v28\n",
      "    v31 = False\n",
      "    v32 = method3(v4, v27, v31)\n",
      "    del v4, v27, v31\n",
      "    print(v32)\n",
      "    v38 = v30 == False\n",
      "    del v30\n",
      "    if v38:\n",
      "        del v38\n",
      "        raise Exception(v32)\n",
      "    else:\n",
      "        del v32, v38\n",
      "        return \n",
      "# main_defs\n",
      "def main_body():\n",
      "    return method0()\n",
      "\n",
      "def main():\n",
      "    r = main_body()\n",
      "    if cuda: cp.cuda.get_current_stream().synchronize() # This line is here so the `__trap()` calls on the kernel aren't missed.\n",
      "    return r\n",
      "\n",
      "if __name__ == '__main__': result = main(); None if result is None else print(result)\n",
      "\n",
      ".fsx output:\n",
      "{ name = __assert_eq; actual = true; expected = true }\n",
      "{ name = __assert_eq; actual = false; expected = false }\n",
      "{ name = __assert_eq; actual = false; expected = false }\n"
     ]
    }
   ],
   "source": [
    "//// test\n",
    "///! gleam\n",
    "///! fsharp\n",
    "///! cuda\n",
    "////! rust // can't compare `()` with `char`\n",
    "///! typescript\n",
    "///! python\n",
    "//// print_code\n",
    "\n",
    "[ 'a'; 'b'; 'c' ]\n",
    "|> exists' fun x => x = 'b'\n",
    "|> _assert_eq true\n",
    "\n",
    "[ 'a'; 'b' ]\n",
    "|> exists' fun x => x = 'c'\n",
    "|> _assert_eq false\n",
    "\n",
    "[]\n",
    "|> exists' fun x => x = 'a'\n",
    "|> _assert_eq false"
   ]
  },
  {
   "cell_type": "markdown",
   "metadata": {},
   "source": [
    "## fsharp"
   ]
  },
  {
   "cell_type": "markdown",
   "metadata": {},
   "source": [
    "### list'"
   ]
  },
  {
   "cell_type": "code",
   "execution_count": null,
   "metadata": {
    "dotnet_interactive": {
     "language": "spiral"
    },
    "polyglot_notebook": {
     "kernelName": "spiral"
    }
   },
   "outputs": [],
   "source": [
    "inl list'_types () =\n",
    "    backend_switch {\n",
    "        Gleam = fun () => global \"import gleam/list\"\n",
    "    }\n",
    "type list'_switch t =\n",
    "    {\n",
    "        Gleam : $'List(`t)'\n",
    "        Fsharp : $'`t list'\n",
    "        Python : $'list'\n",
    "    }\n",
    "nominal list' t = $'backend_switch `(list'_switch t)'"
   ]
  },
  {
   "cell_type": "markdown",
   "metadata": {},
   "source": [
    "### empty'"
   ]
  },
  {
   "cell_type": "code",
   "execution_count": null,
   "metadata": {
    "dotnet_interactive": {
     "language": "spiral"
    },
    "polyglot_notebook": {
     "kernelName": "spiral"
    }
   },
   "outputs": [],
   "source": [
    "inl empty' forall t. () : list' t =\n",
    "    $'[]'"
   ]
  },
  {
   "cell_type": "markdown",
   "metadata": {},
   "source": [
    "### cons'"
   ]
  },
  {
   "cell_type": "code",
   "execution_count": null,
   "metadata": {
    "dotnet_interactive": {
     "language": "spiral"
    },
    "polyglot_notebook": {
     "kernelName": "spiral"
    }
   },
   "outputs": [],
   "source": [
    "inl cons' forall t. (head : t) (tail : list' t) : list' t =\n",
    "    backend_switch {\n",
    "        Gleam = fun () => $'[ !head, ..!tail ]' : list' t\n",
    "        Fsharp = fun () => $'!head :: !tail ' : list' t\n",
    "        Python = fun () =>\n",
    "            $'!tail.insert(0, !head)'\n",
    "            $'!tail ' : list' t\n",
    "    }"
   ]
  },
  {
   "cell_type": "markdown",
   "metadata": {},
   "source": [
    "### box"
   ]
  },
  {
   "cell_type": "code",
   "execution_count": null,
   "metadata": {
    "dotnet_interactive": {
     "language": "spiral"
    },
    "polyglot_notebook": {
     "kernelName": "spiral"
    }
   },
   "outputs": [],
   "source": [
    "inl box forall t. (list : list t) : list' t =\n",
    "    (list, empty' ()) ||> listm.foldBack cons'"
   ]
  },
  {
   "cell_type": "markdown",
   "metadata": {},
   "source": [
    "### rev'"
   ]
  },
  {
   "cell_type": "code",
   "execution_count": null,
   "metadata": {
    "dotnet_interactive": {
     "language": "spiral"
    },
    "polyglot_notebook": {
     "kernelName": "spiral"
    }
   },
   "outputs": [],
   "source": [
    "inl rev' forall t. (items : list' t) : list' t =\n",
    "    backend_switch {\n",
    "        Gleam = fun () => $'!items |> list.reverse' : list' t\n",
    "        Fsharp = fun () => items |> $'List.rev' : list' t\n",
    "        Python = fun () => $'list(reversed(!items))' : list' t\n",
    "    }"
   ]
  },
  {
   "cell_type": "markdown",
   "metadata": {},
   "source": [
    "### fold'"
   ]
  },
  {
   "cell_type": "code",
   "execution_count": null,
   "metadata": {
    "dotnet_interactive": {
     "language": "spiral"
    },
    "polyglot_notebook": {
     "kernelName": "spiral"
    }
   },
   "outputs": [],
   "source": [
    "inl fold' forall t u. (fn : t -> u) (init : list u) (list : list' t) : list u =\n",
    "    backend_switch {\n",
    "        Gleam = fun () =>\n",
    "            $'let listm_fold = !list |> list.fold (!init, fn (acc, x) {'\n",
    "            $'!(Cons (fn $'x', $'acc'))' : ()\n",
    "            $'})' : ()\n",
    "            $'listm_fold' : list u\n",
    "        Fsharp = fun () =>\n",
    "            (init, list)\n",
    "            ||> $'List.fold' join fun acc x => Cons (fn x, acc)\n",
    "            : list u\n",
    "        Python = fun () =>\n",
    "            inl init = init |> box\n",
    "            $'r = !init '\n",
    "            inl list = list |> rev'\n",
    "            $'for x in !list: r = [!fn(x)] + r'\n",
    "            inl init : list u = Nil\n",
    "            inl cons (a : u) b = Cons (a, b)\n",
    "            $'r_ = !init '\n",
    "            $'for x in r: r_ = !cons (x)(r_)'\n",
    "            $'r_' : list u\n",
    "    }"
   ]
  },
  {
   "cell_type": "markdown",
   "metadata": {},
   "source": [
    "### fold_back'"
   ]
  },
  {
   "cell_type": "code",
   "execution_count": null,
   "metadata": {
    "dotnet_interactive": {
     "language": "spiral"
    },
    "polyglot_notebook": {
     "kernelName": "spiral"
    }
   },
   "outputs": [],
   "source": [
    "inl fold_back' forall t u. (fn : t -> u) (list : list' t) (init : list u) : list u =\n",
    "    backend_switch {\n",
    "        Gleam = fun () =>\n",
    "            $'let listm_fold_back = !list |> list.fold_right (!init, fn (acc, x) {'\n",
    "            $'!(Cons (fn $'x', $'acc'))' : ()\n",
    "            $'})' : ()\n",
    "            $'listm_fold_back' : list u\n",
    "        Fsharp = fun () =>\n",
    "            (list, init)\n",
    "            ||> $'List.foldBack' join fun x acc => Cons (fn x, acc)\n",
    "            : list u\n",
    "        Python = fun () =>\n",
    "            list\n",
    "            |> rev'\n",
    "            |> fold' fn init\n",
    "    }"
   ]
  },
  {
   "cell_type": "markdown",
   "metadata": {},
   "source": [
    "### filter'"
   ]
  },
  {
   "cell_type": "code",
   "execution_count": null,
   "metadata": {
    "dotnet_interactive": {
     "language": "spiral"
    },
    "polyglot_notebook": {
     "kernelName": "spiral"
    }
   },
   "outputs": [],
   "source": [
    "inl filter' forall t. (fn : t -> bool) (list : list' t) : list' t =\n",
    "    backend_switch {\n",
    "        Gleam = fun () => $'!list |> list.filter(!fn)' : list' t\n",
    "        Fsharp = fun () => list |> $'\"List.filter !fn\"' : list' t\n",
    "        Python = fun () => $'list(filter(!fn, !list))' : list' t\n",
    "    }"
   ]
  },
  {
   "cell_type": "markdown",
   "metadata": {},
   "source": [
    "### map"
   ]
  },
  {
   "cell_type": "code",
   "execution_count": null,
   "metadata": {
    "dotnet_interactive": {
     "language": "spiral"
    },
    "polyglot_notebook": {
     "kernelName": "spiral"
    }
   },
   "outputs": [],
   "source": [
    "inl map forall t u. (fn : t -> u) (list : list' t) : list' u =\n",
    "    list'_types ()\n",
    "    backend_switch {\n",
    "        Gleam = fun () => $'!list |> list.map(!fn)' : list' u\n",
    "        Fsharp = fun () => list |> $'List.map' fn : list' u\n",
    "        Python = fun () => $'list(map(!fn, !list))' : list' u\n",
    "    }"
   ]
  },
  {
   "cell_type": "markdown",
   "metadata": {},
   "source": [
    "### unbox"
   ]
  },
  {
   "cell_type": "code",
   "execution_count": null,
   "metadata": {
    "dotnet_interactive": {
     "language": "spiral"
    },
    "polyglot_notebook": {
     "kernelName": "spiral"
    }
   },
   "outputs": [],
   "source": [
    "inl unbox forall t. (list : list' t) : list t =\n",
    "    (list, Nil)\n",
    "    ||> fold_back' id"
   ]
  },
  {
   "cell_type": "markdown",
   "metadata": {},
   "source": [
    "### distinct'"
   ]
  },
  {
   "cell_type": "code",
   "execution_count": null,
   "metadata": {
    "dotnet_interactive": {
     "language": "spiral"
    },
    "polyglot_notebook": {
     "kernelName": "spiral"
    }
   },
   "outputs": [],
   "source": [
    "inl distinct' forall t. (list : list' t) : list' t =\n",
    "    list'_types ()\n",
    "    backend_switch {\n",
    "        Gleam = fun () => $'!list |> list.unique' : list' t\n",
    "        Fsharp = fun () => list |> $'List.distinct' : list' t\n",
    "        Python = fun () =>\n",
    "            $'x = list(set(!list))'\n",
    "            $'x.sort(key=!list.index)'\n",
    "            $'x' : list' t\n",
    "    }"
   ]
  },
  {
   "cell_type": "code",
   "execution_count": null,
   "metadata": {
    "dotnet_interactive": {
     "language": "spiral"
    },
    "polyglot_notebook": {
     "kernelName": "spiral"
    }
   },
   "outputs": [
    {
     "data": {
      "text/plain": [
       ".py output (Python):\n",
       "{ name = __assert_eq; actual = UH0_1(v0='1', v1=UH0_1(v0='2', v1=UH0_1(v0='3', v1=UH0_0()))); expected = UH0_1(v0='1', v1=UH0_1(v0='2', v1=UH0_1(v0='3', v1=UH0_0()))) }\n",
       "\n",
       ".rs output:\n",
       "{ name = __assert_eq; actual = UH0_1(\"1\", UH0_1(\"2\", UH0_1(\"3\", UH0_0))); expected = UH0_1(\"1\", UH0_1(\"2\", UH0_1(\"3\", UH0_0))) }\n",
       "\n",
       ".ts output:\n",
       "{ name = __assert_eq; actual = UH0_1 (1, UH0_1 (2, UH0_1 (3, UH0_0))); expected = UH0_1 (1, UH0_1 (2, UH0_1 (3, UH0_0))) }\n",
       "\n",
       ".py output:\n",
       "{ name = __assert_eq; actual = UH0_1 (\"1\", UH0_1 (\"2\", UH0_1 (\"3\", UH0_0))); expected = UH0_1 (\"1\", UH0_1 (\"2\", UH0_1 (\"3\", UH0_0))) }\n",
       "\n",
       "\n",
       ".gleam output (Gleam):\n",
       "{compiling,\"/home/runner/work/spiral/polyglot/target/spiral_Eval/packages/2e777b20861374844430a440ccb06f513cf4a3aa93c29544551aa80b04df9fb8/build/dev/erlang/main/_gleam_artefacts/main.erl\"}\n",
       "{compiling,\"/home/runner/work/spiral/polyglot/target/spiral_Eval/packages/2e777b20861374844430a440ccb06f513cf4a3aa93c29544551aa80b04df9fb8/build/dev/erlang/main/_gleam_artefacts/main@@main.erl\"}\n",
       "{compiled,main,\n",
       "          \"/home/runner/work/spiral/polyglot/target/spiral_Eval/packages/2e777b20861374844430a440ccb06f513cf4a3aa93c29544551aa80b04df9fb8/build/dev/erlang/main/ebin/main.beam\"}\n",
       "{compiled,main@@main,\n",
       "          \"/home/runner/work/spiral/polyglot/target/spiral_Eval/packages/2e777b20861374844430a440ccb06f513cf4a3aa93c29544551aa80b04df9fb8/build/dev/erlang/main/ebin/main@@main.beam\"}\n",
       "{ name = __assert_eq; actual = Uh0i1(\"1\", Uh0i1(\"2\", Uh0i1(\"3\", Uh0i0))); expected = Uh0i1(\"1\", Uh0i1(\"2\", Uh0i1(\"3\", Uh0i0))) }\n",
       "\n",
       "\n"
      ]
     },
     "metadata": {},
     "output_type": "display_data"
    },
    {
     "name": "stdout",
     "output_type": "stream",
     "text": [
      ".fsx output:\n",
      "{ name = __assert_eq; actual = UH0_1 (\"1\", UH0_1 (\"2\", UH0_1 (\"3\", UH0_0))); expected = UH0_1 (\"1\", UH0_1 (\"2\", UH0_1 (\"3\", UH0_0))) }\n"
     ]
    }
   ],
   "source": [
    "//// test\n",
    "///! gleam\n",
    "///! fsharp\n",
    "///! rust\n",
    "///! cuda\n",
    "///! typescript\n",
    "///! python\n",
    "\n",
    "[ \"1\"; \"2\"; \"2\"; \"3\" ]\n",
    "|> box\n",
    "|> distinct'\n",
    "|> unbox\n",
    "|> _assert_eq [ \"1\"; \"2\"; \"3\" ]"
   ]
  },
  {
   "cell_type": "markdown",
   "metadata": {},
   "source": [
    "### to_array'"
   ]
  },
  {
   "cell_type": "code",
   "execution_count": null,
   "metadata": {
    "dotnet_interactive": {
     "language": "spiral"
    },
    "polyglot_notebook": {
     "kernelName": "spiral"
    }
   },
   "outputs": [],
   "source": [
    "inl to_array' forall t. (items : list' t) : array_base t =\n",
    "    backend_switch {\n",
    "        Fsharp = fun () => items |> $'List.toArray' : array_base t\n",
    "        Python = fun () => $'(cp if cuda else np).array(!items)' : array_base t\n",
    "    }"
   ]
  }
 ],
 "metadata": {},
 "nbformat": 4,
 "nbformat_minor": 5
}