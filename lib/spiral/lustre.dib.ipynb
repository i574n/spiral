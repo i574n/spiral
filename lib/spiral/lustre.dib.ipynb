{
 "cells": [
  {
   "cell_type": "markdown",
   "metadata": {},
   "source": [
    "# lustre"
   ]
  },
  {
   "cell_type": "code",
   "execution_count": null,
   "metadata": {
    "dotnet_interactive": {
     "language": "fsharp"
    },
    "polyglot_notebook": {
     "kernelName": "fsharp"
    }
   },
   "outputs": [],
   "source": [
    "#!import ../../../polyglot/lib/fsharp/NotebooksHtml.dib"
   ]
  },
  {
   "cell_type": "markdown",
   "metadata": {},
   "source": [
    "## lustre"
   ]
  },
  {
   "cell_type": "markdown",
   "metadata": {},
   "source": [
    "### attribute"
   ]
  },
  {
   "cell_type": "code",
   "execution_count": null,
   "metadata": {
    "dotnet_interactive": {
     "language": "spiral"
    },
    "polyglot_notebook": {
     "kernelName": "spiral"
    }
   },
   "outputs": [],
   "source": [
    "nominal attribute t =\n",
    "    `(\n",
    "        backend_switch `(()) `({}) {\n",
    "            Gleam = (fun () => global \"import lustre/internals/vdom\") : () -> ()\n",
    "        }\n",
    "        $'' : $'vdom.Attribute(`t)'\n",
    "    )"
   ]
  },
  {
   "cell_type": "markdown",
   "metadata": {},
   "source": [
    "### element"
   ]
  },
  {
   "cell_type": "code",
   "execution_count": null,
   "metadata": {
    "dotnet_interactive": {
     "language": "spiral"
    },
    "polyglot_notebook": {
     "kernelName": "spiral"
    }
   },
   "outputs": [],
   "source": [
    "nominal element t =\n",
    "    `(\n",
    "        backend_switch `(()) `({}) {\n",
    "            Gleam = (fun () => global \"import lustre/element\") : () -> ()\n",
    "        }\n",
    "        $'' : $'element.Element(`t)'\n",
    "    )"
   ]
  },
  {
   "cell_type": "markdown",
   "metadata": {},
   "source": [
    "### text"
   ]
  },
  {
   "cell_type": "code",
   "execution_count": null,
   "metadata": {
    "dotnet_interactive": {
     "language": "spiral"
    },
    "polyglot_notebook": {
     "kernelName": "spiral"
    }
   },
   "outputs": [],
   "source": [
    "inl text forall t. (text : string) : element t =\n",
    "    global \"import lustre/element/html\"\n",
    "    $'element.text(!text)'"
   ]
  },
  {
   "cell_type": "markdown",
   "metadata": {},
   "source": [
    "### on_click"
   ]
  },
  {
   "cell_type": "code",
   "execution_count": null,
   "metadata": {
    "dotnet_interactive": {
     "language": "spiral"
    },
    "polyglot_notebook": {
     "kernelName": "spiral"
    }
   },
   "outputs": [],
   "source": [
    "inl on_click forall t. (msg : t) : attribute t =\n",
    "    global \"import lustre/event\"\n",
    "    $'event.on_click(!msg)'"
   ]
  },
  {
   "cell_type": "markdown",
   "metadata": {},
   "source": [
    "### style"
   ]
  },
  {
   "cell_type": "code",
   "execution_count": null,
   "metadata": {
    "dotnet_interactive": {
     "language": "spiral"
    },
    "polyglot_notebook": {
     "kernelName": "spiral"
    }
   },
   "outputs": [],
   "source": [
    "inl style forall t. (styles : list (string * string)) : attribute t =\n",
    "    global \"import lustre/attribute\"\n",
    "    inl styles = styles |> listm'.box\n",
    "    $'attribute.style(!styles)'"
   ]
  },
  {
   "cell_type": "markdown",
   "metadata": {},
   "source": [
    "### div"
   ]
  },
  {
   "cell_type": "code",
   "execution_count": null,
   "metadata": {
    "dotnet_interactive": {
     "language": "spiral"
    },
    "polyglot_notebook": {
     "kernelName": "spiral"
    }
   },
   "outputs": [],
   "source": [
    "inl div forall t. (attributes : list (attribute t)) (children : list (element t)) : element t =\n",
    "    global \"import lustre/element/html\"\n",
    "    inl attributes = attributes |> listm'.box\n",
    "    inl children = children |> listm'.box\n",
    "    $'html.div(!attributes, !children)'"
   ]
  },
  {
   "cell_type": "markdown",
   "metadata": {},
   "source": [
    "### p"
   ]
  },
  {
   "cell_type": "code",
   "execution_count": null,
   "metadata": {
    "dotnet_interactive": {
     "language": "spiral"
    },
    "polyglot_notebook": {
     "kernelName": "spiral"
    }
   },
   "outputs": [],
   "source": [
    "inl p forall t. (attributes : list (attribute t)) (children : list (element t)) : element t =\n",
    "    global \"import lustre/element/html\"\n",
    "    inl attributes = attributes |> listm'.box\n",
    "    inl children = children |> listm'.box\n",
    "    $'html.p(!attributes, !children)'"
   ]
  },
  {
   "cell_type": "markdown",
   "metadata": {},
   "source": [
    "### button"
   ]
  },
  {
   "cell_type": "code",
   "execution_count": null,
   "metadata": {
    "dotnet_interactive": {
     "language": "spiral"
    },
    "polyglot_notebook": {
     "kernelName": "spiral"
    }
   },
   "outputs": [],
   "source": [
    "inl button forall t. (attributes : list (attribute t)) (children : list (element t)) : element t =\n",
    "    global \"import lustre/ui/button\"\n",
    "    inl attributes = attributes |> listm'.box\n",
    "    inl children = children |> listm'.box\n",
    "    $'button.button(!attributes, !children)'"
   ]
  },
  {
   "cell_type": "markdown",
   "metadata": {},
   "source": [
    "### centre"
   ]
  },
  {
   "cell_type": "code",
   "execution_count": null,
   "metadata": {
    "dotnet_interactive": {
     "language": "spiral"
    },
    "polyglot_notebook": {
     "kernelName": "spiral"
    }
   },
   "outputs": [],
   "source": [
    "inl centre forall t. (attributes : list (attribute t)) (children : element t) : element t =\n",
    "    global \"import lustre/ui/centre\"\n",
    "    inl attributes = attributes |> listm'.box\n",
    "    $'centre.centre(!attributes, !children)'"
   ]
  },
  {
   "cell_type": "markdown",
   "metadata": {},
   "source": [
    "### app"
   ]
  },
  {
   "cell_type": "code",
   "execution_count": null,
   "metadata": {
    "dotnet_interactive": {
     "language": "spiral"
    },
    "polyglot_notebook": {
     "kernelName": "spiral"
    }
   },
   "outputs": [],
   "source": [
    "nominal app model msg = $'lustre.App(`model, `model, `msg)'"
   ]
  },
  {
   "cell_type": "markdown",
   "metadata": {},
   "source": [
    "### simple"
   ]
  },
  {
   "cell_type": "code",
   "execution_count": null,
   "metadata": {
    "dotnet_interactive": {
     "language": "spiral"
    },
    "polyglot_notebook": {
     "kernelName": "spiral"
    }
   },
   "outputs": [],
   "source": [
    "inl simple forall model msg.\n",
    "    (init : model -> model)\n",
    "    (update : model * msg -> model)\n",
    "    (view : model -> element msg)\n",
    "    : app model msg\n",
    "    =\n",
    "    global \"import lustre\"\n",
    "    $'lustre.simple(!init, fn (a, b) { !update(\\#(a, b)) }, !view)'"
   ]
  },
  {
   "cell_type": "markdown",
   "metadata": {},
   "source": [
    "### start"
   ]
  },
  {
   "cell_type": "code",
   "execution_count": null,
   "metadata": {
    "dotnet_interactive": {
     "language": "spiral"
    },
    "polyglot_notebook": {
     "kernelName": "spiral"
    }
   },
   "outputs": [],
   "source": [
    "inl start id app =\n",
    "    $'let assert Ok(_) = lustre.start(!app, !id, 0)' : ()"
   ]
  },
  {
   "cell_type": "markdown",
   "metadata": {},
   "source": [
    "## counter"
   ]
  },
  {
   "cell_type": "markdown",
   "metadata": {},
   "source": [
    "### model"
   ]
  },
  {
   "cell_type": "code",
   "execution_count": null,
   "metadata": {
    "dotnet_interactive": {
     "language": "spiral"
    },
    "polyglot_notebook": {
     "kernelName": "spiral"
    }
   },
   "outputs": [],
   "source": [
    "type model = int"
   ]
  },
  {
   "cell_type": "markdown",
   "metadata": {},
   "source": [
    "### init"
   ]
  },
  {
   "cell_type": "code",
   "execution_count": null,
   "metadata": {
    "dotnet_interactive": {
     "language": "spiral"
    },
    "polyglot_notebook": {
     "kernelName": "spiral"
    }
   },
   "outputs": [],
   "source": [
    "inl init initial_count : model =\n",
    "    if initial_count < 0\n",
    "    then 0\n",
    "    else initial_count"
   ]
  },
  {
   "cell_type": "markdown",
   "metadata": {},
   "source": [
    "### msg"
   ]
  },
  {
   "cell_type": "code",
   "execution_count": null,
   "metadata": {
    "dotnet_interactive": {
     "language": "spiral"
    },
    "polyglot_notebook": {
     "kernelName": "spiral"
    }
   },
   "outputs": [],
   "source": [
    "union msg =\n",
    "    | Incr\n",
    "    | Decr"
   ]
  },
  {
   "cell_type": "markdown",
   "metadata": {},
   "source": [
    "### update"
   ]
  },
  {
   "cell_type": "code",
   "execution_count": null,
   "metadata": {
    "dotnet_interactive": {
     "language": "spiral"
    },
    "polyglot_notebook": {
     "kernelName": "spiral"
    }
   },
   "outputs": [],
   "source": [
    "inl update n (model, msg) =\n",
    "    match msg with\n",
    "    | Incr => model + n\n",
    "    | Decr => model - n"
   ]
  },
  {
   "cell_type": "markdown",
   "metadata": {},
   "source": [
    "### view"
   ]
  },
  {
   "cell_type": "code",
   "execution_count": null,
   "metadata": {
    "dotnet_interactive": {
     "language": "spiral"
    },
    "polyglot_notebook": {
     "kernelName": "spiral"
    }
   },
   "outputs": [],
   "source": [
    "inl view model =\n",
    "    div [\n",
    "        style [\n",
    "            \"display\", \"flex\"\n",
    "        ]\n",
    "    ] [\n",
    "        div [\n",
    "            style [\n",
    "                \"display\", \"flex\"\n",
    "                \"flex-direction\", \"column\"\n",
    "            ]\n",
    "        ] [\n",
    "            button [\n",
    "                on_click Incr\n",
    "            ] [\n",
    "                text \"+\"\n",
    "            ]\n",
    "            p [\n",
    "                style [\n",
    "                    \"text-align\", \"center\"\n",
    "                ]\n",
    "            ] [\n",
    "                model |> sm'.obj_to_string |> text\n",
    "            ]\n",
    "            button [\n",
    "                on_click Decr\n",
    "            ] [\n",
    "                text \"-\"\n",
    "            ]\n",
    "        ]\n",
    "    ]"
   ]
  },
  {
   "cell_type": "markdown",
   "metadata": {},
   "source": [
    "## tests"
   ]
  },
  {
   "cell_type": "code",
   "execution_count": null,
   "metadata": {
    "dotnet_interactive": {
     "language": "spiral"
    },
    "polyglot_notebook": {
     "kernelName": "spiral"
    }
   },
   "outputs": [
    {
     "data": {
      "text/html": [
       "<!doctype html><html lang=en><meta charset=UTF-8><meta content=\"width=device-width,initial-scale=1.0\" name=viewport><style>@layer reset{*,:after,:before{box-sizing:border-box;border:0 solid #e2e8f0}:host,html{-webkit-text-size-adjust:100%;-moz-tab-size:4;-o-tab-size:4;tab-size:4;font-feature-settings:normal;font-variation-settings:normal;-webkit-tap-highlight-color:transparent;line-height:1.5}body{line-height:inherit;margin:0}hr{height:0;color:inherit;border-top-width:1px}abbr:where([title]){text-decoration:underline dotted}h1,h2,h3,h4,h5,h6{font-size:inherit;font-weight:inherit}a{color:inherit;text-decoration:inherit}b,strong{font-weight:bolder}code,kbd,pre,samp{font-feature-settings:normal;font-variation-settings:normal;font-family:ui-monospace,SFMono-Regular,Menlo,Monaco,Consolas,Liberation Mono,Courier New,monospace;font-size:1em}small{font-size:80%}sub,sup{vertical-align:baseline;font-size:75%;line-height:0;position:relative}sub{bottom:-.25em}sup{top:-.5em}table{text-indent:0;border-color:inherit;border-collapse:collapse}button,input,optgroup,select,textarea{font-feature-settings:inherit;font-variation-settings:inherit;font-family:inherit;font-size:100%;font-weight:inherit;line-height:inherit;letter-spacing:inherit;color:inherit;margin:0;padding:0}button,select{text-transform:none}button,input:where([type=button]),input:where([type=reset]),input:where([type=submit]){-webkit-appearance:button;background-color:#0000;background-image:none}:-moz-focusring{outline:auto}:-moz-ui-invalid{box-shadow:none}progress{vertical-align:baseline}::-webkit-inner-spin-button,::-webkit-outer-spin-button{height:auto}[type=search]{-webkit-appearance:textfield;outline-offset:-2px}::-webkit-search-decoration{-webkit-appearance:none}::-webkit-file-upload-button{-webkit-appearance:button;font:inherit}summary{display:list-item}blockquote,dd,dl,figure,h1,h2,h3,h4,h5,h6,hr,p,pre,fieldset{margin:0}fieldset,legend{padding:0}menu,ol,ul{margin:0;padding:0;list-style:none}dialog{padding:0}textarea{resize:vertical}input::-moz-placeholder,textarea::-moz-placeholder{opacity:1;color:#94a3b8}input::placeholder,textarea::placeholder{opacity:1;color:#94a3b8}[role=button],button{cursor:pointer}:disabled{cursor:default}audio,canvas,embed,iframe,img,object,svg,video{vertical-align:middle;display:block}img,video{max-width:100%;height:auto}[hidden]:where(:not([hidden=until-found])){display:none}}@layer primitives{lustre-ui-popover{--gap:var(--lustre-ui-spacing-sm);display:inline;position:relative;&>[slot]{display:contents}&::part(popover-content){z-index:999;transition-property:opacity,transform;transition-duration:.15s;transition-timing-function:cubic-bezier(.4,0,.2,1);display:block;position:absolute;top:0;left:0}&[anchor|=top]{--translate-x:0;&::part(popover-content){padding-bottom:var(--gap);transform:translate(var(--translate-x),-100%)}&[equal-width]::part(popover-content){right:0;--translate-x:0!important;left:0!important}&[anchor=top-left]::part(popover-content){left:0}&[anchor=top-middle]::part(popover-content){--translate-x:-50%;left:50%}&[anchor=top-right]::part(popover-content){--translate-x:-100%;left:100%}&:state(will-expand)::part(popover-content){transform:translate(var(--translate-x),-90%)}&:state(collapsing)::part(popover-content){transform:translate(var(--translate-x),-90%)}}&[anchor|=right]{--translate-y:0;&::part(popover-content){padding-left:var(--gap);transform:translate(0,var(--translate-y));left:100%}&[anchor=right-top]::part(popover-content){top:0}&[anchor=right-middle]::part(popover-content){--translate-y:-50%;top:50%}&[anchor=right-bottom]::part(popover-content){--translate-y:-100%;top:100%}&:state(will-expand)::part(popover-content){transform:translate(-10%,var(--translate-y))}&:state(collapsing)::part(popover-content){transform:translate(-10%,var(--translate-y))}}&[anchor|=bottom]{--translate-x:0;&::part(popover-content){top:unset;padding-top:var(--gap);transform:translate(var(--translate-x),0)}&[equal-width]::part(popover-content){right:0;--translate-x:0!important;left:0!important}&[anchor=bottom-left]::part(popover-content){left:0}&[anchor=bottom-middle]::part(popover-content){--translate-x:-50%;left:50%}&[anchor=bottom-right]::part(popover-content){--translate-x:-100%;left:100%}&:state(will-expand)::part(popover-content){transform:translate(var(--translate-x),-10%)}&:state(collapsing)::part(popover-content){transform:translate(var(--translate-x),-10%)}}&[anchor|=left]{--translate-y:0;&::part(popover-content){padding-right:var(--gap);transform:translate(-100%,var(--translate-y))}&[anchor=left-top]::part(popover-content){top:0}&[anchor=left-middle]::part(popover-content){--translate-y:-50%;top:50%}&[anchor=left-bottom]::part(popover-content){--translate-y:-100%;top:100%}&:state(will-expand)::part(popover-content){transform:translate(-90%,var(--translate-y))}&:state(collapsing)::part(popover-content){transform:translate(-90%,var(--translate-y))}}&:state(will-expand)::part(popover-content){opacity:0}&:state(expanded)::part(popover-content){opacity:100}&:state(will-collapse)::part(popover-content){opacity:100}&:state(collapsing)::part(popover-content){opacity:0}&:state(collapsed)::part(popover-content){display:none}}:where(.lustre-ui-icon){width:1rem;height:1rem}lustre-ui-collapse{--duration:.15s;display:block;&::part(collapse-content){transition-duration:var(--duration);transition-property:height;transition-timing-function:cubic-bezier(.4,0,.2,1);overflow-y:hidden}}}@layer components{.lustre-ui-input{--border:rgb(var(--lustre-ui-accent));--border-focus:rgb(var(--lustre-ui-primary-solid));--border-width:1px;--padding-y:var(--lustre-ui-spacing-sm);--radius:var(--lustre-ui-radius-sm);background-color:rgb(var(--lustre-ui-base-bg-subtle));padding:var(--padding-y);outline-offset:0;border-radius:var(--radius);outline:var(--border-width)solid var(--border);&:focus{outline-color:var(--border-focus)}&:invalid{outline-color:rgb(var(--lustre-ui-danger-solid))}}.lustre-ui-input-container{align-items:center;display:flex;position:relative;&:has(*+input)>input{padding-left:2rem}&:has(input+*)>input{padding-right:2rem}&:has(*+input)>:not(input){left:.5rem}&>input+*{right:.5rem;left:unset!important}&>:not(input){pointer-events:none;width:1rem;height:1rem;position:absolute}}.lustre-ui-divider{--colour:rgb(var(--lustre-ui-accent));--gap:var(--lustre-ui-spacing-sm);--margin:0;--size-x:2px;--size-y:0;&:empty{border-color:var(--colour);border-right-width:var(--size-y);border-style:solid;border-top-width:var(--size-x);margin:var(--margin)0;align-self:stretch}&:not(:empty){align-self:stretch;align-items:center;gap:var(--gap);margin:var(--margin)0;justify-items:center;display:flex;&:before,&:after{background-color:var(--colour);content:\"\";height:var(--size-x);width:var(--size-y);flex-grow:1;display:block}}}lustre-ui-combobox{--padding-x:var(--lustre-ui-spacing-sm);--padding-y:var(--lustre-ui-spacing-sm);--border-width:1px;--radius:var(--lustre-ui-radius-sm);display:inline-block;&::part(combobox-trigger){border-radius:var(--radius);border:rgb(var(--lustre-ui-accent))solid var(--border-width);color:rgb(var(--lustre-ui-text));align-items:center;gap:var(--padding-x);outline-offset:2px;padding:var(--padding-y)var(--padding-x);outline:2px solid #0000;width:100%;display:flex}&:state(trigger-focus)::part(combobox-trigger){border-color:rgb(var(--lustre-ui-primary-solid))}&:state(empty)::part(combobox-trigger){color:rgb(var(--lustre-ui-text-subtle))}&::part(combobox-trigger-label){text-align:left;flex:1}&::part(combobox-trigger-icon){border-radius:var(--radius);width:1.5rem;height:1.5rem;padding:.25rem;transition-property:transform;transition-duration:.15s;transition-timing-function:cubic-bezier(.4,0,.2,1);transform:rotate(0)}&:state(expanded)::part(combobox-trigger-icon){transform:rotate(-180deg)}&:is(:hover,:state(trigger-focus),:state(expanded))::part(combobox-trigger-icon){background-color:rgb(var(--lustre-ui-tint-subtle))}&::part(combobox-options){background-color:rgb(var(--lustre-ui-bg));border:rgb(var(--lustre-ui-accent))solid var(--border-width);border-radius:var(--radius)}&::part(combobox-input){border:none}&::part(combobox-option){cursor:pointer;padding:var(--padding-y)var(--padding-x);align-items:baseline;gap:var(--padding-x);display:flex}&::part(combobox-option last){border-bottom-left-radius:var(--radius);border-bottom-right-radius:var(--radius)}&::part(combobox-option intent){background-color:rgb(var(--lustre-ui-tint-subtle))}}.lustre-ui-checkbox{--background:transparent;--background-hover:transparent;--border:rgb(var(--lustre-ui-accent));--border-hover:rgb(var(--lustre-ui-accent-strong));--border-width:1px;--size:1rem;--check-color:rgb(var(--lustre-ui-solid-text));appearance:none;background-color:var(--background);border:var(--border-width)solid var(--border);border-radius:var(--lustre-ui-radius-sm);cursor:pointer;height:var(--size);width:var(--size);place-content:center;margin:0;display:grid;&:before{background-color:var(--check-color);clip-path:polygon(16% 44%,10% 55%,45% 90%,90% 16%,80% 10%,45% 60%);content:\"\";height:calc(var(--size)*.6);transform-origin:50%;width:calc(var(--size)*.6);transition:transform .15s cubic-bezier(.4,0,.2,1);transform:scale(0)}&:checked{background-color:rgb(var(--lustre-ui-solid));border-color:#0000}&:checked:before{transform:scale(1)}}.lustre-ui-card{--background:rgb(var(--lustre-ui-bg));--border:rgb(var(--lustre-ui-accent-subtle));--border-width:1px;--padding-x:var(--lustre-ui-spacing-xl);--padding-y:var(--lustre-ui-spacing-xl);--radius:var(--lustre-ui-radius-md);background:var(--background);border:var(--border-width)solid var(--border);border-radius:var(--radius);&>*{padding-top:0;padding:var(--padding-y)var(--padding-x)}&>.card-header{flex-direction:column;display:flex}&>.card-footer{align-items:center;display:flex}}.lustre-ui-button{--background:rgb(var(--lustre-ui-tint));--background-hover:rgb(var(--lustre-ui-tint-strong));--border:transparent;--border-hover:transparent;--border-width:1px;--height:2rem;--height-min:2rem;--padding-x:var(--lustre-ui-spacing-sm);--radius:var(--lustre-ui-radius-sm);--text:rgb(var(--lustre-ui-text));background-color:var(--background);border:var(--border-width)solid var(--border);border-radius:var(--radius);color:var(--text);align-items:center;gap:var(--padding-x);min-height:var(--height-min);padding-left:var(--padding-x);padding-right:var(--padding-x);white-space:nowrap;justify-content:center;display:inline-flex;&:disabled{pointer-events:none;opacity:.5;cursor:default}&:hover,&:focus{outline-offset:2px;background-color:var(--background-hover);border-color:var(--border-hover);outline:2px solid #0000}&:active{transform:translateY(1px)}&:is(a){text-decoration:none;&:visited{color:var(--text)}}&.button-icon{--height:2rem;width:var(--height);&>svg{width:100%;height:100%}}&.button-small{--height:2rem;--padding-x:var(--lustre-ui-spacing-sm)}&.button-medium{--height:2.25rem;--padding-x:var(--lustre-ui-spacing-md)}&.button-large{--height:2.5rem;--padding-x:var(--lustre-ui-spacing-lg)}&.button-clear{--background:transparent;--background-hover:rgb(var(--lustre-ui-tint));--border:transparent;--border-hover:transparent;--text:rgb(var(--lustre-ui-text))}&.button-outline{--background:transparent;--background-hover:transparent;--border:rgb(var(--lustre-ui-accent));--border-hover:rgb(var(--lustre-ui-accent-strong));--text:rgb(var(--lustre-ui-text))}&.button-soft{--background:rgb(var(--lustre-ui-tint));--background-hover:rgb(var(--lustre-ui-tint-strong));--border:transparent;--border-hover:transparent;--text:rgb(var(--lustre-ui-text))}&.button-solid{--background:rgb(var(--lustre-ui-solid));--background-hover:rgb(var(--lustre-ui-solid)/.8);--border:transparent;--border-hover:transparent;--text:rgb(var(--lustre-ui-solid-text))}& .button-badge{border:1px solid var(--text);border-radius:var(--radius);margin:0 calc(-1*var(--padding-x)/2);align-items:center;padding:0 1ch;font-size:.625em;display:inline-flex;& .key+.key:before{content:var(--separator,\"\")}& .icon{width:1em;height:1em}}}.lustre-ui-breadcrumb{--gap:var(--lustre-ui-spacing-xs);--text-hover:rgb(var(--lustre-ui-text));--text:rgb(var(--lustre-ui-text-subtle));color:var(--text);align-items:center;gap:var(--gap);flex-wrap:wrap;display:flex;&>.breadcrumb-item{align-items:center;gap:var(--gap);display:inline-flex;&[aria-current=page],&:hover{color:var(--text-hover)}}&>.breadcrumb-separator{user-select:none;pointer-events:none;&>svg{width:1rem;height:1rem}}&>.breadcrumb-ellipsis{user-select:none;justify-content:center;align-items:center;width:2rem;height:2rem;display:flex;&>svg{width:1rem;height:1rem}&>:not(svg){clip:rect(0,0,0,0);white-space:nowrap;border-width:0;width:1px;height:1px;margin:-1px;padding:0;position:absolute;overflow:hidden}}}.lustre-ui-badge{--background:transparent;--background-hover:transparent;--border:rgb(var(--lustre-ui-accent));--border-hover:rgb(var(--lustre-ui-accent-strong));--padding-x:var(--lustre-ui-spacing-sm);--padding-y:var(--lustre-ui-spacing-xs);--radius:var(--lustre-ui-radius-sm);--text:rgb(var(--lustre-ui-text));border:1px solid var(--border);border-radius:var(--radius);background-color:var(--background);color:var(--text);padding:var(--padding-y)var(--padding-x);align-items:center;display:inline-flex;&:is(a,button,[tabindex]):is(:hover,:focus){background-color:var(--background-hover);border-color:var(--border-hover);cursor:pointer}&:active{transform:translateY(1px)}&:empty{padding:max(var(--padding-y),var(--padding-x));border-radius:100%}&.badge-outline{--background:transparent;--background-hover:transparent;--border:rgb(var(--lustre-ui-accent));--border-hover:rgb(var(--lustre-ui-accent-strong));--text:rgb(var(--lustre-ui-text))}&.badge-soft{--background:rgb(var(--lustre-ui-tint));--background-hover:rgb(var(--lustre-ui-tint-strong));--border:transparent;--border-hover:transparent;--text:rgb(var(--lustre-ui-text))}&.badge-solid{--background:rgb(var(--lustre-ui-solid));--background-hover:rgb(var(--lustre-ui-solid)/.8);--border:transparent;--border-hover:transparent;--text:rgb(var(--lustre-ui-solid-text))}}.lustre-ui-alert{--background:rgb(var(--lustre-ui-bg));--border:rgb(var(--lustre-ui-accent));--indicator-size:16px;--padding-x:var(--lustre-ui-spacing-lg);--padding-y:var(--lustre-ui-spacing-md);--radius:0;--text:rgb(var(--lustre-ui-text));--title-margin:var(--padding-y);--title-weight:500;background-color:var(--background);border-radius:var(--radius);border:1px solid var(--border);color:var(--text);padding:var(--padding-y)var(--padding-x);width:full;flex-direction:column;display:flex;position:relative;&>.alert-indicator{width:var(--indicator-size);height:var(--indicator-size);position:absolute}&>.alert-title{font-weight:var(--title-weight);text-overflow:ellipsis;margin-block-end:var(--title-margin);overflow:clip}&:has(.alert-indicator)>:not(.alert-indicator){padding-inline-start:calc(var(--indicator-size) + var(--padding-x))}}lustre-ui-accordion{--padding-x:var(--lustre-ui-spacing-sm);--padding-y:var(--lustre-ui-spacing-sm);--border:rbg(var(--lustre-ui-accent));--border-focus:rgb(var(--lustre-ui-primary-solid));--border-width:1px;--text:rgb(var(--lustre-ui-text));display:block;&::part(accordion-trigger){border-bottom:var(--border)solid var(--border-width);color:var(--text);align-items:center;gap:var(--padding-x);outline-offset:2px;padding:var(--padding-y)var(--padding-x);outline:2px solid #0000;width:100%;display:flex}&::part(accordion-trigger):focus{border-color:var(--border-focus)}&::part(accordion-trigger-label){text-align:left;flex:1}&::part(accordion-trigger-icon){border-radius:var(--radius);height:1.5rem;transition-duration:.15s;transition-property:color transform;width:1.5rem;padding:.25rem;transition-timing-function:cubic-bezier(.4,0,.2,1);transform:rotate(0)}&::part(accordion-trigger-icon expanded){transform:rotate(-180deg)}&::part(accordion-content){padding:var(--padding-y)var(--padding-x);display:block}}}</style><script type=module>let I=32,a2=`http://www.w3.org/1999/xhtml`,P=` `,A=4,W=`0`,i=7,Z=`on`,Y=`-`,a0=`input`,k=null,S=`\\\\r`,x=2,a5=`button`,Q=`\t`,g=8,C=`number`,K=`+`,_=`style`,M=`.`,z=31,E=`bigint`,L=``,X=`Object`,$=`class`,D=`string`,b=1,s=`object`,N=`.0`,a3=`data-lustre-key`,G=858993459,l=`function`,V=`\"`,B=16,R=`\\\\f`,T=`, `,a1=`lustre-fragment`,c=0,H=Array,p=Array.isArray,o=ArrayBuffer,n=Date,w=Function,O=Intl.Segmenter,a4=JSON.parse,m=Map,F=Math,y=Math.imul,h=Math.trunc,j=Object.getPrototypeOf,a=Object.keys,t=Promise,r=RegExp,q=Set,U=String,J=Symbol,d=Symbol.iterator,e=Uint8Array,v=WeakMap,u=WeakSet,f=globalThis;`use strict`;(()=>{var ce=((a,b,d)=>{let e,f=[{prev:a,next:b,parent:a.parentNode}];for(;f.length;){let {prev:a,next:b,parent:g}=f.pop();for(;b.subtree!==void c;)b=b.subtree();if(b.content!==void c)if(a)if(a.nodeType===Node.TEXT_NODE)a.textContent!==b.content&&(a.textContent=b.content),e??=a;else{let c=document.createTextNode(b.content);g.replaceChild(c,a),e??=c}else{let a=document.createTextNode(b.content);g.appendChild(a),e??=a}else if(b.tag!==void c){let c=cf({prev:a,next:b,dispatch:d,stack:f});a?a!==c&&g.replaceChild(c,a):g.appendChild(c),e??=c}};return e});var bb=((a,d)=>{let e=b3(a,d);if(e<c)return a;if(a.array.length!==b)return {type:aR,hash:a.hash,array:aZ(a.array,e)}});var bq=((a,b,c)=>c.set(a,b));var ah=((a,b)=>{ag[a]||(console.warn(`Deprecated BitArray.${a} property used in JavaScript FFI code. ${b}.`),ag[a]=!c)});var cw=((a,b,c)=>cv(b=>[a(b),bK()],(a,c)=>[b(a,c),bK()],c));var bg=(a=>a.toString());var bZ=(a=>new bL(a));var bI=((a,b,c)=>a?b:c());var aw=((a,c)=>typeof a!=s&&typeof c!=s&&(!a||!c)||[t,u,v,w].some(b=>a instanceof b)?!b:a.constructor===c.constructor);var aC=(a=>{let b=az.get(a);if(b!==void c)return b;let d=aB++;return aB===2147483647&&(aB=c),az.set(a,d),d});var bF=((a,b,d)=>bE(a,b,d,c));var b1=((a,d,e,f,g,h)=>{let i=aU(e,d),j=aW(a.bitmap,i);if((a.bitmap&i)!==c){let b=a.array[j];if(b.type!==aO){let c=a$(b,d+ aJ,e,f,g,h);return c===b?a:{type:aQ,bitmap:a.bitmap,array:aX(a.array,j,c)}};let i=b.k;return am(f,i)?g===b.v?a:{type:aQ,bitmap:a.bitmap,array:aX(a.array,j,{type:aO,k:f,v:g})}:(h.val=!c,{type:aQ,bitmap:a.bitmap,array:aX(a.array,j,a_(d+ aJ,i,b.v,e,f,g))})}else{let k=a.array.length;if(k>=aM){let i=new H(I),j=aT(e,d);i[j]=b1(aS,d+ aJ,e,f,g,h);let l=c,m=a.bitmap;for(let d=c;d<I;d++){if((m&b)!==c){let b=a.array[l++];i[d]=b};m=m>>>b};return {type:aP,size:k+ b,array:i}}else{let b=aY(a.array,j,{type:aO,k:f,v:g});return h.val=!c,{type:aQ,bitmap:a.bitmap|i,array:b}}}});var b5=((a,b,d,e)=>{let f=aT(d,b),g=a.array[f];if(g!==void c){if(g.type!==aO)return b4(g,b+ aJ,d,e);if(am(e,g.k))return g}});var aY=((a,d,e)=>{let f=a.length,g=new H(f+ b),h=c,i=c;for(;h<d;)g[i++]=a[h++];for(g[i++]=e;h<f;)g[i++]=a[h++];return g});var ap=((a,b)=>!(a instanceof ad)&&a.buffer instanceof o&&a.BYTES_PER_ELEMENT&&!(a.byteLength===b.byteLength&&a.every((a,c)=>a===b[c])));var ae=((a,d,e)=>{if(d===c)return a[e]??c;{let c=a[e]<<d&255,f=a[e+ b]>>g- d;return c|f}});var aI=(a=>{if(a===k)return 1108378658;if(a===void c)return 1108378659;if(a===!c)return 1108378657;if(a===!b)return 1108378656;switch(typeof a){case C:return aF(a);case D:return aE(a);case E:return aG(a);case s:return aH(a);case `symbol`:return aC(a);case l:return aC(a);default:return c}});var cA=((a,b)=>bY(a5,a,b));var am=((a,d)=>{let e=[a,d];for(;e.length;){let a=e.pop(),c=e.pop();if(a===c)continue;if(!av(a)||!av(c)||!aw(a,c)||ao(a,c)||ap(a,c)||aq(a,c)||ar(a,c)||at(a,c)||au(a,c))return !b;let d=j(a);if(d!==k&&typeof d.equals==l)try{if(a.equals(c))continue;return !b}catch{};let [f,g]=an(a);for(let b of f(a))e.push(g(a,b),g(c,b))};return !c});var cx=((a,b,c)=>bI(!cr(),new al(new cu),()=>co(a,b,c)));function*cl(a){for(let b of a.children)yield*cm(b)}var bW=(a=>bT($,a));var bH=(a=>{let b=br(a);return b});var aG=(a=>aE(a.toString()));var bx=(a=>`//utfcodepoint(${U.fromCodePoint(a.value)})`);var bc=((a,b)=>{if(a===void c)return;let d=a.array,e=d.length;for(let a=c;a<e;a++){let e=d[a];if(e!==void c){if(e.type===aO){b(e.v,e.k);continue};bc(e,b)}}});var aD=((a,b)=>a^b+ 2654435769+ (a<<6)+ (a>>x)|c);var b8=((a,b,c,d)=>{switch(a.type){case aP:return b9(a,b,c,d);case aQ:return ba(a,b,c,d);case aR:return bb(a,d)}});var b6=((a,b,d,e)=>{let f=aU(d,b);if((a.bitmap&f)===c)return;let g=aW(a.bitmap,f),h=a.array[g];if(h.type!==aO)return b4(h,b+ aJ,d,e);if(am(e,h.k))return h});var aZ=((a,d)=>{let e=a.length,f=new H(e- b),g=c,h=c;for(;g<d;)f[h++]=a[g++];for(++g;g<e;)f[h++]=a[g++];return f});var a9=((a,b)=>a7.fromArray(a,b));var ar=((a,b)=>a instanceof m&&a.size!==b.size);var bS=(a=>bR(a,bo(),W));var cj=(a=>{let b=new m;if(a)for(let c of cl(a)){let a=c?.key||c?.getAttribute?.(a3);a&&b.set(a,c)};return b});var b3=((a,d)=>{let e=a.array.length;for(let b=c;b<e;b++)if(am(d,a.array[b].k))return b;return -b});var c3=(a=>am(a.created,bo())&&am(a.removed,b$())&&am(a.updated,bo()));var bT=((a,c)=>new bN(a,c,!b));var bz=((a,b,c)=>bq(b,c,a));var bh=(a=>{let b=a.toString().replace(K,L);if(b.indexOf(M)>=c)return b;{let a=b.indexOf(`e`);return a>=c?b.slice(c,a)+ N+ b.slice(a):b+ N}});var cJ=(()=>a=>{let d=a[c][c],e=a[c][b];return a=>e instanceof cG?d+ b:d- b});var bV=(a=>bT(_,bD(a,L,(a,d)=>{let e=d[c],f=d[b];return a+ e+ `:`+ f+ `;`})));var bp=(a=>a7.fromArray(a.entries()));var br=(a=>{let d=typeof a;if(a===!c)return `True`;if(a===!b)return `False`;if(a===k)return `//js(null)`;if(a===void c)return `Nil`;if(d===D)return bs(a);if(d===E||Number.isInteger(a))return a.toString();if(d===C)return bh(a);if(p(a))return `#(${a.map(br).join(T)})`;if(a instanceof a7)return bw(a);if(a instanceof af)return bx(a);if(a instanceof ad)return `<<${by(a,L)}>>`;if(a instanceof a6)return bv(a);if(a instanceof bd)return bt(a);if(a instanceof q)return `//js(Set(${[...a].map(br).join(T)}))`;if(a instanceof r)return `//js(${a})`;if(a instanceof n)return `//js(Date(\"${a.toISOString()}\"))`;if(a instanceof w){let b=[];for(let c of H(a.length).keys())b.push(U.fromCharCode(c+ 97));return `//fn(${b.join(T)}) { ... }`};return bu(a)});var ba=((a,b,d,e)=>{let f=aU(d,b);if((a.bitmap&f)===c)return a;let g=aW(a.bitmap,f),h=a.array[g];if(h.type!==aO){let i=b8(h,b+ aJ,d,e);return i===h?a:i!==void c?{type:aQ,bitmap:a.bitmap,array:aX(a.array,g,i)}:a.bitmap===f?void c:{type:aQ,bitmap:a.bitmap^f,array:aZ(a.array,g)}};return am(e,h.k)?a.bitmap===f?void c:{type:aQ,bitmap:a.bitmap^f,array:aZ(a.array,g)}:a});var b9=((a,d,e,f)=>{let g=aT(e,d),h=a.array[g];if(h===void c)return a;let i;if(h.type===aO){if(!am(h.k,f))return a}else if(i=b8(h,d+ aJ,e,f),i===h)return a;if(i===void c){if(a.size<=aN){let d=a.array,e=new H(a.size- b),f=c,h=c,i=c;for(;f<g;){let a=d[f];a!==void c&&(e[h]=a,i|=b<<f,++h),++f};for(++f;f<d.length;){let a=d[f];a!==void c&&(e[h]=a,i|=b<<f,++h),++f};return {type:aQ,bitmap:i,array:e}};return {type:aP,size:a.size- b,array:aX(a.array,g,i)}};return {type:aP,size:a.size,array:aX(a.array,g,i)}});var cI=(()=>a=>{let b=a[c];return a=>b<c?c:b});var cy=((a,b)=>bY(`div`,a,b));var av=(a=>typeof a==s&&a!==k);var bU=((a,b)=>new bO(Z+ a,b));var bw=(a=>`[${a.toArray().map(br).join(T)}]`);var aT=((a,b)=>a>>>b&aL);var cL=(()=>{let a=a=>cI()([a])(void c),b=a=>cJ()([a])(void c),d=cw(a,(a,c)=>b([a,c]),a=>cK()([a])(void c)),e=cx(d,`#app_fee2832075fbbc91bc47782335b7b5d8a9bad1d788da5e820be6c253326b7cb2`,c);if(!(e instanceof ak))throw ax(`let_assert`,cF,`main`,104,`method0`,`Pattern match failed, no pattern matched the value.`,{value:e,start:3700,end:3742,pattern_start:3711,pattern_end:3716})});var bR=((a,d,e)=>{for(;;){let f=a,g=d,h=e;if(f instanceof bL)return g;if(f instanceof bM){let a=f.attrs,d=f.children,e=bD(a,g,(a,d)=>{let e=bP(d);if(e instanceof ak){let d=e[c][c],f=e[c][b];return bz(a,h+ Y+ d,f)}else return a});return bQ(d,e,h)}else{let b=f.subtree;a=b(),d=g,e=h}}});var b2=((a,d,e,f,g,h)=>{if(e===a.hash){let d=b3(a,f);if(d!==-b)return a.array[d].v===g?a:{type:aR,hash:e,array:aX(a.array,d,{type:aO,k:f,v:g})};let i=a.array.length;return h.val=!c,{type:aR,hash:e,array:aX(a.array,i,{type:aO,k:f,v:g})}};return a$({type:aQ,bitmap:aU(a.hash,d),array:[a]},d,e,f,g,h)});var cf=(({prev:a,next:e,dispatch:f,stack:g})=>{let h=e.namespace||a2,i=a&&a.nodeType===Node.ELEMENT_NODE&&a.localName===e.tag&&a.namespaceURI===(e.namespace||a2),j=i?a:h?document.createElementNS(h,e.tag):document.createElement(e.tag),l;if(cg.has(j))l=cg.get(j);else{let a=new m;cg.set(j,a),l=a};let n=i?new q(l.keys()):k,o=i?new q(H.from(a.attributes,a=>a.name)):k,p=k,r=k,s=k;if(i&&e.tag===`textarea`){let a=e.children[d]().next().value?.content;a!==void c&&(j.value=a)};let t=[];for(let a of e.attrs){let d=a[c],e=a[b];if(a.as_property)j[d]!==e&&(j[d]=e),i&&o.delete(d);else if(d.startsWith(Z)){let a=d.slice(x),b=f(e,a===a0);l.has(a)||j.addEventListener(a,ch),l.set(a,b),i&&n.delete(a)}else if(d.startsWith(`data-lustre-on-`)){let a=d.slice(15),b=f(ci);l.has(a)||j.addEventListener(a,ch),l.set(a,b),j.setAttribute(d,e),i&&(n.delete(a),o.delete(d))}else d.startsWith(`delegate:data-`)||d.startsWith(`delegate:aria-`)?(j.setAttribute(d,e),t.push([d.slice(10),e])):d===$?(p=p===k?e:p+ P+ e):d===_?(r=r===k?e:r+ e):d===`dangerous-unescaped-html`?(s=e):(j.getAttribute(d)!==e&&j.setAttribute(d,e),(d===`value`||d===`selected`)&&(j[d]=e),i&&o.delete(d))};if(p!==k&&(j.setAttribute($,p),i&&o.delete($)),r!==k&&(j.setAttribute(_,r),i&&o.delete(_)),i){for(let a of o)j.removeAttribute(a);for(let a of n)l.delete(a),j.removeEventListener(a,ch)};if(e.tag===`slot`&&window.queueMicrotask(()=>{for(let a of j.assignedElements())for(let [b,c] of t)a.hasAttribute(b)||a.setAttribute(b,c)}),e.key!==void c&&e.key!==L)j.setAttribute(a3,e.key);else if(s!==k)return j.innerHTML=s,j;let u=j.firstChild,v=k,w=k,y=k,z=cl(e).next().value;if(i&&z!==void c&&z.key!==void c&&z.key!==L){v=new q,w=cj(a),y=cj(e);for(let a of cl(e))u=ck(u,a,j,g,y,w,v)}else for(let a of cl(e))g.unshift({prev:u,next:a,parent:j}),u=u?.nextSibling;for(;u;){let a=u.nextSibling;j.removeChild(u),u=a};return j});var aX=((a,b,d)=>{let e=a.length,f=new H(e);for(let b=c;b<e;++b)f[b]=a[b];return f[b]=d,f});var bu=(b=>{let c=j(b)?.constructor?.name||X,d=[];for(let c of a(b))d.push(`${br(c)}: ${br(b[c])}`);let e=d.length?P+ d.join(T)+ P:L;return `//js(${c===X?L:c+ P}{${e}})`});var bX=(a=>bT(`role`,a));var bQ=((a,b,c)=>bF(a,b,(a,b,d)=>{let e=c+ Y+ bg(d);return bR(b,a,e)}));var bA=((a,b)=>{for(;;){let c=a,d=b;if(c instanceof ab)return d;{let e=c.head;a=c.tail,b=a8(e,d)}}});var bv=(b=>{let c=a(b).map(a=>{let c=br(b[a]);return isNaN(parseInt(a))?`${a}: ${c}`:c}).join(T);return c?`${b.constructor.name}(${c})`:b.constructor.name});var bP=(a=>{if(a instanceof bN)return new al(void c);{let d=a[c],e=a[b],f=bG(d,x);return new ak([f,e])}});var ax=((a,b,c,d,e,g,h)=>{let i=new f.Error(g);i.gleam_error=a,i.file=b,i.module=c,i.line=d,i.function=e,i.fn=e;for(let a in h)i[a]=h[a];return i});var a8=((a,b)=>new ac(a,b));var b$=(()=>new b_(bo()));var bk=(a=>{let b,d=bj(a);return d?(b=d.next().value?.segment):(b=a.match(/./su)?.[c]),b?new ak([b,a.slice(b.length)]):new al(bf)});var bC=(a=>bB(bp(a),a9([])));var bj=(a=>{if(f.Intl&&O)return bi||=new O,bi.segment(a)[d]()});var at=((a,b)=>a instanceof q&&(a.size!=b.size||[...a].some(a=>!b.has(a))));var ch=(a=>{let b=a.currentTarget;if(!cg.has(b)){b.removeEventListener(a.type,ch);return};let c=cg.get(b);if(!c.has(a.type)){b.removeEventListener(a.type,ch);return};c.get(a.type)(a)});var cE=((a,b)=>cD(cA,a8(bT(`tabindex`,W),a),b));var cD=((a,b,c)=>a(a8(bW(`lustre-ui-button`),a8(bX(a5),b)),c));var aE=(a=>{let b=c,d=a.length;for(let e=c;e<d;e++)b=y(z,b)+ a.charCodeAt(e)|c;return b});var b7=((a,b)=>{let d=b3(a,b);if(!(d<c))return a.array[d]});var aW=((a,c)=>aV(a&c- b));var ck=((a,b,d,e,f,g,h)=>{for(;a&&!f.has(a.getAttribute(a3));){let b=a.nextSibling;d.removeChild(a),a=b};if(g.size===c)return e.unshift({prev:a,next:b,parent:d}),a=a?.nextSibling,a;if(h.has(b.key))return console.warn(`Duplicate key found in Lustre vnode: ${b.key}`),e.unshift({prev:k,next:b,parent:d}),a;h.add(b.key);let i=g.get(b.key);if(!i&&!a)return e.unshift({prev:k,next:b,parent:d}),a;if(!i&&a!==k){let c=document.createTextNode(L);return d.insertBefore(c,a),e.unshift({prev:c,next:b,parent:d}),a};return !i||i===a?(e.unshift({prev:a,next:b,parent:d}),a=a?.nextSibling,a):(d.insertBefore(i,a),e.unshift({prev:i,next:b,parent:d}),a)});var bE=((a,c,d,e)=>{for(;;){let f=a,g=c,h=d,i=e;if(f instanceof ab)return g;{let j=f.head;a=f.tail,c=h(g,j,i),d=h,e=i+ b}}});var aH=(b=>{let d=j(b);if(d!==k&&typeof d.hashCode==l)try{let a=b.hashCode(b);if(typeof a==C)return a}catch{};if(b instanceof t||b instanceof u||b instanceof v)return aC(b);if(b instanceof n)return aF(b.getTime());let f=c;if(b instanceof o&&(b=new e(b)),p(b)||b instanceof e)for(let a=c;a<b.length;a++)f=y(z,f)+ aI(b[a])|c;else if(b instanceof q)b.forEach(a=>{f=f+ aI(a)|c});else if(b instanceof m)b.forEach((a,b)=>{f=f+ aD(aI(a),aI(b))|c});else{let d=a(b);for(let a=c;a<d.length;a++){let e=d[a],g=b[e];f=f+ aD(aI(g),aE(e))|c}};return f});var bo=(()=>bd.new());var cM=(()=>cL());var ci=(a=>{let d=a.currentTarget,e=d.getAttribute(`data-lustre-on-${a.type}`),f=a4(d.getAttribute(`data-lustre-data`)||`{}`),g=a4(d.getAttribute(`data-lustre-include`)||`[]`);switch(a.type){case a0:;case `change`:g.push(`target.value`);break}return {tag:e,data:g.reduce((d,e)=>{let f=e.split(M);for(let e=c,g=d,h=a;e<f.length;e++)e===f.length- b?(g[f[e]]=h[f[e]]):(g[f[e]]??={},h=h[f[e]],g=g[f[e]]);return d},{data:f})}});var a$=((a,b,c,d,e,f)=>{switch(a.type){case aP:return b0(a,b,c,d,e,f);case aQ:return b1(a,b,c,d,e,f);case aR:return b2(a,b,c,d,e,f)}});var aF=(a=>{aA.setFloat64(c,a);let b=aA.getInt32(c),d=aA.getInt32(A);return y(73244475,b>>B^b)^d});var a_=((a,c,d,e,f,g)=>{let h=aI(c);if(h===e)return {type:aR,hash:h,array:[{type:aO,k:c,v:d},{type:aO,k:f,v:g}]};let i={val:!b};return a$(b1(aS,a,h,c,d,i),a,e,f,g,i)});var au=((a,b)=>a instanceof r&&(a.source!==b.source||a.flags!==b.flags));var ao=((a,b)=>a instanceof n&&(a>b||a<b));var bY=((a,d,e)=>a===`area`?new bM(L,L,a,d,a9([]),!b,!c):a===`base`?new bM(L,L,a,d,a9([]),!b,!c):a===`br`?new bM(L,L,a,d,a9([]),!b,!c):a===`col`?new bM(L,L,a,d,a9([]),!b,!c):a===`embed`?new bM(L,L,a,d,a9([]),!b,!c):a===`hr`?new bM(L,L,a,d,a9([]),!b,!c):a===`img`?new bM(L,L,a,d,a9([]),!b,!c):a===a0?new bM(L,L,a,d,a9([]),!b,!c):a===`link`?new bM(L,L,a,d,a9([]),!b,!c):a===`meta`?new bM(L,L,a,d,a9([]),!b,!c):a===`param`?new bM(L,L,a,d,a9([]),!b,!c):a===`source`?new bM(L,L,a,d,a9([]),!b,!c):a===`track`?new bM(L,L,a,d,a9([]),!b,!c):a===`wbr`?new bM(L,L,a,d,a9([]),!b,!c):new bM(L,L,a,d,e,!b,!b));var aV=(a=>(a-=a>>b&1431655765,a=(a&G)+ (a>>x&G),a=a+ (a>>A)&252645135,a+=a>>g,a+=a>>B,a&127));var bs=(a=>{let b=V;for(let d=c;d<a.length;d++){let e=a[d];switch(e){case `\n",
       "`:b+=`\\\\\\\\n`;break;case S:b+=`\\\\\\\\r`;break;case Q:b+=`\\\\\\\\t`;break;case R:b+=`\\\\\\\\f`;break;case `\\\\\\\\`:b+=`\\\\\\\\\\\\\\\\`;break;case V:b+=`\\\\\\\\\"`;break;default:e<P||e>`~`&&e<`\\\\xA0`?(b+=`\\\\\\\\u{`+ e.charCodeAt(c).toString(B).toUpperCase().padStart(A,W)+ `}`):(b+=e)}};return b+=V,b});var by=((a,d)=>{if(a.bitSize===c)return d;for(let e=c;e<a.byteSize- b;e++)d+=a.byteAt(e).toString(),d+=T;if(a.byteSize*g===a.bitSize)d+=a.byteAt(a.byteSize- b).toString();else{let c=a.bitSize%g;d+=a.byteAt(a.byteSize- b)>>g- c,d+=`:size(${c})`};return d});var b4=((a,b,c,d)=>{switch(a.type){case aP:return b5(a,b,c,d);case aQ:return b6(a,b,c,d);case aR:return b7(a,d)}});var bK=(()=>new bJ(a9([])));var cK=(()=>a=>{let b=a[c];return a=>{let c=a9([]),d=`display`,e=`flex`,f=a8([d,e],c),g=bV(f),h=a9([]),i=a8([`flex-direction`,`column`],h),j=a8([d,e],i),k=bV(j),l=new cG,m=cC(l),n=bZ(K),o=a9([]),p=a8(m,o),q=a9([]),r=a8(n,q),s=cE(p,r),t=a9([]),u=a8([`text-align`,`center`],t),v=bV(u),w=bH(b),x=bZ(w),y=a9([]),z=a8(v,y),A=a9([]),B=a8(x,A),C=cz(z,B),D=new cH,E=cC(D),F=bZ(Y),G=a9([]),H=a8(E,G),I=a9([]),J=a8(F,I),L=cE(H,J),M=a9([]),N=a8(k,M),O=a9([]),P=a8(L,O),Q=a8(C,P),R=a8(s,Q),S=cy(N,R),T=a9([]),U=a8(g,T),V=a9([]),W=a8(S,V);return cy(U,W)}});function*cm(a){a.subtree!==void c?(yield*cm(a.subtree())):(yield a)}var an=(b=>{if(b instanceof m)return [a=>a.keys(),(a,b)=>a.get(b)];{let c=b instanceof f.Error?[`message`]:[];return [b=>[...c,...a(b)],(a,b)=>a[b]]}});var cv=((a,b,c)=>new cs(a,b,c,new ay));var bD=((a,b,c)=>{for(;;){let d=a,e=b,f=c;if(d instanceof ab)return e;{let g=d.head;a=d.tail,b=f(e,g),c=f}}});var bt=(a=>{let d=`dict.from_list([`,e=!c;return a.forEach((a,c)=>{e||(d=d+ T),d=d+ `#(`+ br(c)+ T+ br(a)+ `)`,e=!b}),d+ `])`});var b0=((a,d,e,f,g,h)=>{let i=aT(e,d),j=a.array[i];if(j===void c)return h.val=!c,{type:aP,size:a.size+ b,array:aX(a.array,i,{type:aO,k:f,v:g})};if(j.type===aO)return am(f,j.k)?g===j.v?a:{type:aP,size:a.size,array:aX(a.array,i,{type:aO,k:f,v:g})}:(h.val=!c,{type:aP,size:a.size,array:aX(a.array,i,a_(d+ aJ,j.k,j.v,e,f,g))});let k=a$(j,d+ aJ,e,f,g,h);return k===j?a:{type:aP,size:a.size,array:aX(a.array,i,k)}});var bB=((a,b)=>{for(;;){let d=a,e=b;if(d instanceof ab)return bA(e,a9([]));{let f=d.tail,g=d.head[c];a=f,b=a8(g,e)}}});var aU=((a,c)=>b<<aT(a,c));var aq=((a,b)=>p(a)&&a.length!==b.length);var cC=(a=>cB(`click`,b=>new ak(a)));var cB=((a,b)=>bU(a,b));var cz=((a,b)=>bY(`p`,a,b));var bG=((a,d)=>{for(;;){let e=a,f=d;if(f>c){let g=bk(e);if(g instanceof ak)a=g[c][b],d=f- b;else return e}else return e}});var a6=class{withFields(b){let c=a(this).map(a=>a in b?b[a]:this[a]);return new this.constructor(...c)}},a7=class{static fromArray(a,d){let e=d||new ab;for(let d=a.length- b;d>=c;--d)e=new ac(a[d],e);return e}[d](){return new aa(this)}toArray(){return [...this]}atLeastLength(a){let b=this;for(;a-->c&&b;)b=b.tail;return b!==void c}hasLength(a){let d=this;for(;a-->c&&d;)d=d.tail;return a===-b&&d instanceof ab}countLength(){let a=this,d=c;for(;a;)a=a.tail,d++;return d- b}};var aa=class{#e;constructor(a){this.#e=a}next(){if(this.#e instanceof ab)return {done:!c};{let {head:a,tail:c}=this.#e;return this.#e=c,{value:a,done:!b}}}},ab=class extends a7{},ac=class extends a7{constructor(a,b){super(),this.head=a,this.tail=b}},ad=class{bitSize;byteSize;bitOffset;rawBuffer;constructor(a,b,d){if(!(a instanceof e))throw f.Error(`BitArray can only be constructed from a Uint8Array`);if(this.bitSize=b??a.length*g,this.byteSize=h((this.bitSize+ i)/g),this.bitOffset=d??c,this.bitSize<c)throw f.Error(`BitArray bit size is invalid: ${this.bitSize}`);if(this.bitOffset<c||this.bitOffset>i)throw f.Error(`BitArray bit offset is invalid: ${this.bitOffset}`);if(a.length!==h((this.bitOffset+ this.bitSize+ i)/g))throw f.Error(`BitArray buffer length is invalid`);this.rawBuffer=a}byteAt(a){if(!(a<c||a>=this.byteSize))return ae(this.rawBuffer,this.bitOffset,a)}equals(a){if(this.bitSize!==a.bitSize)return !b;let d=h(this.bitSize/g);if(this.bitOffset===c&&a.bitOffset===c){for(let e=c;e<d;e++)if(this.rawBuffer[e]!==a.rawBuffer[e])return !b;let e=this.bitSize%g;if(e){let c=g- e;if(this.rawBuffer[d]>>c!==a.rawBuffer[d]>>c)return !b}}else{for(let e=c;e<d;e++){let c=ae(this.rawBuffer,this.bitOffset,e),d=ae(a.rawBuffer,a.bitOffset,e);if(c!==d)return !b};let e=this.bitSize%g;if(e){let c=ae(this.rawBuffer,this.bitOffset,d),f=ae(a.rawBuffer,a.bitOffset,d),h=g- e;if(c>>h!==f>>h)return !b}};return !c}buffer(){if(ah(`buffer`,`Use BitArray.byteAt() or BitArray.rawBuffer instead`),this.bitOffset!==c||this.bitSize%g!==c)throw new f.Error(`BitArray.buffer does not support unaligned bit arrays`);return this.rawBuffer}length(){if(ah(`length`,`Use BitArray.bitSize or BitArray.byteSize instead`),this.bitOffset!==c||this.bitSize%g!==c)throw new f.Error(`BitArray.length does not support unaligned bit arrays`);return this.rawBuffer.length}};var af=class{constructor(a){this.value=a}},ag={};var ai=class aj extends a6{static isResult(a){return a instanceof aj}},ak=class extends ai{constructor(a){super(),this[c]=a}isOk(){return !c}},al=class extends ai{constructor(a){super(),this[c]=a}isOk(){return !b}};var ay=class extends a6{};var az=new v,aA=new DataView(new o(g)),aB=c;var aJ=5,aK=F.pow(x,aJ),aL=aK- b,aM=aK/x,aN=aK/A,aO=c,aP=b,aQ=x,aR=3,aS={type:aQ,bitmap:c,array:[]};var bd=class aj{static fromObject(b){let d=a(b),e=aj.new();for(let a=c;a<d.length;a++){let c=d[a];e=e.set(c,b[c])};return e}static fromMap(a){let b=aj.new();return a.forEach((a,c)=>{b=b.set(c,a)}),b}static new(){return new aj(void c,c)}constructor(a,b){this.root=a,this.size=b}get(a,b){if(this.root===void c)return b;let d=b4(this.root,c,aI(a),a);return d===void c?b:d.v}set(a,d){let e={val:!b},f=this.root===void c?aS:this.root,g=a$(f,c,aI(a),a,d,e);return g===this.root?this:new aj(g,e.val?this.size+ b:this.size)}delete(a){if(this.root===void c)return this;let d=b8(this.root,c,aI(a),a);return d===this.root?this:d===void c?aj.new():new aj(d,this.size- b)}has(a){return this.root===void c?!b:b4(this.root,c,aI(a),a)!==void c}entries(){if(this.root===void c)return [];let a=[];return this.forEach((b,c)=>a.push([c,b])),a}forEach(a){bc(this.root,a)}hashCode(){let a=c;return this.forEach((b,d)=>{a=a+ aD(aI(b),aI(d))|c}),a}equals(a){if(!(a instanceof aj)||this.size!==a.size)return !b;try{return this.forEach((b,c)=>{if(!am(a.get(c,!b),b))throw be}),!c}catch(a){if(a===be)return !b;throw a}}},be=J();var bf=void c;var bi;var bl=[P,Q,`\n",
       "`,`\\\\v`,R,S,`\\\\x85`,`\\\\u2028`,`\\\\u2029`].join(L),bm=new r(`^[${bl}]*`),bn=new r(`[${bl}]*$`);var bJ=class extends a6{constructor(a){super(),this.all=a}};var bL=class extends a6{constructor(a){super(),this.content=a}},bM=class extends a6{constructor(a,b,c,d,e,f,g){super(),this.key=a,this.namespace=b,this.tag=c,this.attrs=d,this.children=e,this.self_closing=f,this.void=g}};var bN=class extends a6{constructor(a,d,e){super(),this[c]=a,this[b]=d,this.as_property=e}},bO=class extends a6{constructor(a,d){super(),this[c]=a,this[b]=d}};var b_=class extends a6{constructor(a){super(),this.dict=a}};var c0=class extends a6{constructor(a){super(),this[c]=a}},c1=class extends a6{constructor(a,d){super(),this[c]=a,this[b]=d}},c2=class extends a6{constructor(a,d){super(),this[c]=a,this[b]=d}};var c4=class extends a6{constructor(a){super(),this[c]=a}},c5=class extends a6{constructor(a,d){super(),this[c]=a,this[b]=d}},c6=class extends a6{constructor(a){super(),this[c]=a}},c7=class extends a6{constructor(a){super(),this[c]=a}},c8=class extends a6{constructor(a,d){super(),this[c]=a,this[b]=d}},c9=class extends a6{constructor(a,d){super(),this[c]=a,this[b]=d}};var ca=class extends a6{},cb=class extends a6{constructor(a,d){super(),this[c]=a,this[b]=d}},cc=class extends a6{constructor(a){super(),this[c]=a}},cd=class extends a6{constructor(a){super(),this[c]=a}};f.customElements&&!f.customElements.get(a1)&&f.customElements.define(a1,class extends HTMLElement{constructor(){super()}});var cg=new v;var cn=class aj{static start({init:a,update:b,view:c},d,e){if(!cr())return new al(new cu);let f=d instanceof HTMLElement?d:document.querySelector(d);if(!f)return new al(new ct(d));let g=new aj(f,a(e),b,c);return new ak(a=>g.send(a))}constructor(a,[b,d],e,f){this.root=a,this.#e=b,this.#s=e,this.#r=f,this.#t=window.setTimeout(()=>this.#n(d.all.toArray(),!c),c)}root;send(a){if(a instanceof c6){if(a[c] instanceof cd){this.#t=window.clearTimeout(this.#t),this.#i=[],this.#e=a[c][c];let d=this.#r(this.#e),e=(a,d=!b)=>b=>{let e=a(b);e instanceof ak&&this.send(new c7(e[c],d))},f=this.root.firstChild??this.root.appendChild(document.createTextNode(L));ce(f,d,e)}}else if(a instanceof c7){let d=a[c],e=a[b]??!b;this.#i.push(d),e?(this.#t=window.clearTimeout(this.#t),this.#n()):this.#t||(this.#t=window.setTimeout(()=>this.#n()))}else if(a instanceof c8){let d=a[c],e=a[b];this.root.dispatchEvent(new CustomEvent(d,{detail:e,bubbles:!c,composed:!c}))}else if(a instanceof ca)for(this.#t=window.clearTimeout(this.#t),this.#e=k,this.#s=k,this.#r=k,this.#i=k;this.root.firstChild;)this.root.firstChild.remove()}#e;#s;#r;#i=[];#t;#n(a=[]){this.#t=void c,this.#o(a);let d=this.#r(this.#e),e=(a,d=!b)=>b=>{let e=a(b);e instanceof ak&&this.send(new c7(e[c],d))},f=this.root.firstChild??this.root.appendChild(document.createTextNode(L));ce(f,d,e)}#o(a=[]){for(;this.#i.length>c;){let b=this.#i.shift(),[c,d]=this.#s(this.#e,b);a=a.concat(d.all.toArray()),this.#e=c};for(;a.length>c;){let b=a.shift(),d=a=>this.send(new c7(a)),e=(a,b)=>this.root.dispatchEvent(new CustomEvent(a,{detail:b,bubbles:!c,composed:!c})),f=()=>{},g=this.root;b({dispatch:d,emit:e,select:f,root:g})};this.#i.length>c&&this.#o(a)}},co=cn.start;var cp=class aj{static start({init:a,update:b,view:c,on_attribute_change:d},e){let f=new aj(a(e),b,c,d);return new ak(a=>f.send(a))}constructor([a,b],c,d,e){this.#e=a,this.#s=c,this.#i=d,this.#t=d(a),this.#u=e,this.#n=new m,this.#o=bS(this.#t),this.#l(b.all.toArray())}send(a){if(a instanceof c4){for(let d of a[c]){let a=this.#u.get(d[c]);if(!a)continue;let e=a(d[b]);e instanceof al||this.#r.push(e)};this.#l()}else if(a instanceof c5)this.#r=this.#r.concat(a[c].toArray()),this.#l(a[b].all.toArray());else if(!(a instanceof c6))if(a instanceof c7)this.#r.push(a[c]),this.#l();else if(a instanceof c8){let d=new c1(a[c],a[b]);for(let [a,b] of this.#n)b(d)}else if(a instanceof c9){let d=this.#o.get(a[c]);if(!d)return;let e=d(a[b]);if(e instanceof al)return;this.#r.push(e[c]),this.#l()}else if(a instanceof cb){let d=bC(this.#u),e=new c2(d,this.#t);this.#n=this.#n.set(a[c],a[b]),a[b](e)}else a instanceof cc&&(this.#n=this.#n.delete(a[c]))}#e;#s;#r;#i;#t;#n;#o;#u;#l(a=[]){this.#a(a);let b=this.#i(this.#e),c=elements(this.#t,b);if(!c3(c)){let a=new c0(c);for(let [b,c] of this.#n)c(a)};this.#t=b,this.#o=c.handlers}#a(a=[]){for(;this.#r.length>c;){let b=this.#r.shift(),[c,d]=this.#s(this.#e,b);a=a.concat(d.all.toArray()),this.#e=c};for(;a.length>c;)a.shift()({dispatch:a=>this.send(new c7(a)),emit:(a,b)=>this.root.dispatchEvent(new CustomEvent(a,{detail:b,bubbles:!c,composed:!c})),select:()=>{},root:k});this.#r.length>c&&this.#a(a)}},cq=cp.start,cr=()=>f.window&&window.document;var cs=class extends a6{constructor(a,b,c,d){super(),this.init=a,this.update=b,this.view=c,this.on_attribute_change=d}};var ct=class extends a6{constructor(a){super(),this.selector=a}},cu=class extends a6{};var cF=`src/main.gleam`,cG=class extends a6{},cH=class extends a6{};cM()})()</script><link crossorigin href=./spiral_fee2832075fbbc91bc47782335b7b5d8a9bad1d788da5e820be6c253326b7cb2-78f3cb3a7e01a350.js rel=modulepreload><link as=fetch crossorigin href=./spiral_fee2832075fbbc91bc47782335b7b5d8a9bad1d788da5e820be6c253326b7cb2-78f3cb3a7e01a350_bg.wasm rel=preload type=application/wasm></head><body><div id=app_fee2832075fbbc91bc47782335b7b5d8a9bad1d788da5e820be6c253326b7cb2></div><script type=module>import init, * as bindings from './spiral_fee2832075fbbc91bc47782335b7b5d8a9bad1d788da5e820be6c253326b7cb2-78f3cb3a7e01a350.js';\n",
       "const wasm = await init({ module_or_path: './spiral_fee2832075fbbc91bc47782335b7b5d8a9bad1d788da5e820be6c253326b7cb2-78f3cb3a7e01a350_bg.wasm' });\n",
       "\n",
       "\n",
       "window.wasmBindings = bindings;\n",
       "\n",
       "\n",
       "dispatchEvent(new CustomEvent(\"TrunkApplicationStarted\", {detail: {wasm}}));</script></body></html>\n"
      ]
     },
     "metadata": {},
     "output_type": "display_data"
    }
   ],
   "source": [
    "//// test\n",
    "///! gleam -t javascript -d lustre=\\\">=4.6.0\\\" lustre_ui=\\\"1.0.0-rc.1\\\" gleam_json=\\\">=2.0.0\\\"\n",
    "\n",
    "simple init (update 1) view\n",
    "|> start \"#app_\""
   ]
  },
  {
   "cell_type": "code",
   "execution_count": null,
   "metadata": {
    "dotnet_interactive": {
     "language": "spiral"
    },
    "polyglot_notebook": {
     "kernelName": "spiral"
    }
   },
   "outputs": [
    {
     "data": {
      "text/html": [
       "<!doctype html><html lang=en><meta charset=UTF-8><meta content=\"width=device-width,initial-scale=1.0\" name=viewport><style>@layer reset{*,:after,:before{box-sizing:border-box;border:0 solid #e2e8f0}:host,html{-webkit-text-size-adjust:100%;-moz-tab-size:4;-o-tab-size:4;tab-size:4;font-feature-settings:normal;font-variation-settings:normal;-webkit-tap-highlight-color:transparent;line-height:1.5}body{line-height:inherit;margin:0}hr{height:0;color:inherit;border-top-width:1px}abbr:where([title]){text-decoration:underline dotted}h1,h2,h3,h4,h5,h6{font-size:inherit;font-weight:inherit}a{color:inherit;text-decoration:inherit}b,strong{font-weight:bolder}code,kbd,pre,samp{font-feature-settings:normal;font-variation-settings:normal;font-family:ui-monospace,SFMono-Regular,Menlo,Monaco,Consolas,Liberation Mono,Courier New,monospace;font-size:1em}small{font-size:80%}sub,sup{vertical-align:baseline;font-size:75%;line-height:0;position:relative}sub{bottom:-.25em}sup{top:-.5em}table{text-indent:0;border-color:inherit;border-collapse:collapse}button,input,optgroup,select,textarea{font-feature-settings:inherit;font-variation-settings:inherit;font-family:inherit;font-size:100%;font-weight:inherit;line-height:inherit;letter-spacing:inherit;color:inherit;margin:0;padding:0}button,select{text-transform:none}button,input:where([type=button]),input:where([type=reset]),input:where([type=submit]){-webkit-appearance:button;background-color:#0000;background-image:none}:-moz-focusring{outline:auto}:-moz-ui-invalid{box-shadow:none}progress{vertical-align:baseline}::-webkit-inner-spin-button,::-webkit-outer-spin-button{height:auto}[type=search]{-webkit-appearance:textfield;outline-offset:-2px}::-webkit-search-decoration{-webkit-appearance:none}::-webkit-file-upload-button{-webkit-appearance:button;font:inherit}summary{display:list-item}blockquote,dd,dl,figure,h1,h2,h3,h4,h5,h6,hr,p,pre,fieldset{margin:0}fieldset,legend{padding:0}menu,ol,ul{margin:0;padding:0;list-style:none}dialog{padding:0}textarea{resize:vertical}input::-moz-placeholder,textarea::-moz-placeholder{opacity:1;color:#94a3b8}input::placeholder,textarea::placeholder{opacity:1;color:#94a3b8}[role=button],button{cursor:pointer}:disabled{cursor:default}audio,canvas,embed,iframe,img,object,svg,video{vertical-align:middle;display:block}img,video{max-width:100%;height:auto}[hidden]:where(:not([hidden=until-found])){display:none}}@layer primitives{lustre-ui-popover{--gap:var(--lustre-ui-spacing-sm);display:inline;position:relative;&>[slot]{display:contents}&::part(popover-content){z-index:999;transition-property:opacity,transform;transition-duration:.15s;transition-timing-function:cubic-bezier(.4,0,.2,1);display:block;position:absolute;top:0;left:0}&[anchor|=top]{--translate-x:0;&::part(popover-content){padding-bottom:var(--gap);transform:translate(var(--translate-x),-100%)}&[equal-width]::part(popover-content){right:0;--translate-x:0!important;left:0!important}&[anchor=top-left]::part(popover-content){left:0}&[anchor=top-middle]::part(popover-content){--translate-x:-50%;left:50%}&[anchor=top-right]::part(popover-content){--translate-x:-100%;left:100%}&:state(will-expand)::part(popover-content){transform:translate(var(--translate-x),-90%)}&:state(collapsing)::part(popover-content){transform:translate(var(--translate-x),-90%)}}&[anchor|=right]{--translate-y:0;&::part(popover-content){padding-left:var(--gap);transform:translate(0,var(--translate-y));left:100%}&[anchor=right-top]::part(popover-content){top:0}&[anchor=right-middle]::part(popover-content){--translate-y:-50%;top:50%}&[anchor=right-bottom]::part(popover-content){--translate-y:-100%;top:100%}&:state(will-expand)::part(popover-content){transform:translate(-10%,var(--translate-y))}&:state(collapsing)::part(popover-content){transform:translate(-10%,var(--translate-y))}}&[anchor|=bottom]{--translate-x:0;&::part(popover-content){top:unset;padding-top:var(--gap);transform:translate(var(--translate-x),0)}&[equal-width]::part(popover-content){right:0;--translate-x:0!important;left:0!important}&[anchor=bottom-left]::part(popover-content){left:0}&[anchor=bottom-middle]::part(popover-content){--translate-x:-50%;left:50%}&[anchor=bottom-right]::part(popover-content){--translate-x:-100%;left:100%}&:state(will-expand)::part(popover-content){transform:translate(var(--translate-x),-10%)}&:state(collapsing)::part(popover-content){transform:translate(var(--translate-x),-10%)}}&[anchor|=left]{--translate-y:0;&::part(popover-content){padding-right:var(--gap);transform:translate(-100%,var(--translate-y))}&[anchor=left-top]::part(popover-content){top:0}&[anchor=left-middle]::part(popover-content){--translate-y:-50%;top:50%}&[anchor=left-bottom]::part(popover-content){--translate-y:-100%;top:100%}&:state(will-expand)::part(popover-content){transform:translate(-90%,var(--translate-y))}&:state(collapsing)::part(popover-content){transform:translate(-90%,var(--translate-y))}}&:state(will-expand)::part(popover-content){opacity:0}&:state(expanded)::part(popover-content){opacity:100}&:state(will-collapse)::part(popover-content){opacity:100}&:state(collapsing)::part(popover-content){opacity:0}&:state(collapsed)::part(popover-content){display:none}}:where(.lustre-ui-icon){width:1rem;height:1rem}lustre-ui-collapse{--duration:.15s;display:block;&::part(collapse-content){transition-duration:var(--duration);transition-property:height;transition-timing-function:cubic-bezier(.4,0,.2,1);overflow-y:hidden}}}@layer components{.lustre-ui-input{--border:rgb(var(--lustre-ui-accent));--border-focus:rgb(var(--lustre-ui-primary-solid));--border-width:1px;--padding-y:var(--lustre-ui-spacing-sm);--radius:var(--lustre-ui-radius-sm);background-color:rgb(var(--lustre-ui-base-bg-subtle));padding:var(--padding-y);outline-offset:0;border-radius:var(--radius);outline:var(--border-width)solid var(--border);&:focus{outline-color:var(--border-focus)}&:invalid{outline-color:rgb(var(--lustre-ui-danger-solid))}}.lustre-ui-input-container{align-items:center;display:flex;position:relative;&:has(*+input)>input{padding-left:2rem}&:has(input+*)>input{padding-right:2rem}&:has(*+input)>:not(input){left:.5rem}&>input+*{right:.5rem;left:unset!important}&>:not(input){pointer-events:none;width:1rem;height:1rem;position:absolute}}.lustre-ui-divider{--colour:rgb(var(--lustre-ui-accent));--gap:var(--lustre-ui-spacing-sm);--margin:0;--size-x:2px;--size-y:0;&:empty{border-color:var(--colour);border-right-width:var(--size-y);border-style:solid;border-top-width:var(--size-x);margin:var(--margin)0;align-self:stretch}&:not(:empty){align-self:stretch;align-items:center;gap:var(--gap);margin:var(--margin)0;justify-items:center;display:flex;&:before,&:after{background-color:var(--colour);content:\"\";height:var(--size-x);width:var(--size-y);flex-grow:1;display:block}}}lustre-ui-combobox{--padding-x:var(--lustre-ui-spacing-sm);--padding-y:var(--lustre-ui-spacing-sm);--border-width:1px;--radius:var(--lustre-ui-radius-sm);display:inline-block;&::part(combobox-trigger){border-radius:var(--radius);border:rgb(var(--lustre-ui-accent))solid var(--border-width);color:rgb(var(--lustre-ui-text));align-items:center;gap:var(--padding-x);outline-offset:2px;padding:var(--padding-y)var(--padding-x);outline:2px solid #0000;width:100%;display:flex}&:state(trigger-focus)::part(combobox-trigger){border-color:rgb(var(--lustre-ui-primary-solid))}&:state(empty)::part(combobox-trigger){color:rgb(var(--lustre-ui-text-subtle))}&::part(combobox-trigger-label){text-align:left;flex:1}&::part(combobox-trigger-icon){border-radius:var(--radius);width:1.5rem;height:1.5rem;padding:.25rem;transition-property:transform;transition-duration:.15s;transition-timing-function:cubic-bezier(.4,0,.2,1);transform:rotate(0)}&:state(expanded)::part(combobox-trigger-icon){transform:rotate(-180deg)}&:is(:hover,:state(trigger-focus),:state(expanded))::part(combobox-trigger-icon){background-color:rgb(var(--lustre-ui-tint-subtle))}&::part(combobox-options){background-color:rgb(var(--lustre-ui-bg));border:rgb(var(--lustre-ui-accent))solid var(--border-width);border-radius:var(--radius)}&::part(combobox-input){border:none}&::part(combobox-option){cursor:pointer;padding:var(--padding-y)var(--padding-x);align-items:baseline;gap:var(--padding-x);display:flex}&::part(combobox-option last){border-bottom-left-radius:var(--radius);border-bottom-right-radius:var(--radius)}&::part(combobox-option intent){background-color:rgb(var(--lustre-ui-tint-subtle))}}.lustre-ui-checkbox{--background:transparent;--background-hover:transparent;--border:rgb(var(--lustre-ui-accent));--border-hover:rgb(var(--lustre-ui-accent-strong));--border-width:1px;--size:1rem;--check-color:rgb(var(--lustre-ui-solid-text));appearance:none;background-color:var(--background);border:var(--border-width)solid var(--border);border-radius:var(--lustre-ui-radius-sm);cursor:pointer;height:var(--size);width:var(--size);place-content:center;margin:0;display:grid;&:before{background-color:var(--check-color);clip-path:polygon(16% 44%,10% 55%,45% 90%,90% 16%,80% 10%,45% 60%);content:\"\";height:calc(var(--size)*.6);transform-origin:50%;width:calc(var(--size)*.6);transition:transform .15s cubic-bezier(.4,0,.2,1);transform:scale(0)}&:checked{background-color:rgb(var(--lustre-ui-solid));border-color:#0000}&:checked:before{transform:scale(1)}}.lustre-ui-card{--background:rgb(var(--lustre-ui-bg));--border:rgb(var(--lustre-ui-accent-subtle));--border-width:1px;--padding-x:var(--lustre-ui-spacing-xl);--padding-y:var(--lustre-ui-spacing-xl);--radius:var(--lustre-ui-radius-md);background:var(--background);border:var(--border-width)solid var(--border);border-radius:var(--radius);&>*{padding-top:0;padding:var(--padding-y)var(--padding-x)}&>.card-header{flex-direction:column;display:flex}&>.card-footer{align-items:center;display:flex}}.lustre-ui-button{--background:rgb(var(--lustre-ui-tint));--background-hover:rgb(var(--lustre-ui-tint-strong));--border:transparent;--border-hover:transparent;--border-width:1px;--height:2rem;--height-min:2rem;--padding-x:var(--lustre-ui-spacing-sm);--radius:var(--lustre-ui-radius-sm);--text:rgb(var(--lustre-ui-text));background-color:var(--background);border:var(--border-width)solid var(--border);border-radius:var(--radius);color:var(--text);align-items:center;gap:var(--padding-x);min-height:var(--height-min);padding-left:var(--padding-x);padding-right:var(--padding-x);white-space:nowrap;justify-content:center;display:inline-flex;&:disabled{pointer-events:none;opacity:.5;cursor:default}&:hover,&:focus{outline-offset:2px;background-color:var(--background-hover);border-color:var(--border-hover);outline:2px solid #0000}&:active{transform:translateY(1px)}&:is(a){text-decoration:none;&:visited{color:var(--text)}}&.button-icon{--height:2rem;width:var(--height);&>svg{width:100%;height:100%}}&.button-small{--height:2rem;--padding-x:var(--lustre-ui-spacing-sm)}&.button-medium{--height:2.25rem;--padding-x:var(--lustre-ui-spacing-md)}&.button-large{--height:2.5rem;--padding-x:var(--lustre-ui-spacing-lg)}&.button-clear{--background:transparent;--background-hover:rgb(var(--lustre-ui-tint));--border:transparent;--border-hover:transparent;--text:rgb(var(--lustre-ui-text))}&.button-outline{--background:transparent;--background-hover:transparent;--border:rgb(var(--lustre-ui-accent));--border-hover:rgb(var(--lustre-ui-accent-strong));--text:rgb(var(--lustre-ui-text))}&.button-soft{--background:rgb(var(--lustre-ui-tint));--background-hover:rgb(var(--lustre-ui-tint-strong));--border:transparent;--border-hover:transparent;--text:rgb(var(--lustre-ui-text))}&.button-solid{--background:rgb(var(--lustre-ui-solid));--background-hover:rgb(var(--lustre-ui-solid)/.8);--border:transparent;--border-hover:transparent;--text:rgb(var(--lustre-ui-solid-text))}& .button-badge{border:1px solid var(--text);border-radius:var(--radius);margin:0 calc(-1*var(--padding-x)/2);align-items:center;padding:0 1ch;font-size:.625em;display:inline-flex;& .key+.key:before{content:var(--separator,\"\")}& .icon{width:1em;height:1em}}}.lustre-ui-breadcrumb{--gap:var(--lustre-ui-spacing-xs);--text-hover:rgb(var(--lustre-ui-text));--text:rgb(var(--lustre-ui-text-subtle));color:var(--text);align-items:center;gap:var(--gap);flex-wrap:wrap;display:flex;&>.breadcrumb-item{align-items:center;gap:var(--gap);display:inline-flex;&[aria-current=page],&:hover{color:var(--text-hover)}}&>.breadcrumb-separator{user-select:none;pointer-events:none;&>svg{width:1rem;height:1rem}}&>.breadcrumb-ellipsis{user-select:none;justify-content:center;align-items:center;width:2rem;height:2rem;display:flex;&>svg{width:1rem;height:1rem}&>:not(svg){clip:rect(0,0,0,0);white-space:nowrap;border-width:0;width:1px;height:1px;margin:-1px;padding:0;position:absolute;overflow:hidden}}}.lustre-ui-badge{--background:transparent;--background-hover:transparent;--border:rgb(var(--lustre-ui-accent));--border-hover:rgb(var(--lustre-ui-accent-strong));--padding-x:var(--lustre-ui-spacing-sm);--padding-y:var(--lustre-ui-spacing-xs);--radius:var(--lustre-ui-radius-sm);--text:rgb(var(--lustre-ui-text));border:1px solid var(--border);border-radius:var(--radius);background-color:var(--background);color:var(--text);padding:var(--padding-y)var(--padding-x);align-items:center;display:inline-flex;&:is(a,button,[tabindex]):is(:hover,:focus){background-color:var(--background-hover);border-color:var(--border-hover);cursor:pointer}&:active{transform:translateY(1px)}&:empty{padding:max(var(--padding-y),var(--padding-x));border-radius:100%}&.badge-outline{--background:transparent;--background-hover:transparent;--border:rgb(var(--lustre-ui-accent));--border-hover:rgb(var(--lustre-ui-accent-strong));--text:rgb(var(--lustre-ui-text))}&.badge-soft{--background:rgb(var(--lustre-ui-tint));--background-hover:rgb(var(--lustre-ui-tint-strong));--border:transparent;--border-hover:transparent;--text:rgb(var(--lustre-ui-text))}&.badge-solid{--background:rgb(var(--lustre-ui-solid));--background-hover:rgb(var(--lustre-ui-solid)/.8);--border:transparent;--border-hover:transparent;--text:rgb(var(--lustre-ui-solid-text))}}.lustre-ui-alert{--background:rgb(var(--lustre-ui-bg));--border:rgb(var(--lustre-ui-accent));--indicator-size:16px;--padding-x:var(--lustre-ui-spacing-lg);--padding-y:var(--lustre-ui-spacing-md);--radius:0;--text:rgb(var(--lustre-ui-text));--title-margin:var(--padding-y);--title-weight:500;background-color:var(--background);border-radius:var(--radius);border:1px solid var(--border);color:var(--text);padding:var(--padding-y)var(--padding-x);width:full;flex-direction:column;display:flex;position:relative;&>.alert-indicator{width:var(--indicator-size);height:var(--indicator-size);position:absolute}&>.alert-title{font-weight:var(--title-weight);text-overflow:ellipsis;margin-block-end:var(--title-margin);overflow:clip}&:has(.alert-indicator)>:not(.alert-indicator){padding-inline-start:calc(var(--indicator-size) + var(--padding-x))}}lustre-ui-accordion{--padding-x:var(--lustre-ui-spacing-sm);--padding-y:var(--lustre-ui-spacing-sm);--border:rbg(var(--lustre-ui-accent));--border-focus:rgb(var(--lustre-ui-primary-solid));--border-width:1px;--text:rgb(var(--lustre-ui-text));display:block;&::part(accordion-trigger){border-bottom:var(--border)solid var(--border-width);color:var(--text);align-items:center;gap:var(--padding-x);outline-offset:2px;padding:var(--padding-y)var(--padding-x);outline:2px solid #0000;width:100%;display:flex}&::part(accordion-trigger):focus{border-color:var(--border-focus)}&::part(accordion-trigger-label){text-align:left;flex:1}&::part(accordion-trigger-icon){border-radius:var(--radius);height:1.5rem;transition-duration:.15s;transition-property:color transform;width:1.5rem;padding:.25rem;transition-timing-function:cubic-bezier(.4,0,.2,1);transform:rotate(0)}&::part(accordion-trigger-icon expanded){transform:rotate(-180deg)}&::part(accordion-content){padding:var(--padding-y)var(--padding-x);display:block}}}</style><script type=module>let W=`0`,_=`style`,a2=`http://www.w3.org/1999/xhtml`,V=`\"`,c=0,P=` `,A=4,z=31,X=`Object`,R=`\\\\f`,L=``,D=`string`,l=`function`,k=null,G=858993459,b=1,T=`, `,C=`number`,B=16,S=`\\\\r`,I=32,g=8,Y=`-`,M=`.`,i=7,x=2,s=`object`,Z=`on`,N=`.0`,E=`bigint`,K=`+`,a0=`input`,a5=`button`,a3=`data-lustre-key`,Q=`\t`,a1=`lustre-fragment`,$=`class`,H=Array,p=Array.isArray,o=ArrayBuffer,n=Date,w=Function,O=Intl.Segmenter,a4=JSON.parse,m=Map,F=Math,y=Math.imul,h=Math.trunc,j=Object.getPrototypeOf,a=Object.keys,t=Promise,r=RegExp,q=Set,U=String,J=Symbol,d=Symbol.iterator,e=Uint8Array,v=WeakMap,u=WeakSet,f=globalThis;`use strict`;(()=>{var bv=(b=>{let c=a(b).map(a=>{let c=br(b[a]);return isNaN(parseInt(a))?`${a}: ${c}`:c}).join(T);return c?`${b.constructor.name}(${c})`:b.constructor.name});var ax=((a,b,c,d,e,g,h)=>{let i=new f.Error(g);i.gleam_error=a,i.file=b,i.module=c,i.line=d,i.function=e,i.fn=e;for(let a in h)i[a]=h[a];return i});var bc=((a,b)=>{if(a===void c)return;let d=a.array,e=d.length;for(let a=c;a<e;a++){let e=d[a];if(e!==void c){if(e.type===aO){b(e.v,e.k);continue};bc(e,b)}}});var aU=((a,c)=>b<<aT(a,c));var b0=((a,d,e,f,g,h)=>{let i=aT(e,d),j=a.array[i];if(j===void c)return h.val=!c,{type:aP,size:a.size+ b,array:aX(a.array,i,{type:aO,k:f,v:g})};if(j.type===aO)return am(f,j.k)?g===j.v?a:{type:aP,size:a.size,array:aX(a.array,i,{type:aO,k:f,v:g})}:(h.val=!c,{type:aP,size:a.size,array:aX(a.array,i,a_(d+ aJ,j.k,j.v,e,f,g))});let k=a$(j,d+ aJ,e,f,g,h);return k===j?a:{type:aP,size:a.size,array:aX(a.array,i,k)}});var bs=(a=>{let b=V;for(let d=c;d<a.length;d++){let e=a[d];switch(e){case `\n",
       "`:b+=`\\\\\\\\n`;break;case S:b+=`\\\\\\\\r`;break;case Q:b+=`\\\\\\\\t`;break;case R:b+=`\\\\\\\\f`;break;case `\\\\\\\\`:b+=`\\\\\\\\\\\\\\\\`;break;case V:b+=`\\\\\\\\\"`;break;default:e<P||e>`~`&&e<`\\\\xA0`?(b+=`\\\\\\\\u{`+ e.charCodeAt(c).toString(B).toUpperCase().padStart(A,W)+ `}`):(b+=e)}};return b+=V,b});var aC=(a=>{let b=az.get(a);if(b!==void c)return b;let d=aB++;return aB===2147483647&&(aB=c),az.set(a,d),d});var b$=(()=>new b_(bo()));var at=((a,b)=>a instanceof q&&(a.size!=b.size||[...a].some(a=>!b.has(a))));var bS=(a=>bR(a,bo(),W));var cC=(a=>cB(`click`,b=>new ak(a)));var ch=(a=>{let b=a.currentTarget;if(!cg.has(b)){b.removeEventListener(a.type,ch);return};let c=cg.get(b);if(!c.has(a.type)){b.removeEventListener(a.type,ch);return};c.get(a.type)(a)});var bK=(()=>new bJ(a9([])));var ar=((a,b)=>a instanceof m&&a.size!==b.size);var bZ=(a=>new bL(a));var bI=((a,b,c)=>a?b:c());var bk=(a=>{let b,d=bj(a);return d?(b=d.next().value?.segment):(b=a.match(/./su)?.[c]),b?new ak([b,a.slice(b.length)]):new al(bf)});var br=(a=>{let d=typeof a;if(a===!c)return `True`;if(a===!b)return `False`;if(a===k)return `//js(null)`;if(a===void c)return `Nil`;if(d===D)return bs(a);if(d===E||Number.isInteger(a))return a.toString();if(d===C)return bh(a);if(p(a))return `#(${a.map(br).join(T)})`;if(a instanceof a7)return bw(a);if(a instanceof af)return bx(a);if(a instanceof ad)return `<<${by(a,L)}>>`;if(a instanceof a6)return bv(a);if(a instanceof bd)return bt(a);if(a instanceof q)return `//js(Set(${[...a].map(br).join(T)}))`;if(a instanceof r)return `//js(${a})`;if(a instanceof n)return `//js(Date(\"${a.toISOString()}\"))`;if(a instanceof w){let b=[];for(let c of H(a.length).keys())b.push(U.fromCharCode(c+ 97));return `//fn(${b.join(T)}) { ... }`};return bu(a)});var b8=((a,b,c,d)=>{switch(a.type){case aP:return b9(a,b,c,d);case aQ:return ba(a,b,c,d);case aR:return bb(a,d)}});var aG=(a=>aE(a.toString()));var bw=(a=>`[${a.toArray().map(br).join(T)}]`);var cv=((a,b,c)=>new cs(a,b,c,new ay));var bt=(a=>{let d=`dict.from_list([`,e=!c;return a.forEach((a,c)=>{e||(d=d+ T),d=d+ `#(`+ br(c)+ T+ br(a)+ `)`,e=!b}),d+ `])`});function*cm(a){a.subtree!==void c?(yield*cm(a.subtree())):(yield a)}var bW=(a=>bT($,a));var b1=((a,d,e,f,g,h)=>{let i=aU(e,d),j=aW(a.bitmap,i);if((a.bitmap&i)!==c){let b=a.array[j];if(b.type!==aO){let c=a$(b,d+ aJ,e,f,g,h);return c===b?a:{type:aQ,bitmap:a.bitmap,array:aX(a.array,j,c)}};let i=b.k;return am(f,i)?g===b.v?a:{type:aQ,bitmap:a.bitmap,array:aX(a.array,j,{type:aO,k:f,v:g})}:(h.val=!c,{type:aQ,bitmap:a.bitmap,array:aX(a.array,j,a_(d+ aJ,i,b.v,e,f,g))})}else{let k=a.array.length;if(k>=aM){let i=new H(I),j=aT(e,d);i[j]=b1(aS,d+ aJ,e,f,g,h);let l=c,m=a.bitmap;for(let d=c;d<I;d++){if((m&b)!==c){let b=a.array[l++];i[d]=b};m=m>>>b};return {type:aP,size:k+ b,array:i}}else{let b=aY(a.array,j,{type:aO,k:f,v:g});return h.val=!c,{type:aQ,bitmap:a.bitmap|i,array:b}}}});var ao=((a,b)=>a instanceof n&&(a>b||a<b));var aT=((a,b)=>a>>>b&aL);var an=(b=>{if(b instanceof m)return [a=>a.keys(),(a,b)=>a.get(b)];{let c=b instanceof f.Error?[`message`]:[];return [b=>[...c,...a(b)],(a,b)=>a[b]]}});var au=((a,b)=>a instanceof r&&(a.source!==b.source||a.flags!==b.flags));var bb=((a,d)=>{let e=b3(a,d);if(e<c)return a;if(a.array.length!==b)return {type:aR,hash:a.hash,array:aZ(a.array,e)}});var cE=((a,b)=>cD(cA,a8(bT(`tabindex`,W),a),b));var b9=((a,d,e,f)=>{let g=aT(e,d),h=a.array[g];if(h===void c)return a;let i;if(h.type===aO){if(!am(h.k,f))return a}else if(i=b8(h,d+ aJ,e,f),i===h)return a;if(i===void c){if(a.size<=aN){let d=a.array,e=new H(a.size- b),f=c,h=c,i=c;for(;f<g;){let a=d[f];a!==void c&&(e[h]=a,i|=b<<f,++h),++f};for(++f;f<d.length;){let a=d[f];a!==void c&&(e[h]=a,i|=b<<f,++h),++f};return {type:aQ,bitmap:i,array:e}};return {type:aP,size:a.size- b,array:aX(a.array,g,i)}};return {type:aP,size:a.size,array:aX(a.array,g,i)}});var aq=((a,b)=>p(a)&&a.length!==b.length);var bg=(a=>a.toString());var aw=((a,c)=>typeof a!=s&&typeof c!=s&&(!a||!c)||[t,u,v,w].some(b=>a instanceof b)?!b:a.constructor===c.constructor);var a_=((a,c,d,e,f,g)=>{let h=aI(c);if(h===e)return {type:aR,hash:h,array:[{type:aO,k:c,v:d},{type:aO,k:f,v:g}]};let i={val:!b};return a$(b1(aS,a,h,c,d,i),a,e,f,g,i)});var ci=(a=>{let d=a.currentTarget,e=d.getAttribute(`data-lustre-on-${a.type}`),f=a4(d.getAttribute(`data-lustre-data`)||`{}`),g=a4(d.getAttribute(`data-lustre-include`)||`[]`);switch(a.type){case a0:;case `change`:g.push(`target.value`);break}return {tag:e,data:g.reduce((d,e)=>{let f=e.split(M);for(let e=c,g=d,h=a;e<f.length;e++)e===f.length- b?(g[f[e]]=h[f[e]]):(g[f[e]]??={},h=h[f[e]],g=g[f[e]]);return d},{data:f})}});var b2=((a,d,e,f,g,h)=>{if(e===a.hash){let d=b3(a,f);if(d!==-b)return a.array[d].v===g?a:{type:aR,hash:e,array:aX(a.array,d,{type:aO,k:f,v:g})};let i=a.array.length;return h.val=!c,{type:aR,hash:e,array:aX(a.array,i,{type:aO,k:f,v:g})}};return a$({type:aQ,bitmap:aU(a.hash,d),array:[a]},d,e,f,g,h)});var am=((a,d)=>{let e=[a,d];for(;e.length;){let a=e.pop(),c=e.pop();if(a===c)continue;if(!av(a)||!av(c)||!aw(a,c)||ao(a,c)||ap(a,c)||aq(a,c)||ar(a,c)||at(a,c)||au(a,c))return !b;let d=j(a);if(d!==k&&typeof d.equals==l)try{if(a.equals(c))continue;return !b}catch{};let [f,g]=an(a);for(let b of f(a))e.push(g(a,b),g(c,b))};return !c});var cM=(()=>cL());var cA=((a,b)=>bY(a5,a,b));var b3=((a,d)=>{let e=a.array.length;for(let b=c;b<e;b++)if(am(d,a.array[b].k))return b;return -b});var a8=((a,b)=>new ac(a,b));var cI=(()=>a=>{let b=a[c];return a=>b<c?c:b});var b6=((a,b,d,e)=>{let f=aU(d,b);if((a.bitmap&f)===c)return;let g=aW(a.bitmap,f),h=a.array[g];if(h.type!==aO)return b4(h,b+ aJ,d,e);if(am(e,h.k))return h});var cw=((a,b,c)=>cv(b=>[a(b),bK()],(a,c)=>[b(a,c),bK()],c));var a$=((a,b,c,d,e,f)=>{switch(a.type){case aP:return b0(a,b,c,d,e,f);case aQ:return b1(a,b,c,d,e,f);case aR:return b2(a,b,c,d,e,f)}});var cK=(()=>a=>{let b=a[c];return a=>{let c=a9([]),d=`display`,e=`flex`,f=a8([d,e],c),g=bV(f),h=a9([]),i=a8([`flex-direction`,`column`],h),j=a8([d,e],i),k=bV(j),l=new cG,m=cC(l),n=bZ(K),o=a9([]),p=a8(m,o),q=a9([]),r=a8(n,q),s=cE(p,r),t=a9([]),u=a8([`text-align`,`center`],t),v=bV(u),w=bH(b),x=bZ(w),y=a9([]),z=a8(v,y),A=a9([]),B=a8(x,A),C=cz(z,B),D=new cH,E=cC(D),F=bZ(Y),G=a9([]),H=a8(E,G),I=a9([]),J=a8(F,I),L=cE(H,J),M=a9([]),N=a8(k,M),O=a9([]),P=a8(L,O),Q=a8(C,P),R=a8(s,Q),S=cy(N,R),T=a9([]),U=a8(g,T),V=a9([]),W=a8(S,V);return cy(U,W)}});var ah=((a,b)=>{ag[a]||(console.warn(`Deprecated BitArray.${a} property used in JavaScript FFI code. ${b}.`),ag[a]=!c)});var bY=((a,d,e)=>a===`area`?new bM(L,L,a,d,a9([]),!b,!c):a===`base`?new bM(L,L,a,d,a9([]),!b,!c):a===`br`?new bM(L,L,a,d,a9([]),!b,!c):a===`col`?new bM(L,L,a,d,a9([]),!b,!c):a===`embed`?new bM(L,L,a,d,a9([]),!b,!c):a===`hr`?new bM(L,L,a,d,a9([]),!b,!c):a===`img`?new bM(L,L,a,d,a9([]),!b,!c):a===a0?new bM(L,L,a,d,a9([]),!b,!c):a===`link`?new bM(L,L,a,d,a9([]),!b,!c):a===`meta`?new bM(L,L,a,d,a9([]),!b,!c):a===`param`?new bM(L,L,a,d,a9([]),!b,!c):a===`source`?new bM(L,L,a,d,a9([]),!b,!c):a===`track`?new bM(L,L,a,d,a9([]),!b,!c):a===`wbr`?new bM(L,L,a,d,a9([]),!b,!c):new bM(L,L,a,d,e,!b,!b));var bG=((a,d)=>{for(;;){let e=a,f=d;if(f>c){let g=bk(e);if(g instanceof ak)a=g[c][b],d=f- b;else return e}else return e}});var bD=((a,b,c)=>{for(;;){let d=a,e=b,f=c;if(d instanceof ab)return e;{let g=d.head;a=d.tail,b=f(e,g),c=f}}});var b7=((a,b)=>{let d=b3(a,b);if(!(d<c))return a.array[d]});var cj=(a=>{let b=new m;if(a)for(let c of cl(a)){let a=c?.key||c?.getAttribute?.(a3);a&&b.set(a,c)};return b});var bH=(a=>{let b=br(a);return b});var cf=(({prev:a,next:e,dispatch:f,stack:g})=>{let h=e.namespace||a2,i=a&&a.nodeType===Node.ELEMENT_NODE&&a.localName===e.tag&&a.namespaceURI===(e.namespace||a2),j=i?a:h?document.createElementNS(h,e.tag):document.createElement(e.tag),l;if(cg.has(j))l=cg.get(j);else{let a=new m;cg.set(j,a),l=a};let n=i?new q(l.keys()):k,o=i?new q(H.from(a.attributes,a=>a.name)):k,p=k,r=k,s=k;if(i&&e.tag===`textarea`){let a=e.children[d]().next().value?.content;a!==void c&&(j.value=a)};let t=[];for(let a of e.attrs){let d=a[c],e=a[b];if(a.as_property)j[d]!==e&&(j[d]=e),i&&o.delete(d);else if(d.startsWith(Z)){let a=d.slice(x),b=f(e,a===a0);l.has(a)||j.addEventListener(a,ch),l.set(a,b),i&&n.delete(a)}else if(d.startsWith(`data-lustre-on-`)){let a=d.slice(15),b=f(ci);l.has(a)||j.addEventListener(a,ch),l.set(a,b),j.setAttribute(d,e),i&&(n.delete(a),o.delete(d))}else d.startsWith(`delegate:data-`)||d.startsWith(`delegate:aria-`)?(j.setAttribute(d,e),t.push([d.slice(10),e])):d===$?(p=p===k?e:p+ P+ e):d===_?(r=r===k?e:r+ e):d===`dangerous-unescaped-html`?(s=e):(j.getAttribute(d)!==e&&j.setAttribute(d,e),(d===`value`||d===`selected`)&&(j[d]=e),i&&o.delete(d))};if(p!==k&&(j.setAttribute($,p),i&&o.delete($)),r!==k&&(j.setAttribute(_,r),i&&o.delete(_)),i){for(let a of o)j.removeAttribute(a);for(let a of n)l.delete(a),j.removeEventListener(a,ch)};if(e.tag===`slot`&&window.queueMicrotask(()=>{for(let a of j.assignedElements())for(let [b,c] of t)a.hasAttribute(b)||a.setAttribute(b,c)}),e.key!==void c&&e.key!==L)j.setAttribute(a3,e.key);else if(s!==k)return j.innerHTML=s,j;let u=j.firstChild,v=k,w=k,y=k,z=cl(e).next().value;if(i&&z!==void c&&z.key!==void c&&z.key!==L){v=new q,w=cj(a),y=cj(e);for(let a of cl(e))u=ck(u,a,j,g,y,w,v)}else for(let a of cl(e))g.unshift({prev:u,next:a,parent:j}),u=u?.nextSibling;for(;u;){let a=u.nextSibling;j.removeChild(u),u=a};return j});var ce=((a,b,d)=>{let e,f=[{prev:a,next:b,parent:a.parentNode}];for(;f.length;){let {prev:a,next:b,parent:g}=f.pop();for(;b.subtree!==void c;)b=b.subtree();if(b.content!==void c)if(a)if(a.nodeType===Node.TEXT_NODE)a.textContent!==b.content&&(a.textContent=b.content),e??=a;else{let c=document.createTextNode(b.content);g.replaceChild(c,a),e??=c}else{let a=document.createTextNode(b.content);g.appendChild(a),e??=a}else if(b.tag!==void c){let c=cf({prev:a,next:b,dispatch:d,stack:f});a?a!==c&&g.replaceChild(c,a):g.appendChild(c),e??=c}};return e});var c3=(a=>am(a.created,bo())&&am(a.removed,b$())&&am(a.updated,bo()));var bF=((a,b,d)=>bE(a,b,d,c));var by=((a,d)=>{if(a.bitSize===c)return d;for(let e=c;e<a.byteSize- b;e++)d+=a.byteAt(e).toString(),d+=T;if(a.byteSize*g===a.bitSize)d+=a.byteAt(a.byteSize- b).toString();else{let c=a.bitSize%g;d+=a.byteAt(a.byteSize- b)>>g- c,d+=`:size(${c})`};return d});var aV=(a=>(a-=a>>b&1431655765,a=(a&G)+ (a>>x&G),a=a+ (a>>A)&252645135,a+=a>>g,a+=a>>B,a&127));var bX=(a=>bT(`role`,a));var aZ=((a,d)=>{let e=a.length,f=new H(e- b),g=c,h=c;for(;g<d;)f[h++]=a[g++];for(++g;g<e;)f[h++]=a[g++];return f});var bV=(a=>bT(_,bD(a,L,(a,d)=>{let e=d[c],f=d[b];return a+ e+ `:`+ f+ `;`})));var bU=((a,b)=>new bO(Z+ a,b));var bT=((a,c)=>new bN(a,c,!b));var aX=((a,b,d)=>{let e=a.length,f=new H(e);for(let b=c;b<e;++b)f[b]=a[b];return f[b]=d,f});var bu=(b=>{let c=j(b)?.constructor?.name||X,d=[];for(let c of a(b))d.push(`${br(c)}: ${br(b[c])}`);let e=d.length?P+ d.join(T)+ P:L;return `//js(${c===X?L:c+ P}{${e}})`});var bp=(a=>a7.fromArray(a.entries()));var b4=((a,b,c,d)=>{switch(a.type){case aP:return b5(a,b,c,d);case aQ:return b6(a,b,c,d);case aR:return b7(a,d)}});var aE=(a=>{let b=c,d=a.length;for(let e=c;e<d;e++)b=y(z,b)+ a.charCodeAt(e)|c;return b});var aF=(a=>{aA.setFloat64(c,a);let b=aA.getInt32(c),d=aA.getInt32(A);return y(73244475,b>>B^b)^d});var ap=((a,b)=>!(a instanceof ad)&&a.buffer instanceof o&&a.BYTES_PER_ELEMENT&&!(a.byteLength===b.byteLength&&a.every((a,c)=>a===b[c])));var ae=((a,d,e)=>{if(d===c)return a[e]??c;{let c=a[e]<<d&255,f=a[e+ b]>>g- d;return c|f}});var cJ=(()=>a=>{let d=a[c][c],e=a[c][b];return a=>e instanceof cG?d+ x:d- x});var bQ=((a,b,c)=>bF(a,b,(a,b,d)=>{let e=c+ Y+ bg(d);return bR(b,a,e)}));var bR=((a,d,e)=>{for(;;){let f=a,g=d,h=e;if(f instanceof bL)return g;if(f instanceof bM){let a=f.attrs,d=f.children,e=bD(a,g,(a,d)=>{let e=bP(d);if(e instanceof ak){let d=e[c][c],f=e[c][b];return bz(a,h+ Y+ d,f)}else return a});return bQ(d,e,h)}else{let b=f.subtree;a=b(),d=g,e=h}}});var bC=(a=>bB(bp(a),a9([])));var bq=((a,b,c)=>c.set(a,b));var bz=((a,b,c)=>bq(b,c,a));var aW=((a,c)=>aV(a&c- b));var aD=((a,b)=>a^b+ 2654435769+ (a<<6)+ (a>>x)|c);var ba=((a,b,d,e)=>{let f=aU(d,b);if((a.bitmap&f)===c)return a;let g=aW(a.bitmap,f),h=a.array[g];if(h.type!==aO){let i=b8(h,b+ aJ,d,e);return i===h?a:i!==void c?{type:aQ,bitmap:a.bitmap,array:aX(a.array,g,i)}:a.bitmap===f?void c:{type:aQ,bitmap:a.bitmap^f,array:aZ(a.array,g)}};return am(e,h.k)?a.bitmap===f?void c:{type:aQ,bitmap:a.bitmap^f,array:aZ(a.array,g)}:a});var bo=(()=>bd.new());var aI=(a=>{if(a===k)return 1108378658;if(a===void c)return 1108378659;if(a===!c)return 1108378657;if(a===!b)return 1108378656;switch(typeof a){case C:return aF(a);case D:return aE(a);case E:return aG(a);case s:return aH(a);case `symbol`:return aC(a);case l:return aC(a);default:return c}});var aH=(b=>{let d=j(b);if(d!==k&&typeof d.hashCode==l)try{let a=b.hashCode(b);if(typeof a==C)return a}catch{};if(b instanceof t||b instanceof u||b instanceof v)return aC(b);if(b instanceof n)return aF(b.getTime());let f=c;if(b instanceof o&&(b=new e(b)),p(b)||b instanceof e)for(let a=c;a<b.length;a++)f=y(z,f)+ aI(b[a])|c;else if(b instanceof q)b.forEach(a=>{f=f+ aI(a)|c});else if(b instanceof m)b.forEach((a,b)=>{f=f+ aD(aI(a),aI(b))|c});else{let d=a(b);for(let a=c;a<d.length;a++){let e=d[a],g=b[e];f=f+ aD(aI(g),aE(e))|c}};return f});var bx=(a=>`//utfcodepoint(${U.fromCodePoint(a.value)})`);var bh=(a=>{let b=a.toString().replace(K,L);if(b.indexOf(M)>=c)return b;{let a=b.indexOf(`e`);return a>=c?b.slice(c,a)+ N+ b.slice(a):b+ N}});var cL=(()=>{let a=a=>cI()([a])(void c),b=a=>cJ()([a])(void c),d=cw(a,(a,c)=>b([a,c]),a=>cK()([a])(void c)),e=cx(d,`#app_111979b6f9799c235366af3c9244a964938c6d708248206ffc913e8e0f6fa80e`,c);if(!(e instanceof ak))throw ax(`let_assert`,cF,`main`,104,`method0`,`Pattern match failed, no pattern matched the value.`,{value:e,start:3700,end:3742,pattern_start:3711,pattern_end:3716})});var cB=((a,b)=>bU(a,b));var cD=((a,b,c)=>a(a8(bW(`lustre-ui-button`),a8(bX(a5),b)),c));var cy=((a,b)=>bY(`div`,a,b));var bj=(a=>{if(f.Intl&&O)return bi||=new O,bi.segment(a)[d]()});var bA=((a,b)=>{for(;;){let c=a,d=b;if(c instanceof ab)return d;{let e=c.head;a=c.tail,b=a8(e,d)}}});var ck=((a,b,d,e,f,g,h)=>{for(;a&&!f.has(a.getAttribute(a3));){let b=a.nextSibling;d.removeChild(a),a=b};if(g.size===c)return e.unshift({prev:a,next:b,parent:d}),a=a?.nextSibling,a;if(h.has(b.key))return console.warn(`Duplicate key found in Lustre vnode: ${b.key}`),e.unshift({prev:k,next:b,parent:d}),a;h.add(b.key);let i=g.get(b.key);if(!i&&!a)return e.unshift({prev:k,next:b,parent:d}),a;if(!i&&a!==k){let c=document.createTextNode(L);return d.insertBefore(c,a),e.unshift({prev:c,next:b,parent:d}),a};return !i||i===a?(e.unshift({prev:a,next:b,parent:d}),a=a?.nextSibling,a):(d.insertBefore(i,a),e.unshift({prev:i,next:b,parent:d}),a)});var bP=(a=>{if(a instanceof bN)return new al(void c);{let d=a[c],e=a[b],f=bG(d,x);return new ak([f,e])}});var bE=((a,c,d,e)=>{for(;;){let f=a,g=c,h=d,i=e;if(f instanceof ab)return g;{let j=f.head;a=f.tail,c=h(g,j,i),d=h,e=i+ b}}});var cz=((a,b)=>bY(`p`,a,b));var av=(a=>typeof a==s&&a!==k);var a9=((a,b)=>a7.fromArray(a,b));var cx=((a,b,c)=>bI(!cr(),new al(new cu),()=>co(a,b,c)));function*cl(a){for(let b of a.children)yield*cm(b)}var bB=((a,b)=>{for(;;){let d=a,e=b;if(d instanceof ab)return bA(e,a9([]));{let f=d.tail,g=d.head[c];a=f,b=a8(g,e)}}});var aY=((a,d,e)=>{let f=a.length,g=new H(f+ b),h=c,i=c;for(;h<d;)g[i++]=a[h++];for(g[i++]=e;h<f;)g[i++]=a[h++];return g});var b5=((a,b,d,e)=>{let f=aT(d,b),g=a.array[f];if(g!==void c){if(g.type!==aO)return b4(g,b+ aJ,d,e);if(am(e,g.k))return g}});var a6=class{withFields(b){let c=a(this).map(a=>a in b?b[a]:this[a]);return new this.constructor(...c)}},a7=class{static fromArray(a,d){let e=d||new ab;for(let d=a.length- b;d>=c;--d)e=new ac(a[d],e);return e}[d](){return new aa(this)}toArray(){return [...this]}atLeastLength(a){let b=this;for(;a-->c&&b;)b=b.tail;return b!==void c}hasLength(a){let d=this;for(;a-->c&&d;)d=d.tail;return a===-b&&d instanceof ab}countLength(){let a=this,d=c;for(;a;)a=a.tail,d++;return d- b}};var aa=class{#e;constructor(a){this.#e=a}next(){if(this.#e instanceof ab)return {done:!c};{let {head:a,tail:c}=this.#e;return this.#e=c,{value:a,done:!b}}}},ab=class extends a7{},ac=class extends a7{constructor(a,b){super(),this.head=a,this.tail=b}},ad=class{bitSize;byteSize;bitOffset;rawBuffer;constructor(a,b,d){if(!(a instanceof e))throw f.Error(`BitArray can only be constructed from a Uint8Array`);if(this.bitSize=b??a.length*g,this.byteSize=h((this.bitSize+ i)/g),this.bitOffset=d??c,this.bitSize<c)throw f.Error(`BitArray bit size is invalid: ${this.bitSize}`);if(this.bitOffset<c||this.bitOffset>i)throw f.Error(`BitArray bit offset is invalid: ${this.bitOffset}`);if(a.length!==h((this.bitOffset+ this.bitSize+ i)/g))throw f.Error(`BitArray buffer length is invalid`);this.rawBuffer=a}byteAt(a){if(!(a<c||a>=this.byteSize))return ae(this.rawBuffer,this.bitOffset,a)}equals(a){if(this.bitSize!==a.bitSize)return !b;let d=h(this.bitSize/g);if(this.bitOffset===c&&a.bitOffset===c){for(let e=c;e<d;e++)if(this.rawBuffer[e]!==a.rawBuffer[e])return !b;let e=this.bitSize%g;if(e){let c=g- e;if(this.rawBuffer[d]>>c!==a.rawBuffer[d]>>c)return !b}}else{for(let e=c;e<d;e++){let c=ae(this.rawBuffer,this.bitOffset,e),d=ae(a.rawBuffer,a.bitOffset,e);if(c!==d)return !b};let e=this.bitSize%g;if(e){let c=ae(this.rawBuffer,this.bitOffset,d),f=ae(a.rawBuffer,a.bitOffset,d),h=g- e;if(c>>h!==f>>h)return !b}};return !c}buffer(){if(ah(`buffer`,`Use BitArray.byteAt() or BitArray.rawBuffer instead`),this.bitOffset!==c||this.bitSize%g!==c)throw new f.Error(`BitArray.buffer does not support unaligned bit arrays`);return this.rawBuffer}length(){if(ah(`length`,`Use BitArray.bitSize or BitArray.byteSize instead`),this.bitOffset!==c||this.bitSize%g!==c)throw new f.Error(`BitArray.length does not support unaligned bit arrays`);return this.rawBuffer.length}};var af=class{constructor(a){this.value=a}},ag={};var ai=class aj extends a6{static isResult(a){return a instanceof aj}},ak=class extends ai{constructor(a){super(),this[c]=a}isOk(){return !c}},al=class extends ai{constructor(a){super(),this[c]=a}isOk(){return !b}};var ay=class extends a6{};var az=new v,aA=new DataView(new o(g)),aB=c;var aJ=5,aK=F.pow(x,aJ),aL=aK- b,aM=aK/x,aN=aK/A,aO=c,aP=b,aQ=x,aR=3,aS={type:aQ,bitmap:c,array:[]};var bd=class aj{static fromObject(b){let d=a(b),e=aj.new();for(let a=c;a<d.length;a++){let c=d[a];e=e.set(c,b[c])};return e}static fromMap(a){let b=aj.new();return a.forEach((a,c)=>{b=b.set(c,a)}),b}static new(){return new aj(void c,c)}constructor(a,b){this.root=a,this.size=b}get(a,b){if(this.root===void c)return b;let d=b4(this.root,c,aI(a),a);return d===void c?b:d.v}set(a,d){let e={val:!b},f=this.root===void c?aS:this.root,g=a$(f,c,aI(a),a,d,e);return g===this.root?this:new aj(g,e.val?this.size+ b:this.size)}delete(a){if(this.root===void c)return this;let d=b8(this.root,c,aI(a),a);return d===this.root?this:d===void c?aj.new():new aj(d,this.size- b)}has(a){return this.root===void c?!b:b4(this.root,c,aI(a),a)!==void c}entries(){if(this.root===void c)return [];let a=[];return this.forEach((b,c)=>a.push([c,b])),a}forEach(a){bc(this.root,a)}hashCode(){let a=c;return this.forEach((b,d)=>{a=a+ aD(aI(b),aI(d))|c}),a}equals(a){if(!(a instanceof aj)||this.size!==a.size)return !b;try{return this.forEach((b,c)=>{if(!am(a.get(c,!b),b))throw be}),!c}catch(a){if(a===be)return !b;throw a}}},be=J();var bf=void c;var bi;var bl=[P,Q,`\n",
       "`,`\\\\v`,R,S,`\\\\x85`,`\\\\u2028`,`\\\\u2029`].join(L),bm=new r(`^[${bl}]*`),bn=new r(`[${bl}]*$`);var bJ=class extends a6{constructor(a){super(),this.all=a}};var bL=class extends a6{constructor(a){super(),this.content=a}},bM=class extends a6{constructor(a,b,c,d,e,f,g){super(),this.key=a,this.namespace=b,this.tag=c,this.attrs=d,this.children=e,this.self_closing=f,this.void=g}};var bN=class extends a6{constructor(a,d,e){super(),this[c]=a,this[b]=d,this.as_property=e}},bO=class extends a6{constructor(a,d){super(),this[c]=a,this[b]=d}};var b_=class extends a6{constructor(a){super(),this.dict=a}};var c0=class extends a6{constructor(a){super(),this[c]=a}},c1=class extends a6{constructor(a,d){super(),this[c]=a,this[b]=d}},c2=class extends a6{constructor(a,d){super(),this[c]=a,this[b]=d}};var c4=class extends a6{constructor(a){super(),this[c]=a}},c5=class extends a6{constructor(a,d){super(),this[c]=a,this[b]=d}},c6=class extends a6{constructor(a){super(),this[c]=a}},c7=class extends a6{constructor(a){super(),this[c]=a}},c8=class extends a6{constructor(a,d){super(),this[c]=a,this[b]=d}},c9=class extends a6{constructor(a,d){super(),this[c]=a,this[b]=d}};var ca=class extends a6{},cb=class extends a6{constructor(a,d){super(),this[c]=a,this[b]=d}},cc=class extends a6{constructor(a){super(),this[c]=a}},cd=class extends a6{constructor(a){super(),this[c]=a}};f.customElements&&!f.customElements.get(a1)&&f.customElements.define(a1,class extends HTMLElement{constructor(){super()}});var cg=new v;var cn=class aj{static start({init:a,update:b,view:c},d,e){if(!cr())return new al(new cu);let f=d instanceof HTMLElement?d:document.querySelector(d);if(!f)return new al(new ct(d));let g=new aj(f,a(e),b,c);return new ak(a=>g.send(a))}constructor(a,[b,d],e,f){this.root=a,this.#e=b,this.#s=e,this.#r=f,this.#t=window.setTimeout(()=>this.#n(d.all.toArray(),!c),c)}root;send(a){if(a instanceof c6){if(a[c] instanceof cd){this.#t=window.clearTimeout(this.#t),this.#i=[],this.#e=a[c][c];let d=this.#r(this.#e),e=(a,d=!b)=>b=>{let e=a(b);e instanceof ak&&this.send(new c7(e[c],d))},f=this.root.firstChild??this.root.appendChild(document.createTextNode(L));ce(f,d,e)}}else if(a instanceof c7){let d=a[c],e=a[b]??!b;this.#i.push(d),e?(this.#t=window.clearTimeout(this.#t),this.#n()):this.#t||(this.#t=window.setTimeout(()=>this.#n()))}else if(a instanceof c8){let d=a[c],e=a[b];this.root.dispatchEvent(new CustomEvent(d,{detail:e,bubbles:!c,composed:!c}))}else if(a instanceof ca)for(this.#t=window.clearTimeout(this.#t),this.#e=k,this.#s=k,this.#r=k,this.#i=k;this.root.firstChild;)this.root.firstChild.remove()}#e;#s;#r;#i=[];#t;#n(a=[]){this.#t=void c,this.#o(a);let d=this.#r(this.#e),e=(a,d=!b)=>b=>{let e=a(b);e instanceof ak&&this.send(new c7(e[c],d))},f=this.root.firstChild??this.root.appendChild(document.createTextNode(L));ce(f,d,e)}#o(a=[]){for(;this.#i.length>c;){let b=this.#i.shift(),[c,d]=this.#s(this.#e,b);a=a.concat(d.all.toArray()),this.#e=c};for(;a.length>c;){let b=a.shift(),d=a=>this.send(new c7(a)),e=(a,b)=>this.root.dispatchEvent(new CustomEvent(a,{detail:b,bubbles:!c,composed:!c})),f=()=>{},g=this.root;b({dispatch:d,emit:e,select:f,root:g})};this.#i.length>c&&this.#o(a)}},co=cn.start;var cp=class aj{static start({init:a,update:b,view:c,on_attribute_change:d},e){let f=new aj(a(e),b,c,d);return new ak(a=>f.send(a))}constructor([a,b],c,d,e){this.#e=a,this.#s=c,this.#i=d,this.#t=d(a),this.#u=e,this.#n=new m,this.#o=bS(this.#t),this.#l(b.all.toArray())}send(a){if(a instanceof c4){for(let d of a[c]){let a=this.#u.get(d[c]);if(!a)continue;let e=a(d[b]);e instanceof al||this.#r.push(e)};this.#l()}else if(a instanceof c5)this.#r=this.#r.concat(a[c].toArray()),this.#l(a[b].all.toArray());else if(!(a instanceof c6))if(a instanceof c7)this.#r.push(a[c]),this.#l();else if(a instanceof c8){let d=new c1(a[c],a[b]);for(let [a,b] of this.#n)b(d)}else if(a instanceof c9){let d=this.#o.get(a[c]);if(!d)return;let e=d(a[b]);if(e instanceof al)return;this.#r.push(e[c]),this.#l()}else if(a instanceof cb){let d=bC(this.#u),e=new c2(d,this.#t);this.#n=this.#n.set(a[c],a[b]),a[b](e)}else a instanceof cc&&(this.#n=this.#n.delete(a[c]))}#e;#s;#r;#i;#t;#n;#o;#u;#l(a=[]){this.#a(a);let b=this.#i(this.#e),c=elements(this.#t,b);if(!c3(c)){let a=new c0(c);for(let [b,c] of this.#n)c(a)};this.#t=b,this.#o=c.handlers}#a(a=[]){for(;this.#r.length>c;){let b=this.#r.shift(),[c,d]=this.#s(this.#e,b);a=a.concat(d.all.toArray()),this.#e=c};for(;a.length>c;)a.shift()({dispatch:a=>this.send(new c7(a)),emit:(a,b)=>this.root.dispatchEvent(new CustomEvent(a,{detail:b,bubbles:!c,composed:!c})),select:()=>{},root:k});this.#r.length>c&&this.#a(a)}},cq=cp.start,cr=()=>f.window&&window.document;var cs=class extends a6{constructor(a,b,c,d){super(),this.init=a,this.update=b,this.view=c,this.on_attribute_change=d}};var ct=class extends a6{constructor(a){super(),this.selector=a}},cu=class extends a6{};var cF=`src/main.gleam`,cG=class extends a6{},cH=class extends a6{};cM()})()</script><link crossorigin href=./spiral_111979b6f9799c235366af3c9244a964938c6d708248206ffc913e8e0f6fa80e-962a82a6eb5ddc8d.js rel=modulepreload><link as=fetch crossorigin href=./spiral_111979b6f9799c235366af3c9244a964938c6d708248206ffc913e8e0f6fa80e-962a82a6eb5ddc8d_bg.wasm rel=preload type=application/wasm></head><body><div id=app_111979b6f9799c235366af3c9244a964938c6d708248206ffc913e8e0f6fa80e></div><script type=module>import init, * as bindings from './spiral_111979b6f9799c235366af3c9244a964938c6d708248206ffc913e8e0f6fa80e-962a82a6eb5ddc8d.js';\n",
       "const wasm = await init({ module_or_path: './spiral_111979b6f9799c235366af3c9244a964938c6d708248206ffc913e8e0f6fa80e-962a82a6eb5ddc8d_bg.wasm' });\n",
       "\n",
       "\n",
       "window.wasmBindings = bindings;\n",
       "\n",
       "\n",
       "dispatchEvent(new CustomEvent(\"TrunkApplicationStarted\", {detail: {wasm}}));</script></body></html>\n"
      ]
     },
     "metadata": {},
     "output_type": "display_data"
    }
   ],
   "source": [
    "//// test\n",
    "///! gleam -t javascript -d lustre=\\\">=4.6.0\\\" lustre_ui=\\\"1.0.0-rc.1\\\" gleam_json=\\\">=2.0.0\\\"\n",
    "\n",
    "simple init (update 2) view\n",
    "|> start \"#app_\""
   ]
  }
 ],
 "metadata": {},
 "nbformat": 4,
 "nbformat_minor": 5
}