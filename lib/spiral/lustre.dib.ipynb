{
 "cells": [
  {
   "cell_type": "markdown",
   "metadata": {},
   "source": [
    "# lustre"
   ]
  },
  {
   "cell_type": "code",
   "execution_count": null,
   "metadata": {
    "dotnet_interactive": {
     "language": "fsharp"
    },
    "polyglot_notebook": {
     "kernelName": "fsharp"
    }
   },
   "outputs": [],
   "source": [
    "#!import ../../../polyglot/lib/fsharp/Notebooks.dib"
   ]
  },
  {
   "cell_type": "markdown",
   "metadata": {},
   "source": [
    "## lustre"
   ]
  },
  {
   "cell_type": "markdown",
   "metadata": {},
   "source": [
    "### attribute"
   ]
  },
  {
   "cell_type": "code",
   "execution_count": null,
   "metadata": {
    "dotnet_interactive": {
     "language": "spiral"
    },
    "polyglot_notebook": {
     "kernelName": "spiral"
    }
   },
   "outputs": [],
   "source": [
    "nominal attribute t =\n",
    "    `(\n",
    "        backend_switch `(()) `({}) {\n",
    "            Gleam = (fun () => global \"import lustre/internals/vdom\") : () -> ()\n",
    "        }\n",
    "        $'' : $'vdom.Attribute(`t)'\n",
    "    )"
   ]
  },
  {
   "cell_type": "markdown",
   "metadata": {},
   "source": [
    "### element"
   ]
  },
  {
   "cell_type": "code",
   "execution_count": null,
   "metadata": {
    "dotnet_interactive": {
     "language": "spiral"
    },
    "polyglot_notebook": {
     "kernelName": "spiral"
    }
   },
   "outputs": [],
   "source": [
    "nominal element t =\n",
    "    `(\n",
    "        backend_switch `(()) `({}) {\n",
    "            Gleam = (fun () => global \"import lustre/element.{type Element}\") : () -> ()\n",
    "        }\n",
    "        $'' : $'Element(`t)'\n",
    "    )"
   ]
  },
  {
   "cell_type": "markdown",
   "metadata": {},
   "source": [
    "### text"
   ]
  },
  {
   "cell_type": "code",
   "execution_count": null,
   "metadata": {
    "dotnet_interactive": {
     "language": "spiral"
    },
    "polyglot_notebook": {
     "kernelName": "spiral"
    }
   },
   "outputs": [],
   "source": [
    "inl text forall t. (text : string) : element t =\n",
    "    global \"import lustre/element/html\"\n",
    "    $'element.text(!text)'"
   ]
  },
  {
   "cell_type": "markdown",
   "metadata": {},
   "source": [
    "### on_click"
   ]
  },
  {
   "cell_type": "code",
   "execution_count": null,
   "metadata": {
    "dotnet_interactive": {
     "language": "spiral"
    },
    "polyglot_notebook": {
     "kernelName": "spiral"
    }
   },
   "outputs": [],
   "source": [
    "inl on_click forall t. (msg : t) : attribute t =\n",
    "    global \"import lustre/event\"\n",
    "    $'event.on_click(!msg)'"
   ]
  },
  {
   "cell_type": "markdown",
   "metadata": {},
   "source": [
    "### style"
   ]
  },
  {
   "cell_type": "code",
   "execution_count": null,
   "metadata": {
    "dotnet_interactive": {
     "language": "spiral"
    },
    "polyglot_notebook": {
     "kernelName": "spiral"
    }
   },
   "outputs": [],
   "source": [
    "inl style forall t. (styles : list (string * string)) : attribute t =\n",
    "    global \"import lustre/attribute\"\n",
    "    inl styles = styles |> listm'.box\n",
    "    $'attribute.style(!styles)'"
   ]
  },
  {
   "cell_type": "markdown",
   "metadata": {},
   "source": [
    "### div"
   ]
  },
  {
   "cell_type": "code",
   "execution_count": null,
   "metadata": {
    "dotnet_interactive": {
     "language": "spiral"
    },
    "polyglot_notebook": {
     "kernelName": "spiral"
    }
   },
   "outputs": [],
   "source": [
    "inl div forall t. (attributes : list (attribute t)) (children : list (element t)) : element t =\n",
    "    global \"import lustre/element/html\"\n",
    "    inl attributes = attributes |> listm'.box\n",
    "    inl children = children |> listm'.box\n",
    "    $'html.div(!attributes, !children)'"
   ]
  },
  {
   "cell_type": "markdown",
   "metadata": {},
   "source": [
    "### p"
   ]
  },
  {
   "cell_type": "code",
   "execution_count": null,
   "metadata": {
    "dotnet_interactive": {
     "language": "spiral"
    },
    "polyglot_notebook": {
     "kernelName": "spiral"
    }
   },
   "outputs": [],
   "source": [
    "inl p forall t. (attributes : list (attribute t)) (children : list (element t)) : element t =\n",
    "    global \"import lustre/element/html\"\n",
    "    inl attributes = attributes |> listm'.box\n",
    "    inl children = children |> listm'.box\n",
    "    $'html.p(!attributes, !children)'"
   ]
  },
  {
   "cell_type": "markdown",
   "metadata": {},
   "source": [
    "### button"
   ]
  },
  {
   "cell_type": "code",
   "execution_count": null,
   "metadata": {
    "dotnet_interactive": {
     "language": "spiral"
    },
    "polyglot_notebook": {
     "kernelName": "spiral"
    }
   },
   "outputs": [],
   "source": [
    "inl button forall t. (attributes : list (attribute t)) (children : list (element t)) : element t =\n",
    "    global \"import lustre/ui/button.{button}\"\n",
    "    inl attributes = attributes |> listm'.box\n",
    "    inl children = children |> listm'.box\n",
    "    $'button(!attributes, !children)'"
   ]
  },
  {
   "cell_type": "markdown",
   "metadata": {},
   "source": [
    "### centre"
   ]
  },
  {
   "cell_type": "code",
   "execution_count": null,
   "metadata": {
    "dotnet_interactive": {
     "language": "spiral"
    },
    "polyglot_notebook": {
     "kernelName": "spiral"
    }
   },
   "outputs": [],
   "source": [
    "inl centre forall t. (attributes : list (attribute t)) (children : element t) : element t =\n",
    "    global \"import lustre/ui/centre.{centre}\"\n",
    "    inl attributes = attributes |> listm'.box\n",
    "    $'centre(!attributes, !children)'"
   ]
  },
  {
   "cell_type": "markdown",
   "metadata": {},
   "source": [
    "### app"
   ]
  },
  {
   "cell_type": "code",
   "execution_count": null,
   "metadata": {
    "dotnet_interactive": {
     "language": "spiral"
    },
    "polyglot_notebook": {
     "kernelName": "spiral"
    }
   },
   "outputs": [],
   "source": [
    "nominal app model msg = $'lustre.App(`model, `model, `msg)'"
   ]
  },
  {
   "cell_type": "markdown",
   "metadata": {},
   "source": [
    "### simple"
   ]
  },
  {
   "cell_type": "code",
   "execution_count": null,
   "metadata": {
    "dotnet_interactive": {
     "language": "spiral"
    },
    "polyglot_notebook": {
     "kernelName": "spiral"
    }
   },
   "outputs": [],
   "source": [
    "inl simple forall model msg.\n",
    "    (init : model -> model)\n",
    "    (update : model * msg -> model)\n",
    "    (view : model -> element msg)\n",
    "    : app model msg\n",
    "    =\n",
    "    global \"import lustre\"\n",
    "    $'lustre.simple(!init, fn (a, b) { !update(#(a, b)) }, !view)'"
   ]
  },
  {
   "cell_type": "markdown",
   "metadata": {},
   "source": [
    "### start"
   ]
  },
  {
   "cell_type": "code",
   "execution_count": null,
   "metadata": {
    "dotnet_interactive": {
     "language": "spiral"
    },
    "polyglot_notebook": {
     "kernelName": "spiral"
    }
   },
   "outputs": [],
   "source": [
    "inl start app =\n",
    "    $'let assert Ok(_) = lustre.start(!app, \"#app\", 0)' : ()"
   ]
  },
  {
   "cell_type": "markdown",
   "metadata": {},
   "source": [
    "### model"
   ]
  },
  {
   "cell_type": "code",
   "execution_count": null,
   "metadata": {
    "dotnet_interactive": {
     "language": "spiral"
    },
    "polyglot_notebook": {
     "kernelName": "spiral"
    }
   },
   "outputs": [],
   "source": [
    "type model = int"
   ]
  },
  {
   "cell_type": "markdown",
   "metadata": {},
   "source": [
    "### init"
   ]
  },
  {
   "cell_type": "code",
   "execution_count": null,
   "metadata": {
    "dotnet_interactive": {
     "language": "spiral"
    },
    "polyglot_notebook": {
     "kernelName": "spiral"
    }
   },
   "outputs": [],
   "source": [
    "inl init initial_count =\n",
    "    if initial_count < 0\n",
    "    then 0\n",
    "    else initial_count"
   ]
  },
  {
   "cell_type": "markdown",
   "metadata": {},
   "source": [
    "### msg"
   ]
  },
  {
   "cell_type": "code",
   "execution_count": null,
   "metadata": {
    "dotnet_interactive": {
     "language": "spiral"
    },
    "polyglot_notebook": {
     "kernelName": "spiral"
    }
   },
   "outputs": [],
   "source": [
    "union msg =\n",
    "    | Incr\n",
    "    | Decr"
   ]
  },
  {
   "cell_type": "markdown",
   "metadata": {},
   "source": [
    "### update"
   ]
  },
  {
   "cell_type": "code",
   "execution_count": null,
   "metadata": {
    "dotnet_interactive": {
     "language": "spiral"
    },
    "polyglot_notebook": {
     "kernelName": "spiral"
    }
   },
   "outputs": [],
   "source": [
    "inl update (model, msg) =\n",
    "    match msg with\n",
    "    | Incr => model + 1\n",
    "    | Decr => model - 1"
   ]
  },
  {
   "cell_type": "markdown",
   "metadata": {},
   "source": [
    "### view"
   ]
  },
  {
   "cell_type": "code",
   "execution_count": null,
   "metadata": {
    "dotnet_interactive": {
     "language": "spiral"
    },
    "polyglot_notebook": {
     "kernelName": "spiral"
    }
   },
   "outputs": [],
   "source": [
    "inl view model =\n",
    "    div [\n",
    "        style [\n",
    "            \"display\", \"flex\"\n",
    "        ]\n",
    "    ] [\n",
    "        div [\n",
    "            style [\n",
    "                \"display\", \"flex\"\n",
    "                \"flex-direction\", \"column\"\n",
    "            ]\n",
    "        ] [\n",
    "            button [\n",
    "                on_click Incr\n",
    "            ] [\n",
    "                text \"+\"\n",
    "            ]\n",
    "            p [\n",
    "                style [\n",
    "                    \"text-align\", \"center\"\n",
    "                ]\n",
    "            ] [\n",
    "                model |> sm'.obj_to_string |> text\n",
    "            ]\n",
    "            button [\n",
    "                on_click Decr\n",
    "            ] [\n",
    "                text \"-\"\n",
    "            ]\n",
    "        ]\n",
    "    ]"
   ]
  },
  {
   "cell_type": "markdown",
   "metadata": {},
   "source": [
    "### main'"
   ]
  },
  {
   "cell_type": "code",
   "execution_count": null,
   "metadata": {
    "dotnet_interactive": {
     "language": "spiral"
    },
    "polyglot_notebook": {
     "kernelName": "spiral"
    }
   },
   "outputs": [],
   "source": [
    "inl main' () =\n",
    "    inl app : _ model _ = simple init update view\n",
    "    app |> start"
   ]
  },
  {
   "cell_type": "code",
   "execution_count": null,
   "metadata": {
    "dotnet_interactive": {
     "language": "spiral"
    },
    "polyglot_notebook": {
     "kernelName": "spiral"
    }
   },
   "outputs": [
    {
     "data": {
      "text/html": [
       "<!doctype html><html lang=en><meta charset=UTF-8><meta content=\"width=device-width,initial-scale=1.0\" name=viewport><style>@layer reset{*,:after,:before{box-sizing:border-box;border:0 solid #e2e8f0}:host,html{-webkit-text-size-adjust:100%;-moz-tab-size:4;-o-tab-size:4;tab-size:4;font-feature-settings:normal;font-variation-settings:normal;-webkit-tap-highlight-color:transparent;line-height:1.5}body{line-height:inherit;margin:0}hr{height:0;color:inherit;border-top-width:1px}abbr:where([title]){text-decoration:underline dotted}h1,h2,h3,h4,h5,h6{font-size:inherit;font-weight:inherit}a{color:inherit;text-decoration:inherit}b,strong{font-weight:bolder}code,kbd,pre,samp{font-feature-settings:normal;font-variation-settings:normal;font-family:ui-monospace,SFMono-Regular,Menlo,Monaco,Consolas,Liberation Mono,Courier New,monospace;font-size:1em}small{font-size:80%}sub,sup{vertical-align:baseline;font-size:75%;line-height:0;position:relative}sub{bottom:-.25em}sup{top:-.5em}table{text-indent:0;border-color:inherit;border-collapse:collapse}button,input,optgroup,select,textarea{font-feature-settings:inherit;font-variation-settings:inherit;font-family:inherit;font-size:100%;font-weight:inherit;line-height:inherit;letter-spacing:inherit;color:inherit;margin:0;padding:0}button,select{text-transform:none}button,input:where([type=button]),input:where([type=reset]),input:where([type=submit]){-webkit-appearance:button;background-color:#0000;background-image:none}:-moz-focusring{outline:auto}:-moz-ui-invalid{box-shadow:none}progress{vertical-align:baseline}::-webkit-inner-spin-button,::-webkit-outer-spin-button{height:auto}[type=search]{-webkit-appearance:textfield;outline-offset:-2px}::-webkit-search-decoration{-webkit-appearance:none}::-webkit-file-upload-button{-webkit-appearance:button;font:inherit}summary{display:list-item}blockquote,dd,dl,figure,h1,h2,h3,h4,h5,h6,hr,p,pre,fieldset{margin:0}fieldset,legend{padding:0}menu,ol,ul{margin:0;padding:0;list-style:none}dialog{padding:0}textarea{resize:vertical}input::-moz-placeholder,textarea::-moz-placeholder{opacity:1;color:#94a3b8}input::placeholder,textarea::placeholder{opacity:1;color:#94a3b8}[role=button],button{cursor:pointer}:disabled{cursor:default}audio,canvas,embed,iframe,img,object,svg,video{vertical-align:middle;display:block}img,video{max-width:100%;height:auto}[hidden]:where(:not([hidden=until-found])){display:none}}@layer primitives{lustre-ui-popover{--gap:var(--lustre-ui-spacing-sm);display:inline;position:relative;&>[slot]{display:contents}&::part(popover-content){z-index:999;transition-property:opacity,transform;transition-duration:.15s;transition-timing-function:cubic-bezier(.4,0,.2,1);display:block;position:absolute;top:0;left:0}&[anchor|=top]{--translate-x:0;&::part(popover-content){padding-bottom:var(--gap);transform:translate(var(--translate-x),-100%)}&[equal-width]::part(popover-content){right:0;--translate-x:0!important;left:0!important}&[anchor=top-left]::part(popover-content){left:0}&[anchor=top-middle]::part(popover-content){--translate-x:-50%;left:50%}&[anchor=top-right]::part(popover-content){--translate-x:-100%;left:100%}&:state(will-expand)::part(popover-content){transform:translate(var(--translate-x),-90%)}&:state(collapsing)::part(popover-content){transform:translate(var(--translate-x),-90%)}}&[anchor|=right]{--translate-y:0;&::part(popover-content){padding-left:var(--gap);transform:translate(0,var(--translate-y));left:100%}&[anchor=right-top]::part(popover-content){top:0}&[anchor=right-middle]::part(popover-content){--translate-y:-50%;top:50%}&[anchor=right-bottom]::part(popover-content){--translate-y:-100%;top:100%}&:state(will-expand)::part(popover-content){transform:translate(-10%,var(--translate-y))}&:state(collapsing)::part(popover-content){transform:translate(-10%,var(--translate-y))}}&[anchor|=bottom]{--translate-x:0;&::part(popover-content){top:unset;padding-top:var(--gap);transform:translate(var(--translate-x),0)}&[equal-width]::part(popover-content){right:0;--translate-x:0!important;left:0!important}&[anchor=bottom-left]::part(popover-content){left:0}&[anchor=bottom-middle]::part(popover-content){--translate-x:-50%;left:50%}&[anchor=bottom-right]::part(popover-content){--translate-x:-100%;left:100%}&:state(will-expand)::part(popover-content){transform:translate(var(--translate-x),-10%)}&:state(collapsing)::part(popover-content){transform:translate(var(--translate-x),-10%)}}&[anchor|=left]{--translate-y:0;&::part(popover-content){padding-right:var(--gap);transform:translate(-100%,var(--translate-y))}&[anchor=left-top]::part(popover-content){top:0}&[anchor=left-middle]::part(popover-content){--translate-y:-50%;top:50%}&[anchor=left-bottom]::part(popover-content){--translate-y:-100%;top:100%}&:state(will-expand)::part(popover-content){transform:translate(-90%,var(--translate-y))}&:state(collapsing)::part(popover-content){transform:translate(-90%,var(--translate-y))}}&:state(will-expand)::part(popover-content){opacity:0}&:state(expanded)::part(popover-content){opacity:100}&:state(will-collapse)::part(popover-content){opacity:100}&:state(collapsing)::part(popover-content){opacity:0}&:state(collapsed)::part(popover-content){display:none}}:where(.lustre-ui-icon){width:1rem;height:1rem}lustre-ui-collapse{--duration:.15s;display:block;&::part(collapse-content){transition-duration:var(--duration);transition-property:height;transition-timing-function:cubic-bezier(.4,0,.2,1);overflow-y:hidden}}}@layer components{.lustre-ui-input{--border:rgb(var(--lustre-ui-accent));--border-focus:rgb(var(--lustre-ui-primary-solid));--border-width:1px;--padding-y:var(--lustre-ui-spacing-sm);--radius:var(--lustre-ui-radius-sm);background-color:rgb(var(--lustre-ui-base-bg-subtle));padding:var(--padding-y);outline-offset:0;border-radius:var(--radius);outline:var(--border-width)solid var(--border);&:focus{outline-color:var(--border-focus)}&:invalid{outline-color:rgb(var(--lustre-ui-danger-solid))}}.lustre-ui-input-container{align-items:center;display:flex;position:relative;&:has(*+input)>input{padding-left:2rem}&:has(input+*)>input{padding-right:2rem}&:has(*+input)>:not(input){left:.5rem}&>input+*{right:.5rem;left:unset!important}&>:not(input){pointer-events:none;width:1rem;height:1rem;position:absolute}}.lustre-ui-divider{--colour:rgb(var(--lustre-ui-accent));--gap:var(--lustre-ui-spacing-sm);--margin:0;--size-x:2px;--size-y:0;&:empty{border-color:var(--colour);border-right-width:var(--size-y);border-style:solid;border-top-width:var(--size-x);margin:var(--margin)0;align-self:stretch}&:not(:empty){align-self:stretch;align-items:center;gap:var(--gap);margin:var(--margin)0;justify-items:center;display:flex;&:before,&:after{background-color:var(--colour);content:\"\";height:var(--size-x);width:var(--size-y);flex-grow:1;display:block}}}lustre-ui-combobox{--padding-x:var(--lustre-ui-spacing-sm);--padding-y:var(--lustre-ui-spacing-sm);--border-width:1px;--radius:var(--lustre-ui-radius-sm);display:inline-block;&::part(combobox-trigger){border-radius:var(--radius);border:rgb(var(--lustre-ui-accent))solid var(--border-width);color:rgb(var(--lustre-ui-text));align-items:center;gap:var(--padding-x);outline-offset:2px;padding:var(--padding-y)var(--padding-x);outline:2px solid #0000;width:100%;display:flex}&:state(trigger-focus)::part(combobox-trigger){border-color:rgb(var(--lustre-ui-primary-solid))}&:state(empty)::part(combobox-trigger){color:rgb(var(--lustre-ui-text-subtle))}&::part(combobox-trigger-label){text-align:left;flex:1}&::part(combobox-trigger-icon){border-radius:var(--radius);width:1.5rem;height:1.5rem;padding:.25rem;transition-property:transform;transition-duration:.15s;transition-timing-function:cubic-bezier(.4,0,.2,1);transform:rotate(0)}&:state(expanded)::part(combobox-trigger-icon){transform:rotate(-180deg)}&:is(:hover,:state(trigger-focus),:state(expanded))::part(combobox-trigger-icon){background-color:rgb(var(--lustre-ui-tint-subtle))}&::part(combobox-options){background-color:rgb(var(--lustre-ui-bg));border:rgb(var(--lustre-ui-accent))solid var(--border-width);border-radius:var(--radius)}&::part(combobox-input){border:none}&::part(combobox-option){cursor:pointer;padding:var(--padding-y)var(--padding-x);align-items:baseline;gap:var(--padding-x);display:flex}&::part(combobox-option last){border-bottom-left-radius:var(--radius);border-bottom-right-radius:var(--radius)}&::part(combobox-option intent){background-color:rgb(var(--lustre-ui-tint-subtle))}}.lustre-ui-checkbox{--background:transparent;--background-hover:transparent;--border:rgb(var(--lustre-ui-accent));--border-hover:rgb(var(--lustre-ui-accent-strong));--border-width:1px;--size:1rem;--check-color:rgb(var(--lustre-ui-solid-text));appearance:none;background-color:var(--background);border:var(--border-width)solid var(--border);border-radius:var(--lustre-ui-radius-sm);cursor:pointer;height:var(--size);width:var(--size);place-content:center;margin:0;display:grid;&:before{background-color:var(--check-color);clip-path:polygon(16% 44%,10% 55%,45% 90%,90% 16%,80% 10%,45% 60%);content:\"\";height:calc(var(--size)*.6);transform-origin:50%;width:calc(var(--size)*.6);transition:transform .15s cubic-bezier(.4,0,.2,1);transform:scale(0)}&:checked{background-color:rgb(var(--lustre-ui-solid));border-color:#0000}&:checked:before{transform:scale(1)}}.lustre-ui-card{--background:rgb(var(--lustre-ui-bg));--border:rgb(var(--lustre-ui-accent-subtle));--border-width:1px;--padding-x:var(--lustre-ui-spacing-xl);--padding-y:var(--lustre-ui-spacing-xl);--radius:var(--lustre-ui-radius-md);background:var(--background);border:var(--border-width)solid var(--border);border-radius:var(--radius);&>*{padding-top:0;padding:var(--padding-y)var(--padding-x)}&>.card-header{flex-direction:column;display:flex}&>.card-footer{align-items:center;display:flex}}.lustre-ui-button{--background:rgb(var(--lustre-ui-tint));--background-hover:rgb(var(--lustre-ui-tint-strong));--border:transparent;--border-hover:transparent;--border-width:1px;--height:2rem;--height-min:2rem;--padding-x:var(--lustre-ui-spacing-sm);--radius:var(--lustre-ui-radius-sm);--text:rgb(var(--lustre-ui-text));background-color:var(--background);border:var(--border-width)solid var(--border);border-radius:var(--radius);color:var(--text);align-items:center;gap:var(--padding-x);min-height:var(--height-min);padding-left:var(--padding-x);padding-right:var(--padding-x);white-space:nowrap;justify-content:center;display:inline-flex;&:disabled{pointer-events:none;opacity:.5;cursor:default}&:hover,&:focus{outline-offset:2px;background-color:var(--background-hover);border-color:var(--border-hover);outline:2px solid #0000}&:active{transform:translateY(1px)}&:is(a){text-decoration:none;&:visited{color:var(--text)}}&.button-icon{--height:2rem;width:var(--height);&>svg{width:100%;height:100%}}&.button-small{--height:2rem;--padding-x:var(--lustre-ui-spacing-sm)}&.button-medium{--height:2.25rem;--padding-x:var(--lustre-ui-spacing-md)}&.button-large{--height:2.5rem;--padding-x:var(--lustre-ui-spacing-lg)}&.button-clear{--background:transparent;--background-hover:rgb(var(--lustre-ui-tint));--border:transparent;--border-hover:transparent;--text:rgb(var(--lustre-ui-text))}&.button-outline{--background:transparent;--background-hover:transparent;--border:rgb(var(--lustre-ui-accent));--border-hover:rgb(var(--lustre-ui-accent-strong));--text:rgb(var(--lustre-ui-text))}&.button-soft{--background:rgb(var(--lustre-ui-tint));--background-hover:rgb(var(--lustre-ui-tint-strong));--border:transparent;--border-hover:transparent;--text:rgb(var(--lustre-ui-text))}&.button-solid{--background:rgb(var(--lustre-ui-solid));--background-hover:rgb(var(--lustre-ui-solid)/.8);--border:transparent;--border-hover:transparent;--text:rgb(var(--lustre-ui-solid-text))}& .button-badge{border:1px solid var(--text);border-radius:var(--radius);margin:0 calc(-1*var(--padding-x)/2);align-items:center;padding:0 1ch;font-size:.625em;display:inline-flex;& .key+.key:before{content:var(--separator,\"\")}& .icon{width:1em;height:1em}}}.lustre-ui-breadcrumb{--gap:var(--lustre-ui-spacing-xs);--text-hover:rgb(var(--lustre-ui-text));--text:rgb(var(--lustre-ui-text-subtle));color:var(--text);align-items:center;gap:var(--gap);flex-wrap:wrap;display:flex;&>.breadcrumb-item{align-items:center;gap:var(--gap);display:inline-flex;&[aria-current=page],&:hover{color:var(--text-hover)}}&>.breadcrumb-separator{user-select:none;pointer-events:none;&>svg{width:1rem;height:1rem}}&>.breadcrumb-ellipsis{user-select:none;justify-content:center;align-items:center;width:2rem;height:2rem;display:flex;&>svg{width:1rem;height:1rem}&>:not(svg){clip:rect(0,0,0,0);white-space:nowrap;border-width:0;width:1px;height:1px;margin:-1px;padding:0;position:absolute;overflow:hidden}}}.lustre-ui-badge{--background:transparent;--background-hover:transparent;--border:rgb(var(--lustre-ui-accent));--border-hover:rgb(var(--lustre-ui-accent-strong));--padding-x:var(--lustre-ui-spacing-sm);--padding-y:var(--lustre-ui-spacing-xs);--radius:var(--lustre-ui-radius-sm);--text:rgb(var(--lustre-ui-text));border:1px solid var(--border);border-radius:var(--radius);background-color:var(--background);color:var(--text);padding:var(--padding-y)var(--padding-x);align-items:center;display:inline-flex;&:is(a,button,[tabindex]):is(:hover,:focus){background-color:var(--background-hover);border-color:var(--border-hover);cursor:pointer}&:active{transform:translateY(1px)}&:empty{padding:max(var(--padding-y),var(--padding-x));border-radius:100%}&.badge-outline{--background:transparent;--background-hover:transparent;--border:rgb(var(--lustre-ui-accent));--border-hover:rgb(var(--lustre-ui-accent-strong));--text:rgb(var(--lustre-ui-text))}&.badge-soft{--background:rgb(var(--lustre-ui-tint));--background-hover:rgb(var(--lustre-ui-tint-strong));--border:transparent;--border-hover:transparent;--text:rgb(var(--lustre-ui-text))}&.badge-solid{--background:rgb(var(--lustre-ui-solid));--background-hover:rgb(var(--lustre-ui-solid)/.8);--border:transparent;--border-hover:transparent;--text:rgb(var(--lustre-ui-solid-text))}}.lustre-ui-alert{--background:rgb(var(--lustre-ui-bg));--border:rgb(var(--lustre-ui-accent));--indicator-size:16px;--padding-x:var(--lustre-ui-spacing-lg);--padding-y:var(--lustre-ui-spacing-md);--radius:0;--text:rgb(var(--lustre-ui-text));--title-margin:var(--padding-y);--title-weight:500;background-color:var(--background);border-radius:var(--radius);border:1px solid var(--border);color:var(--text);padding:var(--padding-y)var(--padding-x);width:full;flex-direction:column;display:flex;position:relative;&>.alert-indicator{width:var(--indicator-size);height:var(--indicator-size);position:absolute}&>.alert-title{font-weight:var(--title-weight);text-overflow:ellipsis;margin-block-end:var(--title-margin);overflow:clip}&:has(.alert-indicator)>:not(.alert-indicator){padding-inline-start:calc(var(--indicator-size) + var(--padding-x))}}lustre-ui-accordion{--padding-x:var(--lustre-ui-spacing-sm);--padding-y:var(--lustre-ui-spacing-sm);--border:rbg(var(--lustre-ui-accent));--border-focus:rgb(var(--lustre-ui-primary-solid));--border-width:1px;--text:rgb(var(--lustre-ui-text));display:block;&::part(accordion-trigger){border-bottom:var(--border)solid var(--border-width);color:var(--text);align-items:center;gap:var(--padding-x);outline-offset:2px;padding:var(--padding-y)var(--padding-x);outline:2px solid #0000;width:100%;display:flex}&::part(accordion-trigger):focus{border-color:var(--border-focus)}&::part(accordion-trigger-label){text-align:left;flex:1}&::part(accordion-trigger-icon){border-radius:var(--radius);height:1.5rem;transition-duration:.15s;transition-property:color transform;width:1.5rem;padding:.25rem;transition-timing-function:cubic-bezier(.4,0,.2,1);transform:rotate(0)}&::part(accordion-trigger-icon expanded){transform:rotate(-180deg)}&::part(accordion-content){padding:var(--padding-y)var(--padding-x);display:block}}}</style><script type=module>let L=32,h=2,i=8,Y=`\"`,q=`function`,N=`+`,O=``,a2=`style`,a9=`button`,g=256,b=1,V=`\\\\r`,P=`.`,f=6,E=16,Z=`0`,p=null,a4=`input`,T=`\t`,a1=`on`,m=4,S=` `,a6=`http://www.w3.org/1999/xhtml`,G=`string`,a5=`lustre-fragment`,x=`object`,a0=`-`,H=`bigint`,a7=`data-lustre-key`,c=0,a3=`class`,Q=`.0`,D=31,F=`number`,_=`Object`,J=858993459,W=`, `,U=`\\\\f`,K=Array,$=Array.from,u=Array.isArray,t=ArrayBuffer,j=BigInt,l=DataView,s=Date,B=Function,R=Intl.Segmenter,a8=JSON.parse,r=Map,I=Math,C=Math.imul,k=Number,o=Object.getPrototypeOf,a=Object.keys,y=Promise,w=RegExp,v=Set,X=String,M=Symbol,d=Symbol.iterator,e=Uint8Array,A=WeakMap,z=WeakSet,n=globalThis;`use strict`;(()=>{var cn=(a=>{let b=new r;if(a)for(let c of cp(a)){let a=c?.key||c?.getAttribute?.(a7);a&&b.set(a,c)};return b});var bL=((a,b,c)=>a?b:c());var bz=(a=>`[${a.toArray().map(bu).join(W)}]`);var cM=(()=>a=>{let d=a[c][c],e=a[c][b];return a=>e instanceof cK?d- b:d+ b});var cI=((a,b)=>cH(cE,ac(bX(`tabindex`,Z),a),b));var cF=((a,b)=>bY(a,b));var cz=((a,b,c)=>new cw(a,b,c,new aB));var c0=((a,d,e)=>a===`area`?new bP(O,O,a,d,ad([]),!b,!c):a===`base`?new bP(O,O,a,d,ad([]),!b,!c):a===`br`?new bP(O,O,a,d,ad([]),!b,!c):a===`col`?new bP(O,O,a,d,ad([]),!b,!c):a===`embed`?new bP(O,O,a,d,ad([]),!b,!c):a===`hr`?new bP(O,O,a,d,ad([]),!b,!c):a===`img`?new bP(O,O,a,d,ad([]),!b,!c):a===a4?new bP(O,O,a,d,ad([]),!b,!c):a===`link`?new bP(O,O,a,d,ad([]),!b,!c):a===`meta`?new bP(O,O,a,d,ad([]),!b,!c):a===`param`?new bP(O,O,a,d,ad([]),!b,!c):a===`source`?new bP(O,O,a,d,ad([]),!b,!c):a===`track`?new bP(O,O,a,d,ad([]),!b,!c):a===`wbr`?new bP(O,O,a,d,ad([]),!b,!c):new bP(O,O,a,d,e,!b,!b));var bE=((a,b)=>{for(;;){let d=a,e=b;if(d.hasLength(c))return bD(e,ad([]));{let f=d.head[c];a=d.tail,b=ac(f,e)}}});var bV=((a,d,e)=>{for(;;){let f=a,g=d,h=e;if(f instanceof bO)return g;if(f instanceof bQ){let b=f.subtree;a=b(),d=g,e=h}else{let a=f.attrs,d=f.children,e=bG(a,g,(a,d)=>{let e=bT(d);if(e.isOk()){let d=e[c][c],f=e[c][b];return bC(a,h+ a0+ d,f)}else return a});return bU(d,e,h)}}});var b2=((a,b,c,d,e,f)=>{switch(a.type){case aS:return b3(a,b,c,d,e,f);case aT:return b4(a,b,c,d,e,f);case aU:return b5(a,b,c,d,e,f)}});var b0=((a,d)=>{let e=a.length,f=new K(e- b),g=c,h=c;for(;g<d;)f[h++]=a[g++];for(++g;g<e;)f[h++]=a[g++];return f});var bx=(b=>{let c=o(b)?.constructor?.name||_,d=[];for(let c of a(b))d.push(`${bu(c)}: ${bu(b[c])}`);let e=d.length?S+ d.join(W)+ S:O;return `//js(${c===_?O:c+ S}{${e}})`});var bw=(a=>{let d=`dict.from_list([`,e=!c;return a.forEach((a,c)=>{e||(d=d+ W),d=d+ `#(`+ bu(c)+ W+ bu(a)+ `)`,e=!b}),d+ `])`});var cE=((a,b)=>c0(a9,a,b));var cC=((a,b)=>c0(`div`,a,b));var ba=((a,b)=>{let d=b6(a,b);if(!(d<c))return a.array[d]});var cB=((a,b,c)=>bL(!cv(),new ao(new cy),()=>cs(a,b,c)));var bI=((a,b,d)=>bH(a,b,d,c));var bH=((a,d,e,f)=>{for(;;){let g=a,h=d,i=e,j=f;if(g.hasLength(c))return h;{let c=g.head;a=g.tail,d=i(h,c,j),e=i,f=j+ b}}});var bB=(a=>`//utfcodepoint(${X.fromCodePoint(a.value)})`);var bf=((a,b)=>{if(a===void c)return;let d=a.array,e=d.length;for(let a=c;a<e;a++){let e=d[a];if(e!==void c){if(e.type===aR){b(e.v,e.k);continue};bf(e,b)}}});var bs=(a=>ab.fromArray(a.entries()));var ap=((a,d)=>{let e=[a,d];for(;e.length;){let a=e.pop(),c=e.pop();if(a===c)continue;if(!ay(a)||!ay(c)||!az(a,c)||ar(a,c)||at(a,c)||au(a,c)||av(a,c)||aw(a,c)||ax(a,c))return !b;let d=o(a);if(d!==p&&typeof d.equals==q)try{if(a.equals(c))continue;return !b}catch{};let [f,g]=aq(a);for(let b of f(a))e.push(g(a,b),g(c,b))};return !c});var bj=(a=>a.toString());var ak=((a,d,e,l,m)=>{let n=e- d;if(n<=f){let f=c;if(l)for(let b=d;b<e;b++)f=f*g+ a[b];else for(let c=e- b;c>=d;c--)f=f*g+ a[c];if(m){let a=h**(n*i- b);f>=a&&(f-=a*h)};return f}else{let c=0n;if(l)for(let b=d;b<e;b++)c=(c<<8n)+ j(a[b]);else for(let f=e- b;f>=d;f--)c=(c<<8n)+ j(a[f]);if(m){let a=1n<<j(n*i- b);c>=a&&(c-=a*2n)};return k(c)}});var bb=((a,b,c,d)=>{switch(a.type){case aS:return bc(a,b,c,d);case aT:return bd(a,b,c,d);case aU:return be(a,d)}});var a$=((a,d,e)=>{let f=a.length,g=new K(f+ b),h=c,i=c;for(;h<d;)g[i++]=a[h++];for(g[i++]=e;h<f;)g[i++]=a[h++];return g});var au=((a,b)=>u(a)&&a.length!==b.length);var ar=((a,b)=>a instanceof s&&(a>b||a<b));var cA=((a,b,c)=>cz(b=>[a(b),bN()],(a,c)=>[b(a,c),bN()],c));var c7=(a=>ap(a.created,br())&&ap(a.removed,c3())&&ap(a.updated,br()));var bG=((a,b,d)=>{for(;;){let e=a,f=b,g=d;if(e.hasLength(c))return f;{let c=e.head;a=e.tail,b=g(f,c),d=g}}});var bT=(a=>{if(a instanceof bR)return new ao(void c);{let d=a[c],e=a[b],f=bJ(d,h);return new an([f,e])}});var az=((a,c)=>typeof a!=x&&typeof c!=x&&(!a||!c)||[y,z,A,B].some(b=>a instanceof b)?!b:a.constructor===c.constructor);var bv=(a=>{let b=Y;for(let d=c;d<a.length;d++){let e=a[d];switch(e){case `\n",
       "`:b+=`\\\\\\\\n`;break;case V:b+=`\\\\\\\\r`;break;case T:b+=`\\\\\\\\t`;break;case U:b+=`\\\\\\\\f`;break;case `\\\\\\\\`:b+=`\\\\\\\\\\\\\\\\`;break;case Y:b+=`\\\\\\\\\"`;break;default:e<S||e>`~`&&e<`\\\\xA0`?(b+=`\\\\\\\\u{`+ e.charCodeAt(c).toString(E).toUpperCase().padStart(m,Z)+ `}`):(b+=e)}};return b+=Y,b});var bu=(a=>{let d=typeof a;if(a===!c)return `True`;if(a===!b)return `False`;if(a===p)return `//js(null)`;if(a===void c)return `Nil`;if(d===G)return bv(a);if(d===H||k.isInteger(a))return a.toString();if(d===F)return bk(a);if(u(a))return `#(${a.map(bu).join(W)})`;if(a instanceof ab)return bz(a);if(a instanceof aj)return bB(a);if(a instanceof ah)return bA(a);if(a instanceof aa)return by(a);if(a instanceof bg)return bw(a);if(a instanceof v)return `//js(Set(${[...a].map(bu).join(W)}))`;if(a instanceof w)return `//js(${a})`;if(a instanceof s)return `//js(Date(\"${a.toISOString()}\"))`;if(a instanceof B){let b=[];for(let c of K(a.length).keys())b.push(X.fromCharCode(c+ 97));return `//fn(${b.join(W)}) { ... }`};return bx(a)});var bA=(a=>`<<${$(a.buffer).join(W)}>>`);var aL=(a=>{if(a===p)return 1108378658;if(a===void c)return 1108378659;if(a===!c)return 1108378657;if(a===!b)return 1108378656;switch(typeof a){case F:return aI(a);case G:return aH(a);case H:return aJ(a);case x:return aK(a);case `symbol`:return aF(a);case q:return aF(a);default:return c}});var ac=((a,b)=>new ag(a,b));var bk=(a=>{let b=a.toString().replace(N,O);if(b.indexOf(P)>=c)return b;{let a=b.indexOf(`e`);return a>=c?b.slice(c,a)+ Q+ b.slice(a):b+ Q}});var al=((a,b,c,d)=>{let e=new l(a.buffer),f=c- b;if(f===i)return e.getFloat64(b,!d);if(f===m)return e.getFloat32(b,!d);{let a=`Sized floats must be 32-bit or 64-bit on JavaScript, got size of ${f*i} bits`;throw new n.Error(a)}});var b9=((a,b,d,e)=>{let f=aX(d,b);if((a.bitmap&f)===c)return;let g=aZ(a.bitmap,f),h=a.array[g];if(h.type!==aR)return b7(h,b+ aM,d,e);if(ap(e,h.k))return h});var cj=(({prev:a,next:e,dispatch:f,stack:g})=>{let i=e.namespace||a6,j=a&&a.nodeType===Node.ELEMENT_NODE&&a.localName===e.tag&&a.namespaceURI===(e.namespace||a6),k=j?a:i?document.createElementNS(i,e.tag):document.createElement(e.tag),l;if(ck.has(k))l=ck.get(k);else{let a=new r;ck.set(k,a),l=a};let m=j?new v(l.keys()):p,n=j?new v($(a.attributes,a=>a.name)):p,o=p,q=p,s=p;if(j&&e.tag===`textarea`){let a=e.children[d]().next().value?.content;a!==void c&&(k.value=a)};let t=[];for(let a of e.attrs){let d=a[c],e=a[b];if(a.as_property)k[d]!==e&&(k[d]=e),j&&n.delete(d);else if(d.startsWith(a1)){let a=d.slice(h),b=f(e,a===a4);l.has(a)||k.addEventListener(a,cl),l.set(a,b),j&&m.delete(a)}else if(d.startsWith(`data-lustre-on-`)){let a=d.slice(15),b=f(cm);l.has(a)||k.addEventListener(a,cl),l.set(a,b),k.setAttribute(d,e),j&&(m.delete(a),n.delete(d))}else d.startsWith(`delegate:data-`)||d.startsWith(`delegate:aria-`)?(k.setAttribute(d,e),t.push([d.slice(10),e])):d===a3?(o=o===p?e:o+ S+ e):d===a2?(q=q===p?e:q+ e):d===`dangerous-unescaped-html`?(s=e):(k.getAttribute(d)!==e&&k.setAttribute(d,e),(d===`value`||d===`selected`)&&(k[d]=e),j&&n.delete(d))};if(o!==p&&(k.setAttribute(a3,o),j&&n.delete(a3)),q!==p&&(k.setAttribute(a2,q),j&&n.delete(a2)),j){for(let a of n)k.removeAttribute(a);for(let a of m)l.delete(a),k.removeEventListener(a,cl)};if(e.tag===`slot`&&window.queueMicrotask(()=>{for(let a of k.assignedElements())for(let [b,c] of t)a.hasAttribute(b)||a.setAttribute(b,c)}),e.key!==void c&&e.key!==O)k.setAttribute(a7,e.key);else if(s!==p)return k.innerHTML=s,k;let u=k.firstChild,w=p,x=p,y=p,z=cp(e).next().value;if(j&&z!==void c&&z.key!==void c&&z.key!==O){w=new v,x=cn(a),y=cn(e);for(let a of cp(e))u=co(u,a,k,g,y,x,w)}else for(let a of cp(e))g.unshift({prev:u,next:a,parent:k}),u=u?.nextSibling;for(;u;){let a=u.nextSibling;k.removeChild(u),u=a};return k});var b3=((a,d,e,f,g,h)=>{let i=aW(e,d),j=a.array[i];if(j===void c)return h.val=!c,{type:aS,size:a.size+ b,array:a_(a.array,i,{type:aR,k:f,v:g})};if(j.type===aR)return ap(f,j.k)?g===j.v?a:{type:aS,size:a.size,array:a_(a.array,i,{type:aR,k:f,v:g})}:(h.val=!c,{type:aS,size:a.size,array:a_(a.array,i,b1(d+ aM,j.k,j.v,e,f,g))});let k=b2(j,d+ aM,e,f,g,h);return k===j?a:{type:aS,size:a.size,array:a_(a.array,i,k)}});var cD=((a,b)=>c0(`p`,a,b));function*cp(a){for(let b of a.children)yield*cq(b)}var bn=(a=>{let b,d=bm(a);return d?(b=d.next().value?.segment):(b=a.match(/./su)?.[c]),b?new an([b,a.slice(b.length)]):new ao(bi)});var bK=(a=>{let b=bu(a);return b});var at=((a,b)=>a.buffer instanceof t&&a.BYTES_PER_ELEMENT&&!(a.byteLength===b.byteLength&&a.every((a,c)=>a===b[c])));var bX=((a,c)=>new bR(a,c,!b));var b8=((a,b,d,e)=>{let f=aW(d,b),g=a.array[f];if(g!==void c){if(g.type!==aR)return b7(g,b+ aM,d,e);if(ap(e,g.k))return g}});var bN=(()=>new bM(ad([])));var bd=((a,b,d,e)=>{let f=aX(d,b);if((a.bitmap&f)===c)return a;let g=aZ(a.bitmap,f),h=a.array[g];if(h.type!==aR){let i=bb(h,b+ aM,d,e);return i===h?a:i!==void c?{type:aT,bitmap:a.bitmap,array:a_(a.array,g,i)}:a.bitmap===f?void c:{type:aT,bitmap:a.bitmap^f,array:b0(a.array,g)}};return ap(e,h.k)?a.bitmap===f?void c:{type:aT,bitmap:a.bitmap^f,array:b0(a.array,g)}:a});var aG=((a,b)=>a^b+ 2654435769+ (a<<f)+ (a>>h)|c);var b4=((a,d,e,f,g,h)=>{let i=aX(e,d),j=aZ(a.bitmap,i);if((a.bitmap&i)!==c){let b=a.array[j];if(b.type!==aR){let c=b2(b,d+ aM,e,f,g,h);return c===b?a:{type:aT,bitmap:a.bitmap,array:a_(a.array,j,c)}};let i=b.k;return ap(f,i)?g===b.v?a:{type:aT,bitmap:a.bitmap,array:a_(a.array,j,{type:aR,k:f,v:g})}:(h.val=!c,{type:aT,bitmap:a.bitmap,array:a_(a.array,j,b1(d+ aM,i,b.v,e,f,g))})}else{let k=a.array.length;if(k>=aP){let i=new K(L),j=aW(e,d);i[j]=b4(aV,d+ aM,e,f,g,h);let l=c,m=a.bitmap;for(let d=c;d<L;d++){if((m&b)!==c){let b=a.array[l++];i[d]=b};m=m>>>b};return {type:aS,size:k+ b,array:i}}else{let b=a$(a.array,j,{type:aR,k:f,v:g});return h.val=!c,{type:aT,bitmap:a.bitmap|i,array:b}}}});var bt=((a,b,c)=>c.set(a,b));var aZ=((a,c)=>aY(a&c- b));var aJ=(a=>aH(a.toString()));var cm=(a=>{let d=a.currentTarget,e=d.getAttribute(`data-lustre-on-${a.type}`),f=a8(d.getAttribute(`data-lustre-data`)||`{}`),g=a8(d.getAttribute(`data-lustre-include`)||`[]`);switch(a.type){case a4:;case `change`:g.push(`target.value`);break}return {tag:e,data:g.reduce((d,e)=>{let f=e.split(P);for(let e=c,g=d,h=a;e<f.length;e++)e===f.length- b?(g[f[e]]=h[f[e]]):(g[f[e]]??={},h=h[f[e]],g=g[f[e]]);return d},{data:f})}});var aw=((a,b)=>a instanceof v&&(a.size!=b.size||[...a].some(a=>!b.has(a))));var bC=((a,b,c)=>bt(b,c,a));var b_=(a=>bX(a3,a));var a_=((a,b,d)=>{let e=a.length,f=new K(e);for(let b=c;b<e;++b)f[b]=a[b];return f[b]=d,f});var b$=(a=>bX(`role`,a));var cO=(()=>{let a=a=>cL()([a])(void c),b=a=>cM()([a])(void c),d=cA(a,(a,c)=>b([a,c]),a=>cN()([a])(void c)),e=cB(d,`#app`,c);if(!e.isOk())throw aA(`let_assert`,`main`,119,`method0`,`Pattern match failed, no pattern matched the value.`,{value:e})});var cH=((a,b,c)=>a(ac(b_(`lustre-ui-button`),ac(b$(a9),b)),c));var aY=(a=>(a-=a>>b&1431655765,a=(a&J)+ (a>>h&J),a=a+ (a>>m)&252645135,a+=a>>i,a+=a>>E,a&127));var bW=(a=>bV(a,br(),Z));var cN=(()=>a=>{let b=a[c];return a=>{let c=ad([]),d=`display`,e=`flex`,f=ac([d,e],c),g=bZ(f),h=ad([]),i=ac([`flex-direction`,`column`],h),j=ac([d,e],i),k=bZ(j),l=new cJ,m=cG(l),n=c1(N),o=ad([]),p=ac(m,o),q=ad([]),r=ac(n,q),s=cI(p,r),t=ad([]),u=ac([`text-align`,`center`],t),v=bZ(u),w=bK(b),x=c1(w),y=ad([]),z=ac(v,y),A=ad([]),B=ac(x,A),C=cD(z,B),D=new cK,E=cG(D),F=c1(a0),G=ad([]),H=ac(E,G),I=ad([]),J=ac(F,I),K=cI(H,J),L=ad([]),M=ac(k,L),O=ad([]),P=ac(K,O),Q=ac(C,P),R=ac(s,Q),S=cC(M,R),T=ad([]),U=ac(g,T),V=ad([]),W=ac(S,V);return cC(U,W)}});var ci=((a,b,d)=>{let e,f=[{prev:a,next:b,parent:a.parentNode}];for(;f.length;){let {prev:a,next:b,parent:g}=f.pop();for(;b.subtree!==void c;)b=b.subtree();if(b.content!==void c)if(a)if(a.nodeType===Node.TEXT_NODE)a.textContent!==b.content&&(a.textContent=b.content),e??=a;else{let c=document.createTextNode(b.content);g.replaceChild(c,a),e??=c}else{let a=document.createTextNode(b.content);g.appendChild(a),e??=a}else if(b.tag!==void c){let c=cj({prev:a,next:b,dispatch:d,stack:f});a?a!==c&&g.replaceChild(c,a):g.appendChild(c),e??=c}};return e});var c1=(a=>new bO(a));var bU=((a,b,c)=>bI(a,b,(a,b,d)=>{let e=c+ a0+ bj(d);return bV(b,a,e)}));var aW=((a,b)=>a>>>b&aO);var bm=(a=>{if(n.Intl&&R)return bl||=new R,bl.segment(a)[d]()});var aF=(a=>{let b=aC.get(a);if(b!==void c)return b;let d=aE++;return aE===2147483647&&(aE=c),aC.set(a,d),d});var ad=((a,b)=>ab.fromArray(a,b));var aA=((a,b,c,d,e,f)=>{let g=new n.Error(e);g.gleam_error=a,g.module=b,g.line=c,g.function=d,g.fn=d;for(let a in f)g[a]=f[a];return g});var bF=(a=>bE(bs(a),ad([])));var bc=((a,d,e,f)=>{let g=aW(e,d),h=a.array[g];if(h===void c)return a;let i;if(h.type===aR){if(!ap(h.k,f))return a}else if(i=bb(h,d+ aM,e,f),i===h)return a;if(i===void c){if(a.size<=aQ){let d=a.array,e=new K(a.size- b),f=c,h=c,i=c;for(;f<g;){let a=d[f];a!==void c&&(e[h]=a,i|=b<<f,++h),++f};for(++f;f<d.length;){let a=d[f];a!==void c&&(e[h]=a,i|=b<<f,++h),++f};return {type:aT,bitmap:i,array:e}};return {type:aS,size:a.size- b,array:a_(a.array,g,i)}};return {type:aS,size:a.size,array:a_(a.array,g,i)}});var cL=(()=>a=>{let b=a[c];return a=>b<c?c:b});var co=((a,b,d,e,f,g,h)=>{for(;a&&!f.has(a.getAttribute(a7));){let b=a.nextSibling;d.removeChild(a),a=b};if(g.size===c)return e.unshift({prev:a,next:b,parent:d}),a=a?.nextSibling,a;if(h.has(b.key))return console.warn(`Duplicate key found in Lustre vnode: ${b.key}`),e.unshift({prev:p,next:b,parent:d}),a;h.add(b.key);let i=g.get(b.key);if(!i&&!a)return e.unshift({prev:p,next:b,parent:d}),a;if(!i&&a!==p){let c=document.createTextNode(O);return d.insertBefore(c,a),e.unshift({prev:c,next:b,parent:d}),a};return !i||i===a?(e.unshift({prev:a,next:b,parent:d}),a=a?.nextSibling,a):(d.insertBefore(i,a),e.unshift({prev:i,next:b,parent:d}),a)});var cl=(a=>{let b=a.currentTarget;if(!ck.has(b)){b.removeEventListener(a.type,cl);return};let c=ck.get(b);if(!c.has(a.type)){b.removeEventListener(a.type,cl);return};c.get(a.type)(a)});var br=(()=>bg.new());var c3=(()=>new c2(br()));var b7=((a,b,c,d)=>{switch(a.type){case aS:return b8(a,b,c,d);case aT:return b9(a,b,c,d);case aU:return ba(a,d)}});var aK=(b=>{let d=o(b);if(d!==p&&typeof d.hashCode==q)try{let a=b.hashCode(b);if(typeof a==F)return a}catch{};if(b instanceof y||b instanceof z||b instanceof A)return aF(b);if(b instanceof s)return aI(b.getTime());let f=c;if(b instanceof t&&(b=new e(b)),u(b)||b instanceof e)for(let a=c;a<b.length;a++)f=C(D,f)+ aL(b[a])|c;else if(b instanceof v)b.forEach(a=>{f=f+ aL(a)|c});else if(b instanceof r)b.forEach((a,b)=>{f=f+ aG(aL(a),aL(b))|c});else{let d=a(b);for(let a=c;a<d.length;a++){let e=d[a],g=b[e];f=f+ aG(aL(g),aH(e))|c}};return f});var by=(b=>{let c=a(b).map(a=>{let c=bu(b[a]);return isNaN(parseInt(a))?`${a}: ${c}`:c}).join(W);return c?`${b.constructor.name}(${c})`:b.constructor.name});var ay=(a=>typeof a==x&&a!==p);var bZ=(a=>bX(a2,bG(a,O,(a,d)=>{let e=d[c],f=d[b];return a+ e+ `:`+ f+ `;`})));var aI=(a=>{aD.setFloat64(c,a);let b=aD.getInt32(c),d=aD.getInt32(m);return C(73244475,b>>E^b)^d});var bJ=((a,d)=>{for(;;){let e=a,f=d;if(f>c){let g=bn(e);if(g.isOk())a=g[c][b],d=f- b;else return e}else return e}});var cP=(()=>cO());var av=((a,b)=>a instanceof r&&a.size!==b.size);var aq=(b=>{if(b instanceof r)return [a=>a.keys(),(a,b)=>a.get(b)];{let c=b instanceof n.Error?[`message`]:[];return [b=>[...c,...a(b)],(a,b)=>a[b]]}});function*cq(a){a.subtree!==void c?(yield*cq(a.subtree())):(yield a)}var bY=((a,b)=>new bS(a1+ a,b));var bD=((a,b)=>{for(;;){let d=a,e=b;if(d.hasLength(c))return e;{let c=d.head;a=d.tail,b=ac(c,e)}}});var be=((a,d)=>{let e=b6(a,d);if(e<c)return a;if(a.array.length!==b)return {type:aU,hash:a.hash,array:b0(a.array,e)}});var b6=((a,d)=>{let e=a.array.length;for(let b=c;b<e;b++)if(ap(d,a.array[b].k))return b;return -b});var aX=((a,c)=>b<<aW(a,c));var b1=((a,c,d,e,f,g)=>{let h=aL(c);if(h===e)return {type:aU,hash:h,array:[{type:aR,k:c,v:d},{type:aR,k:f,v:g}]};let i={val:!b};return b2(b4(aV,a,h,c,d,i),a,e,f,g,i)});var cG=(a=>cF(`click`,b=>new an(a)));var b5=((a,d,e,f,g,h)=>{if(e===a.hash){let d=b6(a,f);if(d!==-b)return a.array[d].v===g?a:{type:aU,hash:e,array:a_(a.array,d,{type:aR,k:f,v:g})};let i=a.array.length;return h.val=!c,{type:aU,hash:e,array:a_(a.array,i,{type:aR,k:f,v:g})}};return b2({type:aT,bitmap:aX(a.hash,d),array:[a]},d,e,f,g,h)});var aH=(a=>{let b=c,d=a.length;for(let e=c;e<d;e++)b=C(D,b)+ a.charCodeAt(e)|c;return b});var ax=((a,b)=>a instanceof w&&(a.source!==b.source||a.flags!==b.flags));var aa=class{withFields(b){let c=a(this).map(a=>a in b?b[a]:this[a]);return new this.constructor(...c)}},ab=class{static fromArray(a,d){let e=d||new af;for(let d=a.length- b;d>=c;--d)e=new ag(a[d],e);return e}[d](){return new ae(this)}toArray(){return [...this]}atLeastLength(a){for(let b of this){if(a<=c)return !c;a--};return a<=c}hasLength(a){for(let d of this){if(a<=c)return !b;a--};return a===c}countLength(){let a=c;for(let b of this)a++;return a}};var ae=class{#e;constructor(a){this.#e=a}next(){if(this.#e instanceof af)return {done:!c};{let {head:a,tail:c}=this.#e;return this.#e=c,{value:a,done:!b}}}},af=class extends ab{},ag=class extends ab{constructor(a,b){super(),this.head=a,this.tail=b}},ah=class ai{constructor(a){if(!(a instanceof e))throw `BitArray can only be constructed from a Uint8Array`;this.buffer=a}length(){return this.buffer.length}byteAt(a){return this.buffer[a]}floatFromSlice(a,b,c){return al(this.buffer,a,b,c)}intFromSlice(a,b,c,d){return ak(this.buffer,a,b,c,d)}binaryFromSlice(a,b){let c=new e(this.buffer.buffer,this.buffer.byteOffset+ a,b- a);return new ai(c)}sliceAfter(a){let b=new e(this.buffer.buffer,this.buffer.byteOffset+ a,this.buffer.byteLength- a);return new ai(b)}},aj=class{constructor(a){this.value=a}};var am=class ai extends aa{static isResult(a){return a instanceof ai}},an=class extends am{constructor(a){super(),this[c]=a}isOk(){return !c}},ao=class extends am{constructor(a){super(),this[c]=a}isOk(){return !b}};var aB=class extends aa{};var aC=new A,aD=new l(new t(i)),aE=c;var aM=5,aN=I.pow(h,aM),aO=aN- b,aP=aN/h,aQ=aN/m,aR=c,aS=b,aT=h,aU=3,aV={type:aT,bitmap:c,array:[]};var bg=class ai{static fromObject(b){let d=a(b),e=ai.new();for(let a=c;a<d.length;a++){let c=d[a];e=e.set(c,b[c])};return e}static fromMap(a){let b=ai.new();return a.forEach((a,c)=>{b=b.set(c,a)}),b}static new(){return new ai(void c,c)}constructor(a,b){this.root=a,this.size=b}get(a,b){if(this.root===void c)return b;let d=b7(this.root,c,aL(a),a);return d===void c?b:d.v}set(a,d){let e={val:!b},f=this.root===void c?aV:this.root,g=b2(f,c,aL(a),a,d,e);return g===this.root?this:new ai(g,e.val?this.size+ b:this.size)}delete(a){if(this.root===void c)return this;let d=bb(this.root,c,aL(a),a);return d===this.root?this:d===void c?ai.new():new ai(d,this.size- b)}has(a){return this.root===void c?!b:b7(this.root,c,aL(a),a)!==void c}entries(){if(this.root===void c)return [];let a=[];return this.forEach((b,c)=>a.push([c,b])),a}forEach(a){bf(this.root,a)}hashCode(){let a=c;return this.forEach((b,d)=>{a=a+ aG(aL(b),aL(d))|c}),a}equals(a){if(!(a instanceof ai)||this.size!==a.size)return !b;try{return this.forEach((b,c)=>{if(!ap(a.get(c,!b),b))throw bh}),!c}catch(a){if(a===bh)return !b;throw a}}},bh=M();var bi=void c;var bl;var bo=[S,T,`\n",
       "`,`\\\\v`,U,V,`\\\\x85`,`\\\\u2028`,`\\\\u2029`].join(O),bp=new w(`^[${bo}]*`),bq=new w(`[${bo}]*$`);var bM=class extends aa{constructor(a){super(),this.all=a}};var bO=class extends aa{constructor(a){super(),this.content=a}},bP=class extends aa{constructor(a,b,c,d,e,f,g){super(),this.key=a,this.namespace=b,this.tag=c,this.attrs=d,this.children=e,this.self_closing=f,this.void=g}},bQ=class extends aa{constructor(a){super(),this.subtree=a}},bR=class extends aa{constructor(a,d,e){super(),this[c]=a,this[b]=d,this.as_property=e}},bS=class extends aa{constructor(a,d){super(),this[c]=a,this[b]=d}};var c2=class extends aa{constructor(a){super(),this.dict=a}};var c4=class extends aa{constructor(a){super(),this[c]=a}},c5=class extends aa{constructor(a,d){super(),this[c]=a,this[b]=d}},c6=class extends aa{constructor(a,d){super(),this[c]=a,this[b]=d}};var c8=class extends aa{constructor(a){super(),this[c]=a}},c9=class extends aa{constructor(a,d){super(),this[c]=a,this[b]=d}},ca=class extends aa{constructor(a){super(),this[c]=a}},cb=class extends aa{constructor(a){super(),this[c]=a}},cc=class extends aa{constructor(a,d){super(),this[c]=a,this[b]=d}},cd=class extends aa{constructor(a,d){super(),this[c]=a,this[b]=d}};var ce=class extends aa{},cf=class extends aa{constructor(a,d){super(),this[c]=a,this[b]=d}},cg=class extends aa{constructor(a){super(),this[c]=a}},ch=class extends aa{constructor(a){super(),this[c]=a}};n.customElements&&!n.customElements.get(a5)&&n.customElements.define(a5,class extends HTMLElement{constructor(){super()}});var ck=new A;var cr=class ai{static start({init:a,update:b,view:c},d,e){if(!cv())return new ao(new cy);let f=d instanceof HTMLElement?d:document.querySelector(d);if(!f)return new ao(new cx(d));let g=new ai(f,a(e),b,c);return new an(a=>g.send(a))}constructor(a,[b,d],e,f){this.root=a,this.#e=b,this.#s=e,this.#r=f,this.#t=window.setTimeout(()=>this.#n(d.all.toArray(),!c),c)}root;send(a){if(a instanceof ca){if(a[c] instanceof ch){this.#t=window.clearTimeout(this.#t),this.#i=[],this.#e=a[c][c];let d=this.#r(this.#e),e=(a,d=!b)=>b=>{let e=a(b);e instanceof an&&this.send(new cb(e[c],d))},f=this.root.firstChild??this.root.appendChild(document.createTextNode(O));ci(f,d,e)}}else if(a instanceof cb){let d=a[c],e=a[b]??!b;this.#i.push(d),e?(this.#t=window.clearTimeout(this.#t),this.#n()):this.#t||(this.#t=window.setTimeout(()=>this.#n()))}else if(a instanceof cc){let d=a[c],e=a[b];this.root.dispatchEvent(new CustomEvent(d,{detail:e,bubbles:!c,composed:!c}))}else if(a instanceof ce)for(this.#t=window.clearTimeout(this.#t),this.#e=p,this.#s=p,this.#r=p,this.#i=p;this.root.firstChild;)this.root.firstChild.remove()}#e;#s;#r;#i=[];#t;#n(a=[]){this.#t=void c,this.#o(a);let d=this.#r(this.#e),e=(a,d=!b)=>b=>{let e=a(b);e instanceof an&&this.send(new cb(e[c],d))},f=this.root.firstChild??this.root.appendChild(document.createTextNode(O));ci(f,d,e)}#o(a=[]){for(;this.#i.length>c;){let b=this.#i.shift(),[c,d]=this.#s(this.#e,b);a=a.concat(d.all.toArray()),this.#e=c};for(;a.length>c;){let b=a.shift(),d=a=>this.send(new cb(a)),e=(a,b)=>this.root.dispatchEvent(new CustomEvent(a,{detail:b,bubbles:!c,composed:!c})),f=()=>{},g=this.root;b({dispatch:d,emit:e,select:f,root:g})};this.#i.length>c&&this.#o(a)}},cs=cr.start;var ct=class ai{static start({init:a,update:b,view:c,on_attribute_change:d},e){let f=new ai(a(e),b,c,d);return new an(a=>f.send(a))}constructor([a,b],c,d,e){this.#e=a,this.#s=c,this.#i=d,this.#t=d(a),this.#l=e,this.#n=new r,this.#o=bW(this.#t),this.#u(b.all.toArray())}send(a){if(a instanceof c8){for(let d of a[c]){let a=this.#l.get(d[c]);if(!a)continue;let e=a(d[b]);e instanceof ao||this.#r.push(e)};this.#u()}else if(a instanceof c9)this.#r=this.#r.concat(a[c].toArray()),this.#u(a[b].all.toArray());else if(!(a instanceof ca))if(a instanceof cb)this.#r.push(a[c]),this.#u();else if(a instanceof cc){let d=new c5(a[c],a[b]);for(let [a,b] of this.#n)b(d)}else if(a instanceof cd){let d=this.#o.get(a[c]);if(!d)return;let e=d(a[b]);if(e instanceof ao)return;this.#r.push(e[c]),this.#u()}else if(a instanceof cf){let d=bF(this.#l),e=new c6(d,this.#t);this.#n=this.#n.set(a[c],a[b]),a[b](e)}else a instanceof cg&&(this.#n=this.#n.delete(a[c]))}#e;#s;#r;#i;#t;#n;#o;#l;#u(a=[]){this.#a(a);let b=this.#i(this.#e),c=elements(this.#t,b);if(!c7(c)){let a=new c4(c);for(let [b,c] of this.#n)c(a)};this.#t=b,this.#o=c.handlers}#a(a=[]){for(;this.#r.length>c;){let b=this.#r.shift(),[c,d]=this.#s(this.#e,b);a=a.concat(d.all.toArray()),this.#e=c};for(;a.length>c;)a.shift()({dispatch:a=>this.send(new cb(a)),emit:(a,b)=>this.root.dispatchEvent(new CustomEvent(a,{detail:b,bubbles:!c,composed:!c})),select:()=>{},root:p});this.#r.length>c&&this.#a(a)}},cu=ct.start,cv=()=>n.window&&window.document;var cw=class extends aa{constructor(a,b,c,d){super(),this.init=a,this.update=b,this.view=c,this.on_attribute_change=d}};var cx=class extends aa{constructor(a){super(),this.selector=a}},cy=class extends aa{};var cJ=class extends aa{},cK=class extends aa{};cP()})()</script><link crossorigin href=./spiral_a5504ad96420bcfb334f95755662bc734a3a01e2f0cd1c555efb6f67c8d9bd5e-f92a64a8c1313117.js rel=modulepreload><link as=fetch crossorigin href=./spiral_a5504ad96420bcfb334f95755662bc734a3a01e2f0cd1c555efb6f67c8d9bd5e-f92a64a8c1313117_bg.wasm rel=preload type=application/wasm></head><body><div id=app></div><script type=module>import init, * as bindings from './spiral_a5504ad96420bcfb334f95755662bc734a3a01e2f0cd1c555efb6f67c8d9bd5e-f92a64a8c1313117.js';\n",
       "const wasm = await init({ module_or_path: './spiral_a5504ad96420bcfb334f95755662bc734a3a01e2f0cd1c555efb6f67c8d9bd5e-f92a64a8c1313117_bg.wasm' });\n",
       "\n",
       "\n",
       "window.wasmBindings = bindings;\n",
       "\n",
       "\n",
       "dispatchEvent(new CustomEvent(\"TrunkApplicationStarted\", {detail: {wasm}}));</script></body></html>\n"
      ]
     },
     "metadata": {},
     "output_type": "display_data"
    }
   ],
   "source": [
    "//// test\n",
    "///! gleam -t javascript -d lustre=\\\">=4.6.0\\\" lustre_ui=\\\"1.0.0-rc.1\\\" gleam_json=\\\">=2.0.0\\\"\n",
    "\n",
    "main' ()"
   ]
  }
 ],
 "metadata": {},
 "nbformat": 4,
 "nbformat_minor": 5
}