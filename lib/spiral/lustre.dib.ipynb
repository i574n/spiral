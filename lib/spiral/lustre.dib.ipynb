{
 "cells": [
  {
   "cell_type": "markdown",
   "metadata": {},
   "source": [
    "# lustre"
   ]
  },
  {
   "cell_type": "code",
   "execution_count": null,
   "metadata": {
    "dotnet_interactive": {
     "language": "fsharp"
    },
    "polyglot_notebook": {
     "kernelName": "fsharp"
    }
   },
   "outputs": [],
   "source": [
    "#!import ../../../polyglot/lib/fsharp/Notebooks.dib"
   ]
  },
  {
   "cell_type": "markdown",
   "metadata": {},
   "source": [
    "## lustre"
   ]
  },
  {
   "cell_type": "markdown",
   "metadata": {},
   "source": [
    "### attribute"
   ]
  },
  {
   "cell_type": "code",
   "execution_count": null,
   "metadata": {
    "dotnet_interactive": {
     "language": "spiral"
    },
    "polyglot_notebook": {
     "kernelName": "spiral"
    }
   },
   "outputs": [],
   "source": [
    "nominal attribute t =\n",
    "    `(\n",
    "        backend_switch `(()) `({}) {\n",
    "            Gleam = (fun () => global \"import lustre/internals/vdom\") : () -> ()\n",
    "        }\n",
    "        $'' : $'vdom.Attribute(`t)'\n",
    "    )"
   ]
  },
  {
   "cell_type": "markdown",
   "metadata": {},
   "source": [
    "### element"
   ]
  },
  {
   "cell_type": "code",
   "execution_count": null,
   "metadata": {
    "dotnet_interactive": {
     "language": "spiral"
    },
    "polyglot_notebook": {
     "kernelName": "spiral"
    }
   },
   "outputs": [],
   "source": [
    "nominal element t =\n",
    "    `(\n",
    "        backend_switch `(()) `({}) {\n",
    "            Gleam = (fun () => global \"import lustre/element.{type Element}\") : () -> ()\n",
    "        }\n",
    "        $'' : $'Element(`t)'\n",
    "    )"
   ]
  },
  {
   "cell_type": "markdown",
   "metadata": {},
   "source": [
    "### text"
   ]
  },
  {
   "cell_type": "code",
   "execution_count": null,
   "metadata": {
    "dotnet_interactive": {
     "language": "spiral"
    },
    "polyglot_notebook": {
     "kernelName": "spiral"
    }
   },
   "outputs": [],
   "source": [
    "inl text forall t. (text : string) : element t =\n",
    "    global \"import lustre/element/html\"\n",
    "    $'element.text(!text)'"
   ]
  },
  {
   "cell_type": "markdown",
   "metadata": {},
   "source": [
    "### on_click"
   ]
  },
  {
   "cell_type": "code",
   "execution_count": null,
   "metadata": {
    "dotnet_interactive": {
     "language": "spiral"
    },
    "polyglot_notebook": {
     "kernelName": "spiral"
    }
   },
   "outputs": [],
   "source": [
    "inl on_click forall t. (msg : t) : attribute t =\n",
    "    global \"import lustre/event\"\n",
    "    $'event.on_click(!msg)'"
   ]
  },
  {
   "cell_type": "markdown",
   "metadata": {},
   "source": [
    "### style"
   ]
  },
  {
   "cell_type": "code",
   "execution_count": null,
   "metadata": {
    "dotnet_interactive": {
     "language": "spiral"
    },
    "polyglot_notebook": {
     "kernelName": "spiral"
    }
   },
   "outputs": [],
   "source": [
    "inl style forall t. (styles : list (string * string)) : attribute t =\n",
    "    global \"import lustre/attribute\"\n",
    "    inl styles = styles |> listm'.box\n",
    "    $'attribute.style(!styles)'"
   ]
  },
  {
   "cell_type": "markdown",
   "metadata": {},
   "source": [
    "### div"
   ]
  },
  {
   "cell_type": "code",
   "execution_count": null,
   "metadata": {
    "dotnet_interactive": {
     "language": "spiral"
    },
    "polyglot_notebook": {
     "kernelName": "spiral"
    }
   },
   "outputs": [],
   "source": [
    "inl div forall t. (attributes : list (attribute t)) (children : list (element t)) : element t =\n",
    "    global \"import lustre/element/html\"\n",
    "    inl attributes = attributes |> listm'.box\n",
    "    inl children = children |> listm'.box\n",
    "    $'html.div(!attributes, !children)'"
   ]
  },
  {
   "cell_type": "markdown",
   "metadata": {},
   "source": [
    "### p"
   ]
  },
  {
   "cell_type": "code",
   "execution_count": null,
   "metadata": {
    "dotnet_interactive": {
     "language": "spiral"
    },
    "polyglot_notebook": {
     "kernelName": "spiral"
    }
   },
   "outputs": [],
   "source": [
    "inl p forall t. (attributes : list (attribute t)) (children : list (element t)) : element t =\n",
    "    global \"import lustre/element/html\"\n",
    "    inl attributes = attributes |> listm'.box\n",
    "    inl children = children |> listm'.box\n",
    "    $'html.p(!attributes, !children)'"
   ]
  },
  {
   "cell_type": "markdown",
   "metadata": {},
   "source": [
    "### button"
   ]
  },
  {
   "cell_type": "code",
   "execution_count": null,
   "metadata": {
    "dotnet_interactive": {
     "language": "spiral"
    },
    "polyglot_notebook": {
     "kernelName": "spiral"
    }
   },
   "outputs": [],
   "source": [
    "inl button forall t. (attributes : list (attribute t)) (children : list (element t)) : element t =\n",
    "    global \"import lustre/ui/button.{button}\"\n",
    "    inl attributes = attributes |> listm'.box\n",
    "    inl children = children |> listm'.box\n",
    "    $'button(!attributes, !children)'"
   ]
  },
  {
   "cell_type": "markdown",
   "metadata": {},
   "source": [
    "### centre"
   ]
  },
  {
   "cell_type": "code",
   "execution_count": null,
   "metadata": {
    "dotnet_interactive": {
     "language": "spiral"
    },
    "polyglot_notebook": {
     "kernelName": "spiral"
    }
   },
   "outputs": [],
   "source": [
    "inl centre forall t. (attributes : list (attribute t)) (children : element t) : element t =\n",
    "    global \"import lustre/ui/centre.{centre}\"\n",
    "    inl attributes = attributes |> listm'.box\n",
    "    $'centre(!attributes, !children)'"
   ]
  },
  {
   "cell_type": "markdown",
   "metadata": {},
   "source": [
    "### app"
   ]
  },
  {
   "cell_type": "code",
   "execution_count": null,
   "metadata": {
    "dotnet_interactive": {
     "language": "spiral"
    },
    "polyglot_notebook": {
     "kernelName": "spiral"
    }
   },
   "outputs": [],
   "source": [
    "nominal app model msg = $'lustre.App(`model, `model, `msg)'"
   ]
  },
  {
   "cell_type": "markdown",
   "metadata": {},
   "source": [
    "### simple"
   ]
  },
  {
   "cell_type": "code",
   "execution_count": null,
   "metadata": {
    "dotnet_interactive": {
     "language": "spiral"
    },
    "polyglot_notebook": {
     "kernelName": "spiral"
    }
   },
   "outputs": [],
   "source": [
    "inl simple forall model msg.\n",
    "    (init : model -> model)\n",
    "    (update : model * msg -> model)\n",
    "    (view : model -> element msg)\n",
    "    : app model msg\n",
    "    =\n",
    "    global \"import lustre\"\n",
    "    $'lustre.simple(!init, fn (a, b) { !update(#(a, b)) }, !view)'"
   ]
  },
  {
   "cell_type": "markdown",
   "metadata": {},
   "source": [
    "### start"
   ]
  },
  {
   "cell_type": "code",
   "execution_count": null,
   "metadata": {
    "dotnet_interactive": {
     "language": "spiral"
    },
    "polyglot_notebook": {
     "kernelName": "spiral"
    }
   },
   "outputs": [],
   "source": [
    "inl start app =\n",
    "    $'let assert Ok(_) = lustre.start(!app, \"#app\", 0)' : ()"
   ]
  },
  {
   "cell_type": "markdown",
   "metadata": {},
   "source": [
    "### model"
   ]
  },
  {
   "cell_type": "code",
   "execution_count": null,
   "metadata": {
    "dotnet_interactive": {
     "language": "spiral"
    },
    "polyglot_notebook": {
     "kernelName": "spiral"
    }
   },
   "outputs": [],
   "source": [
    "type model = int"
   ]
  },
  {
   "cell_type": "markdown",
   "metadata": {},
   "source": [
    "### init"
   ]
  },
  {
   "cell_type": "code",
   "execution_count": null,
   "metadata": {
    "dotnet_interactive": {
     "language": "spiral"
    },
    "polyglot_notebook": {
     "kernelName": "spiral"
    }
   },
   "outputs": [],
   "source": [
    "inl init initial_count =\n",
    "    if initial_count < 0\n",
    "    then 0\n",
    "    else initial_count"
   ]
  },
  {
   "cell_type": "markdown",
   "metadata": {},
   "source": [
    "### msg"
   ]
  },
  {
   "cell_type": "code",
   "execution_count": null,
   "metadata": {
    "dotnet_interactive": {
     "language": "spiral"
    },
    "polyglot_notebook": {
     "kernelName": "spiral"
    }
   },
   "outputs": [],
   "source": [
    "union msg =\n",
    "    | Incr\n",
    "    | Decr"
   ]
  },
  {
   "cell_type": "markdown",
   "metadata": {},
   "source": [
    "### update"
   ]
  },
  {
   "cell_type": "code",
   "execution_count": null,
   "metadata": {
    "dotnet_interactive": {
     "language": "spiral"
    },
    "polyglot_notebook": {
     "kernelName": "spiral"
    }
   },
   "outputs": [],
   "source": [
    "inl update (model, msg) =\n",
    "    match msg with\n",
    "    | Incr => model + 1\n",
    "    | Decr => model - 1"
   ]
  },
  {
   "cell_type": "markdown",
   "metadata": {},
   "source": [
    "### view"
   ]
  },
  {
   "cell_type": "code",
   "execution_count": null,
   "metadata": {
    "dotnet_interactive": {
     "language": "spiral"
    },
    "polyglot_notebook": {
     "kernelName": "spiral"
    }
   },
   "outputs": [],
   "source": [
    "inl view model =\n",
    "    div [\n",
    "        style [\n",
    "            \"display\", \"flex\"\n",
    "        ]\n",
    "    ] [\n",
    "        div [\n",
    "            style [\n",
    "                \"display\", \"flex\"\n",
    "                \"flex-direction\", \"column\"\n",
    "            ]\n",
    "        ] [\n",
    "            button [\n",
    "                on_click Incr\n",
    "            ] [\n",
    "                text \"+\"\n",
    "            ]\n",
    "            p [\n",
    "                style [\n",
    "                    \"text-align\", \"center\"\n",
    "                ]\n",
    "            ] [\n",
    "                model |> sm'.obj_to_string |> text\n",
    "            ]\n",
    "            button [\n",
    "                on_click Decr\n",
    "            ] [\n",
    "                text \"-\"\n",
    "            ]\n",
    "        ]\n",
    "    ]"
   ]
  },
  {
   "cell_type": "markdown",
   "metadata": {},
   "source": [
    "### main'"
   ]
  },
  {
   "cell_type": "code",
   "execution_count": null,
   "metadata": {
    "dotnet_interactive": {
     "language": "spiral"
    },
    "polyglot_notebook": {
     "kernelName": "spiral"
    }
   },
   "outputs": [],
   "source": [
    "inl main' () =\n",
    "    inl app : _ model _ = simple init update view\n",
    "    app |> start"
   ]
  },
  {
   "cell_type": "code",
   "execution_count": null,
   "metadata": {
    "dotnet_interactive": {
     "language": "spiral"
    },
    "polyglot_notebook": {
     "kernelName": "spiral"
    }
   },
   "outputs": [
    {
     "data": {
      "text/html": [
       "<link\n",
       "  rel=\"stylesheet\"\n",
       "  href=\"http://localhost:3000/target/spiral_Eval/packages/3dafc25c688c9132880883832acd48eaa031625805cf4d033eda86dcc4e15f3b/build/dev/javascript/lustre_ui/priv/styles.css\"\n",
       "/>\n",
       "<div id=\"app\"></div>\n",
       "<script type=\"module\">\n",
       "  import * as main from \"http://localhost:3000/target/spiral_Eval/packages/3dafc25c688c9132880883832acd48eaa031625805cf4d033eda86dcc4e15f3b/build/dev/javascript/main/main.mjs\"\n",
       "  main.main()\n",
       "</script>\n"
      ]
     },
     "metadata": {},
     "output_type": "display_data"
    }
   ],
   "source": [
    "//// test\n",
    "///! gleam -t javascript -d lustre=\\\">=4.6.0\\\" lustre_ui=\\\"1.0.0-rc.1\\\" gleam_json=\\\">=2.0.0\\\"\n",
    "\n",
    "main' ()"
   ]
  }
 ],
 "metadata": {},
 "nbformat": 4,
 "nbformat_minor": 5
}