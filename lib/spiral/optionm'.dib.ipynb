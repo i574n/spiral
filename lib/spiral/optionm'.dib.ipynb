{
 "cells": [
  {
   "cell_type": "markdown",
   "metadata": {},
   "source": [
    "# optionm'"
   ]
  },
  {
   "cell_type": "code",
   "execution_count": null,
   "metadata": {
    "dotnet_interactive": {
     "language": "spiral"
    },
    "polyglot_notebook": {
     "kernelName": "spiral"
    }
   },
   "outputs": [],
   "source": [
    "open rust\n",
    "open rust_operators"
   ]
  },
  {
   "cell_type": "code",
   "execution_count": null,
   "metadata": {
    "dotnet_interactive": {
     "language": "spiral"
    },
    "polyglot_notebook": {
     "kernelName": "spiral"
    }
   },
   "outputs": [],
   "source": [
    "//// test\n",
    "\n",
    "open testing"
   ]
  },
  {
   "cell_type": "markdown",
   "metadata": {},
   "source": [
    "## optionm'"
   ]
  },
  {
   "cell_type": "markdown",
   "metadata": {},
   "source": [
    "### default_value"
   ]
  },
  {
   "cell_type": "code",
   "execution_count": null,
   "metadata": {
    "dotnet_interactive": {
     "language": "spiral"
    },
    "polyglot_notebook": {
     "kernelName": "spiral"
    }
   },
   "outputs": [],
   "source": [
    "inl default_value d =\n",
    "    optionm.defaultWith d"
   ]
  },
  {
   "cell_type": "code",
   "execution_count": null,
   "metadata": {
    "dotnet_interactive": {
     "language": "spiral"
    },
    "polyglot_notebook": {
     "kernelName": "spiral"
    }
   },
   "outputs": [
    {
     "name": "stdout",
     "output_type": "stream",
     "text": [
      "__assert_eq / actual: 3 / expected: 3\n"
     ]
    }
   ],
   "source": [
    "//// test\n",
    "\n",
    "None\n",
    "|> default_value 3i32\n",
    "|> _assert_eq 3i32"
   ]
  },
  {
   "cell_type": "markdown",
   "metadata": {},
   "source": [
    "### (/??)"
   ]
  },
  {
   "cell_type": "code",
   "execution_count": null,
   "metadata": {
    "dotnet_interactive": {
     "language": "spiral"
    },
    "polyglot_notebook": {
     "kernelName": "spiral"
    }
   },
   "outputs": [],
   "source": [
    "inl (/??) a b =\n",
    "    a |> default_value b"
   ]
  },
  {
   "cell_type": "code",
   "execution_count": null,
   "metadata": {
    "dotnet_interactive": {
     "language": "spiral"
    },
    "polyglot_notebook": {
     "kernelName": "spiral"
    }
   },
   "outputs": [
    {
     "name": "stdout",
     "output_type": "stream",
     "text": [
      "__assert_eq / actual: 3 / expected: 3\n"
     ]
    }
   ],
   "source": [
    "//// test\n",
    "\n",
    "None /?? 3i32\n",
    "|> _assert_eq 3i32"
   ]
  },
  {
   "cell_type": "markdown",
   "metadata": {},
   "source": [
    "### default_with"
   ]
  },
  {
   "cell_type": "code",
   "execution_count": null,
   "metadata": {
    "dotnet_interactive": {
     "language": "spiral"
    },
    "polyglot_notebook": {
     "kernelName": "spiral"
    }
   },
   "outputs": [],
   "source": [
    "inl default_with fn = function\n",
    "    | Some x => x\n",
    "    | None => fn ()"
   ]
  },
  {
   "cell_type": "code",
   "execution_count": null,
   "metadata": {
    "dotnet_interactive": {
     "language": "spiral"
    },
    "polyglot_notebook": {
     "kernelName": "spiral"
    }
   },
   "outputs": [
    {
     "name": "stdout",
     "output_type": "stream",
     "text": [
      "__assert_eq / actual: 3 / expected: 3\n"
     ]
    }
   ],
   "source": [
    "//// test\n",
    "\n",
    "None\n",
    "|> default_with fun () => 3i32\n",
    "|> _assert_eq 3i32"
   ]
  },
  {
   "cell_type": "markdown",
   "metadata": {},
   "source": [
    "### choose"
   ]
  },
  {
   "cell_type": "code",
   "execution_count": null,
   "metadata": {
    "dotnet_interactive": {
     "language": "spiral"
    },
    "polyglot_notebook": {
     "kernelName": "spiral"
    }
   },
   "outputs": [],
   "source": [
    "inl choose fn a b =\n",
    "    match a, b with\n",
    "    | Some x, Some y => fn x y |> Some\n",
    "    | _ => None"
   ]
  },
  {
   "cell_type": "code",
   "execution_count": null,
   "metadata": {
    "dotnet_interactive": {
     "language": "spiral"
    },
    "polyglot_notebook": {
     "kernelName": "spiral"
    }
   },
   "outputs": [
    {
     "name": "stdout",
     "output_type": "stream",
     "text": [
      "__assert_eq / actual: US0_0 5 / expected: US0_0 5\n"
     ]
    }
   ],
   "source": [
    "//// test\n",
    "\n",
    "(Some 2i32, Some 3)\n",
    "||> choose (+)\n",
    "|> _assert_eq (Some 5)"
   ]
  },
  {
   "cell_type": "markdown",
   "metadata": {},
   "source": [
    "### iter"
   ]
  },
  {
   "cell_type": "code",
   "execution_count": null,
   "metadata": {
    "dotnet_interactive": {
     "language": "spiral"
    },
    "polyglot_notebook": {
     "kernelName": "spiral"
    }
   },
   "outputs": [],
   "source": [
    "inl iter fn = function\n",
    "    | Some x => fn x\n",
    "    | None => ()"
   ]
  },
  {
   "cell_type": "code",
   "execution_count": null,
   "metadata": {
    "dotnet_interactive": {
     "language": "spiral"
    },
    "polyglot_notebook": {
     "kernelName": "spiral"
    }
   },
   "outputs": [
    {
     "name": "stdout",
     "output_type": "stream",
     "text": [
      "__assert_eq / actual: 2 / expected: 2\n"
     ]
    }
   ],
   "source": [
    "//// test\n",
    "\n",
    "inl n = mut 1i32\n",
    "inl fn =\n",
    "    fun n' =>\n",
    "        n <- *n + n'\n",
    "Some 1i32 |> iter fn\n",
    "None |> iter fn\n",
    "*n\n",
    "|> _assert_eq 2i32"
   ]
  },
  {
   "cell_type": "markdown",
   "metadata": {},
   "source": [
    "### flatten"
   ]
  },
  {
   "cell_type": "code",
   "execution_count": null,
   "metadata": {
    "dotnet_interactive": {
     "language": "spiral"
    },
    "polyglot_notebook": {
     "kernelName": "spiral"
    }
   },
   "outputs": [],
   "source": [
    "inl flatten x =\n",
    "    match x with\n",
    "    | Some (Some x) => Some x\n",
    "    | _ => None"
   ]
  },
  {
   "cell_type": "markdown",
   "metadata": {},
   "source": [
    "## fsharp"
   ]
  },
  {
   "cell_type": "markdown",
   "metadata": {},
   "source": [
    "### option'"
   ]
  },
  {
   "cell_type": "code",
   "execution_count": null,
   "metadata": {
    "dotnet_interactive": {
     "language": "spiral"
    },
    "polyglot_notebook": {
     "kernelName": "spiral"
    }
   },
   "outputs": [],
   "source": [
    "inl option'_types () =\n",
    "    backend_switch {\n",
    "        Gleam = fun () => global \"import gleam/option.{type Option, None, Some}\"\n",
    "    }\n",
    "nominal option'_gleam t =\n",
    "    `(\n",
    "        option'_types ()\n",
    "        $'' : $'Option(`t)'\n",
    "    )\n",
    "type option'_switch t =\n",
    "    {\n",
    "        Gleam : option'_gleam t\n",
    "        Fsharp : $\"`t option\"\n",
    "        Python : t\n",
    "    }\n",
    "nominal option' t = $'backend_switch `(option'_switch t)'"
   ]
  },
  {
   "cell_type": "markdown",
   "metadata": {},
   "source": [
    "### none'"
   ]
  },
  {
   "cell_type": "code",
   "execution_count": null,
   "metadata": {
    "dotnet_interactive": {
     "language": "spiral"
    },
    "polyglot_notebook": {
     "kernelName": "spiral"
    }
   },
   "outputs": [],
   "source": [
    "inl none' forall t. () : option' t =\n",
    "    $'None'"
   ]
  },
  {
   "cell_type": "markdown",
   "metadata": {},
   "source": [
    "### some'"
   ]
  },
  {
   "cell_type": "code",
   "execution_count": null,
   "metadata": {
    "dotnet_interactive": {
     "language": "spiral"
    },
    "polyglot_notebook": {
     "kernelName": "spiral"
    }
   },
   "outputs": [],
   "source": [
    "inl some' forall t. (x : t) : option' t =\n",
    "    backend_switch {\n",
    "        Gleam = fun () => $'!x |> Some' : option' t\n",
    "        Fsharp = fun () => $'Some !x ' : option' t\n",
    "        Python = fun () => $'!x # some\\' ' : option' t\n",
    "    }"
   ]
  },
  {
   "cell_type": "markdown",
   "metadata": {},
   "source": [
    "### default_value'"
   ]
  },
  {
   "cell_type": "code",
   "execution_count": null,
   "metadata": {
    "dotnet_interactive": {
     "language": "spiral"
    },
    "polyglot_notebook": {
     "kernelName": "spiral"
    }
   },
   "outputs": [],
   "source": [
    "inl default_value' forall t. (value : t) (x : option' t) : t =\n",
    "    backend_switch {\n",
    "        Gleam = fun () => $'!x |> option.unwrap(!value)' : t\n",
    "        Fsharp = fun () => $'!x |> Option.defaultValue !value ' : t\n",
    "        Python = fun () => $'!x or !value ' : t\n",
    "    }"
   ]
  },
  {
   "cell_type": "markdown",
   "metadata": {},
   "source": [
    "### get'"
   ]
  },
  {
   "cell_type": "code",
   "execution_count": null,
   "metadata": {
    "dotnet_interactive": {
     "language": "spiral"
    },
    "polyglot_notebook": {
     "kernelName": "spiral"
    }
   },
   "outputs": [],
   "source": [
    "inl get' forall t. (x : option' t) : t =\n",
    "    backend_switch {\n",
    "        Gleam = fun () =>\n",
    "            option'_types ()\n",
    "            $'!x |> option.unwrap' : t\n",
    "        Fsharp = fun () => $'!x |> Option.get' : t\n",
    "        Python = fun () => $'!x ' : t\n",
    "    }"
   ]
  },
  {
   "cell_type": "markdown",
   "metadata": {},
   "source": [
    "### box"
   ]
  },
  {
   "cell_type": "code",
   "execution_count": null,
   "metadata": {
    "dotnet_interactive": {
     "language": "spiral"
    },
    "polyglot_notebook": {
     "kernelName": "spiral"
    }
   },
   "outputs": [],
   "source": [
    "inl box forall t. (x : option t) : option' t =\n",
    "    // x\n",
    "    // |> optionm.map some'\n",
    "    // |> default_with none'\n",
    "    match x with\n",
    "    | Some x => some' x\n",
    "    | None => none' ()"
   ]
  },
  {
   "cell_type": "markdown",
   "metadata": {},
   "source": [
    "### map"
   ]
  },
  {
   "cell_type": "code",
   "execution_count": null,
   "metadata": {
    "dotnet_interactive": {
     "language": "spiral"
    },
    "polyglot_notebook": {
     "kernelName": "spiral"
    }
   },
   "outputs": [],
   "source": [
    "inl map forall t u. (fn : t -> u) (x : option' t) : option' u =\n",
    "    backend_switch {\n",
    "        Gleam = fun () =>\n",
    "            option'_types ()\n",
    "            // inl fn = join fn\n",
    "            $'!x |> option.map(!fn)' : option' u\n",
    "        Fsharp = fun () =>\n",
    "            inl fn = join fn\n",
    "            $'!x |> Option.map !fn ' : option' u\n",
    "        Python = fun () =>\n",
    "            if x =. none' ()\n",
    "            then none' ()\n",
    "            else fn $'!x ' |> fun x => $'!x ' : option' u\n",
    "    }"
   ]
  },
  {
   "cell_type": "markdown",
   "metadata": {},
   "source": [
    "### map''"
   ]
  },
  {
   "cell_type": "code",
   "execution_count": null,
   "metadata": {
    "dotnet_interactive": {
     "language": "spiral"
    },
    "polyglot_notebook": {
     "kernelName": "spiral"
    }
   },
   "outputs": [],
   "source": [
    "inl map'' forall t u. (fn : t -> u) (x : option' t) : option' u =\n",
    "    x |> map fn"
   ]
  },
  {
   "cell_type": "markdown",
   "metadata": {},
   "source": [
    "### unbox"
   ]
  },
  {
   "cell_type": "code",
   "execution_count": null,
   "metadata": {
    "dotnet_interactive": {
     "language": "spiral"
    },
    "polyglot_notebook": {
     "kernelName": "spiral"
    }
   },
   "outputs": [],
   "source": [
    "inl unbox forall t. (x : option' t) : option t =\n",
    "    x |> map'' Some |> default_value' None\n",
    "    // inl some x : option t = Some x\n",
    "    // inl some = join some\n",
    "    // inl none : option t = None\n",
    "    // $'!x |> Option.map !some |> Option.defaultValue !none '"
   ]
  },
  {
   "cell_type": "code",
   "execution_count": null,
   "metadata": {
    "dotnet_interactive": {
     "language": "spiral"
    },
    "polyglot_notebook": {
     "kernelName": "spiral"
    }
   },
   "outputs": [
    {
     "data": {
      "text/plain": [
       ".py output (Cuda):\n",
       "__assert_eq' / actual: (US0_0(v0=3), US0_1()) / expected: (US0_0(v0=3), US0_1())\n",
       "\n",
       ".rs output:\n",
       "__assert_eq' / actual: (US0_0(3), US0_1) / expected: (US0_0(3), US0_1)\n",
       "\n",
       ".ts output:\n",
       "__assert_eq' / actual: US0_0 3,US0_1 / expected: US0_0 3,US0_1\n",
       "\n",
       ".py output:\n",
       "__assert_eq' / actual: (US0_0 3, US0_1) / expected: (US0_0 3, US0_1)\n",
       "\n",
       "\n",
       ".gleam output (Gleam):\n",
       "{compiling,\"/home/runner/work/spiral/polyglot/target/spiral_Eval/packages/db87da813bfaea20ddfe461f19f3bfca552feb918ba03133453b060e518943ed/build/dev/erlang/gleam_stdlib/_gleam_artefacts/gleam@set.erl\"}\n",
       "{compiling,\"/home/runner/work/spiral/polyglot/target/spiral_Eval/packages/db87da813bfaea20ddfe461f19f3bfca552feb918ba03133453b060e518943ed/build/dev/erlang/gleam_stdlib/_gleam_artefacts/gleam@dynamic@decode.erl\"}\n",
       "{compiling,\"/home/runner/work/spiral/polyglot/target/spiral_Eval/packages/db87da813bfaea20ddfe461f19f3bfca552feb918ba03133453b060e518943ed/build/dev/erlang/gleam_stdlib/_gleam_artefacts/gleam@int.erl\"}\n",
       "{compiling,\"/home/runner/work/spiral/polyglot/target/spiral_Eval/packages/db87da813bfaea20ddfe461f19f3bfca552feb918ba03133453b060e518943ed/build/dev/erlang/gleam_stdlib/_gleam_artefacts/gleam@list.erl\"}\n",
       "{compiled,\"/home/runner/work/spiral/polyglot/target/spiral_Eval/packages/db87da813bfaea20ddfe461f19f3bfca552feb918ba03133453b060e518943ed/build/dev/erlang/gleam_stdlib/ebin/gleam@set.beam\"}\n",
       "{compiling,\"/home/runner/work/spiral/polyglot/target/spiral_Eval/packages/db87da813bfaea20ddfe461f19f3bfca552feb918ba03133453b060e518943ed/build/dev/erlang/gleam_stdlib/_gleam_artefacts/gleam@uri.erl\"}\n",
       "{compiled,\"/home/runner/work/spiral/polyglot/target/spiral_Eval/packages/db87da813bfaea20ddfe461f19f3bfca552feb918ba03133453b060e518943ed/build/dev/erlang/gleam_stdlib/ebin/gleam@int.beam\"}\n",
       "{compiling,\"/home/runner/work/spiral/polyglot/target/spiral_Eval/packages/db87da813bfaea20ddfe461f19f3bfca552feb918ba03133453b060e518943ed/build/dev/erlang/gleam_stdlib/_gleam_artefacts/gleam@order.erl\"}\n",
       "{compiled,\"/home/runner/work/spiral/polyglot/target/spiral_Eval/packages/db87da813bfaea20ddfe461f19f3bfca552feb918ba03133453b060e518943ed/build/dev/erlang/gleam_stdlib/ebin/gleam@order.beam\"}\n",
       "{compiling,\"/home/runner/work/spiral/polyglot/target/spiral_Eval/packages/db87da813bfaea20ddfe461f19f3bfca552feb918ba03133453b060e518943ed/build/dev/erlang/gleam_stdlib/_gleam_artefacts/gleam@option.erl\"}\n",
       "{compiled,\"/home/runner/work/spiral/polyglot/target/spiral_Eval/packages/db87da813bfaea20ddfe461f19f3bfca552feb918ba03133453b060e518943ed/build/dev/erlang/gleam_stdlib/ebin/gleam@dynamic@decode.beam\"}\n",
       "{compiled,\"/home/runner/work/spiral/polyglot/target/spiral_Eval/packages/db87da813bfaea20ddfe461f19f3bfca552feb918ba03133453b060e518943ed/build/dev/erlang/gleam_stdlib/ebin/gleam@option.beam\"}\n",
       "{compiling,\"/home/runner/work/spiral/polyglot/target/spiral_Eval/packages/db87da813bfaea20ddfe461f19f3bfca552feb918ba03133453b060e518943ed/build/dev/erlang/gleam_stdlib/_gleam_artefacts/gleam@float.erl\"}\n",
       "{compiling,\"/home/runner/work/spiral/polyglot/target/spiral_Eval/packages/db87da813bfaea20ddfe461f19f3bfca552feb918ba03133453b060e518943ed/build/dev/erlang/gleam_stdlib/_gleam_artefacts/gleam@string_tree.erl\"}\n",
       "{compiled,\"/home/runner/work/spiral/polyglot/target/spiral_Eval/packages/db87da813bfaea20ddfe461f19f3bfca552feb918ba03133453b060e518943ed/build/dev/erlang/gleam_stdlib/ebin/gleam@string_tree.beam\"}\n",
       "{compiling,\"/home/runner/work/spiral/polyglot/target/spiral_Eval/packages/db87da813bfaea20ddfe461f19f3bfca552feb918ba03133453b060e518943ed/build/dev/erlang/gleam_stdlib/_gleam_artefacts/gleam@bytes_tree.erl\"}\n",
       "{compiled,\"/home/runner/work/spiral/polyglot/target/spiral_Eval/packages/db87da813bfaea20ddfe461f19f3bfca552feb918ba03133453b060e518943ed/build/dev/erlang/gleam_stdlib/ebin/gleam@float.beam\"}\n",
       "{compiling,\"/home/runner/work/spiral/polyglot/target/spiral_Eval/packages/db87da813bfaea20ddfe461f19f3bfca552feb918ba03133453b060e518943ed/build/dev/erlang/gleam_stdlib/_gleam_artefacts/gleam@io.erl\"}\n",
       "{compiled,\"/home/runner/work/spiral/polyglot/target/spiral_Eval/packages/db87da813bfaea20ddfe461f19f3bfca552feb918ba03133453b060e518943ed/build/dev/erlang/gleam_stdlib/ebin/gleam@bytes_tree.beam\"}\n",
       "{compiling,\"/home/runner/work/spiral/polyglot/target/spiral_Eval/packages/db87da813bfaea20ddfe461f19f3bfca552feb918ba03133453b060e518943ed/build/dev/erlang/gleam_stdlib/_gleam_artefacts/gleam@dict.erl\"}\n",
       "{compiled,\"/home/runner/work/spiral/polyglot/target/spiral_Eval/packages/db87da813bfaea20ddfe461f19f3bfca552feb918ba03133453b060e518943ed/build/dev/erlang/gleam_stdlib/ebin/gleam@io.beam\"}\n",
       "{compiling,\"/home/runner/work/spiral/polyglot/target/spiral_Eval/packages/db87da813bfaea20ddfe461f19f3bfca552feb918ba03133453b060e518943ed/build/dev/erlang/gleam_stdlib/_gleam_artefacts/gleam_stdlib.erl\"}\n",
       "{compiled,\"/home/runner/work/spiral/polyglot/target/spiral_Eval/packages/db87da813bfaea20ddfe461f19f3bfca552feb918ba03133453b060e518943ed/build/dev/erlang/gleam_stdlib/ebin/gleam@dict.beam\"}\n",
       "{compiling,\"/home/runner/work/spiral/polyglot/target/spiral_Eval/packages/db87da813bfaea20ddfe461f19f3bfca552feb918ba03133453b060e518943ed/build/dev/erlang/gleam_stdlib/_gleam_artefacts/gleam@bit_array.erl\"}\n",
       "{compiled,\"/home/runner/work/spiral/polyglot/target/spiral_Eval/packages/db87da813bfaea20ddfe461f19f3bfca552feb918ba03133453b060e518943ed/build/dev/erlang/gleam_stdlib/ebin/gleam@bit_array.beam\"}\n",
       "{compiling,\"/home/runner/work/spiral/polyglot/target/spiral_Eval/packages/db87da813bfaea20ddfe461f19f3bfca552feb918ba03133453b060e518943ed/build/dev/erlang/gleam_stdlib/_gleam_artefacts/gleam@result.erl\"}\n",
       "{compiled,\"/home/runner/work/spiral/polyglot/target/spiral_Eval/packages/db87da813bfaea20ddfe461f19f3bfca552feb918ba03133453b060e518943ed/build/dev/erlang/gleam_stdlib/ebin/gleam@uri.beam\"}\n",
       "{compiling,\"/home/runner/work/spiral/polyglot/target/spiral_Eval/packages/db87da813bfaea20ddfe461f19f3bfca552feb918ba03133453b060e518943ed/build/dev/erlang/gleam_stdlib/_gleam_artefacts/gleam@function.erl\"}\n",
       "{compiled,\"/home/runner/work/spiral/polyglot/target/spiral_Eval/packages/db87da813bfaea20ddfe461f19f3bfca552feb918ba03133453b060e518943ed/build/dev/erlang/gleam_stdlib/ebin/gleam@function.beam\"}\n",
       "{compiling,\"/home/runner/work/spiral/polyglot/target/spiral_Eval/packages/db87da813bfaea20ddfe461f19f3bfca552feb918ba03133453b060e518943ed/build/dev/erlang/gleam_stdlib/_gleam_artefacts/gleam@string.erl\"}\n",
       "{compiled,\"/home/runner/work/spiral/polyglot/target/spiral_Eval/packages/db87da813bfaea20ddfe461f19f3bfca552feb918ba03133453b060e518943ed/build/dev/erlang/gleam_stdlib/ebin/gleam@list.beam\"}\n",
       "{compiling,\"/home/runner/work/spiral/polyglot/target/spiral_Eval/packages/db87da813bfaea20ddfe461f19f3bfca552feb918ba03133453b060e518943ed/build/dev/erlang/gleam_stdlib/_gleam_artefacts/gleam@dynamic.erl\"}\n",
       "{compiled,\"/home/runner/work/spiral/polyglot/target/spiral_Eval/packages/db87da813bfaea20ddfe461f19f3bfca552feb918ba03133453b060e518943ed/build/dev/erlang/gleam_stdlib/ebin/gleam@result.beam\"}\n",
       "{compiling,\"/home/runner/work/spiral/polyglot/target/spiral_Eval/packages/db87da813bfaea20ddfe461f19f3bfca552feb918ba03133453b060e518943ed/build/dev/erlang/gleam_stdlib/_gleam_artefacts/gleam_stdlib_decode_ffi.erl\"}\n",
       "{compiled,\"/home/runner/work/spiral/polyglot/target/spiral_Eval/packages/db87da813bfaea20ddfe461f19f3bfca552feb918ba03133453b060e518943ed/build/dev/erlang/gleam_stdlib/ebin/gleam@string.beam\"}\n",
       "{compiling,\"/home/runner/work/spiral/polyglot/target/spiral_Eval/packages/db87da813bfaea20ddfe461f19f3bfca552feb918ba03133453b060e518943ed/build/dev/erlang/gleam_stdlib/_gleam_artefacts/gleam@bool.erl\"}\n",
       "{compiled,\"/home/runner/work/spiral/polyglot/target/spiral_Eval/packages/db87da813bfaea20ddfe461f19f3bfca552feb918ba03133453b060e518943ed/build/dev/erlang/gleam_stdlib/ebin/gleam_stdlib_decode_ffi.beam\"}\n",
       "{compiling,\"/home/runner/work/spiral/polyglot/target/spiral_Eval/packages/db87da813bfaea20ddfe461f19f3bfca552feb918ba03133453b060e518943ed/build/dev/erlang/gleam_stdlib/_gleam_artefacts/gleam@pair.erl\"}\n",
       "{compiled,\"/home/runner/work/spiral/polyglot/target/spiral_Eval/packages/db87da813bfaea20ddfe461f19f3bfca552feb918ba03133453b060e518943ed/build/dev/erlang/gleam_stdlib/ebin/gleam@bool.beam\"}\n",
       "{compiled,\"/home/runner/work/spiral/polyglot/target/spiral_Eval/packages/db87da813bfaea20ddfe461f19f3bfca552feb918ba03133453b060e518943ed/build/dev/erlang/gleam_stdlib/ebin/gleam@pair.beam\"}\n",
       "{compiled,\"/home/runner/work/spiral/polyglot/target/spiral_Eval/packages/db87da813bfaea20ddfe461f19f3bfca552feb918ba03133453b060e518943ed/build/dev/erlang/gleam_stdlib/ebin/gleam_stdlib.beam\"}\n",
       "{compiled,\"/home/runner/work/spiral/polyglot/target/spiral_Eval/packages/db87da813bfaea20ddfe461f19f3bfca552feb918ba03133453b060e518943ed/build/dev/erlang/gleam_stdlib/ebin/gleam@dynamic.beam\"}\n",
       "{compiling,\"/home/runner/work/spiral/polyglot/target/spiral_Eval/packages/db87da813bfaea20ddfe461f19f3bfca552feb918ba03133453b060e518943ed/build/dev/erlang/gary/_gleam_artefacts/gary.erl\"}\n",
       "{compiling,\"/home/runner/work/spiral/polyglot/target/spiral_Eval/packages/db87da813bfaea20ddfe461f19f3bfca552feb918ba03133453b060e518943ed/build/dev/erlang/gary/_gleam_artefacts/gary@array.erl\"}\n",
       "{compiling,\"/home/runner/work/spiral/polyglot/target/spiral_Eval/packages/db87da813bfaea20ddfe461f19f3bfca552feb918ba03133453b060e518943ed/build/dev/erlang/gary/_gleam_artefacts/internal@array_bindings.erl\"}\n",
       "{compiled,\"/home/runner/work/spiral/polyglot/target/spiral_Eval/packages/db87da813bfaea20ddfe461f19f3bfca552feb918ba03133453b060e518943ed/build/dev/erlang/gary/ebin/gary.beam\"}\n",
       "{compiled,\"/home/runner/work/spiral/polyglot/target/spiral_Eval/packages/db87da813bfaea20ddfe461f19f3bfca552feb918ba03133453b060e518943ed/build/dev/erlang/gary/ebin/internal@array_bindings.beam\"}\n",
       "{compiled,\"/home/runner/work/spiral/polyglot/target/spiral_Eval/packages/db87da813bfaea20ddfe461f19f3bfca552feb918ba03133453b060e518943ed/build/dev/erlang/gary/ebin/gary@array.beam\"}\n",
       "\u001B[4;7mwarning: Unused imported type\u001B[0m\n",
       "\u001B[4;7m  ┌─ /home/runner/work/spiral/polyglot/target/spiral_Eval/packages/db87da813bfaea20ddfe461f19f3bfca552feb918ba03133453b060e518943ed/src/main.gleam:2:22\u001B[0m\n",
       "\u001B[4;7m  │\u001B[0m\n",
       "\u001B[4;7m2 │ import gleam/option.{type Option, None, Some}\u001B[0m\n",
       "\u001B[4;7m  │                      ^^^^^^^^^^^ This imported type is never used\u001B[0m\n",
       "\u001B[4;7m\u001B[0m\n",
       "\u001B[4;7mHint: You can safely remove it.\u001B[0m\n",
       "\u001B[4;7m\u001B[0m\n",
       "{compiling,\"/home/runner/work/spiral/polyglot/target/spiral_Eval/packages/db87da813bfaea20ddfe461f19f3bfca552feb918ba03133453b060e518943ed/build/dev/erlang/main/_gleam_artefacts/main@@main.erl\"}\n",
       "{compiling,\"/home/runner/work/spiral/polyglot/target/spiral_Eval/packages/db87da813bfaea20ddfe461f19f3bfca552feb918ba03133453b060e518943ed/build/dev/erlang/main/_gleam_artefacts/main.erl\"}\n",
       "{compiled,\"/home/runner/work/spiral/polyglot/target/spiral_Eval/packages/db87da813bfaea20ddfe461f19f3bfca552feb918ba03133453b060e518943ed/build/dev/erlang/main/ebin/main.beam\"}\n",
       "{compiled,\"/home/runner/work/spiral/polyglot/target/spiral_Eval/packages/db87da813bfaea20ddfe461f19f3bfca552feb918ba03133453b060e518943ed/build/dev/erlang/main/ebin/main@@main.beam\"}\n",
       "__assert_eq' / actual: #(Us0i0(3), Us0i1) / expected: #(Us0i0(3), Us0i1)\n",
       "\n",
       "\n"
      ]
     },
     "metadata": {},
     "output_type": "display_data"
    },
    {
     "name": "stdout",
     "output_type": "stream",
     "text": [
      ".fsx output:\n",
      "__assert_eq' / actual: struct (US0_0 3, US0_1) / expected: struct (US0_0 3, US0_1)\n"
     ]
    }
   ],
   "source": [
    "//// test\n",
    "///! gleam\n",
    "///! fsharp\n",
    "///! cuda\n",
    "///! rust\n",
    "///! typescript\n",
    "///! python\n",
    "\n",
    "inl x = Some 3i32\n",
    "inl y : option i32 = None\n",
    "inl x' = x |> box |> unbox\n",
    "inl y' = y |> box |> map id |> unbox\n",
    "(x', y') |> _assert_eq' (x, y)"
   ]
  },
  {
   "cell_type": "markdown",
   "metadata": {},
   "source": [
    "### of_obj"
   ]
  },
  {
   "cell_type": "code",
   "execution_count": null,
   "metadata": {
    "dotnet_interactive": {
     "language": "spiral"
    },
    "polyglot_notebook": {
     "kernelName": "spiral"
    }
   },
   "outputs": [],
   "source": [
    "inl of_obj forall t. (x : t) : option' t =\n",
    "    backend_switch {\n",
    "        Gleam = fun () =>\n",
    "            option'_types ()\n",
    "            $'!x |> Some' : option' t\n",
    "        Fsharp = fun () =>\n",
    "            $'let mutable _!x = None'\n",
    "            $'#if \\!FABLE_COMPILER && \\!WASM && \\!CONTRACT'\n",
    "            ((x |> $'Option.ofObj') : option' t) |> emit_unit\n",
    "            $'#else'\n",
    "            $'Some !x '\n",
    "            $'#endif'\n",
    "            $'|> fun x -> _!x <- Some x'\n",
    "            $'match _!x with Some x -> x | None -> failwith \"optionm\\'.of_obj / _!x=None\"' : option' t\n",
    "        Python = fun () =>\n",
    "            $'!x ' : option' t\n",
    "    }"
   ]
  },
  {
   "cell_type": "code",
   "execution_count": null,
   "metadata": {
    "dotnet_interactive": {
     "language": "spiral"
    },
    "polyglot_notebook": {
     "kernelName": "spiral"
    }
   },
   "outputs": [
    {
     "data": {
      "text/plain": [
       ".py output (Cuda):\n",
       "__assert_eq / actual: US0_1() / expected: US0_1()\n",
       "\n",
       ".ts output:\n",
       "__assert_eq / actual: US0_1 / expected: US0_1\n",
       "\n",
       ".py output:\n",
       "__assert_eq / actual: US0_1 / expected: US0_1\n",
       "\n"
      ]
     },
     "metadata": {},
     "output_type": "display_data"
    },
    {
     "name": "stdout",
     "output_type": "stream",
     "text": [
      ".fsx output:\n",
      "__assert_eq / actual: US0_1 / expected: US0_1\n"
     ]
    }
   ],
   "source": [
    "//// test\n",
    "////! gleam // Expected type: #(String) Found type: #(Nil)\n",
    "///! fsharp\n",
    "///! cuda\n",
    "////! rust // attempted to zero-initialize type `alloc::sync::Arc<dyn core::any::Any>`, which is invalid\n",
    "///! typescript\n",
    "///! python\n",
    "\n",
    "null ()\n",
    "|> of_obj\n",
    "|> unbox\n",
    "|> _assert_eq (None : option string)"
   ]
  },
  {
   "cell_type": "code",
   "execution_count": null,
   "metadata": {
    "dotnet_interactive": {
     "language": "spiral"
    },
    "polyglot_notebook": {
     "kernelName": "spiral"
    }
   },
   "outputs": [
    {
     "data": {
      "text/plain": [
       ".py output (Cuda):\n",
       "__assert_eq' / actual: US0_0(v0='') / expected: US0_0(v0='')\n",
       "\n",
       ".rs output:\n",
       "__assert_eq' / actual: US0_0(\"\") / expected: US0_0(\"\")\n",
       "\n",
       ".ts output:\n",
       "__assert_eq' / actual: US0_0  / expected: US0_0 \n",
       "\n",
       ".py output:\n",
       "__assert_eq' / actual: US0_0 \"\" / expected: US0_0 \"\"\n",
       "\n",
       "\n",
       ".gleam output (Gleam):\n",
       "{compiling,\"/home/runner/work/spiral/polyglot/target/spiral_Eval/packages/2d758ec462a615d0e58fb298936fc467a0815b3fdfe30fd41ea8ae3c35021fab/build/dev/erlang/gleam_stdlib/_gleam_artefacts/gleam_stdlib_decode_ffi.erl\"}\n",
       "{compiling,\"/home/runner/work/spiral/polyglot/target/spiral_Eval/packages/2d758ec462a615d0e58fb298936fc467a0815b3fdfe30fd41ea8ae3c35021fab/build/dev/erlang/gleam_stdlib/_gleam_artefacts/gleam@bit_array.erl\"}\n",
       "{compiling,\"/home/runner/work/spiral/polyglot/target/spiral_Eval/packages/2d758ec462a615d0e58fb298936fc467a0815b3fdfe30fd41ea8ae3c35021fab/build/dev/erlang/gleam_stdlib/_gleam_artefacts/gleam@dict.erl\"}\n",
       "{compiling,\"/home/runner/work/spiral/polyglot/target/spiral_Eval/packages/2d758ec462a615d0e58fb298936fc467a0815b3fdfe30fd41ea8ae3c35021fab/build/dev/erlang/gleam_stdlib/_gleam_artefacts/gleam@list.erl\"}\n",
       "{compiled,\"/home/runner/work/spiral/polyglot/target/spiral_Eval/packages/2d758ec462a615d0e58fb298936fc467a0815b3fdfe30fd41ea8ae3c35021fab/build/dev/erlang/gleam_stdlib/ebin/gleam@dict.beam\"}\n",
       "{compiled,\"/home/runner/work/spiral/polyglot/target/spiral_Eval/packages/2d758ec462a615d0e58fb298936fc467a0815b3fdfe30fd41ea8ae3c35021fab/build/dev/erlang/gleam_stdlib/ebin/gleam_stdlib_decode_ffi.beam\"}\n",
       "{compiling,\"/home/runner/work/spiral/polyglot/target/spiral_Eval/packages/2d758ec462a615d0e58fb298936fc467a0815b3fdfe30fd41ea8ae3c35021fab/build/dev/erlang/gleam_stdlib/_gleam_artefacts/gleam@int.erl\"}\n",
       "{compiling,\"/home/runner/work/spiral/polyglot/target/spiral_Eval/packages/2d758ec462a615d0e58fb298936fc467a0815b3fdfe30fd41ea8ae3c35021fab/build/dev/erlang/gleam_stdlib/_gleam_artefacts/gleam@io.erl\"}\n",
       "{compiled,\"/home/runner/work/spiral/polyglot/target/spiral_Eval/packages/2d758ec462a615d0e58fb298936fc467a0815b3fdfe30fd41ea8ae3c35021fab/build/dev/erlang/gleam_stdlib/ebin/gleam@io.beam\"}\n",
       "{compiling,\"/home/runner/work/spiral/polyglot/target/spiral_Eval/packages/2d758ec462a615d0e58fb298936fc467a0815b3fdfe30fd41ea8ae3c35021fab/build/dev/erlang/gleam_stdlib/_gleam_artefacts/gleam@dynamic@decode.erl\"}\n",
       "{compiled,\"/home/runner/work/spiral/polyglot/target/spiral_Eval/packages/2d758ec462a615d0e58fb298936fc467a0815b3fdfe30fd41ea8ae3c35021fab/build/dev/erlang/gleam_stdlib/ebin/gleam@bit_array.beam\"}\n",
       "{compiling,\"/home/runner/work/spiral/polyglot/target/spiral_Eval/packages/2d758ec462a615d0e58fb298936fc467a0815b3fdfe30fd41ea8ae3c35021fab/build/dev/erlang/gleam_stdlib/_gleam_artefacts/gleam@dynamic.erl\"}\n",
       "{compiled,\"/home/runner/work/spiral/polyglot/target/spiral_Eval/packages/2d758ec462a615d0e58fb298936fc467a0815b3fdfe30fd41ea8ae3c35021fab/build/dev/erlang/gleam_stdlib/ebin/gleam@int.beam\"}\n",
       "{compiling,\"/home/runner/work/spiral/polyglot/target/spiral_Eval/packages/2d758ec462a615d0e58fb298936fc467a0815b3fdfe30fd41ea8ae3c35021fab/build/dev/erlang/gleam_stdlib/_gleam_artefacts/gleam@function.erl\"}\n",
       "{compiled,\"/home/runner/work/spiral/polyglot/target/spiral_Eval/packages/2d758ec462a615d0e58fb298936fc467a0815b3fdfe30fd41ea8ae3c35021fab/build/dev/erlang/gleam_stdlib/ebin/gleam@function.beam\"}\n",
       "{compiling,\"/home/runner/work/spiral/polyglot/target/spiral_Eval/packages/2d758ec462a615d0e58fb298936fc467a0815b3fdfe30fd41ea8ae3c35021fab/build/dev/erlang/gleam_stdlib/_gleam_artefacts/gleam@result.erl\"}\n",
       "{compiled,\"/home/runner/work/spiral/polyglot/target/spiral_Eval/packages/2d758ec462a615d0e58fb298936fc467a0815b3fdfe30fd41ea8ae3c35021fab/build/dev/erlang/gleam_stdlib/ebin/gleam@result.beam\"}\n",
       "{compiling,\"/home/runner/work/spiral/polyglot/target/spiral_Eval/packages/2d758ec462a615d0e58fb298936fc467a0815b3fdfe30fd41ea8ae3c35021fab/build/dev/erlang/gleam_stdlib/_gleam_artefacts/gleam@pair.erl\"}\n",
       "{compiled,\"/home/runner/work/spiral/polyglot/target/spiral_Eval/packages/2d758ec462a615d0e58fb298936fc467a0815b3fdfe30fd41ea8ae3c35021fab/build/dev/erlang/gleam_stdlib/ebin/gleam@pair.beam\"}\n",
       "{compiling,\"/home/runner/work/spiral/polyglot/target/spiral_Eval/packages/2d758ec462a615d0e58fb298936fc467a0815b3fdfe30fd41ea8ae3c35021fab/build/dev/erlang/gleam_stdlib/_gleam_artefacts/gleam@option.erl\"}\n",
       "{compiled,\"/home/runner/work/spiral/polyglot/target/spiral_Eval/packages/2d758ec462a615d0e58fb298936fc467a0815b3fdfe30fd41ea8ae3c35021fab/build/dev/erlang/gleam_stdlib/ebin/gleam@dynamic@decode.beam\"}\n",
       "{compiling,\"/home/runner/work/spiral/polyglot/target/spiral_Eval/packages/2d758ec462a615d0e58fb298936fc467a0815b3fdfe30fd41ea8ae3c35021fab/build/dev/erlang/gleam_stdlib/_gleam_artefacts/gleam@string.erl\"}\n",
       "{compiled,\"/home/runner/work/spiral/polyglot/target/spiral_Eval/packages/2d758ec462a615d0e58fb298936fc467a0815b3fdfe30fd41ea8ae3c35021fab/build/dev/erlang/gleam_stdlib/ebin/gleam@option.beam\"}\n",
       "{compiling,\"/home/runner/work/spiral/polyglot/target/spiral_Eval/packages/2d758ec462a615d0e58fb298936fc467a0815b3fdfe30fd41ea8ae3c35021fab/build/dev/erlang/gleam_stdlib/_gleam_artefacts/gleam_stdlib.erl\"}\n",
       "{compiled,\"/home/runner/work/spiral/polyglot/target/spiral_Eval/packages/2d758ec462a615d0e58fb298936fc467a0815b3fdfe30fd41ea8ae3c35021fab/build/dev/erlang/gleam_stdlib/ebin/gleam@string.beam\"}\n",
       "{compiling,\"/home/runner/work/spiral/polyglot/target/spiral_Eval/packages/2d758ec462a615d0e58fb298936fc467a0815b3fdfe30fd41ea8ae3c35021fab/build/dev/erlang/gleam_stdlib/_gleam_artefacts/gleam@float.erl\"}\n",
       "{compiled,\"/home/runner/work/spiral/polyglot/target/spiral_Eval/packages/2d758ec462a615d0e58fb298936fc467a0815b3fdfe30fd41ea8ae3c35021fab/build/dev/erlang/gleam_stdlib/ebin/gleam@float.beam\"}\n",
       "{compiling,\"/home/runner/work/spiral/polyglot/target/spiral_Eval/packages/2d758ec462a615d0e58fb298936fc467a0815b3fdfe30fd41ea8ae3c35021fab/build/dev/erlang/gleam_stdlib/_gleam_artefacts/gleam@bool.erl\"}\n",
       "{compiled,\"/home/runner/work/spiral/polyglot/target/spiral_Eval/packages/2d758ec462a615d0e58fb298936fc467a0815b3fdfe30fd41ea8ae3c35021fab/build/dev/erlang/gleam_stdlib/ebin/gleam@bool.beam\"}\n",
       "{compiling,\"/home/runner/work/spiral/polyglot/target/spiral_Eval/packages/2d758ec462a615d0e58fb298936fc467a0815b3fdfe30fd41ea8ae3c35021fab/build/dev/erlang/gleam_stdlib/_gleam_artefacts/gleam@bytes_tree.erl\"}\n",
       "{compiled,\"/home/runner/work/spiral/polyglot/target/spiral_Eval/packages/2d758ec462a615d0e58fb298936fc467a0815b3fdfe30fd41ea8ae3c35021fab/build/dev/erlang/gleam_stdlib/ebin/gleam@bytes_tree.beam\"}\n",
       "{compiling,\"/home/runner/work/spiral/polyglot/target/spiral_Eval/packages/2d758ec462a615d0e58fb298936fc467a0815b3fdfe30fd41ea8ae3c35021fab/build/dev/erlang/gleam_stdlib/_gleam_artefacts/gleam@string_tree.erl\"}\n",
       "{compiled,\"/home/runner/work/spiral/polyglot/target/spiral_Eval/packages/2d758ec462a615d0e58fb298936fc467a0815b3fdfe30fd41ea8ae3c35021fab/build/dev/erlang/gleam_stdlib/ebin/gleam@dynamic.beam\"}\n",
       "{compiling,\"/home/runner/work/spiral/polyglot/target/spiral_Eval/packages/2d758ec462a615d0e58fb298936fc467a0815b3fdfe30fd41ea8ae3c35021fab/build/dev/erlang/gleam_stdlib/_gleam_artefacts/gleam@uri.erl\"}\n",
       "{compiled,\"/home/runner/work/spiral/polyglot/target/spiral_Eval/packages/2d758ec462a615d0e58fb298936fc467a0815b3fdfe30fd41ea8ae3c35021fab/build/dev/erlang/gleam_stdlib/ebin/gleam@string_tree.beam\"}\n",
       "{compiling,\"/home/runner/work/spiral/polyglot/target/spiral_Eval/packages/2d758ec462a615d0e58fb298936fc467a0815b3fdfe30fd41ea8ae3c35021fab/build/dev/erlang/gleam_stdlib/_gleam_artefacts/gleam@set.erl\"}\n",
       "{compiled,\"/home/runner/work/spiral/polyglot/target/spiral_Eval/packages/2d758ec462a615d0e58fb298936fc467a0815b3fdfe30fd41ea8ae3c35021fab/build/dev/erlang/gleam_stdlib/ebin/gleam@list.beam\"}\n",
       "{compiling,\"/home/runner/work/spiral/polyglot/target/spiral_Eval/packages/2d758ec462a615d0e58fb298936fc467a0815b3fdfe30fd41ea8ae3c35021fab/build/dev/erlang/gleam_stdlib/_gleam_artefacts/gleam@order.erl\"}\n",
       "{compiled,\"/home/runner/work/spiral/polyglot/target/spiral_Eval/packages/2d758ec462a615d0e58fb298936fc467a0815b3fdfe30fd41ea8ae3c35021fab/build/dev/erlang/gleam_stdlib/ebin/gleam@set.beam\"}\n",
       "{compiled,\"/home/runner/work/spiral/polyglot/target/spiral_Eval/packages/2d758ec462a615d0e58fb298936fc467a0815b3fdfe30fd41ea8ae3c35021fab/build/dev/erlang/gleam_stdlib/ebin/gleam@order.beam\"}\n",
       "{compiled,\"/home/runner/work/spiral/polyglot/target/spiral_Eval/packages/2d758ec462a615d0e58fb298936fc467a0815b3fdfe30fd41ea8ae3c35021fab/build/dev/erlang/gleam_stdlib/ebin/gleam_stdlib.beam\"}\n",
       "{compiled,\"/home/runner/work/spiral/polyglot/target/spiral_Eval/packages/2d758ec462a615d0e58fb298936fc467a0815b3fdfe30fd41ea8ae3c35021fab/build/dev/erlang/gleam_stdlib/ebin/gleam@uri.beam\"}\n",
       "{compiling,\"/home/runner/work/spiral/polyglot/target/spiral_Eval/packages/2d758ec462a615d0e58fb298936fc467a0815b3fdfe30fd41ea8ae3c35021fab/build/dev/erlang/gary/_gleam_artefacts/internal@array_bindings.erl\"}\n",
       "{compiling,\"/home/runner/work/spiral/polyglot/target/spiral_Eval/packages/2d758ec462a615d0e58fb298936fc467a0815b3fdfe30fd41ea8ae3c35021fab/build/dev/erlang/gary/_gleam_artefacts/gary.erl\"}\n",
       "{compiling,\"/home/runner/work/spiral/polyglot/target/spiral_Eval/packages/2d758ec462a615d0e58fb298936fc467a0815b3fdfe30fd41ea8ae3c35021fab/build/dev/erlang/gary/_gleam_artefacts/gary@array.erl\"}\n",
       "{compiled,\"/home/runner/work/spiral/polyglot/target/spiral_Eval/packages/2d758ec462a615d0e58fb298936fc467a0815b3fdfe30fd41ea8ae3c35021fab/build/dev/erlang/gary/ebin/gary.beam\"}\n",
       "{compiled,\"/home/runner/work/spiral/polyglot/target/spiral_Eval/packages/2d758ec462a615d0e58fb298936fc467a0815b3fdfe30fd41ea8ae3c35021fab/build/dev/erlang/gary/ebin/internal@array_bindings.beam\"}\n",
       "{compiled,\"/home/runner/work/spiral/polyglot/target/spiral_Eval/packages/2d758ec462a615d0e58fb298936fc467a0815b3fdfe30fd41ea8ae3c35021fab/build/dev/erlang/gary/ebin/gary@array.beam\"}\n",
       "\u001B[4;7mwarning: Unused imported type\u001B[0m\n",
       "\u001B[4;7m  ┌─ /home/runner/work/spiral/polyglot/target/spiral_Eval/packages/2d758ec462a615d0e58fb298936fc467a0815b3fdfe30fd41ea8ae3c35021fab/src/main.gleam:2:22\u001B[0m\n",
       "\u001B[4;7m  │\u001B[0m\n",
       "\u001B[4;7m2 │ import gleam/option.{type Option, None, Some}\u001B[0m\n",
       "\u001B[4;7m  │                      ^^^^^^^^^^^ This imported type is never used\u001B[0m\n",
       "\u001B[4;7m\u001B[0m\n",
       "\u001B[4;7mHint: You can safely remove it.\u001B[0m\n",
       "\u001B[4;7m\u001B[0m\n",
       "\u001B[4;7mwarning: Unused imported item\u001B[0m\n",
       "\u001B[4;7m  ┌─ /home/runner/work/spiral/polyglot/target/spiral_Eval/packages/2d758ec462a615d0e58fb298936fc467a0815b3fdfe30fd41ea8ae3c35021fab/src/main.gleam:2:35\u001B[0m\n",
       "\u001B[4;7m  │\u001B[0m\n",
       "\u001B[4;7m2 │ import gleam/option.{type Option, None, Some}\u001B[0m\n",
       "\u001B[4;7m  │                                   ^^^^ This imported constructor is never used\u001B[0m\n",
       "\u001B[4;7m\u001B[0m\n",
       "\u001B[4;7mHint: You can safely remove it.\u001B[0m\n",
       "\u001B[4;7m\u001B[0m\n",
       "{compiling,\"/home/runner/work/spiral/polyglot/target/spiral_Eval/packages/2d758ec462a615d0e58fb298936fc467a0815b3fdfe30fd41ea8ae3c35021fab/build/dev/erlang/main/_gleam_artefacts/main@@main.erl\"}\n",
       "{compiling,\"/home/runner/work/spiral/polyglot/target/spiral_Eval/packages/2d758ec462a615d0e58fb298936fc467a0815b3fdfe30fd41ea8ae3c35021fab/build/dev/erlang/main/_gleam_artefacts/main.erl\"}\n",
       "{compiled,\"/home/runner/work/spiral/polyglot/target/spiral_Eval/packages/2d758ec462a615d0e58fb298936fc467a0815b3fdfe30fd41ea8ae3c35021fab/build/dev/erlang/main/ebin/main.beam\"}\n",
       "{compiled,\"/home/runner/work/spiral/polyglot/target/spiral_Eval/packages/2d758ec462a615d0e58fb298936fc467a0815b3fdfe30fd41ea8ae3c35021fab/build/dev/erlang/main/ebin/main@@main.beam\"}\n",
       "__assert_eq' / actual: Us0i0(\"\") / expected: Us0i0(\"\")\n",
       "\n",
       "\n"
      ]
     },
     "metadata": {},
     "output_type": "display_data"
    },
    {
     "name": "stdout",
     "output_type": "stream",
     "text": [
      ".fsx output:\n",
      "__assert_eq' / actual: US0_0 \"\" / expected: US0_0 \"\"\n"
     ]
    }
   ],
   "source": [
    "//// test\n",
    "///! gleam\n",
    "///! fsharp\n",
    "///! cuda\n",
    "///! rust\n",
    "///! typescript\n",
    "///! python\n",
    "\n",
    "\"\"\n",
    "|> of_obj\n",
    "|> unbox\n",
    "|> _assert_eq' (Some \"\")"
   ]
  },
  {
   "cell_type": "markdown",
   "metadata": {},
   "source": [
    "### flatten'"
   ]
  },
  {
   "cell_type": "code",
   "execution_count": null,
   "metadata": {
    "dotnet_interactive": {
     "language": "spiral"
    },
    "polyglot_notebook": {
     "kernelName": "spiral"
    }
   },
   "outputs": [],
   "source": [
    "inl flatten' x =\n",
    "    x\n",
    "    |> unbox\n",
    "    |> optionm.map unbox\n",
    "    |> flatten"
   ]
  },
  {
   "cell_type": "markdown",
   "metadata": {},
   "source": [
    "## rust"
   ]
  },
  {
   "cell_type": "markdown",
   "metadata": {},
   "source": [
    "### try'"
   ]
  },
  {
   "cell_type": "code",
   "execution_count": null,
   "metadata": {
    "dotnet_interactive": {
     "language": "spiral"
    },
    "polyglot_notebook": {
     "kernelName": "spiral"
    }
   },
   "outputs": [],
   "source": [
    "inl try' forall t. (x : option' t) : t =\n",
    "    !\\\\(x, $'\"$0?\"')"
   ]
  },
  {
   "cell_type": "markdown",
   "metadata": {},
   "source": [
    "### map'"
   ]
  },
  {
   "cell_type": "code",
   "execution_count": null,
   "metadata": {
    "dotnet_interactive": {
     "language": "spiral"
    },
    "polyglot_notebook": {
     "kernelName": "spiral"
    }
   },
   "outputs": [],
   "source": [
    "inl map' forall t u. (fn : t -> u) (x : option' t) : option' u =\n",
    "    (!\\\\(x, $'\"true; let _optionm_map_ = $0.map(|x| { //\"') : bool) |> ignore\n",
    "    inl result = fn !\\($'\"x\"')\n",
    "    (!\\\\(result, $'\"true; $0 })\"') : bool) |> ignore\n",
    "    !\\($'\"_optionm_map_\"')"
   ]
  },
  {
   "cell_type": "markdown",
   "metadata": {},
   "source": [
    "### unwrap"
   ]
  },
  {
   "cell_type": "code",
   "execution_count": null,
   "metadata": {
    "dotnet_interactive": {
     "language": "spiral"
    },
    "polyglot_notebook": {
     "kernelName": "spiral"
    }
   },
   "outputs": [],
   "source": [
    "inl unwrap forall t. (x : option' t) : t =\n",
    "    !\\\\(x, $'\"$0.unwrap()\"')"
   ]
  },
  {
   "cell_type": "markdown",
   "metadata": {},
   "source": [
    "### take"
   ]
  },
  {
   "cell_type": "code",
   "execution_count": null,
   "metadata": {
    "dotnet_interactive": {
     "language": "spiral"
    },
    "polyglot_notebook": {
     "kernelName": "spiral"
    }
   },
   "outputs": [],
   "source": [
    "inl take forall t. (x : option' t) : option' t =\n",
    "    (!\\\\(x, $'\"true; let mut !x = !x\"') : bool) |> ignore\n",
    "    !\\\\(x, $'\"Option::take(&mut $0)\"')"
   ]
  },
  {
   "cell_type": "markdown",
   "metadata": {},
   "source": [
    "### take_ref"
   ]
  },
  {
   "cell_type": "code",
   "execution_count": null,
   "metadata": {
    "dotnet_interactive": {
     "language": "spiral"
    },
    "polyglot_notebook": {
     "kernelName": "spiral"
    }
   },
   "outputs": [],
   "source": [
    "inl take_ref forall t. (x : rust.ref (option' t)) : option' t =\n",
    "    (!\\\\(x, $'\"true; let mut !x = !x\"') : bool) |> ignore\n",
    "    !\\\\(x, $'\"Option::take(&mut $0)\"')"
   ]
  },
  {
   "cell_type": "markdown",
   "metadata": {},
   "source": [
    "### take_ref_mut"
   ]
  },
  {
   "cell_type": "code",
   "execution_count": null,
   "metadata": {
    "dotnet_interactive": {
     "language": "spiral"
    },
    "polyglot_notebook": {
     "kernelName": "spiral"
    }
   },
   "outputs": [],
   "source": [
    "inl take_ref_mut forall t. (x : rust.ref (rust.mut' (option' t))) : option' t =\n",
    "    !\\\\(x, $'\"Option::take($0)\"')"
   ]
  },
  {
   "cell_type": "markdown",
   "metadata": {},
   "source": [
    "### cloned"
   ]
  },
  {
   "cell_type": "code",
   "execution_count": null,
   "metadata": {
    "dotnet_interactive": {
     "language": "spiral"
    },
    "polyglot_notebook": {
     "kernelName": "spiral"
    }
   },
   "outputs": [],
   "source": [
    "inl cloned forall t. (x : option' (rust.ref t)) : option' t =\n",
    "    !\\\\(x, $'\"$0.cloned()\"')"
   ]
  },
  {
   "cell_type": "markdown",
   "metadata": {},
   "source": [
    "### as_ref"
   ]
  },
  {
   "cell_type": "code",
   "execution_count": null,
   "metadata": {
    "dotnet_interactive": {
     "language": "spiral"
    },
    "polyglot_notebook": {
     "kernelName": "spiral"
    }
   },
   "outputs": [],
   "source": [
    "inl as_ref forall t. (x : rust.ref (option' t)) : option' (rust.ref t) =\n",
    "    !\\\\(x, $'\"$0.as_ref()\"')"
   ]
  },
  {
   "cell_type": "markdown",
   "metadata": {},
   "source": [
    "### as_mut"
   ]
  },
  {
   "cell_type": "code",
   "execution_count": null,
   "metadata": {
    "dotnet_interactive": {
     "language": "spiral"
    },
    "polyglot_notebook": {
     "kernelName": "spiral"
    }
   },
   "outputs": [],
   "source": [
    "inl as_mut forall t. (x : rust.ref (rust.mut' (option' t))) : option' (rust.ref (rust.mut' t)) =\n",
    "    !\\\\(x, $'\"$0.as_mut()\"')"
   ]
  },
  {
   "cell_type": "markdown",
   "metadata": {},
   "source": [
    "### unwrap_or"
   ]
  },
  {
   "cell_type": "code",
   "execution_count": null,
   "metadata": {
    "dotnet_interactive": {
     "language": "spiral"
    },
    "polyglot_notebook": {
     "kernelName": "spiral"
    }
   },
   "outputs": [],
   "source": [
    "inl unwrap_or forall t. (def : t) (x : option' t) : t =\n",
    "    !\\($'\"!x.unwrap_or(!def)\"')"
   ]
  },
  {
   "cell_type": "markdown",
   "metadata": {},
   "source": [
    "### and_then"
   ]
  },
  {
   "cell_type": "code",
   "execution_count": null,
   "metadata": {
    "dotnet_interactive": {
     "language": "spiral"
    },
    "polyglot_notebook": {
     "kernelName": "spiral"
    }
   },
   "outputs": [],
   "source": [
    "inl and_then forall t u. (fn : t -> option' u) (x : option' t) : option' u =\n",
    "    !\\\\((x, fn), $'\"$0.and_then(|x| $1(x))\"')"
   ]
  },
  {
   "cell_type": "markdown",
   "metadata": {},
   "source": [
    "### rc_upgrade"
   ]
  },
  {
   "cell_type": "code",
   "execution_count": null,
   "metadata": {
    "dotnet_interactive": {
     "language": "spiral"
    },
    "polyglot_notebook": {
     "kernelName": "spiral"
    }
   },
   "outputs": [],
   "source": [
    "inl rc_upgrade forall t. (x : rust.weak_rc t) : option' (rust.rc t) =\n",
    "    !\\\\(x, $'\"std::rc::Weak::upgrade(&$0)\"')"
   ]
  },
  {
   "cell_type": "markdown",
   "metadata": {},
   "source": [
    "### rc_into_inner"
   ]
  },
  {
   "cell_type": "code",
   "execution_count": null,
   "metadata": {
    "dotnet_interactive": {
     "language": "spiral"
    },
    "polyglot_notebook": {
     "kernelName": "spiral"
    }
   },
   "outputs": [],
   "source": [
    "inl rc_into_inner forall t. (x : rust.rc t) : option' t =\n",
    "    !\\\\(x, $'\"std::rc::Rc::into_inner($0)\"')"
   ]
  },
  {
   "cell_type": "code",
   "execution_count": null,
   "metadata": {
    "dotnet_interactive": {
     "language": "spiral"
    },
    "polyglot_notebook": {
     "kernelName": "spiral"
    }
   },
   "outputs": [
    {
     "data": {
      "text/plain": [
       "__assert_eq' / actual: US0_0(0) / expected: US0_0(0)\n"
      ]
     },
     "metadata": {},
     "output_type": "display_data"
    }
   ],
   "source": [
    "//// test\n",
    "///! rust\n",
    "\n",
    "rust.new_rc 0i32\n",
    "|> rc_into_inner\n",
    "|> unbox\n",
    "|> _assert_eq' (Some 0i32)"
   ]
  }
 ],
 "metadata": {},
 "nbformat": 4,
 "nbformat_minor": 5
}