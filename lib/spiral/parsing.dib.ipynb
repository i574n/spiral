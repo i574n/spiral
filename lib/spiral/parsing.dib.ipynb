{
 "cells": [
  {
   "cell_type": "markdown",
   "metadata": {},
   "source": [
    "# parsing"
   ]
  },
  {
   "cell_type": "code",
   "execution_count": null,
   "metadata": {
    "dotnet_interactive": {
     "language": "spiral"
    },
    "polyglot_notebook": {
     "kernelName": "spiral"
    }
   },
   "outputs": [],
   "source": [
    "open sm'_operators"
   ]
  },
  {
   "cell_type": "code",
   "execution_count": null,
   "metadata": {
    "dotnet_interactive": {
     "language": "spiral"
    },
    "polyglot_notebook": {
     "kernelName": "spiral"
    }
   },
   "outputs": [],
   "source": [
    "//// test\n",
    "\n",
    "open testing"
   ]
  },
  {
   "cell_type": "markdown",
   "metadata": {},
   "source": [
    "## fparsec"
   ]
  },
  {
   "cell_type": "code",
   "execution_count": null,
   "metadata": {
    "dotnet_interactive": {
     "language": "spiral"
    },
    "polyglot_notebook": {
     "kernelName": "spiral"
    }
   },
   "outputs": [],
   "source": [
    "//// test\n",
    "\n",
    "#r @\"../../../../../../../.nuget/packages/fparsec/2.0.0-beta2/lib/netstandard2.1/FParsec.dll\"\n",
    "#r @\"../../../../../../../.nuget/packages/fparsec/2.0.0-beta2/lib/netstandard2.1/FParsecCS.dll\"\n",
    "\n",
    "///! _\n",
    "\n",
    "()"
   ]
  },
  {
   "cell_type": "code",
   "execution_count": null,
   "metadata": {
    "dotnet_interactive": {
     "language": "spiral"
    },
    "polyglot_notebook": {
     "kernelName": "spiral"
    }
   },
   "outputs": [],
   "source": [
    "//// test\n",
    "\n",
    "nominal position_ = $'FParsec.Position'\n",
    "nominal parser_error_ = $'FParsec.Error.ParserError'\n",
    "\n",
    "nominal reply_ t = $'FParsec.Reply<`t>'\n",
    "\n",
    "nominal char_stream_ t = $'FParsec.CharStream<`t>'\n",
    "\n",
    "// nominal parser t u = char_stream u -> reply t\n",
    "nominal parser_ t u = $'FParsec.Primitives.Parser<`t, `u>'\n",
    "\n",
    "inl p_char_ forall t. (x : char) : parser_ char t =\n",
    "    x |> $'FParsec.CharParsers.pchar'\n",
    "\n",
    "inl p_string_ forall t. (x : string) : parser_ string t =\n",
    "    x |> $'FParsec.CharParsers.pstring'\n",
    "\n",
    "inl (>>.$) forall t u v. (a : parser_ t v) (b : parser_ u v) : parser_ u v =\n",
    "    b |> $'FParsec.Primitives.(>>.)' a\n",
    "\n",
    "inl (.>>$) forall t u v. (a : parser_ t v) (b : parser_ u v) : parser_ t v =\n",
    "    b |> $'FParsec.Primitives.(.>>)' a\n",
    "\n",
    "inl (.>>.$) forall t u v. (a : parser_ t v) (b : parser_ u v) : parser_ (pair t u) v =\n",
    "    b |> $'FParsec.Primitives.(.>>.)' a\n",
    "\n",
    "inl (>>%$) forall t u v. (a : parser_ t v) (b : u) : parser_ u v =\n",
    "    b |> $'FParsec.Primitives.(>>%)' a\n",
    "\n",
    "inl (>>=$) forall t u v. (a : parser_ t v) (b : t -> parser_ u v) : parser_ u v =\n",
    "    b |> $'FParsec.Primitives.(>>=)' a\n",
    "\n",
    "inl (|>>$) forall t u v. (a : parser_ t v) (b : t -> u) : parser_ u v =\n",
    "    inl b = fun x => x |> b\n",
    "    b |> $'FParsec.Primitives.(|>>)' a\n",
    "\n",
    "inl any_char_ () : parser_ char _ =\n",
    "    $'FParsec.CharParsers.anyChar'\n",
    "\n",
    "inl any_string_ () : parser_ string _ =\n",
    "    $'FParsec.CharParsers.anyString'\n",
    "\n",
    "inl any_string__ (n : i32) : parser_ string _ =\n",
    "    n |> $'FParsec.CharParsers.anyString'\n",
    "\n",
    "inl eof_ () : parser_ () _ =\n",
    "    $'FParsec.CharParsers.eof'\n",
    "\n",
    "inl spaces_ () : parser_ () () =\n",
    "    $'FParsec.CharParsers.spaces'\n",
    "\n",
    "inl spaces1_ () : parser_ () () =\n",
    "    $'FParsec.CharParsers.spaces1'\n",
    "\n",
    "inl (<|>$) forall t u. (a : parser_ t u) (b : parser_ t u) : parser_ t u =\n",
    "    b |> $'FParsec.Primitives.(<|>)' a\n",
    "\n",
    "inl many_satisfy_ forall t. (x : char -> bool) : parser_ string t =\n",
    "    x |> $'FParsec.CharParsers.manySatisfy'\n",
    "\n",
    "inl satisfy_ forall t. (x : char -> bool) : parser_ char t =\n",
    "    x |> $'FParsec.CharParsers.satisfy'\n",
    "\n",
    "inl none_of_ (x : list char) : parser_ char () =\n",
    "    x\n",
    "    |> listm'.box\n",
    "    |> listm'.to_array'\n",
    "    |> $'FParsec.CharParsers.noneOf'\n",
    "\n",
    "inl any_of_ (x : list char) : parser_ char () =\n",
    "    x\n",
    "    |> listm'.box\n",
    "    |> listm'.to_array'\n",
    "    |> $'FParsec.CharParsers.anyOf'\n",
    "\n",
    "inl skip_any_of_ (x : list char) : parser_ () () =\n",
    "    x\n",
    "    |> listm'.box\n",
    "    |> listm'.to_array'\n",
    "    |> $'FParsec.CharParsers.skipAnyOf'\n",
    "\n",
    "inl between_ forall t u v x. (a : parser_ t x) (b : parser_ u x) (c : parser_ v x) : parser_ v x =\n",
    "    c |> $'FParsec.Primitives.between' a b\n",
    "\n",
    "inl many_chars_ forall t. (x : parser_ char t) : parser_ string t =\n",
    "    x |> $'FParsec.CharParsers.manyChars'\n",
    "\n",
    "inl many1_chars_ forall t. (x : parser_ char t) : parser_ string t =\n",
    "    x |> $'FParsec.CharParsers.many1Chars'\n",
    "\n",
    "inl many_strings_ forall t. (x : parser_ string t) : parser_ string t =\n",
    "    x |> $'FParsec.CharParsers.manyStrings'\n",
    "\n",
    "inl skip_any_string_ forall t. (n : i32) : parser_ () t =\n",
    "    n |> $'FParsec.CharParsers.skipAnyString'\n",
    "\n",
    "inl many1_strings_ forall t. (x : parser_ string t) : parser_ string t =\n",
    "    x |> $'FParsec.CharParsers.many1Strings'\n",
    "\n",
    "inl opt_ forall t u. (a : parser_ t u) : parser_ (optionm'.option' t) u =\n",
    "    a |> $'FParsec.Primitives.opt'\n",
    "\n",
    "inl choice_ forall t u. (a : list (parser_ t u)) : parser_ t u =\n",
    "    a\n",
    "    |> listm'.box\n",
    "    |> seq.of_list'\n",
    "    |> $'FParsec.Primitives.choice'\n",
    "\n",
    "inl delay_ forall t u. (fn : () -> parser_ t u) : parser_ t u =\n",
    "    fn |> $'FParsec.Primitives.parse.Delay'\n",
    "\n",
    "inl peek_ forall t u. (a : parser_ t u) : parser_ char u =\n",
    "    $'!a.Peek ()'\n",
    "\n",
    "inl not_followed_by_ forall t u. (a : parser_ t u) : parser_ () u =\n",
    "    a |> $'FParsec.Primitives.notFollowedBy'\n",
    "\n",
    "inl sep_by_ forall t u v. (a : parser_ t v) (b : parser_ u v) : parser_ (listm'.list' t) v =\n",
    "    b |> $'FParsec.Primitives.sepBy' a\n",
    "\n",
    "inl sep_by1_ forall t u v. (a : parser_ t v) (b : parser_ u v) : parser_ (listm'.list' t) v =\n",
    "    b |> $'FParsec.Primitives.sepBy1' a\n",
    "\n",
    "inl sep_end_by_ forall t u v. (a : parser_ t v) (b : parser_ u v) : parser_ (listm'.list' t) v =\n",
    "    b |> $'FParsec.Primitives.sepEndBy' a\n",
    "\n",
    "inl many_ forall t u. (a : parser_ t u) : parser_ (listm'.list' t) u =\n",
    "    a |> $'FParsec.Primitives.many'\n",
    "\n",
    "inl many1_ forall t u. (a : parser_ t u) : parser_ (listm'.list' t) u =\n",
    "    a |> $'FParsec.Primitives.many1'\n",
    "\n",
    "inl many1_satisfy_ forall t. (x : char -> bool) : parser_ string t =\n",
    "    x |> $'FParsec.CharParsers.many1Satisfy'\n",
    "\n",
    "nominal parser_result'_ t u = $'FParsec.CharParsers.ParserResult<`t, `u>'\n",
    "\n",
    "inl run_ forall t. (parser : parser_ t ()) (x : string) : parser_result'_ t () =\n",
    "    x |> $'FParsec.CharParsers.run' parser\n",
    "\n",
    "union parser_result_ t u =\n",
    "    | Success : t * u * position_\n",
    "    | Failure : string * parser_error_ * u\n",
    "\n",
    "inl parser_result_ forall t u. = function\n",
    "    | Success (a, b, c) => $'`(parser_result'_ t u).Success (!a, !b, !c)' : parser_result'_ t u\n",
    "    | Failure (a, b, c) => $'`(parser_result'_ t u).Failure (!a, !b, !c)' : parser_result'_ t u\n",
    "\n",
    "inl parser_result'_ forall t u. (x : parser_result'_ t u) : parser_result_ t u =\n",
    "    $'let mutable _!x = None '\n",
    "    $'match !x with'\n",
    "    $'| FParsec.CharParsers.Success (a, b, c) -> (' : ()\n",
    "    $'(fun () ->'\n",
    "    $'(fun () ->'\n",
    "    (Success ((dyn $'a'), dyn $'b', dyn $'c') : _ t u) |> emit_unit\n",
    "    $')'\n",
    "    $'|> fun x -> x ()'\n",
    "    $') () ) | FParsec.CharParsers.Failure (a, b, c) -> (' : ()\n",
    "    $'(fun () ->'\n",
    "    $'(fun () ->'\n",
    "    (Failure ((dyn $'a'), dyn $'b', dyn $'c') : _ t u) |> emit_unit\n",
    "    $')'\n",
    "    $'|> fun x -> x ()'\n",
    "    $') () )' : ()\n",
    "    $'|> fun x -> _!x <- Some x'\n",
    "    $'match _!x with Some x -> x | None -> failwith \"??? / _!x=None\"'\n",
    "\n",
    "inl parse_ parser input : result _ _ =\n",
    "    match input |> run_ parser |> parser_result'_ with\n",
    "    | Success (result, b, c) => Ok (result, c)\n",
    "    | Failure (error_msg, b, c) => Error (error_msg, b)"
   ]
  },
  {
   "cell_type": "code",
   "execution_count": null,
   "metadata": {
    "dotnet_interactive": {
     "language": "spiral"
    },
    "polyglot_notebook": {
     "kernelName": "spiral"
    }
   },
   "outputs": [
    {
     "name": "stdout",
     "output_type": "stream",
     "text": [
      "\n",
      "input: a b c\n",
      "{ name = __assert_eq'; actual = [|\"a\"; \"b\"; \"c\"|]; expected = [|\"a\"; \"b\"; \"c\"|] }\n",
      "\n",
      "input: e f \"g h\" i\n",
      "{ name = __assert_eq'; actual = [|\"e\"; \"f\"; \"g h\"; \"i\"|]; expected = [|\"e\"; \"f\"; \"g h\"; \"i\"|] }\n",
      "\n",
      "input: \"j k\" \"l\" \"m\"\n",
      "{ name = __assert_eq'; actual = [|\"j k\"; \"l\"; \"m\"|]; expected = [|\"j k\"; \"l\"; \"m\"|] }\n",
      "\n",
      "input: s -t \"u `\"v`\" w\"\n",
      "{ name = __assert_eq'; actual = [|\"s\"; \"-t\"; \"u `\"v`\" w\"|]; expected = [|\"s\"; \"-t\"; \"u `\"v`\" w\"|] }\n",
      "\n",
      "input: n -o \"p \\\"q\\\" r\"\n",
      "{ name = __assert_eq'; actual = [|\"n\"; \"-o\"; \"p \\\"q\\\" r\"|]; expected = [|\"n\"; \"-o\"; \"p \\\"q\\\" r\"|] }\n",
      "\n",
      "input: r -s \"t \\\"u\\\"\"\n",
      "{ name = __assert_eq'; actual = [|\"r\"; \"-s\"; \"t \\\"u\\\"\"|]; expected = [|\"r\"; \"-s\"; \"t \\\"u\\\"\"|] }\n",
      "\n",
      "input: x -y \"$z -a '(b=\\\"c-id=)[a-fA-F0-9]{8}', { `$_[1] + `$d++ }\"\n",
      "{ name = __assert_eq'; actual = [|\"x\"; \"-y\"; \"$z -a '(b=\\\"c-id=)[a-fA-F0-9]{8}', { `$_[1] + `$d++ }\"|]; expected = [|\"x\"; \"-y\"; \"$z -a '(b=\\\"c-id=)[a-fA-F0-9]{8}', { `$_[1] + `$d++ }\"|] }\n",
      "\n",
      "input: e -f \"$g -h '(i=`\"j-id=)[a-fA-F0-9]{8}', { `$_[1] + `$k++ }\"\n",
      "{ name = __assert_eq'; actual = [|\"e\"; \"-f\"; \"$g -h '(i=`\"j-id=)[a-fA-F0-9]{8}', { `$_[1] + `$k++ }\"|]; expected = [|\"e\"; \"-f\"; \"$g -h '(i=`\"j-id=)[a-fA-F0-9]{8}', { `$_[1] + `$k++ }\"|] }\n",
      "\n",
      "input: --l \\\"''' m '''\\\" \n",
      "{ name = __assert_eq'; actual = [|\"--l\"; \"''' m '''\"|]; expected = [|\"--l\"; \"''' m '''\"|] }\n",
      "\n",
      "input: n --o --p q --r \"s:/t u/v.w\" --x \"y:/z.a\" --b c.d \"\\e{f-g}\" h.i \"j (k)\"\n",
      "{ name = __assert_eq'; actual = [|\"n\"; \"--o\"; \"--p\"; \"q\"; \"--r\"; \"s:/t u/v.w\"; \"--x\"; \"y:/z.a\"; \"--b\"; \"c.d\";\n",
      "  \"\\e{f-g}\"; \"h.i\"; \"j (k)\"|]; expected = [|\"n\"; \"--o\"; \"--p\"; \"q\"; \"--r\"; \"s:/t u/v.w\"; \"--x\"; \"y:/z.a\"; \"--b\"; \"c.d\";\n",
      "  \"\\e{f-g}\"; \"h.i\"; \"j (k)\"|] }\n",
      "\n",
      "input: l \"m n:\\o.p\"\n",
      "{ name = __assert_eq'; actual = [|\"l\"; \"m n:\\o.p\"|]; expected = [|\"l\"; \"m n:\\o.p\"|] }\n"
     ]
    }
   ],
   "source": [
    "//// test\n",
    "\n",
    "inl split_args (args : string) : result (array_base (string * position_)) (string * parser_error_) =\n",
    "    inl esc = [ '\\\\'; '`' ]\n",
    "    inl quotes = [ '\"' ]\n",
    "    inl special = esc ++ quotes\n",
    "    inl p_esc_char c =\n",
    "        p_char_ c >>.$ any_char_ () |>>$ fun c' => $'$\"{!c}{!c'}\"'\n",
    "    inl p_word = special |> none_of_ |>>$ sm'.obj_to_string\n",
    "    inl p_plain = special ++ [ ' ' ] |> none_of_ |> many1_chars_\n",
    "    inl p_text = p_word |> many1_strings_\n",
    "    inl p_esc = esc |> listm.map p_esc_char |> choice_\n",
    "    inl p_quoted = (p_word <|>$ p_esc) |> many_ |>>$ (seq.of_list' >> sm'.concat \"\")\n",
    "    inl p_quoted_all = p_quoted |> between_ (p_char_ '\"') (p_char_ '\"')\n",
    "    inl p_esc_root = p_esc |>>$ (fun _ => \"\") >>.$ (p_word |> many_) |>>$ (seq.of_list' >> sm'.concat \"\")\n",
    "    inl p_content = p_plain <|>$ p_quoted_all <|>$ p_esc_root\n",
    "    inl p_args = spaces1_ () |> sep_by_ p_content\n",
    "    args\n",
    "    |> parse_ p_args\n",
    "    |> resultm.map fun (a', b') =>\n",
    "        (\n",
    "            (\n",
    "                a'\n",
    "                |> listm'.to_array'\n",
    "                |> a\n",
    "                |> am.map fun x => x, b'\n",
    "                |> fun (a x : _ i32 _) => x\n",
    "            )\n",
    "        )\n",
    "\n",
    "[\n",
    "    \"a b c\",\n",
    "    ;[ \"a\"; \"b\"; \"c\" ]\n",
    "\n",
    "    \"e f \\\"g h\\\" i\",\n",
    "    ;[ \"e\"; \"f\"; \"g h\"; \"i\" ]\n",
    "\n",
    "    \"\\\"j k\\\" \\\"l\\\" \\\"m\\\"\",\n",
    "    ;[ \"j k\"; \"l\"; \"m\" ]\n",
    "\n",
    "    \"s -t \\\"u \\`\\\"v\\`\\\" w\\\"\",\n",
    "    ;[ \"s\"; \"-t\"; \"u \\`\\\"v\\`\\\" w\" ]\n",
    "\n",
    "    \"n -o \\\"p \\\\\\\"q\\\\\\\" r\\\"\",\n",
    "    ;[ \"n\"; \"-o\"; \"p \\\\\\\"q\\\\\\\" r\" ]\n",
    "\n",
    "    \"r -s \\\"t \\\\\\\"u\\\\\\\"\\\"\",\n",
    "    ;[ \"r\"; \"-s\"; \"t \\\\\\\"u\\\\\\\"\" ]\n",
    "\n",
    "    $'$\"x -y \\\\\\\"$z -a \\'(b=\\\\\\\\\\\\\"c-id=)[a-fA-F0-9]{{8}}\\', {{ \\`$_[1] + \\`$d++ }}\\\\\\\"\"',\n",
    "    ;[ \"x\"; \"-y\"; \"$z -a '(b=\\\\\\\"c-id=)[a-fA-F0-9]{8}', { `$_[1] + `$d++ }\" ]\n",
    "\n",
    "    \"e -f \\\"$g -h '(i=`\\\"j-id=)[a-fA-F0-9]{8}', { `$_[1] + `$k++ }\\\"\",\n",
    "    ;[ \"e\"; \"-f\"; \"$g -h '(i=`\\\"j-id=)[a-fA-F0-9]{8}', { `$_[1] + `$k++ }\" ]\n",
    "\n",
    "    $'$\"--l \\\\\\\\\\\\\"\\'\\'\\' m \\'\\'\\'\\\\\\\\\\\\\" \"',\n",
    "    ;[ \"--l\"; \"''' m '''\" ]\n",
    "\n",
    "    $'$\"n --o --p q --r \\\\\\\"s:/t u/v.w\\\\\\\" --x \\\\\\\"y:/z.a\\\\\\\" --b c.d \\\\\\\"\\\\\\\\e{{f-g}}\\\\\\\" h.i \\\\\\\"j (k)\\\\\\\"\"',\n",
    "    ;[ \"n\"; \"--o\"; \"--p\"; \"q\"; \"--r\"; \"s:/t u/v.w\"; \"--x\"; \"y:/z.a\"; \"--b\"; \"c.d\"; \"\\\\e{f-g}\"; \"h.i\"; \"j (k)\" ]\n",
    "\n",
    "    $'\\@$\"l \"\"m n:\\\\o.p\"\"\"',\n",
    "    ;[ \"l\"; \"m n:\\\\o.p\" ]\n",
    "]\n",
    "|> listm.rev\n",
    "|> listm.map fun input, expected =>\n",
    "    input\n",
    "    |> split_args\n",
    "    |> fun x =>\n",
    "        try\n",
    "            fun () =>\n",
    "                ($'$\"\\ninput: {!input}\"' : string)\n",
    "                |> console.write_line\n",
    "                x\n",
    "                |> resultm.get\n",
    "                |> am'.map_base fst\n",
    "                |> _assert_eq' expected\n",
    "                false\n",
    "            fun ex =>\n",
    "                ($'$\"error / expected: %A{!expected} / ex: %A{!ex}\"' : string)\n",
    "                |> console.write_line\n",
    "                Some true\n",
    "        |> optionm.value\n",
    "|> listm'.filter id\n",
    "|> function\n",
    "    | [] => ()\n",
    "    | x => failwith $'$\"{!x}\"'"
   ]
  },
  {
   "cell_type": "markdown",
   "metadata": {},
   "source": [
    "## parsing"
   ]
  },
  {
   "cell_type": "markdown",
   "metadata": {},
   "source": [
    "### range"
   ]
  },
  {
   "cell_type": "code",
   "execution_count": null,
   "metadata": {
    "dotnet_interactive": {
     "language": "spiral"
    },
    "polyglot_notebook": {
     "kernelName": "spiral"
    }
   },
   "outputs": [],
   "source": [
    "type range =\n",
    "    {\n",
    "        from : int\n",
    "        to : int\n",
    "    }"
   ]
  },
  {
   "cell_type": "markdown",
   "metadata": {},
   "source": [
    "### position"
   ]
  },
  {
   "cell_type": "code",
   "execution_count": null,
   "metadata": {
    "dotnet_interactive": {
     "language": "spiral"
    },
    "polyglot_notebook": {
     "kernelName": "spiral"
    }
   },
   "outputs": [],
   "source": [
    "type position =\n",
    "    {\n",
    "        line : int\n",
    "        col : int\n",
    "    }"
   ]
  },
  {
   "cell_type": "markdown",
   "metadata": {},
   "source": [
    "### parser_state"
   ]
  },
  {
   "cell_type": "code",
   "execution_count": null,
   "metadata": {
    "dotnet_interactive": {
     "language": "spiral"
    },
    "polyglot_notebook": {
     "kernelName": "spiral"
    }
   },
   "outputs": [],
   "source": [
    "nominal parser_state =\n",
    "    {\n",
    "        line_text : sm'.string_builder\n",
    "        position : position\n",
    "    }"
   ]
  },
  {
   "cell_type": "markdown",
   "metadata": {},
   "source": [
    "### parser"
   ]
  },
  {
   "cell_type": "code",
   "execution_count": null,
   "metadata": {
    "dotnet_interactive": {
     "language": "spiral"
    },
    "polyglot_notebook": {
     "kernelName": "spiral"
    }
   },
   "outputs": [],
   "source": [
    "type parser t = string * parser_state -> result (t * string * parser_state) string"
   ]
  },
  {
   "cell_type": "markdown",
   "metadata": {},
   "source": [
    "### parse"
   ]
  },
  {
   "cell_type": "code",
   "execution_count": null,
   "metadata": {
    "dotnet_interactive": {
     "language": "spiral"
    },
    "polyglot_notebook": {
     "kernelName": "spiral"
    }
   },
   "outputs": [],
   "source": [
    "inl parse forall t. (p : parser t) (input : string) : result (t * string * parser_state) string =\n",
    "    inl input =\n",
    "        input\n",
    "        |> optionm'.of_obj\n",
    "        |> optionm'.default_value' \"\"\n",
    "    p (input, { line_text = \"\" |> sm'.string_builder; position = { line = 1; col = 1 } } |> parser_state)"
   ]
  },
  {
   "cell_type": "markdown",
   "metadata": {},
   "source": [
    "### inc"
   ]
  },
  {
   "cell_type": "code",
   "execution_count": null,
   "metadata": {
    "dotnet_interactive": {
     "language": "spiral"
    },
    "polyglot_notebook": {
     "kernelName": "spiral"
    }
   },
   "outputs": [],
   "source": [
    "inl inc (parser_state s) = function\n",
    "    | '\\n' => { line = s.position.line + 1; col = 1 }\n",
    "    | _ => { s.position with col = s.position.col + 1 }.position"
   ]
  },
  {
   "cell_type": "markdown",
   "metadata": {},
   "source": [
    "### update"
   ]
  },
  {
   "cell_type": "code",
   "execution_count": null,
   "metadata": {
    "dotnet_interactive": {
     "language": "spiral"
    },
    "polyglot_notebook": {
     "kernelName": "spiral"
    }
   },
   "outputs": [],
   "source": [
    "inl update result s =\n",
    "    (s, result |> sm'.to_char_list)\n",
    "    ||> listm.fold fun (parser_state s as s') c =>\n",
    "        { s with\n",
    "            position = c |> inc s'\n",
    "            line_text =\n",
    "                match c with\n",
    "                | '\\n' => s.line_text |> sm'.builder_clear\n",
    "                | c => s.line_text |> sm'.builder_append $c\n",
    "        } |> parser_state"
   ]
  },
  {
   "cell_type": "markdown",
   "metadata": {},
   "source": [
    "### any_char"
   ]
  },
  {
   "cell_type": "code",
   "execution_count": null,
   "metadata": {
    "dotnet_interactive": {
     "language": "spiral"
    },
    "polyglot_notebook": {
     "kernelName": "spiral"
    }
   },
   "outputs": [],
   "source": [
    "inl any_char () : parser char = function\n",
    "    | \"\", s => \"parsing.any_char / unexpected end of input / \" ++# ({ s } |> sm'.format) |> Error\n",
    "    | x, s =>\n",
    "        inl first_char = x |> sm'.index 0i32\n",
    "        Ok (\n",
    "            first_char,\n",
    "            x |> sm'.range (am'.Start 1i32) (am'.End eval),\n",
    "            s |> update $first_char\n",
    "        )"
   ]
  },
  {
   "cell_type": "code",
   "execution_count": null,
   "metadata": {
    "dotnet_interactive": {
     "language": "spiral"
    },
    "polyglot_notebook": {
     "kernelName": "spiral"
    }
   },
   "outputs": [
    {
     "data": {
      "text/plain": [
       ".py output (Python):\n",
       "{ name = __assert_eq; actual = ('a', 'bc', a, 1, 2); expected = ('a', 'bc', a, 1, 2) }\n",
       "\n",
       ".ts output:\n",
       "{ name = __assert_eq; actual = a,bc,a,1,2; expected = a,bc,a,1,2 }\n",
       "\n",
       "\n",
       ".gleam output (Gleam):\n",
       "{compiling,\"/home/runner/work/spiral/polyglot/target/spiral_Eval/packages/3001be929d126d0730771ba5e4a062b658769d38d456e9849e614d8cbc01e959/build/dev/erlang/main/_gleam_artefacts/main.erl\"}\n",
       "{compiling,\"/home/runner/work/spiral/polyglot/target/spiral_Eval/packages/3001be929d126d0730771ba5e4a062b658769d38d456e9849e614d8cbc01e959/build/dev/erlang/main/_gleam_artefacts/main@@main.erl\"}\n",
       "{compiled,main,\n",
       "          \"/home/runner/work/spiral/polyglot/target/spiral_Eval/packages/3001be929d126d0730771ba5e4a062b658769d38d456e9849e614d8cbc01e959/build/dev/erlang/main/ebin/main.beam\"}\n",
       "{compiled,main@@main,\n",
       "          \"/home/runner/work/spiral/polyglot/target/spiral_Eval/packages/3001be929d126d0730771ba5e4a062b658769d38d456e9849e614d8cbc01e959/build/dev/erlang/main/ebin/main@@main.beam\"}\n",
       "{ name = __assert_eq; actual = #(\"a\", \"bc\", \"a\", 1, 2); expected = #(\"a\", \"bc\", \"a\", 1, 2) }\n",
       "\n",
       "\n"
      ]
     },
     "metadata": {},
     "output_type": "display_data"
    },
    {
     "name": "stdout",
     "output_type": "stream",
     "text": [
      ".fsx output:\n",
      "{ name = __assert_eq; actual = struct ('a', \"bc\", a, 1, 2); expected = struct ('a', \"bc\", a, 1, 2) }\n"
     ]
    }
   ],
   "source": [
    "//// test\n",
    "///! gleam\n",
    "///! fsharp\n",
    "///! cuda\n",
    "///! typescript\n",
    "\n",
    "\"abc\"\n",
    "|> parse (any_char ())\n",
    "|> resultm.get\n",
    "|> sm'.format_debug\n",
    "|> _assert_eq (\n",
    "    ('a', \"bc\", { line_text = \"a\" |> sm'.string_builder; position = { line = 1i32; col = 2i32 } })\n",
    "    |> sm'.format_debug\n",
    ")"
   ]
  },
  {
   "cell_type": "code",
   "execution_count": null,
   "metadata": {
    "dotnet_interactive": {
     "language": "spiral"
    },
    "polyglot_notebook": {
     "kernelName": "spiral"
    }
   },
   "outputs": [
    {
     "name": "stdout",
     "output_type": "stream",
     "text": [
      "{ name = __assert_eq'; actual = struct ('a', (Ln: 1, Col: 2)); expected = struct ('a', (Ln: 1, Col: 2)) }\n"
     ]
    }
   ],
   "source": [
    "//// test\n",
    "\n",
    "\"abc\"\n",
    "|> parse_ (any_char_ ())\n",
    "|> resultm.get\n",
    "|> sm'.format_debug\n",
    "|> _assert_eq' (('a', ($'FParsec.Position (null, 0, 1, 2)' : position_)) |> sm'.format_debug)"
   ]
  },
  {
   "cell_type": "markdown",
   "metadata": {},
   "source": [
    "### p_char"
   ]
  },
  {
   "cell_type": "code",
   "execution_count": null,
   "metadata": {
    "dotnet_interactive": {
     "language": "spiral"
    },
    "polyglot_notebook": {
     "kernelName": "spiral"
    }
   },
   "outputs": [],
   "source": [
    "inl p_char (c : char) : parser char = function\n",
    "    | \"\", s => \"parsing.p_char / unexpected end of input / \" ++# ({ c s } |> sm'.format) |> Error\n",
    "    | input, (parser_state ({ line_text position = { line col } } as s) as s') =>\n",
    "        inl first_char = input |> sm'.index 0i32\n",
    "        // [\n",
    "            // \"parsing.p_char\"\n",
    "            // \" / c: \"; $c\n",
    "            // \" / input: \"; input\n",
    "            // \" / s: \"; { s } |> sm'.format\n",
    "        // ]\n",
    "        // |> sm'.concat_list \"\"\n",
    "        // |> console.write_line\n",
    "        if first_char = c then\n",
    "            Ok (\n",
    "                first_char,\n",
    "                input |> sm'.range (am'.Start 1i32) (am'.End eval),\n",
    "                s' |> update $first_char\n",
    "            )\n",
    "        else\n",
    "            inl message : string =\n",
    "                inl rest =\n",
    "                    input\n",
    "                    |> sm'.range\n",
    "                        (am'.Start 0i32)\n",
    "                        (am'.End fun l =>\n",
    "                            match (input |> sm'.index_of \"\\n\") - 1 with\n",
    "                            | -2 => l () + 1\n",
    "                            | i => i + 1\n",
    "                        )\n",
    "                \"parsing.p_char / \"\n",
    "                ++# ({ expected = c; line col } |> sm'.format)\n",
    "                ++# \"\\n\" ++# $line_text ++# rest\n",
    "            inl pointer_line = (\" \" |> sm'.replicate (col - 1)) ++# \"^\"\n",
    "            message ++# \"\\n\" ++# pointer_line ++# \"\\n\"\n",
    "            |> Error"
   ]
  },
  {
   "cell_type": "code",
   "execution_count": null,
   "metadata": {
    "dotnet_interactive": {
     "language": "spiral"
    },
    "polyglot_notebook": {
     "kernelName": "spiral"
    }
   },
   "outputs": [
    {
     "data": {
      "text/plain": [
       ".py output (Python):\n",
       "{ name = __assert_eq; actual = ('a', 'bc', a, 1, 2); expected = ('a', 'bc', a, 1, 2) }\n",
       "\n",
       ".ts output:\n",
       "{ name = __assert_eq; actual = a,bc,a,1,2; expected = a,bc,a,1,2 }\n",
       "\n",
       "\n",
       ".gleam output (Gleam):\n",
       "{compiling,\"/home/runner/work/spiral/polyglot/target/spiral_Eval/packages/f73c4778ec75ff94b449188785a50c2028234dc2927d7a23e66aba88cf72ab80/build/dev/erlang/main/_gleam_artefacts/main.erl\"}\n",
       "{compiling,\"/home/runner/work/spiral/polyglot/target/spiral_Eval/packages/f73c4778ec75ff94b449188785a50c2028234dc2927d7a23e66aba88cf72ab80/build/dev/erlang/main/_gleam_artefacts/main@@main.erl\"}\n",
       "{compiled,main@@main,\n",
       "          \"/home/runner/work/spiral/polyglot/target/spiral_Eval/packages/f73c4778ec75ff94b449188785a50c2028234dc2927d7a23e66aba88cf72ab80/build/dev/erlang/main/ebin/main@@main.beam\"}\n",
       "{compiled,main,\n",
       "          \"/home/runner/work/spiral/polyglot/target/spiral_Eval/packages/f73c4778ec75ff94b449188785a50c2028234dc2927d7a23e66aba88cf72ab80/build/dev/erlang/main/ebin/main.beam\"}\n",
       "{ name = __assert_eq; actual = #(\"a\", \"bc\", \"a\", 1, 2); expected = #(\"a\", \"bc\", \"a\", 1, 2) }\n",
       "\n",
       "\n"
      ]
     },
     "metadata": {},
     "output_type": "display_data"
    },
    {
     "name": "stdout",
     "output_type": "stream",
     "text": [
      ".fsx output:\n",
      "{ name = __assert_eq; actual = struct ('a', \"bc\", a, 1, 2); expected = struct ('a', \"bc\", a, 1, 2) }\n"
     ]
    }
   ],
   "source": [
    "//// test\n",
    "///! gleam\n",
    "///! fsharp\n",
    "///! cuda\n",
    "///! typescript\n",
    "\n",
    "\"abc\"\n",
    "|> parse (p_char 'a')\n",
    "|> resultm.get\n",
    "|> sm'.format_debug\n",
    "|> _assert_eq (\n",
    "    ('a', \"bc\", { line_text = \"a\" |> sm'.string_builder; position = { line = 1i32; col = 2i32 } })\n",
    "    |> sm'.format_debug\n",
    ")"
   ]
  },
  {
   "cell_type": "code",
   "execution_count": null,
   "metadata": {
    "dotnet_interactive": {
     "language": "spiral"
    },
    "polyglot_notebook": {
     "kernelName": "spiral"
    }
   },
   "outputs": [
    {
     "name": "stdout",
     "output_type": "stream",
     "text": [
      "{ name = __assert_eq'; actual = struct ('a', (Ln: 1, Col: 2)); expected = struct ('a', (Ln: 1, Col: 2)) }\n"
     ]
    }
   ],
   "source": [
    "//// test\n",
    "\n",
    "\"abc\"\n",
    "|> parse_ (p_char_ 'a')\n",
    "|> resultm.get\n",
    "|> sm'.format_debug\n",
    "|> _assert_eq' (('a', ($'FParsec.Position (null, 0, 1, 2)' : position_)) |> sm'.format_debug)"
   ]
  },
  {
   "cell_type": "markdown",
   "metadata": {},
   "source": [
    "### any_string"
   ]
  },
  {
   "cell_type": "code",
   "execution_count": null,
   "metadata": {
    "dotnet_interactive": {
     "language": "spiral"
    },
    "polyglot_notebook": {
     "kernelName": "spiral"
    }
   },
   "outputs": [],
   "source": [
    "inl any_string length : parser string = fun input, s =>\n",
    "    if sm'.length input < length\n",
    "    then \"parsing.any_string / unexpected end of input / \" ++# ({ s } |> sm'.format) |> Error\n",
    "    else\n",
    "        inl result = input |> sm'.range (am'.Start 0i32) (am'.End fun _ => length)\n",
    "        Ok (\n",
    "            result,\n",
    "            input |> sm'.range (am'.Start length) (am'.End eval),\n",
    "            s |> update result\n",
    "        )"
   ]
  },
  {
   "cell_type": "code",
   "execution_count": null,
   "metadata": {
    "dotnet_interactive": {
     "language": "spiral"
    },
    "polyglot_notebook": {
     "kernelName": "spiral"
    }
   },
   "outputs": [
    {
     "data": {
      "text/plain": [
       ".py output (Python):\n",
       "{ name = __assert_eq; actual = ('abc', 'def', abc, 1, 4); expected = ('abc', 'def', abc, 1, 4) }\n",
       "\n",
       ".ts output:\n",
       "{ name = __assert_eq; actual = abc,def,abc,1,4; expected = abc,def,abc,1,4 }\n",
       "\n",
       "\n",
       ".gleam output (Gleam):\n",
       "{compiling,\"/home/runner/work/spiral/polyglot/target/spiral_Eval/packages/0734d407c8b775e97bb2d5407e76cdbeb70962b8d00d35e47bfd0926233d14b7/build/dev/erlang/main/_gleam_artefacts/main.erl\"}\n",
       "{compiling,\"/home/runner/work/spiral/polyglot/target/spiral_Eval/packages/0734d407c8b775e97bb2d5407e76cdbeb70962b8d00d35e47bfd0926233d14b7/build/dev/erlang/main/_gleam_artefacts/main@@main.erl\"}\n",
       "{compiled,main,\n",
       "          \"/home/runner/work/spiral/polyglot/target/spiral_Eval/packages/0734d407c8b775e97bb2d5407e76cdbeb70962b8d00d35e47bfd0926233d14b7/build/dev/erlang/main/ebin/main.beam\"}\n",
       "{compiled,main@@main,\n",
       "          \"/home/runner/work/spiral/polyglot/target/spiral_Eval/packages/0734d407c8b775e97bb2d5407e76cdbeb70962b8d00d35e47bfd0926233d14b7/build/dev/erlang/main/ebin/main@@main.beam\"}\n",
       "{ name = __assert_eq; actual = #(\"abc\", \"def\", \"abc\", 1, 4); expected = #(\"abc\", \"def\", \"abc\", 1, 4) }\n",
       "\n",
       "\n"
      ]
     },
     "metadata": {},
     "output_type": "display_data"
    },
    {
     "name": "stdout",
     "output_type": "stream",
     "text": [
      ".fsx output:\n",
      "{ name = __assert_eq; actual = struct (\"abc\", \"def\", abc, 1, 4); expected = struct (\"abc\", \"def\", abc, 1, 4) }\n"
     ]
    }
   ],
   "source": [
    "//// test\n",
    "///! gleam\n",
    "///! fsharp\n",
    "///! cuda\n",
    "///! typescript\n",
    "\n",
    "\"abcdef\"\n",
    "|> parse (any_string 3i32)\n",
    "|> resultm.get\n",
    "|> sm'.format_debug\n",
    "|> _assert_eq (\n",
    "    (\"abc\", \"def\", { line_text = \"abc\" |> sm'.string_builder; position = { line = 1i32; col = 4i32 } })\n",
    "    |> sm'.format_debug\n",
    ")"
   ]
  },
  {
   "cell_type": "code",
   "execution_count": null,
   "metadata": {
    "dotnet_interactive": {
     "language": "spiral"
    },
    "polyglot_notebook": {
     "kernelName": "spiral"
    }
   },
   "outputs": [
    {
     "name": "stdout",
     "output_type": "stream",
     "text": [
      "{ name = __assert_eq'; actual = (abc, (Ln: 1, Col: 4)); expected = (abc, (Ln: 1, Col: 4)) }\n"
     ]
    }
   ],
   "source": [
    "//// test\n",
    "\n",
    "\"abcdef\"\n",
    "|> parse_ (any_string__ 3)\n",
    "|> resultm.get\n",
    "|> sm'.obj_to_string\n",
    "|> _assert_eq' ((\"abc\", ($'FParsec.Position (null, 0, 1, 4)' : position_)) |> sm'.obj_to_string)"
   ]
  },
  {
   "cell_type": "markdown",
   "metadata": {},
   "source": [
    "### skip_any_string"
   ]
  },
  {
   "cell_type": "code",
   "execution_count": null,
   "metadata": {
    "dotnet_interactive": {
     "language": "spiral"
    },
    "polyglot_notebook": {
     "kernelName": "spiral"
    }
   },
   "outputs": [],
   "source": [
    "inl skip_any_string length : parser () = fun input, s =>\n",
    "    if sm'.length input < length\n",
    "    then \"parsing.skip_any_string / unexpected end of input / \" ++# ({ s } |> sm'.format) |> Error\n",
    "    else\n",
    "        Ok (\n",
    "            (),\n",
    "            input |> sm'.range (am'.Start length) (am'.End eval),\n",
    "            s |> update (input |> sm'.range (am'.Start 0i32) (am'.End fun _ => length))\n",
    "        )"
   ]
  },
  {
   "cell_type": "code",
   "execution_count": null,
   "metadata": {
    "dotnet_interactive": {
     "language": "spiral"
    },
    "polyglot_notebook": {
     "kernelName": "spiral"
    }
   },
   "outputs": [
    {
     "data": {
      "text/plain": [
       ".py output (Python):\n",
       "{ name = __assert_eq; actual = ('def', abc, 1, 4); expected = ('def', abc, 1, 4) }\n",
       "\n",
       ".ts output:\n",
       "{ name = __assert_eq; actual = def,abc,1,4; expected = def,abc,1,4 }\n",
       "\n",
       "\n",
       ".gleam output (Gleam):\n",
       "{compiling,\"/home/runner/work/spiral/polyglot/target/spiral_Eval/packages/f38fac39449c40d2f50b0dd23c68a3b0b73458a9ea896309ab463caa4d1bd414/build/dev/erlang/main/_gleam_artefacts/main@@main.erl\"}\n",
       "{compiling,\"/home/runner/work/spiral/polyglot/target/spiral_Eval/packages/f38fac39449c40d2f50b0dd23c68a3b0b73458a9ea896309ab463caa4d1bd414/build/dev/erlang/main/_gleam_artefacts/main.erl\"}\n",
       "{compiled,main,\n",
       "          \"/home/runner/work/spiral/polyglot/target/spiral_Eval/packages/f38fac39449c40d2f50b0dd23c68a3b0b73458a9ea896309ab463caa4d1bd414/build/dev/erlang/main/ebin/main.beam\"}\n",
       "{compiled,main@@main,\n",
       "          \"/home/runner/work/spiral/polyglot/target/spiral_Eval/packages/f38fac39449c40d2f50b0dd23c68a3b0b73458a9ea896309ab463caa4d1bd414/build/dev/erlang/main/ebin/main@@main.beam\"}\n",
       "{ name = __assert_eq; actual = #(\"def\", \"abc\", 1, 4); expected = #(\"def\", \"abc\", 1, 4) }\n",
       "\n",
       "\n"
      ]
     },
     "metadata": {},
     "output_type": "display_data"
    },
    {
     "name": "stdout",
     "output_type": "stream",
     "text": [
      ".fsx output:\n",
      "{ name = __assert_eq; actual = struct (\"def\", abc, 1, 4); expected = struct (\"def\", abc, 1, 4) }\n"
     ]
    }
   ],
   "source": [
    "//// test\n",
    "///! gleam\n",
    "///! fsharp\n",
    "///! cuda\n",
    "///! typescript\n",
    "\n",
    "\"abcdef\"\n",
    "|> parse (skip_any_string 3i32)\n",
    "|> resultm.get\n",
    "|> sm'.format_debug\n",
    "|> _assert_eq (\n",
    "    ((), \"def\", { line_text = \"abc\" |> sm'.string_builder; position = { line = 1i32; col = 4i32 } })\n",
    "    |> sm'.format_debug\n",
    ")"
   ]
  },
  {
   "cell_type": "markdown",
   "metadata": {},
   "source": [
    "### (>>.)"
   ]
  },
  {
   "cell_type": "code",
   "execution_count": null,
   "metadata": {
    "dotnet_interactive": {
     "language": "spiral"
    },
    "polyglot_notebook": {
     "kernelName": "spiral"
    }
   },
   "outputs": [],
   "source": [
    "inl (>>.) forall t u. (a : parser t) (b : parser u) : parser u = fun input, s =>\n",
    "    match a (input, s) with\n",
    "    | Ok (_, rest, s) => b (rest, s)\n",
    "    | Error e => Error e"
   ]
  },
  {
   "cell_type": "code",
   "execution_count": null,
   "metadata": {
    "dotnet_interactive": {
     "language": "spiral"
    },
    "polyglot_notebook": {
     "kernelName": "spiral"
    }
   },
   "outputs": [
    {
     "data": {
      "text/plain": [
       ".py output (Python):\n",
       "{ name = __assert_eq; actual = US1_1(v0='parsing.p_char / { expected = a; line = 2; col = 2 }\\ndef\\n ^\\n'); expected = US1_1(v0='parsing.p_char / { expected = a; line = 2; col = 2 }\\ndef\\n ^\\n') }\n",
       "\n",
       "\n",
       ".ts output:\n",
       "{ name = __assert_eq; actual = US1_1 (parsing.p_char / { expected = a; line = 2; col = 2 }\n",
       "def\n",
       " ^\n",
       "); expected = US1_1 (parsing.p_char / { expected = a; line = 2; col = 2 }\n",
       "def\n",
       " ^\n",
       ") }\n",
       "\n",
       "\n",
       ".gleam output (Gleam):\n",
       "{compiling,\"/home/runner/work/spiral/polyglot/target/spiral_Eval/packages/22bdaf8999729397882d88c2ade4c92d8ad5ca55b4fd805a3875b7f66bbf422f/build/dev/erlang/main/_gleam_artefacts/main@@main.erl\"}\n",
       "{compiling,\"/home/runner/work/spiral/polyglot/target/spiral_Eval/packages/22bdaf8999729397882d88c2ade4c92d8ad5ca55b4fd805a3875b7f66bbf422f/build/dev/erlang/main/_gleam_artefacts/main.erl\"}\n",
       "{compiled,main@@main,\n",
       "          \"/home/runner/work/spiral/polyglot/target/spiral_Eval/packages/22bdaf8999729397882d88c2ade4c92d8ad5ca55b4fd805a3875b7f66bbf422f/build/dev/erlang/main/ebin/main@@main.beam\"}\n",
       "{compiled,main,\n",
       "          \"/home/runner/work/spiral/polyglot/target/spiral_Eval/packages/22bdaf8999729397882d88c2ade4c92d8ad5ca55b4fd805a3875b7f66bbf422f/build/dev/erlang/main/ebin/main.beam\"}\n",
       "{ name = __assert_eq; actual = Us1i1(\"parsing.p_char / { expected = a; line = 2; col = 2 }\\ndef\\n ^\\n\"); expected = Us1i1(\"parsing.p_char / { expected = a; line = 2; col = 2 }\\ndef\\n ^\\n\") }\n",
       "\n",
       "\n"
      ]
     },
     "metadata": {},
     "output_type": "display_data"
    },
    {
     "name": "stdout",
     "output_type": "stream",
     "text": [
      ".fsx output:\n",
      "{ name = __assert_eq; actual = US1_1 \"parsing.p_char / { expected = a; line = 2; col = 2 }\n",
      "def\n",
      " ^\n",
      "\"; expected = US1_1 \"parsing.p_char / { expected = a; line = 2; col = 2 }\n",
      "def\n",
      " ^\n",
      "\" }\n"
     ]
    }
   ],
   "source": [
    "//// test\n",
    "///! gleam\n",
    "///! fsharp\n",
    "///! cuda\n",
    "///! typescript\n",
    "\n",
    "\"abc\\ndef\\nghi\"\n",
    "|> parse (skip_any_string 5i32 >>. p_char 'a')\n",
    "|> _assert_eq (Error \"parsing.p_char / { expected = a; line = 2; col = 2 }\\ndef\\n ^\\n\")"
   ]
  },
  {
   "cell_type": "markdown",
   "metadata": {},
   "source": [
    "### (>>.)"
   ]
  },
  {
   "cell_type": "code",
   "execution_count": null,
   "metadata": {
    "dotnet_interactive": {
     "language": "spiral"
    },
    "polyglot_notebook": {
     "kernelName": "spiral"
    }
   },
   "outputs": [],
   "source": [
    "inl (.>>) forall t u. (a : parser t) (b : parser u) : parser t = fun input, s =>\n",
    "    match a (input, s) with\n",
    "    | Ok (result, rest, s) =>\n",
    "        b (rest, s)\n",
    "        |> resultm.map fun _, rest, s =>\n",
    "            result, rest, s\n",
    "    | Error e => Error e"
   ]
  },
  {
   "cell_type": "markdown",
   "metadata": {},
   "source": [
    "### (.>>.)"
   ]
  },
  {
   "cell_type": "code",
   "execution_count": null,
   "metadata": {
    "dotnet_interactive": {
     "language": "spiral"
    },
    "polyglot_notebook": {
     "kernelName": "spiral"
    }
   },
   "outputs": [],
   "source": [
    "inl (.>>.) forall t u. (a : parser t) (b : parser u) : parser (t * u) = fun input, s =>\n",
    "    match a (input, s) with\n",
    "    | Ok (result_a, rest, s) =>\n",
    "        b (rest, s)\n",
    "        |> resultm.map fun result_b, rest, s =>\n",
    "            (result_a, result_b), rest, s\n",
    "    | Error e => Error e"
   ]
  },
  {
   "cell_type": "markdown",
   "metadata": {},
   "source": [
    "### (>>%)"
   ]
  },
  {
   "cell_type": "code",
   "execution_count": null,
   "metadata": {
    "dotnet_interactive": {
     "language": "spiral"
    },
    "polyglot_notebook": {
     "kernelName": "spiral"
    }
   },
   "outputs": [],
   "source": [
    "inl (>>%) forall t u. (a : parser t) (b : u) : parser u =\n",
    "    a >> resultm.map fun _, rest, s =>\n",
    "        b, rest, s"
   ]
  },
  {
   "cell_type": "code",
   "execution_count": null,
   "metadata": {
    "dotnet_interactive": {
     "language": "spiral"
    },
    "polyglot_notebook": {
     "kernelName": "spiral"
    }
   },
   "outputs": [
    {
     "data": {
      "text/plain": [
       ".py output (Python):\n",
       "{ name = __assert_eq; actual = ('b', 'c', ab, 1, 3); expected = ('b', 'c', ab, 1, 3) }\n",
       "\n",
       ".ts output:\n",
       "{ name = __assert_eq; actual = b,c,ab,1,3; expected = b,c,ab,1,3 }\n",
       "\n",
       "\n",
       ".gleam output (Gleam):\n",
       "\u001B[4;7mwarning: Unused variable\u001B[0m\n",
       "\u001B[4;7m    ┌─ /home/runner/work/spiral/polyglot/target/spiral_Eval/packages/d72b5d551a16197ed2e5bf2ec4417005e1dd6ac37f26f6ab69ea3e79d8ab834c/src/main.gleam:365:19\u001B[0m\n",
       "\u001B[4;7m    │\u001B[0m\n",
       "\u001B[4;7m365 │             Us0i0(v178, v179, v180, v181, v182) -> { // Ok\u001B[0m\n",
       "\u001B[4;7m    │                   ^^^^ This variable is never used\u001B[0m\n",
       "\u001B[4;7m\u001B[0m\n",
       "\u001B[4;7mHint: You can ignore it with an underscore: `_v178`.\u001B[0m\n",
       "\u001B[4;7m\u001B[0m\n",
       "{compiling,\"/home/runner/work/spiral/polyglot/target/spiral_Eval/packages/d72b5d551a16197ed2e5bf2ec4417005e1dd6ac37f26f6ab69ea3e79d8ab834c/build/dev/erlang/main/_gleam_artefacts/main.erl\"}\n",
       "{compiling,\"/home/runner/work/spiral/polyglot/target/spiral_Eval/packages/d72b5d551a16197ed2e5bf2ec4417005e1dd6ac37f26f6ab69ea3e79d8ab834c/build/dev/erlang/main/_gleam_artefacts/main@@main.erl\"}\n",
       "{compiled,main@@main,\n",
       "          \"/home/runner/work/spiral/polyglot/target/spiral_Eval/packages/d72b5d551a16197ed2e5bf2ec4417005e1dd6ac37f26f6ab69ea3e79d8ab834c/build/dev/erlang/main/ebin/main@@main.beam\"}\n",
       "{compiled,main,\n",
       "          \"/home/runner/work/spiral/polyglot/target/spiral_Eval/packages/d72b5d551a16197ed2e5bf2ec4417005e1dd6ac37f26f6ab69ea3e79d8ab834c/build/dev/erlang/main/ebin/main.beam\"}\n",
       "{ name = __assert_eq; actual = #(\"b\", \"c\", \"ab\", 1, 3); expected = #(\"b\", \"c\", \"ab\", 1, 3) }\n",
       "\n",
       "\n"
      ]
     },
     "metadata": {},
     "output_type": "display_data"
    },
    {
     "name": "stdout",
     "output_type": "stream",
     "text": [
      ".fsx output:\n",
      "{ name = __assert_eq; actual = struct ('b', \"c\", ab, 1, 3); expected = struct ('b', \"c\", ab, 1, 3) }\n"
     ]
    }
   ],
   "source": [
    "//// test\n",
    "///! gleam\n",
    "///! fsharp\n",
    "///! cuda\n",
    "///! typescript\n",
    "\n",
    "\"abc\"\n",
    "|> parse (p_char 'a' >>. p_char 'b')\n",
    "|> resultm.get\n",
    "|> sm'.format_debug\n",
    "|> _assert_eq (\n",
    "    ('b', \"c\", { line_text = \"ab\" |> sm'.string_builder; position = { line = 1i32; col = 3i32 } })\n",
    "    |> sm'.format_debug\n",
    ")"
   ]
  },
  {
   "cell_type": "code",
   "execution_count": null,
   "metadata": {
    "dotnet_interactive": {
     "language": "spiral"
    },
    "polyglot_notebook": {
     "kernelName": "spiral"
    }
   },
   "outputs": [
    {
     "name": "stdout",
     "output_type": "stream",
     "text": [
      "{ name = __assert_eq'; actual = (b, (Ln: 1, Col: 3)); expected = (b, (Ln: 1, Col: 3)) }\n"
     ]
    }
   ],
   "source": [
    "//// test\n",
    "\n",
    "\"abc\"\n",
    "|> parse_ (p_char_ 'a' >>.$ p_char_ 'b')\n",
    "|> resultm.get\n",
    "|> sm'.obj_to_string\n",
    "|> _assert_eq' (('b', ($'FParsec.Position (null, 0, 1, 3)' : position_)) |> sm'.obj_to_string)"
   ]
  },
  {
   "cell_type": "code",
   "execution_count": null,
   "metadata": {
    "dotnet_interactive": {
     "language": "spiral"
    },
    "polyglot_notebook": {
     "kernelName": "spiral"
    }
   },
   "outputs": [
    {
     "name": "stdout",
     "output_type": "stream",
     "text": [
      "{ name = __assert_eq; actual = (Error in Ln: 2 Col: 2\n",
      "def\n",
      " ^\n",
      "Expecting: 'a'\n",
      ", Error in Ln: 2 Col: 2\n",
      "Expecting: 'a'\n",
      "); expected = (Error in Ln: 2 Col: 2\n",
      "def\n",
      " ^\n",
      "Expecting: 'a'\n",
      ", Error in Ln: 2 Col: 2\n",
      "Expecting: 'a'\n",
      ") }\n"
     ]
    }
   ],
   "source": [
    "//// test\n",
    "\n",
    "\"abc\\ndef\\nghi\"\n",
    "|> parse_ (skip_any_string_ 5 >>.$ p_char_ 'a')\n",
    "|> resultm.unwrap_err\n",
    "|> sm'.obj_to_string\n",
    "|> sm'.replace \"\\r\\n\" \"\\n\"\n",
    "|> _assert_eq \"(Error in Ln: 2 Col: 2\\ndef\\n ^\\nExpecting: 'a'\\n, Error in Ln: 2 Col: 2\\nExpecting: 'a'\\n)\""
   ]
  },
  {
   "cell_type": "markdown",
   "metadata": {},
   "source": [
    "### none_of"
   ]
  },
  {
   "cell_type": "code",
   "execution_count": null,
   "metadata": {
    "dotnet_interactive": {
     "language": "spiral"
    },
    "polyglot_notebook": {
     "kernelName": "spiral"
    }
   },
   "outputs": [],
   "source": [
    "inl none_of (chars : list char) x =\n",
    "    inl chars' () : string =\n",
    "        backend_switch {\n",
    "            Gleam = fun () => chars |> listm'.box |> sm'.format\n",
    "            Fsharp = fun () => chars |> listm'.box |> listm'.to_array' |> sm'.format\n",
    "            Python = fun () => chars |> listm'.box |> listm'.to_array' |> sm'.format\n",
    "        }\n",
    "    match x with\n",
    "    | \"\", s =>\n",
    "        (\"parsing.none_of / unexpected end of input / \" ++# ({ chars = chars' (); s } |> sm'.format)) |> Error\n",
    "    | x, s =>\n",
    "        inl first_char = x |> sm'.index 0i32\n",
    "        if chars |> listm'.exists' ((=) first_char) |> not then\n",
    "            Ok (\n",
    "                first_char,\n",
    "                x |> sm'.range (am'.Start 1i32) (am'.End eval),\n",
    "                s |> update $first_char\n",
    "            )\n",
    "        else\n",
    "            \"parsing.none_of / unexpected char / \" ++# ({ first_char chars = chars' (); s } |> sm'.format)\n",
    "            |> Error"
   ]
  },
  {
   "cell_type": "code",
   "execution_count": null,
   "metadata": {
    "dotnet_interactive": {
     "language": "spiral"
    },
    "polyglot_notebook": {
     "kernelName": "spiral"
    }
   },
   "outputs": [
    {
     "data": {
      "text/plain": [
       "\n",
       ".py output (Python):\n",
       "{ name = __assert_eq; actual = US0_1(v0=\"parsing.none_of / unexpected char / { first_char = a; chars = ['a' 'b' 'c']; s = (, 1, 1) }\"); expected = US0_1(v0=\"parsing.none_of / unexpected char / { first_char = a; chars = ['a' 'b' 'c']; s = (, 1, 1) }\") }\n",
       "{ name = __assert_eq; actual = ('d', 'ef', d, 1, 2); expected = ('d', 'ef', d, 1, 2) }\n",
       "\n",
       "\n",
       ".ts output:\n",
       "{ name = __assert_eq; actual = US0_1 (parsing.none_of / unexpected char / { first_char = a; chars = a,b,c; s = ,1,1 }); expected = US0_1 (parsing.none_of / unexpected char / { first_char = a; chars = a,b,c; s = ,1,1 }) }\n",
       "{ name = __assert_eq; actual = d,ef,d,1,2; expected = d,ef,d,1,2 }\n",
       "\n",
       "\n",
       ".gleam output (Gleam):\n",
       "\u001B[4;7mwarning: Unused variable\u001B[0m\n",
       "\u001B[4;7m    ┌─ /home/runner/work/spiral/polyglot/target/spiral_Eval/packages/d962c2234eed54750060437916ca7e6244733d38be932d828ba727dc0b329492/src/main.gleam:113:45\u001B[0m\n",
       "\u001B[4;7m    │\u001B[0m\n",
       "\u001B[4;7m113 │                                         let v11 = v8 - 1\u001B[0m\n",
       "\u001B[4;7m    │                                             ^^^ This variable is never used\u001B[0m\n",
       "\u001B[4;7m\u001B[0m\n",
       "\u001B[4;7mHint: You can ignore it with an underscore: `_v11`.\u001B[0m\n",
       "\u001B[4;7m\u001B[0m\n",
       "{compiling,\"/home/runner/work/spiral/polyglot/target/spiral_Eval/packages/d962c2234eed54750060437916ca7e6244733d38be932d828ba727dc0b329492/build/dev/erlang/main/_gleam_artefacts/main@@main.erl\"}\n",
       "{compiling,\"/home/runner/work/spiral/polyglot/target/spiral_Eval/packages/d962c2234eed54750060437916ca7e6244733d38be932d828ba727dc0b329492/build/dev/erlang/main/_gleam_artefacts/main.erl\"}\n",
       "{compiled,main@@main,\n",
       "          \"/home/runner/work/spiral/polyglot/target/spiral_Eval/packages/d962c2234eed54750060437916ca7e6244733d38be932d828ba727dc0b329492/build/dev/erlang/main/ebin/main@@main.beam\"}\n",
       "src/main.gleam:114:46: Warning: the result of evaluating operator '-'/2 is ignored (suppress the warning by assigning the expression to the _ variable)\n",
       "%  114|                                         Us1i1\n",
       "%     |                                              ^\n",
       "\n",
       "{compiled,main,\n",
       "          \"/home/runner/work/spiral/polyglot/target/spiral_Eval/packages/d962c2234eed54750060437916ca7e6244733d38be932d828ba727dc0b329492/build/dev/erlang/main/ebin/main.beam\"}\n",
       "{ name = __assert_eq; actual = Us0i1(\"parsing.none_of / unexpected char / { first_char = a; chars = [\\\"a\\\", \\\"b\\\", \\\"c\\\"]; s = #(\\\"\\\", 1, 1) }\"); expected = Us0i1(\"parsing.none_of / unexpected char / { first_char = a; chars = [\\\"a\\\", \\\"b\\\", \\\"c\\\"]; s = #(\\\"\\\", 1, 1) }\") }\n",
       "{ name = __assert_eq; actual = #(\"d\", \"ef\", \"d\", 1, 2); expected = #(\"d\", \"ef\", \"d\", 1, 2) }\n",
       "\n",
       "\n"
      ]
     },
     "metadata": {},
     "output_type": "display_data"
    },
    {
     "name": "stdout",
     "output_type": "stream",
     "text": [
      ".fsx output:\n",
      "{ name = __assert_eq; actual = US0_1\n",
      "  \"parsing.none_of / unexpected char / { first_char = a; chars = [|'a'; 'b'; 'c'|]; s = struct (, 1, 1) }\"; expected = US0_1\n",
      "  \"parsing.none_of / unexpected char / { first_char = a; chars = [|'a'; 'b'; 'c'|]; s = struct (, 1, 1) }\" }\n",
      "{ name = __assert_eq; actual = struct ('d', \"ef\", d, 1, 2); expected = struct ('d', \"ef\", d, 1, 2) }\n"
     ]
    }
   ],
   "source": [
    "//// test\n",
    "///! gleam\n",
    "///! fsharp\n",
    "///! cuda\n",
    "///! typescript\n",
    "\n",
    "\"abc\"\n",
    "|> parse (none_of ['a'; 'b'; 'c'])\n",
    "|> _assert_eq (\n",
    "    backend_switch {\n",
    "        Gleam = fun () =>\n",
    "            \"parsing.none_of / unexpected char / \"\n",
    "            ++# \"{ first_char = a; chars = [\\\"a\\\", \\\"b\\\", \\\"c\\\"]; s = #(\\\"\\\", 1, 1) }\"\n",
    "        Fsharp = fun () =>\n",
    "            run_target function\n",
    "            | TypeScript _ => fun () =>\n",
    "                join\n",
    "                    \"parsing.none_of / unexpected char / \"\n",
    "                    ++# \"{ first_char = a; chars = a,b,c; s = ,1,1 }\"\n",
    "            | _ => fun () =>\n",
    "                join\n",
    "                    \"parsing.none_of / unexpected char / \"\n",
    "                    ++# \"{ first_char = a; chars = [|'a'; 'b'; 'c'|]; s = struct (, 1, 1) }\"\n",
    "        Python = fun () =>\n",
    "            \"parsing.none_of / unexpected char / \"\n",
    "            ++# \"{ first_char = a; chars = ['a' 'b' 'c']; s = (, 1, 1) }\"\n",
    "    }\n",
    "    |> Error\n",
    ")\n",
    "\n",
    "\"def\"\n",
    "|> parse (none_of ['a'; 'b'; 'c'])\n",
    "|> resultm.get\n",
    "|> sm'.format_debug\n",
    "|> _assert_eq (\n",
    "    ('d', \"ef\", { line_text = \"d\" |> sm'.string_builder; position = { line = 1i32; col = 2i32 } })\n",
    "    |> sm'.format_debug\n",
    ")"
   ]
  },
  {
   "cell_type": "code",
   "execution_count": null,
   "metadata": {
    "dotnet_interactive": {
     "language": "spiral"
    },
    "polyglot_notebook": {
     "kernelName": "spiral"
    }
   },
   "outputs": [
    {
     "name": "stdout",
     "output_type": "stream",
     "text": [
      "{ name = __assert_eq; actual = (Error in Ln: 1 Col: 1\n",
      "abc\n",
      "^\n",
      "Expecting: any char not in ‘abc’\n",
      ", Error in Ln: 1 Col: 1\n",
      "Expecting: any char not in ‘abc’\n",
      "); expected = (Error in Ln: 1 Col: 1\n",
      "abc\n",
      "^\n",
      "Expecting: any char not in ‘abc’\n",
      ", Error in Ln: 1 Col: 1\n",
      "Expecting: any char not in ‘abc’\n",
      ") }\n",
      "{ name = __assert_eq'; actual = (d, (Ln: 1, Col: 2)); expected = (d, (Ln: 1, Col: 2)) }\n"
     ]
    }
   ],
   "source": [
    "//// test\n",
    "\n",
    "\"abc\"\n",
    "|> parse_ (none_of_ ['a'; 'b'; 'c'])\n",
    "|> resultm.unwrap_err\n",
    "|> sm'.obj_to_string\n",
    "|> sm'.replace \"\\r\\n\" \"\\n\"\n",
    "|> _assert_eq ($'\"(Error in Ln: 1 Col: 1\\nabc\\n^\\nExpecting: any char not in ‘abc’\\n, Error in Ln: 1 Col: 1\\nExpecting: any char not in ‘abc’\\n)\"')\n",
    "\n",
    "\"def\"\n",
    "|> parse_ (none_of_ ['a'; 'b'; 'c'])\n",
    "|> resultm.get\n",
    "|> sm'.obj_to_string\n",
    "|> _assert_eq' (('d', ($'FParsec.Position (null, 0, 1, 2)' : position_)) |> sm'.obj_to_string)"
   ]
  },
  {
   "cell_type": "markdown",
   "metadata": {},
   "source": [
    "### (<|>)"
   ]
  },
  {
   "cell_type": "code",
   "execution_count": null,
   "metadata": {
    "dotnet_interactive": {
     "language": "spiral"
    },
    "polyglot_notebook": {
     "kernelName": "spiral"
    }
   },
   "outputs": [],
   "source": [
    "inl (<|>) forall t. (a : parser t) (b : parser t) : parser t = fun input, s =>\n",
    "    match a (input, s) with\n",
    "    | Ok _ as result => result\n",
    "    | Error _ => b (input, s)"
   ]
  },
  {
   "cell_type": "code",
   "execution_count": null,
   "metadata": {
    "dotnet_interactive": {
     "language": "spiral"
    },
    "polyglot_notebook": {
     "kernelName": "spiral"
    }
   },
   "outputs": [
    {
     "data": {
      "text/plain": [
       "\n",
       ".py output (Python):\n",
       "{ name = __assert_eq; actual = ('a', 'bc', a, 1, 2); expected = ('a', 'bc', a, 1, 2) }\n",
       "{ name = __assert_eq; actual = US0_1(v0='parsing.p_char / { expected = b; line = 1; col = 1 }\\ncba\\n^\\n'); expected = US0_1(v0='parsing.p_char / { expected = b; line = 1; col = 1 }\\ncba\\n^\\n') }\n",
       "\n",
       "\n",
       ".ts output:\n",
       "{ name = __assert_eq; actual = a,bc,a,1,2; expected = a,bc,a,1,2 }\n",
       "{ name = __assert_eq; actual = US0_1 (parsing.p_char / { expected = b; line = 1; col = 1 }\n",
       "cba\n",
       "^\n",
       "); expected = US0_1 (parsing.p_char / { expected = b; line = 1; col = 1 }\n",
       "cba\n",
       "^\n",
       ") }\n",
       "\n",
       "\n",
       ".gleam output (Gleam):\n",
       "\u001B[4;7mwarning: Unused variable\u001B[0m\n",
       "\u001B[4;7m    ┌─ /home/runner/work/spiral/polyglot/target/spiral_Eval/packages/f5f820efa7fc8cad6ff81091e7ac5afa9ff639111208665a6b0de4041e14ac73/src/main.gleam:410:19\u001B[0m\n",
       "\u001B[4;7m    │\u001B[0m\n",
       "\u001B[4;7m410 │             Us0i1(v183) -> { // Error\u001B[0m\n",
       "\u001B[4;7m    │                   ^^^^ This variable is never used\u001B[0m\n",
       "\u001B[4;7m\u001B[0m\n",
       "\u001B[4;7mHint: You can ignore it with an underscore: `_v183`.\u001B[0m\n",
       "\u001B[4;7m\u001B[0m\n",
       "\u001B[4;7mwarning: Unused variable\u001B[0m\n",
       "\u001B[4;7m    ┌─ /home/runner/work/spiral/polyglot/target/spiral_Eval/packages/f5f820efa7fc8cad6ff81091e7ac5afa9ff639111208665a6b0de4041e14ac73/src/main.gleam:492:19\u001B[0m\n",
       "\u001B[4;7m    │\u001B[0m\n",
       "\u001B[4;7m492 │             Us0i0(v178, v179, v180, v181, v182) -> { // Ok\u001B[0m\n",
       "\u001B[4;7m    │                   ^^^^ This variable is never used\u001B[0m\n",
       "\u001B[4;7m\u001B[0m\n",
       "\u001B[4;7mHint: You can ignore it with an underscore: `_v178`.\u001B[0m\n",
       "\u001B[4;7m\u001B[0m\n",
       "\u001B[4;7mwarning: Unused variable\u001B[0m\n",
       "\u001B[4;7m    ┌─ /home/runner/work/spiral/polyglot/target/spiral_Eval/packages/f5f820efa7fc8cad6ff81091e7ac5afa9ff639111208665a6b0de4041e14ac73/src/main.gleam:492:25\u001B[0m\n",
       "\u001B[4;7m    │\u001B[0m\n",
       "\u001B[4;7m492 │             Us0i0(v178, v179, v180, v181, v182) -> { // Ok\u001B[0m\n",
       "\u001B[4;7m    │                         ^^^^ This variable is never used\u001B[0m\n",
       "\u001B[4;7m\u001B[0m\n",
       "\u001B[4;7mHint: You can ignore it with an underscore: `_v179`.\u001B[0m\n",
       "\u001B[4;7m\u001B[0m\n",
       "\u001B[4;7mwarning: Unused variable\u001B[0m\n",
       "\u001B[4;7m    ┌─ /home/runner/work/spiral/polyglot/target/spiral_Eval/packages/f5f820efa7fc8cad6ff81091e7ac5afa9ff639111208665a6b0de4041e14ac73/src/main.gleam:492:31\u001B[0m\n",
       "\u001B[4;7m    │\u001B[0m\n",
       "\u001B[4;7m492 │             Us0i0(v178, v179, v180, v181, v182) -> { // Ok\u001B[0m\n",
       "\u001B[4;7m    │                               ^^^^ This variable is never used\u001B[0m\n",
       "\u001B[4;7m\u001B[0m\n",
       "\u001B[4;7mHint: You can ignore it with an underscore: `_v180`.\u001B[0m\n",
       "\u001B[4;7m\u001B[0m\n",
       "\u001B[4;7mwarning: Unused variable\u001B[0m\n",
       "\u001B[4;7m    ┌─ /home/runner/work/spiral/polyglot/target/spiral_Eval/packages/f5f820efa7fc8cad6ff81091e7ac5afa9ff639111208665a6b0de4041e14ac73/src/main.gleam:492:37\u001B[0m\n",
       "\u001B[4;7m    │\u001B[0m\n",
       "\u001B[4;7m492 │             Us0i0(v178, v179, v180, v181, v182) -> { // Ok\u001B[0m\n",
       "\u001B[4;7m    │                                     ^^^^ This variable is never used\u001B[0m\n",
       "\u001B[4;7m\u001B[0m\n",
       "\u001B[4;7mHint: You can ignore it with an underscore: `_v181`.\u001B[0m\n",
       "\u001B[4;7m\u001B[0m\n",
       "\u001B[4;7mwarning: Unused variable\u001B[0m\n",
       "\u001B[4;7m    ┌─ /home/runner/work/spiral/polyglot/target/spiral_Eval/packages/f5f820efa7fc8cad6ff81091e7ac5afa9ff639111208665a6b0de4041e14ac73/src/main.gleam:492:43\u001B[0m\n",
       "\u001B[4;7m    │\u001B[0m\n",
       "\u001B[4;7m492 │             Us0i0(v178, v179, v180, v181, v182) -> { // Ok\u001B[0m\n",
       "\u001B[4;7m    │                                           ^^^^ This variable is never used\u001B[0m\n",
       "\u001B[4;7m\u001B[0m\n",
       "\u001B[4;7mHint: You can ignore it with an underscore: `_v182`.\u001B[0m\n",
       "\u001B[4;7m\u001B[0m\n",
       "\u001B[4;7mwarning: Unused variable\u001B[0m\n",
       "\u001B[4;7m    ┌─ /home/runner/work/spiral/polyglot/target/spiral_Eval/packages/f5f820efa7fc8cad6ff81091e7ac5afa9ff639111208665a6b0de4041e14ac73/src/main.gleam:622:19\u001B[0m\n",
       "\u001B[4;7m    │\u001B[0m\n",
       "\u001B[4;7m622 │             Us0i1(v578) -> { // Error\u001B[0m\n",
       "\u001B[4;7m    │                   ^^^^ This variable is never used\u001B[0m\n",
       "\u001B[4;7m\u001B[0m\n",
       "\u001B[4;7mHint: You can ignore it with an underscore: `_v578`.\u001B[0m\n",
       "\u001B[4;7m\u001B[0m\n",
       "\u001B[4;7mwarning: Unused variable\u001B[0m\n",
       "\u001B[4;7m    ┌─ /home/runner/work/spiral/polyglot/target/spiral_Eval/packages/f5f820efa7fc8cad6ff81091e7ac5afa9ff639111208665a6b0de4041e14ac73/src/main.gleam:704:19\u001B[0m\n",
       "\u001B[4;7m    │\u001B[0m\n",
       "\u001B[4;7m704 │             Us0i0(v573, v574, v575, v576, v577) -> { // Ok\u001B[0m\n",
       "\u001B[4;7m    │                   ^^^^ This variable is never used\u001B[0m\n",
       "\u001B[4;7m\u001B[0m\n",
       "\u001B[4;7mHint: You can ignore it with an underscore: `_v573`.\u001B[0m\n",
       "\u001B[4;7m\u001B[0m\n",
       "\u001B[4;7mwarning: Unused variable\u001B[0m\n",
       "\u001B[4;7m    ┌─ /home/runner/work/spiral/polyglot/target/spiral_Eval/packages/f5f820efa7fc8cad6ff81091e7ac5afa9ff639111208665a6b0de4041e14ac73/src/main.gleam:704:25\u001B[0m\n",
       "\u001B[4;7m    │\u001B[0m\n",
       "\u001B[4;7m704 │             Us0i0(v573, v574, v575, v576, v577) -> { // Ok\u001B[0m\n",
       "\u001B[4;7m    │                         ^^^^ This variable is never used\u001B[0m\n",
       "\u001B[4;7m\u001B[0m\n",
       "\u001B[4;7mHint: You can ignore it with an underscore: `_v574`.\u001B[0m\n",
       "\u001B[4;7m\u001B[0m\n",
       "\u001B[4;7mwarning: Unused variable\u001B[0m\n",
       "\u001B[4;7m    ┌─ /home/runner/work/spiral/polyglot/target/spiral_Eval/packages/f5f820efa7fc8cad6ff81091e7ac5afa9ff639111208665a6b0de4041e14ac73/src/main.gleam:704:31\u001B[0m\n",
       "\u001B[4;7m    │\u001B[0m\n",
       "\u001B[4;7m704 │             Us0i0(v573, v574, v575, v576, v577) -> { // Ok\u001B[0m\n",
       "\u001B[4;7m    │                               ^^^^ This variable is never used\u001B[0m\n",
       "\u001B[4;7m\u001B[0m\n",
       "\u001B[4;7mHint: You can ignore it with an underscore: `_v575`.\u001B[0m\n",
       "\u001B[4;7m\u001B[0m\n",
       "\u001B[4;7mwarning: Unused variable\u001B[0m\n",
       "\u001B[4;7m    ┌─ /home/runner/work/spiral/polyglot/target/spiral_Eval/packages/f5f820efa7fc8cad6ff81091e7ac5afa9ff639111208665a6b0de4041e14ac73/src/main.gleam:704:37\u001B[0m\n",
       "\u001B[4;7m    │\u001B[0m\n",
       "\u001B[4;7m704 │             Us0i0(v573, v574, v575, v576, v577) -> { // Ok\u001B[0m\n",
       "\u001B[4;7m    │                                     ^^^^ This variable is never used\u001B[0m\n",
       "\u001B[4;7m\u001B[0m\n",
       "\u001B[4;7mHint: You can ignore it with an underscore: `_v576`.\u001B[0m\n",
       "\u001B[4;7m\u001B[0m\n",
       "\u001B[4;7mwarning: Unused variable\u001B[0m\n",
       "\u001B[4;7m    ┌─ /home/runner/work/spiral/polyglot/target/spiral_Eval/packages/f5f820efa7fc8cad6ff81091e7ac5afa9ff639111208665a6b0de4041e14ac73/src/main.gleam:704:43\u001B[0m\n",
       "\u001B[4;7m    │\u001B[0m\n",
       "\u001B[4;7m704 │             Us0i0(v573, v574, v575, v576, v577) -> { // Ok\u001B[0m\n",
       "\u001B[4;7m    │                                           ^^^^ This variable is never used\u001B[0m\n",
       "\u001B[4;7m\u001B[0m\n",
       "\u001B[4;7mHint: You can ignore it with an underscore: `_v577`.\u001B[0m\n",
       "\u001B[4;7m\u001B[0m\n",
       "{compiling,\"/home/runner/work/spiral/polyglot/target/spiral_Eval/packages/f5f820efa7fc8cad6ff81091e7ac5afa9ff639111208665a6b0de4041e14ac73/build/dev/erlang/main/_gleam_artefacts/main.erl\"}\n",
       "{compiling,\"/home/runner/work/spiral/polyglot/target/spiral_Eval/packages/f5f820efa7fc8cad6ff81091e7ac5afa9ff639111208665a6b0de4041e14ac73/build/dev/erlang/main/_gleam_artefacts/main@@main.erl\"}\n",
       "{compiled,main@@main,\n",
       "          \"/home/runner/work/spiral/polyglot/target/spiral_Eval/packages/f5f820efa7fc8cad6ff81091e7ac5afa9ff639111208665a6b0de4041e14ac73/build/dev/erlang/main/ebin/main@@main.beam\"}\n",
       "{compiled,main,\n",
       "          \"/home/runner/work/spiral/polyglot/target/spiral_Eval/packages/f5f820efa7fc8cad6ff81091e7ac5afa9ff639111208665a6b0de4041e14ac73/build/dev/erlang/main/ebin/main.beam\"}\n",
       "{ name = __assert_eq; actual = #(\"a\", \"bc\", \"a\", 1, 2); expected = #(\"a\", \"bc\", \"a\", 1, 2) }\n",
       "{ name = __assert_eq; actual = Us0i1(\"parsing.p_char / { expected = b; line = 1; col = 1 }\\ncba\\n^\\n\"); expected = Us0i1(\"parsing.p_char / { expected = b; line = 1; col = 1 }\\ncba\\n^\\n\") }\n",
       "\n",
       "\n"
      ]
     },
     "metadata": {},
     "output_type": "display_data"
    },
    {
     "name": "stdout",
     "output_type": "stream",
     "text": [
      ".fsx output:\n",
      "{ name = __assert_eq; actual = struct ('a', \"bc\", a, 1, 2); expected = struct ('a', \"bc\", a, 1, 2) }\n",
      "{ name = __assert_eq; actual = US0_1 \"parsing.p_char / { expected = b; line = 1; col = 1 }\n",
      "cba\n",
      "^\n",
      "\"; expected = US0_1 \"parsing.p_char / { expected = b; line = 1; col = 1 }\n",
      "cba\n",
      "^\n",
      "\" }\n"
     ]
    }
   ],
   "source": [
    "//// test\n",
    "///! gleam\n",
    "///! fsharp\n",
    "///! cuda\n",
    "///! typescript\n",
    "\n",
    "\"abc\"\n",
    "|> parse (p_char 'a' <|> p_char 'b')\n",
    "|> resultm.get\n",
    "|> sm'.format_debug\n",
    "|> _assert_eq (\n",
    "    ('a', \"bc\", { line_text = \"a\" |> sm'.string_builder; position = { line = 1i32; col = 2i32 } })\n",
    "    |> sm'.format_debug\n",
    ")\n",
    "\n",
    "\"cba\"\n",
    "|> parse (p_char 'a' <|> p_char 'b')\n",
    "|> _assert_eq (Error \"parsing.p_char / { expected = b; line = 1; col = 1 }\\ncba\\n^\\n\")"
   ]
  },
  {
   "cell_type": "markdown",
   "metadata": {},
   "source": [
    "### (|>>)"
   ]
  },
  {
   "cell_type": "code",
   "execution_count": null,
   "metadata": {
    "dotnet_interactive": {
     "language": "spiral"
    },
    "polyglot_notebook": {
     "kernelName": "spiral"
    }
   },
   "outputs": [],
   "source": [
    "inl (|>>) p f : parser _ =\n",
    "    p >> resultm.map fun result, rest =>\n",
    "        f result, rest"
   ]
  },
  {
   "cell_type": "code",
   "execution_count": null,
   "metadata": {
    "dotnet_interactive": {
     "language": "spiral"
    },
    "polyglot_notebook": {
     "kernelName": "spiral"
    }
   },
   "outputs": [
    {
     "data": {
      "text/plain": [
       ".py output (Python):\n",
       "{ name = __assert_eq; actual = ('A', 'bc', a, 1, 2); expected = ('A', 'bc', a, 1, 2) }\n",
       "\n",
       ".ts output:\n",
       "{ name = __assert_eq; actual = A,bc,a,1,2; expected = A,bc,a,1,2 }\n",
       "\n",
       "\n",
       ".gleam output (Gleam):\n",
       "{compiling,\"/home/runner/work/spiral/polyglot/target/spiral_Eval/packages/09aea787136940bf743bfc39d56aad508ff284b0f1a5accf5dbcb847f63e015b/build/dev/erlang/main/_gleam_artefacts/main.erl\"}\n",
       "{compiling,\"/home/runner/work/spiral/polyglot/target/spiral_Eval/packages/09aea787136940bf743bfc39d56aad508ff284b0f1a5accf5dbcb847f63e015b/build/dev/erlang/main/_gleam_artefacts/main@@main.erl\"}\n",
       "{compiled,main@@main,\n",
       "          \"/home/runner/work/spiral/polyglot/target/spiral_Eval/packages/09aea787136940bf743bfc39d56aad508ff284b0f1a5accf5dbcb847f63e015b/build/dev/erlang/main/ebin/main@@main.beam\"}\n",
       "{compiled,main,\n",
       "          \"/home/runner/work/spiral/polyglot/target/spiral_Eval/packages/09aea787136940bf743bfc39d56aad508ff284b0f1a5accf5dbcb847f63e015b/build/dev/erlang/main/ebin/main.beam\"}\n",
       "{ name = __assert_eq; actual = #(\"A\", \"bc\", \"a\", 1, 2); expected = #(\"A\", \"bc\", \"a\", 1, 2) }\n",
       "\n",
       "\n"
      ]
     },
     "metadata": {},
     "output_type": "display_data"
    },
    {
     "name": "stdout",
     "output_type": "stream",
     "text": [
      ".fsx output:\n",
      "{ name = __assert_eq; actual = struct ('A', \"bc\", a, 1, 2); expected = struct ('A', \"bc\", a, 1, 2) }\n"
     ]
    }
   ],
   "source": [
    "//// test\n",
    "///! gleam\n",
    "///! fsharp\n",
    "///! cuda\n",
    "///! typescript\n",
    "\n",
    "\"abc\"\n",
    "|> parse (p_char 'a' |>> sm'.char_to_upper)\n",
    "|> resultm.get\n",
    "|> sm'.format_debug\n",
    "|> _assert_eq (\n",
    "    ('A', \"bc\", { line_text = \"a\" |> sm'.string_builder; position = { line = 1i32; col = 2i32 } })\n",
    "    |> sm'.format_debug\n",
    ")"
   ]
  },
  {
   "cell_type": "markdown",
   "metadata": {},
   "source": [
    "### many"
   ]
  },
  {
   "cell_type": "code",
   "execution_count": null,
   "metadata": {
    "dotnet_interactive": {
     "language": "spiral"
    },
    "polyglot_notebook": {
     "kernelName": "spiral"
    }
   },
   "outputs": [],
   "source": [
    "// inl many p : parser (list _) = fun input =>\n",
    "inl many forall b c. (p : _ -> _ (b * _ * _) c) : parser (list _) = fun input =>\n",
    "    // let rec loop acc input =\n",
    "    let rec loop forall a.\n",
    "        (acc : list b)\n",
    "        (input : string * parser_state)\n",
    "        : result (list b * string * parser_state) a\n",
    "        =\n",
    "        match p input with\n",
    "        | Ok (result, rest) => loop (result :: acc) rest\n",
    "        | Error _ => Ok (acc |> listm.rev, input)\n",
    "    loop [] input"
   ]
  },
  {
   "cell_type": "code",
   "execution_count": null,
   "metadata": {
    "dotnet_interactive": {
     "language": "spiral"
    },
    "polyglot_notebook": {
     "kernelName": "spiral"
    }
   },
   "outputs": [
    {
     "data": {
      "text/plain": [
       ".py output (Python):\n",
       "{ name = __assert_eq; actual = (UH0_1(v0='a', v1=UH0_1(v0='a', v1=UH0_1(v0='a', v1=UH0_1(v0='b', v1=UH0_1(v0='b', v1=UH0_0()))))), 'c', aaabb, 1, 6); expected = (UH0_1(v0='a', v1=UH0_1(v0='a', v1=UH0_1(v0='a', v1=UH0_1(v0='b', v1=UH0_1(v0='b', v1=UH0_0()))))), 'c', aaabb, 1, 6) }\n",
       "\n",
       ".ts output:\n",
       "{ name = __assert_eq; actual = UH0_1 (a, UH0_1 (a, UH0_1 (a, UH0_1 (b, UH0_1 (b, UH0_0))))),c,aaabb,1,6; expected = UH0_1 (a, UH0_1 (a, UH0_1 (a, UH0_1 (b, UH0_1 (b, UH0_0))))),c,aaabb,1,6 }\n",
       "\n",
       "\n",
       ".gleam output (Gleam):\n",
       "\u001B[4;7mwarning: Unused variable\u001B[0m\n",
       "\u001B[4;7m    ┌─ /home/runner/work/spiral/polyglot/target/spiral_Eval/packages/cfa34da09a7fde4948ef4d7d68b209addf065c668fcd51ad980fad68a2761c77/src/main.gleam:302:19\u001B[0m\n",
       "\u001B[4;7m    │\u001B[0m\n",
       "\u001B[4;7m302 │             Us1i1(v169) -> { // Error\u001B[0m\n",
       "\u001B[4;7m    │                   ^^^^ This variable is never used\u001B[0m\n",
       "\u001B[4;7m\u001B[0m\n",
       "\u001B[4;7mHint: You can ignore it with an underscore: `_v169`.\u001B[0m\n",
       "\u001B[4;7m\u001B[0m\n",
       "\u001B[4;7mwarning: Unused variable\u001B[0m\n",
       "\u001B[4;7m    ┌─ /home/runner/work/spiral/polyglot/target/spiral_Eval/packages/cfa34da09a7fde4948ef4d7d68b209addf065c668fcd51ad980fad68a2761c77/src/main.gleam:383:19\u001B[0m\n",
       "\u001B[4;7m    │\u001B[0m\n",
       "\u001B[4;7m383 │             Us1i0(v164, v165, v166, v167, v168) -> { // Ok\u001B[0m\n",
       "\u001B[4;7m    │                   ^^^^ This variable is never used\u001B[0m\n",
       "\u001B[4;7m\u001B[0m\n",
       "\u001B[4;7mHint: You can ignore it with an underscore: `_v164`.\u001B[0m\n",
       "\u001B[4;7m\u001B[0m\n",
       "\u001B[4;7mwarning: Unused variable\u001B[0m\n",
       "\u001B[4;7m    ┌─ /home/runner/work/spiral/polyglot/target/spiral_Eval/packages/cfa34da09a7fde4948ef4d7d68b209addf065c668fcd51ad980fad68a2761c77/src/main.gleam:383:25\u001B[0m\n",
       "\u001B[4;7m    │\u001B[0m\n",
       "\u001B[4;7m383 │             Us1i0(v164, v165, v166, v167, v168) -> { // Ok\u001B[0m\n",
       "\u001B[4;7m    │                         ^^^^ This variable is never used\u001B[0m\n",
       "\u001B[4;7m\u001B[0m\n",
       "\u001B[4;7mHint: You can ignore it with an underscore: `_v165`.\u001B[0m\n",
       "\u001B[4;7m\u001B[0m\n",
       "\u001B[4;7mwarning: Unused variable\u001B[0m\n",
       "\u001B[4;7m    ┌─ /home/runner/work/spiral/polyglot/target/spiral_Eval/packages/cfa34da09a7fde4948ef4d7d68b209addf065c668fcd51ad980fad68a2761c77/src/main.gleam:383:31\u001B[0m\n",
       "\u001B[4;7m    │\u001B[0m\n",
       "\u001B[4;7m383 │             Us1i0(v164, v165, v166, v167, v168) -> { // Ok\u001B[0m\n",
       "\u001B[4;7m    │                               ^^^^ This variable is never used\u001B[0m\n",
       "\u001B[4;7m\u001B[0m\n",
       "\u001B[4;7mHint: You can ignore it with an underscore: `_v166`.\u001B[0m\n",
       "\u001B[4;7m\u001B[0m\n",
       "\u001B[4;7mwarning: Unused variable\u001B[0m\n",
       "\u001B[4;7m    ┌─ /home/runner/work/spiral/polyglot/target/spiral_Eval/packages/cfa34da09a7fde4948ef4d7d68b209addf065c668fcd51ad980fad68a2761c77/src/main.gleam:383:37\u001B[0m\n",
       "\u001B[4;7m    │\u001B[0m\n",
       "\u001B[4;7m383 │             Us1i0(v164, v165, v166, v167, v168) -> { // Ok\u001B[0m\n",
       "\u001B[4;7m    │                                     ^^^^ This variable is never used\u001B[0m\n",
       "\u001B[4;7m\u001B[0m\n",
       "\u001B[4;7mHint: You can ignore it with an underscore: `_v167`.\u001B[0m\n",
       "\u001B[4;7m\u001B[0m\n",
       "\u001B[4;7mwarning: Unused variable\u001B[0m\n",
       "\u001B[4;7m    ┌─ /home/runner/work/spiral/polyglot/target/spiral_Eval/packages/cfa34da09a7fde4948ef4d7d68b209addf065c668fcd51ad980fad68a2761c77/src/main.gleam:383:43\u001B[0m\n",
       "\u001B[4;7m    │\u001B[0m\n",
       "\u001B[4;7m383 │             Us1i0(v164, v165, v166, v167, v168) -> { // Ok\u001B[0m\n",
       "\u001B[4;7m    │                                           ^^^^ This variable is never used\u001B[0m\n",
       "\u001B[4;7m\u001B[0m\n",
       "\u001B[4;7mHint: You can ignore it with an underscore: `_v168`.\u001B[0m\n",
       "\u001B[4;7m\u001B[0m\n",
       "\u001B[4;7mwarning: Unused variable\u001B[0m\n",
       "\u001B[4;7m    ┌─ /home/runner/work/spiral/polyglot/target/spiral_Eval/packages/cfa34da09a7fde4948ef4d7d68b209addf065c668fcd51ad980fad68a2761c77/src/main.gleam:388:15\u001B[0m\n",
       "\u001B[4;7m    │\u001B[0m\n",
       "\u001B[4;7m388 │         Us1i1(v337) -> { // Error\u001B[0m\n",
       "\u001B[4;7m    │               ^^^^ This variable is never used\u001B[0m\n",
       "\u001B[4;7m\u001B[0m\n",
       "\u001B[4;7mHint: You can ignore it with an underscore: `_v337`.\u001B[0m\n",
       "\u001B[4;7m\u001B[0m\n",
       "{compiling,\"/home/runner/work/spiral/polyglot/target/spiral_Eval/packages/cfa34da09a7fde4948ef4d7d68b209addf065c668fcd51ad980fad68a2761c77/build/dev/erlang/main/_gleam_artefacts/main@@main.erl\"}\n",
       "{compiling,\"/home/runner/work/spiral/polyglot/target/spiral_Eval/packages/cfa34da09a7fde4948ef4d7d68b209addf065c668fcd51ad980fad68a2761c77/build/dev/erlang/main/_gleam_artefacts/main.erl\"}\n",
       "{compiled,main@@main,\n",
       "          \"/home/runner/work/spiral/polyglot/target/spiral_Eval/packages/cfa34da09a7fde4948ef4d7d68b209addf065c668fcd51ad980fad68a2761c77/build/dev/erlang/main/ebin/main@@main.beam\"}\n",
       "{compiled,main,\n",
       "          \"/home/runner/work/spiral/polyglot/target/spiral_Eval/packages/cfa34da09a7fde4948ef4d7d68b209addf065c668fcd51ad980fad68a2761c77/build/dev/erlang/main/ebin/main.beam\"}\n",
       "{ name = __assert_eq; actual = #(Uh0i1(\"a\", Uh0i1(\"a\", Uh0i1(\"a\", Uh0i1(\"b\", Uh0i1(\"b\", Uh0i0))))), \"c\", \"aaabb\", 1, 6); expected = #(Uh0i1(\"a\", Uh0i1(\"a\", Uh0i1(\"a\", Uh0i1(\"b\", Uh0i1(\"b\", Uh0i0))))), \"c\", \"aaabb\", 1, 6) }\n",
       "\n",
       "\n"
      ]
     },
     "metadata": {},
     "output_type": "display_data"
    },
    {
     "name": "stdout",
     "output_type": "stream",
     "text": [
      ".fsx output:\n",
      "{ name = __assert_eq; actual = struct (UH0_1 ('a', UH0_1 ('a', UH0_1 ('a', UH0_1 ('b', UH0_1 ('b', UH0_0))))),\n",
      "        \"c\", aaabb, 1, 6); expected = struct (UH0_1 ('a', UH0_1 ('a', UH0_1 ('a', UH0_1 ('b', UH0_1 ('b', UH0_0))))),\n",
      "        \"c\", aaabb, 1, 6) }\n"
     ]
    }
   ],
   "source": [
    "//// test\n",
    "///! gleam\n",
    "///! fsharp\n",
    "///! cuda\n",
    "///! typescript\n",
    "\n",
    "\"aaabbc\"\n",
    "|> parse (many (p_char 'a' <|> p_char 'b'))\n",
    "|> resultm.get\n",
    "|> sm'.format_debug\n",
    "|> _assert_eq (\n",
    "    (\n",
    "        ['a'; 'a'; 'a'; 'b'; 'b'],\n",
    "        \"c\",\n",
    "        { line_text = \"aaabb\" |> sm'.string_builder; position = { line = 1i32; col = 6i32 } }\n",
    "    )\n",
    "    |> sm'.format_debug\n",
    ")"
   ]
  },
  {
   "cell_type": "markdown",
   "metadata": {},
   "source": [
    "### many1_chars"
   ]
  },
  {
   "cell_type": "code",
   "execution_count": null,
   "metadata": {
    "dotnet_interactive": {
     "language": "spiral"
    },
    "polyglot_notebook": {
     "kernelName": "spiral"
    }
   },
   "outputs": [],
   "source": [
    "inl many1_chars p : parser string =\n",
    "    p >> resultm.map fun first_result, rest =>\n",
    "        let rec loop acc input =\n",
    "            match p input with\n",
    "            | Ok (result, rest) => rest |> loop (acc ++# $result)\n",
    "            | Error _ => acc, input\n",
    "        rest |> loop $first_result"
   ]
  },
  {
   "cell_type": "code",
   "execution_count": null,
   "metadata": {
    "dotnet_interactive": {
     "language": "spiral"
    },
    "polyglot_notebook": {
     "kernelName": "spiral"
    }
   },
   "outputs": [
    {
     "data": {
      "text/plain": [
       ".py output (Python):\n",
       "{ name = __assert_eq; actual = ('aaabb', 'c', aaabb, 1, 6); expected = ('aaabb', 'c', aaabb, 1, 6) }\n",
       "\n",
       ".ts output:\n",
       "{ name = __assert_eq; actual = aaabb,c,aaabb,1,6; expected = aaabb,c,aaabb,1,6 }\n",
       "\n",
       "\n",
       ".gleam output (Gleam):\n",
       "\u001B[4;7mwarning: Unused variable\u001B[0m\n",
       "\u001B[4;7m    ┌─ /home/runner/work/spiral/polyglot/target/spiral_Eval/packages/d6d9bae0915c667cf975d7a00ef4f168f7ee31ba9542395e29bc7e67d9dcacd9/src/main.gleam:291:19\u001B[0m\n",
       "\u001B[4;7m    │\u001B[0m\n",
       "\u001B[4;7m291 │             Us0i1(v169) -> { // Error\u001B[0m\n",
       "\u001B[4;7m    │                   ^^^^ This variable is never used\u001B[0m\n",
       "\u001B[4;7m\u001B[0m\n",
       "\u001B[4;7mHint: You can ignore it with an underscore: `_v169`.\u001B[0m\n",
       "\u001B[4;7m\u001B[0m\n",
       "\u001B[4;7mwarning: Unused variable\u001B[0m\n",
       "\u001B[4;7m    ┌─ /home/runner/work/spiral/polyglot/target/spiral_Eval/packages/d6d9bae0915c667cf975d7a00ef4f168f7ee31ba9542395e29bc7e67d9dcacd9/src/main.gleam:372:19\u001B[0m\n",
       "\u001B[4;7m    │\u001B[0m\n",
       "\u001B[4;7m372 │             Us0i0(v164, v165, v166, v167, v168) -> { // Ok\u001B[0m\n",
       "\u001B[4;7m    │                   ^^^^ This variable is never used\u001B[0m\n",
       "\u001B[4;7m\u001B[0m\n",
       "\u001B[4;7mHint: You can ignore it with an underscore: `_v164`.\u001B[0m\n",
       "\u001B[4;7m\u001B[0m\n",
       "\u001B[4;7mwarning: Unused variable\u001B[0m\n",
       "\u001B[4;7m    ┌─ /home/runner/work/spiral/polyglot/target/spiral_Eval/packages/d6d9bae0915c667cf975d7a00ef4f168f7ee31ba9542395e29bc7e67d9dcacd9/src/main.gleam:372:25\u001B[0m\n",
       "\u001B[4;7m    │\u001B[0m\n",
       "\u001B[4;7m372 │             Us0i0(v164, v165, v166, v167, v168) -> { // Ok\u001B[0m\n",
       "\u001B[4;7m    │                         ^^^^ This variable is never used\u001B[0m\n",
       "\u001B[4;7m\u001B[0m\n",
       "\u001B[4;7mHint: You can ignore it with an underscore: `_v165`.\u001B[0m\n",
       "\u001B[4;7m\u001B[0m\n",
       "\u001B[4;7mwarning: Unused variable\u001B[0m\n",
       "\u001B[4;7m    ┌─ /home/runner/work/spiral/polyglot/target/spiral_Eval/packages/d6d9bae0915c667cf975d7a00ef4f168f7ee31ba9542395e29bc7e67d9dcacd9/src/main.gleam:372:31\u001B[0m\n",
       "\u001B[4;7m    │\u001B[0m\n",
       "\u001B[4;7m372 │             Us0i0(v164, v165, v166, v167, v168) -> { // Ok\u001B[0m\n",
       "\u001B[4;7m    │                               ^^^^ This variable is never used\u001B[0m\n",
       "\u001B[4;7m\u001B[0m\n",
       "\u001B[4;7mHint: You can ignore it with an underscore: `_v166`.\u001B[0m\n",
       "\u001B[4;7m\u001B[0m\n",
       "\u001B[4;7mwarning: Unused variable\u001B[0m\n",
       "\u001B[4;7m    ┌─ /home/runner/work/spiral/polyglot/target/spiral_Eval/packages/d6d9bae0915c667cf975d7a00ef4f168f7ee31ba9542395e29bc7e67d9dcacd9/src/main.gleam:372:37\u001B[0m\n",
       "\u001B[4;7m    │\u001B[0m\n",
       "\u001B[4;7m372 │             Us0i0(v164, v165, v166, v167, v168) -> { // Ok\u001B[0m\n",
       "\u001B[4;7m    │                                     ^^^^ This variable is never used\u001B[0m\n",
       "\u001B[4;7m\u001B[0m\n",
       "\u001B[4;7mHint: You can ignore it with an underscore: `_v167`.\u001B[0m\n",
       "\u001B[4;7m\u001B[0m\n",
       "\u001B[4;7mwarning: Unused variable\u001B[0m\n",
       "\u001B[4;7m    ┌─ /home/runner/work/spiral/polyglot/target/spiral_Eval/packages/d6d9bae0915c667cf975d7a00ef4f168f7ee31ba9542395e29bc7e67d9dcacd9/src/main.gleam:372:43\u001B[0m\n",
       "\u001B[4;7m    │\u001B[0m\n",
       "\u001B[4;7m372 │             Us0i0(v164, v165, v166, v167, v168) -> { // Ok\u001B[0m\n",
       "\u001B[4;7m    │                                           ^^^^ This variable is never used\u001B[0m\n",
       "\u001B[4;7m\u001B[0m\n",
       "\u001B[4;7mHint: You can ignore it with an underscore: `_v168`.\u001B[0m\n",
       "\u001B[4;7m\u001B[0m\n",
       "\u001B[4;7mwarning: Unused variable\u001B[0m\n",
       "\u001B[4;7m    ┌─ /home/runner/work/spiral/polyglot/target/spiral_Eval/packages/d6d9bae0915c667cf975d7a00ef4f168f7ee31ba9542395e29bc7e67d9dcacd9/src/main.gleam:377:15\u001B[0m\n",
       "\u001B[4;7m    │\u001B[0m\n",
       "\u001B[4;7m377 │         Us0i1(v349) -> { // Error\u001B[0m\n",
       "\u001B[4;7m    │               ^^^^ This variable is never used\u001B[0m\n",
       "\u001B[4;7m\u001B[0m\n",
       "\u001B[4;7mHint: You can ignore it with an underscore: `_v349`.\u001B[0m\n",
       "\u001B[4;7m\u001B[0m\n",
       "\u001B[4;7mwarning: Unused variable\u001B[0m\n",
       "\u001B[4;7m    ┌─ /home/runner/work/spiral/polyglot/target/spiral_Eval/packages/d6d9bae0915c667cf975d7a00ef4f168f7ee31ba9542395e29bc7e67d9dcacd9/src/main.gleam:546:19\u001B[0m\n",
       "\u001B[4;7m    │\u001B[0m\n",
       "\u001B[4;7m546 │             Us0i1(v183) -> { // Error\u001B[0m\n",
       "\u001B[4;7m    │                   ^^^^ This variable is never used\u001B[0m\n",
       "\u001B[4;7m\u001B[0m\n",
       "\u001B[4;7mHint: You can ignore it with an underscore: `_v183`.\u001B[0m\n",
       "\u001B[4;7m\u001B[0m\n",
       "\u001B[4;7mwarning: Unused variable\u001B[0m\n",
       "\u001B[4;7m    ┌─ /home/runner/work/spiral/polyglot/target/spiral_Eval/packages/d6d9bae0915c667cf975d7a00ef4f168f7ee31ba9542395e29bc7e67d9dcacd9/src/main.gleam:628:19\u001B[0m\n",
       "\u001B[4;7m    │\u001B[0m\n",
       "\u001B[4;7m628 │             Us0i0(v178, v179, v180, v181, v182) -> { // Ok\u001B[0m\n",
       "\u001B[4;7m    │                   ^^^^ This variable is never used\u001B[0m\n",
       "\u001B[4;7m\u001B[0m\n",
       "\u001B[4;7mHint: You can ignore it with an underscore: `_v178`.\u001B[0m\n",
       "\u001B[4;7m\u001B[0m\n",
       "\u001B[4;7mwarning: Unused variable\u001B[0m\n",
       "\u001B[4;7m    ┌─ /home/runner/work/spiral/polyglot/target/spiral_Eval/packages/d6d9bae0915c667cf975d7a00ef4f168f7ee31ba9542395e29bc7e67d9dcacd9/src/main.gleam:628:25\u001B[0m\n",
       "\u001B[4;7m    │\u001B[0m\n",
       "\u001B[4;7m628 │             Us0i0(v178, v179, v180, v181, v182) -> { // Ok\u001B[0m\n",
       "\u001B[4;7m    │                         ^^^^ This variable is never used\u001B[0m\n",
       "\u001B[4;7m\u001B[0m\n",
       "\u001B[4;7mHint: You can ignore it with an underscore: `_v179`.\u001B[0m\n",
       "\u001B[4;7m\u001B[0m\n",
       "\u001B[4;7mwarning: Unused variable\u001B[0m\n",
       "\u001B[4;7m    ┌─ /home/runner/work/spiral/polyglot/target/spiral_Eval/packages/d6d9bae0915c667cf975d7a00ef4f168f7ee31ba9542395e29bc7e67d9dcacd9/src/main.gleam:628:31\u001B[0m\n",
       "\u001B[4;7m    │\u001B[0m\n",
       "\u001B[4;7m628 │             Us0i0(v178, v179, v180, v181, v182) -> { // Ok\u001B[0m\n",
       "\u001B[4;7m    │                               ^^^^ This variable is never used\u001B[0m\n",
       "\u001B[4;7m\u001B[0m\n",
       "\u001B[4;7mHint: You can ignore it with an underscore: `_v180`.\u001B[0m\n",
       "\u001B[4;7m\u001B[0m\n",
       "\u001B[4;7mwarning: Unused variable\u001B[0m\n",
       "\u001B[4;7m    ┌─ /home/runner/work/spiral/polyglot/target/spiral_Eval/packages/d6d9bae0915c667cf975d7a00ef4f168f7ee31ba9542395e29bc7e67d9dcacd9/src/main.gleam:628:37\u001B[0m\n",
       "\u001B[4;7m    │\u001B[0m\n",
       "\u001B[4;7m628 │             Us0i0(v178, v179, v180, v181, v182) -> { // Ok\u001B[0m\n",
       "\u001B[4;7m    │                                     ^^^^ This variable is never used\u001B[0m\n",
       "\u001B[4;7m\u001B[0m\n",
       "\u001B[4;7mHint: You can ignore it with an underscore: `_v181`.\u001B[0m\n",
       "\u001B[4;7m\u001B[0m\n",
       "\u001B[4;7mwarning: Unused variable\u001B[0m\n",
       "\u001B[4;7m    ┌─ /home/runner/work/spiral/polyglot/target/spiral_Eval/packages/d6d9bae0915c667cf975d7a00ef4f168f7ee31ba9542395e29bc7e67d9dcacd9/src/main.gleam:628:43\u001B[0m\n",
       "\u001B[4;7m    │\u001B[0m\n",
       "\u001B[4;7m628 │             Us0i0(v178, v179, v180, v181, v182) -> { // Ok\u001B[0m\n",
       "\u001B[4;7m    │                                           ^^^^ This variable is never used\u001B[0m\n",
       "\u001B[4;7m\u001B[0m\n",
       "\u001B[4;7mHint: You can ignore it with an underscore: `_v182`.\u001B[0m\n",
       "\u001B[4;7m\u001B[0m\n",
       "{compiling,\"/home/runner/work/spiral/polyglot/target/spiral_Eval/packages/d6d9bae0915c667cf975d7a00ef4f168f7ee31ba9542395e29bc7e67d9dcacd9/build/dev/erlang/main/_gleam_artefacts/main.erl\"}\n",
       "{compiling,\"/home/runner/work/spiral/polyglot/target/spiral_Eval/packages/d6d9bae0915c667cf975d7a00ef4f168f7ee31ba9542395e29bc7e67d9dcacd9/build/dev/erlang/main/_gleam_artefacts/main@@main.erl\"}\n",
       "{compiled,main@@main,\n",
       "          \"/home/runner/work/spiral/polyglot/target/spiral_Eval/packages/d6d9bae0915c667cf975d7a00ef4f168f7ee31ba9542395e29bc7e67d9dcacd9/build/dev/erlang/main/ebin/main@@main.beam\"}\n",
       "{compiled,main,\n",
       "          \"/home/runner/work/spiral/polyglot/target/spiral_Eval/packages/d6d9bae0915c667cf975d7a00ef4f168f7ee31ba9542395e29bc7e67d9dcacd9/build/dev/erlang/main/ebin/main.beam\"}\n",
       "{ name = __assert_eq; actual = #(\"aaabb\", \"c\", \"aaabb\", 1, 6); expected = #(\"aaabb\", \"c\", \"aaabb\", 1, 6) }\n",
       "\n",
       "\n"
      ]
     },
     "metadata": {},
     "output_type": "display_data"
    },
    {
     "name": "stdout",
     "output_type": "stream",
     "text": [
      ".fsx output:\n",
      "{ name = __assert_eq; actual = struct (\"aaabb\", \"c\", aaabb, 1, 6); expected = struct (\"aaabb\", \"c\", aaabb, 1, 6) }\n"
     ]
    }
   ],
   "source": [
    "//// test\n",
    "///! gleam\n",
    "///! fsharp\n",
    "///! cuda\n",
    "///! typescript\n",
    "\n",
    "\"aaabbc\"\n",
    "|> parse (many1_chars (p_char 'a' <|> p_char 'b'))\n",
    "|> resultm.get\n",
    "|> sm'.format_debug\n",
    "|> _assert_eq (\n",
    "    (\"aaabb\", \"c\", { line_text = \"aaabb\" |> sm'.string_builder; position = { line = 1i32; col = 6i32 } })\n",
    "    |> sm'.format_debug\n",
    ")"
   ]
  },
  {
   "cell_type": "markdown",
   "metadata": {},
   "source": [
    "### many_chars"
   ]
  },
  {
   "cell_type": "code",
   "execution_count": null,
   "metadata": {
    "dotnet_interactive": {
     "language": "spiral"
    },
    "polyglot_notebook": {
     "kernelName": "spiral"
    }
   },
   "outputs": [],
   "source": [
    "inl many_chars p : parser string = fun input =>\n",
    "    match many1_chars p input with\n",
    "    | Ok (result, rest) => Ok (result, rest)\n",
    "    | Error e => Ok (\"\", input)"
   ]
  },
  {
   "cell_type": "markdown",
   "metadata": {},
   "source": [
    "### many_chars_till"
   ]
  },
  {
   "cell_type": "code",
   "execution_count": null,
   "metadata": {
    "dotnet_interactive": {
     "language": "spiral"
    },
    "polyglot_notebook": {
     "kernelName": "spiral"
    }
   },
   "outputs": [],
   "source": [
    "inl many_chars_till p end_p : parser string = fun input =>\n",
    "    match end_p input with\n",
    "    | Ok _ => Ok (\"\", input)\n",
    "    | Error _ => many_chars p input"
   ]
  },
  {
   "cell_type": "markdown",
   "metadata": {},
   "source": [
    "### many1"
   ]
  },
  {
   "cell_type": "code",
   "execution_count": null,
   "metadata": {
    "dotnet_interactive": {
     "language": "spiral"
    },
    "polyglot_notebook": {
     "kernelName": "spiral"
    }
   },
   "outputs": [],
   "source": [
    "inl many1 p : parser (list _) =\n",
    "    p >> resultm.map fun first_result, rest =>\n",
    "        let rec loop acc input =\n",
    "            match p input with\n",
    "            | Ok (result, rest) => loop (result :: acc) rest\n",
    "            | Error _ => acc |> listm.rev, input\n",
    "        loop [ first_result ] rest"
   ]
  },
  {
   "cell_type": "code",
   "execution_count": null,
   "metadata": {
    "dotnet_interactive": {
     "language": "spiral"
    },
    "polyglot_notebook": {
     "kernelName": "spiral"
    }
   },
   "outputs": [
    {
     "data": {
      "text/plain": [
       "\n",
       ".py output (Python):\n",
       "{ name = __assert_eq; actual = (UH0_1(v0='a', v1=UH0_1(v0='a', v1=UH0_1(v0='a', v1=UH0_1(v0='b', v1=UH0_1(v0='b', v1=UH0_0()))))), 'c', aaabb, 1, 6); expected = (UH0_1(v0='a', v1=UH0_1(v0='a', v1=UH0_1(v0='a', v1=UH0_1(v0='b', v1=UH0_1(v0='b', v1=UH0_0()))))), 'c', aaabb, 1, 6) }\n",
       "{ name = __assert_eq; actual = (UH0_1(v0='b', v1=UH0_0()), 'cc', b, 1, 2); expected = (UH0_1(v0='b', v1=UH0_0()), 'cc', b, 1, 2) }\n",
       "{ name = __assert_eq; actual = US1_1(v0='parsing.p_char / { expected = b; line = 1; col = 1 }\\ncba\\n^\\n'); expected = US1_1(v0='parsing.p_char / { expected = b; line = 1; col = 1 }\\ncba\\n^\\n') }\n",
       "\n",
       "\n",
       ".ts output:\n",
       "{ name = __assert_eq; actual = UH0_1 (a, UH0_1 (a, UH0_1 (a, UH0_1 (b, UH0_1 (b, UH0_0))))),c,aaabb,1,6; expected = UH0_1 (a, UH0_1 (a, UH0_1 (a, UH0_1 (b, UH0_1 (b, UH0_0))))),c,aaabb,1,6 }\n",
       "{ name = __assert_eq; actual = UH0_1 (b, UH0_0),cc,b,1,2; expected = UH0_1 (b, UH0_0),cc,b,1,2 }\n",
       "{ name = __assert_eq; actual = US1_1 (parsing.p_char / { expected = b; line = 1; col = 1 }\n",
       "cba\n",
       "^\n",
       "); expected = US1_1 (parsing.p_char / { expected = b; line = 1; col = 1 }\n",
       "cba\n",
       "^\n",
       ") }\n",
       "\n",
       "\n",
       ".gleam output (Gleam):\n",
       "\u001B[4;7mwarning: Unused variable\u001B[0m\n",
       "\u001B[4;7m    ┌─ /home/runner/work/spiral/polyglot/target/spiral_Eval/packages/532f3d362e0f22f6712f0273d2676ae95ea070601f503bd11f3a6e99a42a4962/src/main.gleam:302:19\u001B[0m\n",
       "\u001B[4;7m    │\u001B[0m\n",
       "\u001B[4;7m302 │             Us0i1(v169) -> { // Error\u001B[0m\n",
       "\u001B[4;7m    │                   ^^^^ This variable is never used\u001B[0m\n",
       "\u001B[4;7m\u001B[0m\n",
       "\u001B[4;7mHint: You can ignore it with an underscore: `_v169`.\u001B[0m\n",
       "\u001B[4;7m\u001B[0m\n",
       "\u001B[4;7mwarning: Unused variable\u001B[0m\n",
       "\u001B[4;7m    ┌─ /home/runner/work/spiral/polyglot/target/spiral_Eval/packages/532f3d362e0f22f6712f0273d2676ae95ea070601f503bd11f3a6e99a42a4962/src/main.gleam:383:19\u001B[0m\n",
       "\u001B[4;7m    │\u001B[0m\n",
       "\u001B[4;7m383 │             Us0i0(v164, v165, v166, v167, v168) -> { // Ok\u001B[0m\n",
       "\u001B[4;7m    │                   ^^^^ This variable is never used\u001B[0m\n",
       "\u001B[4;7m\u001B[0m\n",
       "\u001B[4;7mHint: You can ignore it with an underscore: `_v164`.\u001B[0m\n",
       "\u001B[4;7m\u001B[0m\n",
       "\u001B[4;7mwarning: Unused variable\u001B[0m\n",
       "\u001B[4;7m    ┌─ /home/runner/work/spiral/polyglot/target/spiral_Eval/packages/532f3d362e0f22f6712f0273d2676ae95ea070601f503bd11f3a6e99a42a4962/src/main.gleam:383:25\u001B[0m\n",
       "\u001B[4;7m    │\u001B[0m\n",
       "\u001B[4;7m383 │             Us0i0(v164, v165, v166, v167, v168) -> { // Ok\u001B[0m\n",
       "\u001B[4;7m    │                         ^^^^ This variable is never used\u001B[0m\n",
       "\u001B[4;7m\u001B[0m\n",
       "\u001B[4;7mHint: You can ignore it with an underscore: `_v165`.\u001B[0m\n",
       "\u001B[4;7m\u001B[0m\n",
       "\u001B[4;7mwarning: Unused variable\u001B[0m\n",
       "\u001B[4;7m    ┌─ /home/runner/work/spiral/polyglot/target/spiral_Eval/packages/532f3d362e0f22f6712f0273d2676ae95ea070601f503bd11f3a6e99a42a4962/src/main.gleam:383:31\u001B[0m\n",
       "\u001B[4;7m    │\u001B[0m\n",
       "\u001B[4;7m383 │             Us0i0(v164, v165, v166, v167, v168) -> { // Ok\u001B[0m\n",
       "\u001B[4;7m    │                               ^^^^ This variable is never used\u001B[0m\n",
       "\u001B[4;7m\u001B[0m\n",
       "\u001B[4;7mHint: You can ignore it with an underscore: `_v166`.\u001B[0m\n",
       "\u001B[4;7m\u001B[0m\n",
       "\u001B[4;7mwarning: Unused variable\u001B[0m\n",
       "\u001B[4;7m    ┌─ /home/runner/work/spiral/polyglot/target/spiral_Eval/packages/532f3d362e0f22f6712f0273d2676ae95ea070601f503bd11f3a6e99a42a4962/src/main.gleam:383:37\u001B[0m\n",
       "\u001B[4;7m    │\u001B[0m\n",
       "\u001B[4;7m383 │             Us0i0(v164, v165, v166, v167, v168) -> { // Ok\u001B[0m\n",
       "\u001B[4;7m    │                                     ^^^^ This variable is never used\u001B[0m\n",
       "\u001B[4;7m\u001B[0m\n",
       "\u001B[4;7mHint: You can ignore it with an underscore: `_v167`.\u001B[0m\n",
       "\u001B[4;7m\u001B[0m\n",
       "\u001B[4;7mwarning: Unused variable\u001B[0m\n",
       "\u001B[4;7m    ┌─ /home/runner/work/spiral/polyglot/target/spiral_Eval/packages/532f3d362e0f22f6712f0273d2676ae95ea070601f503bd11f3a6e99a42a4962/src/main.gleam:383:43\u001B[0m\n",
       "\u001B[4;7m    │\u001B[0m\n",
       "\u001B[4;7m383 │             Us0i0(v164, v165, v166, v167, v168) -> { // Ok\u001B[0m\n",
       "\u001B[4;7m    │                                           ^^^^ This variable is never used\u001B[0m\n",
       "\u001B[4;7m\u001B[0m\n",
       "\u001B[4;7mHint: You can ignore it with an underscore: `_v168`.\u001B[0m\n",
       "\u001B[4;7m\u001B[0m\n",
       "\u001B[4;7mwarning: Unused variable\u001B[0m\n",
       "\u001B[4;7m    ┌─ /home/runner/work/spiral/polyglot/target/spiral_Eval/packages/532f3d362e0f22f6712f0273d2676ae95ea070601f503bd11f3a6e99a42a4962/src/main.gleam:388:15\u001B[0m\n",
       "\u001B[4;7m    │\u001B[0m\n",
       "\u001B[4;7m388 │         Us0i1(v341) -> { // Error\u001B[0m\n",
       "\u001B[4;7m    │               ^^^^ This variable is never used\u001B[0m\n",
       "\u001B[4;7m\u001B[0m\n",
       "\u001B[4;7mHint: You can ignore it with an underscore: `_v341`.\u001B[0m\n",
       "\u001B[4;7m\u001B[0m\n",
       "\u001B[4;7mwarning: Unused variable\u001B[0m\n",
       "\u001B[4;7m    ┌─ /home/runner/work/spiral/polyglot/target/spiral_Eval/packages/532f3d362e0f22f6712f0273d2676ae95ea070601f503bd11f3a6e99a42a4962/src/main.gleam:625:19\u001B[0m\n",
       "\u001B[4;7m    │\u001B[0m\n",
       "\u001B[4;7m625 │             Us0i1(v183) -> { // Error\u001B[0m\n",
       "\u001B[4;7m    │                   ^^^^ This variable is never used\u001B[0m\n",
       "\u001B[4;7m\u001B[0m\n",
       "\u001B[4;7mHint: You can ignore it with an underscore: `_v183`.\u001B[0m\n",
       "\u001B[4;7m\u001B[0m\n",
       "\u001B[4;7mwarning: Unused variable\u001B[0m\n",
       "\u001B[4;7m    ┌─ /home/runner/work/spiral/polyglot/target/spiral_Eval/packages/532f3d362e0f22f6712f0273d2676ae95ea070601f503bd11f3a6e99a42a4962/src/main.gleam:707:19\u001B[0m\n",
       "\u001B[4;7m    │\u001B[0m\n",
       "\u001B[4;7m707 │             Us0i0(v178, v179, v180, v181, v182) -> { // Ok\u001B[0m\n",
       "\u001B[4;7m    │                   ^^^^ This variable is never used\u001B[0m\n",
       "\u001B[4;7m\u001B[0m\n",
       "\u001B[4;7mHint: You can ignore it with an underscore: `_v178`.\u001B[0m\n",
       "\u001B[4;7m\u001B[0m\n",
       "\u001B[4;7mwarning: Unused variable\u001B[0m\n",
       "\u001B[4;7m    ┌─ /home/runner/work/spiral/polyglot/target/spiral_Eval/packages/532f3d362e0f22f6712f0273d2676ae95ea070601f503bd11f3a6e99a42a4962/src/main.gleam:707:25\u001B[0m\n",
       "\u001B[4;7m    │\u001B[0m\n",
       "\u001B[4;7m707 │             Us0i0(v178, v179, v180, v181, v182) -> { // Ok\u001B[0m\n",
       "\u001B[4;7m    │                         ^^^^ This variable is never used\u001B[0m\n",
       "\u001B[4;7m\u001B[0m\n",
       "\u001B[4;7mHint: You can ignore it with an underscore: `_v179`.\u001B[0m\n",
       "\u001B[4;7m\u001B[0m\n",
       "\u001B[4;7mwarning: Unused variable\u001B[0m\n",
       "\u001B[4;7m    ┌─ /home/runner/work/spiral/polyglot/target/spiral_Eval/packages/532f3d362e0f22f6712f0273d2676ae95ea070601f503bd11f3a6e99a42a4962/src/main.gleam:707:31\u001B[0m\n",
       "\u001B[4;7m    │\u001B[0m\n",
       "\u001B[4;7m707 │             Us0i0(v178, v179, v180, v181, v182) -> { // Ok\u001B[0m\n",
       "\u001B[4;7m    │                               ^^^^ This variable is never used\u001B[0m\n",
       "\u001B[4;7m\u001B[0m\n",
       "\u001B[4;7mHint: You can ignore it with an underscore: `_v180`.\u001B[0m\n",
       "\u001B[4;7m\u001B[0m\n",
       "\u001B[4;7mwarning: Unused variable\u001B[0m\n",
       "\u001B[4;7m    ┌─ /home/runner/work/spiral/polyglot/target/spiral_Eval/packages/532f3d362e0f22f6712f0273d2676ae95ea070601f503bd11f3a6e99a42a4962/src/main.gleam:707:37\u001B[0m\n",
       "\u001B[4;7m    │\u001B[0m\n",
       "\u001B[4;7m707 │             Us0i0(v178, v179, v180, v181, v182) -> { // Ok\u001B[0m\n",
       "\u001B[4;7m    │                                     ^^^^ This variable is never used\u001B[0m\n",
       "\u001B[4;7m\u001B[0m\n",
       "\u001B[4;7mHint: You can ignore it with an underscore: `_v181`.\u001B[0m\n",
       "\u001B[4;7m\u001B[0m\n",
       "\u001B[4;7mwarning: Unused variable\u001B[0m\n",
       "\u001B[4;7m    ┌─ /home/runner/work/spiral/polyglot/target/spiral_Eval/packages/532f3d362e0f22f6712f0273d2676ae95ea070601f503bd11f3a6e99a42a4962/src/main.gleam:707:43\u001B[0m\n",
       "\u001B[4;7m    │\u001B[0m\n",
       "\u001B[4;7m707 │             Us0i0(v178, v179, v180, v181, v182) -> { // Ok\u001B[0m\n",
       "\u001B[4;7m    │                                           ^^^^ This variable is never used\u001B[0m\n",
       "\u001B[4;7m\u001B[0m\n",
       "\u001B[4;7mHint: You can ignore it with an underscore: `_v182`.\u001B[0m\n",
       "\u001B[4;7m\u001B[0m\n",
       "\u001B[4;7mwarning: Unused variable\u001B[0m\n",
       "\u001B[4;7m    ┌─ /home/runner/work/spiral/polyglot/target/spiral_Eval/packages/532f3d362e0f22f6712f0273d2676ae95ea070601f503bd11f3a6e99a42a4962/src/main.gleam:855:19\u001B[0m\n",
       "\u001B[4;7m    │\u001B[0m\n",
       "\u001B[4;7m855 │             Us0i1(v613) -> { // Error\u001B[0m\n",
       "\u001B[4;7m    │                   ^^^^ This variable is never used\u001B[0m\n",
       "\u001B[4;7m\u001B[0m\n",
       "\u001B[4;7mHint: You can ignore it with an underscore: `_v613`.\u001B[0m\n",
       "\u001B[4;7m\u001B[0m\n",
       "\u001B[4;7mwarning: Unused variable\u001B[0m\n",
       "\u001B[4;7m    ┌─ /home/runner/work/spiral/polyglot/target/spiral_Eval/packages/532f3d362e0f22f6712f0273d2676ae95ea070601f503bd11f3a6e99a42a4962/src/main.gleam:937:19\u001B[0m\n",
       "\u001B[4;7m    │\u001B[0m\n",
       "\u001B[4;7m937 │             Us0i0(v608, v609, v610, v611, v612) -> { // Ok\u001B[0m\n",
       "\u001B[4;7m    │                   ^^^^ This variable is never used\u001B[0m\n",
       "\u001B[4;7m\u001B[0m\n",
       "\u001B[4;7mHint: You can ignore it with an underscore: `_v608`.\u001B[0m\n",
       "\u001B[4;7m\u001B[0m\n",
       "\u001B[4;7mwarning: Unused variable\u001B[0m\n",
       "\u001B[4;7m    ┌─ /home/runner/work/spiral/polyglot/target/spiral_Eval/packages/532f3d362e0f22f6712f0273d2676ae95ea070601f503bd11f3a6e99a42a4962/src/main.gleam:937:25\u001B[0m\n",
       "\u001B[4;7m    │\u001B[0m\n",
       "\u001B[4;7m937 │             Us0i0(v608, v609, v610, v611, v612) -> { // Ok\u001B[0m\n",
       "\u001B[4;7m    │                         ^^^^ This variable is never used\u001B[0m\n",
       "\u001B[4;7m\u001B[0m\n",
       "\u001B[4;7mHint: You can ignore it with an underscore: `_v609`.\u001B[0m\n",
       "\u001B[4;7m\u001B[0m\n",
       "\u001B[4;7mwarning: Unused variable\u001B[0m\n",
       "\u001B[4;7m    ┌─ /home/runner/work/spiral/polyglot/target/spiral_Eval/packages/532f3d362e0f22f6712f0273d2676ae95ea070601f503bd11f3a6e99a42a4962/src/main.gleam:937:31\u001B[0m\n",
       "\u001B[4;7m    │\u001B[0m\n",
       "\u001B[4;7m937 │             Us0i0(v608, v609, v610, v611, v612) -> { // Ok\u001B[0m\n",
       "\u001B[4;7m    │                               ^^^^ This variable is never used\u001B[0m\n",
       "\u001B[4;7m\u001B[0m\n",
       "\u001B[4;7mHint: You can ignore it with an underscore: `_v610`.\u001B[0m\n",
       "\u001B[4;7m\u001B[0m\n",
       "\u001B[4;7mwarning: Unused variable\u001B[0m\n",
       "\u001B[4;7m    ┌─ /home/runner/work/spiral/polyglot/target/spiral_Eval/packages/532f3d362e0f22f6712f0273d2676ae95ea070601f503bd11f3a6e99a42a4962/src/main.gleam:937:37\u001B[0m\n",
       "\u001B[4;7m    │\u001B[0m\n",
       "\u001B[4;7m937 │             Us0i0(v608, v609, v610, v611, v612) -> { // Ok\u001B[0m\n",
       "\u001B[4;7m    │                                     ^^^^ This variable is never used\u001B[0m\n",
       "\u001B[4;7m\u001B[0m\n",
       "\u001B[4;7mHint: You can ignore it with an underscore: `_v611`.\u001B[0m\n",
       "\u001B[4;7m\u001B[0m\n",
       "\u001B[4;7mwarning: Unused variable\u001B[0m\n",
       "\u001B[4;7m    ┌─ /home/runner/work/spiral/polyglot/target/spiral_Eval/packages/532f3d362e0f22f6712f0273d2676ae95ea070601f503bd11f3a6e99a42a4962/src/main.gleam:937:43\u001B[0m\n",
       "\u001B[4;7m    │\u001B[0m\n",
       "\u001B[4;7m937 │             Us0i0(v608, v609, v610, v611, v612) -> { // Ok\u001B[0m\n",
       "\u001B[4;7m    │                                           ^^^^ This variable is never used\u001B[0m\n",
       "\u001B[4;7m\u001B[0m\n",
       "\u001B[4;7mHint: You can ignore it with an underscore: `_v612`.\u001B[0m\n",
       "\u001B[4;7m\u001B[0m\n",
       "\u001B[4;7mwarning: Unused variable\u001B[0m\n",
       "\u001B[4;7m     ┌─ /home/runner/work/spiral/polyglot/target/spiral_Eval/packages/532f3d362e0f22f6712f0273d2676ae95ea070601f503bd11f3a6e99a42a4962/src/main.gleam:1080:19\u001B[0m\n",
       "\u001B[4;7m     │\u001B[0m\n",
       "\u001B[4;7m1080 │             Us0i1(v1030) -> { // Error\u001B[0m\n",
       "\u001B[4;7m     │                   ^^^^^ This variable is never used\u001B[0m\n",
       "\u001B[4;7m\u001B[0m\n",
       "\u001B[4;7mHint: You can ignore it with an underscore: `_v1030`.\u001B[0m\n",
       "\u001B[4;7m\u001B[0m\n",
       "\u001B[4;7mwarning: Unused variable\u001B[0m\n",
       "\u001B[4;7m     ┌─ /home/runner/work/spiral/polyglot/target/spiral_Eval/packages/532f3d362e0f22f6712f0273d2676ae95ea070601f503bd11f3a6e99a42a4962/src/main.gleam:1162:19\u001B[0m\n",
       "\u001B[4;7m     │\u001B[0m\n",
       "\u001B[4;7m1162 │             Us0i0(v1025, v1026, v1027, v1028, v1029) -> { // Ok\u001B[0m\n",
       "\u001B[4;7m     │                   ^^^^^ This variable is never used\u001B[0m\n",
       "\u001B[4;7m\u001B[0m\n",
       "\u001B[4;7mHint: You can ignore it with an underscore: `_v1025`.\u001B[0m\n",
       "\u001B[4;7m\u001B[0m\n",
       "\u001B[4;7mwarning: Unused variable\u001B[0m\n",
       "\u001B[4;7m     ┌─ /home/runner/work/spiral/polyglot/target/spiral_Eval/packages/532f3d362e0f22f6712f0273d2676ae95ea070601f503bd11f3a6e99a42a4962/src/main.gleam:1162:26\u001B[0m\n",
       "\u001B[4;7m     │\u001B[0m\n",
       "\u001B[4;7m1162 │             Us0i0(v1025, v1026, v1027, v1028, v1029) -> { // Ok\u001B[0m\n",
       "\u001B[4;7m     │                          ^^^^^ This variable is never used\u001B[0m\n",
       "\u001B[4;7m\u001B[0m\n",
       "\u001B[4;7mHint: You can ignore it with an underscore: `_v1026`.\u001B[0m\n",
       "\u001B[4;7m\u001B[0m\n",
       "\u001B[4;7mwarning: Unused variable\u001B[0m\n",
       "\u001B[4;7m     ┌─ /home/runner/work/spiral/polyglot/target/spiral_Eval/packages/532f3d362e0f22f6712f0273d2676ae95ea070601f503bd11f3a6e99a42a4962/src/main.gleam:1162:33\u001B[0m\n",
       "\u001B[4;7m     │\u001B[0m\n",
       "\u001B[4;7m1162 │             Us0i0(v1025, v1026, v1027, v1028, v1029) -> { // Ok\u001B[0m\n",
       "\u001B[4;7m     │                                 ^^^^^ This variable is never used\u001B[0m\n",
       "\u001B[4;7m\u001B[0m\n",
       "\u001B[4;7mHint: You can ignore it with an underscore: `_v1027`.\u001B[0m\n",
       "\u001B[4;7m\u001B[0m\n",
       "\u001B[4;7mwarning: Unused variable\u001B[0m\n",
       "\u001B[4;7m     ┌─ /home/runner/work/spiral/polyglot/target/spiral_Eval/packages/532f3d362e0f22f6712f0273d2676ae95ea070601f503bd11f3a6e99a42a4962/src/main.gleam:1162:40\u001B[0m\n",
       "\u001B[4;7m     │\u001B[0m\n",
       "\u001B[4;7m1162 │             Us0i0(v1025, v1026, v1027, v1028, v1029) -> { // Ok\u001B[0m\n",
       "\u001B[4;7m     │                                        ^^^^^ This variable is never used\u001B[0m\n",
       "\u001B[4;7m\u001B[0m\n",
       "\u001B[4;7mHint: You can ignore it with an underscore: `_v1028`.\u001B[0m\n",
       "\u001B[4;7m\u001B[0m\n",
       "\u001B[4;7mwarning: Unused variable\u001B[0m\n",
       "\u001B[4;7m     ┌─ /home/runner/work/spiral/polyglot/target/spiral_Eval/packages/532f3d362e0f22f6712f0273d2676ae95ea070601f503bd11f3a6e99a42a4962/src/main.gleam:1162:47\u001B[0m\n",
       "\u001B[4;7m     │\u001B[0m\n",
       "\u001B[4;7m1162 │             Us0i0(v1025, v1026, v1027, v1028, v1029) -> { // Ok\u001B[0m\n",
       "\u001B[4;7m     │                                               ^^^^^ This variable is never used\u001B[0m\n",
       "\u001B[4;7m\u001B[0m\n",
       "\u001B[4;7mHint: You can ignore it with an underscore: `_v1029`.\u001B[0m\n",
       "\u001B[4;7m\u001B[0m\n",
       "{compiling,\"/home/runner/work/spiral/polyglot/target/spiral_Eval/packages/532f3d362e0f22f6712f0273d2676ae95ea070601f503bd11f3a6e99a42a4962/build/dev/erlang/main/_gleam_artefacts/main@@main.erl\"}\n",
       "{compiling,\"/home/runner/work/spiral/polyglot/target/spiral_Eval/packages/532f3d362e0f22f6712f0273d2676ae95ea070601f503bd11f3a6e99a42a4962/build/dev/erlang/main/_gleam_artefacts/main.erl\"}\n",
       "{compiled,main@@main,\n",
       "          \"/home/runner/work/spiral/polyglot/target/spiral_Eval/packages/532f3d362e0f22f6712f0273d2676ae95ea070601f503bd11f3a6e99a42a4962/build/dev/erlang/main/ebin/main@@main.beam\"}\n",
       "{compiled,main,\n",
       "          \"/home/runner/work/spiral/polyglot/target/spiral_Eval/packages/532f3d362e0f22f6712f0273d2676ae95ea070601f503bd11f3a6e99a42a4962/build/dev/erlang/main/ebin/main.beam\"}\n",
       "{ name = __assert_eq; actual = #(Uh0i1(\"a\", Uh0i1(\"a\", Uh0i1(\"a\", Uh0i1(\"b\", Uh0i1(\"b\", Uh0i0))))), \"c\", \"aaabb\", 1, 6); expected = #(Uh0i1(\"a\", Uh0i1(\"a\", Uh0i1(\"a\", Uh0i1(\"b\", Uh0i1(\"b\", Uh0i0))))), \"c\", \"aaabb\", 1, 6) }\n",
       "{ name = __assert_eq; actual = #(Uh0i1(\"b\", Uh0i0), \"cc\", \"b\", 1, 2); expected = #(Uh0i1(\"b\", Uh0i0), \"cc\", \"b\", 1, 2) }\n",
       "{ name = __assert_eq; actual = Us1i1(\"parsing.p_char / { expected = b; line = 1; col = 1 }\\ncba\\n^\\n\"); expected = Us1i1(\"parsing.p_char / { expected = b; line = 1; col = 1 }\\ncba\\n^\\n\") }\n",
       "\n",
       "\n"
      ]
     },
     "metadata": {},
     "output_type": "display_data"
    },
    {
     "name": "stdout",
     "output_type": "stream",
     "text": [
      ".fsx output:\n",
      "{ name = __assert_eq; actual = struct (UH0_1 ('a', UH0_1 ('a', UH0_1 ('a', UH0_1 ('b', UH0_1 ('b', UH0_0))))),\n",
      "        \"c\", aaabb, 1, 6); expected = struct (UH0_1 ('a', UH0_1 ('a', UH0_1 ('a', UH0_1 ('b', UH0_1 ('b', UH0_0))))),\n",
      "        \"c\", aaabb, 1, 6) }\n",
      "{ name = __assert_eq; actual = struct (UH0_1 ('b', UH0_0), \"cc\", b, 1, 2); expected = struct (UH0_1 ('b', UH0_0), \"cc\", b, 1, 2) }\n",
      "{ name = __assert_eq; actual = US1_1 \"parsing.p_char / { expected = b; line = 1; col = 1 }\n",
      "cba\n",
      "^\n",
      "\"; expected = US1_1 \"parsing.p_char / { expected = b; line = 1; col = 1 }\n",
      "cba\n",
      "^\n",
      "\" }\n"
     ]
    }
   ],
   "source": [
    "//// test\n",
    "///! gleam\n",
    "///! fsharp\n",
    "///! cuda\n",
    "///! typescript\n",
    "\n",
    "\"aaabbc\"\n",
    "|> parse (many1 (p_char 'a' <|> p_char 'b'))\n",
    "|> resultm.get\n",
    "|> sm'.format_debug\n",
    "|> _assert_eq (\n",
    "    (\n",
    "        ['a'; 'a'; 'a'; 'b'; 'b'],\n",
    "        \"c\",\n",
    "        { line_text = \"aaabb\" |> sm'.string_builder; position = { line = 1i32; col = 6i32 } }\n",
    "    )\n",
    "    |> sm'.format_debug\n",
    ")\n",
    "\n",
    "\"bcc\"\n",
    "|> parse (many1 (p_char 'a' <|> p_char 'b'))\n",
    "|> resultm.get\n",
    "|> sm'.format_debug\n",
    "|> _assert_eq (\n",
    "    (['b'], \"cc\", { line_text = \"b\" |> sm'.string_builder; position = { line = 1i32; col = 2i32 } })\n",
    "    |> sm'.format_debug\n",
    ")\n",
    "\n",
    "\"cba\"\n",
    "|> parse (many1 (p_char 'a' <|> p_char 'b'))\n",
    "|> _assert_eq (Error \"parsing.p_char / { expected = b; line = 1; col = 1 }\\ncba\\n^\\n\")"
   ]
  },
  {
   "cell_type": "markdown",
   "metadata": {},
   "source": [
    "### many1_strings"
   ]
  },
  {
   "cell_type": "code",
   "execution_count": null,
   "metadata": {
    "dotnet_interactive": {
     "language": "spiral"
    },
    "polyglot_notebook": {
     "kernelName": "spiral"
    }
   },
   "outputs": [],
   "source": [
    "inl many1_strings p : parser string =\n",
    "    many1 p >> resultm.map fun results, rest =>\n",
    "        results\n",
    "        |> listm.map sm'.obj_to_string\n",
    "        |> listm'.box\n",
    "        |> seq.of_list'\n",
    "        |> sm'.concat \"\",\n",
    "        rest"
   ]
  },
  {
   "cell_type": "code",
   "execution_count": null,
   "metadata": {
    "dotnet_interactive": {
     "language": "spiral"
    },
    "polyglot_notebook": {
     "kernelName": "spiral"
    }
   },
   "outputs": [
    {
     "data": {
      "text/plain": [
       ".py output (Python):\n",
       "{ name = __assert_eq; actual = ('aaabb', 'c', aaabb, 1, 6); expected = ('aaabb', 'c', aaabb, 1, 6) }\n",
       "\n",
       ".ts output:\n",
       "{ name = __assert_eq; actual = aaabb,c,aaabb,1,6; expected = aaabb,c,aaabb,1,6 }\n",
       "\n",
       "\n",
       ".gleam output (Gleam):\n",
       "\u001B[4;7mwarning: Unused variable\u001B[0m\n",
       "\u001B[4;7m    ┌─ /home/runner/work/spiral/polyglot/target/spiral_Eval/packages/8804e5affd693b7776f9144ba93377494041e3036cd0b5777ad49492bd405892/src/main.gleam:310:19\u001B[0m\n",
       "\u001B[4;7m    │\u001B[0m\n",
       "\u001B[4;7m310 │             Us0i1(v169) -> { // Error\u001B[0m\n",
       "\u001B[4;7m    │                   ^^^^ This variable is never used\u001B[0m\n",
       "\u001B[4;7m\u001B[0m\n",
       "\u001B[4;7mHint: You can ignore it with an underscore: `_v169`.\u001B[0m\n",
       "\u001B[4;7m\u001B[0m\n",
       "\u001B[4;7mwarning: Unused variable\u001B[0m\n",
       "\u001B[4;7m    ┌─ /home/runner/work/spiral/polyglot/target/spiral_Eval/packages/8804e5affd693b7776f9144ba93377494041e3036cd0b5777ad49492bd405892/src/main.gleam:391:19\u001B[0m\n",
       "\u001B[4;7m    │\u001B[0m\n",
       "\u001B[4;7m391 │             Us0i0(v164, v165, v166, v167, v168) -> { // Ok\u001B[0m\n",
       "\u001B[4;7m    │                   ^^^^ This variable is never used\u001B[0m\n",
       "\u001B[4;7m\u001B[0m\n",
       "\u001B[4;7mHint: You can ignore it with an underscore: `_v164`.\u001B[0m\n",
       "\u001B[4;7m\u001B[0m\n",
       "\u001B[4;7mwarning: Unused variable\u001B[0m\n",
       "\u001B[4;7m    ┌─ /home/runner/work/spiral/polyglot/target/spiral_Eval/packages/8804e5affd693b7776f9144ba93377494041e3036cd0b5777ad49492bd405892/src/main.gleam:391:25\u001B[0m\n",
       "\u001B[4;7m    │\u001B[0m\n",
       "\u001B[4;7m391 │             Us0i0(v164, v165, v166, v167, v168) -> { // Ok\u001B[0m\n",
       "\u001B[4;7m    │                         ^^^^ This variable is never used\u001B[0m\n",
       "\u001B[4;7m\u001B[0m\n",
       "\u001B[4;7mHint: You can ignore it with an underscore: `_v165`.\u001B[0m\n",
       "\u001B[4;7m\u001B[0m\n",
       "\u001B[4;7mwarning: Unused variable\u001B[0m\n",
       "\u001B[4;7m    ┌─ /home/runner/work/spiral/polyglot/target/spiral_Eval/packages/8804e5affd693b7776f9144ba93377494041e3036cd0b5777ad49492bd405892/src/main.gleam:391:31\u001B[0m\n",
       "\u001B[4;7m    │\u001B[0m\n",
       "\u001B[4;7m391 │             Us0i0(v164, v165, v166, v167, v168) -> { // Ok\u001B[0m\n",
       "\u001B[4;7m    │                               ^^^^ This variable is never used\u001B[0m\n",
       "\u001B[4;7m\u001B[0m\n",
       "\u001B[4;7mHint: You can ignore it with an underscore: `_v166`.\u001B[0m\n",
       "\u001B[4;7m\u001B[0m\n",
       "\u001B[4;7mwarning: Unused variable\u001B[0m\n",
       "\u001B[4;7m    ┌─ /home/runner/work/spiral/polyglot/target/spiral_Eval/packages/8804e5affd693b7776f9144ba93377494041e3036cd0b5777ad49492bd405892/src/main.gleam:391:37\u001B[0m\n",
       "\u001B[4;7m    │\u001B[0m\n",
       "\u001B[4;7m391 │             Us0i0(v164, v165, v166, v167, v168) -> { // Ok\u001B[0m\n",
       "\u001B[4;7m    │                                     ^^^^ This variable is never used\u001B[0m\n",
       "\u001B[4;7m\u001B[0m\n",
       "\u001B[4;7mHint: You can ignore it with an underscore: `_v167`.\u001B[0m\n",
       "\u001B[4;7m\u001B[0m\n",
       "\u001B[4;7mwarning: Unused variable\u001B[0m\n",
       "\u001B[4;7m    ┌─ /home/runner/work/spiral/polyglot/target/spiral_Eval/packages/8804e5affd693b7776f9144ba93377494041e3036cd0b5777ad49492bd405892/src/main.gleam:391:43\u001B[0m\n",
       "\u001B[4;7m    │\u001B[0m\n",
       "\u001B[4;7m391 │             Us0i0(v164, v165, v166, v167, v168) -> { // Ok\u001B[0m\n",
       "\u001B[4;7m    │                                           ^^^^ This variable is never used\u001B[0m\n",
       "\u001B[4;7m\u001B[0m\n",
       "\u001B[4;7mHint: You can ignore it with an underscore: `_v168`.\u001B[0m\n",
       "\u001B[4;7m\u001B[0m\n",
       "\u001B[4;7mwarning: Unused variable\u001B[0m\n",
       "\u001B[4;7m    ┌─ /home/runner/work/spiral/polyglot/target/spiral_Eval/packages/8804e5affd693b7776f9144ba93377494041e3036cd0b5777ad49492bd405892/src/main.gleam:396:15\u001B[0m\n",
       "\u001B[4;7m    │\u001B[0m\n",
       "\u001B[4;7m396 │         Us0i1(v341) -> { // Error\u001B[0m\n",
       "\u001B[4;7m    │               ^^^^ This variable is never used\u001B[0m\n",
       "\u001B[4;7m\u001B[0m\n",
       "\u001B[4;7mHint: You can ignore it with an underscore: `_v341`.\u001B[0m\n",
       "\u001B[4;7m\u001B[0m\n",
       "\u001B[4;7mwarning: Unused variable\u001B[0m\n",
       "\u001B[4;7m    ┌─ /home/runner/work/spiral/polyglot/target/spiral_Eval/packages/8804e5affd693b7776f9144ba93377494041e3036cd0b5777ad49492bd405892/src/main.gleam:590:19\u001B[0m\n",
       "\u001B[4;7m    │\u001B[0m\n",
       "\u001B[4;7m590 │             Us0i1(v183) -> { // Error\u001B[0m\n",
       "\u001B[4;7m    │                   ^^^^ This variable is never used\u001B[0m\n",
       "\u001B[4;7m\u001B[0m\n",
       "\u001B[4;7mHint: You can ignore it with an underscore: `_v183`.\u001B[0m\n",
       "\u001B[4;7m\u001B[0m\n",
       "\u001B[4;7mwarning: Unused variable\u001B[0m\n",
       "\u001B[4;7m    ┌─ /home/runner/work/spiral/polyglot/target/spiral_Eval/packages/8804e5affd693b7776f9144ba93377494041e3036cd0b5777ad49492bd405892/src/main.gleam:672:19\u001B[0m\n",
       "\u001B[4;7m    │\u001B[0m\n",
       "\u001B[4;7m672 │             Us0i0(v178, v179, v180, v181, v182) -> { // Ok\u001B[0m\n",
       "\u001B[4;7m    │                   ^^^^ This variable is never used\u001B[0m\n",
       "\u001B[4;7m\u001B[0m\n",
       "\u001B[4;7mHint: You can ignore it with an underscore: `_v178`.\u001B[0m\n",
       "\u001B[4;7m\u001B[0m\n",
       "\u001B[4;7mwarning: Unused variable\u001B[0m\n",
       "\u001B[4;7m    ┌─ /home/runner/work/spiral/polyglot/target/spiral_Eval/packages/8804e5affd693b7776f9144ba93377494041e3036cd0b5777ad49492bd405892/src/main.gleam:672:25\u001B[0m\n",
       "\u001B[4;7m    │\u001B[0m\n",
       "\u001B[4;7m672 │             Us0i0(v178, v179, v180, v181, v182) -> { // Ok\u001B[0m\n",
       "\u001B[4;7m    │                         ^^^^ This variable is never used\u001B[0m\n",
       "\u001B[4;7m\u001B[0m\n",
       "\u001B[4;7mHint: You can ignore it with an underscore: `_v179`.\u001B[0m\n",
       "\u001B[4;7m\u001B[0m\n",
       "\u001B[4;7mwarning: Unused variable\u001B[0m\n",
       "\u001B[4;7m    ┌─ /home/runner/work/spiral/polyglot/target/spiral_Eval/packages/8804e5affd693b7776f9144ba93377494041e3036cd0b5777ad49492bd405892/src/main.gleam:672:31\u001B[0m\n",
       "\u001B[4;7m    │\u001B[0m\n",
       "\u001B[4;7m672 │             Us0i0(v178, v179, v180, v181, v182) -> { // Ok\u001B[0m\n",
       "\u001B[4;7m    │                               ^^^^ This variable is never used\u001B[0m\n",
       "\u001B[4;7m\u001B[0m\n",
       "\u001B[4;7mHint: You can ignore it with an underscore: `_v180`.\u001B[0m\n",
       "\u001B[4;7m\u001B[0m\n",
       "\u001B[4;7mwarning: Unused variable\u001B[0m\n",
       "\u001B[4;7m    ┌─ /home/runner/work/spiral/polyglot/target/spiral_Eval/packages/8804e5affd693b7776f9144ba93377494041e3036cd0b5777ad49492bd405892/src/main.gleam:672:37\u001B[0m\n",
       "\u001B[4;7m    │\u001B[0m\n",
       "\u001B[4;7m672 │             Us0i0(v178, v179, v180, v181, v182) -> { // Ok\u001B[0m\n",
       "\u001B[4;7m    │                                     ^^^^ This variable is never used\u001B[0m\n",
       "\u001B[4;7m\u001B[0m\n",
       "\u001B[4;7mHint: You can ignore it with an underscore: `_v181`.\u001B[0m\n",
       "\u001B[4;7m\u001B[0m\n",
       "\u001B[4;7mwarning: Unused variable\u001B[0m\n",
       "\u001B[4;7m    ┌─ /home/runner/work/spiral/polyglot/target/spiral_Eval/packages/8804e5affd693b7776f9144ba93377494041e3036cd0b5777ad49492bd405892/src/main.gleam:672:43\u001B[0m\n",
       "\u001B[4;7m    │\u001B[0m\n",
       "\u001B[4;7m672 │             Us0i0(v178, v179, v180, v181, v182) -> { // Ok\u001B[0m\n",
       "\u001B[4;7m    │                                           ^^^^ This variable is never used\u001B[0m\n",
       "\u001B[4;7m\u001B[0m\n",
       "\u001B[4;7mHint: You can ignore it with an underscore: `_v182`.\u001B[0m\n",
       "\u001B[4;7m\u001B[0m\n",
       "{compiling,\"/home/runner/work/spiral/polyglot/target/spiral_Eval/packages/8804e5affd693b7776f9144ba93377494041e3036cd0b5777ad49492bd405892/build/dev/erlang/main/_gleam_artefacts/main@@main.erl\"}\n",
       "{compiling,\"/home/runner/work/spiral/polyglot/target/spiral_Eval/packages/8804e5affd693b7776f9144ba93377494041e3036cd0b5777ad49492bd405892/build/dev/erlang/main/_gleam_artefacts/main.erl\"}\n",
       "{compiled,main@@main,\n",
       "          \"/home/runner/work/spiral/polyglot/target/spiral_Eval/packages/8804e5affd693b7776f9144ba93377494041e3036cd0b5777ad49492bd405892/build/dev/erlang/main/ebin/main@@main.beam\"}\n",
       "{compiled,main,\n",
       "          \"/home/runner/work/spiral/polyglot/target/spiral_Eval/packages/8804e5affd693b7776f9144ba93377494041e3036cd0b5777ad49492bd405892/build/dev/erlang/main/ebin/main.beam\"}\n",
       "{ name = __assert_eq; actual = #(\"aaabb\", \"c\", \"aaabb\", 1, 6); expected = #(\"aaabb\", \"c\", \"aaabb\", 1, 6) }\n",
       "\n",
       "\n"
      ]
     },
     "metadata": {},
     "output_type": "display_data"
    },
    {
     "name": "stdout",
     "output_type": "stream",
     "text": [
      ".fsx output:\n",
      "{ name = __assert_eq; actual = struct (\"aaabb\", \"c\", aaabb, 1, 6); expected = struct (\"aaabb\", \"c\", aaabb, 1, 6) }\n"
     ]
    }
   ],
   "source": [
    "//// test\n",
    "///! gleam\n",
    "///! fsharp\n",
    "///! cuda\n",
    "///! typescript\n",
    "\n",
    "\"aaabbc\"\n",
    "|> parse (many1_strings (p_char 'a' <|> p_char 'b'))\n",
    "|> resultm.get\n",
    "|> sm'.format_debug\n",
    "|> _assert_eq (\n",
    "    (\"aaabb\", \"c\", { line_text = \"aaabb\" |> sm'.string_builder; position = { line = 1i32; col = 6i32 } })\n",
    "    |> sm'.format_debug\n",
    ")"
   ]
  },
  {
   "cell_type": "markdown",
   "metadata": {},
   "source": [
    "### many_strings"
   ]
  },
  {
   "cell_type": "code",
   "execution_count": null,
   "metadata": {
    "dotnet_interactive": {
     "language": "spiral"
    },
    "polyglot_notebook": {
     "kernelName": "spiral"
    }
   },
   "outputs": [],
   "source": [
    "inl many_strings p : parser string = fun input =>\n",
    "    match many p input with\n",
    "    | Ok (results, rest) =>\n",
    "        Ok (results |> listm.map sm'.obj_to_string |> listm'.box |> seq.of_list' |> sm'.concat \"\", rest)\n",
    "    | Error e => Ok (\"\", input)"
   ]
  },
  {
   "cell_type": "markdown",
   "metadata": {},
   "source": [
    "### choice"
   ]
  },
  {
   "cell_type": "code",
   "execution_count": null,
   "metadata": {
    "dotnet_interactive": {
     "language": "spiral"
    },
    "polyglot_notebook": {
     "kernelName": "spiral"
    }
   },
   "outputs": [],
   "source": [
    "// inl choice parsers : parser _ = fun input =>\n",
    "inl choice forall t. parsers : parser t = fun input =>\n",
    "    // let rec loop = function\n",
    "    let rec loop forall a. (x : list (string * parser_state -> result a string)) : result a string =\n",
    "        match x with\n",
    "        | [] => Error \"parsing.choice / no parsers succeeded\"\n",
    "        | p :: ps =>\n",
    "            match p input with\n",
    "            | Ok _ as result => result\n",
    "            | Error _ => loop ps\n",
    "    loop parsers"
   ]
  },
  {
   "cell_type": "code",
   "execution_count": null,
   "metadata": {
    "dotnet_interactive": {
     "language": "spiral"
    },
    "polyglot_notebook": {
     "kernelName": "spiral"
    }
   },
   "outputs": [
    {
     "data": {
      "text/plain": [
       "\n",
       ".py output (Python):\n",
       "{ name = __assert_eq; actual = ('b', 'ca', b, 1, 2); expected = ('b', 'ca', b, 1, 2) }\n",
       "{ name = __assert_eq; actual = ('c', 'ba', c, 1, 2); expected = ('c', 'ba', c, 1, 2) }\n",
       "\n",
       "\n",
       ".ts output:\n",
       "{ name = __assert_eq; actual = b,ca,b,1,2; expected = b,ca,b,1,2 }\n",
       "{ name = __assert_eq; actual = c,ba,c,1,2; expected = c,ba,c,1,2 }\n",
       "\n",
       "\n",
       ".gleam output (Gleam):\n",
       "\u001B[4;7mwarning: Unused variable\u001B[0m\n",
       "\u001B[4;7m    ┌─ /home/runner/work/spiral/polyglot/target/spiral_Eval/packages/e9d8336149b6373d0cc01c673859947c378d4304dbc40d47216f2e40105ec4cd/src/main.gleam:461:23\u001B[0m\n",
       "\u001B[4;7m    │\u001B[0m\n",
       "\u001B[4;7m461 │                 Us0i1(v13) -> { // Error\u001B[0m\n",
       "\u001B[4;7m    │                       ^^^ This variable is never used\u001B[0m\n",
       "\u001B[4;7m\u001B[0m\n",
       "\u001B[4;7mHint: You can ignore it with an underscore: `_v13`.\u001B[0m\n",
       "\u001B[4;7m\u001B[0m\n",
       "\u001B[4;7mwarning: Unused variable\u001B[0m\n",
       "\u001B[4;7m    ┌─ /home/runner/work/spiral/polyglot/target/spiral_Eval/packages/e9d8336149b6373d0cc01c673859947c378d4304dbc40d47216f2e40105ec4cd/src/main.gleam:464:23\u001B[0m\n",
       "\u001B[4;7m    │\u001B[0m\n",
       "\u001B[4;7m464 │                 Us0i0(v8, v9, v10, v11, v12) -> { // Ok\u001B[0m\n",
       "\u001B[4;7m    │                       ^^ This variable is never used\u001B[0m\n",
       "\u001B[4;7m\u001B[0m\n",
       "\u001B[4;7mHint: You can ignore it with an underscore: `_v8`.\u001B[0m\n",
       "\u001B[4;7m\u001B[0m\n",
       "\u001B[4;7mwarning: Unused variable\u001B[0m\n",
       "\u001B[4;7m    ┌─ /home/runner/work/spiral/polyglot/target/spiral_Eval/packages/e9d8336149b6373d0cc01c673859947c378d4304dbc40d47216f2e40105ec4cd/src/main.gleam:464:27\u001B[0m\n",
       "\u001B[4;7m    │\u001B[0m\n",
       "\u001B[4;7m464 │                 Us0i0(v8, v9, v10, v11, v12) -> { // Ok\u001B[0m\n",
       "\u001B[4;7m    │                           ^^ This variable is never used\u001B[0m\n",
       "\u001B[4;7m\u001B[0m\n",
       "\u001B[4;7mHint: You can ignore it with an underscore: `_v9`.\u001B[0m\n",
       "\u001B[4;7m\u001B[0m\n",
       "\u001B[4;7mwarning: Unused variable\u001B[0m\n",
       "\u001B[4;7m    ┌─ /home/runner/work/spiral/polyglot/target/spiral_Eval/packages/e9d8336149b6373d0cc01c673859947c378d4304dbc40d47216f2e40105ec4cd/src/main.gleam:464:31\u001B[0m\n",
       "\u001B[4;7m    │\u001B[0m\n",
       "\u001B[4;7m464 │                 Us0i0(v8, v9, v10, v11, v12) -> { // Ok\u001B[0m\n",
       "\u001B[4;7m    │                               ^^^ This variable is never used\u001B[0m\n",
       "\u001B[4;7m\u001B[0m\n",
       "\u001B[4;7mHint: You can ignore it with an underscore: `_v10`.\u001B[0m\n",
       "\u001B[4;7m\u001B[0m\n",
       "\u001B[4;7mwarning: Unused variable\u001B[0m\n",
       "\u001B[4;7m    ┌─ /home/runner/work/spiral/polyglot/target/spiral_Eval/packages/e9d8336149b6373d0cc01c673859947c378d4304dbc40d47216f2e40105ec4cd/src/main.gleam:464:36\u001B[0m\n",
       "\u001B[4;7m    │\u001B[0m\n",
       "\u001B[4;7m464 │                 Us0i0(v8, v9, v10, v11, v12) -> { // Ok\u001B[0m\n",
       "\u001B[4;7m    │                                    ^^^ This variable is never used\u001B[0m\n",
       "\u001B[4;7m\u001B[0m\n",
       "\u001B[4;7mHint: You can ignore it with an underscore: `_v11`.\u001B[0m\n",
       "\u001B[4;7m\u001B[0m\n",
       "\u001B[4;7mwarning: Unused variable\u001B[0m\n",
       "\u001B[4;7m    ┌─ /home/runner/work/spiral/polyglot/target/spiral_Eval/packages/e9d8336149b6373d0cc01c673859947c378d4304dbc40d47216f2e40105ec4cd/src/main.gleam:464:41\u001B[0m\n",
       "\u001B[4;7m    │\u001B[0m\n",
       "\u001B[4;7m464 │                 Us0i0(v8, v9, v10, v11, v12) -> { // Ok\u001B[0m\n",
       "\u001B[4;7m    │                                         ^^^ This variable is never used\u001B[0m\n",
       "\u001B[4;7m\u001B[0m\n",
       "\u001B[4;7mHint: You can ignore it with an underscore: `_v12`.\u001B[0m\n",
       "\u001B[4;7m\u001B[0m\n",
       "{compiling,\"/home/runner/work/spiral/polyglot/target/spiral_Eval/packages/e9d8336149b6373d0cc01c673859947c378d4304dbc40d47216f2e40105ec4cd/build/dev/erlang/main/_gleam_artefacts/main.erl\"}\n",
       "{compiling,\"/home/runner/work/spiral/polyglot/target/spiral_Eval/packages/e9d8336149b6373d0cc01c673859947c378d4304dbc40d47216f2e40105ec4cd/build/dev/erlang/main/_gleam_artefacts/main@@main.erl\"}\n",
       "{compiled,main@@main,\n",
       "          \"/home/runner/work/spiral/polyglot/target/spiral_Eval/packages/e9d8336149b6373d0cc01c673859947c378d4304dbc40d47216f2e40105ec4cd/build/dev/erlang/main/ebin/main@@main.beam\"}\n",
       "{compiled,main,\n",
       "          \"/home/runner/work/spiral/polyglot/target/spiral_Eval/packages/e9d8336149b6373d0cc01c673859947c378d4304dbc40d47216f2e40105ec4cd/build/dev/erlang/main/ebin/main.beam\"}\n",
       "{ name = __assert_eq; actual = #(\"b\", \"ca\", \"b\", 1, 2); expected = #(\"b\", \"ca\", \"b\", 1, 2) }\n",
       "{ name = __assert_eq; actual = #(\"c\", \"ba\", \"c\", 1, 2); expected = #(\"c\", \"ba\", \"c\", 1, 2) }\n",
       "\n",
       "\n"
      ]
     },
     "metadata": {},
     "output_type": "display_data"
    },
    {
     "name": "stdout",
     "output_type": "stream",
     "text": [
      ".fsx output:\n",
      "{ name = __assert_eq; actual = struct ('b', \"ca\", b, 1, 2); expected = struct ('b', \"ca\", b, 1, 2) }\n",
      "{ name = __assert_eq; actual = struct ('c', \"ba\", c, 1, 2); expected = struct ('c', \"ba\", c, 1, 2) }\n"
     ]
    }
   ],
   "source": [
    "//// test\n",
    "///! gleam\n",
    "///! fsharp\n",
    "///! cuda\n",
    "///! typescript\n",
    "\n",
    "\"bca\"\n",
    "|> parse (choice [ p_char 'a'; p_char 'b'; p_char 'c' ])\n",
    "|> resultm.get\n",
    "|> sm'.format_debug\n",
    "|> _assert_eq (\n",
    "    ('b', \"ca\", { line_text = \"b\" |> sm'.string_builder; position = { line = 1i32; col = 2i32 } })\n",
    "    |> sm'.format_debug\n",
    ")\n",
    "\n",
    "\"cba\"\n",
    "|> parse (choice [ p_char 'a'; p_char 'b'; p_char 'c' ])\n",
    "|> resultm.get\n",
    "|> sm'.format_debug\n",
    "|> _assert_eq (\n",
    "    ('c', \"ba\", { line_text = \"c\" |> sm'.string_builder; position = { line = 1i32; col = 2i32 } })\n",
    "    |> sm'.format_debug\n",
    ")"
   ]
  },
  {
   "cell_type": "markdown",
   "metadata": {},
   "source": [
    "### between"
   ]
  },
  {
   "cell_type": "code",
   "execution_count": null,
   "metadata": {
    "dotnet_interactive": {
     "language": "spiral"
    },
    "polyglot_notebook": {
     "kernelName": "spiral"
    }
   },
   "outputs": [],
   "source": [
    "inl between p_open p_close p_content : parser _ = fun input =>\n",
    "    match p_open input with\n",
    "    | Ok (_, rest1) =>\n",
    "        match p_content rest1 with\n",
    "        | Ok (result, rest2) =>\n",
    "            match p_close rest2 with\n",
    "            | Ok (_, rest3) => Ok (result, rest3)\n",
    "            | Error e =>\n",
    "                \"parsing.between / expected closing delimiter / \" ++# ({ e input rest1 rest2 } |> sm'.format)\n",
    "                |> Error\n",
    "        | Error _ => Error \"parsing.between / expected content\"\n",
    "    | Error e => Error e"
   ]
  },
  {
   "cell_type": "code",
   "execution_count": null,
   "metadata": {
    "dotnet_interactive": {
     "language": "spiral"
    },
    "polyglot_notebook": {
     "kernelName": "spiral"
    }
   },
   "outputs": [
    {
     "data": {
      "text/plain": [
       "struct (\"Error in Ln: 1 Col: 7\n",
       "[aaabb\n",
       "      ^\n",
       "Note: The error occurred at the end of the input stream.\n",
       "Expecting: ']', 'a' or 'b'\n",
       "\",\n",
       "        Error in Ln: 1 Col: 7\n",
       "Expecting: ']', 'a' or 'b'\n",
       ")"
      ]
     },
     "metadata": {},
     "output_type": "display_data"
    }
   ],
   "source": [
    "//// test\n",
    "\n",
    "\"[aaabb\"\n",
    "|> parse_ (between_ (p_char_ '[') (p_char_ ']') (many1_chars_ (p_char_ 'a' <|>$ p_char_ 'b')))\n",
    "|> resultm.unwrap_err\n",
    "|> sm'.format_debug"
   ]
  },
  {
   "cell_type": "code",
   "execution_count": null,
   "metadata": {
    "dotnet_interactive": {
     "language": "spiral"
    },
    "polyglot_notebook": {
     "kernelName": "spiral"
    }
   },
   "outputs": [
    {
     "data": {
      "text/plain": [
       "\n",
       ".py output (Python):\n",
       "{ name = __assert_eq; actual = ('aaabb', '', [aaabb], 1, 8); expected = ('aaabb', '', [aaabb], 1, 8) }\n",
       "{ name = __assert_eq; actual = parsing.between / expected closing delimiter / { e = parsing.p_char / unexpected end of input / { c = ]; s = ([aaabb, 1, 7) }; input = [aaabb, ([aaabb, 1, 1); rest1 = aaabb, ([aaabb, 1, 2); rest2 = , ([aaabb, 1, 7) }; expected = parsing.between / expected closing delimiter / { e = parsing.p_char / unexpected end of input / { c = ]; s = ([aaabb, 1, 7) }; input = [aaabb, ([aaabb, 1, 1); rest1 = aaabb, ([aaabb, 1, 2); rest2 = , ([aaabb, 1, 7) } }\n",
       "\n",
       "\n",
       ".ts output:\n",
       "{ name = __assert_eq; actual = aaabb,,[aaabb],1,8; expected = aaabb,,[aaabb],1,8 }\n",
       "{ name = __assert_eq; actual = parsing.between / expected closing delimiter / { e = parsing.p_char / unexpected end of input / { c = ]; s = [aaabb,1,7 }; input = [aaabb, [aaabb,1,1; rest1 = aaabb, [aaabb,1,2; rest2 = , [aaabb,1,7 }; expected = parsing.between / expected closing delimiter / { e = parsing.p_char / unexpected end of input / { c = ]; s = [aaabb,1,7 }; input = [aaabb, [aaabb,1,1; rest1 = aaabb, [aaabb,1,2; rest2 = , [aaabb,1,7 } }\n",
       "\n",
       "\n",
       ".gleam output (Gleam):\n",
       "\u001B[4;7mwarning: Unused variable\u001B[0m\n",
       "\u001B[4;7m    ┌─ /home/runner/work/spiral/polyglot/target/spiral_Eval/packages/f99b028bcc765d7b0c1e7d33c37cd630fe513c7e1a5ba1d7cbca82157e75348d/src/main.gleam:291:19\u001B[0m\n",
       "\u001B[4;7m    │\u001B[0m\n",
       "\u001B[4;7m291 │             Us0i1(v169) -> { // Error\u001B[0m\n",
       "\u001B[4;7m    │                   ^^^^ This variable is never used\u001B[0m\n",
       "\u001B[4;7m\u001B[0m\n",
       "\u001B[4;7mHint: You can ignore it with an underscore: `_v169`.\u001B[0m\n",
       "\u001B[4;7m\u001B[0m\n",
       "\u001B[4;7mwarning: Unused variable\u001B[0m\n",
       "\u001B[4;7m    ┌─ /home/runner/work/spiral/polyglot/target/spiral_Eval/packages/f99b028bcc765d7b0c1e7d33c37cd630fe513c7e1a5ba1d7cbca82157e75348d/src/main.gleam:372:19\u001B[0m\n",
       "\u001B[4;7m    │\u001B[0m\n",
       "\u001B[4;7m372 │             Us0i0(v164, v165, v166, v167, v168) -> { // Ok\u001B[0m\n",
       "\u001B[4;7m    │                   ^^^^ This variable is never used\u001B[0m\n",
       "\u001B[4;7m\u001B[0m\n",
       "\u001B[4;7mHint: You can ignore it with an underscore: `_v164`.\u001B[0m\n",
       "\u001B[4;7m\u001B[0m\n",
       "\u001B[4;7mwarning: Unused variable\u001B[0m\n",
       "\u001B[4;7m    ┌─ /home/runner/work/spiral/polyglot/target/spiral_Eval/packages/f99b028bcc765d7b0c1e7d33c37cd630fe513c7e1a5ba1d7cbca82157e75348d/src/main.gleam:372:25\u001B[0m\n",
       "\u001B[4;7m    │\u001B[0m\n",
       "\u001B[4;7m372 │             Us0i0(v164, v165, v166, v167, v168) -> { // Ok\u001B[0m\n",
       "\u001B[4;7m    │                         ^^^^ This variable is never used\u001B[0m\n",
       "\u001B[4;7m\u001B[0m\n",
       "\u001B[4;7mHint: You can ignore it with an underscore: `_v165`.\u001B[0m\n",
       "\u001B[4;7m\u001B[0m\n",
       "\u001B[4;7mwarning: Unused variable\u001B[0m\n",
       "\u001B[4;7m    ┌─ /home/runner/work/spiral/polyglot/target/spiral_Eval/packages/f99b028bcc765d7b0c1e7d33c37cd630fe513c7e1a5ba1d7cbca82157e75348d/src/main.gleam:372:31\u001B[0m\n",
       "\u001B[4;7m    │\u001B[0m\n",
       "\u001B[4;7m372 │             Us0i0(v164, v165, v166, v167, v168) -> { // Ok\u001B[0m\n",
       "\u001B[4;7m    │                               ^^^^ This variable is never used\u001B[0m\n",
       "\u001B[4;7m\u001B[0m\n",
       "\u001B[4;7mHint: You can ignore it with an underscore: `_v166`.\u001B[0m\n",
       "\u001B[4;7m\u001B[0m\n",
       "\u001B[4;7mwarning: Unused variable\u001B[0m\n",
       "\u001B[4;7m    ┌─ /home/runner/work/spiral/polyglot/target/spiral_Eval/packages/f99b028bcc765d7b0c1e7d33c37cd630fe513c7e1a5ba1d7cbca82157e75348d/src/main.gleam:372:37\u001B[0m\n",
       "\u001B[4;7m    │\u001B[0m\n",
       "\u001B[4;7m372 │             Us0i0(v164, v165, v166, v167, v168) -> { // Ok\u001B[0m\n",
       "\u001B[4;7m    │                                     ^^^^ This variable is never used\u001B[0m\n",
       "\u001B[4;7m\u001B[0m\n",
       "\u001B[4;7mHint: You can ignore it with an underscore: `_v167`.\u001B[0m\n",
       "\u001B[4;7m\u001B[0m\n",
       "\u001B[4;7mwarning: Unused variable\u001B[0m\n",
       "\u001B[4;7m    ┌─ /home/runner/work/spiral/polyglot/target/spiral_Eval/packages/f99b028bcc765d7b0c1e7d33c37cd630fe513c7e1a5ba1d7cbca82157e75348d/src/main.gleam:372:43\u001B[0m\n",
       "\u001B[4;7m    │\u001B[0m\n",
       "\u001B[4;7m372 │             Us0i0(v164, v165, v166, v167, v168) -> { // Ok\u001B[0m\n",
       "\u001B[4;7m    │                                           ^^^^ This variable is never used\u001B[0m\n",
       "\u001B[4;7m\u001B[0m\n",
       "\u001B[4;7mHint: You can ignore it with an underscore: `_v168`.\u001B[0m\n",
       "\u001B[4;7m\u001B[0m\n",
       "\u001B[4;7mwarning: Unused variable\u001B[0m\n",
       "\u001B[4;7m    ┌─ /home/runner/work/spiral/polyglot/target/spiral_Eval/packages/f99b028bcc765d7b0c1e7d33c37cd630fe513c7e1a5ba1d7cbca82157e75348d/src/main.gleam:377:15\u001B[0m\n",
       "\u001B[4;7m    │\u001B[0m\n",
       "\u001B[4;7m377 │         Us0i1(v349) -> { // Error\u001B[0m\n",
       "\u001B[4;7m    │               ^^^^ This variable is never used\u001B[0m\n",
       "\u001B[4;7m\u001B[0m\n",
       "\u001B[4;7mHint: You can ignore it with an underscore: `_v349`.\u001B[0m\n",
       "\u001B[4;7m\u001B[0m\n",
       "\u001B[4;7mwarning: Unused variable\u001B[0m\n",
       "\u001B[4;7m    ┌─ /home/runner/work/spiral/polyglot/target/spiral_Eval/packages/f99b028bcc765d7b0c1e7d33c37cd630fe513c7e1a5ba1d7cbca82157e75348d/src/main.gleam:659:19\u001B[0m\n",
       "\u001B[4;7m    │\u001B[0m\n",
       "\u001B[4;7m659 │             Us0i0(v178, v179, v180, v181, v182) -> { // Ok\u001B[0m\n",
       "\u001B[4;7m    │                   ^^^^ This variable is never used\u001B[0m\n",
       "\u001B[4;7m\u001B[0m\n",
       "\u001B[4;7mHint: You can ignore it with an underscore: `_v178`.\u001B[0m\n",
       "\u001B[4;7m\u001B[0m\n",
       "\u001B[4;7mwarning: Unused variable\u001B[0m\n",
       "\u001B[4;7m    ┌─ /home/runner/work/spiral/polyglot/target/spiral_Eval/packages/f99b028bcc765d7b0c1e7d33c37cd630fe513c7e1a5ba1d7cbca82157e75348d/src/main.gleam:742:31\u001B[0m\n",
       "\u001B[4;7m    │\u001B[0m\n",
       "\u001B[4;7m742 │                         Us0i1(v346) -> { // Error\u001B[0m\n",
       "\u001B[4;7m    │                               ^^^^ This variable is never used\u001B[0m\n",
       "\u001B[4;7m\u001B[0m\n",
       "\u001B[4;7mHint: You can ignore it with an underscore: `_v346`.\u001B[0m\n",
       "\u001B[4;7m\u001B[0m\n",
       "\u001B[4;7mwarning: Unused variable\u001B[0m\n",
       "\u001B[4;7m    ┌─ /home/runner/work/spiral/polyglot/target/spiral_Eval/packages/f99b028bcc765d7b0c1e7d33c37cd630fe513c7e1a5ba1d7cbca82157e75348d/src/main.gleam:822:31\u001B[0m\n",
       "\u001B[4;7m    │\u001B[0m\n",
       "\u001B[4;7m822 │                         Us0i0(v341, v342, v343, v344, v345) -> { // Ok\u001B[0m\n",
       "\u001B[4;7m    │                               ^^^^ This variable is never used\u001B[0m\n",
       "\u001B[4;7m\u001B[0m\n",
       "\u001B[4;7mHint: You can ignore it with an underscore: `_v341`.\u001B[0m\n",
       "\u001B[4;7m\u001B[0m\n",
       "\u001B[4;7mwarning: Unused variable\u001B[0m\n",
       "\u001B[4;7m    ┌─ /home/runner/work/spiral/polyglot/target/spiral_Eval/packages/f99b028bcc765d7b0c1e7d33c37cd630fe513c7e1a5ba1d7cbca82157e75348d/src/main.gleam:822:37\u001B[0m\n",
       "\u001B[4;7m    │\u001B[0m\n",
       "\u001B[4;7m822 │                         Us0i0(v341, v342, v343, v344, v345) -> { // Ok\u001B[0m\n",
       "\u001B[4;7m    │                                     ^^^^ This variable is never used\u001B[0m\n",
       "\u001B[4;7m\u001B[0m\n",
       "\u001B[4;7mHint: You can ignore it with an underscore: `_v342`.\u001B[0m\n",
       "\u001B[4;7m\u001B[0m\n",
       "\u001B[4;7mwarning: Unused variable\u001B[0m\n",
       "\u001B[4;7m    ┌─ /home/runner/work/spiral/polyglot/target/spiral_Eval/packages/f99b028bcc765d7b0c1e7d33c37cd630fe513c7e1a5ba1d7cbca82157e75348d/src/main.gleam:822:43\u001B[0m\n",
       "\u001B[4;7m    │\u001B[0m\n",
       "\u001B[4;7m822 │                         Us0i0(v341, v342, v343, v344, v345) -> { // Ok\u001B[0m\n",
       "\u001B[4;7m    │                                           ^^^^ This variable is never used\u001B[0m\n",
       "\u001B[4;7m\u001B[0m\n",
       "\u001B[4;7mHint: You can ignore it with an underscore: `_v343`.\u001B[0m\n",
       "\u001B[4;7m\u001B[0m\n",
       "\u001B[4;7mwarning: Unused variable\u001B[0m\n",
       "\u001B[4;7m    ┌─ /home/runner/work/spiral/polyglot/target/spiral_Eval/packages/f99b028bcc765d7b0c1e7d33c37cd630fe513c7e1a5ba1d7cbca82157e75348d/src/main.gleam:822:49\u001B[0m\n",
       "\u001B[4;7m    │\u001B[0m\n",
       "\u001B[4;7m822 │                         Us0i0(v341, v342, v343, v344, v345) -> { // Ok\u001B[0m\n",
       "\u001B[4;7m    │                                                 ^^^^ This variable is never used\u001B[0m\n",
       "\u001B[4;7m\u001B[0m\n",
       "\u001B[4;7mHint: You can ignore it with an underscore: `_v344`.\u001B[0m\n",
       "\u001B[4;7m\u001B[0m\n",
       "\u001B[4;7mwarning: Unused variable\u001B[0m\n",
       "\u001B[4;7m    ┌─ /home/runner/work/spiral/polyglot/target/spiral_Eval/packages/f99b028bcc765d7b0c1e7d33c37cd630fe513c7e1a5ba1d7cbca82157e75348d/src/main.gleam:822:55\u001B[0m\n",
       "\u001B[4;7m    │\u001B[0m\n",
       "\u001B[4;7m822 │                         Us0i0(v341, v342, v343, v344, v345) -> { // Ok\u001B[0m\n",
       "\u001B[4;7m    │                                                       ^^^^ This variable is never used\u001B[0m\n",
       "\u001B[4;7m\u001B[0m\n",
       "\u001B[4;7mHint: You can ignore it with an underscore: `_v345`.\u001B[0m\n",
       "\u001B[4;7m\u001B[0m\n",
       "\u001B[4;7mwarning: Unused variable\u001B[0m\n",
       "\u001B[4;7m    ┌─ /home/runner/work/spiral/polyglot/target/spiral_Eval/packages/f99b028bcc765d7b0c1e7d33c37cd630fe513c7e1a5ba1d7cbca82157e75348d/src/main.gleam:838:27\u001B[0m\n",
       "\u001B[4;7m    │\u001B[0m\n",
       "\u001B[4;7m838 │                     Us1i1(v707) -> { // Error\u001B[0m\n",
       "\u001B[4;7m    │                           ^^^^ This variable is never used\u001B[0m\n",
       "\u001B[4;7m\u001B[0m\n",
       "\u001B[4;7mHint: You can ignore it with an underscore: `_v707`.\u001B[0m\n",
       "\u001B[4;7m\u001B[0m\n",
       "\u001B[4;7mwarning: Unused variable\u001B[0m\n",
       "\u001B[4;7m    ┌─ /home/runner/work/spiral/polyglot/target/spiral_Eval/packages/f99b028bcc765d7b0c1e7d33c37cd630fe513c7e1a5ba1d7cbca82157e75348d/src/main.gleam:932:35\u001B[0m\n",
       "\u001B[4;7m    │\u001B[0m\n",
       "\u001B[4;7m932 │                             Us0i0(v689, v690, v691, v692, v693) -> { // Ok\u001B[0m\n",
       "\u001B[4;7m    │                                   ^^^^ This variable is never used\u001B[0m\n",
       "\u001B[4;7m\u001B[0m\n",
       "\u001B[4;7mHint: You can ignore it with an underscore: `_v689`.\u001B[0m\n",
       "\u001B[4;7m\u001B[0m\n",
       "\u001B[4;7mwarning: Unused variable\u001B[0m\n",
       "\u001B[4;7m     ┌─ /home/runner/work/spiral/polyglot/target/spiral_Eval/packages/f99b028bcc765d7b0c1e7d33c37cd630fe513c7e1a5ba1d7cbca82157e75348d/src/main.gleam:1068:19\u001B[0m\n",
       "\u001B[4;7m     │\u001B[0m\n",
       "\u001B[4;7m1068 │             Us0i0(v943, v944, v945, v946, v947) -> { // Ok\u001B[0m\n",
       "\u001B[4;7m     │                   ^^^^ This variable is never used\u001B[0m\n",
       "\u001B[4;7m\u001B[0m\n",
       "\u001B[4;7mHint: You can ignore it with an underscore: `_v943`.\u001B[0m\n",
       "\u001B[4;7m\u001B[0m\n",
       "\u001B[4;7mwarning: Unused variable\u001B[0m\n",
       "\u001B[4;7m     ┌─ /home/runner/work/spiral/polyglot/target/spiral_Eval/packages/f99b028bcc765d7b0c1e7d33c37cd630fe513c7e1a5ba1d7cbca82157e75348d/src/main.gleam:1151:31\u001B[0m\n",
       "\u001B[4;7m     │\u001B[0m\n",
       "\u001B[4;7m1151 │                         Us0i1(v1111) -> { // Error\u001B[0m\n",
       "\u001B[4;7m     │                               ^^^^^ This variable is never used\u001B[0m\n",
       "\u001B[4;7m\u001B[0m\n",
       "\u001B[4;7mHint: You can ignore it with an underscore: `_v1111`.\u001B[0m\n",
       "\u001B[4;7m\u001B[0m\n",
       "\u001B[4;7mwarning: Unused variable\u001B[0m\n",
       "\u001B[4;7m     ┌─ /home/runner/work/spiral/polyglot/target/spiral_Eval/packages/f99b028bcc765d7b0c1e7d33c37cd630fe513c7e1a5ba1d7cbca82157e75348d/src/main.gleam:1231:31\u001B[0m\n",
       "\u001B[4;7m     │\u001B[0m\n",
       "\u001B[4;7m1231 │                         Us0i0(v1106, v1107, v1108, v1109, v1110) -> { // Ok\u001B[0m\n",
       "\u001B[4;7m     │                               ^^^^^ This variable is never used\u001B[0m\n",
       "\u001B[4;7m\u001B[0m\n",
       "\u001B[4;7mHint: You can ignore it with an underscore: `_v1106`.\u001B[0m\n",
       "\u001B[4;7m\u001B[0m\n",
       "\u001B[4;7mwarning: Unused variable\u001B[0m\n",
       "\u001B[4;7m     ┌─ /home/runner/work/spiral/polyglot/target/spiral_Eval/packages/f99b028bcc765d7b0c1e7d33c37cd630fe513c7e1a5ba1d7cbca82157e75348d/src/main.gleam:1231:38\u001B[0m\n",
       "\u001B[4;7m     │\u001B[0m\n",
       "\u001B[4;7m1231 │                         Us0i0(v1106, v1107, v1108, v1109, v1110) -> { // Ok\u001B[0m\n",
       "\u001B[4;7m     │                                      ^^^^^ This variable is never used\u001B[0m\n",
       "\u001B[4;7m\u001B[0m\n",
       "\u001B[4;7mHint: You can ignore it with an underscore: `_v1107`.\u001B[0m\n",
       "\u001B[4;7m\u001B[0m\n",
       "\u001B[4;7mwarning: Unused variable\u001B[0m\n",
       "\u001B[4;7m     ┌─ /home/runner/work/spiral/polyglot/target/spiral_Eval/packages/f99b028bcc765d7b0c1e7d33c37cd630fe513c7e1a5ba1d7cbca82157e75348d/src/main.gleam:1231:45\u001B[0m\n",
       "\u001B[4;7m     │\u001B[0m\n",
       "\u001B[4;7m1231 │                         Us0i0(v1106, v1107, v1108, v1109, v1110) -> { // Ok\u001B[0m\n",
       "\u001B[4;7m     │                                             ^^^^^ This variable is never used\u001B[0m\n",
       "\u001B[4;7m\u001B[0m\n",
       "\u001B[4;7mHint: You can ignore it with an underscore: `_v1108`.\u001B[0m\n",
       "\u001B[4;7m\u001B[0m\n",
       "\u001B[4;7mwarning: Unused variable\u001B[0m\n",
       "\u001B[4;7m     ┌─ /home/runner/work/spiral/polyglot/target/spiral_Eval/packages/f99b028bcc765d7b0c1e7d33c37cd630fe513c7e1a5ba1d7cbca82157e75348d/src/main.gleam:1231:52\u001B[0m\n",
       "\u001B[4;7m     │\u001B[0m\n",
       "\u001B[4;7m1231 │                         Us0i0(v1106, v1107, v1108, v1109, v1110) -> { // Ok\u001B[0m\n",
       "\u001B[4;7m     │                                                    ^^^^^ This variable is never used\u001B[0m\n",
       "\u001B[4;7m\u001B[0m\n",
       "\u001B[4;7mHint: You can ignore it with an underscore: `_v1109`.\u001B[0m\n",
       "\u001B[4;7m\u001B[0m\n",
       "\u001B[4;7mwarning: Unused variable\u001B[0m\n",
       "\u001B[4;7m     ┌─ /home/runner/work/spiral/polyglot/target/spiral_Eval/packages/f99b028bcc765d7b0c1e7d33c37cd630fe513c7e1a5ba1d7cbca82157e75348d/src/main.gleam:1231:59\u001B[0m\n",
       "\u001B[4;7m     │\u001B[0m\n",
       "\u001B[4;7m1231 │                         Us0i0(v1106, v1107, v1108, v1109, v1110) -> { // Ok\u001B[0m\n",
       "\u001B[4;7m     │                                                           ^^^^^ This variable is never used\u001B[0m\n",
       "\u001B[4;7m\u001B[0m\n",
       "\u001B[4;7mHint: You can ignore it with an underscore: `_v1110`.\u001B[0m\n",
       "\u001B[4;7m\u001B[0m\n",
       "\u001B[4;7mwarning: Unused variable\u001B[0m\n",
       "\u001B[4;7m     ┌─ /home/runner/work/spiral/polyglot/target/spiral_Eval/packages/f99b028bcc765d7b0c1e7d33c37cd630fe513c7e1a5ba1d7cbca82157e75348d/src/main.gleam:1247:27\u001B[0m\n",
       "\u001B[4;7m     │\u001B[0m\n",
       "\u001B[4;7m1247 │                     Us1i1(v1472) -> { // Error\u001B[0m\n",
       "\u001B[4;7m     │                           ^^^^^ This variable is never used\u001B[0m\n",
       "\u001B[4;7m\u001B[0m\n",
       "\u001B[4;7mHint: You can ignore it with an underscore: `_v1472`.\u001B[0m\n",
       "\u001B[4;7m\u001B[0m\n",
       "\u001B[4;7mwarning: Unused variable\u001B[0m\n",
       "\u001B[4;7m     ┌─ /home/runner/work/spiral/polyglot/target/spiral_Eval/packages/f99b028bcc765d7b0c1e7d33c37cd630fe513c7e1a5ba1d7cbca82157e75348d/src/main.gleam:1341:35\u001B[0m\n",
       "\u001B[4;7m     │\u001B[0m\n",
       "\u001B[4;7m1341 │                             Us0i0(v1454, v1455, v1456, v1457, v1458) -> { // Ok\u001B[0m\n",
       "\u001B[4;7m     │                                   ^^^^^ This variable is never used\u001B[0m\n",
       "\u001B[4;7m\u001B[0m\n",
       "\u001B[4;7mHint: You can ignore it with an underscore: `_v1454`.\u001B[0m\n",
       "\u001B[4;7m\u001B[0m\n",
       "{compiling,\"/home/runner/work/spiral/polyglot/target/spiral_Eval/packages/f99b028bcc765d7b0c1e7d33c37cd630fe513c7e1a5ba1d7cbca82157e75348d/build/dev/erlang/main/_gleam_artefacts/main.erl\"}\n",
       "{compiling,\"/home/runner/work/spiral/polyglot/target/spiral_Eval/packages/f99b028bcc765d7b0c1e7d33c37cd630fe513c7e1a5ba1d7cbca82157e75348d/build/dev/erlang/main/_gleam_artefacts/main@@main.erl\"}\n",
       "{compiled,main@@main,\n",
       "          \"/home/runner/work/spiral/polyglot/target/spiral_Eval/packages/f99b028bcc765d7b0c1e7d33c37cd630fe513c7e1a5ba1d7cbca82157e75348d/build/dev/erlang/main/ebin/main@@main.beam\"}\n",
       "{compiled,main,\n",
       "          \"/home/runner/work/spiral/polyglot/target/spiral_Eval/packages/f99b028bcc765d7b0c1e7d33c37cd630fe513c7e1a5ba1d7cbca82157e75348d/build/dev/erlang/main/ebin/main.beam\"}\n",
       "{ name = __assert_eq; actual = #(\"aaabb\", \"\", \"[aaabb]\", 1, 8); expected = #(\"aaabb\", \"\", \"[aaabb]\", 1, 8) }\n",
       "{ name = __assert_eq; actual = parsing.between / expected closing delimiter / { e = parsing.p_char / unexpected end of input / { c = ]; s = #(\"[aaabb\", 1, 7) }; input = [aaabb, #(\"\", 1, 1); rest1 = aaabb, #(\"[\", 1, 2); rest2 = , #(\"[aaabb\", 1, 7) }; expected = parsing.between / expected closing delimiter / { e = parsing.p_char / unexpected end of input / { c = ]; s = #(\"[aaabb\", 1, 7) }; input = [aaabb, #(\"\", 1, 1); rest1 = aaabb, #(\"[\", 1, 2); rest2 = , #(\"[aaabb\", 1, 7) } }\n",
       "\n",
       "\n"
      ]
     },
     "metadata": {},
     "output_type": "display_data"
    },
    {
     "name": "stdout",
     "output_type": "stream",
     "text": [
      ".fsx output:\n",
      "{ name = __assert_eq; actual = struct (\"aaabb\", \"\", [aaabb], 1, 8); expected = struct (\"aaabb\", \"\", [aaabb], 1, 8) }\n",
      "{ name = __assert_eq; actual = parsing.between / expected closing delimiter / { e = parsing.p_char / unexpected end of input / { c = ]; s = struct ([aaabb, 1, 7) }; input = [aaabb, struct ([aaabb, 1, 1); rest1 = aaabb, struct ([aaabb, 1, 2); rest2 = , struct ([aaabb, 1, 7) }; expected = parsing.between / expected closing delimiter / { e = parsing.p_char / unexpected end of input / { c = ]; s = struct ([aaabb, 1, 7) }; input = [aaabb, struct ([aaabb, 1, 1); rest1 = aaabb, struct ([aaabb, 1, 2); rest2 = , struct ([aaabb, 1, 7) } }\n"
     ]
    }
   ],
   "source": [
    "//// test\n",
    "///! gleam\n",
    "///! fsharp\n",
    "///! cuda\n",
    "///! typescript\n",
    "\n",
    "\"[aaabb]\"\n",
    "|> parse (between (p_char '[') (p_char ']') (many1_chars (p_char 'a' <|> p_char 'b')))\n",
    "|> resultm.get\n",
    "|> sm'.format_debug\n",
    "|> _assert_eq (\n",
    "    (\"aaabb\", \"\", { line_text = \"[aaabb]\" |> sm'.string_builder; position = { line = 1i32; col = 8i32 } })\n",
    "    |> sm'.format_debug\n",
    ")\n",
    "\n",
    "\"[aaabb\"\n",
    "|> parse (between (p_char '[') (p_char ']') (many1_chars (p_char 'a' <|> p_char 'b')))\n",
    "|> resultm.unwrap_err\n",
    "|> sm'.format_debug\n",
    "|> _assert_eq (\n",
    "    backend_switch {\n",
    "        Gleam = fun () =>\n",
    "            \"parsing.between / expected closing delimiter / \"\n",
    "            ++# \"{ e = parsing.p_char / unexpected end of input / { c = ]; s = #(\\\"[aaabb\\\", 1, 7) }; \"\n",
    "            ++# \"input = [aaabb, #(\\\"\\\", 1, 1); rest1 = aaabb, #(\\\"[\\\", 1, 2); rest2 = , #(\\\"[aaabb\\\", 1, 7) }\"\n",
    "        Fsharp = fun () =>\n",
    "            run_target function\n",
    "            | TypeScript _ => fun () =>\n",
    "                \"parsing.between / expected closing delimiter / \"\n",
    "                ++# \"{ e = parsing.p_char / unexpected end of input / { c = ]; s = [aaabb,1,7 }; \"\n",
    "                ++# \"input = [aaabb, [aaabb,1,1; rest1 = aaabb, [aaabb,1,2; rest2 = , [aaabb,1,7 }\"\n",
    "            | _ => fun () =>\n",
    "                join\n",
    "                    \"parsing.between / expected closing delimiter / \"\n",
    "                    ++# \"{ e = parsing.p_char / unexpected end of input / { c = ]; \"\n",
    "                    ++# \"s = struct ([aaabb, 1, 7) }; input = [aaabb, struct ([aaabb, 1, 1); \"\n",
    "                    ++# \"rest1 = aaabb, struct ([aaabb, 1, 2); rest2 = , struct ([aaabb, 1, 7) }\"\n",
    "        Python = fun () =>\n",
    "            \"parsing.between / expected closing delimiter / \"\n",
    "            ++# \"{ e = parsing.p_char / unexpected end of input / { c = ]; s = ([aaabb, 1, 7) }; \"\n",
    "            ++# \"input = [aaabb, ([aaabb, 1, 1); rest1 = aaabb, ([aaabb, 1, 2); rest2 = , ([aaabb, 1, 7) }\"\n",
    "    }\n",
    ")"
   ]
  },
  {
   "cell_type": "markdown",
   "metadata": {},
   "source": [
    "### sep_by"
   ]
  },
  {
   "cell_type": "code",
   "execution_count": null,
   "metadata": {
    "dotnet_interactive": {
     "language": "spiral"
    },
    "polyglot_notebook": {
     "kernelName": "spiral"
    }
   },
   "outputs": [],
   "source": [
    "// inl sep_by p sep : parser (list _) = fun input, s =>\n",
    "inl sep_by forall b. p sep : parser (list b) = fun input, s =>\n",
    "    // let rec loop acc input s =\n",
    "    let rec loop forall a.\n",
    "        (acc : list b)\n",
    "        (input : string)\n",
    "        (s : parser_state)\n",
    "        : result (list b * string * parser_state) a\n",
    "        =\n",
    "        match p (input, s) with\n",
    "        | Ok (result, rest, s) =>\n",
    "            match sep (rest, s) with\n",
    "            | Ok (_, rest, s) => loop (result :: acc) rest s\n",
    "            | Error _ => Ok ((result :: acc) |> listm.rev, rest, s)\n",
    "        | Error _ => Ok (acc |> listm.rev, input, s)\n",
    "    loop [] input s"
   ]
  },
  {
   "cell_type": "markdown",
   "metadata": {},
   "source": [
    "### span"
   ]
  },
  {
   "cell_type": "code",
   "execution_count": null,
   "metadata": {
    "dotnet_interactive": {
     "language": "spiral"
    },
    "polyglot_notebook": {
     "kernelName": "spiral"
    }
   },
   "outputs": [],
   "source": [
    "inl span pred str =\n",
    "    // let rec loop i =\n",
    "    let rec loop forall t {number; int}. (i : t) : t =\n",
    "        if i >= sm'.length str\n",
    "        then i\n",
    "        elif pred (str |> sm'.index i)\n",
    "        then loop (i + 1)\n",
    "        else i\n",
    "    loop 0"
   ]
  },
  {
   "cell_type": "markdown",
   "metadata": {},
   "source": [
    "### spaces1"
   ]
  },
  {
   "cell_type": "code",
   "execution_count": null,
   "metadata": {
    "dotnet_interactive": {
     "language": "spiral"
    },
    "polyglot_notebook": {
     "kernelName": "spiral"
    }
   },
   "outputs": [],
   "source": [
    "inl spaces1 () : parser () = fun input, s =>\n",
    "    match input |> span ((=) ' ') with\n",
    "    | 0i32 => Error \"parsing.spaces1 / expected at least one space\"\n",
    "    | n => Ok ((), input |> sm'.range (am'.Start n) (am'.End eval), s)"
   ]
  },
  {
   "cell_type": "markdown",
   "metadata": {},
   "source": [
    "### spaces"
   ]
  },
  {
   "cell_type": "code",
   "execution_count": null,
   "metadata": {
    "dotnet_interactive": {
     "language": "spiral"
    },
    "polyglot_notebook": {
     "kernelName": "spiral"
    }
   },
   "outputs": [],
   "source": [
    "inl spaces () : parser () = fun input, s =>\n",
    "    input\n",
    "    |> span ((=) ' ')\n",
    "    |> fun (n : i32) =>\n",
    "        Ok ((), input |> sm'.range (am'.Start n) (am'.End eval), s)"
   ]
  },
  {
   "cell_type": "markdown",
   "metadata": {},
   "source": [
    "### p_digit"
   ]
  },
  {
   "cell_type": "code",
   "execution_count": null,
   "metadata": {
    "dotnet_interactive": {
     "language": "spiral"
    },
    "polyglot_notebook": {
     "kernelName": "spiral"
    }
   },
   "outputs": [],
   "source": [
    "inl p_digit () : parser char = fun input, s =>\n",
    "    match input |> sm'.index 0i32 with\n",
    "    | ('0' | '1' | '2' | '3' | '4' | '5' | '6' | '7' | '8' | '9') as c =>\n",
    "        Ok (c, input |> sm'.range (am'.Start 1i32) (am'.End eval), s)\n",
    "    | c => \"parsing.p_digit / unexpected char / \" ++# ({ c } |> sm'.format) |> Error"
   ]
  },
  {
   "cell_type": "code",
   "execution_count": null,
   "metadata": {
    "dotnet_interactive": {
     "language": "spiral"
    },
    "polyglot_notebook": {
     "kernelName": "spiral"
    }
   },
   "outputs": [
    {
     "data": {
      "text/plain": [
       ".py output (Python):\n",
       "{ name = __assert_eq; actual = (UH0_1(v0='1', v1=UH0_1(v0='2', v1=UH0_1(v0='3', v1=UH0_0()))), '', , 1, 1); expected = (UH0_1(v0='1', v1=UH0_1(v0='2', v1=UH0_1(v0='3', v1=UH0_0()))), '', , 1, 1) }\n",
       "\n",
       ".ts output:\n",
       "{ name = __assert_eq; actual = UH0_1 (1, UH0_1 (2, UH0_1 (3, UH0_0))),,,1,1; expected = UH0_1 (1, UH0_1 (2, UH0_1 (3, UH0_0))),,,1,1 }\n",
       "\n",
       "\n",
       ".gleam output (Gleam):\n",
       "\u001B[4;7mwarning: Unused variable\u001B[0m\n",
       "\u001B[4;7m    ┌─ /home/runner/work/spiral/polyglot/target/spiral_Eval/packages/23db76a81efe240c7d464a41c9edfcea77288506b7cbe4440857ac5459a1e2ca/src/main.gleam:240:15\u001B[0m\n",
       "\u001B[4;7m    │\u001B[0m\n",
       "\u001B[4;7m240 │         Us1i1(v486) -> { // Error\u001B[0m\n",
       "\u001B[4;7m    │               ^^^^ This variable is never used\u001B[0m\n",
       "\u001B[4;7m\u001B[0m\n",
       "\u001B[4;7mHint: You can ignore it with an underscore: `_v486`.\u001B[0m\n",
       "\u001B[4;7m\u001B[0m\n",
       "\u001B[4;7mwarning: Unused variable\u001B[0m\n",
       "\u001B[4;7m    ┌─ /home/runner/work/spiral/polyglot/target/spiral_Eval/packages/23db76a81efe240c7d464a41c9edfcea77288506b7cbe4440857ac5459a1e2ca/src/main.gleam:266:23\u001B[0m\n",
       "\u001B[4;7m    │\u001B[0m\n",
       "\u001B[4;7m266 │                 Us2i1(v479) -> { // Error\u001B[0m\n",
       "\u001B[4;7m    │                       ^^^^ This variable is never used\u001B[0m\n",
       "\u001B[4;7m\u001B[0m\n",
       "\u001B[4;7mHint: You can ignore it with an underscore: `_v479`.\u001B[0m\n",
       "\u001B[4;7m\u001B[0m\n",
       "{compiling,\"/home/runner/work/spiral/polyglot/target/spiral_Eval/packages/23db76a81efe240c7d464a41c9edfcea77288506b7cbe4440857ac5459a1e2ca/build/dev/erlang/main/_gleam_artefacts/main@@main.erl\"}\n",
       "{compiling,\"/home/runner/work/spiral/polyglot/target/spiral_Eval/packages/23db76a81efe240c7d464a41c9edfcea77288506b7cbe4440857ac5459a1e2ca/build/dev/erlang/main/_gleam_artefacts/main.erl\"}\n",
       "{compiled,main@@main,\n",
       "          \"/home/runner/work/spiral/polyglot/target/spiral_Eval/packages/23db76a81efe240c7d464a41c9edfcea77288506b7cbe4440857ac5459a1e2ca/build/dev/erlang/main/ebin/main@@main.beam\"}\n",
       "{compiled,main,\n",
       "          \"/home/runner/work/spiral/polyglot/target/spiral_Eval/packages/23db76a81efe240c7d464a41c9edfcea77288506b7cbe4440857ac5459a1e2ca/build/dev/erlang/main/ebin/main.beam\"}\n",
       "{ name = __assert_eq; actual = #(Uh0i1(\"1\", Uh0i1(\"2\", Uh0i1(\"3\", Uh0i0))), \"\", \"\", 1, 1); expected = #(Uh0i1(\"1\", Uh0i1(\"2\", Uh0i1(\"3\", Uh0i0))), \"\", \"\", 1, 1) }\n",
       "\n",
       "\n"
      ]
     },
     "metadata": {},
     "output_type": "display_data"
    },
    {
     "name": "stdout",
     "output_type": "stream",
     "text": [
      ".fsx output:\n",
      "{ name = __assert_eq; actual = struct (UH0_1 ('1', UH0_1 ('2', UH0_1 ('3', UH0_0))), \"\", , 1, 1); expected = struct (UH0_1 ('1', UH0_1 ('2', UH0_1 ('3', UH0_0))), \"\", , 1, 1) }\n"
     ]
    }
   ],
   "source": [
    "//// test\n",
    "///! gleam\n",
    "///! fsharp\n",
    "///! cuda\n",
    "///! typescript\n",
    "\n",
    "\"1 2 3\"\n",
    "|> parse (sep_by (p_digit ()) (spaces1 ()))\n",
    "|> resultm.get\n",
    "|> sm'.format_debug\n",
    "|> _assert_eq (\n",
    "    (['1'; '2'; '3'], \"\", { line_text = \"\" |> sm'.string_builder; position = { col = 1i32; line = 1i32 } })\n",
    "    |> sm'.format_debug\n",
    ")"
   ]
  },
  {
   "cell_type": "code",
   "execution_count": null,
   "metadata": {
    "dotnet_interactive": {
     "language": "spiral"
    },
    "polyglot_notebook": {
     "kernelName": "spiral"
    }
   },
   "outputs": [
    {
     "data": {
      "text/plain": [
       ".py output (Python):\n",
       "{ name = __assert_eq; actual = (UH0_1(v0='1', v1=UH0_0()), 'a 2', , 1, 1); expected = (UH0_1(v0='1', v1=UH0_0()), 'a 2', , 1, 1) }\n",
       "\n",
       ".ts output:\n",
       "{ name = __assert_eq; actual = UH0_1 (1, UH0_0),a 2,,1,1; expected = UH0_1 (1, UH0_0),a 2,,1,1 }\n",
       "\n",
       "\n",
       ".gleam output (Gleam):\n",
       "\u001B[4;7mwarning: Unused variable\u001B[0m\n",
       "\u001B[4;7m    ┌─ /home/runner/work/spiral/polyglot/target/spiral_Eval/packages/d28ca02b5162e040fcfcca8c8a6b145462ded0861434d605d31155894a0f6a2c/src/main.gleam:240:15\u001B[0m\n",
       "\u001B[4;7m    │\u001B[0m\n",
       "\u001B[4;7m240 │         Us1i1(v486) -> { // Error\u001B[0m\n",
       "\u001B[4;7m    │               ^^^^ This variable is never used\u001B[0m\n",
       "\u001B[4;7m\u001B[0m\n",
       "\u001B[4;7mHint: You can ignore it with an underscore: `_v486`.\u001B[0m\n",
       "\u001B[4;7m\u001B[0m\n",
       "\u001B[4;7mwarning: Unused variable\u001B[0m\n",
       "\u001B[4;7m    ┌─ /home/runner/work/spiral/polyglot/target/spiral_Eval/packages/d28ca02b5162e040fcfcca8c8a6b145462ded0861434d605d31155894a0f6a2c/src/main.gleam:266:23\u001B[0m\n",
       "\u001B[4;7m    │\u001B[0m\n",
       "\u001B[4;7m266 │                 Us2i1(v479) -> { // Error\u001B[0m\n",
       "\u001B[4;7m    │                       ^^^^ This variable is never used\u001B[0m\n",
       "\u001B[4;7m\u001B[0m\n",
       "\u001B[4;7mHint: You can ignore it with an underscore: `_v479`.\u001B[0m\n",
       "\u001B[4;7m\u001B[0m\n",
       "{compiling,\"/home/runner/work/spiral/polyglot/target/spiral_Eval/packages/d28ca02b5162e040fcfcca8c8a6b145462ded0861434d605d31155894a0f6a2c/build/dev/erlang/main/_gleam_artefacts/main@@main.erl\"}\n",
       "{compiling,\"/home/runner/work/spiral/polyglot/target/spiral_Eval/packages/d28ca02b5162e040fcfcca8c8a6b145462ded0861434d605d31155894a0f6a2c/build/dev/erlang/main/_gleam_artefacts/main.erl\"}\n",
       "{compiled,main@@main,\n",
       "          \"/home/runner/work/spiral/polyglot/target/spiral_Eval/packages/d28ca02b5162e040fcfcca8c8a6b145462ded0861434d605d31155894a0f6a2c/build/dev/erlang/main/ebin/main@@main.beam\"}\n",
       "{compiled,main,\n",
       "          \"/home/runner/work/spiral/polyglot/target/spiral_Eval/packages/d28ca02b5162e040fcfcca8c8a6b145462ded0861434d605d31155894a0f6a2c/build/dev/erlang/main/ebin/main.beam\"}\n",
       "{ name = __assert_eq; actual = #(Uh0i1(\"1\", Uh0i0), \"a 2\", \"\", 1, 1); expected = #(Uh0i1(\"1\", Uh0i0), \"a 2\", \"\", 1, 1) }\n",
       "\n",
       "\n"
      ]
     },
     "metadata": {},
     "output_type": "display_data"
    },
    {
     "name": "stdout",
     "output_type": "stream",
     "text": [
      ".fsx output:\n",
      "{ name = __assert_eq; actual = struct (UH0_1 ('1', UH0_0), \"a 2\", , 1, 1); expected = struct (UH0_1 ('1', UH0_0), \"a 2\", , 1, 1) }\n"
     ]
    }
   ],
   "source": [
    "//// test\n",
    "///! gleam\n",
    "///! fsharp\n",
    "///! cuda\n",
    "///! typescript\n",
    "////! python // __assert_eq / actual: (UH0_1 (\"1\", UH0_0), 'a 2', <fable_modules.fable_library.system_text.StringBuilder object at 0x0000000001A10500>, 1, 1) / expected: (UH0_1 (\"1\", UH0_0), 'a 2', <fable_modules.fable_library.system_text.StringBuilder object at 0x0000000001A10590>, 1, 1)\n",
    "\n",
    "\"1 a 2\"\n",
    "|> parse (sep_by (p_digit ()) (spaces1 ()))\n",
    "|> resultm.get\n",
    "|> sm'.format_debug\n",
    "|> _assert_eq (\n",
    "    (['1'], \"a 2\", { line_text = \"\" |> sm'.string_builder; position = { col = 1i32; line = 1i32 } })\n",
    "    |> sm'.format_debug\n",
    ")"
   ]
  },
  {
   "cell_type": "markdown",
   "metadata": {},
   "source": [
    "### opt"
   ]
  },
  {
   "cell_type": "code",
   "execution_count": null,
   "metadata": {
    "dotnet_interactive": {
     "language": "spiral"
    },
    "polyglot_notebook": {
     "kernelName": "spiral"
    }
   },
   "outputs": [],
   "source": [
    "inl opt p : parser (option _) = fun input, s =>\n",
    "    match p (input, s) with\n",
    "    | Ok (result, rest, s) => Ok (Some result, rest, s)\n",
    "    | Error _ => Ok (None, input, s)"
   ]
  },
  {
   "cell_type": "markdown",
   "metadata": {},
   "source": [
    "### rest_of_line"
   ]
  },
  {
   "cell_type": "code",
   "execution_count": null,
   "metadata": {
    "dotnet_interactive": {
     "language": "spiral"
    },
    "polyglot_notebook": {
     "kernelName": "spiral"
    }
   },
   "outputs": [],
   "source": [
    "inl rest_of_line () : parser string = fun input, s =>\n",
    "    inl i : i32 = input |> span ((<>) '\\n')\n",
    "    inl result = input |> sm'.range (am'.Start i) (am'.End eval)\n",
    "    Ok (result, result, s)"
   ]
  },
  {
   "cell_type": "markdown",
   "metadata": {},
   "source": [
    "### eof"
   ]
  },
  {
   "cell_type": "code",
   "execution_count": null,
   "metadata": {
    "dotnet_interactive": {
     "language": "spiral"
    },
    "polyglot_notebook": {
     "kernelName": "spiral"
    }
   },
   "outputs": [],
   "source": [
    "inl eof () : parser () = fun input, s =>\n",
    "    if sm'.length input = 0i32\n",
    "    then Ok ((), input, s)\n",
    "    else \"parsing.eof / expected end of input / \" ++# ({ input } |> sm'.format) |> Error"
   ]
  }
 ],
 "metadata": {},
 "nbformat": 4,
 "nbformat_minor": 5
}