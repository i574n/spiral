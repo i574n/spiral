{
 "cells": [
  {
   "cell_type": "markdown",
   "metadata": {},
   "source": [
    "# resultm"
   ]
  },
  {
   "cell_type": "code",
   "execution_count": null,
   "metadata": {
    "dotnet_interactive": {
     "language": "spiral"
    },
    "polyglot_notebook": {
     "kernelName": "spiral"
    }
   },
   "outputs": [],
   "source": [
    "open rust\n",
    "open rust_operators"
   ]
  },
  {
   "cell_type": "code",
   "execution_count": null,
   "metadata": {
    "dotnet_interactive": {
     "language": "spiral"
    },
    "polyglot_notebook": {
     "kernelName": "spiral"
    }
   },
   "outputs": [],
   "source": [
    "//// test\n",
    "\n",
    "open testing"
   ]
  },
  {
   "cell_type": "markdown",
   "metadata": {},
   "source": [
    "## resultm"
   ]
  },
  {
   "cell_type": "markdown",
   "metadata": {},
   "source": [
    "### from_option_error"
   ]
  },
  {
   "cell_type": "code",
   "execution_count": null,
   "metadata": {
    "dotnet_interactive": {
     "language": "spiral"
    },
    "polyglot_notebook": {
     "kernelName": "spiral"
    }
   },
   "outputs": [],
   "source": [
    "inl from_option_error error opt =\n",
    "    match opt with\n",
    "    | Some x => Ok x\n",
    "    | None => Error error"
   ]
  },
  {
   "cell_type": "markdown",
   "metadata": {},
   "source": [
    "### from_option"
   ]
  },
  {
   "cell_type": "code",
   "execution_count": null,
   "metadata": {
    "dotnet_interactive": {
     "language": "spiral"
    },
    "polyglot_notebook": {
     "kernelName": "spiral"
    }
   },
   "outputs": [],
   "source": [
    "inl from_option opt =\n",
    "    opt |> from_option_error \"resultm.from_option / Option does not have a value.\""
   ]
  },
  {
   "cell_type": "markdown",
   "metadata": {},
   "source": [
    "### flatten_option"
   ]
  },
  {
   "cell_type": "code",
   "execution_count": null,
   "metadata": {
    "dotnet_interactive": {
     "language": "spiral"
    },
    "polyglot_notebook": {
     "kernelName": "spiral"
    }
   },
   "outputs": [],
   "source": [
    "inl flatten_option forall t u. (x : option (result (option t) u)) : result (option t) u =\n",
    "    match x with\n",
    "    | Some (Error x) => Error x\n",
    "    | Some (Ok (Some x)) => Ok (Some x)\n",
    "    | _ => Ok None"
   ]
  },
  {
   "cell_type": "markdown",
   "metadata": {},
   "source": [
    "### flatten"
   ]
  },
  {
   "cell_type": "code",
   "execution_count": null,
   "metadata": {
    "dotnet_interactive": {
     "language": "spiral"
    },
    "polyglot_notebook": {
     "kernelName": "spiral"
    }
   },
   "outputs": [],
   "source": [
    "inl flatten forall t u. (x : result (result t u) u) : result t u =\n",
    "    match x with\n",
    "    | Ok x => x\n",
    "    | Error x => Error x"
   ]
  },
  {
   "cell_type": "markdown",
   "metadata": {},
   "source": [
    "### get"
   ]
  },
  {
   "cell_type": "code",
   "execution_count": null,
   "metadata": {
    "dotnet_interactive": {
     "language": "spiral"
    },
    "polyglot_notebook": {
     "kernelName": "spiral"
    }
   },
   "outputs": [],
   "source": [
    "inl get forall t e. (source : result t e) : t =\n",
    "    match source with\n",
    "    | Ok x => x\n",
    "    | Error x =>\n",
    "        backend_switch {\n",
    "            Gleam = fun () => $'\"resultm.get / Result value was Error: \" <> !x ' : string\n",
    "            Fsharp = fun () => $'$\"resultm.get / Result value was Error: {!x}\"' : string\n",
    "            Python = fun () => $'f\"resultm.get / Result value was Error: {!x}\"' : string\n",
    "        }\n",
    "        |> failwith"
   ]
  },
  {
   "cell_type": "markdown",
   "metadata": {},
   "source": [
    "### map"
   ]
  },
  {
   "cell_type": "code",
   "execution_count": null,
   "metadata": {
    "dotnet_interactive": {
     "language": "spiral"
    },
    "polyglot_notebook": {
     "kernelName": "spiral"
    }
   },
   "outputs": [],
   "source": [
    "inl map forall t e u. (fn : t -> u) (source : result t e) : result u e =\n",
    "    match source with\n",
    "    | Ok x => x |> fn |> Ok\n",
    "    | Error x => Error x"
   ]
  },
  {
   "cell_type": "markdown",
   "metadata": {},
   "source": [
    "### map_error"
   ]
  },
  {
   "cell_type": "code",
   "execution_count": null,
   "metadata": {
    "dotnet_interactive": {
     "language": "spiral"
    },
    "polyglot_notebook": {
     "kernelName": "spiral"
    }
   },
   "outputs": [],
   "source": [
    "inl map_error forall t e u. (fn : e -> u) (source : result t e) : result t u =\n",
    "    match source with\n",
    "    | Ok x => Ok x\n",
    "    | Error x => x |> fn |> Error"
   ]
  },
  {
   "cell_type": "markdown",
   "metadata": {},
   "source": [
    "### unwrap_err"
   ]
  },
  {
   "cell_type": "code",
   "execution_count": null,
   "metadata": {
    "dotnet_interactive": {
     "language": "spiral"
    },
    "polyglot_notebook": {
     "kernelName": "spiral"
    }
   },
   "outputs": [],
   "source": [
    "inl unwrap_err forall t u. (x : result t u) : u =\n",
    "    match x with\n",
    "    | Ok x =>\n",
    "        backend_switch {\n",
    "            Gleam = fun () => $'\"resultm.unwrap_err / x: \" <> !x ' : string\n",
    "            Fsharp = fun () => $'$\"resultm.unwrap_err / x: {!x}\"' : string\n",
    "            Python = fun () => $'f\"resultm.unwrap_err / x: {!x}\"' : string\n",
    "        }\n",
    "        |> failwith\n",
    "    | Error x => x"
   ]
  },
  {
   "cell_type": "markdown",
   "metadata": {},
   "source": [
    "### ok"
   ]
  },
  {
   "cell_type": "code",
   "execution_count": null,
   "metadata": {
    "dotnet_interactive": {
     "language": "spiral"
    },
    "polyglot_notebook": {
     "kernelName": "spiral"
    }
   },
   "outputs": [],
   "source": [
    "inl ok forall t. (x : result t _) : option t =\n",
    "    match x with\n",
    "    | Ok x => Some x\n",
    "    | Error _ => None"
   ]
  },
  {
   "cell_type": "markdown",
   "metadata": {},
   "source": [
    "## fsharp"
   ]
  },
  {
   "cell_type": "markdown",
   "metadata": {},
   "source": [
    "### result'"
   ]
  },
  {
   "cell_type": "code",
   "execution_count": null,
   "metadata": {
    "dotnet_interactive": {
     "language": "spiral"
    },
    "polyglot_notebook": {
     "kernelName": "spiral"
    }
   },
   "outputs": [],
   "source": [
    "inl result'_types () =\n",
    "    backend_switch {\n",
    "        Gleam = fun () => global \"import gleam/result\"\n",
    "    }\n",
    "type result'_switch t u =\n",
    "    {\n",
    "        Gleam : $'Result(`t, `u)'\n",
    "        Fsharp : $'Result<`t, `u>'\n",
    "        Python : $'Result<`t, `u>'\n",
    "    }\n",
    "nominal result' t u = $'backend_switch `(result'_switch t u)'"
   ]
  },
  {
   "cell_type": "markdown",
   "metadata": {},
   "source": [
    "### unbox"
   ]
  },
  {
   "cell_type": "code",
   "execution_count": null,
   "metadata": {
    "dotnet_interactive": {
     "language": "spiral"
    },
    "polyglot_notebook": {
     "kernelName": "spiral"
    }
   },
   "outputs": [],
   "source": [
    "inl unbox forall t u. (x : result' t u) : result t u =\n",
    "    inl ok x : result t u = Ok x\n",
    "    inl error x : result t u = Error x\n",
    "    inl ok = join ok\n",
    "    inl error = join error\n",
    "    backend_switch {\n",
    "        Gleam = fun () =>\n",
    "            $'case !x { Ok(x) -> !ok(x) Error(x) -> !error(x) }' : result t u\n",
    "        Fsharp = fun () =>\n",
    "            real\n",
    "                typecase t with\n",
    "                | () => $'match !x with Ok () -> !ok () | Error x -> !error x' : result t u\n",
    "                | _ => $'match !x with Ok x -> !ok x | Error x -> !error x' : result t u\n",
    "            : result t u\n",
    "    }"
   ]
  },
  {
   "cell_type": "markdown",
   "metadata": {},
   "source": [
    "### box"
   ]
  },
  {
   "cell_type": "code",
   "execution_count": null,
   "metadata": {
    "dotnet_interactive": {
     "language": "spiral"
    },
    "polyglot_notebook": {
     "kernelName": "spiral"
    }
   },
   "outputs": [],
   "source": [
    "inl box forall t u. (x : result t u) : result' t u =\n",
    "    match x with\n",
    "    | Ok x =>\n",
    "        backend_switch {\n",
    "            Gleam = fun () => $'Ok(!x)' : result' t u\n",
    "            Fsharp = fun () => $'Ok !x ' : result' t u\n",
    "            Python = fun () => $'!x ' : result' t u\n",
    "        }\n",
    "    | Error err =>\n",
    "        backend_switch {\n",
    "            Gleam = fun () => $'Error(!err)' : result' t u\n",
    "            Fsharp = fun () => $'Error !err ' : result' t u\n",
    "            Python = fun () => $'!err ' : result' t u\n",
    "        }"
   ]
  },
  {
   "cell_type": "markdown",
   "metadata": {},
   "source": [
    "### map'"
   ]
  },
  {
   "cell_type": "code",
   "execution_count": null,
   "metadata": {
    "dotnet_interactive": {
     "language": "spiral"
    },
    "polyglot_notebook": {
     "kernelName": "spiral"
    }
   },
   "outputs": [],
   "source": [
    "inl map' forall t u e. (fn : t -> u) (x : result' t e) : result' u e =\n",
    "    backend_switch {\n",
    "        Gleam = fun () =>\n",
    "            result'_types ()\n",
    "            // inl fn = join fn\n",
    "            $'!x |> result.map(!fn)' : result' u e\n",
    "        Fsharp = fun () =>\n",
    "            inl fn = join fn\n",
    "            $'!x |> Result.map !fn ' : result' u e\n",
    "        Python = fun () =>\n",
    "            if x =. $'None'\n",
    "            then $'!x '\n",
    "            else fn $'!x ' |> fun x => $'!x ' : result' u e\n",
    "    }"
   ]
  },
  {
   "cell_type": "code",
   "execution_count": null,
   "metadata": {
    "dotnet_interactive": {
     "language": "spiral"
    },
    "polyglot_notebook": {
     "kernelName": "spiral"
    }
   },
   "outputs": [
    {
     "data": {
      "text/plain": [
       ".rs output:\n",
       "{ name = __assert_eq'; actual = US0_0(3), US0_1(\"error1\"); expected = US0_0(3), US0_1(\"error1\") }\n",
       "\n",
       ".ts output:\n",
       "{ name = __assert_eq'; actual = US0_0 3, US0_1 error1; expected = US0_0 3, US0_1 error1 }\n",
       "\n",
       ".py output:\n",
       "{ name = __assert_eq'; actual = US0_0 3, US0_1 \"error1\"; expected = US0_0 3, US0_1 \"error1\" }\n",
       "\n",
       "\n",
       ".gleam output (Gleam):\n",
       "\u001B[4;7mwarning: Unreachable case clause\u001B[0m\n",
       "\u001B[4;7m   ┌─ /home/runner/work/spiral/polyglot/target/spiral_Eval/packages/62a15ae0330e8f81bfc764295173252cf4b0a89aa104eb158c415cad743496db/src/main.gleam:38:39\u001B[0m\n",
       "\u001B[4;7m   │\u001B[0m\n",
       "\u001B[4;7m38 │     let v6 = case v0 { Ok(x) -> v4(x) Error(x) -> v5(x) }\u001B[0m\n",
       "\u001B[4;7m   │                                       ^^^^^^^^^^^^^^^^^\u001B[0m\n",
       "\u001B[4;7m\u001B[0m\n",
       "\u001B[4;7mThis case clause cannot be reached as it matches on a variant of a type\u001B[0m\n",
       "\u001B[4;7mwhich is never present.\u001B[0m\n",
       "\u001B[4;7m\u001B[0m\n",
       "\u001B[4;7mHint: It can be safely removed.\u001B[0m\n",
       "\u001B[4;7m\u001B[0m\n",
       "{compiling,\"/home/runner/work/spiral/polyglot/target/spiral_Eval/packages/62a15ae0330e8f81bfc764295173252cf4b0a89aa104eb158c415cad743496db/build/dev/erlang/main/_gleam_artefacts/main.erl\"}\n",
       "{compiling,\"/home/runner/work/spiral/polyglot/target/spiral_Eval/packages/62a15ae0330e8f81bfc764295173252cf4b0a89aa104eb158c415cad743496db/build/dev/erlang/main/_gleam_artefacts/main@@main.erl\"}\n",
       "{compiled,main,\n",
       "          \"/home/runner/work/spiral/polyglot/target/spiral_Eval/packages/62a15ae0330e8f81bfc764295173252cf4b0a89aa104eb158c415cad743496db/build/dev/erlang/main/ebin/main.beam\"}\n",
       "{compiled,main@@main,\n",
       "          \"/home/runner/work/spiral/polyglot/target/spiral_Eval/packages/62a15ae0330e8f81bfc764295173252cf4b0a89aa104eb158c415cad743496db/build/dev/erlang/main/ebin/main@@main.beam\"}\n",
       "{ name = __assert_eq'; actual = Us0i0(3), Us0i1(\"error1\"); expected = Us0i0(3), Us0i1(\"error1\") }\n",
       "\n",
       "\n"
      ]
     },
     "metadata": {},
     "output_type": "display_data"
    },
    {
     "name": "stdout",
     "output_type": "stream",
     "text": [
      ".fsx output:\n",
      "{ name = __assert_eq'; actual = US0_0 3, US0_1 \"error1\"; expected = US0_0 3, US0_1 \"error1\" }\n"
     ]
    }
   ],
   "source": [
    "//// test\n",
    "///! gleam\n",
    "///! fsharp\n",
    "////! cuda\n",
    "///! rust\n",
    "///! typescript\n",
    "///! python\n",
    "\n",
    "inl x : _ _ string = Ok 3i32\n",
    "inl y : _ i32 _ = Error \"error1\"\n",
    "inl x' = x |> box |> unbox\n",
    "inl y' = y |> box |> map' id |> unbox\n",
    "(x', y') |> _assert_eq' (x, y)"
   ]
  },
  {
   "cell_type": "markdown",
   "metadata": {},
   "source": [
    "## rust"
   ]
  },
  {
   "cell_type": "markdown",
   "metadata": {},
   "source": [
    "### anyhow_result"
   ]
  },
  {
   "cell_type": "code",
   "execution_count": null,
   "metadata": {
    "dotnet_interactive": {
     "language": "spiral"
    },
    "polyglot_notebook": {
     "kernelName": "spiral"
    }
   },
   "outputs": [],
   "source": [
    "nominal anyhow_result t =\n",
    "    `(\n",
    "        global \"#if FABLE_COMPILER\\n[<Fable.Core.Erase; Fable.Core.Emit(\\\"anyhow::Result<$0>\\\")>]\\n#endif\\ntype anyhow_Result<'T> = class end\"\n",
    "        $'' : $'anyhow_Result<`t>'\n",
    "    )"
   ]
  },
  {
   "cell_type": "markdown",
   "metadata": {},
   "source": [
    "### anyhow_error"
   ]
  },
  {
   "cell_type": "code",
   "execution_count": null,
   "metadata": {
    "dotnet_interactive": {
     "language": "spiral"
    },
    "polyglot_notebook": {
     "kernelName": "spiral"
    }
   },
   "outputs": [],
   "source": [
    "nominal anyhow_error =\n",
    "    `(\n",
    "        global \"#if FABLE_COMPILER\\n[<Fable.Core.Erase; Fable.Core.Emit(\\\"anyhow::Error\\\")>]\\n#endif\\ntype anyhow_Error = class end\"\n",
    "        $'' : $'anyhow_Error'\n",
    "    )\n",
    "\n",
    "inl anyhow_error error =\n",
    "    !\\\\(error, $'\"anyhow::anyhow\\!($0)\"')"
   ]
  },
  {
   "cell_type": "markdown",
   "metadata": {},
   "source": [
    "### try'"
   ]
  },
  {
   "cell_type": "code",
   "execution_count": null,
   "metadata": {
    "dotnet_interactive": {
     "language": "spiral"
    },
    "polyglot_notebook": {
     "kernelName": "spiral"
    }
   },
   "outputs": [],
   "source": [
    "inl try' forall t u. (x : result' t u) : t =\n",
    "    inl is_unit =\n",
    "        real\n",
    "            typecase t with\n",
    "            | () => true\n",
    "            | _ => false\n",
    "    if is_unit\n",
    "    then (!\\\\(x, $'\"true; $0?\"') : bool) |> fun _ => $''\n",
    "    else !\\\\(x, $'\"$0?\"')"
   ]
  },
  {
   "cell_type": "markdown",
   "metadata": {},
   "source": [
    "### to_try"
   ]
  },
  {
   "cell_type": "code",
   "execution_count": null,
   "metadata": {
    "dotnet_interactive": {
     "language": "spiral"
    },
    "polyglot_notebook": {
     "kernelName": "spiral"
    }
   },
   "outputs": [],
   "source": [
    "inl to_try forall t u. (x : result' t u) : rust.try t =\n",
    "    !\\\\(x, $'\"$0\"')"
   ]
  },
  {
   "cell_type": "markdown",
   "metadata": {},
   "source": [
    "### unwrap'"
   ]
  },
  {
   "cell_type": "code",
   "execution_count": null,
   "metadata": {
    "dotnet_interactive": {
     "language": "spiral"
    },
    "polyglot_notebook": {
     "kernelName": "spiral"
    }
   },
   "outputs": [],
   "source": [
    "inl unwrap' forall t u. (x : result' t u) : t =\n",
    "    run_target function\n",
    "        | Rust _ => fun () => !\\\\(x, $'\"$0.unwrap()\"')\n",
    "        | _ => fun () => $'match !x with Ok x -> x | Error e -> failwith $\"resultm.unwrap\\' / e: {e}\"'"
   ]
  },
  {
   "cell_type": "markdown",
   "metadata": {},
   "source": [
    "### unwrap_err'"
   ]
  },
  {
   "cell_type": "code",
   "execution_count": null,
   "metadata": {
    "dotnet_interactive": {
     "language": "spiral"
    },
    "polyglot_notebook": {
     "kernelName": "spiral"
    }
   },
   "outputs": [],
   "source": [
    "inl unwrap_err' forall t u. (x : result' t u) : u =\n",
    "    $'match !x with Ok x -> failwith $\"resultm.unwrap_err\\' / x: %A{x}\" | Error x -> x'"
   ]
  },
  {
   "cell_type": "markdown",
   "metadata": {},
   "source": [
    "### unbox'"
   ]
  },
  {
   "cell_type": "code",
   "execution_count": null,
   "metadata": {
    "dotnet_interactive": {
     "language": "spiral"
    },
    "polyglot_notebook": {
     "kernelName": "spiral"
    }
   },
   "outputs": [],
   "source": [
    "inl unbox' forall t u. (x : result' t u) : result t u =\n",
    "    inl ok x : result t u = Ok x\n",
    "    inl ok = join ok\n",
    "    inl error x : result t u = Error x\n",
    "    inl error = join error\n",
    "    real\n",
    "        typecase t with\n",
    "        | () =>\n",
    "            (~!\\\\)\n",
    "                `((result' t u -> result t u) * (result' t u -> result t u))\n",
    "                `(result t u)\n",
    "                ((ok, error, x), ($'\"match $2 { Ok(()) => $0(()), Err(e) => $1(e) }\"' : string))\n",
    "        | _ =>\n",
    "            (~!\\\\)\n",
    "                `((result' t u -> result t u) * (result' t u -> result t u))\n",
    "                `(result t u)\n",
    "                ((ok, error, x), ($'\"match $2 { Ok(x) => $0(x), Err(e) => $1(e) }\"' : string))"
   ]
  },
  {
   "cell_type": "markdown",
   "metadata": {},
   "source": [
    "### map'"
   ]
  },
  {
   "cell_type": "code",
   "execution_count": null,
   "metadata": {
    "dotnet_interactive": {
     "language": "spiral"
    },
    "polyglot_notebook": {
     "kernelName": "spiral"
    }
   },
   "outputs": [],
   "source": [
    "inl map' forall t e u. (fn : t -> u) (source : result' t e) : result' u e =\n",
    "    (!\\\\(source, $'\"true; let _result_map_ = $0.map(|x| { //\"') : bool) |> ignore\n",
    "    (!\\\\(fn !\\($'\"x\"'), $'\"true; $0 })\"') : bool) |> ignore\n",
    "    !\\($'\"_result_map_\"')"
   ]
  },
  {
   "cell_type": "markdown",
   "metadata": {},
   "source": [
    "### map''"
   ]
  },
  {
   "cell_type": "code",
   "execution_count": null,
   "metadata": {
    "dotnet_interactive": {
     "language": "spiral"
    },
    "polyglot_notebook": {
     "kernelName": "spiral"
    }
   },
   "outputs": [],
   "source": [
    "inl map'' forall t e u. (fn : t -> u) (source : result' t e) : result' u e =\n",
    "    inl fn = join fn\n",
    "    inl source = join source\n",
    "    !\\($'\"!source.map(|x| !fn(x))\"')"
   ]
  },
  {
   "cell_type": "markdown",
   "metadata": {},
   "source": [
    "### map_error'"
   ]
  },
  {
   "cell_type": "code",
   "execution_count": null,
   "metadata": {
    "dotnet_interactive": {
     "language": "spiral"
    },
    "polyglot_notebook": {
     "kernelName": "spiral"
    }
   },
   "outputs": [],
   "source": [
    "inl map_error' forall t e u. (fn : e -> u) (source : result' t e) : result' t u =\n",
    "    inl fn = join fn\n",
    "    run_target_args (fun () => fn) function\n",
    "        | Rust _ => fun fn =>\n",
    "            !\\\\((source, fn), $'\"$0.map_err(|x| $1(x))\"')\n",
    "        | _ => fun fn =>\n",
    "            $'match !source with Ok x -> Ok x | Error x -> Error (!fn x)' : result' t u"
   ]
  },
  {
   "cell_type": "markdown",
   "metadata": {},
   "source": [
    "### map_error''"
   ]
  },
  {
   "cell_type": "code",
   "execution_count": null,
   "metadata": {
    "dotnet_interactive": {
     "language": "spiral"
    },
    "polyglot_notebook": {
     "kernelName": "spiral"
    }
   },
   "outputs": [],
   "source": [
    "inl map_error'' forall t e u. (fn : e -> u) (source : result' t e) : result' t u =\n",
    "    (!\\\\(source, $'\"true; let _result_map_error__ = $0.map_err(|x| { //\"') : bool) |> ignore\n",
    "    (!\\\\(fn !\\($'\"x\"'), $'\"true; $0 })\"') : bool) |> ignore\n",
    "    !\\($'\"_result_map_error__\"')"
   ]
  },
  {
   "cell_type": "markdown",
   "metadata": {},
   "source": [
    "### option_ok_or"
   ]
  },
  {
   "cell_type": "code",
   "execution_count": null,
   "metadata": {
    "dotnet_interactive": {
     "language": "spiral"
    },
    "polyglot_notebook": {
     "kernelName": "spiral"
    }
   },
   "outputs": [],
   "source": [
    "inl option_ok_or forall t e. (e : e) (source : optionm'.option' t) : result' t e =\n",
    "    !\\\\(source, $'\"$0.ok_or(!e)\"')"
   ]
  },
  {
   "cell_type": "markdown",
   "metadata": {},
   "source": [
    "### unwrap_or_else"
   ]
  },
  {
   "cell_type": "code",
   "execution_count": null,
   "metadata": {
    "dotnet_interactive": {
     "language": "spiral"
    },
    "polyglot_notebook": {
     "kernelName": "spiral"
    }
   },
   "outputs": [],
   "source": [
    "inl unwrap_or_else forall t e u. (fn : e -> u) (source : result' t e) : u =\n",
    "    (!\\\\(source, $'\"true; let _result_unwrap_or_else = $0.unwrap_or_else(|x| { //\"') : bool) |> ignore\n",
    "    (!\\\\(fn !\\($'\"x\"'), $'\"true; $0 })\"') : bool) |> ignore\n",
    "    !\\($'\"_result_unwrap_or_else\"')"
   ]
  },
  {
   "cell_type": "markdown",
   "metadata": {},
   "source": [
    "### map_or_else"
   ]
  },
  {
   "cell_type": "code",
   "execution_count": null,
   "metadata": {
    "dotnet_interactive": {
     "language": "spiral"
    },
    "polyglot_notebook": {
     "kernelName": "spiral"
    }
   },
   "outputs": [],
   "source": [
    "inl map_or_else forall t e u v. (fn : e -> v) (fn2 : u -> v) (source : result' t e) : v =\n",
    "    (!\\\\(source, $'\"true; let _result_map_or_else = $0.map_or_else(|x| { //\"') : bool) |> ignore\n",
    "    (!\\\\(fn !\\($'\"x\"'), $'\"true; $0 }, |x| { //\"') : bool) |> ignore\n",
    "    (!\\\\(fn2 !\\($'\"x\"'), $'\"true; $0 })\"') : bool) |> ignore\n",
    "    !\\($'\"_result_map_or_else\"')"
   ]
  },
  {
   "cell_type": "markdown",
   "metadata": {},
   "source": [
    "### as_ref"
   ]
  },
  {
   "cell_type": "code",
   "execution_count": null,
   "metadata": {
    "dotnet_interactive": {
     "language": "spiral"
    },
    "polyglot_notebook": {
     "kernelName": "spiral"
    }
   },
   "outputs": [],
   "source": [
    "inl as_ref forall t e. (source : result' t e) : result' (rust.ref t) (rust.ref e) =\n",
    "    !\\($'\"!source.as_ref()\"')"
   ]
  },
  {
   "cell_type": "markdown",
   "metadata": {},
   "source": [
    "### as_ref'"
   ]
  },
  {
   "cell_type": "code",
   "execution_count": null,
   "metadata": {
    "dotnet_interactive": {
     "language": "spiral"
    },
    "polyglot_notebook": {
     "kernelName": "spiral"
    }
   },
   "outputs": [],
   "source": [
    "inl as_ref' forall t e. (source : rust.ref (result' t e)) : result' (rust.ref t) (rust.ref e) =\n",
    "    !\\($'\"!source.as_ref()\"')"
   ]
  },
  {
   "cell_type": "markdown",
   "metadata": {},
   "source": [
    "### unwrap_or'"
   ]
  },
  {
   "cell_type": "code",
   "execution_count": null,
   "metadata": {
    "dotnet_interactive": {
     "language": "spiral"
    },
    "polyglot_notebook": {
     "kernelName": "spiral"
    }
   },
   "outputs": [],
   "source": [
    "inl unwrap_or' forall t u. (default : t) (x : result' t u) : t =\n",
    "    !\\\\((x, default), $'\"$0.unwrap_or($1)\"')"
   ]
  },
  {
   "cell_type": "markdown",
   "metadata": {},
   "source": [
    "### expect"
   ]
  },
  {
   "cell_type": "code",
   "execution_count": null,
   "metadata": {
    "dotnet_interactive": {
     "language": "spiral"
    },
    "polyglot_notebook": {
     "kernelName": "spiral"
    }
   },
   "outputs": [],
   "source": [
    "inl expect forall t u. (error : rust.ref string) (x : result' t u) : t =\n",
    "    !\\($'\"!x.expect(&!error)\"')"
   ]
  },
  {
   "cell_type": "markdown",
   "metadata": {},
   "source": [
    "### is_err"
   ]
  },
  {
   "cell_type": "code",
   "execution_count": null,
   "metadata": {
    "dotnet_interactive": {
     "language": "spiral"
    },
    "polyglot_notebook": {
     "kernelName": "spiral"
    }
   },
   "outputs": [],
   "source": [
    "inl is_err forall t u. (x : result' t u) : bool =\n",
    "    run_target function\n",
    "        | Rust _ => fun () => !\\\\(x, $'\"$0.is_err()\"')\n",
    "        | _ => fun () => true"
   ]
  },
  {
   "cell_type": "markdown",
   "metadata": {},
   "source": [
    "### ok'"
   ]
  },
  {
   "cell_type": "code",
   "execution_count": null,
   "metadata": {
    "dotnet_interactive": {
     "language": "spiral"
    },
    "polyglot_notebook": {
     "kernelName": "spiral"
    }
   },
   "outputs": [],
   "source": [
    "inl ok' forall t. (x : result' t _) : optionm'.option' t =\n",
    "    run_target function\n",
    "        | Rust _ => fun () => !\\\\(x, $'\"$0.ok()\"')\n",
    "        | _ => fun () => $'match !x with Ok x -> Some x | Error _ -> None'"
   ]
  },
  {
   "cell_type": "markdown",
   "metadata": {},
   "source": [
    "### err"
   ]
  },
  {
   "cell_type": "code",
   "execution_count": null,
   "metadata": {
    "dotnet_interactive": {
     "language": "spiral"
    },
    "polyglot_notebook": {
     "kernelName": "spiral"
    }
   },
   "outputs": [],
   "source": [
    "inl err forall t u. (x : u) : result' t u =\n",
    "    run_target function\n",
    "        | Rust _ => fun () => !\\\\(x, $'\"Err($0)\"')\n",
    "        | _ => fun () => $'!x |> Error'"
   ]
  },
  {
   "cell_type": "markdown",
   "metadata": {},
   "source": [
    "### ok''"
   ]
  },
  {
   "cell_type": "code",
   "execution_count": null,
   "metadata": {
    "dotnet_interactive": {
     "language": "spiral"
    },
    "polyglot_notebook": {
     "kernelName": "spiral"
    }
   },
   "outputs": [],
   "source": [
    "inl ok'' forall t u. (x : t) : result' t u =\n",
    "    run_target function\n",
    "        | Rust _ => fun () => !\\\\(x, $'\"Ok($0)\"')\n",
    "        | _ => fun () => $'!x |> Ok'"
   ]
  },
  {
   "cell_type": "markdown",
   "metadata": {},
   "source": [
    "### transpose"
   ]
  },
  {
   "cell_type": "code",
   "execution_count": null,
   "metadata": {
    "dotnet_interactive": {
     "language": "spiral"
    },
    "polyglot_notebook": {
     "kernelName": "spiral"
    }
   },
   "outputs": [],
   "source": [
    "inl transpose forall t u. (x : optionm'.option' (result' t u)) : result' (optionm'.option' t) u =\n",
    "    !\\\\(x, $'\"$0.transpose()\"')"
   ]
  },
  {
   "cell_type": "markdown",
   "metadata": {},
   "source": [
    "### rc_try_unwrap"
   ]
  },
  {
   "cell_type": "code",
   "execution_count": null,
   "metadata": {
    "dotnet_interactive": {
     "language": "spiral"
    },
    "polyglot_notebook": {
     "kernelName": "spiral"
    }
   },
   "outputs": [],
   "source": [
    "inl rc_try_unwrap forall t. (x : rust.rc t) : result' t (rust.rc t) =\n",
    "    !\\\\(x, $'\"std::rc::Rc::try_unwrap($0)\"')"
   ]
  },
  {
   "cell_type": "code",
   "execution_count": null,
   "metadata": {
    "dotnet_interactive": {
     "language": "spiral"
    },
    "polyglot_notebook": {
     "kernelName": "spiral"
    }
   },
   "outputs": [
    {
     "data": {
      "text/plain": [
       "{ name = __assert_eq; actual = US0_0(true); expected = US0_0(true) }\n"
      ]
     },
     "metadata": {},
     "output_type": "display_data"
    }
   ],
   "source": [
    "//// test\n",
    "///! rust\n",
    "\n",
    "rust.new_rc true\n",
    "|> rc_try_unwrap\n",
    "|> unbox\n",
    "|> _assert_eq (Ok true)"
   ]
  }
 ],
 "metadata": {},
 "nbformat": 4,
 "nbformat_minor": 5
}