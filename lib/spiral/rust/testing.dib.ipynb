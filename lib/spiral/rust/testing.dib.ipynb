{
 "cells": [
  {
   "cell_type": "markdown",
   "metadata": {},
   "source": [
    "# rust/testing"
   ]
  },
  {
   "cell_type": "code",
   "execution_count": null,
   "metadata": {
    "dotnet_interactive": {
     "language": "spiral"
    },
    "polyglot_notebook": {
     "kernelName": "spiral"
    }
   },
   "outputs": [],
   "source": [
    "open rust.rust_operators"
   ]
  },
  {
   "cell_type": "code",
   "execution_count": null,
   "metadata": {
    "dotnet_interactive": {
     "language": "spiral"
    },
    "polyglot_notebook": {
     "kernelName": "spiral"
    }
   },
   "outputs": [],
   "source": [
    "//// test\n",
    "\n",
    "open testing"
   ]
  },
  {
   "cell_type": "markdown",
   "metadata": {},
   "source": [
    "### run_tests'"
   ]
  },
  {
   "cell_type": "code",
   "execution_count": null,
   "metadata": {
    "dotnet_interactive": {
     "language": "spiral"
    },
    "polyglot_notebook": {
     "kernelName": "spiral"
    }
   },
   "outputs": [],
   "source": [
    "inl run_tests' tests =\n",
    "    (!\\($'\"true; () //\"') : bool) |> ignore\n",
    "\n",
    "    inl fields = reflection.get_record_fields tests\n",
    "\n",
    "    fields\n",
    "    |> listm.iter fun name, (fn : string -> ()) =>\n",
    "        !\\($'\"} /* /*\"')\n",
    "        (!\\($'$\"*/ \\#[test] fn \" + !name + \"() { //\"') : bool) |> ignore\n",
    "        fn name\n",
    "\n",
    "    fields\n",
    "    |> listm.iter fun _ =>\n",
    "        !\\($'\"{ //\"') : ()"
   ]
  },
  {
   "cell_type": "code",
   "execution_count": null,
   "metadata": {
    "dotnet_interactive": {
     "language": "spiral"
    },
    "polyglot_notebook": {
     "kernelName": "spiral"
    }
   },
   "outputs": [],
   "source": [
    "//// test\n",
    "\n",
    "inl run test =\n",
    "    if env.get_environment_variable \"TEST\" = \"1\"\n",
    "    then ()\n",
    "    else\n",
    "        runtime.execution_options fun x => { x with\n",
    "            command = \"cargo test -- --show-output\"\n",
    "            working_directory = file_system.get_source_directory () |> Some |> optionm'.box\n",
    "            environment_variables = ;[ \"TEST\", \"1\" ]\n",
    "        }\n",
    "        |> runtime.execute_with_options\n",
    "        |> fun exit_code, result =>\n",
    "            exit_code |> _assert_eq 0i32\n",
    "            result |> _assert sm'.contains \"test result: ok. 1 passed; 0 failed; 0 ignored;\"\n",
    "\n",
    "    $'let tests () = !test ()' : ()"
   ]
  },
  {
   "cell_type": "code",
   "execution_count": null,
   "metadata": {
    "dotnet_interactive": {
     "language": "spiral"
    },
    "polyglot_notebook": {
     "kernelName": "spiral"
    }
   },
   "outputs": [
    {
     "data": {
      "text/plain": [
       "00:00:00 \u001B[94md\u001B[39m #1 runtime.execute_with_options / { file_name = cargo; arguments = [\"test\", \"--\", \"--show-output\"]; options = { command = cargo test -- --show-output; cancellation_token = None; environment_variables = Array(MutCell([(\"TEST\", \"1\")])); on_line = None; stdin = None; trace = true; working_directory = Some(\n",
       "    \"/home/runner/work/spiral/polyglot/target/spiral/spiral/packages/Rust/9d8f82825bbaec1dd364510cc488e6b760cde037fce6404566545d5502bf4db6\",\n",
       "); stderr = true } }\n",
       "00:00:00 \u001B[90mv\u001B[39m #2 ! \u001B[1m\u001B[33mwarning\u001B[0m\u001B[1m:\u001B[0m /home/runner/work/spiral/polyglot/target/spiral/spiral/packages/Rust/9d8f82825bbaec1dd364510cc488e6b760cde037fce6404566545d5502bf4db6/Cargo.toml: the cargo feature `edition2024` has been stabilized in the 1.85 release and is no longer necessary to be listed in the manifest\n",
       "00:00:00 \u001B[90mv\u001B[39m #3 !   See https://doc.rust-lang.org/nightly/cargo/reference/manifest.html#the-edition-field for more information about using this feature.\n",
       "00:00:00 \u001B[90mv\u001B[39m #4 ! \u001B[1m\u001B[32m   Compiling\u001B[0m spiral_9d8f82825bbaec1dd364510cc488e6b760cde037fce6404566545d5502bf4db6 v0.0.1 (/home/runner/work/spiral/polyglot/target/spiral/spiral/packages/Rust/9d8f82825bbaec1dd364510cc488e6b760cde037fce6404566545d5502bf4db6)\n",
       "00:00:00 \u001B[90mv\u001B[39m #5 ! \u001B[1m\u001B[32m    Finished\u001B[0m `test` profile [unoptimized + debuginfo] target(s) in 0.46s\n",
       "00:00:00 \u001B[90mv\u001B[39m #6 ! \u001B[1m\u001B[32m     Running\u001B[0m unittests spiral.rs (/home/runner/work/spiral/polyglot/target/spiral/spiral/target/debug/deps/spiral_9d8f82825bbaec1dd364510cc488e6b760cde037fce6404566545d5502bf4db6-cf352876c5045c1a)\n",
       "00:00:00 \u001B[90mv\u001B[39m #7 >\n",
       "00:00:00 \u001B[90mv\u001B[39m #8 > running 1 test\n",
       "00:00:00 \u001B[90mv\u001B[39m #9 > test module_6ff740fe::Spiral::a ... ok\n",
       "00:00:00 \u001B[90mv\u001B[39m #10 >\n",
       "00:00:00 \u001B[90mv\u001B[39m #11 > successes:\n",
       "00:00:00 \u001B[90mv\u001B[39m #12 >\n",
       "00:00:00 \u001B[90mv\u001B[39m #13 > ---- module_6ff740fe::Spiral::a stdout ----\n",
       "00:00:00 \u001B[90mv\u001B[39m #14 > { name = __assert_eq; actual = a; expected = a }\n",
       "00:00:00 \u001B[90mv\u001B[39m #15 >\n",
       "00:00:00 \u001B[90mv\u001B[39m #16 >\n",
       "00:00:00 \u001B[90mv\u001B[39m #17 > successes:\n",
       "00:00:00 \u001B[90mv\u001B[39m #18 >     module_6ff740fe::Spiral::a\n",
       "00:00:00 \u001B[90mv\u001B[39m #19 >\n",
       "00:00:00 \u001B[90mv\u001B[39m #20 > test result: ok. 1 passed; 0 failed; 0 ignored; 0 measured; 0 filtered out; finished in 0.00s\n",
       "00:00:00 \u001B[90mv\u001B[39m #21 >\n",
       "00:00:00 \u001B[90mv\u001B[39m #22 runtime.execute_with_options / result / { exit_code = 0; std_trace_length = 1326 }\n",
       "{ name = __assert_eq; actual = 0; expected = 0 }\n",
       "{ name = __assert; actual = test result: ok. 1 passed; 0 failed; 0 ignored;; expected = \u001B[4;7m\u001B[1m\u001B[33mwarning\u001B[0m\u001B[1m:\u001B[0m /home/runner/work/spiral/polyglot/target/spiral/spiral/packages/Rust/9d8f82825bbaec1dd364510cc488e6b760cde037fce6404566545d5502bf4db6/Cargo.toml: the cargo feature `edition2024` has been stabilized in the 1.85 release and is no longer necessary to be listed in the manifest\u001B[0m\n",
       "\u001B[4;7m  See https://doc.rust-lang.org/nightly/cargo/reference/manifest.html#the-edition-field for more information about using this feature.\u001B[0m\n",
       "\u001B[4;7m\u001B[1m\u001B[32m   Compiling\u001B[0m spiral_9d8f82825bbaec1dd364510cc488e6b760cde037fce6404566545d5502bf4db6 v0.0.1 (/home/runner/work/spiral/polyglot/target/spiral/spiral/packages/Rust/9d8f82825bbaec1dd364510cc488e6b760cde037fce6404566545d5502bf4db6)\u001B[0m\n",
       "\u001B[4;7m\u001B[1m\u001B[32m    Finished\u001B[0m `test` profile [unoptimized + debuginfo] target(s) in 0.46s\u001B[0m\n",
       "\u001B[4;7m\u001B[1m\u001B[32m     Running\u001B[0m unittests spiral.rs (/home/runner/work/spiral/polyglot/target/spiral/spiral/target/debug/deps/spiral_9d8f82825bbaec1dd364510cc488e6b760cde037fce6404566545d5502bf4db6-cf352876c5045c1a)\u001B[0m\n",
       "\n",
       "running 1 test\n",
       "test module_6ff740fe::Spiral::a ... ok\n",
       "\n",
       "successes:\n",
       "\n",
       "---- module_6ff740fe::Spiral::a stdout ----\n",
       "{ name = __assert_eq; actual = a; expected = a }\n",
       "\n",
       "\n",
       "successes:\n",
       "    module_6ff740fe::Spiral::a\n",
       "\n",
       "test result: ok. 1 passed; 0 failed; 0 ignored; 0 measured; 0 filtered out; finished in 0.00s\n",
       " }\n"
      ]
     },
     "metadata": {},
     "output_type": "display_data"
    }
   ],
   "source": [
    "//// test\n",
    "///! rust -d encoding_rs encoding_rs_io\n",
    "\n",
    "fun () =>\n",
    "    run_tests' {\n",
    "        a = _assert_eq \"a\"\n",
    "    }\n",
    "|> run"
   ]
  },
  {
   "cell_type": "markdown",
   "metadata": {},
   "source": [
    "### run_tests"
   ]
  },
  {
   "cell_type": "code",
   "execution_count": null,
   "metadata": {
    "dotnet_interactive": {
     "language": "spiral"
    },
    "polyglot_notebook": {
     "kernelName": "spiral"
    }
   },
   "outputs": [],
   "source": [
    "inl run_tests tests : () =\n",
    "    real\n",
    "        inl tests =\n",
    "            real_core.record_map\n",
    "                fun { key value } =>\n",
    "                    (fun _ => value ()) : string -> ()\n",
    "                tests\n",
    "        run_tests' `(`tests) tests"
   ]
  },
  {
   "cell_type": "code",
   "execution_count": null,
   "metadata": {
    "dotnet_interactive": {
     "language": "spiral"
    },
    "polyglot_notebook": {
     "kernelName": "spiral"
    }
   },
   "outputs": [
    {
     "data": {
      "text/plain": [
       "00:00:00 \u001B[94md\u001B[39m #1 runtime.execute_with_options / { file_name = cargo; arguments = [\"test\", \"--\", \"--show-output\"]; options = { command = cargo test -- --show-output; cancellation_token = None; environment_variables = Array(MutCell([(\"TEST\", \"1\")])); on_line = None; stdin = None; trace = true; working_directory = Some(\n",
       "    \"/home/runner/work/spiral/polyglot/target/spiral/spiral/packages/Rust/9d8f82825bbaec1dd364510cc488e6b760cde037fce6404566545d5502bf4db6\",\n",
       "); stderr = true } }\n",
       "00:00:00 \u001B[90mv\u001B[39m #2 ! \u001B[1m\u001B[33mwarning\u001B[0m\u001B[1m:\u001B[0m /home/runner/work/spiral/polyglot/target/spiral/spiral/packages/Rust/9d8f82825bbaec1dd364510cc488e6b760cde037fce6404566545d5502bf4db6/Cargo.toml: the cargo feature `edition2024` has been stabilized in the 1.85 release and is no longer necessary to be listed in the manifest\n",
       "00:00:00 \u001B[90mv\u001B[39m #3 !   See https://doc.rust-lang.org/nightly/cargo/reference/manifest.html#the-edition-field for more information about using this feature.\n",
       "00:00:00 \u001B[90mv\u001B[39m #4 ! \u001B[1m\u001B[32m   Compiling\u001B[0m spiral_9d8f82825bbaec1dd364510cc488e6b760cde037fce6404566545d5502bf4db6 v0.0.1 (/home/runner/work/spiral/polyglot/target/spiral/spiral/packages/Rust/9d8f82825bbaec1dd364510cc488e6b760cde037fce6404566545d5502bf4db6)\n",
       "00:00:00 \u001B[90mv\u001B[39m #5 ! \u001B[1m\u001B[32m    Finished\u001B[0m `test` profile [unoptimized + debuginfo] target(s) in 0.43s\n",
       "00:00:00 \u001B[90mv\u001B[39m #6 ! \u001B[1m\u001B[32m     Running\u001B[0m unittests spiral.rs (/home/runner/work/spiral/polyglot/target/spiral/spiral/target/debug/deps/spiral_9d8f82825bbaec1dd364510cc488e6b760cde037fce6404566545d5502bf4db6-cf352876c5045c1a)\n",
       "00:00:00 \u001B[90mv\u001B[39m #7 >\n",
       "00:00:00 \u001B[90mv\u001B[39m #8 > running 1 test\n",
       "00:00:00 \u001B[90mv\u001B[39m #9 > test module_6ff740fe::Spiral::a ... ok\n",
       "00:00:00 \u001B[90mv\u001B[39m #10 >\n",
       "00:00:00 \u001B[90mv\u001B[39m #11 > successes:\n",
       "00:00:00 \u001B[90mv\u001B[39m #12 >\n",
       "00:00:00 \u001B[90mv\u001B[39m #13 > ---- module_6ff740fe::Spiral::a stdout ----\n",
       "00:00:00 \u001B[90mv\u001B[39m #14 > { name = __assert_eq; actual = a; expected = a }\n",
       "00:00:00 \u001B[90mv\u001B[39m #15 >\n",
       "00:00:00 \u001B[90mv\u001B[39m #16 >\n",
       "00:00:00 \u001B[90mv\u001B[39m #17 > successes:\n",
       "00:00:00 \u001B[90mv\u001B[39m #18 >     module_6ff740fe::Spiral::a\n",
       "00:00:00 \u001B[90mv\u001B[39m #19 >\n",
       "00:00:00 \u001B[90mv\u001B[39m #20 > test result: ok. 1 passed; 0 failed; 0 ignored; 0 measured; 0 filtered out; finished in 0.00s\n",
       "00:00:00 \u001B[90mv\u001B[39m #21 >\n",
       "00:00:00 \u001B[90mv\u001B[39m #22 runtime.execute_with_options / result / { exit_code = 0; std_trace_length = 1326 }\n",
       "{ name = __assert_eq; actual = 0; expected = 0 }\n",
       "{ name = __assert; actual = test result: ok. 1 passed; 0 failed; 0 ignored;; expected = \u001B[4;7m\u001B[1m\u001B[33mwarning\u001B[0m\u001B[1m:\u001B[0m /home/runner/work/spiral/polyglot/target/spiral/spiral/packages/Rust/9d8f82825bbaec1dd364510cc488e6b760cde037fce6404566545d5502bf4db6/Cargo.toml: the cargo feature `edition2024` has been stabilized in the 1.85 release and is no longer necessary to be listed in the manifest\u001B[0m\n",
       "\u001B[4;7m  See https://doc.rust-lang.org/nightly/cargo/reference/manifest.html#the-edition-field for more information about using this feature.\u001B[0m\n",
       "\u001B[4;7m\u001B[1m\u001B[32m   Compiling\u001B[0m spiral_9d8f82825bbaec1dd364510cc488e6b760cde037fce6404566545d5502bf4db6 v0.0.1 (/home/runner/work/spiral/polyglot/target/spiral/spiral/packages/Rust/9d8f82825bbaec1dd364510cc488e6b760cde037fce6404566545d5502bf4db6)\u001B[0m\n",
       "\u001B[4;7m\u001B[1m\u001B[32m    Finished\u001B[0m `test` profile [unoptimized + debuginfo] target(s) in 0.43s\u001B[0m\n",
       "\u001B[4;7m\u001B[1m\u001B[32m     Running\u001B[0m unittests spiral.rs (/home/runner/work/spiral/polyglot/target/spiral/spiral/target/debug/deps/spiral_9d8f82825bbaec1dd364510cc488e6b760cde037fce6404566545d5502bf4db6-cf352876c5045c1a)\u001B[0m\n",
       "\n",
       "running 1 test\n",
       "test module_6ff740fe::Spiral::a ... ok\n",
       "\n",
       "successes:\n",
       "\n",
       "---- module_6ff740fe::Spiral::a stdout ----\n",
       "{ name = __assert_eq; actual = a; expected = a }\n",
       "\n",
       "\n",
       "successes:\n",
       "    module_6ff740fe::Spiral::a\n",
       "\n",
       "test result: ok. 1 passed; 0 failed; 0 ignored; 0 measured; 0 filtered out; finished in 0.00s\n",
       " }\n"
      ]
     },
     "metadata": {},
     "output_type": "display_data"
    }
   ],
   "source": [
    "//// test\n",
    "///! rust -d encoding_rs encoding_rs_io\n",
    "\n",
    "fun () =>\n",
    "    run_tests {\n",
    "        a = fun () => \"a\" |> _assert_eq \"a\"\n",
    "    }\n",
    "|> run"
   ]
  },
  {
   "cell_type": "markdown",
   "metadata": {},
   "source": [
    "### run_tests_log"
   ]
  },
  {
   "cell_type": "code",
   "execution_count": null,
   "metadata": {
    "dotnet_interactive": {
     "language": "spiral"
    },
    "polyglot_notebook": {
     "kernelName": "spiral"
    }
   },
   "outputs": [],
   "source": [
    "inl run_tests_log tests : () =\n",
    "    real\n",
    "        inl tests =\n",
    "            real_core.record_map\n",
    "                fun { key value } =>\n",
    "                    (fun _ => value false) : () -> ()\n",
    "                tests\n",
    "        run_tests `(`tests) tests"
   ]
  },
  {
   "cell_type": "code",
   "execution_count": null,
   "metadata": {
    "dotnet_interactive": {
     "language": "spiral"
    },
    "polyglot_notebook": {
     "kernelName": "spiral"
    }
   },
   "outputs": [
    {
     "data": {
      "text/plain": [
       "00:00:00 \u001B[94md\u001B[39m #1 runtime.execute_with_options / { file_name = cargo; arguments = [\"test\", \"--\", \"--show-output\"]; options = { command = cargo test -- --show-output; cancellation_token = None; environment_variables = Array(MutCell([(\"TEST\", \"1\")])); on_line = None; stdin = None; trace = true; working_directory = Some(\n",
       "    \"/home/runner/work/spiral/polyglot/target/spiral/spiral/packages/Rust/5d241e31be19c2b086c0db133673eb30ce90b8b095e9d926bf82cbb5a6f03123\",\n",
       "); stderr = true } }\n",
       "00:00:00 \u001B[90mv\u001B[39m #2 ! \u001B[1m\u001B[33mwarning\u001B[0m\u001B[1m:\u001B[0m /home/runner/work/spiral/polyglot/target/spiral/spiral/packages/Rust/5d241e31be19c2b086c0db133673eb30ce90b8b095e9d926bf82cbb5a6f03123/Cargo.toml: the cargo feature `edition2024` has been stabilized in the 1.85 release and is no longer necessary to be listed in the manifest\n",
       "00:00:00 \u001B[90mv\u001B[39m #3 !   See https://doc.rust-lang.org/nightly/cargo/reference/manifest.html#the-edition-field for more information about using this feature.\n",
       "00:00:00 \u001B[90mv\u001B[39m #4 ! \u001B[1m\u001B[32m   Compiling\u001B[0m spiral_5d241e31be19c2b086c0db133673eb30ce90b8b095e9d926bf82cbb5a6f03123 v0.0.1 (/home/runner/work/spiral/polyglot/target/spiral/spiral/packages/Rust/5d241e31be19c2b086c0db133673eb30ce90b8b095e9d926bf82cbb5a6f03123)\n",
       "00:00:00 \u001B[90mv\u001B[39m #5 ! \u001B[1m\u001B[32m    Finished\u001B[0m `test` profile [unoptimized + debuginfo] target(s) in 0.44s\n",
       "00:00:00 \u001B[90mv\u001B[39m #6 ! \u001B[1m\u001B[32m     Running\u001B[0m unittests spiral.rs (/home/runner/work/spiral/polyglot/target/spiral/spiral/target/debug/deps/spiral_5d241e31be19c2b086c0db133673eb30ce90b8b095e9d926bf82cbb5a6f03123-229d17a7d68db2cc)\n",
       "00:00:00 \u001B[90mv\u001B[39m #7 >\n",
       "00:00:00 \u001B[90mv\u001B[39m #8 > running 1 test\n",
       "00:00:00 \u001B[90mv\u001B[39m #9 > test module_6ff740fe::Spiral::a ... ok\n",
       "00:00:00 \u001B[90mv\u001B[39m #10 >\n",
       "00:00:00 \u001B[90mv\u001B[39m #11 > successes:\n",
       "00:00:00 \u001B[90mv\u001B[39m #12 >\n",
       "00:00:00 \u001B[90mv\u001B[39m #13 > ---- module_6ff740fe::Spiral::a stdout ----\n",
       "00:00:00 \u001B[90mv\u001B[39m #14 > { name = __assert_eq; actual = false; expected = false }\n",
       "00:00:00 \u001B[90mv\u001B[39m #15 >\n",
       "00:00:00 \u001B[90mv\u001B[39m #16 >\n",
       "00:00:00 \u001B[90mv\u001B[39m #17 > successes:\n",
       "00:00:00 \u001B[90mv\u001B[39m #18 >     module_6ff740fe::Spiral::a\n",
       "00:00:00 \u001B[90mv\u001B[39m #19 >\n",
       "00:00:00 \u001B[90mv\u001B[39m #20 > test result: ok. 1 passed; 0 failed; 0 ignored; 0 measured; 0 filtered out; finished in 0.00s\n",
       "00:00:00 \u001B[90mv\u001B[39m #21 >\n",
       "00:00:00 \u001B[90mv\u001B[39m #22 runtime.execute_with_options / result / { exit_code = 0; std_trace_length = 1334 }\n",
       "{ name = __assert_eq; actual = 0; expected = 0 }\n",
       "{ name = __assert; actual = test result: ok. 1 passed; 0 failed; 0 ignored;; expected = \u001B[4;7m\u001B[1m\u001B[33mwarning\u001B[0m\u001B[1m:\u001B[0m /home/runner/work/spiral/polyglot/target/spiral/spiral/packages/Rust/5d241e31be19c2b086c0db133673eb30ce90b8b095e9d926bf82cbb5a6f03123/Cargo.toml: the cargo feature `edition2024` has been stabilized in the 1.85 release and is no longer necessary to be listed in the manifest\u001B[0m\n",
       "\u001B[4;7m  See https://doc.rust-lang.org/nightly/cargo/reference/manifest.html#the-edition-field for more information about using this feature.\u001B[0m\n",
       "\u001B[4;7m\u001B[1m\u001B[32m   Compiling\u001B[0m spiral_5d241e31be19c2b086c0db133673eb30ce90b8b095e9d926bf82cbb5a6f03123 v0.0.1 (/home/runner/work/spiral/polyglot/target/spiral/spiral/packages/Rust/5d241e31be19c2b086c0db133673eb30ce90b8b095e9d926bf82cbb5a6f03123)\u001B[0m\n",
       "\u001B[4;7m\u001B[1m\u001B[32m    Finished\u001B[0m `test` profile [unoptimized + debuginfo] target(s) in 0.44s\u001B[0m\n",
       "\u001B[4;7m\u001B[1m\u001B[32m     Running\u001B[0m unittests spiral.rs (/home/runner/work/spiral/polyglot/target/spiral/spiral/target/debug/deps/spiral_5d241e31be19c2b086c0db133673eb30ce90b8b095e9d926bf82cbb5a6f03123-229d17a7d68db2cc)\u001B[0m\n",
       "\n",
       "running 1 test\n",
       "test module_6ff740fe::Spiral::a ... ok\n",
       "\n",
       "successes:\n",
       "\n",
       "---- module_6ff740fe::Spiral::a stdout ----\n",
       "{ name = __assert_eq; actual = false; expected = false }\n",
       "\n",
       "\n",
       "successes:\n",
       "    module_6ff740fe::Spiral::a\n",
       "\n",
       "test result: ok. 1 passed; 0 failed; 0 ignored; 0 measured; 0 filtered out; finished in 0.00s\n",
       " }\n"
      ]
     },
     "metadata": {},
     "output_type": "display_data"
    }
   ],
   "source": [
    "//// test\n",
    "///! rust -d encoding_rs encoding_rs_io\n",
    "\n",
    "fun () =>\n",
    "    run_tests_log {\n",
    "        a = _assert_eq false\n",
    "    }\n",
    "|> run"
   ]
  }
 ],
 "metadata": {},
 "nbformat": 4,
 "nbformat_minor": 5
}