{
 "cells": [
  {
   "cell_type": "markdown",
   "metadata": {},
   "source": [
    "# rust/testing"
   ]
  },
  {
   "cell_type": "code",
   "execution_count": null,
   "metadata": {
    "dotnet_interactive": {
     "language": "spiral"
    },
    "polyglot_notebook": {
     "kernelName": "spiral"
    }
   },
   "outputs": [],
   "source": [
    "open rust.rust_operators"
   ]
  },
  {
   "cell_type": "code",
   "execution_count": null,
   "metadata": {
    "dotnet_interactive": {
     "language": "spiral"
    },
    "polyglot_notebook": {
     "kernelName": "spiral"
    }
   },
   "outputs": [],
   "source": [
    "//// test\n",
    "\n",
    "open testing"
   ]
  },
  {
   "cell_type": "markdown",
   "metadata": {},
   "source": [
    "### run_tests'"
   ]
  },
  {
   "cell_type": "code",
   "execution_count": null,
   "metadata": {
    "dotnet_interactive": {
     "language": "spiral"
    },
    "polyglot_notebook": {
     "kernelName": "spiral"
    }
   },
   "outputs": [],
   "source": [
    "inl run_tests' tests =\n",
    "    (!\\($'\"true; () //\"') : bool) |> ignore\n",
    "\n",
    "    inl fields = reflection.get_record_fields tests\n",
    "\n",
    "    fields\n",
    "    |> listm.iter fun name, (fn : string -> ()) =>\n",
    "        !\\($'\"} /* /*\"')\n",
    "        (!\\($'$\"*/ \\#[test] fn \" + !name + \"() { //\"') : bool) |> ignore\n",
    "        fn name\n",
    "\n",
    "    fields\n",
    "    |> listm.iter fun _ =>\n",
    "        !\\($'\"{ //\"') : ()"
   ]
  },
  {
   "cell_type": "code",
   "execution_count": null,
   "metadata": {
    "dotnet_interactive": {
     "language": "spiral"
    },
    "polyglot_notebook": {
     "kernelName": "spiral"
    }
   },
   "outputs": [],
   "source": [
    "//// test\n",
    "\n",
    "inl run test =\n",
    "    if env.get_environment_variable \"TEST\" = \"1\"\n",
    "    then ()\n",
    "    else\n",
    "        runtime.execution_options fun x => { x with\n",
    "            command = \"cargo test -- --show-output\"\n",
    "            working_directory = file_system.get_source_directory () |> Some |> optionm'.box\n",
    "            environment_variables = ;[ \"TEST\", \"1\" ]\n",
    "        }\n",
    "        |> runtime.execute_with_options\n",
    "        |> fun exit_code, result =>\n",
    "            exit_code |> _assert_eq 0i32\n",
    "            result |> _assert sm'.contains \"test result: ok. 1 passed; 0 failed; 0 ignored;\"\n",
    "\n",
    "    $'let tests () = !test ()' : ()"
   ]
  },
  {
   "cell_type": "code",
   "execution_count": null,
   "metadata": {
    "dotnet_interactive": {
     "language": "spiral"
    },
    "polyglot_notebook": {
     "kernelName": "spiral"
    }
   },
   "outputs": [
    {
     "data": {
      "text/plain": [
       "00:00:00 \u001B[94md\u001B[39m #1 runtime.execute_with_options / { file_name = cargo; arguments = [\"test\", \"--\", \"--show-output\"]; options = { command = cargo test -- --show-output; cancellation_token = None; environment_variables = Array(MutCell([(\"TEST\", \"1\")])); on_line = None; stdin = None; trace = true; working_directory = Some(\n",
       "    \"/home/runner/work/spiral/polyglot/target/spiral/spiral/packages/Rust/386a801b717919092b75a187c44ff51550306b0830c782619cde9d79f122b126\",\n",
       ") } }\n",
       "00:00:00 \u001B[90mv\u001B[39m #2 ! \u001B[1m\u001B[33mwarning\u001B[0m\u001B[1m:\u001B[0m /home/runner/work/spiral/polyglot/target/spiral/spiral/packages/Rust/16cf3d7bf09f07fc4cc8cc9e10fa43849fe77a43577f2c58283a4e4f430a11c7/Cargo.toml: the cargo feature `edition2024` has been stabilized in the 1.85 release and is no longer necessary to be listed in the manifest\n",
       "00:00:00 \u001B[90mv\u001B[39m #3 !   See https://doc.rust-lang.org/nightly/cargo/reference/manifest.html#the-edition-field for more information about using this feature.\n",
       "00:00:00 \u001B[90mv\u001B[39m #4 ! \u001B[1m\u001B[33mwarning\u001B[0m\u001B[1m:\u001B[0m /home/runner/work/spiral/polyglot/target/spiral/spiral/packages/Rust/79e4e5601736a009526631c3da4e3b7c815c36e8a0555edd0fb51749adf1bb9a/Cargo.toml: the cargo feature `edition2024` has been stabilized in the 1.85 release and is no longer necessary to be listed in the manifest\n",
       "00:00:00 \u001B[90mv\u001B[39m #5 !   See https://doc.rust-lang.org/nightly/cargo/reference/manifest.html#the-edition-field for more information about using this feature.\n",
       "00:00:00 \u001B[90mv\u001B[39m #6 ! \u001B[1m\u001B[33mwarning\u001B[0m\u001B[1m:\u001B[0m /home/runner/work/spiral/polyglot/target/spiral/spiral/packages/Rust/c1b2774684c7e7b3f861b504e973bbef9a6a216887543899305f078936974119/Cargo.toml: the cargo feature `edition2024` has been stabilized in the 1.85 release and is no longer necessary to be listed in the manifest\n",
       "00:00:00 \u001B[90mv\u001B[39m #7 !   See https://doc.rust-lang.org/nightly/cargo/reference/manifest.html#the-edition-field for more information about using this feature.\n",
       "00:00:00 \u001B[90mv\u001B[39m #8 ! \u001B[1m\u001B[33mwarning\u001B[0m\u001B[1m:\u001B[0m /home/runner/work/spiral/polyglot/target/spiral/spiral/packages/Rust/2111fe7e52bca3abcb23a22ccd3649efd65d35a1529921bf81c326de2ecbfd99/Cargo.toml: the cargo feature `edition2024` has been stabilized in the 1.85 release and is no longer necessary to be listed in the manifest\n",
       "00:00:00 \u001B[90mv\u001B[39m #9 !   See https://doc.rust-lang.org/nightly/cargo/reference/manifest.html#the-edition-field for more information about using this feature.\n",
       "00:00:00 \u001B[90mv\u001B[39m #10 ! \u001B[1m\u001B[33mwarning\u001B[0m\u001B[1m:\u001B[0m /home/runner/work/spiral/polyglot/target/spiral/spiral/packages/Rust/6144582bb34a6ceb58cb07b6028aadf09576594f361fb5f02e28476c2e56e924/Cargo.toml: the cargo feature `edition2024` has been stabilized in the 1.85 release and is no longer necessary to be listed in the manifest\n",
       "00:00:00 \u001B[90mv\u001B[39m #11 !   See https://doc.rust-lang.org/nightly/cargo/reference/manifest.html#the-edition-field for more information about using this feature.\n",
       "00:00:00 \u001B[90mv\u001B[39m #12 ! \u001B[1m\u001B[33mwarning\u001B[0m\u001B[1m:\u001B[0m /home/runner/work/spiral/polyglot/target/spiral/spiral/packages/Rust/2fcd6672bb95598dba21dacf8fa7ad8b03bcb01a28846d5dcfcec69796e82628/Cargo.toml: the cargo feature `edition2024` has been stabilized in the 1.85 release and is no longer necessary to be listed in the manifest\n",
       "00:00:00 \u001B[90mv\u001B[39m #13 !   See https://doc.rust-lang.org/nightly/cargo/reference/manifest.html#the-edition-field for more information about using this feature.\n",
       "00:00:00 \u001B[90mv\u001B[39m #14 ! \u001B[1m\u001B[33mwarning\u001B[0m\u001B[1m:\u001B[0m /home/runner/work/spiral/polyglot/target/spiral/spiral/packages/Rust/386a801b717919092b75a187c44ff51550306b0830c782619cde9d79f122b126/Cargo.toml: the cargo feature `edition2024` has been stabilized in the 1.85 release and is no longer necessary to be listed in the manifest\n",
       "00:00:00 \u001B[90mv\u001B[39m #15 !   See https://doc.rust-lang.org/nightly/cargo/reference/manifest.html#the-edition-field for more information about using this feature.\n",
       "00:00:00 \u001B[90mv\u001B[39m #16 ! \u001B[1m\u001B[33mwarning\u001B[0m\u001B[1m:\u001B[0m /home/runner/work/spiral/polyglot/target/spiral/spiral/packages/Rust/2742be4bb162325c0d35b3d710c379153616376255c5d847e504b55ca938f45c/Cargo.toml: the cargo feature `edition2024` has been stabilized in the 1.85 release and is no longer necessary to be listed in the manifest\n",
       "00:00:00 \u001B[90mv\u001B[39m #17 !   See https://doc.rust-lang.org/nightly/cargo/reference/manifest.html#the-edition-field for more information about using this feature.\n",
       "00:00:00 \u001B[90mv\u001B[39m #18 ! \u001B[1m\u001B[33mwarning\u001B[0m\u001B[1m:\u001B[0m /home/runner/work/spiral/polyglot/target/spiral/spiral/packages/Rust/74760754c272c9e32129af400f95e33de15c2247c6cd102c2660e5f1381cd749/Cargo.toml: the cargo feature `edition2024` has been stabilized in the 1.85 release and is no longer necessary to be listed in the manifest\n",
       "00:00:00 \u001B[90mv\u001B[39m #19 !   See https://doc.rust-lang.org/nightly/cargo/reference/manifest.html#the-edition-field for more information about using this feature.\n",
       "00:00:00 \u001B[90mv\u001B[39m #20 ! \u001B[1m\u001B[33mwarning\u001B[0m\u001B[1m:\u001B[0m /home/runner/work/spiral/polyglot/target/spiral/spiral/packages/Rust/b407d1d1ae20870283cf90f834aab00ed9a1caf4ee3ff2428b98206276040f43/Cargo.toml: the cargo feature `edition2024` has been stabilized in the 1.85 release and is no longer necessary to be listed in the manifest\n",
       "00:00:00 \u001B[90mv\u001B[39m #21 !   See https://doc.rust-lang.org/nightly/cargo/reference/manifest.html#the-edition-field for more information about using this feature.\n",
       "00:00:00 \u001B[90mv\u001B[39m #22 ! \u001B[1m\u001B[33mwarning\u001B[0m\u001B[1m:\u001B[0m /home/runner/work/spiral/polyglot/target/spiral/spiral/packages/Rust/2ef8b15c945dbfbc67ff5bc26c9e9501a45a3263b540960ac7776259d199e145/Cargo.toml: the cargo feature `edition2024` has been stabilized in the 1.85 release and is no longer necessary to be listed in the manifest\n",
       "00:00:00 \u001B[90mv\u001B[39m #23 !   See https://doc.rust-lang.org/nightly/cargo/reference/manifest.html#the-edition-field for more information about using this feature.\n",
       "00:00:00 \u001B[90mv\u001B[39m #24 ! \u001B[1m\u001B[33mwarning\u001B[0m\u001B[1m:\u001B[0m /home/runner/work/spiral/polyglot/target/spiral/spiral/packages/Rust/34c72c344df963355858a657fae3703186669cdcd9af134a15099c6feb0c4e1e/Cargo.toml: the cargo feature `edition2024` has been stabilized in the 1.85 release and is no longer necessary to be listed in the manifest\n",
       "00:00:00 \u001B[90mv\u001B[39m #25 !   See https://doc.rust-lang.org/nightly/cargo/reference/manifest.html#the-edition-field for more information about using this feature.\n",
       "00:00:00 \u001B[90mv\u001B[39m #26 ! \u001B[1m\u001B[33mwarning\u001B[0m\u001B[1m:\u001B[0m /home/runner/work/spiral/polyglot/target/spiral/spiral/packages/Rust/1d0d63b28cd7000981be7782cf0633a414f31090a4baeebb994a453328c52215/Cargo.toml: the cargo feature `edition2024` has been stabilized in the 1.85 release and is no longer necessary to be listed in the manifest\n",
       "00:00:00 \u001B[90mv\u001B[39m #27 !   See https://doc.rust-lang.org/nightly/cargo/reference/manifest.html#the-edition-field for more information about using this feature.\n",
       "00:00:00 \u001B[90mv\u001B[39m #28 ! \u001B[1m\u001B[33mwarning\u001B[0m\u001B[1m:\u001B[0m /home/runner/work/spiral/polyglot/target/spiral/spiral/packages/Rust/c0b35bb676430695e76b2c15eeaf4790d1032e5b665223cde00f606b43544739/Cargo.toml: the cargo feature `edition2024` has been stabilized in the 1.85 release and is no longer necessary to be listed in the manifest\n",
       "00:00:00 \u001B[90mv\u001B[39m #29 !   See https://doc.rust-lang.org/nightly/cargo/reference/manifest.html#the-edition-field for more information about using this feature.\n",
       "00:00:00 \u001B[90mv\u001B[39m #30 ! \u001B[1m\u001B[33mwarning\u001B[0m\u001B[1m:\u001B[0m /home/runner/work/spiral/polyglot/target/spiral/spiral/packages/Rust/6c10b167dcca89dc67852bf03dfd706083dea8c974d129f5102f968a306cdbe7/Cargo.toml: the cargo feature `edition2024` has been stabilized in the 1.85 release and is no longer necessary to be listed in the manifest\n",
       "00:00:00 \u001B[90mv\u001B[39m #31 !   See https://doc.rust-lang.org/nightly/cargo/reference/manifest.html#the-edition-field for more information about using this feature.\n",
       "00:00:00 \u001B[90mv\u001B[39m #32 ! \u001B[1m\u001B[33mwarning\u001B[0m\u001B[1m:\u001B[0m /home/runner/work/spiral/polyglot/target/spiral/spiral/packages/Rust/7bcc5b35e49b3ebf401d892e4709c5d6ba8df4862746e27d5d8a0914ea5ab24d/Cargo.toml: the cargo feature `edition2024` has been stabilized in the 1.85 release and is no longer necessary to be listed in the manifest\n",
       "00:00:00 \u001B[90mv\u001B[39m #33 !   See https://doc.rust-lang.org/nightly/cargo/reference/manifest.html#the-edition-field for more information about using this feature.\n",
       "00:00:00 \u001B[90mv\u001B[39m #34 ! \u001B[1m\u001B[33mwarning\u001B[0m\u001B[1m:\u001B[0m /home/runner/work/spiral/polyglot/target/spiral/spiral/packages/Rust/92089dbcc91dd193318a489afff8316454ddf6234525bb5b6c662abd1f6bf5d5/Cargo.toml: the cargo feature `edition2024` has been stabilized in the 1.85 release and is no longer necessary to be listed in the manifest\n",
       "00:00:00 \u001B[90mv\u001B[39m #35 !   See https://doc.rust-lang.org/nightly/cargo/reference/manifest.html#the-edition-field for more information about using this feature.\n",
       "00:00:00 \u001B[90mv\u001B[39m #36 ! \u001B[1m\u001B[33mwarning\u001B[0m\u001B[1m:\u001B[0m /home/runner/work/spiral/polyglot/target/spiral/spiral/packages/Rust/a8410e55acc4c94cff1e0a232696c77a466d67b5c8575e9dc6f9806d3c6bcfce/Cargo.toml: the cargo feature `edition2024` has been stabilized in the 1.85 release and is no longer necessary to be listed in the manifest\n",
       "00:00:00 \u001B[90mv\u001B[39m #37 !   See https://doc.rust-lang.org/nightly/cargo/reference/manifest.html#the-edition-field for more information about using this feature.\n",
       "00:00:00 \u001B[90mv\u001B[39m #38 ! \u001B[1m\u001B[33mwarning\u001B[0m\u001B[1m:\u001B[0m /home/runner/work/spiral/polyglot/target/spiral/spiral/packages/Rust/75efa6b80398a6c37f3afc9a80195eb46c95d44b4309de931b43a844da11bd7d/Cargo.toml: the cargo feature `edition2024` has been stabilized in the 1.85 release and is no longer necessary to be listed in the manifest\n",
       "00:00:00 \u001B[90mv\u001B[39m #39 !   See https://doc.rust-lang.org/nightly/cargo/reference/manifest.html#the-edition-field for more information about using this feature.\n",
       "00:00:00 \u001B[90mv\u001B[39m #40 ! \u001B[1m\u001B[33mwarning\u001B[0m\u001B[1m:\u001B[0m /home/runner/work/spiral/polyglot/target/spiral/spiral/packages/Rust/03a0e220210a77c91474af8c5f4918a16c9f8630d05daeb42bab51cc3f8cd313/Cargo.toml: the cargo feature `edition2024` has been stabilized in the 1.85 release and is no longer necessary to be listed in the manifest\n",
       "00:00:00 \u001B[90mv\u001B[39m #41 !   See https://doc.rust-lang.org/nightly/cargo/reference/manifest.html#the-edition-field for more information about using this feature.\n",
       "00:00:00 \u001B[90mv\u001B[39m #42 ! \u001B[1m\u001B[33mwarning\u001B[0m\u001B[1m:\u001B[0m /home/runner/work/spiral/polyglot/target/spiral/spiral/packages/Rust/9ef2f951ef62a707cef7f970d4ec6e874efaed6d6911b1e85b6c4bdc5deb1542/Cargo.toml: the cargo feature `edition2024` has been stabilized in the 1.85 release and is no longer necessary to be listed in the manifest\n",
       "00:00:00 \u001B[90mv\u001B[39m #43 !   See https://doc.rust-lang.org/nightly/cargo/reference/manifest.html#the-edition-field for more information about using this feature.\n",
       "00:00:00 \u001B[90mv\u001B[39m #44 ! \u001B[1m\u001B[32m   Compiling\u001B[0m spiral_386a801b717919092b75a187c44ff51550306b0830c782619cde9d79f122b126 v0.0.1 (/home/runner/work/spiral/polyglot/target/spiral/spiral/packages/Rust/386a801b717919092b75a187c44ff51550306b0830c782619cde9d79f122b126)\n",
       "00:00:00 \u001B[90mv\u001B[39m #45 ! \u001B[1m\u001B[32m    Finished\u001B[0m `test` profile [unoptimized + debuginfo] target(s) in 0.50s\n",
       "00:00:00 \u001B[90mv\u001B[39m #46 ! \u001B[1m\u001B[32m     Running\u001B[0m unittests spiral.rs (/home/runner/work/spiral/polyglot/target/spiral/spiral/target/debug/deps/spiral_386a801b717919092b75a187c44ff51550306b0830c782619cde9d79f122b126-ad815f2840bee1e4)\n",
       "00:00:00 \u001B[90mv\u001B[39m #47 >\n",
       "00:00:00 \u001B[90mv\u001B[39m #48 > running 1 test\n",
       "00:00:00 \u001B[90mv\u001B[39m #49 > test module_6ff740fe::Spiral::a ... ok\n",
       "00:00:00 \u001B[90mv\u001B[39m #50 >\n",
       "00:00:00 \u001B[90mv\u001B[39m #51 > successes:\n",
       "00:00:00 \u001B[90mv\u001B[39m #52 >\n",
       "00:00:00 \u001B[90mv\u001B[39m #53 > ---- module_6ff740fe::Spiral::a stdout ----\n",
       "00:00:00 \u001B[90mv\u001B[39m #54 > { name = __assert_eq; actual = a; expected = a }\n",
       "00:00:00 \u001B[90mv\u001B[39m #55 >\n",
       "00:00:00 \u001B[90mv\u001B[39m #56 >\n",
       "00:00:00 \u001B[90mv\u001B[39m #57 > successes:\n",
       "00:00:00 \u001B[90mv\u001B[39m #58 >     module_6ff740fe::Spiral::a\n",
       "00:00:00 \u001B[90mv\u001B[39m #59 >\n",
       "00:00:00 \u001B[90mv\u001B[39m #60 > test result: ok. 1 passed; 0 failed; 0 ignored; 0 measured; 0 filtered out; finished in 0.00s\n",
       "00:00:00 \u001B[90mv\u001B[39m #61 >\n",
       "00:00:00 \u001B[90mv\u001B[39m #62 runtime.execute_with_options / result / { exit_code = 0; std_trace_length = 10506 }\n",
       "{ name = __assert_eq; actual = 0; expected = 0 }\n",
       "{ name = __assert; actual = test result: ok. 1 passed; 0 failed; 0 ignored;; expected = \u001B[4;7m\u001B[1m\u001B[33mwarning\u001B[0m\u001B[1m:\u001B[0m /home/runner/work/spiral/polyglot/target/spiral/spiral/packages/Rust/16cf3d7bf09f07fc4cc8cc9e10fa43849fe77a43577f2c58283a4e4f430a11c7/Cargo.toml: the cargo feature `edition2024` has been stabilized in the 1.85 release and is no longer necessary to be listed in the manifest\u001B[0m\n",
       "\u001B[4;7m  See https://doc.rust-lang.org/nightly/cargo/reference/manifest.html#the-edition-field for more information about using this feature.\u001B[0m\n",
       "\u001B[4;7m\u001B[1m\u001B[33mwarning\u001B[0m\u001B[1m:\u001B[0m /home/runner/work/spiral/polyglot/target/spiral/spiral/packages/Rust/79e4e5601736a009526631c3da4e3b7c815c36e8a0555edd0fb51749adf1bb9a/Cargo.toml: the cargo feature `edition2024` has been stabilized in the 1.85 release and is no longer necessary to be listed in the manifest\u001B[0m\n",
       "\u001B[4;7m  See https://doc.rust-lang.org/nightly/cargo/reference/manifest.html#the-edition-field for more information about using this feature.\u001B[0m\n",
       "\u001B[4;7m\u001B[1m\u001B[33mwarning\u001B[0m\u001B[1m:\u001B[0m /home/runner/work/spiral/polyglot/target/spiral/spiral/packages/Rust/c1b2774684c7e7b3f861b504e973bbef9a6a216887543899305f078936974119/Cargo.toml: the cargo feature `edition2024` has been stabilized in the 1.85 release and is no longer necessary to be listed in the manifest\u001B[0m\n",
       "\u001B[4;7m  See https://doc.rust-lang.org/nightly/cargo/reference/manifest.html#the-edition-field for more information about using this feature.\u001B[0m\n",
       "\u001B[4;7m\u001B[1m\u001B[33mwarning\u001B[0m\u001B[1m:\u001B[0m /home/runner/work/spiral/polyglot/target/spiral/spiral/packages/Rust/2111fe7e52bca3abcb23a22ccd3649efd65d35a1529921bf81c326de2ecbfd99/Cargo.toml: the cargo feature `edition2024` has been stabilized in the 1.85 release and is no longer necessary to be listed in the manifest\u001B[0m\n",
       "\u001B[4;7m  See https://doc.rust-lang.org/nightly/cargo/reference/manifest.html#the-edition-field for more information about using this feature.\u001B[0m\n",
       "\u001B[4;7m\u001B[1m\u001B[33mwarning\u001B[0m\u001B[1m:\u001B[0m /home/runner/work/spiral/polyglot/target/spiral/spiral/packages/Rust/6144582bb34a6ceb58cb07b6028aadf09576594f361fb5f02e28476c2e56e924/Cargo.toml: the cargo feature `edition2024` has been stabilized in the 1.85 release and is no longer necessary to be listed in the manifest\u001B[0m\n",
       "\u001B[4;7m  See https://doc.rust-lang.org/nightly/cargo/reference/manifest.html#the-edition-field for more information about using this feature.\u001B[0m\n",
       "\u001B[4;7m\u001B[1m\u001B[33mwarning\u001B[0m\u001B[1m:\u001B[0m /home/runner/work/spiral/polyglot/target/spiral/spiral/packages/Rust/2fcd6672bb95598dba21dacf8fa7ad8b03bcb01a28846d5dcfcec69796e82628/Cargo.toml: the cargo feature `edition2024` has been stabilized in the 1.85 release and is no longer necessary to be listed in the manifest\u001B[0m\n",
       "\u001B[4;7m  See https://doc.rust-lang.org/nightly/cargo/reference/manifest.html#the-edition-field for more information about using this feature.\u001B[0m\n",
       "\u001B[4;7m\u001B[1m\u001B[33mwarning\u001B[0m\u001B[1m:\u001B[0m /home/runner/work/spiral/polyglot/target/spiral/spiral/packages/Rust/386a801b717919092b75a187c44ff51550306b0830c782619cde9d79f122b126/Cargo.toml: the cargo feature `edition2024` has been stabilized in the 1.85 release and is no longer necessary to be listed in the manifest\u001B[0m\n",
       "\u001B[4;7m  See https://doc.rust-lang.org/nightly/cargo/reference/manifest.html#the-edition-field for more information about using this feature.\u001B[0m\n",
       "\u001B[4;7m\u001B[1m\u001B[33mwarning\u001B[0m\u001B[1m:\u001B[0m /home/runner/work/spiral/polyglot/target/spiral/spiral/packages/Rust/2742be4bb162325c0d35b3d710c379153616376255c5d847e504b55ca938f45c/Cargo.toml: the cargo feature `edition2024` has been stabilized in the 1.85 release and is no longer necessary to be listed in the manifest\u001B[0m\n",
       "\u001B[4;7m  See https://doc.rust-lang.org/nightly/cargo/reference/manifest.html#the-edition-field for more information about using this feature.\u001B[0m\n",
       "\u001B[4;7m\u001B[1m\u001B[33mwarning\u001B[0m\u001B[1m:\u001B[0m /home/runner/work/spiral/polyglot/target/spiral/spiral/packages/Rust/74760754c272c9e32129af400f95e33de15c2247c6cd102c2660e5f1381cd749/Cargo.toml: the cargo feature `edition2024` has been stabilized in the 1.85 release and is no longer necessary to be listed in the manifest\u001B[0m\n",
       "\u001B[4;7m  See https://doc.rust-lang.org/nightly/cargo/reference/manifest.html#the-edition-field for more information about using this feature.\u001B[0m\n",
       "\u001B[4;7m\u001B[1m\u001B[33mwarning\u001B[0m\u001B[1m:\u001B[0m /home/runner/work/spiral/polyglot/target/spiral/spiral/packages/Rust/b407d1d1ae20870283cf90f834aab00ed9a1caf4ee3ff2428b98206276040f43/Cargo.toml: the cargo feature `edition2024` has been stabilized in the 1.85 release and is no longer necessary to be listed in the manifest\u001B[0m\n",
       "\u001B[4;7m  See https://doc.rust-lang.org/nightly/cargo/reference/manifest.html#the-edition-field for more information about using this feature.\u001B[0m\n",
       "\u001B[4;7m\u001B[1m\u001B[33mwarning\u001B[0m\u001B[1m:\u001B[0m /home/runner/work/spiral/polyglot/target/spiral/spiral/packages/Rust/2ef8b15c945dbfbc67ff5bc26c9e9501a45a3263b540960ac7776259d199e145/Cargo.toml: the cargo feature `edition2024` has been stabilized in the 1.85 release and is no longer necessary to be listed in the manifest\u001B[0m\n",
       "\u001B[4;7m  See https://doc.rust-lang.org/nightly/cargo/reference/manifest.html#the-edition-field for more information about using this feature.\u001B[0m\n",
       "\u001B[4;7m\u001B[1m\u001B[33mwarning\u001B[0m\u001B[1m:\u001B[0m /home/runner/work/spiral/polyglot/target/spiral/spiral/packages/Rust/34c72c344df963355858a657fae3703186669cdcd9af134a15099c6feb0c4e1e/Cargo.toml: the cargo feature `edition2024` has been stabilized in the 1.85 release and is no longer necessary to be listed in the manifest\u001B[0m\n",
       "\u001B[4;7m  See https://doc.rust-lang.org/nightly/cargo/reference/manifest.html#the-edition-field for more information about using this feature.\u001B[0m\n",
       "\u001B[4;7m\u001B[1m\u001B[33mwarning\u001B[0m\u001B[1m:\u001B[0m /home/runner/work/spiral/polyglot/target/spiral/spiral/packages/Rust/1d0d63b28cd7000981be7782cf0633a414f31090a4baeebb994a453328c52215/Cargo.toml: the cargo feature `edition2024` has been stabilized in the 1.85 release and is no longer necessary to be listed in the manifest\u001B[0m\n",
       "\u001B[4;7m  See https://doc.rust-lang.org/nightly/cargo/reference/manifest.html#the-edition-field for more information about using this feature.\u001B[0m\n",
       "\u001B[4;7m\u001B[1m\u001B[33mwarning\u001B[0m\u001B[1m:\u001B[0m /home/runner/work/spiral/polyglot/target/spiral/spiral/packages/Rust/c0b35bb676430695e76b2c15eeaf4790d1032e5b665223cde00f606b43544739/Cargo.toml: the cargo feature `edition2024` has been stabilized in the 1.85 release and is no longer necessary to be listed in the manifest\u001B[0m\n",
       "\u001B[4;7m  See https://doc.rust-lang.org/nightly/cargo/reference/manifest.html#the-edition-field for more information about using this feature.\u001B[0m\n",
       "\u001B[4;7m\u001B[1m\u001B[33mwarning\u001B[0m\u001B[1m:\u001B[0m /home/runner/work/spiral/polyglot/target/spiral/spiral/packages/Rust/6c10b167dcca89dc67852bf03dfd706083dea8c974d129f5102f968a306cdbe7/Cargo.toml: the cargo feature `edition2024` has been stabilized in the 1.85 release and is no longer necessary to be listed in the manifest\u001B[0m\n",
       "\u001B[4;7m  See https://doc.rust-lang.org/nightly/cargo/reference/manifest.html#the-edition-field for more information about using this feature.\u001B[0m\n",
       "\u001B[4;7m\u001B[1m\u001B[33mwarning\u001B[0m\u001B[1m:\u001B[0m /home/runner/work/spiral/polyglot/target/spiral/spiral/packages/Rust/7bcc5b35e49b3ebf401d892e4709c5d6ba8df4862746e27d5d8a0914ea5ab24d/Cargo.toml: the cargo feature `edition2024` has been stabilized in the 1.85 release and is no longer necessary to be listed in the manifest\u001B[0m\n",
       "\u001B[4;7m  See https://doc.rust-lang.org/nightly/cargo/reference/manifest.html#the-edition-field for more information about using this feature.\u001B[0m\n",
       "\u001B[4;7m\u001B[1m\u001B[33mwarning\u001B[0m\u001B[1m:\u001B[0m /home/runner/work/spiral/polyglot/target/spiral/spiral/packages/Rust/92089dbcc91dd193318a489afff8316454ddf6234525bb5b6c662abd1f6bf5d5/Cargo.toml: the cargo feature `edition2024` has been stabilized in the 1.85 release and is no longer necessary to be listed in the manifest\u001B[0m\n",
       "\u001B[4;7m  See https://doc.rust-lang.org/nightly/cargo/reference/manifest.html#the-edition-field for more information about using this feature.\u001B[0m\n",
       "\u001B[4;7m\u001B[1m\u001B[33mwarning\u001B[0m\u001B[1m:\u001B[0m /home/runner/work/spiral/polyglot/target/spiral/spiral/packages/Rust/a8410e55acc4c94cff1e0a232696c77a466d67b5c8575e9dc6f9806d3c6bcfce/Cargo.toml: the cargo feature `edition2024` has been stabilized in the 1.85 release and is no longer necessary to be listed in the manifest\u001B[0m\n",
       "\u001B[4;7m  See https://doc.rust-lang.org/nightly/cargo/reference/manifest.html#the-edition-field for more information about using this feature.\u001B[0m\n",
       "\u001B[4;7m\u001B[1m\u001B[33mwarning\u001B[0m\u001B[1m:\u001B[0m /home/runner/work/spiral/polyglot/target/spiral/spiral/packages/Rust/75efa6b80398a6c37f3afc9a80195eb46c95d44b4309de931b43a844da11bd7d/Cargo.toml: the cargo feature `edition2024` has been stabilized in the 1.85 release and is no longer necessary to be listed in the manifest\u001B[0m\n",
       "\u001B[4;7m  See https://doc.rust-lang.org/nightly/cargo/reference/manifest.html#the-edition-field for more information about using this feature.\u001B[0m\n",
       "\u001B[4;7m\u001B[1m\u001B[33mwarning\u001B[0m\u001B[1m:\u001B[0m /home/runner/work/spiral/polyglot/target/spiral/spiral/packages/Rust/03a0e220210a77c91474af8c5f4918a16c9f8630d05daeb42bab51cc3f8cd313/Cargo.toml: the cargo feature `edition2024` has been stabilized in the 1.85 release and is no longer necessary to be listed in the manifest\u001B[0m\n",
       "\u001B[4;7m  See https://doc.rust-lang.org/nightly/cargo/reference/manifest.html#the-edition-field for more information about using this feature.\u001B[0m\n",
       "\u001B[4;7m\u001B[1m\u001B[33mwarning\u001B[0m\u001B[1m:\u001B[0m /home/runner/work/spiral/polyglot/target/spiral/spiral/packages/Rust/9ef2f951ef62a707cef7f970d4ec6e874efaed6d6911b1e85b6c4bdc5deb1542/Cargo.toml: the cargo feature `edition2024` has been stabilized in the 1.85 release and is no longer necessary to be listed in the manifest\u001B[0m\n",
       "\u001B[4;7m  See https://doc.rust-lang.org/nightly/cargo/reference/manifest.html#the-edition-field for more information about using this feature.\u001B[0m\n",
       "\u001B[4;7m\u001B[1m\u001B[32m   Compiling\u001B[0m spiral_386a801b717919092b75a187c44ff51550306b0830c782619cde9d79f122b126 v0.0.1 (/home/runner/work/spiral/polyglot/target/spiral/spiral/packages/Rust/386a801b717919092b75a187c44ff51550306b0830c782619cde9d79f122b126)\u001B[0m\n",
       "\u001B[4;7m\u001B[1m\u001B[32m    Finished\u001B[0m `test` profile [unoptimized + debuginfo] target(s) in 0.50s\u001B[0m\n",
       "\u001B[4;7m\u001B[1m\u001B[32m     Running\u001B[0m unittests spiral.rs (/home/runner/work/spiral/polyglot/target/spiral/spiral/target/debug/deps/spiral_386a801b717919092b75a187c44ff51550306b0830c782619cde9d79f122b126-ad815f2840bee1e4)\u001B[0m\n",
       "\n",
       "running 1 test\n",
       "test module_6ff740fe::Spiral::a ... ok\n",
       "\n",
       "successes:\n",
       "\n",
       "---- module_6ff740fe::Spiral::a stdout ----\n",
       "{ name = __assert_eq; actual = a; expected = a }\n",
       "\n",
       "\n",
       "successes:\n",
       "    module_6ff740fe::Spiral::a\n",
       "\n",
       "test result: ok. 1 passed; 0 failed; 0 ignored; 0 measured; 0 filtered out; finished in 0.00s\n",
       " }\n"
      ]
     },
     "metadata": {},
     "output_type": "display_data"
    }
   ],
   "source": [
    "//// test\n",
    "///! rust -d encoding_rs encoding_rs_io\n",
    "\n",
    "fun () =>\n",
    "    run_tests' {\n",
    "        a = _assert_eq \"a\"\n",
    "    }\n",
    "|> run"
   ]
  },
  {
   "cell_type": "markdown",
   "metadata": {},
   "source": [
    "### run_tests"
   ]
  },
  {
   "cell_type": "code",
   "execution_count": null,
   "metadata": {
    "dotnet_interactive": {
     "language": "spiral"
    },
    "polyglot_notebook": {
     "kernelName": "spiral"
    }
   },
   "outputs": [],
   "source": [
    "inl run_tests tests : () =\n",
    "    real\n",
    "        inl tests =\n",
    "            real_core.record_map\n",
    "                fun { key value } =>\n",
    "                    (fun _ => value ()) : string -> ()\n",
    "                tests\n",
    "        run_tests' `(`tests) tests"
   ]
  },
  {
   "cell_type": "code",
   "execution_count": null,
   "metadata": {
    "dotnet_interactive": {
     "language": "spiral"
    },
    "polyglot_notebook": {
     "kernelName": "spiral"
    }
   },
   "outputs": [
    {
     "data": {
      "text/plain": [
       "00:00:00 \u001B[94md\u001B[39m #1 runtime.execute_with_options / { file_name = cargo; arguments = [\"test\", \"--\", \"--show-output\"]; options = { command = cargo test -- --show-output; cancellation_token = None; environment_variables = Array(MutCell([(\"TEST\", \"1\")])); on_line = None; stdin = None; trace = true; working_directory = Some(\n",
       "    \"/home/runner/work/spiral/polyglot/target/spiral/spiral/packages/Rust/386a801b717919092b75a187c44ff51550306b0830c782619cde9d79f122b126\",\n",
       ") } }\n",
       "00:00:00 \u001B[90mv\u001B[39m #2 ! \u001B[1m\u001B[33mwarning\u001B[0m\u001B[1m:\u001B[0m /home/runner/work/spiral/polyglot/target/spiral/spiral/packages/Rust/75efa6b80398a6c37f3afc9a80195eb46c95d44b4309de931b43a844da11bd7d/Cargo.toml: the cargo feature `edition2024` has been stabilized in the 1.85 release and is no longer necessary to be listed in the manifest\n",
       "00:00:00 \u001B[90mv\u001B[39m #3 !   See https://doc.rust-lang.org/nightly/cargo/reference/manifest.html#the-edition-field for more information about using this feature.\n",
       "00:00:00 \u001B[90mv\u001B[39m #4 ! \u001B[1m\u001B[33mwarning\u001B[0m\u001B[1m:\u001B[0m /home/runner/work/spiral/polyglot/target/spiral/spiral/packages/Rust/16cf3d7bf09f07fc4cc8cc9e10fa43849fe77a43577f2c58283a4e4f430a11c7/Cargo.toml: the cargo feature `edition2024` has been stabilized in the 1.85 release and is no longer necessary to be listed in the manifest\n",
       "00:00:00 \u001B[90mv\u001B[39m #5 !   See https://doc.rust-lang.org/nightly/cargo/reference/manifest.html#the-edition-field for more information about using this feature.\n",
       "00:00:00 \u001B[90mv\u001B[39m #6 ! \u001B[1m\u001B[33mwarning\u001B[0m\u001B[1m:\u001B[0m /home/runner/work/spiral/polyglot/target/spiral/spiral/packages/Rust/386a801b717919092b75a187c44ff51550306b0830c782619cde9d79f122b126/Cargo.toml: the cargo feature `edition2024` has been stabilized in the 1.85 release and is no longer necessary to be listed in the manifest\n",
       "00:00:00 \u001B[90mv\u001B[39m #7 !   See https://doc.rust-lang.org/nightly/cargo/reference/manifest.html#the-edition-field for more information about using this feature.\n",
       "00:00:00 \u001B[90mv\u001B[39m #8 ! \u001B[1m\u001B[33mwarning\u001B[0m\u001B[1m:\u001B[0m /home/runner/work/spiral/polyglot/target/spiral/spiral/packages/Rust/1d0d63b28cd7000981be7782cf0633a414f31090a4baeebb994a453328c52215/Cargo.toml: the cargo feature `edition2024` has been stabilized in the 1.85 release and is no longer necessary to be listed in the manifest\n",
       "00:00:00 \u001B[90mv\u001B[39m #9 !   See https://doc.rust-lang.org/nightly/cargo/reference/manifest.html#the-edition-field for more information about using this feature.\n",
       "00:00:00 \u001B[90mv\u001B[39m #10 ! \u001B[1m\u001B[33mwarning\u001B[0m\u001B[1m:\u001B[0m /home/runner/work/spiral/polyglot/target/spiral/spiral/packages/Rust/2ef8b15c945dbfbc67ff5bc26c9e9501a45a3263b540960ac7776259d199e145/Cargo.toml: the cargo feature `edition2024` has been stabilized in the 1.85 release and is no longer necessary to be listed in the manifest\n",
       "00:00:00 \u001B[90mv\u001B[39m #11 !   See https://doc.rust-lang.org/nightly/cargo/reference/manifest.html#the-edition-field for more information about using this feature.\n",
       "00:00:00 \u001B[90mv\u001B[39m #12 ! \u001B[1m\u001B[33mwarning\u001B[0m\u001B[1m:\u001B[0m /home/runner/work/spiral/polyglot/target/spiral/spiral/packages/Rust/34c72c344df963355858a657fae3703186669cdcd9af134a15099c6feb0c4e1e/Cargo.toml: the cargo feature `edition2024` has been stabilized in the 1.85 release and is no longer necessary to be listed in the manifest\n",
       "00:00:00 \u001B[90mv\u001B[39m #13 !   See https://doc.rust-lang.org/nightly/cargo/reference/manifest.html#the-edition-field for more information about using this feature.\n",
       "00:00:00 \u001B[90mv\u001B[39m #14 ! \u001B[1m\u001B[33mwarning\u001B[0m\u001B[1m:\u001B[0m /home/runner/work/spiral/polyglot/target/spiral/spiral/packages/Rust/2fcd6672bb95598dba21dacf8fa7ad8b03bcb01a28846d5dcfcec69796e82628/Cargo.toml: the cargo feature `edition2024` has been stabilized in the 1.85 release and is no longer necessary to be listed in the manifest\n",
       "00:00:00 \u001B[90mv\u001B[39m #15 !   See https://doc.rust-lang.org/nightly/cargo/reference/manifest.html#the-edition-field for more information about using this feature.\n",
       "00:00:00 \u001B[90mv\u001B[39m #16 ! \u001B[1m\u001B[33mwarning\u001B[0m\u001B[1m:\u001B[0m /home/runner/work/spiral/polyglot/target/spiral/spiral/packages/Rust/6144582bb34a6ceb58cb07b6028aadf09576594f361fb5f02e28476c2e56e924/Cargo.toml: the cargo feature `edition2024` has been stabilized in the 1.85 release and is no longer necessary to be listed in the manifest\n",
       "00:00:00 \u001B[90mv\u001B[39m #17 !   See https://doc.rust-lang.org/nightly/cargo/reference/manifest.html#the-edition-field for more information about using this feature.\n",
       "00:00:00 \u001B[90mv\u001B[39m #18 ! \u001B[1m\u001B[33mwarning\u001B[0m\u001B[1m:\u001B[0m /home/runner/work/spiral/polyglot/target/spiral/spiral/packages/Rust/9ef2f951ef62a707cef7f970d4ec6e874efaed6d6911b1e85b6c4bdc5deb1542/Cargo.toml: the cargo feature `edition2024` has been stabilized in the 1.85 release and is no longer necessary to be listed in the manifest\n",
       "00:00:00 \u001B[90mv\u001B[39m #19 !   See https://doc.rust-lang.org/nightly/cargo/reference/manifest.html#the-edition-field for more information about using this feature.\n",
       "00:00:00 \u001B[90mv\u001B[39m #20 ! \u001B[1m\u001B[33mwarning\u001B[0m\u001B[1m:\u001B[0m /home/runner/work/spiral/polyglot/target/spiral/spiral/packages/Rust/a8410e55acc4c94cff1e0a232696c77a466d67b5c8575e9dc6f9806d3c6bcfce/Cargo.toml: the cargo feature `edition2024` has been stabilized in the 1.85 release and is no longer necessary to be listed in the manifest\n",
       "00:00:00 \u001B[90mv\u001B[39m #21 !   See https://doc.rust-lang.org/nightly/cargo/reference/manifest.html#the-edition-field for more information about using this feature.\n",
       "00:00:00 \u001B[90mv\u001B[39m #22 ! \u001B[1m\u001B[33mwarning\u001B[0m\u001B[1m:\u001B[0m /home/runner/work/spiral/polyglot/target/spiral/spiral/packages/Rust/03a0e220210a77c91474af8c5f4918a16c9f8630d05daeb42bab51cc3f8cd313/Cargo.toml: the cargo feature `edition2024` has been stabilized in the 1.85 release and is no longer necessary to be listed in the manifest\n",
       "00:00:00 \u001B[90mv\u001B[39m #23 !   See https://doc.rust-lang.org/nightly/cargo/reference/manifest.html#the-edition-field for more information about using this feature.\n",
       "00:00:00 \u001B[90mv\u001B[39m #24 ! \u001B[1m\u001B[33mwarning\u001B[0m\u001B[1m:\u001B[0m /home/runner/work/spiral/polyglot/target/spiral/spiral/packages/Rust/79e4e5601736a009526631c3da4e3b7c815c36e8a0555edd0fb51749adf1bb9a/Cargo.toml: the cargo feature `edition2024` has been stabilized in the 1.85 release and is no longer necessary to be listed in the manifest\n",
       "00:00:00 \u001B[90mv\u001B[39m #25 !   See https://doc.rust-lang.org/nightly/cargo/reference/manifest.html#the-edition-field for more information about using this feature.\n",
       "00:00:00 \u001B[90mv\u001B[39m #26 ! \u001B[1m\u001B[33mwarning\u001B[0m\u001B[1m:\u001B[0m /home/runner/work/spiral/polyglot/target/spiral/spiral/packages/Rust/74760754c272c9e32129af400f95e33de15c2247c6cd102c2660e5f1381cd749/Cargo.toml: the cargo feature `edition2024` has been stabilized in the 1.85 release and is no longer necessary to be listed in the manifest\n",
       "00:00:00 \u001B[90mv\u001B[39m #27 !   See https://doc.rust-lang.org/nightly/cargo/reference/manifest.html#the-edition-field for more information about using this feature.\n",
       "00:00:00 \u001B[90mv\u001B[39m #28 ! \u001B[1m\u001B[33mwarning\u001B[0m\u001B[1m:\u001B[0m /home/runner/work/spiral/polyglot/target/spiral/spiral/packages/Rust/6c10b167dcca89dc67852bf03dfd706083dea8c974d129f5102f968a306cdbe7/Cargo.toml: the cargo feature `edition2024` has been stabilized in the 1.85 release and is no longer necessary to be listed in the manifest\n",
       "00:00:00 \u001B[90mv\u001B[39m #29 !   See https://doc.rust-lang.org/nightly/cargo/reference/manifest.html#the-edition-field for more information about using this feature.\n",
       "00:00:00 \u001B[90mv\u001B[39m #30 ! \u001B[1m\u001B[33mwarning\u001B[0m\u001B[1m:\u001B[0m /home/runner/work/spiral/polyglot/target/spiral/spiral/packages/Rust/b407d1d1ae20870283cf90f834aab00ed9a1caf4ee3ff2428b98206276040f43/Cargo.toml: the cargo feature `edition2024` has been stabilized in the 1.85 release and is no longer necessary to be listed in the manifest\n",
       "00:00:00 \u001B[90mv\u001B[39m #31 !   See https://doc.rust-lang.org/nightly/cargo/reference/manifest.html#the-edition-field for more information about using this feature.\n",
       "00:00:00 \u001B[90mv\u001B[39m #32 ! \u001B[1m\u001B[33mwarning\u001B[0m\u001B[1m:\u001B[0m /home/runner/work/spiral/polyglot/target/spiral/spiral/packages/Rust/92089dbcc91dd193318a489afff8316454ddf6234525bb5b6c662abd1f6bf5d5/Cargo.toml: the cargo feature `edition2024` has been stabilized in the 1.85 release and is no longer necessary to be listed in the manifest\n",
       "00:00:00 \u001B[90mv\u001B[39m #33 !   See https://doc.rust-lang.org/nightly/cargo/reference/manifest.html#the-edition-field for more information about using this feature.\n",
       "00:00:00 \u001B[90mv\u001B[39m #34 ! \u001B[1m\u001B[33mwarning\u001B[0m\u001B[1m:\u001B[0m /home/runner/work/spiral/polyglot/target/spiral/spiral/packages/Rust/c0b35bb676430695e76b2c15eeaf4790d1032e5b665223cde00f606b43544739/Cargo.toml: the cargo feature `edition2024` has been stabilized in the 1.85 release and is no longer necessary to be listed in the manifest\n",
       "00:00:00 \u001B[90mv\u001B[39m #35 !   See https://doc.rust-lang.org/nightly/cargo/reference/manifest.html#the-edition-field for more information about using this feature.\n",
       "00:00:00 \u001B[90mv\u001B[39m #36 ! \u001B[1m\u001B[33mwarning\u001B[0m\u001B[1m:\u001B[0m /home/runner/work/spiral/polyglot/target/spiral/spiral/packages/Rust/c1b2774684c7e7b3f861b504e973bbef9a6a216887543899305f078936974119/Cargo.toml: the cargo feature `edition2024` has been stabilized in the 1.85 release and is no longer necessary to be listed in the manifest\n",
       "00:00:00 \u001B[90mv\u001B[39m #37 !   See https://doc.rust-lang.org/nightly/cargo/reference/manifest.html#the-edition-field for more information about using this feature.\n",
       "00:00:00 \u001B[90mv\u001B[39m #38 ! \u001B[1m\u001B[33mwarning\u001B[0m\u001B[1m:\u001B[0m /home/runner/work/spiral/polyglot/target/spiral/spiral/packages/Rust/2742be4bb162325c0d35b3d710c379153616376255c5d847e504b55ca938f45c/Cargo.toml: the cargo feature `edition2024` has been stabilized in the 1.85 release and is no longer necessary to be listed in the manifest\n",
       "00:00:00 \u001B[90mv\u001B[39m #39 !   See https://doc.rust-lang.org/nightly/cargo/reference/manifest.html#the-edition-field for more information about using this feature.\n",
       "00:00:00 \u001B[90mv\u001B[39m #40 ! \u001B[1m\u001B[33mwarning\u001B[0m\u001B[1m:\u001B[0m /home/runner/work/spiral/polyglot/target/spiral/spiral/packages/Rust/2111fe7e52bca3abcb23a22ccd3649efd65d35a1529921bf81c326de2ecbfd99/Cargo.toml: the cargo feature `edition2024` has been stabilized in the 1.85 release and is no longer necessary to be listed in the manifest\n",
       "00:00:00 \u001B[90mv\u001B[39m #41 !   See https://doc.rust-lang.org/nightly/cargo/reference/manifest.html#the-edition-field for more information about using this feature.\n",
       "00:00:00 \u001B[90mv\u001B[39m #42 ! \u001B[1m\u001B[33mwarning\u001B[0m\u001B[1m:\u001B[0m /home/runner/work/spiral/polyglot/target/spiral/spiral/packages/Rust/7bcc5b35e49b3ebf401d892e4709c5d6ba8df4862746e27d5d8a0914ea5ab24d/Cargo.toml: the cargo feature `edition2024` has been stabilized in the 1.85 release and is no longer necessary to be listed in the manifest\n",
       "00:00:00 \u001B[90mv\u001B[39m #43 !   See https://doc.rust-lang.org/nightly/cargo/reference/manifest.html#the-edition-field for more information about using this feature.\n",
       "00:00:00 \u001B[90mv\u001B[39m #44 ! \u001B[1m\u001B[32m   Compiling\u001B[0m spiral_386a801b717919092b75a187c44ff51550306b0830c782619cde9d79f122b126 v0.0.1 (/home/runner/work/spiral/polyglot/target/spiral/spiral/packages/Rust/386a801b717919092b75a187c44ff51550306b0830c782619cde9d79f122b126)\n",
       "00:00:00 \u001B[90mv\u001B[39m #45 ! \u001B[1m\u001B[32m    Finished\u001B[0m `test` profile [unoptimized + debuginfo] target(s) in 0.47s\n",
       "00:00:00 \u001B[90mv\u001B[39m #46 ! \u001B[1m\u001B[32m     Running\u001B[0m unittests spiral.rs (/home/runner/work/spiral/polyglot/target/spiral/spiral/target/debug/deps/spiral_386a801b717919092b75a187c44ff51550306b0830c782619cde9d79f122b126-ad815f2840bee1e4)\n",
       "00:00:00 \u001B[90mv\u001B[39m #47 >\n",
       "00:00:00 \u001B[90mv\u001B[39m #48 > running 1 test\n",
       "00:00:00 \u001B[90mv\u001B[39m #49 > test module_6ff740fe::Spiral::a ... ok\n",
       "00:00:00 \u001B[90mv\u001B[39m #50 >\n",
       "00:00:00 \u001B[90mv\u001B[39m #51 > successes:\n",
       "00:00:00 \u001B[90mv\u001B[39m #52 >\n",
       "00:00:00 \u001B[90mv\u001B[39m #53 > ---- module_6ff740fe::Spiral::a stdout ----\n",
       "00:00:00 \u001B[90mv\u001B[39m #54 > { name = __assert_eq; actual = a; expected = a }\n",
       "00:00:00 \u001B[90mv\u001B[39m #55 >\n",
       "00:00:00 \u001B[90mv\u001B[39m #56 >\n",
       "00:00:00 \u001B[90mv\u001B[39m #57 > successes:\n",
       "00:00:00 \u001B[90mv\u001B[39m #58 >     module_6ff740fe::Spiral::a\n",
       "00:00:00 \u001B[90mv\u001B[39m #59 >\n",
       "00:00:00 \u001B[90mv\u001B[39m #60 > test result: ok. 1 passed; 0 failed; 0 ignored; 0 measured; 0 filtered out; finished in 0.00s\n",
       "00:00:00 \u001B[90mv\u001B[39m #61 >\n",
       "00:00:00 \u001B[90mv\u001B[39m #62 runtime.execute_with_options / result / { exit_code = 0; std_trace_length = 10506 }\n",
       "{ name = __assert_eq; actual = 0; expected = 0 }\n",
       "{ name = __assert; actual = test result: ok. 1 passed; 0 failed; 0 ignored;; expected = \u001B[4;7m\u001B[1m\u001B[33mwarning\u001B[0m\u001B[1m:\u001B[0m /home/runner/work/spiral/polyglot/target/spiral/spiral/packages/Rust/75efa6b80398a6c37f3afc9a80195eb46c95d44b4309de931b43a844da11bd7d/Cargo.toml: the cargo feature `edition2024` has been stabilized in the 1.85 release and is no longer necessary to be listed in the manifest\u001B[0m\n",
       "\u001B[4;7m  See https://doc.rust-lang.org/nightly/cargo/reference/manifest.html#the-edition-field for more information about using this feature.\u001B[0m\n",
       "\u001B[4;7m\u001B[1m\u001B[33mwarning\u001B[0m\u001B[1m:\u001B[0m /home/runner/work/spiral/polyglot/target/spiral/spiral/packages/Rust/16cf3d7bf09f07fc4cc8cc9e10fa43849fe77a43577f2c58283a4e4f430a11c7/Cargo.toml: the cargo feature `edition2024` has been stabilized in the 1.85 release and is no longer necessary to be listed in the manifest\u001B[0m\n",
       "\u001B[4;7m  See https://doc.rust-lang.org/nightly/cargo/reference/manifest.html#the-edition-field for more information about using this feature.\u001B[0m\n",
       "\u001B[4;7m\u001B[1m\u001B[33mwarning\u001B[0m\u001B[1m:\u001B[0m /home/runner/work/spiral/polyglot/target/spiral/spiral/packages/Rust/386a801b717919092b75a187c44ff51550306b0830c782619cde9d79f122b126/Cargo.toml: the cargo feature `edition2024` has been stabilized in the 1.85 release and is no longer necessary to be listed in the manifest\u001B[0m\n",
       "\u001B[4;7m  See https://doc.rust-lang.org/nightly/cargo/reference/manifest.html#the-edition-field for more information about using this feature.\u001B[0m\n",
       "\u001B[4;7m\u001B[1m\u001B[33mwarning\u001B[0m\u001B[1m:\u001B[0m /home/runner/work/spiral/polyglot/target/spiral/spiral/packages/Rust/1d0d63b28cd7000981be7782cf0633a414f31090a4baeebb994a453328c52215/Cargo.toml: the cargo feature `edition2024` has been stabilized in the 1.85 release and is no longer necessary to be listed in the manifest\u001B[0m\n",
       "\u001B[4;7m  See https://doc.rust-lang.org/nightly/cargo/reference/manifest.html#the-edition-field for more information about using this feature.\u001B[0m\n",
       "\u001B[4;7m\u001B[1m\u001B[33mwarning\u001B[0m\u001B[1m:\u001B[0m /home/runner/work/spiral/polyglot/target/spiral/spiral/packages/Rust/2ef8b15c945dbfbc67ff5bc26c9e9501a45a3263b540960ac7776259d199e145/Cargo.toml: the cargo feature `edition2024` has been stabilized in the 1.85 release and is no longer necessary to be listed in the manifest\u001B[0m\n",
       "\u001B[4;7m  See https://doc.rust-lang.org/nightly/cargo/reference/manifest.html#the-edition-field for more information about using this feature.\u001B[0m\n",
       "\u001B[4;7m\u001B[1m\u001B[33mwarning\u001B[0m\u001B[1m:\u001B[0m /home/runner/work/spiral/polyglot/target/spiral/spiral/packages/Rust/34c72c344df963355858a657fae3703186669cdcd9af134a15099c6feb0c4e1e/Cargo.toml: the cargo feature `edition2024` has been stabilized in the 1.85 release and is no longer necessary to be listed in the manifest\u001B[0m\n",
       "\u001B[4;7m  See https://doc.rust-lang.org/nightly/cargo/reference/manifest.html#the-edition-field for more information about using this feature.\u001B[0m\n",
       "\u001B[4;7m\u001B[1m\u001B[33mwarning\u001B[0m\u001B[1m:\u001B[0m /home/runner/work/spiral/polyglot/target/spiral/spiral/packages/Rust/2fcd6672bb95598dba21dacf8fa7ad8b03bcb01a28846d5dcfcec69796e82628/Cargo.toml: the cargo feature `edition2024` has been stabilized in the 1.85 release and is no longer necessary to be listed in the manifest\u001B[0m\n",
       "\u001B[4;7m  See https://doc.rust-lang.org/nightly/cargo/reference/manifest.html#the-edition-field for more information about using this feature.\u001B[0m\n",
       "\u001B[4;7m\u001B[1m\u001B[33mwarning\u001B[0m\u001B[1m:\u001B[0m /home/runner/work/spiral/polyglot/target/spiral/spiral/packages/Rust/6144582bb34a6ceb58cb07b6028aadf09576594f361fb5f02e28476c2e56e924/Cargo.toml: the cargo feature `edition2024` has been stabilized in the 1.85 release and is no longer necessary to be listed in the manifest\u001B[0m\n",
       "\u001B[4;7m  See https://doc.rust-lang.org/nightly/cargo/reference/manifest.html#the-edition-field for more information about using this feature.\u001B[0m\n",
       "\u001B[4;7m\u001B[1m\u001B[33mwarning\u001B[0m\u001B[1m:\u001B[0m /home/runner/work/spiral/polyglot/target/spiral/spiral/packages/Rust/9ef2f951ef62a707cef7f970d4ec6e874efaed6d6911b1e85b6c4bdc5deb1542/Cargo.toml: the cargo feature `edition2024` has been stabilized in the 1.85 release and is no longer necessary to be listed in the manifest\u001B[0m\n",
       "\u001B[4;7m  See https://doc.rust-lang.org/nightly/cargo/reference/manifest.html#the-edition-field for more information about using this feature.\u001B[0m\n",
       "\u001B[4;7m\u001B[1m\u001B[33mwarning\u001B[0m\u001B[1m:\u001B[0m /home/runner/work/spiral/polyglot/target/spiral/spiral/packages/Rust/a8410e55acc4c94cff1e0a232696c77a466d67b5c8575e9dc6f9806d3c6bcfce/Cargo.toml: the cargo feature `edition2024` has been stabilized in the 1.85 release and is no longer necessary to be listed in the manifest\u001B[0m\n",
       "\u001B[4;7m  See https://doc.rust-lang.org/nightly/cargo/reference/manifest.html#the-edition-field for more information about using this feature.\u001B[0m\n",
       "\u001B[4;7m\u001B[1m\u001B[33mwarning\u001B[0m\u001B[1m:\u001B[0m /home/runner/work/spiral/polyglot/target/spiral/spiral/packages/Rust/03a0e220210a77c91474af8c5f4918a16c9f8630d05daeb42bab51cc3f8cd313/Cargo.toml: the cargo feature `edition2024` has been stabilized in the 1.85 release and is no longer necessary to be listed in the manifest\u001B[0m\n",
       "\u001B[4;7m  See https://doc.rust-lang.org/nightly/cargo/reference/manifest.html#the-edition-field for more information about using this feature.\u001B[0m\n",
       "\u001B[4;7m\u001B[1m\u001B[33mwarning\u001B[0m\u001B[1m:\u001B[0m /home/runner/work/spiral/polyglot/target/spiral/spiral/packages/Rust/79e4e5601736a009526631c3da4e3b7c815c36e8a0555edd0fb51749adf1bb9a/Cargo.toml: the cargo feature `edition2024` has been stabilized in the 1.85 release and is no longer necessary to be listed in the manifest\u001B[0m\n",
       "\u001B[4;7m  See https://doc.rust-lang.org/nightly/cargo/reference/manifest.html#the-edition-field for more information about using this feature.\u001B[0m\n",
       "\u001B[4;7m\u001B[1m\u001B[33mwarning\u001B[0m\u001B[1m:\u001B[0m /home/runner/work/spiral/polyglot/target/spiral/spiral/packages/Rust/74760754c272c9e32129af400f95e33de15c2247c6cd102c2660e5f1381cd749/Cargo.toml: the cargo feature `edition2024` has been stabilized in the 1.85 release and is no longer necessary to be listed in the manifest\u001B[0m\n",
       "\u001B[4;7m  See https://doc.rust-lang.org/nightly/cargo/reference/manifest.html#the-edition-field for more information about using this feature.\u001B[0m\n",
       "\u001B[4;7m\u001B[1m\u001B[33mwarning\u001B[0m\u001B[1m:\u001B[0m /home/runner/work/spiral/polyglot/target/spiral/spiral/packages/Rust/6c10b167dcca89dc67852bf03dfd706083dea8c974d129f5102f968a306cdbe7/Cargo.toml: the cargo feature `edition2024` has been stabilized in the 1.85 release and is no longer necessary to be listed in the manifest\u001B[0m\n",
       "\u001B[4;7m  See https://doc.rust-lang.org/nightly/cargo/reference/manifest.html#the-edition-field for more information about using this feature.\u001B[0m\n",
       "\u001B[4;7m\u001B[1m\u001B[33mwarning\u001B[0m\u001B[1m:\u001B[0m /home/runner/work/spiral/polyglot/target/spiral/spiral/packages/Rust/b407d1d1ae20870283cf90f834aab00ed9a1caf4ee3ff2428b98206276040f43/Cargo.toml: the cargo feature `edition2024` has been stabilized in the 1.85 release and is no longer necessary to be listed in the manifest\u001B[0m\n",
       "\u001B[4;7m  See https://doc.rust-lang.org/nightly/cargo/reference/manifest.html#the-edition-field for more information about using this feature.\u001B[0m\n",
       "\u001B[4;7m\u001B[1m\u001B[33mwarning\u001B[0m\u001B[1m:\u001B[0m /home/runner/work/spiral/polyglot/target/spiral/spiral/packages/Rust/92089dbcc91dd193318a489afff8316454ddf6234525bb5b6c662abd1f6bf5d5/Cargo.toml: the cargo feature `edition2024` has been stabilized in the 1.85 release and is no longer necessary to be listed in the manifest\u001B[0m\n",
       "\u001B[4;7m  See https://doc.rust-lang.org/nightly/cargo/reference/manifest.html#the-edition-field for more information about using this feature.\u001B[0m\n",
       "\u001B[4;7m\u001B[1m\u001B[33mwarning\u001B[0m\u001B[1m:\u001B[0m /home/runner/work/spiral/polyglot/target/spiral/spiral/packages/Rust/c0b35bb676430695e76b2c15eeaf4790d1032e5b665223cde00f606b43544739/Cargo.toml: the cargo feature `edition2024` has been stabilized in the 1.85 release and is no longer necessary to be listed in the manifest\u001B[0m\n",
       "\u001B[4;7m  See https://doc.rust-lang.org/nightly/cargo/reference/manifest.html#the-edition-field for more information about using this feature.\u001B[0m\n",
       "\u001B[4;7m\u001B[1m\u001B[33mwarning\u001B[0m\u001B[1m:\u001B[0m /home/runner/work/spiral/polyglot/target/spiral/spiral/packages/Rust/c1b2774684c7e7b3f861b504e973bbef9a6a216887543899305f078936974119/Cargo.toml: the cargo feature `edition2024` has been stabilized in the 1.85 release and is no longer necessary to be listed in the manifest\u001B[0m\n",
       "\u001B[4;7m  See https://doc.rust-lang.org/nightly/cargo/reference/manifest.html#the-edition-field for more information about using this feature.\u001B[0m\n",
       "\u001B[4;7m\u001B[1m\u001B[33mwarning\u001B[0m\u001B[1m:\u001B[0m /home/runner/work/spiral/polyglot/target/spiral/spiral/packages/Rust/2742be4bb162325c0d35b3d710c379153616376255c5d847e504b55ca938f45c/Cargo.toml: the cargo feature `edition2024` has been stabilized in the 1.85 release and is no longer necessary to be listed in the manifest\u001B[0m\n",
       "\u001B[4;7m  See https://doc.rust-lang.org/nightly/cargo/reference/manifest.html#the-edition-field for more information about using this feature.\u001B[0m\n",
       "\u001B[4;7m\u001B[1m\u001B[33mwarning\u001B[0m\u001B[1m:\u001B[0m /home/runner/work/spiral/polyglot/target/spiral/spiral/packages/Rust/2111fe7e52bca3abcb23a22ccd3649efd65d35a1529921bf81c326de2ecbfd99/Cargo.toml: the cargo feature `edition2024` has been stabilized in the 1.85 release and is no longer necessary to be listed in the manifest\u001B[0m\n",
       "\u001B[4;7m  See https://doc.rust-lang.org/nightly/cargo/reference/manifest.html#the-edition-field for more information about using this feature.\u001B[0m\n",
       "\u001B[4;7m\u001B[1m\u001B[33mwarning\u001B[0m\u001B[1m:\u001B[0m /home/runner/work/spiral/polyglot/target/spiral/spiral/packages/Rust/7bcc5b35e49b3ebf401d892e4709c5d6ba8df4862746e27d5d8a0914ea5ab24d/Cargo.toml: the cargo feature `edition2024` has been stabilized in the 1.85 release and is no longer necessary to be listed in the manifest\u001B[0m\n",
       "\u001B[4;7m  See https://doc.rust-lang.org/nightly/cargo/reference/manifest.html#the-edition-field for more information about using this feature.\u001B[0m\n",
       "\u001B[4;7m\u001B[1m\u001B[32m   Compiling\u001B[0m spiral_386a801b717919092b75a187c44ff51550306b0830c782619cde9d79f122b126 v0.0.1 (/home/runner/work/spiral/polyglot/target/spiral/spiral/packages/Rust/386a801b717919092b75a187c44ff51550306b0830c782619cde9d79f122b126)\u001B[0m\n",
       "\u001B[4;7m\u001B[1m\u001B[32m    Finished\u001B[0m `test` profile [unoptimized + debuginfo] target(s) in 0.47s\u001B[0m\n",
       "\u001B[4;7m\u001B[1m\u001B[32m     Running\u001B[0m unittests spiral.rs (/home/runner/work/spiral/polyglot/target/spiral/spiral/target/debug/deps/spiral_386a801b717919092b75a187c44ff51550306b0830c782619cde9d79f122b126-ad815f2840bee1e4)\u001B[0m\n",
       "\n",
       "running 1 test\n",
       "test module_6ff740fe::Spiral::a ... ok\n",
       "\n",
       "successes:\n",
       "\n",
       "---- module_6ff740fe::Spiral::a stdout ----\n",
       "{ name = __assert_eq; actual = a; expected = a }\n",
       "\n",
       "\n",
       "successes:\n",
       "    module_6ff740fe::Spiral::a\n",
       "\n",
       "test result: ok. 1 passed; 0 failed; 0 ignored; 0 measured; 0 filtered out; finished in 0.00s\n",
       " }\n"
      ]
     },
     "metadata": {},
     "output_type": "display_data"
    }
   ],
   "source": [
    "//// test\n",
    "///! rust -d encoding_rs encoding_rs_io\n",
    "\n",
    "fun () =>\n",
    "    run_tests {\n",
    "        a = fun () => \"a\" |> _assert_eq \"a\"\n",
    "    }\n",
    "|> run"
   ]
  },
  {
   "cell_type": "markdown",
   "metadata": {},
   "source": [
    "### run_tests_log"
   ]
  },
  {
   "cell_type": "code",
   "execution_count": null,
   "metadata": {
    "dotnet_interactive": {
     "language": "spiral"
    },
    "polyglot_notebook": {
     "kernelName": "spiral"
    }
   },
   "outputs": [],
   "source": [
    "inl run_tests_log tests : () =\n",
    "    real\n",
    "        inl tests =\n",
    "            real_core.record_map\n",
    "                fun { key value } =>\n",
    "                    (fun _ => value false) : () -> ()\n",
    "                tests\n",
    "        run_tests `(`tests) tests"
   ]
  },
  {
   "cell_type": "code",
   "execution_count": null,
   "metadata": {
    "dotnet_interactive": {
     "language": "spiral"
    },
    "polyglot_notebook": {
     "kernelName": "spiral"
    }
   },
   "outputs": [
    {
     "data": {
      "text/plain": [
       "00:00:00 \u001B[94md\u001B[39m #1 runtime.execute_with_options / { file_name = cargo; arguments = [\"test\", \"--\", \"--show-output\"]; options = { command = cargo test -- --show-output; cancellation_token = None; environment_variables = Array(MutCell([(\"TEST\", \"1\")])); on_line = None; stdin = None; trace = true; working_directory = Some(\n",
       "    \"/home/runner/work/spiral/polyglot/target/spiral/spiral/packages/Rust/ed2b5b0dd1ae45ca6619be3a6f0ed9a3d70ff196725f68a6c2a0b928421e11e0\",\n",
       ") } }\n",
       "00:00:00 \u001B[90mv\u001B[39m #2 ! \u001B[1m\u001B[33mwarning\u001B[0m\u001B[1m:\u001B[0m /home/runner/work/spiral/polyglot/target/spiral/spiral/packages/Rust/16cf3d7bf09f07fc4cc8cc9e10fa43849fe77a43577f2c58283a4e4f430a11c7/Cargo.toml: the cargo feature `edition2024` has been stabilized in the 1.85 release and is no longer necessary to be listed in the manifest\n",
       "00:00:00 \u001B[90mv\u001B[39m #3 !   See https://doc.rust-lang.org/nightly/cargo/reference/manifest.html#the-edition-field for more information about using this feature.\n",
       "00:00:00 \u001B[90mv\u001B[39m #4 ! \u001B[1m\u001B[33mwarning\u001B[0m\u001B[1m:\u001B[0m /home/runner/work/spiral/polyglot/target/spiral/spiral/packages/Rust/9ef2f951ef62a707cef7f970d4ec6e874efaed6d6911b1e85b6c4bdc5deb1542/Cargo.toml: the cargo feature `edition2024` has been stabilized in the 1.85 release and is no longer necessary to be listed in the manifest\n",
       "00:00:00 \u001B[90mv\u001B[39m #5 !   See https://doc.rust-lang.org/nightly/cargo/reference/manifest.html#the-edition-field for more information about using this feature.\n",
       "00:00:00 \u001B[90mv\u001B[39m #6 ! \u001B[1m\u001B[33mwarning\u001B[0m\u001B[1m:\u001B[0m /home/runner/work/spiral/polyglot/target/spiral/spiral/packages/Rust/a8410e55acc4c94cff1e0a232696c77a466d67b5c8575e9dc6f9806d3c6bcfce/Cargo.toml: the cargo feature `edition2024` has been stabilized in the 1.85 release and is no longer necessary to be listed in the manifest\n",
       "00:00:00 \u001B[90mv\u001B[39m #7 !   See https://doc.rust-lang.org/nightly/cargo/reference/manifest.html#the-edition-field for more information about using this feature.\n",
       "00:00:00 \u001B[90mv\u001B[39m #8 ! \u001B[1m\u001B[33mwarning\u001B[0m\u001B[1m:\u001B[0m /home/runner/work/spiral/polyglot/target/spiral/spiral/packages/Rust/2111fe7e52bca3abcb23a22ccd3649efd65d35a1529921bf81c326de2ecbfd99/Cargo.toml: the cargo feature `edition2024` has been stabilized in the 1.85 release and is no longer necessary to be listed in the manifest\n",
       "00:00:00 \u001B[90mv\u001B[39m #9 !   See https://doc.rust-lang.org/nightly/cargo/reference/manifest.html#the-edition-field for more information about using this feature.\n",
       "00:00:00 \u001B[90mv\u001B[39m #10 ! \u001B[1m\u001B[33mwarning\u001B[0m\u001B[1m:\u001B[0m /home/runner/work/spiral/polyglot/target/spiral/spiral/packages/Rust/6c10b167dcca89dc67852bf03dfd706083dea8c974d129f5102f968a306cdbe7/Cargo.toml: the cargo feature `edition2024` has been stabilized in the 1.85 release and is no longer necessary to be listed in the manifest\n",
       "00:00:00 \u001B[90mv\u001B[39m #11 !   See https://doc.rust-lang.org/nightly/cargo/reference/manifest.html#the-edition-field for more information about using this feature.\n",
       "00:00:00 \u001B[90mv\u001B[39m #12 ! \u001B[1m\u001B[33mwarning\u001B[0m\u001B[1m:\u001B[0m /home/runner/work/spiral/polyglot/target/spiral/spiral/packages/Rust/03a0e220210a77c91474af8c5f4918a16c9f8630d05daeb42bab51cc3f8cd313/Cargo.toml: the cargo feature `edition2024` has been stabilized in the 1.85 release and is no longer necessary to be listed in the manifest\n",
       "00:00:00 \u001B[90mv\u001B[39m #13 !   See https://doc.rust-lang.org/nightly/cargo/reference/manifest.html#the-edition-field for more information about using this feature.\n",
       "00:00:00 \u001B[90mv\u001B[39m #14 ! \u001B[1m\u001B[33mwarning\u001B[0m\u001B[1m:\u001B[0m /home/runner/work/spiral/polyglot/target/spiral/spiral/packages/Rust/6144582bb34a6ceb58cb07b6028aadf09576594f361fb5f02e28476c2e56e924/Cargo.toml: the cargo feature `edition2024` has been stabilized in the 1.85 release and is no longer necessary to be listed in the manifest\n",
       "00:00:00 \u001B[90mv\u001B[39m #15 !   See https://doc.rust-lang.org/nightly/cargo/reference/manifest.html#the-edition-field for more information about using this feature.\n",
       "00:00:00 \u001B[90mv\u001B[39m #16 ! \u001B[1m\u001B[33mwarning\u001B[0m\u001B[1m:\u001B[0m /home/runner/work/spiral/polyglot/target/spiral/spiral/packages/Rust/74760754c272c9e32129af400f95e33de15c2247c6cd102c2660e5f1381cd749/Cargo.toml: the cargo feature `edition2024` has been stabilized in the 1.85 release and is no longer necessary to be listed in the manifest\n",
       "00:00:00 \u001B[90mv\u001B[39m #17 !   See https://doc.rust-lang.org/nightly/cargo/reference/manifest.html#the-edition-field for more information about using this feature.\n",
       "00:00:00 \u001B[90mv\u001B[39m #18 ! \u001B[1m\u001B[33mwarning\u001B[0m\u001B[1m:\u001B[0m /home/runner/work/spiral/polyglot/target/spiral/spiral/packages/Rust/92089dbcc91dd193318a489afff8316454ddf6234525bb5b6c662abd1f6bf5d5/Cargo.toml: the cargo feature `edition2024` has been stabilized in the 1.85 release and is no longer necessary to be listed in the manifest\n",
       "00:00:00 \u001B[90mv\u001B[39m #19 !   See https://doc.rust-lang.org/nightly/cargo/reference/manifest.html#the-edition-field for more information about using this feature.\n",
       "00:00:00 \u001B[90mv\u001B[39m #20 ! \u001B[1m\u001B[33mwarning\u001B[0m\u001B[1m:\u001B[0m /home/runner/work/spiral/polyglot/target/spiral/spiral/packages/Rust/c1b2774684c7e7b3f861b504e973bbef9a6a216887543899305f078936974119/Cargo.toml: the cargo feature `edition2024` has been stabilized in the 1.85 release and is no longer necessary to be listed in the manifest\n",
       "00:00:00 \u001B[90mv\u001B[39m #21 !   See https://doc.rust-lang.org/nightly/cargo/reference/manifest.html#the-edition-field for more information about using this feature.\n",
       "00:00:00 \u001B[90mv\u001B[39m #22 ! \u001B[1m\u001B[33mwarning\u001B[0m\u001B[1m:\u001B[0m /home/runner/work/spiral/polyglot/target/spiral/spiral/packages/Rust/386a801b717919092b75a187c44ff51550306b0830c782619cde9d79f122b126/Cargo.toml: the cargo feature `edition2024` has been stabilized in the 1.85 release and is no longer necessary to be listed in the manifest\n",
       "00:00:00 \u001B[90mv\u001B[39m #23 !   See https://doc.rust-lang.org/nightly/cargo/reference/manifest.html#the-edition-field for more information about using this feature.\n",
       "00:00:00 \u001B[90mv\u001B[39m #24 ! \u001B[1m\u001B[33mwarning\u001B[0m\u001B[1m:\u001B[0m /home/runner/work/spiral/polyglot/target/spiral/spiral/packages/Rust/b407d1d1ae20870283cf90f834aab00ed9a1caf4ee3ff2428b98206276040f43/Cargo.toml: the cargo feature `edition2024` has been stabilized in the 1.85 release and is no longer necessary to be listed in the manifest\n",
       "00:00:00 \u001B[90mv\u001B[39m #25 !   See https://doc.rust-lang.org/nightly/cargo/reference/manifest.html#the-edition-field for more information about using this feature.\n",
       "00:00:00 \u001B[90mv\u001B[39m #26 ! \u001B[1m\u001B[33mwarning\u001B[0m\u001B[1m:\u001B[0m /home/runner/work/spiral/polyglot/target/spiral/spiral/packages/Rust/c0b35bb676430695e76b2c15eeaf4790d1032e5b665223cde00f606b43544739/Cargo.toml: the cargo feature `edition2024` has been stabilized in the 1.85 release and is no longer necessary to be listed in the manifest\n",
       "00:00:00 \u001B[90mv\u001B[39m #27 !   See https://doc.rust-lang.org/nightly/cargo/reference/manifest.html#the-edition-field for more information about using this feature.\n",
       "00:00:00 \u001B[90mv\u001B[39m #28 ! \u001B[1m\u001B[33mwarning\u001B[0m\u001B[1m:\u001B[0m /home/runner/work/spiral/polyglot/target/spiral/spiral/packages/Rust/2742be4bb162325c0d35b3d710c379153616376255c5d847e504b55ca938f45c/Cargo.toml: the cargo feature `edition2024` has been stabilized in the 1.85 release and is no longer necessary to be listed in the manifest\n",
       "00:00:00 \u001B[90mv\u001B[39m #29 !   See https://doc.rust-lang.org/nightly/cargo/reference/manifest.html#the-edition-field for more information about using this feature.\n",
       "00:00:00 \u001B[90mv\u001B[39m #30 ! \u001B[1m\u001B[33mwarning\u001B[0m\u001B[1m:\u001B[0m /home/runner/work/spiral/polyglot/target/spiral/spiral/packages/Rust/2fcd6672bb95598dba21dacf8fa7ad8b03bcb01a28846d5dcfcec69796e82628/Cargo.toml: the cargo feature `edition2024` has been stabilized in the 1.85 release and is no longer necessary to be listed in the manifest\n",
       "00:00:00 \u001B[90mv\u001B[39m #31 !   See https://doc.rust-lang.org/nightly/cargo/reference/manifest.html#the-edition-field for more information about using this feature.\n",
       "00:00:00 \u001B[90mv\u001B[39m #32 ! \u001B[1m\u001B[33mwarning\u001B[0m\u001B[1m:\u001B[0m /home/runner/work/spiral/polyglot/target/spiral/spiral/packages/Rust/75efa6b80398a6c37f3afc9a80195eb46c95d44b4309de931b43a844da11bd7d/Cargo.toml: the cargo feature `edition2024` has been stabilized in the 1.85 release and is no longer necessary to be listed in the manifest\n",
       "00:00:00 \u001B[90mv\u001B[39m #33 !   See https://doc.rust-lang.org/nightly/cargo/reference/manifest.html#the-edition-field for more information about using this feature.\n",
       "00:00:00 \u001B[90mv\u001B[39m #34 ! \u001B[1m\u001B[33mwarning\u001B[0m\u001B[1m:\u001B[0m /home/runner/work/spiral/polyglot/target/spiral/spiral/packages/Rust/ed2b5b0dd1ae45ca6619be3a6f0ed9a3d70ff196725f68a6c2a0b928421e11e0/Cargo.toml: the cargo feature `edition2024` has been stabilized in the 1.85 release and is no longer necessary to be listed in the manifest\n",
       "00:00:00 \u001B[90mv\u001B[39m #35 !   See https://doc.rust-lang.org/nightly/cargo/reference/manifest.html#the-edition-field for more information about using this feature.\n",
       "00:00:00 \u001B[90mv\u001B[39m #36 ! \u001B[1m\u001B[33mwarning\u001B[0m\u001B[1m:\u001B[0m /home/runner/work/spiral/polyglot/target/spiral/spiral/packages/Rust/7bcc5b35e49b3ebf401d892e4709c5d6ba8df4862746e27d5d8a0914ea5ab24d/Cargo.toml: the cargo feature `edition2024` has been stabilized in the 1.85 release and is no longer necessary to be listed in the manifest\n",
       "00:00:00 \u001B[90mv\u001B[39m #37 !   See https://doc.rust-lang.org/nightly/cargo/reference/manifest.html#the-edition-field for more information about using this feature.\n",
       "00:00:00 \u001B[90mv\u001B[39m #38 ! \u001B[1m\u001B[33mwarning\u001B[0m\u001B[1m:\u001B[0m /home/runner/work/spiral/polyglot/target/spiral/spiral/packages/Rust/1d0d63b28cd7000981be7782cf0633a414f31090a4baeebb994a453328c52215/Cargo.toml: the cargo feature `edition2024` has been stabilized in the 1.85 release and is no longer necessary to be listed in the manifest\n",
       "00:00:00 \u001B[90mv\u001B[39m #39 !   See https://doc.rust-lang.org/nightly/cargo/reference/manifest.html#the-edition-field for more information about using this feature.\n",
       "00:00:00 \u001B[90mv\u001B[39m #40 ! \u001B[1m\u001B[33mwarning\u001B[0m\u001B[1m:\u001B[0m /home/runner/work/spiral/polyglot/target/spiral/spiral/packages/Rust/2ef8b15c945dbfbc67ff5bc26c9e9501a45a3263b540960ac7776259d199e145/Cargo.toml: the cargo feature `edition2024` has been stabilized in the 1.85 release and is no longer necessary to be listed in the manifest\n",
       "00:00:00 \u001B[90mv\u001B[39m #41 !   See https://doc.rust-lang.org/nightly/cargo/reference/manifest.html#the-edition-field for more information about using this feature.\n",
       "00:00:00 \u001B[90mv\u001B[39m #42 ! \u001B[1m\u001B[33mwarning\u001B[0m\u001B[1m:\u001B[0m /home/runner/work/spiral/polyglot/target/spiral/spiral/packages/Rust/79e4e5601736a009526631c3da4e3b7c815c36e8a0555edd0fb51749adf1bb9a/Cargo.toml: the cargo feature `edition2024` has been stabilized in the 1.85 release and is no longer necessary to be listed in the manifest\n",
       "00:00:00 \u001B[90mv\u001B[39m #43 !   See https://doc.rust-lang.org/nightly/cargo/reference/manifest.html#the-edition-field for more information about using this feature.\n",
       "00:00:00 \u001B[90mv\u001B[39m #44 ! \u001B[1m\u001B[33mwarning\u001B[0m\u001B[1m:\u001B[0m /home/runner/work/spiral/polyglot/target/spiral/spiral/packages/Rust/34c72c344df963355858a657fae3703186669cdcd9af134a15099c6feb0c4e1e/Cargo.toml: the cargo feature `edition2024` has been stabilized in the 1.85 release and is no longer necessary to be listed in the manifest\n",
       "00:00:00 \u001B[90mv\u001B[39m #45 !   See https://doc.rust-lang.org/nightly/cargo/reference/manifest.html#the-edition-field for more information about using this feature.\n",
       "00:00:00 \u001B[90mv\u001B[39m #46 ! \u001B[1m\u001B[32m   Compiling\u001B[0m spiral_ed2b5b0dd1ae45ca6619be3a6f0ed9a3d70ff196725f68a6c2a0b928421e11e0 v0.0.1 (/home/runner/work/spiral/polyglot/target/spiral/spiral/packages/Rust/ed2b5b0dd1ae45ca6619be3a6f0ed9a3d70ff196725f68a6c2a0b928421e11e0)\n",
       "00:00:00 \u001B[90mv\u001B[39m #47 ! \u001B[1m\u001B[32m    Finished\u001B[0m `test` profile [unoptimized + debuginfo] target(s) in 0.46s\n",
       "00:00:00 \u001B[90mv\u001B[39m #48 ! \u001B[1m\u001B[32m     Running\u001B[0m unittests spiral.rs (/home/runner/work/spiral/polyglot/target/spiral/spiral/target/debug/deps/spiral_ed2b5b0dd1ae45ca6619be3a6f0ed9a3d70ff196725f68a6c2a0b928421e11e0-896251978d94e5fd)\n",
       "00:00:00 \u001B[90mv\u001B[39m #49 >\n",
       "00:00:00 \u001B[90mv\u001B[39m #50 > running 1 test\n",
       "00:00:00 \u001B[90mv\u001B[39m #51 > test module_6ff740fe::Spiral::a ... ok\n",
       "00:00:00 \u001B[90mv\u001B[39m #52 >\n",
       "00:00:00 \u001B[90mv\u001B[39m #53 > successes:\n",
       "00:00:00 \u001B[90mv\u001B[39m #54 >\n",
       "00:00:00 \u001B[90mv\u001B[39m #55 > ---- module_6ff740fe::Spiral::a stdout ----\n",
       "00:00:00 \u001B[90mv\u001B[39m #56 > { name = __assert_eq; actual = false; expected = false }\n",
       "00:00:00 \u001B[90mv\u001B[39m #57 >\n",
       "00:00:00 \u001B[90mv\u001B[39m #58 >\n",
       "00:00:00 \u001B[90mv\u001B[39m #59 > successes:\n",
       "00:00:00 \u001B[90mv\u001B[39m #60 >     module_6ff740fe::Spiral::a\n",
       "00:00:00 \u001B[90mv\u001B[39m #61 >\n",
       "00:00:00 \u001B[90mv\u001B[39m #62 > test result: ok. 1 passed; 0 failed; 0 ignored; 0 measured; 0 filtered out; finished in 0.00s\n",
       "00:00:00 \u001B[90mv\u001B[39m #63 >\n",
       "00:00:00 \u001B[90mv\u001B[39m #64 runtime.execute_with_options / result / { exit_code = 0; std_trace_length = 10973 }\n",
       "{ name = __assert_eq; actual = 0; expected = 0 }\n",
       "{ name = __assert; actual = test result: ok. 1 passed; 0 failed; 0 ignored;; expected = \u001B[4;7m\u001B[1m\u001B[33mwarning\u001B[0m\u001B[1m:\u001B[0m /home/runner/work/spiral/polyglot/target/spiral/spiral/packages/Rust/16cf3d7bf09f07fc4cc8cc9e10fa43849fe77a43577f2c58283a4e4f430a11c7/Cargo.toml: the cargo feature `edition2024` has been stabilized in the 1.85 release and is no longer necessary to be listed in the manifest\u001B[0m\n",
       "\u001B[4;7m  See https://doc.rust-lang.org/nightly/cargo/reference/manifest.html#the-edition-field for more information about using this feature.\u001B[0m\n",
       "\u001B[4;7m\u001B[1m\u001B[33mwarning\u001B[0m\u001B[1m:\u001B[0m /home/runner/work/spiral/polyglot/target/spiral/spiral/packages/Rust/9ef2f951ef62a707cef7f970d4ec6e874efaed6d6911b1e85b6c4bdc5deb1542/Cargo.toml: the cargo feature `edition2024` has been stabilized in the 1.85 release and is no longer necessary to be listed in the manifest\u001B[0m\n",
       "\u001B[4;7m  See https://doc.rust-lang.org/nightly/cargo/reference/manifest.html#the-edition-field for more information about using this feature.\u001B[0m\n",
       "\u001B[4;7m\u001B[1m\u001B[33mwarning\u001B[0m\u001B[1m:\u001B[0m /home/runner/work/spiral/polyglot/target/spiral/spiral/packages/Rust/a8410e55acc4c94cff1e0a232696c77a466d67b5c8575e9dc6f9806d3c6bcfce/Cargo.toml: the cargo feature `edition2024` has been stabilized in the 1.85 release and is no longer necessary to be listed in the manifest\u001B[0m\n",
       "\u001B[4;7m  See https://doc.rust-lang.org/nightly/cargo/reference/manifest.html#the-edition-field for more information about using this feature.\u001B[0m\n",
       "\u001B[4;7m\u001B[1m\u001B[33mwarning\u001B[0m\u001B[1m:\u001B[0m /home/runner/work/spiral/polyglot/target/spiral/spiral/packages/Rust/2111fe7e52bca3abcb23a22ccd3649efd65d35a1529921bf81c326de2ecbfd99/Cargo.toml: the cargo feature `edition2024` has been stabilized in the 1.85 release and is no longer necessary to be listed in the manifest\u001B[0m\n",
       "\u001B[4;7m  See https://doc.rust-lang.org/nightly/cargo/reference/manifest.html#the-edition-field for more information about using this feature.\u001B[0m\n",
       "\u001B[4;7m\u001B[1m\u001B[33mwarning\u001B[0m\u001B[1m:\u001B[0m /home/runner/work/spiral/polyglot/target/spiral/spiral/packages/Rust/6c10b167dcca89dc67852bf03dfd706083dea8c974d129f5102f968a306cdbe7/Cargo.toml: the cargo feature `edition2024` has been stabilized in the 1.85 release and is no longer necessary to be listed in the manifest\u001B[0m\n",
       "\u001B[4;7m  See https://doc.rust-lang.org/nightly/cargo/reference/manifest.html#the-edition-field for more information about using this feature.\u001B[0m\n",
       "\u001B[4;7m\u001B[1m\u001B[33mwarning\u001B[0m\u001B[1m:\u001B[0m /home/runner/work/spiral/polyglot/target/spiral/spiral/packages/Rust/03a0e220210a77c91474af8c5f4918a16c9f8630d05daeb42bab51cc3f8cd313/Cargo.toml: the cargo feature `edition2024` has been stabilized in the 1.85 release and is no longer necessary to be listed in the manifest\u001B[0m\n",
       "\u001B[4;7m  See https://doc.rust-lang.org/nightly/cargo/reference/manifest.html#the-edition-field for more information about using this feature.\u001B[0m\n",
       "\u001B[4;7m\u001B[1m\u001B[33mwarning\u001B[0m\u001B[1m:\u001B[0m /home/runner/work/spiral/polyglot/target/spiral/spiral/packages/Rust/6144582bb34a6ceb58cb07b6028aadf09576594f361fb5f02e28476c2e56e924/Cargo.toml: the cargo feature `edition2024` has been stabilized in the 1.85 release and is no longer necessary to be listed in the manifest\u001B[0m\n",
       "\u001B[4;7m  See https://doc.rust-lang.org/nightly/cargo/reference/manifest.html#the-edition-field for more information about using this feature.\u001B[0m\n",
       "\u001B[4;7m\u001B[1m\u001B[33mwarning\u001B[0m\u001B[1m:\u001B[0m /home/runner/work/spiral/polyglot/target/spiral/spiral/packages/Rust/74760754c272c9e32129af400f95e33de15c2247c6cd102c2660e5f1381cd749/Cargo.toml: the cargo feature `edition2024` has been stabilized in the 1.85 release and is no longer necessary to be listed in the manifest\u001B[0m\n",
       "\u001B[4;7m  See https://doc.rust-lang.org/nightly/cargo/reference/manifest.html#the-edition-field for more information about using this feature.\u001B[0m\n",
       "\u001B[4;7m\u001B[1m\u001B[33mwarning\u001B[0m\u001B[1m:\u001B[0m /home/runner/work/spiral/polyglot/target/spiral/spiral/packages/Rust/92089dbcc91dd193318a489afff8316454ddf6234525bb5b6c662abd1f6bf5d5/Cargo.toml: the cargo feature `edition2024` has been stabilized in the 1.85 release and is no longer necessary to be listed in the manifest\u001B[0m\n",
       "\u001B[4;7m  See https://doc.rust-lang.org/nightly/cargo/reference/manifest.html#the-edition-field for more information about using this feature.\u001B[0m\n",
       "\u001B[4;7m\u001B[1m\u001B[33mwarning\u001B[0m\u001B[1m:\u001B[0m /home/runner/work/spiral/polyglot/target/spiral/spiral/packages/Rust/c1b2774684c7e7b3f861b504e973bbef9a6a216887543899305f078936974119/Cargo.toml: the cargo feature `edition2024` has been stabilized in the 1.85 release and is no longer necessary to be listed in the manifest\u001B[0m\n",
       "\u001B[4;7m  See https://doc.rust-lang.org/nightly/cargo/reference/manifest.html#the-edition-field for more information about using this feature.\u001B[0m\n",
       "\u001B[4;7m\u001B[1m\u001B[33mwarning\u001B[0m\u001B[1m:\u001B[0m /home/runner/work/spiral/polyglot/target/spiral/spiral/packages/Rust/386a801b717919092b75a187c44ff51550306b0830c782619cde9d79f122b126/Cargo.toml: the cargo feature `edition2024` has been stabilized in the 1.85 release and is no longer necessary to be listed in the manifest\u001B[0m\n",
       "\u001B[4;7m  See https://doc.rust-lang.org/nightly/cargo/reference/manifest.html#the-edition-field for more information about using this feature.\u001B[0m\n",
       "\u001B[4;7m\u001B[1m\u001B[33mwarning\u001B[0m\u001B[1m:\u001B[0m /home/runner/work/spiral/polyglot/target/spiral/spiral/packages/Rust/b407d1d1ae20870283cf90f834aab00ed9a1caf4ee3ff2428b98206276040f43/Cargo.toml: the cargo feature `edition2024` has been stabilized in the 1.85 release and is no longer necessary to be listed in the manifest\u001B[0m\n",
       "\u001B[4;7m  See https://doc.rust-lang.org/nightly/cargo/reference/manifest.html#the-edition-field for more information about using this feature.\u001B[0m\n",
       "\u001B[4;7m\u001B[1m\u001B[33mwarning\u001B[0m\u001B[1m:\u001B[0m /home/runner/work/spiral/polyglot/target/spiral/spiral/packages/Rust/c0b35bb676430695e76b2c15eeaf4790d1032e5b665223cde00f606b43544739/Cargo.toml: the cargo feature `edition2024` has been stabilized in the 1.85 release and is no longer necessary to be listed in the manifest\u001B[0m\n",
       "\u001B[4;7m  See https://doc.rust-lang.org/nightly/cargo/reference/manifest.html#the-edition-field for more information about using this feature.\u001B[0m\n",
       "\u001B[4;7m\u001B[1m\u001B[33mwarning\u001B[0m\u001B[1m:\u001B[0m /home/runner/work/spiral/polyglot/target/spiral/spiral/packages/Rust/2742be4bb162325c0d35b3d710c379153616376255c5d847e504b55ca938f45c/Cargo.toml: the cargo feature `edition2024` has been stabilized in the 1.85 release and is no longer necessary to be listed in the manifest\u001B[0m\n",
       "\u001B[4;7m  See https://doc.rust-lang.org/nightly/cargo/reference/manifest.html#the-edition-field for more information about using this feature.\u001B[0m\n",
       "\u001B[4;7m\u001B[1m\u001B[33mwarning\u001B[0m\u001B[1m:\u001B[0m /home/runner/work/spiral/polyglot/target/spiral/spiral/packages/Rust/2fcd6672bb95598dba21dacf8fa7ad8b03bcb01a28846d5dcfcec69796e82628/Cargo.toml: the cargo feature `edition2024` has been stabilized in the 1.85 release and is no longer necessary to be listed in the manifest\u001B[0m\n",
       "\u001B[4;7m  See https://doc.rust-lang.org/nightly/cargo/reference/manifest.html#the-edition-field for more information about using this feature.\u001B[0m\n",
       "\u001B[4;7m\u001B[1m\u001B[33mwarning\u001B[0m\u001B[1m:\u001B[0m /home/runner/work/spiral/polyglot/target/spiral/spiral/packages/Rust/75efa6b80398a6c37f3afc9a80195eb46c95d44b4309de931b43a844da11bd7d/Cargo.toml: the cargo feature `edition2024` has been stabilized in the 1.85 release and is no longer necessary to be listed in the manifest\u001B[0m\n",
       "\u001B[4;7m  See https://doc.rust-lang.org/nightly/cargo/reference/manifest.html#the-edition-field for more information about using this feature.\u001B[0m\n",
       "\u001B[4;7m\u001B[1m\u001B[33mwarning\u001B[0m\u001B[1m:\u001B[0m /home/runner/work/spiral/polyglot/target/spiral/spiral/packages/Rust/ed2b5b0dd1ae45ca6619be3a6f0ed9a3d70ff196725f68a6c2a0b928421e11e0/Cargo.toml: the cargo feature `edition2024` has been stabilized in the 1.85 release and is no longer necessary to be listed in the manifest\u001B[0m\n",
       "\u001B[4;7m  See https://doc.rust-lang.org/nightly/cargo/reference/manifest.html#the-edition-field for more information about using this feature.\u001B[0m\n",
       "\u001B[4;7m\u001B[1m\u001B[33mwarning\u001B[0m\u001B[1m:\u001B[0m /home/runner/work/spiral/polyglot/target/spiral/spiral/packages/Rust/7bcc5b35e49b3ebf401d892e4709c5d6ba8df4862746e27d5d8a0914ea5ab24d/Cargo.toml: the cargo feature `edition2024` has been stabilized in the 1.85 release and is no longer necessary to be listed in the manifest\u001B[0m\n",
       "\u001B[4;7m  See https://doc.rust-lang.org/nightly/cargo/reference/manifest.html#the-edition-field for more information about using this feature.\u001B[0m\n",
       "\u001B[4;7m\u001B[1m\u001B[33mwarning\u001B[0m\u001B[1m:\u001B[0m /home/runner/work/spiral/polyglot/target/spiral/spiral/packages/Rust/1d0d63b28cd7000981be7782cf0633a414f31090a4baeebb994a453328c52215/Cargo.toml: the cargo feature `edition2024` has been stabilized in the 1.85 release and is no longer necessary to be listed in the manifest\u001B[0m\n",
       "\u001B[4;7m  See https://doc.rust-lang.org/nightly/cargo/reference/manifest.html#the-edition-field for more information about using this feature.\u001B[0m\n",
       "\u001B[4;7m\u001B[1m\u001B[33mwarning\u001B[0m\u001B[1m:\u001B[0m /home/runner/work/spiral/polyglot/target/spiral/spiral/packages/Rust/2ef8b15c945dbfbc67ff5bc26c9e9501a45a3263b540960ac7776259d199e145/Cargo.toml: the cargo feature `edition2024` has been stabilized in the 1.85 release and is no longer necessary to be listed in the manifest\u001B[0m\n",
       "\u001B[4;7m  See https://doc.rust-lang.org/nightly/cargo/reference/manifest.html#the-edition-field for more information about using this feature.\u001B[0m\n",
       "\u001B[4;7m\u001B[1m\u001B[33mwarning\u001B[0m\u001B[1m:\u001B[0m /home/runner/work/spiral/polyglot/target/spiral/spiral/packages/Rust/79e4e5601736a009526631c3da4e3b7c815c36e8a0555edd0fb51749adf1bb9a/Cargo.toml: the cargo feature `edition2024` has been stabilized in the 1.85 release and is no longer necessary to be listed in the manifest\u001B[0m\n",
       "\u001B[4;7m  See https://doc.rust-lang.org/nightly/cargo/reference/manifest.html#the-edition-field for more information about using this feature.\u001B[0m\n",
       "\u001B[4;7m\u001B[1m\u001B[33mwarning\u001B[0m\u001B[1m:\u001B[0m /home/runner/work/spiral/polyglot/target/spiral/spiral/packages/Rust/34c72c344df963355858a657fae3703186669cdcd9af134a15099c6feb0c4e1e/Cargo.toml: the cargo feature `edition2024` has been stabilized in the 1.85 release and is no longer necessary to be listed in the manifest\u001B[0m\n",
       "\u001B[4;7m  See https://doc.rust-lang.org/nightly/cargo/reference/manifest.html#the-edition-field for more information about using this feature.\u001B[0m\n",
       "\u001B[4;7m\u001B[1m\u001B[32m   Compiling\u001B[0m spiral_ed2b5b0dd1ae45ca6619be3a6f0ed9a3d70ff196725f68a6c2a0b928421e11e0 v0.0.1 (/home/runner/work/spiral/polyglot/target/spiral/spiral/packages/Rust/ed2b5b0dd1ae45ca6619be3a6f0ed9a3d70ff196725f68a6c2a0b928421e11e0)\u001B[0m\n",
       "\u001B[4;7m\u001B[1m\u001B[32m    Finished\u001B[0m `test` profile [unoptimized + debuginfo] target(s) in 0.46s\u001B[0m\n",
       "\u001B[4;7m\u001B[1m\u001B[32m     Running\u001B[0m unittests spiral.rs (/home/runner/work/spiral/polyglot/target/spiral/spiral/target/debug/deps/spiral_ed2b5b0dd1ae45ca6619be3a6f0ed9a3d70ff196725f68a6c2a0b928421e11e0-896251978d94e5fd)\u001B[0m\n",
       "\n",
       "running 1 test\n",
       "test module_6ff740fe::Spiral::a ... ok\n",
       "\n",
       "successes:\n",
       "\n",
       "---- module_6ff740fe::Spiral::a stdout ----\n",
       "{ name = __assert_eq; actual = false; expected = false }\n",
       "\n",
       "\n",
       "successes:\n",
       "    module_6ff740fe::Spiral::a\n",
       "\n",
       "test result: ok. 1 passed; 0 failed; 0 ignored; 0 measured; 0 filtered out; finished in 0.00s\n",
       " }\n"
      ]
     },
     "metadata": {},
     "output_type": "display_data"
    }
   ],
   "source": [
    "//// test\n",
    "///! rust -d encoding_rs encoding_rs_io\n",
    "\n",
    "fun () =>\n",
    "    run_tests_log {\n",
    "        a = _assert_eq false\n",
    "    }\n",
    "|> run"
   ]
  }
 ],
 "metadata": {},
 "nbformat": 4,
 "nbformat_minor": 5
}