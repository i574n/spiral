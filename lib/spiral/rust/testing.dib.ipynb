{
 "cells": [
  {
   "cell_type": "markdown",
   "metadata": {},
   "source": [
    "# rust/testing"
   ]
  },
  {
   "cell_type": "code",
   "execution_count": null,
   "metadata": {
    "dotnet_interactive": {
     "language": "spiral"
    },
    "polyglot_notebook": {
     "kernelName": "spiral"
    }
   },
   "outputs": [],
   "source": [
    "open rust.rust_operators"
   ]
  },
  {
   "cell_type": "code",
   "execution_count": null,
   "metadata": {
    "dotnet_interactive": {
     "language": "spiral"
    },
    "polyglot_notebook": {
     "kernelName": "spiral"
    }
   },
   "outputs": [],
   "source": [
    "//// test\n",
    "\n",
    "open testing"
   ]
  },
  {
   "cell_type": "markdown",
   "metadata": {},
   "source": [
    "### run_tests'"
   ]
  },
  {
   "cell_type": "code",
   "execution_count": null,
   "metadata": {
    "dotnet_interactive": {
     "language": "spiral"
    },
    "polyglot_notebook": {
     "kernelName": "spiral"
    }
   },
   "outputs": [],
   "source": [
    "inl run_tests' tests =\n",
    "    (!\\($'\"true; () //\"') : bool) |> ignore\n",
    "\n",
    "    inl fields = reflection.get_record_fields tests\n",
    "\n",
    "    fields\n",
    "    |> listm.iter fun name, (fn : string -> ()) =>\n",
    "        !\\($'\"} /* /*\"')\n",
    "        (!\\($'$\"*/ #[test] fn \" + !name + \"() { //\"') : bool) |> ignore\n",
    "        fn name\n",
    "\n",
    "    fields\n",
    "    |> listm.iter fun _ =>\n",
    "        !\\($'\"{ //\"') : ()"
   ]
  },
  {
   "cell_type": "code",
   "execution_count": null,
   "metadata": {
    "dotnet_interactive": {
     "language": "spiral"
    },
    "polyglot_notebook": {
     "kernelName": "spiral"
    }
   },
   "outputs": [],
   "source": [
    "//// test\n",
    "\n",
    "inl run test =\n",
    "    if env.get_environment_variable \"TEST\" = \"1\"\n",
    "    then ()\n",
    "    else\n",
    "        runtime.execution_options fun x => { x with\n",
    "            command = \"cargo test -- --show-output\"\n",
    "            working_directory = file_system.get_source_directory () |> Some |> optionm'.box\n",
    "            environment_variables = ;[ \"TEST\", \"1\" ]\n",
    "        }\n",
    "        |> runtime.execute_with_options\n",
    "        |> fun exit_code, result =>\n",
    "            exit_code |> _assert_eq 0i32\n",
    "            result |> _assert sm'.contains \"test result: ok. 1 passed; 0 failed; 0 ignored;\"\n",
    "\n",
    "    $'let tests () = !test ()' : ()"
   ]
  },
  {
   "cell_type": "code",
   "execution_count": null,
   "metadata": {
    "dotnet_interactive": {
     "language": "spiral"
    },
    "polyglot_notebook": {
     "kernelName": "spiral"
    }
   },
   "outputs": [
    {
     "data": {
      "text/plain": [
       "00:00:00 \u001B[94md\u001B[39m #1 runtime.execute_with_options / { file_name = cargo; arguments = [\"test\", \"--\", \"--show-output\"]; options = { command = cargo test -- --show-output; cancellation_token = None; environment_variables = Array(MutCell([(\"TEST\", \"1\")])); on_line = None; stdin = None; trace = true; working_directory = Some(\n",
       "    \"/home/runner/work/spiral/polyglot/target/spiral/spiral/packages/Rust/623d444f624ce7b855a68586acb40cec5467bd522d24405dc805231f11554b57\",\n",
       ") } }\n",
       "00:00:00 \u001B[90mv\u001B[39m #2 ! \u001B[1m\u001B[33mwarning\u001B[0m\u001B[1m:\u001B[0m /home/runner/work/spiral/polyglot/target/spiral/spiral/packages/Rust/18b4581269b954ee94a3513b940981e1f9298b614e0ca2595be95e6e197695b5/Cargo.toml: the cargo feature `edition2024` has been stabilized in the 1.85 release and is no longer necessary to be listed in the manifest\n",
       "00:00:00 \u001B[90mv\u001B[39m #3 !   See https://doc.rust-lang.org/nightly/cargo/reference/manifest.html#the-edition-field for more information about using this feature.\n",
       "00:00:00 \u001B[90mv\u001B[39m #4 ! \u001B[1m\u001B[33mwarning\u001B[0m\u001B[1m:\u001B[0m /home/runner/work/spiral/polyglot/target/spiral/spiral/packages/Rust/a6d7dd7563bc8c479437c403ddb5ca6fd015ce71ce84390bdfd146554caee4dd/Cargo.toml: the cargo feature `edition2024` has been stabilized in the 1.85 release and is no longer necessary to be listed in the manifest\n",
       "00:00:00 \u001B[90mv\u001B[39m #5 !   See https://doc.rust-lang.org/nightly/cargo/reference/manifest.html#the-edition-field for more information about using this feature.\n",
       "00:00:00 \u001B[90mv\u001B[39m #6 ! \u001B[1m\u001B[33mwarning\u001B[0m\u001B[1m:\u001B[0m /home/runner/work/spiral/polyglot/target/spiral/spiral/packages/Rust/623d444f624ce7b855a68586acb40cec5467bd522d24405dc805231f11554b57/Cargo.toml: the cargo feature `edition2024` has been stabilized in the 1.85 release and is no longer necessary to be listed in the manifest\n",
       "00:00:00 \u001B[90mv\u001B[39m #7 !   See https://doc.rust-lang.org/nightly/cargo/reference/manifest.html#the-edition-field for more information about using this feature.\n",
       "00:00:00 \u001B[90mv\u001B[39m #8 ! \u001B[1m\u001B[33mwarning\u001B[0m\u001B[1m:\u001B[0m /home/runner/work/spiral/polyglot/target/spiral/spiral/packages/Rust/f31967efc6e7c49eabc3dc05c2b763775d0d617394f775a9f18702b5b009cfec/Cargo.toml: the cargo feature `edition2024` has been stabilized in the 1.85 release and is no longer necessary to be listed in the manifest\n",
       "00:00:00 \u001B[90mv\u001B[39m #9 !   See https://doc.rust-lang.org/nightly/cargo/reference/manifest.html#the-edition-field for more information about using this feature.\n",
       "00:00:00 \u001B[90mv\u001B[39m #10 ! \u001B[1m\u001B[33mwarning\u001B[0m\u001B[1m:\u001B[0m /home/runner/work/spiral/polyglot/target/spiral/spiral/packages/Rust/083dd30e84de10fb7bfc0ad14a46d92153bca95a3ddfdc2e9858ca791419768a/Cargo.toml: the cargo feature `edition2024` has been stabilized in the 1.85 release and is no longer necessary to be listed in the manifest\n",
       "00:00:00 \u001B[90mv\u001B[39m #11 !   See https://doc.rust-lang.org/nightly/cargo/reference/manifest.html#the-edition-field for more information about using this feature.\n",
       "00:00:00 \u001B[90mv\u001B[39m #12 ! \u001B[1m\u001B[33mwarning\u001B[0m\u001B[1m:\u001B[0m /home/runner/work/spiral/polyglot/target/spiral/spiral/packages/Rust/f78f0be367db578a25d6e46e809bb81347d0a90c59ea92a9859068d2542123d8/Cargo.toml: the cargo feature `edition2024` has been stabilized in the 1.85 release and is no longer necessary to be listed in the manifest\n",
       "00:00:00 \u001B[90mv\u001B[39m #13 !   See https://doc.rust-lang.org/nightly/cargo/reference/manifest.html#the-edition-field for more information about using this feature.\n",
       "00:00:00 \u001B[90mv\u001B[39m #14 ! \u001B[1m\u001B[33mwarning\u001B[0m\u001B[1m:\u001B[0m /home/runner/work/spiral/polyglot/target/spiral/spiral/packages/Rust/024ff610b957c11cf03271524124421f3a14f632b6db1984b7bbe8bfdab5045e/Cargo.toml: the cargo feature `edition2024` has been stabilized in the 1.85 release and is no longer necessary to be listed in the manifest\n",
       "00:00:00 \u001B[90mv\u001B[39m #15 !   See https://doc.rust-lang.org/nightly/cargo/reference/manifest.html#the-edition-field for more information about using this feature.\n",
       "00:00:00 \u001B[90mv\u001B[39m #16 ! \u001B[1m\u001B[33mwarning\u001B[0m\u001B[1m:\u001B[0m /home/runner/work/spiral/polyglot/target/spiral/spiral/packages/Rust/fa38bd182e393b6f73a47c6917f28a364dffc1c80798fc2e08e858b70c3ac777/Cargo.toml: the cargo feature `edition2024` has been stabilized in the 1.85 release and is no longer necessary to be listed in the manifest\n",
       "00:00:00 \u001B[90mv\u001B[39m #17 !   See https://doc.rust-lang.org/nightly/cargo/reference/manifest.html#the-edition-field for more information about using this feature.\n",
       "00:00:00 \u001B[90mv\u001B[39m #18 ! \u001B[1m\u001B[33mwarning\u001B[0m\u001B[1m:\u001B[0m /home/runner/work/spiral/polyglot/target/spiral/spiral/packages/Rust/efdfb449d9e5556d6e375415508d16fe489a9cad98af40abbfd402f66b72f2bf/Cargo.toml: the cargo feature `edition2024` has been stabilized in the 1.85 release and is no longer necessary to be listed in the manifest\n",
       "00:00:00 \u001B[90mv\u001B[39m #19 !   See https://doc.rust-lang.org/nightly/cargo/reference/manifest.html#the-edition-field for more information about using this feature.\n",
       "00:00:00 \u001B[90mv\u001B[39m #20 ! \u001B[1m\u001B[33mwarning\u001B[0m\u001B[1m:\u001B[0m /home/runner/work/spiral/polyglot/target/spiral/spiral/packages/Rust/13b1d94d474ee5a4ae59bcbeec508b080f353895e27e98add9894fb293b6b901/Cargo.toml: the cargo feature `edition2024` has been stabilized in the 1.85 release and is no longer necessary to be listed in the manifest\n",
       "00:00:00 \u001B[90mv\u001B[39m #21 !   See https://doc.rust-lang.org/nightly/cargo/reference/manifest.html#the-edition-field for more information about using this feature.\n",
       "00:00:00 \u001B[90mv\u001B[39m #22 ! \u001B[1m\u001B[33mwarning\u001B[0m\u001B[1m:\u001B[0m /home/runner/work/spiral/polyglot/target/spiral/spiral/packages/Rust/0c017f5d19bf0cd97804ea5cb473f8874e5b8f35defa7bb945ded71e004a210b/Cargo.toml: the cargo feature `edition2024` has been stabilized in the 1.85 release and is no longer necessary to be listed in the manifest\n",
       "00:00:00 \u001B[90mv\u001B[39m #23 !   See https://doc.rust-lang.org/nightly/cargo/reference/manifest.html#the-edition-field for more information about using this feature.\n",
       "00:00:00 \u001B[90mv\u001B[39m #24 ! \u001B[1m\u001B[33mwarning\u001B[0m\u001B[1m:\u001B[0m /home/runner/work/spiral/polyglot/target/spiral/spiral/packages/Rust/043ab898c523a331d9392464233e9b9f4c57d73a6f426cac7f76277987c735b2/Cargo.toml: the cargo feature `edition2024` has been stabilized in the 1.85 release and is no longer necessary to be listed in the manifest\n",
       "00:00:00 \u001B[90mv\u001B[39m #25 !   See https://doc.rust-lang.org/nightly/cargo/reference/manifest.html#the-edition-field for more information about using this feature.\n",
       "00:00:00 \u001B[90mv\u001B[39m #26 ! \u001B[1m\u001B[33mwarning\u001B[0m\u001B[1m:\u001B[0m /home/runner/work/spiral/polyglot/target/spiral/spiral/packages/Rust/db8e8ff4ef9d95434d4f95b2165d279bc2190a904336e30dd7b63d0d1e48ce0a/Cargo.toml: the cargo feature `edition2024` has been stabilized in the 1.85 release and is no longer necessary to be listed in the manifest\n",
       "00:00:00 \u001B[90mv\u001B[39m #27 !   See https://doc.rust-lang.org/nightly/cargo/reference/manifest.html#the-edition-field for more information about using this feature.\n",
       "00:00:00 \u001B[90mv\u001B[39m #28 ! \u001B[1m\u001B[33mwarning\u001B[0m\u001B[1m:\u001B[0m /home/runner/work/spiral/polyglot/target/spiral/spiral/packages/Rust/399aa1f3f3139f81268d954670e64e9b347bbd6e901ea5469dbdbbb859fe2e29/Cargo.toml: the cargo feature `edition2024` has been stabilized in the 1.85 release and is no longer necessary to be listed in the manifest\n",
       "00:00:00 \u001B[90mv\u001B[39m #29 !   See https://doc.rust-lang.org/nightly/cargo/reference/manifest.html#the-edition-field for more information about using this feature.\n",
       "00:00:00 \u001B[90mv\u001B[39m #30 ! \u001B[1m\u001B[33mwarning\u001B[0m\u001B[1m:\u001B[0m /home/runner/work/spiral/polyglot/target/spiral/spiral/packages/Rust/0c01aeadc744f484a58865b905971cc112089553f2e5dc741e14c2cb2b37138f/Cargo.toml: the cargo feature `edition2024` has been stabilized in the 1.85 release and is no longer necessary to be listed in the manifest\n",
       "00:00:00 \u001B[90mv\u001B[39m #31 !   See https://doc.rust-lang.org/nightly/cargo/reference/manifest.html#the-edition-field for more information about using this feature.\n",
       "00:00:00 \u001B[90mv\u001B[39m #32 ! \u001B[1m\u001B[33mwarning\u001B[0m\u001B[1m:\u001B[0m /home/runner/work/spiral/polyglot/target/spiral/spiral/packages/Rust/5d4f8726f328d01c5add0203fb717a549513bf726effc4be25292a6628118654/Cargo.toml: the cargo feature `edition2024` has been stabilized in the 1.85 release and is no longer necessary to be listed in the manifest\n",
       "00:00:00 \u001B[90mv\u001B[39m #33 !   See https://doc.rust-lang.org/nightly/cargo/reference/manifest.html#the-edition-field for more information about using this feature.\n",
       "00:00:00 \u001B[90mv\u001B[39m #34 ! \u001B[1m\u001B[33mwarning\u001B[0m\u001B[1m:\u001B[0m /home/runner/work/spiral/polyglot/target/spiral/spiral/packages/Rust/17457a8af897b15ea99cccc0ae958f91e2b7f94f3bf03e929d5e58ec0a6cca9d/Cargo.toml: the cargo feature `edition2024` has been stabilized in the 1.85 release and is no longer necessary to be listed in the manifest\n",
       "00:00:00 \u001B[90mv\u001B[39m #35 !   See https://doc.rust-lang.org/nightly/cargo/reference/manifest.html#the-edition-field for more information about using this feature.\n",
       "00:00:00 \u001B[90mv\u001B[39m #36 ! \u001B[1m\u001B[33mwarning\u001B[0m\u001B[1m:\u001B[0m /home/runner/work/spiral/polyglot/target/spiral/spiral/packages/Rust/25b0ae884e46cb54ee57af44a9a32b49c7a98e68ca3d271c8c55623e1783c0dc/Cargo.toml: the cargo feature `edition2024` has been stabilized in the 1.85 release and is no longer necessary to be listed in the manifest\n",
       "00:00:00 \u001B[90mv\u001B[39m #37 !   See https://doc.rust-lang.org/nightly/cargo/reference/manifest.html#the-edition-field for more information about using this feature.\n",
       "00:00:00 \u001B[90mv\u001B[39m #38 ! \u001B[1m\u001B[32m   Compiling\u001B[0m spiral_623d444f624ce7b855a68586acb40cec5467bd522d24405dc805231f11554b57 v0.0.1 (/home/runner/work/spiral/polyglot/target/spiral/spiral/packages/Rust/623d444f624ce7b855a68586acb40cec5467bd522d24405dc805231f11554b57)\n",
       "00:00:00 \u001B[90mv\u001B[39m #39 ! \u001B[1m\u001B[32m    Finished\u001B[0m `test` profile [unoptimized + debuginfo] target(s) in 0.44s\n",
       "00:00:00 \u001B[90mv\u001B[39m #40 ! \u001B[1m\u001B[32m     Running\u001B[0m unittests spiral.rs (/home/runner/work/spiral/polyglot/target/spiral/spiral/target/debug/deps/spiral_623d444f624ce7b855a68586acb40cec5467bd522d24405dc805231f11554b57-08c1b6f2be9dd489)\n",
       "00:00:00 \u001B[90mv\u001B[39m #41 >\n",
       "00:00:00 \u001B[90mv\u001B[39m #42 > running 1 test\n",
       "00:00:00 \u001B[90mv\u001B[39m #43 > test module_6ff740fe::Spiral::a ... ok\n",
       "00:00:00 \u001B[90mv\u001B[39m #44 >\n",
       "00:00:00 \u001B[90mv\u001B[39m #45 > successes:\n",
       "00:00:00 \u001B[90mv\u001B[39m #46 >\n",
       "00:00:00 \u001B[90mv\u001B[39m #47 > ---- module_6ff740fe::Spiral::a stdout ----\n",
       "00:00:00 \u001B[90mv\u001B[39m #48 > { name = __assert_eq; actual = a; expected = a }\n",
       "00:00:00 \u001B[90mv\u001B[39m #49 >\n",
       "00:00:00 \u001B[90mv\u001B[39m #50 >\n",
       "00:00:00 \u001B[90mv\u001B[39m #51 > successes:\n",
       "00:00:00 \u001B[90mv\u001B[39m #52 >     module_6ff740fe::Spiral::a\n",
       "00:00:00 \u001B[90mv\u001B[39m #53 >\n",
       "00:00:00 \u001B[90mv\u001B[39m #54 > test result: ok. 1 passed; 0 failed; 0 ignored; 0 measured; 0 filtered out; finished in 0.00s\n",
       "00:00:00 \u001B[90mv\u001B[39m #55 >\n",
       "00:00:00 \u001B[90mv\u001B[39m #56 runtime.execute_with_options / result / { exit_code = 0; std_trace_length = 9129 }\n",
       "{ name = __assert_eq; actual = 0; expected = 0 }\n",
       "{ name = __assert; actual = test result: ok. 1 passed; 0 failed; 0 ignored;; expected = \u001B[4;7m\u001B[1m\u001B[33mwarning\u001B[0m\u001B[1m:\u001B[0m /home/runner/work/spiral/polyglot/target/spiral/spiral/packages/Rust/18b4581269b954ee94a3513b940981e1f9298b614e0ca2595be95e6e197695b5/Cargo.toml: the cargo feature `edition2024` has been stabilized in the 1.85 release and is no longer necessary to be listed in the manifest\u001B[0m\n",
       "\u001B[4;7m  See https://doc.rust-lang.org/nightly/cargo/reference/manifest.html#the-edition-field for more information about using this feature.\u001B[0m\n",
       "\u001B[4;7m\u001B[1m\u001B[33mwarning\u001B[0m\u001B[1m:\u001B[0m /home/runner/work/spiral/polyglot/target/spiral/spiral/packages/Rust/a6d7dd7563bc8c479437c403ddb5ca6fd015ce71ce84390bdfd146554caee4dd/Cargo.toml: the cargo feature `edition2024` has been stabilized in the 1.85 release and is no longer necessary to be listed in the manifest\u001B[0m\n",
       "\u001B[4;7m  See https://doc.rust-lang.org/nightly/cargo/reference/manifest.html#the-edition-field for more information about using this feature.\u001B[0m\n",
       "\u001B[4;7m\u001B[1m\u001B[33mwarning\u001B[0m\u001B[1m:\u001B[0m /home/runner/work/spiral/polyglot/target/spiral/spiral/packages/Rust/623d444f624ce7b855a68586acb40cec5467bd522d24405dc805231f11554b57/Cargo.toml: the cargo feature `edition2024` has been stabilized in the 1.85 release and is no longer necessary to be listed in the manifest\u001B[0m\n",
       "\u001B[4;7m  See https://doc.rust-lang.org/nightly/cargo/reference/manifest.html#the-edition-field for more information about using this feature.\u001B[0m\n",
       "\u001B[4;7m\u001B[1m\u001B[33mwarning\u001B[0m\u001B[1m:\u001B[0m /home/runner/work/spiral/polyglot/target/spiral/spiral/packages/Rust/f31967efc6e7c49eabc3dc05c2b763775d0d617394f775a9f18702b5b009cfec/Cargo.toml: the cargo feature `edition2024` has been stabilized in the 1.85 release and is no longer necessary to be listed in the manifest\u001B[0m\n",
       "\u001B[4;7m  See https://doc.rust-lang.org/nightly/cargo/reference/manifest.html#the-edition-field for more information about using this feature.\u001B[0m\n",
       "\u001B[4;7m\u001B[1m\u001B[33mwarning\u001B[0m\u001B[1m:\u001B[0m /home/runner/work/spiral/polyglot/target/spiral/spiral/packages/Rust/083dd30e84de10fb7bfc0ad14a46d92153bca95a3ddfdc2e9858ca791419768a/Cargo.toml: the cargo feature `edition2024` has been stabilized in the 1.85 release and is no longer necessary to be listed in the manifest\u001B[0m\n",
       "\u001B[4;7m  See https://doc.rust-lang.org/nightly/cargo/reference/manifest.html#the-edition-field for more information about using this feature.\u001B[0m\n",
       "\u001B[4;7m\u001B[1m\u001B[33mwarning\u001B[0m\u001B[1m:\u001B[0m /home/runner/work/spiral/polyglot/target/spiral/spiral/packages/Rust/f78f0be367db578a25d6e46e809bb81347d0a90c59ea92a9859068d2542123d8/Cargo.toml: the cargo feature `edition2024` has been stabilized in the 1.85 release and is no longer necessary to be listed in the manifest\u001B[0m\n",
       "\u001B[4;7m  See https://doc.rust-lang.org/nightly/cargo/reference/manifest.html#the-edition-field for more information about using this feature.\u001B[0m\n",
       "\u001B[4;7m\u001B[1m\u001B[33mwarning\u001B[0m\u001B[1m:\u001B[0m /home/runner/work/spiral/polyglot/target/spiral/spiral/packages/Rust/024ff610b957c11cf03271524124421f3a14f632b6db1984b7bbe8bfdab5045e/Cargo.toml: the cargo feature `edition2024` has been stabilized in the 1.85 release and is no longer necessary to be listed in the manifest\u001B[0m\n",
       "\u001B[4;7m  See https://doc.rust-lang.org/nightly/cargo/reference/manifest.html#the-edition-field for more information about using this feature.\u001B[0m\n",
       "\u001B[4;7m\u001B[1m\u001B[33mwarning\u001B[0m\u001B[1m:\u001B[0m /home/runner/work/spiral/polyglot/target/spiral/spiral/packages/Rust/fa38bd182e393b6f73a47c6917f28a364dffc1c80798fc2e08e858b70c3ac777/Cargo.toml: the cargo feature `edition2024` has been stabilized in the 1.85 release and is no longer necessary to be listed in the manifest\u001B[0m\n",
       "\u001B[4;7m  See https://doc.rust-lang.org/nightly/cargo/reference/manifest.html#the-edition-field for more information about using this feature.\u001B[0m\n",
       "\u001B[4;7m\u001B[1m\u001B[33mwarning\u001B[0m\u001B[1m:\u001B[0m /home/runner/work/spiral/polyglot/target/spiral/spiral/packages/Rust/efdfb449d9e5556d6e375415508d16fe489a9cad98af40abbfd402f66b72f2bf/Cargo.toml: the cargo feature `edition2024` has been stabilized in the 1.85 release and is no longer necessary to be listed in the manifest\u001B[0m\n",
       "\u001B[4;7m  See https://doc.rust-lang.org/nightly/cargo/reference/manifest.html#the-edition-field for more information about using this feature.\u001B[0m\n",
       "\u001B[4;7m\u001B[1m\u001B[33mwarning\u001B[0m\u001B[1m:\u001B[0m /home/runner/work/spiral/polyglot/target/spiral/spiral/packages/Rust/13b1d94d474ee5a4ae59bcbeec508b080f353895e27e98add9894fb293b6b901/Cargo.toml: the cargo feature `edition2024` has been stabilized in the 1.85 release and is no longer necessary to be listed in the manifest\u001B[0m\n",
       "\u001B[4;7m  See https://doc.rust-lang.org/nightly/cargo/reference/manifest.html#the-edition-field for more information about using this feature.\u001B[0m\n",
       "\u001B[4;7m\u001B[1m\u001B[33mwarning\u001B[0m\u001B[1m:\u001B[0m /home/runner/work/spiral/polyglot/target/spiral/spiral/packages/Rust/0c017f5d19bf0cd97804ea5cb473f8874e5b8f35defa7bb945ded71e004a210b/Cargo.toml: the cargo feature `edition2024` has been stabilized in the 1.85 release and is no longer necessary to be listed in the manifest\u001B[0m\n",
       "\u001B[4;7m  See https://doc.rust-lang.org/nightly/cargo/reference/manifest.html#the-edition-field for more information about using this feature.\u001B[0m\n",
       "\u001B[4;7m\u001B[1m\u001B[33mwarning\u001B[0m\u001B[1m:\u001B[0m /home/runner/work/spiral/polyglot/target/spiral/spiral/packages/Rust/043ab898c523a331d9392464233e9b9f4c57d73a6f426cac7f76277987c735b2/Cargo.toml: the cargo feature `edition2024` has been stabilized in the 1.85 release and is no longer necessary to be listed in the manifest\u001B[0m\n",
       "\u001B[4;7m  See https://doc.rust-lang.org/nightly/cargo/reference/manifest.html#the-edition-field for more information about using this feature.\u001B[0m\n",
       "\u001B[4;7m\u001B[1m\u001B[33mwarning\u001B[0m\u001B[1m:\u001B[0m /home/runner/work/spiral/polyglot/target/spiral/spiral/packages/Rust/db8e8ff4ef9d95434d4f95b2165d279bc2190a904336e30dd7b63d0d1e48ce0a/Cargo.toml: the cargo feature `edition2024` has been stabilized in the 1.85 release and is no longer necessary to be listed in the manifest\u001B[0m\n",
       "\u001B[4;7m  See https://doc.rust-lang.org/nightly/cargo/reference/manifest.html#the-edition-field for more information about using this feature.\u001B[0m\n",
       "\u001B[4;7m\u001B[1m\u001B[33mwarning\u001B[0m\u001B[1m:\u001B[0m /home/runner/work/spiral/polyglot/target/spiral/spiral/packages/Rust/399aa1f3f3139f81268d954670e64e9b347bbd6e901ea5469dbdbbb859fe2e29/Cargo.toml: the cargo feature `edition2024` has been stabilized in the 1.85 release and is no longer necessary to be listed in the manifest\u001B[0m\n",
       "\u001B[4;7m  See https://doc.rust-lang.org/nightly/cargo/reference/manifest.html#the-edition-field for more information about using this feature.\u001B[0m\n",
       "\u001B[4;7m\u001B[1m\u001B[33mwarning\u001B[0m\u001B[1m:\u001B[0m /home/runner/work/spiral/polyglot/target/spiral/spiral/packages/Rust/0c01aeadc744f484a58865b905971cc112089553f2e5dc741e14c2cb2b37138f/Cargo.toml: the cargo feature `edition2024` has been stabilized in the 1.85 release and is no longer necessary to be listed in the manifest\u001B[0m\n",
       "\u001B[4;7m  See https://doc.rust-lang.org/nightly/cargo/reference/manifest.html#the-edition-field for more information about using this feature.\u001B[0m\n",
       "\u001B[4;7m\u001B[1m\u001B[33mwarning\u001B[0m\u001B[1m:\u001B[0m /home/runner/work/spiral/polyglot/target/spiral/spiral/packages/Rust/5d4f8726f328d01c5add0203fb717a549513bf726effc4be25292a6628118654/Cargo.toml: the cargo feature `edition2024` has been stabilized in the 1.85 release and is no longer necessary to be listed in the manifest\u001B[0m\n",
       "\u001B[4;7m  See https://doc.rust-lang.org/nightly/cargo/reference/manifest.html#the-edition-field for more information about using this feature.\u001B[0m\n",
       "\u001B[4;7m\u001B[1m\u001B[33mwarning\u001B[0m\u001B[1m:\u001B[0m /home/runner/work/spiral/polyglot/target/spiral/spiral/packages/Rust/17457a8af897b15ea99cccc0ae958f91e2b7f94f3bf03e929d5e58ec0a6cca9d/Cargo.toml: the cargo feature `edition2024` has been stabilized in the 1.85 release and is no longer necessary to be listed in the manifest\u001B[0m\n",
       "\u001B[4;7m  See https://doc.rust-lang.org/nightly/cargo/reference/manifest.html#the-edition-field for more information about using this feature.\u001B[0m\n",
       "\u001B[4;7m\u001B[1m\u001B[33mwarning\u001B[0m\u001B[1m:\u001B[0m /home/runner/work/spiral/polyglot/target/spiral/spiral/packages/Rust/25b0ae884e46cb54ee57af44a9a32b49c7a98e68ca3d271c8c55623e1783c0dc/Cargo.toml: the cargo feature `edition2024` has been stabilized in the 1.85 release and is no longer necessary to be listed in the manifest\u001B[0m\n",
       "\u001B[4;7m  See https://doc.rust-lang.org/nightly/cargo/reference/manifest.html#the-edition-field for more information about using this feature.\u001B[0m\n",
       "\u001B[4;7m\u001B[1m\u001B[32m   Compiling\u001B[0m spiral_623d444f624ce7b855a68586acb40cec5467bd522d24405dc805231f11554b57 v0.0.1 (/home/runner/work/spiral/polyglot/target/spiral/spiral/packages/Rust/623d444f624ce7b855a68586acb40cec5467bd522d24405dc805231f11554b57)\u001B[0m\n",
       "\u001B[4;7m\u001B[1m\u001B[32m    Finished\u001B[0m `test` profile [unoptimized + debuginfo] target(s) in 0.44s\u001B[0m\n",
       "\u001B[4;7m\u001B[1m\u001B[32m     Running\u001B[0m unittests spiral.rs (/home/runner/work/spiral/polyglot/target/spiral/spiral/target/debug/deps/spiral_623d444f624ce7b855a68586acb40cec5467bd522d24405dc805231f11554b57-08c1b6f2be9dd489)\u001B[0m\n",
       "\n",
       "running 1 test\n",
       "test module_6ff740fe::Spiral::a ... ok\n",
       "\n",
       "successes:\n",
       "\n",
       "---- module_6ff740fe::Spiral::a stdout ----\n",
       "{ name = __assert_eq; actual = a; expected = a }\n",
       "\n",
       "\n",
       "successes:\n",
       "    module_6ff740fe::Spiral::a\n",
       "\n",
       "test result: ok. 1 passed; 0 failed; 0 ignored; 0 measured; 0 filtered out; finished in 0.00s\n",
       " }\n"
      ]
     },
     "metadata": {},
     "output_type": "display_data"
    }
   ],
   "source": [
    "//// test\n",
    "///! rust -d encoding_rs encoding_rs_io\n",
    "\n",
    "fun () =>\n",
    "    run_tests' {\n",
    "        a = _assert_eq \"a\"\n",
    "    }\n",
    "|> run"
   ]
  },
  {
   "cell_type": "markdown",
   "metadata": {},
   "source": [
    "### run_tests"
   ]
  },
  {
   "cell_type": "code",
   "execution_count": null,
   "metadata": {
    "dotnet_interactive": {
     "language": "spiral"
    },
    "polyglot_notebook": {
     "kernelName": "spiral"
    }
   },
   "outputs": [],
   "source": [
    "inl run_tests tests : () =\n",
    "    real\n",
    "        inl tests =\n",
    "            real_core.record_map\n",
    "                fun { key value } =>\n",
    "                    (fun _ => value ()) : string -> ()\n",
    "                tests\n",
    "        run_tests' `(`tests) tests"
   ]
  },
  {
   "cell_type": "code",
   "execution_count": null,
   "metadata": {
    "dotnet_interactive": {
     "language": "spiral"
    },
    "polyglot_notebook": {
     "kernelName": "spiral"
    }
   },
   "outputs": [
    {
     "data": {
      "text/plain": [
       "00:00:00 \u001B[94md\u001B[39m #1 runtime.execute_with_options / { file_name = cargo; arguments = [\"test\", \"--\", \"--show-output\"]; options = { command = cargo test -- --show-output; cancellation_token = None; environment_variables = Array(MutCell([(\"TEST\", \"1\")])); on_line = None; stdin = None; trace = true; working_directory = Some(\n",
       "    \"/home/runner/work/spiral/polyglot/target/spiral/spiral/packages/Rust/623d444f624ce7b855a68586acb40cec5467bd522d24405dc805231f11554b57\",\n",
       ") } }\n",
       "00:00:00 \u001B[90mv\u001B[39m #2 ! \u001B[1m\u001B[33mwarning\u001B[0m\u001B[1m:\u001B[0m /home/runner/work/spiral/polyglot/target/spiral/spiral/packages/Rust/17457a8af897b15ea99cccc0ae958f91e2b7f94f3bf03e929d5e58ec0a6cca9d/Cargo.toml: the cargo feature `edition2024` has been stabilized in the 1.85 release and is no longer necessary to be listed in the manifest\n",
       "00:00:00 \u001B[90mv\u001B[39m #3 !   See https://doc.rust-lang.org/nightly/cargo/reference/manifest.html#the-edition-field for more information about using this feature.\n",
       "00:00:00 \u001B[90mv\u001B[39m #4 ! \u001B[1m\u001B[33mwarning\u001B[0m\u001B[1m:\u001B[0m /home/runner/work/spiral/polyglot/target/spiral/spiral/packages/Rust/efdfb449d9e5556d6e375415508d16fe489a9cad98af40abbfd402f66b72f2bf/Cargo.toml: the cargo feature `edition2024` has been stabilized in the 1.85 release and is no longer necessary to be listed in the manifest\n",
       "00:00:00 \u001B[90mv\u001B[39m #5 !   See https://doc.rust-lang.org/nightly/cargo/reference/manifest.html#the-edition-field for more information about using this feature.\n",
       "00:00:00 \u001B[90mv\u001B[39m #6 ! \u001B[1m\u001B[33mwarning\u001B[0m\u001B[1m:\u001B[0m /home/runner/work/spiral/polyglot/target/spiral/spiral/packages/Rust/f31967efc6e7c49eabc3dc05c2b763775d0d617394f775a9f18702b5b009cfec/Cargo.toml: the cargo feature `edition2024` has been stabilized in the 1.85 release and is no longer necessary to be listed in the manifest\n",
       "00:00:00 \u001B[90mv\u001B[39m #7 !   See https://doc.rust-lang.org/nightly/cargo/reference/manifest.html#the-edition-field for more information about using this feature.\n",
       "00:00:00 \u001B[90mv\u001B[39m #8 ! \u001B[1m\u001B[33mwarning\u001B[0m\u001B[1m:\u001B[0m /home/runner/work/spiral/polyglot/target/spiral/spiral/packages/Rust/0c017f5d19bf0cd97804ea5cb473f8874e5b8f35defa7bb945ded71e004a210b/Cargo.toml: the cargo feature `edition2024` has been stabilized in the 1.85 release and is no longer necessary to be listed in the manifest\n",
       "00:00:00 \u001B[90mv\u001B[39m #9 !   See https://doc.rust-lang.org/nightly/cargo/reference/manifest.html#the-edition-field for more information about using this feature.\n",
       "00:00:00 \u001B[90mv\u001B[39m #10 ! \u001B[1m\u001B[33mwarning\u001B[0m\u001B[1m:\u001B[0m /home/runner/work/spiral/polyglot/target/spiral/spiral/packages/Rust/0c01aeadc744f484a58865b905971cc112089553f2e5dc741e14c2cb2b37138f/Cargo.toml: the cargo feature `edition2024` has been stabilized in the 1.85 release and is no longer necessary to be listed in the manifest\n",
       "00:00:00 \u001B[90mv\u001B[39m #11 !   See https://doc.rust-lang.org/nightly/cargo/reference/manifest.html#the-edition-field for more information about using this feature.\n",
       "00:00:00 \u001B[90mv\u001B[39m #12 ! \u001B[1m\u001B[33mwarning\u001B[0m\u001B[1m:\u001B[0m /home/runner/work/spiral/polyglot/target/spiral/spiral/packages/Rust/043ab898c523a331d9392464233e9b9f4c57d73a6f426cac7f76277987c735b2/Cargo.toml: the cargo feature `edition2024` has been stabilized in the 1.85 release and is no longer necessary to be listed in the manifest\n",
       "00:00:00 \u001B[90mv\u001B[39m #13 !   See https://doc.rust-lang.org/nightly/cargo/reference/manifest.html#the-edition-field for more information about using this feature.\n",
       "00:00:00 \u001B[90mv\u001B[39m #14 ! \u001B[1m\u001B[33mwarning\u001B[0m\u001B[1m:\u001B[0m /home/runner/work/spiral/polyglot/target/spiral/spiral/packages/Rust/399aa1f3f3139f81268d954670e64e9b347bbd6e901ea5469dbdbbb859fe2e29/Cargo.toml: the cargo feature `edition2024` has been stabilized in the 1.85 release and is no longer necessary to be listed in the manifest\n",
       "00:00:00 \u001B[90mv\u001B[39m #15 !   See https://doc.rust-lang.org/nightly/cargo/reference/manifest.html#the-edition-field for more information about using this feature.\n",
       "00:00:00 \u001B[90mv\u001B[39m #16 ! \u001B[1m\u001B[33mwarning\u001B[0m\u001B[1m:\u001B[0m /home/runner/work/spiral/polyglot/target/spiral/spiral/packages/Rust/5d4f8726f328d01c5add0203fb717a549513bf726effc4be25292a6628118654/Cargo.toml: the cargo feature `edition2024` has been stabilized in the 1.85 release and is no longer necessary to be listed in the manifest\n",
       "00:00:00 \u001B[90mv\u001B[39m #17 !   See https://doc.rust-lang.org/nightly/cargo/reference/manifest.html#the-edition-field for more information about using this feature.\n",
       "00:00:00 \u001B[90mv\u001B[39m #18 ! \u001B[1m\u001B[33mwarning\u001B[0m\u001B[1m:\u001B[0m /home/runner/work/spiral/polyglot/target/spiral/spiral/packages/Rust/623d444f624ce7b855a68586acb40cec5467bd522d24405dc805231f11554b57/Cargo.toml: the cargo feature `edition2024` has been stabilized in the 1.85 release and is no longer necessary to be listed in the manifest\n",
       "00:00:00 \u001B[90mv\u001B[39m #19 !   See https://doc.rust-lang.org/nightly/cargo/reference/manifest.html#the-edition-field for more information about using this feature.\n",
       "00:00:00 \u001B[90mv\u001B[39m #20 ! \u001B[1m\u001B[33mwarning\u001B[0m\u001B[1m:\u001B[0m /home/runner/work/spiral/polyglot/target/spiral/spiral/packages/Rust/13b1d94d474ee5a4ae59bcbeec508b080f353895e27e98add9894fb293b6b901/Cargo.toml: the cargo feature `edition2024` has been stabilized in the 1.85 release and is no longer necessary to be listed in the manifest\n",
       "00:00:00 \u001B[90mv\u001B[39m #21 !   See https://doc.rust-lang.org/nightly/cargo/reference/manifest.html#the-edition-field for more information about using this feature.\n",
       "00:00:00 \u001B[90mv\u001B[39m #22 ! \u001B[1m\u001B[33mwarning\u001B[0m\u001B[1m:\u001B[0m /home/runner/work/spiral/polyglot/target/spiral/spiral/packages/Rust/db8e8ff4ef9d95434d4f95b2165d279bc2190a904336e30dd7b63d0d1e48ce0a/Cargo.toml: the cargo feature `edition2024` has been stabilized in the 1.85 release and is no longer necessary to be listed in the manifest\n",
       "00:00:00 \u001B[90mv\u001B[39m #23 !   See https://doc.rust-lang.org/nightly/cargo/reference/manifest.html#the-edition-field for more information about using this feature.\n",
       "00:00:00 \u001B[90mv\u001B[39m #24 ! \u001B[1m\u001B[33mwarning\u001B[0m\u001B[1m:\u001B[0m /home/runner/work/spiral/polyglot/target/spiral/spiral/packages/Rust/024ff610b957c11cf03271524124421f3a14f632b6db1984b7bbe8bfdab5045e/Cargo.toml: the cargo feature `edition2024` has been stabilized in the 1.85 release and is no longer necessary to be listed in the manifest\n",
       "00:00:00 \u001B[90mv\u001B[39m #25 !   See https://doc.rust-lang.org/nightly/cargo/reference/manifest.html#the-edition-field for more information about using this feature.\n",
       "00:00:00 \u001B[90mv\u001B[39m #26 ! \u001B[1m\u001B[33mwarning\u001B[0m\u001B[1m:\u001B[0m /home/runner/work/spiral/polyglot/target/spiral/spiral/packages/Rust/fa38bd182e393b6f73a47c6917f28a364dffc1c80798fc2e08e858b70c3ac777/Cargo.toml: the cargo feature `edition2024` has been stabilized in the 1.85 release and is no longer necessary to be listed in the manifest\n",
       "00:00:00 \u001B[90mv\u001B[39m #27 !   See https://doc.rust-lang.org/nightly/cargo/reference/manifest.html#the-edition-field for more information about using this feature.\n",
       "00:00:00 \u001B[90mv\u001B[39m #28 ! \u001B[1m\u001B[33mwarning\u001B[0m\u001B[1m:\u001B[0m /home/runner/work/spiral/polyglot/target/spiral/spiral/packages/Rust/25b0ae884e46cb54ee57af44a9a32b49c7a98e68ca3d271c8c55623e1783c0dc/Cargo.toml: the cargo feature `edition2024` has been stabilized in the 1.85 release and is no longer necessary to be listed in the manifest\n",
       "00:00:00 \u001B[90mv\u001B[39m #29 !   See https://doc.rust-lang.org/nightly/cargo/reference/manifest.html#the-edition-field for more information about using this feature.\n",
       "00:00:00 \u001B[90mv\u001B[39m #30 ! \u001B[1m\u001B[33mwarning\u001B[0m\u001B[1m:\u001B[0m /home/runner/work/spiral/polyglot/target/spiral/spiral/packages/Rust/083dd30e84de10fb7bfc0ad14a46d92153bca95a3ddfdc2e9858ca791419768a/Cargo.toml: the cargo feature `edition2024` has been stabilized in the 1.85 release and is no longer necessary to be listed in the manifest\n",
       "00:00:00 \u001B[90mv\u001B[39m #31 !   See https://doc.rust-lang.org/nightly/cargo/reference/manifest.html#the-edition-field for more information about using this feature.\n",
       "00:00:00 \u001B[90mv\u001B[39m #32 ! \u001B[1m\u001B[33mwarning\u001B[0m\u001B[1m:\u001B[0m /home/runner/work/spiral/polyglot/target/spiral/spiral/packages/Rust/a6d7dd7563bc8c479437c403ddb5ca6fd015ce71ce84390bdfd146554caee4dd/Cargo.toml: the cargo feature `edition2024` has been stabilized in the 1.85 release and is no longer necessary to be listed in the manifest\n",
       "00:00:00 \u001B[90mv\u001B[39m #33 !   See https://doc.rust-lang.org/nightly/cargo/reference/manifest.html#the-edition-field for more information about using this feature.\n",
       "00:00:00 \u001B[90mv\u001B[39m #34 ! \u001B[1m\u001B[33mwarning\u001B[0m\u001B[1m:\u001B[0m /home/runner/work/spiral/polyglot/target/spiral/spiral/packages/Rust/f78f0be367db578a25d6e46e809bb81347d0a90c59ea92a9859068d2542123d8/Cargo.toml: the cargo feature `edition2024` has been stabilized in the 1.85 release and is no longer necessary to be listed in the manifest\n",
       "00:00:00 \u001B[90mv\u001B[39m #35 !   See https://doc.rust-lang.org/nightly/cargo/reference/manifest.html#the-edition-field for more information about using this feature.\n",
       "00:00:00 \u001B[90mv\u001B[39m #36 ! \u001B[1m\u001B[33mwarning\u001B[0m\u001B[1m:\u001B[0m /home/runner/work/spiral/polyglot/target/spiral/spiral/packages/Rust/18b4581269b954ee94a3513b940981e1f9298b614e0ca2595be95e6e197695b5/Cargo.toml: the cargo feature `edition2024` has been stabilized in the 1.85 release and is no longer necessary to be listed in the manifest\n",
       "00:00:00 \u001B[90mv\u001B[39m #37 !   See https://doc.rust-lang.org/nightly/cargo/reference/manifest.html#the-edition-field for more information about using this feature.\n",
       "00:00:00 \u001B[90mv\u001B[39m #38 ! \u001B[1m\u001B[32m   Compiling\u001B[0m spiral_623d444f624ce7b855a68586acb40cec5467bd522d24405dc805231f11554b57 v0.0.1 (/home/runner/work/spiral/polyglot/target/spiral/spiral/packages/Rust/623d444f624ce7b855a68586acb40cec5467bd522d24405dc805231f11554b57)\n",
       "00:00:00 \u001B[90mv\u001B[39m #39 ! \u001B[1m\u001B[32m    Finished\u001B[0m `test` profile [unoptimized + debuginfo] target(s) in 0.44s\n",
       "00:00:00 \u001B[90mv\u001B[39m #40 ! \u001B[1m\u001B[32m     Running\u001B[0m unittests spiral.rs (/home/runner/work/spiral/polyglot/target/spiral/spiral/target/debug/deps/spiral_623d444f624ce7b855a68586acb40cec5467bd522d24405dc805231f11554b57-08c1b6f2be9dd489)\n",
       "00:00:00 \u001B[90mv\u001B[39m #41 >\n",
       "00:00:00 \u001B[90mv\u001B[39m #42 > running 1 test\n",
       "00:00:00 \u001B[90mv\u001B[39m #43 > test module_6ff740fe::Spiral::a ... ok\n",
       "00:00:00 \u001B[90mv\u001B[39m #44 >\n",
       "00:00:00 \u001B[90mv\u001B[39m #45 > successes:\n",
       "00:00:00 \u001B[90mv\u001B[39m #46 >\n",
       "00:00:00 \u001B[90mv\u001B[39m #47 > ---- module_6ff740fe::Spiral::a stdout ----\n",
       "00:00:00 \u001B[90mv\u001B[39m #48 > { name = __assert_eq; actual = a; expected = a }\n",
       "00:00:00 \u001B[90mv\u001B[39m #49 >\n",
       "00:00:00 \u001B[90mv\u001B[39m #50 >\n",
       "00:00:00 \u001B[90mv\u001B[39m #51 > successes:\n",
       "00:00:00 \u001B[90mv\u001B[39m #52 >     module_6ff740fe::Spiral::a\n",
       "00:00:00 \u001B[90mv\u001B[39m #53 >\n",
       "00:00:00 \u001B[90mv\u001B[39m #54 > test result: ok. 1 passed; 0 failed; 0 ignored; 0 measured; 0 filtered out; finished in 0.00s\n",
       "00:00:00 \u001B[90mv\u001B[39m #55 >\n",
       "00:00:00 \u001B[90mv\u001B[39m #56 runtime.execute_with_options / result / { exit_code = 0; std_trace_length = 9129 }\n",
       "{ name = __assert_eq; actual = 0; expected = 0 }\n",
       "{ name = __assert; actual = test result: ok. 1 passed; 0 failed; 0 ignored;; expected = \u001B[4;7m\u001B[1m\u001B[33mwarning\u001B[0m\u001B[1m:\u001B[0m /home/runner/work/spiral/polyglot/target/spiral/spiral/packages/Rust/17457a8af897b15ea99cccc0ae958f91e2b7f94f3bf03e929d5e58ec0a6cca9d/Cargo.toml: the cargo feature `edition2024` has been stabilized in the 1.85 release and is no longer necessary to be listed in the manifest\u001B[0m\n",
       "\u001B[4;7m  See https://doc.rust-lang.org/nightly/cargo/reference/manifest.html#the-edition-field for more information about using this feature.\u001B[0m\n",
       "\u001B[4;7m\u001B[1m\u001B[33mwarning\u001B[0m\u001B[1m:\u001B[0m /home/runner/work/spiral/polyglot/target/spiral/spiral/packages/Rust/efdfb449d9e5556d6e375415508d16fe489a9cad98af40abbfd402f66b72f2bf/Cargo.toml: the cargo feature `edition2024` has been stabilized in the 1.85 release and is no longer necessary to be listed in the manifest\u001B[0m\n",
       "\u001B[4;7m  See https://doc.rust-lang.org/nightly/cargo/reference/manifest.html#the-edition-field for more information about using this feature.\u001B[0m\n",
       "\u001B[4;7m\u001B[1m\u001B[33mwarning\u001B[0m\u001B[1m:\u001B[0m /home/runner/work/spiral/polyglot/target/spiral/spiral/packages/Rust/f31967efc6e7c49eabc3dc05c2b763775d0d617394f775a9f18702b5b009cfec/Cargo.toml: the cargo feature `edition2024` has been stabilized in the 1.85 release and is no longer necessary to be listed in the manifest\u001B[0m\n",
       "\u001B[4;7m  See https://doc.rust-lang.org/nightly/cargo/reference/manifest.html#the-edition-field for more information about using this feature.\u001B[0m\n",
       "\u001B[4;7m\u001B[1m\u001B[33mwarning\u001B[0m\u001B[1m:\u001B[0m /home/runner/work/spiral/polyglot/target/spiral/spiral/packages/Rust/0c017f5d19bf0cd97804ea5cb473f8874e5b8f35defa7bb945ded71e004a210b/Cargo.toml: the cargo feature `edition2024` has been stabilized in the 1.85 release and is no longer necessary to be listed in the manifest\u001B[0m\n",
       "\u001B[4;7m  See https://doc.rust-lang.org/nightly/cargo/reference/manifest.html#the-edition-field for more information about using this feature.\u001B[0m\n",
       "\u001B[4;7m\u001B[1m\u001B[33mwarning\u001B[0m\u001B[1m:\u001B[0m /home/runner/work/spiral/polyglot/target/spiral/spiral/packages/Rust/0c01aeadc744f484a58865b905971cc112089553f2e5dc741e14c2cb2b37138f/Cargo.toml: the cargo feature `edition2024` has been stabilized in the 1.85 release and is no longer necessary to be listed in the manifest\u001B[0m\n",
       "\u001B[4;7m  See https://doc.rust-lang.org/nightly/cargo/reference/manifest.html#the-edition-field for more information about using this feature.\u001B[0m\n",
       "\u001B[4;7m\u001B[1m\u001B[33mwarning\u001B[0m\u001B[1m:\u001B[0m /home/runner/work/spiral/polyglot/target/spiral/spiral/packages/Rust/043ab898c523a331d9392464233e9b9f4c57d73a6f426cac7f76277987c735b2/Cargo.toml: the cargo feature `edition2024` has been stabilized in the 1.85 release and is no longer necessary to be listed in the manifest\u001B[0m\n",
       "\u001B[4;7m  See https://doc.rust-lang.org/nightly/cargo/reference/manifest.html#the-edition-field for more information about using this feature.\u001B[0m\n",
       "\u001B[4;7m\u001B[1m\u001B[33mwarning\u001B[0m\u001B[1m:\u001B[0m /home/runner/work/spiral/polyglot/target/spiral/spiral/packages/Rust/399aa1f3f3139f81268d954670e64e9b347bbd6e901ea5469dbdbbb859fe2e29/Cargo.toml: the cargo feature `edition2024` has been stabilized in the 1.85 release and is no longer necessary to be listed in the manifest\u001B[0m\n",
       "\u001B[4;7m  See https://doc.rust-lang.org/nightly/cargo/reference/manifest.html#the-edition-field for more information about using this feature.\u001B[0m\n",
       "\u001B[4;7m\u001B[1m\u001B[33mwarning\u001B[0m\u001B[1m:\u001B[0m /home/runner/work/spiral/polyglot/target/spiral/spiral/packages/Rust/5d4f8726f328d01c5add0203fb717a549513bf726effc4be25292a6628118654/Cargo.toml: the cargo feature `edition2024` has been stabilized in the 1.85 release and is no longer necessary to be listed in the manifest\u001B[0m\n",
       "\u001B[4;7m  See https://doc.rust-lang.org/nightly/cargo/reference/manifest.html#the-edition-field for more information about using this feature.\u001B[0m\n",
       "\u001B[4;7m\u001B[1m\u001B[33mwarning\u001B[0m\u001B[1m:\u001B[0m /home/runner/work/spiral/polyglot/target/spiral/spiral/packages/Rust/623d444f624ce7b855a68586acb40cec5467bd522d24405dc805231f11554b57/Cargo.toml: the cargo feature `edition2024` has been stabilized in the 1.85 release and is no longer necessary to be listed in the manifest\u001B[0m\n",
       "\u001B[4;7m  See https://doc.rust-lang.org/nightly/cargo/reference/manifest.html#the-edition-field for more information about using this feature.\u001B[0m\n",
       "\u001B[4;7m\u001B[1m\u001B[33mwarning\u001B[0m\u001B[1m:\u001B[0m /home/runner/work/spiral/polyglot/target/spiral/spiral/packages/Rust/13b1d94d474ee5a4ae59bcbeec508b080f353895e27e98add9894fb293b6b901/Cargo.toml: the cargo feature `edition2024` has been stabilized in the 1.85 release and is no longer necessary to be listed in the manifest\u001B[0m\n",
       "\u001B[4;7m  See https://doc.rust-lang.org/nightly/cargo/reference/manifest.html#the-edition-field for more information about using this feature.\u001B[0m\n",
       "\u001B[4;7m\u001B[1m\u001B[33mwarning\u001B[0m\u001B[1m:\u001B[0m /home/runner/work/spiral/polyglot/target/spiral/spiral/packages/Rust/db8e8ff4ef9d95434d4f95b2165d279bc2190a904336e30dd7b63d0d1e48ce0a/Cargo.toml: the cargo feature `edition2024` has been stabilized in the 1.85 release and is no longer necessary to be listed in the manifest\u001B[0m\n",
       "\u001B[4;7m  See https://doc.rust-lang.org/nightly/cargo/reference/manifest.html#the-edition-field for more information about using this feature.\u001B[0m\n",
       "\u001B[4;7m\u001B[1m\u001B[33mwarning\u001B[0m\u001B[1m:\u001B[0m /home/runner/work/spiral/polyglot/target/spiral/spiral/packages/Rust/024ff610b957c11cf03271524124421f3a14f632b6db1984b7bbe8bfdab5045e/Cargo.toml: the cargo feature `edition2024` has been stabilized in the 1.85 release and is no longer necessary to be listed in the manifest\u001B[0m\n",
       "\u001B[4;7m  See https://doc.rust-lang.org/nightly/cargo/reference/manifest.html#the-edition-field for more information about using this feature.\u001B[0m\n",
       "\u001B[4;7m\u001B[1m\u001B[33mwarning\u001B[0m\u001B[1m:\u001B[0m /home/runner/work/spiral/polyglot/target/spiral/spiral/packages/Rust/fa38bd182e393b6f73a47c6917f28a364dffc1c80798fc2e08e858b70c3ac777/Cargo.toml: the cargo feature `edition2024` has been stabilized in the 1.85 release and is no longer necessary to be listed in the manifest\u001B[0m\n",
       "\u001B[4;7m  See https://doc.rust-lang.org/nightly/cargo/reference/manifest.html#the-edition-field for more information about using this feature.\u001B[0m\n",
       "\u001B[4;7m\u001B[1m\u001B[33mwarning\u001B[0m\u001B[1m:\u001B[0m /home/runner/work/spiral/polyglot/target/spiral/spiral/packages/Rust/25b0ae884e46cb54ee57af44a9a32b49c7a98e68ca3d271c8c55623e1783c0dc/Cargo.toml: the cargo feature `edition2024` has been stabilized in the 1.85 release and is no longer necessary to be listed in the manifest\u001B[0m\n",
       "\u001B[4;7m  See https://doc.rust-lang.org/nightly/cargo/reference/manifest.html#the-edition-field for more information about using this feature.\u001B[0m\n",
       "\u001B[4;7m\u001B[1m\u001B[33mwarning\u001B[0m\u001B[1m:\u001B[0m /home/runner/work/spiral/polyglot/target/spiral/spiral/packages/Rust/083dd30e84de10fb7bfc0ad14a46d92153bca95a3ddfdc2e9858ca791419768a/Cargo.toml: the cargo feature `edition2024` has been stabilized in the 1.85 release and is no longer necessary to be listed in the manifest\u001B[0m\n",
       "\u001B[4;7m  See https://doc.rust-lang.org/nightly/cargo/reference/manifest.html#the-edition-field for more information about using this feature.\u001B[0m\n",
       "\u001B[4;7m\u001B[1m\u001B[33mwarning\u001B[0m\u001B[1m:\u001B[0m /home/runner/work/spiral/polyglot/target/spiral/spiral/packages/Rust/a6d7dd7563bc8c479437c403ddb5ca6fd015ce71ce84390bdfd146554caee4dd/Cargo.toml: the cargo feature `edition2024` has been stabilized in the 1.85 release and is no longer necessary to be listed in the manifest\u001B[0m\n",
       "\u001B[4;7m  See https://doc.rust-lang.org/nightly/cargo/reference/manifest.html#the-edition-field for more information about using this feature.\u001B[0m\n",
       "\u001B[4;7m\u001B[1m\u001B[33mwarning\u001B[0m\u001B[1m:\u001B[0m /home/runner/work/spiral/polyglot/target/spiral/spiral/packages/Rust/f78f0be367db578a25d6e46e809bb81347d0a90c59ea92a9859068d2542123d8/Cargo.toml: the cargo feature `edition2024` has been stabilized in the 1.85 release and is no longer necessary to be listed in the manifest\u001B[0m\n",
       "\u001B[4;7m  See https://doc.rust-lang.org/nightly/cargo/reference/manifest.html#the-edition-field for more information about using this feature.\u001B[0m\n",
       "\u001B[4;7m\u001B[1m\u001B[33mwarning\u001B[0m\u001B[1m:\u001B[0m /home/runner/work/spiral/polyglot/target/spiral/spiral/packages/Rust/18b4581269b954ee94a3513b940981e1f9298b614e0ca2595be95e6e197695b5/Cargo.toml: the cargo feature `edition2024` has been stabilized in the 1.85 release and is no longer necessary to be listed in the manifest\u001B[0m\n",
       "\u001B[4;7m  See https://doc.rust-lang.org/nightly/cargo/reference/manifest.html#the-edition-field for more information about using this feature.\u001B[0m\n",
       "\u001B[4;7m\u001B[1m\u001B[32m   Compiling\u001B[0m spiral_623d444f624ce7b855a68586acb40cec5467bd522d24405dc805231f11554b57 v0.0.1 (/home/runner/work/spiral/polyglot/target/spiral/spiral/packages/Rust/623d444f624ce7b855a68586acb40cec5467bd522d24405dc805231f11554b57)\u001B[0m\n",
       "\u001B[4;7m\u001B[1m\u001B[32m    Finished\u001B[0m `test` profile [unoptimized + debuginfo] target(s) in 0.44s\u001B[0m\n",
       "\u001B[4;7m\u001B[1m\u001B[32m     Running\u001B[0m unittests spiral.rs (/home/runner/work/spiral/polyglot/target/spiral/spiral/target/debug/deps/spiral_623d444f624ce7b855a68586acb40cec5467bd522d24405dc805231f11554b57-08c1b6f2be9dd489)\u001B[0m\n",
       "\n",
       "running 1 test\n",
       "test module_6ff740fe::Spiral::a ... ok\n",
       "\n",
       "successes:\n",
       "\n",
       "---- module_6ff740fe::Spiral::a stdout ----\n",
       "{ name = __assert_eq; actual = a; expected = a }\n",
       "\n",
       "\n",
       "successes:\n",
       "    module_6ff740fe::Spiral::a\n",
       "\n",
       "test result: ok. 1 passed; 0 failed; 0 ignored; 0 measured; 0 filtered out; finished in 0.00s\n",
       " }\n"
      ]
     },
     "metadata": {},
     "output_type": "display_data"
    }
   ],
   "source": [
    "//// test\n",
    "///! rust -d encoding_rs encoding_rs_io\n",
    "\n",
    "fun () =>\n",
    "    run_tests {\n",
    "        a = fun () => \"a\" |> _assert_eq \"a\"\n",
    "    }\n",
    "|> run"
   ]
  },
  {
   "cell_type": "markdown",
   "metadata": {},
   "source": [
    "### run_tests_log"
   ]
  },
  {
   "cell_type": "code",
   "execution_count": null,
   "metadata": {
    "dotnet_interactive": {
     "language": "spiral"
    },
    "polyglot_notebook": {
     "kernelName": "spiral"
    }
   },
   "outputs": [],
   "source": [
    "inl run_tests_log tests : () =\n",
    "    real\n",
    "        inl tests =\n",
    "            real_core.record_map\n",
    "                fun { key value } =>\n",
    "                    (fun _ => value false) : () -> ()\n",
    "                tests\n",
    "        run_tests `(`tests) tests"
   ]
  },
  {
   "cell_type": "code",
   "execution_count": null,
   "metadata": {
    "dotnet_interactive": {
     "language": "spiral"
    },
    "polyglot_notebook": {
     "kernelName": "spiral"
    }
   },
   "outputs": [
    {
     "data": {
      "text/plain": [
       "00:00:00 \u001B[94md\u001B[39m #1 runtime.execute_with_options / { file_name = cargo; arguments = [\"test\", \"--\", \"--show-output\"]; options = { command = cargo test -- --show-output; cancellation_token = None; environment_variables = Array(MutCell([(\"TEST\", \"1\")])); on_line = None; stdin = None; trace = true; working_directory = Some(\n",
       "    \"/home/runner/work/spiral/polyglot/target/spiral/spiral/packages/Rust/4253499424af04ecbb63e2094b1d20c5e4149cc51019fa50cf0f32667635b67d\",\n",
       ") } }\n",
       "00:00:00 \u001B[90mv\u001B[39m #2 ! \u001B[1m\u001B[33mwarning\u001B[0m\u001B[1m:\u001B[0m /home/runner/work/spiral/polyglot/target/spiral/spiral/packages/Rust/f31967efc6e7c49eabc3dc05c2b763775d0d617394f775a9f18702b5b009cfec/Cargo.toml: the cargo feature `edition2024` has been stabilized in the 1.85 release and is no longer necessary to be listed in the manifest\n",
       "00:00:00 \u001B[90mv\u001B[39m #3 !   See https://doc.rust-lang.org/nightly/cargo/reference/manifest.html#the-edition-field for more information about using this feature.\n",
       "00:00:00 \u001B[90mv\u001B[39m #4 ! \u001B[1m\u001B[33mwarning\u001B[0m\u001B[1m:\u001B[0m /home/runner/work/spiral/polyglot/target/spiral/spiral/packages/Rust/399aa1f3f3139f81268d954670e64e9b347bbd6e901ea5469dbdbbb859fe2e29/Cargo.toml: the cargo feature `edition2024` has been stabilized in the 1.85 release and is no longer necessary to be listed in the manifest\n",
       "00:00:00 \u001B[90mv\u001B[39m #5 !   See https://doc.rust-lang.org/nightly/cargo/reference/manifest.html#the-edition-field for more information about using this feature.\n",
       "00:00:00 \u001B[90mv\u001B[39m #6 ! \u001B[1m\u001B[33mwarning\u001B[0m\u001B[1m:\u001B[0m /home/runner/work/spiral/polyglot/target/spiral/spiral/packages/Rust/efdfb449d9e5556d6e375415508d16fe489a9cad98af40abbfd402f66b72f2bf/Cargo.toml: the cargo feature `edition2024` has been stabilized in the 1.85 release and is no longer necessary to be listed in the manifest\n",
       "00:00:00 \u001B[90mv\u001B[39m #7 !   See https://doc.rust-lang.org/nightly/cargo/reference/manifest.html#the-edition-field for more information about using this feature.\n",
       "00:00:00 \u001B[90mv\u001B[39m #8 ! \u001B[1m\u001B[33mwarning\u001B[0m\u001B[1m:\u001B[0m /home/runner/work/spiral/polyglot/target/spiral/spiral/packages/Rust/4253499424af04ecbb63e2094b1d20c5e4149cc51019fa50cf0f32667635b67d/Cargo.toml: the cargo feature `edition2024` has been stabilized in the 1.85 release and is no longer necessary to be listed in the manifest\n",
       "00:00:00 \u001B[90mv\u001B[39m #9 !   See https://doc.rust-lang.org/nightly/cargo/reference/manifest.html#the-edition-field for more information about using this feature.\n",
       "00:00:00 \u001B[90mv\u001B[39m #10 ! \u001B[1m\u001B[33mwarning\u001B[0m\u001B[1m:\u001B[0m /home/runner/work/spiral/polyglot/target/spiral/spiral/packages/Rust/024ff610b957c11cf03271524124421f3a14f632b6db1984b7bbe8bfdab5045e/Cargo.toml: the cargo feature `edition2024` has been stabilized in the 1.85 release and is no longer necessary to be listed in the manifest\n",
       "00:00:00 \u001B[90mv\u001B[39m #11 !   See https://doc.rust-lang.org/nightly/cargo/reference/manifest.html#the-edition-field for more information about using this feature.\n",
       "00:00:00 \u001B[90mv\u001B[39m #12 ! \u001B[1m\u001B[33mwarning\u001B[0m\u001B[1m:\u001B[0m /home/runner/work/spiral/polyglot/target/spiral/spiral/packages/Rust/0c017f5d19bf0cd97804ea5cb473f8874e5b8f35defa7bb945ded71e004a210b/Cargo.toml: the cargo feature `edition2024` has been stabilized in the 1.85 release and is no longer necessary to be listed in the manifest\n",
       "00:00:00 \u001B[90mv\u001B[39m #13 !   See https://doc.rust-lang.org/nightly/cargo/reference/manifest.html#the-edition-field for more information about using this feature.\n",
       "00:00:00 \u001B[90mv\u001B[39m #14 ! \u001B[1m\u001B[33mwarning\u001B[0m\u001B[1m:\u001B[0m /home/runner/work/spiral/polyglot/target/spiral/spiral/packages/Rust/5d4f8726f328d01c5add0203fb717a549513bf726effc4be25292a6628118654/Cargo.toml: the cargo feature `edition2024` has been stabilized in the 1.85 release and is no longer necessary to be listed in the manifest\n",
       "00:00:00 \u001B[90mv\u001B[39m #15 !   See https://doc.rust-lang.org/nightly/cargo/reference/manifest.html#the-edition-field for more information about using this feature.\n",
       "00:00:00 \u001B[90mv\u001B[39m #16 ! \u001B[1m\u001B[33mwarning\u001B[0m\u001B[1m:\u001B[0m /home/runner/work/spiral/polyglot/target/spiral/spiral/packages/Rust/13b1d94d474ee5a4ae59bcbeec508b080f353895e27e98add9894fb293b6b901/Cargo.toml: the cargo feature `edition2024` has been stabilized in the 1.85 release and is no longer necessary to be listed in the manifest\n",
       "00:00:00 \u001B[90mv\u001B[39m #17 !   See https://doc.rust-lang.org/nightly/cargo/reference/manifest.html#the-edition-field for more information about using this feature.\n",
       "00:00:00 \u001B[90mv\u001B[39m #18 ! \u001B[1m\u001B[33mwarning\u001B[0m\u001B[1m:\u001B[0m /home/runner/work/spiral/polyglot/target/spiral/spiral/packages/Rust/fa38bd182e393b6f73a47c6917f28a364dffc1c80798fc2e08e858b70c3ac777/Cargo.toml: the cargo feature `edition2024` has been stabilized in the 1.85 release and is no longer necessary to be listed in the manifest\n",
       "00:00:00 \u001B[90mv\u001B[39m #19 !   See https://doc.rust-lang.org/nightly/cargo/reference/manifest.html#the-edition-field for more information about using this feature.\n",
       "00:00:00 \u001B[90mv\u001B[39m #20 ! \u001B[1m\u001B[33mwarning\u001B[0m\u001B[1m:\u001B[0m /home/runner/work/spiral/polyglot/target/spiral/spiral/packages/Rust/17457a8af897b15ea99cccc0ae958f91e2b7f94f3bf03e929d5e58ec0a6cca9d/Cargo.toml: the cargo feature `edition2024` has been stabilized in the 1.85 release and is no longer necessary to be listed in the manifest\n",
       "00:00:00 \u001B[90mv\u001B[39m #21 !   See https://doc.rust-lang.org/nightly/cargo/reference/manifest.html#the-edition-field for more information about using this feature.\n",
       "00:00:00 \u001B[90mv\u001B[39m #22 ! \u001B[1m\u001B[33mwarning\u001B[0m\u001B[1m:\u001B[0m /home/runner/work/spiral/polyglot/target/spiral/spiral/packages/Rust/a6d7dd7563bc8c479437c403ddb5ca6fd015ce71ce84390bdfd146554caee4dd/Cargo.toml: the cargo feature `edition2024` has been stabilized in the 1.85 release and is no longer necessary to be listed in the manifest\n",
       "00:00:00 \u001B[90mv\u001B[39m #23 !   See https://doc.rust-lang.org/nightly/cargo/reference/manifest.html#the-edition-field for more information about using this feature.\n",
       "00:00:00 \u001B[90mv\u001B[39m #24 ! \u001B[1m\u001B[33mwarning\u001B[0m\u001B[1m:\u001B[0m /home/runner/work/spiral/polyglot/target/spiral/spiral/packages/Rust/083dd30e84de10fb7bfc0ad14a46d92153bca95a3ddfdc2e9858ca791419768a/Cargo.toml: the cargo feature `edition2024` has been stabilized in the 1.85 release and is no longer necessary to be listed in the manifest\n",
       "00:00:00 \u001B[90mv\u001B[39m #25 !   See https://doc.rust-lang.org/nightly/cargo/reference/manifest.html#the-edition-field for more information about using this feature.\n",
       "00:00:00 \u001B[90mv\u001B[39m #26 ! \u001B[1m\u001B[33mwarning\u001B[0m\u001B[1m:\u001B[0m /home/runner/work/spiral/polyglot/target/spiral/spiral/packages/Rust/0c01aeadc744f484a58865b905971cc112089553f2e5dc741e14c2cb2b37138f/Cargo.toml: the cargo feature `edition2024` has been stabilized in the 1.85 release and is no longer necessary to be listed in the manifest\n",
       "00:00:00 \u001B[90mv\u001B[39m #27 !   See https://doc.rust-lang.org/nightly/cargo/reference/manifest.html#the-edition-field for more information about using this feature.\n",
       "00:00:00 \u001B[90mv\u001B[39m #28 ! \u001B[1m\u001B[33mwarning\u001B[0m\u001B[1m:\u001B[0m /home/runner/work/spiral/polyglot/target/spiral/spiral/packages/Rust/25b0ae884e46cb54ee57af44a9a32b49c7a98e68ca3d271c8c55623e1783c0dc/Cargo.toml: the cargo feature `edition2024` has been stabilized in the 1.85 release and is no longer necessary to be listed in the manifest\n",
       "00:00:00 \u001B[90mv\u001B[39m #29 !   See https://doc.rust-lang.org/nightly/cargo/reference/manifest.html#the-edition-field for more information about using this feature.\n",
       "00:00:00 \u001B[90mv\u001B[39m #30 ! \u001B[1m\u001B[33mwarning\u001B[0m\u001B[1m:\u001B[0m /home/runner/work/spiral/polyglot/target/spiral/spiral/packages/Rust/623d444f624ce7b855a68586acb40cec5467bd522d24405dc805231f11554b57/Cargo.toml: the cargo feature `edition2024` has been stabilized in the 1.85 release and is no longer necessary to be listed in the manifest\n",
       "00:00:00 \u001B[90mv\u001B[39m #31 !   See https://doc.rust-lang.org/nightly/cargo/reference/manifest.html#the-edition-field for more information about using this feature.\n",
       "00:00:00 \u001B[90mv\u001B[39m #32 ! \u001B[1m\u001B[33mwarning\u001B[0m\u001B[1m:\u001B[0m /home/runner/work/spiral/polyglot/target/spiral/spiral/packages/Rust/f78f0be367db578a25d6e46e809bb81347d0a90c59ea92a9859068d2542123d8/Cargo.toml: the cargo feature `edition2024` has been stabilized in the 1.85 release and is no longer necessary to be listed in the manifest\n",
       "00:00:00 \u001B[90mv\u001B[39m #33 !   See https://doc.rust-lang.org/nightly/cargo/reference/manifest.html#the-edition-field for more information about using this feature.\n",
       "00:00:00 \u001B[90mv\u001B[39m #34 ! \u001B[1m\u001B[33mwarning\u001B[0m\u001B[1m:\u001B[0m /home/runner/work/spiral/polyglot/target/spiral/spiral/packages/Rust/db8e8ff4ef9d95434d4f95b2165d279bc2190a904336e30dd7b63d0d1e48ce0a/Cargo.toml: the cargo feature `edition2024` has been stabilized in the 1.85 release and is no longer necessary to be listed in the manifest\n",
       "00:00:00 \u001B[90mv\u001B[39m #35 !   See https://doc.rust-lang.org/nightly/cargo/reference/manifest.html#the-edition-field for more information about using this feature.\n",
       "00:00:00 \u001B[90mv\u001B[39m #36 ! \u001B[1m\u001B[33mwarning\u001B[0m\u001B[1m:\u001B[0m /home/runner/work/spiral/polyglot/target/spiral/spiral/packages/Rust/043ab898c523a331d9392464233e9b9f4c57d73a6f426cac7f76277987c735b2/Cargo.toml: the cargo feature `edition2024` has been stabilized in the 1.85 release and is no longer necessary to be listed in the manifest\n",
       "00:00:00 \u001B[90mv\u001B[39m #37 !   See https://doc.rust-lang.org/nightly/cargo/reference/manifest.html#the-edition-field for more information about using this feature.\n",
       "00:00:00 \u001B[90mv\u001B[39m #38 ! \u001B[1m\u001B[33mwarning\u001B[0m\u001B[1m:\u001B[0m /home/runner/work/spiral/polyglot/target/spiral/spiral/packages/Rust/18b4581269b954ee94a3513b940981e1f9298b614e0ca2595be95e6e197695b5/Cargo.toml: the cargo feature `edition2024` has been stabilized in the 1.85 release and is no longer necessary to be listed in the manifest\n",
       "00:00:00 \u001B[90mv\u001B[39m #39 !   See https://doc.rust-lang.org/nightly/cargo/reference/manifest.html#the-edition-field for more information about using this feature.\n",
       "00:00:00 \u001B[90mv\u001B[39m #40 ! \u001B[1m\u001B[32m   Compiling\u001B[0m spiral_4253499424af04ecbb63e2094b1d20c5e4149cc51019fa50cf0f32667635b67d v0.0.1 (/home/runner/work/spiral/polyglot/target/spiral/spiral/packages/Rust/4253499424af04ecbb63e2094b1d20c5e4149cc51019fa50cf0f32667635b67d)\n",
       "00:00:00 \u001B[90mv\u001B[39m #41 ! \u001B[1m\u001B[32m    Finished\u001B[0m `test` profile [unoptimized + debuginfo] target(s) in 0.44s\n",
       "00:00:00 \u001B[90mv\u001B[39m #42 ! \u001B[1m\u001B[32m     Running\u001B[0m unittests spiral.rs (/home/runner/work/spiral/polyglot/target/spiral/spiral/target/debug/deps/spiral_4253499424af04ecbb63e2094b1d20c5e4149cc51019fa50cf0f32667635b67d-9093e7038bbfaddc)\n",
       "00:00:00 \u001B[90mv\u001B[39m #43 >\n",
       "00:00:00 \u001B[90mv\u001B[39m #44 > running 1 test\n",
       "00:00:00 \u001B[90mv\u001B[39m #45 > test module_6ff740fe::Spiral::a ... ok\n",
       "00:00:00 \u001B[90mv\u001B[39m #46 >\n",
       "00:00:00 \u001B[90mv\u001B[39m #47 > successes:\n",
       "00:00:00 \u001B[90mv\u001B[39m #48 >\n",
       "00:00:00 \u001B[90mv\u001B[39m #49 > ---- module_6ff740fe::Spiral::a stdout ----\n",
       "00:00:00 \u001B[90mv\u001B[39m #50 > { name = __assert_eq; actual = false; expected = false }\n",
       "00:00:00 \u001B[90mv\u001B[39m #51 >\n",
       "00:00:00 \u001B[90mv\u001B[39m #52 >\n",
       "00:00:00 \u001B[90mv\u001B[39m #53 > successes:\n",
       "00:00:00 \u001B[90mv\u001B[39m #54 >     module_6ff740fe::Spiral::a\n",
       "00:00:00 \u001B[90mv\u001B[39m #55 >\n",
       "00:00:00 \u001B[90mv\u001B[39m #56 > test result: ok. 1 passed; 0 failed; 0 ignored; 0 measured; 0 filtered out; finished in 0.00s\n",
       "00:00:00 \u001B[90mv\u001B[39m #57 >\n",
       "00:00:00 \u001B[90mv\u001B[39m #58 runtime.execute_with_options / result / { exit_code = 0; std_trace_length = 9596 }\n",
       "{ name = __assert_eq; actual = 0; expected = 0 }\n",
       "{ name = __assert; actual = test result: ok. 1 passed; 0 failed; 0 ignored;; expected = \u001B[4;7m\u001B[1m\u001B[33mwarning\u001B[0m\u001B[1m:\u001B[0m /home/runner/work/spiral/polyglot/target/spiral/spiral/packages/Rust/f31967efc6e7c49eabc3dc05c2b763775d0d617394f775a9f18702b5b009cfec/Cargo.toml: the cargo feature `edition2024` has been stabilized in the 1.85 release and is no longer necessary to be listed in the manifest\u001B[0m\n",
       "\u001B[4;7m  See https://doc.rust-lang.org/nightly/cargo/reference/manifest.html#the-edition-field for more information about using this feature.\u001B[0m\n",
       "\u001B[4;7m\u001B[1m\u001B[33mwarning\u001B[0m\u001B[1m:\u001B[0m /home/runner/work/spiral/polyglot/target/spiral/spiral/packages/Rust/399aa1f3f3139f81268d954670e64e9b347bbd6e901ea5469dbdbbb859fe2e29/Cargo.toml: the cargo feature `edition2024` has been stabilized in the 1.85 release and is no longer necessary to be listed in the manifest\u001B[0m\n",
       "\u001B[4;7m  See https://doc.rust-lang.org/nightly/cargo/reference/manifest.html#the-edition-field for more information about using this feature.\u001B[0m\n",
       "\u001B[4;7m\u001B[1m\u001B[33mwarning\u001B[0m\u001B[1m:\u001B[0m /home/runner/work/spiral/polyglot/target/spiral/spiral/packages/Rust/efdfb449d9e5556d6e375415508d16fe489a9cad98af40abbfd402f66b72f2bf/Cargo.toml: the cargo feature `edition2024` has been stabilized in the 1.85 release and is no longer necessary to be listed in the manifest\u001B[0m\n",
       "\u001B[4;7m  See https://doc.rust-lang.org/nightly/cargo/reference/manifest.html#the-edition-field for more information about using this feature.\u001B[0m\n",
       "\u001B[4;7m\u001B[1m\u001B[33mwarning\u001B[0m\u001B[1m:\u001B[0m /home/runner/work/spiral/polyglot/target/spiral/spiral/packages/Rust/4253499424af04ecbb63e2094b1d20c5e4149cc51019fa50cf0f32667635b67d/Cargo.toml: the cargo feature `edition2024` has been stabilized in the 1.85 release and is no longer necessary to be listed in the manifest\u001B[0m\n",
       "\u001B[4;7m  See https://doc.rust-lang.org/nightly/cargo/reference/manifest.html#the-edition-field for more information about using this feature.\u001B[0m\n",
       "\u001B[4;7m\u001B[1m\u001B[33mwarning\u001B[0m\u001B[1m:\u001B[0m /home/runner/work/spiral/polyglot/target/spiral/spiral/packages/Rust/024ff610b957c11cf03271524124421f3a14f632b6db1984b7bbe8bfdab5045e/Cargo.toml: the cargo feature `edition2024` has been stabilized in the 1.85 release and is no longer necessary to be listed in the manifest\u001B[0m\n",
       "\u001B[4;7m  See https://doc.rust-lang.org/nightly/cargo/reference/manifest.html#the-edition-field for more information about using this feature.\u001B[0m\n",
       "\u001B[4;7m\u001B[1m\u001B[33mwarning\u001B[0m\u001B[1m:\u001B[0m /home/runner/work/spiral/polyglot/target/spiral/spiral/packages/Rust/0c017f5d19bf0cd97804ea5cb473f8874e5b8f35defa7bb945ded71e004a210b/Cargo.toml: the cargo feature `edition2024` has been stabilized in the 1.85 release and is no longer necessary to be listed in the manifest\u001B[0m\n",
       "\u001B[4;7m  See https://doc.rust-lang.org/nightly/cargo/reference/manifest.html#the-edition-field for more information about using this feature.\u001B[0m\n",
       "\u001B[4;7m\u001B[1m\u001B[33mwarning\u001B[0m\u001B[1m:\u001B[0m /home/runner/work/spiral/polyglot/target/spiral/spiral/packages/Rust/5d4f8726f328d01c5add0203fb717a549513bf726effc4be25292a6628118654/Cargo.toml: the cargo feature `edition2024` has been stabilized in the 1.85 release and is no longer necessary to be listed in the manifest\u001B[0m\n",
       "\u001B[4;7m  See https://doc.rust-lang.org/nightly/cargo/reference/manifest.html#the-edition-field for more information about using this feature.\u001B[0m\n",
       "\u001B[4;7m\u001B[1m\u001B[33mwarning\u001B[0m\u001B[1m:\u001B[0m /home/runner/work/spiral/polyglot/target/spiral/spiral/packages/Rust/13b1d94d474ee5a4ae59bcbeec508b080f353895e27e98add9894fb293b6b901/Cargo.toml: the cargo feature `edition2024` has been stabilized in the 1.85 release and is no longer necessary to be listed in the manifest\u001B[0m\n",
       "\u001B[4;7m  See https://doc.rust-lang.org/nightly/cargo/reference/manifest.html#the-edition-field for more information about using this feature.\u001B[0m\n",
       "\u001B[4;7m\u001B[1m\u001B[33mwarning\u001B[0m\u001B[1m:\u001B[0m /home/runner/work/spiral/polyglot/target/spiral/spiral/packages/Rust/fa38bd182e393b6f73a47c6917f28a364dffc1c80798fc2e08e858b70c3ac777/Cargo.toml: the cargo feature `edition2024` has been stabilized in the 1.85 release and is no longer necessary to be listed in the manifest\u001B[0m\n",
       "\u001B[4;7m  See https://doc.rust-lang.org/nightly/cargo/reference/manifest.html#the-edition-field for more information about using this feature.\u001B[0m\n",
       "\u001B[4;7m\u001B[1m\u001B[33mwarning\u001B[0m\u001B[1m:\u001B[0m /home/runner/work/spiral/polyglot/target/spiral/spiral/packages/Rust/17457a8af897b15ea99cccc0ae958f91e2b7f94f3bf03e929d5e58ec0a6cca9d/Cargo.toml: the cargo feature `edition2024` has been stabilized in the 1.85 release and is no longer necessary to be listed in the manifest\u001B[0m\n",
       "\u001B[4;7m  See https://doc.rust-lang.org/nightly/cargo/reference/manifest.html#the-edition-field for more information about using this feature.\u001B[0m\n",
       "\u001B[4;7m\u001B[1m\u001B[33mwarning\u001B[0m\u001B[1m:\u001B[0m /home/runner/work/spiral/polyglot/target/spiral/spiral/packages/Rust/a6d7dd7563bc8c479437c403ddb5ca6fd015ce71ce84390bdfd146554caee4dd/Cargo.toml: the cargo feature `edition2024` has been stabilized in the 1.85 release and is no longer necessary to be listed in the manifest\u001B[0m\n",
       "\u001B[4;7m  See https://doc.rust-lang.org/nightly/cargo/reference/manifest.html#the-edition-field for more information about using this feature.\u001B[0m\n",
       "\u001B[4;7m\u001B[1m\u001B[33mwarning\u001B[0m\u001B[1m:\u001B[0m /home/runner/work/spiral/polyglot/target/spiral/spiral/packages/Rust/083dd30e84de10fb7bfc0ad14a46d92153bca95a3ddfdc2e9858ca791419768a/Cargo.toml: the cargo feature `edition2024` has been stabilized in the 1.85 release and is no longer necessary to be listed in the manifest\u001B[0m\n",
       "\u001B[4;7m  See https://doc.rust-lang.org/nightly/cargo/reference/manifest.html#the-edition-field for more information about using this feature.\u001B[0m\n",
       "\u001B[4;7m\u001B[1m\u001B[33mwarning\u001B[0m\u001B[1m:\u001B[0m /home/runner/work/spiral/polyglot/target/spiral/spiral/packages/Rust/0c01aeadc744f484a58865b905971cc112089553f2e5dc741e14c2cb2b37138f/Cargo.toml: the cargo feature `edition2024` has been stabilized in the 1.85 release and is no longer necessary to be listed in the manifest\u001B[0m\n",
       "\u001B[4;7m  See https://doc.rust-lang.org/nightly/cargo/reference/manifest.html#the-edition-field for more information about using this feature.\u001B[0m\n",
       "\u001B[4;7m\u001B[1m\u001B[33mwarning\u001B[0m\u001B[1m:\u001B[0m /home/runner/work/spiral/polyglot/target/spiral/spiral/packages/Rust/25b0ae884e46cb54ee57af44a9a32b49c7a98e68ca3d271c8c55623e1783c0dc/Cargo.toml: the cargo feature `edition2024` has been stabilized in the 1.85 release and is no longer necessary to be listed in the manifest\u001B[0m\n",
       "\u001B[4;7m  See https://doc.rust-lang.org/nightly/cargo/reference/manifest.html#the-edition-field for more information about using this feature.\u001B[0m\n",
       "\u001B[4;7m\u001B[1m\u001B[33mwarning\u001B[0m\u001B[1m:\u001B[0m /home/runner/work/spiral/polyglot/target/spiral/spiral/packages/Rust/623d444f624ce7b855a68586acb40cec5467bd522d24405dc805231f11554b57/Cargo.toml: the cargo feature `edition2024` has been stabilized in the 1.85 release and is no longer necessary to be listed in the manifest\u001B[0m\n",
       "\u001B[4;7m  See https://doc.rust-lang.org/nightly/cargo/reference/manifest.html#the-edition-field for more information about using this feature.\u001B[0m\n",
       "\u001B[4;7m\u001B[1m\u001B[33mwarning\u001B[0m\u001B[1m:\u001B[0m /home/runner/work/spiral/polyglot/target/spiral/spiral/packages/Rust/f78f0be367db578a25d6e46e809bb81347d0a90c59ea92a9859068d2542123d8/Cargo.toml: the cargo feature `edition2024` has been stabilized in the 1.85 release and is no longer necessary to be listed in the manifest\u001B[0m\n",
       "\u001B[4;7m  See https://doc.rust-lang.org/nightly/cargo/reference/manifest.html#the-edition-field for more information about using this feature.\u001B[0m\n",
       "\u001B[4;7m\u001B[1m\u001B[33mwarning\u001B[0m\u001B[1m:\u001B[0m /home/runner/work/spiral/polyglot/target/spiral/spiral/packages/Rust/db8e8ff4ef9d95434d4f95b2165d279bc2190a904336e30dd7b63d0d1e48ce0a/Cargo.toml: the cargo feature `edition2024` has been stabilized in the 1.85 release and is no longer necessary to be listed in the manifest\u001B[0m\n",
       "\u001B[4;7m  See https://doc.rust-lang.org/nightly/cargo/reference/manifest.html#the-edition-field for more information about using this feature.\u001B[0m\n",
       "\u001B[4;7m\u001B[1m\u001B[33mwarning\u001B[0m\u001B[1m:\u001B[0m /home/runner/work/spiral/polyglot/target/spiral/spiral/packages/Rust/043ab898c523a331d9392464233e9b9f4c57d73a6f426cac7f76277987c735b2/Cargo.toml: the cargo feature `edition2024` has been stabilized in the 1.85 release and is no longer necessary to be listed in the manifest\u001B[0m\n",
       "\u001B[4;7m  See https://doc.rust-lang.org/nightly/cargo/reference/manifest.html#the-edition-field for more information about using this feature.\u001B[0m\n",
       "\u001B[4;7m\u001B[1m\u001B[33mwarning\u001B[0m\u001B[1m:\u001B[0m /home/runner/work/spiral/polyglot/target/spiral/spiral/packages/Rust/18b4581269b954ee94a3513b940981e1f9298b614e0ca2595be95e6e197695b5/Cargo.toml: the cargo feature `edition2024` has been stabilized in the 1.85 release and is no longer necessary to be listed in the manifest\u001B[0m\n",
       "\u001B[4;7m  See https://doc.rust-lang.org/nightly/cargo/reference/manifest.html#the-edition-field for more information about using this feature.\u001B[0m\n",
       "\u001B[4;7m\u001B[1m\u001B[32m   Compiling\u001B[0m spiral_4253499424af04ecbb63e2094b1d20c5e4149cc51019fa50cf0f32667635b67d v0.0.1 (/home/runner/work/spiral/polyglot/target/spiral/spiral/packages/Rust/4253499424af04ecbb63e2094b1d20c5e4149cc51019fa50cf0f32667635b67d)\u001B[0m\n",
       "\u001B[4;7m\u001B[1m\u001B[32m    Finished\u001B[0m `test` profile [unoptimized + debuginfo] target(s) in 0.44s\u001B[0m\n",
       "\u001B[4;7m\u001B[1m\u001B[32m     Running\u001B[0m unittests spiral.rs (/home/runner/work/spiral/polyglot/target/spiral/spiral/target/debug/deps/spiral_4253499424af04ecbb63e2094b1d20c5e4149cc51019fa50cf0f32667635b67d-9093e7038bbfaddc)\u001B[0m\n",
       "\n",
       "running 1 test\n",
       "test module_6ff740fe::Spiral::a ... ok\n",
       "\n",
       "successes:\n",
       "\n",
       "---- module_6ff740fe::Spiral::a stdout ----\n",
       "{ name = __assert_eq; actual = false; expected = false }\n",
       "\n",
       "\n",
       "successes:\n",
       "    module_6ff740fe::Spiral::a\n",
       "\n",
       "test result: ok. 1 passed; 0 failed; 0 ignored; 0 measured; 0 filtered out; finished in 0.00s\n",
       " }\n"
      ]
     },
     "metadata": {},
     "output_type": "display_data"
    }
   ],
   "source": [
    "//// test\n",
    "///! rust -d encoding_rs encoding_rs_io\n",
    "\n",
    "fun () =>\n",
    "    run_tests_log {\n",
    "        a = _assert_eq false\n",
    "    }\n",
    "|> run"
   ]
  }
 ],
 "metadata": {},
 "nbformat": 4,
 "nbformat_minor": 5
}