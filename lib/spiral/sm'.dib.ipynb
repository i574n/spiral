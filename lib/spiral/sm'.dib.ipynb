{
 "cells": [
  {
   "cell_type": "markdown",
   "metadata": {},
   "source": [
    "# sm'"
   ]
  },
  {
   "cell_type": "code",
   "execution_count": null,
   "metadata": {
    "dotnet_interactive": {
     "language": "spiral"
    },
    "polyglot_notebook": {
     "kernelName": "spiral"
    }
   },
   "outputs": [],
   "source": [
    "//// test\n",
    "\n",
    "open testing"
   ]
  },
  {
   "cell_type": "code",
   "execution_count": null,
   "metadata": {
    "dotnet_interactive": {
     "language": "spiral"
    },
    "polyglot_notebook": {
     "kernelName": "spiral"
    }
   },
   "outputs": [],
   "source": [
    "open rust\n",
    "open rust_operators\n",
    "open sm'_real"
   ]
  },
  {
   "cell_type": "markdown",
   "metadata": {},
   "source": [
    "## rust"
   ]
  },
  {
   "cell_type": "markdown",
   "metadata": {},
   "source": [
    "### std_string"
   ]
  },
  {
   "cell_type": "code",
   "execution_count": null,
   "metadata": {
    "dotnet_interactive": {
     "language": "spiral"
    },
    "polyglot_notebook": {
     "kernelName": "spiral"
    }
   },
   "outputs": [],
   "source": [
    "//// real\n",
    "\n",
    "nominal std_string =\n",
    "    `(\n",
    "        backend_switch `(()) `({}) {\n",
    "            Fsharp =\n",
    "                (fun () =>\n",
    "                    global \"#if FABLE_COMPILER\\n[<Fable.Core.Erase; Fable.Core.Emit(\\\"std::string::String\\\")>]\\ntype std_string_String = class end\\n\\#else\\ntype std_string_String = string\\n#endif\\n\"\n",
    "                ) : () -> ()\n",
    "        }\n",
    "        $'' : $'std_string_String'\n",
    "    )"
   ]
  },
  {
   "cell_type": "code",
   "execution_count": null,
   "metadata": {
    "dotnet_interactive": {
     "language": "spiral"
    },
    "polyglot_notebook": {
     "kernelName": "spiral"
    }
   },
   "outputs": [],
   "source": [
    "type std_string = sm'_real.std_string"
   ]
  },
  {
   "cell_type": "markdown",
   "metadata": {},
   "source": [
    "### to_string'"
   ]
  },
  {
   "cell_type": "code",
   "execution_count": null,
   "metadata": {
    "dotnet_interactive": {
     "language": "spiral"
    },
    "polyglot_notebook": {
     "kernelName": "spiral"
    }
   },
   "outputs": [],
   "source": [
    "inl to_string' forall t. (x : t) : std_string =\n",
    "    !\\($'$\"!x.to_string()\"')"
   ]
  },
  {
   "cell_type": "markdown",
   "metadata": {},
   "source": [
    "### from_std_string"
   ]
  },
  {
   "cell_type": "code",
   "execution_count": null,
   "metadata": {
    "dotnet_interactive": {
     "language": "spiral"
    },
    "polyglot_notebook": {
     "kernelName": "spiral"
    }
   },
   "outputs": [],
   "source": [
    "//// real\n",
    "\n",
    "inl from_std_string (str : std_string) : string =\n",
    "    open rust\n",
    "    rust.emit_expr `std_string `string str ($'\"fable_library_rust::String_::fromString($0)\"' : string)"
   ]
  },
  {
   "cell_type": "code",
   "execution_count": null,
   "metadata": {
    "dotnet_interactive": {
     "language": "spiral"
    },
    "polyglot_notebook": {
     "kernelName": "spiral"
    }
   },
   "outputs": [],
   "source": [
    "inl from_std_string (str : std_string) : string =\n",
    "    real sm'_real.from_std_string str"
   ]
  },
  {
   "cell_type": "markdown",
   "metadata": {},
   "source": [
    "## sm'"
   ]
  },
  {
   "cell_type": "markdown",
   "metadata": {},
   "source": [
    "### symbol_to_string"
   ]
  },
  {
   "cell_type": "code",
   "execution_count": null,
   "metadata": {
    "dotnet_interactive": {
     "language": "spiral"
    },
    "polyglot_notebook": {
     "kernelName": "spiral"
    }
   },
   "outputs": [],
   "source": [
    "//// real\n",
    "\n",
    "inl symbol_to_string forall t {symbol}. : string =\n",
    "    // inl x = real_core.type_lit_to_lit `t\n",
    "    // inl x = real_core.type_to_symbol `t\n",
    "    // inl x = real_core.type_lit_to_lit `t\n",
    "    // !!!!SymbolToString (`(`t))\n",
    "    inl x = real_core.type_to_symbol `t\n",
    "    !!!!SymbolToString (x)"
   ]
  },
  {
   "cell_type": "code",
   "execution_count": null,
   "metadata": {
    "dotnet_interactive": {
     "language": "spiral"
    },
    "polyglot_notebook": {
     "kernelName": "spiral"
    }
   },
   "outputs": [],
   "source": [
    "inl symbol_to_string forall t {symbol}. (x : t) : string =\n",
    "    real symbol_to_string `t"
   ]
  },
  {
   "cell_type": "code",
   "execution_count": null,
   "metadata": {
    "dotnet_interactive": {
     "language": "spiral"
    },
    "polyglot_notebook": {
     "kernelName": "spiral"
    }
   },
   "outputs": [
    {
     "data": {
      "text/plain": [
       ".py output (Python):\n",
       "{ name = __assert_eq; actual = test; expected = test }\n",
       "\n",
       ".gleam output (Gleam):\n",
       "{ name = __assert_eq; actual = test; expected = test }\n",
       "\n"
      ]
     },
     "metadata": {},
     "output_type": "display_data"
    },
    {
     "name": "stdout",
     "output_type": "stream",
     "text": [
      ".fsx output:\n",
      "{ name = __assert_eq; actual = test; expected = test }\n"
     ]
    }
   ],
   "source": [
    "//// test\n",
    "///! gleam\n",
    "///! fsharp\n",
    "///! cuda\n",
    "\n",
    ".test\n",
    "|> symbol_to_string\n",
    "|> _assert_eq \"test\""
   ]
  },
  {
   "cell_type": "code",
   "execution_count": null,
   "metadata": {
    "dotnet_interactive": {
     "language": "spiral"
    },
    "polyglot_notebook": {
     "kernelName": "spiral"
    }
   },
   "outputs": [
    {
     "data": {
      "text/plain": [
       ".py output (Python):\n",
       "{ name = __assert_eq; actual = test; expected = test }\n",
       "\n",
       ".gleam output (Gleam):\n",
       "{ name = __assert_eq; actual = test; expected = test }\n",
       "\n"
      ]
     },
     "metadata": {},
     "output_type": "display_data"
    },
    {
     "name": "stdout",
     "output_type": "stream",
     "text": [
      ".fsx output:\n",
      "{ name = __assert_eq; actual = test; expected = test }\n"
     ]
    }
   ],
   "source": [
    "//// test\n",
    "//// real\n",
    "///! gleam\n",
    "///! fsharp\n",
    "///! cuda\n",
    "\n",
    "open testing\n",
    "inl x = .test\n",
    "inl x = symbol_to_string `(`x)\n",
    "_assert_eq `string \"test\" x"
   ]
  },
  {
   "cell_type": "markdown",
   "metadata": {},
   "source": [
    "### index"
   ]
  },
  {
   "cell_type": "code",
   "execution_count": null,
   "metadata": {
    "dotnet_interactive": {
     "language": "spiral"
    },
    "polyglot_notebook": {
     "kernelName": "spiral"
    }
   },
   "outputs": [],
   "source": [
    "inl index i (str : string) : char =\n",
    "    sm.index str i"
   ]
  },
  {
   "cell_type": "markdown",
   "metadata": {},
   "source": [
    "### length"
   ]
  },
  {
   "cell_type": "code",
   "execution_count": null,
   "metadata": {
    "dotnet_interactive": {
     "language": "spiral"
    },
    "polyglot_notebook": {
     "kernelName": "spiral"
    }
   },
   "outputs": [],
   "source": [
    "inl length forall dim {int}. (input : string) : dim =\n",
    "    input |> sm.length"
   ]
  },
  {
   "cell_type": "code",
   "execution_count": null,
   "metadata": {
    "dotnet_interactive": {
     "language": "spiral"
    },
    "polyglot_notebook": {
     "kernelName": "spiral"
    }
   },
   "outputs": [
    {
     "data": {
      "text/plain": [
       ".py output (Python):\n",
       "{ name = __assert_eq; actual = 3; expected = 3 }\n",
       "\n",
       ".gleam output (Gleam):\n",
       "{ name = __assert_eq; actual = 3; expected = 3 }\n",
       "\n"
      ]
     },
     "metadata": {},
     "output_type": "display_data"
    },
    {
     "name": "stdout",
     "output_type": "stream",
     "text": [
      ".fsx output:\n",
      "{ name = __assert_eq; actual = 3; expected = 3 }\n"
     ]
    }
   ],
   "source": [
    "//// test\n",
    "///! gleam\n",
    "///! fsharp\n",
    "///! cuda\n",
    "\n",
    "\"abc\"\n",
    "|> length\n",
    "|> _assert_eq 3i32"
   ]
  },
  {
   "cell_type": "markdown",
   "metadata": {},
   "source": [
    "### to_char_array"
   ]
  },
  {
   "cell_type": "code",
   "execution_count": null,
   "metadata": {
    "dotnet_interactive": {
     "language": "spiral"
    },
    "polyglot_notebook": {
     "kernelName": "spiral"
    }
   },
   "outputs": [],
   "source": [
    "inl to_char_array (str : string) : array_base char =\n",
    "    am.init (str |> length) (fun i => str |> index i)\n",
    "    |> fun (a x : _ int _) => x"
   ]
  },
  {
   "cell_type": "code",
   "execution_count": null,
   "metadata": {
    "dotnet_interactive": {
     "language": "spiral"
    },
    "polyglot_notebook": {
     "kernelName": "spiral"
    }
   },
   "outputs": [
    {
     "data": {
      "text/plain": [
       ".py output (Python):\n",
       "{ name = __assert_eq; actual = ['a' 'b' 'c']; expected = ['a' 'b' 'c'] }\n",
       "\n"
      ]
     },
     "metadata": {},
     "output_type": "display_data"
    },
    {
     "name": "stdout",
     "output_type": "stream",
     "text": [
      ".fsx output:\n",
      "{ name = __assert_eq; actual = [|'a'; 'b'; 'c'|]; expected = [|'a'; 'b'; 'c'|] }\n"
     ]
    }
   ],
   "source": [
    "//// test\n",
    "///! fsharp\n",
    "///! cuda\n",
    "\n",
    "\"abc\"\n",
    "|> to_char_array\n",
    "|> sm'.format\n",
    "|> _assert_eq (;[ 'a'; 'b'; 'c' ] |> sm'.format)"
   ]
  },
  {
   "cell_type": "markdown",
   "metadata": {},
   "source": [
    "### to_char_list"
   ]
  },
  {
   "cell_type": "code",
   "execution_count": null,
   "metadata": {
    "dotnet_interactive": {
     "language": "spiral"
    },
    "polyglot_notebook": {
     "kernelName": "spiral"
    }
   },
   "outputs": [],
   "source": [
    "inl to_char_list (str : string) : list char =\n",
    "    listm.init (str |> length) (fun (i : i64) => str |> index i)"
   ]
  },
  {
   "cell_type": "code",
   "execution_count": null,
   "metadata": {
    "dotnet_interactive": {
     "language": "spiral"
    },
    "polyglot_notebook": {
     "kernelName": "spiral"
    }
   },
   "outputs": [
    {
     "data": {
      "text/plain": [
       ".py output (Python):\n",
       "{ name = __assert_eq; actual = UH0_1(v0='a', v1=UH0_1(v0='b', v1=UH0_1(v0='c', v1=UH0_0()))); expected = UH0_1(v0='a', v1=UH0_1(v0='b', v1=UH0_1(v0='c', v1=UH0_0()))) }\n",
       "\n",
       ".gleam output (Gleam):\n",
       "{ name = __assert_eq; actual = Uh0i1(\"a\", Uh0i1(\"b\", Uh0i1(\"c\", Uh0i0))); expected = Uh0i1(\"a\", Uh0i1(\"b\", Uh0i1(\"c\", Uh0i0))) }\n",
       "\n"
      ]
     },
     "metadata": {},
     "output_type": "display_data"
    },
    {
     "name": "stdout",
     "output_type": "stream",
     "text": [
      ".fsx output:\n",
      "{ name = __assert_eq; actual = UH0_1 ('a', UH0_1 ('b', UH0_1 ('c', UH0_0))); expected = UH0_1 ('a', UH0_1 ('b', UH0_1 ('c', UH0_0))) }\n"
     ]
    }
   ],
   "source": [
    "//// test\n",
    "///! gleam\n",
    "///! fsharp\n",
    "///! cuda\n",
    "\n",
    "\"abc\"\n",
    "|> to_char_list\n",
    "|> _assert_eq [ 'a'; 'b'; 'c' ]"
   ]
  },
  {
   "cell_type": "markdown",
   "metadata": {},
   "source": [
    "### is_empty"
   ]
  },
  {
   "cell_type": "code",
   "execution_count": null,
   "metadata": {
    "dotnet_interactive": {
     "language": "spiral"
    },
    "polyglot_notebook": {
     "kernelName": "spiral"
    }
   },
   "outputs": [],
   "source": [
    "inl is_empty (input : string) : bool =\n",
    "    length input = 0i32"
   ]
  },
  {
   "cell_type": "markdown",
   "metadata": {},
   "source": [
    "### slice"
   ]
  },
  {
   "cell_type": "code",
   "execution_count": null,
   "metadata": {
    "dotnet_interactive": {
     "language": "spiral"
    },
    "polyglot_notebook": {
     "kernelName": "spiral"
    }
   },
   "outputs": [],
   "source": [
    "inl slice forall t {number; int}. (from : t) (to : t) s : string =\n",
    "    backend_switch {\n",
    "        Gleam = fun () => sm.slice s { from to } : string\n",
    "        Fsharp = fun () => sm.slice s { from to } : string\n",
    "        Python = fun () => sm.slice s { from to = if var_is s || var_is to then to + 1 else to } : string\n",
    "    }"
   ]
  },
  {
   "cell_type": "code",
   "execution_count": null,
   "metadata": {
    "dotnet_interactive": {
     "language": "spiral"
    },
    "polyglot_notebook": {
     "kernelName": "spiral"
    }
   },
   "outputs": [
    {
     "data": {
      "text/plain": [
       "\n",
       ".py output (Python):\n",
       "{ name = __assert_eq; actual = bcd; expected = bcd }\n",
       "{ name = __assert_eq; actual = bcd; expected = bcd }\n",
       "{ name = __assert_eq; actual = bcd; expected = bcd }\n",
       "{ name = __assert_eq; actual = bcd; expected = bcd }\n",
       "\n",
       "\n",
       ".gleam output (Gleam):\n",
       "{ name = __assert_eq; actual = bcd; expected = bcd }\n",
       "{ name = __assert_eq; actual = bcd; expected = bcd }\n",
       "{ name = __assert_eq; actual = bcd; expected = bcd }\n",
       "{ name = __assert_eq; actual = bcd; expected = bcd }\n",
       "\n",
       "\n"
      ]
     },
     "metadata": {},
     "output_type": "display_data"
    },
    {
     "name": "stdout",
     "output_type": "stream",
     "text": [
      ".fsx output:\n",
      "{ name = __assert_eq; actual = bcd; expected = bcd }\n",
      "{ name = __assert_eq; actual = bcd; expected = bcd }\n",
      "{ name = __assert_eq; actual = bcd; expected = bcd }\n",
      "{ name = __assert_eq; actual = bcd; expected = bcd }\n"
     ]
    }
   ],
   "source": [
    "//// test\n",
    "///! gleam\n",
    "///! fsharp\n",
    "///! cuda\n",
    "\n",
    "\"abcdef\"\n",
    "|> slice 1i32 3i32\n",
    "|> _assert_eq \"bcd\"\n",
    "\n",
    "(join \"abcde\")\n",
    "|> slice 1i32 3i32\n",
    "|> _assert_eq \"bcd\"\n",
    "\n",
    "\"abcde\"\n",
    "|> slice 1i32 (join 3i32)\n",
    "|> _assert_eq \"bcd\"\n",
    "\n",
    "(join \"abcde\")\n",
    "|> slice 1i32 (join 3i32)\n",
    "|> _assert_eq \"bcd\""
   ]
  },
  {
   "cell_type": "markdown",
   "metadata": {},
   "source": [
    "### append_real"
   ]
  },
  {
   "cell_type": "code",
   "execution_count": null,
   "metadata": {
    "dotnet_interactive": {
     "language": "spiral"
    },
    "polyglot_notebook": {
     "kernelName": "spiral"
    }
   },
   "outputs": [],
   "source": [
    "//// real\n",
    "\n",
    "inl append_real (x : string) (s : string) : string =\n",
    "    backend_switch `string `({}) {\n",
    "        Gleam = (fun () => $'!s <> !x ' : string) : () -> string\n",
    "        Fsharp = (fun () => (+.) `string s x) : () -> string\n",
    "        Python = (fun () => (+.) `string s x) : () -> string\n",
    "    }"
   ]
  },
  {
   "cell_type": "markdown",
   "metadata": {},
   "source": [
    "### append"
   ]
  },
  {
   "cell_type": "code",
   "execution_count": null,
   "metadata": {
    "dotnet_interactive": {
     "language": "spiral"
    },
    "polyglot_notebook": {
     "kernelName": "spiral"
    }
   },
   "outputs": [],
   "source": [
    "inl append (x : string) (s : string) : string =\n",
    "    real append_real x s"
   ]
  },
  {
   "cell_type": "markdown",
   "metadata": {},
   "source": [
    "### (++#)"
   ]
  },
  {
   "cell_type": "code",
   "execution_count": null,
   "metadata": {
    "dotnet_interactive": {
     "language": "spiral"
    },
    "polyglot_notebook": {
     "kernelName": "spiral"
    }
   },
   "outputs": [],
   "source": [
    "//// real\n",
    "\n",
    "inl (++#) (a : string) (b : string) : string =\n",
    "    append_real b a"
   ]
  },
  {
   "cell_type": "code",
   "execution_count": null,
   "metadata": {
    "dotnet_interactive": {
     "language": "spiral"
    },
    "polyglot_notebook": {
     "kernelName": "spiral"
    }
   },
   "outputs": [],
   "source": [
    "inl (++#) (a : string) (b : string) : string =\n",
    "    real (++#) a b"
   ]
  },
  {
   "cell_type": "markdown",
   "metadata": {},
   "source": [
    "### (++\\\\#)"
   ]
  },
  {
   "cell_type": "code",
   "execution_count": null,
   "metadata": {
    "dotnet_interactive": {
     "language": "spiral"
    },
    "polyglot_notebook": {
     "kernelName": "spiral"
    }
   },
   "outputs": [],
   "source": [
    "inl (++\\\\#) a b =\n",
    "    a ++# \"\\\\n\" ++# b"
   ]
  },
  {
   "cell_type": "markdown",
   "metadata": {},
   "source": [
    "### (++\\#)"
   ]
  },
  {
   "cell_type": "code",
   "execution_count": null,
   "metadata": {
    "dotnet_interactive": {
     "language": "spiral"
    },
    "polyglot_notebook": {
     "kernelName": "spiral"
    }
   },
   "outputs": [],
   "source": [
    "inl (++\\#) a b =\n",
    "    a ++# \"\\n\" ++# b"
   ]
  },
  {
   "cell_type": "markdown",
   "metadata": {},
   "source": [
    "### format_debug"
   ]
  },
  {
   "cell_type": "code",
   "execution_count": null,
   "metadata": {
    "dotnet_interactive": {
     "language": "spiral"
    },
    "polyglot_notebook": {
     "kernelName": "spiral"
    }
   },
   "outputs": [],
   "source": [
    "//// real\n",
    "\n",
    "inl format_debug forall t. (x : t) : string =\n",
    "    typecase t with\n",
    "    | string => x\n",
    "    | _ =>\n",
    "        backend_switch `string `({}) {\n",
    "            Gleam = (fun () =>\n",
    "                typecase t with\n",
    "                | char => to `t `string x\n",
    "                | _ =>\n",
    "                    backend_switch `(()) `({}) {\n",
    "                        Gleam = (fun () => global \"import gleam/string\") : () -> ()\n",
    "                    }\n",
    "                    $'string.inspect(!x)' : string\n",
    "                    ) : () -> string\n",
    "            Fsharp = (fun () => $'$\"%A{!x}\"' : string) : () -> string\n",
    "            Python = (fun () => $'f\"{!x}\"' : string) : () -> string\n",
    "        }"
   ]
  },
  {
   "cell_type": "code",
   "execution_count": null,
   "metadata": {
    "dotnet_interactive": {
     "language": "spiral"
    },
    "polyglot_notebook": {
     "kernelName": "spiral"
    }
   },
   "outputs": [],
   "source": [
    "inl format_debug forall t. (x : t) : string =\n",
    "    real format_debug `t x"
   ]
  },
  {
   "cell_type": "code",
   "execution_count": null,
   "metadata": {
    "dotnet_interactive": {
     "language": "spiral"
    },
    "polyglot_notebook": {
     "kernelName": "spiral"
    }
   },
   "outputs": [
    {
     "data": {
      "text/plain": [
       ".py output (Python):\n",
       "{ name = __assert_eq; actual = ('1', '2', '3'); expected = ('1', '2', '3') }\n",
       "\n",
       ".gleam output (Gleam):\n",
       "{ name = __assert_eq; actual = #(\"1\", \"2\", \"3\"); expected = #(\"1\", \"2\", \"3\") }\n",
       "\n"
      ]
     },
     "metadata": {},
     "output_type": "display_data"
    },
    {
     "name": "stdout",
     "output_type": "stream",
     "text": [
      ".fsx output:\n",
      "{ name = __assert_eq; actual = struct (\"1\", \"2\", \"3\"); expected = struct (\"1\", \"2\", \"3\") }\n"
     ]
    }
   ],
   "source": [
    "//// test\n",
    "///! gleam\n",
    "///! fsharp\n",
    "///! cuda\n",
    "\n",
    "{ c = \"1\"; a = \"2\"; b = \"3\" }\n",
    "|> format_debug\n",
    "|> _assert_eq (\n",
    "    backend_switch {\n",
    "        Gleam = fun () => \"#(\\\"1\\\", \\\"2\\\", \\\"3\\\")\" : string\n",
    "        Fsharp = fun () => \"struct (\\\"1\\\", \\\"2\\\", \\\"3\\\")\" : string\n",
    "        Python = fun () => \"('1', '2', '3')\" : string\n",
    "    }\n",
    ")"
   ]
  },
  {
   "cell_type": "markdown",
   "metadata": {},
   "source": [
    "### format_pretty"
   ]
  },
  {
   "cell_type": "code",
   "execution_count": null,
   "metadata": {
    "dotnet_interactive": {
     "language": "spiral"
    },
    "polyglot_notebook": {
     "kernelName": "spiral"
    }
   },
   "outputs": [],
   "source": [
    "//// real\n",
    "\n",
    "inl format_pretty forall t. (x : t) : string =\n",
    "    run_target_args `string `t (fun () => x) function\n",
    "        | Rust _ => fun x =>\n",
    "            open rust\n",
    "            inl result = rust.emit_expr `t `std_string x ($'\"format\\!(\\\\\\\"{:\\#?}\\\\\\\", $0)\"' : string)\n",
    "            from_std_string result\n",
    "        | _ => fun _ => format_debug `t x"
   ]
  },
  {
   "cell_type": "code",
   "execution_count": null,
   "metadata": {
    "dotnet_interactive": {
     "language": "spiral"
    },
    "polyglot_notebook": {
     "kernelName": "spiral"
    }
   },
   "outputs": [],
   "source": [
    "inl format_pretty forall t. (x : t) : string =\n",
    "    real sm'_real.format_pretty `t x"
   ]
  },
  {
   "cell_type": "markdown",
   "metadata": {},
   "source": [
    "### prim"
   ]
  },
  {
   "cell_type": "code",
   "execution_count": null,
   "metadata": {
    "dotnet_interactive": {
     "language": "spiral"
    },
    "polyglot_notebook": {
     "kernelName": "spiral"
    }
   },
   "outputs": [],
   "source": [
    "inl prim x = real\n",
    "    match x with\n",
    "    | (x : i8) | (x : i16) | (x : i32) | (x : i64) => \"%d\", x\n",
    "    | (x : u8) | (x : u16) | (x : u32) | (x : u64) => \"%u\", x\n",
    "    | (x : f32) | (x : f64) => \"%f\", x\n",
    "    | (x : string) => \"%s\", x\n",
    "    | (x : char) => \"%c\", x"
   ]
  },
  {
   "cell_type": "markdown",
   "metadata": {},
   "source": [
    "### printable"
   ]
  },
  {
   "cell_type": "code",
   "execution_count": null,
   "metadata": {
    "dotnet_interactive": {
     "language": "spiral"
    },
    "polyglot_notebook": {
     "kernelName": "spiral"
    }
   },
   "outputs": [],
   "source": [
    "//// real\n",
    "\n",
    "prototype printable t : t -> ()"
   ]
  },
  {
   "cell_type": "markdown",
   "metadata": {},
   "source": [
    "### format_real"
   ]
  },
  {
   "cell_type": "code",
   "execution_count": null,
   "metadata": {
    "dotnet_interactive": {
     "language": "spiral"
    },
    "polyglot_notebook": {
     "kernelName": "spiral"
    }
   },
   "outputs": [],
   "source": [
    "//// real\n",
    "\n",
    "let format_real forall t. (x : t) : string =\n",
    "    inl result = mut `string (join \"\")\n",
    "    inl rec write x =\n",
    "        inl p ((a : string), b) =\n",
    "            inl s : string =\n",
    "                backend_switch `string `({}) {\n",
    "                    Gleam =\n",
    "                        (fun () =>\n",
    "                            match b with\n",
    "                            | (_ : string) => $'!b ' : string\n",
    "                            // | (_ : f32) | (_ : f64) => format_debug `(`b) b\n",
    "                            | _ => format_debug `(`b) b\n",
    "                        ) : () -> string\n",
    "                    Fsharp =\n",
    "                        (fun () =>\n",
    "                            match b with\n",
    "                            | (_ : f32) | (_ : f64) => $'$\"%+.6f{!b}\"' : string\n",
    "                            | _ => $'$\"{!b}\"' : string\n",
    "                        ) : () -> string\n",
    "                    Python =\n",
    "                        (fun () =>\n",
    "                            match b with\n",
    "                            | (_ : f32) | (_ : f64) => $'\"{:.6f}\".format(!b)' : string\n",
    "                            | _ => $'f\"{!b}\"' : string\n",
    "                        ) : () -> string\n",
    "                }\n",
    "            exec_unit ((fun () => result <- (++#) ((~*) `string result) s) : () -> ())\n",
    "\n",
    "        match x with // According to Bing it shouldn't matter whether these are %d or %lld in printf.\n",
    "        | () => ()\n",
    "        | (x : i8) | (x : i16) | (x : i32) | (x : i64) => p (\"%d\", x)\n",
    "        | (x : u8) | (x : u16) | (x : u32) | (x : u64) => p (\"%u\", x)\n",
    "        | (x : f32) | (x : f64) => p (\"%f\", x)\n",
    "        | (x : string) => p (\"%s\", x)\n",
    "        | (x : char) => p (\"%c\", x)\n",
    "        | (x : bool) => p (\"%s\", if x then \"true\" else \"false\")\n",
    "        | (a,b) => write a . write \", \" . write b\n",
    "        | {} as x =>\n",
    "            write \"{ \"\n",
    "            inl _result =\n",
    "                real_core.record_fold\n",
    "                    fun { state = separator key value } =>\n",
    "                        write separator\n",
    "                        write (symbol_to_string `(`key)) . write \" = \" . write value\n",
    "                        \"; \"\n",
    "                    () x\n",
    "            write \" }\"\n",
    "        | x when real_core.symbol_is x => write (symbol_to_string `(`x))\n",
    "        | x when real_core.function_is x => write (x ())\n",
    "        | x when real_core.union_is x =>\n",
    "            if real_core.prototype_has `(`x) printable then printable `(`x) x\n",
    "            else\n",
    "                write (format_debug `(`x) x)\n",
    "                // real_core.unbox x (fun (k, v) =>\n",
    "                //     write k\n",
    "                //     match v with\n",
    "                //     | () => ()\n",
    "                //     | _ => write \"(\" . write v . write \")\"\n",
    "                //     )\n",
    "        | x when real_core.nominal_is x =>\n",
    "            if real_core.prototype_has `(`x) printable then printable `(`x) x\n",
    "            // elif layout_is x then write *x // TODO: Deal with all the layout type cases.\n",
    "            else write (format_pretty `(`x) x)\n",
    "        | x => write (format_debug `(`x) x)\n",
    "    write x\n",
    "    (~*) `string result"
   ]
  },
  {
   "cell_type": "markdown",
   "metadata": {},
   "source": [
    "### format"
   ]
  },
  {
   "cell_type": "code",
   "execution_count": null,
   "metadata": {
    "dotnet_interactive": {
     "language": "spiral"
    },
    "polyglot_notebook": {
     "kernelName": "spiral"
    }
   },
   "outputs": [],
   "source": [
    "inl format forall t. (x : t) : string =\n",
    "    real format_real `t x"
   ]
  },
  {
   "cell_type": "code",
   "execution_count": null,
   "metadata": {
    "dotnet_interactive": {
     "language": "spiral"
    },
    "polyglot_notebook": {
     "kernelName": "spiral"
    }
   },
   "outputs": [
    {
     "name": "stdout",
     "output_type": "stream",
     "text": [
      "{ name = __assert_eq; actual = 1, 2, UH0_1 (\"3\", UH0_1 (\"4\", UH0_0)), { b = 5; c = 6; a = 7 }; expected = 1, 2, UH0_1 (\"3\", UH0_1 (\"4\", UH0_0)), { b = 5; c = 6; a = 7 } }\n"
     ]
    }
   ],
   "source": [
    "//// test\n",
    "////! gleam\n",
    "///! fsharp\n",
    "////! cuda\n",
    "////! rust\n",
    "////! typescript\n",
    "////! python\n",
    "\n",
    "(\"1\", \"2\", [\"3\"; \"4\"], { b = \"5\"; c = \"6\"; a = fun () => \"7\" })\n",
    "|> format\n",
    "|> _assert_eq \"1, 2, UH0_1 (\\\"3\\\", UH0_1 (\\\"4\\\", UH0_0)), { b = 5; c = 6; a = 7 }\""
   ]
  },
  {
   "cell_type": "markdown",
   "metadata": {},
   "source": [
    "### concat_array"
   ]
  },
  {
   "cell_type": "code",
   "execution_count": null,
   "metadata": {
    "dotnet_interactive": {
     "language": "spiral"
    },
    "polyglot_notebook": {
     "kernelName": "spiral"
    }
   },
   "outputs": [],
   "source": [
    "inl concat_array (separator : string) (input : a int string) =\n",
    "    (input, { acc = \"\"; sep = \"\" })\n",
    "    ||> am.foldBack fun (x : string) { acc sep } =>\n",
    "            { acc = x ++# sep ++# acc; sep = separator }\n",
    "    |> fun { acc } => acc"
   ]
  },
  {
   "cell_type": "code",
   "execution_count": null,
   "metadata": {
    "dotnet_interactive": {
     "language": "spiral"
    },
    "polyglot_notebook": {
     "kernelName": "spiral"
    }
   },
   "outputs": [
    {
     "data": {
      "text/plain": [
       "\n",
       ".rs output:\n",
       "{ name = __assert_eq; actual = 1\n",
       "2\n",
       "3; expected = 1\n",
       "2\n",
       "3 }\n",
       "\n",
       "\n",
       ".ts output:\n",
       "{ name = __assert_eq; actual = 1\n",
       "2\n",
       "3; expected = 1\n",
       "2\n",
       "3 }\n",
       "\n",
       "\n",
       ".py output:\n",
       "{ name = __assert_eq; actual = 1\n",
       "2\n",
       "3; expected = 1\n",
       "2\n",
       "3 }\n",
       "\n",
       "\n",
       "\n",
       "\n"
      ]
     },
     "metadata": {},
     "output_type": "display_data"
    },
    {
     "name": "stdout",
     "output_type": "stream",
     "text": [
      ".fsx:\n",
      "type Mut0 = {mutable l0 : int32; mutable l1 : string; mutable l2 : string}\n",
      "and Mut1 = {mutable l0 : string}\n",
      "let rec method1 (v0 : int32, v1 : Mut0) : bool =\n",
      "    let v2 : int32 = v1.l0\n",
      "    let v3 : bool = v2 < v0\n",
      "    v3\n",
      "and method2 (v0 : bool) : bool =\n",
      "    v0\n",
      "and method4 () : string =\n",
      "    let v0 : string = \"\"\n",
      "    v0\n",
      "and closure0 (v0 : Mut1, v1 : string) () : unit =\n",
      "    let v2 : string = v0.l0\n",
      "    let v4 : string = v2 + v1 \n",
      "    v0.l0 <- v4\n",
      "    ()\n",
      "and method3 (v0 : string, v1 : string, v2 : string) : string =\n",
      "    let v3 : string = method4()\n",
      "    let v4 : Mut1 = {l0 = v3} : Mut1\n",
      "    let v7 : string = \"{ \"\n",
      "    let v8 : string = $\"{v7}\"\n",
      "    let v16 : unit = ()\n",
      "    let v17 : (unit -> unit) = closure0(v4, v8)\n",
      "    let v18 : unit = (fun () -> v17 (); v16) ()\n",
      "    let v26 : string = \"name\"\n",
      "    let v27 : string = $\"{v26}\"\n",
      "    let v35 : unit = ()\n",
      "    let v36 : (unit -> unit) = closure0(v4, v27)\n",
      "    let v37 : unit = (fun () -> v36 (); v35) ()\n",
      "    let v45 : string = \" = \"\n",
      "    let v46 : string = $\"{v45}\"\n",
      "    let v54 : unit = ()\n",
      "    let v55 : (unit -> unit) = closure0(v4, v46)\n",
      "    let v56 : unit = (fun () -> v55 (); v54) ()\n",
      "    let v63 : string = $\"{v0}\"\n",
      "    let v71 : unit = ()\n",
      "    let v72 : (unit -> unit) = closure0(v4, v63)\n",
      "    let v73 : unit = (fun () -> v72 (); v71) ()\n",
      "    let v81 : string = \"; \"\n",
      "    let v82 : string = $\"{v81}\"\n",
      "    let v90 : unit = ()\n",
      "    let v91 : (unit -> unit) = closure0(v4, v82)\n",
      "    let v92 : unit = (fun () -> v91 (); v90) ()\n",
      "    let v100 : string = \"actual\"\n",
      "    let v101 : string = $\"{v100}\"\n",
      "    let v109 : unit = ()\n",
      "    let v110 : (unit -> unit) = closure0(v4, v101)\n",
      "    let v111 : unit = (fun () -> v110 (); v109) ()\n",
      "    let v118 : string = $\"{v45}\"\n",
      "    let v126 : unit = ()\n",
      "    let v127 : (unit -> unit) = closure0(v4, v118)\n",
      "    let v128 : unit = (fun () -> v127 (); v126) ()\n",
      "    let v135 : string = $\"{v1}\"\n",
      "    let v143 : unit = ()\n",
      "    let v144 : (unit -> unit) = closure0(v4, v135)\n",
      "    let v145 : unit = (fun () -> v144 (); v143) ()\n",
      "    let v152 : string = $\"{v81}\"\n",
      "    let v160 : unit = ()\n",
      "    let v161 : (unit -> unit) = closure0(v4, v152)\n",
      "    let v162 : unit = (fun () -> v161 (); v160) ()\n",
      "    let v170 : string = \"expected\"\n",
      "    let v171 : string = $\"{v170}\"\n",
      "    let v179 : unit = ()\n",
      "    let v180 : (unit -> unit) = closure0(v4, v171)\n",
      "    let v181 : unit = (fun () -> v180 (); v179) ()\n",
      "    let v188 : string = $\"{v45}\"\n",
      "    let v196 : unit = ()\n",
      "    let v197 : (unit -> unit) = closure0(v4, v188)\n",
      "    let v198 : unit = (fun () -> v197 (); v196) ()\n",
      "    let v205 : string = $\"{v2}\"\n",
      "    let v213 : unit = ()\n",
      "    let v214 : (unit -> unit) = closure0(v4, v205)\n",
      "    let v215 : unit = (fun () -> v214 (); v213) ()\n",
      "    let v223 : string = \" }\"\n",
      "    let v224 : string = $\"{v223}\"\n",
      "    let v232 : unit = ()\n",
      "    let v233 : (unit -> unit) = closure0(v4, v224)\n",
      "    let v234 : unit = (fun () -> v233 (); v232) ()\n",
      "    let v240 : string = v4.l0\n",
      "    v240\n",
      "and closure1 (v0 : string) () : unit =\n",
      "    let v1 : (string -> unit) = System.Console.WriteLine\n",
      "    v1 v0\n",
      "and method0 () : unit =\n",
      "    let v0 : string = \"1\"\n",
      "    let v1 : string = \"2\"\n",
      "    let v2 : string = \"3\"\n",
      "    let v3 : (string []) = [|v0; v1; v2|]\n",
      "    let v4 : int32 = v3.Length\n",
      "    let v5 : string = \"\"\n",
      "    let v6 : Mut0 = {l0 = 0; l1 = v5; l2 = v5} : Mut0\n",
      "    while method1(v4, v6) do\n",
      "        let v8 : int32 = v6.l0\n",
      "        let v9 : int32 =  -v8\n",
      "        let v10 : int32 = v9 + v4\n",
      "        let v11 : int32 = v10 - 1\n",
      "        let struct (v12 : string, v13 : string) = v6.l1, v6.l2\n",
      "        let v14 : string = v3.[int v11]\n",
      "        let v16 : string = v14 + v13 \n",
      "        let v20 : string = v16 + v12 \n",
      "        let v23 : int32 = v8 + 1\n",
      "        let v24 : string = \"\\n\"\n",
      "        v6.l0 <- v23\n",
      "        v6.l1 <- v20\n",
      "        v6.l2 <- v24\n",
      "        ()\n",
      "    let struct (v25 : string, v26 : string) = v6.l1, v6.l2\n",
      "    let v27 : bool = v25 = \"1\\n2\\n3\"\n",
      "    let v29 : bool =\n",
      "        if v27 then\n",
      "            true\n",
      "        else\n",
      "            method2(v27)\n",
      "    let v30 : string = \"__assert_eq\"\n",
      "    let v31 : string = \"1\\n2\\n3\"\n",
      "    let v32 : string = method3(v30, v25, v31)\n",
      "    let v34 : unit = ()\n",
      "    let v35 : (unit -> unit) = closure1(v32)\n",
      "    let v36 : unit = (fun () -> v35 (); v34) ()\n",
      "    let v38 : bool = v29 = false\n",
      "    if v38 then\n",
      "        failwith<unit> v32\n",
      "method0()\n",
      "\n",
      "\n",
      ".rs:\n",
      "#![allow(dead_code)]\n",
      "#![allow(non_camel_case_types)]\n",
      "#![allow(non_snake_case)]\n",
      "#![allow(non_upper_case_globals)]\n",
      "#![allow(unreachable_code)]\n",
      "#![allow(unused_attributes)]\n",
      "#![allow(unused_imports)]\n",
      "#![allow(unused_macros)]\n",
      "#![allow(unused_parens)]\n",
      "#![allow(unused_variables)]\n",
      "#![allow(unused_assignments)]\n",
      "mod module_6ff740fe {\n",
      "    pub mod Spiral {\n",
      "        use super::*;\n",
      "        use fable_library_rust::Native_::LrcPtr;\n",
      "        use fable_library_rust::Native_::MutCell;\n",
      "        use fable_library_rust::Native_::on_startup;\n",
      "        use fable_library_rust::NativeArray_::Array;\n",
      "        use fable_library_rust::NativeArray_::get_Count;\n",
      "        use fable_library_rust::NativeArray_::new_array;\n",
      "        use fable_library_rust::String_::append;\n",
      "        use fable_library_rust::String_::printfn;\n",
      "        use fable_library_rust::String_::string;\n",
      "        #[derive(Clone, Debug, Hash, PartialEq, PartialOrd)]\n",
      "        pub struct Mut0 {\n",
      "            pub l0: MutCell<i32>,\n",
      "            pub l1: MutCell<string>,\n",
      "            pub l2: MutCell<string>,\n",
      "        }\n",
      "        impl core::fmt::Display for Mut0 {\n",
      "            fn fmt(&self, f: &mut core::fmt::Formatter) -> core::fmt::Result {\n",
      "                write!(f, \"{}\", core::any::type_name::<Self>())\n",
      "            }\n",
      "        }\n",
      "        #[derive(Clone, Debug, Hash, PartialEq, PartialOrd)]\n",
      "        pub struct Mut1 {\n",
      "            pub l0: MutCell<string>,\n",
      "        }\n",
      "        impl core::fmt::Display for Mut1 {\n",
      "            fn fmt(&self, f: &mut core::fmt::Formatter) -> core::fmt::Result {\n",
      "                write!(f, \"{}\", core::any::type_name::<Self>())\n",
      "            }\n",
      "        }\n",
      "        pub fn method1(v0: i32, v1: LrcPtr<Spiral::Mut0>) -> bool {\n",
      "            (v1.l0.get().clone()) < (v0)\n",
      "        }\n",
      "        pub fn method2(v0: bool) -> bool {\n",
      "            v0\n",
      "        }\n",
      "        pub fn method4() -> string {\n",
      "            string(\"\")\n",
      "        }\n",
      "        pub fn closure0(v0: LrcPtr<Spiral::Mut1>, v1: string, unitVar: ()) {\n",
      "            let v4: string = append((v0.l0.get().clone()), (v1));\n",
      "            v0.l0.set(v4);\n",
      "            ()\n",
      "        }\n",
      "        pub fn method3(v0: string, v1: string, v2: string) -> string {\n",
      "            let v4: LrcPtr<Spiral::Mut1> = LrcPtr::new(Spiral::Mut1 {\n",
      "                l0: MutCell::new(Spiral::method4()),\n",
      "            });\n",
      "            let v18: () = {\n",
      "                Spiral::closure0(v4.clone(), string(\"{ \"), ());\n",
      "                ()\n",
      "            };\n",
      "            let v37: () = {\n",
      "                Spiral::closure0(v4.clone(), string(\"name\"), ());\n",
      "                ()\n",
      "            };\n",
      "            let v56: () = {\n",
      "                Spiral::closure0(v4.clone(), string(\" = \"), ());\n",
      "                ()\n",
      "            };\n",
      "            let v73: () = {\n",
      "                Spiral::closure0(v4.clone(), v0, ());\n",
      "                ()\n",
      "            };\n",
      "            let v92: () = {\n",
      "                Spiral::closure0(v4.clone(), string(\"; \"), ());\n",
      "                ()\n",
      "            };\n",
      "            let v111: () = {\n",
      "                Spiral::closure0(v4.clone(), string(\"actual\"), ());\n",
      "                ()\n",
      "            };\n",
      "            let v128: () = {\n",
      "                Spiral::closure0(v4.clone(), string(\" = \"), ());\n",
      "                ()\n",
      "            };\n",
      "            let v145: () = {\n",
      "                Spiral::closure0(v4.clone(), v1, ());\n",
      "                ()\n",
      "            };\n",
      "            let v162: () = {\n",
      "                Spiral::closure0(v4.clone(), string(\"; \"), ());\n",
      "                ()\n",
      "            };\n",
      "            let v181: () = {\n",
      "                Spiral::closure0(v4.clone(), string(\"expected\"), ());\n",
      "                ()\n",
      "            };\n",
      "            let v198: () = {\n",
      "                Spiral::closure0(v4.clone(), string(\" = \"), ());\n",
      "                ()\n",
      "            };\n",
      "            let v215: () = {\n",
      "                Spiral::closure0(v4.clone(), v2, ());\n",
      "                ()\n",
      "            };\n",
      "            let v234: () = {\n",
      "                Spiral::closure0(v4.clone(), string(\" }\"), ());\n",
      "                ()\n",
      "            };\n",
      "            v4.l0.get().clone()\n",
      "        }\n",
      "        pub fn closure1(v0: string, unitVar: ()) {\n",
      "            printfn!(\"{0}\", v0);\n",
      "        }\n",
      "        pub fn method0() {\n",
      "            let v3: Array<string> = new_array(&[string(\"1\"), string(\"2\"), string(\"3\")]);\n",
      "            let v4: i32 = get_Count(v3.clone());\n",
      "            let v6: LrcPtr<Spiral::Mut0> = LrcPtr::new(Spiral::Mut0 {\n",
      "                l0: MutCell::new(0_i32),\n",
      "                l1: MutCell::new(string(\"\")),\n",
      "                l2: MutCell::new(string(\"\")),\n",
      "            });\n",
      "            while Spiral::method1(v4, v6.clone()) {\n",
      "                let v8: i32 = v6.l0.get().clone();\n",
      "                let v11: i32 = ((v8.wrapping_neg()) + (v4)) - 1_i32;\n",
      "                let matchValue: string = v6.l1.get().clone();\n",
      "                let matchValue_1: string = v6.l2.get().clone();\n",
      "                let v20: string = append((append((v3[v11].clone()), (matchValue_1))), (matchValue));\n",
      "                let v23: i32 = (v8) + 1_i32;\n",
      "                v6.l0.set(v23);\n",
      "                v6.l1.set(v20);\n",
      "                v6.l2.set(string(\"\\n\"));\n",
      "                ()\n",
      "            }\n",
      "            {\n",
      "                let matchValue_2: string = v6.l1.get().clone();\n",
      "                let matchValue_3: string = v6.l2.get().clone();\n",
      "                let v25: string = matchValue_2;\n",
      "                let v27: bool = (v25.clone()) == string(\"1\\n2\\n3\");\n",
      "                let v29: bool = if v27 { true } else { Spiral::method2(v27) };\n",
      "                let v32: string = Spiral::method3(string(\"__assert_eq\"), v25, string(\"1\\n2\\n3\"));\n",
      "                let v36: () = {\n",
      "                    Spiral::closure1(v32.clone(), ());\n",
      "                    ()\n",
      "                };\n",
      "                if (v29) == false {\n",
      "                    panic!(\"{}\", v32,);\n",
      "                }\n",
      "            }\n",
      "        }\n",
      "        // on_startup!(Spiral::method0());\n",
      "    }\n",
      "}\n",
      "pub use module_6ff740fe::*;\n",
      "\n",
      "pub fn main() -> Result<(), String> {\n",
      "    Ok(Spiral::method0())\n",
      "}\n",
      "\n",
      ".ts:\n",
      "import { Record } from \"./fable_modules/fable-library-ts.5.0.0-alpha.9/Types.js\";\n",
      "import { op_UnaryNegation_Int32, int32 } from \"./fable_modules/fable-library-ts.5.0.0-alpha.9/Int32.js\";\n",
      "import { IComparable, IEquatable } from \"./fable_modules/fable-library-ts.5.0.0-alpha.9/Util.js\";\n",
      "import { record_type, string_type, int32_type, TypeInfo } from \"./fable_modules/fable-library-ts.5.0.0-alpha.9/Reflection.js\";\n",
      "import { item } from \"./fable_modules/fable-library-ts.5.0.0-alpha.9/Array.js\";\n",
      "\n",
      "export class Mut0 extends Record implements IEquatable<Mut0>, IComparable<Mut0> {\n",
      "    l0: int32;\n",
      "    l1: string;\n",
      "    l2: string;\n",
      "    constructor(l0: int32, l1: string, l2: string) {\n",
      "        super();\n",
      "        this.l0 = (l0 | 0);\n",
      "        this.l1 = l1;\n",
      "        this.l2 = l2;\n",
      "    }\n",
      "}\n",
      "\n",
      "export function Mut0_$reflection(): TypeInfo {\n",
      "    return record_type(\"Spiral.Mut0\", [], Mut0, () => [[\"l0\", int32_type], [\"l1\", string_type], [\"l2\", string_type]]);\n",
      "}\n",
      "\n",
      "export class Mut1 extends Record implements IEquatable<Mut1>, IComparable<Mut1> {\n",
      "    l0: string;\n",
      "    constructor(l0: string) {\n",
      "        super();\n",
      "        this.l0 = l0;\n",
      "    }\n",
      "}\n",
      "\n",
      "export function Mut1_$reflection(): TypeInfo {\n",
      "    return record_type(\"Spiral.Mut1\", [], Mut1, () => [[\"l0\", string_type]]);\n",
      "}\n",
      "\n",
      "export function method1(v0: int32, v1: Mut0): boolean {\n",
      "    return v1.l0 < v0;\n",
      "}\n",
      "\n",
      "export function method2(v0: boolean): boolean {\n",
      "    return v0;\n",
      "}\n",
      "\n",
      "export function method4(): string {\n",
      "    return \"\";\n",
      "}\n",
      "\n",
      "export function closure0(v0: Mut1, v1: string, unitVar: void): void {\n",
      "    const v4: string = v0.l0 + v1;\n",
      "    v0.l0 = v4;\n",
      "}\n",
      "\n",
      "export function method3(v0: string, v1: string, v2: string): string {\n",
      "    const v4: Mut1 = new Mut1(method4());\n",
      "    let v18: any;\n",
      "    closure0(v4, \"{ \", undefined);\n",
      "    v18 = undefined;\n",
      "    let v37: any;\n",
      "    closure0(v4, \"name\", undefined);\n",
      "    v37 = undefined;\n",
      "    let v56: any;\n",
      "    closure0(v4, \" = \", undefined);\n",
      "    v56 = undefined;\n",
      "    let v73: any;\n",
      "    closure0(v4, v0, undefined);\n",
      "    v73 = undefined;\n",
      "    let v92: any;\n",
      "    closure0(v4, \"; \", undefined);\n",
      "    v92 = undefined;\n",
      "    let v111: any;\n",
      "    closure0(v4, \"actual\", undefined);\n",
      "    v111 = undefined;\n",
      "    let v128: any;\n",
      "    closure0(v4, \" = \", undefined);\n",
      "    v128 = undefined;\n",
      "    let v145: any;\n",
      "    closure0(v4, v1, undefined);\n",
      "    v145 = undefined;\n",
      "    let v162: any;\n",
      "    closure0(v4, \"; \", undefined);\n",
      "    v162 = undefined;\n",
      "    let v181: any;\n",
      "    closure0(v4, \"expected\", undefined);\n",
      "    v181 = undefined;\n",
      "    let v198: any;\n",
      "    closure0(v4, \" = \", undefined);\n",
      "    v198 = undefined;\n",
      "    let v215: any;\n",
      "    closure0(v4, v2, undefined);\n",
      "    v215 = undefined;\n",
      "    let v234: any;\n",
      "    closure0(v4, \" }\", undefined);\n",
      "    v234 = undefined;\n",
      "    return v4.l0;\n",
      "}\n",
      "\n",
      "export function closure1(v0: string, unitVar: void): void {\n",
      "    console.log(v0);\n",
      "}\n",
      "\n",
      "export function method0(): void {\n",
      "    const v3: string[] = [\"1\", \"2\", \"3\"];\n",
      "    const v4: int32 = v3.length | 0;\n",
      "    const v6: Mut0 = new Mut0(0, \"\", \"\");\n",
      "    while (method1(v4, v6)) {\n",
      "        const v8: int32 = v6.l0 | 0;\n",
      "        const v11: int32 = ((op_UnaryNegation_Int32(v8) + v4) - 1) | 0;\n",
      "        const matchValue: string = v6.l1;\n",
      "        const matchValue_1: string = v6.l2;\n",
      "        const v20: string = (item(v11, v3) + matchValue_1) + matchValue;\n",
      "        const v23: int32 = (v8 + 1) | 0;\n",
      "        v6.l0 = (v23 | 0);\n",
      "        v6.l1 = v20;\n",
      "        v6.l2 = \"\\n\";\n",
      "    }\n",
      "    const matchValue_2: string = v6.l1;\n",
      "    const matchValue_3: string = v6.l2;\n",
      "    const v25: string = matchValue_2;\n",
      "    const v27: boolean = v25 === \"1\\n2\\n3\";\n",
      "    const v29: boolean = v27 ? true : method2(v27);\n",
      "    const v32: string = method3(\"__assert_eq\", v25, \"1\\n2\\n3\");\n",
      "    let v36: any;\n",
      "    closure1(v32, undefined);\n",
      "    v36 = undefined;\n",
      "    if (v29 === false) {\n",
      "        throw new Error(v32);\n",
      "    }\n",
      "}\n",
      "\n",
      "method0();\n",
      "\n",
      "\n",
      "\n",
      "// spiral.process_typescript\n",
      "\n",
      ".py:\n",
      "from __future__ import annotations\n",
      "from dataclasses import dataclass\n",
      "from fable_modules.fable_library.int32 import op_unary_negation_int32\n",
      "from fable_modules.fable_library.reflection import (TypeInfo, int32_type, string_type, record_type)\n",
      "from fable_modules.fable_library.types import (Record, Array)\n",
      "\n",
      "def _expr0() -> TypeInfo:\n",
      "    return record_type(\"Spiral.Mut0\", [], Mut0, lambda: [(\"l0\", int32_type), (\"l1\", string_type), (\"l2\", string_type)])\n",
      "\n",
      "\n",
      "@dataclass(eq = False, repr = False, slots = True)\n",
      "class Mut0(Record):\n",
      "    l0: int\n",
      "    l1: str\n",
      "    l2: str\n",
      "\n",
      "Mut0_reflection = _expr0\n",
      "\n",
      "def _expr1() -> TypeInfo:\n",
      "    return record_type(\"Spiral.Mut1\", [], Mut1, lambda: [(\"l0\", string_type)])\n",
      "\n",
      "\n",
      "@dataclass(eq = False, repr = False, slots = True)\n",
      "class Mut1(Record):\n",
      "    l0: str\n",
      "\n",
      "Mut1_reflection = _expr1\n",
      "\n",
      "def method1(v0: int, v1: Mut0) -> bool:\n",
      "    return v1.l0 < v0\n",
      "\n",
      "\n",
      "def method2(v0: bool) -> bool:\n",
      "    return v0\n",
      "\n",
      "\n",
      "def method4(__unit: None=None) -> str:\n",
      "    return \"\"\n",
      "\n",
      "\n",
      "def closure0(v0: Mut1, v1: str, unit_var: None) -> None:\n",
      "    v4: str = v0.l0 + v1\n",
      "    v0.l0 = v4\n",
      "\n",
      "\n",
      "def method3(v0: str, v1: str, v2: str) -> str:\n",
      "    v4: Mut1 = Mut1(method4())\n",
      "    v18: None\n",
      "    closure0(v4, \"{ \", None)\n",
      "    v18 = None\n",
      "    v37: None\n",
      "    closure0(v4, \"name\", None)\n",
      "    v37 = None\n",
      "    v56: None\n",
      "    closure0(v4, \" = \", None)\n",
      "    v56 = None\n",
      "    v73: None\n",
      "    closure0(v4, v0, None)\n",
      "    v73 = None\n",
      "    v92: None\n",
      "    closure0(v4, \"; \", None)\n",
      "    v92 = None\n",
      "    v111: None\n",
      "    closure0(v4, \"actual\", None)\n",
      "    v111 = None\n",
      "    v128: None\n",
      "    closure0(v4, \" = \", None)\n",
      "    v128 = None\n",
      "    v145: None\n",
      "    closure0(v4, v1, None)\n",
      "    v145 = None\n",
      "    v162: None\n",
      "    closure0(v4, \"; \", None)\n",
      "    v162 = None\n",
      "    v181: None\n",
      "    closure0(v4, \"expected\", None)\n",
      "    v181 = None\n",
      "    v198: None\n",
      "    closure0(v4, \" = \", None)\n",
      "    v198 = None\n",
      "    v215: None\n",
      "    closure0(v4, v2, None)\n",
      "    v215 = None\n",
      "    v234: None\n",
      "    closure0(v4, \" }\", None)\n",
      "    v234 = None\n",
      "    return v4.l0\n",
      "\n",
      "\n",
      "def closure1(v0: str, unit_var: None) -> None:\n",
      "    print(v0)\n",
      "\n",
      "\n",
      "def method0(__unit: None=None) -> None:\n",
      "    v3: Array[str] = [\"1\", \"2\", \"3\"]\n",
      "    v4: int = len(v3) or 0\n",
      "    v6: Mut0 = Mut0(0, \"\", \"\")\n",
      "    while method1(v4, v6):\n",
      "        v8: int = v6.l0 or 0\n",
      "        v11: int = ((op_unary_negation_int32(v8) + v4) - 1) or 0\n",
      "        match_value: str = v6.l1\n",
      "        match_value_1: str = v6.l2\n",
      "        v20: str = (v3[v11] + match_value_1) + match_value\n",
      "        v23: int = (v8 + 1) or 0\n",
      "        v6.l0 = v23 or 0\n",
      "        v6.l1 = v20\n",
      "        v6.l2 = \"\\n\"\n",
      "    match_value_2: str = v6.l1\n",
      "    match_value_3: str = v6.l2\n",
      "    v25: str = match_value_2\n",
      "    v27: bool = v25 == \"1\\n2\\n3\"\n",
      "    v29: bool = True if v27 else method2(v27)\n",
      "    v32: str = method3(\"__assert_eq\", v25, \"1\\n2\\n3\")\n",
      "    v36: None\n",
      "    closure1(v32, None)\n",
      "    v36 = None\n",
      "    if v29 == False:\n",
      "        raise Exception(v32)\n",
      "\n",
      "\n",
      "\n",
      "method0()\n",
      "\n",
      "\n",
      "\n",
      "# spiral.process_python\n",
      "\n",
      ".fsx output:\n",
      "{ name = __assert_eq; actual = 1\n",
      "2\n",
      "3; expected = 1\n",
      "2\n",
      "3 }\n"
     ]
    }
   ],
   "source": [
    "//// test\n",
    "///! fsharp\n",
    "////! cuda // AttributeError: 'str' object has no attribute 'item'\n",
    "///! rust\n",
    "///! typescript\n",
    "///! python\n",
    "//// print_code\n",
    "\n",
    ";[\n",
    "    \"1\"\n",
    "    \"2\"\n",
    "    \"3\"\n",
    "]\n",
    "|> fun x =>\n",
    "    inl code = (a x : _ int _) |> concat_array \"\\n\"\n",
    "    code\n",
    "    |> _assert_eq \"1\\n2\\n3\""
   ]
  },
  {
   "cell_type": "markdown",
   "metadata": {},
   "source": [
    "### concat_list"
   ]
  },
  {
   "cell_type": "code",
   "execution_count": null,
   "metadata": {
    "dotnet_interactive": {
     "language": "spiral"
    },
    "polyglot_notebook": {
     "kernelName": "spiral"
    }
   },
   "outputs": [],
   "source": [
    "inl concat_list separator input =\n",
    "    (input, { acc = \"\"; sep = \"\" })\n",
    "    ||> listm.foldBack fun (x : string) { acc sep } => {\n",
    "        acc = x ++# sep ++# acc\n",
    "        sep = separator\n",
    "    }\n",
    "    |> fun { acc } => acc"
   ]
  },
  {
   "cell_type": "code",
   "execution_count": null,
   "metadata": {
    "dotnet_interactive": {
     "language": "spiral"
    },
    "polyglot_notebook": {
     "kernelName": "spiral"
    }
   },
   "outputs": [
    {
     "data": {
      "text/plain": [
       "\n",
       ".py output (Python):\n",
       "{ name = __assert_eq; actual = 1\n",
       "2\n",
       "3; expected = 1\n",
       "2\n",
       "3 }\n",
       "\n",
       "\n",
       ".rs output:\n",
       "{ name = __assert_eq; actual = 1\n",
       "2\n",
       "3; expected = 1\n",
       "2\n",
       "3 }\n",
       "\n",
       "\n",
       ".ts output:\n",
       "{ name = __assert_eq; actual = 1\n",
       "2\n",
       "3; expected = 1\n",
       "2\n",
       "3 }\n",
       "\n",
       "\n",
       ".py output:\n",
       "{ name = __assert_eq; actual = 1\n",
       "2\n",
       "3; expected = 1\n",
       "2\n",
       "3 }\n",
       "\n",
       "\n",
       ".gleam output (Gleam):\n",
       "{ name = __assert_eq; actual = 1\n",
       "2\n",
       "3; expected = 1\n",
       "2\n",
       "3 }\n",
       "\n",
       "\n",
       "\n",
       "\n"
      ]
     },
     "metadata": {},
     "output_type": "display_data"
    },
    {
     "name": "stdout",
     "output_type": "stream",
     "text": [
      ".gleam (Gleam):\n",
      "import gleam/io\n",
      "pub type Mut0 { Mut0(l0 : String) }\n",
      "pub fn method1 (v0 :    Bool) -> Bool {\n",
      "    v0\n",
      "}\n",
      "pub fn method3 () -> String {\n",
      "    let v0 = \"\"\n",
      "    v0\n",
      "}\n",
      "pub fn method2 (v0 :    String, v1 :    String, v2 :    String) -> String {\n",
      "    let v3 = method3()\n",
      "    let v4 = Mut0(l0 :  v3)\n",
      "    let v5 = \"{ \"\n",
      "    let v6 = v5 \n",
      "    let v10 = v4.l0 \n",
      "    let v11 = v10 <> v6 \n",
      "    let v4 = Mut0(l0: v11)\n",
      "    let v23 = \"name\"\n",
      "    let v24 = v23 \n",
      "    let v28 = v4.l0 \n",
      "    let v29 = v28 <> v24 \n",
      "    let v4 = Mut0(l0: v29)\n",
      "    let v41 = \" = \"\n",
      "    let v42 = v41 \n",
      "    let v46 = v4.l0 \n",
      "    let v47 = v46 <> v42 \n",
      "    let v4 = Mut0(l0: v47)\n",
      "    let v59 = v0 \n",
      "    let v63 = v4.l0 \n",
      "    let v64 = v63 <> v59 \n",
      "    let v4 = Mut0(l0: v64)\n",
      "    let v76 = \"; \"\n",
      "    let v77 = v76 \n",
      "    let v81 = v4.l0 \n",
      "    let v82 = v81 <> v77 \n",
      "    let v4 = Mut0(l0: v82)\n",
      "    let v94 = \"actual\"\n",
      "    let v95 = v94 \n",
      "    let v99 = v4.l0 \n",
      "    let v100 = v99 <> v95 \n",
      "    let v4 = Mut0(l0: v100)\n",
      "    let v112 = v41 \n",
      "    let v116 = v4.l0 \n",
      "    let v117 = v116 <> v112 \n",
      "    let v4 = Mut0(l0: v117)\n",
      "    let v129 = v1 \n",
      "    let v133 = v4.l0 \n",
      "    let v134 = v133 <> v129 \n",
      "    let v4 = Mut0(l0: v134)\n",
      "    let v146 = v76 \n",
      "    let v150 = v4.l0 \n",
      "    let v151 = v150 <> v146 \n",
      "    let v4 = Mut0(l0: v151)\n",
      "    let v163 = \"expected\"\n",
      "    let v164 = v163 \n",
      "    let v168 = v4.l0 \n",
      "    let v169 = v168 <> v164 \n",
      "    let v4 = Mut0(l0: v169)\n",
      "    let v181 = v41 \n",
      "    let v185 = v4.l0 \n",
      "    let v186 = v185 <> v181 \n",
      "    let v4 = Mut0(l0: v186)\n",
      "    let v198 = v2 \n",
      "    let v202 = v4.l0 \n",
      "    let v203 = v202 <> v198 \n",
      "    let v4 = Mut0(l0: v203)\n",
      "    let v215 = \" }\"\n",
      "    let v216 = v215 \n",
      "    let v220 = v4.l0 \n",
      "    let v221 = v220 <> v216 \n",
      "    let v4 = Mut0(l0: v221)\n",
      "    let v233 = v4.l0 \n",
      "    v233\n",
      "}\n",
      "pub fn method0 () -> Nil   {\n",
      "    let v0 = \"3\"\n",
      "    let v1 = \"\"\n",
      "    let v2 = v0 <> v1 \n",
      "    let v6 = v2 <> v1 \n",
      "    let v10 = \"2\"\n",
      "    let v11 = \"\\n\"\n",
      "    let v12 = v10 <> v11 \n",
      "    let v16 = v12 <> v6 \n",
      "    let v20 = \"1\"\n",
      "    let v21 = v20 <> v11 \n",
      "    let v25 = v21 <> v16 \n",
      "    let v29 = v25 == \"1\\n2\\n3\"\n",
      "    let v31 =\n",
      "        case v29 {\n",
      "            True -> {\n",
      "                True\n",
      "            }\n",
      "            False -> {\n",
      "                method1(v29)\n",
      "            }\n",
      "        }\n",
      "    let v32 = \"__assert_eq\"\n",
      "    let v33 = \"1\\n2\\n3\"\n",
      "    let v34 = method2(v32, v25, v33)\n",
      "    io.println(v34)\n",
      "    let v40 = v31 == False\n",
      "    case v40 {\n",
      "        True -> {\n",
      "            panic as v34\n",
      "        }\n",
      "        False -> {\n",
      "        Nil\n",
      "        }\n",
      "    }\n",
      "}\n",
      "pub fn main () { method0()\n",
      " }\n",
      ".fsx:\n",
      "type Mut0 = {mutable l0 : string}\n",
      "let rec method1 (v0 : bool) : bool =\n",
      "    v0\n",
      "and method3 () : string =\n",
      "    let v0 : string = \"\"\n",
      "    v0\n",
      "and closure0 (v0 : Mut0, v1 : string) () : unit =\n",
      "    let v2 : string = v0.l0\n",
      "    let v4 : string = v2 + v1 \n",
      "    v0.l0 <- v4\n",
      "    ()\n",
      "and method2 (v0 : string, v1 : string, v2 : string) : string =\n",
      "    let v3 : string = method3()\n",
      "    let v4 : Mut0 = {l0 = v3} : Mut0\n",
      "    let v7 : string = \"{ \"\n",
      "    let v8 : string = $\"{v7}\"\n",
      "    let v16 : unit = ()\n",
      "    let v17 : (unit -> unit) = closure0(v4, v8)\n",
      "    let v18 : unit = (fun () -> v17 (); v16) ()\n",
      "    let v26 : string = \"name\"\n",
      "    let v27 : string = $\"{v26}\"\n",
      "    let v35 : unit = ()\n",
      "    let v36 : (unit -> unit) = closure0(v4, v27)\n",
      "    let v37 : unit = (fun () -> v36 (); v35) ()\n",
      "    let v45 : string = \" = \"\n",
      "    let v46 : string = $\"{v45}\"\n",
      "    let v54 : unit = ()\n",
      "    let v55 : (unit -> unit) = closure0(v4, v46)\n",
      "    let v56 : unit = (fun () -> v55 (); v54) ()\n",
      "    let v63 : string = $\"{v0}\"\n",
      "    let v71 : unit = ()\n",
      "    let v72 : (unit -> unit) = closure0(v4, v63)\n",
      "    let v73 : unit = (fun () -> v72 (); v71) ()\n",
      "    let v81 : string = \"; \"\n",
      "    let v82 : string = $\"{v81}\"\n",
      "    let v90 : unit = ()\n",
      "    let v91 : (unit -> unit) = closure0(v4, v82)\n",
      "    let v92 : unit = (fun () -> v91 (); v90) ()\n",
      "    let v100 : string = \"actual\"\n",
      "    let v101 : string = $\"{v100}\"\n",
      "    let v109 : unit = ()\n",
      "    let v110 : (unit -> unit) = closure0(v4, v101)\n",
      "    let v111 : unit = (fun () -> v110 (); v109) ()\n",
      "    let v118 : string = $\"{v45}\"\n",
      "    let v126 : unit = ()\n",
      "    let v127 : (unit -> unit) = closure0(v4, v118)\n",
      "    let v128 : unit = (fun () -> v127 (); v126) ()\n",
      "    let v135 : string = $\"{v1}\"\n",
      "    let v143 : unit = ()\n",
      "    let v144 : (unit -> unit) = closure0(v4, v135)\n",
      "    let v145 : unit = (fun () -> v144 (); v143) ()\n",
      "    let v152 : string = $\"{v81}\"\n",
      "    let v160 : unit = ()\n",
      "    let v161 : (unit -> unit) = closure0(v4, v152)\n",
      "    let v162 : unit = (fun () -> v161 (); v160) ()\n",
      "    let v170 : string = \"expected\"\n",
      "    let v171 : string = $\"{v170}\"\n",
      "    let v179 : unit = ()\n",
      "    let v180 : (unit -> unit) = closure0(v4, v171)\n",
      "    let v181 : unit = (fun () -> v180 (); v179) ()\n",
      "    let v188 : string = $\"{v45}\"\n",
      "    let v196 : unit = ()\n",
      "    let v197 : (unit -> unit) = closure0(v4, v188)\n",
      "    let v198 : unit = (fun () -> v197 (); v196) ()\n",
      "    let v205 : string = $\"{v2}\"\n",
      "    let v213 : unit = ()\n",
      "    let v214 : (unit -> unit) = closure0(v4, v205)\n",
      "    let v215 : unit = (fun () -> v214 (); v213) ()\n",
      "    let v223 : string = \" }\"\n",
      "    let v224 : string = $\"{v223}\"\n",
      "    let v232 : unit = ()\n",
      "    let v233 : (unit -> unit) = closure0(v4, v224)\n",
      "    let v234 : unit = (fun () -> v233 (); v232) ()\n",
      "    let v240 : string = v4.l0\n",
      "    v240\n",
      "and closure1 (v0 : string) () : unit =\n",
      "    let v1 : (string -> unit) = System.Console.WriteLine\n",
      "    v1 v0\n",
      "and method0 () : unit =\n",
      "    let v3 : string = \"3\"\n",
      "    let v4 : string = \"\"\n",
      "    let v5 : string = v3 + v4 \n",
      "    let v9 : string = v5 + v4 \n",
      "    let v15 : string = \"2\"\n",
      "    let v16 : string = \"\\n\"\n",
      "    let v17 : string = v15 + v16 \n",
      "    let v21 : string = v17 + v9 \n",
      "    let v26 : string = \"1\"\n",
      "    let v27 : string = v26 + v16 \n",
      "    let v31 : string = v27 + v21 \n",
      "    let v34 : bool = v31 = \"1\\n2\\n3\"\n",
      "    let v36 : bool =\n",
      "        if v34 then\n",
      "            true\n",
      "        else\n",
      "            method1(v34)\n",
      "    let v37 : string = \"__assert_eq\"\n",
      "    let v38 : string = \"1\\n2\\n3\"\n",
      "    let v39 : string = method2(v37, v31, v38)\n",
      "    let v41 : unit = ()\n",
      "    let v42 : (unit -> unit) = closure1(v39)\n",
      "    let v43 : unit = (fun () -> v42 (); v41) ()\n",
      "    let v45 : bool = v36 = false\n",
      "    if v45 then\n",
      "        failwith<unit> v39\n",
      "method0()\n",
      "\n",
      "\n",
      ".rs:\n",
      "#![allow(dead_code)]\n",
      "#![allow(non_camel_case_types)]\n",
      "#![allow(non_snake_case)]\n",
      "#![allow(non_upper_case_globals)]\n",
      "#![allow(unreachable_code)]\n",
      "#![allow(unused_attributes)]\n",
      "#![allow(unused_imports)]\n",
      "#![allow(unused_macros)]\n",
      "#![allow(unused_parens)]\n",
      "#![allow(unused_variables)]\n",
      "#![allow(unused_assignments)]\n",
      "mod module_6ff740fe {\n",
      "    pub mod Spiral {\n",
      "        use super::*;\n",
      "        use fable_library_rust::Native_::LrcPtr;\n",
      "        use fable_library_rust::Native_::MutCell;\n",
      "        use fable_library_rust::Native_::on_startup;\n",
      "        use fable_library_rust::String_::append;\n",
      "        use fable_library_rust::String_::printfn;\n",
      "        use fable_library_rust::String_::string;\n",
      "        #[derive(Clone, Debug, Hash, PartialEq, PartialOrd)]\n",
      "        pub struct Mut0 {\n",
      "            pub l0: MutCell<string>,\n",
      "        }\n",
      "        impl core::fmt::Display for Mut0 {\n",
      "            fn fmt(&self, f: &mut core::fmt::Formatter) -> core::fmt::Result {\n",
      "                write!(f, \"{}\", core::any::type_name::<Self>())\n",
      "            }\n",
      "        }\n",
      "        pub fn method1(v0: bool) -> bool {\n",
      "            v0\n",
      "        }\n",
      "        pub fn method3() -> string {\n",
      "            string(\"\")\n",
      "        }\n",
      "        pub fn closure0(v0: LrcPtr<Spiral::Mut0>, v1: string, unitVar: ()) {\n",
      "            let v4: string = append((v0.l0.get().clone()), (v1));\n",
      "            v0.l0.set(v4);\n",
      "            ()\n",
      "        }\n",
      "        pub fn method2(v0: string, v1: string, v2: string) -> string {\n",
      "            let v4: LrcPtr<Spiral::Mut0> = LrcPtr::new(Spiral::Mut0 {\n",
      "                l0: MutCell::new(Spiral::method3()),\n",
      "            });\n",
      "            let v18: () = {\n",
      "                Spiral::closure0(v4.clone(), string(\"{ \"), ());\n",
      "                ()\n",
      "            };\n",
      "            let v37: () = {\n",
      "                Spiral::closure0(v4.clone(), string(\"name\"), ());\n",
      "                ()\n",
      "            };\n",
      "            let v56: () = {\n",
      "                Spiral::closure0(v4.clone(), string(\" = \"), ());\n",
      "                ()\n",
      "            };\n",
      "            let v73: () = {\n",
      "                Spiral::closure0(v4.clone(), v0, ());\n",
      "                ()\n",
      "            };\n",
      "            let v92: () = {\n",
      "                Spiral::closure0(v4.clone(), string(\"; \"), ());\n",
      "                ()\n",
      "            };\n",
      "            let v111: () = {\n",
      "                Spiral::closure0(v4.clone(), string(\"actual\"), ());\n",
      "                ()\n",
      "            };\n",
      "            let v128: () = {\n",
      "                Spiral::closure0(v4.clone(), string(\" = \"), ());\n",
      "                ()\n",
      "            };\n",
      "            let v145: () = {\n",
      "                Spiral::closure0(v4.clone(), v1, ());\n",
      "                ()\n",
      "            };\n",
      "            let v162: () = {\n",
      "                Spiral::closure0(v4.clone(), string(\"; \"), ());\n",
      "                ()\n",
      "            };\n",
      "            let v181: () = {\n",
      "                Spiral::closure0(v4.clone(), string(\"expected\"), ());\n",
      "                ()\n",
      "            };\n",
      "            let v198: () = {\n",
      "                Spiral::closure0(v4.clone(), string(\" = \"), ());\n",
      "                ()\n",
      "            };\n",
      "            let v215: () = {\n",
      "                Spiral::closure0(v4.clone(), v2, ());\n",
      "                ()\n",
      "            };\n",
      "            let v234: () = {\n",
      "                Spiral::closure0(v4.clone(), string(\" }\"), ());\n",
      "                ()\n",
      "            };\n",
      "            v4.l0.get().clone()\n",
      "        }\n",
      "        pub fn closure1(v0: string, unitVar: ()) {\n",
      "            printfn!(\"{0}\", v0);\n",
      "        }\n",
      "        pub fn method0() {\n",
      "            let v31: string = string(\"1\\n2\\n3\");\n",
      "            let v34: bool = (v31.clone()) == string(\"1\\n2\\n3\");\n",
      "            let v36: bool = if v34 { true } else { Spiral::method1(v34) };\n",
      "            let v39: string = Spiral::method2(string(\"__assert_eq\"), v31, string(\"1\\n2\\n3\"));\n",
      "            let v43: () = {\n",
      "                Spiral::closure1(v39.clone(), ());\n",
      "                ()\n",
      "            };\n",
      "            if (v36) == false {\n",
      "                panic!(\"{}\", v39,);\n",
      "            }\n",
      "        }\n",
      "        // on_startup!(Spiral::method0());\n",
      "    }\n",
      "}\n",
      "pub use module_6ff740fe::*;\n",
      "\n",
      "pub fn main() -> Result<(), String> {\n",
      "    Ok(Spiral::method0())\n",
      "}\n",
      "\n",
      ".ts:\n",
      "import { Record } from \"./fable_modules/fable-library-ts.5.0.0-alpha.9/Types.js\";\n",
      "import { IComparable, IEquatable } from \"./fable_modules/fable-library-ts.5.0.0-alpha.9/Util.js\";\n",
      "import { record_type, string_type, TypeInfo } from \"./fable_modules/fable-library-ts.5.0.0-alpha.9/Reflection.js\";\n",
      "\n",
      "export class Mut0 extends Record implements IEquatable<Mut0>, IComparable<Mut0> {\n",
      "    l0: string;\n",
      "    constructor(l0: string) {\n",
      "        super();\n",
      "        this.l0 = l0;\n",
      "    }\n",
      "}\n",
      "\n",
      "export function Mut0_$reflection(): TypeInfo {\n",
      "    return record_type(\"Spiral.Mut0\", [], Mut0, () => [[\"l0\", string_type]]);\n",
      "}\n",
      "\n",
      "export function method1(v0: boolean): boolean {\n",
      "    return v0;\n",
      "}\n",
      "\n",
      "export function method3(): string {\n",
      "    return \"\";\n",
      "}\n",
      "\n",
      "export function closure0(v0: Mut0, v1: string, unitVar: void): void {\n",
      "    const v4: string = v0.l0 + v1;\n",
      "    v0.l0 = v4;\n",
      "}\n",
      "\n",
      "export function method2(v0: string, v1: string, v2: string): string {\n",
      "    const v4: Mut0 = new Mut0(method3());\n",
      "    let v18: any;\n",
      "    closure0(v4, \"{ \", undefined);\n",
      "    v18 = undefined;\n",
      "    let v37: any;\n",
      "    closure0(v4, \"name\", undefined);\n",
      "    v37 = undefined;\n",
      "    let v56: any;\n",
      "    closure0(v4, \" = \", undefined);\n",
      "    v56 = undefined;\n",
      "    let v73: any;\n",
      "    closure0(v4, v0, undefined);\n",
      "    v73 = undefined;\n",
      "    let v92: any;\n",
      "    closure0(v4, \"; \", undefined);\n",
      "    v92 = undefined;\n",
      "    let v111: any;\n",
      "    closure0(v4, \"actual\", undefined);\n",
      "    v111 = undefined;\n",
      "    let v128: any;\n",
      "    closure0(v4, \" = \", undefined);\n",
      "    v128 = undefined;\n",
      "    let v145: any;\n",
      "    closure0(v4, v1, undefined);\n",
      "    v145 = undefined;\n",
      "    let v162: any;\n",
      "    closure0(v4, \"; \", undefined);\n",
      "    v162 = undefined;\n",
      "    let v181: any;\n",
      "    closure0(v4, \"expected\", undefined);\n",
      "    v181 = undefined;\n",
      "    let v198: any;\n",
      "    closure0(v4, \" = \", undefined);\n",
      "    v198 = undefined;\n",
      "    let v215: any;\n",
      "    closure0(v4, v2, undefined);\n",
      "    v215 = undefined;\n",
      "    let v234: any;\n",
      "    closure0(v4, \" }\", undefined);\n",
      "    v234 = undefined;\n",
      "    return v4.l0;\n",
      "}\n",
      "\n",
      "export function closure1(v0: string, unitVar: void): void {\n",
      "    console.log(v0);\n",
      "}\n",
      "\n",
      "export function method0(): void {\n",
      "    const v31 = \"1\\n2\\n3\";\n",
      "    const v34: boolean = v31 === \"1\\n2\\n3\";\n",
      "    const v36: boolean = v34 ? true : method1(v34);\n",
      "    const v39: string = method2(\"__assert_eq\", v31, \"1\\n2\\n3\");\n",
      "    let v43: any;\n",
      "    closure1(v39, undefined);\n",
      "    v43 = undefined;\n",
      "    if (v36 === false) {\n",
      "        throw new Error(v39);\n",
      "    }\n",
      "}\n",
      "\n",
      "method0();\n",
      "\n",
      "\n",
      "\n",
      "// spiral.process_typescript\n",
      "\n",
      ".py:\n",
      "from __future__ import annotations\n",
      "from dataclasses import dataclass\n",
      "from fable_modules.fable_library.reflection import (TypeInfo, string_type, record_type)\n",
      "from fable_modules.fable_library.types import Record\n",
      "\n",
      "def _expr0() -> TypeInfo:\n",
      "    return record_type(\"Spiral.Mut0\", [], Mut0, lambda: [(\"l0\", string_type)])\n",
      "\n",
      "\n",
      "@dataclass(eq = False, repr = False, slots = True)\n",
      "class Mut0(Record):\n",
      "    l0: str\n",
      "\n",
      "Mut0_reflection = _expr0\n",
      "\n",
      "def method1(v0: bool) -> bool:\n",
      "    return v0\n",
      "\n",
      "\n",
      "def method3(__unit: None=None) -> str:\n",
      "    return \"\"\n",
      "\n",
      "\n",
      "def closure0(v0: Mut0, v1: str, unit_var: None) -> None:\n",
      "    v4: str = v0.l0 + v1\n",
      "    v0.l0 = v4\n",
      "\n",
      "\n",
      "def method2(v0: str, v1: str, v2: str) -> str:\n",
      "    v4: Mut0 = Mut0(method3())\n",
      "    v18: None\n",
      "    closure0(v4, \"{ \", None)\n",
      "    v18 = None\n",
      "    v37: None\n",
      "    closure0(v4, \"name\", None)\n",
      "    v37 = None\n",
      "    v56: None\n",
      "    closure0(v4, \" = \", None)\n",
      "    v56 = None\n",
      "    v73: None\n",
      "    closure0(v4, v0, None)\n",
      "    v73 = None\n",
      "    v92: None\n",
      "    closure0(v4, \"; \", None)\n",
      "    v92 = None\n",
      "    v111: None\n",
      "    closure0(v4, \"actual\", None)\n",
      "    v111 = None\n",
      "    v128: None\n",
      "    closure0(v4, \" = \", None)\n",
      "    v128 = None\n",
      "    v145: None\n",
      "    closure0(v4, v1, None)\n",
      "    v145 = None\n",
      "    v162: None\n",
      "    closure0(v4, \"; \", None)\n",
      "    v162 = None\n",
      "    v181: None\n",
      "    closure0(v4, \"expected\", None)\n",
      "    v181 = None\n",
      "    v198: None\n",
      "    closure0(v4, \" = \", None)\n",
      "    v198 = None\n",
      "    v215: None\n",
      "    closure0(v4, v2, None)\n",
      "    v215 = None\n",
      "    v234: None\n",
      "    closure0(v4, \" }\", None)\n",
      "    v234 = None\n",
      "    return v4.l0\n",
      "\n",
      "\n",
      "def closure1(v0: str, unit_var: None) -> None:\n",
      "    print(v0)\n",
      "\n",
      "\n",
      "def method0(__unit: None=None) -> None:\n",
      "    v31: str = \"1\\n2\\n3\"\n",
      "    v34: bool = v31 == \"1\\n2\\n3\"\n",
      "    v36: bool = True if v34 else method1(v34)\n",
      "    v39: str = method2(\"__assert_eq\", v31, \"1\\n2\\n3\")\n",
      "    v43: None\n",
      "    closure1(v39, None)\n",
      "    v43 = None\n",
      "    if v36 == False:\n",
      "        raise Exception(v39)\n",
      "\n",
      "\n",
      "\n",
      "method0()\n",
      "\n",
      "\n",
      "\n",
      "# spiral.process_python\n",
      "\n",
      ".py (Python):\n",
      "kernels_main = r\"\"\"\n",
      "\"\"\"\n",
      "from main_auto import *\n",
      "kernels = kernels_aux + kernels_main\n",
      "import cupy as cp\n",
      "import numpy as np\n",
      "from dataclasses import dataclass\n",
      "from typing import NamedTuple, Union, Callable, Tuple\n",
      "i8 = int; i16 = int; i32 = int; i64 = int; u8 = int; u16 = int; u32 = int; u64 = int; f32 = float; f64 = float; char = str; string = str\n",
      "cuda = False\n",
      "\n",
      "\n",
      "# fwd_dcls\n",
      "# types\n",
      "@dataclass\n",
      "class Mut0:\n",
      "    v0 : string\n",
      "# functions\n",
      "def method1(v0 : bool) -> bool:\n",
      "    return v0\n",
      "def method3() -> string:\n",
      "    v0 = \"\"\n",
      "    return v0\n",
      "def method2(v0 : string, v1 : string, v2 : string) -> string:\n",
      "    v3 = method3()\n",
      "    v4 = Mut0(v3)\n",
      "    del v3\n",
      "    v9 = \"{ \"\n",
      "    v10 = f\"{v9}\"\n",
      "    del v9\n",
      "    v20 = v4.v0\n",
      "    v23 = v20 + v10 \n",
      "    del v10, v20\n",
      "    v4.v0 = v23\n",
      "    del v23\n",
      "    v29 = \"name\"\n",
      "    v30 = f\"{v29}\"\n",
      "    del v29\n",
      "    v40 = v4.v0\n",
      "    v43 = v40 + v30 \n",
      "    del v30, v40\n",
      "    v4.v0 = v43\n",
      "    del v43\n",
      "    v49 = \" = \"\n",
      "    v50 = f\"{v49}\"\n",
      "    v60 = v4.v0\n",
      "    v63 = v60 + v50 \n",
      "    del v50, v60\n",
      "    v4.v0 = v63\n",
      "    del v63\n",
      "    v67 = f\"{v0}\"\n",
      "    del v0\n",
      "    v77 = v4.v0\n",
      "    v80 = v77 + v67 \n",
      "    del v67, v77\n",
      "    v4.v0 = v80\n",
      "    del v80\n",
      "    v86 = \"; \"\n",
      "    v87 = f\"{v86}\"\n",
      "    v97 = v4.v0\n",
      "    v100 = v97 + v87 \n",
      "    del v87, v97\n",
      "    v4.v0 = v100\n",
      "    del v100\n",
      "    v106 = \"actual\"\n",
      "    v107 = f\"{v106}\"\n",
      "    del v106\n",
      "    v117 = v4.v0\n",
      "    v120 = v117 + v107 \n",
      "    del v107, v117\n",
      "    v4.v0 = v120\n",
      "    del v120\n",
      "    v124 = f\"{v49}\"\n",
      "    v134 = v4.v0\n",
      "    v137 = v134 + v124 \n",
      "    del v124, v134\n",
      "    v4.v0 = v137\n",
      "    del v137\n",
      "    v141 = f\"{v1}\"\n",
      "    del v1\n",
      "    v151 = v4.v0\n",
      "    v154 = v151 + v141 \n",
      "    del v141, v151\n",
      "    v4.v0 = v154\n",
      "    del v154\n",
      "    v158 = f\"{v86}\"\n",
      "    del v86\n",
      "    v168 = v4.v0\n",
      "    v171 = v168 + v158 \n",
      "    del v158, v168\n",
      "    v4.v0 = v171\n",
      "    del v171\n",
      "    v177 = \"expected\"\n",
      "    v178 = f\"{v177}\"\n",
      "    del v177\n",
      "    v188 = v4.v0\n",
      "    v191 = v188 + v178 \n",
      "    del v178, v188\n",
      "    v4.v0 = v191\n",
      "    del v191\n",
      "    v195 = f\"{v49}\"\n",
      "    del v49\n",
      "    v205 = v4.v0\n",
      "    v208 = v205 + v195 \n",
      "    del v195, v205\n",
      "    v4.v0 = v208\n",
      "    del v208\n",
      "    v212 = f\"{v2}\"\n",
      "    del v2\n",
      "    v222 = v4.v0\n",
      "    v225 = v222 + v212 \n",
      "    del v212, v222\n",
      "    v4.v0 = v225\n",
      "    del v225\n",
      "    v231 = \" }\"\n",
      "    v232 = f\"{v231}\"\n",
      "    del v231\n",
      "    v242 = v4.v0\n",
      "    v245 = v242 + v232 \n",
      "    del v232, v242\n",
      "    v4.v0 = v245\n",
      "    del v245\n",
      "    v247 = v4.v0\n",
      "    del v4\n",
      "    return v247\n",
      "def method0() -> None:\n",
      "    v6 = \"3\"\n",
      "    v7 = \"\"\n",
      "    v8 = v6 + v7 \n",
      "    del v6\n",
      "    v12 = v8 + v7 \n",
      "    del v7, v8\n",
      "    v20 = \"2\"\n",
      "    v21 = \"\\n\"\n",
      "    v22 = v20 + v21 \n",
      "    del v20\n",
      "    v26 = v22 + v12 \n",
      "    del v12, v22\n",
      "    v32 = \"1\"\n",
      "    v33 = v32 + v21 \n",
      "    del v21, v32\n",
      "    v37 = v33 + v26 \n",
      "    del v26, v33\n",
      "    v39 = v37 == \"1\\n2\\n3\"\n",
      "    if v39:\n",
      "        v41 = True\n",
      "    else:\n",
      "        v41 = method1(v39)\n",
      "    del v39\n",
      "    v42 = \"__assert_eq\"\n",
      "    v43 = \"1\\n2\\n3\"\n",
      "    v44 = method2(v42, v37, v43)\n",
      "    del v37, v42, v43\n",
      "    print(v44)\n",
      "    v50 = v41 == False\n",
      "    del v41\n",
      "    if v50:\n",
      "        del v50\n",
      "        raise Exception(v44)\n",
      "    else:\n",
      "        del v44, v50\n",
      "        return \n",
      "# main_defs\n",
      "def main_body():\n",
      "    return method0()\n",
      "\n",
      "def main():\n",
      "    r = main_body()\n",
      "    if cuda: cp.cuda.get_current_stream().synchronize() # This line is here so the `__trap()` calls on the kernel aren't missed.\n",
      "    return r\n",
      "\n",
      "if __name__ == '__main__': result = main(); None if result is None else print(result)\n",
      "\n",
      ".fsx output:\n",
      "{ name = __assert_eq; actual = 1\n",
      "2\n",
      "3; expected = 1\n",
      "2\n",
      "3 }\n"
     ]
    }
   ],
   "source": [
    "//// test\n",
    "///! gleam\n",
    "///! fsharp\n",
    "///! cuda\n",
    "///! rust\n",
    "///! typescript\n",
    "///! python\n",
    "//// print_code\n",
    "\n",
    "[\n",
    "    \"1\"\n",
    "    \"2\"\n",
    "    \"3\"\n",
    "]\n",
    "|> fun x =>\n",
    "    inl code = (x : _) |> concat_list \"\\n\"\n",
    "    code\n",
    "    |> _assert_eq \"1\\n2\\n3\""
   ]
  },
  {
   "cell_type": "markdown",
   "metadata": {},
   "source": [
    "### ellipsis"
   ]
  },
  {
   "cell_type": "code",
   "execution_count": null,
   "metadata": {
    "dotnet_interactive": {
     "language": "spiral"
    },
    "polyglot_notebook": {
     "kernelName": "spiral"
    }
   },
   "outputs": [],
   "source": [
    "inl ellipsis (max : i32) (s : string) =\n",
    "    if sm.length s <= max\n",
    "    then s\n",
    "    else s |> slice 0 (max - 1) |> append \"...\""
   ]
  },
  {
   "cell_type": "code",
   "execution_count": null,
   "metadata": {
    "dotnet_interactive": {
     "language": "spiral"
    },
    "polyglot_notebook": {
     "kernelName": "spiral"
    }
   },
   "outputs": [
    {
     "data": {
      "text/plain": [
       "\n",
       ".py output (Python):\n",
       "{ name = __assert_eq; actual = 12...; expected = 12... }\n",
       "{ name = __assert_eq; actual = 1234...; expected = 1234... }\n",
       "\n",
       "\n",
       ".rs output:\n",
       "{ name = __assert_eq; actual = 12...; expected = 12... }\n",
       "{ name = __assert_eq; actual = 1234...; expected = 1234... }\n",
       "\n",
       "\n",
       ".ts output:\n",
       "{ name = __assert_eq; actual = 12...; expected = 12... }\n",
       "{ name = __assert_eq; actual = 1234...; expected = 1234... }\n",
       "\n",
       "\n",
       ".py output:\n",
       "{ name = __assert_eq; actual = 12...; expected = 12... }\n",
       "{ name = __assert_eq; actual = 1234...; expected = 1234... }\n",
       "\n",
       "\n",
       ".gleam output (Gleam):\n",
       "{ name = __assert_eq; actual = 12...; expected = 12... }\n",
       "{ name = __assert_eq; actual = 1234...; expected = 1234... }\n",
       "\n",
       "\n"
      ]
     },
     "metadata": {},
     "output_type": "display_data"
    },
    {
     "name": "stdout",
     "output_type": "stream",
     "text": [
      ".fsx output:\n",
      "{ name = __assert_eq; actual = 12...; expected = 12... }\n",
      "{ name = __assert_eq; actual = 1234...; expected = 1234... }\n"
     ]
    }
   ],
   "source": [
    "//// test\n",
    "///! gleam\n",
    "///! fsharp\n",
    "///! cuda\n",
    "///! rust\n",
    "///! typescript\n",
    "///! python\n",
    "\n",
    "\"12345\"\n",
    "|> ellipsis 2\n",
    "|> _assert_eq \"12...\"\n",
    "\n",
    "\"12345\"\n",
    "|> ellipsis 4\n",
    "|> _assert_eq \"1234...\""
   ]
  },
  {
   "cell_type": "markdown",
   "metadata": {},
   "source": [
    "## fsharp"
   ]
  },
  {
   "cell_type": "markdown",
   "metadata": {},
   "source": [
    "### last_index_of"
   ]
  },
  {
   "cell_type": "code",
   "execution_count": null,
   "metadata": {
    "dotnet_interactive": {
     "language": "spiral"
    },
    "polyglot_notebook": {
     "kernelName": "spiral"
    }
   },
   "outputs": [],
   "source": [
    "inl last_index_of (search : string) (s : string) : i32 =\n",
    "    $'!s.LastIndexOf !search '"
   ]
  },
  {
   "cell_type": "markdown",
   "metadata": {},
   "source": [
    "### index_of"
   ]
  },
  {
   "cell_type": "code",
   "execution_count": null,
   "metadata": {
    "dotnet_interactive": {
     "language": "spiral"
    },
    "polyglot_notebook": {
     "kernelName": "spiral"
    }
   },
   "outputs": [],
   "source": [
    "inl index_of (search : string) (s : string) : int =\n",
    "    backend_switch {\n",
    "        Gleam = fun () =>\n",
    "            global \"import gleam/list\"\n",
    "            global \"import gleam/option\"\n",
    "            global \"import gleam/string\"\n",
    "            inl g : list string =\n",
    "                $'!s |> string.to_graphemes'\n",
    "            $'let search = !search ' : ()\n",
    "            $'let x = !g |> list.index_fold (option.None, fn(acc, item, index) {' : ()\n",
    "            $'  case acc {' : ()\n",
    "            $'    option.None if item == search -> option.Some(index)' : ()\n",
    "            $'    _ -> acc' : ()\n",
    "            $'  }' : ()\n",
    "            $'})' : ()\n",
    "            $'x |> option.unwrap(-1)' : int\n",
    "        Fsharp = fun () => $'!s.IndexOf !search ' : int\n",
    "        Python = fun () => $'!s.find(!search)' : int\n",
    "    }"
   ]
  },
  {
   "cell_type": "code",
   "execution_count": null,
   "metadata": {
    "dotnet_interactive": {
     "language": "spiral"
    },
    "polyglot_notebook": {
     "kernelName": "spiral"
    }
   },
   "outputs": [
    {
     "data": {
      "text/plain": [
       ".py output (Python):\n",
       "{ name = __assert_eq; actual = 1; expected = 1 }\n",
       "\n",
       ".rs output:\n",
       "{ name = __assert_eq; actual = 1; expected = 1 }\n",
       "\n",
       ".ts output:\n",
       "{ name = __assert_eq; actual = 1; expected = 1 }\n",
       "\n",
       ".py output:\n",
       "{ name = __assert_eq; actual = 1; expected = 1 }\n",
       "\n",
       ".gleam output (Gleam):\n",
       "{ name = __assert_eq; actual = 1; expected = 1 }\n",
       "\n"
      ]
     },
     "metadata": {},
     "output_type": "display_data"
    },
    {
     "name": "stdout",
     "output_type": "stream",
     "text": [
      ".fsx output:\n",
      "{ name = __assert_eq; actual = 1; expected = 1 }\n"
     ]
    }
   ],
   "source": [
    "//// test\n",
    "///! gleam\n",
    "///! fsharp\n",
    "///! cuda\n",
    "///! rust\n",
    "///! typescript\n",
    "///! python\n",
    "\n",
    "\"123\"\n",
    "|> index_of \"2\"\n",
    "|> _assert_eq 1"
   ]
  },
  {
   "cell_type": "markdown",
   "metadata": {},
   "source": [
    "### replicate"
   ]
  },
  {
   "cell_type": "code",
   "execution_count": null,
   "metadata": {
    "dotnet_interactive": {
     "language": "spiral"
    },
    "polyglot_notebook": {
     "kernelName": "spiral"
    }
   },
   "outputs": [],
   "source": [
    "inl replicate (n : int) (s : string) : string =\n",
    "    inl rec body i acc =\n",
    "        if i >= n\n",
    "        then acc\n",
    "        else loop (i + 1) (acc ++# s)\n",
    "    and inl loop i = join_body_unit body n i\n",
    "    loop 0 \"\""
   ]
  },
  {
   "cell_type": "code",
   "execution_count": null,
   "metadata": {
    "dotnet_interactive": {
     "language": "spiral"
    },
    "polyglot_notebook": {
     "kernelName": "spiral"
    }
   },
   "outputs": [
    {
     "name": "stdout",
     "output_type": "stream",
     "text": [
      "{ name = __assert_eq; actual = 121212; expected = 121212 }\n"
     ]
    }
   ],
   "source": [
    "//// test\n",
    "////! gleam\n",
    "///! fsharp\n",
    "\n",
    "\"12\"\n",
    "|> replicate (join 3)\n",
    "|> _assert_eq \"121212\""
   ]
  },
  {
   "cell_type": "code",
   "execution_count": null,
   "metadata": {
    "dotnet_interactive": {
     "language": "spiral"
    },
    "polyglot_notebook": {
     "kernelName": "spiral"
    }
   },
   "outputs": [
    {
     "data": {
      "text/plain": [
       ".gleam output (Gleam):\n",
       "{ name = __assert_eq; actual = 121212; expected = 121212 }\n",
       "\n",
       "\n",
       "\n"
      ]
     },
     "metadata": {},
     "output_type": "display_data"
    },
    {
     "name": "stdout",
     "output_type": "stream",
     "text": [
      ".gleam (Gleam):\n",
      "import gleam/io\n",
      "pub type Mut0 { Mut0(l0 : String) }\n",
      "pub fn method1 (v0 :    Bool) -> Bool {\n",
      "    v0\n",
      "}\n",
      "pub fn method3 () -> String {\n",
      "    let v0 = \"\"\n",
      "    v0\n",
      "}\n",
      "pub fn method2 (v0 :    String, v1 :    String, v2 :    String) -> String {\n",
      "    let v3 = method3()\n",
      "    let v4 = Mut0(l0 :  v3)\n",
      "    let v5 = \"{ \"\n",
      "    let v6 = v5 \n",
      "    let v10 = v4.l0 \n",
      "    let v11 = v10 <> v6 \n",
      "    let v4 = Mut0(l0: v11)\n",
      "    let v23 = \"name\"\n",
      "    let v24 = v23 \n",
      "    let v28 = v4.l0 \n",
      "    let v29 = v28 <> v24 \n",
      "    let v4 = Mut0(l0: v29)\n",
      "    let v41 = \" = \"\n",
      "    let v42 = v41 \n",
      "    let v46 = v4.l0 \n",
      "    let v47 = v46 <> v42 \n",
      "    let v4 = Mut0(l0: v47)\n",
      "    let v59 = v0 \n",
      "    let v63 = v4.l0 \n",
      "    let v64 = v63 <> v59 \n",
      "    let v4 = Mut0(l0: v64)\n",
      "    let v76 = \"; \"\n",
      "    let v77 = v76 \n",
      "    let v81 = v4.l0 \n",
      "    let v82 = v81 <> v77 \n",
      "    let v4 = Mut0(l0: v82)\n",
      "    let v94 = \"actual\"\n",
      "    let v95 = v94 \n",
      "    let v99 = v4.l0 \n",
      "    let v100 = v99 <> v95 \n",
      "    let v4 = Mut0(l0: v100)\n",
      "    let v112 = v41 \n",
      "    let v116 = v4.l0 \n",
      "    let v117 = v116 <> v112 \n",
      "    let v4 = Mut0(l0: v117)\n",
      "    let v129 = v1 \n",
      "    let v133 = v4.l0 \n",
      "    let v134 = v133 <> v129 \n",
      "    let v4 = Mut0(l0: v134)\n",
      "    let v146 = v76 \n",
      "    let v150 = v4.l0 \n",
      "    let v151 = v150 <> v146 \n",
      "    let v4 = Mut0(l0: v151)\n",
      "    let v163 = \"expected\"\n",
      "    let v164 = v163 \n",
      "    let v168 = v4.l0 \n",
      "    let v169 = v168 <> v164 \n",
      "    let v4 = Mut0(l0: v169)\n",
      "    let v181 = v41 \n",
      "    let v185 = v4.l0 \n",
      "    let v186 = v185 <> v181 \n",
      "    let v4 = Mut0(l0: v186)\n",
      "    let v198 = v2 \n",
      "    let v202 = v4.l0 \n",
      "    let v203 = v202 <> v198 \n",
      "    let v4 = Mut0(l0: v203)\n",
      "    let v215 = \" }\"\n",
      "    let v216 = v215 \n",
      "    let v220 = v4.l0 \n",
      "    let v221 = v220 <> v216 \n",
      "    let v4 = Mut0(l0: v221)\n",
      "    let v233 = v4.l0 \n",
      "    v233\n",
      "}\n",
      "pub fn method0 () -> Nil   {\n",
      "    let v0 = \"\"\n",
      "    let v1 = \"12\"\n",
      "    let v2 = v0 <> v1 \n",
      "    let v6 = v2 <> v1 \n",
      "    let v10 = v6 <> v1 \n",
      "    let v14 = v10 == \"121212\"\n",
      "    let v16 =\n",
      "        case v14 {\n",
      "            True -> {\n",
      "                True\n",
      "            }\n",
      "            False -> {\n",
      "                method1(v14)\n",
      "            }\n",
      "        }\n",
      "    let v17 = \"__assert_eq\"\n",
      "    let v18 = \"121212\"\n",
      "    let v19 = method2(v17, v10, v18)\n",
      "    io.println(v19)\n",
      "    let v25 = v16 == False\n",
      "    case v25 {\n",
      "        True -> {\n",
      "            panic as v19\n",
      "        }\n",
      "        False -> {\n",
      "        Nil\n",
      "        }\n",
      "    }\n",
      "}\n",
      "pub fn main () { method0()\n",
      " }\n",
      ".fsx:\n",
      "type Mut0 = {mutable l0 : string}\n",
      "let rec method1 (v0 : bool) : bool =\n",
      "    v0\n",
      "and method3 () : string =\n",
      "    let v0 : string = \"\"\n",
      "    v0\n",
      "and closure0 (v0 : Mut0, v1 : string) () : unit =\n",
      "    let v2 : string = v0.l0\n",
      "    let v4 : string = v2 + v1 \n",
      "    v0.l0 <- v4\n",
      "    ()\n",
      "and method2 (v0 : string, v1 : string, v2 : string) : string =\n",
      "    let v3 : string = method3()\n",
      "    let v4 : Mut0 = {l0 = v3} : Mut0\n",
      "    let v7 : string = \"{ \"\n",
      "    let v8 : string = $\"{v7}\"\n",
      "    let v16 : unit = ()\n",
      "    let v17 : (unit -> unit) = closure0(v4, v8)\n",
      "    let v18 : unit = (fun () -> v17 (); v16) ()\n",
      "    let v26 : string = \"name\"\n",
      "    let v27 : string = $\"{v26}\"\n",
      "    let v35 : unit = ()\n",
      "    let v36 : (unit -> unit) = closure0(v4, v27)\n",
      "    let v37 : unit = (fun () -> v36 (); v35) ()\n",
      "    let v45 : string = \" = \"\n",
      "    let v46 : string = $\"{v45}\"\n",
      "    let v54 : unit = ()\n",
      "    let v55 : (unit -> unit) = closure0(v4, v46)\n",
      "    let v56 : unit = (fun () -> v55 (); v54) ()\n",
      "    let v63 : string = $\"{v0}\"\n",
      "    let v71 : unit = ()\n",
      "    let v72 : (unit -> unit) = closure0(v4, v63)\n",
      "    let v73 : unit = (fun () -> v72 (); v71) ()\n",
      "    let v81 : string = \"; \"\n",
      "    let v82 : string = $\"{v81}\"\n",
      "    let v90 : unit = ()\n",
      "    let v91 : (unit -> unit) = closure0(v4, v82)\n",
      "    let v92 : unit = (fun () -> v91 (); v90) ()\n",
      "    let v100 : string = \"actual\"\n",
      "    let v101 : string = $\"{v100}\"\n",
      "    let v109 : unit = ()\n",
      "    let v110 : (unit -> unit) = closure0(v4, v101)\n",
      "    let v111 : unit = (fun () -> v110 (); v109) ()\n",
      "    let v118 : string = $\"{v45}\"\n",
      "    let v126 : unit = ()\n",
      "    let v127 : (unit -> unit) = closure0(v4, v118)\n",
      "    let v128 : unit = (fun () -> v127 (); v126) ()\n",
      "    let v135 : string = $\"{v1}\"\n",
      "    let v143 : unit = ()\n",
      "    let v144 : (unit -> unit) = closure0(v4, v135)\n",
      "    let v145 : unit = (fun () -> v144 (); v143) ()\n",
      "    let v152 : string = $\"{v81}\"\n",
      "    let v160 : unit = ()\n",
      "    let v161 : (unit -> unit) = closure0(v4, v152)\n",
      "    let v162 : unit = (fun () -> v161 (); v160) ()\n",
      "    let v170 : string = \"expected\"\n",
      "    let v171 : string = $\"{v170}\"\n",
      "    let v179 : unit = ()\n",
      "    let v180 : (unit -> unit) = closure0(v4, v171)\n",
      "    let v181 : unit = (fun () -> v180 (); v179) ()\n",
      "    let v188 : string = $\"{v45}\"\n",
      "    let v196 : unit = ()\n",
      "    let v197 : (unit -> unit) = closure0(v4, v188)\n",
      "    let v198 : unit = (fun () -> v197 (); v196) ()\n",
      "    let v205 : string = $\"{v2}\"\n",
      "    let v213 : unit = ()\n",
      "    let v214 : (unit -> unit) = closure0(v4, v205)\n",
      "    let v215 : unit = (fun () -> v214 (); v213) ()\n",
      "    let v223 : string = \" }\"\n",
      "    let v224 : string = $\"{v223}\"\n",
      "    let v232 : unit = ()\n",
      "    let v233 : (unit -> unit) = closure0(v4, v224)\n",
      "    let v234 : unit = (fun () -> v233 (); v232) ()\n",
      "    let v240 : string = v4.l0\n",
      "    v240\n",
      "and closure1 (v0 : string) () : unit =\n",
      "    let v1 : (string -> unit) = System.Console.WriteLine\n",
      "    v1 v0\n",
      "and method0 () : unit =\n",
      "    let v3 : string = \"\"\n",
      "    let v4 : string = \"12\"\n",
      "    let v5 : string = v3 + v4 \n",
      "    let v9 : string = v5 + v4 \n",
      "    let v13 : string = v9 + v4 \n",
      "    let v16 : bool = v13 = \"121212\"\n",
      "    let v18 : bool =\n",
      "        if v16 then\n",
      "            true\n",
      "        else\n",
      "            method1(v16)\n",
      "    let v19 : string = \"__assert_eq\"\n",
      "    let v20 : string = \"121212\"\n",
      "    let v21 : string = method2(v19, v13, v20)\n",
      "    let v23 : unit = ()\n",
      "    let v24 : (unit -> unit) = closure1(v21)\n",
      "    let v25 : unit = (fun () -> v24 (); v23) ()\n",
      "    let v27 : bool = v18 = false\n",
      "    if v27 then\n",
      "        failwith<unit> v21\n",
      "method0()\n",
      "\n",
      "\n",
      ".fsx output:\n",
      "{ name = __assert_eq; actual = 121212; expected = 121212 }\n"
     ]
    }
   ],
   "source": [
    "//// test\n",
    "///! gleam\n",
    "///! fsharp\n",
    "//// print_code\n",
    "\n",
    "\"12\"\n",
    "|> replicate 3\n",
    "|> _assert_eq \"121212\""
   ]
  },
  {
   "cell_type": "code",
   "execution_count": null,
   "metadata": {
    "dotnet_interactive": {
     "language": "spiral"
    },
    "polyglot_notebook": {
     "kernelName": "spiral"
    }
   },
   "outputs": [
    {
     "data": {
      "text/plain": [
       ".py output (Python):\n",
       "{ name = __assert_eq; actual = 121212; expected = 121212 }\n",
       "\n",
       ".rs output:\n",
       "{ name = __assert_eq; actual = 121212; expected = 121212 }\n",
       "\n",
       ".ts output:\n",
       "{ name = __assert_eq; actual = 121212; expected = 121212 }\n",
       "\n",
       ".py output:\n",
       "{ name = __assert_eq; actual = 121212; expected = 121212 }\n",
       "\n"
      ]
     },
     "metadata": {},
     "output_type": "display_data"
    },
    {
     "name": "stdout",
     "output_type": "stream",
     "text": [
      ".fsx output:\n",
      "{ name = __assert_eq; actual = 121212; expected = 121212 }\n"
     ]
    }
   ],
   "source": [
    "//// test\n",
    "///! fsharp\n",
    "///! cuda\n",
    "///! rust\n",
    "///! typescript\n",
    "///! python\n",
    "\n",
    "\"12\"\n",
    "|> replicate 3\n",
    "|> _assert_eq \"121212\""
   ]
  },
  {
   "cell_type": "markdown",
   "metadata": {},
   "source": [
    "### string_builder"
   ]
  },
  {
   "cell_type": "code",
   "execution_count": null,
   "metadata": {
    "dotnet_interactive": {
     "language": "spiral"
    },
    "polyglot_notebook": {
     "kernelName": "spiral"
    }
   },
   "outputs": [],
   "source": [
    "nominal string_builder_python =\n",
    "    `(\n",
    "        global \"import io\"\n",
    "        $'' : $'io.StringIO'\n",
    "    )\n",
    "type string_builder_switch =\n",
    "    {\n",
    "        Gleam : $'String'\n",
    "        Fsharp : $'System.Text.StringBuilder'\n",
    "        Python : string_builder_python\n",
    "    }\n",
    "nominal string_builder = $'backend_switch `(string_builder_switch)'\n",
    "\n",
    "inl string_builder (initial : string) : string_builder =\n",
    "    inl initial =\n",
    "        if initial = \"\"\n",
    "        then join initial\n",
    "        else initial\n",
    "\n",
    "    backend_switch {\n",
    "        Gleam = fun () => $'!initial ' : string_builder\n",
    "        Fsharp = fun () => initial |> $'`string_builder ' : string_builder\n",
    "        Python = fun () =>\n",
    "            global \"import io\"\n",
    "            global \"class CustomStringIO(io.StringIO):\\n    def __init__(self, init=''):\\n        super().__init__()\\n        if init != '': self.write(init)\\n    def __str__(self): return self.getvalue()\\n    def __repr__(self): return self.getvalue()\"\n",
    "            $'CustomStringIO(!initial)' : string_builder\n",
    "    }"
   ]
  },
  {
   "cell_type": "markdown",
   "metadata": {},
   "source": [
    "### obj_to_string"
   ]
  },
  {
   "cell_type": "code",
   "execution_count": null,
   "metadata": {
    "dotnet_interactive": {
     "language": "spiral"
    },
    "polyglot_notebook": {
     "kernelName": "spiral"
    }
   },
   "outputs": [],
   "source": [
    "inl obj_to_string x : string =\n",
    "    backend_switch {\n",
    "        Gleam = fun () =>\n",
    "            backend_switch {\n",
    "                Gleam = fun () => global \"import gleam/string\"\n",
    "            }\n",
    "            real\n",
    "                typecase `x with\n",
    "                | string => x\n",
    "                | char => to `(`x) `string x\n",
    "                | string_builder => to `(`x) `string x\n",
    "                | _ => $'string.inspect(!x)' : string\n",
    "            : string\n",
    "        Fsharp = fun () => x |> $'_.ToString()' : string\n",
    "        Python = fun () => $'str(!x)' : string\n",
    "    }"
   ]
  },
  {
   "cell_type": "markdown",
   "metadata": {},
   "source": [
    "### pad_left"
   ]
  },
  {
   "cell_type": "code",
   "execution_count": null,
   "metadata": {
    "dotnet_interactive": {
     "language": "spiral"
    },
    "polyglot_notebook": {
     "kernelName": "spiral"
    }
   },
   "outputs": [],
   "source": [
    "inl pad_left (total_width : int) (padding_char : char) (s : string) : string =\n",
    "    inl padding = padding_char |> obj_to_string |> replicate (total_width - length s)\n",
    "    padding ++# s"
   ]
  },
  {
   "cell_type": "markdown",
   "metadata": {},
   "source": [
    "### pad_right"
   ]
  },
  {
   "cell_type": "code",
   "execution_count": null,
   "metadata": {
    "dotnet_interactive": {
     "language": "spiral"
    },
    "polyglot_notebook": {
     "kernelName": "spiral"
    }
   },
   "outputs": [],
   "source": [
    "inl pad_right (total_width : int) (padding_char : char) (s : string) : string =\n",
    "    inl padding = padding_char |> obj_to_string |> replicate (total_width - length s)\n",
    "    s ++# padding"
   ]
  },
  {
   "cell_type": "code",
   "execution_count": null,
   "metadata": {
    "dotnet_interactive": {
     "language": "spiral"
    },
    "polyglot_notebook": {
     "kernelName": "spiral"
    }
   },
   "outputs": [
    {
     "data": {
      "text/plain": [
       ".py output (Python):\n",
       "{ name = __assert_eq; actual = 123   ; expected = 123    }\n",
       "\n",
       ".rs output:\n",
       "{ name = __assert_eq; actual = 123   ; expected = 123    }\n",
       "\n",
       ".ts output:\n",
       "{ name = __assert_eq; actual = 123   ; expected = 123    }\n",
       "\n",
       ".py output:\n",
       "{ name = __assert_eq; actual = 123   ; expected = 123    }\n",
       "\n"
      ]
     },
     "metadata": {},
     "output_type": "display_data"
    },
    {
     "name": "stdout",
     "output_type": "stream",
     "text": [
      ".fsx output:\n",
      "{ name = __assert_eq; actual = 123   ; expected = 123    }\n"
     ]
    }
   ],
   "source": [
    "//// test\n",
    "///! fsharp\n",
    "///! cuda\n",
    "///! rust\n",
    "///! typescript\n",
    "///! python\n",
    "\n",
    "\"123\"\n",
    "|> pad_right 6 ' '\n",
    "|> _assert_eq \"123   \""
   ]
  },
  {
   "cell_type": "markdown",
   "metadata": {},
   "source": [
    "### convert_to_utf32"
   ]
  },
  {
   "cell_type": "code",
   "execution_count": null,
   "metadata": {
    "dotnet_interactive": {
     "language": "spiral"
    },
    "polyglot_notebook": {
     "kernelName": "spiral"
    }
   },
   "outputs": [],
   "source": [
    "inl convert_to_utf32 (c : char) : int =\n",
    "    backend_switch {\n",
    "        Fsharp = fun () =>\n",
    "            run_target_args' c function\n",
    "            | Fsharp (Native) => fun c => $'System.Char.ConvertToUtf32 (string !c, 0)' : int\n",
    "            | _ => fun c => c |> i32\n",
    "        Python = fun () => $'ord(!c)' : int\n",
    "    }"
   ]
  },
  {
   "cell_type": "markdown",
   "metadata": {},
   "source": [
    "### ends_with"
   ]
  },
  {
   "cell_type": "code",
   "execution_count": null,
   "metadata": {
    "dotnet_interactive": {
     "language": "spiral"
    },
    "polyglot_notebook": {
     "kernelName": "spiral"
    }
   },
   "outputs": [],
   "source": [
    "inl ends_with (value : string) (s : string) : bool =\n",
    "    backend_switch {\n",
    "        Gleam = fun () =>\n",
    "            backend_switch {\n",
    "                Gleam = fun () => global \"import gleam/string\"\n",
    "            }\n",
    "            $'!s |> string.ends_with(!value)' : bool\n",
    "        Fsharp = fun () => $'!s.EndsWith (!value, false, null)' : bool\n",
    "        Python = fun () => $'!s.endswith(!value)' : bool\n",
    "    }"
   ]
  },
  {
   "cell_type": "markdown",
   "metadata": {},
   "source": [
    "### starts_with"
   ]
  },
  {
   "cell_type": "code",
   "execution_count": null,
   "metadata": {
    "dotnet_interactive": {
     "language": "spiral"
    },
    "polyglot_notebook": {
     "kernelName": "spiral"
    }
   },
   "outputs": [],
   "source": [
    "inl starts_with (value : string) (s : string) : bool =\n",
    "    backend_switch {\n",
    "        Gleam = fun () =>\n",
    "            backend_switch {\n",
    "                Gleam = fun () => global \"import gleam/string\"\n",
    "            }\n",
    "            $'!s |> string.starts_with(!value)' : bool\n",
    "        Fsharp = fun () => $'!s.StartsWith (!value, false, null)' : bool\n",
    "        Python = fun () => $'!s.startswith(!value)' : bool\n",
    "    }"
   ]
  },
  {
   "cell_type": "markdown",
   "metadata": {},
   "source": [
    "### is_white_space"
   ]
  },
  {
   "cell_type": "code",
   "execution_count": null,
   "metadata": {
    "dotnet_interactive": {
     "language": "spiral"
    },
    "polyglot_notebook": {
     "kernelName": "spiral"
    }
   },
   "outputs": [],
   "source": [
    "inl is_white_space (c : char) : bool =\n",
    "    c |> $'System.Char.IsWhiteSpace'"
   ]
  },
  {
   "cell_type": "markdown",
   "metadata": {},
   "source": [
    "### substring"
   ]
  },
  {
   "cell_type": "code",
   "execution_count": null,
   "metadata": {
    "dotnet_interactive": {
     "language": "spiral"
    },
    "polyglot_notebook": {
     "kernelName": "spiral"
    }
   },
   "outputs": [],
   "source": [
    "inl substring (start : i32) (len : i32) (str : string) : string =\n",
    "    $'!str.Substring (!start, !len)'"
   ]
  },
  {
   "cell_type": "markdown",
   "metadata": {},
   "source": [
    "### to_lower"
   ]
  },
  {
   "cell_type": "code",
   "execution_count": null,
   "metadata": {
    "dotnet_interactive": {
     "language": "spiral"
    },
    "polyglot_notebook": {
     "kernelName": "spiral"
    }
   },
   "outputs": [],
   "source": [
    "inl to_lower (input : string) : string =\n",
    "    backend_switch {\n",
    "        Gleam = fun () =>\n",
    "            backend_switch {\n",
    "                Gleam = fun () => global \"import gleam/string\"\n",
    "            }\n",
    "            $'!input |> string.lowercase' : string\n",
    "        Fsharp = fun () => $'!input.ToLower' () : string\n",
    "        Python = fun () => $'!input.lower()' : string\n",
    "    }"
   ]
  },
  {
   "cell_type": "markdown",
   "metadata": {},
   "source": [
    "### to_upper"
   ]
  },
  {
   "cell_type": "code",
   "execution_count": null,
   "metadata": {
    "dotnet_interactive": {
     "language": "spiral"
    },
    "polyglot_notebook": {
     "kernelName": "spiral"
    }
   },
   "outputs": [],
   "source": [
    "inl to_upper (input : string) : string =\n",
    "    $'!input.ToUpper' ()"
   ]
  },
  {
   "cell_type": "markdown",
   "metadata": {},
   "source": [
    "### char_to_upper"
   ]
  },
  {
   "cell_type": "code",
   "execution_count": null,
   "metadata": {
    "dotnet_interactive": {
     "language": "spiral"
    },
    "polyglot_notebook": {
     "kernelName": "spiral"
    }
   },
   "outputs": [],
   "source": [
    "inl char_to_upper (input : char) : char =\n",
    "    backend_switch {\n",
    "        Gleam = fun () =>\n",
    "            backend_switch {\n",
    "                Gleam = fun () => global \"import gleam/string\"\n",
    "            }\n",
    "            $'!input |> string.uppercase' : char\n",
    "        Fsharp = fun () => $'System.Char.ToUpper !input ' : char\n",
    "        Python = fun () => $'!input.upper()' : char\n",
    "    }"
   ]
  },
  {
   "cell_type": "markdown",
   "metadata": {},
   "source": [
    "### builder_append"
   ]
  },
  {
   "cell_type": "code",
   "execution_count": null,
   "metadata": {
    "dotnet_interactive": {
     "language": "spiral"
    },
    "polyglot_notebook": {
     "kernelName": "spiral"
    }
   },
   "outputs": [],
   "source": [
    "inl builder_append (item : string) (sb : string_builder) : string_builder =\n",
    "    backend_switch {\n",
    "        Gleam = fun () =>\n",
    "            $'!sb <> !item ' : string_builder\n",
    "        Fsharp = fun () =>\n",
    "            ($'!sb.Append' item : string_builder) |> ignore\n",
    "            sb\n",
    "        Python = fun () =>\n",
    "            ($'!sb.write(!item)' : int) |> ignore\n",
    "            sb\n",
    "    }"
   ]
  },
  {
   "cell_type": "code",
   "execution_count": null,
   "metadata": {
    "dotnet_interactive": {
     "language": "spiral"
    },
    "polyglot_notebook": {
     "kernelName": "spiral"
    }
   },
   "outputs": [
    {
     "data": {
      "text/plain": [
       ".py output (Python):\n",
       "{ name = __assert_eq; actual = abcdef; expected = abcdef }\n",
       "\n",
       ".rs output:\n",
       "{ name = __assert_eq; actual = abcdef; expected = abcdef }\n",
       "\n",
       ".ts output:\n",
       "{ name = __assert_eq; actual = abcdef; expected = abcdef }\n",
       "\n",
       ".py output:\n",
       "{ name = __assert_eq; actual = abcdef; expected = abcdef }\n",
       "\n",
       "\n",
       ".gleam output (Gleam):\n",
       "\u001B[4;7mwarning: Unused imported module\u001B[0m\n",
       "\u001B[4;7m  ┌─ /home/runner/work/spiral/polyglot/target/spiral_Eval/packages/3865d6c4be5c966402b60ce5902e4c59a1e487225518293c819668e7e5a24c0c/src/main.gleam:1:1\u001B[0m\n",
       "\u001B[4;7m  │\u001B[0m\n",
       "\u001B[4;7m1 │ import gleam/string\u001B[0m\n",
       "\u001B[4;7m  │ ^^^^^^^^^^^^^^^^^^^ This imported module is never used\u001B[0m\n",
       "\u001B[4;7m\u001B[0m\n",
       "\u001B[4;7mHint: You can safely remove it.\u001B[0m\n",
       "\u001B[4;7m\u001B[0m\n",
       "{ name = __assert_eq; actual = abcdef; expected = abcdef }\n",
       "\n",
       "\n"
      ]
     },
     "metadata": {},
     "output_type": "display_data"
    },
    {
     "name": "stdout",
     "output_type": "stream",
     "text": [
      ".fsx output:\n",
      "{ name = __assert_eq; actual = abcdef; expected = abcdef }\n"
     ]
    }
   ],
   "source": [
    "//// test\n",
    "///! gleam\n",
    "///! fsharp\n",
    "///! cuda\n",
    "///! rust\n",
    "///! typescript\n",
    "///! python\n",
    "\n",
    "\"ab\"\n",
    "|> string_builder\n",
    "|> builder_append \"cd\"\n",
    "|> builder_append \"ef\"\n",
    "|> obj_to_string\n",
    "|> _assert_eq \"abcdef\""
   ]
  },
  {
   "cell_type": "markdown",
   "metadata": {},
   "source": [
    "### builder_append_line"
   ]
  },
  {
   "cell_type": "code",
   "execution_count": null,
   "metadata": {
    "dotnet_interactive": {
     "language": "spiral"
    },
    "polyglot_notebook": {
     "kernelName": "spiral"
    }
   },
   "outputs": [],
   "source": [
    "inl builder_append_line (sb : string_builder) : string_builder =\n",
    "    backend_switch {\n",
    "        Gleam = fun () =>\n",
    "            sb |> builder_append \"\\n\"\n",
    "        Fsharp = fun () =>\n",
    "            ($'!sb.AppendLine ()' : string_builder) |> ignore\n",
    "            sb\n",
    "        Python = fun () =>\n",
    "            sb |> builder_append \"\\n\"\n",
    "    }"
   ]
  },
  {
   "cell_type": "markdown",
   "metadata": {},
   "source": [
    "### builder_replace"
   ]
  },
  {
   "cell_type": "code",
   "execution_count": null,
   "metadata": {
    "dotnet_interactive": {
     "language": "spiral"
    },
    "polyglot_notebook": {
     "kernelName": "spiral"
    }
   },
   "outputs": [],
   "source": [
    "inl builder_replace (old : string) (new : string) (sb : string_builder) : string_builder =\n",
    "    backend_switch {\n",
    "        Gleam = fun () =>\n",
    "            backend_switch {\n",
    "                Gleam = fun () => global \"import gleam/string\"\n",
    "            }\n",
    "            $'!sb |> string.replace(!old, !new)' : string_builder\n",
    "        Fsharp = fun () =>\n",
    "            ($'!sb.Replace (!old, !new)' : string_builder) |> ignore\n",
    "            sb\n",
    "        Python = fun () =>\n",
    "            ($'!sb.getvalue().replace(!old, !new)' : string) |> string_builder\n",
    "    }"
   ]
  },
  {
   "cell_type": "code",
   "execution_count": null,
   "metadata": {
    "dotnet_interactive": {
     "language": "spiral"
    },
    "polyglot_notebook": {
     "kernelName": "spiral"
    }
   },
   "outputs": [
    {
     "data": {
      "text/plain": [
       ".py output (Python):\n",
       "{ name = __assert_eq; actual = abefgh; expected = abefgh }\n",
       "\n",
       ".rs output:\n",
       "{ name = __assert_eq; actual = abefgh; expected = abefgh }\n",
       "\n",
       ".ts output:\n",
       "{ name = __assert_eq; actual = abefgh; expected = abefgh }\n",
       "\n",
       ".py output:\n",
       "{ name = __assert_eq; actual = abefgh; expected = abefgh }\n",
       "\n",
       ".gleam output (Gleam):\n",
       "{ name = __assert_eq; actual = abefgh; expected = abefgh }\n",
       "\n"
      ]
     },
     "metadata": {},
     "output_type": "display_data"
    },
    {
     "name": "stdout",
     "output_type": "stream",
     "text": [
      ".fsx output:\n",
      "{ name = __assert_eq; actual = abefgh; expected = abefgh }\n"
     ]
    }
   ],
   "source": [
    "//// test\n",
    "///! gleam\n",
    "///! fsharp\n",
    "///! cuda\n",
    "///! rust\n",
    "///! typescript\n",
    "///! python\n",
    "\n",
    "\"ab\"\n",
    "|> string_builder\n",
    "|> builder_append \"cd\"\n",
    "|> builder_replace \"cd\" \"ef\"\n",
    "|> builder_append \"gh\"\n",
    "|> obj_to_string\n",
    "|> _assert_eq \"abefgh\""
   ]
  },
  {
   "cell_type": "markdown",
   "metadata": {},
   "source": [
    "### builder_clear"
   ]
  },
  {
   "cell_type": "code",
   "execution_count": null,
   "metadata": {
    "dotnet_interactive": {
     "language": "spiral"
    },
    "polyglot_notebook": {
     "kernelName": "spiral"
    }
   },
   "outputs": [],
   "source": [
    "inl builder_clear (sb : string_builder) : string_builder =\n",
    "    backend_switch {\n",
    "        Gleam = fun () =>\n",
    "            $'let !sb = \"\"'\n",
    "            sb\n",
    "        Fsharp = fun () =>\n",
    "            ($'!sb.Clear' () : string_builder) |> ignore\n",
    "            sb\n",
    "        Python = fun () =>\n",
    "            ($'!sb.truncate(0)' : int) |> ignore\n",
    "            ($'!sb.seek(0)' : int) |> ignore\n",
    "            sb\n",
    "    }"
   ]
  },
  {
   "cell_type": "code",
   "execution_count": null,
   "metadata": {
    "dotnet_interactive": {
     "language": "spiral"
    },
    "polyglot_notebook": {
     "kernelName": "spiral"
    }
   },
   "outputs": [
    {
     "data": {
      "text/plain": [
       ".py output (Python):\n",
       "{ name = __assert_eq; actual = gh; expected = gh }\n",
       "\n",
       ".rs output:\n",
       "{ name = __assert_eq; actual = gh; expected = gh }\n",
       "\n",
       ".ts output:\n",
       "{ name = __assert_eq; actual = gh; expected = gh }\n",
       "\n",
       ".py output:\n",
       "{ name = __assert_eq; actual = gh; expected = gh }\n",
       "\n",
       "\n",
       ".gleam output (Gleam):\n",
       "\u001B[4;7mwarning: Unused imported module\u001B[0m\n",
       "\u001B[4;7m  ┌─ /home/runner/work/spiral/polyglot/target/spiral_Eval/packages/0c3db086e1e3ed69912fe35518e795ebf0a28c0aab4bd25ab614a9731f5e91c5/src/main.gleam:1:1\u001B[0m\n",
       "\u001B[4;7m  │\u001B[0m\n",
       "\u001B[4;7m1 │ import gleam/string\u001B[0m\n",
       "\u001B[4;7m  │ ^^^^^^^^^^^^^^^^^^^ This imported module is never used\u001B[0m\n",
       "\u001B[4;7m\u001B[0m\n",
       "\u001B[4;7mHint: You can safely remove it.\u001B[0m\n",
       "\u001B[4;7m\u001B[0m\n",
       "\u001B[4;7mwarning: Unused variable\u001B[0m\n",
       "\u001B[4;7m   ┌─ /home/runner/work/spiral/polyglot/target/spiral_Eval/packages/0c3db086e1e3ed69912fe35518e795ebf0a28c0aab4bd25ab614a9731f5e91c5/src/main.gleam:80:9\u001B[0m\n",
       "\u001B[4;7m   │\u001B[0m\n",
       "\u001B[4;7m80 │     let v7 = v1 <> v6 \u001B[0m\n",
       "\u001B[4;7m   │         ^^ This variable is never used\u001B[0m\n",
       "\u001B[4;7m\u001B[0m\n",
       "\u001B[4;7mHint: You can ignore it with an underscore: `_v7`.\u001B[0m\n",
       "\u001B[4;7m\u001B[0m\n",
       "{ name = __assert_eq; actual = gh; expected = gh }\n",
       "\n",
       "\n"
      ]
     },
     "metadata": {},
     "output_type": "display_data"
    },
    {
     "name": "stdout",
     "output_type": "stream",
     "text": [
      ".fsx output:\n",
      "{ name = __assert_eq; actual = gh; expected = gh }\n"
     ]
    }
   ],
   "source": [
    "//// test\n",
    "///! gleam\n",
    "///! fsharp\n",
    "///! cuda\n",
    "///! rust\n",
    "///! typescript\n",
    "///! python\n",
    "\n",
    "\"ab\"\n",
    "|> string_builder\n",
    "|> builder_append \"cd\"\n",
    "|> builder_clear\n",
    "|> builder_append \"gh\"\n",
    "|> obj_to_string\n",
    "|> _assert_eq \"gh\""
   ]
  },
  {
   "cell_type": "markdown",
   "metadata": {},
   "source": [
    "### builder_insert"
   ]
  },
  {
   "cell_type": "code",
   "execution_count": null,
   "metadata": {
    "dotnet_interactive": {
     "language": "spiral"
    },
    "polyglot_notebook": {
     "kernelName": "spiral"
    }
   },
   "outputs": [],
   "source": [
    "inl builder_insert (i : int) (s : string) (sb : string_builder) : string_builder =\n",
    "    backend_switch {\n",
    "        Gleam = fun () =>\n",
    "            inl sb = sb |> obj_to_string\n",
    "            inl a = sb |> slice 0 i\n",
    "            inl b = sb |> slice i (length sb)\n",
    "            [ a; s; b ] |> concat_list \"\" |> string_builder\n",
    "        Fsharp = fun () =>\n",
    "            ($'!sb.Insert (!i, !s)' : string_builder) |> ignore\n",
    "            sb\n",
    "        Python = fun () =>\n",
    "            inl sb = sb |> obj_to_string\n",
    "            $'\"\".join([!sb[:!i], !s, !sb[!i:]])' |> string_builder\n",
    "    }"
   ]
  },
  {
   "cell_type": "code",
   "execution_count": null,
   "metadata": {
    "dotnet_interactive": {
     "language": "spiral"
    },
    "polyglot_notebook": {
     "kernelName": "spiral"
    }
   },
   "outputs": [
    {
     "data": {
      "text/plain": [
       ".py output (Python):\n",
       "{ name = __assert_eq; actual = aghb; expected = aghb }\n",
       "\n",
       ".gleam output (Gleam):\n",
       "{ name = __assert_eq; actual = aghb; expected = aghb }\n",
       "\n"
      ]
     },
     "metadata": {},
     "output_type": "display_data"
    },
    {
     "name": "stdout",
     "output_type": "stream",
     "text": [
      ".fsx output:\n",
      "{ name = __assert_eq; actual = aghb; expected = aghb }\n"
     ]
    }
   ],
   "source": [
    "//// test\n",
    "///! gleam\n",
    "///! fsharp\n",
    "///! cuda\n",
    "////! rust\n",
    "////! typescript\n",
    "////! python\n",
    "\n",
    "\"ab\"\n",
    "|> string_builder\n",
    "|> builder_insert 1 \"gh\"\n",
    "|> obj_to_string\n",
    "|> _assert_eq \"aghb\""
   ]
  },
  {
   "cell_type": "markdown",
   "metadata": {},
   "source": [
    "### trim"
   ]
  },
  {
   "cell_type": "code",
   "execution_count": null,
   "metadata": {
    "dotnet_interactive": {
     "language": "spiral"
    },
    "polyglot_notebook": {
     "kernelName": "spiral"
    }
   },
   "outputs": [],
   "source": [
    "inl trim (input : string) : string =\n",
    "    backend_switch {\n",
    "        Gleam = fun () =>\n",
    "            backend_switch {\n",
    "                Gleam = fun () => global \"import gleam/string\"\n",
    "            }\n",
    "            $'!input |> string.trim' : string\n",
    "        Fsharp = fun () => $'!input.Trim' () : string\n",
    "        Python = fun () => $'!input.strip()' : string\n",
    "    }"
   ]
  },
  {
   "cell_type": "markdown",
   "metadata": {},
   "source": [
    "### concat"
   ]
  },
  {
   "cell_type": "code",
   "execution_count": null,
   "metadata": {
    "dotnet_interactive": {
     "language": "spiral"
    },
    "polyglot_notebook": {
     "kernelName": "spiral"
    }
   },
   "outputs": [],
   "source": [
    "inl concat (a : string) (b : seq.seq' string) : string =\n",
    "    backend_switch {\n",
    "        Gleam = fun () =>\n",
    "            backend_switch {\n",
    "                Gleam = fun () => global \"import gleam/string\"\n",
    "            }\n",
    "            $'!b |> string.join(!a)' : string\n",
    "        Fsharp = fun () =>\n",
    "            inl a =\n",
    "                if a = \"\\n\"\n",
    "                then join a\n",
    "                else a\n",
    "            b |> $'String.concat' a : string\n",
    "        Python = fun () =>\n",
    "            $'!a.join(!b)' : string\n",
    "    }"
   ]
  },
  {
   "cell_type": "markdown",
   "metadata": {},
   "source": [
    "### trim_end"
   ]
  },
  {
   "cell_type": "code",
   "execution_count": null,
   "metadata": {
    "dotnet_interactive": {
     "language": "spiral"
    },
    "polyglot_notebook": {
     "kernelName": "spiral"
    }
   },
   "outputs": [],
   "source": [
    "inl trim_end (trim_chars : list char) (input : string) : string =\n",
    "    inl trim_chars = trim_chars |> listm'.box\n",
    "    backend_switch {\n",
    "        Gleam = fun () =>\n",
    "            backend_switch {\n",
    "                Gleam = fun () => global \"import gleam/string\"\n",
    "            }\n",
    "            $'!input |> string.trim_end' : string\n",
    "        Fsharp = fun () =>\n",
    "            inl trim_chars = trim_chars |> listm'.to_array'\n",
    "            $'!input.TrimEnd !trim_chars ' : string\n",
    "        Python = fun () =>\n",
    "            inl trim_chars = trim_chars |> listm'.map obj_to_string |> seq.of_list' |> concat \"\"\n",
    "            $'!input.rstrip(!trim_chars)' : string\n",
    "    }"
   ]
  },
  {
   "cell_type": "markdown",
   "metadata": {},
   "source": [
    "### trim_start"
   ]
  },
  {
   "cell_type": "code",
   "execution_count": null,
   "metadata": {
    "dotnet_interactive": {
     "language": "spiral"
    },
    "polyglot_notebook": {
     "kernelName": "spiral"
    }
   },
   "outputs": [],
   "source": [
    "inl trim_start (trim_chars : list char) (input : string) : string =\n",
    "    inl trim_chars = trim_chars |> listm'.box\n",
    "    backend_switch {\n",
    "        Gleam = fun () =>\n",
    "            backend_switch {\n",
    "                Gleam = fun () => global \"import gleam/string\"\n",
    "            }\n",
    "            $'!input |> string.trim_start' : string\n",
    "        Fsharp = fun () =>\n",
    "            inl trim_chars = trim_chars |> listm'.to_array'\n",
    "            $'!input.TrimStart !trim_chars ' : string\n",
    "        Python = fun () =>\n",
    "            inl trim_chars = trim_chars |> listm'.map obj_to_string |> seq.of_list' |> concat \"\"\n",
    "            $'!input.lstrip(!trim_chars)' : string\n",
    "    }"
   ]
  },
  {
   "cell_type": "markdown",
   "metadata": {},
   "source": [
    "### length'"
   ]
  },
  {
   "cell_type": "code",
   "execution_count": null,
   "metadata": {
    "dotnet_interactive": {
     "language": "spiral"
    },
    "polyglot_notebook": {
     "kernelName": "spiral"
    }
   },
   "outputs": [],
   "source": [
    "inl length' forall dim. (input : string) : dim =\n",
    "    backend_switch {\n",
    "        Gleam = fun () =>\n",
    "            backend_switch {\n",
    "                Gleam = fun () => global \"import gleam/string\"\n",
    "            }\n",
    "            $'string.length(!input)' : dim\n",
    "        Fsharp = fun () => input |> $'String.length' : dim\n",
    "        Python = fun () => $'len(!input)' : dim\n",
    "    }"
   ]
  },
  {
   "cell_type": "code",
   "execution_count": null,
   "metadata": {
    "dotnet_interactive": {
     "language": "spiral"
    },
    "polyglot_notebook": {
     "kernelName": "spiral"
    }
   },
   "outputs": [
    {
     "data": {
      "text/plain": [
       ".py output (Python):\n",
       "{ name = __assert_eq; actual = 3; expected = 3 }\n",
       "\n"
      ]
     },
     "metadata": {},
     "output_type": "display_data"
    },
    {
     "name": "stdout",
     "output_type": "stream",
     "text": [
      ".fsx output:\n",
      "{ name = __assert_eq; actual = 3; expected = 3 }\n"
     ]
    }
   ],
   "source": [
    "//// test\n",
    "///! fsharp\n",
    "///! cuda\n",
    "\n",
    "\"abc\"\n",
    "|> length'\n",
    "|> _assert_eq 3i32"
   ]
  },
  {
   "cell_type": "markdown",
   "metadata": {},
   "source": [
    "### to_string any"
   ]
  },
  {
   "cell_type": "code",
   "execution_count": null,
   "metadata": {
    "dotnet_interactive": {
     "language": "spiral"
    },
    "polyglot_notebook": {
     "kernelName": "spiral"
    }
   },
   "outputs": [],
   "source": [
    "instance to_string any =\n",
    "    obj_to_string"
   ]
  },
  {
   "cell_type": "markdown",
   "metadata": {},
   "source": [
    "### (~$)"
   ]
  },
  {
   "cell_type": "code",
   "execution_count": null,
   "metadata": {
    "dotnet_interactive": {
     "language": "spiral"
    },
    "polyglot_notebook": {
     "kernelName": "spiral"
    }
   },
   "outputs": [],
   "source": [
    "inl (~$) s =\n",
    "    s |> obj_to_string"
   ]
  },
  {
   "cell_type": "markdown",
   "metadata": {},
   "source": [
    "### replace"
   ]
  },
  {
   "cell_type": "code",
   "execution_count": null,
   "metadata": {
    "dotnet_interactive": {
     "language": "spiral"
    },
    "polyglot_notebook": {
     "kernelName": "spiral"
    }
   },
   "outputs": [],
   "source": [
    "inl replace (old_value : string) (new_value : string) (s : string) : string =\n",
    "    $'!s.Replace (!old_value, !new_value)'"
   ]
  },
  {
   "cell_type": "markdown",
   "metadata": {},
   "source": [
    "### split"
   ]
  },
  {
   "cell_type": "code",
   "execution_count": null,
   "metadata": {
    "dotnet_interactive": {
     "language": "spiral"
    },
    "polyglot_notebook": {
     "kernelName": "spiral"
    }
   },
   "outputs": [],
   "source": [
    "inl split (separator : string) (str : string) : array_base string =\n",
    "    backend_switch {\n",
    "        Gleam = fun () =>\n",
    "            backend_switch {\n",
    "                Gleam = fun () => global \"import gleam/string\"\n",
    "            }\n",
    "            ($'!str |> string.split(!separator)' : listm'.list' string)\n",
    "            |> listm'.to_array'\n",
    "        Fsharp = fun () => $'!str.Split !separator ' : array_base string\n",
    "        Python = fun () => $'!str.split(!separator)' : array_base string\n",
    "    }"
   ]
  },
  {
   "cell_type": "markdown",
   "metadata": {},
   "source": [
    "### split_string"
   ]
  },
  {
   "cell_type": "code",
   "execution_count": null,
   "metadata": {
    "dotnet_interactive": {
     "language": "spiral"
    },
    "polyglot_notebook": {
     "kernelName": "spiral"
    }
   },
   "outputs": [],
   "source": [
    "inl split_string (separator : array_base string) (str : string) : array_base string =\n",
    "    run_target_args (fun () => str, separator) function\n",
    "        | Fsharp (Native) => fun str, separator => $'!str.Split (!separator, System.StringSplitOptions.None)'\n",
    "        | _ => fun str, separator => str |> split ((a separator : _ int _) |> seq.of_array |> concat (join \"\"))"
   ]
  },
  {
   "cell_type": "markdown",
   "metadata": {},
   "source": [
    "### join'"
   ]
  },
  {
   "cell_type": "code",
   "execution_count": null,
   "metadata": {
    "dotnet_interactive": {
     "language": "spiral"
    },
    "polyglot_notebook": {
     "kernelName": "spiral"
    }
   },
   "outputs": [],
   "source": [
    "inl join' (concat : string) (s : a int string) : string =\n",
    "    $'System.String.Join (!concat, !s)'"
   ]
  },
  {
   "cell_type": "markdown",
   "metadata": {},
   "source": [
    "### encoding"
   ]
  },
  {
   "cell_type": "code",
   "execution_count": null,
   "metadata": {
    "dotnet_interactive": {
     "language": "spiral"
    },
    "polyglot_notebook": {
     "kernelName": "spiral"
    }
   },
   "outputs": [],
   "source": [
    "nominal encoding = $'System.Text.Encoding'"
   ]
  },
  {
   "cell_type": "markdown",
   "metadata": {},
   "source": [
    "### encoding_utf8"
   ]
  },
  {
   "cell_type": "code",
   "execution_count": null,
   "metadata": {
    "dotnet_interactive": {
     "language": "spiral"
    },
    "polyglot_notebook": {
     "kernelName": "spiral"
    }
   },
   "outputs": [],
   "source": [
    "inl encoding_utf8 () : encoding =\n",
    "    $'`encoding.UTF8'"
   ]
  },
  {
   "cell_type": "markdown",
   "metadata": {},
   "source": [
    "### utf8_get_bytes"
   ]
  },
  {
   "cell_type": "code",
   "execution_count": null,
   "metadata": {
    "dotnet_interactive": {
     "language": "spiral"
    },
    "polyglot_notebook": {
     "kernelName": "spiral"
    }
   },
   "outputs": [],
   "source": [
    "inl utf8_get_bytes (s : string) : a i32 u8 =\n",
    "    s |> (encoding_utf8 () |> $'_.GetBytes')"
   ]
  },
  {
   "cell_type": "markdown",
   "metadata": {},
   "source": [
    "### byte_to_string"
   ]
  },
  {
   "cell_type": "code",
   "execution_count": null,
   "metadata": {
    "dotnet_interactive": {
     "language": "spiral"
    },
    "polyglot_notebook": {
     "kernelName": "spiral"
    }
   },
   "outputs": [],
   "source": [
    "inl byte_to_string (format : string) (x : u8) : string =\n",
    "    $'!x.ToString' format"
   ]
  },
  {
   "cell_type": "markdown",
   "metadata": {},
   "source": [
    "## rust"
   ]
  },
  {
   "cell_type": "markdown",
   "metadata": {},
   "source": [
    "### str"
   ]
  },
  {
   "cell_type": "code",
   "execution_count": null,
   "metadata": {
    "dotnet_interactive": {
     "language": "spiral"
    },
    "polyglot_notebook": {
     "kernelName": "spiral"
    }
   },
   "outputs": [],
   "source": [
    "nominal str =\n",
    "    `(\n",
    "        global \"#if FABLE_COMPILER\\n[<Fable.Core.Erase; Fable.Core.Emit(\\\"str\\\")>]\\ntype Str = class end\\n\\#else\\ntype Str = string\\n#endif\\n\"\n",
    "        $'' : $'Str'\n",
    "    )"
   ]
  },
  {
   "cell_type": "markdown",
   "metadata": {},
   "source": [
    "### chars"
   ]
  },
  {
   "cell_type": "code",
   "execution_count": null,
   "metadata": {
    "dotnet_interactive": {
     "language": "spiral"
    },
    "polyglot_notebook": {
     "kernelName": "spiral"
    }
   },
   "outputs": [],
   "source": [
    "inl chars (x : rust.ref str) : rust.mut' (into_iterator char) =\n",
    "    !\\\\(x, $'$\"$0.chars()\"')"
   ]
  },
  {
   "cell_type": "markdown",
   "metadata": {},
   "source": [
    "### char_is_alphanumeric"
   ]
  },
  {
   "cell_type": "code",
   "execution_count": null,
   "metadata": {
    "dotnet_interactive": {
     "language": "spiral"
    },
    "polyglot_notebook": {
     "kernelName": "spiral"
    }
   },
   "outputs": [],
   "source": [
    "inl char_is_alphanumeric (x : char) : bool =\n",
    "    !\\\\(x, $'$\"$0.is_alphanumeric()\"')"
   ]
  },
  {
   "cell_type": "markdown",
   "metadata": {},
   "source": [
    "### byte_slice"
   ]
  },
  {
   "cell_type": "code",
   "execution_count": null,
   "metadata": {
    "dotnet_interactive": {
     "language": "spiral"
    },
    "polyglot_notebook": {
     "kernelName": "spiral"
    }
   },
   "outputs": [],
   "source": [
    "inl byte_slice (s : string) : rust.ref (am'.slice u8) =\n",
    "    !\\($'\"b\\\\\\\"\" + !s + \"\\\\\\\"\"')"
   ]
  },
  {
   "cell_type": "markdown",
   "metadata": {},
   "source": [
    "### display"
   ]
  },
  {
   "cell_type": "code",
   "execution_count": null,
   "metadata": {
    "dotnet_interactive": {
     "language": "spiral"
    },
    "polyglot_notebook": {
     "kernelName": "spiral"
    }
   },
   "outputs": [],
   "source": [
    "nominal display t =\n",
    "    `(\n",
    "        global \"#if FABLE_COMPILER\\n[<Fable.Core.Erase; Fable.Core.Emit(\\\"std::fmt::Display<$0>\\\")>]\\n#endif\\ntype std_fmt_Display<'T> = class end\"\n",
    "        $'' : $'std_fmt_Display<`t>'\n",
    "    )"
   ]
  },
  {
   "cell_type": "markdown",
   "metadata": {},
   "source": [
    "### base64_decode_error"
   ]
  },
  {
   "cell_type": "code",
   "execution_count": null,
   "metadata": {
    "dotnet_interactive": {
     "language": "spiral"
    },
    "polyglot_notebook": {
     "kernelName": "spiral"
    }
   },
   "outputs": [],
   "source": [
    "nominal base64_decode_error =\n",
    "    `(\n",
    "        global \"#if FABLE_COMPILER\\n[<Fable.Core.Erase; Fable.Core.Emit(\\\"base64::DecodeError\\\")>]\\n#endif\\ntype base64_DecodeError = class end\"\n",
    "        $'' : $'base64_DecodeError'\n",
    "    )"
   ]
  },
  {
   "cell_type": "markdown",
   "metadata": {},
   "source": [
    "### borsh_io_error"
   ]
  },
  {
   "cell_type": "code",
   "execution_count": null,
   "metadata": {
    "dotnet_interactive": {
     "language": "spiral"
    },
    "polyglot_notebook": {
     "kernelName": "spiral"
    }
   },
   "outputs": [],
   "source": [
    "nominal borsh_io_error =\n",
    "    `(\n",
    "        global \"#if FABLE_COMPILER\\n[<Fable.Core.Erase; Fable.Core.Emit(\\\"borsh::io::Error\\\")>]\\n#endif\\ntype borsh_io_Error = class end\"\n",
    "        $'' : $'borsh_io_Error'\n",
    "    )"
   ]
  },
  {
   "cell_type": "markdown",
   "metadata": {},
   "source": [
    "### utf8_error"
   ]
  },
  {
   "cell_type": "code",
   "execution_count": null,
   "metadata": {
    "dotnet_interactive": {
     "language": "spiral"
    },
    "polyglot_notebook": {
     "kernelName": "spiral"
    }
   },
   "outputs": [],
   "source": [
    "nominal utf8_error =\n",
    "    `(\n",
    "        global \"#if FABLE_COMPILER\\n[<Fable.Core.Erase; Fable.Core.Emit(\\\"std::str::Utf8Error\\\")>]\\n#endif\\ntype std_str_Utf8Error = class end\"\n",
    "        $'' : $'std_str_Utf8Error'\n",
    "    )"
   ]
  },
  {
   "cell_type": "markdown",
   "metadata": {},
   "source": [
    "### from_utf8_error"
   ]
  },
  {
   "cell_type": "code",
   "execution_count": null,
   "metadata": {
    "dotnet_interactive": {
     "language": "spiral"
    },
    "polyglot_notebook": {
     "kernelName": "spiral"
    }
   },
   "outputs": [],
   "source": [
    "nominal from_utf8_error =\n",
    "    `(\n",
    "        global \"#if FABLE_COMPILER\\n[<Fable.Core.Erase; Fable.Core.Emit(\\\"std::string::FromUtf8Error\\\")>]\\n#endif\\ntype std_string_FromUtf8Error = class end\"\n",
    "        $'' : $'std_string_FromUtf8Error'\n",
    "    )"
   ]
  },
  {
   "cell_type": "markdown",
   "metadata": {},
   "source": [
    "### json_value"
   ]
  },
  {
   "cell_type": "code",
   "execution_count": null,
   "metadata": {
    "dotnet_interactive": {
     "language": "spiral"
    },
    "polyglot_notebook": {
     "kernelName": "spiral"
    }
   },
   "outputs": [],
   "source": [
    "nominal json_value =\n",
    "    `(\n",
    "        backend_switch `(()) `({}) {\n",
    "            Fsharp = (fun () =>\n",
    "                global \"#if FABLE_COMPILER\\n[<Fable.Core.Erase; Fable.Core.Emit(\\\"serde_json::Value\\\")>]\\n#endif\\ntype serde_json_Value = class end\"\n",
    "                        ) : () -> ()\n",
    "        }\n",
    "        $'' : $'serde_json_Value'\n",
    "    )"
   ]
  },
  {
   "cell_type": "markdown",
   "metadata": {},
   "source": [
    "### json_error"
   ]
  },
  {
   "cell_type": "code",
   "execution_count": null,
   "metadata": {
    "dotnet_interactive": {
     "language": "spiral"
    },
    "polyglot_notebook": {
     "kernelName": "spiral"
    }
   },
   "outputs": [],
   "source": [
    "nominal json_error =\n",
    "    `(\n",
    "        global \"#if FABLE_COMPILER\\n[<Fable.Core.Erase; Fable.Core.Emit(\\\"serde_json::Error\\\")>]\\n#endif\\ntype serde_json_Error = class end\"\n",
    "        $'' : $'serde_json_Error'\n",
    "    )"
   ]
  },
  {
   "cell_type": "markdown",
   "metadata": {},
   "source": [
    "### serde_wasm_bindgen_error"
   ]
  },
  {
   "cell_type": "code",
   "execution_count": null,
   "metadata": {
    "dotnet_interactive": {
     "language": "spiral"
    },
    "polyglot_notebook": {
     "kernelName": "spiral"
    }
   },
   "outputs": [],
   "source": [
    "nominal serde_wasm_bindgen_error =\n",
    "    `(\n",
    "        global \"#if FABLE_COMPILER\\n[<Fable.Core.Erase; Fable.Core.Emit(\\\"serde_wasm_bindgen::Error\\\")>]\\n#endif\\ntype serde_wasm_bindgen_Error = class end\"\n",
    "        $'' : $'serde_wasm_bindgen_Error'\n",
    "    )"
   ]
  },
  {
   "cell_type": "markdown",
   "metadata": {},
   "source": [
    "### js_string"
   ]
  },
  {
   "cell_type": "code",
   "execution_count": null,
   "metadata": {
    "dotnet_interactive": {
     "language": "spiral"
    },
    "polyglot_notebook": {
     "kernelName": "spiral"
    }
   },
   "outputs": [],
   "source": [
    "nominal js_string =\n",
    "    `(\n",
    "        global \"#if FABLE_COMPILER\\n[<Fable.Core.Erase; Fable.Core.Emit(\\\"js_sys::JsString\\\")>]\\n#endif\\ntype js_sys_JsString = class end\"\n",
    "        $'' : $'js_sys_JsString'\n",
    "    )"
   ]
  },
  {
   "cell_type": "markdown",
   "metadata": {},
   "source": [
    "### os_str"
   ]
  },
  {
   "cell_type": "code",
   "execution_count": null,
   "metadata": {
    "dotnet_interactive": {
     "language": "spiral"
    },
    "polyglot_notebook": {
     "kernelName": "spiral"
    }
   },
   "outputs": [],
   "source": [
    "nominal os_str =\n",
    "    `(\n",
    "        global \"#if FABLE_COMPILER\\n[<Fable.Core.Erase; Fable.Core.Emit(\\\"std::ffi::OsStr\\\")>]\\n#endif\\ntype std_ffi_OsStr = class end\"\n",
    "        $'' : $'std_ffi_OsStr'\n",
    "    )"
   ]
  },
  {
   "cell_type": "markdown",
   "metadata": {},
   "source": [
    "### c_str"
   ]
  },
  {
   "cell_type": "code",
   "execution_count": null,
   "metadata": {
    "dotnet_interactive": {
     "language": "spiral"
    },
    "polyglot_notebook": {
     "kernelName": "spiral"
    }
   },
   "outputs": [],
   "source": [
    "nominal c_str =\n",
    "    `(\n",
    "        global \"#if FABLE_COMPILER\\n[<Fable.Core.Erase; Fable.Core.Emit(\\\"std::ffi::CStr\\\")>]\\n#endif\\ntype std_ffi_CStr = class end\"\n",
    "        $'' : $'std_ffi_CStr'\n",
    "    )"
   ]
  },
  {
   "cell_type": "markdown",
   "metadata": {},
   "source": [
    "### c_string"
   ]
  },
  {
   "cell_type": "code",
   "execution_count": null,
   "metadata": {
    "dotnet_interactive": {
     "language": "spiral"
    },
    "polyglot_notebook": {
     "kernelName": "spiral"
    }
   },
   "outputs": [],
   "source": [
    "nominal c_string =\n",
    "    `(\n",
    "        global \"#if FABLE_COMPILER\\n[<Fable.Core.Erase; Fable.Core.Emit(\\\"std::ffi::CString\\\")>]\\n#endif\\ntype std_ffi_CString = class end\"\n",
    "        $'' : $'std_ffi_CString'\n",
    "    )"
   ]
  },
  {
   "cell_type": "markdown",
   "metadata": {},
   "source": [
    "### os_string"
   ]
  },
  {
   "cell_type": "code",
   "execution_count": null,
   "metadata": {
    "dotnet_interactive": {
     "language": "spiral"
    },
    "polyglot_notebook": {
     "kernelName": "spiral"
    }
   },
   "outputs": [],
   "source": [
    "nominal os_string =\n",
    "    `(\n",
    "        global \"#if FABLE_COMPILER\\n[<Fable.Core.Erase; Fable.Core.Emit(\\\"std::ffi::OsString\\\")>]\\n#endif\\ntype std_ffi_OsString = class end\"\n",
    "        $'' : $'std_ffi_OsString'\n",
    "    )"
   ]
  },
  {
   "cell_type": "markdown",
   "metadata": {},
   "source": [
    "### raw_string_literal"
   ]
  },
  {
   "cell_type": "code",
   "execution_count": null,
   "metadata": {
    "dotnet_interactive": {
     "language": "spiral"
    },
    "polyglot_notebook": {
     "kernelName": "spiral"
    }
   },
   "outputs": [],
   "source": [
    "inl raw_string_literal (s : string) : rust.ref str =\n",
    "    !\\($'\"r\\#\\\\\"\" + !s + \"\\\\\"\\#\"')"
   ]
  },
  {
   "cell_type": "markdown",
   "metadata": {},
   "source": [
    "### raw_string_literal_static"
   ]
  },
  {
   "cell_type": "code",
   "execution_count": null,
   "metadata": {
    "dotnet_interactive": {
     "language": "spiral"
    },
    "polyglot_notebook": {
     "kernelName": "spiral"
    }
   },
   "outputs": [],
   "source": [
    "inl raw_string_literal_static (s : string) : rust.static_ref str =\n",
    "    !\\($'\"r\\#\\\\\"\" + !s + \"\\\\\"\\#\"')"
   ]
  },
  {
   "cell_type": "markdown",
   "metadata": {},
   "source": [
    "### (~#)"
   ]
  },
  {
   "cell_type": "code",
   "execution_count": null,
   "metadata": {
    "dotnet_interactive": {
     "language": "spiral"
    },
    "polyglot_notebook": {
     "kernelName": "spiral"
    }
   },
   "outputs": [],
   "source": [
    "inl (~#) s =\n",
    "    s |> raw_string_literal"
   ]
  },
  {
   "cell_type": "markdown",
   "metadata": {},
   "source": [
    "### (~##)"
   ]
  },
  {
   "cell_type": "code",
   "execution_count": null,
   "metadata": {
    "dotnet_interactive": {
     "language": "spiral"
    },
    "polyglot_notebook": {
     "kernelName": "spiral"
    }
   },
   "outputs": [],
   "source": [
    "inl (~##) s =\n",
    "    s |> raw_string_literal_static"
   ]
  },
  {
   "cell_type": "markdown",
   "metadata": {},
   "source": [
    "### include_str"
   ]
  },
  {
   "cell_type": "code",
   "execution_count": null,
   "metadata": {
    "dotnet_interactive": {
     "language": "spiral"
    },
    "polyglot_notebook": {
     "kernelName": "spiral"
    }
   },
   "outputs": [],
   "source": [
    "inl include_str (path : string) : rust.ref str =\n",
    "    !\\($'\"include_str\\!(\\\\\\\"\" + !path + \"\\\\\\\")\"')"
   ]
  },
  {
   "cell_type": "markdown",
   "metadata": {},
   "source": [
    "### as_str"
   ]
  },
  {
   "cell_type": "code",
   "execution_count": null,
   "metadata": {
    "dotnet_interactive": {
     "language": "spiral"
    },
    "polyglot_notebook": {
     "kernelName": "spiral"
    }
   },
   "outputs": [],
   "source": [
    "inl as_str (s : string) : rust.ref str =\n",
    "    // !\\\\(s, $'\"fable_library_rust::String_::LrcStr::as_str(&$0)\"')\n",
    "    run_target_args (fun () => s) function\n",
    "        | Rust _ => fun s => !\\\\(s, $'\"&*$0\"')\n",
    "        | _ => fun s => s |> unbox"
   ]
  },
  {
   "cell_type": "markdown",
   "metadata": {},
   "source": [
    "### from_iter"
   ]
  },
  {
   "cell_type": "code",
   "execution_count": null,
   "metadata": {
    "dotnet_interactive": {
     "language": "spiral"
    },
    "polyglot_notebook": {
     "kernelName": "spiral"
    }
   },
   "outputs": [],
   "source": [
    "inl from_iter forall (t : * -> *). (s : t char) : std_string =\n",
    "    !\\\\(s, $'\"String::from_iter($0)\"')"
   ]
  },
  {
   "cell_type": "markdown",
   "metadata": {},
   "source": [
    "### ref_to_std_string"
   ]
  },
  {
   "cell_type": "code",
   "execution_count": null,
   "metadata": {
    "dotnet_interactive": {
     "language": "spiral"
    },
    "polyglot_notebook": {
     "kernelName": "spiral"
    }
   },
   "outputs": [],
   "source": [
    "inl ref_to_std_string (str : rust.ref str) : std_string =\n",
    "    run_target_args (fun () => str) function\n",
    "        | Rust _ => fun str => !\\\\(str, $'\"String::from($0)\"')\n",
    "        | _ => fun str => str |> unbox"
   ]
  },
  {
   "cell_type": "markdown",
   "metadata": {},
   "source": [
    "### cow_to_std_string"
   ]
  },
  {
   "cell_type": "code",
   "execution_count": null,
   "metadata": {
    "dotnet_interactive": {
     "language": "spiral"
    },
    "polyglot_notebook": {
     "kernelName": "spiral"
    }
   },
   "outputs": [],
   "source": [
    "inl cow_to_std_string (str : rust.cow str) : std_string =\n",
    "    !\\\\(str, $'\"String::from($0)\"')"
   ]
  },
  {
   "cell_type": "markdown",
   "metadata": {},
   "source": [
    "### to_std_string"
   ]
  },
  {
   "cell_type": "code",
   "execution_count": null,
   "metadata": {
    "dotnet_interactive": {
     "language": "spiral"
    },
    "polyglot_notebook": {
     "kernelName": "spiral"
    }
   },
   "outputs": [],
   "source": [
    "inl to_std_string (s : string) : std_string =\n",
    "    s |> as_str |> ref_to_std_string"
   ]
  },
  {
   "cell_type": "markdown",
   "metadata": {},
   "source": [
    "### as_str_std"
   ]
  },
  {
   "cell_type": "code",
   "execution_count": null,
   "metadata": {
    "dotnet_interactive": {
     "language": "spiral"
    },
    "polyglot_notebook": {
     "kernelName": "spiral"
    }
   },
   "outputs": [],
   "source": [
    "inl as_str_std (s : std_string) : rust.ref str =\n",
    "    !\\\\(s, $'\"$0.as_str()\"')"
   ]
  },
  {
   "cell_type": "markdown",
   "metadata": {},
   "source": [
    "### into_boxed_str"
   ]
  },
  {
   "cell_type": "code",
   "execution_count": null,
   "metadata": {
    "dotnet_interactive": {
     "language": "spiral"
    },
    "polyglot_notebook": {
     "kernelName": "spiral"
    }
   },
   "outputs": [],
   "source": [
    "inl into_boxed_str (s : std_string) : rust.box str =\n",
    "    !\\\\(s, $'\"$0.into_boxed_str()\"')"
   ]
  },
  {
   "cell_type": "markdown",
   "metadata": {},
   "source": [
    "### os_string_as_ref"
   ]
  },
  {
   "cell_type": "code",
   "execution_count": null,
   "metadata": {
    "dotnet_interactive": {
     "language": "spiral"
    },
    "polyglot_notebook": {
     "kernelName": "spiral"
    }
   },
   "outputs": [],
   "source": [
    "inl os_string_as_ref (s : os_string) : rust.ref os_str =\n",
    "    !\\\\(s, $'\"$0.as_ref()\"')"
   ]
  },
  {
   "cell_type": "markdown",
   "metadata": {},
   "source": [
    "### to_os_string"
   ]
  },
  {
   "cell_type": "code",
   "execution_count": null,
   "metadata": {
    "dotnet_interactive": {
     "language": "spiral"
    },
    "polyglot_notebook": {
     "kernelName": "spiral"
    }
   },
   "outputs": [],
   "source": [
    "inl to_os_string (s : rust.ref os_str) : os_string =\n",
    "    !\\\\(s, $'\"$0.to_os_string()\"')"
   ]
  },
  {
   "cell_type": "markdown",
   "metadata": {},
   "source": [
    "### new_c_string"
   ]
  },
  {
   "cell_type": "code",
   "execution_count": null,
   "metadata": {
    "dotnet_interactive": {
     "language": "spiral"
    },
    "polyglot_notebook": {
     "kernelName": "spiral"
    }
   },
   "outputs": [],
   "source": [
    "inl new_c_string (s : std_string) : c_string =\n",
    "    !\\\\(s, $'\"std::ffi::CString::new($0).unwrap()\"')"
   ]
  },
  {
   "cell_type": "markdown",
   "metadata": {},
   "source": [
    "### os_to_str"
   ]
  },
  {
   "cell_type": "code",
   "execution_count": null,
   "metadata": {
    "dotnet_interactive": {
     "language": "spiral"
    },
    "polyglot_notebook": {
     "kernelName": "spiral"
    }
   },
   "outputs": [],
   "source": [
    "inl os_to_str (s : os_string) : optionm'.option' (rust.ref str) =\n",
    "    !\\\\(s, $'\"$0.to_str()\"')"
   ]
  },
  {
   "cell_type": "markdown",
   "metadata": {},
   "source": [
    "### from_os_str_ref"
   ]
  },
  {
   "cell_type": "code",
   "execution_count": null,
   "metadata": {
    "dotnet_interactive": {
     "language": "spiral"
    },
    "polyglot_notebook": {
     "kernelName": "spiral"
    }
   },
   "outputs": [],
   "source": [
    "inl from_os_str_ref s =\n",
    "    s\n",
    "    |> to_os_string\n",
    "    |> os_to_str\n",
    "    |> optionm'.unwrap\n",
    "    |> ref_to_std_string\n",
    "    |> from_std_string"
   ]
  },
  {
   "cell_type": "markdown",
   "metadata": {},
   "source": [
    "### format_custom'"
   ]
  },
  {
   "cell_type": "code",
   "execution_count": null,
   "metadata": {
    "dotnet_interactive": {
     "language": "spiral"
    },
    "polyglot_notebook": {
     "kernelName": "spiral"
    }
   },
   "outputs": [],
   "source": [
    "inl format_custom' (f : string) x : std_string =\n",
    "    run_target function\n",
    "        | Rust _ => fun () =>\n",
    "            !\\\\(x, $'\"format\\!(\\\\\\\"\" + !f + \"\\\\\\\", $0)\"')\n",
    "        | _ => fun () => null ()"
   ]
  },
  {
   "cell_type": "markdown",
   "metadata": {},
   "source": [
    "### format_debug'"
   ]
  },
  {
   "cell_type": "code",
   "execution_count": null,
   "metadata": {
    "dotnet_interactive": {
     "language": "spiral"
    },
    "polyglot_notebook": {
     "kernelName": "spiral"
    }
   },
   "outputs": [],
   "source": [
    "inl format_debug' x : std_string =\n",
    "    run_target function\n",
    "        | Rust _ => fun () =>\n",
    "            !\\\\(x, $'\"format\\!(\\\\\\\"{:?}\\\\\\\", $0)\"')\n",
    "        | _ => fun () => null ()"
   ]
  },
  {
   "cell_type": "markdown",
   "metadata": {},
   "source": [
    "### format'"
   ]
  },
  {
   "cell_type": "code",
   "execution_count": null,
   "metadata": {
    "dotnet_interactive": {
     "language": "spiral"
    },
    "polyglot_notebook": {
     "kernelName": "spiral"
    }
   },
   "outputs": [],
   "source": [
    "inl format' x : std_string =\n",
    "    run_target_args (fun () => x) function\n",
    "        | Rust _ => fun x =>\n",
    "            !\\\\(x, $'\"format\\!(\\\\\\\"{}\\\\\\\", $0)\"')\n",
    "        | _ => fun _ => null ()"
   ]
  },
  {
   "cell_type": "markdown",
   "metadata": {},
   "source": [
    "### format_hex'"
   ]
  },
  {
   "cell_type": "code",
   "execution_count": null,
   "metadata": {
    "dotnet_interactive": {
     "language": "spiral"
    },
    "polyglot_notebook": {
     "kernelName": "spiral"
    }
   },
   "outputs": [],
   "source": [
    "inl format_hex' x : std_string =\n",
    "    !\\\\(x, $'\"format\\!(\\\\\\\"{:02x}\\\\\\\", $0)\"')"
   ]
  },
  {
   "cell_type": "markdown",
   "metadata": {},
   "source": [
    "### format''"
   ]
  },
  {
   "cell_type": "code",
   "execution_count": null,
   "metadata": {
    "dotnet_interactive": {
     "language": "spiral"
    },
    "polyglot_notebook": {
     "kernelName": "spiral"
    }
   },
   "outputs": [],
   "source": [
    "inl format'' (format : string) : std_string =\n",
    "    !\\($'@@$\"format\\!(\" + !format + \")\"')"
   ]
  },
  {
   "cell_type": "markdown",
   "metadata": {},
   "source": [
    "### regex"
   ]
  },
  {
   "cell_type": "code",
   "execution_count": null,
   "metadata": {
    "dotnet_interactive": {
     "language": "spiral"
    },
    "polyglot_notebook": {
     "kernelName": "spiral"
    }
   },
   "outputs": [],
   "source": [
    "nominal regex =\n",
    "    `(\n",
    "        backend_switch `(()) `({}) {\n",
    "            Fsharp = (fun () =>\n",
    "                global \"#if FABLE_COMPILER\\n[<Fable.Core.Erase; Fable.Core.Emit(\\\"regex::Regex\\\")>]\\n#endif\\ntype regex_Regex = class end\"\n",
    "                        ) : () -> ()\n",
    "        }\n",
    "        $'' : $'regex_Regex'\n",
    "    )"
   ]
  },
  {
   "cell_type": "markdown",
   "metadata": {},
   "source": [
    "### regex_error"
   ]
  },
  {
   "cell_type": "code",
   "execution_count": null,
   "metadata": {
    "dotnet_interactive": {
     "language": "spiral"
    },
    "polyglot_notebook": {
     "kernelName": "spiral"
    }
   },
   "outputs": [],
   "source": [
    "nominal regex_error =\n",
    "    `(\n",
    "        global \"#if FABLE_COMPILER\\n[<Fable.Core.Erase; Fable.Core.Emit(\\\"regex::Error\\\")>]\\n#endif\\ntype regex_Error = class end\"\n",
    "        $'' : $'regex_Error'\n",
    "    )"
   ]
  },
  {
   "cell_type": "markdown",
   "metadata": {},
   "source": [
    "### new_regex"
   ]
  },
  {
   "cell_type": "code",
   "execution_count": null,
   "metadata": {
    "dotnet_interactive": {
     "language": "spiral"
    },
    "polyglot_notebook": {
     "kernelName": "spiral"
    }
   },
   "outputs": [],
   "source": [
    "inl new_regex (pattern : string) : resultm.result' regex regex_error =\n",
    "    !\\\\(pattern, $'$\"regex::Regex::new(&$0)\"')"
   ]
  },
  {
   "cell_type": "markdown",
   "metadata": {},
   "source": [
    "### captures"
   ]
  },
  {
   "cell_type": "code",
   "execution_count": null,
   "metadata": {
    "dotnet_interactive": {
     "language": "spiral"
    },
    "polyglot_notebook": {
     "kernelName": "spiral"
    }
   },
   "outputs": [],
   "source": [
    "nominal regex_captures t =\n",
    "    `(\n",
    "        global \"#if FABLE_COMPILER\\n[<Fable.Core.Erase; Fable.Core.Emit(\\\"regex::Captures<$0>\\\")>]\\n#endif\\ntype regex_Captures<'T> = class end\"\n",
    "        $'' : $'regex_Captures<`t>'\n",
    "    )"
   ]
  },
  {
   "cell_type": "markdown",
   "metadata": {},
   "source": [
    "### regex_capture_matches"
   ]
  },
  {
   "cell_type": "code",
   "execution_count": null,
   "metadata": {
    "dotnet_interactive": {
     "language": "spiral"
    },
    "polyglot_notebook": {
     "kernelName": "spiral"
    }
   },
   "outputs": [],
   "source": [
    "nominal regex_capture_matches =\n",
    "    `(\n",
    "        global \"#if FABLE_COMPILER\\n[<Fable.Core.Erase; Fable.Core.Emit(\\\"regex::CaptureMatches\\\")>]\\n#endif\\ntype regex_CaptureMatches = class end\"\n",
    "        $'' : $'regex_CaptureMatches'\n",
    "    )"
   ]
  },
  {
   "cell_type": "markdown",
   "metadata": {},
   "source": [
    "### regex_capture_names"
   ]
  },
  {
   "cell_type": "code",
   "execution_count": null,
   "metadata": {
    "dotnet_interactive": {
     "language": "spiral"
    },
    "polyglot_notebook": {
     "kernelName": "spiral"
    }
   },
   "outputs": [],
   "source": [
    "nominal regex_capture_names =\n",
    "    `(\n",
    "        global \"#if FABLE_COMPILER\\n[<Fable.Core.Erase; Fable.Core.Emit(\\\"regex::CaptureNames\\\")>]\\n#endif\\ntype regex_CaptureNames = class end\"\n",
    "        $'' : $'regex_CaptureNames'\n",
    "    )\n",
    "\n",
    "inl regex_capture_names (regex : regex) : regex_capture_names =\n",
    "    !\\\\(regex, $'$\"$0.capture_names()\"')"
   ]
  },
  {
   "cell_type": "markdown",
   "metadata": {},
   "source": [
    "### match'"
   ]
  },
  {
   "cell_type": "code",
   "execution_count": null,
   "metadata": {
    "dotnet_interactive": {
     "language": "spiral"
    },
    "polyglot_notebook": {
     "kernelName": "spiral"
    }
   },
   "outputs": [],
   "source": [
    "nominal match' =\n",
    "    `(\n",
    "        global \"#if FABLE_COMPILER\\n[<Fable.Core.Erase; Fable.Core.Emit(\\\"regex::Match\\\")>]\\n#endif\\ntype regex_Match = class end\"\n",
    "        $'' : $'regex_Match'\n",
    "    )"
   ]
  },
  {
   "cell_type": "markdown",
   "metadata": {},
   "source": [
    "### regex_captures_iter"
   ]
  },
  {
   "cell_type": "code",
   "execution_count": null,
   "metadata": {
    "dotnet_interactive": {
     "language": "spiral"
    },
    "polyglot_notebook": {
     "kernelName": "spiral"
    }
   },
   "outputs": [],
   "source": [
    "inl regex_captures_iter (s : rust.static_ref (rust.mut' std_string)) (regex : regex) : regex_capture_matches =\n",
    "    inl regex = regex |> rust.emit\n",
    "    !\\\\(regex, $'$\"$0.captures_iter(!s)\"')"
   ]
  },
  {
   "cell_type": "markdown",
   "metadata": {},
   "source": [
    "### regex_captures"
   ]
  },
  {
   "cell_type": "code",
   "execution_count": null,
   "metadata": {
    "dotnet_interactive": {
     "language": "spiral"
    },
    "polyglot_notebook": {
     "kernelName": "spiral"
    }
   },
   "outputs": [],
   "source": [
    "let regex_captures (s : string) (regex : regex) : am'.vec (mapm.hash_map string string) =\n",
    "    // inl s = join s\n",
    "    // !\\\\(regex, $'$\"$0.captures_iter(&*!s).map(|caps| $0.capture_names().map(|x| x.and_then(|n| Some((n, caps.name(n)?.as_str())))).flatten().collect()).collect()\"')\n",
    "\n",
    "    inl s = s |> to_std_string\n",
    "    fun () =>\n",
    "        inl matches =\n",
    "            inl s = s |> rust.new_box |> rust.box_leak\n",
    "            regex |> regex_captures_iter s\n",
    "\n",
    "        (!\\($'\"true; let _regex_captures : Vec<_> = !matches.map(|x| { //\"') : bool) |> ignore\n",
    "\n",
    "        inl fn (match' : rust.static_ref (rust.mut' (regex_captures rust.static_lifetime))) : mapm.hash_map string string =\n",
    "\n",
    "            inl names = regex |> regex_capture_names\n",
    "\n",
    "            (!\\($'\"true; let _regex_captures : std::collections::HashMap<_, _> = !names.map(|x| { //\"') : bool) |> ignore\n",
    "\n",
    "            inl fn (n : string) : pair string string =\n",
    "                inl n' = n |> rust.clone\n",
    "\n",
    "                new_pair n' !\\\\(n, $'$\"!match'.name(&$0).map(|x| x.as_str()).unwrap_or(\\\\\\\"\\\\\\\").to_string().into()\"')\n",
    "\n",
    "            (!\\\\(fn !\\($'\"x.unwrap_or(\\\\\\\"\\\\\\\").to_string().into()\"'), $'\"true; $0 }).map(|x| std::sync::Arc::try_unwrap(x).unwrap_or_else(|x| (*x).clone())).collect()\"') : bool) |> ignore\n",
    "\n",
    "            !\\($'\"_regex_captures\"')\n",
    "\n",
    "        inl x =\n",
    "            !\\($'$\"x\"')\n",
    "            |> rust.new_box\n",
    "            |> rust.box_leak\n",
    "\n",
    "        (!\\\\(fn x, $'\"true; $0 }).collect::<Vec<_>>()\"') : bool) |> ignore\n",
    "\n",
    "        !\\($'\"_regex_captures\"')\n",
    "\n",
    "    |> rust.capture_move"
   ]
  },
  {
   "cell_type": "code",
   "execution_count": null,
   "metadata": {
    "dotnet_interactive": {
     "language": "spiral"
    },
    "polyglot_notebook": {
     "kernelName": "spiral"
    }
   },
   "outputs": [
    {
     "data": {
      "text/plain": [
       "{ name = __assert_eq; actual = [[(\"\", \"\"), (\"a\", \"4.17.0\")]]; expected = [[(\"\", \"\"), (\"a\", \"4.17.0\")]] }\n"
      ]
     },
     "metadata": {},
     "output_type": "display_data"
    }
   ],
   "source": [
    "//// test\n",
    "///! rust -d regex\n",
    "\n",
    "\"fable-library-ts\\\\.(?<a>[\\\\d.]+)$\"\n",
    "|> new_regex\n",
    "|> resultm.unwrap'\n",
    "|> regex_captures \"fable_modules/fable-library-ts.4.17.0\"\n",
    "|> am'.vec_map (mapm.to_vec >> am'.vec_sort_by_key id)\n",
    "|> sm'.format_debug\n",
    "|> _assert_eq (\n",
    "    ;[\n",
    "        ;[ \"\", \"\"; \"a\", \"4.17.0\" ]\n",
    "        |> am'.to_vec\n",
    "    ]\n",
    "    |> am'.to_vec\n",
    "    |> sm'.format_debug\n",
    ")"
   ]
  },
  {
   "cell_type": "markdown",
   "metadata": {},
   "source": [
    "### replace_regex'"
   ]
  },
  {
   "cell_type": "code",
   "execution_count": null,
   "metadata": {
    "dotnet_interactive": {
     "language": "spiral"
    },
    "polyglot_notebook": {
     "kernelName": "spiral"
    }
   },
   "outputs": [],
   "source": [
    "inl replace_regex' (pattern : string) (replacement : a i32 string) (s : string) : string =\n",
    "    run_target_args (fun () => s, pattern, replacement) function\n",
    "        | Rust (Native) => fun s, pattern, replacement =>\n",
    "            inl regex = pattern |> new_regex |> resultm.unwrap'\n",
    "            !\\\\((regex, #s, replacement), $'$\"$0.replace_all($1, &*$2)\"')\n",
    "            |> cow_to_std_string\n",
    "            |> from_std_string\n",
    "        | _ => fun _ => join \"\""
   ]
  },
  {
   "cell_type": "markdown",
   "metadata": {},
   "source": [
    "### serialize"
   ]
  },
  {
   "cell_type": "code",
   "execution_count": null,
   "metadata": {
    "dotnet_interactive": {
     "language": "spiral"
    },
    "polyglot_notebook": {
     "kernelName": "spiral"
    }
   },
   "outputs": [],
   "source": [
    "inl serialize forall t. (x : t) : resultm.result' std_string json_error =\n",
    "    !\\($'\"serde_json::to_string(&!x)\"')"
   ]
  },
  {
   "cell_type": "markdown",
   "metadata": {},
   "source": [
    "### deserialize"
   ]
  },
  {
   "cell_type": "code",
   "execution_count": null,
   "metadata": {
    "dotnet_interactive": {
     "language": "spiral"
    },
    "polyglot_notebook": {
     "kernelName": "spiral"
    }
   },
   "outputs": [],
   "source": [
    "inl deserialize forall t. (json : string) : resultm.result' t std_string =\n",
    "    inl json = join json\n",
    "    inl json = json |> as_str\n",
    "    !\\\\(json, $'\"serde_json::from_str(&$0)\"')\n",
    "    |> resultm.map_error' fun (x : json_error) => x |> format'"
   ]
  },
  {
   "cell_type": "markdown",
   "metadata": {},
   "source": [
    "### borsh_serialize"
   ]
  },
  {
   "cell_type": "code",
   "execution_count": null,
   "metadata": {
    "dotnet_interactive": {
     "language": "spiral"
    },
    "polyglot_notebook": {
     "kernelName": "spiral"
    }
   },
   "outputs": [],
   "source": [
    "inl borsh_serialize forall t. (data : t) : am'.vec u8 =\n",
    "    (!\\($'\"true; let mut data = Vec::new()\"') : bool) |> ignore\n",
    "    (!\\\\(data, $'\"true; borsh::BorshSerialize::serialize(&$0, &mut data).unwrap()\"') : bool) |> ignore\n",
    "    !\\($'\"data\"')"
   ]
  },
  {
   "cell_type": "markdown",
   "metadata": {},
   "source": [
    "### borsh_deserialize"
   ]
  },
  {
   "cell_type": "code",
   "execution_count": null,
   "metadata": {
    "dotnet_interactive": {
     "language": "spiral"
    },
    "polyglot_notebook": {
     "kernelName": "spiral"
    }
   },
   "outputs": [],
   "source": [
    "inl borsh_deserialize forall t. (data : array_base u8) : resultm.result' t std_string =\n",
    "    inl data = data |> am'.as_slice\n",
    "    (!\\($'\"true; let mut !data = !data\"') : bool) |> ignore\n",
    "    inl result = !\\($'\"borsh::BorshDeserialize::deserialize(&mut !data)\"')\n",
    "    result\n",
    "    |> resultm.map_error' fun (x : borsh_io_error) => x |> format'"
   ]
  },
  {
   "cell_type": "markdown",
   "metadata": {},
   "source": [
    "### deserialize_vec"
   ]
  },
  {
   "cell_type": "code",
   "execution_count": null,
   "metadata": {
    "dotnet_interactive": {
     "language": "spiral"
    },
    "polyglot_notebook": {
     "kernelName": "spiral"
    }
   },
   "outputs": [],
   "source": [
    "inl deserialize_vec (value : json_value) : resultm.result' (am'.vec u8) std_string =\n",
    "    inl value = join value\n",
    "    !\\($'\"serde_json::from_value(!value)\"')\n",
    "    |> resultm.map_error' fun (x : json_error) => x |> format'"
   ]
  },
  {
   "cell_type": "markdown",
   "metadata": {},
   "source": [
    "### encode_uri_component"
   ]
  },
  {
   "cell_type": "code",
   "execution_count": null,
   "metadata": {
    "dotnet_interactive": {
     "language": "spiral"
    },
    "polyglot_notebook": {
     "kernelName": "spiral"
    }
   },
   "outputs": [],
   "source": [
    "inl encode_uri_component (s : std_string) : js_string =\n",
    "    !\\($'\"js_sys::encode_uri_component(&!s)\"')"
   ]
  },
  {
   "cell_type": "markdown",
   "metadata": {},
   "source": [
    "### strip_prefix"
   ]
  },
  {
   "cell_type": "code",
   "execution_count": null,
   "metadata": {
    "dotnet_interactive": {
     "language": "spiral"
    },
    "polyglot_notebook": {
     "kernelName": "spiral"
    }
   },
   "outputs": [],
   "source": [
    "inl strip_prefix (prefix : char) (s : std_string) : optionm'.option' (rust.ref str) =\n",
    "    inl s = join s\n",
    "    !\\($'\"!s.strip_prefix(!prefix)\"')"
   ]
  },
  {
   "cell_type": "markdown",
   "metadata": {},
   "source": [
    "### str_from_utf8"
   ]
  },
  {
   "cell_type": "code",
   "execution_count": null,
   "metadata": {
    "dotnet_interactive": {
     "language": "spiral"
    },
    "polyglot_notebook": {
     "kernelName": "spiral"
    }
   },
   "outputs": [],
   "source": [
    "inl str_from_utf8 (bytes : rust.ref (am'.slice u8)) : resultm.result' (rust.ref str) utf8_error =\n",
    "    !\\\\(bytes, $'\"std::str::from_utf8($0)\"')"
   ]
  },
  {
   "cell_type": "markdown",
   "metadata": {},
   "source": [
    "### string_from_utf8"
   ]
  },
  {
   "cell_type": "code",
   "execution_count": null,
   "metadata": {
    "dotnet_interactive": {
     "language": "spiral"
    },
    "polyglot_notebook": {
     "kernelName": "spiral"
    }
   },
   "outputs": [],
   "source": [
    "inl string_from_utf8 (bytes : am'.vec u8) : resultm.result' std_string from_utf8_error =\n",
    "    inl bytes = join bytes\n",
    "    !\\\\(bytes, $'\"std::string::String::from_utf8($0)\"')"
   ]
  },
  {
   "cell_type": "markdown",
   "metadata": {},
   "source": [
    "### base64_decode"
   ]
  },
  {
   "cell_type": "code",
   "execution_count": null,
   "metadata": {
    "dotnet_interactive": {
     "language": "spiral"
    },
    "polyglot_notebook": {
     "kernelName": "spiral"
    }
   },
   "outputs": [],
   "source": [
    "inl base64_decode (s : std_string) : result std_string std_string =\n",
    "    fun () =>\n",
    "        inl s = join s\n",
    "        inl bytes : resultm.result' (am'.vec u8) base64_decode_error =\n",
    "            !\\($'\"base64::Engine::decode(&base64::engine::general_purpose::STANDARD, !s)\"')\n",
    "        bytes\n",
    "        |> resultm.map_error' format'\n",
    "        |> resultm.try'\n",
    "        |> string_from_utf8\n",
    "        |> resultm.map_error' format'\n",
    "    |> fun x =>\n",
    "        join x ()\n",
    "        |> resultm.unbox"
   ]
  },
  {
   "cell_type": "markdown",
   "metadata": {},
   "source": [
    "### encoding'"
   ]
  },
  {
   "cell_type": "code",
   "execution_count": null,
   "metadata": {
    "dotnet_interactive": {
     "language": "spiral"
    },
    "polyglot_notebook": {
     "kernelName": "spiral"
    }
   },
   "outputs": [],
   "source": [
    "nominal encoding' =\n",
    "    `(\n",
    "        global \"#if FABLE_COMPILER\\n[<Fable.Core.Erase; Fable.Core.Emit(\\\"encoding_rs::Encoding\\\")>]\\n#endif\\ntype encoding_rs_Encoding = class end\"\n",
    "        $'' : $'encoding_rs_Encoding'\n",
    "    )"
   ]
  },
  {
   "cell_type": "markdown",
   "metadata": {},
   "source": [
    "### encoding_utf8'"
   ]
  },
  {
   "cell_type": "code",
   "execution_count": null,
   "metadata": {
    "dotnet_interactive": {
     "language": "spiral"
    },
    "polyglot_notebook": {
     "kernelName": "spiral"
    }
   },
   "outputs": [],
   "source": [
    "inl encoding_utf8' () : rust.ref encoding' =\n",
    "    !\\($'\"encoding_rs::UTF_8\"')"
   ]
  },
  {
   "cell_type": "markdown",
   "metadata": {},
   "source": [
    "### encoding_1252"
   ]
  },
  {
   "cell_type": "code",
   "execution_count": null,
   "metadata": {
    "dotnet_interactive": {
     "language": "spiral"
    },
    "polyglot_notebook": {
     "kernelName": "spiral"
    }
   },
   "outputs": [],
   "source": [
    "inl encoding_1252' () : rust.ref encoding' =\n",
    "    !\\($'\"encoding_rs::WINDOWS_1252\"')"
   ]
  },
  {
   "cell_type": "markdown",
   "metadata": {},
   "source": [
    "### encoding_encode"
   ]
  },
  {
   "cell_type": "code",
   "execution_count": null,
   "metadata": {
    "dotnet_interactive": {
     "language": "spiral"
    },
    "polyglot_notebook": {
     "kernelName": "spiral"
    }
   },
   "outputs": [],
   "source": [
    "inl encoding_encode' (encoding : rust.ref encoding') (text : string) : rust.cow (am'.slice u8) =\n",
    "    !\\\\((encoding, text), $'\"$0.encode(&*$1).0\"')"
   ]
  },
  {
   "cell_type": "markdown",
   "metadata": {},
   "source": [
    "### utf8_decode"
   ]
  },
  {
   "cell_type": "code",
   "execution_count": null,
   "metadata": {
    "dotnet_interactive": {
     "language": "spiral"
    },
    "polyglot_notebook": {
     "kernelName": "spiral"
    }
   },
   "outputs": [],
   "source": [
    "inl utf8_decode (data : am'.vec u8) : resultm.result' std_string (rust.cow str) =\n",
    "    !\\($'$\"encoding::Encoding::decode(encoding::all::UTF_8, &!data, encoding::DecoderTrap::Replace)\"')"
   ]
  },
  {
   "cell_type": "markdown",
   "metadata": {},
   "source": [
    "### windows"
   ]
  },
  {
   "cell_type": "code",
   "execution_count": null,
   "metadata": {
    "dotnet_interactive": {
     "language": "spiral"
    },
    "polyglot_notebook": {
     "kernelName": "spiral"
    }
   },
   "outputs": [],
   "source": [
    "nominal windows t =\n",
    "    `(\n",
    "        global \"#if FABLE_COMPILER\\n[<Fable.Core.Erase; Fable.Core.Emit(\\\"std::slice::Windows<$0>\\\")>]\\n#endif\\ntype std_slice_Windows<'T> = class end\"\n",
    "        $'' : $'std_slice_Windows<`t>'\n",
    "    )\n",
    "\n",
    "inl windows (len : unativeint) (source : am'.vec u8) : windows u8 =\n",
    "    inl source = source |> rust.new_box |> rust.box_leak\n",
    "    // inl source' = source |> rust.clone\n",
    "    inl result = !\\\\(len, $'\"<[_]>::windows(!source, $0)\"')\n",
    "    // source |> rust.drop\n",
    "    result"
   ]
  },
  {
   "cell_type": "markdown",
   "metadata": {},
   "source": [
    "### any"
   ]
  },
  {
   "cell_type": "code",
   "execution_count": null,
   "metadata": {
    "dotnet_interactive": {
     "language": "spiral"
    },
    "polyglot_notebook": {
     "kernelName": "spiral"
    }
   },
   "outputs": [],
   "source": [
    "inl any forall t. (fn : string -> bool) (source : windows t) : bool =\n",
    "    (!\\($'\"true; let mut !source = !source\"') : bool) |> ignore\n",
    "    inl fn' x =\n",
    "        x\n",
    "        |> str_from_utf8\n",
    "        |> resultm.unwrap_or' #\"\"\n",
    "        |> ref_to_std_string\n",
    "        |> from_std_string\n",
    "        |> fn\n",
    "    !\\\\(fn', $'\"!source.any(move |x| $0(x))\"')"
   ]
  },
  {
   "cell_type": "markdown",
   "metadata": {},
   "source": [
    "### slice_contains"
   ]
  },
  {
   "cell_type": "code",
   "execution_count": null,
   "metadata": {
    "dotnet_interactive": {
     "language": "spiral"
    },
    "polyglot_notebook": {
     "kernelName": "spiral"
    }
   },
   "outputs": [],
   "source": [
    "inl slice_contains (text : string) (source : am'.vec u8) : bool =\n",
    "    fun () =>\n",
    "        inl source = join source\n",
    "        source\n",
    "        |> windows (text |> length |> (fun x => x : i32) |> convert)\n",
    "        |> any ((=.) text)\n",
    "    |> fun x => join x ()"
   ]
  },
  {
   "cell_type": "markdown",
   "metadata": {},
   "source": [
    "### as_bytes"
   ]
  },
  {
   "cell_type": "code",
   "execution_count": null,
   "metadata": {
    "dotnet_interactive": {
     "language": "spiral"
    },
    "polyglot_notebook": {
     "kernelName": "spiral"
    }
   },
   "outputs": [],
   "source": [
    "inl as_bytes (text : string) : rust.ref (am'.slice u8) =\n",
    "    inl text = join text\n",
    "    !\\($'\"!text.as_bytes()\"')"
   ]
  },
  {
   "cell_type": "markdown",
   "metadata": {},
   "source": [
    "### into_bytes"
   ]
  },
  {
   "cell_type": "code",
   "execution_count": null,
   "metadata": {
    "dotnet_interactive": {
     "language": "spiral"
    },
    "polyglot_notebook": {
     "kernelName": "spiral"
    }
   },
   "outputs": [],
   "source": [
    "inl into_bytes (x : std_string) : am'.vec u8 =\n",
    "    !\\\\(x, $'$\"$0.into_bytes()\"')"
   ]
  },
  {
   "cell_type": "markdown",
   "metadata": {},
   "source": [
    "## python"
   ]
  },
  {
   "cell_type": "markdown",
   "metadata": {},
   "source": [
    "### encode_utf8"
   ]
  },
  {
   "cell_type": "code",
   "execution_count": null,
   "metadata": {
    "dotnet_interactive": {
     "language": "spiral"
    },
    "polyglot_notebook": {
     "kernelName": "spiral"
    }
   },
   "outputs": [],
   "source": [
    "inl encode_utf8 (s : string) : string =\n",
    "    inl encoding = \"utf-8\"\n",
    "    backend_switch {\n",
    "        Fsharp = fun () =>\n",
    "            open python_operators\n",
    "            !\\\\((s, encoding), $'\"$0.encode($1)\"') : string\n",
    "        Python = fun () =>\n",
    "            $'!s.encode(!encoding)' : string\n",
    "    }"
   ]
  },
  {
   "cell_type": "markdown",
   "metadata": {},
   "source": [
    "## sm'"
   ]
  },
  {
   "cell_type": "markdown",
   "metadata": {},
   "source": [
    "### contains"
   ]
  },
  {
   "cell_type": "code",
   "execution_count": null,
   "metadata": {
    "dotnet_interactive": {
     "language": "spiral"
    },
    "polyglot_notebook": {
     "kernelName": "spiral"
    }
   },
   "outputs": [],
   "source": [
    "inl contains (value : string) (s : string) : bool =\n",
    "    backend_switch {\n",
    "        Gleam = fun () =>\n",
    "            backend_switch {\n",
    "                Gleam = fun () => global \"import gleam/string\"\n",
    "            }\n",
    "            $'!s |> string.contains(!value)' : bool\n",
    "        Fsharp = fun () => $'!s.Contains !value ' : bool\n",
    "        Python = fun () => $'!value in !s ' : bool\n",
    "    }"
   ]
  },
  {
   "cell_type": "markdown",
   "metadata": {},
   "source": [
    "### to_string result t u"
   ]
  },
  {
   "cell_type": "code",
   "execution_count": null,
   "metadata": {
    "dotnet_interactive": {
     "language": "spiral"
    },
    "polyglot_notebook": {
     "kernelName": "spiral"
    }
   },
   "outputs": [],
   "source": [
    "instance to_string result t u = fun x =>\n",
    "    real\n",
    "        open rust\n",
    "        typecase (t * u) with\n",
    "        | string * string =>\n",
    "            match x with\n",
    "            | Ok x => x\n",
    "            | Error x => $'\"sm\\'.to_string result / Error: \" + !x + \"\"' : string\n",
    "        | std_string * std_string =>\n",
    "            match x with\n",
    "            | Ok x => from_std_string x\n",
    "            | Error x => $'\"sm\\'.to_string result / Error: \" + string !x + \"\"' : string\n",
    "        | _ => obj_to_string `u x"
   ]
  },
  {
   "cell_type": "markdown",
   "metadata": {},
   "source": [
    "### format_exception"
   ]
  },
  {
   "cell_type": "code",
   "execution_count": null,
   "metadata": {
    "dotnet_interactive": {
     "language": "spiral"
    },
    "polyglot_notebook": {
     "kernelName": "spiral"
    }
   },
   "outputs": [],
   "source": [
    "inl format_exception (ex : exn) : string =\n",
    "    run_target function\n",
    "        | Fsharp (Native) => fun () => $'$\"{!ex.GetType ()}: {!ex.Message}\"'\n",
    "        | _ => fun () => ex |> format_debug"
   ]
  },
  {
   "cell_type": "code",
   "execution_count": null,
   "metadata": {
    "dotnet_interactive": {
     "language": "spiral"
    },
    "polyglot_notebook": {
     "kernelName": "spiral"
    }
   },
   "outputs": [
    {
     "data": {
      "text/plain": [
       ".py output (Python):\n",
       "{ name = __assert_eq; actual = test; expected = test }\n",
       "\n",
       ".rs output:\n",
       "{ name = __assert_eq; actual = Exception { message: \"test\" }; expected = Exception { message: \"test\" } }\n",
       "\n",
       ".ts output:\n",
       "{ name = __assert_eq; actual = Error: test; expected = Error: test }\n",
       "\n",
       ".py output:\n",
       "{ name = __assert_eq; actual = test; expected = test }\n",
       "\n"
      ]
     },
     "metadata": {},
     "output_type": "display_data"
    },
    {
     "name": "stdout",
     "output_type": "stream",
     "text": [
      ".fsx output:\n",
      "{ name = __assert_eq; actual = System.Exception: test; expected = System.Exception: test }\n"
     ]
    }
   ],
   "source": [
    "//// test\n",
    "///! fsharp\n",
    "///! cuda\n",
    "///! rust\n",
    "///! typescript\n",
    "///! python\n",
    "\n",
    "fun () => failwith \"test\"\n",
    "|> _throws\n",
    "|> optionm.value\n",
    "|> sm'.format_exception\n",
    "|> _assert_eq (run_target function\n",
    "    | Fsharp _ => fun () => join \"System.Exception: test\"\n",
    "    | Cuda _ => fun () => \"test\"\n",
    "    | Rust _ => fun () => \"Exception { message: \\\"test\\\" }\"\n",
    "    | TypeScript _ => fun () => \"Error: test\"\n",
    "    | Python _ => fun () => join \"test\"\n",
    "    | _ => fun () => null ()\n",
    ")"
   ]
  },
  {
   "cell_type": "markdown",
   "metadata": {},
   "source": [
    "### range"
   ]
  },
  {
   "cell_type": "code",
   "execution_count": null,
   "metadata": {
    "dotnet_interactive": {
     "language": "spiral"
    },
    "polyglot_notebook": {
     "kernelName": "spiral"
    }
   },
   "outputs": [],
   "source": [
    "inl range forall t. (start : am'.range t) (end : am'.range t) s =\n",
    "    inl start, end =\n",
    "        inl len () =\n",
    "            s |> length'\n",
    "        match start, end with\n",
    "        | Start start, End fn => start, len |> fn\n",
    "        | End start_fn, End end_fn => start_fn len, end_fn len\n",
    "    s |> slice (start |> i32) ((end |> i32) - 1)"
   ]
  },
  {
   "cell_type": "code",
   "execution_count": null,
   "metadata": {
    "dotnet_interactive": {
     "language": "spiral"
    },
    "polyglot_notebook": {
     "kernelName": "spiral"
    }
   },
   "outputs": [
    {
     "data": {
      "text/plain": [
       "\n",
       ".py output (Python):\n",
       "{ name = __assert_eq; actual = bcde; expected = bcde }\n",
       "{ name = __assert_eq; actual = bcd; expected = bcd }\n",
       "\n",
       "\n",
       ".gleam output (Gleam):\n",
       "{ name = __assert_eq; actual = bcde; expected = bcde }\n",
       "{ name = __assert_eq; actual = bcd; expected = bcd }\n",
       "\n",
       "\n"
      ]
     },
     "metadata": {},
     "output_type": "display_data"
    },
    {
     "name": "stdout",
     "output_type": "stream",
     "text": [
      ".fsx output:\n",
      "{ name = __assert_eq; actual = bcde; expected = bcde }\n",
      "{ name = __assert_eq; actual = bcd; expected = bcd }\n"
     ]
    }
   ],
   "source": [
    "//// test\n",
    "///! gleam\n",
    "///! fsharp\n",
    "///! cuda\n",
    "\n",
    "\"abcde\"\n",
    "|> range (am'.Start 1i32) (am'.End eval)\n",
    "|> _assert_eq \"bcde\"\n",
    "\n",
    "\"abcde\"\n",
    "|> range (am'.End fun x => x () - 4i32) (am'.End fun x => x () - 1)\n",
    "|> _assert_eq \"bcd\""
   ]
  },
  {
   "cell_type": "markdown",
   "metadata": {},
   "source": [
    "### concat_list"
   ]
  },
  {
   "cell_type": "code",
   "execution_count": null,
   "metadata": {
    "dotnet_interactive": {
     "language": "spiral"
    },
    "polyglot_notebook": {
     "kernelName": "spiral"
    }
   },
   "outputs": [],
   "source": [
    "inl concat_list s list =\n",
    "    list\n",
    "    |> listm'.box\n",
    "    |> seq.of_list'\n",
    "    |> concat s"
   ]
  },
  {
   "cell_type": "markdown",
   "metadata": {},
   "source": [
    "### ellipsis_end"
   ]
  },
  {
   "cell_type": "code",
   "execution_count": null,
   "metadata": {
    "dotnet_interactive": {
     "language": "spiral"
    },
    "polyglot_notebook": {
     "kernelName": "spiral"
    }
   },
   "outputs": [],
   "source": [
    "let ellipsis_end (max : i64) (s : string) =\n",
    "    inl len = sm.length s\n",
    "    if len <= max\n",
    "    then s\n",
    "    else\n",
    "        inl half = f64 max / 2\n",
    "        inl start_half = half |> math.ceil |> i64\n",
    "        inl end_half = half |> math.floor |> i64\n",
    "        inl start = s |> slice 0 (start_half - 1)\n",
    "        inl end = s |> slice (len - end_half) (len - 1)\n",
    "        (a ;[ start; \"...\"; end ] : _ i32 _)\n",
    "        |> seq.of_array\n",
    "        |> concat \"\""
   ]
  },
  {
   "cell_type": "code",
   "execution_count": null,
   "metadata": {
    "dotnet_interactive": {
     "language": "spiral"
    },
    "polyglot_notebook": {
     "kernelName": "spiral"
    }
   },
   "outputs": [
    {
     "name": "stdout",
     "output_type": "stream",
     "text": [
      "{ name = __assert_eq; actual = 1...5; expected = 1...5 }\n",
      "{ name = __assert_eq; actual = 12...5; expected = 12...5 }\n",
      "{ name = __assert_eq; actual = 12...67; expected = 12...67 }\n"
     ]
    }
   ],
   "source": [
    "//// test\n",
    "\n",
    "\"12345\"\n",
    "|> ellipsis_end 2\n",
    "|> _assert_eq \"1...5\"\n",
    "\n",
    "\"12345\"\n",
    "|> ellipsis_end 3\n",
    "|> _assert_eq \"12...5\"\n",
    "\n",
    "\"1234567\"\n",
    "|> ellipsis_end 4\n",
    "|> _assert_eq \"12...67\""
   ]
  },
  {
   "cell_type": "markdown",
   "metadata": {},
   "source": [
    "### format_ellipsis"
   ]
  },
  {
   "cell_type": "code",
   "execution_count": null,
   "metadata": {
    "dotnet_interactive": {
     "language": "spiral"
    },
    "polyglot_notebook": {
     "kernelName": "spiral"
    }
   },
   "outputs": [],
   "source": [
    "inl format_ellipsis s =\n",
    "    s\n",
    "    |> format_debug\n",
    "    |> ellipsis_end 400"
   ]
  },
  {
   "cell_type": "markdown",
   "metadata": {},
   "source": [
    "### replace_regex"
   ]
  },
  {
   "cell_type": "code",
   "execution_count": null,
   "metadata": {
    "dotnet_interactive": {
     "language": "spiral"
    },
    "polyglot_notebook": {
     "kernelName": "spiral"
    }
   },
   "outputs": [],
   "source": [
    "let replace_regex (pattern : string) (replacement : string) (s : string) : string =\n",
    "    run_target_args (fun () => s, pattern, replacement) function\n",
    "        | Fsharp (Native) => fun s, pattern, replacement =>\n",
    "            $'System.Text.RegularExpressions.Regex.Replace (!s, !pattern, !replacement)'\n",
    "        | Rust (Native) => fun s, pattern, replacement =>\n",
    "            inl regex = pattern |> new_regex |> resultm.unwrap'\n",
    "            inl s = join s\n",
    "            !\\\\((regex, s, replacement), $'$\"$0.replace_all(&*$1, &*$2)\"')\n",
    "            |> cow_to_std_string\n",
    "            |> from_std_string\n",
    "        | _ => fun _ => join \"\""
   ]
  },
  {
   "cell_type": "code",
   "execution_count": null,
   "metadata": {
    "dotnet_interactive": {
     "language": "spiral"
    },
    "polyglot_notebook": {
     "kernelName": "spiral"
    }
   },
   "outputs": [
    {
     "data": {
      "text/plain": [
       ".rs output (rust -d regex):\n",
       "{ name = __assert_eq; actual = 3; expected = 3 }\n",
       "\n"
      ]
     },
     "metadata": {},
     "output_type": "display_data"
    },
    {
     "name": "stdout",
     "output_type": "stream",
     "text": [
      ".fsx output:\n",
      "{ name = __assert_eq; actual = 3; expected = 3 }\n"
     ]
    }
   ],
   "source": [
    "//// test\n",
    "///! fsharp\n",
    "///! rust -d regex\n",
    "\n",
    "\" 123\"\n",
    "|> replace_regex \"\\\\s\\\\w2\" \"\"\n",
    "|> _assert_eq \"3\""
   ]
  },
  {
   "cell_type": "code",
   "execution_count": null,
   "metadata": {
    "dotnet_interactive": {
     "language": "spiral"
    },
    "polyglot_notebook": {
     "kernelName": "spiral"
    }
   },
   "outputs": [
    {
     "data": {
      "text/plain": [
       "{ name = __assert_eq; actual =     [<EntryPoint>]\n",
       "    let main args =\n",
       "        ()\n",
       "; expected =     [<EntryPoint>]\n",
       "    let main args =\n",
       "        ()\n",
       " }\n"
      ]
     },
     "metadata": {},
     "output_type": "display_data"
    }
   ],
   "source": [
    "//// test\n",
    "///! rust -d regex\n",
    "\n",
    "\"    let main args =\\n        ()\\n\"\n",
    "|> replace_regex $'@@\"(?P<a> *)(?P<b>let\\\\s+main\\\\s+.*?\\\\s*=)\"' \"$a[<EntryPoint>]\\n$a$b\"\n",
    "|> _assert_eq \"    [<EntryPoint>]\\n    let main args =\\n        ()\\n\""
   ]
  },
  {
   "cell_type": "markdown",
   "metadata": {},
   "source": [
    "## main"
   ]
  },
  {
   "cell_type": "code",
   "execution_count": null,
   "metadata": {
    "dotnet_interactive": {
     "language": "spiral"
    },
    "polyglot_notebook": {
     "kernelName": "spiral"
    }
   },
   "outputs": [],
   "source": [
    "inl main () =\n",
    "    $'let contains x = !contains x' : ()\n",
    "    $'let ends_with x = !ends_with x' : ()\n",
    "    $'let pad_left x = !pad_left x' : ()\n",
    "    $'let pad_right x = !pad_right x' : ()\n",
    "    $'let replace x = !replace x' : ()\n",
    "    $'let replace_regex x = !replace_regex x' : ()\n",
    "    inl slice (a : i32) (b : i32) c = slice a b c\n",
    "    $'let slice x = !slice x' : ()\n",
    "    $'let split x = !split x' : ()\n",
    "    $'let split_string x = !split_string x' : ()\n",
    "    $'let starts_with x = !starts_with x' : ()\n",
    "    $'let substring x = !substring x' : ()\n",
    "    $'let to_lower x = !to_lower x' : ()\n",
    "    $'let to_upper x = !to_upper x' : ()\n",
    "    $'let trim x = !trim x' : ()\n",
    "    inl trim_end x = (a x : _ int _) |> am'.to_list' |> listm'.unbox |> trim_end\n",
    "    $'let trim_end x = !trim_end x' : ()\n",
    "    inl trim_start x = (a x : _ int _) |> am'.to_list' |> listm'.unbox |> trim_start\n",
    "    $'let trim_start x = !trim_start x' : ()\n",
    "    $'let ellipsis x = !ellipsis x' : ()\n",
    "    $'let ellipsis_end x = !ellipsis_end x' : ()\n",
    "    $'let format_exception x = !format_exception x' : ()\n",
    "    $'let concat_array x = !concat_array x' : ()\n",
    "    inl concat a (b : seq.seq' string) = concat a b\n",
    "    $'let concat x = !concat x' : ()\n",
    "    $'let join\\' x = !join' x' : ()\n",
    "    $'let to_char_array x = !to_char_array x' : ()"
   ]
  },
  {
   "cell_type": "markdown",
   "metadata": {},
   "source": [
    "## rust"
   ]
  },
  {
   "cell_type": "markdown",
   "metadata": {},
   "source": [
    "### to_string std_string"
   ]
  },
  {
   "cell_type": "code",
   "execution_count": null,
   "metadata": {
    "dotnet_interactive": {
     "language": "spiral"
    },
    "polyglot_notebook": {
     "kernelName": "spiral"
    }
   },
   "outputs": [],
   "source": [
    "open rust\n",
    "instance to_string std_string = from_std_string"
   ]
  }
 ],
 "metadata": {},
 "nbformat": 4,
 "nbformat_minor": 5
}