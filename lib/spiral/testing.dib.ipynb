{
 "cells": [
  {
   "cell_type": "markdown",
   "metadata": {},
   "source": [
    "# testing"
   ]
  },
  {
   "cell_type": "markdown",
   "metadata": {},
   "source": [
    "## testing"
   ]
  },
  {
   "cell_type": "code",
   "execution_count": null,
   "metadata": {
    "dotnet_interactive": {
     "language": "spiral"
    },
    "polyglot_notebook": {
     "kernelName": "spiral"
    }
   },
   "outputs": [],
   "source": [
    "open sm'_operators"
   ]
  },
  {
   "cell_type": "markdown",
   "metadata": {},
   "source": [
    "### testing_trace"
   ]
  },
  {
   "cell_type": "code",
   "execution_count": null,
   "metadata": {
    "dotnet_interactive": {
     "language": "spiral"
    },
    "polyglot_notebook": {
     "kernelName": "spiral"
    }
   },
   "outputs": [],
   "source": [
    "union testing_trace =\n",
    "    | Console\n",
    "    | Trace\n",
    "    | TraceRaw\n",
    "    | Silent"
   ]
  },
  {
   "cell_type": "markdown",
   "metadata": {},
   "source": [
    "### __expect"
   ]
  },
  {
   "cell_type": "code",
   "execution_count": null,
   "metadata": {
    "dotnet_interactive": {
     "language": "spiral"
    },
    "polyglot_notebook": {
     "kernelName": "spiral"
    }
   },
   "outputs": [],
   "source": [
    "inl rec __expect\n",
    "    (fn : _ -> _ -> bool)\n",
    "    (trace' : testing_trace)\n",
    "    (name : string)\n",
    "    (b : _)\n",
    "    (a : _)\n",
    "    : ()\n",
    "    =\n",
    "    inl result = fn a b\n",
    "    inl result =\n",
    "        result || join result\n",
    "    inl get_raw_text () =\n",
    "        { name actual = a; expected = b } |> sm'.format\n",
    "    match trace' with\n",
    "    | Console =>\n",
    "        inl text = get_raw_text ()\n",
    "        text |> console.write_line\n",
    "        text\n",
    "    | Trace =>\n",
    "        trace Info (fun () => name) fun () => { actual = a; expected = b }\n",
    "        get_raw_text ()\n",
    "    | TraceRaw =>\n",
    "        inl text = get_raw_text ()\n",
    "        trace_raw Info fun () => text\n",
    "        text\n",
    "    | Silent => reflection.nameof { __expect }\n",
    "    |> assert result"
   ]
  },
  {
   "cell_type": "markdown",
   "metadata": {},
   "source": [
    "### __assert_approx_eq"
   ]
  },
  {
   "cell_type": "code",
   "execution_count": null,
   "metadata": {
    "dotnet_interactive": {
     "language": "spiral"
    },
    "polyglot_notebook": {
     "kernelName": "spiral"
    }
   },
   "outputs": [],
   "source": [
    "inl rec __assert_approx_eq trace e b a =\n",
    "    __expect\n",
    "        (fun a b => abs (b - a) < (e |> optionm.defaultWith 0.00000001))\n",
    "        trace\n",
    "        (reflection.nameof { __assert_approx_eq })\n",
    "        b\n",
    "        a\n",
    "\n",
    "inl _assert_approx_eq e b a =\n",
    "    __assert_approx_eq Console e b a"
   ]
  },
  {
   "cell_type": "code",
   "execution_count": null,
   "metadata": {
    "dotnet_interactive": {
     "language": "spiral"
    },
    "polyglot_notebook": {
     "kernelName": "spiral"
    }
   },
   "outputs": [
    {
     "data": {
      "text/plain": [
       ".py output (Cuda):\n",
       "{ name = __assert_approx_eq; actual = 12.345000; expected = 12.345000 }\n",
       "\n",
       ".rs output:\n",
       "{ name = __assert_approx_eq; actual = +12.345000; expected = +12.345000 }\n",
       "\n",
       ".ts output:\n",
       "{ name = __assert_approx_eq; actual = +12.345000; expected = +12.345000 }\n",
       "\n",
       ".py output:\n",
       "{ name = __assert_approx_eq; actual = +12.345000; expected = +12.345000 }\n",
       "\n",
       "\n",
       ".gleam output (Gleam):\n",
       "{compiling,\"/home/runner/work/spiral/polyglot/target/spiral_Eval/packages/844739e1f0ee679cc325f0fc1b1acc0261b8e5a50c1892ffe974b9d729d6b8a9/build/dev/erlang/main/_gleam_artefacts/main@@main.erl\"}\n",
       "{compiling,\"/home/runner/work/spiral/polyglot/target/spiral_Eval/packages/844739e1f0ee679cc325f0fc1b1acc0261b8e5a50c1892ffe974b9d729d6b8a9/build/dev/erlang/main/_gleam_artefacts/main.erl\"}\n",
       "{compiled,main,\n",
       "          \"/home/runner/work/spiral/polyglot/target/spiral_Eval/packages/844739e1f0ee679cc325f0fc1b1acc0261b8e5a50c1892ffe974b9d729d6b8a9/build/dev/erlang/main/ebin/main.beam\"}\n",
       "{compiled,main@@main,\n",
       "          \"/home/runner/work/spiral/polyglot/target/spiral_Eval/packages/844739e1f0ee679cc325f0fc1b1acc0261b8e5a50c1892ffe974b9d729d6b8a9/build/dev/erlang/main/ebin/main@@main.beam\"}\n",
       "{ name = __assert_approx_eq; actual = 12.345; expected = 12.345 }\n",
       "\n",
       "\n"
      ]
     },
     "metadata": {},
     "output_type": "display_data"
    },
    {
     "name": "stdout",
     "output_type": "stream",
     "text": [
      ".fsx output:\n",
      "{ name = __assert_approx_eq; actual = +12.345000; expected = +12.345000 }\n"
     ]
    }
   ],
   "source": [
    "//// test\n",
    "///! gleam\n",
    "///! fsharp\n",
    "///! cuda\n",
    "///! rust\n",
    "///! typescript\n",
    "///! python\n",
    "\n",
    "12.345f64\n",
    "|> _assert_approx_eq (Some 0.0001f64) 12.345f64"
   ]
  },
  {
   "cell_type": "code",
   "execution_count": null,
   "metadata": {
    "dotnet_interactive": {
     "language": "spiral"
    },
    "polyglot_notebook": {
     "kernelName": "spiral"
    }
   },
   "outputs": [
    {
     "name": "stdout",
     "output_type": "stream",
     "text": [
      "type Mut0 = {mutable l0 : string}\n",
      "let rec method1 () : string =\n",
      "    let v0 : string = \"\"\n",
      "    v0\n",
      "and closure0 (v0 : Mut0, v1 : string) () : unit =\n",
      "    let v2 : string = v0.l0\n",
      "    let v4 : string = v2 + v1 \n",
      "    v0.l0 <- v4\n",
      "    ()\n",
      "and closure1 (v0 : string) () : unit =\n",
      "    let v1 : (string -> unit) = System.Console.WriteLine\n",
      "    v1 v0\n",
      "and method0 () : unit =\n",
      "    let v0 : string = method1()\n",
      "    let v1 : Mut0 = {l0 = v0} : Mut0\n",
      "    let v4 : string = \"{ \"\n",
      "    let v5 : string = $\"{v4}\"\n",
      "    let v13 : unit = ()\n",
      "    let v14 : (unit -> unit) = closure0(v1, v5)\n",
      "    let v15 : unit = (fun () -> v14 (); v13) ()\n",
      "    let v23 : string = \"name\"\n",
      "    let v24 : string = $\"{v23}\"\n",
      "    let v32 : unit = ()\n",
      "    let v33 : (unit -> unit) = closure0(v1, v24)\n",
      "    let v34 : unit = (fun () -> v33 (); v32) ()\n",
      "    let v42 : string = \" = \"\n",
      "    let v43 : string = $\"{v42}\"\n",
      "    let v51 : unit = ()\n",
      "    let v52 : (unit -> unit) = closure0(v1, v43)\n",
      "    let v53 : unit = (fun () -> v52 (); v51) ()\n",
      "    let v61 : string = \"__assert_approx_eq\"\n",
      "    let v62 : string = $\"{v61}\"\n",
      "    let v70 : unit = ()\n",
      "    let v71 : (unit -> unit) = closure0(v1, v62)\n",
      "    let v72 : unit = (fun () -> v71 (); v70) ()\n",
      "    let v80 : string = \"; \"\n",
      "    let v81 : string = $\"{v80}\"\n",
      "    let v89 : unit = ()\n",
      "    let v90 : (unit -> unit) = closure0(v1, v81)\n",
      "    let v91 : unit = (fun () -> v90 (); v89) ()\n",
      "    let v99 : string = \"actual\"\n",
      "    let v100 : string = $\"{v99}\"\n",
      "    let v108 : unit = ()\n",
      "    let v109 : (unit -> unit) = closure0(v1, v100)\n",
      "    let v110 : unit = (fun () -> v109 (); v108) ()\n",
      "    let v117 : string = $\"{v42}\"\n",
      "    let v125 : unit = ()\n",
      "    let v126 : (unit -> unit) = closure0(v1, v117)\n",
      "    let v127 : unit = (fun () -> v126 (); v125) ()\n",
      "    let v137 : string = $\"%+.6f{1.0}\"\n",
      "    let v145 : unit = ()\n",
      "    let v146 : (unit -> unit) = closure0(v1, v137)\n",
      "    let v147 : unit = (fun () -> v146 (); v145) ()\n",
      "    let v154 : string = $\"{v80}\"\n",
      "    let v162 : unit = ()\n",
      "    let v163 : (unit -> unit) = closure0(v1, v154)\n",
      "    let v164 : unit = (fun () -> v163 (); v162) ()\n",
      "    let v172 : string = \"expected\"\n",
      "    let v173 : string = $\"{v172}\"\n",
      "    let v181 : unit = ()\n",
      "    let v182 : (unit -> unit) = closure0(v1, v173)\n",
      "    let v183 : unit = (fun () -> v182 (); v181) ()\n",
      "    let v190 : string = $\"{v42}\"\n",
      "    let v198 : unit = ()\n",
      "    let v199 : (unit -> unit) = closure0(v1, v190)\n",
      "    let v200 : unit = (fun () -> v199 (); v198) ()\n",
      "    let v210 : string = $\"%+.6f{2.0}\"\n",
      "    let v218 : unit = ()\n",
      "    let v219 : (unit -> unit) = closure0(v1, v210)\n",
      "    let v220 : unit = (fun () -> v219 (); v218) ()\n",
      "    let v228 : string = \" }\"\n",
      "    let v229 : string = $\"{v228}\"\n",
      "    let v237 : unit = ()\n",
      "    let v238 : (unit -> unit) = closure0(v1, v229)\n",
      "    let v239 : unit = (fun () -> v238 (); v237) ()\n",
      "    let v245 : string = v1.l0\n",
      "    let v247 : unit = ()\n",
      "    let v248 : (unit -> unit) = closure1(v245)\n",
      "    let v249 : unit = (fun () -> v248 (); v247) ()\n",
      "    ()\n",
      "method0()\n",
      "\n",
      "{ name = __assert_approx_eq; actual = +1.000000; expected = +2.000000 }\n"
     ]
    }
   ],
   "source": [
    "//// test\n",
    "//// print_code\n",
    "\n",
    "1f64\n",
    "|> __assert_approx_eq Console (Some 3) 2"
   ]
  },
  {
   "cell_type": "code",
   "execution_count": null,
   "metadata": {
    "dotnet_interactive": {
     "language": "spiral"
    },
    "polyglot_notebook": {
     "kernelName": "spiral"
    }
   },
   "outputs": [
    {
     "name": "stdout",
     "output_type": "stream",
     "text": [
      "type Mut0 = {mutable l0 : string}\n",
      "let rec method1 (v0 : bool) : bool =\n",
      "    v0\n",
      "and method2 () : string =\n",
      "    let v0 : string = \"\"\n",
      "    v0\n",
      "and closure0 (v0 : Mut0, v1 : string) () : unit =\n",
      "    let v2 : string = v0.l0\n",
      "    let v4 : string = v2 + v1 \n",
      "    v0.l0 <- v4\n",
      "    ()\n",
      "and closure1 (v0 : string) () : unit =\n",
      "    let v1 : (string -> unit) = System.Console.WriteLine\n",
      "    v1 v0\n",
      "and method0 () : unit =\n",
      "    let v0 : float = 1.0\n",
      "    let v1 : float = 2.0 - v0\n",
      "    let v2 : float =  -v1\n",
      "    let v3 : bool = v1 >= v2\n",
      "    let v4 : float =\n",
      "        if v3 then\n",
      "            v1\n",
      "        else\n",
      "            v2\n",
      "    let v5 : bool = v4 < 3.0\n",
      "    let v7 : bool =\n",
      "        if v5 then\n",
      "            true\n",
      "        else\n",
      "            method1(v5)\n",
      "    let v8 : string = method2()\n",
      "    let v9 : Mut0 = {l0 = v8} : Mut0\n",
      "    let v12 : string = \"{ \"\n",
      "    let v13 : string = $\"{v12}\"\n",
      "    let v21 : unit = ()\n",
      "    let v22 : (unit -> unit) = closure0(v9, v13)\n",
      "    let v23 : unit = (fun () -> v22 (); v21) ()\n",
      "    let v31 : string = \"name\"\n",
      "    let v32 : string = $\"{v31}\"\n",
      "    let v40 : unit = ()\n",
      "    let v41 : (unit -> unit) = closure0(v9, v32)\n",
      "    let v42 : unit = (fun () -> v41 (); v40) ()\n",
      "    let v50 : string = \" = \"\n",
      "    let v51 : string = $\"{v50}\"\n",
      "    let v59 : unit = ()\n",
      "    let v60 : (unit -> unit) = closure0(v9, v51)\n",
      "    let v61 : unit = (fun () -> v60 (); v59) ()\n",
      "    let v69 : string = \"__assert_approx_eq\"\n",
      "    let v70 : string = $\"{v69}\"\n",
      "    let v78 : unit = ()\n",
      "    let v79 : (unit -> unit) = closure0(v9, v70)\n",
      "    let v80 : unit = (fun () -> v79 (); v78) ()\n",
      "    let v88 : string = \"; \"\n",
      "    let v89 : string = $\"{v88}\"\n",
      "    let v97 : unit = ()\n",
      "    let v98 : (unit -> unit) = closure0(v9, v89)\n",
      "    let v99 : unit = (fun () -> v98 (); v97) ()\n",
      "    let v107 : string = \"actual\"\n",
      "    let v108 : string = $\"{v107}\"\n",
      "    let v116 : unit = ()\n",
      "    let v117 : (unit -> unit) = closure0(v9, v108)\n",
      "    let v118 : unit = (fun () -> v117 (); v116) ()\n",
      "    let v125 : string = $\"{v50}\"\n",
      "    let v133 : unit = ()\n",
      "    let v134 : (unit -> unit) = closure0(v9, v125)\n",
      "    let v135 : unit = (fun () -> v134 (); v133) ()\n",
      "    let v145 : string = $\"%+.6f{v0}\"\n",
      "    let v153 : unit = ()\n",
      "    let v154 : (unit -> unit) = closure0(v9, v145)\n",
      "    let v155 : unit = (fun () -> v154 (); v153) ()\n",
      "    let v162 : string = $\"{v88}\"\n",
      "    let v170 : unit = ()\n",
      "    let v171 : (unit -> unit) = closure0(v9, v162)\n",
      "    let v172 : unit = (fun () -> v171 (); v170) ()\n",
      "    let v180 : string = \"expected\"\n",
      "    let v181 : string = $\"{v180}\"\n",
      "    let v189 : unit = ()\n",
      "    let v190 : (unit -> unit) = closure0(v9, v181)\n",
      "    let v191 : unit = (fun () -> v190 (); v189) ()\n",
      "    let v198 : string = $\"{v50}\"\n",
      "    let v206 : unit = ()\n",
      "    let v207 : (unit -> unit) = closure0(v9, v198)\n",
      "    let v208 : unit = (fun () -> v207 (); v206) ()\n",
      "    let v218 : string = $\"%+.6f{2.0}\"\n",
      "    let v226 : unit = ()\n",
      "    let v227 : (unit -> unit) = closure0(v9, v218)\n",
      "    let v228 : unit = (fun () -> v227 (); v226) ()\n",
      "    let v236 : string = \" }\"\n",
      "    let v237 : string = $\"{v236}\"\n",
      "    let v245 : unit = ()\n",
      "    let v246 : (unit -> unit) = closure0(v9, v237)\n",
      "    let v247 : unit = (fun () -> v246 (); v245) ()\n",
      "    let v253 : string = v9.l0\n",
      "    let v255 : unit = ()\n",
      "    let v256 : (unit -> unit) = closure1(v253)\n",
      "    let v257 : unit = (fun () -> v256 (); v255) ()\n",
      "    let v259 : bool = v7 = false\n",
      "    if v259 then\n",
      "        failwith<unit> v253\n",
      "method0()\n",
      "\n",
      "{ name = __assert_approx_eq; actual = +1.000000; expected = +2.000000 }\n"
     ]
    }
   ],
   "source": [
    "//// test\n",
    "//// print_code\n",
    "\n",
    "(dyn 1f64)\n",
    "|> _assert_approx_eq (Some 3) 2"
   ]
  },
  {
   "cell_type": "markdown",
   "metadata": {},
   "source": [
    "### __assert_eq"
   ]
  },
  {
   "cell_type": "code",
   "execution_count": null,
   "metadata": {
    "dotnet_interactive": {
     "language": "spiral"
    },
    "polyglot_notebook": {
     "kernelName": "spiral"
    }
   },
   "outputs": [],
   "source": [
    "inl rec __assert_eq trace b a =\n",
    "    __expect (=) trace (reflection.nameof { __assert_eq }) b a\n",
    "\n",
    "inl _assert_eq b a =\n",
    "    __assert_eq Console b a"
   ]
  },
  {
   "cell_type": "markdown",
   "metadata": {},
   "source": [
    "### __assert_eq'"
   ]
  },
  {
   "cell_type": "code",
   "execution_count": null,
   "metadata": {
    "dotnet_interactive": {
     "language": "spiral"
    },
    "polyglot_notebook": {
     "kernelName": "spiral"
    }
   },
   "outputs": [],
   "source": [
    "inl rec __assert_eq' trace b a =\n",
    "    __expect (=.) trace (reflection.nameof { __assert_eq' }) b a\n",
    "\n",
    "inl _assert_eq' b a =\n",
    "    __assert_eq' Console b a"
   ]
  },
  {
   "cell_type": "markdown",
   "metadata": {},
   "source": [
    "### __assert_ne"
   ]
  },
  {
   "cell_type": "code",
   "execution_count": null,
   "metadata": {
    "dotnet_interactive": {
     "language": "spiral"
    },
    "polyglot_notebook": {
     "kernelName": "spiral"
    }
   },
   "outputs": [],
   "source": [
    "inl rec __assert_ne trace b a =\n",
    "    __expect (<>.) trace (reflection.nameof { __assert_ne }) b a\n",
    "\n",
    "inl _assert_ne b a =\n",
    "    __assert_ne Console b a"
   ]
  },
  {
   "cell_type": "markdown",
   "metadata": {},
   "source": [
    "### __assert_gt"
   ]
  },
  {
   "cell_type": "code",
   "execution_count": null,
   "metadata": {
    "dotnet_interactive": {
     "language": "spiral"
    },
    "polyglot_notebook": {
     "kernelName": "spiral"
    }
   },
   "outputs": [],
   "source": [
    "inl rec __assert_gt trace b a =\n",
    "    __expect (>) trace (reflection.nameof { __assert_gt }) b a\n",
    "\n",
    "inl _assert_gt b a =\n",
    "    __assert_gt Console b a"
   ]
  },
  {
   "cell_type": "markdown",
   "metadata": {},
   "source": [
    "### __assert_ge"
   ]
  },
  {
   "cell_type": "code",
   "execution_count": null,
   "metadata": {
    "dotnet_interactive": {
     "language": "spiral"
    },
    "polyglot_notebook": {
     "kernelName": "spiral"
    }
   },
   "outputs": [],
   "source": [
    "inl rec __assert_ge trace b a =\n",
    "    __expect (>=) trace (reflection.nameof { __assert_ge }) b a\n",
    "\n",
    "inl _assert_ge b a =\n",
    "    __assert_ge Console b a"
   ]
  },
  {
   "cell_type": "markdown",
   "metadata": {},
   "source": [
    "### __assert_lt"
   ]
  },
  {
   "cell_type": "code",
   "execution_count": null,
   "metadata": {
    "dotnet_interactive": {
     "language": "spiral"
    },
    "polyglot_notebook": {
     "kernelName": "spiral"
    }
   },
   "outputs": [],
   "source": [
    "inl rec __assert_lt trace b a =\n",
    "    __expect (<) trace (reflection.nameof { __assert_lt }) b a\n",
    "\n",
    "inl _assert_lt b a =\n",
    "    __assert_lt Console b a"
   ]
  },
  {
   "cell_type": "markdown",
   "metadata": {},
   "source": [
    "### __assert_le"
   ]
  },
  {
   "cell_type": "code",
   "execution_count": null,
   "metadata": {
    "dotnet_interactive": {
     "language": "spiral"
    },
    "polyglot_notebook": {
     "kernelName": "spiral"
    }
   },
   "outputs": [],
   "source": [
    "inl rec __assert_le trace b a =\n",
    "    __expect (<=) trace (reflection.nameof { __assert_le }) b a\n",
    "\n",
    "inl _assert_le b a =\n",
    "    __assert_le Console b a"
   ]
  },
  {
   "cell_type": "markdown",
   "metadata": {},
   "source": [
    "### __assert"
   ]
  },
  {
   "cell_type": "code",
   "execution_count": null,
   "metadata": {
    "dotnet_interactive": {
     "language": "spiral"
    },
    "polyglot_notebook": {
     "kernelName": "spiral"
    }
   },
   "outputs": [],
   "source": [
    "inl rec __assert fn trace b a =\n",
    "    __expect fn trace (reflection.nameof { __assert }) a b\n",
    "\n",
    "inl _assert fn b a =\n",
    "    __assert fn Console b a"
   ]
  },
  {
   "cell_type": "markdown",
   "metadata": {},
   "source": [
    "### __assert_between"
   ]
  },
  {
   "cell_type": "code",
   "execution_count": null,
   "metadata": {
    "dotnet_interactive": {
     "language": "spiral"
    },
    "polyglot_notebook": {
     "kernelName": "spiral"
    }
   },
   "outputs": [],
   "source": [
    "inl rec __assert_between trace a b actual =\n",
    "    inl assert_between actual (a, b) =\n",
    "        __assert_ge Silent a actual\n",
    "        __assert_le Silent b actual\n",
    "        true\n",
    "    __expect assert_between trace (reflection.nameof { __assert_between }) (a, b) actual\n",
    "\n",
    "inl _assert_between a b actual =\n",
    "    __assert_between Console a b actual"
   ]
  },
  {
   "cell_type": "markdown",
   "metadata": {},
   "source": [
    "### _assert_fn"
   ]
  },
  {
   "cell_type": "code",
   "execution_count": null,
   "metadata": {
    "dotnet_interactive": {
     "language": "spiral"
    },
    "polyglot_notebook": {
     "kernelName": "spiral"
    }
   },
   "outputs": [],
   "source": [
    "inl rec _assert_fn fn list =\n",
    "    list\n",
    "    |> listm.rev\n",
    "    |> listm.map fun input, expected => join\n",
    "        input\n",
    "        |> fn\n",
    "        |> resultm.get\n",
    "        |> fun x =>\n",
    "            inl expected' = join expected\n",
    "            inl name = reflection.nameof { _assert_fn }\n",
    "            try\n",
    "                fun () =>\n",
    "                    console.write_line \"\"\n",
    "                    trace Verbose\n",
    "                        fun () => name\n",
    "                        fun () => { input }\n",
    "                    x\n",
    "                    |> sm'.format\n",
    "                    |> _assert_eq' (expected' |> sm'.format)\n",
    "                    true\n",
    "                fun ex =>\n",
    "                    trace Critical\n",
    "                        fun () => name ++# \" / error\"\n",
    "                        fun () => { ex expected }\n",
    "                    Some false\n",
    "            |> optionm.value\n",
    "    |> listm'.filter not\n",
    "    |> function\n",
    "        | [] => ()\n",
    "        | x => x |> sm'.format_debug |> failwith"
   ]
  },
  {
   "cell_type": "markdown",
   "metadata": {},
   "source": [
    "### _assert_in"
   ]
  },
  {
   "cell_type": "code",
   "execution_count": null,
   "metadata": {
    "dotnet_interactive": {
     "language": "spiral"
    },
    "polyglot_notebook": {
     "kernelName": "spiral"
    }
   },
   "outputs": [],
   "source": [
    "inl _assert_in items x =\n",
    "    (None, items)\n",
    "    ||> listm.fold fun acc x' =>\n",
    "        match acc with\n",
    "        | Some x => Some x\n",
    "        | None =>\n",
    "            if x' <>. x\n",
    "            then None\n",
    "            else\n",
    "                trace Debug (fun () => \"_assert_in\") fun () => { x x' }\n",
    "                Some ()\n",
    "    |> function\n",
    "        | Some _ => ()\n",
    "        | None =>\n",
    "            \"_assert_in / \" ++# ({ x items } |> sm'.format) |> failwith"
   ]
  },
  {
   "cell_type": "markdown",
   "metadata": {},
   "source": [
    "## fsharp"
   ]
  },
  {
   "cell_type": "markdown",
   "metadata": {},
   "source": [
    "### __assert_contains"
   ]
  },
  {
   "cell_type": "code",
   "execution_count": null,
   "metadata": {
    "dotnet_interactive": {
     "language": "spiral"
    },
    "polyglot_notebook": {
     "kernelName": "spiral"
    }
   },
   "outputs": [],
   "source": [
    "inl rec __assert_contains forall t u. (trace : testing_trace) (b : t) (a : u) : () =\n",
    "    __expect\n",
    "        fun a b =>\n",
    "            a\n",
    "            |> $'List.ofSeq'\n",
    "            |> fun x => x : listm'.list' t\n",
    "            |> $'List.tryFind' ((=) b)\n",
    "            |> optionm'.unbox\n",
    "            |> fun (x : option t) => x <> None\n",
    "        trace\n",
    "        // TODO: forall nameof (Cannot dyn a forall into a runtime var.)\n",
    "        // Metavars that are not part of the enclosing function's signature are not allowed. They need to be values.\n",
    "        // Got: {__assert_contains : testing_trace -> _ -> _ -> ()} -> string\n",
    "        // (reflection.nameof { __assert_contains })\n",
    "        \"__assert_contains\"\n",
    "        b\n",
    "        a\n",
    "\n",
    "inl _assert_contains b a =\n",
    "    __assert_contains Console b a"
   ]
  },
  {
   "cell_type": "code",
   "execution_count": null,
   "metadata": {
    "dotnet_interactive": {
     "language": "spiral"
    },
    "polyglot_notebook": {
     "kernelName": "spiral"
    }
   },
   "outputs": [
    {
     "name": "stdout",
     "output_type": "stream",
     "text": [
      "{ name = __assert_contains; actual = [|\"a\"; \"b\"; \"c\"|]; expected = b }\n"
     ]
    }
   ],
   "source": [
    "//// test\n",
    "\n",
    ";[ \"a\"; \"b\"; \"c\" ]\n",
    "|> _assert_contains \"b\""
   ]
  },
  {
   "cell_type": "code",
   "execution_count": null,
   "metadata": {
    "dotnet_interactive": {
     "language": "spiral"
    },
    "polyglot_notebook": {
     "kernelName": "spiral"
    }
   },
   "outputs": [
    {
     "name": "stdout",
     "output_type": "stream",
     "text": [
      "{ name = __assert_contains; actual = abcd; expected = b }\n"
     ]
    }
   ],
   "source": [
    "//// test\n",
    "\n",
    "\"abcd\"\n",
    "|> _assert_contains 'b'"
   ]
  },
  {
   "cell_type": "markdown",
   "metadata": {},
   "source": [
    "### _throws"
   ]
  },
  {
   "cell_type": "code",
   "execution_count": null,
   "metadata": {
    "dotnet_interactive": {
     "language": "spiral"
    },
    "polyglot_notebook": {
     "kernelName": "spiral"
    }
   },
   "outputs": [],
   "source": [
    "inl _throws (fn : () -> ()) : option exn =\n",
    "    inl none = None : option exn\n",
    "    inl some (s : exn) = Some s\n",
    "    backend_switch {\n",
    "        Fsharp = fun () =>\n",
    "            $'try !fn (); !none with ex -> ex |> !some ' : option exn\n",
    "        Python = fun () =>\n",
    "            $'fn = !fn '\n",
    "            $'none = !none '\n",
    "            $'some = !some '\n",
    "            $'try: fn(); x = none '\n",
    "            $'except Exception as ex: x = some(ex)'\n",
    "            $'x' : option exn\n",
    "    }"
   ]
  },
  {
   "cell_type": "markdown",
   "metadata": {},
   "source": [
    "### print_and_return"
   ]
  },
  {
   "cell_type": "code",
   "execution_count": null,
   "metadata": {
    "dotnet_interactive": {
     "language": "spiral"
    },
    "polyglot_notebook": {
     "kernelName": "spiral"
    }
   },
   "outputs": [],
   "source": [
    "inl rec print_and_return x =\n",
    "    inl name = reflection.nameof { print_and_return }\n",
    "    name ++# ({ x } |> sm'.format)\n",
    "    |> console.write_line\n",
    "    x"
   ]
  }
 ],
 "metadata": {},
 "nbformat": 4,
 "nbformat_minor": 5
}