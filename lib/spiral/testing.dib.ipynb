{
 "cells": [
  {
   "cell_type": "markdown",
   "metadata": {},
   "source": [
    "# testing"
   ]
  },
  {
   "cell_type": "markdown",
   "metadata": {},
   "source": [
    "## testing"
   ]
  },
  {
   "cell_type": "code",
   "execution_count": null,
   "metadata": {
    "dotnet_interactive": {
     "language": "spiral"
    },
    "polyglot_notebook": {
     "kernelName": "spiral"
    }
   },
   "outputs": [],
   "source": [
    "open sm'_operators"
   ]
  },
  {
   "cell_type": "markdown",
   "metadata": {},
   "source": [
    "### testing_trace"
   ]
  },
  {
   "cell_type": "code",
   "execution_count": null,
   "metadata": {
    "dotnet_interactive": {
     "language": "spiral"
    },
    "polyglot_notebook": {
     "kernelName": "spiral"
    }
   },
   "outputs": [],
   "source": [
    "union testing_trace =\n",
    "    | Console\n",
    "    | Trace\n",
    "    | TraceRaw\n",
    "    | Silent"
   ]
  },
  {
   "cell_type": "markdown",
   "metadata": {},
   "source": [
    "### __expect"
   ]
  },
  {
   "cell_type": "code",
   "execution_count": null,
   "metadata": {
    "dotnet_interactive": {
     "language": "spiral"
    },
    "polyglot_notebook": {
     "kernelName": "spiral"
    }
   },
   "outputs": [],
   "source": [
    "inl rec __expect\n",
    "    (fn : _ -> _ -> bool)\n",
    "    (trace' : testing_trace)\n",
    "    (name : string)\n",
    "    (b : _)\n",
    "    (a : _)\n",
    "    : ()\n",
    "    =\n",
    "    inl result = fn a b\n",
    "    inl result =\n",
    "        result || join result\n",
    "    inl get_raw_text () =\n",
    "        { name actual = a; expected = b } |> sm'.format\n",
    "    match trace' with\n",
    "    | Console =>\n",
    "        inl text = get_raw_text ()\n",
    "        text |> console.write_line\n",
    "        text\n",
    "    | Trace =>\n",
    "        trace Info (fun () => name) fun () => { actual = a; expected = b }\n",
    "        get_raw_text ()\n",
    "    | TraceRaw =>\n",
    "        inl text = get_raw_text ()\n",
    "        trace_raw Info fun () => text\n",
    "        text\n",
    "    | Silent => reflection.nameof { __expect }\n",
    "    |> assert result"
   ]
  },
  {
   "cell_type": "markdown",
   "metadata": {},
   "source": [
    "### __assert_approx_eq"
   ]
  },
  {
   "cell_type": "code",
   "execution_count": null,
   "metadata": {
    "dotnet_interactive": {
     "language": "spiral"
    },
    "polyglot_notebook": {
     "kernelName": "spiral"
    }
   },
   "outputs": [],
   "source": [
    "inl rec __assert_approx_eq trace e b a =\n",
    "    __expect\n",
    "        (fun a b => abs (b - a) < (e |> optionm.defaultWith 0.00000001))\n",
    "        trace\n",
    "        (reflection.nameof { __assert_approx_eq })\n",
    "        b\n",
    "        a\n",
    "\n",
    "inl _assert_approx_eq e b a =\n",
    "    __assert_approx_eq Console e b a"
   ]
  },
  {
   "cell_type": "code",
   "execution_count": null,
   "metadata": {
    "dotnet_interactive": {
     "language": "spiral"
    },
    "polyglot_notebook": {
     "kernelName": "spiral"
    }
   },
   "outputs": [
    {
     "data": {
      "text/plain": [
       ".py output (Python):\n",
       "{ name = __assert_approx_eq; actual = 12.345000; expected = 12.345000 }\n",
       "\n",
       ".rs output:\n",
       "{ name = __assert_approx_eq; actual = +12.345000; expected = +12.345000 }\n",
       "\n",
       ".ts output:\n",
       "{ name = __assert_approx_eq; actual = +12.345000; expected = +12.345000 }\n",
       "\n",
       ".py output:\n",
       "{ name = __assert_approx_eq; actual = +12.345000; expected = +12.345000 }\n",
       "\n",
       ".gleam output (Gleam):\n",
       "{ name = __assert_approx_eq; actual = 12.345; expected = 12.345 }\n",
       "\n"
      ]
     },
     "metadata": {},
     "output_type": "display_data"
    },
    {
     "name": "stdout",
     "output_type": "stream",
     "text": [
      ".fsx output:\n",
      "{ name = __assert_approx_eq; actual = +12.345000; expected = +12.345000 }\n"
     ]
    }
   ],
   "source": [
    "//// test\n",
    "///! gleam\n",
    "///! fsharp\n",
    "///! cuda\n",
    "///! rust\n",
    "///! typescript\n",
    "///! python\n",
    "\n",
    "12.345f64\n",
    "|> _assert_approx_eq (Some 0.0001f64) 12.345f64"
   ]
  },
  {
   "cell_type": "code",
   "execution_count": null,
   "metadata": {
    "dotnet_interactive": {
     "language": "spiral"
    },
    "polyglot_notebook": {
     "kernelName": "spiral"
    }
   },
   "outputs": [
    {
     "name": "stdout",
     "output_type": "stream",
     "text": [
      "type Mut0 = {mutable l0 : string}\n",
      "let rec method2 () : string =\n",
      "    let v0 : string = \"\"\n",
      "    v0\n",
      "and closure0 (v0 : Mut0, v1 : string) () : unit =\n",
      "    let v2 : string = v0.l0\n",
      "    let v4 : string = v2 + v1 \n",
      "    v0.l0 <- v4\n",
      "    ()\n",
      "and method1 (v0 : string, v1 : float, v2 : float) : string =\n",
      "    let v3 : string = method2()\n",
      "    let v4 : Mut0 = {l0 = v3} : Mut0\n",
      "    let v7 : string = \"{ \"\n",
      "    let v8 : string = $\"{v7}\"\n",
      "    let v16 : unit = ()\n",
      "    let v17 : (unit -> unit) = closure0(v4, v8)\n",
      "    let v18 : unit = (fun () -> v17 (); v16) ()\n",
      "    let v26 : string = \"name\"\n",
      "    let v27 : string = $\"{v26}\"\n",
      "    let v35 : unit = ()\n",
      "    let v36 : (unit -> unit) = closure0(v4, v27)\n",
      "    let v37 : unit = (fun () -> v36 (); v35) ()\n",
      "    let v45 : string = \" = \"\n",
      "    let v46 : string = $\"{v45}\"\n",
      "    let v54 : unit = ()\n",
      "    let v55 : (unit -> unit) = closure0(v4, v46)\n",
      "    let v56 : unit = (fun () -> v55 (); v54) ()\n",
      "    let v63 : string = $\"{v0}\"\n",
      "    let v71 : unit = ()\n",
      "    let v72 : (unit -> unit) = closure0(v4, v63)\n",
      "    let v73 : unit = (fun () -> v72 (); v71) ()\n",
      "    let v81 : string = \"; \"\n",
      "    let v82 : string = $\"{v81}\"\n",
      "    let v90 : unit = ()\n",
      "    let v91 : (unit -> unit) = closure0(v4, v82)\n",
      "    let v92 : unit = (fun () -> v91 (); v90) ()\n",
      "    let v100 : string = \"actual\"\n",
      "    let v101 : string = $\"{v100}\"\n",
      "    let v109 : unit = ()\n",
      "    let v110 : (unit -> unit) = closure0(v4, v101)\n",
      "    let v111 : unit = (fun () -> v110 (); v109) ()\n",
      "    let v118 : string = $\"{v45}\"\n",
      "    let v126 : unit = ()\n",
      "    let v127 : (unit -> unit) = closure0(v4, v118)\n",
      "    let v128 : unit = (fun () -> v127 (); v126) ()\n",
      "    let v138 : string = $\"%+.6f{v1}\"\n",
      "    let v146 : unit = ()\n",
      "    let v147 : (unit -> unit) = closure0(v4, v138)\n",
      "    let v148 : unit = (fun () -> v147 (); v146) ()\n",
      "    let v155 : string = $\"{v81}\"\n",
      "    let v163 : unit = ()\n",
      "    let v164 : (unit -> unit) = closure0(v4, v155)\n",
      "    let v165 : unit = (fun () -> v164 (); v163) ()\n",
      "    let v173 : string = \"expected\"\n",
      "    let v174 : string = $\"{v173}\"\n",
      "    let v182 : unit = ()\n",
      "    let v183 : (unit -> unit) = closure0(v4, v174)\n",
      "    let v184 : unit = (fun () -> v183 (); v182) ()\n",
      "    let v191 : string = $\"{v45}\"\n",
      "    let v199 : unit = ()\n",
      "    let v200 : (unit -> unit) = closure0(v4, v191)\n",
      "    let v201 : unit = (fun () -> v200 (); v199) ()\n",
      "    let v211 : string = $\"%+.6f{v2}\"\n",
      "    let v219 : unit = ()\n",
      "    let v220 : (unit -> unit) = closure0(v4, v211)\n",
      "    let v221 : unit = (fun () -> v220 (); v219) ()\n",
      "    let v229 : string = \" }\"\n",
      "    let v230 : string = $\"{v229}\"\n",
      "    let v238 : unit = ()\n",
      "    let v239 : (unit -> unit) = closure0(v4, v230)\n",
      "    let v240 : unit = (fun () -> v239 (); v238) ()\n",
      "    let v246 : string = v4.l0\n",
      "    v246\n",
      "and closure1 (v0 : string) () : unit =\n",
      "    let v1 : (string -> unit) = System.Console.WriteLine\n",
      "    v1 v0\n",
      "and method0 () : unit =\n",
      "    let v0 : string = \"__assert_approx_eq\"\n",
      "    let v1 : float = 1.0\n",
      "    let v2 : float = 2.0\n",
      "    let v3 : string = method1(v0, v1, v2)\n",
      "    let v5 : unit = ()\n",
      "    let v6 : (unit -> unit) = closure1(v3)\n",
      "    let v7 : unit = (fun () -> v6 (); v5) ()\n",
      "    ()\n",
      "method0()\n",
      "\n",
      "{ name = __assert_approx_eq; actual = +1.000000; expected = +2.000000 }\n"
     ]
    }
   ],
   "source": [
    "//// test\n",
    "//// print_code\n",
    "\n",
    "1f64\n",
    "|> __assert_approx_eq Console (Some 3) 2"
   ]
  },
  {
   "cell_type": "code",
   "execution_count": null,
   "metadata": {
    "dotnet_interactive": {
     "language": "spiral"
    },
    "polyglot_notebook": {
     "kernelName": "spiral"
    }
   },
   "outputs": [
    {
     "name": "stdout",
     "output_type": "stream",
     "text": [
      "type Mut0 = {mutable l0 : string}\n",
      "let rec method1 (v0 : bool) : bool =\n",
      "    v0\n",
      "and method3 () : string =\n",
      "    let v0 : string = \"\"\n",
      "    v0\n",
      "and closure0 (v0 : Mut0, v1 : string) () : unit =\n",
      "    let v2 : string = v0.l0\n",
      "    let v4 : string = v2 + v1 \n",
      "    v0.l0 <- v4\n",
      "    ()\n",
      "and method2 (v0 : string, v1 : float, v2 : float) : string =\n",
      "    let v3 : string = method3()\n",
      "    let v4 : Mut0 = {l0 = v3} : Mut0\n",
      "    let v7 : string = \"{ \"\n",
      "    let v8 : string = $\"{v7}\"\n",
      "    let v16 : unit = ()\n",
      "    let v17 : (unit -> unit) = closure0(v4, v8)\n",
      "    let v18 : unit = (fun () -> v17 (); v16) ()\n",
      "    let v26 : string = \"name\"\n",
      "    let v27 : string = $\"{v26}\"\n",
      "    let v35 : unit = ()\n",
      "    let v36 : (unit -> unit) = closure0(v4, v27)\n",
      "    let v37 : unit = (fun () -> v36 (); v35) ()\n",
      "    let v45 : string = \" = \"\n",
      "    let v46 : string = $\"{v45}\"\n",
      "    let v54 : unit = ()\n",
      "    let v55 : (unit -> unit) = closure0(v4, v46)\n",
      "    let v56 : unit = (fun () -> v55 (); v54) ()\n",
      "    let v63 : string = $\"{v0}\"\n",
      "    let v71 : unit = ()\n",
      "    let v72 : (unit -> unit) = closure0(v4, v63)\n",
      "    let v73 : unit = (fun () -> v72 (); v71) ()\n",
      "    let v81 : string = \"; \"\n",
      "    let v82 : string = $\"{v81}\"\n",
      "    let v90 : unit = ()\n",
      "    let v91 : (unit -> unit) = closure0(v4, v82)\n",
      "    let v92 : unit = (fun () -> v91 (); v90) ()\n",
      "    let v100 : string = \"actual\"\n",
      "    let v101 : string = $\"{v100}\"\n",
      "    let v109 : unit = ()\n",
      "    let v110 : (unit -> unit) = closure0(v4, v101)\n",
      "    let v111 : unit = (fun () -> v110 (); v109) ()\n",
      "    let v118 : string = $\"{v45}\"\n",
      "    let v126 : unit = ()\n",
      "    let v127 : (unit -> unit) = closure0(v4, v118)\n",
      "    let v128 : unit = (fun () -> v127 (); v126) ()\n",
      "    let v138 : string = $\"%+.6f{v1}\"\n",
      "    let v146 : unit = ()\n",
      "    let v147 : (unit -> unit) = closure0(v4, v138)\n",
      "    let v148 : unit = (fun () -> v147 (); v146) ()\n",
      "    let v155 : string = $\"{v81}\"\n",
      "    let v163 : unit = ()\n",
      "    let v164 : (unit -> unit) = closure0(v4, v155)\n",
      "    let v165 : unit = (fun () -> v164 (); v163) ()\n",
      "    let v173 : string = \"expected\"\n",
      "    let v174 : string = $\"{v173}\"\n",
      "    let v182 : unit = ()\n",
      "    let v183 : (unit -> unit) = closure0(v4, v174)\n",
      "    let v184 : unit = (fun () -> v183 (); v182) ()\n",
      "    let v191 : string = $\"{v45}\"\n",
      "    let v199 : unit = ()\n",
      "    let v200 : (unit -> unit) = closure0(v4, v191)\n",
      "    let v201 : unit = (fun () -> v200 (); v199) ()\n",
      "    let v211 : string = $\"%+.6f{v2}\"\n",
      "    let v219 : unit = ()\n",
      "    let v220 : (unit -> unit) = closure0(v4, v211)\n",
      "    let v221 : unit = (fun () -> v220 (); v219) ()\n",
      "    let v229 : string = \" }\"\n",
      "    let v230 : string = $\"{v229}\"\n",
      "    let v238 : unit = ()\n",
      "    let v239 : (unit -> unit) = closure0(v4, v230)\n",
      "    let v240 : unit = (fun () -> v239 (); v238) ()\n",
      "    let v246 : string = v4.l0\n",
      "    v246\n",
      "and closure1 (v0 : string) () : unit =\n",
      "    let v1 : (string -> unit) = System.Console.WriteLine\n",
      "    v1 v0\n",
      "and method0 () : unit =\n",
      "    let v0 : float = 1.0\n",
      "    let v1 : float = 2.0 - v0\n",
      "    let v2 : float =  -v1\n",
      "    let v3 : bool = v1 >= v2\n",
      "    let v4 : float =\n",
      "        if v3 then\n",
      "            v1\n",
      "        else\n",
      "            v2\n",
      "    let v5 : bool = v4 < 3.0\n",
      "    let v7 : bool =\n",
      "        if v5 then\n",
      "            true\n",
      "        else\n",
      "            method1(v5)\n",
      "    let v8 : string = \"__assert_approx_eq\"\n",
      "    let v9 : float = 2.0\n",
      "    let v10 : string = method2(v8, v0, v9)\n",
      "    let v12 : unit = ()\n",
      "    let v13 : (unit -> unit) = closure1(v10)\n",
      "    let v14 : unit = (fun () -> v13 (); v12) ()\n",
      "    let v16 : bool = v7 = false\n",
      "    if v16 then\n",
      "        failwith<unit> v10\n",
      "method0()\n",
      "\n",
      "{ name = __assert_approx_eq; actual = +1.000000; expected = +2.000000 }\n"
     ]
    }
   ],
   "source": [
    "//// test\n",
    "//// print_code\n",
    "\n",
    "(dyn 1f64)\n",
    "|> _assert_approx_eq (Some 3) 2"
   ]
  },
  {
   "cell_type": "markdown",
   "metadata": {},
   "source": [
    "### __assert_eq"
   ]
  },
  {
   "cell_type": "code",
   "execution_count": null,
   "metadata": {
    "dotnet_interactive": {
     "language": "spiral"
    },
    "polyglot_notebook": {
     "kernelName": "spiral"
    }
   },
   "outputs": [],
   "source": [
    "inl rec __assert_eq trace b a =\n",
    "    __expect (=) trace (reflection.nameof { __assert_eq }) b a\n",
    "\n",
    "inl _assert_eq b a =\n",
    "    __assert_eq Console b a"
   ]
  },
  {
   "cell_type": "markdown",
   "metadata": {},
   "source": [
    "### __assert_eq'"
   ]
  },
  {
   "cell_type": "code",
   "execution_count": null,
   "metadata": {
    "dotnet_interactive": {
     "language": "spiral"
    },
    "polyglot_notebook": {
     "kernelName": "spiral"
    }
   },
   "outputs": [],
   "source": [
    "inl rec __assert_eq' trace b a =\n",
    "    __expect (=.) trace (reflection.nameof { __assert_eq' }) b a\n",
    "\n",
    "inl _assert_eq' b a =\n",
    "    __assert_eq' Console b a"
   ]
  },
  {
   "cell_type": "markdown",
   "metadata": {},
   "source": [
    "### __assert_ne"
   ]
  },
  {
   "cell_type": "code",
   "execution_count": null,
   "metadata": {
    "dotnet_interactive": {
     "language": "spiral"
    },
    "polyglot_notebook": {
     "kernelName": "spiral"
    }
   },
   "outputs": [],
   "source": [
    "inl rec __assert_ne trace b a =\n",
    "    __expect (<>.) trace (reflection.nameof { __assert_ne }) b a\n",
    "\n",
    "inl _assert_ne b a =\n",
    "    __assert_ne Console b a"
   ]
  },
  {
   "cell_type": "markdown",
   "metadata": {},
   "source": [
    "### __assert_gt"
   ]
  },
  {
   "cell_type": "code",
   "execution_count": null,
   "metadata": {
    "dotnet_interactive": {
     "language": "spiral"
    },
    "polyglot_notebook": {
     "kernelName": "spiral"
    }
   },
   "outputs": [],
   "source": [
    "inl rec __assert_gt trace b a =\n",
    "    __expect (>) trace (reflection.nameof { __assert_gt }) b a\n",
    "\n",
    "inl _assert_gt b a =\n",
    "    __assert_gt Console b a"
   ]
  },
  {
   "cell_type": "markdown",
   "metadata": {},
   "source": [
    "### __assert_ge"
   ]
  },
  {
   "cell_type": "code",
   "execution_count": null,
   "metadata": {
    "dotnet_interactive": {
     "language": "spiral"
    },
    "polyglot_notebook": {
     "kernelName": "spiral"
    }
   },
   "outputs": [],
   "source": [
    "inl rec __assert_ge trace b a =\n",
    "    __expect (>=) trace (reflection.nameof { __assert_ge }) b a\n",
    "\n",
    "inl _assert_ge b a =\n",
    "    __assert_ge Console b a"
   ]
  },
  {
   "cell_type": "markdown",
   "metadata": {},
   "source": [
    "### __assert_lt"
   ]
  },
  {
   "cell_type": "code",
   "execution_count": null,
   "metadata": {
    "dotnet_interactive": {
     "language": "spiral"
    },
    "polyglot_notebook": {
     "kernelName": "spiral"
    }
   },
   "outputs": [],
   "source": [
    "inl rec __assert_lt trace b a =\n",
    "    __expect (<) trace (reflection.nameof { __assert_lt }) b a\n",
    "\n",
    "inl _assert_lt b a =\n",
    "    __assert_lt Console b a"
   ]
  },
  {
   "cell_type": "markdown",
   "metadata": {},
   "source": [
    "### __assert_le"
   ]
  },
  {
   "cell_type": "code",
   "execution_count": null,
   "metadata": {
    "dotnet_interactive": {
     "language": "spiral"
    },
    "polyglot_notebook": {
     "kernelName": "spiral"
    }
   },
   "outputs": [],
   "source": [
    "inl rec __assert_le trace b a =\n",
    "    __expect (<=) trace (reflection.nameof { __assert_le }) b a\n",
    "\n",
    "inl _assert_le b a =\n",
    "    __assert_le Console b a"
   ]
  },
  {
   "cell_type": "markdown",
   "metadata": {},
   "source": [
    "### __assert"
   ]
  },
  {
   "cell_type": "code",
   "execution_count": null,
   "metadata": {
    "dotnet_interactive": {
     "language": "spiral"
    },
    "polyglot_notebook": {
     "kernelName": "spiral"
    }
   },
   "outputs": [],
   "source": [
    "inl rec __assert fn trace b a =\n",
    "    __expect fn trace (reflection.nameof { __assert }) a b\n",
    "\n",
    "inl _assert fn b a =\n",
    "    __assert fn Console b a"
   ]
  },
  {
   "cell_type": "markdown",
   "metadata": {},
   "source": [
    "### __assert_between"
   ]
  },
  {
   "cell_type": "code",
   "execution_count": null,
   "metadata": {
    "dotnet_interactive": {
     "language": "spiral"
    },
    "polyglot_notebook": {
     "kernelName": "spiral"
    }
   },
   "outputs": [],
   "source": [
    "inl rec __assert_between trace a b actual =\n",
    "    inl assert_between actual (a, b) =\n",
    "        __assert_ge Silent a actual\n",
    "        __assert_le Silent b actual\n",
    "        true\n",
    "    __expect assert_between trace (reflection.nameof { __assert_between }) (a, b) actual\n",
    "\n",
    "inl _assert_between a b actual =\n",
    "    __assert_between Console a b actual"
   ]
  },
  {
   "cell_type": "markdown",
   "metadata": {},
   "source": [
    "### _assert_fn"
   ]
  },
  {
   "cell_type": "code",
   "execution_count": null,
   "metadata": {
    "dotnet_interactive": {
     "language": "spiral"
    },
    "polyglot_notebook": {
     "kernelName": "spiral"
    }
   },
   "outputs": [],
   "source": [
    "inl rec _assert_fn fn list =\n",
    "    list\n",
    "    |> listm.rev\n",
    "    |> listm.map fun input, expected => join\n",
    "        input\n",
    "        |> fn\n",
    "        |> resultm.get\n",
    "        |> fun x =>\n",
    "            inl expected' = join expected\n",
    "            inl name = reflection.nameof { _assert_fn }\n",
    "            try\n",
    "                fun () =>\n",
    "                    console.write_line \"\"\n",
    "                    trace Verbose\n",
    "                        fun () => name\n",
    "                        fun () => { input }\n",
    "                    x\n",
    "                    |> sm'.format\n",
    "                    |> _assert_eq' (expected' |> sm'.format)\n",
    "                    true\n",
    "                fun ex =>\n",
    "                    trace Critical\n",
    "                        fun () => name ++# \" / error\"\n",
    "                        fun () => { ex expected }\n",
    "                    Some false\n",
    "            |> optionm.value\n",
    "    |> listm'.filter not\n",
    "    |> function\n",
    "        | [] => ()\n",
    "        | x => x |> sm'.format_debug |> failwith"
   ]
  },
  {
   "cell_type": "markdown",
   "metadata": {},
   "source": [
    "### _assert_in"
   ]
  },
  {
   "cell_type": "code",
   "execution_count": null,
   "metadata": {
    "dotnet_interactive": {
     "language": "spiral"
    },
    "polyglot_notebook": {
     "kernelName": "spiral"
    }
   },
   "outputs": [],
   "source": [
    "inl _assert_in items x =\n",
    "    (None, items)\n",
    "    ||> listm.fold fun acc x' =>\n",
    "        match acc with\n",
    "        | Some x => Some x\n",
    "        | None =>\n",
    "            if x' <>. x\n",
    "            then None\n",
    "            else\n",
    "                trace Debug (fun () => \"_assert_in\") fun () => { x x' }\n",
    "                Some ()\n",
    "    |> function\n",
    "        | Some _ => ()\n",
    "        | None =>\n",
    "            \"_assert_in / \" ++# ({ x items } |> sm'.format) |> failwith"
   ]
  },
  {
   "cell_type": "markdown",
   "metadata": {},
   "source": [
    "## fsharp"
   ]
  },
  {
   "cell_type": "markdown",
   "metadata": {},
   "source": [
    "### __assert_contains"
   ]
  },
  {
   "cell_type": "code",
   "execution_count": null,
   "metadata": {
    "dotnet_interactive": {
     "language": "spiral"
    },
    "polyglot_notebook": {
     "kernelName": "spiral"
    }
   },
   "outputs": [],
   "source": [
    "inl rec __assert_contains forall t u. (trace : testing_trace) (b : t) (a : u) : () =\n",
    "    __expect\n",
    "        fun a b =>\n",
    "            a\n",
    "            |> $'List.ofSeq'\n",
    "            |> fun x => x : listm'.list' t\n",
    "            |> $'List.tryFind' ((=) b)\n",
    "            |> optionm'.unbox\n",
    "            |> fun (x : option t) => x <> None\n",
    "        trace\n",
    "        // TODO: forall nameof (Cannot dyn a forall into a runtime var.)\n",
    "        // Metavars that are not part of the enclosing function's signature are not allowed. They need to be values.\n",
    "        // Got: {__assert_contains : testing_trace -> _ -> _ -> ()} -> string\n",
    "        // (reflection.nameof { __assert_contains })\n",
    "        \"__assert_contains\"\n",
    "        b\n",
    "        a\n",
    "\n",
    "inl _assert_contains b a =\n",
    "    __assert_contains Console b a"
   ]
  },
  {
   "cell_type": "code",
   "execution_count": null,
   "metadata": {
    "dotnet_interactive": {
     "language": "spiral"
    },
    "polyglot_notebook": {
     "kernelName": "spiral"
    }
   },
   "outputs": [
    {
     "name": "stdout",
     "output_type": "stream",
     "text": [
      "{ name = __assert_contains; actual = [|\"a\"; \"b\"; \"c\"|]; expected = b }\n"
     ]
    }
   ],
   "source": [
    "//// test\n",
    "\n",
    ";[ \"a\"; \"b\"; \"c\" ]\n",
    "|> _assert_contains \"b\""
   ]
  },
  {
   "cell_type": "code",
   "execution_count": null,
   "metadata": {
    "dotnet_interactive": {
     "language": "spiral"
    },
    "polyglot_notebook": {
     "kernelName": "spiral"
    }
   },
   "outputs": [
    {
     "name": "stdout",
     "output_type": "stream",
     "text": [
      "{ name = __assert_contains; actual = abcd; expected = b }\n"
     ]
    }
   ],
   "source": [
    "//// test\n",
    "\n",
    "\"abcd\"\n",
    "|> _assert_contains 'b'"
   ]
  },
  {
   "cell_type": "markdown",
   "metadata": {},
   "source": [
    "### _throws"
   ]
  },
  {
   "cell_type": "code",
   "execution_count": null,
   "metadata": {
    "dotnet_interactive": {
     "language": "spiral"
    },
    "polyglot_notebook": {
     "kernelName": "spiral"
    }
   },
   "outputs": [],
   "source": [
    "inl _throws (fn : () -> ()) : option exn =\n",
    "    inl none = None : option exn\n",
    "    inl some (s : exn) = Some s\n",
    "    backend_switch {\n",
    "        Fsharp = fun () =>\n",
    "            $'try !fn (); !none with ex -> ex |> !some ' : option exn\n",
    "        Python = fun () =>\n",
    "            $'fn = !fn '\n",
    "            $'none = !none '\n",
    "            $'some = !some '\n",
    "            $'try: fn(); x = none '\n",
    "            $'except Exception as ex: x = some(ex)'\n",
    "            $'x' : option exn\n",
    "    }"
   ]
  },
  {
   "cell_type": "markdown",
   "metadata": {},
   "source": [
    "### print_and_return"
   ]
  },
  {
   "cell_type": "code",
   "execution_count": null,
   "metadata": {
    "dotnet_interactive": {
     "language": "spiral"
    },
    "polyglot_notebook": {
     "kernelName": "spiral"
    }
   },
   "outputs": [],
   "source": [
    "inl rec print_and_return x =\n",
    "    inl name = reflection.nameof { print_and_return }\n",
    "    name ++# ({ x } |> sm'.format)\n",
    "    |> console.write_line\n",
    "    x"
   ]
  }
 ],
 "metadata": {},
 "nbformat": 4,
 "nbformat_minor": 5
}