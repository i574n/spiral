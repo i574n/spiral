{
 "cells": [
  {
   "cell_type": "markdown",
   "metadata": {},
   "source": [
    "# trace"
   ]
  },
  {
   "cell_type": "code",
   "execution_count": null,
   "metadata": {
    "dotnet_interactive": {
     "language": "spiral"
    },
    "polyglot_notebook": {
     "kernelName": "spiral"
    }
   },
   "outputs": [],
   "source": [
    "open sm'_operators"
   ]
  },
  {
   "cell_type": "code",
   "execution_count": null,
   "metadata": {
    "dotnet_interactive": {
     "language": "spiral"
    },
    "polyglot_notebook": {
     "kernelName": "spiral"
    }
   },
   "outputs": [],
   "source": [
    "//// test\n",
    "\n",
    "open testing"
   ]
  },
  {
   "cell_type": "markdown",
   "metadata": {},
   "source": [
    "## trace"
   ]
  },
  {
   "cell_type": "markdown",
   "metadata": {},
   "source": [
    "### trace_level"
   ]
  },
  {
   "cell_type": "code",
   "execution_count": null,
   "metadata": {
    "dotnet_interactive": {
     "language": "spiral"
    },
    "polyglot_notebook": {
     "kernelName": "spiral"
    }
   },
   "outputs": [],
   "source": [
    "union trace_level =\n",
    "    | Verbose\n",
    "    | Debug\n",
    "    | Info\n",
    "    | Warning\n",
    "    | Critical"
   ]
  },
  {
   "cell_type": "markdown",
   "metadata": {},
   "source": [
    "### read_state"
   ]
  },
  {
   "cell_type": "code",
   "execution_count": null,
   "metadata": {
    "dotnet_interactive": {
     "language": "spiral"
    },
    "polyglot_notebook": {
     "kernelName": "spiral"
    }
   },
   "outputs": [],
   "source": [
    "inl read_state () =\n",
    "    run_target function\n",
    "        | Rust (Wasm) => fun () =>\n",
    "            {\n",
    "                trace_level = None\n",
    "                repl_start = None\n",
    "            }\n",
    "        | Rust (Contract) => fun () =>\n",
    "            {\n",
    "                trace_level = None\n",
    "                repl_start =\n",
    "                    open rust.rust_operators\n",
    "                    inl automation = env.get_environment_variable_comptime \"AUTOMATION\"\n",
    "                    if automation <>. \"True\"\n",
    "                    then None\n",
    "                    else\n",
    "                        inl timestamp : u64 = !\\($'$\"near_sdk::env::block_timestamp()\"')\n",
    "                        timestamp |> i64 |> Some\n",
    "            }\n",
    "        | _ => fun () =>\n",
    "            join\n",
    "                {\n",
    "                    trace_level =\n",
    "                        \"TRACE_LEVEL\"\n",
    "                        |> env.get_environment_variable\n",
    "                        |> reflection.union_try_pick\n",
    "                    repl_start =\n",
    "                        inl automation = env.get_environment_variable \"AUTOMATION\"\n",
    "                        if automation <>. \"True\"\n",
    "                        then None\n",
    "                        else\n",
    "                            date_time.now ()\n",
    "                            |> date_time.ticks\n",
    "                            |> fun (date_time.timestamp x) => x |> convert\n",
    "                            |> fun (x : i64) =>\n",
    "                                backend_switch {\n",
    "                                    Gleam = fun () =>\n",
    "                                        backend_switch {\n",
    "                                            Gleam = fun () =>\n",
    "                                                global \"import gleam/float\"\n",
    "                                                global \"import gleam/time/timestamp\"\n",
    "                                        }\n",
    "                                        $'!x |> timestamp.to_unix_seconds |> float.round' : i64\n",
    "                                    Fsharp = fun () => x\n",
    "                                    Python = fun () => x\n",
    "                                }\n",
    "                            |> Some\n",
    "                }"
   ]
  },
  {
   "cell_type": "markdown",
   "metadata": {},
   "source": [
    "### trace_state"
   ]
  },
  {
   "cell_type": "code",
   "execution_count": null,
   "metadata": {
    "dotnet_interactive": {
     "language": "spiral"
    },
    "polyglot_notebook": {
     "kernelName": "spiral"
    }
   },
   "outputs": [],
   "source": [
    "type trace_state =\n",
    "    {\n",
    "        count : mut i64\n",
    "        trace_file : mut (string -> ())\n",
    "        enabled : mut bool\n",
    "        acc : mut string\n",
    "        level : mut trace_level\n",
    "        repl_start : optionm'.option' i64\n",
    "    }"
   ]
  },
  {
   "cell_type": "markdown",
   "metadata": {},
   "source": [
    "### new_trace_state"
   ]
  },
  {
   "cell_type": "code",
   "execution_count": null,
   "metadata": {
    "dotnet_interactive": {
     "language": "spiral"
    },
    "polyglot_notebook": {
     "kernelName": "spiral"
    }
   },
   "outputs": [],
   "source": [
    "let new_trace_state trace_level' =\n",
    "    inl { repl_start trace_level } = read_state ()\n",
    "    {\n",
    "        count = mut 1i64\n",
    "        trace_file = mut ignore\n",
    "        enabled = mut true\n",
    "        acc = mut \"\"\n",
    "        level = trace_level |> optionm'.default_value trace_level' |> mut\n",
    "        repl_start = repl_start |> optionm'.box\n",
    "    } : trace_state"
   ]
  },
  {
   "cell_type": "markdown",
   "metadata": {},
   "source": [
    "### init_trace_state"
   ]
  },
  {
   "cell_type": "code",
   "execution_count": null,
   "metadata": {
    "dotnet_interactive": {
     "language": "spiral"
    },
    "polyglot_notebook": {
     "kernelName": "spiral"
    }
   },
   "outputs": [],
   "source": [
    "inl init_trace_state trace_level : () =\n",
    "    inl trace_level = trace_level |> optionm'.default_value Verbose\n",
    "    backend_switch {\n",
    "        Gleam = fun () =>\n",
    "            global \"fn trace_state () { option.None }\"\n",
    "            $'let trace_state = fn () { case trace_state () { option.None -> !new_trace_state(!trace_level) |> option.Some' : ()\n",
    "            $'  x -> x' : ()\n",
    "            $'}}' : ()\n",
    "        Fsharp = fun () =>\n",
    "            backend_switch {\n",
    "                Fsharp = fun () =>\n",
    "                    global \"module TraceState = let mutable trace_state = None\"\n",
    "            }\n",
    "            fun () =>\n",
    "                if $'TraceState.trace_state.IsNone' then\n",
    "                    inl trace_state = new_trace_state trace_level |> optionm'.some'\n",
    "                    $'TraceState.trace_state <- !trace_state ' : ()\n",
    "            |> exec_unit\n",
    "        Python = fun () =>\n",
    "            global \"class TraceState: trace_state = None\"\n",
    "            $'if TraceState.trace_state is None: TraceState.trace_state = !new_trace_state(!trace_level)' : ()\n",
    "    }"
   ]
  },
  {
   "cell_type": "markdown",
   "metadata": {},
   "source": [
    "### get_trace_state_or_init"
   ]
  },
  {
   "cell_type": "code",
   "execution_count": null,
   "metadata": {
    "dotnet_interactive": {
     "language": "spiral"
    },
    "polyglot_notebook": {
     "kernelName": "spiral"
    }
   },
   "outputs": [],
   "source": [
    "inl get_trace_state_or_init trace_level : trace_state =\n",
    "    init_trace_state trace_level\n",
    "    backend_switch {\n",
    "        Gleam = fun () =>\n",
    "            inl trace_level = trace_level |> optionm'.default_value Verbose\n",
    "            $'trace_state () |> option.lazy_unwrap(fn () { !new_trace_state(!trace_level) })' : trace_state\n",
    "        Fsharp = fun () =>\n",
    "            $'TraceState.trace_state.Value' : trace_state\n",
    "        Python = fun () =>\n",
    "            $'TraceState.trace_state' : trace_state\n",
    "    }"
   ]
  },
  {
   "cell_type": "markdown",
   "metadata": {},
   "source": [
    "### set_trace_level"
   ]
  },
  {
   "cell_type": "code",
   "execution_count": null,
   "metadata": {
    "dotnet_interactive": {
     "language": "spiral"
    },
    "polyglot_notebook": {
     "kernelName": "spiral"
    }
   },
   "outputs": [],
   "source": [
    "inl set_trace_level new_level =\n",
    "    inl ({ level } & trace_state) = get_trace_state_or_init None\n",
    "    level <- new_level\n",
    "    backend_switch {\n",
    "        Gleam = fun () =>\n",
    "            $'let trace_state = fn () { !(trace_state |> optionm'.some') }' : ()\n",
    "    }"
   ]
  },
  {
   "cell_type": "markdown",
   "metadata": {},
   "source": [
    "### test_trace_level"
   ]
  },
  {
   "cell_type": "code",
   "execution_count": null,
   "metadata": {
    "dotnet_interactive": {
     "language": "spiral"
    },
    "polyglot_notebook": {
     "kernelName": "spiral"
    }
   },
   "outputs": [],
   "source": [
    "inl test_trace_level level : bool =\n",
    "    inl state = get_trace_state_or_init None\n",
    "    inl level' = *state.level\n",
    "    if *state.enabled |> not\n",
    "    then false\n",
    "    else\n",
    "        inl level : i32 = real real_core.union_tag level\n",
    "        inl level' : i32 = real real_core.union_tag level'\n",
    "        level >= level'"
   ]
  },
  {
   "cell_type": "code",
   "execution_count": null,
   "metadata": {
    "dotnet_interactive": {
     "language": "spiral"
    },
    "polyglot_notebook": {
     "kernelName": "spiral"
    }
   },
   "outputs": [
    {
     "data": {
      "text/plain": [
       "\n",
       ".py output (Python):\n",
       "{ name = __assert_eq; actual = true; expected = true }\n",
       "{ name = __assert_eq; actual = true; expected = true }\n",
       "{ name = __assert_eq; actual = false; expected = false }\n",
       "{ name = __assert_eq; actual = true; expected = true }\n",
       "\n",
       "\n",
       ".rs output:\n",
       "{ name = __assert_eq; actual = true; expected = true }\n",
       "{ name = __assert_eq; actual = true; expected = true }\n",
       "{ name = __assert_eq; actual = false; expected = false }\n",
       "{ name = __assert_eq; actual = true; expected = true }\n",
       "\n",
       "\n",
       ".ts output:\n",
       "{ name = __assert_eq; actual = true; expected = true }\n",
       "{ name = __assert_eq; actual = true; expected = true }\n",
       "{ name = __assert_eq; actual = false; expected = false }\n",
       "{ name = __assert_eq; actual = true; expected = true }\n",
       "\n",
       "\n",
       ".py output:\n",
       "{ name = __assert_eq; actual = true; expected = true }\n",
       "{ name = __assert_eq; actual = true; expected = true }\n",
       "{ name = __assert_eq; actual = false; expected = false }\n",
       "{ name = __assert_eq; actual = true; expected = true }\n",
       "\n",
       "\n",
       ".gleam output (Gleam):\n",
       "{ name = __assert_eq; actual = true; expected = true }\n",
       "{ name = __assert_eq; actual = true; expected = true }\n",
       "{ name = __assert_eq; actual = false; expected = false }\n",
       "{ name = __assert_eq; actual = true; expected = true }\n",
       "\n",
       "\n"
      ]
     },
     "metadata": {},
     "output_type": "display_data"
    },
    {
     "name": "stdout",
     "output_type": "stream",
     "text": [
      ".fsx output:\n",
      "{ name = __assert_eq; actual = true; expected = true }\n",
      "{ name = __assert_eq; actual = true; expected = true }\n",
      "{ name = __assert_eq; actual = false; expected = false }\n",
      "{ name = __assert_eq; actual = true; expected = true }\n"
     ]
    }
   ],
   "source": [
    "//// test\n",
    "///! gleam\n",
    "///! fsharp\n",
    "///! cuda\n",
    "///! rust\n",
    "///! typescript\n",
    "///! python\n",
    "\n",
    "test_trace_level Critical |> _assert_eq true\n",
    "test_trace_level Verbose |> _assert_eq true\n",
    "Debug |> set_trace_level\n",
    "test_trace_level Verbose |> _assert_eq false\n",
    "Verbose |> set_trace_level\n",
    "test_trace_level Verbose |> _assert_eq true"
   ]
  },
  {
   "cell_type": "markdown",
   "metadata": {},
   "source": [
    "### trace_raw"
   ]
  },
  {
   "cell_type": "code",
   "execution_count": null,
   "metadata": {
    "dotnet_interactive": {
     "language": "spiral"
    },
    "polyglot_notebook": {
     "kernelName": "spiral"
    }
   },
   "outputs": [],
   "source": [
    "inl trace_raw level fn =\n",
    "    fun () =>\n",
    "        inl trace_state =\n",
    "            if level |> test_trace_level |> not\n",
    "            then None\n",
    "            else\n",
    "                inl text = fn ()\n",
    "                inl ({ count acc } & trace_state) = get_trace_state_or_init None\n",
    "                fun () =>\n",
    "                    count <- *count + 1\n",
    "                |> exec_unit\n",
    "                open rust\n",
    "                open rust.rust_operators\n",
    "                run_target_args (fun () => text, console.write_line) function\n",
    "                    | Rust (Contract) => fun text, _ =>\n",
    "                        inl new_acc =\n",
    "                            if *acc = \"\"\n",
    "                            then text\n",
    "                            elif text = \"\"\n",
    "                            then *acc\n",
    "                            else *acc ++\\# text\n",
    "\n",
    "                        inl chunks =\n",
    "                            new_acc\n",
    "                            |> sm'.as_str\n",
    "                            |> sm'.chars\n",
    "                            |> rust.from_mut\n",
    "                            |> iter_collect\n",
    "                            |> am'.vec_chunks 15000\n",
    "                            |> am'.vec_map sm'.from_iter\n",
    "\n",
    "                        inl chunks_len = chunks |> am'.vec_len |> i32\n",
    "\n",
    "                        if text <>. \"\" && chunks_len <= 1\n",
    "                        then acc <- new_acc\n",
    "                        else\n",
    "                            acc <- \"\"\n",
    "                            chunks\n",
    "                            |> am'.vec_for_each''' near.log\n",
    "                    | Rust _ => fun text, _ =>\n",
    "                        !\\\\(text, $'\\@\"println\\!(\"\"{}\"\", $0)\"')\n",
    "                    | _ => fun text, write_line =>\n",
    "                        text |> write_line\n",
    "\n",
    "                text |> *trace_state.trace_file\n",
    "                trace_state |> Some\n",
    "        backend_switch {\n",
    "            Gleam = fun () =>\n",
    "                $'let trace_state = fn () { !(trace_state |> optionm'.box) }' : ()\n",
    "        }\n",
    "    |> exec_unit"
   ]
  },
  {
   "cell_type": "markdown",
   "metadata": {},
   "source": [
    "### trace"
   ]
  },
  {
   "cell_type": "code",
   "execution_count": null,
   "metadata": {
    "dotnet_interactive": {
     "language": "spiral"
    },
    "polyglot_notebook": {
     "kernelName": "spiral"
    }
   },
   "outputs": [],
   "source": [
    "inl trace (level : trace_level) (text_fn : () -> string) (locals : () -> _) =\n",
    "    fun () =>\n",
    "        inl trace_state = get_trace_state_or_init None\n",
    "        inl time =\n",
    "            join\n",
    "                run_target fun target =>\n",
    "                    match target with\n",
    "                    | Rust (Contract) => fun () =>\n",
    "                        open rust.rust_operators\n",
    "                        open rust\n",
    "                        inl timestamp = near.block_timestamp ()\n",
    "                        inl timestamp =\n",
    "                            match trace_state.repl_start |> optionm'.unbox with\n",
    "                            | Some repl_start => timestamp - u64 repl_start\n",
    "                            | None => timestamp\n",
    "                        inl timestamp_s = timestamp / 1_000_000_000\n",
    "                        inl s = timestamp_s % 60\n",
    "                        inl m = (timestamp_s / 60) % 60\n",
    "                        inl h = (timestamp_s / 3600) % 24\n",
    "                        inl str : sm'.std_string =\n",
    "                            !\\\\((h, m, s), $'$\"format\\!(\\\\\\\"{{:02}}:{{:02}}:{{:02}}\\\\\\\", $0, $1, $2)\"')\n",
    "                        str |> sm'.from_std_string\n",
    "                    | _ => fun () =>\n",
    "                        match trace_state.repl_start |> optionm'.unbox with\n",
    "                        | Some repl_start =>\n",
    "                            inl t =\n",
    "                                date_time.now ()\n",
    "                                |> date_time.ticks\n",
    "                                |> fun (date_time.timestamp x) => x |> convert\n",
    "                                |> fun (x : i64) =>\n",
    "                                    backend_switch {\n",
    "                                        Gleam = fun () =>\n",
    "                                            global \"import gleam/float\"\n",
    "                                            global \"import gleam/time/timestamp\"\n",
    "                                            $'!x |> timestamp.to_unix_seconds |> float.round' : i64\n",
    "                                        Fsharp = fun () => x\n",
    "                                        Python = fun () => x\n",
    "                                    }\n",
    "                                |> flip (-) repl_start\n",
    "                                |> date_time.time_span\n",
    "                            date_time.date_time_milliseconds\n",
    "                                1i32 1i32 1i32\n",
    "                                (t |> date_time.hours)\n",
    "                                (t |> date_time.minutes)\n",
    "                                (t |> date_time.seconds)\n",
    "                                (t |> date_time.milliseconds)\n",
    "                        | None => date_time.now ()\n",
    "                        |> date_time.format (\n",
    "                            backend_switch {\n",
    "                                Gleam = fun () => \"HH:mm:ss\"\n",
    "                                Fsharp = fun () =>\n",
    "                                    match target with\n",
    "                                    | Rust _ => join \"hh:mm:ss\"\n",
    "                                    | _ => join \"HH:mm:ss\"\n",
    "                                Python = fun () => \"%H:%M:%S\"\n",
    "                            }\n",
    "                        )\n",
    "        inl level_str =\n",
    "            join\n",
    "                inl level_str =\n",
    "                    level\n",
    "                    |> reflection.union_to_string\n",
    "                    |> sm'.to_lower\n",
    "                    |> sm'.index 0i32\n",
    "                    |> sm'.format\n",
    "                run_target function\n",
    "                | Rust _ => fun () =>\n",
    "                    open rust\n",
    "                    open rust.rust_operators\n",
    "                    inl color : rust.ref sm'.str =\n",
    "                        match level with\n",
    "                        | Verbose => !\\($'\"inline_colorization::color_bright_black\"')\n",
    "                        | Debug => !\\($'\"inline_colorization::color_bright_blue\"')\n",
    "                        | Info => !\\($'\"inline_colorization::color_bright_green\"')\n",
    "                        | Warning => !\\($'\"inline_colorization::color_yellow\"')\n",
    "                        | Critical => !\\($'\"inline_colorization::color_bright_red\"')\n",
    "                    inl level_str = level_str |> sm'.as_str\n",
    "                    inl color_reset : rust.ref sm'.str = !\\($'\"inline_colorization::color_reset\"')\n",
    "                    !\\\\((color, level_str, color_reset), $'$\"format\\!(\\\\\\\"{{}}{{}}{{}}\\\\\\\", $0, $1, $2)\"')\n",
    "                    |> sm'.from_std_string\n",
    "                | _ => fun () =>\n",
    "                    inl color =\n",
    "                        backend_switch {\n",
    "                            Gleam = fun () =>\n",
    "                                match level with\n",
    "                                | Verbose => $'\"\\\\u{001b}[90m\"'\n",
    "                                | Debug => $'\"\\\\u{001b}[94m\"'\n",
    "                                | Info => $'\"\\\\u{001b}[92m\"'\n",
    "                                | Warning => $'\"\\\\u{001b}[93m\"'\n",
    "                                | Critical => $'\"\\\\u{001b}[91m\"'\n",
    "                                : string\n",
    "                            Fsharp = fun () =>\n",
    "                                match level with\n",
    "                                | Verbose => $'\"\\\\u001b[90m\"'\n",
    "                                | Debug => $'\"\\\\u001b[94m\"'\n",
    "                                | Info => $'\"\\\\u001b[92m\"'\n",
    "                                | Warning => $'\"\\\\u001b[93m\"'\n",
    "                                | Critical => $'\"\\\\u001b[91m\"'\n",
    "                                : string\n",
    "                            Python = fun () =>\n",
    "                                match level with\n",
    "                                | Verbose => $'\"\\\\u001b[90m\"'\n",
    "                                | Debug => $'\"\\\\u001b[94m\"'\n",
    "                                | Info => $'\"\\\\u001b[92m\"'\n",
    "                                | Warning => $'\"\\\\u001b[93m\"'\n",
    "                                | Critical => $'\"\\\\u001b[91m\"'\n",
    "                                : string\n",
    "                        }\n",
    "                    inl color_reset =\n",
    "                        backend_switch {\n",
    "                            Gleam = fun () => $'\"\\\\u{001b}[0m\"' : string\n",
    "                            Fsharp = fun () => join $'\"\\\\u001b[0m\"' : string\n",
    "                            Python = fun () => $'\"\\\\u001b[0m\"' : string\n",
    "                        }\n",
    "                    color ++# level_str ++# color_reset\n",
    "        inl text = text_fn ()\n",
    "        if text = \"\"\n",
    "        then \"\"\n",
    "        else\n",
    "            inl locals = locals ()\n",
    "            join\n",
    "                inl locals = locals |> sm'.format\n",
    "                inl count = *trace_state.count\n",
    "                time ++# \" \" ++# level_str ++# \" #\" ++# $count ++# \" \" ++# text ++# \" / \" ++# locals\n",
    "                |> fun x =>\n",
    "                    join\n",
    "                        x\n",
    "                        |> sm'.trim_start []\n",
    "                        |> sm'.trim_end [ ' '; '/' ]\n",
    "    |> trace_raw level"
   ]
  },
  {
   "cell_type": "code",
   "execution_count": null,
   "metadata": {
    "dotnet_interactive": {
     "language": "spiral"
    },
    "polyglot_notebook": {
     "kernelName": "spiral"
    }
   },
   "outputs": [
    {
     "data": {
      "text/plain": [
       "\n",
       ".py output (Python):\n",
       "00:00:00 \u001B[94md\u001B[0m #1 test1\n",
       "00:00:00 \u001B[94md\u001B[0m #2 test2\n",
       "{ name = __assert_eq; actual = 3; expected = 3 }\n",
       "\n",
       "\n",
       ".gleam output (Gleam):\n",
       "00:00:00 \u001B[94md\u001B[0m #1 test1\n",
       "00:00:00 \u001B[94md\u001B[0m #2 test2\n",
       "{ name = __assert_eq; actual = 3; expected = 3 }\n",
       "\n",
       "\n",
       ".rs output:\n",
       "00:00:00 \u001B[94md\u001B[39m #1 test1\n",
       "00:00:00 \u001B[94md\u001B[39m #2 test2\n",
       "{ name = __assert_eq; actual = 3; expected = 3 }\n",
       "\n",
       "\n",
       ".ts output:\n",
       "00:00:00 \u001B[94md\u001B[0m #1 test1\n",
       "00:00:00 \u001B[94md\u001B[0m #2 test2\n",
       "{ name = __assert_eq; actual = 3; expected = 3 }\n",
       "\n",
       "\n",
       ".py output:\n",
       "00:00:00 \u001B[94md\u001B[0m #1 test1\n",
       "00:00:00 \u001B[94md\u001B[0m #2 test2\n",
       "{ name = __assert_eq; actual = 3; expected = 3 }\n",
       "\n",
       "\n"
      ]
     },
     "metadata": {},
     "output_type": "display_data"
    },
    {
     "name": "stdout",
     "output_type": "stream",
     "text": [
      ".fsx output:\n",
      "00:00:00 \u001B[94md\u001B[0m #1 test1\n",
      "00:00:00 \u001B[94md\u001B[0m #2 test2\n",
      "{ name = __assert_eq; actual = 3; expected = 3 }\n"
     ]
    }
   ],
   "source": [
    "//// test\n",
    "///! fsharp\n",
    "///! gleam\n",
    "///! cuda\n",
    "///! rust\n",
    "///! typescript\n",
    "///! python\n",
    "\n",
    "trace Debug (fun () => \"test1\") id\n",
    "trace Debug (fun () => \"test2\") id\n",
    "get_trace_state_or_init None .count\n",
    "|> fun x => *x\n",
    "|> _assert_eq 3"
   ]
  },
  {
   "cell_type": "markdown",
   "metadata": {},
   "source": [
    "## main"
   ]
  },
  {
   "cell_type": "code",
   "execution_count": null,
   "metadata": {
    "dotnet_interactive": {
     "language": "spiral"
    },
    "polyglot_notebook": {
     "kernelName": "spiral"
    }
   },
   "outputs": [],
   "source": [
    "inl main () =\n",
    "    init_trace_state None\n",
    "    inl trace level text_fn (locals : () -> string) = trace level text_fn locals\n",
    "    $'let trace x = !trace x' : ()"
   ]
  }
 ],
 "metadata": {},
 "nbformat": 4,
 "nbformat_minor": 5
}